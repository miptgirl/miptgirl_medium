{
 "cells": [
  {
   "cell_type": "code",
   "execution_count": 131,
   "id": "5f311c85-a711-4eb5-acdb-477dde7de394",
   "metadata": {},
   "outputs": [],
   "source": [
    "import random\n",
    "import pandas as pd\n",
    "import tqdm"
   ]
  },
  {
   "cell_type": "markdown",
   "id": "0470b1cf-0852-49a0-a5db-86b23209b055",
   "metadata": {},
   "source": [
    "### Discount"
   ]
  },
  {
   "cell_type": "code",
   "execution_count": 132,
   "id": "fe195990-e374-437f-b38f-c1dc3c00da40",
   "metadata": {},
   "outputs": [],
   "source": [
    "# net annual earnings - https://doi.org/10.2908/EARN_NT_NET"
   ]
  },
  {
   "cell_type": "code",
   "execution_count": 133,
   "id": "d28cd784-cac3-4c2c-97aa-ed86246c1b67",
   "metadata": {},
   "outputs": [],
   "source": [
    "earnings_df = pd.read_csv('net_earnings_eu.tsv', sep = '\\t')[['freq,currency,estruct,ecase,geo\\TIME_PERIOD', '2022 ']]\n",
    "earnings_df.columns = ['segment', 'country_avg_annual_earning']\n",
    "earnings_df['country_code'] = earnings_df['segment'].map(lambda x: x.split(',')[-1])\n",
    "earnings_df = earnings_df.drop('segment', axis = 1)\n",
    "earnings_df = earnings_df[['country_code', 'country_avg_annual_earning']]"
   ]
  },
  {
   "cell_type": "code",
   "execution_count": 134,
   "id": "4bfd7f1e-ae88-46b0-854c-6aeba0bd0113",
   "metadata": {},
   "outputs": [],
   "source": [
    "# population - https://doi.org/10.2908/TPS00001"
   ]
  },
  {
   "cell_type": "code",
   "execution_count": 135,
   "id": "509b08ab-31e5-47bc-b76b-da68f4ab441a",
   "metadata": {},
   "outputs": [],
   "source": [
    "population_df = pd.read_csv('population.tsv', sep = '\\t')[['freq,indic_de,geo\\TIME_PERIOD', '2023 ']]\n",
    "population_df.columns = ['segment', 'country_population']\n",
    "population_df['country_code'] = population_df['segment'].map(lambda x: x.split(',')[-1])\n",
    "population_df = population_df.drop('segment', axis = 1)\n",
    "population_df = population_df[['country_code', 'country_population']]"
   ]
  },
  {
   "cell_type": "code",
   "execution_count": 136,
   "id": "452f16d4-df3c-4223-8ee9-4881f970101a",
   "metadata": {},
   "outputs": [],
   "source": [
    "iso_df = pd.read_csv('iso_codes.txt')[['name', 'alpha-2']]\n",
    "iso_df.columns = ['country', 'country_code']"
   ]
  },
  {
   "cell_type": "code",
   "execution_count": 137,
   "id": "3f8753c2-c1dd-4c41-9d57-9e1ad4200fba",
   "metadata": {},
   "outputs": [],
   "source": [
    "house_hold_size_distribution = {\n",
    "    1: 0.3,\n",
    "    2: 0.35,\n",
    "    3: 0.17,\n",
    "    4: 0.12,\n",
    "    5: 0.06\n",
    "}"
   ]
  },
  {
   "cell_type": "code",
   "execution_count": 138,
   "id": "601803fb-f929-426a-8c27-e6eaf0b2a8b3",
   "metadata": {},
   "outputs": [],
   "source": [
    "country_df = earnings_df.merge(population_df)"
   ]
  },
  {
   "cell_type": "code",
   "execution_count": 139,
   "id": "bef494e6-b414-4730-a880-7f2e47057883",
   "metadata": {},
   "outputs": [],
   "source": [
    "country_df = country_df[(country_df.country_avg_annual_earning != ': ') & (country_df.country_population != ': ')]"
   ]
  },
  {
   "cell_type": "code",
   "execution_count": 140,
   "id": "f9d8a0e9-3fee-4bec-a3a3-4732caf76449",
   "metadata": {},
   "outputs": [],
   "source": [
    "country_df = country_df[~country_df.country_code.isin(['EA19', 'EA20', 'EU27_2020'])]"
   ]
  },
  {
   "cell_type": "code",
   "execution_count": 141,
   "id": "c1ec5f87-6c27-4f01-8bed-bb7b3302f7b1",
   "metadata": {},
   "outputs": [],
   "source": [
    "country_df['country_avg_annual_earning'] = country_df.country_avg_annual_earning.map(\n",
    "    lambda x: float(x.split(' ')[0])\n",
    ")\n",
    "\n",
    "country_df['country_population'] = country_df.country_population.map(\n",
    "    lambda x: int(x.split(' ')[0])\n",
    ")"
   ]
  },
  {
   "cell_type": "code",
   "execution_count": 142,
   "id": "ad53c5b6-1254-439a-be51-f57a5db39ef4",
   "metadata": {},
   "outputs": [],
   "source": [
    "country_df = country_df.merge(iso_df, how = 'left')"
   ]
  },
  {
   "cell_type": "code",
   "execution_count": 143,
   "id": "687f92c3-ac00-4f3e-9f54-91c710c4cd26",
   "metadata": {},
   "outputs": [],
   "source": [
    "country_df['population_weight'] = country_df.country_population/country_df.country_population.sum()"
   ]
  },
  {
   "cell_type": "code",
   "execution_count": 144,
   "id": "14bc691c-9ef6-4db9-bf34-abda51dda274",
   "metadata": {},
   "outputs": [],
   "source": [
    "country_df = country_df.sort_values('country_population', ascending = False)"
   ]
  },
  {
   "cell_type": "code",
   "execution_count": 145,
   "id": "24350d20-e625-4d14-9b9e-bb26c1196b6c",
   "metadata": {},
   "outputs": [
    {
     "data": {
      "text/html": [
       "<div>\n",
       "<style scoped>\n",
       "    .dataframe tbody tr th:only-of-type {\n",
       "        vertical-align: middle;\n",
       "    }\n",
       "\n",
       "    .dataframe tbody tr th {\n",
       "        vertical-align: top;\n",
       "    }\n",
       "\n",
       "    .dataframe thead th {\n",
       "        text-align: right;\n",
       "    }\n",
       "</style>\n",
       "<table border=\"1\" class=\"dataframe\">\n",
       "  <thead>\n",
       "    <tr style=\"text-align: right;\">\n",
       "      <th></th>\n",
       "      <th>country_code</th>\n",
       "      <th>country_avg_annual_earning</th>\n",
       "      <th>country_population</th>\n",
       "      <th>country</th>\n",
       "      <th>population_weight</th>\n",
       "    </tr>\n",
       "  </thead>\n",
       "  <tbody>\n",
       "    <tr>\n",
       "      <th>30</th>\n",
       "      <td>TR</td>\n",
       "      <td>9269.70</td>\n",
       "      <td>85279553</td>\n",
       "      <td>Turkey</td>\n",
       "      <td>0.16</td>\n",
       "    </tr>\n",
       "    <tr>\n",
       "      <th>6</th>\n",
       "      <td>DE</td>\n",
       "      <td>66635.37</td>\n",
       "      <td>84358845</td>\n",
       "      <td>Germany</td>\n",
       "      <td>0.15</td>\n",
       "    </tr>\n",
       "    <tr>\n",
       "      <th>12</th>\n",
       "      <td>FR</td>\n",
       "      <td>56701.01</td>\n",
       "      <td>68070697</td>\n",
       "      <td>France</td>\n",
       "      <td>0.12</td>\n",
       "    </tr>\n",
       "    <tr>\n",
       "      <th>17</th>\n",
       "      <td>IT</td>\n",
       "      <td>44546.06</td>\n",
       "      <td>58850717</td>\n",
       "      <td>Italy</td>\n",
       "      <td>0.11</td>\n",
       "    </tr>\n",
       "    <tr>\n",
       "      <th>10</th>\n",
       "      <td>ES</td>\n",
       "      <td>36840.03</td>\n",
       "      <td>48059777</td>\n",
       "      <td>Spain</td>\n",
       "      <td>0.09</td>\n",
       "    </tr>\n",
       "  </tbody>\n",
       "</table>\n",
       "</div>"
      ],
      "text/plain": [
       "   country_code  country_avg_annual_earning  country_population  country  \\\n",
       "30           TR                     9269.70            85279553   Turkey   \n",
       "6            DE                    66635.37            84358845  Germany   \n",
       "12           FR                    56701.01            68070697   France   \n",
       "17           IT                    44546.06            58850717    Italy   \n",
       "10           ES                    36840.03            48059777    Spain   \n",
       "\n",
       "    population_weight  \n",
       "30               0.16  \n",
       "6                0.15  \n",
       "12               0.12  \n",
       "17               0.11  \n",
       "10               0.09  "
      ]
     },
     "execution_count": 145,
     "metadata": {},
     "output_type": "execute_result"
    }
   ],
   "source": [
    "country_df.head()"
   ]
  },
  {
   "cell_type": "code",
   "execution_count": 146,
   "id": "fee9cdf9-e580-4c12-83d2-804ec2d39f65",
   "metadata": {},
   "outputs": [],
   "source": [
    "import numpy as np"
   ]
  },
  {
   "cell_type": "code",
   "execution_count": 147,
   "id": "13b17b17-b7d5-4731-b038-ffff3d673004",
   "metadata": {},
   "outputs": [
    {
     "data": {
      "text/plain": [
       "(205369, 256270)"
      ]
     },
     "execution_count": 147,
     "metadata": {},
     "output_type": "execute_result"
    }
   ],
   "source": [
    "before_audience = round(country_df.country_population.sum()*0.00042*np.random.normal(1, 0.1))\n",
    "after_audience = round(country_df.country_population.sum()*0.00042*np.random.normal(1.1, 0.1))\n",
    "before_audience, after_audience"
   ]
  },
  {
   "cell_type": "code",
   "execution_count": 148,
   "id": "02548ec5-9beb-4c5c-954e-76342190845f",
   "metadata": {},
   "outputs": [
    {
     "name": "stderr",
     "output_type": "stream",
     "text": [
      "100%|██████████████████████████████████████████████████████████| 205369/205369 [00:01<00:00, 105435.36it/s]\n"
     ]
    }
   ],
   "source": [
    "tmp_data = []\n",
    "for user_id in tqdm.tqdm(range(before_audience)):\n",
    "    tmp_data.append(\n",
    "        {\n",
    "            'user_id': user_id,\n",
    "            'country': random.choices(country_df.country.values, country_df.population_weight.values)[0],\n",
    "            'num_family_members': random.choices(list(house_hold_size_distribution.keys()), house_hold_size_distribution.values())[0]\n",
    "        }\n",
    "    )\n",
    "\n",
    "before_df = pd.DataFrame(tmp_data)"
   ]
  },
  {
   "cell_type": "code",
   "execution_count": 149,
   "id": "a0c26f91-f417-41fe-ad4c-ef0b44e06db9",
   "metadata": {},
   "outputs": [
    {
     "name": "stderr",
     "output_type": "stream",
     "text": [
      "100%|██████████████████████████████████████████████████████████| 256270/256270 [00:02<00:00, 104248.87it/s]\n"
     ]
    }
   ],
   "source": [
    "tmp_data = []\n",
    "for user_id in tqdm.tqdm(range(after_audience)):\n",
    "    tmp_data.append(\n",
    "        {\n",
    "            'user_id': user_id,\n",
    "            'country': random.choices(country_df.country.values, country_df.population_weight.values)[0],\n",
    "            'num_family_members': random.choices(list(house_hold_size_distribution.keys()), house_hold_size_distribution.values())[0]\n",
    "        }\n",
    "    )\n",
    "\n",
    "after_df = pd.DataFrame(tmp_data)"
   ]
  },
  {
   "cell_type": "code",
   "execution_count": 150,
   "id": "896d6328-8dff-4d6d-abf6-2a2bc0262129",
   "metadata": {},
   "outputs": [],
   "source": [
    "before_df['period'] = '2024-01-01'\n",
    "after_df['period'] = '2024-02-01'"
   ]
  },
  {
   "cell_type": "code",
   "execution_count": 151,
   "id": "a822d3f1-37d9-4058-8721-65cb15f8e084",
   "metadata": {},
   "outputs": [],
   "source": [
    "df = pd.concat([before_df, after_df])"
   ]
  },
  {
   "cell_type": "code",
   "execution_count": 152,
   "id": "c2536aa3-2d43-4aba-859c-5afc1d471b95",
   "metadata": {},
   "outputs": [
    {
     "data": {
      "text/plain": [
       "country\n",
       "Turkey         0.16\n",
       "Germany        0.15\n",
       "France         0.12\n",
       "Italy          0.11\n",
       "Spain          0.09\n",
       "Poland         0.07\n",
       "Romania        0.03\n",
       "Netherlands    0.03\n",
       "Belgium        0.02\n",
       "Czechia        0.02\n",
       "Name: proportion, dtype: float64"
      ]
     },
     "execution_count": 152,
     "metadata": {},
     "output_type": "execute_result"
    }
   ],
   "source": [
    "df.country.value_counts(normalize=True).head(10)"
   ]
  },
  {
   "cell_type": "code",
   "execution_count": 153,
   "id": "bd112c4b-827a-42a3-a575-1e7bcc134e9c",
   "metadata": {},
   "outputs": [
    {
     "data": {
      "text/plain": [
       "num_family_members\n",
       "2    0.35\n",
       "1    0.30\n",
       "3    0.17\n",
       "4    0.12\n",
       "5    0.06\n",
       "Name: proportion, dtype: float64"
      ]
     },
     "execution_count": 153,
     "metadata": {},
     "output_type": "execute_result"
    }
   ],
   "source": [
    "df.num_family_members.value_counts(normalize=True)"
   ]
  },
  {
   "cell_type": "code",
   "execution_count": 154,
   "id": "61a670c6-7fde-47a0-ad34-33fa95114903",
   "metadata": {},
   "outputs": [],
   "source": [
    "df = df.merge(country_df[['country', 'country_avg_annual_earning']])"
   ]
  },
  {
   "cell_type": "code",
   "execution_count": 155,
   "id": "56b5a9b3-9a7a-4556-ba96-9ce01d02a673",
   "metadata": {},
   "outputs": [],
   "source": [
    "def get_treatment_group(period):\n",
    "    if period == '2024-01-01':\n",
    "        return 0\n",
    "    return 1 if random.random() > 0.5 else 0\n",
    "\n",
    "df['treatment'] = df.period.map(get_treatment_group)"
   ]
  },
  {
   "cell_type": "code",
   "execution_count": 156,
   "id": "bba1da0a-57c2-4891-afd9-25181de98f42",
   "metadata": {},
   "outputs": [
    {
     "data": {
      "text/html": [
       "<div>\n",
       "<style scoped>\n",
       "    .dataframe tbody tr th:only-of-type {\n",
       "        vertical-align: middle;\n",
       "    }\n",
       "\n",
       "    .dataframe tbody tr th {\n",
       "        vertical-align: top;\n",
       "    }\n",
       "\n",
       "    .dataframe thead th {\n",
       "        text-align: right;\n",
       "    }\n",
       "</style>\n",
       "<table border=\"1\" class=\"dataframe\">\n",
       "  <thead>\n",
       "    <tr style=\"text-align: right;\">\n",
       "      <th></th>\n",
       "      <th>period</th>\n",
       "      <th>treatment</th>\n",
       "      <th>user_id</th>\n",
       "    </tr>\n",
       "  </thead>\n",
       "  <tbody>\n",
       "    <tr>\n",
       "      <th>0</th>\n",
       "      <td>2024-01-01</td>\n",
       "      <td>0</td>\n",
       "      <td>205369</td>\n",
       "    </tr>\n",
       "    <tr>\n",
       "      <th>1</th>\n",
       "      <td>2024-02-01</td>\n",
       "      <td>0</td>\n",
       "      <td>128055</td>\n",
       "    </tr>\n",
       "    <tr>\n",
       "      <th>2</th>\n",
       "      <td>2024-02-01</td>\n",
       "      <td>1</td>\n",
       "      <td>128215</td>\n",
       "    </tr>\n",
       "  </tbody>\n",
       "</table>\n",
       "</div>"
      ],
      "text/plain": [
       "       period  treatment  user_id\n",
       "0  2024-01-01          0   205369\n",
       "1  2024-02-01          0   128055\n",
       "2  2024-02-01          1   128215"
      ]
     },
     "execution_count": 156,
     "metadata": {},
     "output_type": "execute_result"
    }
   ],
   "source": [
    "df.groupby(['period', 'treatment'], as_index = False).user_id.count()"
   ]
  },
  {
   "cell_type": "code",
   "execution_count": 157,
   "id": "bed35381-c8f7-4b51-b853-c872db3eee23",
   "metadata": {},
   "outputs": [],
   "source": [
    "def get_retention(treatment, num_family_members):\n",
    "    rand = random.random()\n",
    "    if treatment == 1:\n",
    "        if rand <= 0.623 + 0.025*num_family_members:\n",
    "            return 1\n",
    "        else:\n",
    "            return 0\n",
    "    else:\n",
    "        if rand <= 0.5846 + 0.025*num_family_members:\n",
    "            return 1\n",
    "        else:\n",
    "            return 0"
   ]
  },
  {
   "cell_type": "code",
   "execution_count": 158,
   "id": "b359223d-d3dd-4054-a228-570f3385e2b7",
   "metadata": {},
   "outputs": [],
   "source": [
    "df['retention'] = list(map(\n",
    "    get_retention,\n",
    "    df.treatment, \n",
    "    df.num_family_members\n",
    "))"
   ]
  },
  {
   "cell_type": "code",
   "execution_count": 159,
   "id": "bb4db88f-8c0f-4b63-9959-d1c51fae3326",
   "metadata": {},
   "outputs": [
    {
     "data": {
      "text/plain": [
       "treatment\n",
       "0    0.64\n",
       "1    0.68\n",
       "Name: retention, dtype: float64"
      ]
     },
     "execution_count": 159,
     "metadata": {},
     "output_type": "execute_result"
    }
   ],
   "source": [
    "df.groupby('treatment').retention.mean()"
   ]
  },
  {
   "cell_type": "code",
   "execution_count": 168,
   "id": "caa66e2b-7909-40dc-b216-ff62ae75b705",
   "metadata": {},
   "outputs": [],
   "source": [
    "def get_value(treatment, retention, num_family_members, country_avg_annual_earning):\n",
    "    if retention == 0:\n",
    "        return 0.0\n",
    "    salary_share = np.random.beta(8, 72)\n",
    "    value = country_avg_annual_earning * salary_share /12 * (1 + np.random.normal(0.2, 0.03)*num_family_members)\n",
    "    if treatment == 1:\n",
    "        value += np.random.normal(20, 10)\n",
    "    return value"
   ]
  },
  {
   "cell_type": "code",
   "execution_count": 169,
   "id": "565fdae2-be8c-470f-9fee-474a99627cec",
   "metadata": {},
   "outputs": [],
   "source": [
    "df['customer_value'] = list(map(\n",
    "    get_value,\n",
    "    df.treatment,\n",
    "    df.retention,\n",
    "    df.num_family_members,\n",
    "    df.country_avg_annual_earning\n",
    "))"
   ]
  },
  {
   "cell_type": "code",
   "execution_count": 170,
   "id": "d7150f2c-0e23-43b7-8ecb-e64603bd7962",
   "metadata": {},
   "outputs": [
    {
     "data": {
      "text/plain": [
       "4265.3700802594685"
      ]
     },
     "execution_count": 170,
     "metadata": {},
     "output_type": "execute_result"
    }
   ],
   "source": [
    "df.customer_value.max()"
   ]
  },
  {
   "cell_type": "code",
   "execution_count": 171,
   "id": "3d55b014-3de2-444b-a9fe-968b193ad442",
   "metadata": {},
   "outputs": [
    {
     "data": {
      "image/png": "[encoded data removed]",
      "text/plain": [
       "<Figure size 640x480 with 1 Axes>"
      ]
     },
     "metadata": {},
     "output_type": "display_data"
    }
   ],
   "source": [
    "from matplotlib import pyplot\n",
    "\n",
    "hist_range = [0, 4000]\n",
    "hist_bins = 100\n",
    "\n",
    "pyplot.hist(\n",
    "    df[df.period == '2024-01-01'].customer_value.values,\n",
    "    label = 'before',\n",
    "    alpha = 0.5, range = hist_range, bins = hist_bins,\n",
    "    color = 'navy',\n",
    "    # calculating weights to get normalised histogram\n",
    "    weights = np.ones_like(df[df.period == '2024-01-01'].index)*100/df[df.period == '2024-01-01'].shape[0]\n",
    ")\n",
    "\n",
    "pyplot.hist(\n",
    "    df[df.period == '2024-02-01'].customer_value.values,\n",
    "    label = 'after',\n",
    "    alpha = 0.5, range = hist_range, bins = hist_bins,\n",
    "    color = 'red',\n",
    "    # calculating weights to get normalised histogram\n",
    "    weights = np.ones_like(df[df.period == '2024-02-01'].index)*100/df[df.period == '2024-02-01'].shape[0]\n",
    ")\n",
    "\n",
    "pyplot.legend(loc = 'upper right')\n",
    "pyplot.title('Distribution of customer value')\n",
    "pyplot.xlabel('money spent, EUR')\n",
    "pyplot.ylabel('share of users, %')\n",
    "pyplot.show()"
   ]
  },
  {
   "cell_type": "code",
   "execution_count": 172,
   "id": "6964a4cd-9fcb-4147-b486-feb31e27f533",
   "metadata": {},
   "outputs": [
    {
     "data": {
      "image/png": "[encoded data removed]",
      "text/plain": [
       "<Figure size 640x480 with 1 Axes>"
      ]
     },
     "metadata": {},
     "output_type": "display_data"
    }
   ],
   "source": [
    "from matplotlib import pyplot\n",
    "\n",
    "hist_range = [0, 4000]\n",
    "hist_bins = 100\n",
    "\n",
    "pyplot.hist(\n",
    "    df[df.treatment == 1].customer_value.values,\n",
    "    label = 'treatment',\n",
    "    alpha = 0.5, range = hist_range, bins = hist_bins,\n",
    "    color = 'navy',\n",
    "    # calculating weights to get normalised histogram\n",
    "    weights = np.ones_like(df[df.treatment == 1].index)*100/df[df.treatment == 1].shape[0]\n",
    ")\n",
    "\n",
    "pyplot.hist(\n",
    "    df[df.treatment == 0].customer_value.values,\n",
    "    label = 'control',\n",
    "    alpha = 0.5, range = hist_range, bins = hist_bins,\n",
    "    color = 'red',\n",
    "    # calculating weights to get normalised histogram\n",
    "    weights = np.ones_like(df[df.treatment == 0].index)*100/df[df.treatment == 0].shape[0]\n",
    ")\n",
    "\n",
    "pyplot.legend(loc = 'upper right')\n",
    "pyplot.title('Distribution of customer value')\n",
    "pyplot.xlabel('money spent, EUR')\n",
    "pyplot.ylabel('share of users, %')\n",
    "pyplot.show()"
   ]
  },
  {
   "cell_type": "code",
   "execution_count": 173,
   "id": "6aa1611e-005a-4815-9755-f2e9084eb259",
   "metadata": {},
   "outputs": [],
   "source": [
    "df.to_csv('discount_experiment_synthetic_v2.csv', index = False)"
   ]
  },
  {
   "cell_type": "code",
   "execution_count": 174,
   "id": "a52d3094-72d8-48d9-a14d-3f8829c58b1d",
   "metadata": {},
   "outputs": [],
   "source": [
    "pd.set_option('display.precision', 2)"
   ]
  },
  {
   "cell_type": "code",
   "execution_count": 175,
   "id": "3d614925-a142-44d2-aabb-e0112db7de3b",
   "metadata": {},
   "outputs": [
    {
     "data": {
      "text/html": [
       "<div>\n",
       "<style scoped>\n",
       "    .dataframe tbody tr th:only-of-type {\n",
       "        vertical-align: middle;\n",
       "    }\n",
       "\n",
       "    .dataframe tbody tr th {\n",
       "        vertical-align: top;\n",
       "    }\n",
       "\n",
       "    .dataframe thead th {\n",
       "        text-align: right;\n",
       "    }\n",
       "</style>\n",
       "<table border=\"1\" class=\"dataframe\">\n",
       "  <thead>\n",
       "    <tr style=\"text-align: right;\">\n",
       "      <th></th>\n",
       "      <th>user_id</th>\n",
       "      <th>country</th>\n",
       "      <th>num_family_members</th>\n",
       "      <th>period</th>\n",
       "      <th>country_avg_annual_earning</th>\n",
       "      <th>treatment</th>\n",
       "      <th>retention</th>\n",
       "      <th>customer_value</th>\n",
       "    </tr>\n",
       "  </thead>\n",
       "  <tbody>\n",
       "    <tr>\n",
       "      <th>282602</th>\n",
       "      <td>202800</td>\n",
       "      <td>France</td>\n",
       "      <td>4</td>\n",
       "      <td>2024-02-01</td>\n",
       "      <td>56701.01</td>\n",
       "      <td>1</td>\n",
       "      <td>0</td>\n",
       "      <td>0.00</td>\n",
       "    </tr>\n",
       "    <tr>\n",
       "      <th>95568</th>\n",
       "      <td>96777</td>\n",
       "      <td>Spain</td>\n",
       "      <td>3</td>\n",
       "      <td>2024-01-01</td>\n",
       "      <td>36840.03</td>\n",
       "      <td>0</td>\n",
       "      <td>1</td>\n",
       "      <td>703.98</td>\n",
       "    </tr>\n",
       "    <tr>\n",
       "      <th>101223</th>\n",
       "      <td>161897</td>\n",
       "      <td>Spain</td>\n",
       "      <td>3</td>\n",
       "      <td>2024-01-01</td>\n",
       "      <td>36840.03</td>\n",
       "      <td>0</td>\n",
       "      <td>1</td>\n",
       "      <td>368.05</td>\n",
       "    </tr>\n",
       "    <tr>\n",
       "      <th>423861</th>\n",
       "      <td>80310</td>\n",
       "      <td>Switzerland</td>\n",
       "      <td>2</td>\n",
       "      <td>2024-02-01</td>\n",
       "      <td>106839.33</td>\n",
       "      <td>1</td>\n",
       "      <td>1</td>\n",
       "      <td>1090.02</td>\n",
       "    </tr>\n",
       "    <tr>\n",
       "      <th>6840</th>\n",
       "      <td>200661</td>\n",
       "      <td>Romania</td>\n",
       "      <td>1</td>\n",
       "      <td>2024-01-01</td>\n",
       "      <td>14500.29</td>\n",
       "      <td>0</td>\n",
       "      <td>1</td>\n",
       "      <td>92.63</td>\n",
       "    </tr>\n",
       "  </tbody>\n",
       "</table>\n",
       "</div>"
      ],
      "text/plain": [
       "        user_id      country  num_family_members      period  \\\n",
       "282602   202800       France                   4  2024-02-01   \n",
       "95568     96777        Spain                   3  2024-01-01   \n",
       "101223   161897        Spain                   3  2024-01-01   \n",
       "423861    80310  Switzerland                   2  2024-02-01   \n",
       "6840     200661      Romania                   1  2024-01-01   \n",
       "\n",
       "        country_avg_annual_earning  treatment  retention  customer_value  \n",
       "282602                    56701.01          1          0            0.00  \n",
       "95568                     36840.03          0          1          703.98  \n",
       "101223                    36840.03          0          1          368.05  \n",
       "423861                   106839.33          1          1         1090.02  \n",
       "6840                      14500.29          0          1           92.63  "
      ]
     },
     "execution_count": 175,
     "metadata": {},
     "output_type": "execute_result"
    }
   ],
   "source": [
    "df.sample(5)"
   ]
  },
  {
   "cell_type": "code",
   "execution_count": null,
   "id": "c5ebc9fd-9b35-47f4-bc30-a2fd38ccf36d",
   "metadata": {},
   "outputs": [],
   "source": []
  },
  {
   "cell_type": "code",
   "execution_count": null,
   "id": "da4da832-1a2f-48f3-a236-9d7d884ab889",
   "metadata": {},
   "outputs": [],
   "source": []
  }
 ],
 "metadata": {
  "kernelspec": {
   "display_name": "Python 3 (ipykernel)",
   "language": "python",
   "name": "python3"
  },
  "language_info": {
   "codemirror_mode": {
    "name": "ipython",
    "version": 3
   },
   "file_extension": ".py",
   "mimetype": "text/x-python",
   "name": "python",
   "nbconvert_exporter": "python",
   "pygments_lexer": "ipython3",
   "version": "3.9.6"
  }
 },
 "nbformat": 4,
 "nbformat_minor": 5
}
