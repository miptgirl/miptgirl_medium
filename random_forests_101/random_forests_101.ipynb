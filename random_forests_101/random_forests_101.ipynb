{
 "cells": [
  {
   "cell_type": "code",
   "execution_count": 1,
   "id": "9bc8431d",
   "metadata": {},
   "outputs": [],
   "source": [
    "# ! pip install fastai"
   ]
  },
  {
   "cell_type": "code",
   "execution_count": 2,
   "id": "3f5c4835",
   "metadata": {},
   "outputs": [],
   "source": [
    "import pandas as pd\n",
    "import fastai.tabular\n",
    "import sklearn.model_selection\n",
    "import plotly.express as px \n",
    "\n",
    "import plotly.io as pio\n",
    "pio.templates.default = 'simple_white'"
   ]
  },
  {
   "cell_type": "code",
   "execution_count": 3,
   "id": "59993f2f",
   "metadata": {},
   "outputs": [
    {
     "name": "stdout",
     "output_type": "stream",
     "text": [
      "OnlineNewsPopularity.csv\r\n",
      "OnlineNewsPopularity.names\r\n",
      "decision_tree.png\r\n",
      "random_forests_101.ipynb\r\n",
      "random_forests_101_remove_features.ipynb\r\n",
      "\u001b[31mwinequality-red.csv\u001b[m\u001b[m\r\n",
      "\u001b[31mwinequality-white.csv\u001b[m\u001b[m\r\n",
      "\u001b[31mwinequality.names\u001b[m\u001b[m\r\n"
     ]
    }
   ],
   "source": [
    "! ls"
   ]
  },
  {
   "cell_type": "markdown",
   "id": "28b531cd",
   "metadata": {},
   "source": [
    "### Preprocessing"
   ]
  },
  {
   "cell_type": "code",
   "execution_count": 4,
   "id": "10966bae",
   "metadata": {},
   "outputs": [],
   "source": [
    "red_df = pd.read_csv('winequality-red.csv', sep = ';')\n",
    "red_df['type'] = 'red'\n",
    "white_df = pd.read_csv('winequality-white.csv', sep = ';')\n",
    "white_df['type'] = 'white'\n",
    "\n",
    "df = pd.concat([red_df, white_df])"
   ]
  },
  {
   "cell_type": "code",
   "execution_count": 5,
   "id": "1967d95f",
   "metadata": {},
   "outputs": [
    {
     "data": {
      "text/html": [
       "<div>\n",
       "<style scoped>\n",
       "    .dataframe tbody tr th:only-of-type {\n",
       "        vertical-align: middle;\n",
       "    }\n",
       "\n",
       "    .dataframe tbody tr th {\n",
       "        vertical-align: top;\n",
       "    }\n",
       "\n",
       "    .dataframe thead th {\n",
       "        text-align: right;\n",
       "    }\n",
       "</style>\n",
       "<table border=\"1\" class=\"dataframe\">\n",
       "  <thead>\n",
       "    <tr style=\"text-align: right;\">\n",
       "      <th></th>\n",
       "      <th>fixed acidity</th>\n",
       "      <th>volatile acidity</th>\n",
       "      <th>citric acid</th>\n",
       "      <th>residual sugar</th>\n",
       "      <th>chlorides</th>\n",
       "      <th>free sulfur dioxide</th>\n",
       "      <th>total sulfur dioxide</th>\n",
       "      <th>density</th>\n",
       "      <th>pH</th>\n",
       "      <th>sulphates</th>\n",
       "      <th>alcohol</th>\n",
       "      <th>quality</th>\n",
       "      <th>type</th>\n",
       "    </tr>\n",
       "  </thead>\n",
       "  <tbody>\n",
       "    <tr>\n",
       "      <th>0</th>\n",
       "      <td>7.4</td>\n",
       "      <td>0.70</td>\n",
       "      <td>0.00</td>\n",
       "      <td>1.9</td>\n",
       "      <td>0.076</td>\n",
       "      <td>11.0</td>\n",
       "      <td>34.0</td>\n",
       "      <td>0.9978</td>\n",
       "      <td>3.51</td>\n",
       "      <td>0.56</td>\n",
       "      <td>9.4</td>\n",
       "      <td>5</td>\n",
       "      <td>red</td>\n",
       "    </tr>\n",
       "    <tr>\n",
       "      <th>1</th>\n",
       "      <td>7.8</td>\n",
       "      <td>0.88</td>\n",
       "      <td>0.00</td>\n",
       "      <td>2.6</td>\n",
       "      <td>0.098</td>\n",
       "      <td>25.0</td>\n",
       "      <td>67.0</td>\n",
       "      <td>0.9968</td>\n",
       "      <td>3.20</td>\n",
       "      <td>0.68</td>\n",
       "      <td>9.8</td>\n",
       "      <td>5</td>\n",
       "      <td>red</td>\n",
       "    </tr>\n",
       "    <tr>\n",
       "      <th>2</th>\n",
       "      <td>7.8</td>\n",
       "      <td>0.76</td>\n",
       "      <td>0.04</td>\n",
       "      <td>2.3</td>\n",
       "      <td>0.092</td>\n",
       "      <td>15.0</td>\n",
       "      <td>54.0</td>\n",
       "      <td>0.9970</td>\n",
       "      <td>3.26</td>\n",
       "      <td>0.65</td>\n",
       "      <td>9.8</td>\n",
       "      <td>5</td>\n",
       "      <td>red</td>\n",
       "    </tr>\n",
       "    <tr>\n",
       "      <th>3</th>\n",
       "      <td>11.2</td>\n",
       "      <td>0.28</td>\n",
       "      <td>0.56</td>\n",
       "      <td>1.9</td>\n",
       "      <td>0.075</td>\n",
       "      <td>17.0</td>\n",
       "      <td>60.0</td>\n",
       "      <td>0.9980</td>\n",
       "      <td>3.16</td>\n",
       "      <td>0.58</td>\n",
       "      <td>9.8</td>\n",
       "      <td>6</td>\n",
       "      <td>red</td>\n",
       "    </tr>\n",
       "    <tr>\n",
       "      <th>4</th>\n",
       "      <td>7.4</td>\n",
       "      <td>0.70</td>\n",
       "      <td>0.00</td>\n",
       "      <td>1.9</td>\n",
       "      <td>0.076</td>\n",
       "      <td>11.0</td>\n",
       "      <td>34.0</td>\n",
       "      <td>0.9978</td>\n",
       "      <td>3.51</td>\n",
       "      <td>0.56</td>\n",
       "      <td>9.4</td>\n",
       "      <td>5</td>\n",
       "      <td>red</td>\n",
       "    </tr>\n",
       "  </tbody>\n",
       "</table>\n",
       "</div>"
      ],
      "text/plain": [
       "   fixed acidity  volatile acidity  citric acid  residual sugar  chlorides  \\\n",
       "0            7.4              0.70         0.00             1.9      0.076   \n",
       "1            7.8              0.88         0.00             2.6      0.098   \n",
       "2            7.8              0.76         0.04             2.3      0.092   \n",
       "3           11.2              0.28         0.56             1.9      0.075   \n",
       "4            7.4              0.70         0.00             1.9      0.076   \n",
       "\n",
       "   free sulfur dioxide  total sulfur dioxide  density    pH  sulphates  \\\n",
       "0                 11.0                  34.0   0.9978  3.51       0.56   \n",
       "1                 25.0                  67.0   0.9968  3.20       0.68   \n",
       "2                 15.0                  54.0   0.9970  3.26       0.65   \n",
       "3                 17.0                  60.0   0.9980  3.16       0.58   \n",
       "4                 11.0                  34.0   0.9978  3.51       0.56   \n",
       "\n",
       "   alcohol  quality type  \n",
       "0      9.4        5  red  \n",
       "1      9.8        5  red  \n",
       "2      9.8        5  red  \n",
       "3      9.8        6  red  \n",
       "4      9.4        5  red  "
      ]
     },
     "execution_count": 5,
     "metadata": {},
     "output_type": "execute_result"
    }
   ],
   "source": [
    "df.head()"
   ]
  },
  {
   "cell_type": "code",
   "execution_count": 6,
   "id": "76fd817b",
   "metadata": {},
   "outputs": [
    {
     "data": {
      "text/plain": [
       "0"
      ]
     },
     "execution_count": 6,
     "metadata": {},
     "output_type": "execute_result"
    }
   ],
   "source": [
    "df.isna().sum().sum()"
   ]
  },
  {
   "cell_type": "code",
   "execution_count": 7,
   "id": "092ed357",
   "metadata": {},
   "outputs": [
    {
     "data": {
      "text/plain": [
       "{'type': Index(['red', 'white'], dtype='object')}"
      ]
     },
     "execution_count": 7,
     "metadata": {},
     "output_type": "execute_result"
    }
   ],
   "source": [
    "categories = {}  \n",
    "cat_columns = ['type']\n",
    "for p in cat_columns:\n",
    "    df[p] = pd.Categorical(df[p])\n",
    "    \n",
    "    categories[p] = df[p].cat.categories\n",
    "    \n",
    "categories"
   ]
  },
  {
   "cell_type": "code",
   "execution_count": 8,
   "id": "18b5ed4b",
   "metadata": {},
   "outputs": [],
   "source": [
    "df[cat_columns] = df[cat_columns].apply(lambda x: x.cat.codes)"
   ]
  },
  {
   "cell_type": "code",
   "execution_count": 9,
   "id": "f258d0b9",
   "metadata": {},
   "outputs": [],
   "source": [
    "df.columns = list(map(lambda x: x.strip(), df.columns))"
   ]
  },
  {
   "cell_type": "code",
   "execution_count": 10,
   "id": "de236ed6",
   "metadata": {},
   "outputs": [],
   "source": [
    "train_df, val_df = sklearn.model_selection.train_test_split(df, test_size=0.2, random_state=42)"
   ]
  },
  {
   "cell_type": "code",
   "execution_count": 11,
   "id": "5cf8fcc3",
   "metadata": {},
   "outputs": [
    {
     "data": {
      "text/plain": [
       "(5197, 1300)"
      ]
     },
     "execution_count": 11,
     "metadata": {},
     "output_type": "execute_result"
    }
   ],
   "source": [
    "train_df.shape[0], val_df.shape[0]"
   ]
  },
  {
   "cell_type": "markdown",
   "id": "72f7c6ff",
   "metadata": {},
   "source": [
    "### Decision tree"
   ]
  },
  {
   "cell_type": "code",
   "execution_count": 12,
   "id": "d27305cb",
   "metadata": {},
   "outputs": [],
   "source": [
    "import sklearn.tree\n",
    "import sklearn.metrics"
   ]
  },
  {
   "cell_type": "code",
   "execution_count": 13,
   "id": "4c8c2de7",
   "metadata": {},
   "outputs": [],
   "source": [
    "train_X, train_y = train_df.drop(['quality'], axis = 1), train_df.quality\n",
    "val_X, val_y = val_df.drop(['quality'], axis = 1), val_df.quality"
   ]
  },
  {
   "cell_type": "code",
   "execution_count": 14,
   "id": "d75d67d2",
   "metadata": {},
   "outputs": [
    {
     "name": "stdout",
     "output_type": "stream",
     "text": [
      "(5197, 12) (1300, 12)\n"
     ]
    }
   ],
   "source": [
    "print(train_X.shape, val_X.shape)"
   ]
  },
  {
   "cell_type": "code",
   "execution_count": 63,
   "id": "0eaf5520",
   "metadata": {},
   "outputs": [
    {
     "data": {
      "text/html": [
       "<style>#sk-container-id-5 {color: black;background-color: white;}#sk-container-id-5 pre{padding: 0;}#sk-container-id-5 div.sk-toggleable {background-color: white;}#sk-container-id-5 label.sk-toggleable__label {cursor: pointer;display: block;width: 100%;margin-bottom: 0;padding: 0.3em;box-sizing: border-box;text-align: center;}#sk-container-id-5 label.sk-toggleable__label-arrow:before {content: \"▸\";float: left;margin-right: 0.25em;color: #696969;}#sk-container-id-5 label.sk-toggleable__label-arrow:hover:before {color: black;}#sk-container-id-5 div.sk-estimator:hover label.sk-toggleable__label-arrow:before {color: black;}#sk-container-id-5 div.sk-toggleable__content {max-height: 0;max-width: 0;overflow: hidden;text-align: left;background-color: #f0f8ff;}#sk-container-id-5 div.sk-toggleable__content pre {margin: 0.2em;color: black;border-radius: 0.25em;background-color: #f0f8ff;}#sk-container-id-5 input.sk-toggleable__control:checked~div.sk-toggleable__content {max-height: 200px;max-width: 100%;overflow: auto;}#sk-container-id-5 input.sk-toggleable__control:checked~label.sk-toggleable__label-arrow:before {content: \"▾\";}#sk-container-id-5 div.sk-estimator input.sk-toggleable__control:checked~label.sk-toggleable__label {background-color: #d4ebff;}#sk-container-id-5 div.sk-label input.sk-toggleable__control:checked~label.sk-toggleable__label {background-color: #d4ebff;}#sk-container-id-5 input.sk-hidden--visually {border: 0;clip: rect(1px 1px 1px 1px);clip: rect(1px, 1px, 1px, 1px);height: 1px;margin: -1px;overflow: hidden;padding: 0;position: absolute;width: 1px;}#sk-container-id-5 div.sk-estimator {font-family: monospace;background-color: #f0f8ff;border: 1px dotted black;border-radius: 0.25em;box-sizing: border-box;margin-bottom: 0.5em;}#sk-container-id-5 div.sk-estimator:hover {background-color: #d4ebff;}#sk-container-id-5 div.sk-parallel-item::after {content: \"\";width: 100%;border-bottom: 1px solid gray;flex-grow: 1;}#sk-container-id-5 div.sk-label:hover label.sk-toggleable__label {background-color: #d4ebff;}#sk-container-id-5 div.sk-serial::before {content: \"\";position: absolute;border-left: 1px solid gray;box-sizing: border-box;top: 0;bottom: 0;left: 50%;z-index: 0;}#sk-container-id-5 div.sk-serial {display: flex;flex-direction: column;align-items: center;background-color: white;padding-right: 0.2em;padding-left: 0.2em;position: relative;}#sk-container-id-5 div.sk-item {position: relative;z-index: 1;}#sk-container-id-5 div.sk-parallel {display: flex;align-items: stretch;justify-content: center;background-color: white;position: relative;}#sk-container-id-5 div.sk-item::before, #sk-container-id-5 div.sk-parallel-item::before {content: \"\";position: absolute;border-left: 1px solid gray;box-sizing: border-box;top: 0;bottom: 0;left: 50%;z-index: -1;}#sk-container-id-5 div.sk-parallel-item {display: flex;flex-direction: column;z-index: 1;position: relative;background-color: white;}#sk-container-id-5 div.sk-parallel-item:first-child::after {align-self: flex-end;width: 50%;}#sk-container-id-5 div.sk-parallel-item:last-child::after {align-self: flex-start;width: 50%;}#sk-container-id-5 div.sk-parallel-item:only-child::after {width: 0;}#sk-container-id-5 div.sk-dashed-wrapped {border: 1px dashed gray;margin: 0 0.4em 0.5em 0.4em;box-sizing: border-box;padding-bottom: 0.4em;background-color: white;}#sk-container-id-5 div.sk-label label {font-family: monospace;font-weight: bold;display: inline-block;line-height: 1.2em;}#sk-container-id-5 div.sk-label-container {text-align: center;}#sk-container-id-5 div.sk-container {/* jupyter's `normalize.less` sets `[hidden] { display: none; }` but bootstrap.min.css set `[hidden] { display: none !important; }` so we also need the `!important` here to be able to override the default hidden behavior on the sphinx rendered scikit-learn.org. See: https://github.com/scikit-learn/scikit-learn/issues/21755 */display: inline-block !important;position: relative;}#sk-container-id-5 div.sk-text-repr-fallback {display: none;}</style><div id=\"sk-container-id-5\" class=\"sk-top-container\"><div class=\"sk-text-repr-fallback\"><pre>DecisionTreeRegressor(min_samples_leaf=600)</pre><b>In a Jupyter environment, please rerun this cell to show the HTML representation or trust the notebook. <br />On GitHub, the HTML representation is unable to render, please try loading this page with nbviewer.org.</b></div><div class=\"sk-container\" hidden><div class=\"sk-item\"><div class=\"sk-estimator sk-toggleable\"><input class=\"sk-toggleable__control sk-hidden--visually\" id=\"sk-estimator-id-5\" type=\"checkbox\" checked><label for=\"sk-estimator-id-5\" class=\"sk-toggleable__label sk-toggleable__label-arrow\">DecisionTreeRegressor</label><div class=\"sk-toggleable__content\"><pre>DecisionTreeRegressor(min_samples_leaf=600)</pre></div></div></div></div></div>"
      ],
      "text/plain": [
       "DecisionTreeRegressor(min_samples_leaf=600)"
      ]
     },
     "execution_count": 63,
     "metadata": {},
     "output_type": "execute_result"
    }
   ],
   "source": [
    "#model = sklearn.tree.DecisionTreeRegressor(max_depth=2)\n",
    "model = sklearn.tree.DecisionTreeRegressor(min_samples_leaf = 600)\n",
    "model.fit(train_X, train_y)"
   ]
  },
  {
   "cell_type": "code",
   "execution_count": 64,
   "id": "4f1117ec",
   "metadata": {},
   "outputs": [],
   "source": [
    "# sklearn.metrics.mean_absolute_error(clf.predict(train_X), train_y)"
   ]
  },
  {
   "cell_type": "code",
   "execution_count": 65,
   "id": "0885a1f4",
   "metadata": {},
   "outputs": [
    {
     "data": {
      "text/plain": [
       "0.5812409334862401"
      ]
     },
     "execution_count": 65,
     "metadata": {},
     "output_type": "execute_result"
    }
   ],
   "source": [
    "sklearn.metrics.mean_absolute_error(model.predict(val_X), val_y)"
   ]
  },
  {
   "cell_type": "code",
   "execution_count": 66,
   "id": "54ceb79a",
   "metadata": {
    "scrolled": false
   },
   "outputs": [
    {
     "data": {
      "image/svg+xml": [
       "<?xml version=\"1.0\" encoding=\"UTF-8\" standalone=\"no\"?>\n",
       "<!DOCTYPE svg PUBLIC \"-//W3C//DTD SVG 1.1//EN\"\n",
       " \"http://www.w3.org/Graphics/SVG/1.1/DTD/svg11.dtd\">\n",
       "<!-- Generated by graphviz version 7.1.0 (20230121.1956)\n",
       " -->\n",
       "<!-- Title: Tree Pages: 1 -->\n",
       "<svg width=\"665pt\" height=\"477pt\"\n",
       " viewBox=\"0.00 0.00 665.00 477.00\" xmlns=\"http://www.w3.org/2000/svg\" xmlns:xlink=\"http://www.w3.org/1999/xlink\">\n",
       "<g id=\"graph0\" class=\"graph\" transform=\"scale(1 1) rotate(0) translate(4 473)\">\n",
       "<title>Tree</title>\n",
       "<polygon fill=\"white\" stroke=\"none\" points=\"-4,4 -4,-473 661,-473 661,4 -4,4\"/>\n",
       "<!-- 0 -->\n",
       "<g id=\"node1\" class=\"node\">\n",
       "<title>0</title>\n",
       "<polygon fill=\"#f2c19e\" stroke=\"black\" points=\"403,-469 252,-469 252,-401 403,-401 403,-469\"/>\n",
       "<text text-anchor=\"middle\" x=\"327.5\" y=\"-453.8\" font-family=\"Helvetica,sans-Serif\" font-size=\"14.00\">alcohol &lt;= 10.625</text>\n",
       "<text text-anchor=\"middle\" x=\"327.5\" y=\"-438.8\" font-family=\"Helvetica,sans-Serif\" font-size=\"14.00\">squared_error = 0.768</text>\n",
       "<text text-anchor=\"middle\" x=\"327.5\" y=\"-423.8\" font-family=\"Helvetica,sans-Serif\" font-size=\"14.00\">samples = 5197</text>\n",
       "<text text-anchor=\"middle\" x=\"327.5\" y=\"-408.8\" font-family=\"Helvetica,sans-Serif\" font-size=\"14.00\">value = 5.815</text>\n",
       "</g>\n",
       "<!-- 1 -->\n",
       "<g id=\"node2\" class=\"node\">\n",
       "<title>1</title>\n",
       "<polygon fill=\"#f8ddc9\" stroke=\"black\" points=\"320.5,-365 162.5,-365 162.5,-297 320.5,-297 320.5,-365\"/>\n",
       "<text text-anchor=\"middle\" x=\"241.5\" y=\"-349.8\" font-family=\"Helvetica,sans-Serif\" font-size=\"14.00\">volatile acidity &lt;= 0.237</text>\n",
       "<text text-anchor=\"middle\" x=\"241.5\" y=\"-334.8\" font-family=\"Helvetica,sans-Serif\" font-size=\"14.00\">squared_error = 0.562</text>\n",
       "<text text-anchor=\"middle\" x=\"241.5\" y=\"-319.8\" font-family=\"Helvetica,sans-Serif\" font-size=\"14.00\">samples = 3107</text>\n",
       "<text text-anchor=\"middle\" x=\"241.5\" y=\"-304.8\" font-family=\"Helvetica,sans-Serif\" font-size=\"14.00\">value = 5.521</text>\n",
       "</g>\n",
       "<!-- 0&#45;&gt;1 -->\n",
       "<g id=\"edge1\" class=\"edge\">\n",
       "<title>0&#45;&gt;1</title>\n",
       "<path fill=\"none\" stroke=\"black\" d=\"M299.34,-400.6C292.21,-392.15 284.47,-382.96 277.03,-374.13\"/>\n",
       "<polygon fill=\"black\" stroke=\"black\" points=\"279.82,-372.02 270.7,-366.63 274.47,-376.53 279.82,-372.02\"/>\n",
       "<text text-anchor=\"middle\" x=\"267.6\" y=\"-386.68\" font-family=\"Helvetica,sans-Serif\" font-size=\"14.00\">True</text>\n",
       "</g>\n",
       "<!-- 8 -->\n",
       "<g id=\"node9\" class=\"node\">\n",
       "<title>8</title>\n",
       "<polygon fill=\"#ea995f\" stroke=\"black\" points=\"490,-365 339,-365 339,-297 490,-297 490,-365\"/>\n",
       "<text text-anchor=\"middle\" x=\"414.5\" y=\"-349.8\" font-family=\"Helvetica,sans-Serif\" font-size=\"14.00\">alcohol &lt;= 11.617</text>\n",
       "<text text-anchor=\"middle\" x=\"414.5\" y=\"-334.8\" font-family=\"Helvetica,sans-Serif\" font-size=\"14.00\">squared_error = 0.757</text>\n",
       "<text text-anchor=\"middle\" x=\"414.5\" y=\"-319.8\" font-family=\"Helvetica,sans-Serif\" font-size=\"14.00\">samples = 2090</text>\n",
       "<text text-anchor=\"middle\" x=\"414.5\" y=\"-304.8\" font-family=\"Helvetica,sans-Serif\" font-size=\"14.00\">value = 6.251</text>\n",
       "</g>\n",
       "<!-- 0&#45;&gt;8 -->\n",
       "<g id=\"edge8\" class=\"edge\">\n",
       "<title>0&#45;&gt;8</title>\n",
       "<path fill=\"none\" stroke=\"black\" d=\"M355.99,-400.6C363.2,-392.15 371.04,-382.96 378.56,-374.13\"/>\n",
       "<polygon fill=\"black\" stroke=\"black\" points=\"381.14,-376.5 384.97,-366.63 375.81,-371.96 381.14,-376.5\"/>\n",
       "<text text-anchor=\"middle\" x=\"387.93\" y=\"-386.7\" font-family=\"Helvetica,sans-Serif\" font-size=\"14.00\">False</text>\n",
       "</g>\n",
       "<!-- 2 -->\n",
       "<g id=\"node3\" class=\"node\">\n",
       "<title>2</title>\n",
       "<polygon fill=\"#f0b78e\" stroke=\"black\" points=\"154,-253.5 3,-253.5 3,-200.5 154,-200.5 154,-253.5\"/>\n",
       "<text text-anchor=\"middle\" x=\"78.5\" y=\"-238.3\" font-family=\"Helvetica,sans-Serif\" font-size=\"14.00\">squared_error = 0.611</text>\n",
       "<text text-anchor=\"middle\" x=\"78.5\" y=\"-223.3\" font-family=\"Helvetica,sans-Serif\" font-size=\"14.00\">samples = 846</text>\n",
       "<text text-anchor=\"middle\" x=\"78.5\" y=\"-208.3\" font-family=\"Helvetica,sans-Serif\" font-size=\"14.00\">value = 5.924</text>\n",
       "</g>\n",
       "<!-- 1&#45;&gt;2 -->\n",
       "<g id=\"edge2\" class=\"edge\">\n",
       "<title>1&#45;&gt;2</title>\n",
       "<path fill=\"none\" stroke=\"black\" d=\"M188.13,-296.6C169.23,-284.78 148.04,-271.51 129.35,-259.82\"/>\n",
       "<polygon fill=\"black\" stroke=\"black\" points=\"131.46,-257.01 121.12,-254.67 127.74,-262.94 131.46,-257.01\"/>\n",
       "</g>\n",
       "<!-- 3 -->\n",
       "<g id=\"node4\" class=\"node\">\n",
       "<title>3</title>\n",
       "<polygon fill=\"#fbebdf\" stroke=\"black\" points=\"315,-261 172,-261 172,-193 315,-193 315,-261\"/>\n",
       "<text text-anchor=\"middle\" x=\"243.5\" y=\"-245.8\" font-family=\"Helvetica,sans-Serif\" font-size=\"14.00\">alcohol &lt;= 9.85</text>\n",
       "<text text-anchor=\"middle\" x=\"243.5\" y=\"-230.8\" font-family=\"Helvetica,sans-Serif\" font-size=\"14.00\">squared_error = 0.46</text>\n",
       "<text text-anchor=\"middle\" x=\"243.5\" y=\"-215.8\" font-family=\"Helvetica,sans-Serif\" font-size=\"14.00\">samples = 2261</text>\n",
       "<text text-anchor=\"middle\" x=\"243.5\" y=\"-200.8\" font-family=\"Helvetica,sans-Serif\" font-size=\"14.00\">value = 5.37</text>\n",
       "</g>\n",
       "<!-- 1&#45;&gt;3 -->\n",
       "<g id=\"edge3\" class=\"edge\">\n",
       "<title>1&#45;&gt;3</title>\n",
       "<path fill=\"none\" stroke=\"black\" d=\"M242.15,-296.6C242.3,-289.03 242.46,-280.87 242.62,-272.9\"/>\n",
       "<polygon fill=\"black\" stroke=\"black\" points=\"246.12,-273.05 242.81,-262.99 239.12,-272.92 246.12,-273.05\"/>\n",
       "</g>\n",
       "<!-- 4 -->\n",
       "<g id=\"node5\" class=\"node\">\n",
       "<title>4</title>\n",
       "<polygon fill=\"#fdf4ed\" stroke=\"black\" points=\"238.5,-157 80.5,-157 80.5,-89 238.5,-89 238.5,-157\"/>\n",
       "<text text-anchor=\"middle\" x=\"159.5\" y=\"-141.8\" font-family=\"Helvetica,sans-Serif\" font-size=\"14.00\">volatile acidity &lt;= 0.373</text>\n",
       "<text text-anchor=\"middle\" x=\"159.5\" y=\"-126.8\" font-family=\"Helvetica,sans-Serif\" font-size=\"14.00\">squared_error = 0.365</text>\n",
       "<text text-anchor=\"middle\" x=\"159.5\" y=\"-111.8\" font-family=\"Helvetica,sans-Serif\" font-size=\"14.00\">samples = 1499</text>\n",
       "<text text-anchor=\"middle\" x=\"159.5\" y=\"-96.8\" font-family=\"Helvetica,sans-Serif\" font-size=\"14.00\">value = 5.273</text>\n",
       "</g>\n",
       "<!-- 3&#45;&gt;4 -->\n",
       "<g id=\"edge4\" class=\"edge\">\n",
       "<title>3&#45;&gt;4</title>\n",
       "<path fill=\"none\" stroke=\"black\" d=\"M216,-192.6C209.03,-184.15 201.47,-174.96 194.2,-166.13\"/>\n",
       "<polygon fill=\"black\" stroke=\"black\" points=\"197.09,-164.14 188.03,-158.64 191.68,-168.59 197.09,-164.14\"/>\n",
       "</g>\n",
       "<!-- 7 -->\n",
       "<g id=\"node8\" class=\"node\">\n",
       "<title>7</title>\n",
       "<polygon fill=\"#f7d9c3\" stroke=\"black\" points=\"400,-149.5 257,-149.5 257,-96.5 400,-96.5 400,-149.5\"/>\n",
       "<text text-anchor=\"middle\" x=\"328.5\" y=\"-134.3\" font-family=\"Helvetica,sans-Serif\" font-size=\"14.00\">squared_error = 0.59</text>\n",
       "<text text-anchor=\"middle\" x=\"328.5\" y=\"-119.3\" font-family=\"Helvetica,sans-Serif\" font-size=\"14.00\">samples = 762</text>\n",
       "<text text-anchor=\"middle\" x=\"328.5\" y=\"-104.3\" font-family=\"Helvetica,sans-Serif\" font-size=\"14.00\">value = 5.562</text>\n",
       "</g>\n",
       "<!-- 3&#45;&gt;7 -->\n",
       "<g id=\"edge7\" class=\"edge\">\n",
       "<title>3&#45;&gt;7</title>\n",
       "<path fill=\"none\" stroke=\"black\" d=\"M271.33,-192.6C280.5,-181.6 290.71,-169.35 299.93,-158.28\"/>\n",
       "<polygon fill=\"black\" stroke=\"black\" points=\"302.4,-160.79 306.11,-150.87 297.02,-156.31 302.4,-160.79\"/>\n",
       "</g>\n",
       "<!-- 5 -->\n",
       "<g id=\"node6\" class=\"node\">\n",
       "<title>5</title>\n",
       "<polygon fill=\"#fbebdf\" stroke=\"black\" points=\"151,-53 0,-53 0,0 151,0 151,-53\"/>\n",
       "<text text-anchor=\"middle\" x=\"75.5\" y=\"-37.8\" font-family=\"Helvetica,sans-Serif\" font-size=\"14.00\">squared_error = 0.389</text>\n",
       "<text text-anchor=\"middle\" x=\"75.5\" y=\"-22.8\" font-family=\"Helvetica,sans-Serif\" font-size=\"14.00\">samples = 852</text>\n",
       "<text text-anchor=\"middle\" x=\"75.5\" y=\"-7.8\" font-family=\"Helvetica,sans-Serif\" font-size=\"14.00\">value = 5.366</text>\n",
       "</g>\n",
       "<!-- 4&#45;&gt;5 -->\n",
       "<g id=\"edge5\" class=\"edge\">\n",
       "<title>4&#45;&gt;5</title>\n",
       "<path fill=\"none\" stroke=\"black\" d=\"M129.88,-88.68C122.16,-79.99 113.83,-70.62 106.05,-61.87\"/>\n",
       "<polygon fill=\"black\" stroke=\"black\" points=\"108.78,-59.67 99.52,-54.53 103.55,-64.32 108.78,-59.67\"/>\n",
       "</g>\n",
       "<!-- 6 -->\n",
       "<g id=\"node7\" class=\"node\">\n",
       "<title>6</title>\n",
       "<polygon fill=\"#ffffff\" stroke=\"black\" points=\"320,-53 169,-53 169,0 320,0 320,-53\"/>\n",
       "<text text-anchor=\"middle\" x=\"244.5\" y=\"-37.8\" font-family=\"Helvetica,sans-Serif\" font-size=\"14.00\">squared_error = 0.307</text>\n",
       "<text text-anchor=\"middle\" x=\"244.5\" y=\"-22.8\" font-family=\"Helvetica,sans-Serif\" font-size=\"14.00\">samples = 647</text>\n",
       "<text text-anchor=\"middle\" x=\"244.5\" y=\"-7.8\" font-family=\"Helvetica,sans-Serif\" font-size=\"14.00\">value = 5.15</text>\n",
       "</g>\n",
       "<!-- 4&#45;&gt;6 -->\n",
       "<g id=\"edge6\" class=\"edge\">\n",
       "<title>4&#45;&gt;6</title>\n",
       "<path fill=\"none\" stroke=\"black\" d=\"M189.47,-88.68C197.28,-79.99 205.72,-70.62 213.58,-61.87\"/>\n",
       "<polygon fill=\"black\" stroke=\"black\" points=\"216.11,-64.29 220.2,-54.52 210.91,-59.61 216.11,-64.29\"/>\n",
       "</g>\n",
       "<!-- 9 -->\n",
       "<g id=\"node10\" class=\"node\">\n",
       "<title>9</title>\n",
       "<polygon fill=\"#eeae7f\" stroke=\"black\" points=\"488,-253.5 337,-253.5 337,-200.5 488,-200.5 488,-253.5\"/>\n",
       "<text text-anchor=\"middle\" x=\"412.5\" y=\"-238.3\" font-family=\"Helvetica,sans-Serif\" font-size=\"14.00\">squared_error = 0.735</text>\n",
       "<text text-anchor=\"middle\" x=\"412.5\" y=\"-223.3\" font-family=\"Helvetica,sans-Serif\" font-size=\"14.00\">samples = 1121</text>\n",
       "<text text-anchor=\"middle\" x=\"412.5\" y=\"-208.3\" font-family=\"Helvetica,sans-Serif\" font-size=\"14.00\">value = 6.028</text>\n",
       "</g>\n",
       "<!-- 8&#45;&gt;9 -->\n",
       "<g id=\"edge9\" class=\"edge\">\n",
       "<title>8&#45;&gt;9</title>\n",
       "<path fill=\"none\" stroke=\"black\" d=\"M413.85,-296.6C413.65,-286.47 413.43,-275.28 413.22,-264.93\"/>\n",
       "<polygon fill=\"black\" stroke=\"black\" points=\"416.73,-265.15 413.03,-255.22 409.73,-265.29 416.73,-265.15\"/>\n",
       "</g>\n",
       "<!-- 10 -->\n",
       "<g id=\"node11\" class=\"node\">\n",
       "<title>10</title>\n",
       "<polygon fill=\"#e58139\" stroke=\"black\" points=\"657,-253.5 506,-253.5 506,-200.5 657,-200.5 657,-253.5\"/>\n",
       "<text text-anchor=\"middle\" x=\"581.5\" y=\"-238.3\" font-family=\"Helvetica,sans-Serif\" font-size=\"14.00\">squared_error = 0.659</text>\n",
       "<text text-anchor=\"middle\" x=\"581.5\" y=\"-223.3\" font-family=\"Helvetica,sans-Serif\" font-size=\"14.00\">samples = 969</text>\n",
       "<text text-anchor=\"middle\" x=\"581.5\" y=\"-208.3\" font-family=\"Helvetica,sans-Serif\" font-size=\"14.00\">value = 6.509</text>\n",
       "</g>\n",
       "<!-- 8&#45;&gt;10 -->\n",
       "<g id=\"edge10\" class=\"edge\">\n",
       "<title>8&#45;&gt;10</title>\n",
       "<path fill=\"none\" stroke=\"black\" d=\"M469.18,-296.6C488.54,-284.78 510.26,-271.51 529.4,-259.82\"/>\n",
       "<polygon fill=\"black\" stroke=\"black\" points=\"531.14,-262.86 537.85,-254.66 527.5,-256.88 531.14,-262.86\"/>\n",
       "</g>\n",
       "</g>\n",
       "</svg>\n"
      ],
      "text/plain": [
       "<graphviz.sources.Source at 0x289f22eb0>"
      ]
     },
     "execution_count": 66,
     "metadata": {},
     "output_type": "execute_result"
    }
   ],
   "source": [
    "import graphviz \n",
    "dot_data = sklearn.tree.export_graphviz(model, out_file=None,\n",
    "                                       feature_names = train_X.columns,\n",
    "                                       filled = True) \n",
    "graph = graphviz.Source(dot_data) \n",
    "graph"
   ]
  },
  {
   "cell_type": "code",
   "execution_count": 67,
   "id": "7d440000",
   "metadata": {},
   "outputs": [],
   "source": [
    "png_bytes = graph.pipe(format='png')\n",
    "with open('decision_tree.png','wb') as f:\n",
    "    f.write(png_bytes)"
   ]
  },
  {
   "cell_type": "code",
   "execution_count": 20,
   "id": "48165373",
   "metadata": {},
   "outputs": [],
   "source": [
    "param = 'alcohol'"
   ]
  },
  {
   "cell_type": "code",
   "execution_count": 21,
   "id": "70a5536c",
   "metadata": {},
   "outputs": [],
   "source": [
    "import tqdm\n",
    "\n",
    "def get_binary_split_for_param(param, X, y):\n",
    "    uniq_vals = list(sorted(X[param].unique()))\n",
    "    \n",
    "    tmp_data = []\n",
    "    \n",
    "    for i in tqdm.tqdm(range(1, len(uniq_vals))):\n",
    "        threshold = 0.5 * (uniq_vals[i-1] + uniq_vals[i])\n",
    "         \n",
    "        # split dataset by threshold\n",
    "        split_left = y[X[param] <= threshold]\n",
    "        split_right = y[X[param] > threshold]\n",
    "        \n",
    "        # calculate predicted values for each split\n",
    "        pred_left = split_left.mean()\n",
    "        pred_right = split_right.mean()\n",
    "\n",
    "        num_left = split_left.shape[0]\n",
    "        num_right = split_right.shape[0]\n",
    "\n",
    "        mse_left = ((split_left - pred_left) * (split_left - pred_left)).mean()\n",
    "        mse_right = ((split_right - pred_right) * (split_right - pred_right)).mean()\n",
    "        mse = mse_left * num_left / (num_left + num_right) \\\n",
    "            + mse_right * num_right / (num_left + num_right)\n",
    "\n",
    "        tmp_data.append(\n",
    "            {\n",
    "                'param': param,\n",
    "                'threshold': threshold,\n",
    "                'mse': mse\n",
    "            }\n",
    "        )\n",
    "            \n",
    "    return pd.DataFrame(tmp_data).sort_values('mse')\n",
    "\n",
    "def get_binary_split(X, y):\n",
    "    tmp_dfs = []\n",
    "    for param in X.columns:\n",
    "        tmp_dfs.append(get_binary_split_for_param(param, X, y))\n",
    "        \n",
    "    return pd.concat(tmp_dfs).sort_values('mse')"
   ]
  },
  {
   "cell_type": "code",
   "execution_count": 22,
   "id": "b9508463",
   "metadata": {},
   "outputs": [
    {
     "name": "stderr",
     "output_type": "stream",
     "text": [
      "100%|███████████████████████████████████████| 103/103 [00:00<00:00, 2029.71it/s]\n"
     ]
    },
    {
     "data": {
      "text/html": [
       "<div>\n",
       "<style scoped>\n",
       "    .dataframe tbody tr th:only-of-type {\n",
       "        vertical-align: middle;\n",
       "    }\n",
       "\n",
       "    .dataframe tbody tr th {\n",
       "        vertical-align: top;\n",
       "    }\n",
       "\n",
       "    .dataframe thead th {\n",
       "        text-align: right;\n",
       "    }\n",
       "</style>\n",
       "<table border=\"1\" class=\"dataframe\">\n",
       "  <thead>\n",
       "    <tr style=\"text-align: right;\">\n",
       "      <th></th>\n",
       "      <th>param</th>\n",
       "      <th>threshold</th>\n",
       "      <th>mse</th>\n",
       "    </tr>\n",
       "  </thead>\n",
       "  <tbody>\n",
       "    <tr>\n",
       "      <th>44</th>\n",
       "      <td>sulphates</td>\n",
       "      <td>0.685</td>\n",
       "      <td>0.758495</td>\n",
       "    </tr>\n",
       "    <tr>\n",
       "      <th>43</th>\n",
       "      <td>sulphates</td>\n",
       "      <td>0.675</td>\n",
       "      <td>0.758794</td>\n",
       "    </tr>\n",
       "    <tr>\n",
       "      <th>46</th>\n",
       "      <td>sulphates</td>\n",
       "      <td>0.705</td>\n",
       "      <td>0.759065</td>\n",
       "    </tr>\n",
       "    <tr>\n",
       "      <th>47</th>\n",
       "      <td>sulphates</td>\n",
       "      <td>0.715</td>\n",
       "      <td>0.759071</td>\n",
       "    </tr>\n",
       "    <tr>\n",
       "      <th>39</th>\n",
       "      <td>sulphates</td>\n",
       "      <td>0.635</td>\n",
       "      <td>0.759495</td>\n",
       "    </tr>\n",
       "  </tbody>\n",
       "</table>\n",
       "</div>"
      ],
      "text/plain": [
       "        param  threshold       mse\n",
       "44  sulphates      0.685  0.758495\n",
       "43  sulphates      0.675  0.758794\n",
       "46  sulphates      0.705  0.759065\n",
       "47  sulphates      0.715  0.759071\n",
       "39  sulphates      0.635  0.759495"
      ]
     },
     "execution_count": 22,
     "metadata": {},
     "output_type": "execute_result"
    }
   ],
   "source": [
    "get_binary_split_for_param('sulphates', train_X, train_y).head()"
   ]
  },
  {
   "cell_type": "code",
   "execution_count": 23,
   "id": "b2a67f95",
   "metadata": {},
   "outputs": [
    {
     "name": "stderr",
     "output_type": "stream",
     "text": [
      "100%|███████████████████████████████████████| 102/102 [00:00<00:00, 2400.23it/s]\n",
      "100%|███████████████████████████████████████| 177/177 [00:00<00:00, 2439.33it/s]\n",
      "100%|█████████████████████████████████████████| 87/87 [00:00<00:00, 2386.88it/s]\n",
      "100%|███████████████████████████████████████| 303/303 [00:00<00:00, 2315.54it/s]\n",
      "100%|███████████████████████████████████████| 195/195 [00:00<00:00, 2417.05it/s]\n",
      "100%|███████████████████████████████████████| 125/125 [00:00<00:00, 2430.82it/s]\n",
      "100%|███████████████████████████████████████| 266/266 [00:00<00:00, 2408.66it/s]\n",
      "100%|███████████████████████████████████████| 945/945 [00:00<00:00, 2380.09it/s]\n",
      "100%|███████████████████████████████████████| 106/106 [00:00<00:00, 2449.00it/s]\n",
      "100%|███████████████████████████████████████| 103/103 [00:00<00:00, 2369.18it/s]\n",
      "100%|███████████████████████████████████████| 103/103 [00:00<00:00, 2303.57it/s]\n",
      "100%|███████████████████████████████████████████| 1/1 [00:00<00:00, 1091.70it/s]\n"
     ]
    },
    {
     "data": {
      "text/html": [
       "<div>\n",
       "<style scoped>\n",
       "    .dataframe tbody tr th:only-of-type {\n",
       "        vertical-align: middle;\n",
       "    }\n",
       "\n",
       "    .dataframe tbody tr th {\n",
       "        vertical-align: top;\n",
       "    }\n",
       "\n",
       "    .dataframe thead th {\n",
       "        text-align: right;\n",
       "    }\n",
       "</style>\n",
       "<table border=\"1\" class=\"dataframe\">\n",
       "  <thead>\n",
       "    <tr style=\"text-align: right;\">\n",
       "      <th></th>\n",
       "      <th>param</th>\n",
       "      <th>threshold</th>\n",
       "      <th>mse</th>\n",
       "    </tr>\n",
       "  </thead>\n",
       "  <tbody>\n",
       "    <tr>\n",
       "      <th>38</th>\n",
       "      <td>alcohol</td>\n",
       "      <td>10.625</td>\n",
       "      <td>0.640368</td>\n",
       "    </tr>\n",
       "    <tr>\n",
       "      <th>39</th>\n",
       "      <td>alcohol</td>\n",
       "      <td>10.675</td>\n",
       "      <td>0.640681</td>\n",
       "    </tr>\n",
       "    <tr>\n",
       "      <th>42</th>\n",
       "      <td>alcohol</td>\n",
       "      <td>10.850</td>\n",
       "      <td>0.641541</td>\n",
       "    </tr>\n",
       "    <tr>\n",
       "      <th>40</th>\n",
       "      <td>alcohol</td>\n",
       "      <td>10.725</td>\n",
       "      <td>0.641576</td>\n",
       "    </tr>\n",
       "    <tr>\n",
       "      <th>41</th>\n",
       "      <td>alcohol</td>\n",
       "      <td>10.775</td>\n",
       "      <td>0.641604</td>\n",
       "    </tr>\n",
       "  </tbody>\n",
       "</table>\n",
       "</div>"
      ],
      "text/plain": [
       "      param  threshold       mse\n",
       "38  alcohol     10.625  0.640368\n",
       "39  alcohol     10.675  0.640681\n",
       "42  alcohol     10.850  0.641541\n",
       "40  alcohol     10.725  0.641576\n",
       "41  alcohol     10.775  0.641604"
      ]
     },
     "execution_count": 23,
     "metadata": {},
     "output_type": "execute_result"
    }
   ],
   "source": [
    "bin_split_df = get_binary_split(train_X, train_y)\n",
    "bin_split_df.head()"
   ]
  },
  {
   "cell_type": "code",
   "execution_count": 24,
   "id": "1bee0877",
   "metadata": {},
   "outputs": [
    {
     "name": "stderr",
     "output_type": "stream",
     "text": [
      "100%|███████████████████████████████████████| 103/103 [00:00<00:00, 2377.44it/s]\n"
     ]
    },
    {
     "name": "stdout",
     "output_type": "stream",
     "text": [
      "| param     |   threshold |      mse |\n",
      "|:----------|------------:|---------:|\n",
      "| sulphates |       0.685 | 0.758495 |\n",
      "| sulphates |       0.675 | 0.758794 |\n",
      "| sulphates |       0.705 | 0.759065 |\n",
      "| sulphates |       0.715 | 0.759071 |\n",
      "| sulphates |       0.635 | 0.759495 |\n"
     ]
    }
   ],
   "source": [
    "print(get_binary_split_for_param('sulphates', train_X, train_y).set_index('param').head(5).to_markdown())"
   ]
  },
  {
   "cell_type": "code",
   "execution_count": 25,
   "id": "59e74b3e",
   "metadata": {},
   "outputs": [
    {
     "name": "stderr",
     "output_type": "stream",
     "text": [
      "100%|███████████████████████████████████████| 102/102 [00:00<00:00, 2441.64it/s]\n",
      "100%|███████████████████████████████████████| 177/177 [00:00<00:00, 2420.55it/s]\n",
      "100%|█████████████████████████████████████████| 87/87 [00:00<00:00, 2363.81it/s]\n",
      "100%|███████████████████████████████████████| 303/303 [00:00<00:00, 2412.31it/s]\n",
      "100%|███████████████████████████████████████| 195/195 [00:00<00:00, 2507.07it/s]\n",
      "100%|███████████████████████████████████████| 125/125 [00:00<00:00, 2439.88it/s]\n",
      "100%|███████████████████████████████████████| 266/266 [00:00<00:00, 2411.87it/s]\n",
      "100%|███████████████████████████████████████| 945/945 [00:00<00:00, 2407.75it/s]\n",
      "100%|███████████████████████████████████████| 106/106 [00:00<00:00, 2437.36it/s]\n",
      "100%|███████████████████████████████████████| 103/103 [00:00<00:00, 2405.31it/s]\n",
      "100%|███████████████████████████████████████| 103/103 [00:00<00:00, 2334.44it/s]\n",
      "100%|███████████████████████████████████████████| 1/1 [00:00<00:00, 1116.10it/s]"
     ]
    },
    {
     "name": "stdout",
     "output_type": "stream",
     "text": [
      "| param   |   threshold |      mse |\n",
      "|:--------|------------:|---------:|\n",
      "| alcohol |      10.625 | 0.640368 |\n",
      "| alcohol |      10.675 | 0.640681 |\n",
      "| alcohol |      10.85  | 0.641541 |\n",
      "| alcohol |      10.725 | 0.641576 |\n",
      "| alcohol |      10.775 | 0.641604 |\n"
     ]
    },
    {
     "name": "stderr",
     "output_type": "stream",
     "text": [
      "\n"
     ]
    }
   ],
   "source": [
    "print(get_binary_split(train_X, train_y).head(5).set_index('param').to_markdown())"
   ]
  },
  {
   "cell_type": "markdown",
   "id": "b9e8ff0c",
   "metadata": {},
   "source": [
    "### Random Forest"
   ]
  },
  {
   "cell_type": "code",
   "execution_count": 26,
   "id": "9d06f5dd",
   "metadata": {},
   "outputs": [],
   "source": [
    "import sklearn.ensemble"
   ]
  },
  {
   "cell_type": "code",
   "execution_count": 56,
   "id": "a16b5507",
   "metadata": {},
   "outputs": [
    {
     "name": "stdout",
     "output_type": "stream",
     "text": [
      "CPU times: user 640 ms, sys: 21.4 ms, total: 662 ms\n",
      "Wall time: 687 ms\n"
     ]
    },
    {
     "data": {
      "text/html": [
       "<style>#sk-container-id-3 {color: black;background-color: white;}#sk-container-id-3 pre{padding: 0;}#sk-container-id-3 div.sk-toggleable {background-color: white;}#sk-container-id-3 label.sk-toggleable__label {cursor: pointer;display: block;width: 100%;margin-bottom: 0;padding: 0.3em;box-sizing: border-box;text-align: center;}#sk-container-id-3 label.sk-toggleable__label-arrow:before {content: \"▸\";float: left;margin-right: 0.25em;color: #696969;}#sk-container-id-3 label.sk-toggleable__label-arrow:hover:before {color: black;}#sk-container-id-3 div.sk-estimator:hover label.sk-toggleable__label-arrow:before {color: black;}#sk-container-id-3 div.sk-toggleable__content {max-height: 0;max-width: 0;overflow: hidden;text-align: left;background-color: #f0f8ff;}#sk-container-id-3 div.sk-toggleable__content pre {margin: 0.2em;color: black;border-radius: 0.25em;background-color: #f0f8ff;}#sk-container-id-3 input.sk-toggleable__control:checked~div.sk-toggleable__content {max-height: 200px;max-width: 100%;overflow: auto;}#sk-container-id-3 input.sk-toggleable__control:checked~label.sk-toggleable__label-arrow:before {content: \"▾\";}#sk-container-id-3 div.sk-estimator input.sk-toggleable__control:checked~label.sk-toggleable__label {background-color: #d4ebff;}#sk-container-id-3 div.sk-label input.sk-toggleable__control:checked~label.sk-toggleable__label {background-color: #d4ebff;}#sk-container-id-3 input.sk-hidden--visually {border: 0;clip: rect(1px 1px 1px 1px);clip: rect(1px, 1px, 1px, 1px);height: 1px;margin: -1px;overflow: hidden;padding: 0;position: absolute;width: 1px;}#sk-container-id-3 div.sk-estimator {font-family: monospace;background-color: #f0f8ff;border: 1px dotted black;border-radius: 0.25em;box-sizing: border-box;margin-bottom: 0.5em;}#sk-container-id-3 div.sk-estimator:hover {background-color: #d4ebff;}#sk-container-id-3 div.sk-parallel-item::after {content: \"\";width: 100%;border-bottom: 1px solid gray;flex-grow: 1;}#sk-container-id-3 div.sk-label:hover label.sk-toggleable__label {background-color: #d4ebff;}#sk-container-id-3 div.sk-serial::before {content: \"\";position: absolute;border-left: 1px solid gray;box-sizing: border-box;top: 0;bottom: 0;left: 50%;z-index: 0;}#sk-container-id-3 div.sk-serial {display: flex;flex-direction: column;align-items: center;background-color: white;padding-right: 0.2em;padding-left: 0.2em;position: relative;}#sk-container-id-3 div.sk-item {position: relative;z-index: 1;}#sk-container-id-3 div.sk-parallel {display: flex;align-items: stretch;justify-content: center;background-color: white;position: relative;}#sk-container-id-3 div.sk-item::before, #sk-container-id-3 div.sk-parallel-item::before {content: \"\";position: absolute;border-left: 1px solid gray;box-sizing: border-box;top: 0;bottom: 0;left: 50%;z-index: -1;}#sk-container-id-3 div.sk-parallel-item {display: flex;flex-direction: column;z-index: 1;position: relative;background-color: white;}#sk-container-id-3 div.sk-parallel-item:first-child::after {align-self: flex-end;width: 50%;}#sk-container-id-3 div.sk-parallel-item:last-child::after {align-self: flex-start;width: 50%;}#sk-container-id-3 div.sk-parallel-item:only-child::after {width: 0;}#sk-container-id-3 div.sk-dashed-wrapped {border: 1px dashed gray;margin: 0 0.4em 0.5em 0.4em;box-sizing: border-box;padding-bottom: 0.4em;background-color: white;}#sk-container-id-3 div.sk-label label {font-family: monospace;font-weight: bold;display: inline-block;line-height: 1.2em;}#sk-container-id-3 div.sk-label-container {text-align: center;}#sk-container-id-3 div.sk-container {/* jupyter's `normalize.less` sets `[hidden] { display: none; }` but bootstrap.min.css set `[hidden] { display: none !important; }` so we also need the `!important` here to be able to override the default hidden behavior on the sphinx rendered scikit-learn.org. See: https://github.com/scikit-learn/scikit-learn/issues/21755 */display: inline-block !important;position: relative;}#sk-container-id-3 div.sk-text-repr-fallback {display: none;}</style><div id=\"sk-container-id-3\" class=\"sk-top-container\"><div class=\"sk-text-repr-fallback\"><pre>RandomForestRegressor(min_samples_leaf=100, oob_score=True)</pre><b>In a Jupyter environment, please rerun this cell to show the HTML representation or trust the notebook. <br />On GitHub, the HTML representation is unable to render, please try loading this page with nbviewer.org.</b></div><div class=\"sk-container\" hidden><div class=\"sk-item\"><div class=\"sk-estimator sk-toggleable\"><input class=\"sk-toggleable__control sk-hidden--visually\" id=\"sk-estimator-id-3\" type=\"checkbox\" checked><label for=\"sk-estimator-id-3\" class=\"sk-toggleable__label sk-toggleable__label-arrow\">RandomForestRegressor</label><div class=\"sk-toggleable__content\"><pre>RandomForestRegressor(min_samples_leaf=100, oob_score=True)</pre></div></div></div></div></div>"
      ],
      "text/plain": [
       "RandomForestRegressor(min_samples_leaf=100, oob_score=True)"
      ]
     },
     "execution_count": 56,
     "metadata": {},
     "output_type": "execute_result"
    }
   ],
   "source": [
    "%%time \n",
    "model = sklearn.ensemble.RandomForestRegressor(100, min_samples_leaf=100, oob_score=True)\n",
    "model.fit(train_X, train_y)"
   ]
  },
  {
   "cell_type": "code",
   "execution_count": 57,
   "id": "90a6c8b0",
   "metadata": {},
   "outputs": [
    {
     "data": {
      "text/plain": [
       "0.5592536196736408"
      ]
     },
     "execution_count": 57,
     "metadata": {},
     "output_type": "execute_result"
    }
   ],
   "source": [
    "sklearn.metrics.mean_absolute_error(model.predict(val_X), val_y)"
   ]
  },
  {
   "cell_type": "code",
   "execution_count": 58,
   "id": "cafb1efa",
   "metadata": {},
   "outputs": [
    {
     "data": {
      "text/plain": [
       "0.5571191870008492"
      ]
     },
     "execution_count": 58,
     "metadata": {},
     "output_type": "execute_result"
    }
   ],
   "source": [
    "sklearn.metrics.mean_absolute_error(model.oob_prediction_, train_y)"
   ]
  },
  {
   "cell_type": "code",
   "execution_count": 59,
   "id": "49c98869",
   "metadata": {},
   "outputs": [
    {
     "data": {
      "text/plain": [
       "0.5430398596179975"
      ]
     },
     "execution_count": 59,
     "metadata": {},
     "output_type": "execute_result"
    }
   ],
   "source": [
    "sklearn.metrics.mean_absolute_error(model.predict(train_X), train_y)"
   ]
  },
  {
   "cell_type": "markdown",
   "id": "6f8cf236",
   "metadata": {},
   "source": [
    "# Error and number of trees"
   ]
  },
  {
   "cell_type": "code",
   "execution_count": 50,
   "id": "aa095668",
   "metadata": {},
   "outputs": [
    {
     "name": "stdout",
     "output_type": "stream",
     "text": [
      "min_samples_leaf = 1\n"
     ]
    },
    {
     "name": "stderr",
     "output_type": "stream",
     "text": [
      "100%|█████████████████████████████████████████| 200/200 [05:48<00:00,  1.74s/it]\n"
     ]
    },
    {
     "name": "stdout",
     "output_type": "stream",
     "text": [
      "min_samples_leaf = 5\n"
     ]
    },
    {
     "name": "stderr",
     "output_type": "stream",
     "text": [
      "100%|█████████████████████████████████████████| 200/200 [04:52<00:00,  1.46s/it]\n"
     ]
    },
    {
     "name": "stdout",
     "output_type": "stream",
     "text": [
      "min_samples_leaf = 10\n"
     ]
    },
    {
     "name": "stderr",
     "output_type": "stream",
     "text": [
      "100%|█████████████████████████████████████████| 200/200 [04:12<00:00,  1.26s/it]\n"
     ]
    },
    {
     "name": "stdout",
     "output_type": "stream",
     "text": [
      "min_samples_leaf = 50\n"
     ]
    },
    {
     "name": "stderr",
     "output_type": "stream",
     "text": [
      "100%|█████████████████████████████████████████| 200/200 [02:46<00:00,  1.20it/s]\n"
     ]
    },
    {
     "name": "stdout",
     "output_type": "stream",
     "text": [
      "min_samples_leaf = 100\n"
     ]
    },
    {
     "name": "stderr",
     "output_type": "stream",
     "text": [
      "100%|█████████████████████████████████████████| 200/200 [02:14<00:00,  1.48it/s]\n"
     ]
    },
    {
     "name": "stdout",
     "output_type": "stream",
     "text": [
      "min_samples_leaf = 500\n"
     ]
    },
    {
     "name": "stderr",
     "output_type": "stream",
     "text": [
      "100%|█████████████████████████████████████████| 200/200 [01:11<00:00,  2.81it/s]\n"
     ]
    },
    {
     "name": "stdout",
     "output_type": "stream",
     "text": [
      "min_samples_leaf = 1000\n"
     ]
    },
    {
     "name": "stderr",
     "output_type": "stream",
     "text": [
      "100%|█████████████████████████████████████████| 200/200 [00:43<00:00,  4.57it/s]\n"
     ]
    }
   ],
   "source": [
    "import tqdm\n",
    "\n",
    "tmp_dfs = []\n",
    "for min_samples_leaf in [1, 5, 10, 50, 100, 500, 1000]:\n",
    "    print('min_samples_leaf = %d' % min_samples_leaf)\n",
    "    tmp_data = []\n",
    "    for n in tqdm.tqdm(list(range(1, 201))):\n",
    "        clf = sklearn.ensemble.RandomForestRegressor(n, min_samples_leaf=min_samples_leaf)\n",
    "        clf.fit(train_X, train_y)\n",
    "\n",
    "        tmp_data.append(\n",
    "            {\n",
    "                'min_samples_leaf': min_samples_leaf,\n",
    "                'num_trees': n,\n",
    "                'val_mae': sklearn.metrics.mean_absolute_error(clf.predict(val_X), val_y),\n",
    "                'val_mse': sklearn.metrics.mean_squared_error(clf.predict(val_X), val_y),\n",
    "                'train_mae': sklearn.metrics.mean_absolute_error(clf.predict(train_X), train_y),\n",
    "                'train_mse': sklearn.metrics.mean_squared_error(clf.predict(train_X), train_y)\n",
    "            }\n",
    "        )\n",
    "        \n",
    "    tmp_dfs.append(pd.DataFrame(tmp_data))"
   ]
  },
  {
   "cell_type": "code",
   "execution_count": 51,
   "id": "00892b86",
   "metadata": {},
   "outputs": [],
   "source": [
    "min_samples_num_trees_df = pd.concat(tmp_dfs)"
   ]
  },
  {
   "cell_type": "code",
   "execution_count": 52,
   "id": "f8f8d520",
   "metadata": {},
   "outputs": [
    {
     "data": {
      "application/vnd.plotly.v1+json": {
       "config": {
        "plotlyServerURL": "https://plot.ly"
       },
       "data": [
        {
         "hovertemplate": "min_samples_leaf=1<br>num_trees=%{x}<br>value=%{y}<extra></extra>",
         "legendgroup": "1",
         "line": {
          "color": "#1F77B4",
          "dash": "solid"
         },
         "marker": {
          "symbol": "circle"
         },
         "mode": "lines",
         "name": "1",
         "showlegend": true,
         "type": "scattergl",
         "x": [
          1,
          2,
          3,
          4,
          5,
          6,
          7,
          8,
          9,
          10,
          11,
          12,
          13,
          14,
          15,
          16,
          17,
          18,
          19,
          20,
          21,
          22,
          23,
          24,
          25,
          26,
          27,
          28,
          29,
          30,
          31,
          32,
          33,
          34,
          35,
          36,
          37,
          38,
          39,
          40,
          41,
          42,
          43,
          44,
          45,
          46,
          47,
          48,
          49,
          50,
          51,
          52,
          53,
          54,
          55,
          56,
          57,
          58,
          59,
          60,
          61,
          62,
          63,
          64,
          65,
          66,
          67,
          68,
          69,
          70,
          71,
          72,
          73,
          74,
          75,
          76,
          77,
          78,
          79,
          80,
          81,
          82,
          83,
          84,
          85,
          86,
          87,
          88,
          89,
          90,
          91,
          92,
          93,
          94,
          95,
          96,
          97,
          98,
          99,
          100,
          101,
          102,
          103,
          104,
          105,
          106,
          107,
          108,
          109,
          110,
          111,
          112,
          113,
          114,
          115,
          116,
          117,
          118,
          119,
          120,
          121,
          122,
          123,
          124,
          125,
          126,
          127,
          128,
          129,
          130,
          131,
          132,
          133,
          134,
          135,
          136,
          137,
          138,
          139,
          140,
          141,
          142,
          143,
          144,
          145,
          146,
          147,
          148,
          149,
          150,
          151,
          152,
          153,
          154,
          155,
          156,
          157,
          158,
          159,
          160,
          161,
          162,
          163,
          164,
          165,
          166,
          167,
          168,
          169,
          170,
          171,
          172,
          173,
          174,
          175,
          176,
          177,
          178,
          179,
          180,
          181,
          182,
          183,
          184,
          185,
          186,
          187,
          188,
          189,
          190,
          191,
          192,
          193,
          194,
          195,
          196,
          197,
          198,
          199,
          200
         ],
         "xaxis": "x",
         "y": [
          0.54,
          0.5019230769230769,
          0.4925641025641025,
          0.47365384615384615,
          0.4750769230769232,
          0.4651282051282052,
          0.46681318681318695,
          0.4650961538461538,
          0.4628205128205128,
          0.47107692307692295,
          0.4544055944055944,
          0.4551282051282052,
          0.46165680473372783,
          0.45318681318681314,
          0.44661538461538475,
          0.45778846153846153,
          0.45411764705882346,
          0.4486752136752136,
          0.45886639676113367,
          0.4581923076923077,
          0.4495970695970696,
          0.4427622377622378,
          0.4444816053511706,
          0.44333333333333336,
          0.4516923076923077,
          0.44730769230769224,
          0.4469515669515669,
          0.4468131868131868,
          0.4427586206896552,
          0.4502051282051281,
          0.4393548387096773,
          0.4503125,
          0.4373426573426572,
          0.4416063348416289,
          0.44303296703296696,
          0.4359188034188034,
          0.44459459459459455,
          0.4443522267206478,
          0.4469230769230769,
          0.44298076923076923,
          0.4436022514071295,
          0.445018315018315,
          0.4470304114490162,
          0.4440034965034965,
          0.4415213675213675,
          0.4432274247491638,
          0.44392798690671037,
          0.4411378205128206,
          0.4378649921507064,
          0.4354,
          0.44651583710407233,
          0.44088757396449707,
          0.4405515239477504,
          0.43947293447293445,
          0.4359020979020979,
          0.4437087912087912,
          0.4439136302294197,
          0.4409151193633953,
          0.4411734028683181,
          0.44364102564102564,
          0.4397604035308953,
          0.4338089330024814,
          0.4382539682539683,
          0.43789663461538464,
          0.4369940828402367,
          0.4442424242424243,
          0.4394948335246843,
          0.44009049773755654,
          0.4399442586399109,
          0.4362747252747253,
          0.4433369447453954,
          0.44159188034188046,
          0.4424868282402529,
          0.4412681912681913,
          0.43911794871794874,
          0.44394736842105254,
          0.4411288711288711,
          0.4443885601577909,
          0.43883154819863684,
          0.4411346153846154,
          0.4374358974358975,
          0.43969981238273914,
          0.43893419833178865,
          0.4430586080586081,
          0.43582805429864246,
          0.4394007155635063,
          0.4375685234305924,
          0.43995629370629363,
          0.43840968020743304,
          0.438068376068376,
          0.44092138630600175,
          0.4404598662207358,
          0.44217535153019016,
          0.4396726677577742,
          0.43967611336032386,
          0.4406009615384615,
          0.4379460745440126,
          0.4403767660910518,
          0.4378943278943279,
          0.437776923076923,
          0.43763899466869766,
          0.43800904977375565,
          0.4356310679611651,
          0.4383431952662722,
          0.43414652014652017,
          0.44505805515239477,
          0.43779295470884266,
          0.43759971509971507,
          0.4385391672547636,
          0.43930069930069926,
          0.43773388773388766,
          0.439065934065934,
          0.43780122532334925,
          0.438272604588394,
          0.43679598662207353,
          0.44074270557029177,
          0.44059171597633134,
          0.43684485006518914,
          0.4358435681965093,
          0.43898717948717947,
          0.43814367450731073,
          0.4406620428751576,
          0.44029393370856784,
          0.4383126550868486,
          0.4393969230769232,
          0.43788766788766786,
          0.4411508176862507,
          0.43963341346153845,
          0.43881932021466913,
          0.4360532544378698,
          0.4383734586024661,
          0.43902097902097903,
          0.4371197223828803,
          0.43730195177956377,
          0.4407863247863248,
          0.4360011312217195,
          0.43661426165075806,
          0.4390468227424749,
          0.43700608743774216,
          0.4386758241758242,
          0.4374358974358974,
          0.4386511375947996,
          0.4410704679935449,
          0.438616452991453,
          0.43585145888594157,
          0.4384720758693362,
          0.43942961800104663,
          0.4371881496881497,
          0.4356375838926175,
          0.438574358974359,
          0.43906775343861437,
          0.43661437246963564,
          0.43897435897435894,
          0.44109390609390614,
          0.4360694789081886,
          0.4376824457593688,
          0.4362469377756002,
          0.43513631937682573,
          0.43592162554426717,
          0.44060576923076916,
          0.43685618729097,
          0.4378395061728395,
          0.43894761680037747,
          0.43912757973733574,
          0.43414918414918413,
          0.43625579240037077,
          0.4367618608935975,
          0.439720695970696,
          0.43496586253982705,
          0.4401538461538462,
          0.4375393612235717,
          0.4399239713774597,
          0.43741662961316147,
          0.43811671087533155,
          0.4368615384615384,
          0.4367875874125874,
          0.43545415036940455,
          0.43758426966292135,
          0.4408981521272023,
          0.4367264957264958,
          0.4354398640033999,
          0.4393913778529163,
          0.43844892812105923,
          0.43686036789297655,
          0.438977130977131,
          0.43771298593879243,
          0.43671328671328674,
          0.4370458265139116,
          0.43926332926332934,
          0.438421052631579,
          0.4377406363270237,
          0.43635416666666665,
          0.4352172180151455,
          0.43637589214908795,
          0.4385128205128205,
          0.4370839874411303,
          0.4372081218274112,
          0.43688422688422685,
          0.4348086586780054,
          0.43684999999999996
         ],
         "yaxis": "y"
        },
        {
         "hovertemplate": "min_samples_leaf=5<br>num_trees=%{x}<br>value=%{y}<extra></extra>",
         "legendgroup": "5",
         "line": {
          "color": "#FF7F0E",
          "dash": "solid"
         },
         "marker": {
          "symbol": "circle"
         },
         "mode": "lines",
         "name": "5",
         "showlegend": true,
         "type": "scattergl",
         "x": [
          1,
          2,
          3,
          4,
          5,
          6,
          7,
          8,
          9,
          10,
          11,
          12,
          13,
          14,
          15,
          16,
          17,
          18,
          19,
          20,
          21,
          22,
          23,
          24,
          25,
          26,
          27,
          28,
          29,
          30,
          31,
          32,
          33,
          34,
          35,
          36,
          37,
          38,
          39,
          40,
          41,
          42,
          43,
          44,
          45,
          46,
          47,
          48,
          49,
          50,
          51,
          52,
          53,
          54,
          55,
          56,
          57,
          58,
          59,
          60,
          61,
          62,
          63,
          64,
          65,
          66,
          67,
          68,
          69,
          70,
          71,
          72,
          73,
          74,
          75,
          76,
          77,
          78,
          79,
          80,
          81,
          82,
          83,
          84,
          85,
          86,
          87,
          88,
          89,
          90,
          91,
          92,
          93,
          94,
          95,
          96,
          97,
          98,
          99,
          100,
          101,
          102,
          103,
          104,
          105,
          106,
          107,
          108,
          109,
          110,
          111,
          112,
          113,
          114,
          115,
          116,
          117,
          118,
          119,
          120,
          121,
          122,
          123,
          124,
          125,
          126,
          127,
          128,
          129,
          130,
          131,
          132,
          133,
          134,
          135,
          136,
          137,
          138,
          139,
          140,
          141,
          142,
          143,
          144,
          145,
          146,
          147,
          148,
          149,
          150,
          151,
          152,
          153,
          154,
          155,
          156,
          157,
          158,
          159,
          160,
          161,
          162,
          163,
          164,
          165,
          166,
          167,
          168,
          169,
          170,
          171,
          172,
          173,
          174,
          175,
          176,
          177,
          178,
          179,
          180,
          181,
          182,
          183,
          184,
          185,
          186,
          187,
          188,
          189,
          190,
          191,
          192,
          193,
          194,
          195,
          196,
          197,
          198,
          199,
          200
         ],
         "xaxis": "x",
         "y": [
          0.6079457429197248,
          0.5529249908389882,
          0.5314042519966252,
          0.5233736831590785,
          0.5079058421342934,
          0.5030926533223509,
          0.5048331390656732,
          0.49390646200659377,
          0.49514930500559357,
          0.4939312424561355,
          0.48967064663489673,
          0.49056902136648706,
          0.4901634068210314,
          0.4875673829493766,
          0.48832449744948675,
          0.4928055704054997,
          0.48634270956861464,
          0.4895101136669788,
          0.4853865199695316,
          0.49248009433957507,
          0.48722633022515904,
          0.4813972983060309,
          0.4848302387903264,
          0.4806524153144648,
          0.4870218584716161,
          0.48193455466209273,
          0.4806036269656166,
          0.48165531738992917,
          0.48112011560656864,
          0.4799243124713567,
          0.4839122462978409,
          0.4863327587056208,
          0.48371755516330633,
          0.48474387310222544,
          0.4784669881009628,
          0.48332125185034364,
          0.48180647306939817,
          0.4840336507006966,
          0.4805565272043019,
          0.48175839754550315,
          0.4814468582903823,
          0.4823667830545815,
          0.482743178974842,
          0.4821337997881132,
          0.482393604698868,
          0.4820752549187058,
          0.48236256177614484,
          0.48038223898655324,
          0.4793220910421258,
          0.4787787331023128,
          0.4792186675607312,
          0.48007718305296426,
          0.4805053466928638,
          0.4777912467302272,
          0.47790445285609445,
          0.4786414986595312,
          0.480421495137887,
          0.48087422847147343,
          0.47804548876713293,
          0.4795064337119988,
          0.4796929483674571,
          0.48252181371560393,
          0.47713701227521893,
          0.4802735178573119,
          0.47928997967434567,
          0.4805741793373084,
          0.4777768577033187,
          0.47951399256077504,
          0.47972815530028506,
          0.4767529284648974,
          0.47847680836159706,
          0.4785038690198663,
          0.4790696003634574,
          0.48014517199272044,
          0.479399372796049,
          0.4812849172819245,
          0.4773323942108375,
          0.4785242794497848,
          0.47973594697628946,
          0.4804741470218095,
          0.477407610342012,
          0.4800880827226253,
          0.48174387350791675,
          0.4786454264820895,
          0.47820222976757665,
          0.4753045176617876,
          0.4803109871967354,
          0.478840795688478,
          0.4812666373000514,
          0.47733814735389773,
          0.47759551164157793,
          0.479421609804333,
          0.4760056101501026,
          0.47704532752654333,
          0.47755739791103485,
          0.4813820535651117,
          0.4788593129241321,
          0.4806738577926425,
          0.48053621427087206,
          0.48035041078748025,
          0.4774063367415271,
          0.4751667187287161,
          0.477533869063895,
          0.4780420486618324,
          0.47866127832928423,
          0.4808712857425297,
          0.4784481894033617,
          0.47859389453631995,
          0.4781652307429446,
          0.4795072368864855,
          0.4788547669899629,
          0.47815823117801615,
          0.4779460357207304,
          0.4791148849680813,
          0.4821208176534665,
          0.4780997156117342,
          0.47634714461717786,
          0.47606444481951327,
          0.4798058310330776,
          0.4801206280716818,
          0.4780152559784296,
          0.47976817137146205,
          0.47945411059051146,
          0.47719197563940297,
          0.47742610169271826,
          0.47841025629859335,
          0.48197616644111296,
          0.47778776411234486,
          0.47783784099599075,
          0.47851119237487655,
          0.4767755766664068,
          0.47688354642604963,
          0.47744268465654943,
          0.4777561971907278,
          0.47844616950339897,
          0.4793362004160267,
          0.48085012082336054,
          0.47564628742137693,
          0.4772245853294792,
          0.4780642263444545,
          0.4769779490407805,
          0.47796694991199346,
          0.47592326539901514,
          0.47942969075660286,
          0.4763633578703387,
          0.4794453448300781,
          0.4799518161167366,
          0.4778072558757813,
          0.4785347273916868,
          0.4772519148464061,
          0.47921775673799544,
          0.4783076405867793,
          0.4779434118876191,
          0.4799317634017091,
          0.48021613909950334,
          0.4790498172524786,
          0.4762214720810193,
          0.4781228421938214,
          0.476230758811297,
          0.4779123395434247,
          0.4788838486796031,
          0.4767639170427731,
          0.4768579996905247,
          0.4778559322577921,
          0.4760138197623179,
          0.47837475757311704,
          0.4782891804227,
          0.47915402136041796,
          0.47824917102320097,
          0.47650640309304715,
          0.4773334873013672,
          0.47773870137006386,
          0.47815769704128736,
          0.47762657053378216,
          0.47616955406612443,
          0.4784891169876026,
          0.476883749369528,
          0.4764256232461895,
          0.4779311565357616,
          0.4785504475882748,
          0.47824537893230795,
          0.478803866895489,
          0.4771259155878793,
          0.47858067692162687,
          0.4770948607128787,
          0.47923915546094875,
          0.47870887403502926,
          0.4786360191033886,
          0.47749586972769154,
          0.4759914534469319,
          0.47918252232000574,
          0.4776671956356619,
          0.47999908486031717,
          0.4772053444816202,
          0.4779688962737721,
          0.479655991745287,
          0.4768157026793587,
          0.47803720456714516,
          0.4789691609066037,
          0.47696619179229366
         ],
         "yaxis": "y"
        },
        {
         "hovertemplate": "min_samples_leaf=10<br>num_trees=%{x}<br>value=%{y}<extra></extra>",
         "legendgroup": "10",
         "line": {
          "color": "#2CA02C",
          "dash": "solid"
         },
         "marker": {
          "symbol": "circle"
         },
         "mode": "lines",
         "name": "10",
         "showlegend": true,
         "type": "scattergl",
         "x": [
          1,
          2,
          3,
          4,
          5,
          6,
          7,
          8,
          9,
          10,
          11,
          12,
          13,
          14,
          15,
          16,
          17,
          18,
          19,
          20,
          21,
          22,
          23,
          24,
          25,
          26,
          27,
          28,
          29,
          30,
          31,
          32,
          33,
          34,
          35,
          36,
          37,
          38,
          39,
          40,
          41,
          42,
          43,
          44,
          45,
          46,
          47,
          48,
          49,
          50,
          51,
          52,
          53,
          54,
          55,
          56,
          57,
          58,
          59,
          60,
          61,
          62,
          63,
          64,
          65,
          66,
          67,
          68,
          69,
          70,
          71,
          72,
          73,
          74,
          75,
          76,
          77,
          78,
          79,
          80,
          81,
          82,
          83,
          84,
          85,
          86,
          87,
          88,
          89,
          90,
          91,
          92,
          93,
          94,
          95,
          96,
          97,
          98,
          99,
          100,
          101,
          102,
          103,
          104,
          105,
          106,
          107,
          108,
          109,
          110,
          111,
          112,
          113,
          114,
          115,
          116,
          117,
          118,
          119,
          120,
          121,
          122,
          123,
          124,
          125,
          126,
          127,
          128,
          129,
          130,
          131,
          132,
          133,
          134,
          135,
          136,
          137,
          138,
          139,
          140,
          141,
          142,
          143,
          144,
          145,
          146,
          147,
          148,
          149,
          150,
          151,
          152,
          153,
          154,
          155,
          156,
          157,
          158,
          159,
          160,
          161,
          162,
          163,
          164,
          165,
          166,
          167,
          168,
          169,
          170,
          171,
          172,
          173,
          174,
          175,
          176,
          177,
          178,
          179,
          180,
          181,
          182,
          183,
          184,
          185,
          186,
          187,
          188,
          189,
          190,
          191,
          192,
          193,
          194,
          195,
          196,
          197,
          198,
          199,
          200
         ],
         "xaxis": "x",
         "y": [
          0.587209793219701,
          0.551599706694949,
          0.5400353432420146,
          0.5240265263765437,
          0.5234335873085222,
          0.5130289061596718,
          0.5148480865525717,
          0.5185993673760576,
          0.5151505467500711,
          0.5172149130520027,
          0.5108512335482471,
          0.5130081647626112,
          0.5030672405779592,
          0.5067952514975349,
          0.5083773980211573,
          0.5023435046910766,
          0.5103900181239309,
          0.508333576140352,
          0.5040768609636325,
          0.5076783607230525,
          0.5001435281179567,
          0.5053095386426156,
          0.5052133189663888,
          0.5027519437491861,
          0.507460930815512,
          0.5018104861549892,
          0.503805652197319,
          0.5032143579022639,
          0.5052547263895149,
          0.5032443342087766,
          0.504219077247061,
          0.5042669000126986,
          0.5076631774425071,
          0.5095500960451653,
          0.502184740650196,
          0.5049086332087637,
          0.5048640068553975,
          0.5041781182438355,
          0.500929805365514,
          0.5047006685434029,
          0.5068060536238,
          0.5043772887103717,
          0.501414768520247,
          0.5023427736673877,
          0.50286809915452,
          0.5015030349362362,
          0.5016490363289541,
          0.5046130958722994,
          0.5051699560291161,
          0.5012418170749661,
          0.503718166537659,
          0.4997604690900413,
          0.5036597454078309,
          0.5039554652176174,
          0.5040045977125682,
          0.5006219434279495,
          0.49883060646813404,
          0.5030371543657349,
          0.5046897377511705,
          0.5024577662158893,
          0.501845770063322,
          0.5013688146477019,
          0.5013976827056955,
          0.5016441920368615,
          0.4994428285843943,
          0.5022236592955498,
          0.5017483700279299,
          0.5003664030534348,
          0.5029861782953027,
          0.5007208857616008,
          0.5046863575769981,
          0.503582830407834,
          0.5010189631730413,
          0.5014058972677523,
          0.5038142540198687,
          0.5004897634421629,
          0.5014790203656104,
          0.5025674957220512,
          0.5036531488784203,
          0.5010772182703185,
          0.502301666403909,
          0.49990312601945275,
          0.5039904925680523,
          0.5032943019425786,
          0.4990394595978154,
          0.5042665304891578,
          0.5031428808544066,
          0.502725159378456,
          0.49954930651894214,
          0.5028556113912305,
          0.5029189446928815,
          0.5025213523101428,
          0.5004440870884002,
          0.5000628497405033,
          0.5015455577377665,
          0.5038839619414692,
          0.5038203168652926,
          0.5011928340318897,
          0.500855457869439,
          0.5001121360730885,
          0.5008029688801928,
          0.5017653246143244,
          0.5015234954366125,
          0.501919881780592,
          0.5013544322044179,
          0.5034212427186942,
          0.5026623499766855,
          0.5006645881235126,
          0.5029577306968215,
          0.5020150401268393,
          0.5030768675397117,
          0.4998889713533131,
          0.5004949144699589,
          0.5008025886031555,
          0.5023872549909264,
          0.5003875760389178,
          0.5028860356323649,
          0.49997670167407215,
          0.5009198107185624,
          0.499763701692921,
          0.5001286675018979,
          0.5024786537401045,
          0.5014984379725889,
          0.501522819432558,
          0.5036051396104957,
          0.5029917504982945,
          0.5022198231006189,
          0.49971557068679257,
          0.5019345961888861,
          0.5009939623884557,
          0.5030017542281934,
          0.49956590088663533,
          0.5021768049348013,
          0.5024281327047313,
          0.5001196735491463,
          0.5023362355528743,
          0.5013540533777676,
          0.5011320438707604,
          0.502091244246279,
          0.5018733863802896,
          0.5002242403039802,
          0.5032351371595882,
          0.49985411044931005,
          0.5022640168561588,
          0.4994162688074838,
          0.5018928459393005,
          0.5013713017110151,
          0.5007679443137835,
          0.5022504463022137,
          0.501513303551495,
          0.4997685768164506,
          0.5014572751687155,
          0.5002388461960295,
          0.5016937824402833,
          0.5018395599259277,
          0.4998414458359464,
          0.5011981942441539,
          0.5014986313246143,
          0.5001037468735292,
          0.5006135883054595,
          0.5017287578146342,
          0.5012167344863802,
          0.5011870073949889,
          0.5009982695083492,
          0.5011377892402298,
          0.501799079693285,
          0.5003793506614274,
          0.5014442779008237,
          0.5001117900336488,
          0.4999814271344226,
          0.5011493260260884,
          0.5021056276480715,
          0.501133159671642,
          0.5016269336856244,
          0.5014748919277942,
          0.5015131126275357,
          0.5004792060641969,
          0.5018099527090583,
          0.501328340857545,
          0.4999682832197534,
          0.499619240982063,
          0.5004929120734549,
          0.5015859107746321,
          0.500071975585575,
          0.5014610889825667,
          0.5008832197030072,
          0.5007298571207811,
          0.5005576916203417,
          0.5032157869054341,
          0.4991304973123001,
          0.5007095028363467,
          0.50065328523319,
          0.5023090176216699,
          0.5006412641978071,
          0.500461806895818,
          0.5015649902680782,
          0.5011502137972502,
          0.5002829825810405,
          0.5022184812841052,
          0.5008201301204919
         ],
         "yaxis": "y"
        },
        {
         "hovertemplate": "min_samples_leaf=50<br>num_trees=%{x}<br>value=%{y}<extra></extra>",
         "legendgroup": "50",
         "line": {
          "color": "#D62728",
          "dash": "solid"
         },
         "marker": {
          "symbol": "circle"
         },
         "mode": "lines",
         "name": "50",
         "showlegend": true,
         "type": "scattergl",
         "x": [
          1,
          2,
          3,
          4,
          5,
          6,
          7,
          8,
          9,
          10,
          11,
          12,
          13,
          14,
          15,
          16,
          17,
          18,
          19,
          20,
          21,
          22,
          23,
          24,
          25,
          26,
          27,
          28,
          29,
          30,
          31,
          32,
          33,
          34,
          35,
          36,
          37,
          38,
          39,
          40,
          41,
          42,
          43,
          44,
          45,
          46,
          47,
          48,
          49,
          50,
          51,
          52,
          53,
          54,
          55,
          56,
          57,
          58,
          59,
          60,
          61,
          62,
          63,
          64,
          65,
          66,
          67,
          68,
          69,
          70,
          71,
          72,
          73,
          74,
          75,
          76,
          77,
          78,
          79,
          80,
          81,
          82,
          83,
          84,
          85,
          86,
          87,
          88,
          89,
          90,
          91,
          92,
          93,
          94,
          95,
          96,
          97,
          98,
          99,
          100,
          101,
          102,
          103,
          104,
          105,
          106,
          107,
          108,
          109,
          110,
          111,
          112,
          113,
          114,
          115,
          116,
          117,
          118,
          119,
          120,
          121,
          122,
          123,
          124,
          125,
          126,
          127,
          128,
          129,
          130,
          131,
          132,
          133,
          134,
          135,
          136,
          137,
          138,
          139,
          140,
          141,
          142,
          143,
          144,
          145,
          146,
          147,
          148,
          149,
          150,
          151,
          152,
          153,
          154,
          155,
          156,
          157,
          158,
          159,
          160,
          161,
          162,
          163,
          164,
          165,
          166,
          167,
          168,
          169,
          170,
          171,
          172,
          173,
          174,
          175,
          176,
          177,
          178,
          179,
          180,
          181,
          182,
          183,
          184,
          185,
          186,
          187,
          188,
          189,
          190,
          191,
          192,
          193,
          194,
          195,
          196,
          197,
          198,
          199,
          200
         ],
         "xaxis": "x",
         "y": [
          0.5823449220164446,
          0.56013308138776,
          0.5508122705103342,
          0.5508281247343517,
          0.5470164636573153,
          0.5531435686318661,
          0.5488820784795106,
          0.5478878607732507,
          0.5466966184326183,
          0.5432940449656598,
          0.5474456713543437,
          0.5420156207420268,
          0.5444692397555402,
          0.5462917618525918,
          0.5454304733315443,
          0.5435986437839965,
          0.5405991663524461,
          0.5463590916402814,
          0.5429072932834292,
          0.5428729642477625,
          0.5410916342282773,
          0.5441276266084579,
          0.544203308183954,
          0.5426831790640639,
          0.5435029899618893,
          0.5434360382922189,
          0.5419366813686322,
          0.5475501662734833,
          0.5421583520669754,
          0.5421646346337675,
          0.5439527071512752,
          0.5427206074927372,
          0.5422670606389268,
          0.5446822898620056,
          0.5432246222696391,
          0.5414334292666579,
          0.5420090121579504,
          0.5443797591512735,
          0.5413717706647857,
          0.540917477518655,
          0.541284831553363,
          0.5424331455773659,
          0.5405295908785052,
          0.5405206028876554,
          0.5427909756134331,
          0.5455991230796332,
          0.5441917310062129,
          0.5430047092966221,
          0.5429838139689414,
          0.5430592901049851,
          0.5408774732449585,
          0.5417228763965483,
          0.5438633680223274,
          0.5405870681975986,
          0.5438781520045121,
          0.5416150804191329,
          0.5429950174582819,
          0.5421698296617304,
          0.5419859985861152,
          0.54283555806019,
          0.5419555573778231,
          0.5418378531506578,
          0.5413908669226876,
          0.5413139943664462,
          0.5411516756480065,
          0.5428243475792389,
          0.5432828554890652,
          0.5424303371572,
          0.5421977184291642,
          0.5442488941510021,
          0.5434393003661242,
          0.5415295045698305,
          0.5432841324709808,
          0.5412883023848123,
          0.5410824745715044,
          0.5423720873999103,
          0.5425116938953181,
          0.5412307340605754,
          0.5426667010562297,
          0.5421102080015118,
          0.5419101617739562,
          0.5422521001341841,
          0.5432205481635649,
          0.5409337533266074,
          0.5429116574040449,
          0.54303353317878,
          0.5426694907585106,
          0.5445727576757498,
          0.5417673136673326,
          0.5424518516235789,
          0.5428232663794078,
          0.5427338186904379,
          0.5433396545516599,
          0.5432418076929236,
          0.5428849901570916,
          0.5404914934219669,
          0.5420641243364265,
          0.541396162040747,
          0.5421965738750145,
          0.5416737914963083,
          0.5419018790236372,
          0.5417105587472693,
          0.5423209376659228,
          0.5429373787630862,
          0.5435245735928883,
          0.5419055164485147,
          0.5428689047728089,
          0.5409118391204085,
          0.5427280489280691,
          0.5411424224243397,
          0.5425424376712891,
          0.5420769232449768,
          0.5419228421473312,
          0.5428383859178108,
          0.542392615051828,
          0.5410122503788031,
          0.5420641472304281,
          0.5434253288831263,
          0.5416282165977647,
          0.5414757667231517,
          0.5421693336126672,
          0.540671631944995,
          0.5418143389354841,
          0.5418094172562654,
          0.5411263691915827,
          0.5417817361065672,
          0.5416653851286738,
          0.5421460193892881,
          0.5420080798781983,
          0.5420361259398825,
          0.5423335473860114,
          0.5421571431068138,
          0.5424407619359785,
          0.5418451438554309,
          0.5409253930360707,
          0.5414335142725296,
          0.5421054104531456,
          0.5431694303674212,
          0.5420246612207704,
          0.5430552950634051,
          0.5417783041734692,
          0.5423585245281652,
          0.5422497962252153,
          0.5419119714051017,
          0.5415964591182914,
          0.5408845379565205,
          0.5428697696068544,
          0.5419038498188483,
          0.5425833927771234,
          0.5422712427975589,
          0.5421025582190296,
          0.5415492325038862,
          0.5426630270828567,
          0.5430327406997993,
          0.54252572083903,
          0.5414480334526716,
          0.5412981401180543,
          0.5415542036103481,
          0.5413898581794786,
          0.5411851868721681,
          0.542527125632654,
          0.5424521400527126,
          0.5426041819504028,
          0.5423317705744362,
          0.5418019170636444,
          0.5426694450220304,
          0.5423347374362721,
          0.5416415697106877,
          0.5413150328294819,
          0.5422608281385194,
          0.5419526581166589,
          0.5428199584697595,
          0.5418891895205733,
          0.5422589249989108,
          0.5429974192321984,
          0.5411461828673928,
          0.5421908941269584,
          0.5410592894282013,
          0.5420570112819468,
          0.5418059198380538,
          0.5415049249091279,
          0.5421195036384922,
          0.5418140381678651,
          0.5422357883177428,
          0.5414663420084957,
          0.5419636267085,
          0.5412277183326037,
          0.5413167027691135,
          0.5438528160517313,
          0.5420443640046152,
          0.5421320296098812,
          0.5415898989821254,
          0.5423499597528271,
          0.542213128832724,
          0.5419732476594781,
          0.5418783956980573,
          0.5419879074507057,
          0.5411973749002031,
          0.541279471438451,
          0.542166451899825
         ],
         "yaxis": "y"
        },
        {
         "hovertemplate": "min_samples_leaf=100<br>num_trees=%{x}<br>value=%{y}<extra></extra>",
         "legendgroup": "100",
         "line": {
          "color": "#9467BD",
          "dash": "solid"
         },
         "marker": {
          "symbol": "circle"
         },
         "mode": "lines",
         "name": "100",
         "showlegend": true,
         "type": "scattergl",
         "x": [
          1,
          2,
          3,
          4,
          5,
          6,
          7,
          8,
          9,
          10,
          11,
          12,
          13,
          14,
          15,
          16,
          17,
          18,
          19,
          20,
          21,
          22,
          23,
          24,
          25,
          26,
          27,
          28,
          29,
          30,
          31,
          32,
          33,
          34,
          35,
          36,
          37,
          38,
          39,
          40,
          41,
          42,
          43,
          44,
          45,
          46,
          47,
          48,
          49,
          50,
          51,
          52,
          53,
          54,
          55,
          56,
          57,
          58,
          59,
          60,
          61,
          62,
          63,
          64,
          65,
          66,
          67,
          68,
          69,
          70,
          71,
          72,
          73,
          74,
          75,
          76,
          77,
          78,
          79,
          80,
          81,
          82,
          83,
          84,
          85,
          86,
          87,
          88,
          89,
          90,
          91,
          92,
          93,
          94,
          95,
          96,
          97,
          98,
          99,
          100,
          101,
          102,
          103,
          104,
          105,
          106,
          107,
          108,
          109,
          110,
          111,
          112,
          113,
          114,
          115,
          116,
          117,
          118,
          119,
          120,
          121,
          122,
          123,
          124,
          125,
          126,
          127,
          128,
          129,
          130,
          131,
          132,
          133,
          134,
          135,
          136,
          137,
          138,
          139,
          140,
          141,
          142,
          143,
          144,
          145,
          146,
          147,
          148,
          149,
          150,
          151,
          152,
          153,
          154,
          155,
          156,
          157,
          158,
          159,
          160,
          161,
          162,
          163,
          164,
          165,
          166,
          167,
          168,
          169,
          170,
          171,
          172,
          173,
          174,
          175,
          176,
          177,
          178,
          179,
          180,
          181,
          182,
          183,
          184,
          185,
          186,
          187,
          188,
          189,
          190,
          191,
          192,
          193,
          194,
          195,
          196,
          197,
          198,
          199,
          200
         ],
         "xaxis": "x",
         "y": [
          0.5761554035345634,
          0.568125790597827,
          0.5681724898587491,
          0.565139155310144,
          0.5630923634569631,
          0.5613556808386069,
          0.5656378928170173,
          0.5634300622824358,
          0.5602300828929425,
          0.5616992574941363,
          0.5631978092542765,
          0.5627887696474326,
          0.560733739414685,
          0.5636516906486138,
          0.5562329161272466,
          0.5644209137637954,
          0.557128012744971,
          0.561501943321759,
          0.5615472176418965,
          0.5586307421402643,
          0.5581940020736477,
          0.5591669176040196,
          0.5617652513423599,
          0.5595105053351206,
          0.5599570347553294,
          0.5591223490019035,
          0.5605198990743486,
          0.559872828076151,
          0.5579197506800064,
          0.5616202239221106,
          0.5576624337149562,
          0.5608580014743535,
          0.5592519099295106,
          0.5595049171998425,
          0.5602934802401769,
          0.5589399999555136,
          0.5591592638543289,
          0.5592899097376077,
          0.5597696897631557,
          0.5590966780655175,
          0.5598589524694083,
          0.5621177080421585,
          0.5587063945777067,
          0.5593447600789729,
          0.5609187640020876,
          0.5600522610927626,
          0.5600793505357656,
          0.5591045057577311,
          0.5583551649851389,
          0.5585348006864365,
          0.5592985125812588,
          0.5575611741291652,
          0.5591565298141665,
          0.5598055541982963,
          0.5589643211761788,
          0.5580663523366923,
          0.5587961908619558,
          0.5594159769023364,
          0.5604943220317777,
          0.5581276614167525,
          0.5595817751379588,
          0.5591580656125554,
          0.5588402378366463,
          0.5592918742368144,
          0.5598158891780382,
          0.5597040204630478,
          0.5589704332005919,
          0.5578747234819988,
          0.5577070851384145,
          0.5593846200657213,
          0.5586172490237199,
          0.5595813918286121,
          0.5585660169981049,
          0.558520280146075,
          0.5596975649731182,
          0.5591469844120218,
          0.5592718408397139,
          0.5593471470203811,
          0.5597950090935768,
          0.5598015808703949,
          0.559234802523893,
          0.5581436125733015,
          0.5592336798405,
          0.558638838199574,
          0.5609863695957039,
          0.5598123938822235,
          0.5591064212305175,
          0.5587051212629931,
          0.5595511648940024,
          0.5580754114864144,
          0.5590118818627666,
          0.5596859956878311,
          0.5588137122192801,
          0.5595100891958611,
          0.5591116013683248,
          0.5594791880270696,
          0.5597221758162122,
          0.5588346306826049,
          0.5575178942304353,
          0.5595636412774361,
          0.5591613963551034,
          0.558693053936758,
          0.5595645024591417,
          0.5585814275224535,
          0.5597292194324618,
          0.5585092314826502,
          0.5591728658338558,
          0.559080946630443,
          0.5575827094346341,
          0.5591215159231108,
          0.560635088856387,
          0.5585067577214838,
          0.5584894045554536,
          0.5586482277857927,
          0.5581673005493569,
          0.5593726450895088,
          0.5592173690404412,
          0.5586698158776253,
          0.5585852565286235,
          0.5596299086555515,
          0.5583085739331778,
          0.5586250299286847,
          0.558420583108845,
          0.5594528807880172,
          0.5592621236009656,
          0.5588625388747628,
          0.5592665415714153,
          0.5595070847939863,
          0.5590109838548579,
          0.5589984594372076,
          0.5595344372059983,
          0.5587835455512227,
          0.5581493651132251,
          0.5598867276456327,
          0.5595074970976079,
          0.5584892099835126,
          0.5584313406365976,
          0.5583993607568271,
          0.5592773274316102,
          0.5593216900723895,
          0.5599471312384948,
          0.5593764696973854,
          0.5587881404532519,
          0.5588119961182798,
          0.5586968735007228,
          0.5595520474013471,
          0.5589736087499361,
          0.559775095178599,
          0.5577217476318168,
          0.5581274699374078,
          0.5582016956093624,
          0.5583581276049232,
          0.5600466924163278,
          0.5583064717061977,
          0.558086454637811,
          0.558626027291873,
          0.5587707643308877,
          0.5591467797432261,
          0.5596920634829905,
          0.558803895500509,
          0.5583610028588254,
          0.5584691718502642,
          0.5597084888164962,
          0.5587847035631344,
          0.5592772109083105,
          0.5594939728679343,
          0.559038053980645,
          0.5593280134786273,
          0.5598529801999902,
          0.5586464839107027,
          0.5592608128766798,
          0.5597607559899692,
          0.5589112544570213,
          0.558918795645506,
          0.5579922136361789,
          0.5591678855430768,
          0.5581905189754068,
          0.5587377138283717,
          0.5590140424511045,
          0.5593099775022018,
          0.5592837437724043,
          0.5587478979918606,
          0.5591406586213424,
          0.5588176520221358,
          0.5578426323604405,
          0.5589003516664369,
          0.5590696393735918,
          0.5594039565617975,
          0.5590144800363018,
          0.5584440270209694,
          0.5590011749171385,
          0.5590962800721881,
          0.5595327548936583,
          0.5595251835901222,
          0.5589634297030506,
          0.5589127191623502,
          0.5597420669125999,
          0.5586933119011154,
          0.5592504503031296,
          0.5588482670147443
         ],
         "yaxis": "y"
        },
        {
         "hovertemplate": "min_samples_leaf=500<br>num_trees=%{x}<br>value=%{y}<extra></extra>",
         "legendgroup": "500",
         "line": {
          "color": "#8C564B",
          "dash": "solid"
         },
         "marker": {
          "symbol": "circle"
         },
         "mode": "lines",
         "name": "500",
         "showlegend": true,
         "type": "scattergl",
         "x": [
          1,
          2,
          3,
          4,
          5,
          6,
          7,
          8,
          9,
          10,
          11,
          12,
          13,
          14,
          15,
          16,
          17,
          18,
          19,
          20,
          21,
          22,
          23,
          24,
          25,
          26,
          27,
          28,
          29,
          30,
          31,
          32,
          33,
          34,
          35,
          36,
          37,
          38,
          39,
          40,
          41,
          42,
          43,
          44,
          45,
          46,
          47,
          48,
          49,
          50,
          51,
          52,
          53,
          54,
          55,
          56,
          57,
          58,
          59,
          60,
          61,
          62,
          63,
          64,
          65,
          66,
          67,
          68,
          69,
          70,
          71,
          72,
          73,
          74,
          75,
          76,
          77,
          78,
          79,
          80,
          81,
          82,
          83,
          84,
          85,
          86,
          87,
          88,
          89,
          90,
          91,
          92,
          93,
          94,
          95,
          96,
          97,
          98,
          99,
          100,
          101,
          102,
          103,
          104,
          105,
          106,
          107,
          108,
          109,
          110,
          111,
          112,
          113,
          114,
          115,
          116,
          117,
          118,
          119,
          120,
          121,
          122,
          123,
          124,
          125,
          126,
          127,
          128,
          129,
          130,
          131,
          132,
          133,
          134,
          135,
          136,
          137,
          138,
          139,
          140,
          141,
          142,
          143,
          144,
          145,
          146,
          147,
          148,
          149,
          150,
          151,
          152,
          153,
          154,
          155,
          156,
          157,
          158,
          159,
          160,
          161,
          162,
          163,
          164,
          165,
          166,
          167,
          168,
          169,
          170,
          171,
          172,
          173,
          174,
          175,
          176,
          177,
          178,
          179,
          180,
          181,
          182,
          183,
          184,
          185,
          186,
          187,
          188,
          189,
          190,
          191,
          192,
          193,
          194,
          195,
          196,
          197,
          198,
          199,
          200
         ],
         "xaxis": "x",
         "y": [
          0.5979336281975212,
          0.5887419888190816,
          0.5874772121975147,
          0.5917714906890121,
          0.5924100086670145,
          0.5888433171644574,
          0.590014305492154,
          0.5919707977668378,
          0.5864306200974072,
          0.5877236711466288,
          0.5887643924459403,
          0.5886389568822926,
          0.5881637617537874,
          0.5880545742863419,
          0.5876775115728583,
          0.5892871107468681,
          0.5901118234275256,
          0.5891134642712378,
          0.5878276292650167,
          0.5894775192063366,
          0.5885326344461871,
          0.5879485558295005,
          0.5890775949985038,
          0.5879452153453887,
          0.5892609677683784,
          0.5908128039889167,
          0.5883730316459308,
          0.5909641053580664,
          0.5883721817709161,
          0.5898332661683653,
          0.5892736065610066,
          0.5886970882014791,
          0.5891399874106992,
          0.5876258072583255,
          0.5891009373018073,
          0.5899549762190501,
          0.5894230936677244,
          0.5892804784144612,
          0.5889807132867568,
          0.5890864477909727,
          0.5905467939375325,
          0.5896772034426886,
          0.590632839426399,
          0.5899889341628294,
          0.5892019564675257,
          0.5902389386597555,
          0.5883328537230597,
          0.5884808875445328,
          0.5895439959855892,
          0.5885742409839985,
          0.589019497180547,
          0.5898600805212662,
          0.5889759387615704,
          0.5891332314247736,
          0.5886919486465639,
          0.5894230128979132,
          0.5898100406680883,
          0.5884959892980366,
          0.5875923073389677,
          0.5889409146963251,
          0.5878603463761031,
          0.5901829086443726,
          0.5886944061919238,
          0.5887407115620198,
          0.5885905167970502,
          0.588436180641999,
          0.5886704259950607,
          0.5887399274376091,
          0.5893428462671294,
          0.5890929365923315,
          0.5893195658033228,
          0.5881843776948896,
          0.5883712531119729,
          0.5896231973089809,
          0.5885957605053915,
          0.5906334402213859,
          0.588872977053136,
          0.5882995429859782,
          0.5880402548914858,
          0.5896453024254266,
          0.5893149119162926,
          0.5895860989418297,
          0.5897993414441574,
          0.588449486442957,
          0.5893155209091051,
          0.5901460168850652,
          0.5888243130225561,
          0.588892744572887,
          0.5887252175784393,
          0.58900249959742,
          0.5892945812332634,
          0.588814760952697,
          0.5894379753831482,
          0.5883436493912614,
          0.5879806473721904,
          0.5898712788784318,
          0.5888671414516311,
          0.5880099943274616,
          0.5884542345836415,
          0.5888482521172869,
          0.589151833472381,
          0.5897015163513366,
          0.5890534327983797,
          0.5873834462598558,
          0.5887944787575614,
          0.5883281121256639,
          0.588679737343104,
          0.5877947748744283,
          0.5891175263228617,
          0.5889009637119935,
          0.5888649624846112,
          0.5887974036451996,
          0.5888652275077858,
          0.5896337440030731,
          0.5895934340689492,
          0.5890824982651328,
          0.587433128671171,
          0.5880740264922399,
          0.5891488499140486,
          0.5900842157630717,
          0.58852912576281,
          0.5891282055596018,
          0.5886522066770017,
          0.5886227506043887,
          0.5881120352413288,
          0.5890133600379954,
          0.5884180763144937,
          0.5888907793946176,
          0.5891623689009344,
          0.5896412501795717,
          0.5884118245842636,
          0.58868847186024,
          0.5894430941310659,
          0.588157285382386,
          0.5889670631567162,
          0.589301982366829,
          0.589406248665127,
          0.5891727648599697,
          0.5899904389646741,
          0.5891733710376931,
          0.5889261338036151,
          0.589289969090646,
          0.5892121119463408,
          0.5885463910173712,
          0.589263881804381,
          0.5884218308247714,
          0.5896558771355318,
          0.5899329679016234,
          0.5897297763275899,
          0.5891566510150399,
          0.5887468031868356,
          0.5886573085033239,
          0.5894794351008735,
          0.5889898987393093,
          0.5887967226727787,
          0.5886750420320359,
          0.5890821884470269,
          0.5887582418003833,
          0.589324535823944,
          0.5888399603179569,
          0.5879402358793209,
          0.5875184219714706,
          0.5881114623294201,
          0.5889176989402972,
          0.5894348724604662,
          0.588779906713194,
          0.58875952262375,
          0.5891938802049874,
          0.5890039395563239,
          0.5892972816022114,
          0.5899289547098535,
          0.5891702308952771,
          0.5896315141538523,
          0.5892388333902704,
          0.5888084548012685,
          0.5880943627431805,
          0.5885550071701844,
          0.5884875612310123,
          0.5883845565085917,
          0.5888375836779854,
          0.5893132418806505,
          0.5892505636139372,
          0.5890293566033603,
          0.5893414613746675,
          0.588786093385678,
          0.5891343248646287,
          0.5886347747793387,
          0.5893009485230934,
          0.5894841622873184,
          0.588666036205646,
          0.589337870873328,
          0.5884042903292539,
          0.5895221004629165,
          0.5890730085976043,
          0.5886269618477404,
          0.5893715330292962,
          0.5887741740933613,
          0.5888035090909408,
          0.588466609959149,
          0.5880378175923799
         ],
         "yaxis": "y"
        },
        {
         "hovertemplate": "min_samples_leaf=1000<br>num_trees=%{x}<br>value=%{y}<extra></extra>",
         "legendgroup": "1000",
         "line": {
          "color": "#E377C2",
          "dash": "solid"
         },
         "marker": {
          "symbol": "circle"
         },
         "mode": "lines",
         "name": "1000",
         "showlegend": true,
         "type": "scattergl",
         "x": [
          1,
          2,
          3,
          4,
          5,
          6,
          7,
          8,
          9,
          10,
          11,
          12,
          13,
          14,
          15,
          16,
          17,
          18,
          19,
          20,
          21,
          22,
          23,
          24,
          25,
          26,
          27,
          28,
          29,
          30,
          31,
          32,
          33,
          34,
          35,
          36,
          37,
          38,
          39,
          40,
          41,
          42,
          43,
          44,
          45,
          46,
          47,
          48,
          49,
          50,
          51,
          52,
          53,
          54,
          55,
          56,
          57,
          58,
          59,
          60,
          61,
          62,
          63,
          64,
          65,
          66,
          67,
          68,
          69,
          70,
          71,
          72,
          73,
          74,
          75,
          76,
          77,
          78,
          79,
          80,
          81,
          82,
          83,
          84,
          85,
          86,
          87,
          88,
          89,
          90,
          91,
          92,
          93,
          94,
          95,
          96,
          97,
          98,
          99,
          100,
          101,
          102,
          103,
          104,
          105,
          106,
          107,
          108,
          109,
          110,
          111,
          112,
          113,
          114,
          115,
          116,
          117,
          118,
          119,
          120,
          121,
          122,
          123,
          124,
          125,
          126,
          127,
          128,
          129,
          130,
          131,
          132,
          133,
          134,
          135,
          136,
          137,
          138,
          139,
          140,
          141,
          142,
          143,
          144,
          145,
          146,
          147,
          148,
          149,
          150,
          151,
          152,
          153,
          154,
          155,
          156,
          157,
          158,
          159,
          160,
          161,
          162,
          163,
          164,
          165,
          166,
          167,
          168,
          169,
          170,
          171,
          172,
          173,
          174,
          175,
          176,
          177,
          178,
          179,
          180,
          181,
          182,
          183,
          184,
          185,
          186,
          187,
          188,
          189,
          190,
          191,
          192,
          193,
          194,
          195,
          196,
          197,
          198,
          199,
          200
         ],
         "xaxis": "x",
         "y": [
          0.65322289449395,
          0.63649804986001,
          0.6427978190055174,
          0.6258835268581785,
          0.631447370610011,
          0.631545504483046,
          0.631145013867977,
          0.6347427439600645,
          0.6314396180921372,
          0.6358540926289449,
          0.6333602270694324,
          0.6273022977084074,
          0.6257033951097847,
          0.6339480789896197,
          0.6345086911488715,
          0.6349148467842558,
          0.6339844689905572,
          0.6318904003999162,
          0.6290334775065604,
          0.6327756087722934,
          0.6366320888347424,
          0.6322823697687947,
          0.6311359315101925,
          0.6351500584152739,
          0.6272846670412775,
          0.6349060590874857,
          0.6386814038392685,
          0.6340707747693091,
          0.6348645531825983,
          0.6285664989321738,
          0.6348972108428993,
          0.6326245402766533,
          0.6406367156851646,
          0.6345977201033122,
          0.6333657572422323,
          0.6332123876150828,
          0.6349903130845029,
          0.6347064509413091,
          0.6298690225275209,
          0.6320408596395883,
          0.6347324819329891,
          0.6325235688949066,
          0.6373568113399161,
          0.6303183772344256,
          0.6338155413399242,
          0.6324117006160396,
          0.6343260582192485,
          0.6338051725986401,
          0.6336321636909786,
          0.6342690355485144,
          0.6318628933657149,
          0.6329354487797206,
          0.6329728205289611,
          0.6359270667100813,
          0.6363143590766664,
          0.6339078431529594,
          0.6338593571754236,
          0.6339818577913648,
          0.6345388634769475,
          0.63320205473977,
          0.6320374404633512,
          0.632651141876697,
          0.6351882163558301,
          0.6325864540474156,
          0.6336088116473517,
          0.6342580048994884,
          0.6320542452051789,
          0.6350808424081255,
          0.6337733304817336,
          0.630305278222573,
          0.6324861184622723,
          0.6335747428585196,
          0.6350270855461466,
          0.6336144619421916,
          0.6348809646053666,
          0.6334610396051982,
          0.6347674116750145,
          0.6323393123755071,
          0.6321055603031381,
          0.6327071989139557,
          0.6316002817326697,
          0.6341351010303018,
          0.6368071927641211,
          0.6359150407356603,
          0.6319957962198421,
          0.634705705251781,
          0.6324318784151782,
          0.6330313131495794,
          0.6358675519908606,
          0.6367322029853129,
          0.63149658707006,
          0.634954264944007,
          0.6340667843359968,
          0.6364383177729103,
          0.6348352217775283,
          0.6338141225758833,
          0.6344088199254467,
          0.6355307786903014,
          0.6353040489314127,
          0.6335767361818594,
          0.6304973583131577,
          0.6333191186002273,
          0.6312591269842406,
          0.6343350730727568,
          0.6322863954583162,
          0.6342458077202411,
          0.6344105595051516,
          0.6321982728992426,
          0.636017655785142,
          0.6329783282266231,
          0.6317862429038349,
          0.6316685487569843,
          0.6325388046732292,
          0.6315598760660888,
          0.6337427623548313,
          0.6332543829993627,
          0.6318808160799362,
          0.6348696126440363,
          0.6348960230153613,
          0.6345043787067479,
          0.6322409113557793,
          0.6330463749528018,
          0.6314723123151434,
          0.6328194962738367,
          0.6330605909142899,
          0.63489740650975,
          0.6316492854971406,
          0.6321108656001471,
          0.6339475911028529,
          0.6329871615170655,
          0.6328453417309088,
          0.6327514405615021,
          0.6327812020703104,
          0.6332349421176204,
          0.6313780017917243,
          0.6345841156992069,
          0.6346615236663662,
          0.6339499825171501,
          0.6326092381272467,
          0.6351063103452911,
          0.633094980998612,
          0.6314343923580874,
          0.6344178592050563,
          0.6325284265680667,
          0.6323851724378654,
          0.6348349017910638,
          0.6337859727851628,
          0.6322958176216885,
          0.6348022740126186,
          0.6307273845795216,
          0.6318478080989637,
          0.6328278015232098,
          0.6352253517213636,
          0.6324191959672626,
          0.6327792116432206,
          0.6314246072756137,
          0.6339097781688504,
          0.6351134540812873,
          0.6329274598125966,
          0.6332345729091512,
          0.6330628722709316,
          0.6348046858428076,
          0.6327912574564906,
          0.632279868595537,
          0.6313733778928001,
          0.6333431354028445,
          0.6340362515618024,
          0.6344098085265324,
          0.6331590901969127,
          0.632302733852228,
          0.631534367168561,
          0.6322743775478236,
          0.6358210158544625,
          0.6329295988193702,
          0.6323190052634851,
          0.633536425470293,
          0.6375518287826089,
          0.6343857384485329,
          0.632057040096133,
          0.6315989222712157,
          0.6327261482801136,
          0.6349515778068852,
          0.6349271415216635,
          0.6305157827042247,
          0.6349689107999658,
          0.6320299466835311,
          0.6326540150825086,
          0.632968323250562,
          0.6324020823978407,
          0.6331036957066093,
          0.6344528469226772,
          0.6346024685030599,
          0.6331941046940955,
          0.6355188090596358,
          0.6360430861910479,
          0.6330877935226601,
          0.6345241291734357,
          0.6330284494811796,
          0.6332822642124092,
          0.6330715708095334
         ],
         "yaxis": "y"
        }
       ],
       "layout": {
        "legend": {
         "title": {
          "text": "min_samples_leaf"
         },
         "tracegroupgap": 0
        },
        "margin": {
         "t": 60
        },
        "template": {
         "data": {
          "bar": [
           {
            "error_x": {
             "color": "rgb(36,36,36)"
            },
            "error_y": {
             "color": "rgb(36,36,36)"
            },
            "marker": {
             "line": {
              "color": "white",
              "width": 0.5
             },
             "pattern": {
              "fillmode": "overlay",
              "size": 10,
              "solidity": 0.2
             }
            },
            "type": "bar"
           }
          ],
          "barpolar": [
           {
            "marker": {
             "line": {
              "color": "white",
              "width": 0.5
             },
             "pattern": {
              "fillmode": "overlay",
              "size": 10,
              "solidity": 0.2
             }
            },
            "type": "barpolar"
           }
          ],
          "carpet": [
           {
            "aaxis": {
             "endlinecolor": "rgb(36,36,36)",
             "gridcolor": "white",
             "linecolor": "white",
             "minorgridcolor": "white",
             "startlinecolor": "rgb(36,36,36)"
            },
            "baxis": {
             "endlinecolor": "rgb(36,36,36)",
             "gridcolor": "white",
             "linecolor": "white",
             "minorgridcolor": "white",
             "startlinecolor": "rgb(36,36,36)"
            },
            "type": "carpet"
           }
          ],
          "choropleth": [
           {
            "colorbar": {
             "outlinewidth": 1,
             "tickcolor": "rgb(36,36,36)",
             "ticks": "outside"
            },
            "type": "choropleth"
           }
          ],
          "contour": [
           {
            "colorbar": {
             "outlinewidth": 1,
             "tickcolor": "rgb(36,36,36)",
             "ticks": "outside"
            },
            "colorscale": [
             [
              0,
              "#440154"
             ],
             [
              0.1111111111111111,
              "#482878"
             ],
             [
              0.2222222222222222,
              "#3e4989"
             ],
             [
              0.3333333333333333,
              "#31688e"
             ],
             [
              0.4444444444444444,
              "#26828e"
             ],
             [
              0.5555555555555556,
              "#1f9e89"
             ],
             [
              0.6666666666666666,
              "#35b779"
             ],
             [
              0.7777777777777778,
              "#6ece58"
             ],
             [
              0.8888888888888888,
              "#b5de2b"
             ],
             [
              1,
              "#fde725"
             ]
            ],
            "type": "contour"
           }
          ],
          "contourcarpet": [
           {
            "colorbar": {
             "outlinewidth": 1,
             "tickcolor": "rgb(36,36,36)",
             "ticks": "outside"
            },
            "type": "contourcarpet"
           }
          ],
          "heatmap": [
           {
            "colorbar": {
             "outlinewidth": 1,
             "tickcolor": "rgb(36,36,36)",
             "ticks": "outside"
            },
            "colorscale": [
             [
              0,
              "#440154"
             ],
             [
              0.1111111111111111,
              "#482878"
             ],
             [
              0.2222222222222222,
              "#3e4989"
             ],
             [
              0.3333333333333333,
              "#31688e"
             ],
             [
              0.4444444444444444,
              "#26828e"
             ],
             [
              0.5555555555555556,
              "#1f9e89"
             ],
             [
              0.6666666666666666,
              "#35b779"
             ],
             [
              0.7777777777777778,
              "#6ece58"
             ],
             [
              0.8888888888888888,
              "#b5de2b"
             ],
             [
              1,
              "#fde725"
             ]
            ],
            "type": "heatmap"
           }
          ],
          "heatmapgl": [
           {
            "colorbar": {
             "outlinewidth": 1,
             "tickcolor": "rgb(36,36,36)",
             "ticks": "outside"
            },
            "colorscale": [
             [
              0,
              "#440154"
             ],
             [
              0.1111111111111111,
              "#482878"
             ],
             [
              0.2222222222222222,
              "#3e4989"
             ],
             [
              0.3333333333333333,
              "#31688e"
             ],
             [
              0.4444444444444444,
              "#26828e"
             ],
             [
              0.5555555555555556,
              "#1f9e89"
             ],
             [
              0.6666666666666666,
              "#35b779"
             ],
             [
              0.7777777777777778,
              "#6ece58"
             ],
             [
              0.8888888888888888,
              "#b5de2b"
             ],
             [
              1,
              "#fde725"
             ]
            ],
            "type": "heatmapgl"
           }
          ],
          "histogram": [
           {
            "marker": {
             "line": {
              "color": "white",
              "width": 0.6
             }
            },
            "type": "histogram"
           }
          ],
          "histogram2d": [
           {
            "colorbar": {
             "outlinewidth": 1,
             "tickcolor": "rgb(36,36,36)",
             "ticks": "outside"
            },
            "colorscale": [
             [
              0,
              "#440154"
             ],
             [
              0.1111111111111111,
              "#482878"
             ],
             [
              0.2222222222222222,
              "#3e4989"
             ],
             [
              0.3333333333333333,
              "#31688e"
             ],
             [
              0.4444444444444444,
              "#26828e"
             ],
             [
              0.5555555555555556,
              "#1f9e89"
             ],
             [
              0.6666666666666666,
              "#35b779"
             ],
             [
              0.7777777777777778,
              "#6ece58"
             ],
             [
              0.8888888888888888,
              "#b5de2b"
             ],
             [
              1,
              "#fde725"
             ]
            ],
            "type": "histogram2d"
           }
          ],
          "histogram2dcontour": [
           {
            "colorbar": {
             "outlinewidth": 1,
             "tickcolor": "rgb(36,36,36)",
             "ticks": "outside"
            },
            "colorscale": [
             [
              0,
              "#440154"
             ],
             [
              0.1111111111111111,
              "#482878"
             ],
             [
              0.2222222222222222,
              "#3e4989"
             ],
             [
              0.3333333333333333,
              "#31688e"
             ],
             [
              0.4444444444444444,
              "#26828e"
             ],
             [
              0.5555555555555556,
              "#1f9e89"
             ],
             [
              0.6666666666666666,
              "#35b779"
             ],
             [
              0.7777777777777778,
              "#6ece58"
             ],
             [
              0.8888888888888888,
              "#b5de2b"
             ],
             [
              1,
              "#fde725"
             ]
            ],
            "type": "histogram2dcontour"
           }
          ],
          "mesh3d": [
           {
            "colorbar": {
             "outlinewidth": 1,
             "tickcolor": "rgb(36,36,36)",
             "ticks": "outside"
            },
            "type": "mesh3d"
           }
          ],
          "parcoords": [
           {
            "line": {
             "colorbar": {
              "outlinewidth": 1,
              "tickcolor": "rgb(36,36,36)",
              "ticks": "outside"
             }
            },
            "type": "parcoords"
           }
          ],
          "pie": [
           {
            "automargin": true,
            "type": "pie"
           }
          ],
          "scatter": [
           {
            "fillpattern": {
             "fillmode": "overlay",
             "size": 10,
             "solidity": 0.2
            },
            "type": "scatter"
           }
          ],
          "scatter3d": [
           {
            "line": {
             "colorbar": {
              "outlinewidth": 1,
              "tickcolor": "rgb(36,36,36)",
              "ticks": "outside"
             }
            },
            "marker": {
             "colorbar": {
              "outlinewidth": 1,
              "tickcolor": "rgb(36,36,36)",
              "ticks": "outside"
             }
            },
            "type": "scatter3d"
           }
          ],
          "scattercarpet": [
           {
            "marker": {
             "colorbar": {
              "outlinewidth": 1,
              "tickcolor": "rgb(36,36,36)",
              "ticks": "outside"
             }
            },
            "type": "scattercarpet"
           }
          ],
          "scattergeo": [
           {
            "marker": {
             "colorbar": {
              "outlinewidth": 1,
              "tickcolor": "rgb(36,36,36)",
              "ticks": "outside"
             }
            },
            "type": "scattergeo"
           }
          ],
          "scattergl": [
           {
            "marker": {
             "colorbar": {
              "outlinewidth": 1,
              "tickcolor": "rgb(36,36,36)",
              "ticks": "outside"
             }
            },
            "type": "scattergl"
           }
          ],
          "scattermapbox": [
           {
            "marker": {
             "colorbar": {
              "outlinewidth": 1,
              "tickcolor": "rgb(36,36,36)",
              "ticks": "outside"
             }
            },
            "type": "scattermapbox"
           }
          ],
          "scatterpolar": [
           {
            "marker": {
             "colorbar": {
              "outlinewidth": 1,
              "tickcolor": "rgb(36,36,36)",
              "ticks": "outside"
             }
            },
            "type": "scatterpolar"
           }
          ],
          "scatterpolargl": [
           {
            "marker": {
             "colorbar": {
              "outlinewidth": 1,
              "tickcolor": "rgb(36,36,36)",
              "ticks": "outside"
             }
            },
            "type": "scatterpolargl"
           }
          ],
          "scatterternary": [
           {
            "marker": {
             "colorbar": {
              "outlinewidth": 1,
              "tickcolor": "rgb(36,36,36)",
              "ticks": "outside"
             }
            },
            "type": "scatterternary"
           }
          ],
          "surface": [
           {
            "colorbar": {
             "outlinewidth": 1,
             "tickcolor": "rgb(36,36,36)",
             "ticks": "outside"
            },
            "colorscale": [
             [
              0,
              "#440154"
             ],
             [
              0.1111111111111111,
              "#482878"
             ],
             [
              0.2222222222222222,
              "#3e4989"
             ],
             [
              0.3333333333333333,
              "#31688e"
             ],
             [
              0.4444444444444444,
              "#26828e"
             ],
             [
              0.5555555555555556,
              "#1f9e89"
             ],
             [
              0.6666666666666666,
              "#35b779"
             ],
             [
              0.7777777777777778,
              "#6ece58"
             ],
             [
              0.8888888888888888,
              "#b5de2b"
             ],
             [
              1,
              "#fde725"
             ]
            ],
            "type": "surface"
           }
          ],
          "table": [
           {
            "cells": {
             "fill": {
              "color": "rgb(237,237,237)"
             },
             "line": {
              "color": "white"
             }
            },
            "header": {
             "fill": {
              "color": "rgb(217,217,217)"
             },
             "line": {
              "color": "white"
             }
            },
            "type": "table"
           }
          ]
         },
         "layout": {
          "annotationdefaults": {
           "arrowhead": 0,
           "arrowwidth": 1
          },
          "autotypenumbers": "strict",
          "coloraxis": {
           "colorbar": {
            "outlinewidth": 1,
            "tickcolor": "rgb(36,36,36)",
            "ticks": "outside"
           }
          },
          "colorscale": {
           "diverging": [
            [
             0,
             "rgb(103,0,31)"
            ],
            [
             0.1,
             "rgb(178,24,43)"
            ],
            [
             0.2,
             "rgb(214,96,77)"
            ],
            [
             0.3,
             "rgb(244,165,130)"
            ],
            [
             0.4,
             "rgb(253,219,199)"
            ],
            [
             0.5,
             "rgb(247,247,247)"
            ],
            [
             0.6,
             "rgb(209,229,240)"
            ],
            [
             0.7,
             "rgb(146,197,222)"
            ],
            [
             0.8,
             "rgb(67,147,195)"
            ],
            [
             0.9,
             "rgb(33,102,172)"
            ],
            [
             1,
             "rgb(5,48,97)"
            ]
           ],
           "sequential": [
            [
             0,
             "#440154"
            ],
            [
             0.1111111111111111,
             "#482878"
            ],
            [
             0.2222222222222222,
             "#3e4989"
            ],
            [
             0.3333333333333333,
             "#31688e"
            ],
            [
             0.4444444444444444,
             "#26828e"
            ],
            [
             0.5555555555555556,
             "#1f9e89"
            ],
            [
             0.6666666666666666,
             "#35b779"
            ],
            [
             0.7777777777777778,
             "#6ece58"
            ],
            [
             0.8888888888888888,
             "#b5de2b"
            ],
            [
             1,
             "#fde725"
            ]
           ],
           "sequentialminus": [
            [
             0,
             "#440154"
            ],
            [
             0.1111111111111111,
             "#482878"
            ],
            [
             0.2222222222222222,
             "#3e4989"
            ],
            [
             0.3333333333333333,
             "#31688e"
            ],
            [
             0.4444444444444444,
             "#26828e"
            ],
            [
             0.5555555555555556,
             "#1f9e89"
            ],
            [
             0.6666666666666666,
             "#35b779"
            ],
            [
             0.7777777777777778,
             "#6ece58"
            ],
            [
             0.8888888888888888,
             "#b5de2b"
            ],
            [
             1,
             "#fde725"
            ]
           ]
          },
          "colorway": [
           "#1F77B4",
           "#FF7F0E",
           "#2CA02C",
           "#D62728",
           "#9467BD",
           "#8C564B",
           "#E377C2",
           "#7F7F7F",
           "#BCBD22",
           "#17BECF"
          ],
          "font": {
           "color": "rgb(36,36,36)"
          },
          "geo": {
           "bgcolor": "white",
           "lakecolor": "white",
           "landcolor": "white",
           "showlakes": true,
           "showland": true,
           "subunitcolor": "white"
          },
          "hoverlabel": {
           "align": "left"
          },
          "hovermode": "closest",
          "mapbox": {
           "style": "light"
          },
          "paper_bgcolor": "white",
          "plot_bgcolor": "white",
          "polar": {
           "angularaxis": {
            "gridcolor": "rgb(232,232,232)",
            "linecolor": "rgb(36,36,36)",
            "showgrid": false,
            "showline": true,
            "ticks": "outside"
           },
           "bgcolor": "white",
           "radialaxis": {
            "gridcolor": "rgb(232,232,232)",
            "linecolor": "rgb(36,36,36)",
            "showgrid": false,
            "showline": true,
            "ticks": "outside"
           }
          },
          "scene": {
           "xaxis": {
            "backgroundcolor": "white",
            "gridcolor": "rgb(232,232,232)",
            "gridwidth": 2,
            "linecolor": "rgb(36,36,36)",
            "showbackground": true,
            "showgrid": false,
            "showline": true,
            "ticks": "outside",
            "zeroline": false,
            "zerolinecolor": "rgb(36,36,36)"
           },
           "yaxis": {
            "backgroundcolor": "white",
            "gridcolor": "rgb(232,232,232)",
            "gridwidth": 2,
            "linecolor": "rgb(36,36,36)",
            "showbackground": true,
            "showgrid": false,
            "showline": true,
            "ticks": "outside",
            "zeroline": false,
            "zerolinecolor": "rgb(36,36,36)"
           },
           "zaxis": {
            "backgroundcolor": "white",
            "gridcolor": "rgb(232,232,232)",
            "gridwidth": 2,
            "linecolor": "rgb(36,36,36)",
            "showbackground": true,
            "showgrid": false,
            "showline": true,
            "ticks": "outside",
            "zeroline": false,
            "zerolinecolor": "rgb(36,36,36)"
           }
          },
          "shapedefaults": {
           "fillcolor": "black",
           "line": {
            "width": 0
           },
           "opacity": 0.3
          },
          "ternary": {
           "aaxis": {
            "gridcolor": "rgb(232,232,232)",
            "linecolor": "rgb(36,36,36)",
            "showgrid": false,
            "showline": true,
            "ticks": "outside"
           },
           "baxis": {
            "gridcolor": "rgb(232,232,232)",
            "linecolor": "rgb(36,36,36)",
            "showgrid": false,
            "showline": true,
            "ticks": "outside"
           },
           "bgcolor": "white",
           "caxis": {
            "gridcolor": "rgb(232,232,232)",
            "linecolor": "rgb(36,36,36)",
            "showgrid": false,
            "showline": true,
            "ticks": "outside"
           }
          },
          "title": {
           "x": 0.05
          },
          "xaxis": {
           "automargin": true,
           "gridcolor": "rgb(232,232,232)",
           "linecolor": "rgb(36,36,36)",
           "showgrid": false,
           "showline": true,
           "ticks": "outside",
           "title": {
            "standoff": 15
           },
           "zeroline": false,
           "zerolinecolor": "rgb(36,36,36)"
          },
          "yaxis": {
           "automargin": true,
           "gridcolor": "rgb(232,232,232)",
           "linecolor": "rgb(36,36,36)",
           "showgrid": false,
           "showline": true,
           "ticks": "outside",
           "title": {
            "standoff": 15
           },
           "zeroline": false,
           "zerolinecolor": "rgb(36,36,36)"
          }
         }
        },
        "xaxis": {
         "anchor": "y",
         "domain": [
          0,
          1
         ],
         "title": {
          "text": "num_trees"
         }
        },
        "yaxis": {
         "anchor": "x",
         "domain": [
          0,
          1
         ],
         "title": {
          "text": "value"
         }
        }
       }
      },
      "text/html": [
       "<div>                            <div id=\"efcd4a54-22cf-4892-b992-24e139006082\" class=\"plotly-graph-div\" style=\"height:525px; width:100%;\"></div>            <script type=\"text/javascript\">                require([\"plotly\"], function(Plotly) {                    window.PLOTLYENV=window.PLOTLYENV || {};                                    if (document.getElementById(\"efcd4a54-22cf-4892-b992-24e139006082\")) {                    Plotly.newPlot(                        \"efcd4a54-22cf-4892-b992-24e139006082\",                        [{\"hovertemplate\":\"min_samples_leaf=1<br>num_trees=%{x}<br>value=%{y}<extra></extra>\",\"legendgroup\":\"1\",\"line\":{\"color\":\"#1F77B4\",\"dash\":\"solid\"},\"marker\":{\"symbol\":\"circle\"},\"mode\":\"lines\",\"name\":\"1\",\"showlegend\":true,\"x\":[1,2,3,4,5,6,7,8,9,10,11,12,13,14,15,16,17,18,19,20,21,22,23,24,25,26,27,28,29,30,31,32,33,34,35,36,37,38,39,40,41,42,43,44,45,46,47,48,49,50,51,52,53,54,55,56,57,58,59,60,61,62,63,64,65,66,67,68,69,70,71,72,73,74,75,76,77,78,79,80,81,82,83,84,85,86,87,88,89,90,91,92,93,94,95,96,97,98,99,100,101,102,103,104,105,106,107,108,109,110,111,112,113,114,115,116,117,118,119,120,121,122,123,124,125,126,127,128,129,130,131,132,133,134,135,136,137,138,139,140,141,142,143,144,145,146,147,148,149,150,151,152,153,154,155,156,157,158,159,160,161,162,163,164,165,166,167,168,169,170,171,172,173,174,175,176,177,178,179,180,181,182,183,184,185,186,187,188,189,190,191,192,193,194,195,196,197,198,199,200],\"xaxis\":\"x\",\"y\":[0.54,0.5019230769230769,0.4925641025641025,0.47365384615384615,0.4750769230769232,0.4651282051282052,0.46681318681318695,0.4650961538461538,0.4628205128205128,0.47107692307692295,0.4544055944055944,0.4551282051282052,0.46165680473372783,0.45318681318681314,0.44661538461538475,0.45778846153846153,0.45411764705882346,0.4486752136752136,0.45886639676113367,0.4581923076923077,0.4495970695970696,0.4427622377622378,0.4444816053511706,0.44333333333333336,0.4516923076923077,0.44730769230769224,0.4469515669515669,0.4468131868131868,0.4427586206896552,0.4502051282051281,0.4393548387096773,0.4503125,0.4373426573426572,0.4416063348416289,0.44303296703296696,0.4359188034188034,0.44459459459459455,0.4443522267206478,0.4469230769230769,0.44298076923076923,0.4436022514071295,0.445018315018315,0.4470304114490162,0.4440034965034965,0.4415213675213675,0.4432274247491638,0.44392798690671037,0.4411378205128206,0.4378649921507064,0.4354,0.44651583710407233,0.44088757396449707,0.4405515239477504,0.43947293447293445,0.4359020979020979,0.4437087912087912,0.4439136302294197,0.4409151193633953,0.4411734028683181,0.44364102564102564,0.4397604035308953,0.4338089330024814,0.4382539682539683,0.43789663461538464,0.4369940828402367,0.4442424242424243,0.4394948335246843,0.44009049773755654,0.4399442586399109,0.4362747252747253,0.4433369447453954,0.44159188034188046,0.4424868282402529,0.4412681912681913,0.43911794871794874,0.44394736842105254,0.4411288711288711,0.4443885601577909,0.43883154819863684,0.4411346153846154,0.4374358974358975,0.43969981238273914,0.43893419833178865,0.4430586080586081,0.43582805429864246,0.4394007155635063,0.4375685234305924,0.43995629370629363,0.43840968020743304,0.438068376068376,0.44092138630600175,0.4404598662207358,0.44217535153019016,0.4396726677577742,0.43967611336032386,0.4406009615384615,0.4379460745440126,0.4403767660910518,0.4378943278943279,0.437776923076923,0.43763899466869766,0.43800904977375565,0.4356310679611651,0.4383431952662722,0.43414652014652017,0.44505805515239477,0.43779295470884266,0.43759971509971507,0.4385391672547636,0.43930069930069926,0.43773388773388766,0.439065934065934,0.43780122532334925,0.438272604588394,0.43679598662207353,0.44074270557029177,0.44059171597633134,0.43684485006518914,0.4358435681965093,0.43898717948717947,0.43814367450731073,0.4406620428751576,0.44029393370856784,0.4383126550868486,0.4393969230769232,0.43788766788766786,0.4411508176862507,0.43963341346153845,0.43881932021466913,0.4360532544378698,0.4383734586024661,0.43902097902097903,0.4371197223828803,0.43730195177956377,0.4407863247863248,0.4360011312217195,0.43661426165075806,0.4390468227424749,0.43700608743774216,0.4386758241758242,0.4374358974358974,0.4386511375947996,0.4410704679935449,0.438616452991453,0.43585145888594157,0.4384720758693362,0.43942961800104663,0.4371881496881497,0.4356375838926175,0.438574358974359,0.43906775343861437,0.43661437246963564,0.43897435897435894,0.44109390609390614,0.4360694789081886,0.4376824457593688,0.4362469377756002,0.43513631937682573,0.43592162554426717,0.44060576923076916,0.43685618729097,0.4378395061728395,0.43894761680037747,0.43912757973733574,0.43414918414918413,0.43625579240037077,0.4367618608935975,0.439720695970696,0.43496586253982705,0.4401538461538462,0.4375393612235717,0.4399239713774597,0.43741662961316147,0.43811671087533155,0.4368615384615384,0.4367875874125874,0.43545415036940455,0.43758426966292135,0.4408981521272023,0.4367264957264958,0.4354398640033999,0.4393913778529163,0.43844892812105923,0.43686036789297655,0.438977130977131,0.43771298593879243,0.43671328671328674,0.4370458265139116,0.43926332926332934,0.438421052631579,0.4377406363270237,0.43635416666666665,0.4352172180151455,0.43637589214908795,0.4385128205128205,0.4370839874411303,0.4372081218274112,0.43688422688422685,0.4348086586780054,0.43684999999999996],\"yaxis\":\"y\",\"type\":\"scattergl\"},{\"hovertemplate\":\"min_samples_leaf=5<br>num_trees=%{x}<br>value=%{y}<extra></extra>\",\"legendgroup\":\"5\",\"line\":{\"color\":\"#FF7F0E\",\"dash\":\"solid\"},\"marker\":{\"symbol\":\"circle\"},\"mode\":\"lines\",\"name\":\"5\",\"showlegend\":true,\"x\":[1,2,3,4,5,6,7,8,9,10,11,12,13,14,15,16,17,18,19,20,21,22,23,24,25,26,27,28,29,30,31,32,33,34,35,36,37,38,39,40,41,42,43,44,45,46,47,48,49,50,51,52,53,54,55,56,57,58,59,60,61,62,63,64,65,66,67,68,69,70,71,72,73,74,75,76,77,78,79,80,81,82,83,84,85,86,87,88,89,90,91,92,93,94,95,96,97,98,99,100,101,102,103,104,105,106,107,108,109,110,111,112,113,114,115,116,117,118,119,120,121,122,123,124,125,126,127,128,129,130,131,132,133,134,135,136,137,138,139,140,141,142,143,144,145,146,147,148,149,150,151,152,153,154,155,156,157,158,159,160,161,162,163,164,165,166,167,168,169,170,171,172,173,174,175,176,177,178,179,180,181,182,183,184,185,186,187,188,189,190,191,192,193,194,195,196,197,198,199,200],\"xaxis\":\"x\",\"y\":[0.6079457429197248,0.5529249908389882,0.5314042519966252,0.5233736831590785,0.5079058421342934,0.5030926533223509,0.5048331390656732,0.49390646200659377,0.49514930500559357,0.4939312424561355,0.48967064663489673,0.49056902136648706,0.4901634068210314,0.4875673829493766,0.48832449744948675,0.4928055704054997,0.48634270956861464,0.4895101136669788,0.4853865199695316,0.49248009433957507,0.48722633022515904,0.4813972983060309,0.4848302387903264,0.4806524153144648,0.4870218584716161,0.48193455466209273,0.4806036269656166,0.48165531738992917,0.48112011560656864,0.4799243124713567,0.4839122462978409,0.4863327587056208,0.48371755516330633,0.48474387310222544,0.4784669881009628,0.48332125185034364,0.48180647306939817,0.4840336507006966,0.4805565272043019,0.48175839754550315,0.4814468582903823,0.4823667830545815,0.482743178974842,0.4821337997881132,0.482393604698868,0.4820752549187058,0.48236256177614484,0.48038223898655324,0.4793220910421258,0.4787787331023128,0.4792186675607312,0.48007718305296426,0.4805053466928638,0.4777912467302272,0.47790445285609445,0.4786414986595312,0.480421495137887,0.48087422847147343,0.47804548876713293,0.4795064337119988,0.4796929483674571,0.48252181371560393,0.47713701227521893,0.4802735178573119,0.47928997967434567,0.4805741793373084,0.4777768577033187,0.47951399256077504,0.47972815530028506,0.4767529284648974,0.47847680836159706,0.4785038690198663,0.4790696003634574,0.48014517199272044,0.479399372796049,0.4812849172819245,0.4773323942108375,0.4785242794497848,0.47973594697628946,0.4804741470218095,0.477407610342012,0.4800880827226253,0.48174387350791675,0.4786454264820895,0.47820222976757665,0.4753045176617876,0.4803109871967354,0.478840795688478,0.4812666373000514,0.47733814735389773,0.47759551164157793,0.479421609804333,0.4760056101501026,0.47704532752654333,0.47755739791103485,0.4813820535651117,0.4788593129241321,0.4806738577926425,0.48053621427087206,0.48035041078748025,0.4774063367415271,0.4751667187287161,0.477533869063895,0.4780420486618324,0.47866127832928423,0.4808712857425297,0.4784481894033617,0.47859389453631995,0.4781652307429446,0.4795072368864855,0.4788547669899629,0.47815823117801615,0.4779460357207304,0.4791148849680813,0.4821208176534665,0.4780997156117342,0.47634714461717786,0.47606444481951327,0.4798058310330776,0.4801206280716818,0.4780152559784296,0.47976817137146205,0.47945411059051146,0.47719197563940297,0.47742610169271826,0.47841025629859335,0.48197616644111296,0.47778776411234486,0.47783784099599075,0.47851119237487655,0.4767755766664068,0.47688354642604963,0.47744268465654943,0.4777561971907278,0.47844616950339897,0.4793362004160267,0.48085012082336054,0.47564628742137693,0.4772245853294792,0.4780642263444545,0.4769779490407805,0.47796694991199346,0.47592326539901514,0.47942969075660286,0.4763633578703387,0.4794453448300781,0.4799518161167366,0.4778072558757813,0.4785347273916868,0.4772519148464061,0.47921775673799544,0.4783076405867793,0.4779434118876191,0.4799317634017091,0.48021613909950334,0.4790498172524786,0.4762214720810193,0.4781228421938214,0.476230758811297,0.4779123395434247,0.4788838486796031,0.4767639170427731,0.4768579996905247,0.4778559322577921,0.4760138197623179,0.47837475757311704,0.4782891804227,0.47915402136041796,0.47824917102320097,0.47650640309304715,0.4773334873013672,0.47773870137006386,0.47815769704128736,0.47762657053378216,0.47616955406612443,0.4784891169876026,0.476883749369528,0.4764256232461895,0.4779311565357616,0.4785504475882748,0.47824537893230795,0.478803866895489,0.4771259155878793,0.47858067692162687,0.4770948607128787,0.47923915546094875,0.47870887403502926,0.4786360191033886,0.47749586972769154,0.4759914534469319,0.47918252232000574,0.4776671956356619,0.47999908486031717,0.4772053444816202,0.4779688962737721,0.479655991745287,0.4768157026793587,0.47803720456714516,0.4789691609066037,0.47696619179229366],\"yaxis\":\"y\",\"type\":\"scattergl\"},{\"hovertemplate\":\"min_samples_leaf=10<br>num_trees=%{x}<br>value=%{y}<extra></extra>\",\"legendgroup\":\"10\",\"line\":{\"color\":\"#2CA02C\",\"dash\":\"solid\"},\"marker\":{\"symbol\":\"circle\"},\"mode\":\"lines\",\"name\":\"10\",\"showlegend\":true,\"x\":[1,2,3,4,5,6,7,8,9,10,11,12,13,14,15,16,17,18,19,20,21,22,23,24,25,26,27,28,29,30,31,32,33,34,35,36,37,38,39,40,41,42,43,44,45,46,47,48,49,50,51,52,53,54,55,56,57,58,59,60,61,62,63,64,65,66,67,68,69,70,71,72,73,74,75,76,77,78,79,80,81,82,83,84,85,86,87,88,89,90,91,92,93,94,95,96,97,98,99,100,101,102,103,104,105,106,107,108,109,110,111,112,113,114,115,116,117,118,119,120,121,122,123,124,125,126,127,128,129,130,131,132,133,134,135,136,137,138,139,140,141,142,143,144,145,146,147,148,149,150,151,152,153,154,155,156,157,158,159,160,161,162,163,164,165,166,167,168,169,170,171,172,173,174,175,176,177,178,179,180,181,182,183,184,185,186,187,188,189,190,191,192,193,194,195,196,197,198,199,200],\"xaxis\":\"x\",\"y\":[0.587209793219701,0.551599706694949,0.5400353432420146,0.5240265263765437,0.5234335873085222,0.5130289061596718,0.5148480865525717,0.5185993673760576,0.5151505467500711,0.5172149130520027,0.5108512335482471,0.5130081647626112,0.5030672405779592,0.5067952514975349,0.5083773980211573,0.5023435046910766,0.5103900181239309,0.508333576140352,0.5040768609636325,0.5076783607230525,0.5001435281179567,0.5053095386426156,0.5052133189663888,0.5027519437491861,0.507460930815512,0.5018104861549892,0.503805652197319,0.5032143579022639,0.5052547263895149,0.5032443342087766,0.504219077247061,0.5042669000126986,0.5076631774425071,0.5095500960451653,0.502184740650196,0.5049086332087637,0.5048640068553975,0.5041781182438355,0.500929805365514,0.5047006685434029,0.5068060536238,0.5043772887103717,0.501414768520247,0.5023427736673877,0.50286809915452,0.5015030349362362,0.5016490363289541,0.5046130958722994,0.5051699560291161,0.5012418170749661,0.503718166537659,0.4997604690900413,0.5036597454078309,0.5039554652176174,0.5040045977125682,0.5006219434279495,0.49883060646813404,0.5030371543657349,0.5046897377511705,0.5024577662158893,0.501845770063322,0.5013688146477019,0.5013976827056955,0.5016441920368615,0.4994428285843943,0.5022236592955498,0.5017483700279299,0.5003664030534348,0.5029861782953027,0.5007208857616008,0.5046863575769981,0.503582830407834,0.5010189631730413,0.5014058972677523,0.5038142540198687,0.5004897634421629,0.5014790203656104,0.5025674957220512,0.5036531488784203,0.5010772182703185,0.502301666403909,0.49990312601945275,0.5039904925680523,0.5032943019425786,0.4990394595978154,0.5042665304891578,0.5031428808544066,0.502725159378456,0.49954930651894214,0.5028556113912305,0.5029189446928815,0.5025213523101428,0.5004440870884002,0.5000628497405033,0.5015455577377665,0.5038839619414692,0.5038203168652926,0.5011928340318897,0.500855457869439,0.5001121360730885,0.5008029688801928,0.5017653246143244,0.5015234954366125,0.501919881780592,0.5013544322044179,0.5034212427186942,0.5026623499766855,0.5006645881235126,0.5029577306968215,0.5020150401268393,0.5030768675397117,0.4998889713533131,0.5004949144699589,0.5008025886031555,0.5023872549909264,0.5003875760389178,0.5028860356323649,0.49997670167407215,0.5009198107185624,0.499763701692921,0.5001286675018979,0.5024786537401045,0.5014984379725889,0.501522819432558,0.5036051396104957,0.5029917504982945,0.5022198231006189,0.49971557068679257,0.5019345961888861,0.5009939623884557,0.5030017542281934,0.49956590088663533,0.5021768049348013,0.5024281327047313,0.5001196735491463,0.5023362355528743,0.5013540533777676,0.5011320438707604,0.502091244246279,0.5018733863802896,0.5002242403039802,0.5032351371595882,0.49985411044931005,0.5022640168561588,0.4994162688074838,0.5018928459393005,0.5013713017110151,0.5007679443137835,0.5022504463022137,0.501513303551495,0.4997685768164506,0.5014572751687155,0.5002388461960295,0.5016937824402833,0.5018395599259277,0.4998414458359464,0.5011981942441539,0.5014986313246143,0.5001037468735292,0.5006135883054595,0.5017287578146342,0.5012167344863802,0.5011870073949889,0.5009982695083492,0.5011377892402298,0.501799079693285,0.5003793506614274,0.5014442779008237,0.5001117900336488,0.4999814271344226,0.5011493260260884,0.5021056276480715,0.501133159671642,0.5016269336856244,0.5014748919277942,0.5015131126275357,0.5004792060641969,0.5018099527090583,0.501328340857545,0.4999682832197534,0.499619240982063,0.5004929120734549,0.5015859107746321,0.500071975585575,0.5014610889825667,0.5008832197030072,0.5007298571207811,0.5005576916203417,0.5032157869054341,0.4991304973123001,0.5007095028363467,0.50065328523319,0.5023090176216699,0.5006412641978071,0.500461806895818,0.5015649902680782,0.5011502137972502,0.5002829825810405,0.5022184812841052,0.5008201301204919],\"yaxis\":\"y\",\"type\":\"scattergl\"},{\"hovertemplate\":\"min_samples_leaf=50<br>num_trees=%{x}<br>value=%{y}<extra></extra>\",\"legendgroup\":\"50\",\"line\":{\"color\":\"#D62728\",\"dash\":\"solid\"},\"marker\":{\"symbol\":\"circle\"},\"mode\":\"lines\",\"name\":\"50\",\"showlegend\":true,\"x\":[1,2,3,4,5,6,7,8,9,10,11,12,13,14,15,16,17,18,19,20,21,22,23,24,25,26,27,28,29,30,31,32,33,34,35,36,37,38,39,40,41,42,43,44,45,46,47,48,49,50,51,52,53,54,55,56,57,58,59,60,61,62,63,64,65,66,67,68,69,70,71,72,73,74,75,76,77,78,79,80,81,82,83,84,85,86,87,88,89,90,91,92,93,94,95,96,97,98,99,100,101,102,103,104,105,106,107,108,109,110,111,112,113,114,115,116,117,118,119,120,121,122,123,124,125,126,127,128,129,130,131,132,133,134,135,136,137,138,139,140,141,142,143,144,145,146,147,148,149,150,151,152,153,154,155,156,157,158,159,160,161,162,163,164,165,166,167,168,169,170,171,172,173,174,175,176,177,178,179,180,181,182,183,184,185,186,187,188,189,190,191,192,193,194,195,196,197,198,199,200],\"xaxis\":\"x\",\"y\":[0.5823449220164446,0.56013308138776,0.5508122705103342,0.5508281247343517,0.5470164636573153,0.5531435686318661,0.5488820784795106,0.5478878607732507,0.5466966184326183,0.5432940449656598,0.5474456713543437,0.5420156207420268,0.5444692397555402,0.5462917618525918,0.5454304733315443,0.5435986437839965,0.5405991663524461,0.5463590916402814,0.5429072932834292,0.5428729642477625,0.5410916342282773,0.5441276266084579,0.544203308183954,0.5426831790640639,0.5435029899618893,0.5434360382922189,0.5419366813686322,0.5475501662734833,0.5421583520669754,0.5421646346337675,0.5439527071512752,0.5427206074927372,0.5422670606389268,0.5446822898620056,0.5432246222696391,0.5414334292666579,0.5420090121579504,0.5443797591512735,0.5413717706647857,0.540917477518655,0.541284831553363,0.5424331455773659,0.5405295908785052,0.5405206028876554,0.5427909756134331,0.5455991230796332,0.5441917310062129,0.5430047092966221,0.5429838139689414,0.5430592901049851,0.5408774732449585,0.5417228763965483,0.5438633680223274,0.5405870681975986,0.5438781520045121,0.5416150804191329,0.5429950174582819,0.5421698296617304,0.5419859985861152,0.54283555806019,0.5419555573778231,0.5418378531506578,0.5413908669226876,0.5413139943664462,0.5411516756480065,0.5428243475792389,0.5432828554890652,0.5424303371572,0.5421977184291642,0.5442488941510021,0.5434393003661242,0.5415295045698305,0.5432841324709808,0.5412883023848123,0.5410824745715044,0.5423720873999103,0.5425116938953181,0.5412307340605754,0.5426667010562297,0.5421102080015118,0.5419101617739562,0.5422521001341841,0.5432205481635649,0.5409337533266074,0.5429116574040449,0.54303353317878,0.5426694907585106,0.5445727576757498,0.5417673136673326,0.5424518516235789,0.5428232663794078,0.5427338186904379,0.5433396545516599,0.5432418076929236,0.5428849901570916,0.5404914934219669,0.5420641243364265,0.541396162040747,0.5421965738750145,0.5416737914963083,0.5419018790236372,0.5417105587472693,0.5423209376659228,0.5429373787630862,0.5435245735928883,0.5419055164485147,0.5428689047728089,0.5409118391204085,0.5427280489280691,0.5411424224243397,0.5425424376712891,0.5420769232449768,0.5419228421473312,0.5428383859178108,0.542392615051828,0.5410122503788031,0.5420641472304281,0.5434253288831263,0.5416282165977647,0.5414757667231517,0.5421693336126672,0.540671631944995,0.5418143389354841,0.5418094172562654,0.5411263691915827,0.5417817361065672,0.5416653851286738,0.5421460193892881,0.5420080798781983,0.5420361259398825,0.5423335473860114,0.5421571431068138,0.5424407619359785,0.5418451438554309,0.5409253930360707,0.5414335142725296,0.5421054104531456,0.5431694303674212,0.5420246612207704,0.5430552950634051,0.5417783041734692,0.5423585245281652,0.5422497962252153,0.5419119714051017,0.5415964591182914,0.5408845379565205,0.5428697696068544,0.5419038498188483,0.5425833927771234,0.5422712427975589,0.5421025582190296,0.5415492325038862,0.5426630270828567,0.5430327406997993,0.54252572083903,0.5414480334526716,0.5412981401180543,0.5415542036103481,0.5413898581794786,0.5411851868721681,0.542527125632654,0.5424521400527126,0.5426041819504028,0.5423317705744362,0.5418019170636444,0.5426694450220304,0.5423347374362721,0.5416415697106877,0.5413150328294819,0.5422608281385194,0.5419526581166589,0.5428199584697595,0.5418891895205733,0.5422589249989108,0.5429974192321984,0.5411461828673928,0.5421908941269584,0.5410592894282013,0.5420570112819468,0.5418059198380538,0.5415049249091279,0.5421195036384922,0.5418140381678651,0.5422357883177428,0.5414663420084957,0.5419636267085,0.5412277183326037,0.5413167027691135,0.5438528160517313,0.5420443640046152,0.5421320296098812,0.5415898989821254,0.5423499597528271,0.542213128832724,0.5419732476594781,0.5418783956980573,0.5419879074507057,0.5411973749002031,0.541279471438451,0.542166451899825],\"yaxis\":\"y\",\"type\":\"scattergl\"},{\"hovertemplate\":\"min_samples_leaf=100<br>num_trees=%{x}<br>value=%{y}<extra></extra>\",\"legendgroup\":\"100\",\"line\":{\"color\":\"#9467BD\",\"dash\":\"solid\"},\"marker\":{\"symbol\":\"circle\"},\"mode\":\"lines\",\"name\":\"100\",\"showlegend\":true,\"x\":[1,2,3,4,5,6,7,8,9,10,11,12,13,14,15,16,17,18,19,20,21,22,23,24,25,26,27,28,29,30,31,32,33,34,35,36,37,38,39,40,41,42,43,44,45,46,47,48,49,50,51,52,53,54,55,56,57,58,59,60,61,62,63,64,65,66,67,68,69,70,71,72,73,74,75,76,77,78,79,80,81,82,83,84,85,86,87,88,89,90,91,92,93,94,95,96,97,98,99,100,101,102,103,104,105,106,107,108,109,110,111,112,113,114,115,116,117,118,119,120,121,122,123,124,125,126,127,128,129,130,131,132,133,134,135,136,137,138,139,140,141,142,143,144,145,146,147,148,149,150,151,152,153,154,155,156,157,158,159,160,161,162,163,164,165,166,167,168,169,170,171,172,173,174,175,176,177,178,179,180,181,182,183,184,185,186,187,188,189,190,191,192,193,194,195,196,197,198,199,200],\"xaxis\":\"x\",\"y\":[0.5761554035345634,0.568125790597827,0.5681724898587491,0.565139155310144,0.5630923634569631,0.5613556808386069,0.5656378928170173,0.5634300622824358,0.5602300828929425,0.5616992574941363,0.5631978092542765,0.5627887696474326,0.560733739414685,0.5636516906486138,0.5562329161272466,0.5644209137637954,0.557128012744971,0.561501943321759,0.5615472176418965,0.5586307421402643,0.5581940020736477,0.5591669176040196,0.5617652513423599,0.5595105053351206,0.5599570347553294,0.5591223490019035,0.5605198990743486,0.559872828076151,0.5579197506800064,0.5616202239221106,0.5576624337149562,0.5608580014743535,0.5592519099295106,0.5595049171998425,0.5602934802401769,0.5589399999555136,0.5591592638543289,0.5592899097376077,0.5597696897631557,0.5590966780655175,0.5598589524694083,0.5621177080421585,0.5587063945777067,0.5593447600789729,0.5609187640020876,0.5600522610927626,0.5600793505357656,0.5591045057577311,0.5583551649851389,0.5585348006864365,0.5592985125812588,0.5575611741291652,0.5591565298141665,0.5598055541982963,0.5589643211761788,0.5580663523366923,0.5587961908619558,0.5594159769023364,0.5604943220317777,0.5581276614167525,0.5595817751379588,0.5591580656125554,0.5588402378366463,0.5592918742368144,0.5598158891780382,0.5597040204630478,0.5589704332005919,0.5578747234819988,0.5577070851384145,0.5593846200657213,0.5586172490237199,0.5595813918286121,0.5585660169981049,0.558520280146075,0.5596975649731182,0.5591469844120218,0.5592718408397139,0.5593471470203811,0.5597950090935768,0.5598015808703949,0.559234802523893,0.5581436125733015,0.5592336798405,0.558638838199574,0.5609863695957039,0.5598123938822235,0.5591064212305175,0.5587051212629931,0.5595511648940024,0.5580754114864144,0.5590118818627666,0.5596859956878311,0.5588137122192801,0.5595100891958611,0.5591116013683248,0.5594791880270696,0.5597221758162122,0.5588346306826049,0.5575178942304353,0.5595636412774361,0.5591613963551034,0.558693053936758,0.5595645024591417,0.5585814275224535,0.5597292194324618,0.5585092314826502,0.5591728658338558,0.559080946630443,0.5575827094346341,0.5591215159231108,0.560635088856387,0.5585067577214838,0.5584894045554536,0.5586482277857927,0.5581673005493569,0.5593726450895088,0.5592173690404412,0.5586698158776253,0.5585852565286235,0.5596299086555515,0.5583085739331778,0.5586250299286847,0.558420583108845,0.5594528807880172,0.5592621236009656,0.5588625388747628,0.5592665415714153,0.5595070847939863,0.5590109838548579,0.5589984594372076,0.5595344372059983,0.5587835455512227,0.5581493651132251,0.5598867276456327,0.5595074970976079,0.5584892099835126,0.5584313406365976,0.5583993607568271,0.5592773274316102,0.5593216900723895,0.5599471312384948,0.5593764696973854,0.5587881404532519,0.5588119961182798,0.5586968735007228,0.5595520474013471,0.5589736087499361,0.559775095178599,0.5577217476318168,0.5581274699374078,0.5582016956093624,0.5583581276049232,0.5600466924163278,0.5583064717061977,0.558086454637811,0.558626027291873,0.5587707643308877,0.5591467797432261,0.5596920634829905,0.558803895500509,0.5583610028588254,0.5584691718502642,0.5597084888164962,0.5587847035631344,0.5592772109083105,0.5594939728679343,0.559038053980645,0.5593280134786273,0.5598529801999902,0.5586464839107027,0.5592608128766798,0.5597607559899692,0.5589112544570213,0.558918795645506,0.5579922136361789,0.5591678855430768,0.5581905189754068,0.5587377138283717,0.5590140424511045,0.5593099775022018,0.5592837437724043,0.5587478979918606,0.5591406586213424,0.5588176520221358,0.5578426323604405,0.5589003516664369,0.5590696393735918,0.5594039565617975,0.5590144800363018,0.5584440270209694,0.5590011749171385,0.5590962800721881,0.5595327548936583,0.5595251835901222,0.5589634297030506,0.5589127191623502,0.5597420669125999,0.5586933119011154,0.5592504503031296,0.5588482670147443],\"yaxis\":\"y\",\"type\":\"scattergl\"},{\"hovertemplate\":\"min_samples_leaf=500<br>num_trees=%{x}<br>value=%{y}<extra></extra>\",\"legendgroup\":\"500\",\"line\":{\"color\":\"#8C564B\",\"dash\":\"solid\"},\"marker\":{\"symbol\":\"circle\"},\"mode\":\"lines\",\"name\":\"500\",\"showlegend\":true,\"x\":[1,2,3,4,5,6,7,8,9,10,11,12,13,14,15,16,17,18,19,20,21,22,23,24,25,26,27,28,29,30,31,32,33,34,35,36,37,38,39,40,41,42,43,44,45,46,47,48,49,50,51,52,53,54,55,56,57,58,59,60,61,62,63,64,65,66,67,68,69,70,71,72,73,74,75,76,77,78,79,80,81,82,83,84,85,86,87,88,89,90,91,92,93,94,95,96,97,98,99,100,101,102,103,104,105,106,107,108,109,110,111,112,113,114,115,116,117,118,119,120,121,122,123,124,125,126,127,128,129,130,131,132,133,134,135,136,137,138,139,140,141,142,143,144,145,146,147,148,149,150,151,152,153,154,155,156,157,158,159,160,161,162,163,164,165,166,167,168,169,170,171,172,173,174,175,176,177,178,179,180,181,182,183,184,185,186,187,188,189,190,191,192,193,194,195,196,197,198,199,200],\"xaxis\":\"x\",\"y\":[0.5979336281975212,0.5887419888190816,0.5874772121975147,0.5917714906890121,0.5924100086670145,0.5888433171644574,0.590014305492154,0.5919707977668378,0.5864306200974072,0.5877236711466288,0.5887643924459403,0.5886389568822926,0.5881637617537874,0.5880545742863419,0.5876775115728583,0.5892871107468681,0.5901118234275256,0.5891134642712378,0.5878276292650167,0.5894775192063366,0.5885326344461871,0.5879485558295005,0.5890775949985038,0.5879452153453887,0.5892609677683784,0.5908128039889167,0.5883730316459308,0.5909641053580664,0.5883721817709161,0.5898332661683653,0.5892736065610066,0.5886970882014791,0.5891399874106992,0.5876258072583255,0.5891009373018073,0.5899549762190501,0.5894230936677244,0.5892804784144612,0.5889807132867568,0.5890864477909727,0.5905467939375325,0.5896772034426886,0.590632839426399,0.5899889341628294,0.5892019564675257,0.5902389386597555,0.5883328537230597,0.5884808875445328,0.5895439959855892,0.5885742409839985,0.589019497180547,0.5898600805212662,0.5889759387615704,0.5891332314247736,0.5886919486465639,0.5894230128979132,0.5898100406680883,0.5884959892980366,0.5875923073389677,0.5889409146963251,0.5878603463761031,0.5901829086443726,0.5886944061919238,0.5887407115620198,0.5885905167970502,0.588436180641999,0.5886704259950607,0.5887399274376091,0.5893428462671294,0.5890929365923315,0.5893195658033228,0.5881843776948896,0.5883712531119729,0.5896231973089809,0.5885957605053915,0.5906334402213859,0.588872977053136,0.5882995429859782,0.5880402548914858,0.5896453024254266,0.5893149119162926,0.5895860989418297,0.5897993414441574,0.588449486442957,0.5893155209091051,0.5901460168850652,0.5888243130225561,0.588892744572887,0.5887252175784393,0.58900249959742,0.5892945812332634,0.588814760952697,0.5894379753831482,0.5883436493912614,0.5879806473721904,0.5898712788784318,0.5888671414516311,0.5880099943274616,0.5884542345836415,0.5888482521172869,0.589151833472381,0.5897015163513366,0.5890534327983797,0.5873834462598558,0.5887944787575614,0.5883281121256639,0.588679737343104,0.5877947748744283,0.5891175263228617,0.5889009637119935,0.5888649624846112,0.5887974036451996,0.5888652275077858,0.5896337440030731,0.5895934340689492,0.5890824982651328,0.587433128671171,0.5880740264922399,0.5891488499140486,0.5900842157630717,0.58852912576281,0.5891282055596018,0.5886522066770017,0.5886227506043887,0.5881120352413288,0.5890133600379954,0.5884180763144937,0.5888907793946176,0.5891623689009344,0.5896412501795717,0.5884118245842636,0.58868847186024,0.5894430941310659,0.588157285382386,0.5889670631567162,0.589301982366829,0.589406248665127,0.5891727648599697,0.5899904389646741,0.5891733710376931,0.5889261338036151,0.589289969090646,0.5892121119463408,0.5885463910173712,0.589263881804381,0.5884218308247714,0.5896558771355318,0.5899329679016234,0.5897297763275899,0.5891566510150399,0.5887468031868356,0.5886573085033239,0.5894794351008735,0.5889898987393093,0.5887967226727787,0.5886750420320359,0.5890821884470269,0.5887582418003833,0.589324535823944,0.5888399603179569,0.5879402358793209,0.5875184219714706,0.5881114623294201,0.5889176989402972,0.5894348724604662,0.588779906713194,0.58875952262375,0.5891938802049874,0.5890039395563239,0.5892972816022114,0.5899289547098535,0.5891702308952771,0.5896315141538523,0.5892388333902704,0.5888084548012685,0.5880943627431805,0.5885550071701844,0.5884875612310123,0.5883845565085917,0.5888375836779854,0.5893132418806505,0.5892505636139372,0.5890293566033603,0.5893414613746675,0.588786093385678,0.5891343248646287,0.5886347747793387,0.5893009485230934,0.5894841622873184,0.588666036205646,0.589337870873328,0.5884042903292539,0.5895221004629165,0.5890730085976043,0.5886269618477404,0.5893715330292962,0.5887741740933613,0.5888035090909408,0.588466609959149,0.5880378175923799],\"yaxis\":\"y\",\"type\":\"scattergl\"},{\"hovertemplate\":\"min_samples_leaf=1000<br>num_trees=%{x}<br>value=%{y}<extra></extra>\",\"legendgroup\":\"1000\",\"line\":{\"color\":\"#E377C2\",\"dash\":\"solid\"},\"marker\":{\"symbol\":\"circle\"},\"mode\":\"lines\",\"name\":\"1000\",\"showlegend\":true,\"x\":[1,2,3,4,5,6,7,8,9,10,11,12,13,14,15,16,17,18,19,20,21,22,23,24,25,26,27,28,29,30,31,32,33,34,35,36,37,38,39,40,41,42,43,44,45,46,47,48,49,50,51,52,53,54,55,56,57,58,59,60,61,62,63,64,65,66,67,68,69,70,71,72,73,74,75,76,77,78,79,80,81,82,83,84,85,86,87,88,89,90,91,92,93,94,95,96,97,98,99,100,101,102,103,104,105,106,107,108,109,110,111,112,113,114,115,116,117,118,119,120,121,122,123,124,125,126,127,128,129,130,131,132,133,134,135,136,137,138,139,140,141,142,143,144,145,146,147,148,149,150,151,152,153,154,155,156,157,158,159,160,161,162,163,164,165,166,167,168,169,170,171,172,173,174,175,176,177,178,179,180,181,182,183,184,185,186,187,188,189,190,191,192,193,194,195,196,197,198,199,200],\"xaxis\":\"x\",\"y\":[0.65322289449395,0.63649804986001,0.6427978190055174,0.6258835268581785,0.631447370610011,0.631545504483046,0.631145013867977,0.6347427439600645,0.6314396180921372,0.6358540926289449,0.6333602270694324,0.6273022977084074,0.6257033951097847,0.6339480789896197,0.6345086911488715,0.6349148467842558,0.6339844689905572,0.6318904003999162,0.6290334775065604,0.6327756087722934,0.6366320888347424,0.6322823697687947,0.6311359315101925,0.6351500584152739,0.6272846670412775,0.6349060590874857,0.6386814038392685,0.6340707747693091,0.6348645531825983,0.6285664989321738,0.6348972108428993,0.6326245402766533,0.6406367156851646,0.6345977201033122,0.6333657572422323,0.6332123876150828,0.6349903130845029,0.6347064509413091,0.6298690225275209,0.6320408596395883,0.6347324819329891,0.6325235688949066,0.6373568113399161,0.6303183772344256,0.6338155413399242,0.6324117006160396,0.6343260582192485,0.6338051725986401,0.6336321636909786,0.6342690355485144,0.6318628933657149,0.6329354487797206,0.6329728205289611,0.6359270667100813,0.6363143590766664,0.6339078431529594,0.6338593571754236,0.6339818577913648,0.6345388634769475,0.63320205473977,0.6320374404633512,0.632651141876697,0.6351882163558301,0.6325864540474156,0.6336088116473517,0.6342580048994884,0.6320542452051789,0.6350808424081255,0.6337733304817336,0.630305278222573,0.6324861184622723,0.6335747428585196,0.6350270855461466,0.6336144619421916,0.6348809646053666,0.6334610396051982,0.6347674116750145,0.6323393123755071,0.6321055603031381,0.6327071989139557,0.6316002817326697,0.6341351010303018,0.6368071927641211,0.6359150407356603,0.6319957962198421,0.634705705251781,0.6324318784151782,0.6330313131495794,0.6358675519908606,0.6367322029853129,0.63149658707006,0.634954264944007,0.6340667843359968,0.6364383177729103,0.6348352217775283,0.6338141225758833,0.6344088199254467,0.6355307786903014,0.6353040489314127,0.6335767361818594,0.6304973583131577,0.6333191186002273,0.6312591269842406,0.6343350730727568,0.6322863954583162,0.6342458077202411,0.6344105595051516,0.6321982728992426,0.636017655785142,0.6329783282266231,0.6317862429038349,0.6316685487569843,0.6325388046732292,0.6315598760660888,0.6337427623548313,0.6332543829993627,0.6318808160799362,0.6348696126440363,0.6348960230153613,0.6345043787067479,0.6322409113557793,0.6330463749528018,0.6314723123151434,0.6328194962738367,0.6330605909142899,0.63489740650975,0.6316492854971406,0.6321108656001471,0.6339475911028529,0.6329871615170655,0.6328453417309088,0.6327514405615021,0.6327812020703104,0.6332349421176204,0.6313780017917243,0.6345841156992069,0.6346615236663662,0.6339499825171501,0.6326092381272467,0.6351063103452911,0.633094980998612,0.6314343923580874,0.6344178592050563,0.6325284265680667,0.6323851724378654,0.6348349017910638,0.6337859727851628,0.6322958176216885,0.6348022740126186,0.6307273845795216,0.6318478080989637,0.6328278015232098,0.6352253517213636,0.6324191959672626,0.6327792116432206,0.6314246072756137,0.6339097781688504,0.6351134540812873,0.6329274598125966,0.6332345729091512,0.6330628722709316,0.6348046858428076,0.6327912574564906,0.632279868595537,0.6313733778928001,0.6333431354028445,0.6340362515618024,0.6344098085265324,0.6331590901969127,0.632302733852228,0.631534367168561,0.6322743775478236,0.6358210158544625,0.6329295988193702,0.6323190052634851,0.633536425470293,0.6375518287826089,0.6343857384485329,0.632057040096133,0.6315989222712157,0.6327261482801136,0.6349515778068852,0.6349271415216635,0.6305157827042247,0.6349689107999658,0.6320299466835311,0.6326540150825086,0.632968323250562,0.6324020823978407,0.6331036957066093,0.6344528469226772,0.6346024685030599,0.6331941046940955,0.6355188090596358,0.6360430861910479,0.6330877935226601,0.6345241291734357,0.6330284494811796,0.6332822642124092,0.6330715708095334],\"yaxis\":\"y\",\"type\":\"scattergl\"}],                        {\"template\":{\"data\":{\"histogram2dcontour\":[{\"type\":\"histogram2dcontour\",\"colorbar\":{\"outlinewidth\":1,\"tickcolor\":\"rgb(36,36,36)\",\"ticks\":\"outside\"},\"colorscale\":[[0.0,\"#440154\"],[0.1111111111111111,\"#482878\"],[0.2222222222222222,\"#3e4989\"],[0.3333333333333333,\"#31688e\"],[0.4444444444444444,\"#26828e\"],[0.5555555555555556,\"#1f9e89\"],[0.6666666666666666,\"#35b779\"],[0.7777777777777778,\"#6ece58\"],[0.8888888888888888,\"#b5de2b\"],[1.0,\"#fde725\"]]}],\"choropleth\":[{\"type\":\"choropleth\",\"colorbar\":{\"outlinewidth\":1,\"tickcolor\":\"rgb(36,36,36)\",\"ticks\":\"outside\"}}],\"histogram2d\":[{\"type\":\"histogram2d\",\"colorbar\":{\"outlinewidth\":1,\"tickcolor\":\"rgb(36,36,36)\",\"ticks\":\"outside\"},\"colorscale\":[[0.0,\"#440154\"],[0.1111111111111111,\"#482878\"],[0.2222222222222222,\"#3e4989\"],[0.3333333333333333,\"#31688e\"],[0.4444444444444444,\"#26828e\"],[0.5555555555555556,\"#1f9e89\"],[0.6666666666666666,\"#35b779\"],[0.7777777777777778,\"#6ece58\"],[0.8888888888888888,\"#b5de2b\"],[1.0,\"#fde725\"]]}],\"heatmap\":[{\"type\":\"heatmap\",\"colorbar\":{\"outlinewidth\":1,\"tickcolor\":\"rgb(36,36,36)\",\"ticks\":\"outside\"},\"colorscale\":[[0.0,\"#440154\"],[0.1111111111111111,\"#482878\"],[0.2222222222222222,\"#3e4989\"],[0.3333333333333333,\"#31688e\"],[0.4444444444444444,\"#26828e\"],[0.5555555555555556,\"#1f9e89\"],[0.6666666666666666,\"#35b779\"],[0.7777777777777778,\"#6ece58\"],[0.8888888888888888,\"#b5de2b\"],[1.0,\"#fde725\"]]}],\"heatmapgl\":[{\"type\":\"heatmapgl\",\"colorbar\":{\"outlinewidth\":1,\"tickcolor\":\"rgb(36,36,36)\",\"ticks\":\"outside\"},\"colorscale\":[[0.0,\"#440154\"],[0.1111111111111111,\"#482878\"],[0.2222222222222222,\"#3e4989\"],[0.3333333333333333,\"#31688e\"],[0.4444444444444444,\"#26828e\"],[0.5555555555555556,\"#1f9e89\"],[0.6666666666666666,\"#35b779\"],[0.7777777777777778,\"#6ece58\"],[0.8888888888888888,\"#b5de2b\"],[1.0,\"#fde725\"]]}],\"contourcarpet\":[{\"type\":\"contourcarpet\",\"colorbar\":{\"outlinewidth\":1,\"tickcolor\":\"rgb(36,36,36)\",\"ticks\":\"outside\"}}],\"contour\":[{\"type\":\"contour\",\"colorbar\":{\"outlinewidth\":1,\"tickcolor\":\"rgb(36,36,36)\",\"ticks\":\"outside\"},\"colorscale\":[[0.0,\"#440154\"],[0.1111111111111111,\"#482878\"],[0.2222222222222222,\"#3e4989\"],[0.3333333333333333,\"#31688e\"],[0.4444444444444444,\"#26828e\"],[0.5555555555555556,\"#1f9e89\"],[0.6666666666666666,\"#35b779\"],[0.7777777777777778,\"#6ece58\"],[0.8888888888888888,\"#b5de2b\"],[1.0,\"#fde725\"]]}],\"surface\":[{\"type\":\"surface\",\"colorbar\":{\"outlinewidth\":1,\"tickcolor\":\"rgb(36,36,36)\",\"ticks\":\"outside\"},\"colorscale\":[[0.0,\"#440154\"],[0.1111111111111111,\"#482878\"],[0.2222222222222222,\"#3e4989\"],[0.3333333333333333,\"#31688e\"],[0.4444444444444444,\"#26828e\"],[0.5555555555555556,\"#1f9e89\"],[0.6666666666666666,\"#35b779\"],[0.7777777777777778,\"#6ece58\"],[0.8888888888888888,\"#b5de2b\"],[1.0,\"#fde725\"]]}],\"mesh3d\":[{\"type\":\"mesh3d\",\"colorbar\":{\"outlinewidth\":1,\"tickcolor\":\"rgb(36,36,36)\",\"ticks\":\"outside\"}}],\"scatter\":[{\"fillpattern\":{\"fillmode\":\"overlay\",\"size\":10,\"solidity\":0.2},\"type\":\"scatter\"}],\"parcoords\":[{\"type\":\"parcoords\",\"line\":{\"colorbar\":{\"outlinewidth\":1,\"tickcolor\":\"rgb(36,36,36)\",\"ticks\":\"outside\"}}}],\"scatterpolargl\":[{\"type\":\"scatterpolargl\",\"marker\":{\"colorbar\":{\"outlinewidth\":1,\"tickcolor\":\"rgb(36,36,36)\",\"ticks\":\"outside\"}}}],\"bar\":[{\"error_x\":{\"color\":\"rgb(36,36,36)\"},\"error_y\":{\"color\":\"rgb(36,36,36)\"},\"marker\":{\"line\":{\"color\":\"white\",\"width\":0.5},\"pattern\":{\"fillmode\":\"overlay\",\"size\":10,\"solidity\":0.2}},\"type\":\"bar\"}],\"scattergeo\":[{\"type\":\"scattergeo\",\"marker\":{\"colorbar\":{\"outlinewidth\":1,\"tickcolor\":\"rgb(36,36,36)\",\"ticks\":\"outside\"}}}],\"scatterpolar\":[{\"type\":\"scatterpolar\",\"marker\":{\"colorbar\":{\"outlinewidth\":1,\"tickcolor\":\"rgb(36,36,36)\",\"ticks\":\"outside\"}}}],\"histogram\":[{\"marker\":{\"line\":{\"color\":\"white\",\"width\":0.6}},\"type\":\"histogram\"}],\"scattergl\":[{\"type\":\"scattergl\",\"marker\":{\"colorbar\":{\"outlinewidth\":1,\"tickcolor\":\"rgb(36,36,36)\",\"ticks\":\"outside\"}}}],\"scatter3d\":[{\"type\":\"scatter3d\",\"line\":{\"colorbar\":{\"outlinewidth\":1,\"tickcolor\":\"rgb(36,36,36)\",\"ticks\":\"outside\"}},\"marker\":{\"colorbar\":{\"outlinewidth\":1,\"tickcolor\":\"rgb(36,36,36)\",\"ticks\":\"outside\"}}}],\"scattermapbox\":[{\"type\":\"scattermapbox\",\"marker\":{\"colorbar\":{\"outlinewidth\":1,\"tickcolor\":\"rgb(36,36,36)\",\"ticks\":\"outside\"}}}],\"scatterternary\":[{\"type\":\"scatterternary\",\"marker\":{\"colorbar\":{\"outlinewidth\":1,\"tickcolor\":\"rgb(36,36,36)\",\"ticks\":\"outside\"}}}],\"scattercarpet\":[{\"type\":\"scattercarpet\",\"marker\":{\"colorbar\":{\"outlinewidth\":1,\"tickcolor\":\"rgb(36,36,36)\",\"ticks\":\"outside\"}}}],\"carpet\":[{\"aaxis\":{\"endlinecolor\":\"rgb(36,36,36)\",\"gridcolor\":\"white\",\"linecolor\":\"white\",\"minorgridcolor\":\"white\",\"startlinecolor\":\"rgb(36,36,36)\"},\"baxis\":{\"endlinecolor\":\"rgb(36,36,36)\",\"gridcolor\":\"white\",\"linecolor\":\"white\",\"minorgridcolor\":\"white\",\"startlinecolor\":\"rgb(36,36,36)\"},\"type\":\"carpet\"}],\"table\":[{\"cells\":{\"fill\":{\"color\":\"rgb(237,237,237)\"},\"line\":{\"color\":\"white\"}},\"header\":{\"fill\":{\"color\":\"rgb(217,217,217)\"},\"line\":{\"color\":\"white\"}},\"type\":\"table\"}],\"barpolar\":[{\"marker\":{\"line\":{\"color\":\"white\",\"width\":0.5},\"pattern\":{\"fillmode\":\"overlay\",\"size\":10,\"solidity\":0.2}},\"type\":\"barpolar\"}],\"pie\":[{\"automargin\":true,\"type\":\"pie\"}]},\"layout\":{\"autotypenumbers\":\"strict\",\"colorway\":[\"#1F77B4\",\"#FF7F0E\",\"#2CA02C\",\"#D62728\",\"#9467BD\",\"#8C564B\",\"#E377C2\",\"#7F7F7F\",\"#BCBD22\",\"#17BECF\"],\"font\":{\"color\":\"rgb(36,36,36)\"},\"hovermode\":\"closest\",\"hoverlabel\":{\"align\":\"left\"},\"paper_bgcolor\":\"white\",\"plot_bgcolor\":\"white\",\"polar\":{\"bgcolor\":\"white\",\"angularaxis\":{\"gridcolor\":\"rgb(232,232,232)\",\"linecolor\":\"rgb(36,36,36)\",\"showgrid\":false,\"showline\":true,\"ticks\":\"outside\"},\"radialaxis\":{\"gridcolor\":\"rgb(232,232,232)\",\"linecolor\":\"rgb(36,36,36)\",\"showgrid\":false,\"showline\":true,\"ticks\":\"outside\"}},\"ternary\":{\"bgcolor\":\"white\",\"aaxis\":{\"gridcolor\":\"rgb(232,232,232)\",\"linecolor\":\"rgb(36,36,36)\",\"showgrid\":false,\"showline\":true,\"ticks\":\"outside\"},\"baxis\":{\"gridcolor\":\"rgb(232,232,232)\",\"linecolor\":\"rgb(36,36,36)\",\"showgrid\":false,\"showline\":true,\"ticks\":\"outside\"},\"caxis\":{\"gridcolor\":\"rgb(232,232,232)\",\"linecolor\":\"rgb(36,36,36)\",\"showgrid\":false,\"showline\":true,\"ticks\":\"outside\"}},\"coloraxis\":{\"colorbar\":{\"outlinewidth\":1,\"tickcolor\":\"rgb(36,36,36)\",\"ticks\":\"outside\"}},\"colorscale\":{\"sequential\":[[0.0,\"#440154\"],[0.1111111111111111,\"#482878\"],[0.2222222222222222,\"#3e4989\"],[0.3333333333333333,\"#31688e\"],[0.4444444444444444,\"#26828e\"],[0.5555555555555556,\"#1f9e89\"],[0.6666666666666666,\"#35b779\"],[0.7777777777777778,\"#6ece58\"],[0.8888888888888888,\"#b5de2b\"],[1.0,\"#fde725\"]],\"sequentialminus\":[[0.0,\"#440154\"],[0.1111111111111111,\"#482878\"],[0.2222222222222222,\"#3e4989\"],[0.3333333333333333,\"#31688e\"],[0.4444444444444444,\"#26828e\"],[0.5555555555555556,\"#1f9e89\"],[0.6666666666666666,\"#35b779\"],[0.7777777777777778,\"#6ece58\"],[0.8888888888888888,\"#b5de2b\"],[1.0,\"#fde725\"]],\"diverging\":[[0.0,\"rgb(103,0,31)\"],[0.1,\"rgb(178,24,43)\"],[0.2,\"rgb(214,96,77)\"],[0.3,\"rgb(244,165,130)\"],[0.4,\"rgb(253,219,199)\"],[0.5,\"rgb(247,247,247)\"],[0.6,\"rgb(209,229,240)\"],[0.7,\"rgb(146,197,222)\"],[0.8,\"rgb(67,147,195)\"],[0.9,\"rgb(33,102,172)\"],[1.0,\"rgb(5,48,97)\"]]},\"xaxis\":{\"gridcolor\":\"rgb(232,232,232)\",\"linecolor\":\"rgb(36,36,36)\",\"showgrid\":false,\"showline\":true,\"ticks\":\"outside\",\"title\":{\"standoff\":15},\"zerolinecolor\":\"rgb(36,36,36)\",\"automargin\":true,\"zeroline\":false},\"yaxis\":{\"gridcolor\":\"rgb(232,232,232)\",\"linecolor\":\"rgb(36,36,36)\",\"showgrid\":false,\"showline\":true,\"ticks\":\"outside\",\"title\":{\"standoff\":15},\"zerolinecolor\":\"rgb(36,36,36)\",\"automargin\":true,\"zeroline\":false},\"scene\":{\"xaxis\":{\"backgroundcolor\":\"white\",\"gridcolor\":\"rgb(232,232,232)\",\"linecolor\":\"rgb(36,36,36)\",\"showbackground\":true,\"showgrid\":false,\"showline\":true,\"ticks\":\"outside\",\"zerolinecolor\":\"rgb(36,36,36)\",\"gridwidth\":2,\"zeroline\":false},\"yaxis\":{\"backgroundcolor\":\"white\",\"gridcolor\":\"rgb(232,232,232)\",\"linecolor\":\"rgb(36,36,36)\",\"showbackground\":true,\"showgrid\":false,\"showline\":true,\"ticks\":\"outside\",\"zerolinecolor\":\"rgb(36,36,36)\",\"gridwidth\":2,\"zeroline\":false},\"zaxis\":{\"backgroundcolor\":\"white\",\"gridcolor\":\"rgb(232,232,232)\",\"linecolor\":\"rgb(36,36,36)\",\"showbackground\":true,\"showgrid\":false,\"showline\":true,\"ticks\":\"outside\",\"zerolinecolor\":\"rgb(36,36,36)\",\"gridwidth\":2,\"zeroline\":false}},\"shapedefaults\":{\"fillcolor\":\"black\",\"line\":{\"width\":0},\"opacity\":0.3},\"annotationdefaults\":{\"arrowhead\":0,\"arrowwidth\":1},\"geo\":{\"bgcolor\":\"white\",\"landcolor\":\"white\",\"subunitcolor\":\"white\",\"showland\":true,\"showlakes\":true,\"lakecolor\":\"white\"},\"title\":{\"x\":0.05},\"mapbox\":{\"style\":\"light\"}}},\"xaxis\":{\"anchor\":\"y\",\"domain\":[0.0,1.0],\"title\":{\"text\":\"num_trees\"}},\"yaxis\":{\"anchor\":\"x\",\"domain\":[0.0,1.0],\"title\":{\"text\":\"value\"}},\"legend\":{\"title\":{\"text\":\"min_samples_leaf\"},\"tracegroupgap\":0},\"margin\":{\"t\":60}},                        {\"responsive\": true}                    ).then(function(){\n",
       "                            \n",
       "var gd = document.getElementById('efcd4a54-22cf-4892-b992-24e139006082');\n",
       "var x = new MutationObserver(function (mutations, observer) {{\n",
       "        var display = window.getComputedStyle(gd).display;\n",
       "        if (!display || display === 'none') {{\n",
       "            console.log([gd, 'removed!']);\n",
       "            Plotly.purge(gd);\n",
       "            observer.disconnect();\n",
       "        }}\n",
       "}});\n",
       "\n",
       "// Listen for the removal of the full notebook cells\n",
       "var notebookContainer = gd.closest('#notebook-container');\n",
       "if (notebookContainer) {{\n",
       "    x.observe(notebookContainer, {childList: true});\n",
       "}}\n",
       "\n",
       "// Listen for the clearing of the current output cell\n",
       "var outputEl = gd.closest('.output');\n",
       "if (outputEl) {{\n",
       "    x.observe(outputEl, {childList: true});\n",
       "}}\n",
       "\n",
       "                        })                };                });            </script>        </div>"
      ]
     },
     "metadata": {},
     "output_type": "display_data"
    }
   ],
   "source": [
    "px.line(\n",
    "    min_samples_num_trees_df.pivot(index = 'num_trees', columns = 'min_samples_leaf', values = 'val_mae')\n",
    ")"
   ]
  },
  {
   "cell_type": "code",
   "execution_count": 78,
   "id": "48445d1d",
   "metadata": {},
   "outputs": [
    {
     "data": {
      "application/vnd.plotly.v1+json": {
       "config": {
        "plotlyServerURL": "https://plot.ly"
       },
       "data": [
        {
         "hovertemplate": "min_samples_leaf=100<br>number of trees=%{x}<br>MAE=%{y}<extra></extra>",
         "legendgroup": "100",
         "line": {
          "color": "#1F77B4",
          "dash": "solid"
         },
         "marker": {
          "symbol": "circle"
         },
         "mode": "lines",
         "name": "100",
         "orientation": "v",
         "showlegend": true,
         "type": "scatter",
         "x": [
          1,
          2,
          3,
          4,
          5,
          6,
          7,
          8,
          9,
          10,
          11,
          12,
          13,
          14,
          15,
          16,
          17,
          18,
          19,
          20,
          21,
          22,
          23,
          24,
          25,
          26,
          27,
          28,
          29,
          30,
          31,
          32,
          33,
          34,
          35,
          36,
          37,
          38,
          39,
          40,
          41,
          42,
          43,
          44,
          45,
          46,
          47,
          48,
          49,
          50,
          51,
          52,
          53,
          54,
          55,
          56,
          57,
          58,
          59,
          60,
          61,
          62,
          63,
          64,
          65,
          66,
          67,
          68,
          69,
          70,
          71,
          72,
          73,
          74,
          75,
          76,
          77,
          78,
          79,
          80,
          81,
          82,
          83,
          84,
          85,
          86,
          87,
          88,
          89,
          90,
          91,
          92,
          93,
          94,
          95,
          96,
          97,
          98,
          99,
          100,
          101
         ],
         "xaxis": "x",
         "y": [
          0.5761554035345634,
          0.568125790597827,
          0.5681724898587491,
          0.565139155310144,
          0.5630923634569631,
          0.5613556808386069,
          0.5656378928170173,
          0.5634300622824358,
          0.5602300828929425,
          0.5616992574941363,
          0.5631978092542765,
          0.5627887696474326,
          0.560733739414685,
          0.5636516906486138,
          0.5562329161272466,
          0.5644209137637954,
          0.557128012744971,
          0.561501943321759,
          0.5615472176418965,
          0.5586307421402643,
          0.5581940020736477,
          0.5591669176040196,
          0.5617652513423599,
          0.5595105053351206,
          0.5599570347553294,
          0.5591223490019035,
          0.5605198990743486,
          0.559872828076151,
          0.5579197506800064,
          0.5616202239221106,
          0.5576624337149562,
          0.5608580014743535,
          0.5592519099295106,
          0.5595049171998425,
          0.5602934802401769,
          0.5589399999555136,
          0.5591592638543289,
          0.5592899097376077,
          0.5597696897631557,
          0.5590966780655175,
          0.5598589524694083,
          0.5621177080421585,
          0.5587063945777067,
          0.5593447600789729,
          0.5609187640020876,
          0.5600522610927626,
          0.5600793505357656,
          0.5591045057577311,
          0.5583551649851389,
          0.5585348006864365,
          0.5592985125812588,
          0.5575611741291652,
          0.5591565298141665,
          0.5598055541982963,
          0.5589643211761788,
          0.5580663523366923,
          0.5587961908619558,
          0.5594159769023364,
          0.5604943220317777,
          0.5581276614167525,
          0.5595817751379588,
          0.5591580656125554,
          0.5588402378366463,
          0.5592918742368144,
          0.5598158891780382,
          0.5597040204630478,
          0.5589704332005919,
          0.5578747234819988,
          0.5577070851384145,
          0.5593846200657213,
          0.5586172490237199,
          0.5595813918286121,
          0.5585660169981049,
          0.558520280146075,
          0.5596975649731182,
          0.5591469844120218,
          0.5592718408397139,
          0.5593471470203811,
          0.5597950090935768,
          0.5598015808703949,
          0.559234802523893,
          0.5581436125733015,
          0.5592336798405,
          0.558638838199574,
          0.5609863695957039,
          0.5598123938822235,
          0.5591064212305175,
          0.5587051212629931,
          0.5595511648940024,
          0.5580754114864144,
          0.5590118818627666,
          0.5596859956878311,
          0.5588137122192801,
          0.5595100891958611,
          0.5591116013683248,
          0.5594791880270696,
          0.5597221758162122,
          0.5588346306826049,
          0.5575178942304353,
          0.5595636412774361,
          0.5591613963551034
         ],
         "yaxis": "y"
        }
       ],
       "layout": {
        "legend": {
         "title": {
          "text": "min_samples_leaf"
         },
         "tracegroupgap": 0
        },
        "showlegend": false,
        "template": {
         "data": {
          "bar": [
           {
            "error_x": {
             "color": "rgb(36,36,36)"
            },
            "error_y": {
             "color": "rgb(36,36,36)"
            },
            "marker": {
             "line": {
              "color": "white",
              "width": 0.5
             },
             "pattern": {
              "fillmode": "overlay",
              "size": 10,
              "solidity": 0.2
             }
            },
            "type": "bar"
           }
          ],
          "barpolar": [
           {
            "marker": {
             "line": {
              "color": "white",
              "width": 0.5
             },
             "pattern": {
              "fillmode": "overlay",
              "size": 10,
              "solidity": 0.2
             }
            },
            "type": "barpolar"
           }
          ],
          "carpet": [
           {
            "aaxis": {
             "endlinecolor": "rgb(36,36,36)",
             "gridcolor": "white",
             "linecolor": "white",
             "minorgridcolor": "white",
             "startlinecolor": "rgb(36,36,36)"
            },
            "baxis": {
             "endlinecolor": "rgb(36,36,36)",
             "gridcolor": "white",
             "linecolor": "white",
             "minorgridcolor": "white",
             "startlinecolor": "rgb(36,36,36)"
            },
            "type": "carpet"
           }
          ],
          "choropleth": [
           {
            "colorbar": {
             "outlinewidth": 1,
             "tickcolor": "rgb(36,36,36)",
             "ticks": "outside"
            },
            "type": "choropleth"
           }
          ],
          "contour": [
           {
            "colorbar": {
             "outlinewidth": 1,
             "tickcolor": "rgb(36,36,36)",
             "ticks": "outside"
            },
            "colorscale": [
             [
              0,
              "#440154"
             ],
             [
              0.1111111111111111,
              "#482878"
             ],
             [
              0.2222222222222222,
              "#3e4989"
             ],
             [
              0.3333333333333333,
              "#31688e"
             ],
             [
              0.4444444444444444,
              "#26828e"
             ],
             [
              0.5555555555555556,
              "#1f9e89"
             ],
             [
              0.6666666666666666,
              "#35b779"
             ],
             [
              0.7777777777777778,
              "#6ece58"
             ],
             [
              0.8888888888888888,
              "#b5de2b"
             ],
             [
              1,
              "#fde725"
             ]
            ],
            "type": "contour"
           }
          ],
          "contourcarpet": [
           {
            "colorbar": {
             "outlinewidth": 1,
             "tickcolor": "rgb(36,36,36)",
             "ticks": "outside"
            },
            "type": "contourcarpet"
           }
          ],
          "heatmap": [
           {
            "colorbar": {
             "outlinewidth": 1,
             "tickcolor": "rgb(36,36,36)",
             "ticks": "outside"
            },
            "colorscale": [
             [
              0,
              "#440154"
             ],
             [
              0.1111111111111111,
              "#482878"
             ],
             [
              0.2222222222222222,
              "#3e4989"
             ],
             [
              0.3333333333333333,
              "#31688e"
             ],
             [
              0.4444444444444444,
              "#26828e"
             ],
             [
              0.5555555555555556,
              "#1f9e89"
             ],
             [
              0.6666666666666666,
              "#35b779"
             ],
             [
              0.7777777777777778,
              "#6ece58"
             ],
             [
              0.8888888888888888,
              "#b5de2b"
             ],
             [
              1,
              "#fde725"
             ]
            ],
            "type": "heatmap"
           }
          ],
          "heatmapgl": [
           {
            "colorbar": {
             "outlinewidth": 1,
             "tickcolor": "rgb(36,36,36)",
             "ticks": "outside"
            },
            "colorscale": [
             [
              0,
              "#440154"
             ],
             [
              0.1111111111111111,
              "#482878"
             ],
             [
              0.2222222222222222,
              "#3e4989"
             ],
             [
              0.3333333333333333,
              "#31688e"
             ],
             [
              0.4444444444444444,
              "#26828e"
             ],
             [
              0.5555555555555556,
              "#1f9e89"
             ],
             [
              0.6666666666666666,
              "#35b779"
             ],
             [
              0.7777777777777778,
              "#6ece58"
             ],
             [
              0.8888888888888888,
              "#b5de2b"
             ],
             [
              1,
              "#fde725"
             ]
            ],
            "type": "heatmapgl"
           }
          ],
          "histogram": [
           {
            "marker": {
             "line": {
              "color": "white",
              "width": 0.6
             }
            },
            "type": "histogram"
           }
          ],
          "histogram2d": [
           {
            "colorbar": {
             "outlinewidth": 1,
             "tickcolor": "rgb(36,36,36)",
             "ticks": "outside"
            },
            "colorscale": [
             [
              0,
              "#440154"
             ],
             [
              0.1111111111111111,
              "#482878"
             ],
             [
              0.2222222222222222,
              "#3e4989"
             ],
             [
              0.3333333333333333,
              "#31688e"
             ],
             [
              0.4444444444444444,
              "#26828e"
             ],
             [
              0.5555555555555556,
              "#1f9e89"
             ],
             [
              0.6666666666666666,
              "#35b779"
             ],
             [
              0.7777777777777778,
              "#6ece58"
             ],
             [
              0.8888888888888888,
              "#b5de2b"
             ],
             [
              1,
              "#fde725"
             ]
            ],
            "type": "histogram2d"
           }
          ],
          "histogram2dcontour": [
           {
            "colorbar": {
             "outlinewidth": 1,
             "tickcolor": "rgb(36,36,36)",
             "ticks": "outside"
            },
            "colorscale": [
             [
              0,
              "#440154"
             ],
             [
              0.1111111111111111,
              "#482878"
             ],
             [
              0.2222222222222222,
              "#3e4989"
             ],
             [
              0.3333333333333333,
              "#31688e"
             ],
             [
              0.4444444444444444,
              "#26828e"
             ],
             [
              0.5555555555555556,
              "#1f9e89"
             ],
             [
              0.6666666666666666,
              "#35b779"
             ],
             [
              0.7777777777777778,
              "#6ece58"
             ],
             [
              0.8888888888888888,
              "#b5de2b"
             ],
             [
              1,
              "#fde725"
             ]
            ],
            "type": "histogram2dcontour"
           }
          ],
          "mesh3d": [
           {
            "colorbar": {
             "outlinewidth": 1,
             "tickcolor": "rgb(36,36,36)",
             "ticks": "outside"
            },
            "type": "mesh3d"
           }
          ],
          "parcoords": [
           {
            "line": {
             "colorbar": {
              "outlinewidth": 1,
              "tickcolor": "rgb(36,36,36)",
              "ticks": "outside"
             }
            },
            "type": "parcoords"
           }
          ],
          "pie": [
           {
            "automargin": true,
            "type": "pie"
           }
          ],
          "scatter": [
           {
            "fillpattern": {
             "fillmode": "overlay",
             "size": 10,
             "solidity": 0.2
            },
            "type": "scatter"
           }
          ],
          "scatter3d": [
           {
            "line": {
             "colorbar": {
              "outlinewidth": 1,
              "tickcolor": "rgb(36,36,36)",
              "ticks": "outside"
             }
            },
            "marker": {
             "colorbar": {
              "outlinewidth": 1,
              "tickcolor": "rgb(36,36,36)",
              "ticks": "outside"
             }
            },
            "type": "scatter3d"
           }
          ],
          "scattercarpet": [
           {
            "marker": {
             "colorbar": {
              "outlinewidth": 1,
              "tickcolor": "rgb(36,36,36)",
              "ticks": "outside"
             }
            },
            "type": "scattercarpet"
           }
          ],
          "scattergeo": [
           {
            "marker": {
             "colorbar": {
              "outlinewidth": 1,
              "tickcolor": "rgb(36,36,36)",
              "ticks": "outside"
             }
            },
            "type": "scattergeo"
           }
          ],
          "scattergl": [
           {
            "marker": {
             "colorbar": {
              "outlinewidth": 1,
              "tickcolor": "rgb(36,36,36)",
              "ticks": "outside"
             }
            },
            "type": "scattergl"
           }
          ],
          "scattermapbox": [
           {
            "marker": {
             "colorbar": {
              "outlinewidth": 1,
              "tickcolor": "rgb(36,36,36)",
              "ticks": "outside"
             }
            },
            "type": "scattermapbox"
           }
          ],
          "scatterpolar": [
           {
            "marker": {
             "colorbar": {
              "outlinewidth": 1,
              "tickcolor": "rgb(36,36,36)",
              "ticks": "outside"
             }
            },
            "type": "scatterpolar"
           }
          ],
          "scatterpolargl": [
           {
            "marker": {
             "colorbar": {
              "outlinewidth": 1,
              "tickcolor": "rgb(36,36,36)",
              "ticks": "outside"
             }
            },
            "type": "scatterpolargl"
           }
          ],
          "scatterternary": [
           {
            "marker": {
             "colorbar": {
              "outlinewidth": 1,
              "tickcolor": "rgb(36,36,36)",
              "ticks": "outside"
             }
            },
            "type": "scatterternary"
           }
          ],
          "surface": [
           {
            "colorbar": {
             "outlinewidth": 1,
             "tickcolor": "rgb(36,36,36)",
             "ticks": "outside"
            },
            "colorscale": [
             [
              0,
              "#440154"
             ],
             [
              0.1111111111111111,
              "#482878"
             ],
             [
              0.2222222222222222,
              "#3e4989"
             ],
             [
              0.3333333333333333,
              "#31688e"
             ],
             [
              0.4444444444444444,
              "#26828e"
             ],
             [
              0.5555555555555556,
              "#1f9e89"
             ],
             [
              0.6666666666666666,
              "#35b779"
             ],
             [
              0.7777777777777778,
              "#6ece58"
             ],
             [
              0.8888888888888888,
              "#b5de2b"
             ],
             [
              1,
              "#fde725"
             ]
            ],
            "type": "surface"
           }
          ],
          "table": [
           {
            "cells": {
             "fill": {
              "color": "rgb(237,237,237)"
             },
             "line": {
              "color": "white"
             }
            },
            "header": {
             "fill": {
              "color": "rgb(217,217,217)"
             },
             "line": {
              "color": "white"
             }
            },
            "type": "table"
           }
          ]
         },
         "layout": {
          "annotationdefaults": {
           "arrowhead": 0,
           "arrowwidth": 1
          },
          "autotypenumbers": "strict",
          "coloraxis": {
           "colorbar": {
            "outlinewidth": 1,
            "tickcolor": "rgb(36,36,36)",
            "ticks": "outside"
           }
          },
          "colorscale": {
           "diverging": [
            [
             0,
             "rgb(103,0,31)"
            ],
            [
             0.1,
             "rgb(178,24,43)"
            ],
            [
             0.2,
             "rgb(214,96,77)"
            ],
            [
             0.3,
             "rgb(244,165,130)"
            ],
            [
             0.4,
             "rgb(253,219,199)"
            ],
            [
             0.5,
             "rgb(247,247,247)"
            ],
            [
             0.6,
             "rgb(209,229,240)"
            ],
            [
             0.7,
             "rgb(146,197,222)"
            ],
            [
             0.8,
             "rgb(67,147,195)"
            ],
            [
             0.9,
             "rgb(33,102,172)"
            ],
            [
             1,
             "rgb(5,48,97)"
            ]
           ],
           "sequential": [
            [
             0,
             "#440154"
            ],
            [
             0.1111111111111111,
             "#482878"
            ],
            [
             0.2222222222222222,
             "#3e4989"
            ],
            [
             0.3333333333333333,
             "#31688e"
            ],
            [
             0.4444444444444444,
             "#26828e"
            ],
            [
             0.5555555555555556,
             "#1f9e89"
            ],
            [
             0.6666666666666666,
             "#35b779"
            ],
            [
             0.7777777777777778,
             "#6ece58"
            ],
            [
             0.8888888888888888,
             "#b5de2b"
            ],
            [
             1,
             "#fde725"
            ]
           ],
           "sequentialminus": [
            [
             0,
             "#440154"
            ],
            [
             0.1111111111111111,
             "#482878"
            ],
            [
             0.2222222222222222,
             "#3e4989"
            ],
            [
             0.3333333333333333,
             "#31688e"
            ],
            [
             0.4444444444444444,
             "#26828e"
            ],
            [
             0.5555555555555556,
             "#1f9e89"
            ],
            [
             0.6666666666666666,
             "#35b779"
            ],
            [
             0.7777777777777778,
             "#6ece58"
            ],
            [
             0.8888888888888888,
             "#b5de2b"
            ],
            [
             1,
             "#fde725"
            ]
           ]
          },
          "colorway": [
           "#1F77B4",
           "#FF7F0E",
           "#2CA02C",
           "#D62728",
           "#9467BD",
           "#8C564B",
           "#E377C2",
           "#7F7F7F",
           "#BCBD22",
           "#17BECF"
          ],
          "font": {
           "color": "rgb(36,36,36)"
          },
          "geo": {
           "bgcolor": "white",
           "lakecolor": "white",
           "landcolor": "white",
           "showlakes": true,
           "showland": true,
           "subunitcolor": "white"
          },
          "hoverlabel": {
           "align": "left"
          },
          "hovermode": "closest",
          "mapbox": {
           "style": "light"
          },
          "paper_bgcolor": "white",
          "plot_bgcolor": "white",
          "polar": {
           "angularaxis": {
            "gridcolor": "rgb(232,232,232)",
            "linecolor": "rgb(36,36,36)",
            "showgrid": false,
            "showline": true,
            "ticks": "outside"
           },
           "bgcolor": "white",
           "radialaxis": {
            "gridcolor": "rgb(232,232,232)",
            "linecolor": "rgb(36,36,36)",
            "showgrid": false,
            "showline": true,
            "ticks": "outside"
           }
          },
          "scene": {
           "xaxis": {
            "backgroundcolor": "white",
            "gridcolor": "rgb(232,232,232)",
            "gridwidth": 2,
            "linecolor": "rgb(36,36,36)",
            "showbackground": true,
            "showgrid": false,
            "showline": true,
            "ticks": "outside",
            "zeroline": false,
            "zerolinecolor": "rgb(36,36,36)"
           },
           "yaxis": {
            "backgroundcolor": "white",
            "gridcolor": "rgb(232,232,232)",
            "gridwidth": 2,
            "linecolor": "rgb(36,36,36)",
            "showbackground": true,
            "showgrid": false,
            "showline": true,
            "ticks": "outside",
            "zeroline": false,
            "zerolinecolor": "rgb(36,36,36)"
           },
           "zaxis": {
            "backgroundcolor": "white",
            "gridcolor": "rgb(232,232,232)",
            "gridwidth": 2,
            "linecolor": "rgb(36,36,36)",
            "showbackground": true,
            "showgrid": false,
            "showline": true,
            "ticks": "outside",
            "zeroline": false,
            "zerolinecolor": "rgb(36,36,36)"
           }
          },
          "shapedefaults": {
           "fillcolor": "black",
           "line": {
            "width": 0
           },
           "opacity": 0.3
          },
          "ternary": {
           "aaxis": {
            "gridcolor": "rgb(232,232,232)",
            "linecolor": "rgb(36,36,36)",
            "showgrid": false,
            "showline": true,
            "ticks": "outside"
           },
           "baxis": {
            "gridcolor": "rgb(232,232,232)",
            "linecolor": "rgb(36,36,36)",
            "showgrid": false,
            "showline": true,
            "ticks": "outside"
           },
           "bgcolor": "white",
           "caxis": {
            "gridcolor": "rgb(232,232,232)",
            "linecolor": "rgb(36,36,36)",
            "showgrid": false,
            "showline": true,
            "ticks": "outside"
           }
          },
          "title": {
           "x": 0.05
          },
          "xaxis": {
           "automargin": true,
           "gridcolor": "rgb(232,232,232)",
           "linecolor": "rgb(36,36,36)",
           "showgrid": false,
           "showline": true,
           "ticks": "outside",
           "title": {
            "standoff": 15
           },
           "zeroline": false,
           "zerolinecolor": "rgb(36,36,36)"
          },
          "yaxis": {
           "automargin": true,
           "gridcolor": "rgb(232,232,232)",
           "linecolor": "rgb(36,36,36)",
           "showgrid": false,
           "showline": true,
           "ticks": "outside",
           "title": {
            "standoff": 15
           },
           "zeroline": false,
           "zerolinecolor": "rgb(36,36,36)"
          }
         }
        },
        "title": {
         "text": "Mean Absolute Error, min_samples_leaf = 100"
        },
        "xaxis": {
         "anchor": "y",
         "domain": [
          0,
          1
         ],
         "title": {
          "text": "number of trees"
         }
        },
        "yaxis": {
         "anchor": "x",
         "domain": [
          0,
          1
         ],
         "title": {
          "text": "MAE"
         }
        }
       }
      },
      "text/html": [
       "<div>                            <div id=\"ea2ed0cc-9916-42e4-af43-c4e4aa7e43a8\" class=\"plotly-graph-div\" style=\"height:525px; width:100%;\"></div>            <script type=\"text/javascript\">                require([\"plotly\"], function(Plotly) {                    window.PLOTLYENV=window.PLOTLYENV || {};                                    if (document.getElementById(\"ea2ed0cc-9916-42e4-af43-c4e4aa7e43a8\")) {                    Plotly.newPlot(                        \"ea2ed0cc-9916-42e4-af43-c4e4aa7e43a8\",                        [{\"hovertemplate\":\"min_samples_leaf=100<br>number of trees=%{x}<br>MAE=%{y}<extra></extra>\",\"legendgroup\":\"100\",\"line\":{\"color\":\"#1F77B4\",\"dash\":\"solid\"},\"marker\":{\"symbol\":\"circle\"},\"mode\":\"lines\",\"name\":\"100\",\"orientation\":\"v\",\"showlegend\":true,\"x\":[1,2,3,4,5,6,7,8,9,10,11,12,13,14,15,16,17,18,19,20,21,22,23,24,25,26,27,28,29,30,31,32,33,34,35,36,37,38,39,40,41,42,43,44,45,46,47,48,49,50,51,52,53,54,55,56,57,58,59,60,61,62,63,64,65,66,67,68,69,70,71,72,73,74,75,76,77,78,79,80,81,82,83,84,85,86,87,88,89,90,91,92,93,94,95,96,97,98,99,100,101],\"xaxis\":\"x\",\"y\":[0.5761554035345634,0.568125790597827,0.5681724898587491,0.565139155310144,0.5630923634569631,0.5613556808386069,0.5656378928170173,0.5634300622824358,0.5602300828929425,0.5616992574941363,0.5631978092542765,0.5627887696474326,0.560733739414685,0.5636516906486138,0.5562329161272466,0.5644209137637954,0.557128012744971,0.561501943321759,0.5615472176418965,0.5586307421402643,0.5581940020736477,0.5591669176040196,0.5617652513423599,0.5595105053351206,0.5599570347553294,0.5591223490019035,0.5605198990743486,0.559872828076151,0.5579197506800064,0.5616202239221106,0.5576624337149562,0.5608580014743535,0.5592519099295106,0.5595049171998425,0.5602934802401769,0.5589399999555136,0.5591592638543289,0.5592899097376077,0.5597696897631557,0.5590966780655175,0.5598589524694083,0.5621177080421585,0.5587063945777067,0.5593447600789729,0.5609187640020876,0.5600522610927626,0.5600793505357656,0.5591045057577311,0.5583551649851389,0.5585348006864365,0.5592985125812588,0.5575611741291652,0.5591565298141665,0.5598055541982963,0.5589643211761788,0.5580663523366923,0.5587961908619558,0.5594159769023364,0.5604943220317777,0.5581276614167525,0.5595817751379588,0.5591580656125554,0.5588402378366463,0.5592918742368144,0.5598158891780382,0.5597040204630478,0.5589704332005919,0.5578747234819988,0.5577070851384145,0.5593846200657213,0.5586172490237199,0.5595813918286121,0.5585660169981049,0.558520280146075,0.5596975649731182,0.5591469844120218,0.5592718408397139,0.5593471470203811,0.5597950090935768,0.5598015808703949,0.559234802523893,0.5581436125733015,0.5592336798405,0.558638838199574,0.5609863695957039,0.5598123938822235,0.5591064212305175,0.5587051212629931,0.5595511648940024,0.5580754114864144,0.5590118818627666,0.5596859956878311,0.5588137122192801,0.5595100891958611,0.5591116013683248,0.5594791880270696,0.5597221758162122,0.5588346306826049,0.5575178942304353,0.5595636412774361,0.5591613963551034],\"yaxis\":\"y\",\"type\":\"scatter\"}],                        {\"template\":{\"data\":{\"histogram2dcontour\":[{\"type\":\"histogram2dcontour\",\"colorbar\":{\"outlinewidth\":1,\"tickcolor\":\"rgb(36,36,36)\",\"ticks\":\"outside\"},\"colorscale\":[[0.0,\"#440154\"],[0.1111111111111111,\"#482878\"],[0.2222222222222222,\"#3e4989\"],[0.3333333333333333,\"#31688e\"],[0.4444444444444444,\"#26828e\"],[0.5555555555555556,\"#1f9e89\"],[0.6666666666666666,\"#35b779\"],[0.7777777777777778,\"#6ece58\"],[0.8888888888888888,\"#b5de2b\"],[1.0,\"#fde725\"]]}],\"choropleth\":[{\"type\":\"choropleth\",\"colorbar\":{\"outlinewidth\":1,\"tickcolor\":\"rgb(36,36,36)\",\"ticks\":\"outside\"}}],\"histogram2d\":[{\"type\":\"histogram2d\",\"colorbar\":{\"outlinewidth\":1,\"tickcolor\":\"rgb(36,36,36)\",\"ticks\":\"outside\"},\"colorscale\":[[0.0,\"#440154\"],[0.1111111111111111,\"#482878\"],[0.2222222222222222,\"#3e4989\"],[0.3333333333333333,\"#31688e\"],[0.4444444444444444,\"#26828e\"],[0.5555555555555556,\"#1f9e89\"],[0.6666666666666666,\"#35b779\"],[0.7777777777777778,\"#6ece58\"],[0.8888888888888888,\"#b5de2b\"],[1.0,\"#fde725\"]]}],\"heatmap\":[{\"type\":\"heatmap\",\"colorbar\":{\"outlinewidth\":1,\"tickcolor\":\"rgb(36,36,36)\",\"ticks\":\"outside\"},\"colorscale\":[[0.0,\"#440154\"],[0.1111111111111111,\"#482878\"],[0.2222222222222222,\"#3e4989\"],[0.3333333333333333,\"#31688e\"],[0.4444444444444444,\"#26828e\"],[0.5555555555555556,\"#1f9e89\"],[0.6666666666666666,\"#35b779\"],[0.7777777777777778,\"#6ece58\"],[0.8888888888888888,\"#b5de2b\"],[1.0,\"#fde725\"]]}],\"heatmapgl\":[{\"type\":\"heatmapgl\",\"colorbar\":{\"outlinewidth\":1,\"tickcolor\":\"rgb(36,36,36)\",\"ticks\":\"outside\"},\"colorscale\":[[0.0,\"#440154\"],[0.1111111111111111,\"#482878\"],[0.2222222222222222,\"#3e4989\"],[0.3333333333333333,\"#31688e\"],[0.4444444444444444,\"#26828e\"],[0.5555555555555556,\"#1f9e89\"],[0.6666666666666666,\"#35b779\"],[0.7777777777777778,\"#6ece58\"],[0.8888888888888888,\"#b5de2b\"],[1.0,\"#fde725\"]]}],\"contourcarpet\":[{\"type\":\"contourcarpet\",\"colorbar\":{\"outlinewidth\":1,\"tickcolor\":\"rgb(36,36,36)\",\"ticks\":\"outside\"}}],\"contour\":[{\"type\":\"contour\",\"colorbar\":{\"outlinewidth\":1,\"tickcolor\":\"rgb(36,36,36)\",\"ticks\":\"outside\"},\"colorscale\":[[0.0,\"#440154\"],[0.1111111111111111,\"#482878\"],[0.2222222222222222,\"#3e4989\"],[0.3333333333333333,\"#31688e\"],[0.4444444444444444,\"#26828e\"],[0.5555555555555556,\"#1f9e89\"],[0.6666666666666666,\"#35b779\"],[0.7777777777777778,\"#6ece58\"],[0.8888888888888888,\"#b5de2b\"],[1.0,\"#fde725\"]]}],\"surface\":[{\"type\":\"surface\",\"colorbar\":{\"outlinewidth\":1,\"tickcolor\":\"rgb(36,36,36)\",\"ticks\":\"outside\"},\"colorscale\":[[0.0,\"#440154\"],[0.1111111111111111,\"#482878\"],[0.2222222222222222,\"#3e4989\"],[0.3333333333333333,\"#31688e\"],[0.4444444444444444,\"#26828e\"],[0.5555555555555556,\"#1f9e89\"],[0.6666666666666666,\"#35b779\"],[0.7777777777777778,\"#6ece58\"],[0.8888888888888888,\"#b5de2b\"],[1.0,\"#fde725\"]]}],\"mesh3d\":[{\"type\":\"mesh3d\",\"colorbar\":{\"outlinewidth\":1,\"tickcolor\":\"rgb(36,36,36)\",\"ticks\":\"outside\"}}],\"scatter\":[{\"fillpattern\":{\"fillmode\":\"overlay\",\"size\":10,\"solidity\":0.2},\"type\":\"scatter\"}],\"parcoords\":[{\"type\":\"parcoords\",\"line\":{\"colorbar\":{\"outlinewidth\":1,\"tickcolor\":\"rgb(36,36,36)\",\"ticks\":\"outside\"}}}],\"scatterpolargl\":[{\"type\":\"scatterpolargl\",\"marker\":{\"colorbar\":{\"outlinewidth\":1,\"tickcolor\":\"rgb(36,36,36)\",\"ticks\":\"outside\"}}}],\"bar\":[{\"error_x\":{\"color\":\"rgb(36,36,36)\"},\"error_y\":{\"color\":\"rgb(36,36,36)\"},\"marker\":{\"line\":{\"color\":\"white\",\"width\":0.5},\"pattern\":{\"fillmode\":\"overlay\",\"size\":10,\"solidity\":0.2}},\"type\":\"bar\"}],\"scattergeo\":[{\"type\":\"scattergeo\",\"marker\":{\"colorbar\":{\"outlinewidth\":1,\"tickcolor\":\"rgb(36,36,36)\",\"ticks\":\"outside\"}}}],\"scatterpolar\":[{\"type\":\"scatterpolar\",\"marker\":{\"colorbar\":{\"outlinewidth\":1,\"tickcolor\":\"rgb(36,36,36)\",\"ticks\":\"outside\"}}}],\"histogram\":[{\"marker\":{\"line\":{\"color\":\"white\",\"width\":0.6}},\"type\":\"histogram\"}],\"scattergl\":[{\"type\":\"scattergl\",\"marker\":{\"colorbar\":{\"outlinewidth\":1,\"tickcolor\":\"rgb(36,36,36)\",\"ticks\":\"outside\"}}}],\"scatter3d\":[{\"type\":\"scatter3d\",\"line\":{\"colorbar\":{\"outlinewidth\":1,\"tickcolor\":\"rgb(36,36,36)\",\"ticks\":\"outside\"}},\"marker\":{\"colorbar\":{\"outlinewidth\":1,\"tickcolor\":\"rgb(36,36,36)\",\"ticks\":\"outside\"}}}],\"scattermapbox\":[{\"type\":\"scattermapbox\",\"marker\":{\"colorbar\":{\"outlinewidth\":1,\"tickcolor\":\"rgb(36,36,36)\",\"ticks\":\"outside\"}}}],\"scatterternary\":[{\"type\":\"scatterternary\",\"marker\":{\"colorbar\":{\"outlinewidth\":1,\"tickcolor\":\"rgb(36,36,36)\",\"ticks\":\"outside\"}}}],\"scattercarpet\":[{\"type\":\"scattercarpet\",\"marker\":{\"colorbar\":{\"outlinewidth\":1,\"tickcolor\":\"rgb(36,36,36)\",\"ticks\":\"outside\"}}}],\"carpet\":[{\"aaxis\":{\"endlinecolor\":\"rgb(36,36,36)\",\"gridcolor\":\"white\",\"linecolor\":\"white\",\"minorgridcolor\":\"white\",\"startlinecolor\":\"rgb(36,36,36)\"},\"baxis\":{\"endlinecolor\":\"rgb(36,36,36)\",\"gridcolor\":\"white\",\"linecolor\":\"white\",\"minorgridcolor\":\"white\",\"startlinecolor\":\"rgb(36,36,36)\"},\"type\":\"carpet\"}],\"table\":[{\"cells\":{\"fill\":{\"color\":\"rgb(237,237,237)\"},\"line\":{\"color\":\"white\"}},\"header\":{\"fill\":{\"color\":\"rgb(217,217,217)\"},\"line\":{\"color\":\"white\"}},\"type\":\"table\"}],\"barpolar\":[{\"marker\":{\"line\":{\"color\":\"white\",\"width\":0.5},\"pattern\":{\"fillmode\":\"overlay\",\"size\":10,\"solidity\":0.2}},\"type\":\"barpolar\"}],\"pie\":[{\"automargin\":true,\"type\":\"pie\"}]},\"layout\":{\"autotypenumbers\":\"strict\",\"colorway\":[\"#1F77B4\",\"#FF7F0E\",\"#2CA02C\",\"#D62728\",\"#9467BD\",\"#8C564B\",\"#E377C2\",\"#7F7F7F\",\"#BCBD22\",\"#17BECF\"],\"font\":{\"color\":\"rgb(36,36,36)\"},\"hovermode\":\"closest\",\"hoverlabel\":{\"align\":\"left\"},\"paper_bgcolor\":\"white\",\"plot_bgcolor\":\"white\",\"polar\":{\"bgcolor\":\"white\",\"angularaxis\":{\"gridcolor\":\"rgb(232,232,232)\",\"linecolor\":\"rgb(36,36,36)\",\"showgrid\":false,\"showline\":true,\"ticks\":\"outside\"},\"radialaxis\":{\"gridcolor\":\"rgb(232,232,232)\",\"linecolor\":\"rgb(36,36,36)\",\"showgrid\":false,\"showline\":true,\"ticks\":\"outside\"}},\"ternary\":{\"bgcolor\":\"white\",\"aaxis\":{\"gridcolor\":\"rgb(232,232,232)\",\"linecolor\":\"rgb(36,36,36)\",\"showgrid\":false,\"showline\":true,\"ticks\":\"outside\"},\"baxis\":{\"gridcolor\":\"rgb(232,232,232)\",\"linecolor\":\"rgb(36,36,36)\",\"showgrid\":false,\"showline\":true,\"ticks\":\"outside\"},\"caxis\":{\"gridcolor\":\"rgb(232,232,232)\",\"linecolor\":\"rgb(36,36,36)\",\"showgrid\":false,\"showline\":true,\"ticks\":\"outside\"}},\"coloraxis\":{\"colorbar\":{\"outlinewidth\":1,\"tickcolor\":\"rgb(36,36,36)\",\"ticks\":\"outside\"}},\"colorscale\":{\"sequential\":[[0.0,\"#440154\"],[0.1111111111111111,\"#482878\"],[0.2222222222222222,\"#3e4989\"],[0.3333333333333333,\"#31688e\"],[0.4444444444444444,\"#26828e\"],[0.5555555555555556,\"#1f9e89\"],[0.6666666666666666,\"#35b779\"],[0.7777777777777778,\"#6ece58\"],[0.8888888888888888,\"#b5de2b\"],[1.0,\"#fde725\"]],\"sequentialminus\":[[0.0,\"#440154\"],[0.1111111111111111,\"#482878\"],[0.2222222222222222,\"#3e4989\"],[0.3333333333333333,\"#31688e\"],[0.4444444444444444,\"#26828e\"],[0.5555555555555556,\"#1f9e89\"],[0.6666666666666666,\"#35b779\"],[0.7777777777777778,\"#6ece58\"],[0.8888888888888888,\"#b5de2b\"],[1.0,\"#fde725\"]],\"diverging\":[[0.0,\"rgb(103,0,31)\"],[0.1,\"rgb(178,24,43)\"],[0.2,\"rgb(214,96,77)\"],[0.3,\"rgb(244,165,130)\"],[0.4,\"rgb(253,219,199)\"],[0.5,\"rgb(247,247,247)\"],[0.6,\"rgb(209,229,240)\"],[0.7,\"rgb(146,197,222)\"],[0.8,\"rgb(67,147,195)\"],[0.9,\"rgb(33,102,172)\"],[1.0,\"rgb(5,48,97)\"]]},\"xaxis\":{\"gridcolor\":\"rgb(232,232,232)\",\"linecolor\":\"rgb(36,36,36)\",\"showgrid\":false,\"showline\":true,\"ticks\":\"outside\",\"title\":{\"standoff\":15},\"zerolinecolor\":\"rgb(36,36,36)\",\"automargin\":true,\"zeroline\":false},\"yaxis\":{\"gridcolor\":\"rgb(232,232,232)\",\"linecolor\":\"rgb(36,36,36)\",\"showgrid\":false,\"showline\":true,\"ticks\":\"outside\",\"title\":{\"standoff\":15},\"zerolinecolor\":\"rgb(36,36,36)\",\"automargin\":true,\"zeroline\":false},\"scene\":{\"xaxis\":{\"backgroundcolor\":\"white\",\"gridcolor\":\"rgb(232,232,232)\",\"linecolor\":\"rgb(36,36,36)\",\"showbackground\":true,\"showgrid\":false,\"showline\":true,\"ticks\":\"outside\",\"zerolinecolor\":\"rgb(36,36,36)\",\"gridwidth\":2,\"zeroline\":false},\"yaxis\":{\"backgroundcolor\":\"white\",\"gridcolor\":\"rgb(232,232,232)\",\"linecolor\":\"rgb(36,36,36)\",\"showbackground\":true,\"showgrid\":false,\"showline\":true,\"ticks\":\"outside\",\"zerolinecolor\":\"rgb(36,36,36)\",\"gridwidth\":2,\"zeroline\":false},\"zaxis\":{\"backgroundcolor\":\"white\",\"gridcolor\":\"rgb(232,232,232)\",\"linecolor\":\"rgb(36,36,36)\",\"showbackground\":true,\"showgrid\":false,\"showline\":true,\"ticks\":\"outside\",\"zerolinecolor\":\"rgb(36,36,36)\",\"gridwidth\":2,\"zeroline\":false}},\"shapedefaults\":{\"fillcolor\":\"black\",\"line\":{\"width\":0},\"opacity\":0.3},\"annotationdefaults\":{\"arrowhead\":0,\"arrowwidth\":1},\"geo\":{\"bgcolor\":\"white\",\"landcolor\":\"white\",\"subunitcolor\":\"white\",\"showland\":true,\"showlakes\":true,\"lakecolor\":\"white\"},\"title\":{\"x\":0.05},\"mapbox\":{\"style\":\"light\"}}},\"xaxis\":{\"anchor\":\"y\",\"domain\":[0.0,1.0],\"title\":{\"text\":\"number of trees\"}},\"yaxis\":{\"anchor\":\"x\",\"domain\":[0.0,1.0],\"title\":{\"text\":\"MAE\"}},\"legend\":{\"title\":{\"text\":\"min_samples_leaf\"},\"tracegroupgap\":0},\"title\":{\"text\":\"Mean Absolute Error, min_samples_leaf = 100\"},\"showlegend\":false},                        {\"responsive\": true}                    ).then(function(){\n",
       "                            \n",
       "var gd = document.getElementById('ea2ed0cc-9916-42e4-af43-c4e4aa7e43a8');\n",
       "var x = new MutationObserver(function (mutations, observer) {{\n",
       "        var display = window.getComputedStyle(gd).display;\n",
       "        if (!display || display === 'none') {{\n",
       "            console.log([gd, 'removed!']);\n",
       "            Plotly.purge(gd);\n",
       "            observer.disconnect();\n",
       "        }}\n",
       "}});\n",
       "\n",
       "// Listen for the removal of the full notebook cells\n",
       "var notebookContainer = gd.closest('#notebook-container');\n",
       "if (notebookContainer) {{\n",
       "    x.observe(notebookContainer, {childList: true});\n",
       "}}\n",
       "\n",
       "// Listen for the clearing of the current output cell\n",
       "var outputEl = gd.closest('.output');\n",
       "if (outputEl) {{\n",
       "    x.observe(outputEl, {childList: true});\n",
       "}}\n",
       "\n",
       "                        })                };                });            </script>        </div>"
      ]
     },
     "metadata": {},
     "output_type": "display_data"
    }
   ],
   "source": [
    "tmp_df = min_samples_num_trees_df.pivot(index = 'num_trees', columns = 'min_samples_leaf', values = 'val_mae')[[100]][:101]\n",
    "tmp_df['moving_avg'] = tmp_df[100].rolling(5, min_periods = 1).mean()\n",
    "\n",
    "fig = px.line(\n",
    "    tmp_df[[100]],\n",
    "    title = 'Mean Absolute Error, min_samples_leaf = 100',\n",
    "    labels = {'value': 'MAE', 'num_trees': 'number of trees'}\n",
    ")\n",
    "\n",
    "fig.update_layout(showlegend = False)"
   ]
  },
  {
   "cell_type": "code",
   "execution_count": 87,
   "id": "6733ca27",
   "metadata": {},
   "outputs": [
    {
     "data": {
      "application/vnd.plotly.v1+json": {
       "config": {
        "plotlyServerURL": "https://plot.ly"
       },
       "data": [
        {
         "line": {
          "color": "darkblue",
          "width": 1.5
         },
         "name": "actual value",
         "type": "scatter",
         "x": [
          1,
          2,
          3,
          4,
          5,
          6,
          7,
          8,
          9,
          10,
          11,
          12,
          13,
          14,
          15,
          16,
          17,
          18,
          19,
          20,
          21,
          22,
          23,
          24,
          25,
          26,
          27,
          28,
          29,
          30,
          31,
          32,
          33,
          34,
          35,
          36,
          37,
          38,
          39,
          40,
          41,
          42,
          43,
          44,
          45,
          46,
          47,
          48,
          49,
          50,
          51,
          52,
          53,
          54,
          55,
          56,
          57,
          58,
          59,
          60,
          61,
          62,
          63,
          64,
          65,
          66,
          67,
          68,
          69,
          70,
          71,
          72,
          73,
          74,
          75,
          76,
          77,
          78,
          79,
          80,
          81,
          82,
          83,
          84,
          85,
          86,
          87,
          88,
          89,
          90,
          91,
          92,
          93,
          94,
          95,
          96,
          97,
          98,
          99,
          100,
          101
         ],
         "y": [
          0.5761554035345634,
          0.568125790597827,
          0.5681724898587491,
          0.565139155310144,
          0.5630923634569631,
          0.5613556808386069,
          0.5656378928170173,
          0.5634300622824358,
          0.5602300828929425,
          0.5616992574941363,
          0.5631978092542765,
          0.5627887696474326,
          0.560733739414685,
          0.5636516906486138,
          0.5562329161272466,
          0.5644209137637954,
          0.557128012744971,
          0.561501943321759,
          0.5615472176418965,
          0.5586307421402643,
          0.5581940020736477,
          0.5591669176040196,
          0.5617652513423599,
          0.5595105053351206,
          0.5599570347553294,
          0.5591223490019035,
          0.5605198990743486,
          0.559872828076151,
          0.5579197506800064,
          0.5616202239221106,
          0.5576624337149562,
          0.5608580014743535,
          0.5592519099295106,
          0.5595049171998425,
          0.5602934802401769,
          0.5589399999555136,
          0.5591592638543289,
          0.5592899097376077,
          0.5597696897631557,
          0.5590966780655175,
          0.5598589524694083,
          0.5621177080421585,
          0.5587063945777067,
          0.5593447600789729,
          0.5609187640020876,
          0.5600522610927626,
          0.5600793505357656,
          0.5591045057577311,
          0.5583551649851389,
          0.5585348006864365,
          0.5592985125812588,
          0.5575611741291652,
          0.5591565298141665,
          0.5598055541982963,
          0.5589643211761788,
          0.5580663523366923,
          0.5587961908619558,
          0.5594159769023364,
          0.5604943220317777,
          0.5581276614167525,
          0.5595817751379588,
          0.5591580656125554,
          0.5588402378366463,
          0.5592918742368144,
          0.5598158891780382,
          0.5597040204630478,
          0.5589704332005919,
          0.5578747234819988,
          0.5577070851384145,
          0.5593846200657213,
          0.5586172490237199,
          0.5595813918286121,
          0.5585660169981049,
          0.558520280146075,
          0.5596975649731182,
          0.5591469844120218,
          0.5592718408397139,
          0.5593471470203811,
          0.5597950090935768,
          0.5598015808703949,
          0.559234802523893,
          0.5581436125733015,
          0.5592336798405,
          0.558638838199574,
          0.5609863695957039,
          0.5598123938822235,
          0.5591064212305175,
          0.5587051212629931,
          0.5595511648940024,
          0.5580754114864144,
          0.5590118818627666,
          0.5596859956878311,
          0.5588137122192801,
          0.5595100891958611,
          0.5591116013683248,
          0.5594791880270696,
          0.5597221758162122,
          0.5588346306826049,
          0.5575178942304353,
          0.5595636412774361,
          0.5591613963551034
         ]
        },
        {
         "line": {
          "color": "red",
          "dash": "dot",
          "width": 3
         },
         "name": "moving average",
         "type": "scatter",
         "x": [
          1,
          2,
          3,
          4,
          5,
          6,
          7,
          8,
          9,
          10,
          11,
          12,
          13,
          14,
          15,
          16,
          17,
          18,
          19,
          20,
          21,
          22,
          23,
          24,
          25,
          26,
          27,
          28,
          29,
          30,
          31,
          32,
          33,
          34,
          35,
          36,
          37,
          38,
          39,
          40,
          41,
          42,
          43,
          44,
          45,
          46,
          47,
          48,
          49,
          50,
          51,
          52,
          53,
          54,
          55,
          56,
          57,
          58,
          59,
          60,
          61,
          62,
          63,
          64,
          65,
          66,
          67,
          68,
          69,
          70,
          71,
          72,
          73,
          74,
          75,
          76,
          77,
          78,
          79,
          80,
          81,
          82,
          83,
          84,
          85,
          86,
          87,
          88,
          89,
          90,
          91,
          92,
          93,
          94,
          95,
          96,
          97,
          98,
          99,
          100,
          101
         ],
         "y": [
          0.5761554035345634,
          0.5721405970661952,
          0.5708178946637131,
          0.5693982098253209,
          0.5681370405516494,
          0.565177096012458,
          0.5646795164562961,
          0.5637310309410333,
          0.5627492164575931,
          0.5624705952650277,
          0.5628390209481617,
          0.5622691963142448,
          0.5617299317406946,
          0.5624142532918288,
          0.5613209850184508,
          0.5615656059203546,
          0.5604334545398624,
          0.5605870953212773,
          0.5601662007199337,
          0.5606457659225372,
          0.5594003835845076,
          0.5598081645563174,
          0.5598608261604376,
          0.5594534836990824,
          0.5597187422220954,
          0.5599044116077466,
          0.5601750079018124,
          0.5597965232485707,
          0.5594783723175478,
          0.5598110101509041,
          0.5595190270935146,
          0.5595866475735155,
          0.5594624639441875,
          0.5597794972481547,
          0.559514148511768,
          0.5597696617598794,
          0.5594299142358745,
          0.5594375141974939,
          0.5594904687101565,
          0.5592511082752247,
          0.5594348987780036,
          0.5600265876155696,
          0.5599098845835894,
          0.5598248986467528,
          0.5601893158340668,
          0.5602279775587377,
          0.559820306057459,
          0.559899928293464,
          0.5597020092746972,
          0.5592252166115669,
          0.5590744669092662,
          0.5585708316279462,
          0.5585812364392332,
          0.5588713142818647,
          0.558957218379813,
          0.5587107863308998,
          0.5589577896774578,
          0.5590096790950918,
          0.5591474326617882,
          0.5589801007099029,
          0.5592831852701563,
          0.5593555602202762,
          0.5592404124071382,
          0.5589999228481455,
          0.5593375684004027,
          0.5593620174654205,
          0.5593244909830276,
          0.5591313881120982,
          0.5588144302924183,
          0.5587281764699549,
          0.5585108221820894,
          0.5586330139076934,
          0.5587712726109146,
          0.5589339116124467,
          0.558996500593926,
          0.5591024476715865,
          0.5590405374738068,
          0.559196763478262,
          0.5594517092677623,
          0.5594725124472177,
          0.559490076069592,
          0.5592644304163095,
          0.5592417369803332,
          0.5590105028015326,
          0.5592474605465945,
          0.5593629788182606,
          0.5595555405497038,
          0.5594498288342024,
          0.559632294173088,
          0.5590501025512301,
          0.5588900001473388,
          0.5590059150388015,
          0.5590276332300589,
          0.5590194180904307,
          0.5592266560668128,
          0.5593201172996733,
          0.5593273533253497,
          0.5593315370180145,
          0.5589330980249294,
          0.5590235060067517,
          0.5589599476723583
         ]
        }
       ],
       "layout": {
        "template": {
         "data": {
          "bar": [
           {
            "error_x": {
             "color": "rgb(36,36,36)"
            },
            "error_y": {
             "color": "rgb(36,36,36)"
            },
            "marker": {
             "line": {
              "color": "white",
              "width": 0.5
             },
             "pattern": {
              "fillmode": "overlay",
              "size": 10,
              "solidity": 0.2
             }
            },
            "type": "bar"
           }
          ],
          "barpolar": [
           {
            "marker": {
             "line": {
              "color": "white",
              "width": 0.5
             },
             "pattern": {
              "fillmode": "overlay",
              "size": 10,
              "solidity": 0.2
             }
            },
            "type": "barpolar"
           }
          ],
          "carpet": [
           {
            "aaxis": {
             "endlinecolor": "rgb(36,36,36)",
             "gridcolor": "white",
             "linecolor": "white",
             "minorgridcolor": "white",
             "startlinecolor": "rgb(36,36,36)"
            },
            "baxis": {
             "endlinecolor": "rgb(36,36,36)",
             "gridcolor": "white",
             "linecolor": "white",
             "minorgridcolor": "white",
             "startlinecolor": "rgb(36,36,36)"
            },
            "type": "carpet"
           }
          ],
          "choropleth": [
           {
            "colorbar": {
             "outlinewidth": 1,
             "tickcolor": "rgb(36,36,36)",
             "ticks": "outside"
            },
            "type": "choropleth"
           }
          ],
          "contour": [
           {
            "colorbar": {
             "outlinewidth": 1,
             "tickcolor": "rgb(36,36,36)",
             "ticks": "outside"
            },
            "colorscale": [
             [
              0,
              "#440154"
             ],
             [
              0.1111111111111111,
              "#482878"
             ],
             [
              0.2222222222222222,
              "#3e4989"
             ],
             [
              0.3333333333333333,
              "#31688e"
             ],
             [
              0.4444444444444444,
              "#26828e"
             ],
             [
              0.5555555555555556,
              "#1f9e89"
             ],
             [
              0.6666666666666666,
              "#35b779"
             ],
             [
              0.7777777777777778,
              "#6ece58"
             ],
             [
              0.8888888888888888,
              "#b5de2b"
             ],
             [
              1,
              "#fde725"
             ]
            ],
            "type": "contour"
           }
          ],
          "contourcarpet": [
           {
            "colorbar": {
             "outlinewidth": 1,
             "tickcolor": "rgb(36,36,36)",
             "ticks": "outside"
            },
            "type": "contourcarpet"
           }
          ],
          "heatmap": [
           {
            "colorbar": {
             "outlinewidth": 1,
             "tickcolor": "rgb(36,36,36)",
             "ticks": "outside"
            },
            "colorscale": [
             [
              0,
              "#440154"
             ],
             [
              0.1111111111111111,
              "#482878"
             ],
             [
              0.2222222222222222,
              "#3e4989"
             ],
             [
              0.3333333333333333,
              "#31688e"
             ],
             [
              0.4444444444444444,
              "#26828e"
             ],
             [
              0.5555555555555556,
              "#1f9e89"
             ],
             [
              0.6666666666666666,
              "#35b779"
             ],
             [
              0.7777777777777778,
              "#6ece58"
             ],
             [
              0.8888888888888888,
              "#b5de2b"
             ],
             [
              1,
              "#fde725"
             ]
            ],
            "type": "heatmap"
           }
          ],
          "heatmapgl": [
           {
            "colorbar": {
             "outlinewidth": 1,
             "tickcolor": "rgb(36,36,36)",
             "ticks": "outside"
            },
            "colorscale": [
             [
              0,
              "#440154"
             ],
             [
              0.1111111111111111,
              "#482878"
             ],
             [
              0.2222222222222222,
              "#3e4989"
             ],
             [
              0.3333333333333333,
              "#31688e"
             ],
             [
              0.4444444444444444,
              "#26828e"
             ],
             [
              0.5555555555555556,
              "#1f9e89"
             ],
             [
              0.6666666666666666,
              "#35b779"
             ],
             [
              0.7777777777777778,
              "#6ece58"
             ],
             [
              0.8888888888888888,
              "#b5de2b"
             ],
             [
              1,
              "#fde725"
             ]
            ],
            "type": "heatmapgl"
           }
          ],
          "histogram": [
           {
            "marker": {
             "line": {
              "color": "white",
              "width": 0.6
             }
            },
            "type": "histogram"
           }
          ],
          "histogram2d": [
           {
            "colorbar": {
             "outlinewidth": 1,
             "tickcolor": "rgb(36,36,36)",
             "ticks": "outside"
            },
            "colorscale": [
             [
              0,
              "#440154"
             ],
             [
              0.1111111111111111,
              "#482878"
             ],
             [
              0.2222222222222222,
              "#3e4989"
             ],
             [
              0.3333333333333333,
              "#31688e"
             ],
             [
              0.4444444444444444,
              "#26828e"
             ],
             [
              0.5555555555555556,
              "#1f9e89"
             ],
             [
              0.6666666666666666,
              "#35b779"
             ],
             [
              0.7777777777777778,
              "#6ece58"
             ],
             [
              0.8888888888888888,
              "#b5de2b"
             ],
             [
              1,
              "#fde725"
             ]
            ],
            "type": "histogram2d"
           }
          ],
          "histogram2dcontour": [
           {
            "colorbar": {
             "outlinewidth": 1,
             "tickcolor": "rgb(36,36,36)",
             "ticks": "outside"
            },
            "colorscale": [
             [
              0,
              "#440154"
             ],
             [
              0.1111111111111111,
              "#482878"
             ],
             [
              0.2222222222222222,
              "#3e4989"
             ],
             [
              0.3333333333333333,
              "#31688e"
             ],
             [
              0.4444444444444444,
              "#26828e"
             ],
             [
              0.5555555555555556,
              "#1f9e89"
             ],
             [
              0.6666666666666666,
              "#35b779"
             ],
             [
              0.7777777777777778,
              "#6ece58"
             ],
             [
              0.8888888888888888,
              "#b5de2b"
             ],
             [
              1,
              "#fde725"
             ]
            ],
            "type": "histogram2dcontour"
           }
          ],
          "mesh3d": [
           {
            "colorbar": {
             "outlinewidth": 1,
             "tickcolor": "rgb(36,36,36)",
             "ticks": "outside"
            },
            "type": "mesh3d"
           }
          ],
          "parcoords": [
           {
            "line": {
             "colorbar": {
              "outlinewidth": 1,
              "tickcolor": "rgb(36,36,36)",
              "ticks": "outside"
             }
            },
            "type": "parcoords"
           }
          ],
          "pie": [
           {
            "automargin": true,
            "type": "pie"
           }
          ],
          "scatter": [
           {
            "fillpattern": {
             "fillmode": "overlay",
             "size": 10,
             "solidity": 0.2
            },
            "type": "scatter"
           }
          ],
          "scatter3d": [
           {
            "line": {
             "colorbar": {
              "outlinewidth": 1,
              "tickcolor": "rgb(36,36,36)",
              "ticks": "outside"
             }
            },
            "marker": {
             "colorbar": {
              "outlinewidth": 1,
              "tickcolor": "rgb(36,36,36)",
              "ticks": "outside"
             }
            },
            "type": "scatter3d"
           }
          ],
          "scattercarpet": [
           {
            "marker": {
             "colorbar": {
              "outlinewidth": 1,
              "tickcolor": "rgb(36,36,36)",
              "ticks": "outside"
             }
            },
            "type": "scattercarpet"
           }
          ],
          "scattergeo": [
           {
            "marker": {
             "colorbar": {
              "outlinewidth": 1,
              "tickcolor": "rgb(36,36,36)",
              "ticks": "outside"
             }
            },
            "type": "scattergeo"
           }
          ],
          "scattergl": [
           {
            "marker": {
             "colorbar": {
              "outlinewidth": 1,
              "tickcolor": "rgb(36,36,36)",
              "ticks": "outside"
             }
            },
            "type": "scattergl"
           }
          ],
          "scattermapbox": [
           {
            "marker": {
             "colorbar": {
              "outlinewidth": 1,
              "tickcolor": "rgb(36,36,36)",
              "ticks": "outside"
             }
            },
            "type": "scattermapbox"
           }
          ],
          "scatterpolar": [
           {
            "marker": {
             "colorbar": {
              "outlinewidth": 1,
              "tickcolor": "rgb(36,36,36)",
              "ticks": "outside"
             }
            },
            "type": "scatterpolar"
           }
          ],
          "scatterpolargl": [
           {
            "marker": {
             "colorbar": {
              "outlinewidth": 1,
              "tickcolor": "rgb(36,36,36)",
              "ticks": "outside"
             }
            },
            "type": "scatterpolargl"
           }
          ],
          "scatterternary": [
           {
            "marker": {
             "colorbar": {
              "outlinewidth": 1,
              "tickcolor": "rgb(36,36,36)",
              "ticks": "outside"
             }
            },
            "type": "scatterternary"
           }
          ],
          "surface": [
           {
            "colorbar": {
             "outlinewidth": 1,
             "tickcolor": "rgb(36,36,36)",
             "ticks": "outside"
            },
            "colorscale": [
             [
              0,
              "#440154"
             ],
             [
              0.1111111111111111,
              "#482878"
             ],
             [
              0.2222222222222222,
              "#3e4989"
             ],
             [
              0.3333333333333333,
              "#31688e"
             ],
             [
              0.4444444444444444,
              "#26828e"
             ],
             [
              0.5555555555555556,
              "#1f9e89"
             ],
             [
              0.6666666666666666,
              "#35b779"
             ],
             [
              0.7777777777777778,
              "#6ece58"
             ],
             [
              0.8888888888888888,
              "#b5de2b"
             ],
             [
              1,
              "#fde725"
             ]
            ],
            "type": "surface"
           }
          ],
          "table": [
           {
            "cells": {
             "fill": {
              "color": "rgb(237,237,237)"
             },
             "line": {
              "color": "white"
             }
            },
            "header": {
             "fill": {
              "color": "rgb(217,217,217)"
             },
             "line": {
              "color": "white"
             }
            },
            "type": "table"
           }
          ]
         },
         "layout": {
          "annotationdefaults": {
           "arrowhead": 0,
           "arrowwidth": 1
          },
          "autotypenumbers": "strict",
          "coloraxis": {
           "colorbar": {
            "outlinewidth": 1,
            "tickcolor": "rgb(36,36,36)",
            "ticks": "outside"
           }
          },
          "colorscale": {
           "diverging": [
            [
             0,
             "rgb(103,0,31)"
            ],
            [
             0.1,
             "rgb(178,24,43)"
            ],
            [
             0.2,
             "rgb(214,96,77)"
            ],
            [
             0.3,
             "rgb(244,165,130)"
            ],
            [
             0.4,
             "rgb(253,219,199)"
            ],
            [
             0.5,
             "rgb(247,247,247)"
            ],
            [
             0.6,
             "rgb(209,229,240)"
            ],
            [
             0.7,
             "rgb(146,197,222)"
            ],
            [
             0.8,
             "rgb(67,147,195)"
            ],
            [
             0.9,
             "rgb(33,102,172)"
            ],
            [
             1,
             "rgb(5,48,97)"
            ]
           ],
           "sequential": [
            [
             0,
             "#440154"
            ],
            [
             0.1111111111111111,
             "#482878"
            ],
            [
             0.2222222222222222,
             "#3e4989"
            ],
            [
             0.3333333333333333,
             "#31688e"
            ],
            [
             0.4444444444444444,
             "#26828e"
            ],
            [
             0.5555555555555556,
             "#1f9e89"
            ],
            [
             0.6666666666666666,
             "#35b779"
            ],
            [
             0.7777777777777778,
             "#6ece58"
            ],
            [
             0.8888888888888888,
             "#b5de2b"
            ],
            [
             1,
             "#fde725"
            ]
           ],
           "sequentialminus": [
            [
             0,
             "#440154"
            ],
            [
             0.1111111111111111,
             "#482878"
            ],
            [
             0.2222222222222222,
             "#3e4989"
            ],
            [
             0.3333333333333333,
             "#31688e"
            ],
            [
             0.4444444444444444,
             "#26828e"
            ],
            [
             0.5555555555555556,
             "#1f9e89"
            ],
            [
             0.6666666666666666,
             "#35b779"
            ],
            [
             0.7777777777777778,
             "#6ece58"
            ],
            [
             0.8888888888888888,
             "#b5de2b"
            ],
            [
             1,
             "#fde725"
            ]
           ]
          },
          "colorway": [
           "#1F77B4",
           "#FF7F0E",
           "#2CA02C",
           "#D62728",
           "#9467BD",
           "#8C564B",
           "#E377C2",
           "#7F7F7F",
           "#BCBD22",
           "#17BECF"
          ],
          "font": {
           "color": "rgb(36,36,36)"
          },
          "geo": {
           "bgcolor": "white",
           "lakecolor": "white",
           "landcolor": "white",
           "showlakes": true,
           "showland": true,
           "subunitcolor": "white"
          },
          "hoverlabel": {
           "align": "left"
          },
          "hovermode": "closest",
          "mapbox": {
           "style": "light"
          },
          "paper_bgcolor": "white",
          "plot_bgcolor": "white",
          "polar": {
           "angularaxis": {
            "gridcolor": "rgb(232,232,232)",
            "linecolor": "rgb(36,36,36)",
            "showgrid": false,
            "showline": true,
            "ticks": "outside"
           },
           "bgcolor": "white",
           "radialaxis": {
            "gridcolor": "rgb(232,232,232)",
            "linecolor": "rgb(36,36,36)",
            "showgrid": false,
            "showline": true,
            "ticks": "outside"
           }
          },
          "scene": {
           "xaxis": {
            "backgroundcolor": "white",
            "gridcolor": "rgb(232,232,232)",
            "gridwidth": 2,
            "linecolor": "rgb(36,36,36)",
            "showbackground": true,
            "showgrid": false,
            "showline": true,
            "ticks": "outside",
            "zeroline": false,
            "zerolinecolor": "rgb(36,36,36)"
           },
           "yaxis": {
            "backgroundcolor": "white",
            "gridcolor": "rgb(232,232,232)",
            "gridwidth": 2,
            "linecolor": "rgb(36,36,36)",
            "showbackground": true,
            "showgrid": false,
            "showline": true,
            "ticks": "outside",
            "zeroline": false,
            "zerolinecolor": "rgb(36,36,36)"
           },
           "zaxis": {
            "backgroundcolor": "white",
            "gridcolor": "rgb(232,232,232)",
            "gridwidth": 2,
            "linecolor": "rgb(36,36,36)",
            "showbackground": true,
            "showgrid": false,
            "showline": true,
            "ticks": "outside",
            "zeroline": false,
            "zerolinecolor": "rgb(36,36,36)"
           }
          },
          "shapedefaults": {
           "fillcolor": "black",
           "line": {
            "width": 0
           },
           "opacity": 0.3
          },
          "ternary": {
           "aaxis": {
            "gridcolor": "rgb(232,232,232)",
            "linecolor": "rgb(36,36,36)",
            "showgrid": false,
            "showline": true,
            "ticks": "outside"
           },
           "baxis": {
            "gridcolor": "rgb(232,232,232)",
            "linecolor": "rgb(36,36,36)",
            "showgrid": false,
            "showline": true,
            "ticks": "outside"
           },
           "bgcolor": "white",
           "caxis": {
            "gridcolor": "rgb(232,232,232)",
            "linecolor": "rgb(36,36,36)",
            "showgrid": false,
            "showline": true,
            "ticks": "outside"
           }
          },
          "title": {
           "x": 0.05
          },
          "xaxis": {
           "automargin": true,
           "gridcolor": "rgb(232,232,232)",
           "linecolor": "rgb(36,36,36)",
           "showgrid": false,
           "showline": true,
           "ticks": "outside",
           "title": {
            "standoff": 15
           },
           "zeroline": false,
           "zerolinecolor": "rgb(36,36,36)"
          },
          "yaxis": {
           "automargin": true,
           "gridcolor": "rgb(232,232,232)",
           "linecolor": "rgb(36,36,36)",
           "showgrid": false,
           "showline": true,
           "ticks": "outside",
           "title": {
            "standoff": 15
           },
           "zeroline": false,
           "zerolinecolor": "rgb(36,36,36)"
          }
         }
        },
        "title": {
         "text": "Mean Absolute Error, min_samples_leaf = 100"
        },
        "xaxis": {
         "title": {
          "text": "number of trees"
         }
        },
        "yaxis": {
         "title": {
          "text": "MAE"
         }
        }
       }
      },
      "text/html": [
       "<div>                            <div id=\"b9d363c1-8807-445b-9b14-47e19dafe97c\" class=\"plotly-graph-div\" style=\"height:525px; width:100%;\"></div>            <script type=\"text/javascript\">                require([\"plotly\"], function(Plotly) {                    window.PLOTLYENV=window.PLOTLYENV || {};                                    if (document.getElementById(\"b9d363c1-8807-445b-9b14-47e19dafe97c\")) {                    Plotly.newPlot(                        \"b9d363c1-8807-445b-9b14-47e19dafe97c\",                        [{\"line\":{\"color\":\"darkblue\",\"width\":1.5},\"name\":\"actual value\",\"x\":[1,2,3,4,5,6,7,8,9,10,11,12,13,14,15,16,17,18,19,20,21,22,23,24,25,26,27,28,29,30,31,32,33,34,35,36,37,38,39,40,41,42,43,44,45,46,47,48,49,50,51,52,53,54,55,56,57,58,59,60,61,62,63,64,65,66,67,68,69,70,71,72,73,74,75,76,77,78,79,80,81,82,83,84,85,86,87,88,89,90,91,92,93,94,95,96,97,98,99,100,101],\"y\":[0.5761554035345634,0.568125790597827,0.5681724898587491,0.565139155310144,0.5630923634569631,0.5613556808386069,0.5656378928170173,0.5634300622824358,0.5602300828929425,0.5616992574941363,0.5631978092542765,0.5627887696474326,0.560733739414685,0.5636516906486138,0.5562329161272466,0.5644209137637954,0.557128012744971,0.561501943321759,0.5615472176418965,0.5586307421402643,0.5581940020736477,0.5591669176040196,0.5617652513423599,0.5595105053351206,0.5599570347553294,0.5591223490019035,0.5605198990743486,0.559872828076151,0.5579197506800064,0.5616202239221106,0.5576624337149562,0.5608580014743535,0.5592519099295106,0.5595049171998425,0.5602934802401769,0.5589399999555136,0.5591592638543289,0.5592899097376077,0.5597696897631557,0.5590966780655175,0.5598589524694083,0.5621177080421585,0.5587063945777067,0.5593447600789729,0.5609187640020876,0.5600522610927626,0.5600793505357656,0.5591045057577311,0.5583551649851389,0.5585348006864365,0.5592985125812588,0.5575611741291652,0.5591565298141665,0.5598055541982963,0.5589643211761788,0.5580663523366923,0.5587961908619558,0.5594159769023364,0.5604943220317777,0.5581276614167525,0.5595817751379588,0.5591580656125554,0.5588402378366463,0.5592918742368144,0.5598158891780382,0.5597040204630478,0.5589704332005919,0.5578747234819988,0.5577070851384145,0.5593846200657213,0.5586172490237199,0.5595813918286121,0.5585660169981049,0.558520280146075,0.5596975649731182,0.5591469844120218,0.5592718408397139,0.5593471470203811,0.5597950090935768,0.5598015808703949,0.559234802523893,0.5581436125733015,0.5592336798405,0.558638838199574,0.5609863695957039,0.5598123938822235,0.5591064212305175,0.5587051212629931,0.5595511648940024,0.5580754114864144,0.5590118818627666,0.5596859956878311,0.5588137122192801,0.5595100891958611,0.5591116013683248,0.5594791880270696,0.5597221758162122,0.5588346306826049,0.5575178942304353,0.5595636412774361,0.5591613963551034],\"type\":\"scatter\"},{\"line\":{\"color\":\"red\",\"dash\":\"dot\",\"width\":3},\"name\":\"moving average\",\"x\":[1,2,3,4,5,6,7,8,9,10,11,12,13,14,15,16,17,18,19,20,21,22,23,24,25,26,27,28,29,30,31,32,33,34,35,36,37,38,39,40,41,42,43,44,45,46,47,48,49,50,51,52,53,54,55,56,57,58,59,60,61,62,63,64,65,66,67,68,69,70,71,72,73,74,75,76,77,78,79,80,81,82,83,84,85,86,87,88,89,90,91,92,93,94,95,96,97,98,99,100,101],\"y\":[0.5761554035345634,0.5721405970661952,0.5708178946637131,0.5693982098253209,0.5681370405516494,0.565177096012458,0.5646795164562961,0.5637310309410333,0.5627492164575931,0.5624705952650277,0.5628390209481617,0.5622691963142448,0.5617299317406946,0.5624142532918288,0.5613209850184508,0.5615656059203546,0.5604334545398624,0.5605870953212773,0.5601662007199337,0.5606457659225372,0.5594003835845076,0.5598081645563174,0.5598608261604376,0.5594534836990824,0.5597187422220954,0.5599044116077466,0.5601750079018124,0.5597965232485707,0.5594783723175478,0.5598110101509041,0.5595190270935146,0.5595866475735155,0.5594624639441875,0.5597794972481547,0.559514148511768,0.5597696617598794,0.5594299142358745,0.5594375141974939,0.5594904687101565,0.5592511082752247,0.5594348987780036,0.5600265876155696,0.5599098845835894,0.5598248986467528,0.5601893158340668,0.5602279775587377,0.559820306057459,0.559899928293464,0.5597020092746972,0.5592252166115669,0.5590744669092662,0.5585708316279462,0.5585812364392332,0.5588713142818647,0.558957218379813,0.5587107863308998,0.5589577896774578,0.5590096790950918,0.5591474326617882,0.5589801007099029,0.5592831852701563,0.5593555602202762,0.5592404124071382,0.5589999228481455,0.5593375684004027,0.5593620174654205,0.5593244909830276,0.5591313881120982,0.5588144302924183,0.5587281764699549,0.5585108221820894,0.5586330139076934,0.5587712726109146,0.5589339116124467,0.558996500593926,0.5591024476715865,0.5590405374738068,0.559196763478262,0.5594517092677623,0.5594725124472177,0.559490076069592,0.5592644304163095,0.5592417369803332,0.5590105028015326,0.5592474605465945,0.5593629788182606,0.5595555405497038,0.5594498288342024,0.559632294173088,0.5590501025512301,0.5588900001473388,0.5590059150388015,0.5590276332300589,0.5590194180904307,0.5592266560668128,0.5593201172996733,0.5593273533253497,0.5593315370180145,0.5589330980249294,0.5590235060067517,0.5589599476723583],\"type\":\"scatter\"}],                        {\"template\":{\"data\":{\"histogram2dcontour\":[{\"type\":\"histogram2dcontour\",\"colorbar\":{\"outlinewidth\":1,\"tickcolor\":\"rgb(36,36,36)\",\"ticks\":\"outside\"},\"colorscale\":[[0.0,\"#440154\"],[0.1111111111111111,\"#482878\"],[0.2222222222222222,\"#3e4989\"],[0.3333333333333333,\"#31688e\"],[0.4444444444444444,\"#26828e\"],[0.5555555555555556,\"#1f9e89\"],[0.6666666666666666,\"#35b779\"],[0.7777777777777778,\"#6ece58\"],[0.8888888888888888,\"#b5de2b\"],[1.0,\"#fde725\"]]}],\"choropleth\":[{\"type\":\"choropleth\",\"colorbar\":{\"outlinewidth\":1,\"tickcolor\":\"rgb(36,36,36)\",\"ticks\":\"outside\"}}],\"histogram2d\":[{\"type\":\"histogram2d\",\"colorbar\":{\"outlinewidth\":1,\"tickcolor\":\"rgb(36,36,36)\",\"ticks\":\"outside\"},\"colorscale\":[[0.0,\"#440154\"],[0.1111111111111111,\"#482878\"],[0.2222222222222222,\"#3e4989\"],[0.3333333333333333,\"#31688e\"],[0.4444444444444444,\"#26828e\"],[0.5555555555555556,\"#1f9e89\"],[0.6666666666666666,\"#35b779\"],[0.7777777777777778,\"#6ece58\"],[0.8888888888888888,\"#b5de2b\"],[1.0,\"#fde725\"]]}],\"heatmap\":[{\"type\":\"heatmap\",\"colorbar\":{\"outlinewidth\":1,\"tickcolor\":\"rgb(36,36,36)\",\"ticks\":\"outside\"},\"colorscale\":[[0.0,\"#440154\"],[0.1111111111111111,\"#482878\"],[0.2222222222222222,\"#3e4989\"],[0.3333333333333333,\"#31688e\"],[0.4444444444444444,\"#26828e\"],[0.5555555555555556,\"#1f9e89\"],[0.6666666666666666,\"#35b779\"],[0.7777777777777778,\"#6ece58\"],[0.8888888888888888,\"#b5de2b\"],[1.0,\"#fde725\"]]}],\"heatmapgl\":[{\"type\":\"heatmapgl\",\"colorbar\":{\"outlinewidth\":1,\"tickcolor\":\"rgb(36,36,36)\",\"ticks\":\"outside\"},\"colorscale\":[[0.0,\"#440154\"],[0.1111111111111111,\"#482878\"],[0.2222222222222222,\"#3e4989\"],[0.3333333333333333,\"#31688e\"],[0.4444444444444444,\"#26828e\"],[0.5555555555555556,\"#1f9e89\"],[0.6666666666666666,\"#35b779\"],[0.7777777777777778,\"#6ece58\"],[0.8888888888888888,\"#b5de2b\"],[1.0,\"#fde725\"]]}],\"contourcarpet\":[{\"type\":\"contourcarpet\",\"colorbar\":{\"outlinewidth\":1,\"tickcolor\":\"rgb(36,36,36)\",\"ticks\":\"outside\"}}],\"contour\":[{\"type\":\"contour\",\"colorbar\":{\"outlinewidth\":1,\"tickcolor\":\"rgb(36,36,36)\",\"ticks\":\"outside\"},\"colorscale\":[[0.0,\"#440154\"],[0.1111111111111111,\"#482878\"],[0.2222222222222222,\"#3e4989\"],[0.3333333333333333,\"#31688e\"],[0.4444444444444444,\"#26828e\"],[0.5555555555555556,\"#1f9e89\"],[0.6666666666666666,\"#35b779\"],[0.7777777777777778,\"#6ece58\"],[0.8888888888888888,\"#b5de2b\"],[1.0,\"#fde725\"]]}],\"surface\":[{\"type\":\"surface\",\"colorbar\":{\"outlinewidth\":1,\"tickcolor\":\"rgb(36,36,36)\",\"ticks\":\"outside\"},\"colorscale\":[[0.0,\"#440154\"],[0.1111111111111111,\"#482878\"],[0.2222222222222222,\"#3e4989\"],[0.3333333333333333,\"#31688e\"],[0.4444444444444444,\"#26828e\"],[0.5555555555555556,\"#1f9e89\"],[0.6666666666666666,\"#35b779\"],[0.7777777777777778,\"#6ece58\"],[0.8888888888888888,\"#b5de2b\"],[1.0,\"#fde725\"]]}],\"mesh3d\":[{\"type\":\"mesh3d\",\"colorbar\":{\"outlinewidth\":1,\"tickcolor\":\"rgb(36,36,36)\",\"ticks\":\"outside\"}}],\"scatter\":[{\"fillpattern\":{\"fillmode\":\"overlay\",\"size\":10,\"solidity\":0.2},\"type\":\"scatter\"}],\"parcoords\":[{\"type\":\"parcoords\",\"line\":{\"colorbar\":{\"outlinewidth\":1,\"tickcolor\":\"rgb(36,36,36)\",\"ticks\":\"outside\"}}}],\"scatterpolargl\":[{\"type\":\"scatterpolargl\",\"marker\":{\"colorbar\":{\"outlinewidth\":1,\"tickcolor\":\"rgb(36,36,36)\",\"ticks\":\"outside\"}}}],\"bar\":[{\"error_x\":{\"color\":\"rgb(36,36,36)\"},\"error_y\":{\"color\":\"rgb(36,36,36)\"},\"marker\":{\"line\":{\"color\":\"white\",\"width\":0.5},\"pattern\":{\"fillmode\":\"overlay\",\"size\":10,\"solidity\":0.2}},\"type\":\"bar\"}],\"scattergeo\":[{\"type\":\"scattergeo\",\"marker\":{\"colorbar\":{\"outlinewidth\":1,\"tickcolor\":\"rgb(36,36,36)\",\"ticks\":\"outside\"}}}],\"scatterpolar\":[{\"type\":\"scatterpolar\",\"marker\":{\"colorbar\":{\"outlinewidth\":1,\"tickcolor\":\"rgb(36,36,36)\",\"ticks\":\"outside\"}}}],\"histogram\":[{\"marker\":{\"line\":{\"color\":\"white\",\"width\":0.6}},\"type\":\"histogram\"}],\"scattergl\":[{\"type\":\"scattergl\",\"marker\":{\"colorbar\":{\"outlinewidth\":1,\"tickcolor\":\"rgb(36,36,36)\",\"ticks\":\"outside\"}}}],\"scatter3d\":[{\"type\":\"scatter3d\",\"line\":{\"colorbar\":{\"outlinewidth\":1,\"tickcolor\":\"rgb(36,36,36)\",\"ticks\":\"outside\"}},\"marker\":{\"colorbar\":{\"outlinewidth\":1,\"tickcolor\":\"rgb(36,36,36)\",\"ticks\":\"outside\"}}}],\"scattermapbox\":[{\"type\":\"scattermapbox\",\"marker\":{\"colorbar\":{\"outlinewidth\":1,\"tickcolor\":\"rgb(36,36,36)\",\"ticks\":\"outside\"}}}],\"scatterternary\":[{\"type\":\"scatterternary\",\"marker\":{\"colorbar\":{\"outlinewidth\":1,\"tickcolor\":\"rgb(36,36,36)\",\"ticks\":\"outside\"}}}],\"scattercarpet\":[{\"type\":\"scattercarpet\",\"marker\":{\"colorbar\":{\"outlinewidth\":1,\"tickcolor\":\"rgb(36,36,36)\",\"ticks\":\"outside\"}}}],\"carpet\":[{\"aaxis\":{\"endlinecolor\":\"rgb(36,36,36)\",\"gridcolor\":\"white\",\"linecolor\":\"white\",\"minorgridcolor\":\"white\",\"startlinecolor\":\"rgb(36,36,36)\"},\"baxis\":{\"endlinecolor\":\"rgb(36,36,36)\",\"gridcolor\":\"white\",\"linecolor\":\"white\",\"minorgridcolor\":\"white\",\"startlinecolor\":\"rgb(36,36,36)\"},\"type\":\"carpet\"}],\"table\":[{\"cells\":{\"fill\":{\"color\":\"rgb(237,237,237)\"},\"line\":{\"color\":\"white\"}},\"header\":{\"fill\":{\"color\":\"rgb(217,217,217)\"},\"line\":{\"color\":\"white\"}},\"type\":\"table\"}],\"barpolar\":[{\"marker\":{\"line\":{\"color\":\"white\",\"width\":0.5},\"pattern\":{\"fillmode\":\"overlay\",\"size\":10,\"solidity\":0.2}},\"type\":\"barpolar\"}],\"pie\":[{\"automargin\":true,\"type\":\"pie\"}]},\"layout\":{\"autotypenumbers\":\"strict\",\"colorway\":[\"#1F77B4\",\"#FF7F0E\",\"#2CA02C\",\"#D62728\",\"#9467BD\",\"#8C564B\",\"#E377C2\",\"#7F7F7F\",\"#BCBD22\",\"#17BECF\"],\"font\":{\"color\":\"rgb(36,36,36)\"},\"hovermode\":\"closest\",\"hoverlabel\":{\"align\":\"left\"},\"paper_bgcolor\":\"white\",\"plot_bgcolor\":\"white\",\"polar\":{\"bgcolor\":\"white\",\"angularaxis\":{\"gridcolor\":\"rgb(232,232,232)\",\"linecolor\":\"rgb(36,36,36)\",\"showgrid\":false,\"showline\":true,\"ticks\":\"outside\"},\"radialaxis\":{\"gridcolor\":\"rgb(232,232,232)\",\"linecolor\":\"rgb(36,36,36)\",\"showgrid\":false,\"showline\":true,\"ticks\":\"outside\"}},\"ternary\":{\"bgcolor\":\"white\",\"aaxis\":{\"gridcolor\":\"rgb(232,232,232)\",\"linecolor\":\"rgb(36,36,36)\",\"showgrid\":false,\"showline\":true,\"ticks\":\"outside\"},\"baxis\":{\"gridcolor\":\"rgb(232,232,232)\",\"linecolor\":\"rgb(36,36,36)\",\"showgrid\":false,\"showline\":true,\"ticks\":\"outside\"},\"caxis\":{\"gridcolor\":\"rgb(232,232,232)\",\"linecolor\":\"rgb(36,36,36)\",\"showgrid\":false,\"showline\":true,\"ticks\":\"outside\"}},\"coloraxis\":{\"colorbar\":{\"outlinewidth\":1,\"tickcolor\":\"rgb(36,36,36)\",\"ticks\":\"outside\"}},\"colorscale\":{\"sequential\":[[0.0,\"#440154\"],[0.1111111111111111,\"#482878\"],[0.2222222222222222,\"#3e4989\"],[0.3333333333333333,\"#31688e\"],[0.4444444444444444,\"#26828e\"],[0.5555555555555556,\"#1f9e89\"],[0.6666666666666666,\"#35b779\"],[0.7777777777777778,\"#6ece58\"],[0.8888888888888888,\"#b5de2b\"],[1.0,\"#fde725\"]],\"sequentialminus\":[[0.0,\"#440154\"],[0.1111111111111111,\"#482878\"],[0.2222222222222222,\"#3e4989\"],[0.3333333333333333,\"#31688e\"],[0.4444444444444444,\"#26828e\"],[0.5555555555555556,\"#1f9e89\"],[0.6666666666666666,\"#35b779\"],[0.7777777777777778,\"#6ece58\"],[0.8888888888888888,\"#b5de2b\"],[1.0,\"#fde725\"]],\"diverging\":[[0.0,\"rgb(103,0,31)\"],[0.1,\"rgb(178,24,43)\"],[0.2,\"rgb(214,96,77)\"],[0.3,\"rgb(244,165,130)\"],[0.4,\"rgb(253,219,199)\"],[0.5,\"rgb(247,247,247)\"],[0.6,\"rgb(209,229,240)\"],[0.7,\"rgb(146,197,222)\"],[0.8,\"rgb(67,147,195)\"],[0.9,\"rgb(33,102,172)\"],[1.0,\"rgb(5,48,97)\"]]},\"xaxis\":{\"gridcolor\":\"rgb(232,232,232)\",\"linecolor\":\"rgb(36,36,36)\",\"showgrid\":false,\"showline\":true,\"ticks\":\"outside\",\"title\":{\"standoff\":15},\"zerolinecolor\":\"rgb(36,36,36)\",\"automargin\":true,\"zeroline\":false},\"yaxis\":{\"gridcolor\":\"rgb(232,232,232)\",\"linecolor\":\"rgb(36,36,36)\",\"showgrid\":false,\"showline\":true,\"ticks\":\"outside\",\"title\":{\"standoff\":15},\"zerolinecolor\":\"rgb(36,36,36)\",\"automargin\":true,\"zeroline\":false},\"scene\":{\"xaxis\":{\"backgroundcolor\":\"white\",\"gridcolor\":\"rgb(232,232,232)\",\"linecolor\":\"rgb(36,36,36)\",\"showbackground\":true,\"showgrid\":false,\"showline\":true,\"ticks\":\"outside\",\"zerolinecolor\":\"rgb(36,36,36)\",\"gridwidth\":2,\"zeroline\":false},\"yaxis\":{\"backgroundcolor\":\"white\",\"gridcolor\":\"rgb(232,232,232)\",\"linecolor\":\"rgb(36,36,36)\",\"showbackground\":true,\"showgrid\":false,\"showline\":true,\"ticks\":\"outside\",\"zerolinecolor\":\"rgb(36,36,36)\",\"gridwidth\":2,\"zeroline\":false},\"zaxis\":{\"backgroundcolor\":\"white\",\"gridcolor\":\"rgb(232,232,232)\",\"linecolor\":\"rgb(36,36,36)\",\"showbackground\":true,\"showgrid\":false,\"showline\":true,\"ticks\":\"outside\",\"zerolinecolor\":\"rgb(36,36,36)\",\"gridwidth\":2,\"zeroline\":false}},\"shapedefaults\":{\"fillcolor\":\"black\",\"line\":{\"width\":0},\"opacity\":0.3},\"annotationdefaults\":{\"arrowhead\":0,\"arrowwidth\":1},\"geo\":{\"bgcolor\":\"white\",\"landcolor\":\"white\",\"subunitcolor\":\"white\",\"showland\":true,\"showlakes\":true,\"lakecolor\":\"white\"},\"title\":{\"x\":0.05},\"mapbox\":{\"style\":\"light\"}}},\"title\":{\"text\":\"Mean Absolute Error, min_samples_leaf = 100\"},\"xaxis\":{\"title\":{\"text\":\"number of trees\"}},\"yaxis\":{\"title\":{\"text\":\"MAE\"}}},                        {\"responsive\": true}                    ).then(function(){\n",
       "                            \n",
       "var gd = document.getElementById('b9d363c1-8807-445b-9b14-47e19dafe97c');\n",
       "var x = new MutationObserver(function (mutations, observer) {{\n",
       "        var display = window.getComputedStyle(gd).display;\n",
       "        if (!display || display === 'none') {{\n",
       "            console.log([gd, 'removed!']);\n",
       "            Plotly.purge(gd);\n",
       "            observer.disconnect();\n",
       "        }}\n",
       "}});\n",
       "\n",
       "// Listen for the removal of the full notebook cells\n",
       "var notebookContainer = gd.closest('#notebook-container');\n",
       "if (notebookContainer) {{\n",
       "    x.observe(notebookContainer, {childList: true});\n",
       "}}\n",
       "\n",
       "// Listen for the clearing of the current output cell\n",
       "var outputEl = gd.closest('.output');\n",
       "if (outputEl) {{\n",
       "    x.observe(outputEl, {childList: true});\n",
       "}}\n",
       "\n",
       "                        })                };                });            </script>        </div>"
      ]
     },
     "metadata": {},
     "output_type": "display_data"
    }
   ],
   "source": [
    "import plotly.graph_objects as go\n",
    "\n",
    "fig = go.Figure()\n",
    "fig.add_trace(go.Scatter(x=tmp_df.index, y=tmp_df[100], name='actual value',\n",
    "                         line=dict(color='darkblue', width=1.5)))\n",
    "\n",
    "\n",
    "fig.add_trace(go.Scatter(x=tmp_df.index, y=tmp_df['moving_avg'], name='moving average',\n",
    "                         line=dict(color='red', width=3, dash = 'dot')))\n",
    "\n",
    "fig.update_layout(title='Mean Absolute Error, min_samples_leaf = 100',\n",
    "                   xaxis_title='number of trees',\n",
    "                   yaxis_title='MAE')"
   ]
  },
  {
   "cell_type": "code",
   "execution_count": 53,
   "id": "92bb6e18",
   "metadata": {},
   "outputs": [
    {
     "name": "stdout",
     "output_type": "stream",
     "text": [
      "max_depth = 1\n"
     ]
    },
    {
     "name": "stderr",
     "output_type": "stream",
     "text": [
      "100%|█████████████████████████████████████████| 200/200 [00:43<00:00,  4.58it/s]\n"
     ]
    },
    {
     "name": "stdout",
     "output_type": "stream",
     "text": [
      "max_depth = 2\n"
     ]
    },
    {
     "name": "stderr",
     "output_type": "stream",
     "text": [
      "100%|█████████████████████████████████████████| 200/200 [00:43<00:00,  4.55it/s]\n"
     ]
    },
    {
     "name": "stdout",
     "output_type": "stream",
     "text": [
      "max_depth = 3\n"
     ]
    },
    {
     "name": "stderr",
     "output_type": "stream",
     "text": [
      "100%|█████████████████████████████████████████| 200/200 [00:43<00:00,  4.57it/s]\n"
     ]
    },
    {
     "name": "stdout",
     "output_type": "stream",
     "text": [
      "max_depth = 4\n"
     ]
    },
    {
     "name": "stderr",
     "output_type": "stream",
     "text": [
      "100%|█████████████████████████████████████████| 200/200 [00:43<00:00,  4.57it/s]\n"
     ]
    },
    {
     "name": "stdout",
     "output_type": "stream",
     "text": [
      "max_depth = 5\n"
     ]
    },
    {
     "name": "stderr",
     "output_type": "stream",
     "text": [
      "100%|█████████████████████████████████████████| 200/200 [00:43<00:00,  4.55it/s]\n"
     ]
    },
    {
     "name": "stdout",
     "output_type": "stream",
     "text": [
      "max_depth = 8\n"
     ]
    },
    {
     "name": "stderr",
     "output_type": "stream",
     "text": [
      "100%|█████████████████████████████████████████| 200/200 [00:43<00:00,  4.58it/s]\n"
     ]
    },
    {
     "name": "stdout",
     "output_type": "stream",
     "text": [
      "max_depth = 10\n"
     ]
    },
    {
     "name": "stderr",
     "output_type": "stream",
     "text": [
      "100%|█████████████████████████████████████████| 200/200 [00:43<00:00,  4.56it/s]\n"
     ]
    },
    {
     "name": "stdout",
     "output_type": "stream",
     "text": [
      "max_depth = 15\n"
     ]
    },
    {
     "name": "stderr",
     "output_type": "stream",
     "text": [
      "100%|█████████████████████████████████████████| 200/200 [00:44<00:00,  4.54it/s]\n"
     ]
    },
    {
     "name": "stdout",
     "output_type": "stream",
     "text": [
      "max_depth = 20\n"
     ]
    },
    {
     "name": "stderr",
     "output_type": "stream",
     "text": [
      "100%|█████████████████████████████████████████| 200/200 [00:44<00:00,  4.54it/s]\n"
     ]
    },
    {
     "name": "stdout",
     "output_type": "stream",
     "text": [
      "max_depth = 25\n"
     ]
    },
    {
     "name": "stderr",
     "output_type": "stream",
     "text": [
      "100%|█████████████████████████████████████████| 200/200 [00:43<00:00,  4.56it/s]\n"
     ]
    },
    {
     "name": "stdout",
     "output_type": "stream",
     "text": [
      "max_depth = 30\n"
     ]
    },
    {
     "name": "stderr",
     "output_type": "stream",
     "text": [
      "100%|█████████████████████████████████████████| 200/200 [00:44<00:00,  4.54it/s]\n"
     ]
    }
   ],
   "source": [
    "tmp_dfs = []\n",
    "for max_depth in [1, 2, 3, 4, 5, 8, 10, 15, 20, 25, 30]:\n",
    "    print('max_depth = %d' % max_depth)\n",
    "    tmp_data = []\n",
    "    for n in tqdm.tqdm(list(range(1, 201))):\n",
    "        clf = sklearn.ensemble.RandomForestRegressor(n, min_samples_leaf=min_samples_leaf)\n",
    "        clf.fit(train_X, train_y)\n",
    "\n",
    "        tmp_data.append(\n",
    "            {\n",
    "                'max_depth': max_depth,\n",
    "                'num_trees': n,\n",
    "                'val_mae': sklearn.metrics.mean_absolute_error(clf.predict(val_X), val_y),\n",
    "                'val_mse': sklearn.metrics.mean_squared_error(clf.predict(val_X), val_y),\n",
    "                'train_mae': sklearn.metrics.mean_absolute_error(clf.predict(train_X), train_y),\n",
    "                'train_mse': sklearn.metrics.mean_squared_error(clf.predict(train_X), train_y)\n",
    "            }\n",
    "        )\n",
    "        \n",
    "    tmp_dfs.append(pd.DataFrame(tmp_data))"
   ]
  },
  {
   "cell_type": "code",
   "execution_count": 54,
   "id": "1e4ca9a6",
   "metadata": {},
   "outputs": [],
   "source": [
    "max_depth_num_trees_df = pd.concat(tmp_dfs)"
   ]
  },
  {
   "cell_type": "code",
   "execution_count": 55,
   "id": "2c08b8a9",
   "metadata": {},
   "outputs": [
    {
     "data": {
      "application/vnd.plotly.v1+json": {
       "config": {
        "plotlyServerURL": "https://plot.ly"
       },
       "data": [
        {
         "hovertemplate": "max_depth=1<br>num_trees=%{x}<br>value=%{y}<extra></extra>",
         "legendgroup": "1",
         "line": {
          "color": "#1F77B4",
          "dash": "solid"
         },
         "marker": {
          "symbol": "circle"
         },
         "mode": "lines",
         "name": "1",
         "showlegend": true,
         "type": "scattergl",
         "x": [
          1,
          2,
          3,
          4,
          5,
          6,
          7,
          8,
          9,
          10,
          11,
          12,
          13,
          14,
          15,
          16,
          17,
          18,
          19,
          20,
          21,
          22,
          23,
          24,
          25,
          26,
          27,
          28,
          29,
          30,
          31,
          32,
          33,
          34,
          35,
          36,
          37,
          38,
          39,
          40,
          41,
          42,
          43,
          44,
          45,
          46,
          47,
          48,
          49,
          50,
          51,
          52,
          53,
          54,
          55,
          56,
          57,
          58,
          59,
          60,
          61,
          62,
          63,
          64,
          65,
          66,
          67,
          68,
          69,
          70,
          71,
          72,
          73,
          74,
          75,
          76,
          77,
          78,
          79,
          80,
          81,
          82,
          83,
          84,
          85,
          86,
          87,
          88,
          89,
          90,
          91,
          92,
          93,
          94,
          95,
          96,
          97,
          98,
          99,
          100,
          101,
          102,
          103,
          104,
          105,
          106,
          107,
          108,
          109,
          110,
          111,
          112,
          113,
          114,
          115,
          116,
          117,
          118,
          119,
          120,
          121,
          122,
          123,
          124,
          125,
          126,
          127,
          128,
          129,
          130,
          131,
          132,
          133,
          134,
          135,
          136,
          137,
          138,
          139,
          140,
          141,
          142,
          143,
          144,
          145,
          146,
          147,
          148,
          149,
          150,
          151,
          152,
          153,
          154,
          155,
          156,
          157,
          158,
          159,
          160,
          161,
          162,
          163,
          164,
          165,
          166,
          167,
          168,
          169,
          170,
          171,
          172,
          173,
          174,
          175,
          176,
          177,
          178,
          179,
          180,
          181,
          182,
          183,
          184,
          185,
          186,
          187,
          188,
          189,
          190,
          191,
          192,
          193,
          194,
          195,
          196,
          197,
          198,
          199,
          200
         ],
         "xaxis": "x",
         "y": [
          0.6556091445686142,
          0.6559671025689326,
          0.6284916940418678,
          0.6265725885624196,
          0.6475970160854214,
          0.6363464695138739,
          0.6363420593615813,
          0.6313197592332915,
          0.6312957821968381,
          0.6345517109499589,
          0.6421746314682654,
          0.6350684765485155,
          0.6395984424790746,
          0.6392357414934512,
          0.6312790016128312,
          0.6505311436192266,
          0.635034480183328,
          0.6389430204064064,
          0.6321751126819147,
          0.6297406211238425,
          0.6340943947455917,
          0.6373017576620159,
          0.6326088188973865,
          0.631137540245298,
          0.6339840073101184,
          0.6345778867976568,
          0.6380022713108197,
          0.6376201543844433,
          0.6368738569765385,
          0.6336975284253245,
          0.6285724733680633,
          0.6349079933285797,
          0.6311332732736783,
          0.6347885631090746,
          0.6329285800586522,
          0.6320876422379802,
          0.6366462193294774,
          0.6360502767002962,
          0.6350116822439628,
          0.6284542577720905,
          0.6289137928059128,
          0.6311641089888974,
          0.6303624653071291,
          0.631180294544063,
          0.6335365555724644,
          0.6304277298624695,
          0.6346870856839515,
          0.6307873746945319,
          0.6335458041435876,
          0.6351273261189913,
          0.6333944352004194,
          0.6342914305517444,
          0.6350694593362893,
          0.6322448632033092,
          0.6341217487585808,
          0.6328675371218192,
          0.6347819608289968,
          0.6325091042948595,
          0.6324265476916394,
          0.6350970620325342,
          0.6360926747591263,
          0.6355308852335644,
          0.632631909247924,
          0.6362714282121154,
          0.6308490090894362,
          0.6295266757692983,
          0.6330183485165578,
          0.6346464736786726,
          0.6319938166983231,
          0.6339340217835417,
          0.6323255182442782,
          0.6307432603181334,
          0.634942397040573,
          0.6373588353047809,
          0.6312366181082997,
          0.6324111221125868,
          0.6337839838256639,
          0.6353441981512905,
          0.6313517775872433,
          0.6350471327267977,
          0.6342461590819712,
          0.6340688835823065,
          0.6324177732298734,
          0.6317506461991985,
          0.6303501947111741,
          0.6353749867887166,
          0.6359954407264065,
          0.6361167425518585,
          0.6355144472921416,
          0.6327274067927294,
          0.634046429657187,
          0.6333358805806636,
          0.6344617860223698,
          0.6352438204590813,
          0.6345007793072757,
          0.6350389732034719,
          0.6337347330120656,
          0.6336569458485142,
          0.6341217821600156,
          0.6326212798716875,
          0.6337998665505258,
          0.6313711297678215,
          0.6338653100151606,
          0.6324392179443383,
          0.6328202013951264,
          0.6299769503867064,
          0.6325551641204961,
          0.6332405921617034,
          0.6320455859869503,
          0.6339195859579941,
          0.6337219447614212,
          0.6325341501337428,
          0.6352531237732739,
          0.6325349829132833,
          0.6321367096938494,
          0.6339490959016727,
          0.6315161270398476,
          0.634565416669514,
          0.6326242130605569,
          0.6336088609103938,
          0.6339016036651339,
          0.6350471006685311,
          0.6364810416544777,
          0.6345147734695932,
          0.6319115346648856,
          0.6343361954284894,
          0.6305549540465377,
          0.6354481263946747,
          0.6313854859830831,
          0.6329655415187803,
          0.6320908844804306,
          0.6343870000830749,
          0.6342828512047379,
          0.6349193516549387,
          0.6348563278106988,
          0.6335017697830948,
          0.6327832738850789,
          0.6355556879680094,
          0.6340642172900163,
          0.6345000507125533,
          0.6311895229865618,
          0.6341099688066801,
          0.6335897486692719,
          0.6329275785060559,
          0.6322415508952371,
          0.6331373458850477,
          0.6329256021681351,
          0.6323690188399421,
          0.6334795993759051,
          0.6328699276180548,
          0.6349589691238107,
          0.6332154029305965,
          0.6322626631421148,
          0.6342316386229226,
          0.6337611969063518,
          0.6320409592511522,
          0.6340146160656858,
          0.6322008778706991,
          0.6330413021592614,
          0.6346504612407916,
          0.6355578801073204,
          0.6317932778478619,
          0.6318717485135905,
          0.6318017091523012,
          0.6362280273523101,
          0.633618163535737,
          0.6322558888639025,
          0.63337132524586,
          0.6341135325582986,
          0.6337444884777828,
          0.6328682107275042,
          0.6330799503353985,
          0.6349673133971074,
          0.631956648238788,
          0.6349973964206684,
          0.6354988746968199,
          0.6344518230082212,
          0.633714523912423,
          0.6315076729419459,
          0.6355839696987325,
          0.631677093359544,
          0.6330103777364073,
          0.6347001823981526,
          0.6339761452432877,
          0.6348525470480035,
          0.633101903394389,
          0.6337032037898835,
          0.6329906225976968,
          0.6314796778246182,
          0.6332364082304558,
          0.6333697949770668,
          0.6322459874304429,
          0.6338504484429588,
          0.6331982038804758,
          0.635448881146761,
          0.6350459632234513,
          0.6332364628599471,
          0.6366579480105593,
          0.6316730587180728,
          0.6321499926624565
         ],
         "yaxis": "y"
        },
        {
         "hovertemplate": "max_depth=2<br>num_trees=%{x}<br>value=%{y}<extra></extra>",
         "legendgroup": "2",
         "line": {
          "color": "#FF7F0E",
          "dash": "solid"
         },
         "marker": {
          "symbol": "circle"
         },
         "mode": "lines",
         "name": "2",
         "showlegend": true,
         "type": "scattergl",
         "x": [
          1,
          2,
          3,
          4,
          5,
          6,
          7,
          8,
          9,
          10,
          11,
          12,
          13,
          14,
          15,
          16,
          17,
          18,
          19,
          20,
          21,
          22,
          23,
          24,
          25,
          26,
          27,
          28,
          29,
          30,
          31,
          32,
          33,
          34,
          35,
          36,
          37,
          38,
          39,
          40,
          41,
          42,
          43,
          44,
          45,
          46,
          47,
          48,
          49,
          50,
          51,
          52,
          53,
          54,
          55,
          56,
          57,
          58,
          59,
          60,
          61,
          62,
          63,
          64,
          65,
          66,
          67,
          68,
          69,
          70,
          71,
          72,
          73,
          74,
          75,
          76,
          77,
          78,
          79,
          80,
          81,
          82,
          83,
          84,
          85,
          86,
          87,
          88,
          89,
          90,
          91,
          92,
          93,
          94,
          95,
          96,
          97,
          98,
          99,
          100,
          101,
          102,
          103,
          104,
          105,
          106,
          107,
          108,
          109,
          110,
          111,
          112,
          113,
          114,
          115,
          116,
          117,
          118,
          119,
          120,
          121,
          122,
          123,
          124,
          125,
          126,
          127,
          128,
          129,
          130,
          131,
          132,
          133,
          134,
          135,
          136,
          137,
          138,
          139,
          140,
          141,
          142,
          143,
          144,
          145,
          146,
          147,
          148,
          149,
          150,
          151,
          152,
          153,
          154,
          155,
          156,
          157,
          158,
          159,
          160,
          161,
          162,
          163,
          164,
          165,
          166,
          167,
          168,
          169,
          170,
          171,
          172,
          173,
          174,
          175,
          176,
          177,
          178,
          179,
          180,
          181,
          182,
          183,
          184,
          185,
          186,
          187,
          188,
          189,
          190,
          191,
          192,
          193,
          194,
          195,
          196,
          197,
          198,
          199,
          200
         ],
         "xaxis": "x",
         "y": [
          0.6283285954922936,
          0.6547084757024418,
          0.6406660945516429,
          0.6226424922059413,
          0.6276824676445746,
          0.6313881548628971,
          0.6360010019452299,
          0.6264540982540697,
          0.6301966593066219,
          0.6309310435433064,
          0.6333480972547081,
          0.6334085230968455,
          0.632987164066301,
          0.6395200059330279,
          0.635345935643581,
          0.6407772888335282,
          0.6394470243365038,
          0.6296004711299773,
          0.635769426991198,
          0.6379289969477215,
          0.6327781903285634,
          0.6387595664662249,
          0.6373719863258664,
          0.6367726614773478,
          0.6315993489579191,
          0.6359789662848389,
          0.6315562705162842,
          0.6365287279182067,
          0.6352691182760483,
          0.6334920268431073,
          0.6356524933961755,
          0.629983737349186,
          0.6357185834760218,
          0.638460583275036,
          0.632329451603603,
          0.6299460775848706,
          0.6336159527591236,
          0.6315147849934879,
          0.6367309737493451,
          0.6323747408261896,
          0.6316017479016621,
          0.6340721397679556,
          0.633803414381438,
          0.6421207861407813,
          0.6359302678616108,
          0.6347537402217814,
          0.634957540746528,
          0.6308239322873888,
          0.6334750834831511,
          0.6304946839898252,
          0.6335554721627691,
          0.6344133051129354,
          0.6297936553550294,
          0.6347321829786082,
          0.6350451798313378,
          0.6351613389428115,
          0.6297322773874056,
          0.6332840770904616,
          0.6348824709734704,
          0.6331974916569446,
          0.6357482360454233,
          0.6302788399238846,
          0.6330467451982952,
          0.6306420473495586,
          0.6327591954260127,
          0.6359947019937681,
          0.6290951465984141,
          0.6336393369209434,
          0.634595748713846,
          0.6320995579391754,
          0.6325258136816727,
          0.633246480688175,
          0.633734432960509,
          0.6349832104339911,
          0.6349551806152914,
          0.631932806603683,
          0.6349248066007834,
          0.6331350416789323,
          0.6313831570355006,
          0.6351346878097925,
          0.6334722932949102,
          0.6333310562151143,
          0.6343357174244257,
          0.6358359433501112,
          0.6351841134903702,
          0.6344684286845474,
          0.6324700755800778,
          0.6368299113851877,
          0.6347884461466221,
          0.6356924754889041,
          0.6321420850475536,
          0.6309870333100095,
          0.633220129726434,
          0.6338699820955257,
          0.6351670853289203,
          0.6342133247442151,
          0.6319392193305263,
          0.6343518772850966,
          0.6351631036760211,
          0.6315910039030016,
          0.6319803423700762,
          0.6357844247651557,
          0.6316399692438102,
          0.6323411337074857,
          0.6315967251910279,
          0.6352583376938479,
          0.631981336082542,
          0.6341509891674746,
          0.6331322013552783,
          0.632294603257308,
          0.6332191970340425,
          0.6338476867831437,
          0.6342620077419477,
          0.6329474419644007,
          0.6353361560636671,
          0.6335008259201413,
          0.63215668929988,
          0.6340605073547685,
          0.6350736513977313,
          0.6339373005282948,
          0.6340504299264436,
          0.6309887353785125,
          0.6350739356843752,
          0.6319038948437325,
          0.6342558553899695,
          0.6302004046298625,
          0.6321464612219043,
          0.6341664729111258,
          0.632711795147053,
          0.6331187646331697,
          0.635055303297397,
          0.6313538942131768,
          0.6309745029910108,
          0.6336976324053278,
          0.6340923601756365,
          0.6327936074307342,
          0.6333646809888951,
          0.6349179949056557,
          0.6340524359972888,
          0.6319155970223159,
          0.6334437161460506,
          0.6335089118537081,
          0.6361182519764783,
          0.6339603934974095,
          0.6345822533429734,
          0.6334217329666715,
          0.6349657349031212,
          0.6325917302915962,
          0.6353323094339504,
          0.6327830065077145,
          0.6341281262836159,
          0.6324992969583318,
          0.6306683924777534,
          0.6327446715944804,
          0.6319427133611073,
          0.6330462277068842,
          0.632484935587316,
          0.6354030129710297,
          0.6328430518060645,
          0.6345623402027096,
          0.635174594854315,
          0.6334685628421424,
          0.6345067437990206,
          0.634018479499424,
          0.6327275128698828,
          0.63299028135506,
          0.6336820934724715,
          0.6339737841979909,
          0.6326350469708317,
          0.6357964717168808,
          0.6330532279206099,
          0.6351786554714329,
          0.6339847887560573,
          0.6334715971066605,
          0.633896325899983,
          0.6352401224367384,
          0.6316835617620241,
          0.633758837285838,
          0.6333326939550132,
          0.6315979320583162,
          0.6320491871128825,
          0.6319365148176355,
          0.6334867691687648,
          0.635230573019664,
          0.6337108125816268,
          0.6338424007749043,
          0.6345610651508352,
          0.6322699062624559,
          0.6335642266286655,
          0.6324076669352499,
          0.6318024583831484,
          0.6328207706150601,
          0.6336609399165004,
          0.6341756990968669,
          0.6332315400155059,
          0.6324634483239394,
          0.6335691038183284,
          0.634977848476003,
          0.6327720430788778,
          0.6334742459533111
         ],
         "yaxis": "y"
        },
        {
         "hovertemplate": "max_depth=3<br>num_trees=%{x}<br>value=%{y}<extra></extra>",
         "legendgroup": "3",
         "line": {
          "color": "#2CA02C",
          "dash": "solid"
         },
         "marker": {
          "symbol": "circle"
         },
         "mode": "lines",
         "name": "3",
         "showlegend": true,
         "type": "scattergl",
         "x": [
          1,
          2,
          3,
          4,
          5,
          6,
          7,
          8,
          9,
          10,
          11,
          12,
          13,
          14,
          15,
          16,
          17,
          18,
          19,
          20,
          21,
          22,
          23,
          24,
          25,
          26,
          27,
          28,
          29,
          30,
          31,
          32,
          33,
          34,
          35,
          36,
          37,
          38,
          39,
          40,
          41,
          42,
          43,
          44,
          45,
          46,
          47,
          48,
          49,
          50,
          51,
          52,
          53,
          54,
          55,
          56,
          57,
          58,
          59,
          60,
          61,
          62,
          63,
          64,
          65,
          66,
          67,
          68,
          69,
          70,
          71,
          72,
          73,
          74,
          75,
          76,
          77,
          78,
          79,
          80,
          81,
          82,
          83,
          84,
          85,
          86,
          87,
          88,
          89,
          90,
          91,
          92,
          93,
          94,
          95,
          96,
          97,
          98,
          99,
          100,
          101,
          102,
          103,
          104,
          105,
          106,
          107,
          108,
          109,
          110,
          111,
          112,
          113,
          114,
          115,
          116,
          117,
          118,
          119,
          120,
          121,
          122,
          123,
          124,
          125,
          126,
          127,
          128,
          129,
          130,
          131,
          132,
          133,
          134,
          135,
          136,
          137,
          138,
          139,
          140,
          141,
          142,
          143,
          144,
          145,
          146,
          147,
          148,
          149,
          150,
          151,
          152,
          153,
          154,
          155,
          156,
          157,
          158,
          159,
          160,
          161,
          162,
          163,
          164,
          165,
          166,
          167,
          168,
          169,
          170,
          171,
          172,
          173,
          174,
          175,
          176,
          177,
          178,
          179,
          180,
          181,
          182,
          183,
          184,
          185,
          186,
          187,
          188,
          189,
          190,
          191,
          192,
          193,
          194,
          195,
          196,
          197,
          198,
          199,
          200
         ],
         "xaxis": "x",
         "y": [
          0.6546449116363996,
          0.6230122880893947,
          0.6301004750947478,
          0.6266227321451132,
          0.6294067649161441,
          0.6318770075405232,
          0.6267358144387604,
          0.6301650738144382,
          0.6325721760643636,
          0.6367861482816819,
          0.6331656335039462,
          0.6383529638154621,
          0.6357891755812204,
          0.6320813574365594,
          0.6277942845648825,
          0.6372356468395983,
          0.6293665203981228,
          0.6324246669978402,
          0.631975307162733,
          0.6341929324937855,
          0.6372896046459772,
          0.6327884709950176,
          0.6364669025526472,
          0.6326963940175154,
          0.6339124214027785,
          0.629981107845596,
          0.633712178601651,
          0.636877779166333,
          0.632805519947927,
          0.6351408710105185,
          0.6365676732690749,
          0.6334425788108651,
          0.6318696853786273,
          0.6345267071227494,
          0.6323114474060907,
          0.6310737958829129,
          0.6308314836868305,
          0.6354481396948272,
          0.6355467079292002,
          0.6346907299034912,
          0.6317144102001664,
          0.6299046671271946,
          0.6321300865484322,
          0.6350117278000234,
          0.6315493516251341,
          0.6346962271682005,
          0.6329721702836724,
          0.6312602239899846,
          0.6329229398949371,
          0.6317509964109258,
          0.6299469558037899,
          0.634360601598358,
          0.6301655486881108,
          0.6348295972698876,
          0.6330714691507041,
          0.6341229710648346,
          0.6333827210976548,
          0.6329798529410822,
          0.630480430175649,
          0.6346317694813502,
          0.6321719638592792,
          0.6360555586242314,
          0.6349968956201424,
          0.6323976240457151,
          0.6341591500890196,
          0.6341017678209016,
          0.6340364035572951,
          0.634471307745968,
          0.63191133853232,
          0.6331653527019122,
          0.6336027562423597,
          0.6345903940451283,
          0.6329392104193914,
          0.6332043812401373,
          0.633126959880934,
          0.6335118377896943,
          0.6363910975510603,
          0.6346359489733893,
          0.6320102382222282,
          0.6350813267424806,
          0.6315754499511272,
          0.6330718907170203,
          0.6322056592911475,
          0.6326071102633802,
          0.6335618799325744,
          0.6343457392559894,
          0.6338670273570264,
          0.6331329644384693,
          0.6343489831651412,
          0.6317827178963455,
          0.632668048105631,
          0.6349513764276405,
          0.6326308751770506,
          0.6318876489790403,
          0.6315939094729671,
          0.6328739213667807,
          0.6356868949276778,
          0.635718390521953,
          0.6341294542479071,
          0.633345570536983,
          0.634190813220892,
          0.6343328532260433,
          0.6362958046546734,
          0.6325090306756946,
          0.6339338856082194,
          0.6329371439590625,
          0.6338569253045127,
          0.6351727566630149,
          0.6335905960316066,
          0.6327991672648934,
          0.6349815392195167,
          0.6351839291567059,
          0.631841601177795,
          0.6344220392695687,
          0.6335449026869547,
          0.6330574125893705,
          0.6335629101326777,
          0.6327532568380461,
          0.6321846461939004,
          0.6314868510861859,
          0.6364034850970912,
          0.6327193086670225,
          0.6323958965207546,
          0.6349459156417538,
          0.6342045133693007,
          0.6346692538144612,
          0.6347741562365893,
          0.6330931500156044,
          0.6332658736477523,
          0.634997891166654,
          0.6330811513882973,
          0.6356634758902889,
          0.6331125930404502,
          0.6331199228485597,
          0.6334853468444832,
          0.6347189115631022,
          0.6332036545261135,
          0.6329467698730517,
          0.632070436713754,
          0.6345517414399071,
          0.634777227353497,
          0.6335739965715521,
          0.6344750661685763,
          0.6363592663644765,
          0.6347354851506861,
          0.6364864664329436,
          0.6313234939018748,
          0.6342922517709466,
          0.6341074983788322,
          0.6327481176781152,
          0.6321128027405568,
          0.6354773128480362,
          0.6328068174895534,
          0.632850463453654,
          0.6342166261233044,
          0.6357020882537763,
          0.6338190279723677,
          0.6343626471025181,
          0.6341949907238348,
          0.6319944120250109,
          0.6335881723110846,
          0.632882047506857,
          0.6331802326640771,
          0.6320050649401243,
          0.6331999465324616,
          0.6325367039639,
          0.6310003621670575,
          0.6326416586275487,
          0.6311428938659867,
          0.6347074003730674,
          0.6349029418240023,
          0.6348983197305577,
          0.6332873204059316,
          0.6316964284799934,
          0.6320038453983999,
          0.6313991491503854,
          0.634721965841415,
          0.633892067466677,
          0.63343143625649,
          0.6313821967888248,
          0.6326512397001154,
          0.6328680717233642,
          0.6319189720800122,
          0.6333615786043734,
          0.6323453990073937,
          0.6353860590899443,
          0.6338014946507751,
          0.633934204139073,
          0.6325189851675956,
          0.6336011844212086,
          0.6317398242724102,
          0.6325777925044247,
          0.6320965152249804,
          0.6333539594213786,
          0.633645165325458,
          0.6340366136612897,
          0.6323918660996282,
          0.6324218360374999,
          0.6339046846201831,
          0.6332248632528268
         ],
         "yaxis": "y"
        },
        {
         "hovertemplate": "max_depth=4<br>num_trees=%{x}<br>value=%{y}<extra></extra>",
         "legendgroup": "4",
         "line": {
          "color": "#D62728",
          "dash": "solid"
         },
         "marker": {
          "symbol": "circle"
         },
         "mode": "lines",
         "name": "4",
         "showlegend": true,
         "type": "scattergl",
         "x": [
          1,
          2,
          3,
          4,
          5,
          6,
          7,
          8,
          9,
          10,
          11,
          12,
          13,
          14,
          15,
          16,
          17,
          18,
          19,
          20,
          21,
          22,
          23,
          24,
          25,
          26,
          27,
          28,
          29,
          30,
          31,
          32,
          33,
          34,
          35,
          36,
          37,
          38,
          39,
          40,
          41,
          42,
          43,
          44,
          45,
          46,
          47,
          48,
          49,
          50,
          51,
          52,
          53,
          54,
          55,
          56,
          57,
          58,
          59,
          60,
          61,
          62,
          63,
          64,
          65,
          66,
          67,
          68,
          69,
          70,
          71,
          72,
          73,
          74,
          75,
          76,
          77,
          78,
          79,
          80,
          81,
          82,
          83,
          84,
          85,
          86,
          87,
          88,
          89,
          90,
          91,
          92,
          93,
          94,
          95,
          96,
          97,
          98,
          99,
          100,
          101,
          102,
          103,
          104,
          105,
          106,
          107,
          108,
          109,
          110,
          111,
          112,
          113,
          114,
          115,
          116,
          117,
          118,
          119,
          120,
          121,
          122,
          123,
          124,
          125,
          126,
          127,
          128,
          129,
          130,
          131,
          132,
          133,
          134,
          135,
          136,
          137,
          138,
          139,
          140,
          141,
          142,
          143,
          144,
          145,
          146,
          147,
          148,
          149,
          150,
          151,
          152,
          153,
          154,
          155,
          156,
          157,
          158,
          159,
          160,
          161,
          162,
          163,
          164,
          165,
          166,
          167,
          168,
          169,
          170,
          171,
          172,
          173,
          174,
          175,
          176,
          177,
          178,
          179,
          180,
          181,
          182,
          183,
          184,
          185,
          186,
          187,
          188,
          189,
          190,
          191,
          192,
          193,
          194,
          195,
          196,
          197,
          198,
          199,
          200
         ],
         "xaxis": "x",
         "y": [
          0.6287414204295506,
          0.6362188029478416,
          0.6347459795295859,
          0.6293547371806855,
          0.6410630633371406,
          0.6291161691261211,
          0.6262499163443519,
          0.6356426717853424,
          0.6287368176299964,
          0.6317413181362217,
          0.6377687300617629,
          0.628380100529248,
          0.6374656996345579,
          0.6308171900469849,
          0.6302036862251904,
          0.6371894205042318,
          0.6356369540395035,
          0.6285400543502416,
          0.6290996308036546,
          0.634458844038564,
          0.6339292778573659,
          0.6346629103384269,
          0.6487117938441668,
          0.6345568638178567,
          0.6319326605669666,
          0.634146839689433,
          0.6339781954678194,
          0.6302338539379854,
          0.6314629212411926,
          0.6313206456180709,
          0.6321636981131008,
          0.62911389248701,
          0.6343507256855151,
          0.6371683346000083,
          0.6347162556857578,
          0.6388640791792145,
          0.6370837611861496,
          0.6303691112310968,
          0.6336564263941931,
          0.6344807417149572,
          0.6326414253634405,
          0.6362443008529746,
          0.6334312662877217,
          0.6337904496963186,
          0.6352743080054492,
          0.6337048958945842,
          0.6337989300592018,
          0.633736079823259,
          0.6359743798842836,
          0.6368767753679747,
          0.6354237877408986,
          0.6347244147780488,
          0.6336213721099336,
          0.6321591619243145,
          0.6349428297827131,
          0.6388664072385839,
          0.631851699125663,
          0.6355499210554103,
          0.6308936919961529,
          0.6327910490531843,
          0.6324074719569913,
          0.6350250939782521,
          0.6352048459774314,
          0.6320979006973169,
          0.6317110468977059,
          0.6332688791508195,
          0.6357797070469147,
          0.635492477609345,
          0.6335868813173794,
          0.632776996063973,
          0.6330440795849102,
          0.6316297470051121,
          0.6342075452177856,
          0.6347480186142874,
          0.6363846101924352,
          0.6335542810370447,
          0.634959542996819,
          0.6336800583765664,
          0.6357554909840357,
          0.6323593216106844,
          0.6318078276361098,
          0.633189824138336,
          0.6366207352301811,
          0.6322978170631443,
          0.6327115440617749,
          0.6348112762768159,
          0.6350792525583167,
          0.6326415651198943,
          0.6329135306176512,
          0.6302878593616725,
          0.6327389471124003,
          0.6317782072468126,
          0.6363491442237962,
          0.6311397347056652,
          0.6334497208051064,
          0.6346592042307458,
          0.6334332689417692,
          0.6317934612295014,
          0.6333277928284095,
          0.634758075265055,
          0.6338389460100817,
          0.6301631173754386,
          0.6330861397256752,
          0.6344530183188484,
          0.6321497765450753,
          0.6320076922611064,
          0.631864159503458,
          0.634283966719278,
          0.6347267847524459,
          0.6308872857755794,
          0.6330553875846884,
          0.6344455545359008,
          0.6328733353181044,
          0.6319977047921072,
          0.6337338116894466,
          0.6317505806787201,
          0.6342890719772761,
          0.6367215198132319,
          0.6376828770737791,
          0.6325817368342439,
          0.6331585413139711,
          0.6326545997332962,
          0.6323965057339581,
          0.6304941582981116,
          0.6328678284225325,
          0.6352510865719957,
          0.6309368181935122,
          0.6336258839009588,
          0.6326144050519367,
          0.6318332590664494,
          0.6327732685430247,
          0.6322025095701861,
          0.6363930705920459,
          0.6336715496410832,
          0.6338357271466413,
          0.6320149777560862,
          0.6338860966380256,
          0.6317928026513814,
          0.6346778858892593,
          0.6357950070374324,
          0.6329221968284074,
          0.6341091696291546,
          0.6323702764024588,
          0.635877622622517,
          0.6346076192617515,
          0.633231092299818,
          0.6329706053051904,
          0.6346264015848447,
          0.631632914870107,
          0.6336817642867181,
          0.6329632225904488,
          0.6338743550541049,
          0.6314771223462188,
          0.634178577886473,
          0.6364008446642591,
          0.6343599944439023,
          0.6342728424245221,
          0.6337932189395727,
          0.6341024379084041,
          0.6351512182643936,
          0.6338235311356011,
          0.6318348675908493,
          0.6335832979204269,
          0.6331848965517846,
          0.6336278497265493,
          0.6326522557586216,
          0.6351809436890661,
          0.634701452189725,
          0.6328266601490442,
          0.6339516229925808,
          0.6333816652188878,
          0.6351269455696059,
          0.6338201401002088,
          0.6339162053107904,
          0.6331994591566502,
          0.6343203992342393,
          0.6345901142581283,
          0.6336281907393174,
          0.6345648716108387,
          0.6336455440064814,
          0.6325030421142972,
          0.6332180564892884,
          0.6325123163095826,
          0.6320402260650226,
          0.6338949906478286,
          0.6350059736373238,
          0.6329403989861789,
          0.6319834632295467,
          0.6333188016547631,
          0.632970383413161,
          0.6332676365939254,
          0.6333293398489853,
          0.6342650353265129,
          0.6353755567275702,
          0.6338233092417149,
          0.6346325856776809,
          0.6335886279387555,
          0.6334054127210439,
          0.6326691514006861,
          0.6321463170553495
         ],
         "yaxis": "y"
        },
        {
         "hovertemplate": "max_depth=5<br>num_trees=%{x}<br>value=%{y}<extra></extra>",
         "legendgroup": "5",
         "line": {
          "color": "#9467BD",
          "dash": "solid"
         },
         "marker": {
          "symbol": "circle"
         },
         "mode": "lines",
         "name": "5",
         "showlegend": true,
         "type": "scattergl",
         "x": [
          1,
          2,
          3,
          4,
          5,
          6,
          7,
          8,
          9,
          10,
          11,
          12,
          13,
          14,
          15,
          16,
          17,
          18,
          19,
          20,
          21,
          22,
          23,
          24,
          25,
          26,
          27,
          28,
          29,
          30,
          31,
          32,
          33,
          34,
          35,
          36,
          37,
          38,
          39,
          40,
          41,
          42,
          43,
          44,
          45,
          46,
          47,
          48,
          49,
          50,
          51,
          52,
          53,
          54,
          55,
          56,
          57,
          58,
          59,
          60,
          61,
          62,
          63,
          64,
          65,
          66,
          67,
          68,
          69,
          70,
          71,
          72,
          73,
          74,
          75,
          76,
          77,
          78,
          79,
          80,
          81,
          82,
          83,
          84,
          85,
          86,
          87,
          88,
          89,
          90,
          91,
          92,
          93,
          94,
          95,
          96,
          97,
          98,
          99,
          100,
          101,
          102,
          103,
          104,
          105,
          106,
          107,
          108,
          109,
          110,
          111,
          112,
          113,
          114,
          115,
          116,
          117,
          118,
          119,
          120,
          121,
          122,
          123,
          124,
          125,
          126,
          127,
          128,
          129,
          130,
          131,
          132,
          133,
          134,
          135,
          136,
          137,
          138,
          139,
          140,
          141,
          142,
          143,
          144,
          145,
          146,
          147,
          148,
          149,
          150,
          151,
          152,
          153,
          154,
          155,
          156,
          157,
          158,
          159,
          160,
          161,
          162,
          163,
          164,
          165,
          166,
          167,
          168,
          169,
          170,
          171,
          172,
          173,
          174,
          175,
          176,
          177,
          178,
          179,
          180,
          181,
          182,
          183,
          184,
          185,
          186,
          187,
          188,
          189,
          190,
          191,
          192,
          193,
          194,
          195,
          196,
          197,
          198,
          199,
          200
         ],
         "xaxis": "x",
         "y": [
          0.6316039505494064,
          0.63299747578267,
          0.6304884039464151,
          0.626686789964824,
          0.6308957665229274,
          0.6255207258994225,
          0.626481810535224,
          0.6291764564151676,
          0.6454579640708877,
          0.632027744306143,
          0.6475999191075509,
          0.6305729294514781,
          0.6391712816537855,
          0.6316159465669013,
          0.6317426944378167,
          0.6289293938658501,
          0.6431813924050294,
          0.6383313997131762,
          0.6294498309936559,
          0.6325888362212793,
          0.6303106076666868,
          0.6323835324480211,
          0.6369310382105454,
          0.6355533028530497,
          0.6331153935249195,
          0.6316768595708471,
          0.6337514060131555,
          0.6345887054243422,
          0.6324967372085856,
          0.6382387197754317,
          0.6301030161115733,
          0.6309756919219504,
          0.6326569639934242,
          0.6327596218434084,
          0.6350119131300453,
          0.6315937015833134,
          0.6310031851022099,
          0.6355447145109726,
          0.6393485215488405,
          0.6312807836882898,
          0.6359568454732211,
          0.6351885520871426,
          0.6302980633505559,
          0.635780346595399,
          0.6317035189223968,
          0.6351812038495317,
          0.6370322244060792,
          0.6319733610160683,
          0.6319197904053218,
          0.6335875234257068,
          0.6340954321402443,
          0.6384114735319226,
          0.629964464456481,
          0.6330625446432179,
          0.6343184878325482,
          0.6347522385773912,
          0.6308946127353366,
          0.631492891129299,
          0.6364837202723685,
          0.6350879356796121,
          0.6322163705781716,
          0.6352351015793211,
          0.6341579001073772,
          0.6321855407760087,
          0.6336119794359378,
          0.6331249212545865,
          0.635328778332481,
          0.6322690699802613,
          0.6334854320212361,
          0.6301273173720543,
          0.633292296695436,
          0.632356807088418,
          0.6311868330470238,
          0.6336732717148157,
          0.6347458304066779,
          0.632479842629898,
          0.6331238943316724,
          0.6339121534477896,
          0.6327181697075063,
          0.636674558288994,
          0.6321783379365342,
          0.6335599503771365,
          0.6309447346659695,
          0.6332808781201793,
          0.6355041698932138,
          0.6320434927192016,
          0.6351026891893391,
          0.6351801806224224,
          0.6317908261308823,
          0.6344420491766858,
          0.6315112112379078,
          0.6308335190781109,
          0.6336381557561778,
          0.6326316964027463,
          0.6325448620753981,
          0.6349075414465573,
          0.634930638587091,
          0.633945938389639,
          0.6323280838659763,
          0.6310993064404098,
          0.6316743269201871,
          0.6334678841517353,
          0.6320926298934955,
          0.6332820611916047,
          0.6359818971468196,
          0.6316123529516278,
          0.6345196375836373,
          0.6339546771012592,
          0.6339434743745536,
          0.6348629275179808,
          0.6328294981713204,
          0.6303473025574805,
          0.6326890525037019,
          0.6324838460203619,
          0.6358736672086507,
          0.6336627663771965,
          0.6340390889445974,
          0.6343046764646648,
          0.6325283001547984,
          0.6356107172263099,
          0.6350978247879583,
          0.6325054023723935,
          0.6346701186590783,
          0.633505547921866,
          0.6340950110414945,
          0.6321173993258825,
          0.6308159887746008,
          0.6327886476144753,
          0.6322823415317451,
          0.6318841086416737,
          0.6335857464150038,
          0.6337229203278408,
          0.6370725360272181,
          0.631796653295255,
          0.6354247511413637,
          0.6318419854116573,
          0.6323615861258316,
          0.6358723290611397,
          0.6354605897343555,
          0.6324871666842875,
          0.6331390163634096,
          0.6336696301472132,
          0.6322291552235394,
          0.6338504175404089,
          0.6353960039054641,
          0.6329775711686406,
          0.6324438646262497,
          0.6346555328703272,
          0.6337680899291612,
          0.6340422011630874,
          0.6362525902396998,
          0.6326216526065176,
          0.6322995275651238,
          0.6349117216530361,
          0.6324566159624654,
          0.6338097085996769,
          0.6324745616885346,
          0.6332017965396123,
          0.6327055508147647,
          0.6305332083980667,
          0.6314037811834688,
          0.6325371703704515,
          0.6359272115005667,
          0.6357598430358805,
          0.6341226695897955,
          0.6363501865698714,
          0.6350753990181995,
          0.6342635608379923,
          0.6319582813867906,
          0.633800903716473,
          0.6335865098929083,
          0.6316762373330727,
          0.6328467282858976,
          0.6329412668583639,
          0.6333033268293282,
          0.6324567767587648,
          0.6330057358424562,
          0.6347849438269122,
          0.6339131963360641,
          0.6315935955878228,
          0.6313602165029859,
          0.6316094913513364,
          0.6327163264033897,
          0.6345385156234457,
          0.6346259851987706,
          0.6328557908454795,
          0.6316090493208207,
          0.6316166411181503,
          0.6347640632806401,
          0.6329063821468935,
          0.633538098072657,
          0.6323862970690491,
          0.6338519563678593,
          0.6319917468205121,
          0.6341577763255369,
          0.6306226120315759,
          0.6331501319574615,
          0.6331903728705025,
          0.6352713730089234,
          0.6330934826945525
         ],
         "yaxis": "y"
        },
        {
         "hovertemplate": "max_depth=8<br>num_trees=%{x}<br>value=%{y}<extra></extra>",
         "legendgroup": "8",
         "line": {
          "color": "#8C564B",
          "dash": "solid"
         },
         "marker": {
          "symbol": "circle"
         },
         "mode": "lines",
         "name": "8",
         "showlegend": true,
         "type": "scattergl",
         "x": [
          1,
          2,
          3,
          4,
          5,
          6,
          7,
          8,
          9,
          10,
          11,
          12,
          13,
          14,
          15,
          16,
          17,
          18,
          19,
          20,
          21,
          22,
          23,
          24,
          25,
          26,
          27,
          28,
          29,
          30,
          31,
          32,
          33,
          34,
          35,
          36,
          37,
          38,
          39,
          40,
          41,
          42,
          43,
          44,
          45,
          46,
          47,
          48,
          49,
          50,
          51,
          52,
          53,
          54,
          55,
          56,
          57,
          58,
          59,
          60,
          61,
          62,
          63,
          64,
          65,
          66,
          67,
          68,
          69,
          70,
          71,
          72,
          73,
          74,
          75,
          76,
          77,
          78,
          79,
          80,
          81,
          82,
          83,
          84,
          85,
          86,
          87,
          88,
          89,
          90,
          91,
          92,
          93,
          94,
          95,
          96,
          97,
          98,
          99,
          100,
          101,
          102,
          103,
          104,
          105,
          106,
          107,
          108,
          109,
          110,
          111,
          112,
          113,
          114,
          115,
          116,
          117,
          118,
          119,
          120,
          121,
          122,
          123,
          124,
          125,
          126,
          127,
          128,
          129,
          130,
          131,
          132,
          133,
          134,
          135,
          136,
          137,
          138,
          139,
          140,
          141,
          142,
          143,
          144,
          145,
          146,
          147,
          148,
          149,
          150,
          151,
          152,
          153,
          154,
          155,
          156,
          157,
          158,
          159,
          160,
          161,
          162,
          163,
          164,
          165,
          166,
          167,
          168,
          169,
          170,
          171,
          172,
          173,
          174,
          175,
          176,
          177,
          178,
          179,
          180,
          181,
          182,
          183,
          184,
          185,
          186,
          187,
          188,
          189,
          190,
          191,
          192,
          193,
          194,
          195,
          196,
          197,
          198,
          199,
          200
         ],
         "xaxis": "x",
         "y": [
          0.6601109275049863,
          0.621836987052276,
          0.6377161659854048,
          0.6223098302665472,
          0.6396045899995598,
          0.6338360061717746,
          0.6303122521941706,
          0.6326352653472398,
          0.6325931761640425,
          0.632870916613691,
          0.6398111713113122,
          0.6345182823464733,
          0.6271725449135926,
          0.6302376685321671,
          0.6332593854739559,
          0.631882305085747,
          0.6379282316098752,
          0.6309326357857037,
          0.6343462477978017,
          0.6313106739250757,
          0.6343290255001496,
          0.6357689662688033,
          0.6283584710481418,
          0.6349635440680559,
          0.6355162810160923,
          0.634462331607276,
          0.6304714423777367,
          0.628018198732476,
          0.6396204529265024,
          0.6352118561849371,
          0.6332661527013872,
          0.6330203103604242,
          0.6310766720088848,
          0.6357084879660688,
          0.6359913748252045,
          0.6378709236363398,
          0.6353744024034303,
          0.6317920317742914,
          0.6292496571445545,
          0.6312534965737999,
          0.6343865980991128,
          0.6356196777516779,
          0.6358357870365041,
          0.6323289838838888,
          0.6313725647953975,
          0.631977879832097,
          0.631982221669985,
          0.6298450516908741,
          0.6338209693873207,
          0.6329187292780541,
          0.6333059796106203,
          0.6306233076279298,
          0.6353445784022305,
          0.6359862770349028,
          0.6313598711207644,
          0.6343453598964415,
          0.6358777028622533,
          0.6346131189751085,
          0.6333562756435368,
          0.6315229356153387,
          0.633207365900208,
          0.634242337956331,
          0.6331412587257624,
          0.6352622854120837,
          0.6332862666627934,
          0.637930079413408,
          0.6324771191040489,
          0.6341380175889623,
          0.6336108677325636,
          0.6352269718363828,
          0.6280268967900121,
          0.6336189389571241,
          0.63196429846874,
          0.6365418498801796,
          0.6337214904838466,
          0.6301346593318168,
          0.6336151714070949,
          0.6322543202742382,
          0.633807511746662,
          0.630825932976989,
          0.631422968573488,
          0.6334517029675173,
          0.6329623625514905,
          0.6318096082827375,
          0.633773545449445,
          0.6365826709669185,
          0.6323852265455692,
          0.6362610240500542,
          0.6344625178204013,
          0.6351906817656936,
          0.6341360646824217,
          0.6323563588583543,
          0.6331406094844819,
          0.6338723978404942,
          0.6355214632235848,
          0.6345873217612898,
          0.634894245105535,
          0.6349361294611244,
          0.6307822610605474,
          0.6332030679409667,
          0.6339847247328143,
          0.6346648961707111,
          0.6342906439441877,
          0.6335582898391251,
          0.633894767960416,
          0.6323763624057442,
          0.633020143912865,
          0.6347786972525015,
          0.6336395985782574,
          0.6335420571394125,
          0.6326423125066769,
          0.6308521007833845,
          0.63146510447426,
          0.6334935645308987,
          0.6337660619499685,
          0.632529195791264,
          0.6334487212195904,
          0.6339069260035637,
          0.6299669819770994,
          0.634578809473402,
          0.6350271374306452,
          0.6304002361531676,
          0.6324059332497303,
          0.6322816002301145,
          0.6353381014564972,
          0.6304909317984786,
          0.632593773303081,
          0.6351134738409994,
          0.632743682891525,
          0.633612511952291,
          0.6333331197834847,
          0.6346735738584295,
          0.6334088112717574,
          0.6329206159789669,
          0.6322301137897828,
          0.6326539545086586,
          0.6319265048253092,
          0.6359008626323122,
          0.632459616517877,
          0.6359361526804013,
          0.6327706291551461,
          0.6342558846922712,
          0.6315950679313773,
          0.6310668217093016,
          0.6352315028132421,
          0.6334691245599603,
          0.6316448287534222,
          0.6331832807393132,
          0.634017380846154,
          0.6310767494843456,
          0.6342641178615313,
          0.6369713717054664,
          0.6325158907431431,
          0.6322347944788043,
          0.6352652622189313,
          0.6344777188604566,
          0.6320090079309424,
          0.6337457439494366,
          0.6333643545974816,
          0.631057740859514,
          0.6352035797142339,
          0.63480704077868,
          0.6342837883866781,
          0.6351293917280988,
          0.632026928737565,
          0.632265863467678,
          0.6346352501288328,
          0.6325033409027584,
          0.6338933000319938,
          0.6326505710363741,
          0.6349117567214845,
          0.6312509320257674,
          0.63182695634912,
          0.6323292853245418,
          0.6336927344006258,
          0.6334984875143701,
          0.6351634965235925,
          0.6342470632557188,
          0.6315030380074746,
          0.632937616548429,
          0.6316845661314097,
          0.6345137783829582,
          0.6344302972312654,
          0.6347966213102396,
          0.6333212990844432,
          0.6327555178185067,
          0.6317376784712707,
          0.6329449679281199,
          0.6311981440386492,
          0.634218846310352,
          0.6319124625959388,
          0.6348120829393089,
          0.6345749363664445,
          0.6335222621041161,
          0.6341714855819043,
          0.6329188588034917,
          0.6335220636502715,
          0.6331220682612777,
          0.6337951323295946,
          0.6328864163999982
         ],
         "yaxis": "y"
        },
        {
         "hovertemplate": "max_depth=10<br>num_trees=%{x}<br>value=%{y}<extra></extra>",
         "legendgroup": "10",
         "line": {
          "color": "#E377C2",
          "dash": "solid"
         },
         "marker": {
          "symbol": "circle"
         },
         "mode": "lines",
         "name": "10",
         "showlegend": true,
         "type": "scattergl",
         "x": [
          1,
          2,
          3,
          4,
          5,
          6,
          7,
          8,
          9,
          10,
          11,
          12,
          13,
          14,
          15,
          16,
          17,
          18,
          19,
          20,
          21,
          22,
          23,
          24,
          25,
          26,
          27,
          28,
          29,
          30,
          31,
          32,
          33,
          34,
          35,
          36,
          37,
          38,
          39,
          40,
          41,
          42,
          43,
          44,
          45,
          46,
          47,
          48,
          49,
          50,
          51,
          52,
          53,
          54,
          55,
          56,
          57,
          58,
          59,
          60,
          61,
          62,
          63,
          64,
          65,
          66,
          67,
          68,
          69,
          70,
          71,
          72,
          73,
          74,
          75,
          76,
          77,
          78,
          79,
          80,
          81,
          82,
          83,
          84,
          85,
          86,
          87,
          88,
          89,
          90,
          91,
          92,
          93,
          94,
          95,
          96,
          97,
          98,
          99,
          100,
          101,
          102,
          103,
          104,
          105,
          106,
          107,
          108,
          109,
          110,
          111,
          112,
          113,
          114,
          115,
          116,
          117,
          118,
          119,
          120,
          121,
          122,
          123,
          124,
          125,
          126,
          127,
          128,
          129,
          130,
          131,
          132,
          133,
          134,
          135,
          136,
          137,
          138,
          139,
          140,
          141,
          142,
          143,
          144,
          145,
          146,
          147,
          148,
          149,
          150,
          151,
          152,
          153,
          154,
          155,
          156,
          157,
          158,
          159,
          160,
          161,
          162,
          163,
          164,
          165,
          166,
          167,
          168,
          169,
          170,
          171,
          172,
          173,
          174,
          175,
          176,
          177,
          178,
          179,
          180,
          181,
          182,
          183,
          184,
          185,
          186,
          187,
          188,
          189,
          190,
          191,
          192,
          193,
          194,
          195,
          196,
          197,
          198,
          199,
          200
         ],
         "xaxis": "x",
         "y": [
          0.6268544244079307,
          0.6284409279703914,
          0.6322091685645052,
          0.6255326591476111,
          0.6540055056335403,
          0.6305504643363254,
          0.6391714282303881,
          0.6330179609288374,
          0.634007281742682,
          0.6369022515408165,
          0.6324284358750355,
          0.6339289808550664,
          0.6327617138504524,
          0.6323792173529279,
          0.6328717589540095,
          0.6295622721119493,
          0.6330813566416149,
          0.6409097144751527,
          0.628368013094769,
          0.6361699386333218,
          0.6430548853471427,
          0.631596299718205,
          0.6398075721734193,
          0.6295061737032238,
          0.6362368985970343,
          0.6387732375195935,
          0.6297912042405257,
          0.6338497393525271,
          0.6326067477439344,
          0.6350140575368921,
          0.6305842416360802,
          0.6303901944523671,
          0.6341401435660191,
          0.6342057593715645,
          0.6344423997954641,
          0.6341080356319491,
          0.633889408425927,
          0.6339239727740453,
          0.6389921344566684,
          0.6367199877047289,
          0.6329979840026688,
          0.6348938780498115,
          0.6335283268606955,
          0.6323683191224366,
          0.6367771985845114,
          0.6373177949881116,
          0.6328942785174739,
          0.6302321295872301,
          0.6367914219095447,
          0.6320672295467249,
          0.633802593694983,
          0.6330599218788037,
          0.6335670446482692,
          0.6331359549402273,
          0.63238108040651,
          0.6317882917450313,
          0.6316415125904115,
          0.6366787703975365,
          0.63273477331667,
          0.6324971299081603,
          0.6341543004550516,
          0.6301445121746714,
          0.6335779766950719,
          0.6312439733474982,
          0.633705058011119,
          0.6321685219575626,
          0.6333744557053012,
          0.6321635752607256,
          0.6311899433153437,
          0.6330470906966427,
          0.63119260414754,
          0.6360620834546826,
          0.6318529555491013,
          0.6335845780594929,
          0.632595212064267,
          0.6338422264152606,
          0.6322426497696396,
          0.63308458889188,
          0.6334019400918905,
          0.6372587379959317,
          0.6327686908195767,
          0.6329641466531899,
          0.6324751884070399,
          0.6311175187977425,
          0.6349759831605106,
          0.6336325931850738,
          0.6346576839632353,
          0.6367820285604996,
          0.6332373061432822,
          0.6350635811849681,
          0.6338575157524742,
          0.631732039223956,
          0.6317301556653053,
          0.6343555747659784,
          0.6320251595188353,
          0.6333632723615863,
          0.6350412869896748,
          0.6353793464620305,
          0.6349836310326191,
          0.6343338399692713,
          0.6316175274292186,
          0.6347945479529953,
          0.6344752995213045,
          0.6340827486749696,
          0.6321801922442796,
          0.6365130636909806,
          0.632789577256163,
          0.632342612652014,
          0.6343566993061814,
          0.6353763825059469,
          0.6318668503234779,
          0.6329083211944717,
          0.6344160313777987,
          0.633330802469775,
          0.6314768669733339,
          0.6320950912736119,
          0.6305292310827274,
          0.6360102058898619,
          0.6351692187070487,
          0.6314176692313425,
          0.6355492136118771,
          0.6321309132390847,
          0.6333253726491505,
          0.6307969872945551,
          0.6330491807315408,
          0.63443496227185,
          0.6334308810791968,
          0.630083950553737,
          0.6315341358869134,
          0.6333339397042789,
          0.6355658809069015,
          0.6338165182780904,
          0.6331689334588534,
          0.634335699886376,
          0.6342348656895405,
          0.6350669012574928,
          0.634549045265465,
          0.630548851069788,
          0.6343933135506679,
          0.632976237983896,
          0.6328494096168117,
          0.634932020743881,
          0.6317782569614331,
          0.6334265303130555,
          0.6337041258806102,
          0.632261536970789,
          0.6331508933461069,
          0.6346912041000276,
          0.6321880221546534,
          0.6330988712133595,
          0.6318464492410665,
          0.6340334936149199,
          0.6316301922081896,
          0.6329968878106341,
          0.6334823451148572,
          0.6344640580924406,
          0.633844412743838,
          0.6343763129859945,
          0.6330693978103259,
          0.635517786506446,
          0.6345667109508745,
          0.63380714835413,
          0.6325612996939991,
          0.6314485309848038,
          0.6334995356975512,
          0.632156726730083,
          0.6324784497793712,
          0.6328852882052339,
          0.6334035997067541,
          0.630648754309514,
          0.6325361152231139,
          0.6317225096995589,
          0.632736064515595,
          0.6325956054168341,
          0.6338053482169489,
          0.6329882741357857,
          0.6334107554751974,
          0.633545080456405,
          0.6346282852865208,
          0.633151968872037,
          0.6340172650130497,
          0.6329907012616635,
          0.6333447782735215,
          0.6315948976403484,
          0.6324737844572689,
          0.6345608041143795,
          0.6330853625810989,
          0.6332861967993599,
          0.6326340148083193,
          0.632526308058403,
          0.636271193873588,
          0.6324995067162521,
          0.6337052785137601,
          0.6334500245763901,
          0.6324231541121811,
          0.6323407527918442,
          0.6322575432129726,
          0.6317110767178019,
          0.6321120048476861,
          0.6321237469403179
         ],
         "yaxis": "y"
        },
        {
         "hovertemplate": "max_depth=15<br>num_trees=%{x}<br>value=%{y}<extra></extra>",
         "legendgroup": "15",
         "line": {
          "color": "#7F7F7F",
          "dash": "solid"
         },
         "marker": {
          "symbol": "circle"
         },
         "mode": "lines",
         "name": "15",
         "showlegend": true,
         "type": "scattergl",
         "x": [
          1,
          2,
          3,
          4,
          5,
          6,
          7,
          8,
          9,
          10,
          11,
          12,
          13,
          14,
          15,
          16,
          17,
          18,
          19,
          20,
          21,
          22,
          23,
          24,
          25,
          26,
          27,
          28,
          29,
          30,
          31,
          32,
          33,
          34,
          35,
          36,
          37,
          38,
          39,
          40,
          41,
          42,
          43,
          44,
          45,
          46,
          47,
          48,
          49,
          50,
          51,
          52,
          53,
          54,
          55,
          56,
          57,
          58,
          59,
          60,
          61,
          62,
          63,
          64,
          65,
          66,
          67,
          68,
          69,
          70,
          71,
          72,
          73,
          74,
          75,
          76,
          77,
          78,
          79,
          80,
          81,
          82,
          83,
          84,
          85,
          86,
          87,
          88,
          89,
          90,
          91,
          92,
          93,
          94,
          95,
          96,
          97,
          98,
          99,
          100,
          101,
          102,
          103,
          104,
          105,
          106,
          107,
          108,
          109,
          110,
          111,
          112,
          113,
          114,
          115,
          116,
          117,
          118,
          119,
          120,
          121,
          122,
          123,
          124,
          125,
          126,
          127,
          128,
          129,
          130,
          131,
          132,
          133,
          134,
          135,
          136,
          137,
          138,
          139,
          140,
          141,
          142,
          143,
          144,
          145,
          146,
          147,
          148,
          149,
          150,
          151,
          152,
          153,
          154,
          155,
          156,
          157,
          158,
          159,
          160,
          161,
          162,
          163,
          164,
          165,
          166,
          167,
          168,
          169,
          170,
          171,
          172,
          173,
          174,
          175,
          176,
          177,
          178,
          179,
          180,
          181,
          182,
          183,
          184,
          185,
          186,
          187,
          188,
          189,
          190,
          191,
          192,
          193,
          194,
          195,
          196,
          197,
          198,
          199,
          200
         ],
         "xaxis": "x",
         "y": [
          0.6279635186144881,
          0.653027807743827,
          0.6374992385866398,
          0.640106349846923,
          0.6305652880495989,
          0.6384076619521374,
          0.6404299092145852,
          0.6303117927772997,
          0.6379914529700267,
          0.6328452674822437,
          0.6318648429930278,
          0.6393885660049567,
          0.6309514812690962,
          0.6361010565647769,
          0.6356722439255548,
          0.6299750835175503,
          0.6334608572492535,
          0.6426911295158988,
          0.6329412718270203,
          0.6370352082301473,
          0.6327438023692102,
          0.6307495365943858,
          0.6331045149564212,
          0.6373572377139315,
          0.6305056407659297,
          0.6314538956327422,
          0.6327411012435644,
          0.6364091875234842,
          0.6306478729458496,
          0.6360339555726781,
          0.6314695090776895,
          0.6392971087416482,
          0.6348586892163681,
          0.6367051281286562,
          0.6357107674796171,
          0.6326635378765357,
          0.6302912481545749,
          0.6330414942901921,
          0.6338115804900468,
          0.6337575956505198,
          0.6296713570901604,
          0.6377753328423134,
          0.63020397515312,
          0.6314553547219619,
          0.6324984401152373,
          0.6368602390183516,
          0.6303894135468114,
          0.6338247042832891,
          0.6308079123100422,
          0.6343932152167413,
          0.6334835948183482,
          0.6338839396356701,
          0.6313881135480248,
          0.6293867059012972,
          0.6344274771221202,
          0.6349138988845304,
          0.6366244097093373,
          0.6348244756844799,
          0.6306192557552956,
          0.6350501270550929,
          0.6328603062371763,
          0.6317323652237156,
          0.6313102091268168,
          0.6386419664332891,
          0.6326797509436898,
          0.6330227517294558,
          0.634895171562644,
          0.6376733798102315,
          0.6323621008361042,
          0.6364173810201889,
          0.6340799334830637,
          0.6342693278290309,
          0.6350438668095307,
          0.631290069369036,
          0.6322939749156502,
          0.635624504811312,
          0.6305314750841094,
          0.6342761471750091,
          0.630878106853305,
          0.6346193957966855,
          0.6340503020865527,
          0.6334880256789671,
          0.636901842956039,
          0.6315968747374742,
          0.631270768645526,
          0.6313895879388576,
          0.6324560888347956,
          0.6362181287070494,
          0.633049211022997,
          0.6314449848543027,
          0.6319430910842123,
          0.6356079804608868,
          0.6325065569924206,
          0.6343260697641405,
          0.633351101486651,
          0.6342350425526107,
          0.6323956830510065,
          0.6330041518111136,
          0.6365711036588196,
          0.6307321534048906,
          0.6331483105065748,
          0.6379337044918678,
          0.6356929708545098,
          0.6349807533080397,
          0.6362100919204937,
          0.6338733298365153,
          0.6341333142567482,
          0.6324509695119365,
          0.6351972303430333,
          0.6329728928482109,
          0.6315975675357591,
          0.6361394321738635,
          0.6318351844355116,
          0.6335356952792348,
          0.6349711505810642,
          0.6357155136686088,
          0.633100679526301,
          0.6314511466009657,
          0.6333561236781248,
          0.6336739168707171,
          0.632873307518185,
          0.6336657515978185,
          0.6327143072645689,
          0.632020007918241,
          0.6311146024235421,
          0.6360166770393184,
          0.6325647695819381,
          0.633085381703154,
          0.6339563971764789,
          0.633867481914298,
          0.6315840198361468,
          0.6333380786069361,
          0.6364436795883038,
          0.6345470797743542,
          0.6335666932888199,
          0.632511785342939,
          0.6344515764662526,
          0.633813500200684,
          0.635195251757841,
          0.6339544228442003,
          0.6344725839563933,
          0.6345206475583436,
          0.6339005752888253,
          0.6316944001755274,
          0.6327490551813872,
          0.6360897305727122,
          0.6344450759157293,
          0.6325658517822706,
          0.6332161491858398,
          0.6331085254077694,
          0.6350661469306564,
          0.6337965313191569,
          0.6327222253821644,
          0.6359368822211415,
          0.6329352243970229,
          0.6328808039175686,
          0.6330778787784082,
          0.6335325833127133,
          0.6325679558882694,
          0.6332044663712617,
          0.6331720126159455,
          0.6327148948561492,
          0.6339831528625852,
          0.6338203450097833,
          0.6327230366682914,
          0.6317270858686971,
          0.6332386025184886,
          0.6339089080544762,
          0.6347491285471851,
          0.6343993188406931,
          0.6327804663460654,
          0.6329110673551829,
          0.6333011905153673,
          0.6336550303502217,
          0.633093192399841,
          0.6336346394463693,
          0.6345358010279825,
          0.6339238497659972,
          0.6340787201071982,
          0.6313489785411548,
          0.6322331456496991,
          0.6328769857771007,
          0.6325726809427514,
          0.6356719324836069,
          0.6341020752584078,
          0.6334426127855942,
          0.6325816428814747,
          0.6364137126156396,
          0.6339480976259565,
          0.6326387070317979,
          0.63459357689989,
          0.6338151706088375,
          0.6329783435373537,
          0.6328441717317451,
          0.6338516606329099,
          0.6319696862443127,
          0.6352478134602108,
          0.6309057423663728,
          0.6341255029930973,
          0.6343756612502277
         ],
         "yaxis": "y"
        },
        {
         "hovertemplate": "max_depth=20<br>num_trees=%{x}<br>value=%{y}<extra></extra>",
         "legendgroup": "20",
         "line": {
          "color": "#BCBD22",
          "dash": "solid"
         },
         "marker": {
          "symbol": "circle"
         },
         "mode": "lines",
         "name": "20",
         "showlegend": true,
         "type": "scattergl",
         "x": [
          1,
          2,
          3,
          4,
          5,
          6,
          7,
          8,
          9,
          10,
          11,
          12,
          13,
          14,
          15,
          16,
          17,
          18,
          19,
          20,
          21,
          22,
          23,
          24,
          25,
          26,
          27,
          28,
          29,
          30,
          31,
          32,
          33,
          34,
          35,
          36,
          37,
          38,
          39,
          40,
          41,
          42,
          43,
          44,
          45,
          46,
          47,
          48,
          49,
          50,
          51,
          52,
          53,
          54,
          55,
          56,
          57,
          58,
          59,
          60,
          61,
          62,
          63,
          64,
          65,
          66,
          67,
          68,
          69,
          70,
          71,
          72,
          73,
          74,
          75,
          76,
          77,
          78,
          79,
          80,
          81,
          82,
          83,
          84,
          85,
          86,
          87,
          88,
          89,
          90,
          91,
          92,
          93,
          94,
          95,
          96,
          97,
          98,
          99,
          100,
          101,
          102,
          103,
          104,
          105,
          106,
          107,
          108,
          109,
          110,
          111,
          112,
          113,
          114,
          115,
          116,
          117,
          118,
          119,
          120,
          121,
          122,
          123,
          124,
          125,
          126,
          127,
          128,
          129,
          130,
          131,
          132,
          133,
          134,
          135,
          136,
          137,
          138,
          139,
          140,
          141,
          142,
          143,
          144,
          145,
          146,
          147,
          148,
          149,
          150,
          151,
          152,
          153,
          154,
          155,
          156,
          157,
          158,
          159,
          160,
          161,
          162,
          163,
          164,
          165,
          166,
          167,
          168,
          169,
          170,
          171,
          172,
          173,
          174,
          175,
          176,
          177,
          178,
          179,
          180,
          181,
          182,
          183,
          184,
          185,
          186,
          187,
          188,
          189,
          190,
          191,
          192,
          193,
          194,
          195,
          196,
          197,
          198,
          199,
          200
         ],
         "xaxis": "x",
         "y": [
          0.6291916592299999,
          0.633647364562265,
          0.6410300650289023,
          0.6388162720573684,
          0.6308442081091135,
          0.6247024075489014,
          0.6261981147719523,
          0.6278698337277961,
          0.6356021939744705,
          0.6444376950193221,
          0.6354273147744127,
          0.6333444483234171,
          0.6266725124670484,
          0.6361157027589318,
          0.6352189625794911,
          0.6324401591508321,
          0.6308161069504872,
          0.6390731649777418,
          0.6362416434011778,
          0.6377005785861902,
          0.6369644041844816,
          0.6364538268176696,
          0.6308876250819921,
          0.632498404010682,
          0.6304026118381177,
          0.6295250314522014,
          0.6308848612109679,
          0.6356209512632285,
          0.6310926350696031,
          0.6333029836895379,
          0.6309952319398634,
          0.6348778862497426,
          0.6306901042322174,
          0.6347711813853485,
          0.6288490518600642,
          0.6293935986722773,
          0.6349462341981051,
          0.6333157442690313,
          0.629040458077623,
          0.6368273256023338,
          0.6307115320103993,
          0.6312864657558686,
          0.6334597488688314,
          0.6362862986874008,
          0.6282034669138102,
          0.6323275877070162,
          0.6348368286862692,
          0.6350498514452241,
          0.6347815851984938,
          0.6403574428960811,
          0.6363255493184322,
          0.6318985013277945,
          0.633645520533457,
          0.6327306363047116,
          0.6330157632377102,
          0.6340171004561853,
          0.6409667028166739,
          0.6339880510075133,
          0.6331819042164935,
          0.6354757650027019,
          0.6339693892413418,
          0.6318990560213728,
          0.630926043057471,
          0.630038899141151,
          0.6370973241570245,
          0.6325482517982521,
          0.6336760412877221,
          0.6341963635413098,
          0.6332597732297904,
          0.6339081653972536,
          0.633304306765782,
          0.6376538134817611,
          0.6373733876497454,
          0.6326404122299227,
          0.6327958580029386,
          0.6338742028795658,
          0.633835221853525,
          0.6335050464702312,
          0.6325695758265467,
          0.6328669626681318,
          0.6344036925994851,
          0.6343687259285972,
          0.635910054748138,
          0.6358902043166625,
          0.6351786488789988,
          0.6349339537065212,
          0.6305906151471338,
          0.6352736143522494,
          0.6328449634062134,
          0.6339133556566777,
          0.6355837011664803,
          0.6361000356371743,
          0.6311771472752964,
          0.6343032924658845,
          0.631326891654433,
          0.6357538819788522,
          0.6338550313191158,
          0.6347024634395588,
          0.6327503082894899,
          0.6337332563542791,
          0.6323431695338455,
          0.6353027493460891,
          0.6337114982976235,
          0.6349296994419483,
          0.6330438090749053,
          0.631972172284079,
          0.6310882501111741,
          0.6319260205876963,
          0.635418665034871,
          0.6326967570800088,
          0.6322291742035838,
          0.6312275079478195,
          0.6347687568428093,
          0.6351419453236146,
          0.6348245290459062,
          0.634168138262495,
          0.6326414813548085,
          0.6335672285046388,
          0.6338204660261575,
          0.6359411823406944,
          0.634092722613353,
          0.632977093645323,
          0.632270459031487,
          0.6322611805854009,
          0.6347975597429517,
          0.633404250236957,
          0.633267091095169,
          0.6338548601823206,
          0.6339729447112429,
          0.6324307363806042,
          0.6318644393283831,
          0.634667328697065,
          0.6343841839935953,
          0.6337105203913264,
          0.6338563113256824,
          0.6349993541426197,
          0.6310620160533786,
          0.6335291051996349,
          0.6314594852997866,
          0.6335393685724134,
          0.6322004716396766,
          0.6342284677614097,
          0.6342882297843306,
          0.6334688482920038,
          0.6307202141791824,
          0.632954698759875,
          0.6335517497509948,
          0.6326054921142238,
          0.6354439985122585,
          0.6333648926585675,
          0.6328590854883048,
          0.6348677818908682,
          0.635037439967788,
          0.632738175291021,
          0.6333822111566222,
          0.6329739461706962,
          0.6340079290572127,
          0.6325833276092305,
          0.635279464671364,
          0.6336492880872675,
          0.6333481596764582,
          0.632351102426192,
          0.634302493519095,
          0.6339076046451614,
          0.6337183621670358,
          0.6331820756219279,
          0.6346194348252787,
          0.6329490554166902,
          0.6338613349312731,
          0.6337308003689124,
          0.6349259743090991,
          0.6311558588163811,
          0.6335219427152591,
          0.6344405598773392,
          0.6321191313915749,
          0.6322642172716647,
          0.6338037832977612,
          0.6328487269530378,
          0.6318969691621396,
          0.6329502998271288,
          0.6341178021165291,
          0.6336543092780359,
          0.6327124542985885,
          0.6332406341931531,
          0.632509420609386,
          0.6332598224139142,
          0.6321970701581956,
          0.6330487584679423,
          0.6331969537519727,
          0.6353974650589279,
          0.6348122362909768,
          0.631401395362191,
          0.6347790388676896,
          0.6333855395752155,
          0.6343619387725464,
          0.6330825259970404,
          0.6309322349615248,
          0.6314725171870049,
          0.6331912362782766,
          0.6328031854928248
         ],
         "yaxis": "y"
        },
        {
         "hovertemplate": "max_depth=25<br>num_trees=%{x}<br>value=%{y}<extra></extra>",
         "legendgroup": "25",
         "line": {
          "color": "#17BECF",
          "dash": "solid"
         },
         "marker": {
          "symbol": "circle"
         },
         "mode": "lines",
         "name": "25",
         "showlegend": true,
         "type": "scattergl",
         "x": [
          1,
          2,
          3,
          4,
          5,
          6,
          7,
          8,
          9,
          10,
          11,
          12,
          13,
          14,
          15,
          16,
          17,
          18,
          19,
          20,
          21,
          22,
          23,
          24,
          25,
          26,
          27,
          28,
          29,
          30,
          31,
          32,
          33,
          34,
          35,
          36,
          37,
          38,
          39,
          40,
          41,
          42,
          43,
          44,
          45,
          46,
          47,
          48,
          49,
          50,
          51,
          52,
          53,
          54,
          55,
          56,
          57,
          58,
          59,
          60,
          61,
          62,
          63,
          64,
          65,
          66,
          67,
          68,
          69,
          70,
          71,
          72,
          73,
          74,
          75,
          76,
          77,
          78,
          79,
          80,
          81,
          82,
          83,
          84,
          85,
          86,
          87,
          88,
          89,
          90,
          91,
          92,
          93,
          94,
          95,
          96,
          97,
          98,
          99,
          100,
          101,
          102,
          103,
          104,
          105,
          106,
          107,
          108,
          109,
          110,
          111,
          112,
          113,
          114,
          115,
          116,
          117,
          118,
          119,
          120,
          121,
          122,
          123,
          124,
          125,
          126,
          127,
          128,
          129,
          130,
          131,
          132,
          133,
          134,
          135,
          136,
          137,
          138,
          139,
          140,
          141,
          142,
          143,
          144,
          145,
          146,
          147,
          148,
          149,
          150,
          151,
          152,
          153,
          154,
          155,
          156,
          157,
          158,
          159,
          160,
          161,
          162,
          163,
          164,
          165,
          166,
          167,
          168,
          169,
          170,
          171,
          172,
          173,
          174,
          175,
          176,
          177,
          178,
          179,
          180,
          181,
          182,
          183,
          184,
          185,
          186,
          187,
          188,
          189,
          190,
          191,
          192,
          193,
          194,
          195,
          196,
          197,
          198,
          199,
          200
         ],
         "xaxis": "x",
         "y": [
          0.6589204101580227,
          0.6348354831155893,
          0.6295577662050711,
          0.6290305773483901,
          0.6279889501569634,
          0.647720008811097,
          0.6291951416816105,
          0.6423875711942129,
          0.6412533553981594,
          0.6392034998895383,
          0.6368474859578438,
          0.6291047768299259,
          0.631434990649255,
          0.6275728137282048,
          0.6457471619140344,
          0.6334447384708658,
          0.6398957840325225,
          0.638193535473274,
          0.6349342457001254,
          0.633028417402388,
          0.6341051041407182,
          0.6366267135554275,
          0.6349083950646834,
          0.6303835432834035,
          0.6340520942796048,
          0.6354279540100053,
          0.6333814969538999,
          0.6380309359901967,
          0.630636737642408,
          0.6320123937260145,
          0.6357925010034501,
          0.6350830073694096,
          0.6347210430441637,
          0.6324910441527168,
          0.6320936209540441,
          0.6359887315140271,
          0.6344232740400468,
          0.6353529694055436,
          0.6379856865177427,
          0.6299205418000023,
          0.6352618730295265,
          0.6348498610716059,
          0.6354739947550454,
          0.6329566368975356,
          0.6319330553985417,
          0.6342472372316482,
          0.6327422924255253,
          0.6303730010638395,
          0.6319118130481745,
          0.6388445260542478,
          0.6340405785399087,
          0.6317218931860566,
          0.6324538601467624,
          0.6347788874043205,
          0.6342732651846963,
          0.6319343880698352,
          0.6322576759672562,
          0.6311990531101348,
          0.6345146865870376,
          0.6328515868471764,
          0.6317395943445193,
          0.6324668166096169,
          0.6332993571562848,
          0.6336203839168064,
          0.6315766684132308,
          0.6321508512192793,
          0.6312425559749436,
          0.634459229971875,
          0.6377840256398606,
          0.636144514249759,
          0.6365275469630455,
          0.6332419605683087,
          0.6342314274181065,
          0.6351705278765438,
          0.6322987439441857,
          0.630906148964597,
          0.6359046333015353,
          0.6371151155731118,
          0.6326438490886583,
          0.6326104096372056,
          0.634493896153531,
          0.6324552318347245,
          0.6350598462691498,
          0.6329585948775331,
          0.6354599741345486,
          0.6337515153355805,
          0.6341611087001994,
          0.6340975668544487,
          0.6336688237124812,
          0.6320676727609045,
          0.6322419844235169,
          0.6354578160452565,
          0.6343854891201255,
          0.6347000260828164,
          0.6357636284976779,
          0.6354980991235105,
          0.6347701146538763,
          0.6336261048342458,
          0.6325961660369723,
          0.6337433409370012,
          0.6335594930215203,
          0.6324626521191185,
          0.6324071157594132,
          0.6335115634927069,
          0.6316979869553265,
          0.632568430436642,
          0.6323435235446263,
          0.6323923765996016,
          0.6346500193177161,
          0.631727529744826,
          0.6323304323304294,
          0.6321433014693973,
          0.632273655110977,
          0.6324838282234917,
          0.6329435160871055,
          0.6339832859342234,
          0.6334217519215806,
          0.6356703582644246,
          0.6325607453667468,
          0.6334537472437245,
          0.6348683818142968,
          0.6366665930961748,
          0.6329686232904386,
          0.6317025598395882,
          0.6338752924526323,
          0.6313106310822976,
          0.6349051986104475,
          0.6338293774054978,
          0.6304757748501748,
          0.6335491040190293,
          0.6355110679272532,
          0.6355583017763803,
          0.636305439857559,
          0.6342485805200958,
          0.6351475974132207,
          0.6331728095033069,
          0.6334008881700188,
          0.6330269672426538,
          0.631947846125195,
          0.6342646250171653,
          0.6339107538900108,
          0.6329718220616083,
          0.6313204592405379,
          0.6343732529866308,
          0.6320700582775717,
          0.6347262084399733,
          0.6358132853866965,
          0.6336913868967756,
          0.6327697455246871,
          0.6330189278628666,
          0.6341796733040181,
          0.63366510650987,
          0.6338537159849527,
          0.6330147896576288,
          0.6344544182214218,
          0.6341026961760519,
          0.6353111066307817,
          0.6320336051600816,
          0.6332548860528302,
          0.6330065838852271,
          0.6326999508733282,
          0.633856905841691,
          0.6369011719525588,
          0.6327650398595295,
          0.6330176429381539,
          0.635888251827391,
          0.6332799855149512,
          0.6314528801681667,
          0.6332003926574207,
          0.6333807532226549,
          0.6345957989172534,
          0.6326020835418318,
          0.6328450213237983,
          0.6310562625586288,
          0.6336048838259917,
          0.6349202223984767,
          0.6342365504631522,
          0.634623205827732,
          0.632554249730232,
          0.6331274330224367,
          0.632285855340392,
          0.6315826242656558,
          0.6316950605743783,
          0.6348850375513461,
          0.6342999101151877,
          0.6333326628010845,
          0.6323432413230308,
          0.632478401175974,
          0.634769246082596,
          0.6332435894595498,
          0.6314779443852121,
          0.6344493393020908,
          0.6325438329473856,
          0.632995193344777,
          0.6315807896918781,
          0.6327293235748648,
          0.6324100153186459,
          0.633556403188897,
          0.6325828296259957,
          0.6322818080687842
         ],
         "yaxis": "y"
        },
        {
         "hovertemplate": "max_depth=30<br>num_trees=%{x}<br>value=%{y}<extra></extra>",
         "legendgroup": "30",
         "line": {
          "color": "#1F77B4",
          "dash": "solid"
         },
         "marker": {
          "symbol": "circle"
         },
         "mode": "lines",
         "name": "30",
         "showlegend": true,
         "type": "scattergl",
         "x": [
          1,
          2,
          3,
          4,
          5,
          6,
          7,
          8,
          9,
          10,
          11,
          12,
          13,
          14,
          15,
          16,
          17,
          18,
          19,
          20,
          21,
          22,
          23,
          24,
          25,
          26,
          27,
          28,
          29,
          30,
          31,
          32,
          33,
          34,
          35,
          36,
          37,
          38,
          39,
          40,
          41,
          42,
          43,
          44,
          45,
          46,
          47,
          48,
          49,
          50,
          51,
          52,
          53,
          54,
          55,
          56,
          57,
          58,
          59,
          60,
          61,
          62,
          63,
          64,
          65,
          66,
          67,
          68,
          69,
          70,
          71,
          72,
          73,
          74,
          75,
          76,
          77,
          78,
          79,
          80,
          81,
          82,
          83,
          84,
          85,
          86,
          87,
          88,
          89,
          90,
          91,
          92,
          93,
          94,
          95,
          96,
          97,
          98,
          99,
          100,
          101,
          102,
          103,
          104,
          105,
          106,
          107,
          108,
          109,
          110,
          111,
          112,
          113,
          114,
          115,
          116,
          117,
          118,
          119,
          120,
          121,
          122,
          123,
          124,
          125,
          126,
          127,
          128,
          129,
          130,
          131,
          132,
          133,
          134,
          135,
          136,
          137,
          138,
          139,
          140,
          141,
          142,
          143,
          144,
          145,
          146,
          147,
          148,
          149,
          150,
          151,
          152,
          153,
          154,
          155,
          156,
          157,
          158,
          159,
          160,
          161,
          162,
          163,
          164,
          165,
          166,
          167,
          168,
          169,
          170,
          171,
          172,
          173,
          174,
          175,
          176,
          177,
          178,
          179,
          180,
          181,
          182,
          183,
          184,
          185,
          186,
          187,
          188,
          189,
          190,
          191,
          192,
          193,
          194,
          195,
          196,
          197,
          198,
          199,
          200
         ],
         "xaxis": "x",
         "y": [
          0.6210665276013306,
          0.6202385743909904,
          0.6357810501715837,
          0.6350946577211809,
          0.6468844071145374,
          0.639184210594061,
          0.6373859408853485,
          0.6330611692505987,
          0.6341330520737576,
          0.6354586854540518,
          0.6328356723726554,
          0.6309149947054915,
          0.6372952129084879,
          0.6344730544159076,
          0.6396883505287829,
          0.6296832099190457,
          0.6336987137644857,
          0.6395112218327363,
          0.6341862668082048,
          0.6319733230185673,
          0.6357232677386229,
          0.6359276814846655,
          0.6357820315451355,
          0.6449934069903683,
          0.6340924534120919,
          0.6370723945335087,
          0.6435724324218997,
          0.632119925105701,
          0.6348809758420757,
          0.6361373559513516,
          0.6354569890826229,
          0.6317229235635806,
          0.6344006921352526,
          0.6313699340549369,
          0.6352368372197038,
          0.6301158667707538,
          0.6390888346819807,
          0.6313054450025762,
          0.6347161649252694,
          0.63155680434483,
          0.6334980638339409,
          0.6287706359784235,
          0.6333000353863903,
          0.6345985160452425,
          0.6343260043895815,
          0.6334994619841395,
          0.6313814234539779,
          0.6352518987595992,
          0.6384129975800618,
          0.6339620554471838,
          0.6301270255560332,
          0.6294841404618292,
          0.6326200710738565,
          0.6310674945495829,
          0.6360154597197453,
          0.6346876868594846,
          0.6324554422384889,
          0.63973033162673,
          0.6328787592416295,
          0.6324172110616983,
          0.6331776957528811,
          0.6344884181492099,
          0.6351589602385718,
          0.6304551471383876,
          0.6336908610014114,
          0.634189366654651,
          0.6341088458841513,
          0.6314458254100349,
          0.6327464616982832,
          0.6337559752487486,
          0.6323425511941806,
          0.632941217801151,
          0.636096849921627,
          0.6335903820609023,
          0.6321341874067379,
          0.6376646232264784,
          0.6341472409845476,
          0.636203223469048,
          0.634982628849531,
          0.6348284860750613,
          0.6354234253785026,
          0.6329465183743216,
          0.637801737378405,
          0.6327408905798022,
          0.6347455406109067,
          0.6325857819507853,
          0.6356443110848768,
          0.6337559737557024,
          0.6331530435949944,
          0.6340380941069048,
          0.6342124982938577,
          0.6337647365711764,
          0.6320986481559203,
          0.6328349219353495,
          0.6336374416839707,
          0.634998249798643,
          0.6339600527008279,
          0.6329465291313586,
          0.6323634178171558,
          0.6327606960267095,
          0.6338891654611266,
          0.634886304324111,
          0.6323004229122879,
          0.6328510856573568,
          0.6336440795432998,
          0.6313711848604487,
          0.6325145328667485,
          0.6342009248655313,
          0.6351543325178955,
          0.633077586784475,
          0.6340826091006178,
          0.6329176552991852,
          0.6341027456372347,
          0.634378221421783,
          0.6358021522000308,
          0.6312037038630268,
          0.6316486930166558,
          0.6341326838130016,
          0.6345671258521645,
          0.6331130338729605,
          0.6344358907257697,
          0.6314459222851068,
          0.6321203359121806,
          0.6315737223042323,
          0.6341638224729615,
          0.6336926075940081,
          0.6324508652313424,
          0.6337218147869078,
          0.6366828274875552,
          0.6354609798943289,
          0.6313982118198466,
          0.6317128050109974,
          0.6340577073055904,
          0.6328187625499591,
          0.6354487185879049,
          0.632239989723774,
          0.6354806066053168,
          0.6313866181936773,
          0.6331923582130314,
          0.629088216161012,
          0.6332100107434514,
          0.6346212585073648,
          0.6337739370072185,
          0.6317649115186709,
          0.6346569501753859,
          0.6350905987087043,
          0.633855686903158,
          0.6337461734545824,
          0.6344294085307155,
          0.6347495374973636,
          0.631919911158904,
          0.6326295214209511,
          0.6334174890384511,
          0.6316504843062372,
          0.632559105064148,
          0.6339574124238898,
          0.631692921325267,
          0.6340251106672243,
          0.630894623843768,
          0.6350353405925264,
          0.633456568411209,
          0.6330638815092836,
          0.6334651999054233,
          0.6341334291737232,
          0.6363935544294911,
          0.6334058091296589,
          0.6321664466269414,
          0.6355310169081366,
          0.6317426563321323,
          0.6332082303001652,
          0.6340522003105976,
          0.6321952812002173,
          0.6361041149887705,
          0.6330652524995516,
          0.6313323737151535,
          0.6332894545263095,
          0.6313845123347513,
          0.6331746192484612,
          0.6358378586725243,
          0.6342509911656451,
          0.6325777873640599,
          0.6307406472633411,
          0.6339830235123523,
          0.6323558036404023,
          0.6324179430049128,
          0.6356218403028427,
          0.6341980364070529,
          0.6349155493939658,
          0.6334875032289553,
          0.6340157496179868,
          0.633144674486671,
          0.6339728979961344,
          0.6323603372399386,
          0.6334297969884166,
          0.631751287637345,
          0.6340322978344999,
          0.6329697194523367,
          0.6327284841231813,
          0.632875316105452,
          0.6329006037722271
         ],
         "yaxis": "y"
        }
       ],
       "layout": {
        "legend": {
         "title": {
          "text": "max_depth"
         },
         "tracegroupgap": 0
        },
        "margin": {
         "t": 60
        },
        "template": {
         "data": {
          "bar": [
           {
            "error_x": {
             "color": "rgb(36,36,36)"
            },
            "error_y": {
             "color": "rgb(36,36,36)"
            },
            "marker": {
             "line": {
              "color": "white",
              "width": 0.5
             },
             "pattern": {
              "fillmode": "overlay",
              "size": 10,
              "solidity": 0.2
             }
            },
            "type": "bar"
           }
          ],
          "barpolar": [
           {
            "marker": {
             "line": {
              "color": "white",
              "width": 0.5
             },
             "pattern": {
              "fillmode": "overlay",
              "size": 10,
              "solidity": 0.2
             }
            },
            "type": "barpolar"
           }
          ],
          "carpet": [
           {
            "aaxis": {
             "endlinecolor": "rgb(36,36,36)",
             "gridcolor": "white",
             "linecolor": "white",
             "minorgridcolor": "white",
             "startlinecolor": "rgb(36,36,36)"
            },
            "baxis": {
             "endlinecolor": "rgb(36,36,36)",
             "gridcolor": "white",
             "linecolor": "white",
             "minorgridcolor": "white",
             "startlinecolor": "rgb(36,36,36)"
            },
            "type": "carpet"
           }
          ],
          "choropleth": [
           {
            "colorbar": {
             "outlinewidth": 1,
             "tickcolor": "rgb(36,36,36)",
             "ticks": "outside"
            },
            "type": "choropleth"
           }
          ],
          "contour": [
           {
            "colorbar": {
             "outlinewidth": 1,
             "tickcolor": "rgb(36,36,36)",
             "ticks": "outside"
            },
            "colorscale": [
             [
              0,
              "#440154"
             ],
             [
              0.1111111111111111,
              "#482878"
             ],
             [
              0.2222222222222222,
              "#3e4989"
             ],
             [
              0.3333333333333333,
              "#31688e"
             ],
             [
              0.4444444444444444,
              "#26828e"
             ],
             [
              0.5555555555555556,
              "#1f9e89"
             ],
             [
              0.6666666666666666,
              "#35b779"
             ],
             [
              0.7777777777777778,
              "#6ece58"
             ],
             [
              0.8888888888888888,
              "#b5de2b"
             ],
             [
              1,
              "#fde725"
             ]
            ],
            "type": "contour"
           }
          ],
          "contourcarpet": [
           {
            "colorbar": {
             "outlinewidth": 1,
             "tickcolor": "rgb(36,36,36)",
             "ticks": "outside"
            },
            "type": "contourcarpet"
           }
          ],
          "heatmap": [
           {
            "colorbar": {
             "outlinewidth": 1,
             "tickcolor": "rgb(36,36,36)",
             "ticks": "outside"
            },
            "colorscale": [
             [
              0,
              "#440154"
             ],
             [
              0.1111111111111111,
              "#482878"
             ],
             [
              0.2222222222222222,
              "#3e4989"
             ],
             [
              0.3333333333333333,
              "#31688e"
             ],
             [
              0.4444444444444444,
              "#26828e"
             ],
             [
              0.5555555555555556,
              "#1f9e89"
             ],
             [
              0.6666666666666666,
              "#35b779"
             ],
             [
              0.7777777777777778,
              "#6ece58"
             ],
             [
              0.8888888888888888,
              "#b5de2b"
             ],
             [
              1,
              "#fde725"
             ]
            ],
            "type": "heatmap"
           }
          ],
          "heatmapgl": [
           {
            "colorbar": {
             "outlinewidth": 1,
             "tickcolor": "rgb(36,36,36)",
             "ticks": "outside"
            },
            "colorscale": [
             [
              0,
              "#440154"
             ],
             [
              0.1111111111111111,
              "#482878"
             ],
             [
              0.2222222222222222,
              "#3e4989"
             ],
             [
              0.3333333333333333,
              "#31688e"
             ],
             [
              0.4444444444444444,
              "#26828e"
             ],
             [
              0.5555555555555556,
              "#1f9e89"
             ],
             [
              0.6666666666666666,
              "#35b779"
             ],
             [
              0.7777777777777778,
              "#6ece58"
             ],
             [
              0.8888888888888888,
              "#b5de2b"
             ],
             [
              1,
              "#fde725"
             ]
            ],
            "type": "heatmapgl"
           }
          ],
          "histogram": [
           {
            "marker": {
             "line": {
              "color": "white",
              "width": 0.6
             }
            },
            "type": "histogram"
           }
          ],
          "histogram2d": [
           {
            "colorbar": {
             "outlinewidth": 1,
             "tickcolor": "rgb(36,36,36)",
             "ticks": "outside"
            },
            "colorscale": [
             [
              0,
              "#440154"
             ],
             [
              0.1111111111111111,
              "#482878"
             ],
             [
              0.2222222222222222,
              "#3e4989"
             ],
             [
              0.3333333333333333,
              "#31688e"
             ],
             [
              0.4444444444444444,
              "#26828e"
             ],
             [
              0.5555555555555556,
              "#1f9e89"
             ],
             [
              0.6666666666666666,
              "#35b779"
             ],
             [
              0.7777777777777778,
              "#6ece58"
             ],
             [
              0.8888888888888888,
              "#b5de2b"
             ],
             [
              1,
              "#fde725"
             ]
            ],
            "type": "histogram2d"
           }
          ],
          "histogram2dcontour": [
           {
            "colorbar": {
             "outlinewidth": 1,
             "tickcolor": "rgb(36,36,36)",
             "ticks": "outside"
            },
            "colorscale": [
             [
              0,
              "#440154"
             ],
             [
              0.1111111111111111,
              "#482878"
             ],
             [
              0.2222222222222222,
              "#3e4989"
             ],
             [
              0.3333333333333333,
              "#31688e"
             ],
             [
              0.4444444444444444,
              "#26828e"
             ],
             [
              0.5555555555555556,
              "#1f9e89"
             ],
             [
              0.6666666666666666,
              "#35b779"
             ],
             [
              0.7777777777777778,
              "#6ece58"
             ],
             [
              0.8888888888888888,
              "#b5de2b"
             ],
             [
              1,
              "#fde725"
             ]
            ],
            "type": "histogram2dcontour"
           }
          ],
          "mesh3d": [
           {
            "colorbar": {
             "outlinewidth": 1,
             "tickcolor": "rgb(36,36,36)",
             "ticks": "outside"
            },
            "type": "mesh3d"
           }
          ],
          "parcoords": [
           {
            "line": {
             "colorbar": {
              "outlinewidth": 1,
              "tickcolor": "rgb(36,36,36)",
              "ticks": "outside"
             }
            },
            "type": "parcoords"
           }
          ],
          "pie": [
           {
            "automargin": true,
            "type": "pie"
           }
          ],
          "scatter": [
           {
            "fillpattern": {
             "fillmode": "overlay",
             "size": 10,
             "solidity": 0.2
            },
            "type": "scatter"
           }
          ],
          "scatter3d": [
           {
            "line": {
             "colorbar": {
              "outlinewidth": 1,
              "tickcolor": "rgb(36,36,36)",
              "ticks": "outside"
             }
            },
            "marker": {
             "colorbar": {
              "outlinewidth": 1,
              "tickcolor": "rgb(36,36,36)",
              "ticks": "outside"
             }
            },
            "type": "scatter3d"
           }
          ],
          "scattercarpet": [
           {
            "marker": {
             "colorbar": {
              "outlinewidth": 1,
              "tickcolor": "rgb(36,36,36)",
              "ticks": "outside"
             }
            },
            "type": "scattercarpet"
           }
          ],
          "scattergeo": [
           {
            "marker": {
             "colorbar": {
              "outlinewidth": 1,
              "tickcolor": "rgb(36,36,36)",
              "ticks": "outside"
             }
            },
            "type": "scattergeo"
           }
          ],
          "scattergl": [
           {
            "marker": {
             "colorbar": {
              "outlinewidth": 1,
              "tickcolor": "rgb(36,36,36)",
              "ticks": "outside"
             }
            },
            "type": "scattergl"
           }
          ],
          "scattermapbox": [
           {
            "marker": {
             "colorbar": {
              "outlinewidth": 1,
              "tickcolor": "rgb(36,36,36)",
              "ticks": "outside"
             }
            },
            "type": "scattermapbox"
           }
          ],
          "scatterpolar": [
           {
            "marker": {
             "colorbar": {
              "outlinewidth": 1,
              "tickcolor": "rgb(36,36,36)",
              "ticks": "outside"
             }
            },
            "type": "scatterpolar"
           }
          ],
          "scatterpolargl": [
           {
            "marker": {
             "colorbar": {
              "outlinewidth": 1,
              "tickcolor": "rgb(36,36,36)",
              "ticks": "outside"
             }
            },
            "type": "scatterpolargl"
           }
          ],
          "scatterternary": [
           {
            "marker": {
             "colorbar": {
              "outlinewidth": 1,
              "tickcolor": "rgb(36,36,36)",
              "ticks": "outside"
             }
            },
            "type": "scatterternary"
           }
          ],
          "surface": [
           {
            "colorbar": {
             "outlinewidth": 1,
             "tickcolor": "rgb(36,36,36)",
             "ticks": "outside"
            },
            "colorscale": [
             [
              0,
              "#440154"
             ],
             [
              0.1111111111111111,
              "#482878"
             ],
             [
              0.2222222222222222,
              "#3e4989"
             ],
             [
              0.3333333333333333,
              "#31688e"
             ],
             [
              0.4444444444444444,
              "#26828e"
             ],
             [
              0.5555555555555556,
              "#1f9e89"
             ],
             [
              0.6666666666666666,
              "#35b779"
             ],
             [
              0.7777777777777778,
              "#6ece58"
             ],
             [
              0.8888888888888888,
              "#b5de2b"
             ],
             [
              1,
              "#fde725"
             ]
            ],
            "type": "surface"
           }
          ],
          "table": [
           {
            "cells": {
             "fill": {
              "color": "rgb(237,237,237)"
             },
             "line": {
              "color": "white"
             }
            },
            "header": {
             "fill": {
              "color": "rgb(217,217,217)"
             },
             "line": {
              "color": "white"
             }
            },
            "type": "table"
           }
          ]
         },
         "layout": {
          "annotationdefaults": {
           "arrowhead": 0,
           "arrowwidth": 1
          },
          "autotypenumbers": "strict",
          "coloraxis": {
           "colorbar": {
            "outlinewidth": 1,
            "tickcolor": "rgb(36,36,36)",
            "ticks": "outside"
           }
          },
          "colorscale": {
           "diverging": [
            [
             0,
             "rgb(103,0,31)"
            ],
            [
             0.1,
             "rgb(178,24,43)"
            ],
            [
             0.2,
             "rgb(214,96,77)"
            ],
            [
             0.3,
             "rgb(244,165,130)"
            ],
            [
             0.4,
             "rgb(253,219,199)"
            ],
            [
             0.5,
             "rgb(247,247,247)"
            ],
            [
             0.6,
             "rgb(209,229,240)"
            ],
            [
             0.7,
             "rgb(146,197,222)"
            ],
            [
             0.8,
             "rgb(67,147,195)"
            ],
            [
             0.9,
             "rgb(33,102,172)"
            ],
            [
             1,
             "rgb(5,48,97)"
            ]
           ],
           "sequential": [
            [
             0,
             "#440154"
            ],
            [
             0.1111111111111111,
             "#482878"
            ],
            [
             0.2222222222222222,
             "#3e4989"
            ],
            [
             0.3333333333333333,
             "#31688e"
            ],
            [
             0.4444444444444444,
             "#26828e"
            ],
            [
             0.5555555555555556,
             "#1f9e89"
            ],
            [
             0.6666666666666666,
             "#35b779"
            ],
            [
             0.7777777777777778,
             "#6ece58"
            ],
            [
             0.8888888888888888,
             "#b5de2b"
            ],
            [
             1,
             "#fde725"
            ]
           ],
           "sequentialminus": [
            [
             0,
             "#440154"
            ],
            [
             0.1111111111111111,
             "#482878"
            ],
            [
             0.2222222222222222,
             "#3e4989"
            ],
            [
             0.3333333333333333,
             "#31688e"
            ],
            [
             0.4444444444444444,
             "#26828e"
            ],
            [
             0.5555555555555556,
             "#1f9e89"
            ],
            [
             0.6666666666666666,
             "#35b779"
            ],
            [
             0.7777777777777778,
             "#6ece58"
            ],
            [
             0.8888888888888888,
             "#b5de2b"
            ],
            [
             1,
             "#fde725"
            ]
           ]
          },
          "colorway": [
           "#1F77B4",
           "#FF7F0E",
           "#2CA02C",
           "#D62728",
           "#9467BD",
           "#8C564B",
           "#E377C2",
           "#7F7F7F",
           "#BCBD22",
           "#17BECF"
          ],
          "font": {
           "color": "rgb(36,36,36)"
          },
          "geo": {
           "bgcolor": "white",
           "lakecolor": "white",
           "landcolor": "white",
           "showlakes": true,
           "showland": true,
           "subunitcolor": "white"
          },
          "hoverlabel": {
           "align": "left"
          },
          "hovermode": "closest",
          "mapbox": {
           "style": "light"
          },
          "paper_bgcolor": "white",
          "plot_bgcolor": "white",
          "polar": {
           "angularaxis": {
            "gridcolor": "rgb(232,232,232)",
            "linecolor": "rgb(36,36,36)",
            "showgrid": false,
            "showline": true,
            "ticks": "outside"
           },
           "bgcolor": "white",
           "radialaxis": {
            "gridcolor": "rgb(232,232,232)",
            "linecolor": "rgb(36,36,36)",
            "showgrid": false,
            "showline": true,
            "ticks": "outside"
           }
          },
          "scene": {
           "xaxis": {
            "backgroundcolor": "white",
            "gridcolor": "rgb(232,232,232)",
            "gridwidth": 2,
            "linecolor": "rgb(36,36,36)",
            "showbackground": true,
            "showgrid": false,
            "showline": true,
            "ticks": "outside",
            "zeroline": false,
            "zerolinecolor": "rgb(36,36,36)"
           },
           "yaxis": {
            "backgroundcolor": "white",
            "gridcolor": "rgb(232,232,232)",
            "gridwidth": 2,
            "linecolor": "rgb(36,36,36)",
            "showbackground": true,
            "showgrid": false,
            "showline": true,
            "ticks": "outside",
            "zeroline": false,
            "zerolinecolor": "rgb(36,36,36)"
           },
           "zaxis": {
            "backgroundcolor": "white",
            "gridcolor": "rgb(232,232,232)",
            "gridwidth": 2,
            "linecolor": "rgb(36,36,36)",
            "showbackground": true,
            "showgrid": false,
            "showline": true,
            "ticks": "outside",
            "zeroline": false,
            "zerolinecolor": "rgb(36,36,36)"
           }
          },
          "shapedefaults": {
           "fillcolor": "black",
           "line": {
            "width": 0
           },
           "opacity": 0.3
          },
          "ternary": {
           "aaxis": {
            "gridcolor": "rgb(232,232,232)",
            "linecolor": "rgb(36,36,36)",
            "showgrid": false,
            "showline": true,
            "ticks": "outside"
           },
           "baxis": {
            "gridcolor": "rgb(232,232,232)",
            "linecolor": "rgb(36,36,36)",
            "showgrid": false,
            "showline": true,
            "ticks": "outside"
           },
           "bgcolor": "white",
           "caxis": {
            "gridcolor": "rgb(232,232,232)",
            "linecolor": "rgb(36,36,36)",
            "showgrid": false,
            "showline": true,
            "ticks": "outside"
           }
          },
          "title": {
           "x": 0.05
          },
          "xaxis": {
           "automargin": true,
           "gridcolor": "rgb(232,232,232)",
           "linecolor": "rgb(36,36,36)",
           "showgrid": false,
           "showline": true,
           "ticks": "outside",
           "title": {
            "standoff": 15
           },
           "zeroline": false,
           "zerolinecolor": "rgb(36,36,36)"
          },
          "yaxis": {
           "automargin": true,
           "gridcolor": "rgb(232,232,232)",
           "linecolor": "rgb(36,36,36)",
           "showgrid": false,
           "showline": true,
           "ticks": "outside",
           "title": {
            "standoff": 15
           },
           "zeroline": false,
           "zerolinecolor": "rgb(36,36,36)"
          }
         }
        },
        "xaxis": {
         "anchor": "y",
         "domain": [
          0,
          1
         ],
         "title": {
          "text": "num_trees"
         }
        },
        "yaxis": {
         "anchor": "x",
         "domain": [
          0,
          1
         ],
         "title": {
          "text": "value"
         }
        }
       }
      },
      "text/html": [
       "<div>                            <div id=\"62ea3330-b92c-4d2f-8e61-75ba15a7a2c6\" class=\"plotly-graph-div\" style=\"height:525px; width:100%;\"></div>            <script type=\"text/javascript\">                require([\"plotly\"], function(Plotly) {                    window.PLOTLYENV=window.PLOTLYENV || {};                                    if (document.getElementById(\"62ea3330-b92c-4d2f-8e61-75ba15a7a2c6\")) {                    Plotly.newPlot(                        \"62ea3330-b92c-4d2f-8e61-75ba15a7a2c6\",                        [{\"hovertemplate\":\"max_depth=1<br>num_trees=%{x}<br>value=%{y}<extra></extra>\",\"legendgroup\":\"1\",\"line\":{\"color\":\"#1F77B4\",\"dash\":\"solid\"},\"marker\":{\"symbol\":\"circle\"},\"mode\":\"lines\",\"name\":\"1\",\"showlegend\":true,\"x\":[1,2,3,4,5,6,7,8,9,10,11,12,13,14,15,16,17,18,19,20,21,22,23,24,25,26,27,28,29,30,31,32,33,34,35,36,37,38,39,40,41,42,43,44,45,46,47,48,49,50,51,52,53,54,55,56,57,58,59,60,61,62,63,64,65,66,67,68,69,70,71,72,73,74,75,76,77,78,79,80,81,82,83,84,85,86,87,88,89,90,91,92,93,94,95,96,97,98,99,100,101,102,103,104,105,106,107,108,109,110,111,112,113,114,115,116,117,118,119,120,121,122,123,124,125,126,127,128,129,130,131,132,133,134,135,136,137,138,139,140,141,142,143,144,145,146,147,148,149,150,151,152,153,154,155,156,157,158,159,160,161,162,163,164,165,166,167,168,169,170,171,172,173,174,175,176,177,178,179,180,181,182,183,184,185,186,187,188,189,190,191,192,193,194,195,196,197,198,199,200],\"xaxis\":\"x\",\"y\":[0.6556091445686142,0.6559671025689326,0.6284916940418678,0.6265725885624196,0.6475970160854214,0.6363464695138739,0.6363420593615813,0.6313197592332915,0.6312957821968381,0.6345517109499589,0.6421746314682654,0.6350684765485155,0.6395984424790746,0.6392357414934512,0.6312790016128312,0.6505311436192266,0.635034480183328,0.6389430204064064,0.6321751126819147,0.6297406211238425,0.6340943947455917,0.6373017576620159,0.6326088188973865,0.631137540245298,0.6339840073101184,0.6345778867976568,0.6380022713108197,0.6376201543844433,0.6368738569765385,0.6336975284253245,0.6285724733680633,0.6349079933285797,0.6311332732736783,0.6347885631090746,0.6329285800586522,0.6320876422379802,0.6366462193294774,0.6360502767002962,0.6350116822439628,0.6284542577720905,0.6289137928059128,0.6311641089888974,0.6303624653071291,0.631180294544063,0.6335365555724644,0.6304277298624695,0.6346870856839515,0.6307873746945319,0.6335458041435876,0.6351273261189913,0.6333944352004194,0.6342914305517444,0.6350694593362893,0.6322448632033092,0.6341217487585808,0.6328675371218192,0.6347819608289968,0.6325091042948595,0.6324265476916394,0.6350970620325342,0.6360926747591263,0.6355308852335644,0.632631909247924,0.6362714282121154,0.6308490090894362,0.6295266757692983,0.6330183485165578,0.6346464736786726,0.6319938166983231,0.6339340217835417,0.6323255182442782,0.6307432603181334,0.634942397040573,0.6373588353047809,0.6312366181082997,0.6324111221125868,0.6337839838256639,0.6353441981512905,0.6313517775872433,0.6350471327267977,0.6342461590819712,0.6340688835823065,0.6324177732298734,0.6317506461991985,0.6303501947111741,0.6353749867887166,0.6359954407264065,0.6361167425518585,0.6355144472921416,0.6327274067927294,0.634046429657187,0.6333358805806636,0.6344617860223698,0.6352438204590813,0.6345007793072757,0.6350389732034719,0.6337347330120656,0.6336569458485142,0.6341217821600156,0.6326212798716875,0.6337998665505258,0.6313711297678215,0.6338653100151606,0.6324392179443383,0.6328202013951264,0.6299769503867064,0.6325551641204961,0.6332405921617034,0.6320455859869503,0.6339195859579941,0.6337219447614212,0.6325341501337428,0.6352531237732739,0.6325349829132833,0.6321367096938494,0.6339490959016727,0.6315161270398476,0.634565416669514,0.6326242130605569,0.6336088609103938,0.6339016036651339,0.6350471006685311,0.6364810416544777,0.6345147734695932,0.6319115346648856,0.6343361954284894,0.6305549540465377,0.6354481263946747,0.6313854859830831,0.6329655415187803,0.6320908844804306,0.6343870000830749,0.6342828512047379,0.6349193516549387,0.6348563278106988,0.6335017697830948,0.6327832738850789,0.6355556879680094,0.6340642172900163,0.6345000507125533,0.6311895229865618,0.6341099688066801,0.6335897486692719,0.6329275785060559,0.6322415508952371,0.6331373458850477,0.6329256021681351,0.6323690188399421,0.6334795993759051,0.6328699276180548,0.6349589691238107,0.6332154029305965,0.6322626631421148,0.6342316386229226,0.6337611969063518,0.6320409592511522,0.6340146160656858,0.6322008778706991,0.6330413021592614,0.6346504612407916,0.6355578801073204,0.6317932778478619,0.6318717485135905,0.6318017091523012,0.6362280273523101,0.633618163535737,0.6322558888639025,0.63337132524586,0.6341135325582986,0.6337444884777828,0.6328682107275042,0.6330799503353985,0.6349673133971074,0.631956648238788,0.6349973964206684,0.6354988746968199,0.6344518230082212,0.633714523912423,0.6315076729419459,0.6355839696987325,0.631677093359544,0.6330103777364073,0.6347001823981526,0.6339761452432877,0.6348525470480035,0.633101903394389,0.6337032037898835,0.6329906225976968,0.6314796778246182,0.6332364082304558,0.6333697949770668,0.6322459874304429,0.6338504484429588,0.6331982038804758,0.635448881146761,0.6350459632234513,0.6332364628599471,0.6366579480105593,0.6316730587180728,0.6321499926624565],\"yaxis\":\"y\",\"type\":\"scattergl\"},{\"hovertemplate\":\"max_depth=2<br>num_trees=%{x}<br>value=%{y}<extra></extra>\",\"legendgroup\":\"2\",\"line\":{\"color\":\"#FF7F0E\",\"dash\":\"solid\"},\"marker\":{\"symbol\":\"circle\"},\"mode\":\"lines\",\"name\":\"2\",\"showlegend\":true,\"x\":[1,2,3,4,5,6,7,8,9,10,11,12,13,14,15,16,17,18,19,20,21,22,23,24,25,26,27,28,29,30,31,32,33,34,35,36,37,38,39,40,41,42,43,44,45,46,47,48,49,50,51,52,53,54,55,56,57,58,59,60,61,62,63,64,65,66,67,68,69,70,71,72,73,74,75,76,77,78,79,80,81,82,83,84,85,86,87,88,89,90,91,92,93,94,95,96,97,98,99,100,101,102,103,104,105,106,107,108,109,110,111,112,113,114,115,116,117,118,119,120,121,122,123,124,125,126,127,128,129,130,131,132,133,134,135,136,137,138,139,140,141,142,143,144,145,146,147,148,149,150,151,152,153,154,155,156,157,158,159,160,161,162,163,164,165,166,167,168,169,170,171,172,173,174,175,176,177,178,179,180,181,182,183,184,185,186,187,188,189,190,191,192,193,194,195,196,197,198,199,200],\"xaxis\":\"x\",\"y\":[0.6283285954922936,0.6547084757024418,0.6406660945516429,0.6226424922059413,0.6276824676445746,0.6313881548628971,0.6360010019452299,0.6264540982540697,0.6301966593066219,0.6309310435433064,0.6333480972547081,0.6334085230968455,0.632987164066301,0.6395200059330279,0.635345935643581,0.6407772888335282,0.6394470243365038,0.6296004711299773,0.635769426991198,0.6379289969477215,0.6327781903285634,0.6387595664662249,0.6373719863258664,0.6367726614773478,0.6315993489579191,0.6359789662848389,0.6315562705162842,0.6365287279182067,0.6352691182760483,0.6334920268431073,0.6356524933961755,0.629983737349186,0.6357185834760218,0.638460583275036,0.632329451603603,0.6299460775848706,0.6336159527591236,0.6315147849934879,0.6367309737493451,0.6323747408261896,0.6316017479016621,0.6340721397679556,0.633803414381438,0.6421207861407813,0.6359302678616108,0.6347537402217814,0.634957540746528,0.6308239322873888,0.6334750834831511,0.6304946839898252,0.6335554721627691,0.6344133051129354,0.6297936553550294,0.6347321829786082,0.6350451798313378,0.6351613389428115,0.6297322773874056,0.6332840770904616,0.6348824709734704,0.6331974916569446,0.6357482360454233,0.6302788399238846,0.6330467451982952,0.6306420473495586,0.6327591954260127,0.6359947019937681,0.6290951465984141,0.6336393369209434,0.634595748713846,0.6320995579391754,0.6325258136816727,0.633246480688175,0.633734432960509,0.6349832104339911,0.6349551806152914,0.631932806603683,0.6349248066007834,0.6331350416789323,0.6313831570355006,0.6351346878097925,0.6334722932949102,0.6333310562151143,0.6343357174244257,0.6358359433501112,0.6351841134903702,0.6344684286845474,0.6324700755800778,0.6368299113851877,0.6347884461466221,0.6356924754889041,0.6321420850475536,0.6309870333100095,0.633220129726434,0.6338699820955257,0.6351670853289203,0.6342133247442151,0.6319392193305263,0.6343518772850966,0.6351631036760211,0.6315910039030016,0.6319803423700762,0.6357844247651557,0.6316399692438102,0.6323411337074857,0.6315967251910279,0.6352583376938479,0.631981336082542,0.6341509891674746,0.6331322013552783,0.632294603257308,0.6332191970340425,0.6338476867831437,0.6342620077419477,0.6329474419644007,0.6353361560636671,0.6335008259201413,0.63215668929988,0.6340605073547685,0.6350736513977313,0.6339373005282948,0.6340504299264436,0.6309887353785125,0.6350739356843752,0.6319038948437325,0.6342558553899695,0.6302004046298625,0.6321464612219043,0.6341664729111258,0.632711795147053,0.6331187646331697,0.635055303297397,0.6313538942131768,0.6309745029910108,0.6336976324053278,0.6340923601756365,0.6327936074307342,0.6333646809888951,0.6349179949056557,0.6340524359972888,0.6319155970223159,0.6334437161460506,0.6335089118537081,0.6361182519764783,0.6339603934974095,0.6345822533429734,0.6334217329666715,0.6349657349031212,0.6325917302915962,0.6353323094339504,0.6327830065077145,0.6341281262836159,0.6324992969583318,0.6306683924777534,0.6327446715944804,0.6319427133611073,0.6330462277068842,0.632484935587316,0.6354030129710297,0.6328430518060645,0.6345623402027096,0.635174594854315,0.6334685628421424,0.6345067437990206,0.634018479499424,0.6327275128698828,0.63299028135506,0.6336820934724715,0.6339737841979909,0.6326350469708317,0.6357964717168808,0.6330532279206099,0.6351786554714329,0.6339847887560573,0.6334715971066605,0.633896325899983,0.6352401224367384,0.6316835617620241,0.633758837285838,0.6333326939550132,0.6315979320583162,0.6320491871128825,0.6319365148176355,0.6334867691687648,0.635230573019664,0.6337108125816268,0.6338424007749043,0.6345610651508352,0.6322699062624559,0.6335642266286655,0.6324076669352499,0.6318024583831484,0.6328207706150601,0.6336609399165004,0.6341756990968669,0.6332315400155059,0.6324634483239394,0.6335691038183284,0.634977848476003,0.6327720430788778,0.6334742459533111],\"yaxis\":\"y\",\"type\":\"scattergl\"},{\"hovertemplate\":\"max_depth=3<br>num_trees=%{x}<br>value=%{y}<extra></extra>\",\"legendgroup\":\"3\",\"line\":{\"color\":\"#2CA02C\",\"dash\":\"solid\"},\"marker\":{\"symbol\":\"circle\"},\"mode\":\"lines\",\"name\":\"3\",\"showlegend\":true,\"x\":[1,2,3,4,5,6,7,8,9,10,11,12,13,14,15,16,17,18,19,20,21,22,23,24,25,26,27,28,29,30,31,32,33,34,35,36,37,38,39,40,41,42,43,44,45,46,47,48,49,50,51,52,53,54,55,56,57,58,59,60,61,62,63,64,65,66,67,68,69,70,71,72,73,74,75,76,77,78,79,80,81,82,83,84,85,86,87,88,89,90,91,92,93,94,95,96,97,98,99,100,101,102,103,104,105,106,107,108,109,110,111,112,113,114,115,116,117,118,119,120,121,122,123,124,125,126,127,128,129,130,131,132,133,134,135,136,137,138,139,140,141,142,143,144,145,146,147,148,149,150,151,152,153,154,155,156,157,158,159,160,161,162,163,164,165,166,167,168,169,170,171,172,173,174,175,176,177,178,179,180,181,182,183,184,185,186,187,188,189,190,191,192,193,194,195,196,197,198,199,200],\"xaxis\":\"x\",\"y\":[0.6546449116363996,0.6230122880893947,0.6301004750947478,0.6266227321451132,0.6294067649161441,0.6318770075405232,0.6267358144387604,0.6301650738144382,0.6325721760643636,0.6367861482816819,0.6331656335039462,0.6383529638154621,0.6357891755812204,0.6320813574365594,0.6277942845648825,0.6372356468395983,0.6293665203981228,0.6324246669978402,0.631975307162733,0.6341929324937855,0.6372896046459772,0.6327884709950176,0.6364669025526472,0.6326963940175154,0.6339124214027785,0.629981107845596,0.633712178601651,0.636877779166333,0.632805519947927,0.6351408710105185,0.6365676732690749,0.6334425788108651,0.6318696853786273,0.6345267071227494,0.6323114474060907,0.6310737958829129,0.6308314836868305,0.6354481396948272,0.6355467079292002,0.6346907299034912,0.6317144102001664,0.6299046671271946,0.6321300865484322,0.6350117278000234,0.6315493516251341,0.6346962271682005,0.6329721702836724,0.6312602239899846,0.6329229398949371,0.6317509964109258,0.6299469558037899,0.634360601598358,0.6301655486881108,0.6348295972698876,0.6330714691507041,0.6341229710648346,0.6333827210976548,0.6329798529410822,0.630480430175649,0.6346317694813502,0.6321719638592792,0.6360555586242314,0.6349968956201424,0.6323976240457151,0.6341591500890196,0.6341017678209016,0.6340364035572951,0.634471307745968,0.63191133853232,0.6331653527019122,0.6336027562423597,0.6345903940451283,0.6329392104193914,0.6332043812401373,0.633126959880934,0.6335118377896943,0.6363910975510603,0.6346359489733893,0.6320102382222282,0.6350813267424806,0.6315754499511272,0.6330718907170203,0.6322056592911475,0.6326071102633802,0.6335618799325744,0.6343457392559894,0.6338670273570264,0.6331329644384693,0.6343489831651412,0.6317827178963455,0.632668048105631,0.6349513764276405,0.6326308751770506,0.6318876489790403,0.6315939094729671,0.6328739213667807,0.6356868949276778,0.635718390521953,0.6341294542479071,0.633345570536983,0.634190813220892,0.6343328532260433,0.6362958046546734,0.6325090306756946,0.6339338856082194,0.6329371439590625,0.6338569253045127,0.6351727566630149,0.6335905960316066,0.6327991672648934,0.6349815392195167,0.6351839291567059,0.631841601177795,0.6344220392695687,0.6335449026869547,0.6330574125893705,0.6335629101326777,0.6327532568380461,0.6321846461939004,0.6314868510861859,0.6364034850970912,0.6327193086670225,0.6323958965207546,0.6349459156417538,0.6342045133693007,0.6346692538144612,0.6347741562365893,0.6330931500156044,0.6332658736477523,0.634997891166654,0.6330811513882973,0.6356634758902889,0.6331125930404502,0.6331199228485597,0.6334853468444832,0.6347189115631022,0.6332036545261135,0.6329467698730517,0.632070436713754,0.6345517414399071,0.634777227353497,0.6335739965715521,0.6344750661685763,0.6363592663644765,0.6347354851506861,0.6364864664329436,0.6313234939018748,0.6342922517709466,0.6341074983788322,0.6327481176781152,0.6321128027405568,0.6354773128480362,0.6328068174895534,0.632850463453654,0.6342166261233044,0.6357020882537763,0.6338190279723677,0.6343626471025181,0.6341949907238348,0.6319944120250109,0.6335881723110846,0.632882047506857,0.6331802326640771,0.6320050649401243,0.6331999465324616,0.6325367039639,0.6310003621670575,0.6326416586275487,0.6311428938659867,0.6347074003730674,0.6349029418240023,0.6348983197305577,0.6332873204059316,0.6316964284799934,0.6320038453983999,0.6313991491503854,0.634721965841415,0.633892067466677,0.63343143625649,0.6313821967888248,0.6326512397001154,0.6328680717233642,0.6319189720800122,0.6333615786043734,0.6323453990073937,0.6353860590899443,0.6338014946507751,0.633934204139073,0.6325189851675956,0.6336011844212086,0.6317398242724102,0.6325777925044247,0.6320965152249804,0.6333539594213786,0.633645165325458,0.6340366136612897,0.6323918660996282,0.6324218360374999,0.6339046846201831,0.6332248632528268],\"yaxis\":\"y\",\"type\":\"scattergl\"},{\"hovertemplate\":\"max_depth=4<br>num_trees=%{x}<br>value=%{y}<extra></extra>\",\"legendgroup\":\"4\",\"line\":{\"color\":\"#D62728\",\"dash\":\"solid\"},\"marker\":{\"symbol\":\"circle\"},\"mode\":\"lines\",\"name\":\"4\",\"showlegend\":true,\"x\":[1,2,3,4,5,6,7,8,9,10,11,12,13,14,15,16,17,18,19,20,21,22,23,24,25,26,27,28,29,30,31,32,33,34,35,36,37,38,39,40,41,42,43,44,45,46,47,48,49,50,51,52,53,54,55,56,57,58,59,60,61,62,63,64,65,66,67,68,69,70,71,72,73,74,75,76,77,78,79,80,81,82,83,84,85,86,87,88,89,90,91,92,93,94,95,96,97,98,99,100,101,102,103,104,105,106,107,108,109,110,111,112,113,114,115,116,117,118,119,120,121,122,123,124,125,126,127,128,129,130,131,132,133,134,135,136,137,138,139,140,141,142,143,144,145,146,147,148,149,150,151,152,153,154,155,156,157,158,159,160,161,162,163,164,165,166,167,168,169,170,171,172,173,174,175,176,177,178,179,180,181,182,183,184,185,186,187,188,189,190,191,192,193,194,195,196,197,198,199,200],\"xaxis\":\"x\",\"y\":[0.6287414204295506,0.6362188029478416,0.6347459795295859,0.6293547371806855,0.6410630633371406,0.6291161691261211,0.6262499163443519,0.6356426717853424,0.6287368176299964,0.6317413181362217,0.6377687300617629,0.628380100529248,0.6374656996345579,0.6308171900469849,0.6302036862251904,0.6371894205042318,0.6356369540395035,0.6285400543502416,0.6290996308036546,0.634458844038564,0.6339292778573659,0.6346629103384269,0.6487117938441668,0.6345568638178567,0.6319326605669666,0.634146839689433,0.6339781954678194,0.6302338539379854,0.6314629212411926,0.6313206456180709,0.6321636981131008,0.62911389248701,0.6343507256855151,0.6371683346000083,0.6347162556857578,0.6388640791792145,0.6370837611861496,0.6303691112310968,0.6336564263941931,0.6344807417149572,0.6326414253634405,0.6362443008529746,0.6334312662877217,0.6337904496963186,0.6352743080054492,0.6337048958945842,0.6337989300592018,0.633736079823259,0.6359743798842836,0.6368767753679747,0.6354237877408986,0.6347244147780488,0.6336213721099336,0.6321591619243145,0.6349428297827131,0.6388664072385839,0.631851699125663,0.6355499210554103,0.6308936919961529,0.6327910490531843,0.6324074719569913,0.6350250939782521,0.6352048459774314,0.6320979006973169,0.6317110468977059,0.6332688791508195,0.6357797070469147,0.635492477609345,0.6335868813173794,0.632776996063973,0.6330440795849102,0.6316297470051121,0.6342075452177856,0.6347480186142874,0.6363846101924352,0.6335542810370447,0.634959542996819,0.6336800583765664,0.6357554909840357,0.6323593216106844,0.6318078276361098,0.633189824138336,0.6366207352301811,0.6322978170631443,0.6327115440617749,0.6348112762768159,0.6350792525583167,0.6326415651198943,0.6329135306176512,0.6302878593616725,0.6327389471124003,0.6317782072468126,0.6363491442237962,0.6311397347056652,0.6334497208051064,0.6346592042307458,0.6334332689417692,0.6317934612295014,0.6333277928284095,0.634758075265055,0.6338389460100817,0.6301631173754386,0.6330861397256752,0.6344530183188484,0.6321497765450753,0.6320076922611064,0.631864159503458,0.634283966719278,0.6347267847524459,0.6308872857755794,0.6330553875846884,0.6344455545359008,0.6328733353181044,0.6319977047921072,0.6337338116894466,0.6317505806787201,0.6342890719772761,0.6367215198132319,0.6376828770737791,0.6325817368342439,0.6331585413139711,0.6326545997332962,0.6323965057339581,0.6304941582981116,0.6328678284225325,0.6352510865719957,0.6309368181935122,0.6336258839009588,0.6326144050519367,0.6318332590664494,0.6327732685430247,0.6322025095701861,0.6363930705920459,0.6336715496410832,0.6338357271466413,0.6320149777560862,0.6338860966380256,0.6317928026513814,0.6346778858892593,0.6357950070374324,0.6329221968284074,0.6341091696291546,0.6323702764024588,0.635877622622517,0.6346076192617515,0.633231092299818,0.6329706053051904,0.6346264015848447,0.631632914870107,0.6336817642867181,0.6329632225904488,0.6338743550541049,0.6314771223462188,0.634178577886473,0.6364008446642591,0.6343599944439023,0.6342728424245221,0.6337932189395727,0.6341024379084041,0.6351512182643936,0.6338235311356011,0.6318348675908493,0.6335832979204269,0.6331848965517846,0.6336278497265493,0.6326522557586216,0.6351809436890661,0.634701452189725,0.6328266601490442,0.6339516229925808,0.6333816652188878,0.6351269455696059,0.6338201401002088,0.6339162053107904,0.6331994591566502,0.6343203992342393,0.6345901142581283,0.6336281907393174,0.6345648716108387,0.6336455440064814,0.6325030421142972,0.6332180564892884,0.6325123163095826,0.6320402260650226,0.6338949906478286,0.6350059736373238,0.6329403989861789,0.6319834632295467,0.6333188016547631,0.632970383413161,0.6332676365939254,0.6333293398489853,0.6342650353265129,0.6353755567275702,0.6338233092417149,0.6346325856776809,0.6335886279387555,0.6334054127210439,0.6326691514006861,0.6321463170553495],\"yaxis\":\"y\",\"type\":\"scattergl\"},{\"hovertemplate\":\"max_depth=5<br>num_trees=%{x}<br>value=%{y}<extra></extra>\",\"legendgroup\":\"5\",\"line\":{\"color\":\"#9467BD\",\"dash\":\"solid\"},\"marker\":{\"symbol\":\"circle\"},\"mode\":\"lines\",\"name\":\"5\",\"showlegend\":true,\"x\":[1,2,3,4,5,6,7,8,9,10,11,12,13,14,15,16,17,18,19,20,21,22,23,24,25,26,27,28,29,30,31,32,33,34,35,36,37,38,39,40,41,42,43,44,45,46,47,48,49,50,51,52,53,54,55,56,57,58,59,60,61,62,63,64,65,66,67,68,69,70,71,72,73,74,75,76,77,78,79,80,81,82,83,84,85,86,87,88,89,90,91,92,93,94,95,96,97,98,99,100,101,102,103,104,105,106,107,108,109,110,111,112,113,114,115,116,117,118,119,120,121,122,123,124,125,126,127,128,129,130,131,132,133,134,135,136,137,138,139,140,141,142,143,144,145,146,147,148,149,150,151,152,153,154,155,156,157,158,159,160,161,162,163,164,165,166,167,168,169,170,171,172,173,174,175,176,177,178,179,180,181,182,183,184,185,186,187,188,189,190,191,192,193,194,195,196,197,198,199,200],\"xaxis\":\"x\",\"y\":[0.6316039505494064,0.63299747578267,0.6304884039464151,0.626686789964824,0.6308957665229274,0.6255207258994225,0.626481810535224,0.6291764564151676,0.6454579640708877,0.632027744306143,0.6475999191075509,0.6305729294514781,0.6391712816537855,0.6316159465669013,0.6317426944378167,0.6289293938658501,0.6431813924050294,0.6383313997131762,0.6294498309936559,0.6325888362212793,0.6303106076666868,0.6323835324480211,0.6369310382105454,0.6355533028530497,0.6331153935249195,0.6316768595708471,0.6337514060131555,0.6345887054243422,0.6324967372085856,0.6382387197754317,0.6301030161115733,0.6309756919219504,0.6326569639934242,0.6327596218434084,0.6350119131300453,0.6315937015833134,0.6310031851022099,0.6355447145109726,0.6393485215488405,0.6312807836882898,0.6359568454732211,0.6351885520871426,0.6302980633505559,0.635780346595399,0.6317035189223968,0.6351812038495317,0.6370322244060792,0.6319733610160683,0.6319197904053218,0.6335875234257068,0.6340954321402443,0.6384114735319226,0.629964464456481,0.6330625446432179,0.6343184878325482,0.6347522385773912,0.6308946127353366,0.631492891129299,0.6364837202723685,0.6350879356796121,0.6322163705781716,0.6352351015793211,0.6341579001073772,0.6321855407760087,0.6336119794359378,0.6331249212545865,0.635328778332481,0.6322690699802613,0.6334854320212361,0.6301273173720543,0.633292296695436,0.632356807088418,0.6311868330470238,0.6336732717148157,0.6347458304066779,0.632479842629898,0.6331238943316724,0.6339121534477896,0.6327181697075063,0.636674558288994,0.6321783379365342,0.6335599503771365,0.6309447346659695,0.6332808781201793,0.6355041698932138,0.6320434927192016,0.6351026891893391,0.6351801806224224,0.6317908261308823,0.6344420491766858,0.6315112112379078,0.6308335190781109,0.6336381557561778,0.6326316964027463,0.6325448620753981,0.6349075414465573,0.634930638587091,0.633945938389639,0.6323280838659763,0.6310993064404098,0.6316743269201871,0.6334678841517353,0.6320926298934955,0.6332820611916047,0.6359818971468196,0.6316123529516278,0.6345196375836373,0.6339546771012592,0.6339434743745536,0.6348629275179808,0.6328294981713204,0.6303473025574805,0.6326890525037019,0.6324838460203619,0.6358736672086507,0.6336627663771965,0.6340390889445974,0.6343046764646648,0.6325283001547984,0.6356107172263099,0.6350978247879583,0.6325054023723935,0.6346701186590783,0.633505547921866,0.6340950110414945,0.6321173993258825,0.6308159887746008,0.6327886476144753,0.6322823415317451,0.6318841086416737,0.6335857464150038,0.6337229203278408,0.6370725360272181,0.631796653295255,0.6354247511413637,0.6318419854116573,0.6323615861258316,0.6358723290611397,0.6354605897343555,0.6324871666842875,0.6331390163634096,0.6336696301472132,0.6322291552235394,0.6338504175404089,0.6353960039054641,0.6329775711686406,0.6324438646262497,0.6346555328703272,0.6337680899291612,0.6340422011630874,0.6362525902396998,0.6326216526065176,0.6322995275651238,0.6349117216530361,0.6324566159624654,0.6338097085996769,0.6324745616885346,0.6332017965396123,0.6327055508147647,0.6305332083980667,0.6314037811834688,0.6325371703704515,0.6359272115005667,0.6357598430358805,0.6341226695897955,0.6363501865698714,0.6350753990181995,0.6342635608379923,0.6319582813867906,0.633800903716473,0.6335865098929083,0.6316762373330727,0.6328467282858976,0.6329412668583639,0.6333033268293282,0.6324567767587648,0.6330057358424562,0.6347849438269122,0.6339131963360641,0.6315935955878228,0.6313602165029859,0.6316094913513364,0.6327163264033897,0.6345385156234457,0.6346259851987706,0.6328557908454795,0.6316090493208207,0.6316166411181503,0.6347640632806401,0.6329063821468935,0.633538098072657,0.6323862970690491,0.6338519563678593,0.6319917468205121,0.6341577763255369,0.6306226120315759,0.6331501319574615,0.6331903728705025,0.6352713730089234,0.6330934826945525],\"yaxis\":\"y\",\"type\":\"scattergl\"},{\"hovertemplate\":\"max_depth=8<br>num_trees=%{x}<br>value=%{y}<extra></extra>\",\"legendgroup\":\"8\",\"line\":{\"color\":\"#8C564B\",\"dash\":\"solid\"},\"marker\":{\"symbol\":\"circle\"},\"mode\":\"lines\",\"name\":\"8\",\"showlegend\":true,\"x\":[1,2,3,4,5,6,7,8,9,10,11,12,13,14,15,16,17,18,19,20,21,22,23,24,25,26,27,28,29,30,31,32,33,34,35,36,37,38,39,40,41,42,43,44,45,46,47,48,49,50,51,52,53,54,55,56,57,58,59,60,61,62,63,64,65,66,67,68,69,70,71,72,73,74,75,76,77,78,79,80,81,82,83,84,85,86,87,88,89,90,91,92,93,94,95,96,97,98,99,100,101,102,103,104,105,106,107,108,109,110,111,112,113,114,115,116,117,118,119,120,121,122,123,124,125,126,127,128,129,130,131,132,133,134,135,136,137,138,139,140,141,142,143,144,145,146,147,148,149,150,151,152,153,154,155,156,157,158,159,160,161,162,163,164,165,166,167,168,169,170,171,172,173,174,175,176,177,178,179,180,181,182,183,184,185,186,187,188,189,190,191,192,193,194,195,196,197,198,199,200],\"xaxis\":\"x\",\"y\":[0.6601109275049863,0.621836987052276,0.6377161659854048,0.6223098302665472,0.6396045899995598,0.6338360061717746,0.6303122521941706,0.6326352653472398,0.6325931761640425,0.632870916613691,0.6398111713113122,0.6345182823464733,0.6271725449135926,0.6302376685321671,0.6332593854739559,0.631882305085747,0.6379282316098752,0.6309326357857037,0.6343462477978017,0.6313106739250757,0.6343290255001496,0.6357689662688033,0.6283584710481418,0.6349635440680559,0.6355162810160923,0.634462331607276,0.6304714423777367,0.628018198732476,0.6396204529265024,0.6352118561849371,0.6332661527013872,0.6330203103604242,0.6310766720088848,0.6357084879660688,0.6359913748252045,0.6378709236363398,0.6353744024034303,0.6317920317742914,0.6292496571445545,0.6312534965737999,0.6343865980991128,0.6356196777516779,0.6358357870365041,0.6323289838838888,0.6313725647953975,0.631977879832097,0.631982221669985,0.6298450516908741,0.6338209693873207,0.6329187292780541,0.6333059796106203,0.6306233076279298,0.6353445784022305,0.6359862770349028,0.6313598711207644,0.6343453598964415,0.6358777028622533,0.6346131189751085,0.6333562756435368,0.6315229356153387,0.633207365900208,0.634242337956331,0.6331412587257624,0.6352622854120837,0.6332862666627934,0.637930079413408,0.6324771191040489,0.6341380175889623,0.6336108677325636,0.6352269718363828,0.6280268967900121,0.6336189389571241,0.63196429846874,0.6365418498801796,0.6337214904838466,0.6301346593318168,0.6336151714070949,0.6322543202742382,0.633807511746662,0.630825932976989,0.631422968573488,0.6334517029675173,0.6329623625514905,0.6318096082827375,0.633773545449445,0.6365826709669185,0.6323852265455692,0.6362610240500542,0.6344625178204013,0.6351906817656936,0.6341360646824217,0.6323563588583543,0.6331406094844819,0.6338723978404942,0.6355214632235848,0.6345873217612898,0.634894245105535,0.6349361294611244,0.6307822610605474,0.6332030679409667,0.6339847247328143,0.6346648961707111,0.6342906439441877,0.6335582898391251,0.633894767960416,0.6323763624057442,0.633020143912865,0.6347786972525015,0.6336395985782574,0.6335420571394125,0.6326423125066769,0.6308521007833845,0.63146510447426,0.6334935645308987,0.6337660619499685,0.632529195791264,0.6334487212195904,0.6339069260035637,0.6299669819770994,0.634578809473402,0.6350271374306452,0.6304002361531676,0.6324059332497303,0.6322816002301145,0.6353381014564972,0.6304909317984786,0.632593773303081,0.6351134738409994,0.632743682891525,0.633612511952291,0.6333331197834847,0.6346735738584295,0.6334088112717574,0.6329206159789669,0.6322301137897828,0.6326539545086586,0.6319265048253092,0.6359008626323122,0.632459616517877,0.6359361526804013,0.6327706291551461,0.6342558846922712,0.6315950679313773,0.6310668217093016,0.6352315028132421,0.6334691245599603,0.6316448287534222,0.6331832807393132,0.634017380846154,0.6310767494843456,0.6342641178615313,0.6369713717054664,0.6325158907431431,0.6322347944788043,0.6352652622189313,0.6344777188604566,0.6320090079309424,0.6337457439494366,0.6333643545974816,0.631057740859514,0.6352035797142339,0.63480704077868,0.6342837883866781,0.6351293917280988,0.632026928737565,0.632265863467678,0.6346352501288328,0.6325033409027584,0.6338933000319938,0.6326505710363741,0.6349117567214845,0.6312509320257674,0.63182695634912,0.6323292853245418,0.6336927344006258,0.6334984875143701,0.6351634965235925,0.6342470632557188,0.6315030380074746,0.632937616548429,0.6316845661314097,0.6345137783829582,0.6344302972312654,0.6347966213102396,0.6333212990844432,0.6327555178185067,0.6317376784712707,0.6329449679281199,0.6311981440386492,0.634218846310352,0.6319124625959388,0.6348120829393089,0.6345749363664445,0.6335222621041161,0.6341714855819043,0.6329188588034917,0.6335220636502715,0.6331220682612777,0.6337951323295946,0.6328864163999982],\"yaxis\":\"y\",\"type\":\"scattergl\"},{\"hovertemplate\":\"max_depth=10<br>num_trees=%{x}<br>value=%{y}<extra></extra>\",\"legendgroup\":\"10\",\"line\":{\"color\":\"#E377C2\",\"dash\":\"solid\"},\"marker\":{\"symbol\":\"circle\"},\"mode\":\"lines\",\"name\":\"10\",\"showlegend\":true,\"x\":[1,2,3,4,5,6,7,8,9,10,11,12,13,14,15,16,17,18,19,20,21,22,23,24,25,26,27,28,29,30,31,32,33,34,35,36,37,38,39,40,41,42,43,44,45,46,47,48,49,50,51,52,53,54,55,56,57,58,59,60,61,62,63,64,65,66,67,68,69,70,71,72,73,74,75,76,77,78,79,80,81,82,83,84,85,86,87,88,89,90,91,92,93,94,95,96,97,98,99,100,101,102,103,104,105,106,107,108,109,110,111,112,113,114,115,116,117,118,119,120,121,122,123,124,125,126,127,128,129,130,131,132,133,134,135,136,137,138,139,140,141,142,143,144,145,146,147,148,149,150,151,152,153,154,155,156,157,158,159,160,161,162,163,164,165,166,167,168,169,170,171,172,173,174,175,176,177,178,179,180,181,182,183,184,185,186,187,188,189,190,191,192,193,194,195,196,197,198,199,200],\"xaxis\":\"x\",\"y\":[0.6268544244079307,0.6284409279703914,0.6322091685645052,0.6255326591476111,0.6540055056335403,0.6305504643363254,0.6391714282303881,0.6330179609288374,0.634007281742682,0.6369022515408165,0.6324284358750355,0.6339289808550664,0.6327617138504524,0.6323792173529279,0.6328717589540095,0.6295622721119493,0.6330813566416149,0.6409097144751527,0.628368013094769,0.6361699386333218,0.6430548853471427,0.631596299718205,0.6398075721734193,0.6295061737032238,0.6362368985970343,0.6387732375195935,0.6297912042405257,0.6338497393525271,0.6326067477439344,0.6350140575368921,0.6305842416360802,0.6303901944523671,0.6341401435660191,0.6342057593715645,0.6344423997954641,0.6341080356319491,0.633889408425927,0.6339239727740453,0.6389921344566684,0.6367199877047289,0.6329979840026688,0.6348938780498115,0.6335283268606955,0.6323683191224366,0.6367771985845114,0.6373177949881116,0.6328942785174739,0.6302321295872301,0.6367914219095447,0.6320672295467249,0.633802593694983,0.6330599218788037,0.6335670446482692,0.6331359549402273,0.63238108040651,0.6317882917450313,0.6316415125904115,0.6366787703975365,0.63273477331667,0.6324971299081603,0.6341543004550516,0.6301445121746714,0.6335779766950719,0.6312439733474982,0.633705058011119,0.6321685219575626,0.6333744557053012,0.6321635752607256,0.6311899433153437,0.6330470906966427,0.63119260414754,0.6360620834546826,0.6318529555491013,0.6335845780594929,0.632595212064267,0.6338422264152606,0.6322426497696396,0.63308458889188,0.6334019400918905,0.6372587379959317,0.6327686908195767,0.6329641466531899,0.6324751884070399,0.6311175187977425,0.6349759831605106,0.6336325931850738,0.6346576839632353,0.6367820285604996,0.6332373061432822,0.6350635811849681,0.6338575157524742,0.631732039223956,0.6317301556653053,0.6343555747659784,0.6320251595188353,0.6333632723615863,0.6350412869896748,0.6353793464620305,0.6349836310326191,0.6343338399692713,0.6316175274292186,0.6347945479529953,0.6344752995213045,0.6340827486749696,0.6321801922442796,0.6365130636909806,0.632789577256163,0.632342612652014,0.6343566993061814,0.6353763825059469,0.6318668503234779,0.6329083211944717,0.6344160313777987,0.633330802469775,0.6314768669733339,0.6320950912736119,0.6305292310827274,0.6360102058898619,0.6351692187070487,0.6314176692313425,0.6355492136118771,0.6321309132390847,0.6333253726491505,0.6307969872945551,0.6330491807315408,0.63443496227185,0.6334308810791968,0.630083950553737,0.6315341358869134,0.6333339397042789,0.6355658809069015,0.6338165182780904,0.6331689334588534,0.634335699886376,0.6342348656895405,0.6350669012574928,0.634549045265465,0.630548851069788,0.6343933135506679,0.632976237983896,0.6328494096168117,0.634932020743881,0.6317782569614331,0.6334265303130555,0.6337041258806102,0.632261536970789,0.6331508933461069,0.6346912041000276,0.6321880221546534,0.6330988712133595,0.6318464492410665,0.6340334936149199,0.6316301922081896,0.6329968878106341,0.6334823451148572,0.6344640580924406,0.633844412743838,0.6343763129859945,0.6330693978103259,0.635517786506446,0.6345667109508745,0.63380714835413,0.6325612996939991,0.6314485309848038,0.6334995356975512,0.632156726730083,0.6324784497793712,0.6328852882052339,0.6334035997067541,0.630648754309514,0.6325361152231139,0.6317225096995589,0.632736064515595,0.6325956054168341,0.6338053482169489,0.6329882741357857,0.6334107554751974,0.633545080456405,0.6346282852865208,0.633151968872037,0.6340172650130497,0.6329907012616635,0.6333447782735215,0.6315948976403484,0.6324737844572689,0.6345608041143795,0.6330853625810989,0.6332861967993599,0.6326340148083193,0.632526308058403,0.636271193873588,0.6324995067162521,0.6337052785137601,0.6334500245763901,0.6324231541121811,0.6323407527918442,0.6322575432129726,0.6317110767178019,0.6321120048476861,0.6321237469403179],\"yaxis\":\"y\",\"type\":\"scattergl\"},{\"hovertemplate\":\"max_depth=15<br>num_trees=%{x}<br>value=%{y}<extra></extra>\",\"legendgroup\":\"15\",\"line\":{\"color\":\"#7F7F7F\",\"dash\":\"solid\"},\"marker\":{\"symbol\":\"circle\"},\"mode\":\"lines\",\"name\":\"15\",\"showlegend\":true,\"x\":[1,2,3,4,5,6,7,8,9,10,11,12,13,14,15,16,17,18,19,20,21,22,23,24,25,26,27,28,29,30,31,32,33,34,35,36,37,38,39,40,41,42,43,44,45,46,47,48,49,50,51,52,53,54,55,56,57,58,59,60,61,62,63,64,65,66,67,68,69,70,71,72,73,74,75,76,77,78,79,80,81,82,83,84,85,86,87,88,89,90,91,92,93,94,95,96,97,98,99,100,101,102,103,104,105,106,107,108,109,110,111,112,113,114,115,116,117,118,119,120,121,122,123,124,125,126,127,128,129,130,131,132,133,134,135,136,137,138,139,140,141,142,143,144,145,146,147,148,149,150,151,152,153,154,155,156,157,158,159,160,161,162,163,164,165,166,167,168,169,170,171,172,173,174,175,176,177,178,179,180,181,182,183,184,185,186,187,188,189,190,191,192,193,194,195,196,197,198,199,200],\"xaxis\":\"x\",\"y\":[0.6279635186144881,0.653027807743827,0.6374992385866398,0.640106349846923,0.6305652880495989,0.6384076619521374,0.6404299092145852,0.6303117927772997,0.6379914529700267,0.6328452674822437,0.6318648429930278,0.6393885660049567,0.6309514812690962,0.6361010565647769,0.6356722439255548,0.6299750835175503,0.6334608572492535,0.6426911295158988,0.6329412718270203,0.6370352082301473,0.6327438023692102,0.6307495365943858,0.6331045149564212,0.6373572377139315,0.6305056407659297,0.6314538956327422,0.6327411012435644,0.6364091875234842,0.6306478729458496,0.6360339555726781,0.6314695090776895,0.6392971087416482,0.6348586892163681,0.6367051281286562,0.6357107674796171,0.6326635378765357,0.6302912481545749,0.6330414942901921,0.6338115804900468,0.6337575956505198,0.6296713570901604,0.6377753328423134,0.63020397515312,0.6314553547219619,0.6324984401152373,0.6368602390183516,0.6303894135468114,0.6338247042832891,0.6308079123100422,0.6343932152167413,0.6334835948183482,0.6338839396356701,0.6313881135480248,0.6293867059012972,0.6344274771221202,0.6349138988845304,0.6366244097093373,0.6348244756844799,0.6306192557552956,0.6350501270550929,0.6328603062371763,0.6317323652237156,0.6313102091268168,0.6386419664332891,0.6326797509436898,0.6330227517294558,0.634895171562644,0.6376733798102315,0.6323621008361042,0.6364173810201889,0.6340799334830637,0.6342693278290309,0.6350438668095307,0.631290069369036,0.6322939749156502,0.635624504811312,0.6305314750841094,0.6342761471750091,0.630878106853305,0.6346193957966855,0.6340503020865527,0.6334880256789671,0.636901842956039,0.6315968747374742,0.631270768645526,0.6313895879388576,0.6324560888347956,0.6362181287070494,0.633049211022997,0.6314449848543027,0.6319430910842123,0.6356079804608868,0.6325065569924206,0.6343260697641405,0.633351101486651,0.6342350425526107,0.6323956830510065,0.6330041518111136,0.6365711036588196,0.6307321534048906,0.6331483105065748,0.6379337044918678,0.6356929708545098,0.6349807533080397,0.6362100919204937,0.6338733298365153,0.6341333142567482,0.6324509695119365,0.6351972303430333,0.6329728928482109,0.6315975675357591,0.6361394321738635,0.6318351844355116,0.6335356952792348,0.6349711505810642,0.6357155136686088,0.633100679526301,0.6314511466009657,0.6333561236781248,0.6336739168707171,0.632873307518185,0.6336657515978185,0.6327143072645689,0.632020007918241,0.6311146024235421,0.6360166770393184,0.6325647695819381,0.633085381703154,0.6339563971764789,0.633867481914298,0.6315840198361468,0.6333380786069361,0.6364436795883038,0.6345470797743542,0.6335666932888199,0.632511785342939,0.6344515764662526,0.633813500200684,0.635195251757841,0.6339544228442003,0.6344725839563933,0.6345206475583436,0.6339005752888253,0.6316944001755274,0.6327490551813872,0.6360897305727122,0.6344450759157293,0.6325658517822706,0.6332161491858398,0.6331085254077694,0.6350661469306564,0.6337965313191569,0.6327222253821644,0.6359368822211415,0.6329352243970229,0.6328808039175686,0.6330778787784082,0.6335325833127133,0.6325679558882694,0.6332044663712617,0.6331720126159455,0.6327148948561492,0.6339831528625852,0.6338203450097833,0.6327230366682914,0.6317270858686971,0.6332386025184886,0.6339089080544762,0.6347491285471851,0.6343993188406931,0.6327804663460654,0.6329110673551829,0.6333011905153673,0.6336550303502217,0.633093192399841,0.6336346394463693,0.6345358010279825,0.6339238497659972,0.6340787201071982,0.6313489785411548,0.6322331456496991,0.6328769857771007,0.6325726809427514,0.6356719324836069,0.6341020752584078,0.6334426127855942,0.6325816428814747,0.6364137126156396,0.6339480976259565,0.6326387070317979,0.63459357689989,0.6338151706088375,0.6329783435373537,0.6328441717317451,0.6338516606329099,0.6319696862443127,0.6352478134602108,0.6309057423663728,0.6341255029930973,0.6343756612502277],\"yaxis\":\"y\",\"type\":\"scattergl\"},{\"hovertemplate\":\"max_depth=20<br>num_trees=%{x}<br>value=%{y}<extra></extra>\",\"legendgroup\":\"20\",\"line\":{\"color\":\"#BCBD22\",\"dash\":\"solid\"},\"marker\":{\"symbol\":\"circle\"},\"mode\":\"lines\",\"name\":\"20\",\"showlegend\":true,\"x\":[1,2,3,4,5,6,7,8,9,10,11,12,13,14,15,16,17,18,19,20,21,22,23,24,25,26,27,28,29,30,31,32,33,34,35,36,37,38,39,40,41,42,43,44,45,46,47,48,49,50,51,52,53,54,55,56,57,58,59,60,61,62,63,64,65,66,67,68,69,70,71,72,73,74,75,76,77,78,79,80,81,82,83,84,85,86,87,88,89,90,91,92,93,94,95,96,97,98,99,100,101,102,103,104,105,106,107,108,109,110,111,112,113,114,115,116,117,118,119,120,121,122,123,124,125,126,127,128,129,130,131,132,133,134,135,136,137,138,139,140,141,142,143,144,145,146,147,148,149,150,151,152,153,154,155,156,157,158,159,160,161,162,163,164,165,166,167,168,169,170,171,172,173,174,175,176,177,178,179,180,181,182,183,184,185,186,187,188,189,190,191,192,193,194,195,196,197,198,199,200],\"xaxis\":\"x\",\"y\":[0.6291916592299999,0.633647364562265,0.6410300650289023,0.6388162720573684,0.6308442081091135,0.6247024075489014,0.6261981147719523,0.6278698337277961,0.6356021939744705,0.6444376950193221,0.6354273147744127,0.6333444483234171,0.6266725124670484,0.6361157027589318,0.6352189625794911,0.6324401591508321,0.6308161069504872,0.6390731649777418,0.6362416434011778,0.6377005785861902,0.6369644041844816,0.6364538268176696,0.6308876250819921,0.632498404010682,0.6304026118381177,0.6295250314522014,0.6308848612109679,0.6356209512632285,0.6310926350696031,0.6333029836895379,0.6309952319398634,0.6348778862497426,0.6306901042322174,0.6347711813853485,0.6288490518600642,0.6293935986722773,0.6349462341981051,0.6333157442690313,0.629040458077623,0.6368273256023338,0.6307115320103993,0.6312864657558686,0.6334597488688314,0.6362862986874008,0.6282034669138102,0.6323275877070162,0.6348368286862692,0.6350498514452241,0.6347815851984938,0.6403574428960811,0.6363255493184322,0.6318985013277945,0.633645520533457,0.6327306363047116,0.6330157632377102,0.6340171004561853,0.6409667028166739,0.6339880510075133,0.6331819042164935,0.6354757650027019,0.6339693892413418,0.6318990560213728,0.630926043057471,0.630038899141151,0.6370973241570245,0.6325482517982521,0.6336760412877221,0.6341963635413098,0.6332597732297904,0.6339081653972536,0.633304306765782,0.6376538134817611,0.6373733876497454,0.6326404122299227,0.6327958580029386,0.6338742028795658,0.633835221853525,0.6335050464702312,0.6325695758265467,0.6328669626681318,0.6344036925994851,0.6343687259285972,0.635910054748138,0.6358902043166625,0.6351786488789988,0.6349339537065212,0.6305906151471338,0.6352736143522494,0.6328449634062134,0.6339133556566777,0.6355837011664803,0.6361000356371743,0.6311771472752964,0.6343032924658845,0.631326891654433,0.6357538819788522,0.6338550313191158,0.6347024634395588,0.6327503082894899,0.6337332563542791,0.6323431695338455,0.6353027493460891,0.6337114982976235,0.6349296994419483,0.6330438090749053,0.631972172284079,0.6310882501111741,0.6319260205876963,0.635418665034871,0.6326967570800088,0.6322291742035838,0.6312275079478195,0.6347687568428093,0.6351419453236146,0.6348245290459062,0.634168138262495,0.6326414813548085,0.6335672285046388,0.6338204660261575,0.6359411823406944,0.634092722613353,0.632977093645323,0.632270459031487,0.6322611805854009,0.6347975597429517,0.633404250236957,0.633267091095169,0.6338548601823206,0.6339729447112429,0.6324307363806042,0.6318644393283831,0.634667328697065,0.6343841839935953,0.6337105203913264,0.6338563113256824,0.6349993541426197,0.6310620160533786,0.6335291051996349,0.6314594852997866,0.6335393685724134,0.6322004716396766,0.6342284677614097,0.6342882297843306,0.6334688482920038,0.6307202141791824,0.632954698759875,0.6335517497509948,0.6326054921142238,0.6354439985122585,0.6333648926585675,0.6328590854883048,0.6348677818908682,0.635037439967788,0.632738175291021,0.6333822111566222,0.6329739461706962,0.6340079290572127,0.6325833276092305,0.635279464671364,0.6336492880872675,0.6333481596764582,0.632351102426192,0.634302493519095,0.6339076046451614,0.6337183621670358,0.6331820756219279,0.6346194348252787,0.6329490554166902,0.6338613349312731,0.6337308003689124,0.6349259743090991,0.6311558588163811,0.6335219427152591,0.6344405598773392,0.6321191313915749,0.6322642172716647,0.6338037832977612,0.6328487269530378,0.6318969691621396,0.6329502998271288,0.6341178021165291,0.6336543092780359,0.6327124542985885,0.6332406341931531,0.632509420609386,0.6332598224139142,0.6321970701581956,0.6330487584679423,0.6331969537519727,0.6353974650589279,0.6348122362909768,0.631401395362191,0.6347790388676896,0.6333855395752155,0.6343619387725464,0.6330825259970404,0.6309322349615248,0.6314725171870049,0.6331912362782766,0.6328031854928248],\"yaxis\":\"y\",\"type\":\"scattergl\"},{\"hovertemplate\":\"max_depth=25<br>num_trees=%{x}<br>value=%{y}<extra></extra>\",\"legendgroup\":\"25\",\"line\":{\"color\":\"#17BECF\",\"dash\":\"solid\"},\"marker\":{\"symbol\":\"circle\"},\"mode\":\"lines\",\"name\":\"25\",\"showlegend\":true,\"x\":[1,2,3,4,5,6,7,8,9,10,11,12,13,14,15,16,17,18,19,20,21,22,23,24,25,26,27,28,29,30,31,32,33,34,35,36,37,38,39,40,41,42,43,44,45,46,47,48,49,50,51,52,53,54,55,56,57,58,59,60,61,62,63,64,65,66,67,68,69,70,71,72,73,74,75,76,77,78,79,80,81,82,83,84,85,86,87,88,89,90,91,92,93,94,95,96,97,98,99,100,101,102,103,104,105,106,107,108,109,110,111,112,113,114,115,116,117,118,119,120,121,122,123,124,125,126,127,128,129,130,131,132,133,134,135,136,137,138,139,140,141,142,143,144,145,146,147,148,149,150,151,152,153,154,155,156,157,158,159,160,161,162,163,164,165,166,167,168,169,170,171,172,173,174,175,176,177,178,179,180,181,182,183,184,185,186,187,188,189,190,191,192,193,194,195,196,197,198,199,200],\"xaxis\":\"x\",\"y\":[0.6589204101580227,0.6348354831155893,0.6295577662050711,0.6290305773483901,0.6279889501569634,0.647720008811097,0.6291951416816105,0.6423875711942129,0.6412533553981594,0.6392034998895383,0.6368474859578438,0.6291047768299259,0.631434990649255,0.6275728137282048,0.6457471619140344,0.6334447384708658,0.6398957840325225,0.638193535473274,0.6349342457001254,0.633028417402388,0.6341051041407182,0.6366267135554275,0.6349083950646834,0.6303835432834035,0.6340520942796048,0.6354279540100053,0.6333814969538999,0.6380309359901967,0.630636737642408,0.6320123937260145,0.6357925010034501,0.6350830073694096,0.6347210430441637,0.6324910441527168,0.6320936209540441,0.6359887315140271,0.6344232740400468,0.6353529694055436,0.6379856865177427,0.6299205418000023,0.6352618730295265,0.6348498610716059,0.6354739947550454,0.6329566368975356,0.6319330553985417,0.6342472372316482,0.6327422924255253,0.6303730010638395,0.6319118130481745,0.6388445260542478,0.6340405785399087,0.6317218931860566,0.6324538601467624,0.6347788874043205,0.6342732651846963,0.6319343880698352,0.6322576759672562,0.6311990531101348,0.6345146865870376,0.6328515868471764,0.6317395943445193,0.6324668166096169,0.6332993571562848,0.6336203839168064,0.6315766684132308,0.6321508512192793,0.6312425559749436,0.634459229971875,0.6377840256398606,0.636144514249759,0.6365275469630455,0.6332419605683087,0.6342314274181065,0.6351705278765438,0.6322987439441857,0.630906148964597,0.6359046333015353,0.6371151155731118,0.6326438490886583,0.6326104096372056,0.634493896153531,0.6324552318347245,0.6350598462691498,0.6329585948775331,0.6354599741345486,0.6337515153355805,0.6341611087001994,0.6340975668544487,0.6336688237124812,0.6320676727609045,0.6322419844235169,0.6354578160452565,0.6343854891201255,0.6347000260828164,0.6357636284976779,0.6354980991235105,0.6347701146538763,0.6336261048342458,0.6325961660369723,0.6337433409370012,0.6335594930215203,0.6324626521191185,0.6324071157594132,0.6335115634927069,0.6316979869553265,0.632568430436642,0.6323435235446263,0.6323923765996016,0.6346500193177161,0.631727529744826,0.6323304323304294,0.6321433014693973,0.632273655110977,0.6324838282234917,0.6329435160871055,0.6339832859342234,0.6334217519215806,0.6356703582644246,0.6325607453667468,0.6334537472437245,0.6348683818142968,0.6366665930961748,0.6329686232904386,0.6317025598395882,0.6338752924526323,0.6313106310822976,0.6349051986104475,0.6338293774054978,0.6304757748501748,0.6335491040190293,0.6355110679272532,0.6355583017763803,0.636305439857559,0.6342485805200958,0.6351475974132207,0.6331728095033069,0.6334008881700188,0.6330269672426538,0.631947846125195,0.6342646250171653,0.6339107538900108,0.6329718220616083,0.6313204592405379,0.6343732529866308,0.6320700582775717,0.6347262084399733,0.6358132853866965,0.6336913868967756,0.6327697455246871,0.6330189278628666,0.6341796733040181,0.63366510650987,0.6338537159849527,0.6330147896576288,0.6344544182214218,0.6341026961760519,0.6353111066307817,0.6320336051600816,0.6332548860528302,0.6330065838852271,0.6326999508733282,0.633856905841691,0.6369011719525588,0.6327650398595295,0.6330176429381539,0.635888251827391,0.6332799855149512,0.6314528801681667,0.6332003926574207,0.6333807532226549,0.6345957989172534,0.6326020835418318,0.6328450213237983,0.6310562625586288,0.6336048838259917,0.6349202223984767,0.6342365504631522,0.634623205827732,0.632554249730232,0.6331274330224367,0.632285855340392,0.6315826242656558,0.6316950605743783,0.6348850375513461,0.6342999101151877,0.6333326628010845,0.6323432413230308,0.632478401175974,0.634769246082596,0.6332435894595498,0.6314779443852121,0.6344493393020908,0.6325438329473856,0.632995193344777,0.6315807896918781,0.6327293235748648,0.6324100153186459,0.633556403188897,0.6325828296259957,0.6322818080687842],\"yaxis\":\"y\",\"type\":\"scattergl\"},{\"hovertemplate\":\"max_depth=30<br>num_trees=%{x}<br>value=%{y}<extra></extra>\",\"legendgroup\":\"30\",\"line\":{\"color\":\"#1F77B4\",\"dash\":\"solid\"},\"marker\":{\"symbol\":\"circle\"},\"mode\":\"lines\",\"name\":\"30\",\"showlegend\":true,\"x\":[1,2,3,4,5,6,7,8,9,10,11,12,13,14,15,16,17,18,19,20,21,22,23,24,25,26,27,28,29,30,31,32,33,34,35,36,37,38,39,40,41,42,43,44,45,46,47,48,49,50,51,52,53,54,55,56,57,58,59,60,61,62,63,64,65,66,67,68,69,70,71,72,73,74,75,76,77,78,79,80,81,82,83,84,85,86,87,88,89,90,91,92,93,94,95,96,97,98,99,100,101,102,103,104,105,106,107,108,109,110,111,112,113,114,115,116,117,118,119,120,121,122,123,124,125,126,127,128,129,130,131,132,133,134,135,136,137,138,139,140,141,142,143,144,145,146,147,148,149,150,151,152,153,154,155,156,157,158,159,160,161,162,163,164,165,166,167,168,169,170,171,172,173,174,175,176,177,178,179,180,181,182,183,184,185,186,187,188,189,190,191,192,193,194,195,196,197,198,199,200],\"xaxis\":\"x\",\"y\":[0.6210665276013306,0.6202385743909904,0.6357810501715837,0.6350946577211809,0.6468844071145374,0.639184210594061,0.6373859408853485,0.6330611692505987,0.6341330520737576,0.6354586854540518,0.6328356723726554,0.6309149947054915,0.6372952129084879,0.6344730544159076,0.6396883505287829,0.6296832099190457,0.6336987137644857,0.6395112218327363,0.6341862668082048,0.6319733230185673,0.6357232677386229,0.6359276814846655,0.6357820315451355,0.6449934069903683,0.6340924534120919,0.6370723945335087,0.6435724324218997,0.632119925105701,0.6348809758420757,0.6361373559513516,0.6354569890826229,0.6317229235635806,0.6344006921352526,0.6313699340549369,0.6352368372197038,0.6301158667707538,0.6390888346819807,0.6313054450025762,0.6347161649252694,0.63155680434483,0.6334980638339409,0.6287706359784235,0.6333000353863903,0.6345985160452425,0.6343260043895815,0.6334994619841395,0.6313814234539779,0.6352518987595992,0.6384129975800618,0.6339620554471838,0.6301270255560332,0.6294841404618292,0.6326200710738565,0.6310674945495829,0.6360154597197453,0.6346876868594846,0.6324554422384889,0.63973033162673,0.6328787592416295,0.6324172110616983,0.6331776957528811,0.6344884181492099,0.6351589602385718,0.6304551471383876,0.6336908610014114,0.634189366654651,0.6341088458841513,0.6314458254100349,0.6327464616982832,0.6337559752487486,0.6323425511941806,0.632941217801151,0.636096849921627,0.6335903820609023,0.6321341874067379,0.6376646232264784,0.6341472409845476,0.636203223469048,0.634982628849531,0.6348284860750613,0.6354234253785026,0.6329465183743216,0.637801737378405,0.6327408905798022,0.6347455406109067,0.6325857819507853,0.6356443110848768,0.6337559737557024,0.6331530435949944,0.6340380941069048,0.6342124982938577,0.6337647365711764,0.6320986481559203,0.6328349219353495,0.6336374416839707,0.634998249798643,0.6339600527008279,0.6329465291313586,0.6323634178171558,0.6327606960267095,0.6338891654611266,0.634886304324111,0.6323004229122879,0.6328510856573568,0.6336440795432998,0.6313711848604487,0.6325145328667485,0.6342009248655313,0.6351543325178955,0.633077586784475,0.6340826091006178,0.6329176552991852,0.6341027456372347,0.634378221421783,0.6358021522000308,0.6312037038630268,0.6316486930166558,0.6341326838130016,0.6345671258521645,0.6331130338729605,0.6344358907257697,0.6314459222851068,0.6321203359121806,0.6315737223042323,0.6341638224729615,0.6336926075940081,0.6324508652313424,0.6337218147869078,0.6366828274875552,0.6354609798943289,0.6313982118198466,0.6317128050109974,0.6340577073055904,0.6328187625499591,0.6354487185879049,0.632239989723774,0.6354806066053168,0.6313866181936773,0.6331923582130314,0.629088216161012,0.6332100107434514,0.6346212585073648,0.6337739370072185,0.6317649115186709,0.6346569501753859,0.6350905987087043,0.633855686903158,0.6337461734545824,0.6344294085307155,0.6347495374973636,0.631919911158904,0.6326295214209511,0.6334174890384511,0.6316504843062372,0.632559105064148,0.6339574124238898,0.631692921325267,0.6340251106672243,0.630894623843768,0.6350353405925264,0.633456568411209,0.6330638815092836,0.6334651999054233,0.6341334291737232,0.6363935544294911,0.6334058091296589,0.6321664466269414,0.6355310169081366,0.6317426563321323,0.6332082303001652,0.6340522003105976,0.6321952812002173,0.6361041149887705,0.6330652524995516,0.6313323737151535,0.6332894545263095,0.6313845123347513,0.6331746192484612,0.6358378586725243,0.6342509911656451,0.6325777873640599,0.6307406472633411,0.6339830235123523,0.6323558036404023,0.6324179430049128,0.6356218403028427,0.6341980364070529,0.6349155493939658,0.6334875032289553,0.6340157496179868,0.633144674486671,0.6339728979961344,0.6323603372399386,0.6334297969884166,0.631751287637345,0.6340322978344999,0.6329697194523367,0.6327284841231813,0.632875316105452,0.6329006037722271],\"yaxis\":\"y\",\"type\":\"scattergl\"}],                        {\"template\":{\"data\":{\"histogram2dcontour\":[{\"type\":\"histogram2dcontour\",\"colorbar\":{\"outlinewidth\":1,\"tickcolor\":\"rgb(36,36,36)\",\"ticks\":\"outside\"},\"colorscale\":[[0.0,\"#440154\"],[0.1111111111111111,\"#482878\"],[0.2222222222222222,\"#3e4989\"],[0.3333333333333333,\"#31688e\"],[0.4444444444444444,\"#26828e\"],[0.5555555555555556,\"#1f9e89\"],[0.6666666666666666,\"#35b779\"],[0.7777777777777778,\"#6ece58\"],[0.8888888888888888,\"#b5de2b\"],[1.0,\"#fde725\"]]}],\"choropleth\":[{\"type\":\"choropleth\",\"colorbar\":{\"outlinewidth\":1,\"tickcolor\":\"rgb(36,36,36)\",\"ticks\":\"outside\"}}],\"histogram2d\":[{\"type\":\"histogram2d\",\"colorbar\":{\"outlinewidth\":1,\"tickcolor\":\"rgb(36,36,36)\",\"ticks\":\"outside\"},\"colorscale\":[[0.0,\"#440154\"],[0.1111111111111111,\"#482878\"],[0.2222222222222222,\"#3e4989\"],[0.3333333333333333,\"#31688e\"],[0.4444444444444444,\"#26828e\"],[0.5555555555555556,\"#1f9e89\"],[0.6666666666666666,\"#35b779\"],[0.7777777777777778,\"#6ece58\"],[0.8888888888888888,\"#b5de2b\"],[1.0,\"#fde725\"]]}],\"heatmap\":[{\"type\":\"heatmap\",\"colorbar\":{\"outlinewidth\":1,\"tickcolor\":\"rgb(36,36,36)\",\"ticks\":\"outside\"},\"colorscale\":[[0.0,\"#440154\"],[0.1111111111111111,\"#482878\"],[0.2222222222222222,\"#3e4989\"],[0.3333333333333333,\"#31688e\"],[0.4444444444444444,\"#26828e\"],[0.5555555555555556,\"#1f9e89\"],[0.6666666666666666,\"#35b779\"],[0.7777777777777778,\"#6ece58\"],[0.8888888888888888,\"#b5de2b\"],[1.0,\"#fde725\"]]}],\"heatmapgl\":[{\"type\":\"heatmapgl\",\"colorbar\":{\"outlinewidth\":1,\"tickcolor\":\"rgb(36,36,36)\",\"ticks\":\"outside\"},\"colorscale\":[[0.0,\"#440154\"],[0.1111111111111111,\"#482878\"],[0.2222222222222222,\"#3e4989\"],[0.3333333333333333,\"#31688e\"],[0.4444444444444444,\"#26828e\"],[0.5555555555555556,\"#1f9e89\"],[0.6666666666666666,\"#35b779\"],[0.7777777777777778,\"#6ece58\"],[0.8888888888888888,\"#b5de2b\"],[1.0,\"#fde725\"]]}],\"contourcarpet\":[{\"type\":\"contourcarpet\",\"colorbar\":{\"outlinewidth\":1,\"tickcolor\":\"rgb(36,36,36)\",\"ticks\":\"outside\"}}],\"contour\":[{\"type\":\"contour\",\"colorbar\":{\"outlinewidth\":1,\"tickcolor\":\"rgb(36,36,36)\",\"ticks\":\"outside\"},\"colorscale\":[[0.0,\"#440154\"],[0.1111111111111111,\"#482878\"],[0.2222222222222222,\"#3e4989\"],[0.3333333333333333,\"#31688e\"],[0.4444444444444444,\"#26828e\"],[0.5555555555555556,\"#1f9e89\"],[0.6666666666666666,\"#35b779\"],[0.7777777777777778,\"#6ece58\"],[0.8888888888888888,\"#b5de2b\"],[1.0,\"#fde725\"]]}],\"surface\":[{\"type\":\"surface\",\"colorbar\":{\"outlinewidth\":1,\"tickcolor\":\"rgb(36,36,36)\",\"ticks\":\"outside\"},\"colorscale\":[[0.0,\"#440154\"],[0.1111111111111111,\"#482878\"],[0.2222222222222222,\"#3e4989\"],[0.3333333333333333,\"#31688e\"],[0.4444444444444444,\"#26828e\"],[0.5555555555555556,\"#1f9e89\"],[0.6666666666666666,\"#35b779\"],[0.7777777777777778,\"#6ece58\"],[0.8888888888888888,\"#b5de2b\"],[1.0,\"#fde725\"]]}],\"mesh3d\":[{\"type\":\"mesh3d\",\"colorbar\":{\"outlinewidth\":1,\"tickcolor\":\"rgb(36,36,36)\",\"ticks\":\"outside\"}}],\"scatter\":[{\"fillpattern\":{\"fillmode\":\"overlay\",\"size\":10,\"solidity\":0.2},\"type\":\"scatter\"}],\"parcoords\":[{\"type\":\"parcoords\",\"line\":{\"colorbar\":{\"outlinewidth\":1,\"tickcolor\":\"rgb(36,36,36)\",\"ticks\":\"outside\"}}}],\"scatterpolargl\":[{\"type\":\"scatterpolargl\",\"marker\":{\"colorbar\":{\"outlinewidth\":1,\"tickcolor\":\"rgb(36,36,36)\",\"ticks\":\"outside\"}}}],\"bar\":[{\"error_x\":{\"color\":\"rgb(36,36,36)\"},\"error_y\":{\"color\":\"rgb(36,36,36)\"},\"marker\":{\"line\":{\"color\":\"white\",\"width\":0.5},\"pattern\":{\"fillmode\":\"overlay\",\"size\":10,\"solidity\":0.2}},\"type\":\"bar\"}],\"scattergeo\":[{\"type\":\"scattergeo\",\"marker\":{\"colorbar\":{\"outlinewidth\":1,\"tickcolor\":\"rgb(36,36,36)\",\"ticks\":\"outside\"}}}],\"scatterpolar\":[{\"type\":\"scatterpolar\",\"marker\":{\"colorbar\":{\"outlinewidth\":1,\"tickcolor\":\"rgb(36,36,36)\",\"ticks\":\"outside\"}}}],\"histogram\":[{\"marker\":{\"line\":{\"color\":\"white\",\"width\":0.6}},\"type\":\"histogram\"}],\"scattergl\":[{\"type\":\"scattergl\",\"marker\":{\"colorbar\":{\"outlinewidth\":1,\"tickcolor\":\"rgb(36,36,36)\",\"ticks\":\"outside\"}}}],\"scatter3d\":[{\"type\":\"scatter3d\",\"line\":{\"colorbar\":{\"outlinewidth\":1,\"tickcolor\":\"rgb(36,36,36)\",\"ticks\":\"outside\"}},\"marker\":{\"colorbar\":{\"outlinewidth\":1,\"tickcolor\":\"rgb(36,36,36)\",\"ticks\":\"outside\"}}}],\"scattermapbox\":[{\"type\":\"scattermapbox\",\"marker\":{\"colorbar\":{\"outlinewidth\":1,\"tickcolor\":\"rgb(36,36,36)\",\"ticks\":\"outside\"}}}],\"scatterternary\":[{\"type\":\"scatterternary\",\"marker\":{\"colorbar\":{\"outlinewidth\":1,\"tickcolor\":\"rgb(36,36,36)\",\"ticks\":\"outside\"}}}],\"scattercarpet\":[{\"type\":\"scattercarpet\",\"marker\":{\"colorbar\":{\"outlinewidth\":1,\"tickcolor\":\"rgb(36,36,36)\",\"ticks\":\"outside\"}}}],\"carpet\":[{\"aaxis\":{\"endlinecolor\":\"rgb(36,36,36)\",\"gridcolor\":\"white\",\"linecolor\":\"white\",\"minorgridcolor\":\"white\",\"startlinecolor\":\"rgb(36,36,36)\"},\"baxis\":{\"endlinecolor\":\"rgb(36,36,36)\",\"gridcolor\":\"white\",\"linecolor\":\"white\",\"minorgridcolor\":\"white\",\"startlinecolor\":\"rgb(36,36,36)\"},\"type\":\"carpet\"}],\"table\":[{\"cells\":{\"fill\":{\"color\":\"rgb(237,237,237)\"},\"line\":{\"color\":\"white\"}},\"header\":{\"fill\":{\"color\":\"rgb(217,217,217)\"},\"line\":{\"color\":\"white\"}},\"type\":\"table\"}],\"barpolar\":[{\"marker\":{\"line\":{\"color\":\"white\",\"width\":0.5},\"pattern\":{\"fillmode\":\"overlay\",\"size\":10,\"solidity\":0.2}},\"type\":\"barpolar\"}],\"pie\":[{\"automargin\":true,\"type\":\"pie\"}]},\"layout\":{\"autotypenumbers\":\"strict\",\"colorway\":[\"#1F77B4\",\"#FF7F0E\",\"#2CA02C\",\"#D62728\",\"#9467BD\",\"#8C564B\",\"#E377C2\",\"#7F7F7F\",\"#BCBD22\",\"#17BECF\"],\"font\":{\"color\":\"rgb(36,36,36)\"},\"hovermode\":\"closest\",\"hoverlabel\":{\"align\":\"left\"},\"paper_bgcolor\":\"white\",\"plot_bgcolor\":\"white\",\"polar\":{\"bgcolor\":\"white\",\"angularaxis\":{\"gridcolor\":\"rgb(232,232,232)\",\"linecolor\":\"rgb(36,36,36)\",\"showgrid\":false,\"showline\":true,\"ticks\":\"outside\"},\"radialaxis\":{\"gridcolor\":\"rgb(232,232,232)\",\"linecolor\":\"rgb(36,36,36)\",\"showgrid\":false,\"showline\":true,\"ticks\":\"outside\"}},\"ternary\":{\"bgcolor\":\"white\",\"aaxis\":{\"gridcolor\":\"rgb(232,232,232)\",\"linecolor\":\"rgb(36,36,36)\",\"showgrid\":false,\"showline\":true,\"ticks\":\"outside\"},\"baxis\":{\"gridcolor\":\"rgb(232,232,232)\",\"linecolor\":\"rgb(36,36,36)\",\"showgrid\":false,\"showline\":true,\"ticks\":\"outside\"},\"caxis\":{\"gridcolor\":\"rgb(232,232,232)\",\"linecolor\":\"rgb(36,36,36)\",\"showgrid\":false,\"showline\":true,\"ticks\":\"outside\"}},\"coloraxis\":{\"colorbar\":{\"outlinewidth\":1,\"tickcolor\":\"rgb(36,36,36)\",\"ticks\":\"outside\"}},\"colorscale\":{\"sequential\":[[0.0,\"#440154\"],[0.1111111111111111,\"#482878\"],[0.2222222222222222,\"#3e4989\"],[0.3333333333333333,\"#31688e\"],[0.4444444444444444,\"#26828e\"],[0.5555555555555556,\"#1f9e89\"],[0.6666666666666666,\"#35b779\"],[0.7777777777777778,\"#6ece58\"],[0.8888888888888888,\"#b5de2b\"],[1.0,\"#fde725\"]],\"sequentialminus\":[[0.0,\"#440154\"],[0.1111111111111111,\"#482878\"],[0.2222222222222222,\"#3e4989\"],[0.3333333333333333,\"#31688e\"],[0.4444444444444444,\"#26828e\"],[0.5555555555555556,\"#1f9e89\"],[0.6666666666666666,\"#35b779\"],[0.7777777777777778,\"#6ece58\"],[0.8888888888888888,\"#b5de2b\"],[1.0,\"#fde725\"]],\"diverging\":[[0.0,\"rgb(103,0,31)\"],[0.1,\"rgb(178,24,43)\"],[0.2,\"rgb(214,96,77)\"],[0.3,\"rgb(244,165,130)\"],[0.4,\"rgb(253,219,199)\"],[0.5,\"rgb(247,247,247)\"],[0.6,\"rgb(209,229,240)\"],[0.7,\"rgb(146,197,222)\"],[0.8,\"rgb(67,147,195)\"],[0.9,\"rgb(33,102,172)\"],[1.0,\"rgb(5,48,97)\"]]},\"xaxis\":{\"gridcolor\":\"rgb(232,232,232)\",\"linecolor\":\"rgb(36,36,36)\",\"showgrid\":false,\"showline\":true,\"ticks\":\"outside\",\"title\":{\"standoff\":15},\"zerolinecolor\":\"rgb(36,36,36)\",\"automargin\":true,\"zeroline\":false},\"yaxis\":{\"gridcolor\":\"rgb(232,232,232)\",\"linecolor\":\"rgb(36,36,36)\",\"showgrid\":false,\"showline\":true,\"ticks\":\"outside\",\"title\":{\"standoff\":15},\"zerolinecolor\":\"rgb(36,36,36)\",\"automargin\":true,\"zeroline\":false},\"scene\":{\"xaxis\":{\"backgroundcolor\":\"white\",\"gridcolor\":\"rgb(232,232,232)\",\"linecolor\":\"rgb(36,36,36)\",\"showbackground\":true,\"showgrid\":false,\"showline\":true,\"ticks\":\"outside\",\"zerolinecolor\":\"rgb(36,36,36)\",\"gridwidth\":2,\"zeroline\":false},\"yaxis\":{\"backgroundcolor\":\"white\",\"gridcolor\":\"rgb(232,232,232)\",\"linecolor\":\"rgb(36,36,36)\",\"showbackground\":true,\"showgrid\":false,\"showline\":true,\"ticks\":\"outside\",\"zerolinecolor\":\"rgb(36,36,36)\",\"gridwidth\":2,\"zeroline\":false},\"zaxis\":{\"backgroundcolor\":\"white\",\"gridcolor\":\"rgb(232,232,232)\",\"linecolor\":\"rgb(36,36,36)\",\"showbackground\":true,\"showgrid\":false,\"showline\":true,\"ticks\":\"outside\",\"zerolinecolor\":\"rgb(36,36,36)\",\"gridwidth\":2,\"zeroline\":false}},\"shapedefaults\":{\"fillcolor\":\"black\",\"line\":{\"width\":0},\"opacity\":0.3},\"annotationdefaults\":{\"arrowhead\":0,\"arrowwidth\":1},\"geo\":{\"bgcolor\":\"white\",\"landcolor\":\"white\",\"subunitcolor\":\"white\",\"showland\":true,\"showlakes\":true,\"lakecolor\":\"white\"},\"title\":{\"x\":0.05},\"mapbox\":{\"style\":\"light\"}}},\"xaxis\":{\"anchor\":\"y\",\"domain\":[0.0,1.0],\"title\":{\"text\":\"num_trees\"}},\"yaxis\":{\"anchor\":\"x\",\"domain\":[0.0,1.0],\"title\":{\"text\":\"value\"}},\"legend\":{\"title\":{\"text\":\"max_depth\"},\"tracegroupgap\":0},\"margin\":{\"t\":60}},                        {\"responsive\": true}                    ).then(function(){\n",
       "                            \n",
       "var gd = document.getElementById('62ea3330-b92c-4d2f-8e61-75ba15a7a2c6');\n",
       "var x = new MutationObserver(function (mutations, observer) {{\n",
       "        var display = window.getComputedStyle(gd).display;\n",
       "        if (!display || display === 'none') {{\n",
       "            console.log([gd, 'removed!']);\n",
       "            Plotly.purge(gd);\n",
       "            observer.disconnect();\n",
       "        }}\n",
       "}});\n",
       "\n",
       "// Listen for the removal of the full notebook cells\n",
       "var notebookContainer = gd.closest('#notebook-container');\n",
       "if (notebookContainer) {{\n",
       "    x.observe(notebookContainer, {childList: true});\n",
       "}}\n",
       "\n",
       "// Listen for the clearing of the current output cell\n",
       "var outputEl = gd.closest('.output');\n",
       "if (outputEl) {{\n",
       "    x.observe(outputEl, {childList: true});\n",
       "}}\n",
       "\n",
       "                        })                };                });            </script>        </div>"
      ]
     },
     "metadata": {},
     "output_type": "display_data"
    }
   ],
   "source": [
    "px.line(\n",
    "    max_depth_num_trees_df.pivot(index = 'num_trees', columns = 'max_depth', values = 'val_mae')\n",
    ")"
   ]
  },
  {
   "cell_type": "markdown",
   "id": "2166a1c7",
   "metadata": {},
   "source": [
    "# Interpreting model"
   ]
  },
  {
   "cell_type": "code",
   "execution_count": 97,
   "id": "b0f6803e",
   "metadata": {},
   "outputs": [
    {
     "name": "stdout",
     "output_type": "stream",
     "text": [
      "CPU times: user 667 ms, sys: 7.14 ms, total: 674 ms\n",
      "Wall time: 673 ms\n"
     ]
    },
    {
     "data": {
      "text/html": [
       "<style>#sk-container-id-6 {color: black;background-color: white;}#sk-container-id-6 pre{padding: 0;}#sk-container-id-6 div.sk-toggleable {background-color: white;}#sk-container-id-6 label.sk-toggleable__label {cursor: pointer;display: block;width: 100%;margin-bottom: 0;padding: 0.3em;box-sizing: border-box;text-align: center;}#sk-container-id-6 label.sk-toggleable__label-arrow:before {content: \"▸\";float: left;margin-right: 0.25em;color: #696969;}#sk-container-id-6 label.sk-toggleable__label-arrow:hover:before {color: black;}#sk-container-id-6 div.sk-estimator:hover label.sk-toggleable__label-arrow:before {color: black;}#sk-container-id-6 div.sk-toggleable__content {max-height: 0;max-width: 0;overflow: hidden;text-align: left;background-color: #f0f8ff;}#sk-container-id-6 div.sk-toggleable__content pre {margin: 0.2em;color: black;border-radius: 0.25em;background-color: #f0f8ff;}#sk-container-id-6 input.sk-toggleable__control:checked~div.sk-toggleable__content {max-height: 200px;max-width: 100%;overflow: auto;}#sk-container-id-6 input.sk-toggleable__control:checked~label.sk-toggleable__label-arrow:before {content: \"▾\";}#sk-container-id-6 div.sk-estimator input.sk-toggleable__control:checked~label.sk-toggleable__label {background-color: #d4ebff;}#sk-container-id-6 div.sk-label input.sk-toggleable__control:checked~label.sk-toggleable__label {background-color: #d4ebff;}#sk-container-id-6 input.sk-hidden--visually {border: 0;clip: rect(1px 1px 1px 1px);clip: rect(1px, 1px, 1px, 1px);height: 1px;margin: -1px;overflow: hidden;padding: 0;position: absolute;width: 1px;}#sk-container-id-6 div.sk-estimator {font-family: monospace;background-color: #f0f8ff;border: 1px dotted black;border-radius: 0.25em;box-sizing: border-box;margin-bottom: 0.5em;}#sk-container-id-6 div.sk-estimator:hover {background-color: #d4ebff;}#sk-container-id-6 div.sk-parallel-item::after {content: \"\";width: 100%;border-bottom: 1px solid gray;flex-grow: 1;}#sk-container-id-6 div.sk-label:hover label.sk-toggleable__label {background-color: #d4ebff;}#sk-container-id-6 div.sk-serial::before {content: \"\";position: absolute;border-left: 1px solid gray;box-sizing: border-box;top: 0;bottom: 0;left: 50%;z-index: 0;}#sk-container-id-6 div.sk-serial {display: flex;flex-direction: column;align-items: center;background-color: white;padding-right: 0.2em;padding-left: 0.2em;position: relative;}#sk-container-id-6 div.sk-item {position: relative;z-index: 1;}#sk-container-id-6 div.sk-parallel {display: flex;align-items: stretch;justify-content: center;background-color: white;position: relative;}#sk-container-id-6 div.sk-item::before, #sk-container-id-6 div.sk-parallel-item::before {content: \"\";position: absolute;border-left: 1px solid gray;box-sizing: border-box;top: 0;bottom: 0;left: 50%;z-index: -1;}#sk-container-id-6 div.sk-parallel-item {display: flex;flex-direction: column;z-index: 1;position: relative;background-color: white;}#sk-container-id-6 div.sk-parallel-item:first-child::after {align-self: flex-end;width: 50%;}#sk-container-id-6 div.sk-parallel-item:last-child::after {align-self: flex-start;width: 50%;}#sk-container-id-6 div.sk-parallel-item:only-child::after {width: 0;}#sk-container-id-6 div.sk-dashed-wrapped {border: 1px dashed gray;margin: 0 0.4em 0.5em 0.4em;box-sizing: border-box;padding-bottom: 0.4em;background-color: white;}#sk-container-id-6 div.sk-label label {font-family: monospace;font-weight: bold;display: inline-block;line-height: 1.2em;}#sk-container-id-6 div.sk-label-container {text-align: center;}#sk-container-id-6 div.sk-container {/* jupyter's `normalize.less` sets `[hidden] { display: none; }` but bootstrap.min.css set `[hidden] { display: none !important; }` so we also need the `!important` here to be able to override the default hidden behavior on the sphinx rendered scikit-learn.org. See: https://github.com/scikit-learn/scikit-learn/issues/21755 */display: inline-block !important;position: relative;}#sk-container-id-6 div.sk-text-repr-fallback {display: none;}</style><div id=\"sk-container-id-6\" class=\"sk-top-container\"><div class=\"sk-text-repr-fallback\"><pre>RandomForestRegressor(min_samples_leaf=100, oob_score=True)</pre><b>In a Jupyter environment, please rerun this cell to show the HTML representation or trust the notebook. <br />On GitHub, the HTML representation is unable to render, please try loading this page with nbviewer.org.</b></div><div class=\"sk-container\" hidden><div class=\"sk-item\"><div class=\"sk-estimator sk-toggleable\"><input class=\"sk-toggleable__control sk-hidden--visually\" id=\"sk-estimator-id-6\" type=\"checkbox\" checked><label for=\"sk-estimator-id-6\" class=\"sk-toggleable__label sk-toggleable__label-arrow\">RandomForestRegressor</label><div class=\"sk-toggleable__content\"><pre>RandomForestRegressor(min_samples_leaf=100, oob_score=True)</pre></div></div></div></div></div>"
      ],
      "text/plain": [
       "RandomForestRegressor(min_samples_leaf=100, oob_score=True)"
      ]
     },
     "execution_count": 97,
     "metadata": {},
     "output_type": "execute_result"
    }
   ],
   "source": [
    "%%time \n",
    "model = sklearn.ensemble.RandomForestRegressor(100, min_samples_leaf=100, oob_score=True)\n",
    "model.fit(train_X, train_y)"
   ]
  },
  {
   "cell_type": "markdown",
   "id": "b3ee2b9d",
   "metadata": {},
   "source": [
    "## Feature importances"
   ]
  },
  {
   "cell_type": "code",
   "execution_count": 98,
   "id": "1164c1d7",
   "metadata": {},
   "outputs": [],
   "source": [
    "def plot_feature_importance(model, names, threshold = None):\n",
    "    feature_importance_df = pd.DataFrame.from_dict({'feature_importance': model.feature_importances_,\n",
    "                                                    'feature': names})\\\n",
    "            .set_index('feature').sort_values('feature_importance', ascending = False)\n",
    "\n",
    "    if threshold is not None:\n",
    "        feature_importance_df = feature_importance_df[feature_importance_df.feature_importance > threshold]\n",
    "\n",
    "    fig = px.bar(\n",
    "        feature_importance_df,\n",
    "        text_auto = '.2f',\n",
    "        labels = {'value': 'feature importance'},\n",
    "        title = 'Feature importances'\n",
    "    )\n",
    "\n",
    "    fig.update_layout(showlegend = False)\n",
    "    fig.show()"
   ]
  },
  {
   "cell_type": "code",
   "execution_count": 99,
   "id": "74c684ee",
   "metadata": {},
   "outputs": [
    {
     "data": {
      "application/vnd.plotly.v1+json": {
       "config": {
        "plotlyServerURL": "https://plot.ly"
       },
       "data": [
        {
         "alignmentgroup": "True",
         "hovertemplate": "variable=feature_importance<br>feature=%{x}<br>feature importance=%{y}<extra></extra>",
         "legendgroup": "feature_importance",
         "marker": {
          "color": "#1F77B4",
          "pattern": {
           "shape": ""
          }
         },
         "name": "feature_importance",
         "offsetgroup": "feature_importance",
         "orientation": "v",
         "showlegend": true,
         "textposition": "auto",
         "texttemplate": "%{y:.2f}",
         "type": "bar",
         "x": [
          "alcohol",
          "volatile acidity",
          "free sulfur dioxide",
          "sulphates",
          "residual sugar",
          "citric acid",
          "fixed acidity",
          "total sulfur dioxide",
          "pH",
          "chlorides",
          "density",
          "type"
         ],
         "xaxis": "x",
         "y": [
          0.6077154280916803,
          0.20433400435889407,
          0.05319274495769863,
          0.04422231230491192,
          0.028563681017348765,
          0.017953451060590448,
          0.01261141309561724,
          0.00880152839587587,
          0.008678839558671334,
          0.007496544764327448,
          0.006303177858134218,
          0.00012687453624968308
         ],
         "yaxis": "y"
        }
       ],
       "layout": {
        "barmode": "relative",
        "legend": {
         "title": {
          "text": "variable"
         },
         "tracegroupgap": 0
        },
        "showlegend": false,
        "template": {
         "data": {
          "bar": [
           {
            "error_x": {
             "color": "rgb(36,36,36)"
            },
            "error_y": {
             "color": "rgb(36,36,36)"
            },
            "marker": {
             "line": {
              "color": "white",
              "width": 0.5
             },
             "pattern": {
              "fillmode": "overlay",
              "size": 10,
              "solidity": 0.2
             }
            },
            "type": "bar"
           }
          ],
          "barpolar": [
           {
            "marker": {
             "line": {
              "color": "white",
              "width": 0.5
             },
             "pattern": {
              "fillmode": "overlay",
              "size": 10,
              "solidity": 0.2
             }
            },
            "type": "barpolar"
           }
          ],
          "carpet": [
           {
            "aaxis": {
             "endlinecolor": "rgb(36,36,36)",
             "gridcolor": "white",
             "linecolor": "white",
             "minorgridcolor": "white",
             "startlinecolor": "rgb(36,36,36)"
            },
            "baxis": {
             "endlinecolor": "rgb(36,36,36)",
             "gridcolor": "white",
             "linecolor": "white",
             "minorgridcolor": "white",
             "startlinecolor": "rgb(36,36,36)"
            },
            "type": "carpet"
           }
          ],
          "choropleth": [
           {
            "colorbar": {
             "outlinewidth": 1,
             "tickcolor": "rgb(36,36,36)",
             "ticks": "outside"
            },
            "type": "choropleth"
           }
          ],
          "contour": [
           {
            "colorbar": {
             "outlinewidth": 1,
             "tickcolor": "rgb(36,36,36)",
             "ticks": "outside"
            },
            "colorscale": [
             [
              0,
              "#440154"
             ],
             [
              0.1111111111111111,
              "#482878"
             ],
             [
              0.2222222222222222,
              "#3e4989"
             ],
             [
              0.3333333333333333,
              "#31688e"
             ],
             [
              0.4444444444444444,
              "#26828e"
             ],
             [
              0.5555555555555556,
              "#1f9e89"
             ],
             [
              0.6666666666666666,
              "#35b779"
             ],
             [
              0.7777777777777778,
              "#6ece58"
             ],
             [
              0.8888888888888888,
              "#b5de2b"
             ],
             [
              1,
              "#fde725"
             ]
            ],
            "type": "contour"
           }
          ],
          "contourcarpet": [
           {
            "colorbar": {
             "outlinewidth": 1,
             "tickcolor": "rgb(36,36,36)",
             "ticks": "outside"
            },
            "type": "contourcarpet"
           }
          ],
          "heatmap": [
           {
            "colorbar": {
             "outlinewidth": 1,
             "tickcolor": "rgb(36,36,36)",
             "ticks": "outside"
            },
            "colorscale": [
             [
              0,
              "#440154"
             ],
             [
              0.1111111111111111,
              "#482878"
             ],
             [
              0.2222222222222222,
              "#3e4989"
             ],
             [
              0.3333333333333333,
              "#31688e"
             ],
             [
              0.4444444444444444,
              "#26828e"
             ],
             [
              0.5555555555555556,
              "#1f9e89"
             ],
             [
              0.6666666666666666,
              "#35b779"
             ],
             [
              0.7777777777777778,
              "#6ece58"
             ],
             [
              0.8888888888888888,
              "#b5de2b"
             ],
             [
              1,
              "#fde725"
             ]
            ],
            "type": "heatmap"
           }
          ],
          "heatmapgl": [
           {
            "colorbar": {
             "outlinewidth": 1,
             "tickcolor": "rgb(36,36,36)",
             "ticks": "outside"
            },
            "colorscale": [
             [
              0,
              "#440154"
             ],
             [
              0.1111111111111111,
              "#482878"
             ],
             [
              0.2222222222222222,
              "#3e4989"
             ],
             [
              0.3333333333333333,
              "#31688e"
             ],
             [
              0.4444444444444444,
              "#26828e"
             ],
             [
              0.5555555555555556,
              "#1f9e89"
             ],
             [
              0.6666666666666666,
              "#35b779"
             ],
             [
              0.7777777777777778,
              "#6ece58"
             ],
             [
              0.8888888888888888,
              "#b5de2b"
             ],
             [
              1,
              "#fde725"
             ]
            ],
            "type": "heatmapgl"
           }
          ],
          "histogram": [
           {
            "marker": {
             "line": {
              "color": "white",
              "width": 0.6
             }
            },
            "type": "histogram"
           }
          ],
          "histogram2d": [
           {
            "colorbar": {
             "outlinewidth": 1,
             "tickcolor": "rgb(36,36,36)",
             "ticks": "outside"
            },
            "colorscale": [
             [
              0,
              "#440154"
             ],
             [
              0.1111111111111111,
              "#482878"
             ],
             [
              0.2222222222222222,
              "#3e4989"
             ],
             [
              0.3333333333333333,
              "#31688e"
             ],
             [
              0.4444444444444444,
              "#26828e"
             ],
             [
              0.5555555555555556,
              "#1f9e89"
             ],
             [
              0.6666666666666666,
              "#35b779"
             ],
             [
              0.7777777777777778,
              "#6ece58"
             ],
             [
              0.8888888888888888,
              "#b5de2b"
             ],
             [
              1,
              "#fde725"
             ]
            ],
            "type": "histogram2d"
           }
          ],
          "histogram2dcontour": [
           {
            "colorbar": {
             "outlinewidth": 1,
             "tickcolor": "rgb(36,36,36)",
             "ticks": "outside"
            },
            "colorscale": [
             [
              0,
              "#440154"
             ],
             [
              0.1111111111111111,
              "#482878"
             ],
             [
              0.2222222222222222,
              "#3e4989"
             ],
             [
              0.3333333333333333,
              "#31688e"
             ],
             [
              0.4444444444444444,
              "#26828e"
             ],
             [
              0.5555555555555556,
              "#1f9e89"
             ],
             [
              0.6666666666666666,
              "#35b779"
             ],
             [
              0.7777777777777778,
              "#6ece58"
             ],
             [
              0.8888888888888888,
              "#b5de2b"
             ],
             [
              1,
              "#fde725"
             ]
            ],
            "type": "histogram2dcontour"
           }
          ],
          "mesh3d": [
           {
            "colorbar": {
             "outlinewidth": 1,
             "tickcolor": "rgb(36,36,36)",
             "ticks": "outside"
            },
            "type": "mesh3d"
           }
          ],
          "parcoords": [
           {
            "line": {
             "colorbar": {
              "outlinewidth": 1,
              "tickcolor": "rgb(36,36,36)",
              "ticks": "outside"
             }
            },
            "type": "parcoords"
           }
          ],
          "pie": [
           {
            "automargin": true,
            "type": "pie"
           }
          ],
          "scatter": [
           {
            "fillpattern": {
             "fillmode": "overlay",
             "size": 10,
             "solidity": 0.2
            },
            "type": "scatter"
           }
          ],
          "scatter3d": [
           {
            "line": {
             "colorbar": {
              "outlinewidth": 1,
              "tickcolor": "rgb(36,36,36)",
              "ticks": "outside"
             }
            },
            "marker": {
             "colorbar": {
              "outlinewidth": 1,
              "tickcolor": "rgb(36,36,36)",
              "ticks": "outside"
             }
            },
            "type": "scatter3d"
           }
          ],
          "scattercarpet": [
           {
            "marker": {
             "colorbar": {
              "outlinewidth": 1,
              "tickcolor": "rgb(36,36,36)",
              "ticks": "outside"
             }
            },
            "type": "scattercarpet"
           }
          ],
          "scattergeo": [
           {
            "marker": {
             "colorbar": {
              "outlinewidth": 1,
              "tickcolor": "rgb(36,36,36)",
              "ticks": "outside"
             }
            },
            "type": "scattergeo"
           }
          ],
          "scattergl": [
           {
            "marker": {
             "colorbar": {
              "outlinewidth": 1,
              "tickcolor": "rgb(36,36,36)",
              "ticks": "outside"
             }
            },
            "type": "scattergl"
           }
          ],
          "scattermapbox": [
           {
            "marker": {
             "colorbar": {
              "outlinewidth": 1,
              "tickcolor": "rgb(36,36,36)",
              "ticks": "outside"
             }
            },
            "type": "scattermapbox"
           }
          ],
          "scatterpolar": [
           {
            "marker": {
             "colorbar": {
              "outlinewidth": 1,
              "tickcolor": "rgb(36,36,36)",
              "ticks": "outside"
             }
            },
            "type": "scatterpolar"
           }
          ],
          "scatterpolargl": [
           {
            "marker": {
             "colorbar": {
              "outlinewidth": 1,
              "tickcolor": "rgb(36,36,36)",
              "ticks": "outside"
             }
            },
            "type": "scatterpolargl"
           }
          ],
          "scatterternary": [
           {
            "marker": {
             "colorbar": {
              "outlinewidth": 1,
              "tickcolor": "rgb(36,36,36)",
              "ticks": "outside"
             }
            },
            "type": "scatterternary"
           }
          ],
          "surface": [
           {
            "colorbar": {
             "outlinewidth": 1,
             "tickcolor": "rgb(36,36,36)",
             "ticks": "outside"
            },
            "colorscale": [
             [
              0,
              "#440154"
             ],
             [
              0.1111111111111111,
              "#482878"
             ],
             [
              0.2222222222222222,
              "#3e4989"
             ],
             [
              0.3333333333333333,
              "#31688e"
             ],
             [
              0.4444444444444444,
              "#26828e"
             ],
             [
              0.5555555555555556,
              "#1f9e89"
             ],
             [
              0.6666666666666666,
              "#35b779"
             ],
             [
              0.7777777777777778,
              "#6ece58"
             ],
             [
              0.8888888888888888,
              "#b5de2b"
             ],
             [
              1,
              "#fde725"
             ]
            ],
            "type": "surface"
           }
          ],
          "table": [
           {
            "cells": {
             "fill": {
              "color": "rgb(237,237,237)"
             },
             "line": {
              "color": "white"
             }
            },
            "header": {
             "fill": {
              "color": "rgb(217,217,217)"
             },
             "line": {
              "color": "white"
             }
            },
            "type": "table"
           }
          ]
         },
         "layout": {
          "annotationdefaults": {
           "arrowhead": 0,
           "arrowwidth": 1
          },
          "autotypenumbers": "strict",
          "coloraxis": {
           "colorbar": {
            "outlinewidth": 1,
            "tickcolor": "rgb(36,36,36)",
            "ticks": "outside"
           }
          },
          "colorscale": {
           "diverging": [
            [
             0,
             "rgb(103,0,31)"
            ],
            [
             0.1,
             "rgb(178,24,43)"
            ],
            [
             0.2,
             "rgb(214,96,77)"
            ],
            [
             0.3,
             "rgb(244,165,130)"
            ],
            [
             0.4,
             "rgb(253,219,199)"
            ],
            [
             0.5,
             "rgb(247,247,247)"
            ],
            [
             0.6,
             "rgb(209,229,240)"
            ],
            [
             0.7,
             "rgb(146,197,222)"
            ],
            [
             0.8,
             "rgb(67,147,195)"
            ],
            [
             0.9,
             "rgb(33,102,172)"
            ],
            [
             1,
             "rgb(5,48,97)"
            ]
           ],
           "sequential": [
            [
             0,
             "#440154"
            ],
            [
             0.1111111111111111,
             "#482878"
            ],
            [
             0.2222222222222222,
             "#3e4989"
            ],
            [
             0.3333333333333333,
             "#31688e"
            ],
            [
             0.4444444444444444,
             "#26828e"
            ],
            [
             0.5555555555555556,
             "#1f9e89"
            ],
            [
             0.6666666666666666,
             "#35b779"
            ],
            [
             0.7777777777777778,
             "#6ece58"
            ],
            [
             0.8888888888888888,
             "#b5de2b"
            ],
            [
             1,
             "#fde725"
            ]
           ],
           "sequentialminus": [
            [
             0,
             "#440154"
            ],
            [
             0.1111111111111111,
             "#482878"
            ],
            [
             0.2222222222222222,
             "#3e4989"
            ],
            [
             0.3333333333333333,
             "#31688e"
            ],
            [
             0.4444444444444444,
             "#26828e"
            ],
            [
             0.5555555555555556,
             "#1f9e89"
            ],
            [
             0.6666666666666666,
             "#35b779"
            ],
            [
             0.7777777777777778,
             "#6ece58"
            ],
            [
             0.8888888888888888,
             "#b5de2b"
            ],
            [
             1,
             "#fde725"
            ]
           ]
          },
          "colorway": [
           "#1F77B4",
           "#FF7F0E",
           "#2CA02C",
           "#D62728",
           "#9467BD",
           "#8C564B",
           "#E377C2",
           "#7F7F7F",
           "#BCBD22",
           "#17BECF"
          ],
          "font": {
           "color": "rgb(36,36,36)"
          },
          "geo": {
           "bgcolor": "white",
           "lakecolor": "white",
           "landcolor": "white",
           "showlakes": true,
           "showland": true,
           "subunitcolor": "white"
          },
          "hoverlabel": {
           "align": "left"
          },
          "hovermode": "closest",
          "mapbox": {
           "style": "light"
          },
          "paper_bgcolor": "white",
          "plot_bgcolor": "white",
          "polar": {
           "angularaxis": {
            "gridcolor": "rgb(232,232,232)",
            "linecolor": "rgb(36,36,36)",
            "showgrid": false,
            "showline": true,
            "ticks": "outside"
           },
           "bgcolor": "white",
           "radialaxis": {
            "gridcolor": "rgb(232,232,232)",
            "linecolor": "rgb(36,36,36)",
            "showgrid": false,
            "showline": true,
            "ticks": "outside"
           }
          },
          "scene": {
           "xaxis": {
            "backgroundcolor": "white",
            "gridcolor": "rgb(232,232,232)",
            "gridwidth": 2,
            "linecolor": "rgb(36,36,36)",
            "showbackground": true,
            "showgrid": false,
            "showline": true,
            "ticks": "outside",
            "zeroline": false,
            "zerolinecolor": "rgb(36,36,36)"
           },
           "yaxis": {
            "backgroundcolor": "white",
            "gridcolor": "rgb(232,232,232)",
            "gridwidth": 2,
            "linecolor": "rgb(36,36,36)",
            "showbackground": true,
            "showgrid": false,
            "showline": true,
            "ticks": "outside",
            "zeroline": false,
            "zerolinecolor": "rgb(36,36,36)"
           },
           "zaxis": {
            "backgroundcolor": "white",
            "gridcolor": "rgb(232,232,232)",
            "gridwidth": 2,
            "linecolor": "rgb(36,36,36)",
            "showbackground": true,
            "showgrid": false,
            "showline": true,
            "ticks": "outside",
            "zeroline": false,
            "zerolinecolor": "rgb(36,36,36)"
           }
          },
          "shapedefaults": {
           "fillcolor": "black",
           "line": {
            "width": 0
           },
           "opacity": 0.3
          },
          "ternary": {
           "aaxis": {
            "gridcolor": "rgb(232,232,232)",
            "linecolor": "rgb(36,36,36)",
            "showgrid": false,
            "showline": true,
            "ticks": "outside"
           },
           "baxis": {
            "gridcolor": "rgb(232,232,232)",
            "linecolor": "rgb(36,36,36)",
            "showgrid": false,
            "showline": true,
            "ticks": "outside"
           },
           "bgcolor": "white",
           "caxis": {
            "gridcolor": "rgb(232,232,232)",
            "linecolor": "rgb(36,36,36)",
            "showgrid": false,
            "showline": true,
            "ticks": "outside"
           }
          },
          "title": {
           "x": 0.05
          },
          "xaxis": {
           "automargin": true,
           "gridcolor": "rgb(232,232,232)",
           "linecolor": "rgb(36,36,36)",
           "showgrid": false,
           "showline": true,
           "ticks": "outside",
           "title": {
            "standoff": 15
           },
           "zeroline": false,
           "zerolinecolor": "rgb(36,36,36)"
          },
          "yaxis": {
           "automargin": true,
           "gridcolor": "rgb(232,232,232)",
           "linecolor": "rgb(36,36,36)",
           "showgrid": false,
           "showline": true,
           "ticks": "outside",
           "title": {
            "standoff": 15
           },
           "zeroline": false,
           "zerolinecolor": "rgb(36,36,36)"
          }
         }
        },
        "title": {
         "text": "Feature importances"
        },
        "xaxis": {
         "anchor": "y",
         "domain": [
          0,
          1
         ],
         "title": {
          "text": "feature"
         }
        },
        "yaxis": {
         "anchor": "x",
         "domain": [
          0,
          1
         ],
         "title": {
          "text": "feature importance"
         }
        }
       }
      },
      "text/html": [
       "<div>                            <div id=\"900ba9e3-7cff-4882-b0f2-67c7610672cf\" class=\"plotly-graph-div\" style=\"height:525px; width:100%;\"></div>            <script type=\"text/javascript\">                require([\"plotly\"], function(Plotly) {                    window.PLOTLYENV=window.PLOTLYENV || {};                                    if (document.getElementById(\"900ba9e3-7cff-4882-b0f2-67c7610672cf\")) {                    Plotly.newPlot(                        \"900ba9e3-7cff-4882-b0f2-67c7610672cf\",                        [{\"alignmentgroup\":\"True\",\"hovertemplate\":\"variable=feature_importance<br>feature=%{x}<br>feature importance=%{y}<extra></extra>\",\"legendgroup\":\"feature_importance\",\"marker\":{\"color\":\"#1F77B4\",\"pattern\":{\"shape\":\"\"}},\"name\":\"feature_importance\",\"offsetgroup\":\"feature_importance\",\"orientation\":\"v\",\"showlegend\":true,\"textposition\":\"auto\",\"texttemplate\":\"%{y:.2f}\",\"x\":[\"alcohol\",\"volatile acidity\",\"free sulfur dioxide\",\"sulphates\",\"residual sugar\",\"citric acid\",\"fixed acidity\",\"total sulfur dioxide\",\"pH\",\"chlorides\",\"density\",\"type\"],\"xaxis\":\"x\",\"y\":[0.6077154280916803,0.20433400435889407,0.05319274495769863,0.04422231230491192,0.028563681017348765,0.017953451060590448,0.01261141309561724,0.00880152839587587,0.008678839558671334,0.007496544764327448,0.006303177858134218,0.00012687453624968308],\"yaxis\":\"y\",\"type\":\"bar\"}],                        {\"template\":{\"data\":{\"histogram2dcontour\":[{\"type\":\"histogram2dcontour\",\"colorbar\":{\"outlinewidth\":1,\"tickcolor\":\"rgb(36,36,36)\",\"ticks\":\"outside\"},\"colorscale\":[[0.0,\"#440154\"],[0.1111111111111111,\"#482878\"],[0.2222222222222222,\"#3e4989\"],[0.3333333333333333,\"#31688e\"],[0.4444444444444444,\"#26828e\"],[0.5555555555555556,\"#1f9e89\"],[0.6666666666666666,\"#35b779\"],[0.7777777777777778,\"#6ece58\"],[0.8888888888888888,\"#b5de2b\"],[1.0,\"#fde725\"]]}],\"choropleth\":[{\"type\":\"choropleth\",\"colorbar\":{\"outlinewidth\":1,\"tickcolor\":\"rgb(36,36,36)\",\"ticks\":\"outside\"}}],\"histogram2d\":[{\"type\":\"histogram2d\",\"colorbar\":{\"outlinewidth\":1,\"tickcolor\":\"rgb(36,36,36)\",\"ticks\":\"outside\"},\"colorscale\":[[0.0,\"#440154\"],[0.1111111111111111,\"#482878\"],[0.2222222222222222,\"#3e4989\"],[0.3333333333333333,\"#31688e\"],[0.4444444444444444,\"#26828e\"],[0.5555555555555556,\"#1f9e89\"],[0.6666666666666666,\"#35b779\"],[0.7777777777777778,\"#6ece58\"],[0.8888888888888888,\"#b5de2b\"],[1.0,\"#fde725\"]]}],\"heatmap\":[{\"type\":\"heatmap\",\"colorbar\":{\"outlinewidth\":1,\"tickcolor\":\"rgb(36,36,36)\",\"ticks\":\"outside\"},\"colorscale\":[[0.0,\"#440154\"],[0.1111111111111111,\"#482878\"],[0.2222222222222222,\"#3e4989\"],[0.3333333333333333,\"#31688e\"],[0.4444444444444444,\"#26828e\"],[0.5555555555555556,\"#1f9e89\"],[0.6666666666666666,\"#35b779\"],[0.7777777777777778,\"#6ece58\"],[0.8888888888888888,\"#b5de2b\"],[1.0,\"#fde725\"]]}],\"heatmapgl\":[{\"type\":\"heatmapgl\",\"colorbar\":{\"outlinewidth\":1,\"tickcolor\":\"rgb(36,36,36)\",\"ticks\":\"outside\"},\"colorscale\":[[0.0,\"#440154\"],[0.1111111111111111,\"#482878\"],[0.2222222222222222,\"#3e4989\"],[0.3333333333333333,\"#31688e\"],[0.4444444444444444,\"#26828e\"],[0.5555555555555556,\"#1f9e89\"],[0.6666666666666666,\"#35b779\"],[0.7777777777777778,\"#6ece58\"],[0.8888888888888888,\"#b5de2b\"],[1.0,\"#fde725\"]]}],\"contourcarpet\":[{\"type\":\"contourcarpet\",\"colorbar\":{\"outlinewidth\":1,\"tickcolor\":\"rgb(36,36,36)\",\"ticks\":\"outside\"}}],\"contour\":[{\"type\":\"contour\",\"colorbar\":{\"outlinewidth\":1,\"tickcolor\":\"rgb(36,36,36)\",\"ticks\":\"outside\"},\"colorscale\":[[0.0,\"#440154\"],[0.1111111111111111,\"#482878\"],[0.2222222222222222,\"#3e4989\"],[0.3333333333333333,\"#31688e\"],[0.4444444444444444,\"#26828e\"],[0.5555555555555556,\"#1f9e89\"],[0.6666666666666666,\"#35b779\"],[0.7777777777777778,\"#6ece58\"],[0.8888888888888888,\"#b5de2b\"],[1.0,\"#fde725\"]]}],\"surface\":[{\"type\":\"surface\",\"colorbar\":{\"outlinewidth\":1,\"tickcolor\":\"rgb(36,36,36)\",\"ticks\":\"outside\"},\"colorscale\":[[0.0,\"#440154\"],[0.1111111111111111,\"#482878\"],[0.2222222222222222,\"#3e4989\"],[0.3333333333333333,\"#31688e\"],[0.4444444444444444,\"#26828e\"],[0.5555555555555556,\"#1f9e89\"],[0.6666666666666666,\"#35b779\"],[0.7777777777777778,\"#6ece58\"],[0.8888888888888888,\"#b5de2b\"],[1.0,\"#fde725\"]]}],\"mesh3d\":[{\"type\":\"mesh3d\",\"colorbar\":{\"outlinewidth\":1,\"tickcolor\":\"rgb(36,36,36)\",\"ticks\":\"outside\"}}],\"scatter\":[{\"fillpattern\":{\"fillmode\":\"overlay\",\"size\":10,\"solidity\":0.2},\"type\":\"scatter\"}],\"parcoords\":[{\"type\":\"parcoords\",\"line\":{\"colorbar\":{\"outlinewidth\":1,\"tickcolor\":\"rgb(36,36,36)\",\"ticks\":\"outside\"}}}],\"scatterpolargl\":[{\"type\":\"scatterpolargl\",\"marker\":{\"colorbar\":{\"outlinewidth\":1,\"tickcolor\":\"rgb(36,36,36)\",\"ticks\":\"outside\"}}}],\"bar\":[{\"error_x\":{\"color\":\"rgb(36,36,36)\"},\"error_y\":{\"color\":\"rgb(36,36,36)\"},\"marker\":{\"line\":{\"color\":\"white\",\"width\":0.5},\"pattern\":{\"fillmode\":\"overlay\",\"size\":10,\"solidity\":0.2}},\"type\":\"bar\"}],\"scattergeo\":[{\"type\":\"scattergeo\",\"marker\":{\"colorbar\":{\"outlinewidth\":1,\"tickcolor\":\"rgb(36,36,36)\",\"ticks\":\"outside\"}}}],\"scatterpolar\":[{\"type\":\"scatterpolar\",\"marker\":{\"colorbar\":{\"outlinewidth\":1,\"tickcolor\":\"rgb(36,36,36)\",\"ticks\":\"outside\"}}}],\"histogram\":[{\"marker\":{\"line\":{\"color\":\"white\",\"width\":0.6}},\"type\":\"histogram\"}],\"scattergl\":[{\"type\":\"scattergl\",\"marker\":{\"colorbar\":{\"outlinewidth\":1,\"tickcolor\":\"rgb(36,36,36)\",\"ticks\":\"outside\"}}}],\"scatter3d\":[{\"type\":\"scatter3d\",\"line\":{\"colorbar\":{\"outlinewidth\":1,\"tickcolor\":\"rgb(36,36,36)\",\"ticks\":\"outside\"}},\"marker\":{\"colorbar\":{\"outlinewidth\":1,\"tickcolor\":\"rgb(36,36,36)\",\"ticks\":\"outside\"}}}],\"scattermapbox\":[{\"type\":\"scattermapbox\",\"marker\":{\"colorbar\":{\"outlinewidth\":1,\"tickcolor\":\"rgb(36,36,36)\",\"ticks\":\"outside\"}}}],\"scatterternary\":[{\"type\":\"scatterternary\",\"marker\":{\"colorbar\":{\"outlinewidth\":1,\"tickcolor\":\"rgb(36,36,36)\",\"ticks\":\"outside\"}}}],\"scattercarpet\":[{\"type\":\"scattercarpet\",\"marker\":{\"colorbar\":{\"outlinewidth\":1,\"tickcolor\":\"rgb(36,36,36)\",\"ticks\":\"outside\"}}}],\"carpet\":[{\"aaxis\":{\"endlinecolor\":\"rgb(36,36,36)\",\"gridcolor\":\"white\",\"linecolor\":\"white\",\"minorgridcolor\":\"white\",\"startlinecolor\":\"rgb(36,36,36)\"},\"baxis\":{\"endlinecolor\":\"rgb(36,36,36)\",\"gridcolor\":\"white\",\"linecolor\":\"white\",\"minorgridcolor\":\"white\",\"startlinecolor\":\"rgb(36,36,36)\"},\"type\":\"carpet\"}],\"table\":[{\"cells\":{\"fill\":{\"color\":\"rgb(237,237,237)\"},\"line\":{\"color\":\"white\"}},\"header\":{\"fill\":{\"color\":\"rgb(217,217,217)\"},\"line\":{\"color\":\"white\"}},\"type\":\"table\"}],\"barpolar\":[{\"marker\":{\"line\":{\"color\":\"white\",\"width\":0.5},\"pattern\":{\"fillmode\":\"overlay\",\"size\":10,\"solidity\":0.2}},\"type\":\"barpolar\"}],\"pie\":[{\"automargin\":true,\"type\":\"pie\"}]},\"layout\":{\"autotypenumbers\":\"strict\",\"colorway\":[\"#1F77B4\",\"#FF7F0E\",\"#2CA02C\",\"#D62728\",\"#9467BD\",\"#8C564B\",\"#E377C2\",\"#7F7F7F\",\"#BCBD22\",\"#17BECF\"],\"font\":{\"color\":\"rgb(36,36,36)\"},\"hovermode\":\"closest\",\"hoverlabel\":{\"align\":\"left\"},\"paper_bgcolor\":\"white\",\"plot_bgcolor\":\"white\",\"polar\":{\"bgcolor\":\"white\",\"angularaxis\":{\"gridcolor\":\"rgb(232,232,232)\",\"linecolor\":\"rgb(36,36,36)\",\"showgrid\":false,\"showline\":true,\"ticks\":\"outside\"},\"radialaxis\":{\"gridcolor\":\"rgb(232,232,232)\",\"linecolor\":\"rgb(36,36,36)\",\"showgrid\":false,\"showline\":true,\"ticks\":\"outside\"}},\"ternary\":{\"bgcolor\":\"white\",\"aaxis\":{\"gridcolor\":\"rgb(232,232,232)\",\"linecolor\":\"rgb(36,36,36)\",\"showgrid\":false,\"showline\":true,\"ticks\":\"outside\"},\"baxis\":{\"gridcolor\":\"rgb(232,232,232)\",\"linecolor\":\"rgb(36,36,36)\",\"showgrid\":false,\"showline\":true,\"ticks\":\"outside\"},\"caxis\":{\"gridcolor\":\"rgb(232,232,232)\",\"linecolor\":\"rgb(36,36,36)\",\"showgrid\":false,\"showline\":true,\"ticks\":\"outside\"}},\"coloraxis\":{\"colorbar\":{\"outlinewidth\":1,\"tickcolor\":\"rgb(36,36,36)\",\"ticks\":\"outside\"}},\"colorscale\":{\"sequential\":[[0.0,\"#440154\"],[0.1111111111111111,\"#482878\"],[0.2222222222222222,\"#3e4989\"],[0.3333333333333333,\"#31688e\"],[0.4444444444444444,\"#26828e\"],[0.5555555555555556,\"#1f9e89\"],[0.6666666666666666,\"#35b779\"],[0.7777777777777778,\"#6ece58\"],[0.8888888888888888,\"#b5de2b\"],[1.0,\"#fde725\"]],\"sequentialminus\":[[0.0,\"#440154\"],[0.1111111111111111,\"#482878\"],[0.2222222222222222,\"#3e4989\"],[0.3333333333333333,\"#31688e\"],[0.4444444444444444,\"#26828e\"],[0.5555555555555556,\"#1f9e89\"],[0.6666666666666666,\"#35b779\"],[0.7777777777777778,\"#6ece58\"],[0.8888888888888888,\"#b5de2b\"],[1.0,\"#fde725\"]],\"diverging\":[[0.0,\"rgb(103,0,31)\"],[0.1,\"rgb(178,24,43)\"],[0.2,\"rgb(214,96,77)\"],[0.3,\"rgb(244,165,130)\"],[0.4,\"rgb(253,219,199)\"],[0.5,\"rgb(247,247,247)\"],[0.6,\"rgb(209,229,240)\"],[0.7,\"rgb(146,197,222)\"],[0.8,\"rgb(67,147,195)\"],[0.9,\"rgb(33,102,172)\"],[1.0,\"rgb(5,48,97)\"]]},\"xaxis\":{\"gridcolor\":\"rgb(232,232,232)\",\"linecolor\":\"rgb(36,36,36)\",\"showgrid\":false,\"showline\":true,\"ticks\":\"outside\",\"title\":{\"standoff\":15},\"zerolinecolor\":\"rgb(36,36,36)\",\"automargin\":true,\"zeroline\":false},\"yaxis\":{\"gridcolor\":\"rgb(232,232,232)\",\"linecolor\":\"rgb(36,36,36)\",\"showgrid\":false,\"showline\":true,\"ticks\":\"outside\",\"title\":{\"standoff\":15},\"zerolinecolor\":\"rgb(36,36,36)\",\"automargin\":true,\"zeroline\":false},\"scene\":{\"xaxis\":{\"backgroundcolor\":\"white\",\"gridcolor\":\"rgb(232,232,232)\",\"linecolor\":\"rgb(36,36,36)\",\"showbackground\":true,\"showgrid\":false,\"showline\":true,\"ticks\":\"outside\",\"zerolinecolor\":\"rgb(36,36,36)\",\"gridwidth\":2,\"zeroline\":false},\"yaxis\":{\"backgroundcolor\":\"white\",\"gridcolor\":\"rgb(232,232,232)\",\"linecolor\":\"rgb(36,36,36)\",\"showbackground\":true,\"showgrid\":false,\"showline\":true,\"ticks\":\"outside\",\"zerolinecolor\":\"rgb(36,36,36)\",\"gridwidth\":2,\"zeroline\":false},\"zaxis\":{\"backgroundcolor\":\"white\",\"gridcolor\":\"rgb(232,232,232)\",\"linecolor\":\"rgb(36,36,36)\",\"showbackground\":true,\"showgrid\":false,\"showline\":true,\"ticks\":\"outside\",\"zerolinecolor\":\"rgb(36,36,36)\",\"gridwidth\":2,\"zeroline\":false}},\"shapedefaults\":{\"fillcolor\":\"black\",\"line\":{\"width\":0},\"opacity\":0.3},\"annotationdefaults\":{\"arrowhead\":0,\"arrowwidth\":1},\"geo\":{\"bgcolor\":\"white\",\"landcolor\":\"white\",\"subunitcolor\":\"white\",\"showland\":true,\"showlakes\":true,\"lakecolor\":\"white\"},\"title\":{\"x\":0.05},\"mapbox\":{\"style\":\"light\"}}},\"xaxis\":{\"anchor\":\"y\",\"domain\":[0.0,1.0],\"title\":{\"text\":\"feature\"}},\"yaxis\":{\"anchor\":\"x\",\"domain\":[0.0,1.0],\"title\":{\"text\":\"feature importance\"}},\"legend\":{\"title\":{\"text\":\"variable\"},\"tracegroupgap\":0},\"title\":{\"text\":\"Feature importances\"},\"barmode\":\"relative\",\"showlegend\":false},                        {\"responsive\": true}                    ).then(function(){\n",
       "                            \n",
       "var gd = document.getElementById('900ba9e3-7cff-4882-b0f2-67c7610672cf');\n",
       "var x = new MutationObserver(function (mutations, observer) {{\n",
       "        var display = window.getComputedStyle(gd).display;\n",
       "        if (!display || display === 'none') {{\n",
       "            console.log([gd, 'removed!']);\n",
       "            Plotly.purge(gd);\n",
       "            observer.disconnect();\n",
       "        }}\n",
       "}});\n",
       "\n",
       "// Listen for the removal of the full notebook cells\n",
       "var notebookContainer = gd.closest('#notebook-container');\n",
       "if (notebookContainer) {{\n",
       "    x.observe(notebookContainer, {childList: true});\n",
       "}}\n",
       "\n",
       "// Listen for the clearing of the current output cell\n",
       "var outputEl = gd.closest('.output');\n",
       "if (outputEl) {{\n",
       "    x.observe(outputEl, {childList: true});\n",
       "}}\n",
       "\n",
       "                        })                };                });            </script>        </div>"
      ]
     },
     "metadata": {},
     "output_type": "display_data"
    }
   ],
   "source": [
    "plot_feature_importance(model, train_X.columns)"
   ]
  },
  {
   "cell_type": "code",
   "execution_count": 100,
   "id": "dd8f88e9",
   "metadata": {},
   "outputs": [],
   "source": [
    "# confidence\n",
    "import numpy as np"
   ]
  },
  {
   "cell_type": "code",
   "execution_count": 101,
   "id": "96acd442",
   "metadata": {},
   "outputs": [
    {
     "data": {
      "text/html": [
       "<style>#sk-container-id-7 {color: black;background-color: white;}#sk-container-id-7 pre{padding: 0;}#sk-container-id-7 div.sk-toggleable {background-color: white;}#sk-container-id-7 label.sk-toggleable__label {cursor: pointer;display: block;width: 100%;margin-bottom: 0;padding: 0.3em;box-sizing: border-box;text-align: center;}#sk-container-id-7 label.sk-toggleable__label-arrow:before {content: \"▸\";float: left;margin-right: 0.25em;color: #696969;}#sk-container-id-7 label.sk-toggleable__label-arrow:hover:before {color: black;}#sk-container-id-7 div.sk-estimator:hover label.sk-toggleable__label-arrow:before {color: black;}#sk-container-id-7 div.sk-toggleable__content {max-height: 0;max-width: 0;overflow: hidden;text-align: left;background-color: #f0f8ff;}#sk-container-id-7 div.sk-toggleable__content pre {margin: 0.2em;color: black;border-radius: 0.25em;background-color: #f0f8ff;}#sk-container-id-7 input.sk-toggleable__control:checked~div.sk-toggleable__content {max-height: 200px;max-width: 100%;overflow: auto;}#sk-container-id-7 input.sk-toggleable__control:checked~label.sk-toggleable__label-arrow:before {content: \"▾\";}#sk-container-id-7 div.sk-estimator input.sk-toggleable__control:checked~label.sk-toggleable__label {background-color: #d4ebff;}#sk-container-id-7 div.sk-label input.sk-toggleable__control:checked~label.sk-toggleable__label {background-color: #d4ebff;}#sk-container-id-7 input.sk-hidden--visually {border: 0;clip: rect(1px 1px 1px 1px);clip: rect(1px, 1px, 1px, 1px);height: 1px;margin: -1px;overflow: hidden;padding: 0;position: absolute;width: 1px;}#sk-container-id-7 div.sk-estimator {font-family: monospace;background-color: #f0f8ff;border: 1px dotted black;border-radius: 0.25em;box-sizing: border-box;margin-bottom: 0.5em;}#sk-container-id-7 div.sk-estimator:hover {background-color: #d4ebff;}#sk-container-id-7 div.sk-parallel-item::after {content: \"\";width: 100%;border-bottom: 1px solid gray;flex-grow: 1;}#sk-container-id-7 div.sk-label:hover label.sk-toggleable__label {background-color: #d4ebff;}#sk-container-id-7 div.sk-serial::before {content: \"\";position: absolute;border-left: 1px solid gray;box-sizing: border-box;top: 0;bottom: 0;left: 50%;z-index: 0;}#sk-container-id-7 div.sk-serial {display: flex;flex-direction: column;align-items: center;background-color: white;padding-right: 0.2em;padding-left: 0.2em;position: relative;}#sk-container-id-7 div.sk-item {position: relative;z-index: 1;}#sk-container-id-7 div.sk-parallel {display: flex;align-items: stretch;justify-content: center;background-color: white;position: relative;}#sk-container-id-7 div.sk-item::before, #sk-container-id-7 div.sk-parallel-item::before {content: \"\";position: absolute;border-left: 1px solid gray;box-sizing: border-box;top: 0;bottom: 0;left: 50%;z-index: -1;}#sk-container-id-7 div.sk-parallel-item {display: flex;flex-direction: column;z-index: 1;position: relative;background-color: white;}#sk-container-id-7 div.sk-parallel-item:first-child::after {align-self: flex-end;width: 50%;}#sk-container-id-7 div.sk-parallel-item:last-child::after {align-self: flex-start;width: 50%;}#sk-container-id-7 div.sk-parallel-item:only-child::after {width: 0;}#sk-container-id-7 div.sk-dashed-wrapped {border: 1px dashed gray;margin: 0 0.4em 0.5em 0.4em;box-sizing: border-box;padding-bottom: 0.4em;background-color: white;}#sk-container-id-7 div.sk-label label {font-family: monospace;font-weight: bold;display: inline-block;line-height: 1.2em;}#sk-container-id-7 div.sk-label-container {text-align: center;}#sk-container-id-7 div.sk-container {/* jupyter's `normalize.less` sets `[hidden] { display: none; }` but bootstrap.min.css set `[hidden] { display: none !important; }` so we also need the `!important` here to be able to override the default hidden behavior on the sphinx rendered scikit-learn.org. See: https://github.com/scikit-learn/scikit-learn/issues/21755 */display: inline-block !important;position: relative;}#sk-container-id-7 div.sk-text-repr-fallback {display: none;}</style><div id=\"sk-container-id-7\" class=\"sk-top-container\"><div class=\"sk-text-repr-fallback\"><pre>RandomForestRegressor(min_samples_leaf=100, oob_score=True)</pre><b>In a Jupyter environment, please rerun this cell to show the HTML representation or trust the notebook. <br />On GitHub, the HTML representation is unable to render, please try loading this page with nbviewer.org.</b></div><div class=\"sk-container\" hidden><div class=\"sk-item\"><div class=\"sk-estimator sk-toggleable\"><input class=\"sk-toggleable__control sk-hidden--visually\" id=\"sk-estimator-id-7\" type=\"checkbox\" checked><label for=\"sk-estimator-id-7\" class=\"sk-toggleable__label sk-toggleable__label-arrow\">RandomForestRegressor</label><div class=\"sk-toggleable__content\"><pre>RandomForestRegressor(min_samples_leaf=100, oob_score=True)</pre></div></div></div></div></div>"
      ],
      "text/plain": [
       "RandomForestRegressor(min_samples_leaf=100, oob_score=True)"
      ]
     },
     "execution_count": 101,
     "metadata": {},
     "output_type": "execute_result"
    }
   ],
   "source": [
    "model"
   ]
  },
  {
   "cell_type": "code",
   "execution_count": 102,
   "id": "d22a7dc1",
   "metadata": {},
   "outputs": [],
   "source": [
    "val_df['prediction'] = model.predict(val_X)\n",
    "val_df['predictions_mean'] = np.stack([dt.predict(val_X.values) for dt in model.estimators_]).mean(axis = 0)\n",
    "val_df['predictions_std'] = np.stack([dt.predict(val_X.values) for dt in model.estimators_]).std(axis = 0)"
   ]
  },
  {
   "cell_type": "code",
   "execution_count": 103,
   "id": "ef5dde3d",
   "metadata": {},
   "outputs": [
    {
     "data": {
      "text/plain": [
       "Text(0.5, 1.0, 'Distribution of predictions std')"
      ]
     },
     "execution_count": 103,
     "metadata": {},
     "output_type": "execute_result"
    },
    {
     "data": {
      "image/png": "[encoded data removed]",
      "text/plain": [
       "<Figure size 640x480 with 1 Axes>"
      ]
     },
     "metadata": {},
     "output_type": "display_data"
    }
   ],
   "source": [
    "ax = val_df.predictions_std.hist(bins = 10)\n",
    "ax.set_title('Distribution of predictions std')"
   ]
  },
  {
   "cell_type": "markdown",
   "id": "f89022a7",
   "metadata": {},
   "source": [
    "### Partial dependence"
   ]
  },
  {
   "cell_type": "code",
   "execution_count": 104,
   "id": "fe127a0b",
   "metadata": {},
   "outputs": [],
   "source": [
    "import sklearn.inspection"
   ]
  },
  {
   "cell_type": "code",
   "execution_count": 108,
   "id": "c93a78db",
   "metadata": {},
   "outputs": [
    {
     "data": {
      "application/vnd.plotly.v1+json": {
       "config": {
        "plotlyServerURL": "https://plot.ly"
       },
       "data": [
        {
         "hovertemplate": "variable=quality<br>alcohol=%{x}<br>value=%{y}<extra></extra>",
         "legendgroup": "quality",
         "line": {
          "color": "#1F77B4",
          "dash": "solid"
         },
         "marker": {
          "symbol": "circle"
         },
         "mode": "lines",
         "name": "quality",
         "orientation": "v",
         "showlegend": true,
         "type": "scatter",
         "x": [
          8.4,
          8.5,
          8.6,
          8.7,
          8.8,
          8.9,
          9,
          9.1,
          9.2,
          9.23333333333333,
          9.3,
          9.4,
          9.5,
          9.53333333333333,
          9.6,
          9.7,
          9.8,
          9.9,
          10,
          10.0333333333333,
          10.1,
          10.1333333333333,
          10.15,
          10.2,
          10.3,
          10.4,
          10.5,
          10.55,
          10.6,
          10.7,
          10.8,
          10.9,
          10.98,
          11,
          11.05,
          11.0666666666667,
          11.1,
          11.2,
          11.2666666666667,
          11.3,
          11.4,
          11.45,
          11.5,
          11.55,
          11.6,
          11.6333333333333,
          11.7,
          11.8,
          11.9,
          11.94,
          11.95,
          12,
          12.1,
          12.15,
          12.2,
          12.3,
          12.4,
          12.5,
          12.6,
          12.7,
          12.8,
          12.9,
          13,
          13.1,
          13.3,
          13.4,
          13.5,
          13.55,
          13.6,
          13.7,
          14,
          14.9
         ],
         "xaxis": "x",
         "y": [
          5.5,
          4.75,
          4.666666666666667,
          5.636363636363637,
          5.7,
          5.761904761904762,
          5.744186046511628,
          5.482758620689655,
          5.416666666666667,
          6,
          5.35,
          5.3,
          5.473684210526316,
          6,
          5.371428571428571,
          5.291666666666667,
          5.439024390243903,
          5.54054054054054,
          5.454545454545454,
          6,
          5.65625,
          7,
          7,
          5.7,
          6.0476190476190474,
          5.911764705882353,
          5.891304347826087,
          6,
          5.645161290322581,
          5.928571428571429,
          5.882352941176471,
          5.892857142857143,
          5,
          6.044444444444444,
          5,
          6,
          6,
          6.03125,
          7,
          6.190476190476191,
          5.869565217391305,
          6,
          6.121212121212121,
          6,
          6.1,
          6,
          6.043478260869565,
          6.444444444444445,
          6.214285714285714,
          7,
          7,
          6.321428571428571,
          6.785714285714286,
          7,
          6.363636363636363,
          6.615384615384615,
          6.444444444444445,
          6.444444444444445,
          6.476190476190476,
          6.454545454545454,
          6.761904761904762,
          6.777777777777778,
          6.583333333333333,
          6.25,
          6.75,
          6.333333333333333,
          7,
          6,
          6.666666666666667,
          7,
          6.5,
          5
         ],
         "yaxis": "y"
        }
       ],
       "layout": {
        "legend": {
         "title": {
          "text": "variable"
         },
         "tracegroupgap": 0
        },
        "margin": {
         "t": 60
        },
        "template": {
         "data": {
          "bar": [
           {
            "error_x": {
             "color": "rgb(36,36,36)"
            },
            "error_y": {
             "color": "rgb(36,36,36)"
            },
            "marker": {
             "line": {
              "color": "white",
              "width": 0.5
             },
             "pattern": {
              "fillmode": "overlay",
              "size": 10,
              "solidity": 0.2
             }
            },
            "type": "bar"
           }
          ],
          "barpolar": [
           {
            "marker": {
             "line": {
              "color": "white",
              "width": 0.5
             },
             "pattern": {
              "fillmode": "overlay",
              "size": 10,
              "solidity": 0.2
             }
            },
            "type": "barpolar"
           }
          ],
          "carpet": [
           {
            "aaxis": {
             "endlinecolor": "rgb(36,36,36)",
             "gridcolor": "white",
             "linecolor": "white",
             "minorgridcolor": "white",
             "startlinecolor": "rgb(36,36,36)"
            },
            "baxis": {
             "endlinecolor": "rgb(36,36,36)",
             "gridcolor": "white",
             "linecolor": "white",
             "minorgridcolor": "white",
             "startlinecolor": "rgb(36,36,36)"
            },
            "type": "carpet"
           }
          ],
          "choropleth": [
           {
            "colorbar": {
             "outlinewidth": 1,
             "tickcolor": "rgb(36,36,36)",
             "ticks": "outside"
            },
            "type": "choropleth"
           }
          ],
          "contour": [
           {
            "colorbar": {
             "outlinewidth": 1,
             "tickcolor": "rgb(36,36,36)",
             "ticks": "outside"
            },
            "colorscale": [
             [
              0,
              "#440154"
             ],
             [
              0.1111111111111111,
              "#482878"
             ],
             [
              0.2222222222222222,
              "#3e4989"
             ],
             [
              0.3333333333333333,
              "#31688e"
             ],
             [
              0.4444444444444444,
              "#26828e"
             ],
             [
              0.5555555555555556,
              "#1f9e89"
             ],
             [
              0.6666666666666666,
              "#35b779"
             ],
             [
              0.7777777777777778,
              "#6ece58"
             ],
             [
              0.8888888888888888,
              "#b5de2b"
             ],
             [
              1,
              "#fde725"
             ]
            ],
            "type": "contour"
           }
          ],
          "contourcarpet": [
           {
            "colorbar": {
             "outlinewidth": 1,
             "tickcolor": "rgb(36,36,36)",
             "ticks": "outside"
            },
            "type": "contourcarpet"
           }
          ],
          "heatmap": [
           {
            "colorbar": {
             "outlinewidth": 1,
             "tickcolor": "rgb(36,36,36)",
             "ticks": "outside"
            },
            "colorscale": [
             [
              0,
              "#440154"
             ],
             [
              0.1111111111111111,
              "#482878"
             ],
             [
              0.2222222222222222,
              "#3e4989"
             ],
             [
              0.3333333333333333,
              "#31688e"
             ],
             [
              0.4444444444444444,
              "#26828e"
             ],
             [
              0.5555555555555556,
              "#1f9e89"
             ],
             [
              0.6666666666666666,
              "#35b779"
             ],
             [
              0.7777777777777778,
              "#6ece58"
             ],
             [
              0.8888888888888888,
              "#b5de2b"
             ],
             [
              1,
              "#fde725"
             ]
            ],
            "type": "heatmap"
           }
          ],
          "heatmapgl": [
           {
            "colorbar": {
             "outlinewidth": 1,
             "tickcolor": "rgb(36,36,36)",
             "ticks": "outside"
            },
            "colorscale": [
             [
              0,
              "#440154"
             ],
             [
              0.1111111111111111,
              "#482878"
             ],
             [
              0.2222222222222222,
              "#3e4989"
             ],
             [
              0.3333333333333333,
              "#31688e"
             ],
             [
              0.4444444444444444,
              "#26828e"
             ],
             [
              0.5555555555555556,
              "#1f9e89"
             ],
             [
              0.6666666666666666,
              "#35b779"
             ],
             [
              0.7777777777777778,
              "#6ece58"
             ],
             [
              0.8888888888888888,
              "#b5de2b"
             ],
             [
              1,
              "#fde725"
             ]
            ],
            "type": "heatmapgl"
           }
          ],
          "histogram": [
           {
            "marker": {
             "line": {
              "color": "white",
              "width": 0.6
             }
            },
            "type": "histogram"
           }
          ],
          "histogram2d": [
           {
            "colorbar": {
             "outlinewidth": 1,
             "tickcolor": "rgb(36,36,36)",
             "ticks": "outside"
            },
            "colorscale": [
             [
              0,
              "#440154"
             ],
             [
              0.1111111111111111,
              "#482878"
             ],
             [
              0.2222222222222222,
              "#3e4989"
             ],
             [
              0.3333333333333333,
              "#31688e"
             ],
             [
              0.4444444444444444,
              "#26828e"
             ],
             [
              0.5555555555555556,
              "#1f9e89"
             ],
             [
              0.6666666666666666,
              "#35b779"
             ],
             [
              0.7777777777777778,
              "#6ece58"
             ],
             [
              0.8888888888888888,
              "#b5de2b"
             ],
             [
              1,
              "#fde725"
             ]
            ],
            "type": "histogram2d"
           }
          ],
          "histogram2dcontour": [
           {
            "colorbar": {
             "outlinewidth": 1,
             "tickcolor": "rgb(36,36,36)",
             "ticks": "outside"
            },
            "colorscale": [
             [
              0,
              "#440154"
             ],
             [
              0.1111111111111111,
              "#482878"
             ],
             [
              0.2222222222222222,
              "#3e4989"
             ],
             [
              0.3333333333333333,
              "#31688e"
             ],
             [
              0.4444444444444444,
              "#26828e"
             ],
             [
              0.5555555555555556,
              "#1f9e89"
             ],
             [
              0.6666666666666666,
              "#35b779"
             ],
             [
              0.7777777777777778,
              "#6ece58"
             ],
             [
              0.8888888888888888,
              "#b5de2b"
             ],
             [
              1,
              "#fde725"
             ]
            ],
            "type": "histogram2dcontour"
           }
          ],
          "mesh3d": [
           {
            "colorbar": {
             "outlinewidth": 1,
             "tickcolor": "rgb(36,36,36)",
             "ticks": "outside"
            },
            "type": "mesh3d"
           }
          ],
          "parcoords": [
           {
            "line": {
             "colorbar": {
              "outlinewidth": 1,
              "tickcolor": "rgb(36,36,36)",
              "ticks": "outside"
             }
            },
            "type": "parcoords"
           }
          ],
          "pie": [
           {
            "automargin": true,
            "type": "pie"
           }
          ],
          "scatter": [
           {
            "fillpattern": {
             "fillmode": "overlay",
             "size": 10,
             "solidity": 0.2
            },
            "type": "scatter"
           }
          ],
          "scatter3d": [
           {
            "line": {
             "colorbar": {
              "outlinewidth": 1,
              "tickcolor": "rgb(36,36,36)",
              "ticks": "outside"
             }
            },
            "marker": {
             "colorbar": {
              "outlinewidth": 1,
              "tickcolor": "rgb(36,36,36)",
              "ticks": "outside"
             }
            },
            "type": "scatter3d"
           }
          ],
          "scattercarpet": [
           {
            "marker": {
             "colorbar": {
              "outlinewidth": 1,
              "tickcolor": "rgb(36,36,36)",
              "ticks": "outside"
             }
            },
            "type": "scattercarpet"
           }
          ],
          "scattergeo": [
           {
            "marker": {
             "colorbar": {
              "outlinewidth": 1,
              "tickcolor": "rgb(36,36,36)",
              "ticks": "outside"
             }
            },
            "type": "scattergeo"
           }
          ],
          "scattergl": [
           {
            "marker": {
             "colorbar": {
              "outlinewidth": 1,
              "tickcolor": "rgb(36,36,36)",
              "ticks": "outside"
             }
            },
            "type": "scattergl"
           }
          ],
          "scattermapbox": [
           {
            "marker": {
             "colorbar": {
              "outlinewidth": 1,
              "tickcolor": "rgb(36,36,36)",
              "ticks": "outside"
             }
            },
            "type": "scattermapbox"
           }
          ],
          "scatterpolar": [
           {
            "marker": {
             "colorbar": {
              "outlinewidth": 1,
              "tickcolor": "rgb(36,36,36)",
              "ticks": "outside"
             }
            },
            "type": "scatterpolar"
           }
          ],
          "scatterpolargl": [
           {
            "marker": {
             "colorbar": {
              "outlinewidth": 1,
              "tickcolor": "rgb(36,36,36)",
              "ticks": "outside"
             }
            },
            "type": "scatterpolargl"
           }
          ],
          "scatterternary": [
           {
            "marker": {
             "colorbar": {
              "outlinewidth": 1,
              "tickcolor": "rgb(36,36,36)",
              "ticks": "outside"
             }
            },
            "type": "scatterternary"
           }
          ],
          "surface": [
           {
            "colorbar": {
             "outlinewidth": 1,
             "tickcolor": "rgb(36,36,36)",
             "ticks": "outside"
            },
            "colorscale": [
             [
              0,
              "#440154"
             ],
             [
              0.1111111111111111,
              "#482878"
             ],
             [
              0.2222222222222222,
              "#3e4989"
             ],
             [
              0.3333333333333333,
              "#31688e"
             ],
             [
              0.4444444444444444,
              "#26828e"
             ],
             [
              0.5555555555555556,
              "#1f9e89"
             ],
             [
              0.6666666666666666,
              "#35b779"
             ],
             [
              0.7777777777777778,
              "#6ece58"
             ],
             [
              0.8888888888888888,
              "#b5de2b"
             ],
             [
              1,
              "#fde725"
             ]
            ],
            "type": "surface"
           }
          ],
          "table": [
           {
            "cells": {
             "fill": {
              "color": "rgb(237,237,237)"
             },
             "line": {
              "color": "white"
             }
            },
            "header": {
             "fill": {
              "color": "rgb(217,217,217)"
             },
             "line": {
              "color": "white"
             }
            },
            "type": "table"
           }
          ]
         },
         "layout": {
          "annotationdefaults": {
           "arrowhead": 0,
           "arrowwidth": 1
          },
          "autotypenumbers": "strict",
          "coloraxis": {
           "colorbar": {
            "outlinewidth": 1,
            "tickcolor": "rgb(36,36,36)",
            "ticks": "outside"
           }
          },
          "colorscale": {
           "diverging": [
            [
             0,
             "rgb(103,0,31)"
            ],
            [
             0.1,
             "rgb(178,24,43)"
            ],
            [
             0.2,
             "rgb(214,96,77)"
            ],
            [
             0.3,
             "rgb(244,165,130)"
            ],
            [
             0.4,
             "rgb(253,219,199)"
            ],
            [
             0.5,
             "rgb(247,247,247)"
            ],
            [
             0.6,
             "rgb(209,229,240)"
            ],
            [
             0.7,
             "rgb(146,197,222)"
            ],
            [
             0.8,
             "rgb(67,147,195)"
            ],
            [
             0.9,
             "rgb(33,102,172)"
            ],
            [
             1,
             "rgb(5,48,97)"
            ]
           ],
           "sequential": [
            [
             0,
             "#440154"
            ],
            [
             0.1111111111111111,
             "#482878"
            ],
            [
             0.2222222222222222,
             "#3e4989"
            ],
            [
             0.3333333333333333,
             "#31688e"
            ],
            [
             0.4444444444444444,
             "#26828e"
            ],
            [
             0.5555555555555556,
             "#1f9e89"
            ],
            [
             0.6666666666666666,
             "#35b779"
            ],
            [
             0.7777777777777778,
             "#6ece58"
            ],
            [
             0.8888888888888888,
             "#b5de2b"
            ],
            [
             1,
             "#fde725"
            ]
           ],
           "sequentialminus": [
            [
             0,
             "#440154"
            ],
            [
             0.1111111111111111,
             "#482878"
            ],
            [
             0.2222222222222222,
             "#3e4989"
            ],
            [
             0.3333333333333333,
             "#31688e"
            ],
            [
             0.4444444444444444,
             "#26828e"
            ],
            [
             0.5555555555555556,
             "#1f9e89"
            ],
            [
             0.6666666666666666,
             "#35b779"
            ],
            [
             0.7777777777777778,
             "#6ece58"
            ],
            [
             0.8888888888888888,
             "#b5de2b"
            ],
            [
             1,
             "#fde725"
            ]
           ]
          },
          "colorway": [
           "#1F77B4",
           "#FF7F0E",
           "#2CA02C",
           "#D62728",
           "#9467BD",
           "#8C564B",
           "#E377C2",
           "#7F7F7F",
           "#BCBD22",
           "#17BECF"
          ],
          "font": {
           "color": "rgb(36,36,36)"
          },
          "geo": {
           "bgcolor": "white",
           "lakecolor": "white",
           "landcolor": "white",
           "showlakes": true,
           "showland": true,
           "subunitcolor": "white"
          },
          "hoverlabel": {
           "align": "left"
          },
          "hovermode": "closest",
          "mapbox": {
           "style": "light"
          },
          "paper_bgcolor": "white",
          "plot_bgcolor": "white",
          "polar": {
           "angularaxis": {
            "gridcolor": "rgb(232,232,232)",
            "linecolor": "rgb(36,36,36)",
            "showgrid": false,
            "showline": true,
            "ticks": "outside"
           },
           "bgcolor": "white",
           "radialaxis": {
            "gridcolor": "rgb(232,232,232)",
            "linecolor": "rgb(36,36,36)",
            "showgrid": false,
            "showline": true,
            "ticks": "outside"
           }
          },
          "scene": {
           "xaxis": {
            "backgroundcolor": "white",
            "gridcolor": "rgb(232,232,232)",
            "gridwidth": 2,
            "linecolor": "rgb(36,36,36)",
            "showbackground": true,
            "showgrid": false,
            "showline": true,
            "ticks": "outside",
            "zeroline": false,
            "zerolinecolor": "rgb(36,36,36)"
           },
           "yaxis": {
            "backgroundcolor": "white",
            "gridcolor": "rgb(232,232,232)",
            "gridwidth": 2,
            "linecolor": "rgb(36,36,36)",
            "showbackground": true,
            "showgrid": false,
            "showline": true,
            "ticks": "outside",
            "zeroline": false,
            "zerolinecolor": "rgb(36,36,36)"
           },
           "zaxis": {
            "backgroundcolor": "white",
            "gridcolor": "rgb(232,232,232)",
            "gridwidth": 2,
            "linecolor": "rgb(36,36,36)",
            "showbackground": true,
            "showgrid": false,
            "showline": true,
            "ticks": "outside",
            "zeroline": false,
            "zerolinecolor": "rgb(36,36,36)"
           }
          },
          "shapedefaults": {
           "fillcolor": "black",
           "line": {
            "width": 0
           },
           "opacity": 0.3
          },
          "ternary": {
           "aaxis": {
            "gridcolor": "rgb(232,232,232)",
            "linecolor": "rgb(36,36,36)",
            "showgrid": false,
            "showline": true,
            "ticks": "outside"
           },
           "baxis": {
            "gridcolor": "rgb(232,232,232)",
            "linecolor": "rgb(36,36,36)",
            "showgrid": false,
            "showline": true,
            "ticks": "outside"
           },
           "bgcolor": "white",
           "caxis": {
            "gridcolor": "rgb(232,232,232)",
            "linecolor": "rgb(36,36,36)",
            "showgrid": false,
            "showline": true,
            "ticks": "outside"
           }
          },
          "title": {
           "x": 0.05
          },
          "xaxis": {
           "automargin": true,
           "gridcolor": "rgb(232,232,232)",
           "linecolor": "rgb(36,36,36)",
           "showgrid": false,
           "showline": true,
           "ticks": "outside",
           "title": {
            "standoff": 15
           },
           "zeroline": false,
           "zerolinecolor": "rgb(36,36,36)"
          },
          "yaxis": {
           "automargin": true,
           "gridcolor": "rgb(232,232,232)",
           "linecolor": "rgb(36,36,36)",
           "showgrid": false,
           "showline": true,
           "ticks": "outside",
           "title": {
            "standoff": 15
           },
           "zeroline": false,
           "zerolinecolor": "rgb(36,36,36)"
          }
         }
        },
        "xaxis": {
         "anchor": "y",
         "domain": [
          0,
          1
         ],
         "title": {
          "text": "alcohol"
         }
        },
        "yaxis": {
         "anchor": "x",
         "domain": [
          0,
          1
         ],
         "title": {
          "text": "value"
         }
        }
       }
      },
      "text/html": [
       "<div>                            <div id=\"2ce8f87d-83fe-46ab-bf27-b2f6edcb8bc3\" class=\"plotly-graph-div\" style=\"height:525px; width:100%;\"></div>            <script type=\"text/javascript\">                require([\"plotly\"], function(Plotly) {                    window.PLOTLYENV=window.PLOTLYENV || {};                                    if (document.getElementById(\"2ce8f87d-83fe-46ab-bf27-b2f6edcb8bc3\")) {                    Plotly.newPlot(                        \"2ce8f87d-83fe-46ab-bf27-b2f6edcb8bc3\",                        [{\"hovertemplate\":\"variable=quality<br>alcohol=%{x}<br>value=%{y}<extra></extra>\",\"legendgroup\":\"quality\",\"line\":{\"color\":\"#1F77B4\",\"dash\":\"solid\"},\"marker\":{\"symbol\":\"circle\"},\"mode\":\"lines\",\"name\":\"quality\",\"orientation\":\"v\",\"showlegend\":true,\"x\":[8.4,8.5,8.6,8.7,8.8,8.9,9.0,9.1,9.2,9.23333333333333,9.3,9.4,9.5,9.53333333333333,9.6,9.7,9.8,9.9,10.0,10.0333333333333,10.1,10.1333333333333,10.15,10.2,10.3,10.4,10.5,10.55,10.6,10.7,10.8,10.9,10.98,11.0,11.05,11.0666666666667,11.1,11.2,11.2666666666667,11.3,11.4,11.45,11.5,11.55,11.6,11.6333333333333,11.7,11.8,11.9,11.94,11.95,12.0,12.1,12.15,12.2,12.3,12.4,12.5,12.6,12.7,12.8,12.9,13.0,13.1,13.3,13.4,13.5,13.55,13.6,13.7,14.0,14.9],\"xaxis\":\"x\",\"y\":[5.5,4.75,4.666666666666667,5.636363636363637,5.7,5.761904761904762,5.744186046511628,5.482758620689655,5.416666666666667,6.0,5.35,5.3,5.473684210526316,6.0,5.371428571428571,5.291666666666667,5.439024390243903,5.54054054054054,5.454545454545454,6.0,5.65625,7.0,7.0,5.7,6.0476190476190474,5.911764705882353,5.891304347826087,6.0,5.645161290322581,5.928571428571429,5.882352941176471,5.892857142857143,5.0,6.044444444444444,5.0,6.0,6.0,6.03125,7.0,6.190476190476191,5.869565217391305,6.0,6.121212121212121,6.0,6.1,6.0,6.043478260869565,6.444444444444445,6.214285714285714,7.0,7.0,6.321428571428571,6.785714285714286,7.0,6.363636363636363,6.615384615384615,6.444444444444445,6.444444444444445,6.476190476190476,6.454545454545454,6.761904761904762,6.777777777777778,6.583333333333333,6.25,6.75,6.333333333333333,7.0,6.0,6.666666666666667,7.0,6.5,5.0],\"yaxis\":\"y\",\"type\":\"scatter\"}],                        {\"template\":{\"data\":{\"histogram2dcontour\":[{\"type\":\"histogram2dcontour\",\"colorbar\":{\"outlinewidth\":1,\"tickcolor\":\"rgb(36,36,36)\",\"ticks\":\"outside\"},\"colorscale\":[[0.0,\"#440154\"],[0.1111111111111111,\"#482878\"],[0.2222222222222222,\"#3e4989\"],[0.3333333333333333,\"#31688e\"],[0.4444444444444444,\"#26828e\"],[0.5555555555555556,\"#1f9e89\"],[0.6666666666666666,\"#35b779\"],[0.7777777777777778,\"#6ece58\"],[0.8888888888888888,\"#b5de2b\"],[1.0,\"#fde725\"]]}],\"choropleth\":[{\"type\":\"choropleth\",\"colorbar\":{\"outlinewidth\":1,\"tickcolor\":\"rgb(36,36,36)\",\"ticks\":\"outside\"}}],\"histogram2d\":[{\"type\":\"histogram2d\",\"colorbar\":{\"outlinewidth\":1,\"tickcolor\":\"rgb(36,36,36)\",\"ticks\":\"outside\"},\"colorscale\":[[0.0,\"#440154\"],[0.1111111111111111,\"#482878\"],[0.2222222222222222,\"#3e4989\"],[0.3333333333333333,\"#31688e\"],[0.4444444444444444,\"#26828e\"],[0.5555555555555556,\"#1f9e89\"],[0.6666666666666666,\"#35b779\"],[0.7777777777777778,\"#6ece58\"],[0.8888888888888888,\"#b5de2b\"],[1.0,\"#fde725\"]]}],\"heatmap\":[{\"type\":\"heatmap\",\"colorbar\":{\"outlinewidth\":1,\"tickcolor\":\"rgb(36,36,36)\",\"ticks\":\"outside\"},\"colorscale\":[[0.0,\"#440154\"],[0.1111111111111111,\"#482878\"],[0.2222222222222222,\"#3e4989\"],[0.3333333333333333,\"#31688e\"],[0.4444444444444444,\"#26828e\"],[0.5555555555555556,\"#1f9e89\"],[0.6666666666666666,\"#35b779\"],[0.7777777777777778,\"#6ece58\"],[0.8888888888888888,\"#b5de2b\"],[1.0,\"#fde725\"]]}],\"heatmapgl\":[{\"type\":\"heatmapgl\",\"colorbar\":{\"outlinewidth\":1,\"tickcolor\":\"rgb(36,36,36)\",\"ticks\":\"outside\"},\"colorscale\":[[0.0,\"#440154\"],[0.1111111111111111,\"#482878\"],[0.2222222222222222,\"#3e4989\"],[0.3333333333333333,\"#31688e\"],[0.4444444444444444,\"#26828e\"],[0.5555555555555556,\"#1f9e89\"],[0.6666666666666666,\"#35b779\"],[0.7777777777777778,\"#6ece58\"],[0.8888888888888888,\"#b5de2b\"],[1.0,\"#fde725\"]]}],\"contourcarpet\":[{\"type\":\"contourcarpet\",\"colorbar\":{\"outlinewidth\":1,\"tickcolor\":\"rgb(36,36,36)\",\"ticks\":\"outside\"}}],\"contour\":[{\"type\":\"contour\",\"colorbar\":{\"outlinewidth\":1,\"tickcolor\":\"rgb(36,36,36)\",\"ticks\":\"outside\"},\"colorscale\":[[0.0,\"#440154\"],[0.1111111111111111,\"#482878\"],[0.2222222222222222,\"#3e4989\"],[0.3333333333333333,\"#31688e\"],[0.4444444444444444,\"#26828e\"],[0.5555555555555556,\"#1f9e89\"],[0.6666666666666666,\"#35b779\"],[0.7777777777777778,\"#6ece58\"],[0.8888888888888888,\"#b5de2b\"],[1.0,\"#fde725\"]]}],\"surface\":[{\"type\":\"surface\",\"colorbar\":{\"outlinewidth\":1,\"tickcolor\":\"rgb(36,36,36)\",\"ticks\":\"outside\"},\"colorscale\":[[0.0,\"#440154\"],[0.1111111111111111,\"#482878\"],[0.2222222222222222,\"#3e4989\"],[0.3333333333333333,\"#31688e\"],[0.4444444444444444,\"#26828e\"],[0.5555555555555556,\"#1f9e89\"],[0.6666666666666666,\"#35b779\"],[0.7777777777777778,\"#6ece58\"],[0.8888888888888888,\"#b5de2b\"],[1.0,\"#fde725\"]]}],\"mesh3d\":[{\"type\":\"mesh3d\",\"colorbar\":{\"outlinewidth\":1,\"tickcolor\":\"rgb(36,36,36)\",\"ticks\":\"outside\"}}],\"scatter\":[{\"fillpattern\":{\"fillmode\":\"overlay\",\"size\":10,\"solidity\":0.2},\"type\":\"scatter\"}],\"parcoords\":[{\"type\":\"parcoords\",\"line\":{\"colorbar\":{\"outlinewidth\":1,\"tickcolor\":\"rgb(36,36,36)\",\"ticks\":\"outside\"}}}],\"scatterpolargl\":[{\"type\":\"scatterpolargl\",\"marker\":{\"colorbar\":{\"outlinewidth\":1,\"tickcolor\":\"rgb(36,36,36)\",\"ticks\":\"outside\"}}}],\"bar\":[{\"error_x\":{\"color\":\"rgb(36,36,36)\"},\"error_y\":{\"color\":\"rgb(36,36,36)\"},\"marker\":{\"line\":{\"color\":\"white\",\"width\":0.5},\"pattern\":{\"fillmode\":\"overlay\",\"size\":10,\"solidity\":0.2}},\"type\":\"bar\"}],\"scattergeo\":[{\"type\":\"scattergeo\",\"marker\":{\"colorbar\":{\"outlinewidth\":1,\"tickcolor\":\"rgb(36,36,36)\",\"ticks\":\"outside\"}}}],\"scatterpolar\":[{\"type\":\"scatterpolar\",\"marker\":{\"colorbar\":{\"outlinewidth\":1,\"tickcolor\":\"rgb(36,36,36)\",\"ticks\":\"outside\"}}}],\"histogram\":[{\"marker\":{\"line\":{\"color\":\"white\",\"width\":0.6}},\"type\":\"histogram\"}],\"scattergl\":[{\"type\":\"scattergl\",\"marker\":{\"colorbar\":{\"outlinewidth\":1,\"tickcolor\":\"rgb(36,36,36)\",\"ticks\":\"outside\"}}}],\"scatter3d\":[{\"type\":\"scatter3d\",\"line\":{\"colorbar\":{\"outlinewidth\":1,\"tickcolor\":\"rgb(36,36,36)\",\"ticks\":\"outside\"}},\"marker\":{\"colorbar\":{\"outlinewidth\":1,\"tickcolor\":\"rgb(36,36,36)\",\"ticks\":\"outside\"}}}],\"scattermapbox\":[{\"type\":\"scattermapbox\",\"marker\":{\"colorbar\":{\"outlinewidth\":1,\"tickcolor\":\"rgb(36,36,36)\",\"ticks\":\"outside\"}}}],\"scatterternary\":[{\"type\":\"scatterternary\",\"marker\":{\"colorbar\":{\"outlinewidth\":1,\"tickcolor\":\"rgb(36,36,36)\",\"ticks\":\"outside\"}}}],\"scattercarpet\":[{\"type\":\"scattercarpet\",\"marker\":{\"colorbar\":{\"outlinewidth\":1,\"tickcolor\":\"rgb(36,36,36)\",\"ticks\":\"outside\"}}}],\"carpet\":[{\"aaxis\":{\"endlinecolor\":\"rgb(36,36,36)\",\"gridcolor\":\"white\",\"linecolor\":\"white\",\"minorgridcolor\":\"white\",\"startlinecolor\":\"rgb(36,36,36)\"},\"baxis\":{\"endlinecolor\":\"rgb(36,36,36)\",\"gridcolor\":\"white\",\"linecolor\":\"white\",\"minorgridcolor\":\"white\",\"startlinecolor\":\"rgb(36,36,36)\"},\"type\":\"carpet\"}],\"table\":[{\"cells\":{\"fill\":{\"color\":\"rgb(237,237,237)\"},\"line\":{\"color\":\"white\"}},\"header\":{\"fill\":{\"color\":\"rgb(217,217,217)\"},\"line\":{\"color\":\"white\"}},\"type\":\"table\"}],\"barpolar\":[{\"marker\":{\"line\":{\"color\":\"white\",\"width\":0.5},\"pattern\":{\"fillmode\":\"overlay\",\"size\":10,\"solidity\":0.2}},\"type\":\"barpolar\"}],\"pie\":[{\"automargin\":true,\"type\":\"pie\"}]},\"layout\":{\"autotypenumbers\":\"strict\",\"colorway\":[\"#1F77B4\",\"#FF7F0E\",\"#2CA02C\",\"#D62728\",\"#9467BD\",\"#8C564B\",\"#E377C2\",\"#7F7F7F\",\"#BCBD22\",\"#17BECF\"],\"font\":{\"color\":\"rgb(36,36,36)\"},\"hovermode\":\"closest\",\"hoverlabel\":{\"align\":\"left\"},\"paper_bgcolor\":\"white\",\"plot_bgcolor\":\"white\",\"polar\":{\"bgcolor\":\"white\",\"angularaxis\":{\"gridcolor\":\"rgb(232,232,232)\",\"linecolor\":\"rgb(36,36,36)\",\"showgrid\":false,\"showline\":true,\"ticks\":\"outside\"},\"radialaxis\":{\"gridcolor\":\"rgb(232,232,232)\",\"linecolor\":\"rgb(36,36,36)\",\"showgrid\":false,\"showline\":true,\"ticks\":\"outside\"}},\"ternary\":{\"bgcolor\":\"white\",\"aaxis\":{\"gridcolor\":\"rgb(232,232,232)\",\"linecolor\":\"rgb(36,36,36)\",\"showgrid\":false,\"showline\":true,\"ticks\":\"outside\"},\"baxis\":{\"gridcolor\":\"rgb(232,232,232)\",\"linecolor\":\"rgb(36,36,36)\",\"showgrid\":false,\"showline\":true,\"ticks\":\"outside\"},\"caxis\":{\"gridcolor\":\"rgb(232,232,232)\",\"linecolor\":\"rgb(36,36,36)\",\"showgrid\":false,\"showline\":true,\"ticks\":\"outside\"}},\"coloraxis\":{\"colorbar\":{\"outlinewidth\":1,\"tickcolor\":\"rgb(36,36,36)\",\"ticks\":\"outside\"}},\"colorscale\":{\"sequential\":[[0.0,\"#440154\"],[0.1111111111111111,\"#482878\"],[0.2222222222222222,\"#3e4989\"],[0.3333333333333333,\"#31688e\"],[0.4444444444444444,\"#26828e\"],[0.5555555555555556,\"#1f9e89\"],[0.6666666666666666,\"#35b779\"],[0.7777777777777778,\"#6ece58\"],[0.8888888888888888,\"#b5de2b\"],[1.0,\"#fde725\"]],\"sequentialminus\":[[0.0,\"#440154\"],[0.1111111111111111,\"#482878\"],[0.2222222222222222,\"#3e4989\"],[0.3333333333333333,\"#31688e\"],[0.4444444444444444,\"#26828e\"],[0.5555555555555556,\"#1f9e89\"],[0.6666666666666666,\"#35b779\"],[0.7777777777777778,\"#6ece58\"],[0.8888888888888888,\"#b5de2b\"],[1.0,\"#fde725\"]],\"diverging\":[[0.0,\"rgb(103,0,31)\"],[0.1,\"rgb(178,24,43)\"],[0.2,\"rgb(214,96,77)\"],[0.3,\"rgb(244,165,130)\"],[0.4,\"rgb(253,219,199)\"],[0.5,\"rgb(247,247,247)\"],[0.6,\"rgb(209,229,240)\"],[0.7,\"rgb(146,197,222)\"],[0.8,\"rgb(67,147,195)\"],[0.9,\"rgb(33,102,172)\"],[1.0,\"rgb(5,48,97)\"]]},\"xaxis\":{\"gridcolor\":\"rgb(232,232,232)\",\"linecolor\":\"rgb(36,36,36)\",\"showgrid\":false,\"showline\":true,\"ticks\":\"outside\",\"title\":{\"standoff\":15},\"zerolinecolor\":\"rgb(36,36,36)\",\"automargin\":true,\"zeroline\":false},\"yaxis\":{\"gridcolor\":\"rgb(232,232,232)\",\"linecolor\":\"rgb(36,36,36)\",\"showgrid\":false,\"showline\":true,\"ticks\":\"outside\",\"title\":{\"standoff\":15},\"zerolinecolor\":\"rgb(36,36,36)\",\"automargin\":true,\"zeroline\":false},\"scene\":{\"xaxis\":{\"backgroundcolor\":\"white\",\"gridcolor\":\"rgb(232,232,232)\",\"linecolor\":\"rgb(36,36,36)\",\"showbackground\":true,\"showgrid\":false,\"showline\":true,\"ticks\":\"outside\",\"zerolinecolor\":\"rgb(36,36,36)\",\"gridwidth\":2,\"zeroline\":false},\"yaxis\":{\"backgroundcolor\":\"white\",\"gridcolor\":\"rgb(232,232,232)\",\"linecolor\":\"rgb(36,36,36)\",\"showbackground\":true,\"showgrid\":false,\"showline\":true,\"ticks\":\"outside\",\"zerolinecolor\":\"rgb(36,36,36)\",\"gridwidth\":2,\"zeroline\":false},\"zaxis\":{\"backgroundcolor\":\"white\",\"gridcolor\":\"rgb(232,232,232)\",\"linecolor\":\"rgb(36,36,36)\",\"showbackground\":true,\"showgrid\":false,\"showline\":true,\"ticks\":\"outside\",\"zerolinecolor\":\"rgb(36,36,36)\",\"gridwidth\":2,\"zeroline\":false}},\"shapedefaults\":{\"fillcolor\":\"black\",\"line\":{\"width\":0},\"opacity\":0.3},\"annotationdefaults\":{\"arrowhead\":0,\"arrowwidth\":1},\"geo\":{\"bgcolor\":\"white\",\"landcolor\":\"white\",\"subunitcolor\":\"white\",\"showland\":true,\"showlakes\":true,\"lakecolor\":\"white\"},\"title\":{\"x\":0.05},\"mapbox\":{\"style\":\"light\"}}},\"xaxis\":{\"anchor\":\"y\",\"domain\":[0.0,1.0],\"title\":{\"text\":\"alcohol\"}},\"yaxis\":{\"anchor\":\"x\",\"domain\":[0.0,1.0],\"title\":{\"text\":\"value\"}},\"legend\":{\"title\":{\"text\":\"variable\"},\"tracegroupgap\":0},\"margin\":{\"t\":60}},                        {\"responsive\": true}                    ).then(function(){\n",
       "                            \n",
       "var gd = document.getElementById('2ce8f87d-83fe-46ab-bf27-b2f6edcb8bc3');\n",
       "var x = new MutationObserver(function (mutations, observer) {{\n",
       "        var display = window.getComputedStyle(gd).display;\n",
       "        if (!display || display === 'none') {{\n",
       "            console.log([gd, 'removed!']);\n",
       "            Plotly.purge(gd);\n",
       "            observer.disconnect();\n",
       "        }}\n",
       "}});\n",
       "\n",
       "// Listen for the removal of the full notebook cells\n",
       "var notebookContainer = gd.closest('#notebook-container');\n",
       "if (notebookContainer) {{\n",
       "    x.observe(notebookContainer, {childList: true});\n",
       "}}\n",
       "\n",
       "// Listen for the clearing of the current output cell\n",
       "var outputEl = gd.closest('.output');\n",
       "if (outputEl) {{\n",
       "    x.observe(outputEl, {childList: true});\n",
       "}}\n",
       "\n",
       "                        })                };                });            </script>        </div>"
      ]
     },
     "metadata": {},
     "output_type": "display_data"
    }
   ],
   "source": [
    "px.line(val_df.groupby('alcohol')[['quality']].mean())"
   ]
  },
  {
   "cell_type": "code",
   "execution_count": 109,
   "id": "37f25d1f",
   "metadata": {},
   "outputs": [
    {
     "name": "stdout",
     "output_type": "stream",
     "text": [
      "CPU times: user 808 ms, sys: 5.75 ms, total: 814 ms\n",
      "Wall time: 815 ms\n"
     ]
    },
    {
     "data": {
      "text/html": [
       "<style>#sk-container-id-9 {color: black;background-color: white;}#sk-container-id-9 pre{padding: 0;}#sk-container-id-9 div.sk-toggleable {background-color: white;}#sk-container-id-9 label.sk-toggleable__label {cursor: pointer;display: block;width: 100%;margin-bottom: 0;padding: 0.3em;box-sizing: border-box;text-align: center;}#sk-container-id-9 label.sk-toggleable__label-arrow:before {content: \"▸\";float: left;margin-right: 0.25em;color: #696969;}#sk-container-id-9 label.sk-toggleable__label-arrow:hover:before {color: black;}#sk-container-id-9 div.sk-estimator:hover label.sk-toggleable__label-arrow:before {color: black;}#sk-container-id-9 div.sk-toggleable__content {max-height: 0;max-width: 0;overflow: hidden;text-align: left;background-color: #f0f8ff;}#sk-container-id-9 div.sk-toggleable__content pre {margin: 0.2em;color: black;border-radius: 0.25em;background-color: #f0f8ff;}#sk-container-id-9 input.sk-toggleable__control:checked~div.sk-toggleable__content {max-height: 200px;max-width: 100%;overflow: auto;}#sk-container-id-9 input.sk-toggleable__control:checked~label.sk-toggleable__label-arrow:before {content: \"▾\";}#sk-container-id-9 div.sk-estimator input.sk-toggleable__control:checked~label.sk-toggleable__label {background-color: #d4ebff;}#sk-container-id-9 div.sk-label input.sk-toggleable__control:checked~label.sk-toggleable__label {background-color: #d4ebff;}#sk-container-id-9 input.sk-hidden--visually {border: 0;clip: rect(1px 1px 1px 1px);clip: rect(1px, 1px, 1px, 1px);height: 1px;margin: -1px;overflow: hidden;padding: 0;position: absolute;width: 1px;}#sk-container-id-9 div.sk-estimator {font-family: monospace;background-color: #f0f8ff;border: 1px dotted black;border-radius: 0.25em;box-sizing: border-box;margin-bottom: 0.5em;}#sk-container-id-9 div.sk-estimator:hover {background-color: #d4ebff;}#sk-container-id-9 div.sk-parallel-item::after {content: \"\";width: 100%;border-bottom: 1px solid gray;flex-grow: 1;}#sk-container-id-9 div.sk-label:hover label.sk-toggleable__label {background-color: #d4ebff;}#sk-container-id-9 div.sk-serial::before {content: \"\";position: absolute;border-left: 1px solid gray;box-sizing: border-box;top: 0;bottom: 0;left: 50%;z-index: 0;}#sk-container-id-9 div.sk-serial {display: flex;flex-direction: column;align-items: center;background-color: white;padding-right: 0.2em;padding-left: 0.2em;position: relative;}#sk-container-id-9 div.sk-item {position: relative;z-index: 1;}#sk-container-id-9 div.sk-parallel {display: flex;align-items: stretch;justify-content: center;background-color: white;position: relative;}#sk-container-id-9 div.sk-item::before, #sk-container-id-9 div.sk-parallel-item::before {content: \"\";position: absolute;border-left: 1px solid gray;box-sizing: border-box;top: 0;bottom: 0;left: 50%;z-index: -1;}#sk-container-id-9 div.sk-parallel-item {display: flex;flex-direction: column;z-index: 1;position: relative;background-color: white;}#sk-container-id-9 div.sk-parallel-item:first-child::after {align-self: flex-end;width: 50%;}#sk-container-id-9 div.sk-parallel-item:last-child::after {align-self: flex-start;width: 50%;}#sk-container-id-9 div.sk-parallel-item:only-child::after {width: 0;}#sk-container-id-9 div.sk-dashed-wrapped {border: 1px dashed gray;margin: 0 0.4em 0.5em 0.4em;box-sizing: border-box;padding-bottom: 0.4em;background-color: white;}#sk-container-id-9 div.sk-label label {font-family: monospace;font-weight: bold;display: inline-block;line-height: 1.2em;}#sk-container-id-9 div.sk-label-container {text-align: center;}#sk-container-id-9 div.sk-container {/* jupyter's `normalize.less` sets `[hidden] { display: none; }` but bootstrap.min.css set `[hidden] { display: none !important; }` so we also need the `!important` here to be able to override the default hidden behavior on the sphinx rendered scikit-learn.org. See: https://github.com/scikit-learn/scikit-learn/issues/21755 */display: inline-block !important;position: relative;}#sk-container-id-9 div.sk-text-repr-fallback {display: none;}</style><div id=\"sk-container-id-9\" class=\"sk-top-container\"><div class=\"sk-text-repr-fallback\"><pre>RandomForestRegressor(min_samples_leaf=50)</pre><b>In a Jupyter environment, please rerun this cell to show the HTML representation or trust the notebook. <br />On GitHub, the HTML representation is unable to render, please try loading this page with nbviewer.org.</b></div><div class=\"sk-container\" hidden><div class=\"sk-item\"><div class=\"sk-estimator sk-toggleable\"><input class=\"sk-toggleable__control sk-hidden--visually\" id=\"sk-estimator-id-9\" type=\"checkbox\" checked><label for=\"sk-estimator-id-9\" class=\"sk-toggleable__label sk-toggleable__label-arrow\">RandomForestRegressor</label><div class=\"sk-toggleable__content\"><pre>RandomForestRegressor(min_samples_leaf=50)</pre></div></div></div></div></div>"
      ],
      "text/plain": [
       "RandomForestRegressor(min_samples_leaf=50)"
      ]
     },
     "execution_count": 109,
     "metadata": {},
     "output_type": "execute_result"
    }
   ],
   "source": [
    "%%time \n",
    "clf = sklearn.ensemble.RandomForestRegressor(100, min_samples_leaf=50)\n",
    "clf.fit(train_X, train_y)"
   ]
  },
  {
   "cell_type": "code",
   "execution_count": 110,
   "id": "e2800cdb",
   "metadata": {
    "scrolled": false
   },
   "outputs": [
    {
     "data": {
      "text/plain": [
       "<sklearn.inspection._plot.partial_dependence.PartialDependenceDisplay at 0x28e2b8e80>"
      ]
     },
     "execution_count": 110,
     "metadata": {},
     "output_type": "execute_result"
    },
    {
     "data": {
      "image/png": "[encoded data removed]",
      "text/plain": [
       "<Figure size 1170x1427 with 13 Axes>"
      ]
     },
     "metadata": {},
     "output_type": "display_data"
    }
   ],
   "source": [
    "from matplotlib import rcParams\n",
    "rcParams['figure.figsize'] = 11.7,14.27\n",
    "sklearn.inspection.PartialDependenceDisplay.from_estimator(clf, train_X, range(12))"
   ]
  },
  {
   "cell_type": "code",
   "execution_count": 111,
   "id": "c0782463",
   "metadata": {},
   "outputs": [
    {
     "data": {
      "text/plain": [
       "<sklearn.inspection._plot.partial_dependence.PartialDependenceDisplay at 0x28e841e50>"
      ]
     },
     "execution_count": 111,
     "metadata": {},
     "output_type": "execute_result"
    },
    {
     "data": {
      "image/png": "[encoded data removed]",
      "text/plain": [
       "<Figure size 670x427 with 2 Axes>"
      ]
     },
     "metadata": {},
     "output_type": "display_data"
    }
   ],
   "source": [
    "rcParams['figure.figsize'] = 6.7,4.27\n",
    "sklearn.inspection.PartialDependenceDisplay.from_estimator(clf, train_X, [(1, 10)])"
   ]
  },
  {
   "cell_type": "code",
   "execution_count": 112,
   "id": "7f74319e",
   "metadata": {},
   "outputs": [
    {
     "data": {
      "text/plain": [
       "<sklearn.inspection._plot.partial_dependence.PartialDependenceDisplay at 0x28e970c70>"
      ]
     },
     "execution_count": 112,
     "metadata": {},
     "output_type": "execute_result"
    },
    {
     "data": {
      "image/png": "[encoded data removed]",
      "text/plain": [
       "<Figure size 670x427 with 2 Axes>"
      ]
     },
     "metadata": {},
     "output_type": "display_data"
    }
   ],
   "source": [
    "rcParams['figure.figsize'] = 6.7,4.27\n",
    "sklearn.inspection.PartialDependenceDisplay.from_estimator(clf, train_X, [(3, 2)])"
   ]
  },
  {
   "cell_type": "markdown",
   "id": "7a928cc1",
   "metadata": {},
   "source": [
    "### How prediction was made?"
   ]
  },
  {
   "cell_type": "code",
   "execution_count": 113,
   "id": "a5bd5dac",
   "metadata": {},
   "outputs": [
    {
     "name": "stdout",
     "output_type": "stream",
     "text": [
      "Collecting treeinterpreter\n",
      "  Downloading treeinterpreter-0.2.3-py2.py3-none-any.whl (6.0 kB)\n",
      "Installing collected packages: treeinterpreter\n",
      "Successfully installed treeinterpreter-0.2.3\n",
      "\n",
      "\u001b[1m[\u001b[0m\u001b[34;49mnotice\u001b[0m\u001b[1;39;49m]\u001b[0m\u001b[39;49m A new release of pip is available: \u001b[0m\u001b[31;49m23.1.2\u001b[0m\u001b[39;49m -> \u001b[0m\u001b[32;49m23.2.1\u001b[0m\n",
      "\u001b[1m[\u001b[0m\u001b[34;49mnotice\u001b[0m\u001b[1;39;49m]\u001b[0m\u001b[39;49m To update, run: \u001b[0m\u001b[32;49mpip install --upgrade pip\u001b[0m\n"
     ]
    }
   ],
   "source": [
    "! pip install treeinterpreter"
   ]
  },
  {
   "cell_type": "code",
   "execution_count": 115,
   "id": "1356877d",
   "metadata": {},
   "outputs": [
    {
     "name": "stdout",
     "output_type": "stream",
     "text": [
      "Collecting waterfallcharts\n",
      "  Downloading waterfallcharts-3.8.tar.gz (3.9 kB)\n",
      "  Installing build dependencies ... \u001b[?25ldone\n",
      "\u001b[?25h  Getting requirements to build wheel ... \u001b[?25ldone\n",
      "\u001b[?25h  Preparing metadata (pyproject.toml) ... \u001b[?25ldone\n",
      "\u001b[?25hBuilding wheels for collected packages: waterfallcharts\n",
      "  Building wheel for waterfallcharts (pyproject.toml) ... \u001b[?25ldone\n",
      "\u001b[?25h  Created wheel for waterfallcharts: filename=waterfallcharts-3.8-py3-none-any.whl size=3390 sha256=5e6c5b2323b3ffec546343c58d3aa909c55bae131088ee5f5fcd6cf1f10fa76a\n",
      "  Stored in directory: /Users/mariia.mansurova/Library/Caches/pip/wheels/3a/f4/33/2b1d12e4f5fb584718fce4ed86786549815863ef7276ff1415\n",
      "Successfully built waterfallcharts\n",
      "Installing collected packages: waterfallcharts\n",
      "Successfully installed waterfallcharts-3.8\n",
      "\n",
      "\u001b[1m[\u001b[0m\u001b[34;49mnotice\u001b[0m\u001b[1;39;49m]\u001b[0m\u001b[39;49m A new release of pip is available: \u001b[0m\u001b[31;49m23.1.2\u001b[0m\u001b[39;49m -> \u001b[0m\u001b[32;49m23.2.1\u001b[0m\n",
      "\u001b[1m[\u001b[0m\u001b[34;49mnotice\u001b[0m\u001b[1;39;49m]\u001b[0m\u001b[39;49m To update, run: \u001b[0m\u001b[32;49mpip install --upgrade pip\u001b[0m\n"
     ]
    }
   ],
   "source": [
    "! pip install waterfallcharts"
   ]
  },
  {
   "cell_type": "code",
   "execution_count": 116,
   "id": "bd204289",
   "metadata": {},
   "outputs": [],
   "source": [
    "import warnings\n",
    "warnings.simplefilter('ignore', FutureWarning)\n",
    "\n",
    "from treeinterpreter import treeinterpreter\n",
    "from waterfall_chart import plot as waterfall"
   ]
  },
  {
   "cell_type": "code",
   "execution_count": 128,
   "id": "10046f7d",
   "metadata": {},
   "outputs": [
    {
     "data": {
      "text/html": [
       "<div>\n",
       "<style scoped>\n",
       "    .dataframe tbody tr th:only-of-type {\n",
       "        vertical-align: middle;\n",
       "    }\n",
       "\n",
       "    .dataframe tbody tr th {\n",
       "        vertical-align: top;\n",
       "    }\n",
       "\n",
       "    .dataframe thead th {\n",
       "        text-align: right;\n",
       "    }\n",
       "</style>\n",
       "<table border=\"1\" class=\"dataframe\">\n",
       "  <thead>\n",
       "    <tr style=\"text-align: right;\">\n",
       "      <th></th>\n",
       "      <th>fixed acidity</th>\n",
       "      <th>volatile acidity</th>\n",
       "      <th>citric acid</th>\n",
       "      <th>residual sugar</th>\n",
       "      <th>chlorides</th>\n",
       "      <th>free sulfur dioxide</th>\n",
       "      <th>total sulfur dioxide</th>\n",
       "      <th>density</th>\n",
       "      <th>pH</th>\n",
       "      <th>sulphates</th>\n",
       "      <th>alcohol</th>\n",
       "      <th>quality</th>\n",
       "      <th>type</th>\n",
       "      <th>prediction</th>\n",
       "      <th>predictions_mean</th>\n",
       "      <th>predictions_std</th>\n",
       "    </tr>\n",
       "  </thead>\n",
       "  <tbody>\n",
       "    <tr>\n",
       "      <th>1504</th>\n",
       "      <td>7.0</td>\n",
       "      <td>0.17</td>\n",
       "      <td>0.74</td>\n",
       "      <td>12.8</td>\n",
       "      <td>0.045</td>\n",
       "      <td>24.0</td>\n",
       "      <td>126.0</td>\n",
       "      <td>0.99420</td>\n",
       "      <td>3.26</td>\n",
       "      <td>0.38</td>\n",
       "      <td>12.2</td>\n",
       "      <td>8</td>\n",
       "      <td>1</td>\n",
       "      <td>6.581812</td>\n",
       "      <td>6.581812</td>\n",
       "      <td>0.234522</td>\n",
       "    </tr>\n",
       "    <tr>\n",
       "      <th>1419</th>\n",
       "      <td>7.7</td>\n",
       "      <td>0.64</td>\n",
       "      <td>0.21</td>\n",
       "      <td>2.2</td>\n",
       "      <td>0.077</td>\n",
       "      <td>32.0</td>\n",
       "      <td>133.0</td>\n",
       "      <td>0.99560</td>\n",
       "      <td>3.27</td>\n",
       "      <td>0.45</td>\n",
       "      <td>9.9</td>\n",
       "      <td>5</td>\n",
       "      <td>0</td>\n",
       "      <td>5.361175</td>\n",
       "      <td>5.361175</td>\n",
       "      <td>0.224994</td>\n",
       "    </tr>\n",
       "    <tr>\n",
       "      <th>3162</th>\n",
       "      <td>6.8</td>\n",
       "      <td>0.39</td>\n",
       "      <td>0.34</td>\n",
       "      <td>7.4</td>\n",
       "      <td>0.020</td>\n",
       "      <td>38.0</td>\n",
       "      <td>133.0</td>\n",
       "      <td>0.99212</td>\n",
       "      <td>3.18</td>\n",
       "      <td>0.44</td>\n",
       "      <td>12.0</td>\n",
       "      <td>7</td>\n",
       "      <td>1</td>\n",
       "      <td>6.662387</td>\n",
       "      <td>6.662387</td>\n",
       "      <td>0.174064</td>\n",
       "    </tr>\n",
       "    <tr>\n",
       "      <th>3091</th>\n",
       "      <td>6.3</td>\n",
       "      <td>0.28</td>\n",
       "      <td>0.47</td>\n",
       "      <td>11.2</td>\n",
       "      <td>0.040</td>\n",
       "      <td>61.0</td>\n",
       "      <td>183.0</td>\n",
       "      <td>0.99592</td>\n",
       "      <td>3.12</td>\n",
       "      <td>0.51</td>\n",
       "      <td>9.5</td>\n",
       "      <td>6</td>\n",
       "      <td>1</td>\n",
       "      <td>5.388948</td>\n",
       "      <td>5.388948</td>\n",
       "      <td>0.149732</td>\n",
       "    </tr>\n",
       "    <tr>\n",
       "      <th>2433</th>\n",
       "      <td>7.4</td>\n",
       "      <td>0.35</td>\n",
       "      <td>0.20</td>\n",
       "      <td>13.9</td>\n",
       "      <td>0.054</td>\n",
       "      <td>63.0</td>\n",
       "      <td>229.0</td>\n",
       "      <td>0.99888</td>\n",
       "      <td>3.11</td>\n",
       "      <td>0.50</td>\n",
       "      <td>8.9</td>\n",
       "      <td>6</td>\n",
       "      <td>1</td>\n",
       "      <td>5.134594</td>\n",
       "      <td>5.134594</td>\n",
       "      <td>0.104276</td>\n",
       "    </tr>\n",
       "  </tbody>\n",
       "</table>\n",
       "</div>"
      ],
      "text/plain": [
       "      fixed acidity  volatile acidity  citric acid  residual sugar  chlorides  \\\n",
       "1504            7.0              0.17         0.74            12.8      0.045   \n",
       "1419            7.7              0.64         0.21             2.2      0.077   \n",
       "3162            6.8              0.39         0.34             7.4      0.020   \n",
       "3091            6.3              0.28         0.47            11.2      0.040   \n",
       "2433            7.4              0.35         0.20            13.9      0.054   \n",
       "\n",
       "      free sulfur dioxide  total sulfur dioxide  density    pH  sulphates  \\\n",
       "1504                 24.0                 126.0  0.99420  3.26       0.38   \n",
       "1419                 32.0                 133.0  0.99560  3.27       0.45   \n",
       "3162                 38.0                 133.0  0.99212  3.18       0.44   \n",
       "3091                 61.0                 183.0  0.99592  3.12       0.51   \n",
       "2433                 63.0                 229.0  0.99888  3.11       0.50   \n",
       "\n",
       "      alcohol  quality  type  prediction  predictions_mean  predictions_std  \n",
       "1504     12.2        8     1    6.581812          6.581812         0.234522  \n",
       "1419      9.9        5     0    5.361175          5.361175         0.224994  \n",
       "3162     12.0        7     1    6.662387          6.662387         0.174064  \n",
       "3091      9.5        6     1    5.388948          5.388948         0.149732  \n",
       "2433      8.9        6     1    5.134594          5.134594         0.104276  "
      ]
     },
     "execution_count": 128,
     "metadata": {},
     "output_type": "execute_result"
    }
   ],
   "source": [
    "val_df.head()"
   ]
  },
  {
   "cell_type": "code",
   "execution_count": 162,
   "id": "b9f75886",
   "metadata": {},
   "outputs": [
    {
     "data": {
      "text/html": [
       "<div>\n",
       "<style scoped>\n",
       "    .dataframe tbody tr th:only-of-type {\n",
       "        vertical-align: middle;\n",
       "    }\n",
       "\n",
       "    .dataframe tbody tr th {\n",
       "        vertical-align: top;\n",
       "    }\n",
       "\n",
       "    .dataframe thead th {\n",
       "        text-align: right;\n",
       "    }\n",
       "</style>\n",
       "<table border=\"1\" class=\"dataframe\">\n",
       "  <thead>\n",
       "    <tr style=\"text-align: right;\">\n",
       "      <th></th>\n",
       "      <th>row</th>\n",
       "      <th>avg_value</th>\n",
       "    </tr>\n",
       "  </thead>\n",
       "  <tbody>\n",
       "    <tr>\n",
       "      <th>fixed acidity</th>\n",
       "      <td>6.800</td>\n",
       "      <td>7.264</td>\n",
       "    </tr>\n",
       "    <tr>\n",
       "      <th>volatile acidity</th>\n",
       "      <td>0.110</td>\n",
       "      <td>0.349</td>\n",
       "    </tr>\n",
       "    <tr>\n",
       "      <th>citric acid</th>\n",
       "      <td>0.270</td>\n",
       "      <td>0.312</td>\n",
       "    </tr>\n",
       "    <tr>\n",
       "      <th>residual sugar</th>\n",
       "      <td>8.600</td>\n",
       "      <td>5.330</td>\n",
       "    </tr>\n",
       "    <tr>\n",
       "      <th>chlorides</th>\n",
       "      <td>0.044</td>\n",
       "      <td>0.057</td>\n",
       "    </tr>\n",
       "    <tr>\n",
       "      <th>free sulfur dioxide</th>\n",
       "      <td>45.000</td>\n",
       "      <td>30.365</td>\n",
       "    </tr>\n",
       "    <tr>\n",
       "      <th>total sulfur dioxide</th>\n",
       "      <td>104.000</td>\n",
       "      <td>115.869</td>\n",
       "    </tr>\n",
       "    <tr>\n",
       "      <th>density</th>\n",
       "      <td>0.995</td>\n",
       "      <td>0.995</td>\n",
       "    </tr>\n",
       "    <tr>\n",
       "      <th>pH</th>\n",
       "      <td>3.200</td>\n",
       "      <td>3.225</td>\n",
       "    </tr>\n",
       "    <tr>\n",
       "      <th>sulphates</th>\n",
       "      <td>0.370</td>\n",
       "      <td>0.532</td>\n",
       "    </tr>\n",
       "    <tr>\n",
       "      <th>alcohol</th>\n",
       "      <td>9.900</td>\n",
       "      <td>10.525</td>\n",
       "    </tr>\n",
       "    <tr>\n",
       "      <th>type</th>\n",
       "      <td>1.000</td>\n",
       "      <td>0.738</td>\n",
       "    </tr>\n",
       "  </tbody>\n",
       "</table>\n",
       "</div>"
      ],
      "text/plain": [
       "                          row  avg_value\n",
       "fixed acidity           6.800      7.264\n",
       "volatile acidity        0.110      0.349\n",
       "citric acid             0.270      0.312\n",
       "residual sugar          8.600      5.330\n",
       "chlorides               0.044      0.057\n",
       "free sulfur dioxide    45.000     30.365\n",
       "total sulfur dioxide  104.000    115.869\n",
       "density                 0.995      0.995\n",
       "pH                      3.200      3.225\n",
       "sulphates               0.370      0.532\n",
       "alcohol                 9.900     10.525\n",
       "type                    1.000      0.738"
      ]
     },
     "execution_count": 162,
     "metadata": {},
     "output_type": "execute_result"
    }
   ],
   "source": [
    "row = val_X.iloc[[7]]\n",
    "row_cmp_df = row.T\n",
    "row_cmp_df.columns = ['row']\n",
    "row_cmp_df['avg_value'] = val_X.mean()\n",
    "row_cmp_df = row_cmp_df.applymap(lambda x: round(x, 3))\n",
    "row_cmp_df"
   ]
  },
  {
   "cell_type": "code",
   "execution_count": 154,
   "id": "045d3754",
   "metadata": {},
   "outputs": [
    {
     "data": {
      "text/plain": [
       "(array([[5.91972221]]),\n",
       " array([5.81426015]),\n",
       " array([[ 0.01005845,  0.49619105,  0.00583141, -0.08006433, -0.00231591,\n",
       "          0.03952356,  0.00275939, -0.01747076, -0.01101417, -0.02864831,\n",
       "         -0.30938832,  0.        ]]))"
      ]
     },
     "execution_count": 154,
     "metadata": {},
     "output_type": "execute_result"
    }
   ],
   "source": [
    "prediction,bias,contributions = treeinterpreter.predict(model, row.values)\n",
    "prediction,bias,contributions"
   ]
  },
  {
   "cell_type": "code",
   "execution_count": 164,
   "id": "f67b24c7",
   "metadata": {},
   "outputs": [
    {
     "data": {
      "image/png": "[encoded data removed]",
      "text/plain": [
       "<Figure size 670x427 with 1 Axes>"
      ]
     },
     "metadata": {},
     "output_type": "display_data"
    }
   ],
   "source": [
    "waterfall(val_X.columns, contributions[0], threshold=0.03, \n",
    "          rotation_value=45,formatting='{:,.3f}');"
   ]
  },
  {
   "cell_type": "code",
   "execution_count": null,
   "id": "46c4c18f",
   "metadata": {},
   "outputs": [],
   "source": []
  }
 ],
 "metadata": {
  "kernelspec": {
   "display_name": "Python 3 (ipykernel)",
   "language": "python",
   "name": "python3"
  },
  "language_info": {
   "codemirror_mode": {
    "name": "ipython",
    "version": 3
   },
   "file_extension": ".py",
   "mimetype": "text/x-python",
   "name": "python",
   "nbconvert_exporter": "python",
   "pygments_lexer": "ipython3",
   "version": "3.9.6"
  }
 },
 "nbformat": 4,
 "nbformat_minor": 5
}
