{
 "cells": [
  {
   "cell_type": "code",
   "execution_count": 1014,
   "id": "c9e99be3-14a4-4804-a189-0c38e2782496",
   "metadata": {},
   "outputs": [],
   "source": [
    "import sklearn.tree\n",
    "import graphviz\n",
    "import pandas as pd\n",
    "pd.set_option('display.max_colwidth', 5000)\n",
    "pd.set_option('display.float_format', lambda x: '%.2f' % x)"
   ]
  },
  {
   "cell_type": "code",
   "execution_count": 228,
   "id": "5140f7c8-45c0-4180-89de-7624711f10a1",
   "metadata": {},
   "outputs": [],
   "source": [
    "# ! pip install graphviz"
   ]
  },
  {
   "cell_type": "code",
   "execution_count": 229,
   "id": "7453c74a-42fa-4a9c-a3d0-5633ae0e4c13",
   "metadata": {},
   "outputs": [
    {
     "data": {
      "text/html": [
       "<div>\n",
       "<style scoped>\n",
       "    .dataframe tbody tr th:only-of-type {\n",
       "        vertical-align: middle;\n",
       "    }\n",
       "\n",
       "    .dataframe tbody tr th {\n",
       "        vertical-align: top;\n",
       "    }\n",
       "\n",
       "    .dataframe thead th {\n",
       "        text-align: right;\n",
       "    }\n",
       "</style>\n",
       "<table border=\"1\" class=\"dataframe\">\n",
       "  <thead>\n",
       "    <tr style=\"text-align: right;\">\n",
       "      <th></th>\n",
       "      <th>age</th>\n",
       "      <th>job</th>\n",
       "      <th>marital</th>\n",
       "      <th>education</th>\n",
       "      <th>default</th>\n",
       "      <th>balance</th>\n",
       "      <th>housing</th>\n",
       "      <th>loan</th>\n",
       "      <th>contact</th>\n",
       "      <th>day</th>\n",
       "      <th>month</th>\n",
       "      <th>pdays</th>\n",
       "      <th>previous</th>\n",
       "      <th>poutcome</th>\n",
       "      <th>y</th>\n",
       "    </tr>\n",
       "  </thead>\n",
       "  <tbody>\n",
       "    <tr>\n",
       "      <th>0</th>\n",
       "      <td>58</td>\n",
       "      <td>management</td>\n",
       "      <td>married</td>\n",
       "      <td>tertiary</td>\n",
       "      <td>no</td>\n",
       "      <td>2143</td>\n",
       "      <td>yes</td>\n",
       "      <td>no</td>\n",
       "      <td>unknown</td>\n",
       "      <td>5</td>\n",
       "      <td>may</td>\n",
       "      <td>-1</td>\n",
       "      <td>0</td>\n",
       "      <td>unknown</td>\n",
       "      <td>no</td>\n",
       "    </tr>\n",
       "    <tr>\n",
       "      <th>1</th>\n",
       "      <td>44</td>\n",
       "      <td>technician</td>\n",
       "      <td>single</td>\n",
       "      <td>secondary</td>\n",
       "      <td>no</td>\n",
       "      <td>29</td>\n",
       "      <td>yes</td>\n",
       "      <td>no</td>\n",
       "      <td>unknown</td>\n",
       "      <td>5</td>\n",
       "      <td>may</td>\n",
       "      <td>-1</td>\n",
       "      <td>0</td>\n",
       "      <td>unknown</td>\n",
       "      <td>no</td>\n",
       "    </tr>\n",
       "    <tr>\n",
       "      <th>2</th>\n",
       "      <td>33</td>\n",
       "      <td>entrepreneur</td>\n",
       "      <td>married</td>\n",
       "      <td>secondary</td>\n",
       "      <td>no</td>\n",
       "      <td>2</td>\n",
       "      <td>yes</td>\n",
       "      <td>yes</td>\n",
       "      <td>unknown</td>\n",
       "      <td>5</td>\n",
       "      <td>may</td>\n",
       "      <td>-1</td>\n",
       "      <td>0</td>\n",
       "      <td>unknown</td>\n",
       "      <td>no</td>\n",
       "    </tr>\n",
       "    <tr>\n",
       "      <th>3</th>\n",
       "      <td>47</td>\n",
       "      <td>blue-collar</td>\n",
       "      <td>married</td>\n",
       "      <td>unknown</td>\n",
       "      <td>no</td>\n",
       "      <td>1506</td>\n",
       "      <td>yes</td>\n",
       "      <td>no</td>\n",
       "      <td>unknown</td>\n",
       "      <td>5</td>\n",
       "      <td>may</td>\n",
       "      <td>-1</td>\n",
       "      <td>0</td>\n",
       "      <td>unknown</td>\n",
       "      <td>no</td>\n",
       "    </tr>\n",
       "    <tr>\n",
       "      <th>4</th>\n",
       "      <td>33</td>\n",
       "      <td>unknown</td>\n",
       "      <td>single</td>\n",
       "      <td>unknown</td>\n",
       "      <td>no</td>\n",
       "      <td>1</td>\n",
       "      <td>no</td>\n",
       "      <td>no</td>\n",
       "      <td>unknown</td>\n",
       "      <td>5</td>\n",
       "      <td>may</td>\n",
       "      <td>-1</td>\n",
       "      <td>0</td>\n",
       "      <td>unknown</td>\n",
       "      <td>no</td>\n",
       "    </tr>\n",
       "  </tbody>\n",
       "</table>\n",
       "</div>"
      ],
      "text/plain": [
       "   age           job  marital  education default  balance housing loan  \\\n",
       "0   58    management  married   tertiary      no     2143     yes   no   \n",
       "1   44    technician   single  secondary      no       29     yes   no   \n",
       "2   33  entrepreneur  married  secondary      no        2     yes  yes   \n",
       "3   47   blue-collar  married    unknown      no     1506     yes   no   \n",
       "4   33       unknown   single    unknown      no        1      no   no   \n",
       "\n",
       "   contact  day month  pdays  previous poutcome   y  \n",
       "0  unknown    5   may     -1         0  unknown  no  \n",
       "1  unknown    5   may     -1         0  unknown  no  \n",
       "2  unknown    5   may     -1         0  unknown  no  \n",
       "3  unknown    5   may     -1         0  unknown  no  \n",
       "4  unknown    5   may     -1         0  unknown  no  "
      ]
     },
     "execution_count": 229,
     "metadata": {},
     "output_type": "execute_result"
    }
   ],
   "source": [
    "df = pd.read_csv('bank-full.csv', sep = ';')\n",
    "df = df.drop(['duration', 'campaign'], axis = 1)\n",
    "df.head()"
   ]
  },
  {
   "cell_type": "code",
   "execution_count": 230,
   "id": "9f0baf41-7a2f-4feb-87e1-30b3f9e5c22b",
   "metadata": {},
   "outputs": [],
   "source": [
    "for p in ['default', 'housing', 'loan', 'y']:\n",
    "    df[p] = df[p].map(lambda x: 1 if x == 'yes' else 0)"
   ]
  },
  {
   "cell_type": "code",
   "execution_count": 231,
   "id": "547f9a6b-426d-48de-982c-9b5f9a0f6ddf",
   "metadata": {},
   "outputs": [],
   "source": [
    "month_map = {\n",
    "    'jan': 1, 'feb': 2, 'mar': 3, 'apr': 4, 'may': 5, 'jun': 6, \n",
    "    'jul': 7, 'aug': 8, 'sep': 9, 'oct': 10, 'nov': 11, 'dec': 12\n",
    "}\n",
    "\n",
    "df['month'] = df.month.map(lambda x: month_map[x] if x in month_map else x)"
   ]
  },
  {
   "cell_type": "code",
   "execution_count": 232,
   "id": "f550559a-3a11-4f01-9281-5808308ef00c",
   "metadata": {},
   "outputs": [],
   "source": [
    "df['id'] = list(range(df.shape[0]))"
   ]
  },
  {
   "cell_type": "code",
   "execution_count": 233,
   "id": "602cef0f-d8ab-4749-8fce-906f9d4d6e3c",
   "metadata": {},
   "outputs": [],
   "source": [
    "fin_df = pd.get_dummies(df, columns=['job', 'marital', 'education', 'poutcome', 'contact'], dtype = int, \n",
    "              drop_first = False)"
   ]
  },
  {
   "cell_type": "code",
   "execution_count": 234,
   "id": "d9905e6e-d33a-4775-afeb-b0f38380b9c5",
   "metadata": {},
   "outputs": [
    {
     "data": {
      "text/plain": [
       "y\n",
       "0    39922\n",
       "1     5289\n",
       "Name: count, dtype: int64"
      ]
     },
     "execution_count": 234,
     "metadata": {},
     "output_type": "execute_result"
    }
   ],
   "source": [
    "fin_df.y.value_counts()"
   ]
  },
  {
   "cell_type": "code",
   "execution_count": 235,
   "id": "7f514d35-2933-484d-ad27-4f1c4954037c",
   "metadata": {},
   "outputs": [
    {
     "data": {
      "text/html": [
       "<div>\n",
       "<style scoped>\n",
       "    .dataframe tbody tr th:only-of-type {\n",
       "        vertical-align: middle;\n",
       "    }\n",
       "\n",
       "    .dataframe tbody tr th {\n",
       "        vertical-align: top;\n",
       "    }\n",
       "\n",
       "    .dataframe thead th {\n",
       "        text-align: right;\n",
       "    }\n",
       "</style>\n",
       "<table border=\"1\" class=\"dataframe\">\n",
       "  <thead>\n",
       "    <tr style=\"text-align: right;\">\n",
       "      <th></th>\n",
       "      <th>age</th>\n",
       "      <th>default</th>\n",
       "      <th>balance</th>\n",
       "      <th>housing</th>\n",
       "      <th>loan</th>\n",
       "      <th>day</th>\n",
       "      <th>month</th>\n",
       "      <th>pdays</th>\n",
       "      <th>previous</th>\n",
       "      <th>y</th>\n",
       "      <th>...</th>\n",
       "      <th>education_secondary</th>\n",
       "      <th>education_tertiary</th>\n",
       "      <th>education_unknown</th>\n",
       "      <th>poutcome_failure</th>\n",
       "      <th>poutcome_other</th>\n",
       "      <th>poutcome_success</th>\n",
       "      <th>poutcome_unknown</th>\n",
       "      <th>contact_cellular</th>\n",
       "      <th>contact_telephone</th>\n",
       "      <th>contact_unknown</th>\n",
       "    </tr>\n",
       "  </thead>\n",
       "  <tbody>\n",
       "    <tr>\n",
       "      <th>0</th>\n",
       "      <td>58</td>\n",
       "      <td>0</td>\n",
       "      <td>2143</td>\n",
       "      <td>1</td>\n",
       "      <td>0</td>\n",
       "      <td>5</td>\n",
       "      <td>5</td>\n",
       "      <td>-1</td>\n",
       "      <td>0</td>\n",
       "      <td>0</td>\n",
       "      <td>...</td>\n",
       "      <td>0</td>\n",
       "      <td>1</td>\n",
       "      <td>0</td>\n",
       "      <td>0</td>\n",
       "      <td>0</td>\n",
       "      <td>0</td>\n",
       "      <td>1</td>\n",
       "      <td>0</td>\n",
       "      <td>0</td>\n",
       "      <td>1</td>\n",
       "    </tr>\n",
       "    <tr>\n",
       "      <th>1</th>\n",
       "      <td>44</td>\n",
       "      <td>0</td>\n",
       "      <td>29</td>\n",
       "      <td>1</td>\n",
       "      <td>0</td>\n",
       "      <td>5</td>\n",
       "      <td>5</td>\n",
       "      <td>-1</td>\n",
       "      <td>0</td>\n",
       "      <td>0</td>\n",
       "      <td>...</td>\n",
       "      <td>1</td>\n",
       "      <td>0</td>\n",
       "      <td>0</td>\n",
       "      <td>0</td>\n",
       "      <td>0</td>\n",
       "      <td>0</td>\n",
       "      <td>1</td>\n",
       "      <td>0</td>\n",
       "      <td>0</td>\n",
       "      <td>1</td>\n",
       "    </tr>\n",
       "    <tr>\n",
       "      <th>2</th>\n",
       "      <td>33</td>\n",
       "      <td>0</td>\n",
       "      <td>2</td>\n",
       "      <td>1</td>\n",
       "      <td>1</td>\n",
       "      <td>5</td>\n",
       "      <td>5</td>\n",
       "      <td>-1</td>\n",
       "      <td>0</td>\n",
       "      <td>0</td>\n",
       "      <td>...</td>\n",
       "      <td>1</td>\n",
       "      <td>0</td>\n",
       "      <td>0</td>\n",
       "      <td>0</td>\n",
       "      <td>0</td>\n",
       "      <td>0</td>\n",
       "      <td>1</td>\n",
       "      <td>0</td>\n",
       "      <td>0</td>\n",
       "      <td>1</td>\n",
       "    </tr>\n",
       "    <tr>\n",
       "      <th>3</th>\n",
       "      <td>47</td>\n",
       "      <td>0</td>\n",
       "      <td>1506</td>\n",
       "      <td>1</td>\n",
       "      <td>0</td>\n",
       "      <td>5</td>\n",
       "      <td>5</td>\n",
       "      <td>-1</td>\n",
       "      <td>0</td>\n",
       "      <td>0</td>\n",
       "      <td>...</td>\n",
       "      <td>0</td>\n",
       "      <td>0</td>\n",
       "      <td>1</td>\n",
       "      <td>0</td>\n",
       "      <td>0</td>\n",
       "      <td>0</td>\n",
       "      <td>1</td>\n",
       "      <td>0</td>\n",
       "      <td>0</td>\n",
       "      <td>1</td>\n",
       "    </tr>\n",
       "    <tr>\n",
       "      <th>4</th>\n",
       "      <td>33</td>\n",
       "      <td>0</td>\n",
       "      <td>1</td>\n",
       "      <td>0</td>\n",
       "      <td>0</td>\n",
       "      <td>5</td>\n",
       "      <td>5</td>\n",
       "      <td>-1</td>\n",
       "      <td>0</td>\n",
       "      <td>0</td>\n",
       "      <td>...</td>\n",
       "      <td>0</td>\n",
       "      <td>0</td>\n",
       "      <td>1</td>\n",
       "      <td>0</td>\n",
       "      <td>0</td>\n",
       "      <td>0</td>\n",
       "      <td>1</td>\n",
       "      <td>0</td>\n",
       "      <td>0</td>\n",
       "      <td>1</td>\n",
       "    </tr>\n",
       "  </tbody>\n",
       "</table>\n",
       "<p>5 rows × 37 columns</p>\n",
       "</div>"
      ],
      "text/plain": [
       "   age  default  balance  housing  loan  day  month  pdays  previous  y  ...  \\\n",
       "0   58        0     2143        1     0    5      5     -1         0  0  ...   \n",
       "1   44        0       29        1     0    5      5     -1         0  0  ...   \n",
       "2   33        0        2        1     1    5      5     -1         0  0  ...   \n",
       "3   47        0     1506        1     0    5      5     -1         0  0  ...   \n",
       "4   33        0        1        0     0    5      5     -1         0  0  ...   \n",
       "\n",
       "   education_secondary  education_tertiary  education_unknown  \\\n",
       "0                    0                   1                  0   \n",
       "1                    1                   0                  0   \n",
       "2                    1                   0                  0   \n",
       "3                    0                   0                  1   \n",
       "4                    0                   0                  1   \n",
       "\n",
       "   poutcome_failure  poutcome_other  poutcome_success  poutcome_unknown  \\\n",
       "0                 0               0                 0                 1   \n",
       "1                 0               0                 0                 1   \n",
       "2                 0               0                 0                 1   \n",
       "3                 0               0                 0                 1   \n",
       "4                 0               0                 0                 1   \n",
       "\n",
       "   contact_cellular  contact_telephone  contact_unknown  \n",
       "0                 0                  0                1  \n",
       "1                 0                  0                1  \n",
       "2                 0                  0                1  \n",
       "3                 0                  0                1  \n",
       "4                 0                  0                1  \n",
       "\n",
       "[5 rows x 37 columns]"
      ]
     },
     "execution_count": 235,
     "metadata": {},
     "output_type": "execute_result"
    }
   ],
   "source": [
    "fin_df.head()"
   ]
  },
  {
   "cell_type": "code",
   "execution_count": 236,
   "id": "969c591a-0c4d-4836-8336-48159c3b3d32",
   "metadata": {},
   "outputs": [
    {
     "data": {
      "text/html": [
       "<div>\n",
       "<style scoped>\n",
       "    .dataframe tbody tr th:only-of-type {\n",
       "        vertical-align: middle;\n",
       "    }\n",
       "\n",
       "    .dataframe tbody tr th {\n",
       "        vertical-align: top;\n",
       "    }\n",
       "\n",
       "    .dataframe thead th {\n",
       "        text-align: right;\n",
       "    }\n",
       "</style>\n",
       "<table border=\"1\" class=\"dataframe\">\n",
       "  <thead>\n",
       "    <tr style=\"text-align: right;\">\n",
       "      <th></th>\n",
       "      <th>poutcome</th>\n",
       "      <th>poutcome_unknown</th>\n",
       "      <th>poutcome_failure</th>\n",
       "      <th>poutcome_other</th>\n",
       "      <th>poutcome_success</th>\n",
       "      <th>cases</th>\n",
       "    </tr>\n",
       "  </thead>\n",
       "  <tbody>\n",
       "    <tr>\n",
       "      <th>3</th>\n",
       "      <td>unknown</td>\n",
       "      <td>1</td>\n",
       "      <td>0</td>\n",
       "      <td>0</td>\n",
       "      <td>0</td>\n",
       "      <td>36959</td>\n",
       "    </tr>\n",
       "    <tr>\n",
       "      <th>0</th>\n",
       "      <td>failure</td>\n",
       "      <td>0</td>\n",
       "      <td>1</td>\n",
       "      <td>0</td>\n",
       "      <td>0</td>\n",
       "      <td>4901</td>\n",
       "    </tr>\n",
       "    <tr>\n",
       "      <th>1</th>\n",
       "      <td>other</td>\n",
       "      <td>0</td>\n",
       "      <td>0</td>\n",
       "      <td>1</td>\n",
       "      <td>0</td>\n",
       "      <td>1840</td>\n",
       "    </tr>\n",
       "    <tr>\n",
       "      <th>2</th>\n",
       "      <td>success</td>\n",
       "      <td>0</td>\n",
       "      <td>0</td>\n",
       "      <td>0</td>\n",
       "      <td>1</td>\n",
       "      <td>1511</td>\n",
       "    </tr>\n",
       "  </tbody>\n",
       "</table>\n",
       "</div>"
      ],
      "text/plain": [
       "  poutcome  poutcome_unknown  poutcome_failure  poutcome_other  \\\n",
       "3  unknown                 1                 0               0   \n",
       "0  failure                 0                 1               0   \n",
       "1    other                 0                 0               1   \n",
       "2  success                 0                 0               0   \n",
       "\n",
       "   poutcome_success  cases  \n",
       "3                 0  36959  \n",
       "0                 0   4901  \n",
       "1                 0   1840  \n",
       "2                 1   1511  "
      ]
     },
     "execution_count": 236,
     "metadata": {},
     "output_type": "execute_result"
    }
   ],
   "source": [
    "fin_df.merge(df[['id', 'poutcome']])\\\n",
    "    .groupby(['poutcome', 'poutcome_unknown', 'poutcome_failure', 'poutcome_other', 'poutcome_success'], as_index = False).y.count()\\\n",
    "    .rename(columns = {'y': 'cases'})\\\n",
    "    .sort_values('cases', ascending = False)"
   ]
  },
  {
   "cell_type": "code",
   "execution_count": 237,
   "id": "c25002d6-1213-4ea9-8b37-2d21d3321100",
   "metadata": {},
   "outputs": [],
   "source": [
    "fin_df = fin_df.drop('id', axis = 1)"
   ]
  },
  {
   "cell_type": "code",
   "execution_count": 238,
   "id": "44a8e123-8451-467b-b977-51c0b8cb95cd",
   "metadata": {},
   "outputs": [
    {
     "data": {
      "text/plain": [
       "35"
      ]
     },
     "execution_count": 238,
     "metadata": {},
     "output_type": "execute_result"
    }
   ],
   "source": [
    "feature_names = fin_df.drop(['y'], axis = 1).columns\n",
    "len(feature_names)"
   ]
  },
  {
   "cell_type": "code",
   "execution_count": 239,
   "id": "f7018fac-8d7c-40d9-9240-8b024cf8d9a6",
   "metadata": {},
   "outputs": [
    {
     "data": {
      "image/svg+xml": [
       "<?xml version=\"1.0\" encoding=\"UTF-8\" standalone=\"no\"?>\n",
       "<!DOCTYPE svg PUBLIC \"-//W3C//DTD SVG 1.1//EN\"\n",
       " \"http://www.w3.org/Graphics/SVG/1.1/DTD/svg11.dtd\">\n",
       "<!-- Generated by graphviz version 12.0.0 (20240704.0754)\n",
       " -->\n",
       "<!-- Title: Tree Pages: 1 -->\n",
       "<svg width=\"381pt\" height=\"269pt\"\n",
       " viewBox=\"0.00 0.00 380.50 269.00\" xmlns=\"http://www.w3.org/2000/svg\" xmlns:xlink=\"http://www.w3.org/1999/xlink\">\n",
       "<g id=\"graph0\" class=\"graph\" transform=\"scale(1 1) rotate(0) translate(4 265)\">\n",
       "<title>Tree</title>\n",
       "<polygon fill=\"white\" stroke=\"none\" points=\"-4,4 -4,-265 376.5,-265 376.5,4 -4,4\"/>\n",
       "<!-- 0 -->\n",
       "<g id=\"node1\" class=\"node\">\n",
       "<title>0</title>\n",
       "<polygon fill=\"#e89253\" stroke=\"black\" points=\"311.25,-261 136.25,-261 136.25,-193 311.25,-193 311.25,-261\"/>\n",
       "<text text-anchor=\"middle\" x=\"223.75\" y=\"-243.7\" font-family=\"Helvetica,sans-Serif\" font-size=\"14.00\">poutcome_success &lt;= 0.5</text>\n",
       "<text text-anchor=\"middle\" x=\"223.75\" y=\"-228.7\" font-family=\"Helvetica,sans-Serif\" font-size=\"14.00\">gini = 0.21</text>\n",
       "<text text-anchor=\"middle\" x=\"223.75\" y=\"-213.7\" font-family=\"Helvetica,sans-Serif\" font-size=\"14.00\">samples = 100.0%</text>\n",
       "<text text-anchor=\"middle\" x=\"223.75\" y=\"-198.7\" font-family=\"Helvetica,sans-Serif\" font-size=\"14.00\">value = [0.88, 0.12]</text>\n",
       "</g>\n",
       "<!-- 1 -->\n",
       "<g id=\"node2\" class=\"node\">\n",
       "<title>1</title>\n",
       "<polygon fill=\"#e88f4f\" stroke=\"black\" points=\"222.62,-157 58.88,-157 58.88,-89 222.62,-89 222.62,-157\"/>\n",
       "<text text-anchor=\"middle\" x=\"140.75\" y=\"-139.7\" font-family=\"Helvetica,sans-Serif\" font-size=\"14.00\">contact_unknown &lt;= 0.5</text>\n",
       "<text text-anchor=\"middle\" x=\"140.75\" y=\"-124.7\" font-family=\"Helvetica,sans-Serif\" font-size=\"14.00\">gini = 0.18</text>\n",
       "<text text-anchor=\"middle\" x=\"140.75\" y=\"-109.7\" font-family=\"Helvetica,sans-Serif\" font-size=\"14.00\">samples = 96.7%</text>\n",
       "<text text-anchor=\"middle\" x=\"140.75\" y=\"-94.7\" font-family=\"Helvetica,sans-Serif\" font-size=\"14.00\">value = [0.9, 0.1]</text>\n",
       "</g>\n",
       "<!-- 0&#45;&gt;1 -->\n",
       "<g id=\"edge1\" class=\"edge\">\n",
       "<title>0&#45;&gt;1</title>\n",
       "<path fill=\"none\" stroke=\"black\" d=\"M196.57,-192.6C189.69,-184.15 182.22,-174.96 175.04,-166.13\"/>\n",
       "<polygon fill=\"black\" stroke=\"black\" points=\"177.97,-164.2 168.94,-158.65 172.54,-168.61 177.97,-164.2\"/>\n",
       "<text text-anchor=\"middle\" x=\"165.43\" y=\"-176.54\" font-family=\"Helvetica,sans-Serif\" font-size=\"14.00\">True</text>\n",
       "</g>\n",
       "<!-- 4 -->\n",
       "<g id=\"node5\" class=\"node\">\n",
       "<title>4</title>\n",
       "<polygon fill=\"#a5d2f3\" stroke=\"black\" points=\"372.5,-149.5 241,-149.5 241,-96.5 372.5,-96.5 372.5,-149.5\"/>\n",
       "<text text-anchor=\"middle\" x=\"306.75\" y=\"-132.2\" font-family=\"Helvetica,sans-Serif\" font-size=\"14.00\">gini = 0.46</text>\n",
       "<text text-anchor=\"middle\" x=\"306.75\" y=\"-117.2\" font-family=\"Helvetica,sans-Serif\" font-size=\"14.00\">samples = 3.3%</text>\n",
       "<text text-anchor=\"middle\" x=\"306.75\" y=\"-102.2\" font-family=\"Helvetica,sans-Serif\" font-size=\"14.00\">value = [0.35, 0.65]</text>\n",
       "</g>\n",
       "<!-- 0&#45;&gt;4 -->\n",
       "<g id=\"edge4\" class=\"edge\">\n",
       "<title>0&#45;&gt;4</title>\n",
       "<path fill=\"none\" stroke=\"black\" d=\"M250.93,-192.6C259.79,-181.71 269.65,-169.59 278.59,-158.61\"/>\n",
       "<polygon fill=\"black\" stroke=\"black\" points=\"281.28,-160.85 284.88,-150.88 275.85,-156.43 281.28,-160.85\"/>\n",
       "<text text-anchor=\"middle\" x=\"288.39\" y=\"-168.78\" font-family=\"Helvetica,sans-Serif\" font-size=\"14.00\">False</text>\n",
       "</g>\n",
       "<!-- 2 -->\n",
       "<g id=\"node3\" class=\"node\">\n",
       "<title>2</title>\n",
       "<polygon fill=\"#e99355\" stroke=\"black\" points=\"131.5,-53 0,-53 0,0 131.5,0 131.5,-53\"/>\n",
       "<text text-anchor=\"middle\" x=\"65.75\" y=\"-35.7\" font-family=\"Helvetica,sans-Serif\" font-size=\"14.00\">gini = 0.22</text>\n",
       "<text text-anchor=\"middle\" x=\"65.75\" y=\"-20.7\" font-family=\"Helvetica,sans-Serif\" font-size=\"14.00\">samples = 67.9%</text>\n",
       "<text text-anchor=\"middle\" x=\"65.75\" y=\"-5.7\" font-family=\"Helvetica,sans-Serif\" font-size=\"14.00\">value = [0.88, 0.12]</text>\n",
       "</g>\n",
       "<!-- 1&#45;&gt;2 -->\n",
       "<g id=\"edge2\" class=\"edge\">\n",
       "<title>1&#45;&gt;2</title>\n",
       "<path fill=\"none\" stroke=\"black\" d=\"M114.31,-88.68C107.48,-80.09 100.12,-70.81 93.25,-62.15\"/>\n",
       "<polygon fill=\"black\" stroke=\"black\" points=\"96.2,-60.24 87.24,-54.58 90.72,-64.59 96.2,-60.24\"/>\n",
       "</g>\n",
       "<!-- 3 -->\n",
       "<g id=\"node4\" class=\"node\">\n",
       "<title>3</title>\n",
       "<polygon fill=\"#e68641\" stroke=\"black\" points=\"281.5,-53 150,-53 150,0 281.5,0 281.5,-53\"/>\n",
       "<text text-anchor=\"middle\" x=\"215.75\" y=\"-35.7\" font-family=\"Helvetica,sans-Serif\" font-size=\"14.00\">gini = 0.08</text>\n",
       "<text text-anchor=\"middle\" x=\"215.75\" y=\"-20.7\" font-family=\"Helvetica,sans-Serif\" font-size=\"14.00\">samples = 28.8%</text>\n",
       "<text text-anchor=\"middle\" x=\"215.75\" y=\"-5.7\" font-family=\"Helvetica,sans-Serif\" font-size=\"14.00\">value = [0.96, 0.04]</text>\n",
       "</g>\n",
       "<!-- 1&#45;&gt;3 -->\n",
       "<g id=\"edge3\" class=\"edge\">\n",
       "<title>1&#45;&gt;3</title>\n",
       "<path fill=\"none\" stroke=\"black\" d=\"M167.19,-88.68C174.02,-80.09 181.38,-70.81 188.25,-62.15\"/>\n",
       "<polygon fill=\"black\" stroke=\"black\" points=\"190.78,-64.59 194.26,-54.58 185.3,-60.24 190.78,-64.59\"/>\n",
       "</g>\n",
       "</g>\n",
       "</svg>\n"
      ],
      "text/plain": [
       "<graphviz.sources.Source at 0x144c90fd0>"
      ]
     },
     "execution_count": 239,
     "metadata": {},
     "output_type": "execute_result"
    }
   ],
   "source": [
    "model = sklearn.tree.DecisionTreeClassifier(min_samples_leaf = 1000, max_depth = 2)\n",
    "model.fit(fin_df[feature_names], fin_df['y'])\n",
    "\n",
    "dot_data = sklearn.tree.export_graphviz(\n",
    "    model, out_file=None, feature_names = feature_names, filled = True, \n",
    "    proportion = True, precision=2, impurity = True)\n",
    "\n",
    "graph = graphviz.Source(dot_data)\n",
    "graph"
   ]
  },
  {
   "cell_type": "code",
   "execution_count": 240,
   "id": "b1f4eeef-1c31-43b1-9f8e-0751a5df1ec3",
   "metadata": {},
   "outputs": [
    {
     "data": {
      "text/html": [
       "<div>\n",
       "<style scoped>\n",
       "    .dataframe tbody tr th:only-of-type {\n",
       "        vertical-align: middle;\n",
       "    }\n",
       "\n",
       "    .dataframe tbody tr th {\n",
       "        vertical-align: top;\n",
       "    }\n",
       "\n",
       "    .dataframe thead th {\n",
       "        text-align: right;\n",
       "    }\n",
       "</style>\n",
       "<table border=\"1\" class=\"dataframe\">\n",
       "  <thead>\n",
       "    <tr style=\"text-align: right;\">\n",
       "      <th></th>\n",
       "      <th>0</th>\n",
       "      <th>1</th>\n",
       "      <th>2</th>\n",
       "      <th>3</th>\n",
       "      <th>4</th>\n",
       "    </tr>\n",
       "  </thead>\n",
       "  <tbody>\n",
       "    <tr>\n",
       "      <th>age</th>\n",
       "      <td>58</td>\n",
       "      <td>44</td>\n",
       "      <td>33</td>\n",
       "      <td>47</td>\n",
       "      <td>33</td>\n",
       "    </tr>\n",
       "    <tr>\n",
       "      <th>default</th>\n",
       "      <td>0</td>\n",
       "      <td>0</td>\n",
       "      <td>0</td>\n",
       "      <td>0</td>\n",
       "      <td>0</td>\n",
       "    </tr>\n",
       "    <tr>\n",
       "      <th>balance</th>\n",
       "      <td>2143</td>\n",
       "      <td>29</td>\n",
       "      <td>2</td>\n",
       "      <td>1506</td>\n",
       "      <td>1</td>\n",
       "    </tr>\n",
       "    <tr>\n",
       "      <th>housing</th>\n",
       "      <td>1</td>\n",
       "      <td>1</td>\n",
       "      <td>1</td>\n",
       "      <td>1</td>\n",
       "      <td>0</td>\n",
       "    </tr>\n",
       "    <tr>\n",
       "      <th>loan</th>\n",
       "      <td>0</td>\n",
       "      <td>0</td>\n",
       "      <td>1</td>\n",
       "      <td>0</td>\n",
       "      <td>0</td>\n",
       "    </tr>\n",
       "    <tr>\n",
       "      <th>day</th>\n",
       "      <td>5</td>\n",
       "      <td>5</td>\n",
       "      <td>5</td>\n",
       "      <td>5</td>\n",
       "      <td>5</td>\n",
       "    </tr>\n",
       "    <tr>\n",
       "      <th>month</th>\n",
       "      <td>5</td>\n",
       "      <td>5</td>\n",
       "      <td>5</td>\n",
       "      <td>5</td>\n",
       "      <td>5</td>\n",
       "    </tr>\n",
       "    <tr>\n",
       "      <th>pdays</th>\n",
       "      <td>-1</td>\n",
       "      <td>-1</td>\n",
       "      <td>-1</td>\n",
       "      <td>-1</td>\n",
       "      <td>-1</td>\n",
       "    </tr>\n",
       "    <tr>\n",
       "      <th>previous</th>\n",
       "      <td>0</td>\n",
       "      <td>0</td>\n",
       "      <td>0</td>\n",
       "      <td>0</td>\n",
       "      <td>0</td>\n",
       "    </tr>\n",
       "    <tr>\n",
       "      <th>y</th>\n",
       "      <td>0</td>\n",
       "      <td>0</td>\n",
       "      <td>0</td>\n",
       "      <td>0</td>\n",
       "      <td>0</td>\n",
       "    </tr>\n",
       "    <tr>\n",
       "      <th>job_admin.</th>\n",
       "      <td>0</td>\n",
       "      <td>0</td>\n",
       "      <td>0</td>\n",
       "      <td>0</td>\n",
       "      <td>0</td>\n",
       "    </tr>\n",
       "    <tr>\n",
       "      <th>job_blue-collar</th>\n",
       "      <td>0</td>\n",
       "      <td>0</td>\n",
       "      <td>0</td>\n",
       "      <td>1</td>\n",
       "      <td>0</td>\n",
       "    </tr>\n",
       "    <tr>\n",
       "      <th>job_entrepreneur</th>\n",
       "      <td>0</td>\n",
       "      <td>0</td>\n",
       "      <td>1</td>\n",
       "      <td>0</td>\n",
       "      <td>0</td>\n",
       "    </tr>\n",
       "    <tr>\n",
       "      <th>job_housemaid</th>\n",
       "      <td>0</td>\n",
       "      <td>0</td>\n",
       "      <td>0</td>\n",
       "      <td>0</td>\n",
       "      <td>0</td>\n",
       "    </tr>\n",
       "    <tr>\n",
       "      <th>job_management</th>\n",
       "      <td>1</td>\n",
       "      <td>0</td>\n",
       "      <td>0</td>\n",
       "      <td>0</td>\n",
       "      <td>0</td>\n",
       "    </tr>\n",
       "    <tr>\n",
       "      <th>job_retired</th>\n",
       "      <td>0</td>\n",
       "      <td>0</td>\n",
       "      <td>0</td>\n",
       "      <td>0</td>\n",
       "      <td>0</td>\n",
       "    </tr>\n",
       "    <tr>\n",
       "      <th>job_self-employed</th>\n",
       "      <td>0</td>\n",
       "      <td>0</td>\n",
       "      <td>0</td>\n",
       "      <td>0</td>\n",
       "      <td>0</td>\n",
       "    </tr>\n",
       "    <tr>\n",
       "      <th>job_services</th>\n",
       "      <td>0</td>\n",
       "      <td>0</td>\n",
       "      <td>0</td>\n",
       "      <td>0</td>\n",
       "      <td>0</td>\n",
       "    </tr>\n",
       "    <tr>\n",
       "      <th>job_student</th>\n",
       "      <td>0</td>\n",
       "      <td>0</td>\n",
       "      <td>0</td>\n",
       "      <td>0</td>\n",
       "      <td>0</td>\n",
       "    </tr>\n",
       "    <tr>\n",
       "      <th>job_technician</th>\n",
       "      <td>0</td>\n",
       "      <td>1</td>\n",
       "      <td>0</td>\n",
       "      <td>0</td>\n",
       "      <td>0</td>\n",
       "    </tr>\n",
       "    <tr>\n",
       "      <th>job_unemployed</th>\n",
       "      <td>0</td>\n",
       "      <td>0</td>\n",
       "      <td>0</td>\n",
       "      <td>0</td>\n",
       "      <td>0</td>\n",
       "    </tr>\n",
       "    <tr>\n",
       "      <th>job_unknown</th>\n",
       "      <td>0</td>\n",
       "      <td>0</td>\n",
       "      <td>0</td>\n",
       "      <td>0</td>\n",
       "      <td>1</td>\n",
       "    </tr>\n",
       "    <tr>\n",
       "      <th>marital_divorced</th>\n",
       "      <td>0</td>\n",
       "      <td>0</td>\n",
       "      <td>0</td>\n",
       "      <td>0</td>\n",
       "      <td>0</td>\n",
       "    </tr>\n",
       "    <tr>\n",
       "      <th>marital_married</th>\n",
       "      <td>1</td>\n",
       "      <td>0</td>\n",
       "      <td>1</td>\n",
       "      <td>1</td>\n",
       "      <td>0</td>\n",
       "    </tr>\n",
       "    <tr>\n",
       "      <th>marital_single</th>\n",
       "      <td>0</td>\n",
       "      <td>1</td>\n",
       "      <td>0</td>\n",
       "      <td>0</td>\n",
       "      <td>1</td>\n",
       "    </tr>\n",
       "    <tr>\n",
       "      <th>education_primary</th>\n",
       "      <td>0</td>\n",
       "      <td>0</td>\n",
       "      <td>0</td>\n",
       "      <td>0</td>\n",
       "      <td>0</td>\n",
       "    </tr>\n",
       "    <tr>\n",
       "      <th>education_secondary</th>\n",
       "      <td>0</td>\n",
       "      <td>1</td>\n",
       "      <td>1</td>\n",
       "      <td>0</td>\n",
       "      <td>0</td>\n",
       "    </tr>\n",
       "    <tr>\n",
       "      <th>education_tertiary</th>\n",
       "      <td>1</td>\n",
       "      <td>0</td>\n",
       "      <td>0</td>\n",
       "      <td>0</td>\n",
       "      <td>0</td>\n",
       "    </tr>\n",
       "    <tr>\n",
       "      <th>education_unknown</th>\n",
       "      <td>0</td>\n",
       "      <td>0</td>\n",
       "      <td>0</td>\n",
       "      <td>1</td>\n",
       "      <td>1</td>\n",
       "    </tr>\n",
       "    <tr>\n",
       "      <th>poutcome_failure</th>\n",
       "      <td>0</td>\n",
       "      <td>0</td>\n",
       "      <td>0</td>\n",
       "      <td>0</td>\n",
       "      <td>0</td>\n",
       "    </tr>\n",
       "    <tr>\n",
       "      <th>poutcome_other</th>\n",
       "      <td>0</td>\n",
       "      <td>0</td>\n",
       "      <td>0</td>\n",
       "      <td>0</td>\n",
       "      <td>0</td>\n",
       "    </tr>\n",
       "    <tr>\n",
       "      <th>poutcome_success</th>\n",
       "      <td>0</td>\n",
       "      <td>0</td>\n",
       "      <td>0</td>\n",
       "      <td>0</td>\n",
       "      <td>0</td>\n",
       "    </tr>\n",
       "    <tr>\n",
       "      <th>poutcome_unknown</th>\n",
       "      <td>1</td>\n",
       "      <td>1</td>\n",
       "      <td>1</td>\n",
       "      <td>1</td>\n",
       "      <td>1</td>\n",
       "    </tr>\n",
       "    <tr>\n",
       "      <th>contact_cellular</th>\n",
       "      <td>0</td>\n",
       "      <td>0</td>\n",
       "      <td>0</td>\n",
       "      <td>0</td>\n",
       "      <td>0</td>\n",
       "    </tr>\n",
       "    <tr>\n",
       "      <th>contact_telephone</th>\n",
       "      <td>0</td>\n",
       "      <td>0</td>\n",
       "      <td>0</td>\n",
       "      <td>0</td>\n",
       "      <td>0</td>\n",
       "    </tr>\n",
       "    <tr>\n",
       "      <th>contact_unknown</th>\n",
       "      <td>1</td>\n",
       "      <td>1</td>\n",
       "      <td>1</td>\n",
       "      <td>1</td>\n",
       "      <td>1</td>\n",
       "    </tr>\n",
       "  </tbody>\n",
       "</table>\n",
       "</div>"
      ],
      "text/plain": [
       "                        0   1   2     3   4\n",
       "age                    58  44  33    47  33\n",
       "default                 0   0   0     0   0\n",
       "balance              2143  29   2  1506   1\n",
       "housing                 1   1   1     1   0\n",
       "loan                    0   0   1     0   0\n",
       "day                     5   5   5     5   5\n",
       "month                   5   5   5     5   5\n",
       "pdays                  -1  -1  -1    -1  -1\n",
       "previous                0   0   0     0   0\n",
       "y                       0   0   0     0   0\n",
       "job_admin.              0   0   0     0   0\n",
       "job_blue-collar         0   0   0     1   0\n",
       "job_entrepreneur        0   0   1     0   0\n",
       "job_housemaid           0   0   0     0   0\n",
       "job_management          1   0   0     0   0\n",
       "job_retired             0   0   0     0   0\n",
       "job_self-employed       0   0   0     0   0\n",
       "job_services            0   0   0     0   0\n",
       "job_student             0   0   0     0   0\n",
       "job_technician          0   1   0     0   0\n",
       "job_unemployed          0   0   0     0   0\n",
       "job_unknown             0   0   0     0   1\n",
       "marital_divorced        0   0   0     0   0\n",
       "marital_married         1   0   1     1   0\n",
       "marital_single          0   1   0     0   1\n",
       "education_primary       0   0   0     0   0\n",
       "education_secondary     0   1   1     0   0\n",
       "education_tertiary      1   0   0     0   0\n",
       "education_unknown       0   0   0     1   1\n",
       "poutcome_failure        0   0   0     0   0\n",
       "poutcome_other          0   0   0     0   0\n",
       "poutcome_success        0   0   0     0   0\n",
       "poutcome_unknown        1   1   1     1   1\n",
       "contact_cellular        0   0   0     0   0\n",
       "contact_telephone       0   0   0     0   0\n",
       "contact_unknown         1   1   1     1   1"
      ]
     },
     "execution_count": 240,
     "metadata": {},
     "output_type": "execute_result"
    }
   ],
   "source": [
    "fin_df.head().T"
   ]
  },
  {
   "cell_type": "code",
   "execution_count": 241,
   "id": "a529a1d0-55aa-4a72-af6c-f027963e3ff0",
   "metadata": {},
   "outputs": [],
   "source": [
    "def get_gini(df):\n",
    "    p = df.y.mean()\n",
    "    return 2*p*(1-p)"
   ]
  },
  {
   "cell_type": "code",
   "execution_count": 242,
   "id": "afe188ce-ee93-480d-bd65-f8b3c17bb500",
   "metadata": {},
   "outputs": [
    {
     "data": {
      "text/plain": [
       "0.2065987201592864"
      ]
     },
     "execution_count": 242,
     "metadata": {},
     "output_type": "execute_result"
    }
   ],
   "source": [
    "get_gini(fin_df)"
   ]
  },
  {
   "cell_type": "code",
   "execution_count": 243,
   "id": "5b238e82-5312-44c0-9ff5-d84ec4b2ceef",
   "metadata": {},
   "outputs": [],
   "source": [
    "def get_gini_comb(df1, df2):\n",
    "    n1 = df1.shape[0]\n",
    "    n2 = df2.shape[0]\n",
    "\n",
    "    gini1 = get_gini(df1)\n",
    "    gini2 = get_gini(df2)\n",
    "    return (gini1*n1 + gini2*n2)/(n1 + n2) "
   ]
  },
  {
   "cell_type": "code",
   "execution_count": 244,
   "id": "55a46a82-ee5f-421f-9c12-ff878a46b8a1",
   "metadata": {},
   "outputs": [],
   "source": [
    "import tqdm\n",
    "def optimise_one_parameter(df, param):\n",
    "    tmp = []\n",
    "    possible_values = list(sorted(df[param].unique()))\n",
    "    print(param)\n",
    "    for i in tqdm.tqdm(range(1, len(possible_values))): \n",
    "        threshold = (possible_values[i-1] + possible_values[i])/2\n",
    "        gini = get_gini_comb(df[df[param] <= threshold], df[df[param] > threshold])\n",
    "        tmp.append(\n",
    "            {'param': param, 'threshold': threshold, 'gini': gini, \n",
    "            'sizes': (df[df[param] <= threshold].shape[0], df[df[param] > threshold].shape[0])}\n",
    "        )\n",
    "    return pd.DataFrame(tmp)"
   ]
  },
  {
   "cell_type": "code",
   "execution_count": 245,
   "id": "b84b6661-291b-4052-b06b-c3069ef31775",
   "metadata": {},
   "outputs": [
    {
     "name": "stdout",
     "output_type": "stream",
     "text": [
      "age\n"
     ]
    },
    {
     "name": "stderr",
     "output_type": "stream",
     "text": [
      "100%|██████████████████████████████████████████| 76/76 [00:00<00:00, 249.91it/s]\n"
     ]
    },
    {
     "name": "stdout",
     "output_type": "stream",
     "text": [
      "default\n"
     ]
    },
    {
     "name": "stderr",
     "output_type": "stream",
     "text": [
      "100%|████████████████████████████████████████████| 1/1 [00:00<00:00, 263.78it/s]\n"
     ]
    },
    {
     "name": "stdout",
     "output_type": "stream",
     "text": [
      "balance\n"
     ]
    },
    {
     "name": "stderr",
     "output_type": "stream",
     "text": [
      "100%|██████████████████████████████████████| 7167/7167 [00:24<00:00, 293.59it/s]\n"
     ]
    },
    {
     "name": "stdout",
     "output_type": "stream",
     "text": [
      "housing\n"
     ]
    },
    {
     "name": "stderr",
     "output_type": "stream",
     "text": [
      "100%|████████████████████████████████████████████| 1/1 [00:00<00:00, 220.51it/s]\n"
     ]
    },
    {
     "name": "stdout",
     "output_type": "stream",
     "text": [
      "loan\n"
     ]
    },
    {
     "name": "stderr",
     "output_type": "stream",
     "text": [
      "100%|████████████████████████████████████████████| 1/1 [00:00<00:00, 257.32it/s]\n"
     ]
    },
    {
     "name": "stdout",
     "output_type": "stream",
     "text": [
      "day\n"
     ]
    },
    {
     "name": "stderr",
     "output_type": "stream",
     "text": [
      "100%|██████████████████████████████████████████| 30/30 [00:00<00:00, 335.82it/s]\n"
     ]
    },
    {
     "name": "stdout",
     "output_type": "stream",
     "text": [
      "month\n"
     ]
    },
    {
     "name": "stderr",
     "output_type": "stream",
     "text": [
      "100%|██████████████████████████████████████████| 11/11 [00:00<00:00, 284.72it/s]\n"
     ]
    },
    {
     "name": "stdout",
     "output_type": "stream",
     "text": [
      "pdays\n"
     ]
    },
    {
     "name": "stderr",
     "output_type": "stream",
     "text": [
      "100%|████████████████████████████████████████| 558/558 [00:02<00:00, 211.82it/s]\n"
     ]
    },
    {
     "name": "stdout",
     "output_type": "stream",
     "text": [
      "previous\n"
     ]
    },
    {
     "name": "stderr",
     "output_type": "stream",
     "text": [
      "100%|██████████████████████████████████████████| 40/40 [00:00<00:00, 265.73it/s]\n"
     ]
    },
    {
     "name": "stdout",
     "output_type": "stream",
     "text": [
      "job_admin.\n"
     ]
    },
    {
     "name": "stderr",
     "output_type": "stream",
     "text": [
      "100%|████████████████████████████████████████████| 1/1 [00:00<00:00, 244.15it/s]\n"
     ]
    },
    {
     "name": "stdout",
     "output_type": "stream",
     "text": [
      "job_blue-collar\n"
     ]
    },
    {
     "name": "stderr",
     "output_type": "stream",
     "text": [
      "100%|████████████████████████████████████████████| 1/1 [00:00<00:00, 235.69it/s]\n"
     ]
    },
    {
     "name": "stdout",
     "output_type": "stream",
     "text": [
      "job_entrepreneur\n"
     ]
    },
    {
     "name": "stderr",
     "output_type": "stream",
     "text": [
      "100%|████████████████████████████████████████████| 1/1 [00:00<00:00, 141.60it/s]\n"
     ]
    },
    {
     "name": "stdout",
     "output_type": "stream",
     "text": [
      "job_housemaid\n"
     ]
    },
    {
     "name": "stderr",
     "output_type": "stream",
     "text": [
      "100%|████████████████████████████████████████████| 1/1 [00:00<00:00, 182.12it/s]\n"
     ]
    },
    {
     "name": "stdout",
     "output_type": "stream",
     "text": [
      "job_management\n"
     ]
    },
    {
     "name": "stderr",
     "output_type": "stream",
     "text": [
      "100%|████████████████████████████████████████████| 1/1 [00:00<00:00, 210.40it/s]\n"
     ]
    },
    {
     "name": "stdout",
     "output_type": "stream",
     "text": [
      "job_retired\n"
     ]
    },
    {
     "name": "stderr",
     "output_type": "stream",
     "text": [
      "100%|████████████████████████████████████████████| 1/1 [00:00<00:00, 203.71it/s]\n"
     ]
    },
    {
     "name": "stdout",
     "output_type": "stream",
     "text": [
      "job_self-employed\n"
     ]
    },
    {
     "name": "stderr",
     "output_type": "stream",
     "text": [
      "100%|████████████████████████████████████████████| 1/1 [00:00<00:00, 196.00it/s]\n"
     ]
    },
    {
     "name": "stdout",
     "output_type": "stream",
     "text": [
      "job_services\n"
     ]
    },
    {
     "name": "stderr",
     "output_type": "stream",
     "text": [
      "100%|████████████████████████████████████████████| 1/1 [00:00<00:00, 210.43it/s]\n"
     ]
    },
    {
     "name": "stdout",
     "output_type": "stream",
     "text": [
      "job_student\n"
     ]
    },
    {
     "name": "stderr",
     "output_type": "stream",
     "text": [
      "100%|████████████████████████████████████████████| 1/1 [00:00<00:00, 165.53it/s]\n"
     ]
    },
    {
     "name": "stdout",
     "output_type": "stream",
     "text": [
      "job_technician\n"
     ]
    },
    {
     "name": "stderr",
     "output_type": "stream",
     "text": [
      "100%|████████████████████████████████████████████| 1/1 [00:00<00:00, 193.61it/s]\n"
     ]
    },
    {
     "name": "stdout",
     "output_type": "stream",
     "text": [
      "job_unemployed\n"
     ]
    },
    {
     "name": "stderr",
     "output_type": "stream",
     "text": [
      "100%|████████████████████████████████████████████| 1/1 [00:00<00:00, 181.68it/s]\n"
     ]
    },
    {
     "name": "stdout",
     "output_type": "stream",
     "text": [
      "job_unknown\n"
     ]
    },
    {
     "name": "stderr",
     "output_type": "stream",
     "text": [
      "100%|████████████████████████████████████████████| 1/1 [00:00<00:00, 164.74it/s]\n"
     ]
    },
    {
     "name": "stdout",
     "output_type": "stream",
     "text": [
      "marital_divorced\n"
     ]
    },
    {
     "name": "stderr",
     "output_type": "stream",
     "text": [
      "100%|████████████████████████████████████████████| 1/1 [00:00<00:00, 188.92it/s]\n"
     ]
    },
    {
     "name": "stdout",
     "output_type": "stream",
     "text": [
      "marital_married\n"
     ]
    },
    {
     "name": "stderr",
     "output_type": "stream",
     "text": [
      "100%|████████████████████████████████████████████| 1/1 [00:00<00:00, 193.24it/s]\n"
     ]
    },
    {
     "name": "stdout",
     "output_type": "stream",
     "text": [
      "marital_single\n"
     ]
    },
    {
     "name": "stderr",
     "output_type": "stream",
     "text": [
      "100%|████████████████████████████████████████████| 1/1 [00:00<00:00, 223.71it/s]\n"
     ]
    },
    {
     "name": "stdout",
     "output_type": "stream",
     "text": [
      "education_primary\n"
     ]
    },
    {
     "name": "stderr",
     "output_type": "stream",
     "text": [
      "100%|████████████████████████████████████████████| 1/1 [00:00<00:00, 237.92it/s]\n"
     ]
    },
    {
     "name": "stdout",
     "output_type": "stream",
     "text": [
      "education_secondary\n"
     ]
    },
    {
     "name": "stderr",
     "output_type": "stream",
     "text": [
      "100%|████████████████████████████████████████████| 1/1 [00:00<00:00, 214.00it/s]\n"
     ]
    },
    {
     "name": "stdout",
     "output_type": "stream",
     "text": [
      "education_tertiary\n"
     ]
    },
    {
     "name": "stderr",
     "output_type": "stream",
     "text": [
      "100%|████████████████████████████████████████████| 1/1 [00:00<00:00, 243.26it/s]\n"
     ]
    },
    {
     "name": "stdout",
     "output_type": "stream",
     "text": [
      "education_unknown\n"
     ]
    },
    {
     "name": "stderr",
     "output_type": "stream",
     "text": [
      "100%|████████████████████████████████████████████| 1/1 [00:00<00:00, 216.50it/s]\n"
     ]
    },
    {
     "name": "stdout",
     "output_type": "stream",
     "text": [
      "poutcome_failure\n"
     ]
    },
    {
     "name": "stderr",
     "output_type": "stream",
     "text": [
      "100%|████████████████████████████████████████████| 1/1 [00:00<00:00, 164.33it/s]\n"
     ]
    },
    {
     "name": "stdout",
     "output_type": "stream",
     "text": [
      "poutcome_other\n"
     ]
    },
    {
     "name": "stderr",
     "output_type": "stream",
     "text": [
      "100%|████████████████████████████████████████████| 1/1 [00:00<00:00, 185.81it/s]\n"
     ]
    },
    {
     "name": "stdout",
     "output_type": "stream",
     "text": [
      "poutcome_success\n"
     ]
    },
    {
     "name": "stderr",
     "output_type": "stream",
     "text": [
      "100%|████████████████████████████████████████████| 1/1 [00:00<00:00, 223.36it/s]\n"
     ]
    },
    {
     "name": "stdout",
     "output_type": "stream",
     "text": [
      "poutcome_unknown\n"
     ]
    },
    {
     "name": "stderr",
     "output_type": "stream",
     "text": [
      "100%|████████████████████████████████████████████| 1/1 [00:00<00:00, 201.85it/s]\n"
     ]
    },
    {
     "name": "stdout",
     "output_type": "stream",
     "text": [
      "contact_cellular\n"
     ]
    },
    {
     "name": "stderr",
     "output_type": "stream",
     "text": [
      "100%|████████████████████████████████████████████| 1/1 [00:00<00:00, 205.09it/s]\n"
     ]
    },
    {
     "name": "stdout",
     "output_type": "stream",
     "text": [
      "contact_telephone\n"
     ]
    },
    {
     "name": "stderr",
     "output_type": "stream",
     "text": [
      "100%|████████████████████████████████████████████| 1/1 [00:00<00:00, 165.95it/s]\n"
     ]
    },
    {
     "name": "stdout",
     "output_type": "stream",
     "text": [
      "contact_unknown\n"
     ]
    },
    {
     "name": "stderr",
     "output_type": "stream",
     "text": [
      "100%|████████████████████████████████████████████| 1/1 [00:00<00:00, 205.51it/s]\n"
     ]
    }
   ],
   "source": [
    "tmp_dfs = []\n",
    "for feature in feature_names:\n",
    "    tmp_dfs.append(optimise_one_parameter(fin_df, feature))"
   ]
  },
  {
   "cell_type": "code",
   "execution_count": 246,
   "id": "83eafd78-2de0-48ff-b2d0-9d34b018f87a",
   "metadata": {},
   "outputs": [],
   "source": [
    "opt_df = pd.concat(tmp_dfs)"
   ]
  },
  {
   "cell_type": "code",
   "execution_count": 247,
   "id": "a20684f0-a4b8-4d3c-9889-6e5021b02d37",
   "metadata": {},
   "outputs": [
    {
     "data": {
      "text/html": [
       "<div>\n",
       "<style scoped>\n",
       "    .dataframe tbody tr th:only-of-type {\n",
       "        vertical-align: middle;\n",
       "    }\n",
       "\n",
       "    .dataframe tbody tr th {\n",
       "        vertical-align: top;\n",
       "    }\n",
       "\n",
       "    .dataframe thead th {\n",
       "        text-align: right;\n",
       "    }\n",
       "</style>\n",
       "<table border=\"1\" class=\"dataframe\">\n",
       "  <thead>\n",
       "    <tr style=\"text-align: right;\">\n",
       "      <th></th>\n",
       "      <th>param</th>\n",
       "      <th>threshold</th>\n",
       "      <th>gini</th>\n",
       "      <th>sizes</th>\n",
       "    </tr>\n",
       "  </thead>\n",
       "  <tbody>\n",
       "    <tr>\n",
       "      <th>0</th>\n",
       "      <td>poutcome_success</td>\n",
       "      <td>0.50</td>\n",
       "      <td>0.19</td>\n",
       "      <td>(43700, 1511)</td>\n",
       "    </tr>\n",
       "    <tr>\n",
       "      <th>8</th>\n",
       "      <td>pdays</td>\n",
       "      <td>8.50</td>\n",
       "      <td>0.20</td>\n",
       "      <td>(37062, 8149)</td>\n",
       "    </tr>\n",
       "    <tr>\n",
       "      <th>9</th>\n",
       "      <td>pdays</td>\n",
       "      <td>9.50</td>\n",
       "      <td>0.20</td>\n",
       "      <td>(37074, 8137)</td>\n",
       "    </tr>\n",
       "    <tr>\n",
       "      <th>11</th>\n",
       "      <td>pdays</td>\n",
       "      <td>12.50</td>\n",
       "      <td>0.20</td>\n",
       "      <td>(37087, 8124)</td>\n",
       "    </tr>\n",
       "    <tr>\n",
       "      <th>17</th>\n",
       "      <td>pdays</td>\n",
       "      <td>19.50</td>\n",
       "      <td>0.20</td>\n",
       "      <td>(37112, 8099)</td>\n",
       "    </tr>\n",
       "  </tbody>\n",
       "</table>\n",
       "</div>"
      ],
      "text/plain": [
       "               param  threshold  gini          sizes\n",
       "0   poutcome_success       0.50  0.19  (43700, 1511)\n",
       "8              pdays       8.50  0.20  (37062, 8149)\n",
       "9              pdays       9.50  0.20  (37074, 8137)\n",
       "11             pdays      12.50  0.20  (37087, 8124)\n",
       "17             pdays      19.50  0.20  (37112, 8099)"
      ]
     },
     "execution_count": 247,
     "metadata": {},
     "output_type": "execute_result"
    }
   ],
   "source": [
    "opt_df.sort_values('gini', ascending = True).head()"
   ]
  },
  {
   "cell_type": "code",
   "execution_count": 248,
   "id": "28b2b2a4-a385-4402-853c-17020f76643f",
   "metadata": {},
   "outputs": [
    {
     "name": "stdout",
     "output_type": "stream",
     "text": [
      "age\n"
     ]
    },
    {
     "name": "stderr",
     "output_type": "stream",
     "text": [
      "100%|██████████████████████████████████████████| 75/75 [00:00<00:00, 259.79it/s]\n"
     ]
    },
    {
     "name": "stdout",
     "output_type": "stream",
     "text": [
      "default\n"
     ]
    },
    {
     "name": "stderr",
     "output_type": "stream",
     "text": [
      "100%|████████████████████████████████████████████| 1/1 [00:00<00:00, 189.03it/s]\n"
     ]
    },
    {
     "name": "stdout",
     "output_type": "stream",
     "text": [
      "balance\n"
     ]
    },
    {
     "name": "stderr",
     "output_type": "stream",
     "text": [
      "100%|██████████████████████████████████████| 7167/7167 [00:25<00:00, 277.36it/s]\n"
     ]
    },
    {
     "name": "stdout",
     "output_type": "stream",
     "text": [
      "housing\n"
     ]
    },
    {
     "name": "stderr",
     "output_type": "stream",
     "text": [
      "100%|████████████████████████████████████████████| 1/1 [00:00<00:00, 227.37it/s]\n"
     ]
    },
    {
     "name": "stdout",
     "output_type": "stream",
     "text": [
      "loan\n"
     ]
    },
    {
     "name": "stderr",
     "output_type": "stream",
     "text": [
      "100%|████████████████████████████████████████████| 1/1 [00:00<00:00, 195.31it/s]\n"
     ]
    },
    {
     "name": "stdout",
     "output_type": "stream",
     "text": [
      "day\n"
     ]
    },
    {
     "name": "stderr",
     "output_type": "stream",
     "text": [
      "100%|██████████████████████████████████████████| 30/30 [00:00<00:00, 258.23it/s]\n"
     ]
    },
    {
     "name": "stdout",
     "output_type": "stream",
     "text": [
      "month\n"
     ]
    },
    {
     "name": "stderr",
     "output_type": "stream",
     "text": [
      "100%|██████████████████████████████████████████| 11/11 [00:00<00:00, 236.45it/s]\n"
     ]
    },
    {
     "name": "stdout",
     "output_type": "stream",
     "text": [
      "pdays\n"
     ]
    },
    {
     "name": "stderr",
     "output_type": "stream",
     "text": [
      "100%|████████████████████████████████████████| 533/533 [00:02<00:00, 259.55it/s]\n"
     ]
    },
    {
     "name": "stdout",
     "output_type": "stream",
     "text": [
      "previous\n"
     ]
    },
    {
     "name": "stderr",
     "output_type": "stream",
     "text": [
      "100%|██████████████████████████████████████████| 40/40 [00:00<00:00, 225.57it/s]\n"
     ]
    },
    {
     "name": "stdout",
     "output_type": "stream",
     "text": [
      "job_admin.\n"
     ]
    },
    {
     "name": "stderr",
     "output_type": "stream",
     "text": [
      "100%|████████████████████████████████████████████| 1/1 [00:00<00:00, 212.32it/s]\n"
     ]
    },
    {
     "name": "stdout",
     "output_type": "stream",
     "text": [
      "job_blue-collar\n"
     ]
    },
    {
     "name": "stderr",
     "output_type": "stream",
     "text": [
      "100%|████████████████████████████████████████████| 1/1 [00:00<00:00, 228.73it/s]\n"
     ]
    },
    {
     "name": "stdout",
     "output_type": "stream",
     "text": [
      "job_entrepreneur\n"
     ]
    },
    {
     "name": "stderr",
     "output_type": "stream",
     "text": [
      "100%|████████████████████████████████████████████| 1/1 [00:00<00:00, 229.21it/s]\n"
     ]
    },
    {
     "name": "stdout",
     "output_type": "stream",
     "text": [
      "job_housemaid\n"
     ]
    },
    {
     "name": "stderr",
     "output_type": "stream",
     "text": [
      "100%|████████████████████████████████████████████| 1/1 [00:00<00:00, 212.09it/s]\n"
     ]
    },
    {
     "name": "stdout",
     "output_type": "stream",
     "text": [
      "job_management\n"
     ]
    },
    {
     "name": "stderr",
     "output_type": "stream",
     "text": [
      "100%|████████████████████████████████████████████| 1/1 [00:00<00:00, 220.50it/s]\n"
     ]
    },
    {
     "name": "stdout",
     "output_type": "stream",
     "text": [
      "job_retired\n"
     ]
    },
    {
     "name": "stderr",
     "output_type": "stream",
     "text": [
      "100%|████████████████████████████████████████████| 1/1 [00:00<00:00, 240.38it/s]\n"
     ]
    },
    {
     "name": "stdout",
     "output_type": "stream",
     "text": [
      "job_self-employed\n"
     ]
    },
    {
     "name": "stderr",
     "output_type": "stream",
     "text": [
      "100%|████████████████████████████████████████████| 1/1 [00:00<00:00, 227.57it/s]\n"
     ]
    },
    {
     "name": "stdout",
     "output_type": "stream",
     "text": [
      "job_services\n"
     ]
    },
    {
     "name": "stderr",
     "output_type": "stream",
     "text": [
      "100%|████████████████████████████████████████████| 1/1 [00:00<00:00, 220.80it/s]\n"
     ]
    },
    {
     "name": "stdout",
     "output_type": "stream",
     "text": [
      "job_student\n"
     ]
    },
    {
     "name": "stderr",
     "output_type": "stream",
     "text": [
      "100%|████████████████████████████████████████████| 1/1 [00:00<00:00, 192.89it/s]\n"
     ]
    },
    {
     "name": "stdout",
     "output_type": "stream",
     "text": [
      "job_technician\n"
     ]
    },
    {
     "name": "stderr",
     "output_type": "stream",
     "text": [
      "100%|████████████████████████████████████████████| 1/1 [00:00<00:00, 206.79it/s]\n"
     ]
    },
    {
     "name": "stdout",
     "output_type": "stream",
     "text": [
      "job_unemployed\n"
     ]
    },
    {
     "name": "stderr",
     "output_type": "stream",
     "text": [
      "100%|████████████████████████████████████████████| 1/1 [00:00<00:00, 202.71it/s]\n"
     ]
    },
    {
     "name": "stdout",
     "output_type": "stream",
     "text": [
      "job_unknown\n"
     ]
    },
    {
     "name": "stderr",
     "output_type": "stream",
     "text": [
      "100%|████████████████████████████████████████████| 1/1 [00:00<00:00, 237.70it/s]\n"
     ]
    },
    {
     "name": "stdout",
     "output_type": "stream",
     "text": [
      "marital_divorced\n"
     ]
    },
    {
     "name": "stderr",
     "output_type": "stream",
     "text": [
      "100%|████████████████████████████████████████████| 1/1 [00:00<00:00, 242.71it/s]\n"
     ]
    },
    {
     "name": "stdout",
     "output_type": "stream",
     "text": [
      "marital_married\n"
     ]
    },
    {
     "name": "stderr",
     "output_type": "stream",
     "text": [
      "100%|████████████████████████████████████████████| 1/1 [00:00<00:00, 201.86it/s]\n"
     ]
    },
    {
     "name": "stdout",
     "output_type": "stream",
     "text": [
      "marital_single\n"
     ]
    },
    {
     "name": "stderr",
     "output_type": "stream",
     "text": [
      "100%|████████████████████████████████████████████| 1/1 [00:00<00:00, 249.94it/s]\n"
     ]
    },
    {
     "name": "stdout",
     "output_type": "stream",
     "text": [
      "education_primary\n"
     ]
    },
    {
     "name": "stderr",
     "output_type": "stream",
     "text": [
      "100%|████████████████████████████████████████████| 1/1 [00:00<00:00, 201.61it/s]\n"
     ]
    },
    {
     "name": "stdout",
     "output_type": "stream",
     "text": [
      "education_secondary\n"
     ]
    },
    {
     "name": "stderr",
     "output_type": "stream",
     "text": [
      "100%|████████████████████████████████████████████| 1/1 [00:00<00:00, 237.30it/s]\n"
     ]
    },
    {
     "name": "stdout",
     "output_type": "stream",
     "text": [
      "education_tertiary\n"
     ]
    },
    {
     "name": "stderr",
     "output_type": "stream",
     "text": [
      "100%|████████████████████████████████████████████| 1/1 [00:00<00:00, 194.81it/s]\n"
     ]
    },
    {
     "name": "stdout",
     "output_type": "stream",
     "text": [
      "education_unknown\n"
     ]
    },
    {
     "name": "stderr",
     "output_type": "stream",
     "text": [
      "100%|████████████████████████████████████████████| 1/1 [00:00<00:00, 225.94it/s]\n"
     ]
    },
    {
     "name": "stdout",
     "output_type": "stream",
     "text": [
      "poutcome_failure\n"
     ]
    },
    {
     "name": "stderr",
     "output_type": "stream",
     "text": [
      "100%|████████████████████████████████████████████| 1/1 [00:00<00:00, 200.92it/s]\n"
     ]
    },
    {
     "name": "stdout",
     "output_type": "stream",
     "text": [
      "poutcome_other\n"
     ]
    },
    {
     "name": "stderr",
     "output_type": "stream",
     "text": [
      "100%|████████████████████████████████████████████| 1/1 [00:00<00:00, 184.61it/s]\n"
     ]
    },
    {
     "name": "stdout",
     "output_type": "stream",
     "text": [
      "poutcome_success\n"
     ]
    },
    {
     "name": "stderr",
     "output_type": "stream",
     "text": [
      "0it [00:00, ?it/s]\n"
     ]
    },
    {
     "name": "stdout",
     "output_type": "stream",
     "text": [
      "poutcome_unknown\n"
     ]
    },
    {
     "name": "stderr",
     "output_type": "stream",
     "text": [
      "100%|████████████████████████████████████████████| 1/1 [00:00<00:00, 218.53it/s]\n"
     ]
    },
    {
     "name": "stdout",
     "output_type": "stream",
     "text": [
      "contact_cellular\n"
     ]
    },
    {
     "name": "stderr",
     "output_type": "stream",
     "text": [
      "100%|████████████████████████████████████████████| 1/1 [00:00<00:00, 193.42it/s]\n"
     ]
    },
    {
     "name": "stdout",
     "output_type": "stream",
     "text": [
      "contact_telephone\n"
     ]
    },
    {
     "name": "stderr",
     "output_type": "stream",
     "text": [
      "100%|████████████████████████████████████████████| 1/1 [00:00<00:00, 213.78it/s]\n"
     ]
    },
    {
     "name": "stdout",
     "output_type": "stream",
     "text": [
      "contact_unknown\n"
     ]
    },
    {
     "name": "stderr",
     "output_type": "stream",
     "text": [
      "100%|████████████████████████████████████████████| 1/1 [00:00<00:00, 266.31it/s]\n"
     ]
    }
   ],
   "source": [
    "tmp_dfs = []\n",
    "for feature in feature_names:\n",
    "    tmp_dfs.append(optimise_one_parameter(\n",
    "      fin_df[fin_df.poutcome_success <= 0.5], feature))\n",
    "opt_df = pd.concat(tmp_dfs)"
   ]
  },
  {
   "cell_type": "code",
   "execution_count": 249,
   "id": "d8c4ce35-4a2b-4811-b86a-b7978ac50520",
   "metadata": {},
   "outputs": [
    {
     "data": {
      "text/html": [
       "<div>\n",
       "<style scoped>\n",
       "    .dataframe tbody tr th:only-of-type {\n",
       "        vertical-align: middle;\n",
       "    }\n",
       "\n",
       "    .dataframe tbody tr th {\n",
       "        vertical-align: top;\n",
       "    }\n",
       "\n",
       "    .dataframe thead th {\n",
       "        text-align: right;\n",
       "    }\n",
       "</style>\n",
       "<table border=\"1\" class=\"dataframe\">\n",
       "  <thead>\n",
       "    <tr style=\"text-align: right;\">\n",
       "      <th></th>\n",
       "      <th>param</th>\n",
       "      <th>threshold</th>\n",
       "      <th>gini</th>\n",
       "      <th>sizes</th>\n",
       "    </tr>\n",
       "  </thead>\n",
       "  <tbody>\n",
       "    <tr>\n",
       "      <th>42</th>\n",
       "      <td>age</td>\n",
       "      <td>60.50</td>\n",
       "      <td>0.17</td>\n",
       "      <td>(42711, 989)</td>\n",
       "    </tr>\n",
       "    <tr>\n",
       "      <th>43</th>\n",
       "      <td>age</td>\n",
       "      <td>61.50</td>\n",
       "      <td>0.17</td>\n",
       "      <td>(42830, 870)</td>\n",
       "    </tr>\n",
       "    <tr>\n",
       "      <th>0</th>\n",
       "      <td>contact_unknown</td>\n",
       "      <td>0.50</td>\n",
       "      <td>0.17</td>\n",
       "      <td>(30692, 13008)</td>\n",
       "    </tr>\n",
       "    <tr>\n",
       "      <th>44</th>\n",
       "      <td>age</td>\n",
       "      <td>62.50</td>\n",
       "      <td>0.18</td>\n",
       "      <td>(42892, 808)</td>\n",
       "    </tr>\n",
       "    <tr>\n",
       "      <th>45</th>\n",
       "      <td>age</td>\n",
       "      <td>63.50</td>\n",
       "      <td>0.18</td>\n",
       "      <td>(42957, 743)</td>\n",
       "    </tr>\n",
       "  </tbody>\n",
       "</table>\n",
       "</div>"
      ],
      "text/plain": [
       "              param  threshold  gini           sizes\n",
       "42              age      60.50  0.17    (42711, 989)\n",
       "43              age      61.50  0.17    (42830, 870)\n",
       "0   contact_unknown       0.50  0.17  (30692, 13008)\n",
       "44              age      62.50  0.18    (42892, 808)\n",
       "45              age      63.50  0.18    (42957, 743)"
      ]
     },
     "execution_count": 249,
     "metadata": {},
     "output_type": "execute_result"
    }
   ],
   "source": [
    "opt_df.sort_values('gini', ascending = True).head(5)"
   ]
  },
  {
   "cell_type": "code",
   "execution_count": 250,
   "id": "399269de-21b9-4047-8f4f-cd9df9f52fd5",
   "metadata": {},
   "outputs": [],
   "source": [
    "model = sklearn.tree.DecisionTreeClassifier(min_samples_leaf = 1000, min_impurity_decrease=0.001)\n",
    "model.fit(fin_df[feature_names], fin_df['y'])\n",
    "\n",
    "dot_data = sklearn.tree.export_graphviz(\n",
    "    model, out_file=None, feature_names = feature_names, filled = True, \n",
    "    proportion = True, precision=2, impurity = True)\n",
    "\n",
    "graph = graphviz.Source(dot_data)\n",
    "\n",
    "png_bytes = graph.pipe(format='png')\n",
    "with open('decision_tree.png','wb') as f:\n",
    "    f.write(png_bytes)"
   ]
  },
  {
   "cell_type": "code",
   "execution_count": 251,
   "id": "5970c908-0123-43a5-b96a-ef441753e6a3",
   "metadata": {},
   "outputs": [
    {
     "data": {
      "image/svg+xml": [
       "<?xml version=\"1.0\" encoding=\"UTF-8\" standalone=\"no\"?>\n",
       "<!DOCTYPE svg PUBLIC \"-//W3C//DTD SVG 1.1//EN\"\n",
       " \"http://www.w3.org/Graphics/SVG/1.1/DTD/svg11.dtd\">\n",
       "<!-- Generated by graphviz version 12.0.0 (20240704.0754)\n",
       " -->\n",
       "<!-- Title: Tree Pages: 1 -->\n",
       "<svg width=\"681pt\" height=\"685pt\"\n",
       " viewBox=\"0.00 0.00 680.50 685.00\" xmlns=\"http://www.w3.org/2000/svg\" xmlns:xlink=\"http://www.w3.org/1999/xlink\">\n",
       "<g id=\"graph0\" class=\"graph\" transform=\"scale(1 1) rotate(0) translate(4 681)\">\n",
       "<title>Tree</title>\n",
       "<polygon fill=\"white\" stroke=\"none\" points=\"-4,4 -4,-681 676.5,-681 676.5,4 -4,4\"/>\n",
       "<!-- 0 -->\n",
       "<g id=\"node1\" class=\"node\">\n",
       "<title>0</title>\n",
       "<polygon fill=\"#e89253\" stroke=\"black\" points=\"611.25,-677 436.25,-677 436.25,-609 611.25,-609 611.25,-677\"/>\n",
       "<text text-anchor=\"middle\" x=\"523.75\" y=\"-659.7\" font-family=\"Helvetica,sans-Serif\" font-size=\"14.00\">poutcome_success &lt;= 0.5</text>\n",
       "<text text-anchor=\"middle\" x=\"523.75\" y=\"-644.7\" font-family=\"Helvetica,sans-Serif\" font-size=\"14.00\">gini = 0.21</text>\n",
       "<text text-anchor=\"middle\" x=\"523.75\" y=\"-629.7\" font-family=\"Helvetica,sans-Serif\" font-size=\"14.00\">samples = 100.0%</text>\n",
       "<text text-anchor=\"middle\" x=\"523.75\" y=\"-614.7\" font-family=\"Helvetica,sans-Serif\" font-size=\"14.00\">value = [0.88, 0.12]</text>\n",
       "</g>\n",
       "<!-- 1 -->\n",
       "<g id=\"node2\" class=\"node\">\n",
       "<title>1</title>\n",
       "<polygon fill=\"#e88f4f\" stroke=\"black\" points=\"522.62,-573 358.88,-573 358.88,-505 522.62,-505 522.62,-573\"/>\n",
       "<text text-anchor=\"middle\" x=\"440.75\" y=\"-555.7\" font-family=\"Helvetica,sans-Serif\" font-size=\"14.00\">contact_unknown &lt;= 0.5</text>\n",
       "<text text-anchor=\"middle\" x=\"440.75\" y=\"-540.7\" font-family=\"Helvetica,sans-Serif\" font-size=\"14.00\">gini = 0.18</text>\n",
       "<text text-anchor=\"middle\" x=\"440.75\" y=\"-525.7\" font-family=\"Helvetica,sans-Serif\" font-size=\"14.00\">samples = 96.7%</text>\n",
       "<text text-anchor=\"middle\" x=\"440.75\" y=\"-510.7\" font-family=\"Helvetica,sans-Serif\" font-size=\"14.00\">value = [0.9, 0.1]</text>\n",
       "</g>\n",
       "<!-- 0&#45;&gt;1 -->\n",
       "<g id=\"edge1\" class=\"edge\">\n",
       "<title>0&#45;&gt;1</title>\n",
       "<path fill=\"none\" stroke=\"black\" d=\"M496.57,-608.6C489.69,-600.15 482.22,-590.96 475.04,-582.13\"/>\n",
       "<polygon fill=\"black\" stroke=\"black\" points=\"477.97,-580.2 468.94,-574.65 472.54,-584.61 477.97,-580.2\"/>\n",
       "<text text-anchor=\"middle\" x=\"465.43\" y=\"-592.54\" font-family=\"Helvetica,sans-Serif\" font-size=\"14.00\">True</text>\n",
       "</g>\n",
       "<!-- 12 -->\n",
       "<g id=\"node13\" class=\"node\">\n",
       "<title>12</title>\n",
       "<polygon fill=\"#a5d2f3\" stroke=\"black\" points=\"672.5,-565.5 541,-565.5 541,-512.5 672.5,-512.5 672.5,-565.5\"/>\n",
       "<text text-anchor=\"middle\" x=\"606.75\" y=\"-548.2\" font-family=\"Helvetica,sans-Serif\" font-size=\"14.00\">gini = 0.46</text>\n",
       "<text text-anchor=\"middle\" x=\"606.75\" y=\"-533.2\" font-family=\"Helvetica,sans-Serif\" font-size=\"14.00\">samples = 3.3%</text>\n",
       "<text text-anchor=\"middle\" x=\"606.75\" y=\"-518.2\" font-family=\"Helvetica,sans-Serif\" font-size=\"14.00\">value = [0.35, 0.65]</text>\n",
       "</g>\n",
       "<!-- 0&#45;&gt;12 -->\n",
       "<g id=\"edge12\" class=\"edge\">\n",
       "<title>0&#45;&gt;12</title>\n",
       "<path fill=\"none\" stroke=\"black\" d=\"M550.93,-608.6C559.79,-597.71 569.65,-585.59 578.59,-574.61\"/>\n",
       "<polygon fill=\"black\" stroke=\"black\" points=\"581.28,-576.85 584.88,-566.88 575.85,-572.43 581.28,-576.85\"/>\n",
       "<text text-anchor=\"middle\" x=\"588.39\" y=\"-584.78\" font-family=\"Helvetica,sans-Serif\" font-size=\"14.00\">False</text>\n",
       "</g>\n",
       "<!-- 2 -->\n",
       "<g id=\"node3\" class=\"node\">\n",
       "<title>2</title>\n",
       "<polygon fill=\"#e99355\" stroke=\"black\" points=\"431.5,-469 300,-469 300,-401 431.5,-401 431.5,-469\"/>\n",
       "<text text-anchor=\"middle\" x=\"365.75\" y=\"-451.7\" font-family=\"Helvetica,sans-Serif\" font-size=\"14.00\">age &lt;= 59.5</text>\n",
       "<text text-anchor=\"middle\" x=\"365.75\" y=\"-436.7\" font-family=\"Helvetica,sans-Serif\" font-size=\"14.00\">gini = 0.22</text>\n",
       "<text text-anchor=\"middle\" x=\"365.75\" y=\"-421.7\" font-family=\"Helvetica,sans-Serif\" font-size=\"14.00\">samples = 67.9%</text>\n",
       "<text text-anchor=\"middle\" x=\"365.75\" y=\"-406.7\" font-family=\"Helvetica,sans-Serif\" font-size=\"14.00\">value = [0.88, 0.12]</text>\n",
       "</g>\n",
       "<!-- 1&#45;&gt;2 -->\n",
       "<g id=\"edge2\" class=\"edge\">\n",
       "<title>1&#45;&gt;2</title>\n",
       "<path fill=\"none\" stroke=\"black\" d=\"M416.19,-504.6C410.11,-496.32 403.5,-487.34 397.14,-478.69\"/>\n",
       "<polygon fill=\"black\" stroke=\"black\" points=\"400,-476.68 391.26,-470.69 394.36,-480.82 400,-476.68\"/>\n",
       "</g>\n",
       "<!-- 11 -->\n",
       "<g id=\"node12\" class=\"node\">\n",
       "<title>11</title>\n",
       "<polygon fill=\"#e68641\" stroke=\"black\" points=\"581.5,-461.5 450,-461.5 450,-408.5 581.5,-408.5 581.5,-461.5\"/>\n",
       "<text text-anchor=\"middle\" x=\"515.75\" y=\"-444.2\" font-family=\"Helvetica,sans-Serif\" font-size=\"14.00\">gini = 0.08</text>\n",
       "<text text-anchor=\"middle\" x=\"515.75\" y=\"-429.2\" font-family=\"Helvetica,sans-Serif\" font-size=\"14.00\">samples = 28.8%</text>\n",
       "<text text-anchor=\"middle\" x=\"515.75\" y=\"-414.2\" font-family=\"Helvetica,sans-Serif\" font-size=\"14.00\">value = [0.96, 0.04]</text>\n",
       "</g>\n",
       "<!-- 1&#45;&gt;11 -->\n",
       "<g id=\"edge11\" class=\"edge\">\n",
       "<title>1&#45;&gt;11</title>\n",
       "<path fill=\"none\" stroke=\"black\" d=\"M465.31,-504.6C473.24,-493.82 482.05,-481.83 490.06,-470.94\"/>\n",
       "<polygon fill=\"black\" stroke=\"black\" points=\"492.85,-473.06 495.95,-462.93 487.21,-468.91 492.85,-473.06\"/>\n",
       "</g>\n",
       "<!-- 3 -->\n",
       "<g id=\"node4\" class=\"node\">\n",
       "<title>3</title>\n",
       "<polygon fill=\"#e89153\" stroke=\"black\" points=\"356.5,-365 225,-365 225,-297 356.5,-297 356.5,-365\"/>\n",
       "<text text-anchor=\"middle\" x=\"290.75\" y=\"-347.7\" font-family=\"Helvetica,sans-Serif\" font-size=\"14.00\">housing &lt;= 0.5</text>\n",
       "<text text-anchor=\"middle\" x=\"290.75\" y=\"-332.7\" font-family=\"Helvetica,sans-Serif\" font-size=\"14.00\">gini = 0.2</text>\n",
       "<text text-anchor=\"middle\" x=\"290.75\" y=\"-317.7\" font-family=\"Helvetica,sans-Serif\" font-size=\"14.00\">samples = 64.9%</text>\n",
       "<text text-anchor=\"middle\" x=\"290.75\" y=\"-302.7\" font-family=\"Helvetica,sans-Serif\" font-size=\"14.00\">value = [0.89, 0.11]</text>\n",
       "</g>\n",
       "<!-- 2&#45;&gt;3 -->\n",
       "<g id=\"edge3\" class=\"edge\">\n",
       "<title>2&#45;&gt;3</title>\n",
       "<path fill=\"none\" stroke=\"black\" d=\"M341.19,-400.6C335.11,-392.32 328.5,-383.34 322.14,-374.69\"/>\n",
       "<polygon fill=\"black\" stroke=\"black\" points=\"325,-372.68 316.26,-366.69 319.36,-376.82 325,-372.68\"/>\n",
       "</g>\n",
       "<!-- 10 -->\n",
       "<g id=\"node11\" class=\"node\">\n",
       "<title>10</title>\n",
       "<polygon fill=\"#f1ba93\" stroke=\"black\" points=\"506.5,-357.5 375,-357.5 375,-304.5 506.5,-304.5 506.5,-357.5\"/>\n",
       "<text text-anchor=\"middle\" x=\"440.75\" y=\"-340.2\" font-family=\"Helvetica,sans-Serif\" font-size=\"14.00\">gini = 0.43</text>\n",
       "<text text-anchor=\"middle\" x=\"440.75\" y=\"-325.2\" font-family=\"Helvetica,sans-Serif\" font-size=\"14.00\">samples = 3.0%</text>\n",
       "<text text-anchor=\"middle\" x=\"440.75\" y=\"-310.2\" font-family=\"Helvetica,sans-Serif\" font-size=\"14.00\">value = [0.69, 0.31]</text>\n",
       "</g>\n",
       "<!-- 2&#45;&gt;10 -->\n",
       "<g id=\"edge10\" class=\"edge\">\n",
       "<title>2&#45;&gt;10</title>\n",
       "<path fill=\"none\" stroke=\"black\" d=\"M390.31,-400.6C398.24,-389.82 407.05,-377.83 415.06,-366.94\"/>\n",
       "<polygon fill=\"black\" stroke=\"black\" points=\"417.85,-369.06 420.95,-358.93 412.21,-364.91 417.85,-369.06\"/>\n",
       "</g>\n",
       "<!-- 4 -->\n",
       "<g id=\"node5\" class=\"node\">\n",
       "<title>4</title>\n",
       "<polygon fill=\"#e9975b\" stroke=\"black\" points=\"281.5,-261 150,-261 150,-193 281.5,-193 281.5,-261\"/>\n",
       "<text text-anchor=\"middle\" x=\"215.75\" y=\"-243.7\" font-family=\"Helvetica,sans-Serif\" font-size=\"14.00\">month &lt;= 6.5</text>\n",
       "<text text-anchor=\"middle\" x=\"215.75\" y=\"-228.7\" font-family=\"Helvetica,sans-Serif\" font-size=\"14.00\">gini = 0.25</text>\n",
       "<text text-anchor=\"middle\" x=\"215.75\" y=\"-213.7\" font-family=\"Helvetica,sans-Serif\" font-size=\"14.00\">samples = 31.3%</text>\n",
       "<text text-anchor=\"middle\" x=\"215.75\" y=\"-198.7\" font-family=\"Helvetica,sans-Serif\" font-size=\"14.00\">value = [0.85, 0.15]</text>\n",
       "</g>\n",
       "<!-- 3&#45;&gt;4 -->\n",
       "<g id=\"edge4\" class=\"edge\">\n",
       "<title>3&#45;&gt;4</title>\n",
       "<path fill=\"none\" stroke=\"black\" d=\"M266.19,-296.6C260.11,-288.32 253.5,-279.34 247.14,-270.69\"/>\n",
       "<polygon fill=\"black\" stroke=\"black\" points=\"250,-268.68 241.26,-262.69 244.36,-272.82 250,-268.68\"/>\n",
       "</g>\n",
       "<!-- 9 -->\n",
       "<g id=\"node10\" class=\"node\">\n",
       "<title>9</title>\n",
       "<polygon fill=\"#e78d4b\" stroke=\"black\" points=\"431.5,-253.5 300,-253.5 300,-200.5 431.5,-200.5 431.5,-253.5\"/>\n",
       "<text text-anchor=\"middle\" x=\"365.75\" y=\"-236.2\" font-family=\"Helvetica,sans-Serif\" font-size=\"14.00\">gini = 0.15</text>\n",
       "<text text-anchor=\"middle\" x=\"365.75\" y=\"-221.2\" font-family=\"Helvetica,sans-Serif\" font-size=\"14.00\">samples = 33.5%</text>\n",
       "<text text-anchor=\"middle\" x=\"365.75\" y=\"-206.2\" font-family=\"Helvetica,sans-Serif\" font-size=\"14.00\">value = [0.92, 0.08]</text>\n",
       "</g>\n",
       "<!-- 3&#45;&gt;9 -->\n",
       "<g id=\"edge9\" class=\"edge\">\n",
       "<title>3&#45;&gt;9</title>\n",
       "<path fill=\"none\" stroke=\"black\" d=\"M315.31,-296.6C323.24,-285.82 332.05,-273.83 340.06,-262.94\"/>\n",
       "<polygon fill=\"black\" stroke=\"black\" points=\"342.85,-265.06 345.95,-254.93 337.21,-260.91 342.85,-265.06\"/>\n",
       "</g>\n",
       "<!-- 5 -->\n",
       "<g id=\"node6\" class=\"node\">\n",
       "<title>5</title>\n",
       "<polygon fill=\"#eda775\" stroke=\"black\" points=\"206.5,-157 75,-157 75,-89 206.5,-89 206.5,-157\"/>\n",
       "<text text-anchor=\"middle\" x=\"140.75\" y=\"-139.7\" font-family=\"Helvetica,sans-Serif\" font-size=\"14.00\">month &lt;= 2.5</text>\n",
       "<text text-anchor=\"middle\" x=\"140.75\" y=\"-124.7\" font-family=\"Helvetica,sans-Serif\" font-size=\"14.00\">gini = 0.36</text>\n",
       "<text text-anchor=\"middle\" x=\"140.75\" y=\"-109.7\" font-family=\"Helvetica,sans-Serif\" font-size=\"14.00\">samples = 9.2%</text>\n",
       "<text text-anchor=\"middle\" x=\"140.75\" y=\"-94.7\" font-family=\"Helvetica,sans-Serif\" font-size=\"14.00\">value = [0.77, 0.23]</text>\n",
       "</g>\n",
       "<!-- 4&#45;&gt;5 -->\n",
       "<g id=\"edge5\" class=\"edge\">\n",
       "<title>4&#45;&gt;5</title>\n",
       "<path fill=\"none\" stroke=\"black\" d=\"M191.19,-192.6C185.11,-184.32 178.5,-175.34 172.14,-166.69\"/>\n",
       "<polygon fill=\"black\" stroke=\"black\" points=\"175,-164.68 166.26,-158.69 169.36,-168.82 175,-164.68\"/>\n",
       "</g>\n",
       "<!-- 8 -->\n",
       "<g id=\"node9\" class=\"node\">\n",
       "<title>8</title>\n",
       "<polygon fill=\"#e89152\" stroke=\"black\" points=\"356.5,-149.5 225,-149.5 225,-96.5 356.5,-96.5 356.5,-149.5\"/>\n",
       "<text text-anchor=\"middle\" x=\"290.75\" y=\"-132.2\" font-family=\"Helvetica,sans-Serif\" font-size=\"14.00\">gini = 0.2</text>\n",
       "<text text-anchor=\"middle\" x=\"290.75\" y=\"-117.2\" font-family=\"Helvetica,sans-Serif\" font-size=\"14.00\">samples = 22.1%</text>\n",
       "<text text-anchor=\"middle\" x=\"290.75\" y=\"-102.2\" font-family=\"Helvetica,sans-Serif\" font-size=\"14.00\">value = [0.89, 0.11]</text>\n",
       "</g>\n",
       "<!-- 4&#45;&gt;8 -->\n",
       "<g id=\"edge8\" class=\"edge\">\n",
       "<title>4&#45;&gt;8</title>\n",
       "<path fill=\"none\" stroke=\"black\" d=\"M240.31,-192.6C248.24,-181.82 257.05,-169.83 265.06,-158.94\"/>\n",
       "<polygon fill=\"black\" stroke=\"black\" points=\"267.85,-161.06 270.95,-150.93 262.21,-156.91 267.85,-161.06\"/>\n",
       "</g>\n",
       "<!-- 6 -->\n",
       "<g id=\"node7\" class=\"node\">\n",
       "<title>6</title>\n",
       "<polygon fill=\"#e99456\" stroke=\"black\" points=\"131.5,-53 0,-53 0,0 131.5,0 131.5,-53\"/>\n",
       "<text text-anchor=\"middle\" x=\"65.75\" y=\"-35.7\" font-family=\"Helvetica,sans-Serif\" font-size=\"14.00\">gini = 0.23</text>\n",
       "<text text-anchor=\"middle\" x=\"65.75\" y=\"-20.7\" font-family=\"Helvetica,sans-Serif\" font-size=\"14.00\">samples = 4.5%</text>\n",
       "<text text-anchor=\"middle\" x=\"65.75\" y=\"-5.7\" font-family=\"Helvetica,sans-Serif\" font-size=\"14.00\">value = [0.87, 0.13]</text>\n",
       "</g>\n",
       "<!-- 5&#45;&gt;6 -->\n",
       "<g id=\"edge6\" class=\"edge\">\n",
       "<title>5&#45;&gt;6</title>\n",
       "<path fill=\"none\" stroke=\"black\" d=\"M114.31,-88.68C107.48,-80.09 100.12,-70.81 93.25,-62.15\"/>\n",
       "<polygon fill=\"black\" stroke=\"black\" points=\"96.2,-60.24 87.24,-54.58 90.72,-64.59 96.2,-60.24\"/>\n",
       "</g>\n",
       "<!-- 7 -->\n",
       "<g id=\"node8\" class=\"node\">\n",
       "<title>7</title>\n",
       "<polygon fill=\"#f2c09c\" stroke=\"black\" points=\"281.5,-53 150,-53 150,0 281.5,0 281.5,-53\"/>\n",
       "<text text-anchor=\"middle\" x=\"215.75\" y=\"-35.7\" font-family=\"Helvetica,sans-Serif\" font-size=\"14.00\">gini = 0.44</text>\n",
       "<text text-anchor=\"middle\" x=\"215.75\" y=\"-20.7\" font-family=\"Helvetica,sans-Serif\" font-size=\"14.00\">samples = 4.7%</text>\n",
       "<text text-anchor=\"middle\" x=\"215.75\" y=\"-5.7\" font-family=\"Helvetica,sans-Serif\" font-size=\"14.00\">value = [0.67, 0.33]</text>\n",
       "</g>\n",
       "<!-- 5&#45;&gt;7 -->\n",
       "<g id=\"edge7\" class=\"edge\">\n",
       "<title>5&#45;&gt;7</title>\n",
       "<path fill=\"none\" stroke=\"black\" d=\"M167.19,-88.68C174.02,-80.09 181.38,-70.81 188.25,-62.15\"/>\n",
       "<polygon fill=\"black\" stroke=\"black\" points=\"190.78,-64.59 194.26,-54.58 185.3,-60.24 190.78,-64.59\"/>\n",
       "</g>\n",
       "</g>\n",
       "</svg>\n"
      ],
      "text/plain": [
       "<graphviz.sources.Source at 0x152258fd0>"
      ]
     },
     "execution_count": 251,
     "metadata": {},
     "output_type": "execute_result"
    }
   ],
   "source": [
    "graph"
   ]
  },
  {
   "cell_type": "code",
   "execution_count": 252,
   "id": "d7215554-f253-4e22-b55b-c5f71e30ca96",
   "metadata": {},
   "outputs": [
    {
     "data": {
      "text/plain": [
       "13"
      ]
     },
     "execution_count": 252,
     "metadata": {},
     "output_type": "execute_result"
    }
   ],
   "source": [
    "n_nodes = model.tree_.node_count\n",
    "n_nodes"
   ]
  },
  {
   "cell_type": "code",
   "execution_count": 253,
   "id": "92d755ae-bdef-4af0-b18b-f46447a8b20f",
   "metadata": {},
   "outputs": [
    {
     "data": {
      "text/plain": [
       "(array([ 1,  2,  3,  4,  5,  6, -1, -1, -1, -1, -1, -1, -1], dtype=int64),\n",
       " array([12, 11, 10,  9,  8,  7, -1, -1, -1, -1, -1, -1, -1], dtype=int64))"
      ]
     },
     "execution_count": 253,
     "metadata": {},
     "output_type": "execute_result"
    }
   ],
   "source": [
    "children_left = model.tree_.children_left\n",
    "children_right = model.tree_.children_right\n",
    "children_left, children_right"
   ]
  },
  {
   "cell_type": "code",
   "execution_count": 254,
   "id": "4b4ee182-0388-44b9-bdb8-dc098e1d6c32",
   "metadata": {},
   "outputs": [
    {
     "data": {
      "text/plain": [
       "array([30, 34,  0,  3,  6,  6, -2, -2, -2, -2, -2, -2, -2], dtype=int64)"
      ]
     },
     "execution_count": 254,
     "metadata": {},
     "output_type": "execute_result"
    }
   ],
   "source": [
    "features = model.tree_.feature\n",
    "features"
   ]
  },
  {
   "cell_type": "code",
   "execution_count": 255,
   "id": "f38966dd-508d-485f-8a35-b78f2e82ff1a",
   "metadata": {},
   "outputs": [
    {
     "data": {
      "text/plain": [
       "array([ 0.5,  0.5, 59.5,  0.5,  6.5,  2.5, -2. , -2. , -2. , -2. , -2. ,\n",
       "       -2. , -2. ])"
      ]
     },
     "execution_count": 255,
     "metadata": {},
     "output_type": "execute_result"
    }
   ],
   "source": [
    "thresholds = model.tree_.threshold\n",
    "thresholds"
   ]
  },
  {
   "cell_type": "code",
   "execution_count": 256,
   "id": "834aed5a-0672-4741-8742-32dfde80b543",
   "metadata": {},
   "outputs": [
    {
     "data": {
      "text/plain": [
       "array([[[0.8830152 , 0.1169848 ]],\n",
       "\n",
       "       [[0.90135011, 0.09864989]],\n",
       "\n",
       "       [[0.87671054, 0.12328946]],\n",
       "\n",
       "       [[0.88550191, 0.11449809]],\n",
       "\n",
       "       [[0.8530886 , 0.1469114 ]],\n",
       "\n",
       "       [[0.76686675, 0.23313325]],\n",
       "\n",
       "       [[0.87043351, 0.12956649]],\n",
       "\n",
       "       [[0.66619318, 0.33380682]],\n",
       "\n",
       "       [[0.889     , 0.111     ]],\n",
       "\n",
       "       [[0.91578184, 0.08421816]],\n",
       "\n",
       "       [[0.68768328, 0.31231672]],\n",
       "\n",
       "       [[0.95948647, 0.04051353]],\n",
       "\n",
       "       [[0.35274653, 0.64725347]]])"
      ]
     },
     "execution_count": 256,
     "metadata": {},
     "output_type": "execute_result"
    }
   ],
   "source": [
    "values = model.tree_.value\n",
    "values"
   ]
  },
  {
   "cell_type": "code",
   "execution_count": 257,
   "id": "fb8dceff-d18b-4868-a164-b0aa3324d3cb",
   "metadata": {},
   "outputs": [
    {
     "data": {
      "text/plain": [
       "array([45211, 43700, 30692, 29328, 14165,  4165,  2053,  2112, 10000,\n",
       "       15163,  1364, 13008,  1511], dtype=int64)"
      ]
     },
     "execution_count": 257,
     "metadata": {},
     "output_type": "execute_result"
    }
   ],
   "source": [
    "num_nodes = model.tree_.n_node_samples\n",
    "num_nodes"
   ]
  },
  {
   "cell_type": "code",
   "execution_count": 258,
   "id": "0cd6c60a-f03a-4e2d-bf21-4980b88346b8",
   "metadata": {},
   "outputs": [],
   "source": [
    "hierarchy = {}\n",
    "\n",
    "for node_id in range(n_nodes):\n",
    "    # print(node_id, '->', children_left[node_id], children_right[node_id])\n",
    "    if children_left[node_id] != -1:\n",
    "        hierarchy[children_left[node_id]] = {'parent': node_id, 'condition': 'left'}\n",
    "    if children_right[node_id] != -1:\n",
    "        hierarchy[children_right[node_id]] = {'parent': node_id, 'condition': 'right'}"
   ]
  },
  {
   "cell_type": "code",
   "execution_count": 259,
   "id": "3afcffc2-004c-45bf-96dc-a93708304fc0",
   "metadata": {},
   "outputs": [
    {
     "data": {
      "text/plain": [
       "{1: {'parent': 0, 'condition': 'left'},\n",
       " 12: {'parent': 0, 'condition': 'right'},\n",
       " 2: {'parent': 1, 'condition': 'left'},\n",
       " 11: {'parent': 1, 'condition': 'right'},\n",
       " 3: {'parent': 2, 'condition': 'left'},\n",
       " 10: {'parent': 2, 'condition': 'right'},\n",
       " 4: {'parent': 3, 'condition': 'left'},\n",
       " 9: {'parent': 3, 'condition': 'right'},\n",
       " 5: {'parent': 4, 'condition': 'left'},\n",
       " 8: {'parent': 4, 'condition': 'right'},\n",
       " 6: {'parent': 5, 'condition': 'left'},\n",
       " 7: {'parent': 5, 'condition': 'right'}}"
      ]
     },
     "execution_count": 259,
     "metadata": {},
     "output_type": "execute_result"
    }
   ],
   "source": [
    "hierarchy"
   ]
  },
  {
   "cell_type": "code",
   "execution_count": 260,
   "id": "1025b5e6-2d46-492f-a03b-0bb17ee5da96",
   "metadata": {},
   "outputs": [],
   "source": [
    "leaves = []\n",
    "for node_id in range(n_nodes):\n",
    "    if (children_left[node_id] == -1) and (children_right[node_id] == -1):\n",
    "        leaves.append(node_id)"
   ]
  },
  {
   "cell_type": "code",
   "execution_count": 261,
   "id": "7f0d12b5-d833-46f4-92c1-04da4e168e34",
   "metadata": {},
   "outputs": [
    {
     "data": {
      "text/plain": [
       "[6, 7, 8, 9, 10, 11, 12]"
      ]
     },
     "execution_count": 261,
     "metadata": {},
     "output_type": "execute_result"
    }
   ],
   "source": [
    "leaves"
   ]
  },
  {
   "cell_type": "code",
   "execution_count": 262,
   "id": "065eeafc-9b56-4fe1-bf93-47982a166287",
   "metadata": {},
   "outputs": [
    {
     "data": {
      "text/html": [
       "<div>\n",
       "<style scoped>\n",
       "    .dataframe tbody tr th:only-of-type {\n",
       "        vertical-align: middle;\n",
       "    }\n",
       "\n",
       "    .dataframe tbody tr th {\n",
       "        vertical-align: top;\n",
       "    }\n",
       "\n",
       "    .dataframe thead th {\n",
       "        text-align: right;\n",
       "    }\n",
       "</style>\n",
       "<table border=\"1\" class=\"dataframe\">\n",
       "  <thead>\n",
       "    <tr style=\"text-align: right;\">\n",
       "      <th></th>\n",
       "      <th>node_id</th>\n",
       "    </tr>\n",
       "  </thead>\n",
       "  <tbody>\n",
       "    <tr>\n",
       "      <th>0</th>\n",
       "      <td>6</td>\n",
       "    </tr>\n",
       "    <tr>\n",
       "      <th>1</th>\n",
       "      <td>7</td>\n",
       "    </tr>\n",
       "    <tr>\n",
       "      <th>2</th>\n",
       "      <td>8</td>\n",
       "    </tr>\n",
       "    <tr>\n",
       "      <th>3</th>\n",
       "      <td>9</td>\n",
       "    </tr>\n",
       "    <tr>\n",
       "      <th>4</th>\n",
       "      <td>10</td>\n",
       "    </tr>\n",
       "    <tr>\n",
       "      <th>5</th>\n",
       "      <td>11</td>\n",
       "    </tr>\n",
       "    <tr>\n",
       "      <th>6</th>\n",
       "      <td>12</td>\n",
       "    </tr>\n",
       "  </tbody>\n",
       "</table>\n",
       "</div>"
      ],
      "text/plain": [
       "   node_id\n",
       "0        6\n",
       "1        7\n",
       "2        8\n",
       "3        9\n",
       "4       10\n",
       "5       11\n",
       "6       12"
      ]
     },
     "execution_count": 262,
     "metadata": {},
     "output_type": "execute_result"
    }
   ],
   "source": [
    "leaves_df = pd.DataFrame({'node_id': leaves})\n",
    "leaves_df"
   ]
  },
  {
   "cell_type": "code",
   "execution_count": 452,
   "id": "9dba1c8d-1d6c-488c-be07-892447cdaa4a",
   "metadata": {},
   "outputs": [],
   "source": [
    "def get_condition(node_id, condition, features, thresholds, feature_names):\n",
    "    # print(node_id, condition)\n",
    "    feature = feature_names[features[node_id]]\n",
    "    threshold = thresholds[node_id]\n",
    "    cond = '>' if condition == 'right'  else '<='\n",
    "    return (feature, cond, threshold)"
   ]
  },
  {
   "cell_type": "code",
   "execution_count": 454,
   "id": "bbc7d8ac-b1dc-45ef-a2c8-ef04b68ded0f",
   "metadata": {},
   "outputs": [
    {
     "data": {
      "text/plain": [
       "('poutcome_success', '<=', 0.5)"
      ]
     },
     "execution_count": 454,
     "metadata": {},
     "output_type": "execute_result"
    }
   ],
   "source": [
    "get_condition(0, 'left', features, thresholds, feature_names)"
   ]
  },
  {
   "cell_type": "code",
   "execution_count": 455,
   "id": "a1edd507-95fb-4c5d-b12d-55de3f4a6913",
   "metadata": {},
   "outputs": [
    {
     "data": {
      "text/plain": [
       "('poutcome_success', '>', 0.5)"
      ]
     },
     "execution_count": 455,
     "metadata": {},
     "output_type": "execute_result"
    }
   ],
   "source": [
    "get_condition(0, 'right', features, thresholds, feature_names)"
   ]
  },
  {
   "cell_type": "code",
   "execution_count": 456,
   "id": "79bc6654-d11a-465c-af77-72683dbfe077",
   "metadata": {},
   "outputs": [
    {
     "name": "stdout",
     "output_type": "stream",
     "text": [
      "[(0, 'right')]\n",
      "[('poutcome_success', '>', 0.5)]\n"
     ]
    }
   ],
   "source": [
    "def get_decision_path_rec(node_id, decision_path, hierarchy):\n",
    "    if node_id == 0:\n",
    "        yield decision_path \n",
    "    else:\n",
    "        parent_id = hierarchy[node_id]['parent']\n",
    "        condition = hierarchy[node_id]['condition']\n",
    "        for res in get_decision_path_rec(parent_id, decision_path + [(parent_id, condition)], hierarchy):\n",
    "            yield res\n",
    "\n",
    "decision_path = list(get_decision_path_rec(12, [], hierarchy))[0]\n",
    "print(decision_path) \n",
    "fmt_decision_path = list(map(lambda x: get_condition(x[0], x[1], features, thresholds, feature_names), decision_path))\n",
    "print(fmt_decision_path)"
   ]
  },
  {
   "cell_type": "code",
   "execution_count": 463,
   "id": "4c2d9432-cfcc-418d-992b-4a7c0849a3f6",
   "metadata": {},
   "outputs": [],
   "source": [
    "def get_decision_path(node_id, features, thresholds, hierarchy, feature_names):\n",
    "  decision_path = list(get_decision_path_rec(node_id, [], hierarchy))[0]\n",
    "  return list(map(lambda x: get_condition(x[0], x[1], features, thresholds, feature_names), decision_path))"
   ]
  },
  {
   "cell_type": "code",
   "execution_count": 464,
   "id": "280f6437-d3fc-4393-9166-c2fae73544e4",
   "metadata": {},
   "outputs": [],
   "source": [
    "def get_decision_path_string(node_id, features, thresholds, hierarchy, feature_names):\n",
    "  conditions_df = pd.DataFrame(get_decision_path(node_id, features, thresholds, hierarchy, feature_names))\n",
    "  conditions_df.columns = ['feature', 'condition', 'threshold']\n",
    "\n",
    "  left_conditions_df = conditions_df[conditions_df.condition == '<=']\n",
    "  right_conditions_df = conditions_df[conditions_df.condition == '>']\n",
    "\n",
    "  # deduplication \n",
    "  left_conditions_df = left_conditions_df.groupby(['feature', 'condition'], as_index = False).min()\n",
    "  right_conditions_df = right_conditions_df.groupby(['feature', 'condition'], as_index = False).max()\n",
    "  \n",
    "  # concatination\n",
    "  fin_conditions_df = pd.concat([left_conditions_df, right_conditions_df])\\\n",
    "      .sort_values(['feature', 'condition'], ascending = False)\n",
    "  # formatting \n",
    "  fin_conditions_df['cond_string'] = list(map(\n",
    "      lambda x, y, z: '(%s %s %.2f)' % (x, y, z),\n",
    "      fin_conditions_df.feature,\n",
    "      fin_conditions_df.condition,\n",
    "      fin_conditions_df.threshold\n",
    "  ))\n",
    "  return ' and '.join(fin_conditions_df.cond_string.values)"
   ]
  },
  {
   "cell_type": "code",
   "execution_count": 465,
   "id": "fe9e0e6d-7aa7-4015-b256-1f6c8c227fb6",
   "metadata": {},
   "outputs": [
    {
     "data": {
      "text/plain": [
       "'(poutcome_success > 0.50)'"
      ]
     },
     "execution_count": 465,
     "metadata": {},
     "output_type": "execute_result"
    }
   ],
   "source": [
    "get_decision_path_string(12, features, thresholds, hierarchy, feature_names)"
   ]
  },
  {
   "cell_type": "code",
   "execution_count": 467,
   "id": "958d608c-b400-4a47-b8a6-251d9274655a",
   "metadata": {},
   "outputs": [],
   "source": [
    "leaves_df['condition'] = leaves_df['node_id'].map(\n",
    "  lambda x: get_decision_path_string(x, features, thresholds, hierarchy, feature_names)\n",
    ")"
   ]
  },
  {
   "cell_type": "code",
   "execution_count": 468,
   "id": "ca05092f-30a3-4a28-b679-91ba1e2c1ef4",
   "metadata": {},
   "outputs": [
    {
     "data": {
      "text/html": [
       "<div>\n",
       "<style scoped>\n",
       "    .dataframe tbody tr th:only-of-type {\n",
       "        vertical-align: middle;\n",
       "    }\n",
       "\n",
       "    .dataframe tbody tr th {\n",
       "        vertical-align: top;\n",
       "    }\n",
       "\n",
       "    .dataframe thead th {\n",
       "        text-align: right;\n",
       "    }\n",
       "</style>\n",
       "<table border=\"1\" class=\"dataframe\">\n",
       "  <thead>\n",
       "    <tr style=\"text-align: right;\">\n",
       "      <th></th>\n",
       "      <th>node_id</th>\n",
       "      <th>condition</th>\n",
       "      <th>total</th>\n",
       "      <th>conversion</th>\n",
       "      <th>converted_users</th>\n",
       "      <th>share_of_converted</th>\n",
       "      <th>share_of_total</th>\n",
       "    </tr>\n",
       "  </thead>\n",
       "  <tbody>\n",
       "    <tr>\n",
       "      <th>0</th>\n",
       "      <td>6</td>\n",
       "      <td>(poutcome_success &lt;= 0.50) and (month &lt;= 2.50) and (housing &lt;= 0.50) and (contact_unknown &lt;= 0.50) and (age &lt;= 59.50)</td>\n",
       "      <td>2053</td>\n",
       "      <td>12.96</td>\n",
       "      <td>266</td>\n",
       "      <td>5.03</td>\n",
       "      <td>4.54</td>\n",
       "    </tr>\n",
       "    <tr>\n",
       "      <th>1</th>\n",
       "      <td>7</td>\n",
       "      <td>(poutcome_success &lt;= 0.50) and (month &gt; 2.50) and (month &lt;= 6.50) and (housing &lt;= 0.50) and (contact_unknown &lt;= 0.50) and (age &lt;= 59.50)</td>\n",
       "      <td>2112</td>\n",
       "      <td>33.38</td>\n",
       "      <td>705</td>\n",
       "      <td>13.33</td>\n",
       "      <td>4.67</td>\n",
       "    </tr>\n",
       "    <tr>\n",
       "      <th>2</th>\n",
       "      <td>8</td>\n",
       "      <td>(poutcome_success &lt;= 0.50) and (month &gt; 6.50) and (housing &lt;= 0.50) and (contact_unknown &lt;= 0.50) and (age &lt;= 59.50)</td>\n",
       "      <td>10000</td>\n",
       "      <td>11.10</td>\n",
       "      <td>1110</td>\n",
       "      <td>20.99</td>\n",
       "      <td>22.12</td>\n",
       "    </tr>\n",
       "    <tr>\n",
       "      <th>3</th>\n",
       "      <td>9</td>\n",
       "      <td>(poutcome_success &lt;= 0.50) and (housing &gt; 0.50) and (contact_unknown &lt;= 0.50) and (age &lt;= 59.50)</td>\n",
       "      <td>15163</td>\n",
       "      <td>8.42</td>\n",
       "      <td>1277</td>\n",
       "      <td>24.14</td>\n",
       "      <td>33.54</td>\n",
       "    </tr>\n",
       "    <tr>\n",
       "      <th>4</th>\n",
       "      <td>10</td>\n",
       "      <td>(poutcome_success &lt;= 0.50) and (contact_unknown &lt;= 0.50) and (age &gt; 59.50)</td>\n",
       "      <td>1364</td>\n",
       "      <td>31.23</td>\n",
       "      <td>426</td>\n",
       "      <td>8.05</td>\n",
       "      <td>3.02</td>\n",
       "    </tr>\n",
       "    <tr>\n",
       "      <th>5</th>\n",
       "      <td>11</td>\n",
       "      <td>(poutcome_success &lt;= 0.50) and (contact_unknown &gt; 0.50)</td>\n",
       "      <td>13008</td>\n",
       "      <td>4.05</td>\n",
       "      <td>527</td>\n",
       "      <td>9.96</td>\n",
       "      <td>28.77</td>\n",
       "    </tr>\n",
       "    <tr>\n",
       "      <th>6</th>\n",
       "      <td>12</td>\n",
       "      <td>(poutcome_success &gt; 0.50)</td>\n",
       "      <td>1511</td>\n",
       "      <td>64.73</td>\n",
       "      <td>978</td>\n",
       "      <td>18.49</td>\n",
       "      <td>3.34</td>\n",
       "    </tr>\n",
       "  </tbody>\n",
       "</table>\n",
       "</div>"
      ],
      "text/plain": [
       "   node_id  \\\n",
       "0        6   \n",
       "1        7   \n",
       "2        8   \n",
       "3        9   \n",
       "4       10   \n",
       "5       11   \n",
       "6       12   \n",
       "\n",
       "                                                                                                                                  condition  \\\n",
       "0                     (poutcome_success <= 0.50) and (month <= 2.50) and (housing <= 0.50) and (contact_unknown <= 0.50) and (age <= 59.50)   \n",
       "1  (poutcome_success <= 0.50) and (month > 2.50) and (month <= 6.50) and (housing <= 0.50) and (contact_unknown <= 0.50) and (age <= 59.50)   \n",
       "2                      (poutcome_success <= 0.50) and (month > 6.50) and (housing <= 0.50) and (contact_unknown <= 0.50) and (age <= 59.50)   \n",
       "3                                          (poutcome_success <= 0.50) and (housing > 0.50) and (contact_unknown <= 0.50) and (age <= 59.50)   \n",
       "4                                                                (poutcome_success <= 0.50) and (contact_unknown <= 0.50) and (age > 59.50)   \n",
       "5                                                                                   (poutcome_success <= 0.50) and (contact_unknown > 0.50)   \n",
       "6                                                                                                                 (poutcome_success > 0.50)   \n",
       "\n",
       "   total  conversion  converted_users  share_of_converted  share_of_total  \n",
       "0   2053       12.96              266                5.03            4.54  \n",
       "1   2112       33.38              705               13.33            4.67  \n",
       "2  10000       11.10             1110               20.99           22.12  \n",
       "3  15163        8.42             1277               24.14           33.54  \n",
       "4   1364       31.23              426                8.05            3.02  \n",
       "5  13008        4.05              527                9.96           28.77  \n",
       "6   1511       64.73              978               18.49            3.34  "
      ]
     },
     "execution_count": 468,
     "metadata": {},
     "output_type": "execute_result"
    }
   ],
   "source": [
    "leaves_df"
   ]
  },
  {
   "cell_type": "code",
   "execution_count": 469,
   "id": "b1d21467-5530-4b78-9e13-6d72b9492321",
   "metadata": {},
   "outputs": [],
   "source": [
    "leaves_df['total'] = leaves_df.node_id.map(lambda x: num_nodes[x])\n",
    "leaves_df['conversion'] = leaves_df['node_id'].map(lambda x: values[x][0][1])*100\n",
    "leaves_df['converted_users'] = (leaves_df.conversion * leaves_df.total).map(lambda x: int(round(x/100)))\n",
    "leaves_df['share_of_converted'] = 100*leaves_df['converted_users']/leaves_df['converted_users'].sum()\n",
    "leaves_df['share_of_total'] = 100*leaves_df['total']/leaves_df['total'].sum()"
   ]
  },
  {
   "cell_type": "code",
   "execution_count": 470,
   "id": "e51e6970-1aff-4ed1-959f-6343ddad1b06",
   "metadata": {},
   "outputs": [
    {
     "data": {
      "text/html": [
       "<div>\n",
       "<style scoped>\n",
       "    .dataframe tbody tr th:only-of-type {\n",
       "        vertical-align: middle;\n",
       "    }\n",
       "\n",
       "    .dataframe tbody tr th {\n",
       "        vertical-align: top;\n",
       "    }\n",
       "\n",
       "    .dataframe thead th {\n",
       "        text-align: right;\n",
       "    }\n",
       "</style>\n",
       "<table border=\"1\" class=\"dataframe\">\n",
       "  <thead>\n",
       "    <tr style=\"text-align: right;\">\n",
       "      <th></th>\n",
       "      <th>total</th>\n",
       "      <th>conversion</th>\n",
       "      <th>converted_users</th>\n",
       "      <th>share_of_converted</th>\n",
       "      <th>share_of_total</th>\n",
       "    </tr>\n",
       "    <tr>\n",
       "      <th>condition</th>\n",
       "      <th></th>\n",
       "      <th></th>\n",
       "      <th></th>\n",
       "      <th></th>\n",
       "      <th></th>\n",
       "    </tr>\n",
       "  </thead>\n",
       "  <tbody>\n",
       "    <tr>\n",
       "      <th>(poutcome_success &gt; 0.50)</th>\n",
       "      <td>1511</td>\n",
       "      <td>64.73</td>\n",
       "      <td>978</td>\n",
       "      <td>18.49</td>\n",
       "      <td>3.34</td>\n",
       "    </tr>\n",
       "    <tr>\n",
       "      <th>(poutcome_success &lt;= 0.50) and (month &gt; 2.50) and (month &lt;= 6.50) and (housing &lt;= 0.50) and (contact_unknown &lt;= 0.50) and (age &lt;= 59.50)</th>\n",
       "      <td>2112</td>\n",
       "      <td>33.38</td>\n",
       "      <td>705</td>\n",
       "      <td>13.33</td>\n",
       "      <td>4.67</td>\n",
       "    </tr>\n",
       "    <tr>\n",
       "      <th>(poutcome_success &lt;= 0.50) and (contact_unknown &lt;= 0.50) and (age &gt; 59.50)</th>\n",
       "      <td>1364</td>\n",
       "      <td>31.23</td>\n",
       "      <td>426</td>\n",
       "      <td>8.05</td>\n",
       "      <td>3.02</td>\n",
       "    </tr>\n",
       "    <tr>\n",
       "      <th>(poutcome_success &lt;= 0.50) and (month &lt;= 2.50) and (housing &lt;= 0.50) and (contact_unknown &lt;= 0.50) and (age &lt;= 59.50)</th>\n",
       "      <td>2053</td>\n",
       "      <td>12.96</td>\n",
       "      <td>266</td>\n",
       "      <td>5.03</td>\n",
       "      <td>4.54</td>\n",
       "    </tr>\n",
       "    <tr>\n",
       "      <th>(poutcome_success &lt;= 0.50) and (month &gt; 6.50) and (housing &lt;= 0.50) and (contact_unknown &lt;= 0.50) and (age &lt;= 59.50)</th>\n",
       "      <td>10000</td>\n",
       "      <td>11.10</td>\n",
       "      <td>1110</td>\n",
       "      <td>20.99</td>\n",
       "      <td>22.12</td>\n",
       "    </tr>\n",
       "    <tr>\n",
       "      <th>(poutcome_success &lt;= 0.50) and (housing &gt; 0.50) and (contact_unknown &lt;= 0.50) and (age &lt;= 59.50)</th>\n",
       "      <td>15163</td>\n",
       "      <td>8.42</td>\n",
       "      <td>1277</td>\n",
       "      <td>24.14</td>\n",
       "      <td>33.54</td>\n",
       "    </tr>\n",
       "    <tr>\n",
       "      <th>(poutcome_success &lt;= 0.50) and (contact_unknown &gt; 0.50)</th>\n",
       "      <td>13008</td>\n",
       "      <td>4.05</td>\n",
       "      <td>527</td>\n",
       "      <td>9.96</td>\n",
       "      <td>28.77</td>\n",
       "    </tr>\n",
       "  </tbody>\n",
       "</table>\n",
       "</div>"
      ],
      "text/plain": [
       "                                                                                                                                          total  \\\n",
       "condition                                                                                                                                         \n",
       "(poutcome_success > 0.50)                                                                                                                  1511   \n",
       "(poutcome_success <= 0.50) and (month > 2.50) and (month <= 6.50) and (housing <= 0.50) and (contact_unknown <= 0.50) and (age <= 59.50)   2112   \n",
       "(poutcome_success <= 0.50) and (contact_unknown <= 0.50) and (age > 59.50)                                                                 1364   \n",
       "(poutcome_success <= 0.50) and (month <= 2.50) and (housing <= 0.50) and (contact_unknown <= 0.50) and (age <= 59.50)                      2053   \n",
       "(poutcome_success <= 0.50) and (month > 6.50) and (housing <= 0.50) and (contact_unknown <= 0.50) and (age <= 59.50)                      10000   \n",
       "(poutcome_success <= 0.50) and (housing > 0.50) and (contact_unknown <= 0.50) and (age <= 59.50)                                          15163   \n",
       "(poutcome_success <= 0.50) and (contact_unknown > 0.50)                                                                                   13008   \n",
       "\n",
       "                                                                                                                                          conversion  \\\n",
       "condition                                                                                                                                              \n",
       "(poutcome_success > 0.50)                                                                                                                      64.73   \n",
       "(poutcome_success <= 0.50) and (month > 2.50) and (month <= 6.50) and (housing <= 0.50) and (contact_unknown <= 0.50) and (age <= 59.50)       33.38   \n",
       "(poutcome_success <= 0.50) and (contact_unknown <= 0.50) and (age > 59.50)                                                                     31.23   \n",
       "(poutcome_success <= 0.50) and (month <= 2.50) and (housing <= 0.50) and (contact_unknown <= 0.50) and (age <= 59.50)                          12.96   \n",
       "(poutcome_success <= 0.50) and (month > 6.50) and (housing <= 0.50) and (contact_unknown <= 0.50) and (age <= 59.50)                           11.10   \n",
       "(poutcome_success <= 0.50) and (housing > 0.50) and (contact_unknown <= 0.50) and (age <= 59.50)                                                8.42   \n",
       "(poutcome_success <= 0.50) and (contact_unknown > 0.50)                                                                                         4.05   \n",
       "\n",
       "                                                                                                                                          converted_users  \\\n",
       "condition                                                                                                                                                   \n",
       "(poutcome_success > 0.50)                                                                                                                             978   \n",
       "(poutcome_success <= 0.50) and (month > 2.50) and (month <= 6.50) and (housing <= 0.50) and (contact_unknown <= 0.50) and (age <= 59.50)              705   \n",
       "(poutcome_success <= 0.50) and (contact_unknown <= 0.50) and (age > 59.50)                                                                            426   \n",
       "(poutcome_success <= 0.50) and (month <= 2.50) and (housing <= 0.50) and (contact_unknown <= 0.50) and (age <= 59.50)                                 266   \n",
       "(poutcome_success <= 0.50) and (month > 6.50) and (housing <= 0.50) and (contact_unknown <= 0.50) and (age <= 59.50)                                 1110   \n",
       "(poutcome_success <= 0.50) and (housing > 0.50) and (contact_unknown <= 0.50) and (age <= 59.50)                                                     1277   \n",
       "(poutcome_success <= 0.50) and (contact_unknown > 0.50)                                                                                               527   \n",
       "\n",
       "                                                                                                                                          share_of_converted  \\\n",
       "condition                                                                                                                                                      \n",
       "(poutcome_success > 0.50)                                                                                                                              18.49   \n",
       "(poutcome_success <= 0.50) and (month > 2.50) and (month <= 6.50) and (housing <= 0.50) and (contact_unknown <= 0.50) and (age <= 59.50)               13.33   \n",
       "(poutcome_success <= 0.50) and (contact_unknown <= 0.50) and (age > 59.50)                                                                              8.05   \n",
       "(poutcome_success <= 0.50) and (month <= 2.50) and (housing <= 0.50) and (contact_unknown <= 0.50) and (age <= 59.50)                                   5.03   \n",
       "(poutcome_success <= 0.50) and (month > 6.50) and (housing <= 0.50) and (contact_unknown <= 0.50) and (age <= 59.50)                                   20.99   \n",
       "(poutcome_success <= 0.50) and (housing > 0.50) and (contact_unknown <= 0.50) and (age <= 59.50)                                                       24.14   \n",
       "(poutcome_success <= 0.50) and (contact_unknown > 0.50)                                                                                                 9.96   \n",
       "\n",
       "                                                                                                                                          share_of_total  \n",
       "condition                                                                                                                                                 \n",
       "(poutcome_success > 0.50)                                                                                                                           3.34  \n",
       "(poutcome_success <= 0.50) and (month > 2.50) and (month <= 6.50) and (housing <= 0.50) and (contact_unknown <= 0.50) and (age <= 59.50)            4.67  \n",
       "(poutcome_success <= 0.50) and (contact_unknown <= 0.50) and (age > 59.50)                                                                          3.02  \n",
       "(poutcome_success <= 0.50) and (month <= 2.50) and (housing <= 0.50) and (contact_unknown <= 0.50) and (age <= 59.50)                               4.54  \n",
       "(poutcome_success <= 0.50) and (month > 6.50) and (housing <= 0.50) and (contact_unknown <= 0.50) and (age <= 59.50)                               22.12  \n",
       "(poutcome_success <= 0.50) and (housing > 0.50) and (contact_unknown <= 0.50) and (age <= 59.50)                                                   33.54  \n",
       "(poutcome_success <= 0.50) and (contact_unknown > 0.50)                                                                                            28.77  "
      ]
     },
     "execution_count": 470,
     "metadata": {},
     "output_type": "execute_result"
    }
   ],
   "source": [
    "leaves_df.sort_values('conversion', ascending = False).drop('node_id', axis = 1).set_index('condition')"
   ]
  },
  {
   "cell_type": "code",
   "execution_count": 471,
   "id": "c000e483-8161-4320-9b22-492ab3573a2d",
   "metadata": {},
   "outputs": [
    {
     "data": {
      "text/plain": [
       "39.870000000000005"
      ]
     },
     "execution_count": 471,
     "metadata": {},
     "output_type": "execute_result"
    }
   ],
   "source": [
    "18.49 + 13.33 + 8.05"
   ]
  },
  {
   "cell_type": "code",
   "execution_count": 711,
   "id": "b6386f5c-9a20-4860-8451-908c8fb5499f",
   "metadata": {},
   "outputs": [],
   "source": [
    "# https://en.wikipedia.org/wiki/List_of_primary_urban_areas_in_England_by_population\n",
    "eng_cities_df = pd.read_csv('gb.csv', sep = '\\t')[['Primary urban area', 'Population']]\n",
    "eng_cities_df.columns = ['region', 'population']"
   ]
  },
  {
   "cell_type": "code",
   "execution_count": 712,
   "id": "a96c6ac0-d1db-469a-aac3-fc892b1c2a90",
   "metadata": {},
   "outputs": [
    {
     "data": {
      "text/html": [
       "<div>\n",
       "<style scoped>\n",
       "    .dataframe tbody tr th:only-of-type {\n",
       "        vertical-align: middle;\n",
       "    }\n",
       "\n",
       "    .dataframe tbody tr th {\n",
       "        vertical-align: top;\n",
       "    }\n",
       "\n",
       "    .dataframe thead th {\n",
       "        text-align: right;\n",
       "    }\n",
       "</style>\n",
       "<table border=\"1\" class=\"dataframe\">\n",
       "  <thead>\n",
       "    <tr style=\"text-align: right;\">\n",
       "      <th></th>\n",
       "      <th>region</th>\n",
       "      <th>population</th>\n",
       "    </tr>\n",
       "  </thead>\n",
       "  <tbody>\n",
       "    <tr>\n",
       "      <th>0</th>\n",
       "      <td>London</td>\n",
       "      <td>8,294,058</td>\n",
       "    </tr>\n",
       "    <tr>\n",
       "      <th>1</th>\n",
       "      <td>Birmingham</td>\n",
       "      <td>2,293,099</td>\n",
       "    </tr>\n",
       "    <tr>\n",
       "      <th>2</th>\n",
       "      <td>Manchester</td>\n",
       "      <td>1,741,961</td>\n",
       "    </tr>\n",
       "    <tr>\n",
       "      <th>3</th>\n",
       "      <td>Liverpool</td>\n",
       "      <td>830,112</td>\n",
       "    </tr>\n",
       "    <tr>\n",
       "      <th>4</th>\n",
       "      <td>Leeds</td>\n",
       "      <td>750,700</td>\n",
       "    </tr>\n",
       "    <tr>\n",
       "      <th>5</th>\n",
       "      <td>Sheffield</td>\n",
       "      <td>551,800</td>\n",
       "    </tr>\n",
       "    <tr>\n",
       "      <th>6</th>\n",
       "      <td>Teesside</td>\n",
       "      <td>472,200</td>\n",
       "    </tr>\n",
       "    <tr>\n",
       "      <th>7</th>\n",
       "      <td>Bristol</td>\n",
       "      <td>428,234</td>\n",
       "    </tr>\n",
       "    <tr>\n",
       "      <th>8</th>\n",
       "      <td>Bournemouth and Poole</td>\n",
       "      <td>382,536</td>\n",
       "    </tr>\n",
       "    <tr>\n",
       "      <th>9</th>\n",
       "      <td>Stoke-on-Trent</td>\n",
       "      <td>360,810</td>\n",
       "    </tr>\n",
       "  </tbody>\n",
       "</table>\n",
       "</div>"
      ],
      "text/plain": [
       "                  region population\n",
       "0                 London  8,294,058\n",
       "1             Birmingham  2,293,099\n",
       "2             Manchester  1,741,961\n",
       "3              Liverpool    830,112\n",
       "4                  Leeds    750,700\n",
       "5              Sheffield    551,800\n",
       "6               Teesside    472,200\n",
       "7                Bristol    428,234\n",
       "8  Bournemouth and Poole    382,536\n",
       "9         Stoke-on-Trent    360,810"
      ]
     },
     "execution_count": 712,
     "metadata": {},
     "output_type": "execute_result"
    }
   ],
   "source": [
    "eng_cities_df.head(10)"
   ]
  },
  {
   "cell_type": "code",
   "execution_count": 713,
   "id": "868182cd-80ac-4053-879c-754b6c02d146",
   "metadata": {},
   "outputs": [],
   "source": [
    "eng_cities_df['population'] = eng_cities_df.population.map(lambda x: int(x.replace(',', '')))"
   ]
  },
  {
   "cell_type": "code",
   "execution_count": 714,
   "id": "a321e62f-89b6-4b33-8ff0-8baf172db7b8",
   "metadata": {},
   "outputs": [],
   "source": [
    "eng_cities_df['base_weight'] = eng_cities_df.population/eng_cities_df.population.sum()"
   ]
  },
  {
   "cell_type": "code",
   "execution_count": 715,
   "id": "d3e44730-2013-4657-a6fe-05bf1eae8e90",
   "metadata": {},
   "outputs": [],
   "source": [
    "eng_cities_df['population_tweak'] = list(map(\n",
    "    lambda x, y: x if y not in ('Manchester', 'Liverpool', 'Bristol', 'Newcastle', 'Leicester')  else 10*x,\n",
    "    eng_cities_df.population,\n",
    "    eng_cities_df.region\n",
    "))"
   ]
  },
  {
   "cell_type": "code",
   "execution_count": 716,
   "id": "ff1a4036-ad55-4f06-902a-e6a94de0ab65",
   "metadata": {},
   "outputs": [],
   "source": [
    "eng_cities_df['tweak_weight'] = eng_cities_df.population_tweak/eng_cities_df.population_tweak.sum()"
   ]
  },
  {
   "cell_type": "code",
   "execution_count": 717,
   "id": "78352d4d-26df-46b1-a4a4-b510e99d2644",
   "metadata": {},
   "outputs": [
    {
     "data": {
      "text/plain": [
       "103"
      ]
     },
     "execution_count": 717,
     "metadata": {},
     "output_type": "execute_result"
    }
   ],
   "source": [
    "outliers = [\"Aberfeldy\", \"Aberlour\", \"Aboyne\", \"Acharacle\", \"Achnasheen\", \"Airdrie\", \"Alford\", \"Alloa\", \"Alness\", \"Annan\", \n",
    "             \"Anstruther\", \"Arbroath\", \"Ardrossan\", \"Arisaig\", \"Armadale\", \"Auchterarder\", \"Aviemore\", \"Ballachulish\", \"Ballater\",\n",
    "             \"Balmaha\", \"Banff\", \"Bathgate\", \"Beauly\", \"Biggar\", \"Blairgowrie\", \"Boat of Garten\", \"Bonar Bridge\", \"Bonnyrigg\", \n",
    "             \"Braemar\", \"Brora\", \"Buckie\", \"Callander\", \"Campbeltown\", \"Carluke\", \"Carnoustie\", \"Castle Douglas\", \"Castlebay\", \n",
    "             \"Ceres\", \"Crail\", \"Crieff\", \"Cromarty\", \"Cullen\", \"Culross\", \"Dalbeattie\", \"Dalmally\", \"Dalry\", \"Dingwall\", \"Dollar\", \n",
    "             \"Doune\", \"Drumnadrochit\", \"Dunbar\", \"Dunblane\", \"Dornoch\", \"Dunoon\", \"Duns\", \"East Linton\", \"Elgin\", \"Ellon\", \"Eyemouth\", \n",
    "             \"Falkland\", \"Forres\", \"Fort Augustus\", \"Fortrose\", \"Fraserburgh\", \"Galashiels\", \"Gatehouse of Fleet\", \"Girvan\", \"Golspie\",\n",
    "             \"Grantown-on-Spey\", \"Haddington\", \"Hawick\", \"Helensburgh\", \"Huntly\", \"Inveraray\", \"Invergordon\", \"Inverkeithing\", \"Inverurie\", \n",
    "             \"Jedburgh\", \"Keith\", \"Kelso\", \"Kilwinning\", \"Kinghorn\", \"Kingussie\", \"Kinross\", \"Kirkcudbright\", \"Kirkwall\", \"Lairg\", \"Lanark\", \n",
    "             \"Langholm\", \"Largs\", \"Lerwick\", \"Linlithgow\", \"Lochgilphead\", \"Lossiemouth\", \"Mallaig\", \"Melrose\", \"Montrose\", \"Moffat\", \"Monifieth\", \n",
    "             \"Nairn\", \"Newburgh\", \"Newtonmore\", \"North Berwick\"]\n",
    "\n",
    "len(outliers)"
   ]
  },
  {
   "cell_type": "code",
   "execution_count": 718,
   "id": "b7373e36-74ed-4d40-8452-54218d140c56",
   "metadata": {},
   "outputs": [],
   "source": [
    "eng_cities_df = eng_cities_df[~eng_cities_df.region.isin(outliers)]"
   ]
  },
  {
   "cell_type": "code",
   "execution_count": 719,
   "id": "4bcd5c26-f3d0-4c6b-885e-32027e7da558",
   "metadata": {},
   "outputs": [],
   "source": [
    "import random"
   ]
  },
  {
   "cell_type": "code",
   "execution_count": 725,
   "id": "2781c66d-289e-4c26-ad2a-247e9b1beaca",
   "metadata": {},
   "outputs": [],
   "source": [
    "def get_region(y):\n",
    "    if random.random() <= 0.01:\n",
    "        return random.choices(outliers)[0]\n",
    "    if y == 1:\n",
    "        return random.choices(eng_cities_df.region, weights=eng_cities_df['tweak_weight'])[0]\n",
    "    else:\n",
    "        return random.choices(eng_cities_df.region, weights=eng_cities_df['base_weight'])[0]\n",
    "    "
   ]
  },
  {
   "cell_type": "code",
   "execution_count": 726,
   "id": "1d3136ce-e9a1-46fb-86d8-4641d824cfe7",
   "metadata": {},
   "outputs": [],
   "source": [
    "df['region'] = df.y.map(get_region)"
   ]
  },
  {
   "cell_type": "code",
   "execution_count": 727,
   "id": "7990ce79-efca-482f-b848-2ab3a46eac71",
   "metadata": {},
   "outputs": [
    {
     "data": {
      "text/plain": [
       "region\n",
       "London                  0.31\n",
       "Manchester              0.09\n",
       "Birmingham              0.08\n",
       "Liverpool               0.05\n",
       "Leeds                   0.03\n",
       "Bristol                 0.02\n",
       "Sheffield               0.02\n",
       "Leicester               0.02\n",
       "Teesside                0.02\n",
       "Newcastle               0.02\n",
       "Bournemouth and Poole   0.01\n",
       "Stoke-on-Trent          0.01\n",
       "Wirral                  0.01\n",
       "Coventry                0.01\n",
       "Nottingham              0.01\n",
       "Name: proportion, dtype: float64"
      ]
     },
     "execution_count": 727,
     "metadata": {},
     "output_type": "execute_result"
    }
   ],
   "source": [
    "df.region.value_counts(normalize = True).head(15)"
   ]
  },
  {
   "cell_type": "code",
   "execution_count": 728,
   "id": "e6b5c8a3-18ea-4ed4-b4b5-5369598a75c5",
   "metadata": {},
   "outputs": [
    {
     "data": {
      "text/plain": [
       "155"
      ]
     },
     "execution_count": 728,
     "metadata": {},
     "output_type": "execute_result"
    }
   ],
   "source": [
    "df.region.nunique()"
   ]
  },
  {
   "cell_type": "code",
   "execution_count": 729,
   "id": "a6a5a8bd-c1a1-4986-a743-b890373f17a9",
   "metadata": {},
   "outputs": [],
   "source": [
    "fin_df = pd.get_dummies(df, columns=['job', 'marital', 'education', 'poutcome', 'contact', 'region'], dtype = int, \n",
    "              drop_first = False)"
   ]
  },
  {
   "cell_type": "code",
   "execution_count": 730,
   "id": "92c219e1-ae6f-4199-b5d6-28f5b5db65d9",
   "metadata": {},
   "outputs": [
    {
     "data": {
      "text/plain": [
       "192"
      ]
     },
     "execution_count": 730,
     "metadata": {},
     "output_type": "execute_result"
    }
   ],
   "source": [
    "fin_df.shape[1]"
   ]
  },
  {
   "cell_type": "code",
   "execution_count": 731,
   "id": "be48f8af-c91e-450f-9c5e-b4a772336302",
   "metadata": {},
   "outputs": [
    {
     "data": {
      "text/plain": [
       "190"
      ]
     },
     "execution_count": 731,
     "metadata": {},
     "output_type": "execute_result"
    }
   ],
   "source": [
    "feature_names = fin_df.drop(['y', 'id'], axis = 1).columns\n",
    "len(feature_names)"
   ]
  },
  {
   "cell_type": "code",
   "execution_count": 732,
   "id": "f00b2037-9093-40b7-b495-28ca9aaf3628",
   "metadata": {},
   "outputs": [
    {
     "data": {
      "image/svg+xml": [
       "<?xml version=\"1.0\" encoding=\"UTF-8\" standalone=\"no\"?>\n",
       "<!DOCTYPE svg PUBLIC \"-//W3C//DTD SVG 1.1//EN\"\n",
       " \"http://www.w3.org/Graphics/SVG/1.1/DTD/svg11.dtd\">\n",
       "<!-- Generated by graphviz version 12.0.0 (20240704.0754)\n",
       " -->\n",
       "<!-- Title: Tree Pages: 1 -->\n",
       "<svg width=\"1067pt\" height=\"685pt\"\n",
       " viewBox=\"0.00 0.00 1066.50 685.00\" xmlns=\"http://www.w3.org/2000/svg\" xmlns:xlink=\"http://www.w3.org/1999/xlink\">\n",
       "<g id=\"graph0\" class=\"graph\" transform=\"scale(1 1) rotate(0) translate(4 681)\">\n",
       "<title>Tree</title>\n",
       "<polygon fill=\"white\" stroke=\"none\" points=\"-4,4 -4,-681 1062.5,-681 1062.5,4 -4,4\"/>\n",
       "<!-- 0 -->\n",
       "<g id=\"node1\" class=\"node\">\n",
       "<title>0</title>\n",
       "<polygon fill=\"#e89253\" stroke=\"black\" points=\"840.25,-677 665.25,-677 665.25,-609 840.25,-609 840.25,-677\"/>\n",
       "<text text-anchor=\"middle\" x=\"752.75\" y=\"-659.7\" font-family=\"Helvetica,sans-Serif\" font-size=\"14.00\">poutcome_success &lt;= 0.5</text>\n",
       "<text text-anchor=\"middle\" x=\"752.75\" y=\"-644.7\" font-family=\"Helvetica,sans-Serif\" font-size=\"14.00\">gini = 0.21</text>\n",
       "<text text-anchor=\"middle\" x=\"752.75\" y=\"-629.7\" font-family=\"Helvetica,sans-Serif\" font-size=\"14.00\">samples = 100.0%</text>\n",
       "<text text-anchor=\"middle\" x=\"752.75\" y=\"-614.7\" font-family=\"Helvetica,sans-Serif\" font-size=\"14.00\">value = [0.88, 0.12]</text>\n",
       "</g>\n",
       "<!-- 1 -->\n",
       "<g id=\"node2\" class=\"node\">\n",
       "<title>1</title>\n",
       "<polygon fill=\"#e88f4f\" stroke=\"black\" points=\"744.25,-573 569.25,-573 569.25,-505 744.25,-505 744.25,-573\"/>\n",
       "<text text-anchor=\"middle\" x=\"656.75\" y=\"-555.7\" font-family=\"Helvetica,sans-Serif\" font-size=\"14.00\">region_Manchester &lt;= 0.5</text>\n",
       "<text text-anchor=\"middle\" x=\"656.75\" y=\"-540.7\" font-family=\"Helvetica,sans-Serif\" font-size=\"14.00\">gini = 0.18</text>\n",
       "<text text-anchor=\"middle\" x=\"656.75\" y=\"-525.7\" font-family=\"Helvetica,sans-Serif\" font-size=\"14.00\">samples = 96.7%</text>\n",
       "<text text-anchor=\"middle\" x=\"656.75\" y=\"-510.7\" font-family=\"Helvetica,sans-Serif\" font-size=\"14.00\">value = [0.9, 0.1]</text>\n",
       "</g>\n",
       "<!-- 0&#45;&gt;1 -->\n",
       "<g id=\"edge1\" class=\"edge\">\n",
       "<title>0&#45;&gt;1</title>\n",
       "<path fill=\"none\" stroke=\"black\" d=\"M721.32,-608.6C713.19,-599.97 704.35,-590.58 695.89,-581.58\"/>\n",
       "<polygon fill=\"black\" stroke=\"black\" points=\"698.69,-579.46 689.29,-574.58 693.6,-584.26 698.69,-579.46\"/>\n",
       "<text text-anchor=\"middle\" x=\"687.5\" y=\"-592.66\" font-family=\"Helvetica,sans-Serif\" font-size=\"14.00\">True</text>\n",
       "</g>\n",
       "<!-- 16 -->\n",
       "<g id=\"node17\" class=\"node\">\n",
       "<title>16</title>\n",
       "<polygon fill=\"#a5d2f3\" stroke=\"black\" points=\"937.25,-573 762.25,-573 762.25,-505 937.25,-505 937.25,-573\"/>\n",
       "<text text-anchor=\"middle\" x=\"849.75\" y=\"-555.7\" font-family=\"Helvetica,sans-Serif\" font-size=\"14.00\">region_Manchester &lt;= 0.5</text>\n",
       "<text text-anchor=\"middle\" x=\"849.75\" y=\"-540.7\" font-family=\"Helvetica,sans-Serif\" font-size=\"14.00\">gini = 0.46</text>\n",
       "<text text-anchor=\"middle\" x=\"849.75\" y=\"-525.7\" font-family=\"Helvetica,sans-Serif\" font-size=\"14.00\">samples = 3.3%</text>\n",
       "<text text-anchor=\"middle\" x=\"849.75\" y=\"-510.7\" font-family=\"Helvetica,sans-Serif\" font-size=\"14.00\">value = [0.35, 0.65]</text>\n",
       "</g>\n",
       "<!-- 0&#45;&gt;16 -->\n",
       "<g id=\"edge16\" class=\"edge\">\n",
       "<title>0&#45;&gt;16</title>\n",
       "<path fill=\"none\" stroke=\"black\" d=\"M784.51,-608.6C792.72,-599.97 801.65,-590.58 810.2,-581.58\"/>\n",
       "<polygon fill=\"black\" stroke=\"black\" points=\"812.52,-584.23 816.87,-574.57 807.45,-579.4 812.52,-584.23\"/>\n",
       "<text text-anchor=\"middle\" x=\"818.55\" y=\"-592.67\" font-family=\"Helvetica,sans-Serif\" font-size=\"14.00\">False</text>\n",
       "</g>\n",
       "<!-- 2 -->\n",
       "<g id=\"node3\" class=\"node\">\n",
       "<title>2</title>\n",
       "<polygon fill=\"#e78b49\" stroke=\"black\" points=\"564,-469 405.5,-469 405.5,-401 564,-401 564,-469\"/>\n",
       "<text text-anchor=\"middle\" x=\"484.75\" y=\"-451.7\" font-family=\"Helvetica,sans-Serif\" font-size=\"14.00\">region_Liverpool &lt;= 0.5</text>\n",
       "<text text-anchor=\"middle\" x=\"484.75\" y=\"-436.7\" font-family=\"Helvetica,sans-Serif\" font-size=\"14.00\">gini = 0.14</text>\n",
       "<text text-anchor=\"middle\" x=\"484.75\" y=\"-421.7\" font-family=\"Helvetica,sans-Serif\" font-size=\"14.00\">samples = 87.9%</text>\n",
       "<text text-anchor=\"middle\" x=\"484.75\" y=\"-406.7\" font-family=\"Helvetica,sans-Serif\" font-size=\"14.00\">value = [0.92, 0.08]</text>\n",
       "</g>\n",
       "<!-- 1&#45;&gt;2 -->\n",
       "<g id=\"edge2\" class=\"edge\">\n",
       "<title>1&#45;&gt;2</title>\n",
       "<path fill=\"none\" stroke=\"black\" d=\"M600.43,-504.6C584.54,-495.18 567.11,-484.84 550.71,-475.12\"/>\n",
       "<polygon fill=\"black\" stroke=\"black\" points=\"552.88,-472.34 542.5,-470.25 549.31,-478.36 552.88,-472.34\"/>\n",
       "</g>\n",
       "<!-- 11 -->\n",
       "<g id=\"node12\" class=\"node\">\n",
       "<title>11</title>\n",
       "<polygon fill=\"#f2be98\" stroke=\"black\" points=\"745.62,-469 581.88,-469 581.88,-401 745.62,-401 745.62,-469\"/>\n",
       "<text text-anchor=\"middle\" x=\"663.75\" y=\"-451.7\" font-family=\"Helvetica,sans-Serif\" font-size=\"14.00\">contact_unknown &lt;= 0.5</text>\n",
       "<text text-anchor=\"middle\" x=\"663.75\" y=\"-436.7\" font-family=\"Helvetica,sans-Serif\" font-size=\"14.00\">gini = 0.44</text>\n",
       "<text text-anchor=\"middle\" x=\"663.75\" y=\"-421.7\" font-family=\"Helvetica,sans-Serif\" font-size=\"14.00\">samples = 8.8%</text>\n",
       "<text text-anchor=\"middle\" x=\"663.75\" y=\"-406.7\" font-family=\"Helvetica,sans-Serif\" font-size=\"14.00\">value = [0.67, 0.33]</text>\n",
       "</g>\n",
       "<!-- 1&#45;&gt;11 -->\n",
       "<g id=\"edge11\" class=\"edge\">\n",
       "<title>1&#45;&gt;11</title>\n",
       "<path fill=\"none\" stroke=\"black\" d=\"M659.04,-504.6C659.56,-497.03 660.12,-488.87 660.67,-480.9\"/>\n",
       "<polygon fill=\"black\" stroke=\"black\" points=\"664.16,-481.2 661.35,-470.98 657.17,-480.72 664.16,-481.2\"/>\n",
       "</g>\n",
       "<!-- 3 -->\n",
       "<g id=\"node4\" class=\"node\">\n",
       "<title>3</title>\n",
       "<polygon fill=\"#e78a47\" stroke=\"black\" points=\"420.38,-365 279.12,-365 279.12,-297 420.38,-297 420.38,-365\"/>\n",
       "<text text-anchor=\"middle\" x=\"349.75\" y=\"-347.7\" font-family=\"Helvetica,sans-Serif\" font-size=\"14.00\">region_Bristol &lt;= 0.5</text>\n",
       "<text text-anchor=\"middle\" x=\"349.75\" y=\"-332.7\" font-family=\"Helvetica,sans-Serif\" font-size=\"14.00\">gini = 0.12</text>\n",
       "<text text-anchor=\"middle\" x=\"349.75\" y=\"-317.7\" font-family=\"Helvetica,sans-Serif\" font-size=\"14.00\">samples = 83.7%</text>\n",
       "<text text-anchor=\"middle\" x=\"349.75\" y=\"-302.7\" font-family=\"Helvetica,sans-Serif\" font-size=\"14.00\">value = [0.94, 0.06]</text>\n",
       "</g>\n",
       "<!-- 2&#45;&gt;3 -->\n",
       "<g id=\"edge3\" class=\"edge\">\n",
       "<title>2&#45;&gt;3</title>\n",
       "<path fill=\"none\" stroke=\"black\" d=\"M440.55,-400.6C428.54,-391.53 415.42,-381.61 402.97,-372.21\"/>\n",
       "<polygon fill=\"black\" stroke=\"black\" points=\"405.35,-369.62 395.26,-366.39 401.13,-375.21 405.35,-369.62\"/>\n",
       "</g>\n",
       "<!-- 10 -->\n",
       "<g id=\"node11\" class=\"node\">\n",
       "<title>10</title>\n",
       "<polygon fill=\"#f0b88f\" stroke=\"black\" points=\"555,-357.5 438.5,-357.5 438.5,-304.5 555,-304.5 555,-357.5\"/>\n",
       "<text text-anchor=\"middle\" x=\"496.75\" y=\"-340.2\" font-family=\"Helvetica,sans-Serif\" font-size=\"14.00\">gini = 0.42</text>\n",
       "<text text-anchor=\"middle\" x=\"496.75\" y=\"-325.2\" font-family=\"Helvetica,sans-Serif\" font-size=\"14.00\">samples = 4.2%</text>\n",
       "<text text-anchor=\"middle\" x=\"496.75\" y=\"-310.2\" font-family=\"Helvetica,sans-Serif\" font-size=\"14.00\">value = [0.7, 0.3]</text>\n",
       "</g>\n",
       "<!-- 2&#45;&gt;10 -->\n",
       "<g id=\"edge10\" class=\"edge\">\n",
       "<title>2&#45;&gt;10</title>\n",
       "<path fill=\"none\" stroke=\"black\" d=\"M488.68,-400.6C489.87,-390.47 491.19,-379.28 492.4,-368.93\"/>\n",
       "<polygon fill=\"black\" stroke=\"black\" points=\"495.86,-369.55 493.55,-359.21 488.9,-368.73 495.86,-369.55\"/>\n",
       "</g>\n",
       "<!-- 4 -->\n",
       "<g id=\"node5\" class=\"node\">\n",
       "<title>4</title>\n",
       "<polygon fill=\"#e78945\" stroke=\"black\" points=\"304.75,-261 138.75,-261 138.75,-193 304.75,-193 304.75,-261\"/>\n",
       "<text text-anchor=\"middle\" x=\"221.75\" y=\"-243.7\" font-family=\"Helvetica,sans-Serif\" font-size=\"14.00\">region_Newcastle &lt;= 0.5</text>\n",
       "<text text-anchor=\"middle\" x=\"221.75\" y=\"-228.7\" font-family=\"Helvetica,sans-Serif\" font-size=\"14.00\">gini = 0.11</text>\n",
       "<text text-anchor=\"middle\" x=\"221.75\" y=\"-213.7\" font-family=\"Helvetica,sans-Serif\" font-size=\"14.00\">samples = 81.5%</text>\n",
       "<text text-anchor=\"middle\" x=\"221.75\" y=\"-198.7\" font-family=\"Helvetica,sans-Serif\" font-size=\"14.00\">value = [0.94, 0.06]</text>\n",
       "</g>\n",
       "<!-- 3&#45;&gt;4 -->\n",
       "<g id=\"edge4\" class=\"edge\">\n",
       "<title>3&#45;&gt;4</title>\n",
       "<path fill=\"none\" stroke=\"black\" d=\"M307.84,-296.6C296.57,-287.62 284.25,-277.81 272.55,-268.49\"/>\n",
       "<polygon fill=\"black\" stroke=\"black\" points=\"274.94,-265.91 264.94,-262.42 270.58,-271.39 274.94,-265.91\"/>\n",
       "</g>\n",
       "<!-- 9 -->\n",
       "<g id=\"node10\" class=\"node\">\n",
       "<title>9</title>\n",
       "<polygon fill=\"#f2c19e\" stroke=\"black\" points=\"454.5,-253.5 323,-253.5 323,-200.5 454.5,-200.5 454.5,-253.5\"/>\n",
       "<text text-anchor=\"middle\" x=\"388.75\" y=\"-236.2\" font-family=\"Helvetica,sans-Serif\" font-size=\"14.00\">gini = 0.45</text>\n",
       "<text text-anchor=\"middle\" x=\"388.75\" y=\"-221.2\" font-family=\"Helvetica,sans-Serif\" font-size=\"14.00\">samples = 2.3%</text>\n",
       "<text text-anchor=\"middle\" x=\"388.75\" y=\"-206.2\" font-family=\"Helvetica,sans-Serif\" font-size=\"14.00\">value = [0.66, 0.34]</text>\n",
       "</g>\n",
       "<!-- 3&#45;&gt;9 -->\n",
       "<g id=\"edge9\" class=\"edge\">\n",
       "<title>3&#45;&gt;9</title>\n",
       "<path fill=\"none\" stroke=\"black\" d=\"M362.52,-296.6C366.48,-286.25 370.86,-274.8 374.88,-264.27\"/>\n",
       "<polygon fill=\"black\" stroke=\"black\" points=\"378.08,-265.71 378.38,-255.12 371.54,-263.21 378.08,-265.71\"/>\n",
       "</g>\n",
       "<!-- 5 -->\n",
       "<g id=\"node6\" class=\"node\">\n",
       "<title>5</title>\n",
       "<polygon fill=\"#e68844\" stroke=\"black\" points=\"220,-157 61.5,-157 61.5,-89 220,-89 220,-157\"/>\n",
       "<text text-anchor=\"middle\" x=\"140.75\" y=\"-139.7\" font-family=\"Helvetica,sans-Serif\" font-size=\"14.00\">region_Leicester &lt;= 0.5</text>\n",
       "<text text-anchor=\"middle\" x=\"140.75\" y=\"-124.7\" font-family=\"Helvetica,sans-Serif\" font-size=\"14.00\">gini = 0.1</text>\n",
       "<text text-anchor=\"middle\" x=\"140.75\" y=\"-109.7\" font-family=\"Helvetica,sans-Serif\" font-size=\"14.00\">samples = 80.1%</text>\n",
       "<text text-anchor=\"middle\" x=\"140.75\" y=\"-94.7\" font-family=\"Helvetica,sans-Serif\" font-size=\"14.00\">value = [0.95, 0.05]</text>\n",
       "</g>\n",
       "<!-- 4&#45;&gt;5 -->\n",
       "<g id=\"edge5\" class=\"edge\">\n",
       "<title>4&#45;&gt;5</title>\n",
       "<path fill=\"none\" stroke=\"black\" d=\"M195.23,-192.6C188.58,-184.24 181.37,-175.15 174.43,-166.41\"/>\n",
       "<polygon fill=\"black\" stroke=\"black\" points=\"177.23,-164.31 168.27,-158.66 171.75,-168.67 177.23,-164.31\"/>\n",
       "</g>\n",
       "<!-- 8 -->\n",
       "<g id=\"node9\" class=\"node\">\n",
       "<title>8</title>\n",
       "<polygon fill=\"#f4c7a8\" stroke=\"black\" points=\"369.5,-149.5 238,-149.5 238,-96.5 369.5,-96.5 369.5,-149.5\"/>\n",
       "<text text-anchor=\"middle\" x=\"303.75\" y=\"-132.2\" font-family=\"Helvetica,sans-Serif\" font-size=\"14.00\">gini = 0.46</text>\n",
       "<text text-anchor=\"middle\" x=\"303.75\" y=\"-117.2\" font-family=\"Helvetica,sans-Serif\" font-size=\"14.00\">samples = 1.4%</text>\n",
       "<text text-anchor=\"middle\" x=\"303.75\" y=\"-102.2\" font-family=\"Helvetica,sans-Serif\" font-size=\"14.00\">value = [0.64, 0.36]</text>\n",
       "</g>\n",
       "<!-- 4&#45;&gt;8 -->\n",
       "<g id=\"edge8\" class=\"edge\">\n",
       "<title>4&#45;&gt;8</title>\n",
       "<path fill=\"none\" stroke=\"black\" d=\"M248.6,-192.6C257.36,-181.71 267.1,-169.59 275.93,-158.61\"/>\n",
       "<polygon fill=\"black\" stroke=\"black\" points=\"278.6,-160.87 282.14,-150.89 273.14,-156.49 278.6,-160.87\"/>\n",
       "</g>\n",
       "<!-- 6 -->\n",
       "<g id=\"node7\" class=\"node\">\n",
       "<title>6</title>\n",
       "<polygon fill=\"#e68743\" stroke=\"black\" points=\"131.5,-53 0,-53 0,0 131.5,0 131.5,-53\"/>\n",
       "<text text-anchor=\"middle\" x=\"65.75\" y=\"-35.7\" font-family=\"Helvetica,sans-Serif\" font-size=\"14.00\">gini = 0.09</text>\n",
       "<text text-anchor=\"middle\" x=\"65.75\" y=\"-20.7\" font-family=\"Helvetica,sans-Serif\" font-size=\"14.00\">samples = 78.3%</text>\n",
       "<text text-anchor=\"middle\" x=\"65.75\" y=\"-5.7\" font-family=\"Helvetica,sans-Serif\" font-size=\"14.00\">value = [0.95, 0.05]</text>\n",
       "</g>\n",
       "<!-- 5&#45;&gt;6 -->\n",
       "<g id=\"edge6\" class=\"edge\">\n",
       "<title>5&#45;&gt;6</title>\n",
       "<path fill=\"none\" stroke=\"black\" d=\"M114.31,-88.68C107.48,-80.09 100.12,-70.81 93.25,-62.15\"/>\n",
       "<polygon fill=\"black\" stroke=\"black\" points=\"96.2,-60.24 87.24,-54.58 90.72,-64.59 96.2,-60.24\"/>\n",
       "</g>\n",
       "<!-- 7 -->\n",
       "<g id=\"node8\" class=\"node\">\n",
       "<title>7</title>\n",
       "<polygon fill=\"#f1bd97\" stroke=\"black\" points=\"281.5,-53 150,-53 150,0 281.5,0 281.5,-53\"/>\n",
       "<text text-anchor=\"middle\" x=\"215.75\" y=\"-35.7\" font-family=\"Helvetica,sans-Serif\" font-size=\"14.00\">gini = 0.44</text>\n",
       "<text text-anchor=\"middle\" x=\"215.75\" y=\"-20.7\" font-family=\"Helvetica,sans-Serif\" font-size=\"14.00\">samples = 1.7%</text>\n",
       "<text text-anchor=\"middle\" x=\"215.75\" y=\"-5.7\" font-family=\"Helvetica,sans-Serif\" font-size=\"14.00\">value = [0.68, 0.32]</text>\n",
       "</g>\n",
       "<!-- 5&#45;&gt;7 -->\n",
       "<g id=\"edge7\" class=\"edge\">\n",
       "<title>5&#45;&gt;7</title>\n",
       "<path fill=\"none\" stroke=\"black\" d=\"M167.19,-88.68C174.02,-80.09 181.38,-70.81 188.25,-62.15\"/>\n",
       "<polygon fill=\"black\" stroke=\"black\" points=\"190.78,-64.59 194.26,-54.58 185.3,-60.24 190.78,-64.59\"/>\n",
       "</g>\n",
       "<!-- 12 -->\n",
       "<g id=\"node13\" class=\"node\">\n",
       "<title>12</title>\n",
       "<polygon fill=\"#f5cdb1\" stroke=\"black\" points=\"718.5,-365 587,-365 587,-297 718.5,-297 718.5,-365\"/>\n",
       "<text text-anchor=\"middle\" x=\"652.75\" y=\"-347.7\" font-family=\"Helvetica,sans-Serif\" font-size=\"14.00\">housing &lt;= 0.5</text>\n",
       "<text text-anchor=\"middle\" x=\"652.75\" y=\"-332.7\" font-family=\"Helvetica,sans-Serif\" font-size=\"14.00\">gini = 0.47</text>\n",
       "<text text-anchor=\"middle\" x=\"652.75\" y=\"-317.7\" font-family=\"Helvetica,sans-Serif\" font-size=\"14.00\">samples = 6.6%</text>\n",
       "<text text-anchor=\"middle\" x=\"652.75\" y=\"-302.7\" font-family=\"Helvetica,sans-Serif\" font-size=\"14.00\">value = [0.62, 0.38]</text>\n",
       "</g>\n",
       "<!-- 11&#45;&gt;12 -->\n",
       "<g id=\"edge12\" class=\"edge\">\n",
       "<title>11&#45;&gt;12</title>\n",
       "<path fill=\"none\" stroke=\"black\" d=\"M660.15,-400.6C659.33,-393.03 658.45,-384.87 657.59,-376.9\"/>\n",
       "<polygon fill=\"black\" stroke=\"black\" points=\"661.07,-376.55 656.52,-366.98 654.11,-377.3 661.07,-376.55\"/>\n",
       "</g>\n",
       "<!-- 15 -->\n",
       "<g id=\"node16\" class=\"node\">\n",
       "<title>15</title>\n",
       "<polygon fill=\"#ea995f\" stroke=\"black\" points=\"868.5,-357.5 737,-357.5 737,-304.5 868.5,-304.5 868.5,-357.5\"/>\n",
       "<text text-anchor=\"middle\" x=\"802.75\" y=\"-340.2\" font-family=\"Helvetica,sans-Serif\" font-size=\"14.00\">gini = 0.27</text>\n",
       "<text text-anchor=\"middle\" x=\"802.75\" y=\"-325.2\" font-family=\"Helvetica,sans-Serif\" font-size=\"14.00\">samples = 2.1%</text>\n",
       "<text text-anchor=\"middle\" x=\"802.75\" y=\"-310.2\" font-family=\"Helvetica,sans-Serif\" font-size=\"14.00\">value = [0.84, 0.16]</text>\n",
       "</g>\n",
       "<!-- 11&#45;&gt;15 -->\n",
       "<g id=\"edge15\" class=\"edge\">\n",
       "<title>11&#45;&gt;15</title>\n",
       "<path fill=\"none\" stroke=\"black\" d=\"M709.26,-400.6C725.15,-388.94 742.94,-375.89 758.7,-364.32\"/>\n",
       "<polygon fill=\"black\" stroke=\"black\" points=\"760.51,-367.34 766.5,-358.6 756.37,-361.7 760.51,-367.34\"/>\n",
       "</g>\n",
       "<!-- 13 -->\n",
       "<g id=\"node14\" class=\"node\">\n",
       "<title>13</title>\n",
       "<polygon fill=\"#fbebe0\" stroke=\"black\" points=\"680.5,-253.5 549,-253.5 549,-200.5 680.5,-200.5 680.5,-253.5\"/>\n",
       "<text text-anchor=\"middle\" x=\"614.75\" y=\"-236.2\" font-family=\"Helvetica,sans-Serif\" font-size=\"14.00\">gini = 0.5</text>\n",
       "<text text-anchor=\"middle\" x=\"614.75\" y=\"-221.2\" font-family=\"Helvetica,sans-Serif\" font-size=\"14.00\">samples = 3.7%</text>\n",
       "<text text-anchor=\"middle\" x=\"614.75\" y=\"-206.2\" font-family=\"Helvetica,sans-Serif\" font-size=\"14.00\">value = [0.54, 0.46]</text>\n",
       "</g>\n",
       "<!-- 12&#45;&gt;13 -->\n",
       "<g id=\"edge13\" class=\"edge\">\n",
       "<title>12&#45;&gt;13</title>\n",
       "<path fill=\"none\" stroke=\"black\" d=\"M640.31,-296.6C636.45,-286.25 632.19,-274.8 628.26,-264.27\"/>\n",
       "<polygon fill=\"black\" stroke=\"black\" points=\"631.63,-263.27 624.86,-255.12 625.07,-265.72 631.63,-263.27\"/>\n",
       "</g>\n",
       "<!-- 14 -->\n",
       "<g id=\"node15\" class=\"node\">\n",
       "<title>14</title>\n",
       "<polygon fill=\"#efb185\" stroke=\"black\" points=\"830.5,-253.5 699,-253.5 699,-200.5 830.5,-200.5 830.5,-253.5\"/>\n",
       "<text text-anchor=\"middle\" x=\"764.75\" y=\"-236.2\" font-family=\"Helvetica,sans-Serif\" font-size=\"14.00\">gini = 0.4</text>\n",
       "<text text-anchor=\"middle\" x=\"764.75\" y=\"-221.2\" font-family=\"Helvetica,sans-Serif\" font-size=\"14.00\">samples = 3.0%</text>\n",
       "<text text-anchor=\"middle\" x=\"764.75\" y=\"-206.2\" font-family=\"Helvetica,sans-Serif\" font-size=\"14.00\">value = [0.72, 0.28]</text>\n",
       "</g>\n",
       "<!-- 12&#45;&gt;14 -->\n",
       "<g id=\"edge14\" class=\"edge\">\n",
       "<title>12&#45;&gt;14</title>\n",
       "<path fill=\"none\" stroke=\"black\" d=\"M689.42,-296.6C701.86,-285.27 715.75,-272.62 728.19,-261.3\"/>\n",
       "<polygon fill=\"black\" stroke=\"black\" points=\"730.37,-264.05 735.4,-254.73 725.65,-258.87 730.37,-264.05\"/>\n",
       "</g>\n",
       "<!-- 17 -->\n",
       "<g id=\"node18\" class=\"node\">\n",
       "<title>17</title>\n",
       "<polygon fill=\"#cbe5f8\" stroke=\"black\" points=\"908.5,-461.5 777,-461.5 777,-408.5 908.5,-408.5 908.5,-461.5\"/>\n",
       "<text text-anchor=\"middle\" x=\"842.75\" y=\"-444.2\" font-family=\"Helvetica,sans-Serif\" font-size=\"14.00\">gini = 0.49</text>\n",
       "<text text-anchor=\"middle\" x=\"842.75\" y=\"-429.2\" font-family=\"Helvetica,sans-Serif\" font-size=\"14.00\">samples = 2.6%</text>\n",
       "<text text-anchor=\"middle\" x=\"842.75\" y=\"-414.2\" font-family=\"Helvetica,sans-Serif\" font-size=\"14.00\">value = [0.42, 0.58]</text>\n",
       "</g>\n",
       "<!-- 16&#45;&gt;17 -->\n",
       "<g id=\"edge17\" class=\"edge\">\n",
       "<title>16&#45;&gt;17</title>\n",
       "<path fill=\"none\" stroke=\"black\" d=\"M847.46,-504.6C846.76,-494.47 845.99,-483.28 845.28,-472.93\"/>\n",
       "<polygon fill=\"black\" stroke=\"black\" points=\"848.79,-472.95 844.62,-463.22 841.81,-473.43 848.79,-472.95\"/>\n",
       "</g>\n",
       "<!-- 18 -->\n",
       "<g id=\"node19\" class=\"node\">\n",
       "<title>18</title>\n",
       "<polygon fill=\"#4da7e8\" stroke=\"black\" points=\"1058.5,-461.5 927,-461.5 927,-408.5 1058.5,-408.5 1058.5,-461.5\"/>\n",
       "<text text-anchor=\"middle\" x=\"992.75\" y=\"-444.2\" font-family=\"Helvetica,sans-Serif\" font-size=\"14.00\">gini = 0.17</text>\n",
       "<text text-anchor=\"middle\" x=\"992.75\" y=\"-429.2\" font-family=\"Helvetica,sans-Serif\" font-size=\"14.00\">samples = 0.7%</text>\n",
       "<text text-anchor=\"middle\" x=\"992.75\" y=\"-414.2\" font-family=\"Helvetica,sans-Serif\" font-size=\"14.00\">value = [0.09, 0.91]</text>\n",
       "</g>\n",
       "<!-- 16&#45;&gt;18 -->\n",
       "<g id=\"edge18\" class=\"edge\">\n",
       "<title>16&#45;&gt;18</title>\n",
       "<path fill=\"none\" stroke=\"black\" d=\"M896.57,-504.6C912.92,-492.94 931.22,-479.89 947.43,-468.32\"/>\n",
       "<polygon fill=\"black\" stroke=\"black\" points=\"949.37,-471.24 955.48,-462.58 945.31,-465.54 949.37,-471.24\"/>\n",
       "</g>\n",
       "</g>\n",
       "</svg>\n"
      ],
      "text/plain": [
       "<graphviz.sources.Source at 0x296c3a4d0>"
      ]
     },
     "execution_count": 732,
     "metadata": {},
     "output_type": "execute_result"
    }
   ],
   "source": [
    "model = sklearn.tree.DecisionTreeClassifier(min_samples_leaf = 100, min_impurity_decrease=0.001)\n",
    "model.fit(fin_df[feature_names], fin_df['y'])\n",
    "\n",
    "dot_data = sklearn.tree.export_graphviz(\n",
    "    model, out_file=None, feature_names = feature_names, filled = True, \n",
    "    proportion = True, precision=2, impurity = True)\n",
    "\n",
    "graph = graphviz.Source(dot_data)\n",
    "png_bytes = graph.pipe(format='png')\n",
    "with open('decision_tree.png','wb') as f:\n",
    "    f.write(png_bytes)\n",
    "\n",
    "graph"
   ]
  },
  {
   "cell_type": "code",
   "execution_count": 733,
   "id": "51e39133-390e-4175-b762-16ed14387611",
   "metadata": {},
   "outputs": [],
   "source": [
    "from sklearn.model_selection import train_test_split"
   ]
  },
  {
   "cell_type": "code",
   "execution_count": 734,
   "id": "213b8b61-bbe7-4578-9021-5b1a20fff160",
   "metadata": {},
   "outputs": [],
   "source": [
    "fin_df = pd.get_dummies(df, columns=['job', 'marital', 'education', 'poutcome', 'contact'], dtype = int, \n",
    "              drop_first = False)"
   ]
  },
  {
   "cell_type": "code",
   "execution_count": 735,
   "id": "e2d6bb41-60ee-4866-aca3-e264556f2820",
   "metadata": {},
   "outputs": [],
   "source": [
    "train_df, test_df = train_test_split(fin_df,test_size=0.1, random_state=42)"
   ]
  },
  {
   "cell_type": "code",
   "execution_count": 736,
   "id": "615d1568-0735-443a-be02-43b02b6fe0b8",
   "metadata": {},
   "outputs": [
    {
     "data": {
      "text/plain": [
       "(40689, 4522)"
      ]
     },
     "execution_count": 736,
     "metadata": {},
     "output_type": "execute_result"
    }
   ],
   "source": [
    "train_df.shape[0], test_df.shape[0]"
   ]
  },
  {
   "cell_type": "code",
   "execution_count": 737,
   "id": "8ec3fb47-27a5-453a-b718-bbed65b10fe3",
   "metadata": {},
   "outputs": [],
   "source": [
    "def get_model_definition(model, feature_names):\n",
    "    n_nodes = model.tree_.node_count\n",
    "    children_left = model.tree_.children_left\n",
    "    children_right = model.tree_.children_right\n",
    "    features = model.tree_.feature\n",
    "    thresholds = model.tree_.threshold\n",
    "    num_nodes = model.tree_.n_node_samples\n",
    "    values = model.tree_.value\n",
    "\n",
    "    hierarchy = {}\n",
    "\n",
    "    for node_id in range(n_nodes):\n",
    "        if children_left[node_id] != -1: \n",
    "            hierarchy[children_left[node_id]] = {\n",
    "              'parent': node_id, \n",
    "              'condition': 'left'\n",
    "            }\n",
    "      \n",
    "        if children_right[node_id] != -1:\n",
    "              hierarchy[children_right[node_id]] = {\n",
    "               'parent': node_id, \n",
    "               'condition': 'right'\n",
    "              }\n",
    "\n",
    "    leaves = []\n",
    "    for node_id in range(n_nodes):\n",
    "        if (children_left[node_id] == -1) and (children_right[node_id] == -1):\n",
    "            leaves.append(node_id)\n",
    "    leaves_df = pd.DataFrame({'node_id': leaves})\n",
    "    leaves_df['condition'] = leaves_df['node_id'].map(\n",
    "      lambda x: get_decision_path_string(x, features, thresholds, hierarchy, feature_names)\n",
    "    )\n",
    "\n",
    "    leaves_df['total'] = leaves_df.node_id.map(lambda x: num_nodes[x])\n",
    "    leaves_df['conversion'] = leaves_df['node_id'].map(lambda x: values[x][0][1])*100\n",
    "    leaves_df['converted_users'] = (leaves_df.conversion * leaves_df.total).map(lambda x: int(round(x/100)))\n",
    "    leaves_df['share_of_converted'] = 100*leaves_df['converted_users']/leaves_df['converted_users'].sum()\n",
    "    leaves_df['share_of_total'] = 100*leaves_df['total']/leaves_df['total'].sum()\n",
    "    leaves_df = leaves_df.sort_values('conversion', ascending = False)\\\n",
    "      .drop('node_id', axis = 1).set_index('condition')\n",
    "    leaves_df['cum_share_of_total'] = leaves_df['share_of_total'].cumsum()\n",
    "    leaves_df['cum_share_of_converted'] = leaves_df['share_of_converted'].cumsum()\n",
    "    return leaves_df"
   ]
  },
  {
   "cell_type": "code",
   "execution_count": 738,
   "id": "bfdc471c-849d-4e8f-b1ed-27ffe703669c",
   "metadata": {},
   "outputs": [
    {
     "data": {
      "text/html": [
       "<div>\n",
       "<style scoped>\n",
       "    .dataframe tbody tr th:only-of-type {\n",
       "        vertical-align: middle;\n",
       "    }\n",
       "\n",
       "    .dataframe tbody tr th {\n",
       "        vertical-align: top;\n",
       "    }\n",
       "\n",
       "    .dataframe thead th {\n",
       "        text-align: right;\n",
       "    }\n",
       "</style>\n",
       "<table border=\"1\" class=\"dataframe\">\n",
       "  <thead>\n",
       "    <tr style=\"text-align: right;\">\n",
       "      <th></th>\n",
       "      <th>age</th>\n",
       "      <th>default</th>\n",
       "      <th>balance</th>\n",
       "      <th>housing</th>\n",
       "      <th>loan</th>\n",
       "      <th>day</th>\n",
       "      <th>month</th>\n",
       "      <th>pdays</th>\n",
       "      <th>previous</th>\n",
       "      <th>y</th>\n",
       "      <th>...</th>\n",
       "      <th>education_secondary</th>\n",
       "      <th>education_tertiary</th>\n",
       "      <th>education_unknown</th>\n",
       "      <th>poutcome_failure</th>\n",
       "      <th>poutcome_other</th>\n",
       "      <th>poutcome_success</th>\n",
       "      <th>poutcome_unknown</th>\n",
       "      <th>contact_cellular</th>\n",
       "      <th>contact_telephone</th>\n",
       "      <th>contact_unknown</th>\n",
       "    </tr>\n",
       "  </thead>\n",
       "  <tbody>\n",
       "    <tr>\n",
       "      <th>14565</th>\n",
       "      <td>29</td>\n",
       "      <td>0</td>\n",
       "      <td>0</td>\n",
       "      <td>1</td>\n",
       "      <td>0</td>\n",
       "      <td>15</td>\n",
       "      <td>7</td>\n",
       "      <td>-1</td>\n",
       "      <td>0</td>\n",
       "      <td>0</td>\n",
       "      <td>...</td>\n",
       "      <td>0</td>\n",
       "      <td>0</td>\n",
       "      <td>0</td>\n",
       "      <td>0</td>\n",
       "      <td>0</td>\n",
       "      <td>0</td>\n",
       "      <td>1</td>\n",
       "      <td>1</td>\n",
       "      <td>0</td>\n",
       "      <td>0</td>\n",
       "    </tr>\n",
       "    <tr>\n",
       "      <th>20546</th>\n",
       "      <td>57</td>\n",
       "      <td>0</td>\n",
       "      <td>396</td>\n",
       "      <td>0</td>\n",
       "      <td>0</td>\n",
       "      <td>12</td>\n",
       "      <td>8</td>\n",
       "      <td>-1</td>\n",
       "      <td>0</td>\n",
       "      <td>0</td>\n",
       "      <td>...</td>\n",
       "      <td>1</td>\n",
       "      <td>0</td>\n",
       "      <td>0</td>\n",
       "      <td>0</td>\n",
       "      <td>0</td>\n",
       "      <td>0</td>\n",
       "      <td>1</td>\n",
       "      <td>1</td>\n",
       "      <td>0</td>\n",
       "      <td>0</td>\n",
       "    </tr>\n",
       "    <tr>\n",
       "      <th>34495</th>\n",
       "      <td>54</td>\n",
       "      <td>0</td>\n",
       "      <td>714</td>\n",
       "      <td>0</td>\n",
       "      <td>0</td>\n",
       "      <td>5</td>\n",
       "      <td>5</td>\n",
       "      <td>-1</td>\n",
       "      <td>0</td>\n",
       "      <td>0</td>\n",
       "      <td>...</td>\n",
       "      <td>0</td>\n",
       "      <td>0</td>\n",
       "      <td>0</td>\n",
       "      <td>0</td>\n",
       "      <td>0</td>\n",
       "      <td>0</td>\n",
       "      <td>1</td>\n",
       "      <td>1</td>\n",
       "      <td>0</td>\n",
       "      <td>0</td>\n",
       "    </tr>\n",
       "    <tr>\n",
       "      <th>13814</th>\n",
       "      <td>52</td>\n",
       "      <td>0</td>\n",
       "      <td>2072</td>\n",
       "      <td>0</td>\n",
       "      <td>0</td>\n",
       "      <td>10</td>\n",
       "      <td>7</td>\n",
       "      <td>-1</td>\n",
       "      <td>0</td>\n",
       "      <td>0</td>\n",
       "      <td>...</td>\n",
       "      <td>1</td>\n",
       "      <td>0</td>\n",
       "      <td>0</td>\n",
       "      <td>0</td>\n",
       "      <td>0</td>\n",
       "      <td>0</td>\n",
       "      <td>1</td>\n",
       "      <td>1</td>\n",
       "      <td>0</td>\n",
       "      <td>0</td>\n",
       "    </tr>\n",
       "    <tr>\n",
       "      <th>42153</th>\n",
       "      <td>34</td>\n",
       "      <td>0</td>\n",
       "      <td>1778</td>\n",
       "      <td>0</td>\n",
       "      <td>0</td>\n",
       "      <td>4</td>\n",
       "      <td>11</td>\n",
       "      <td>162</td>\n",
       "      <td>2</td>\n",
       "      <td>1</td>\n",
       "      <td>...</td>\n",
       "      <td>0</td>\n",
       "      <td>1</td>\n",
       "      <td>0</td>\n",
       "      <td>1</td>\n",
       "      <td>0</td>\n",
       "      <td>0</td>\n",
       "      <td>0</td>\n",
       "      <td>1</td>\n",
       "      <td>0</td>\n",
       "      <td>0</td>\n",
       "    </tr>\n",
       "    <tr>\n",
       "      <th>...</th>\n",
       "      <td>...</td>\n",
       "      <td>...</td>\n",
       "      <td>...</td>\n",
       "      <td>...</td>\n",
       "      <td>...</td>\n",
       "      <td>...</td>\n",
       "      <td>...</td>\n",
       "      <td>...</td>\n",
       "      <td>...</td>\n",
       "      <td>...</td>\n",
       "      <td>...</td>\n",
       "      <td>...</td>\n",
       "      <td>...</td>\n",
       "      <td>...</td>\n",
       "      <td>...</td>\n",
       "      <td>...</td>\n",
       "      <td>...</td>\n",
       "      <td>...</td>\n",
       "      <td>...</td>\n",
       "      <td>...</td>\n",
       "      <td>...</td>\n",
       "    </tr>\n",
       "    <tr>\n",
       "      <th>11284</th>\n",
       "      <td>44</td>\n",
       "      <td>0</td>\n",
       "      <td>1059</td>\n",
       "      <td>0</td>\n",
       "      <td>0</td>\n",
       "      <td>18</td>\n",
       "      <td>6</td>\n",
       "      <td>-1</td>\n",
       "      <td>0</td>\n",
       "      <td>1</td>\n",
       "      <td>...</td>\n",
       "      <td>0</td>\n",
       "      <td>0</td>\n",
       "      <td>0</td>\n",
       "      <td>0</td>\n",
       "      <td>0</td>\n",
       "      <td>0</td>\n",
       "      <td>1</td>\n",
       "      <td>0</td>\n",
       "      <td>0</td>\n",
       "      <td>1</td>\n",
       "    </tr>\n",
       "    <tr>\n",
       "      <th>44732</th>\n",
       "      <td>23</td>\n",
       "      <td>0</td>\n",
       "      <td>508</td>\n",
       "      <td>0</td>\n",
       "      <td>0</td>\n",
       "      <td>8</td>\n",
       "      <td>9</td>\n",
       "      <td>92</td>\n",
       "      <td>1</td>\n",
       "      <td>0</td>\n",
       "      <td>...</td>\n",
       "      <td>0</td>\n",
       "      <td>1</td>\n",
       "      <td>0</td>\n",
       "      <td>1</td>\n",
       "      <td>0</td>\n",
       "      <td>0</td>\n",
       "      <td>0</td>\n",
       "      <td>1</td>\n",
       "      <td>0</td>\n",
       "      <td>0</td>\n",
       "    </tr>\n",
       "    <tr>\n",
       "      <th>38158</th>\n",
       "      <td>34</td>\n",
       "      <td>0</td>\n",
       "      <td>1317</td>\n",
       "      <td>1</td>\n",
       "      <td>0</td>\n",
       "      <td>15</td>\n",
       "      <td>5</td>\n",
       "      <td>-1</td>\n",
       "      <td>0</td>\n",
       "      <td>0</td>\n",
       "      <td>...</td>\n",
       "      <td>0</td>\n",
       "      <td>1</td>\n",
       "      <td>0</td>\n",
       "      <td>0</td>\n",
       "      <td>0</td>\n",
       "      <td>0</td>\n",
       "      <td>1</td>\n",
       "      <td>1</td>\n",
       "      <td>0</td>\n",
       "      <td>0</td>\n",
       "    </tr>\n",
       "    <tr>\n",
       "      <th>860</th>\n",
       "      <td>33</td>\n",
       "      <td>0</td>\n",
       "      <td>165</td>\n",
       "      <td>0</td>\n",
       "      <td>0</td>\n",
       "      <td>7</td>\n",
       "      <td>5</td>\n",
       "      <td>-1</td>\n",
       "      <td>0</td>\n",
       "      <td>0</td>\n",
       "      <td>...</td>\n",
       "      <td>1</td>\n",
       "      <td>0</td>\n",
       "      <td>0</td>\n",
       "      <td>0</td>\n",
       "      <td>0</td>\n",
       "      <td>0</td>\n",
       "      <td>1</td>\n",
       "      <td>0</td>\n",
       "      <td>0</td>\n",
       "      <td>1</td>\n",
       "    </tr>\n",
       "    <tr>\n",
       "      <th>15795</th>\n",
       "      <td>38</td>\n",
       "      <td>0</td>\n",
       "      <td>-41</td>\n",
       "      <td>1</td>\n",
       "      <td>0</td>\n",
       "      <td>21</td>\n",
       "      <td>7</td>\n",
       "      <td>-1</td>\n",
       "      <td>0</td>\n",
       "      <td>0</td>\n",
       "      <td>...</td>\n",
       "      <td>0</td>\n",
       "      <td>0</td>\n",
       "      <td>0</td>\n",
       "      <td>0</td>\n",
       "      <td>0</td>\n",
       "      <td>0</td>\n",
       "      <td>1</td>\n",
       "      <td>1</td>\n",
       "      <td>0</td>\n",
       "      <td>0</td>\n",
       "    </tr>\n",
       "  </tbody>\n",
       "</table>\n",
       "<p>40689 rows × 38 columns</p>\n",
       "</div>"
      ],
      "text/plain": [
       "       age  default  balance  housing  loan  day  month  pdays  previous  y  \\\n",
       "14565   29        0        0        1     0   15      7     -1         0  0   \n",
       "20546   57        0      396        0     0   12      8     -1         0  0   \n",
       "34495   54        0      714        0     0    5      5     -1         0  0   \n",
       "13814   52        0     2072        0     0   10      7     -1         0  0   \n",
       "42153   34        0     1778        0     0    4     11    162         2  1   \n",
       "...    ...      ...      ...      ...   ...  ...    ...    ...       ... ..   \n",
       "11284   44        0     1059        0     0   18      6     -1         0  1   \n",
       "44732   23        0      508        0     0    8      9     92         1  0   \n",
       "38158   34        0     1317        1     0   15      5     -1         0  0   \n",
       "860     33        0      165        0     0    7      5     -1         0  0   \n",
       "15795   38        0      -41        1     0   21      7     -1         0  0   \n",
       "\n",
       "       ...  education_secondary education_tertiary  education_unknown  \\\n",
       "14565  ...                    0                  0                  0   \n",
       "20546  ...                    1                  0                  0   \n",
       "34495  ...                    0                  0                  0   \n",
       "13814  ...                    1                  0                  0   \n",
       "42153  ...                    0                  1                  0   \n",
       "...    ...                  ...                ...                ...   \n",
       "11284  ...                    0                  0                  0   \n",
       "44732  ...                    0                  1                  0   \n",
       "38158  ...                    0                  1                  0   \n",
       "860    ...                    1                  0                  0   \n",
       "15795  ...                    0                  0                  0   \n",
       "\n",
       "       poutcome_failure  poutcome_other  poutcome_success  poutcome_unknown  \\\n",
       "14565                 0               0                 0                 1   \n",
       "20546                 0               0                 0                 1   \n",
       "34495                 0               0                 0                 1   \n",
       "13814                 0               0                 0                 1   \n",
       "42153                 1               0                 0                 0   \n",
       "...                 ...             ...               ...               ...   \n",
       "11284                 0               0                 0                 1   \n",
       "44732                 1               0                 0                 0   \n",
       "38158                 0               0                 0                 1   \n",
       "860                   0               0                 0                 1   \n",
       "15795                 0               0                 0                 1   \n",
       "\n",
       "       contact_cellular  contact_telephone  contact_unknown  \n",
       "14565                 1                  0                0  \n",
       "20546                 1                  0                0  \n",
       "34495                 1                  0                0  \n",
       "13814                 1                  0                0  \n",
       "42153                 1                  0                0  \n",
       "...                 ...                ...              ...  \n",
       "11284                 0                  0                1  \n",
       "44732                 1                  0                0  \n",
       "38158                 1                  0                0  \n",
       "860                   0                  0                1  \n",
       "15795                 1                  0                0  \n",
       "\n",
       "[40689 rows x 38 columns]"
      ]
     },
     "execution_count": 738,
     "metadata": {},
     "output_type": "execute_result"
    }
   ],
   "source": [
    "train_df"
   ]
  },
  {
   "cell_type": "code",
   "execution_count": 739,
   "id": "4349d99a-2968-4b47-a8ca-72614a78f37d",
   "metadata": {},
   "outputs": [],
   "source": [
    "region_encoding_df = train_df.groupby('region', as_index = False).aggregate({'id': 'count', 'y': 'mean'}).rename(columns = \n",
    "    {'id': 'region_count', 'y': 'region_target'})"
   ]
  },
  {
   "cell_type": "code",
   "execution_count": 740,
   "id": "c2f00352-bc7c-4534-a104-f748383bef2d",
   "metadata": {},
   "outputs": [],
   "source": [
    "train_df = train_df.merge(region_encoding_df, on = 'region')"
   ]
  },
  {
   "cell_type": "code",
   "execution_count": 741,
   "id": "97c452fb-3106-45ad-9d86-a1bc1541b926",
   "metadata": {},
   "outputs": [
    {
     "data": {
      "text/plain": [
       "(36, 36)"
      ]
     },
     "execution_count": 741,
     "metadata": {},
     "output_type": "execute_result"
    }
   ],
   "source": [
    "count_feature_names = train_df.drop(['y', 'id', 'region_target', 'region'], axis = 1).columns\n",
    "target_feature_names = train_df.drop(['y', 'id', 'region_count', 'region'], axis = 1).columns\n",
    "len(count_feature_names), len(target_feature_names)"
   ]
  },
  {
   "cell_type": "code",
   "execution_count": 742,
   "id": "816b2884-3486-481a-9123-cad66a3ea00d",
   "metadata": {},
   "outputs": [
    {
     "data": {
      "text/plain": [
       "Index(['age', 'default', 'balance', 'housing', 'loan', 'day', 'month', 'pdays',\n",
       "       'previous', 'job_admin.', 'job_blue-collar', 'job_entrepreneur',\n",
       "       'job_housemaid', 'job_management', 'job_retired', 'job_self-employed',\n",
       "       'job_services', 'job_student', 'job_technician', 'job_unemployed',\n",
       "       'job_unknown', 'marital_divorced', 'marital_married', 'marital_single',\n",
       "       'education_primary', 'education_secondary', 'education_tertiary',\n",
       "       'education_unknown', 'poutcome_failure', 'poutcome_other',\n",
       "       'poutcome_success', 'poutcome_unknown', 'contact_cellular',\n",
       "       'contact_telephone', 'contact_unknown', 'region_count'],\n",
       "      dtype='object')"
      ]
     },
     "execution_count": 742,
     "metadata": {},
     "output_type": "execute_result"
    }
   ],
   "source": [
    "count_feature_names"
   ]
  },
  {
   "cell_type": "code",
   "execution_count": 743,
   "id": "15fc3da6-baf4-4b4c-bcf5-4b97e5fbb8b6",
   "metadata": {},
   "outputs": [
    {
     "data": {
      "text/html": [
       "<style>#sk-container-id-11 {\n",
       "  /* Definition of color scheme common for light and dark mode */\n",
       "  --sklearn-color-text: #000;\n",
       "  --sklearn-color-text-muted: #666;\n",
       "  --sklearn-color-line: gray;\n",
       "  /* Definition of color scheme for unfitted estimators */\n",
       "  --sklearn-color-unfitted-level-0: #fff5e6;\n",
       "  --sklearn-color-unfitted-level-1: #f6e4d2;\n",
       "  --sklearn-color-unfitted-level-2: #ffe0b3;\n",
       "  --sklearn-color-unfitted-level-3: chocolate;\n",
       "  /* Definition of color scheme for fitted estimators */\n",
       "  --sklearn-color-fitted-level-0: #f0f8ff;\n",
       "  --sklearn-color-fitted-level-1: #d4ebff;\n",
       "  --sklearn-color-fitted-level-2: #b3dbfd;\n",
       "  --sklearn-color-fitted-level-3: cornflowerblue;\n",
       "\n",
       "  /* Specific color for light theme */\n",
       "  --sklearn-color-text-on-default-background: var(--sg-text-color, var(--theme-code-foreground, var(--jp-content-font-color1, black)));\n",
       "  --sklearn-color-background: var(--sg-background-color, var(--theme-background, var(--jp-layout-color0, white)));\n",
       "  --sklearn-color-border-box: var(--sg-text-color, var(--theme-code-foreground, var(--jp-content-font-color1, black)));\n",
       "  --sklearn-color-icon: #696969;\n",
       "\n",
       "  @media (prefers-color-scheme: dark) {\n",
       "    /* Redefinition of color scheme for dark theme */\n",
       "    --sklearn-color-text-on-default-background: var(--sg-text-color, var(--theme-code-foreground, var(--jp-content-font-color1, white)));\n",
       "    --sklearn-color-background: var(--sg-background-color, var(--theme-background, var(--jp-layout-color0, #111)));\n",
       "    --sklearn-color-border-box: var(--sg-text-color, var(--theme-code-foreground, var(--jp-content-font-color1, white)));\n",
       "    --sklearn-color-icon: #878787;\n",
       "  }\n",
       "}\n",
       "\n",
       "#sk-container-id-11 {\n",
       "  color: var(--sklearn-color-text);\n",
       "}\n",
       "\n",
       "#sk-container-id-11 pre {\n",
       "  padding: 0;\n",
       "}\n",
       "\n",
       "#sk-container-id-11 input.sk-hidden--visually {\n",
       "  border: 0;\n",
       "  clip: rect(1px 1px 1px 1px);\n",
       "  clip: rect(1px, 1px, 1px, 1px);\n",
       "  height: 1px;\n",
       "  margin: -1px;\n",
       "  overflow: hidden;\n",
       "  padding: 0;\n",
       "  position: absolute;\n",
       "  width: 1px;\n",
       "}\n",
       "\n",
       "#sk-container-id-11 div.sk-dashed-wrapped {\n",
       "  border: 1px dashed var(--sklearn-color-line);\n",
       "  margin: 0 0.4em 0.5em 0.4em;\n",
       "  box-sizing: border-box;\n",
       "  padding-bottom: 0.4em;\n",
       "  background-color: var(--sklearn-color-background);\n",
       "}\n",
       "\n",
       "#sk-container-id-11 div.sk-container {\n",
       "  /* jupyter's `normalize.less` sets `[hidden] { display: none; }`\n",
       "     but bootstrap.min.css set `[hidden] { display: none !important; }`\n",
       "     so we also need the `!important` here to be able to override the\n",
       "     default hidden behavior on the sphinx rendered scikit-learn.org.\n",
       "     See: https://github.com/scikit-learn/scikit-learn/issues/21755 */\n",
       "  display: inline-block !important;\n",
       "  position: relative;\n",
       "}\n",
       "\n",
       "#sk-container-id-11 div.sk-text-repr-fallback {\n",
       "  display: none;\n",
       "}\n",
       "\n",
       "div.sk-parallel-item,\n",
       "div.sk-serial,\n",
       "div.sk-item {\n",
       "  /* draw centered vertical line to link estimators */\n",
       "  background-image: linear-gradient(var(--sklearn-color-text-on-default-background), var(--sklearn-color-text-on-default-background));\n",
       "  background-size: 2px 100%;\n",
       "  background-repeat: no-repeat;\n",
       "  background-position: center center;\n",
       "}\n",
       "\n",
       "/* Parallel-specific style estimator block */\n",
       "\n",
       "#sk-container-id-11 div.sk-parallel-item::after {\n",
       "  content: \"\";\n",
       "  width: 100%;\n",
       "  border-bottom: 2px solid var(--sklearn-color-text-on-default-background);\n",
       "  flex-grow: 1;\n",
       "}\n",
       "\n",
       "#sk-container-id-11 div.sk-parallel {\n",
       "  display: flex;\n",
       "  align-items: stretch;\n",
       "  justify-content: center;\n",
       "  background-color: var(--sklearn-color-background);\n",
       "  position: relative;\n",
       "}\n",
       "\n",
       "#sk-container-id-11 div.sk-parallel-item {\n",
       "  display: flex;\n",
       "  flex-direction: column;\n",
       "}\n",
       "\n",
       "#sk-container-id-11 div.sk-parallel-item:first-child::after {\n",
       "  align-self: flex-end;\n",
       "  width: 50%;\n",
       "}\n",
       "\n",
       "#sk-container-id-11 div.sk-parallel-item:last-child::after {\n",
       "  align-self: flex-start;\n",
       "  width: 50%;\n",
       "}\n",
       "\n",
       "#sk-container-id-11 div.sk-parallel-item:only-child::after {\n",
       "  width: 0;\n",
       "}\n",
       "\n",
       "/* Serial-specific style estimator block */\n",
       "\n",
       "#sk-container-id-11 div.sk-serial {\n",
       "  display: flex;\n",
       "  flex-direction: column;\n",
       "  align-items: center;\n",
       "  background-color: var(--sklearn-color-background);\n",
       "  padding-right: 1em;\n",
       "  padding-left: 1em;\n",
       "}\n",
       "\n",
       "\n",
       "/* Toggleable style: style used for estimator/Pipeline/ColumnTransformer box that is\n",
       "clickable and can be expanded/collapsed.\n",
       "- Pipeline and ColumnTransformer use this feature and define the default style\n",
       "- Estimators will overwrite some part of the style using the `sk-estimator` class\n",
       "*/\n",
       "\n",
       "/* Pipeline and ColumnTransformer style (default) */\n",
       "\n",
       "#sk-container-id-11 div.sk-toggleable {\n",
       "  /* Default theme specific background. It is overwritten whether we have a\n",
       "  specific estimator or a Pipeline/ColumnTransformer */\n",
       "  background-color: var(--sklearn-color-background);\n",
       "}\n",
       "\n",
       "/* Toggleable label */\n",
       "#sk-container-id-11 label.sk-toggleable__label {\n",
       "  cursor: pointer;\n",
       "  display: flex;\n",
       "  width: 100%;\n",
       "  margin-bottom: 0;\n",
       "  padding: 0.5em;\n",
       "  box-sizing: border-box;\n",
       "  text-align: center;\n",
       "  align-items: start;\n",
       "  justify-content: space-between;\n",
       "  gap: 0.5em;\n",
       "}\n",
       "\n",
       "#sk-container-id-11 label.sk-toggleable__label .caption {\n",
       "  font-size: 0.6rem;\n",
       "  font-weight: lighter;\n",
       "  color: var(--sklearn-color-text-muted);\n",
       "}\n",
       "\n",
       "#sk-container-id-11 label.sk-toggleable__label-arrow:before {\n",
       "  /* Arrow on the left of the label */\n",
       "  content: \"▸\";\n",
       "  float: left;\n",
       "  margin-right: 0.25em;\n",
       "  color: var(--sklearn-color-icon);\n",
       "}\n",
       "\n",
       "#sk-container-id-11 label.sk-toggleable__label-arrow:hover:before {\n",
       "  color: var(--sklearn-color-text);\n",
       "}\n",
       "\n",
       "/* Toggleable content - dropdown */\n",
       "\n",
       "#sk-container-id-11 div.sk-toggleable__content {\n",
       "  max-height: 0;\n",
       "  max-width: 0;\n",
       "  overflow: hidden;\n",
       "  text-align: left;\n",
       "  /* unfitted */\n",
       "  background-color: var(--sklearn-color-unfitted-level-0);\n",
       "}\n",
       "\n",
       "#sk-container-id-11 div.sk-toggleable__content.fitted {\n",
       "  /* fitted */\n",
       "  background-color: var(--sklearn-color-fitted-level-0);\n",
       "}\n",
       "\n",
       "#sk-container-id-11 div.sk-toggleable__content pre {\n",
       "  margin: 0.2em;\n",
       "  border-radius: 0.25em;\n",
       "  color: var(--sklearn-color-text);\n",
       "  /* unfitted */\n",
       "  background-color: var(--sklearn-color-unfitted-level-0);\n",
       "}\n",
       "\n",
       "#sk-container-id-11 div.sk-toggleable__content.fitted pre {\n",
       "  /* unfitted */\n",
       "  background-color: var(--sklearn-color-fitted-level-0);\n",
       "}\n",
       "\n",
       "#sk-container-id-11 input.sk-toggleable__control:checked~div.sk-toggleable__content {\n",
       "  /* Expand drop-down */\n",
       "  max-height: 200px;\n",
       "  max-width: 100%;\n",
       "  overflow: auto;\n",
       "}\n",
       "\n",
       "#sk-container-id-11 input.sk-toggleable__control:checked~label.sk-toggleable__label-arrow:before {\n",
       "  content: \"▾\";\n",
       "}\n",
       "\n",
       "/* Pipeline/ColumnTransformer-specific style */\n",
       "\n",
       "#sk-container-id-11 div.sk-label input.sk-toggleable__control:checked~label.sk-toggleable__label {\n",
       "  color: var(--sklearn-color-text);\n",
       "  background-color: var(--sklearn-color-unfitted-level-2);\n",
       "}\n",
       "\n",
       "#sk-container-id-11 div.sk-label.fitted input.sk-toggleable__control:checked~label.sk-toggleable__label {\n",
       "  background-color: var(--sklearn-color-fitted-level-2);\n",
       "}\n",
       "\n",
       "/* Estimator-specific style */\n",
       "\n",
       "/* Colorize estimator box */\n",
       "#sk-container-id-11 div.sk-estimator input.sk-toggleable__control:checked~label.sk-toggleable__label {\n",
       "  /* unfitted */\n",
       "  background-color: var(--sklearn-color-unfitted-level-2);\n",
       "}\n",
       "\n",
       "#sk-container-id-11 div.sk-estimator.fitted input.sk-toggleable__control:checked~label.sk-toggleable__label {\n",
       "  /* fitted */\n",
       "  background-color: var(--sklearn-color-fitted-level-2);\n",
       "}\n",
       "\n",
       "#sk-container-id-11 div.sk-label label.sk-toggleable__label,\n",
       "#sk-container-id-11 div.sk-label label {\n",
       "  /* The background is the default theme color */\n",
       "  color: var(--sklearn-color-text-on-default-background);\n",
       "}\n",
       "\n",
       "/* On hover, darken the color of the background */\n",
       "#sk-container-id-11 div.sk-label:hover label.sk-toggleable__label {\n",
       "  color: var(--sklearn-color-text);\n",
       "  background-color: var(--sklearn-color-unfitted-level-2);\n",
       "}\n",
       "\n",
       "/* Label box, darken color on hover, fitted */\n",
       "#sk-container-id-11 div.sk-label.fitted:hover label.sk-toggleable__label.fitted {\n",
       "  color: var(--sklearn-color-text);\n",
       "  background-color: var(--sklearn-color-fitted-level-2);\n",
       "}\n",
       "\n",
       "/* Estimator label */\n",
       "\n",
       "#sk-container-id-11 div.sk-label label {\n",
       "  font-family: monospace;\n",
       "  font-weight: bold;\n",
       "  display: inline-block;\n",
       "  line-height: 1.2em;\n",
       "}\n",
       "\n",
       "#sk-container-id-11 div.sk-label-container {\n",
       "  text-align: center;\n",
       "}\n",
       "\n",
       "/* Estimator-specific */\n",
       "#sk-container-id-11 div.sk-estimator {\n",
       "  font-family: monospace;\n",
       "  border: 1px dotted var(--sklearn-color-border-box);\n",
       "  border-radius: 0.25em;\n",
       "  box-sizing: border-box;\n",
       "  margin-bottom: 0.5em;\n",
       "  /* unfitted */\n",
       "  background-color: var(--sklearn-color-unfitted-level-0);\n",
       "}\n",
       "\n",
       "#sk-container-id-11 div.sk-estimator.fitted {\n",
       "  /* fitted */\n",
       "  background-color: var(--sklearn-color-fitted-level-0);\n",
       "}\n",
       "\n",
       "/* on hover */\n",
       "#sk-container-id-11 div.sk-estimator:hover {\n",
       "  /* unfitted */\n",
       "  background-color: var(--sklearn-color-unfitted-level-2);\n",
       "}\n",
       "\n",
       "#sk-container-id-11 div.sk-estimator.fitted:hover {\n",
       "  /* fitted */\n",
       "  background-color: var(--sklearn-color-fitted-level-2);\n",
       "}\n",
       "\n",
       "/* Specification for estimator info (e.g. \"i\" and \"?\") */\n",
       "\n",
       "/* Common style for \"i\" and \"?\" */\n",
       "\n",
       ".sk-estimator-doc-link,\n",
       "a:link.sk-estimator-doc-link,\n",
       "a:visited.sk-estimator-doc-link {\n",
       "  float: right;\n",
       "  font-size: smaller;\n",
       "  line-height: 1em;\n",
       "  font-family: monospace;\n",
       "  background-color: var(--sklearn-color-background);\n",
       "  border-radius: 1em;\n",
       "  height: 1em;\n",
       "  width: 1em;\n",
       "  text-decoration: none !important;\n",
       "  margin-left: 0.5em;\n",
       "  text-align: center;\n",
       "  /* unfitted */\n",
       "  border: var(--sklearn-color-unfitted-level-1) 1pt solid;\n",
       "  color: var(--sklearn-color-unfitted-level-1);\n",
       "}\n",
       "\n",
       ".sk-estimator-doc-link.fitted,\n",
       "a:link.sk-estimator-doc-link.fitted,\n",
       "a:visited.sk-estimator-doc-link.fitted {\n",
       "  /* fitted */\n",
       "  border: var(--sklearn-color-fitted-level-1) 1pt solid;\n",
       "  color: var(--sklearn-color-fitted-level-1);\n",
       "}\n",
       "\n",
       "/* On hover */\n",
       "div.sk-estimator:hover .sk-estimator-doc-link:hover,\n",
       ".sk-estimator-doc-link:hover,\n",
       "div.sk-label-container:hover .sk-estimator-doc-link:hover,\n",
       ".sk-estimator-doc-link:hover {\n",
       "  /* unfitted */\n",
       "  background-color: var(--sklearn-color-unfitted-level-3);\n",
       "  color: var(--sklearn-color-background);\n",
       "  text-decoration: none;\n",
       "}\n",
       "\n",
       "div.sk-estimator.fitted:hover .sk-estimator-doc-link.fitted:hover,\n",
       ".sk-estimator-doc-link.fitted:hover,\n",
       "div.sk-label-container:hover .sk-estimator-doc-link.fitted:hover,\n",
       ".sk-estimator-doc-link.fitted:hover {\n",
       "  /* fitted */\n",
       "  background-color: var(--sklearn-color-fitted-level-3);\n",
       "  color: var(--sklearn-color-background);\n",
       "  text-decoration: none;\n",
       "}\n",
       "\n",
       "/* Span, style for the box shown on hovering the info icon */\n",
       ".sk-estimator-doc-link span {\n",
       "  display: none;\n",
       "  z-index: 9999;\n",
       "  position: relative;\n",
       "  font-weight: normal;\n",
       "  right: .2ex;\n",
       "  padding: .5ex;\n",
       "  margin: .5ex;\n",
       "  width: min-content;\n",
       "  min-width: 20ex;\n",
       "  max-width: 50ex;\n",
       "  color: var(--sklearn-color-text);\n",
       "  box-shadow: 2pt 2pt 4pt #999;\n",
       "  /* unfitted */\n",
       "  background: var(--sklearn-color-unfitted-level-0);\n",
       "  border: .5pt solid var(--sklearn-color-unfitted-level-3);\n",
       "}\n",
       "\n",
       ".sk-estimator-doc-link.fitted span {\n",
       "  /* fitted */\n",
       "  background: var(--sklearn-color-fitted-level-0);\n",
       "  border: var(--sklearn-color-fitted-level-3);\n",
       "}\n",
       "\n",
       ".sk-estimator-doc-link:hover span {\n",
       "  display: block;\n",
       "}\n",
       "\n",
       "/* \"?\"-specific style due to the `<a>` HTML tag */\n",
       "\n",
       "#sk-container-id-11 a.estimator_doc_link {\n",
       "  float: right;\n",
       "  font-size: 1rem;\n",
       "  line-height: 1em;\n",
       "  font-family: monospace;\n",
       "  background-color: var(--sklearn-color-background);\n",
       "  border-radius: 1rem;\n",
       "  height: 1rem;\n",
       "  width: 1rem;\n",
       "  text-decoration: none;\n",
       "  /* unfitted */\n",
       "  color: var(--sklearn-color-unfitted-level-1);\n",
       "  border: var(--sklearn-color-unfitted-level-1) 1pt solid;\n",
       "}\n",
       "\n",
       "#sk-container-id-11 a.estimator_doc_link.fitted {\n",
       "  /* fitted */\n",
       "  border: var(--sklearn-color-fitted-level-1) 1pt solid;\n",
       "  color: var(--sklearn-color-fitted-level-1);\n",
       "}\n",
       "\n",
       "/* On hover */\n",
       "#sk-container-id-11 a.estimator_doc_link:hover {\n",
       "  /* unfitted */\n",
       "  background-color: var(--sklearn-color-unfitted-level-3);\n",
       "  color: var(--sklearn-color-background);\n",
       "  text-decoration: none;\n",
       "}\n",
       "\n",
       "#sk-container-id-11 a.estimator_doc_link.fitted:hover {\n",
       "  /* fitted */\n",
       "  background-color: var(--sklearn-color-fitted-level-3);\n",
       "}\n",
       "</style><div id=\"sk-container-id-11\" class=\"sk-top-container\"><div class=\"sk-text-repr-fallback\"><pre>DecisionTreeClassifier(min_impurity_decrease=0.001, min_samples_leaf=500)</pre><b>In a Jupyter environment, please rerun this cell to show the HTML representation or trust the notebook. <br />On GitHub, the HTML representation is unable to render, please try loading this page with nbviewer.org.</b></div><div class=\"sk-container\" hidden><div class=\"sk-item\"><div class=\"sk-estimator fitted sk-toggleable\"><input class=\"sk-toggleable__control sk-hidden--visually\" id=\"sk-estimator-id-11\" type=\"checkbox\" checked><label for=\"sk-estimator-id-11\" class=\"sk-toggleable__label fitted sk-toggleable__label-arrow\"><div><div>DecisionTreeClassifier</div></div><div><a class=\"sk-estimator-doc-link fitted\" rel=\"noreferrer\" target=\"_blank\" href=\"https://scikit-learn.org/1.6/modules/generated/sklearn.tree.DecisionTreeClassifier.html\">?<span>Documentation for DecisionTreeClassifier</span></a><span class=\"sk-estimator-doc-link fitted\">i<span>Fitted</span></span></div></label><div class=\"sk-toggleable__content fitted\"><pre>DecisionTreeClassifier(min_impurity_decrease=0.001, min_samples_leaf=500)</pre></div> </div></div></div></div>"
      ],
      "text/plain": [
       "DecisionTreeClassifier(min_impurity_decrease=0.001, min_samples_leaf=500)"
      ]
     },
     "execution_count": 743,
     "metadata": {},
     "output_type": "execute_result"
    }
   ],
   "source": [
    "count_model = sklearn.tree.DecisionTreeClassifier(min_samples_leaf = 500, min_impurity_decrease=0.001)\n",
    "count_model.fit(train_df[count_feature_names], train_df['y'])\n",
    "\n",
    "target_model = sklearn.tree.DecisionTreeClassifier(min_samples_leaf = 500, min_impurity_decrease=0.001)\n",
    "target_model.fit(train_df[target_feature_names], train_df['y'])"
   ]
  },
  {
   "cell_type": "code",
   "execution_count": 744,
   "id": "8969d0cc-61e3-4c88-918e-8eb728f5befb",
   "metadata": {},
   "outputs": [],
   "source": [
    "count_model_def_df = get_model_definition(count_model, count_feature_names)\n",
    "target_model_def_df = get_model_definition(target_model, target_feature_names)"
   ]
  },
  {
   "cell_type": "code",
   "execution_count": 754,
   "id": "a0683f81-ef52-4761-b238-7716aa6de334",
   "metadata": {},
   "outputs": [
    {
     "data": {
      "text/html": [
       "<div>\n",
       "<style scoped>\n",
       "    .dataframe tbody tr th:only-of-type {\n",
       "        vertical-align: middle;\n",
       "    }\n",
       "\n",
       "    .dataframe tbody tr th {\n",
       "        vertical-align: top;\n",
       "    }\n",
       "\n",
       "    .dataframe thead th {\n",
       "        text-align: right;\n",
       "    }\n",
       "</style>\n",
       "<table border=\"1\" class=\"dataframe\">\n",
       "  <thead>\n",
       "    <tr style=\"text-align: right;\">\n",
       "      <th></th>\n",
       "      <th>total</th>\n",
       "      <th>conversion</th>\n",
       "      <th>converted_users</th>\n",
       "      <th>share_of_converted</th>\n",
       "      <th>share_of_total</th>\n",
       "      <th>cum_share_of_total</th>\n",
       "      <th>cum_share_of_converted</th>\n",
       "    </tr>\n",
       "    <tr>\n",
       "      <th>condition</th>\n",
       "      <th></th>\n",
       "      <th></th>\n",
       "      <th></th>\n",
       "      <th></th>\n",
       "      <th></th>\n",
       "      <th></th>\n",
       "      <th></th>\n",
       "    </tr>\n",
       "  </thead>\n",
       "  <tbody>\n",
       "    <tr>\n",
       "      <th>(poutcome_success &gt; 0.50)</th>\n",
       "      <td>1353</td>\n",
       "      <td>64.67</td>\n",
       "      <td>875</td>\n",
       "      <td>18.48</td>\n",
       "      <td>3.33</td>\n",
       "      <td>3.33</td>\n",
       "      <td>18.48</td>\n",
       "    </tr>\n",
       "    <tr>\n",
       "      <th>(poutcome_success &lt;= 0.50) and (age &gt; 60.50)</th>\n",
       "      <td>898</td>\n",
       "      <td>37.08</td>\n",
       "      <td>333</td>\n",
       "      <td>7.03</td>\n",
       "      <td>2.21</td>\n",
       "      <td>5.53</td>\n",
       "      <td>25.51</td>\n",
       "    </tr>\n",
       "    <tr>\n",
       "      <th>(region_count &gt; 3645.50) and (region_count &lt;= 8151.50) and (poutcome_success &lt;= 0.50) and (contact_cellular &gt; 0.50) and (age &lt;= 60.50)</th>\n",
       "      <td>2350</td>\n",
       "      <td>36.68</td>\n",
       "      <td>862</td>\n",
       "      <td>18.20</td>\n",
       "      <td>5.78</td>\n",
       "      <td>11.31</td>\n",
       "      <td>43.72</td>\n",
       "    </tr>\n",
       "    <tr>\n",
       "      <th>(region_count &gt; 589.50) and (region_count &lt;= 2630.00) and (poutcome_success &lt;= 0.50) and (contact_unknown &lt;= 0.50) and (age &lt;= 60.50)</th>\n",
       "      <td>4559</td>\n",
       "      <td>24.19</td>\n",
       "      <td>1103</td>\n",
       "      <td>23.29</td>\n",
       "      <td>11.20</td>\n",
       "      <td>22.51</td>\n",
       "      <td>67.01</td>\n",
       "    </tr>\n",
       "    <tr>\n",
       "      <th>(region_count &gt; 3645.50) and (region_count &lt;= 8151.50) and (poutcome_success &lt;= 0.50) and (contact_cellular &lt;= 0.50) and (age &lt;= 60.50)</th>\n",
       "      <td>1063</td>\n",
       "      <td>17.40</td>\n",
       "      <td>185</td>\n",
       "      <td>3.91</td>\n",
       "      <td>2.61</td>\n",
       "      <td>25.12</td>\n",
       "      <td>70.92</td>\n",
       "    </tr>\n",
       "    <tr>\n",
       "      <th>(region_count &gt; 589.50) and (region_count &lt;= 2630.00) and (poutcome_success &lt;= 0.50) and (contact_unknown &gt; 0.50) and (age &lt;= 60.50)</th>\n",
       "      <td>1795</td>\n",
       "      <td>8.69</td>\n",
       "      <td>156</td>\n",
       "      <td>3.29</td>\n",
       "      <td>4.41</td>\n",
       "      <td>29.54</td>\n",
       "      <td>74.21</td>\n",
       "    </tr>\n",
       "    <tr>\n",
       "      <th>(region_count &gt; 8151.50) and (poutcome_success &lt;= 0.50) and (age &lt;= 60.50)</th>\n",
       "      <td>11936</td>\n",
       "      <td>4.40</td>\n",
       "      <td>525</td>\n",
       "      <td>11.09</td>\n",
       "      <td>29.33</td>\n",
       "      <td>58.87</td>\n",
       "      <td>85.30</td>\n",
       "    </tr>\n",
       "  </tbody>\n",
       "</table>\n",
       "</div>"
      ],
      "text/plain": [
       "                                                                                                                                         total  \\\n",
       "condition                                                                                                                                        \n",
       "(poutcome_success > 0.50)                                                                                                                 1353   \n",
       "(poutcome_success <= 0.50) and (age > 60.50)                                                                                               898   \n",
       "(region_count > 3645.50) and (region_count <= 8151.50) and (poutcome_success <= 0.50) and (contact_cellular > 0.50) and (age <= 60.50)    2350   \n",
       "(region_count > 589.50) and (region_count <= 2630.00) and (poutcome_success <= 0.50) and (contact_unknown <= 0.50) and (age <= 60.50)     4559   \n",
       "(region_count > 3645.50) and (region_count <= 8151.50) and (poutcome_success <= 0.50) and (contact_cellular <= 0.50) and (age <= 60.50)   1063   \n",
       "(region_count > 589.50) and (region_count <= 2630.00) and (poutcome_success <= 0.50) and (contact_unknown > 0.50) and (age <= 60.50)      1795   \n",
       "(region_count > 8151.50) and (poutcome_success <= 0.50) and (age <= 60.50)                                                               11936   \n",
       "\n",
       "                                                                                                                                         conversion  \\\n",
       "condition                                                                                                                                             \n",
       "(poutcome_success > 0.50)                                                                                                                     64.67   \n",
       "(poutcome_success <= 0.50) and (age > 60.50)                                                                                                  37.08   \n",
       "(region_count > 3645.50) and (region_count <= 8151.50) and (poutcome_success <= 0.50) and (contact_cellular > 0.50) and (age <= 60.50)        36.68   \n",
       "(region_count > 589.50) and (region_count <= 2630.00) and (poutcome_success <= 0.50) and (contact_unknown <= 0.50) and (age <= 60.50)         24.19   \n",
       "(region_count > 3645.50) and (region_count <= 8151.50) and (poutcome_success <= 0.50) and (contact_cellular <= 0.50) and (age <= 60.50)       17.40   \n",
       "(region_count > 589.50) and (region_count <= 2630.00) and (poutcome_success <= 0.50) and (contact_unknown > 0.50) and (age <= 60.50)           8.69   \n",
       "(region_count > 8151.50) and (poutcome_success <= 0.50) and (age <= 60.50)                                                                     4.40   \n",
       "\n",
       "                                                                                                                                         converted_users  \\\n",
       "condition                                                                                                                                                  \n",
       "(poutcome_success > 0.50)                                                                                                                            875   \n",
       "(poutcome_success <= 0.50) and (age > 60.50)                                                                                                         333   \n",
       "(region_count > 3645.50) and (region_count <= 8151.50) and (poutcome_success <= 0.50) and (contact_cellular > 0.50) and (age <= 60.50)               862   \n",
       "(region_count > 589.50) and (region_count <= 2630.00) and (poutcome_success <= 0.50) and (contact_unknown <= 0.50) and (age <= 60.50)               1103   \n",
       "(region_count > 3645.50) and (region_count <= 8151.50) and (poutcome_success <= 0.50) and (contact_cellular <= 0.50) and (age <= 60.50)              185   \n",
       "(region_count > 589.50) and (region_count <= 2630.00) and (poutcome_success <= 0.50) and (contact_unknown > 0.50) and (age <= 60.50)                 156   \n",
       "(region_count > 8151.50) and (poutcome_success <= 0.50) and (age <= 60.50)                                                                           525   \n",
       "\n",
       "                                                                                                                                         share_of_converted  \\\n",
       "condition                                                                                                                                                     \n",
       "(poutcome_success > 0.50)                                                                                                                             18.48   \n",
       "(poutcome_success <= 0.50) and (age > 60.50)                                                                                                           7.03   \n",
       "(region_count > 3645.50) and (region_count <= 8151.50) and (poutcome_success <= 0.50) and (contact_cellular > 0.50) and (age <= 60.50)                18.20   \n",
       "(region_count > 589.50) and (region_count <= 2630.00) and (poutcome_success <= 0.50) and (contact_unknown <= 0.50) and (age <= 60.50)                 23.29   \n",
       "(region_count > 3645.50) and (region_count <= 8151.50) and (poutcome_success <= 0.50) and (contact_cellular <= 0.50) and (age <= 60.50)                3.91   \n",
       "(region_count > 589.50) and (region_count <= 2630.00) and (poutcome_success <= 0.50) and (contact_unknown > 0.50) and (age <= 60.50)                   3.29   \n",
       "(region_count > 8151.50) and (poutcome_success <= 0.50) and (age <= 60.50)                                                                            11.09   \n",
       "\n",
       "                                                                                                                                         share_of_total  \\\n",
       "condition                                                                                                                                                 \n",
       "(poutcome_success > 0.50)                                                                                                                          3.33   \n",
       "(poutcome_success <= 0.50) and (age > 60.50)                                                                                                       2.21   \n",
       "(region_count > 3645.50) and (region_count <= 8151.50) and (poutcome_success <= 0.50) and (contact_cellular > 0.50) and (age <= 60.50)             5.78   \n",
       "(region_count > 589.50) and (region_count <= 2630.00) and (poutcome_success <= 0.50) and (contact_unknown <= 0.50) and (age <= 60.50)             11.20   \n",
       "(region_count > 3645.50) and (region_count <= 8151.50) and (poutcome_success <= 0.50) and (contact_cellular <= 0.50) and (age <= 60.50)            2.61   \n",
       "(region_count > 589.50) and (region_count <= 2630.00) and (poutcome_success <= 0.50) and (contact_unknown > 0.50) and (age <= 60.50)               4.41   \n",
       "(region_count > 8151.50) and (poutcome_success <= 0.50) and (age <= 60.50)                                                                        29.33   \n",
       "\n",
       "                                                                                                                                         cum_share_of_total  \\\n",
       "condition                                                                                                                                                     \n",
       "(poutcome_success > 0.50)                                                                                                                              3.33   \n",
       "(poutcome_success <= 0.50) and (age > 60.50)                                                                                                           5.53   \n",
       "(region_count > 3645.50) and (region_count <= 8151.50) and (poutcome_success <= 0.50) and (contact_cellular > 0.50) and (age <= 60.50)                11.31   \n",
       "(region_count > 589.50) and (region_count <= 2630.00) and (poutcome_success <= 0.50) and (contact_unknown <= 0.50) and (age <= 60.50)                 22.51   \n",
       "(region_count > 3645.50) and (region_count <= 8151.50) and (poutcome_success <= 0.50) and (contact_cellular <= 0.50) and (age <= 60.50)               25.12   \n",
       "(region_count > 589.50) and (region_count <= 2630.00) and (poutcome_success <= 0.50) and (contact_unknown > 0.50) and (age <= 60.50)                  29.54   \n",
       "(region_count > 8151.50) and (poutcome_success <= 0.50) and (age <= 60.50)                                                                            58.87   \n",
       "\n",
       "                                                                                                                                         cum_share_of_converted  \n",
       "condition                                                                                                                                                        \n",
       "(poutcome_success > 0.50)                                                                                                                                 18.48  \n",
       "(poutcome_success <= 0.50) and (age > 60.50)                                                                                                              25.51  \n",
       "(region_count > 3645.50) and (region_count <= 8151.50) and (poutcome_success <= 0.50) and (contact_cellular > 0.50) and (age <= 60.50)                    43.72  \n",
       "(region_count > 589.50) and (region_count <= 2630.00) and (poutcome_success <= 0.50) and (contact_unknown <= 0.50) and (age <= 60.50)                     67.01  \n",
       "(region_count > 3645.50) and (region_count <= 8151.50) and (poutcome_success <= 0.50) and (contact_cellular <= 0.50) and (age <= 60.50)                   70.92  \n",
       "(region_count > 589.50) and (region_count <= 2630.00) and (poutcome_success <= 0.50) and (contact_unknown > 0.50) and (age <= 60.50)                      74.21  \n",
       "(region_count > 8151.50) and (poutcome_success <= 0.50) and (age <= 60.50)                                                                                85.30  "
      ]
     },
     "execution_count": 754,
     "metadata": {},
     "output_type": "execute_result"
    }
   ],
   "source": [
    "count_model_def_df.head(7)"
   ]
  },
  {
   "cell_type": "code",
   "execution_count": 755,
   "id": "0227a142-80c5-4c33-b8a8-968943a7e5b8",
   "metadata": {},
   "outputs": [
    {
     "data": {
      "text/html": [
       "<div>\n",
       "<style scoped>\n",
       "    .dataframe tbody tr th:only-of-type {\n",
       "        vertical-align: middle;\n",
       "    }\n",
       "\n",
       "    .dataframe tbody tr th {\n",
       "        vertical-align: top;\n",
       "    }\n",
       "\n",
       "    .dataframe thead th {\n",
       "        text-align: right;\n",
       "    }\n",
       "</style>\n",
       "<table border=\"1\" class=\"dataframe\">\n",
       "  <thead>\n",
       "    <tr style=\"text-align: right;\">\n",
       "      <th></th>\n",
       "      <th>total</th>\n",
       "      <th>conversion</th>\n",
       "      <th>converted_users</th>\n",
       "      <th>share_of_converted</th>\n",
       "      <th>share_of_total</th>\n",
       "      <th>cum_share_of_total</th>\n",
       "      <th>cum_share_of_converted</th>\n",
       "    </tr>\n",
       "    <tr>\n",
       "      <th>condition</th>\n",
       "      <th></th>\n",
       "      <th></th>\n",
       "      <th></th>\n",
       "      <th></th>\n",
       "      <th></th>\n",
       "      <th></th>\n",
       "      <th></th>\n",
       "    </tr>\n",
       "  </thead>\n",
       "  <tbody>\n",
       "    <tr>\n",
       "      <th>(region_target &gt; 0.21) and (poutcome_success &gt; 0.50)</th>\n",
       "      <td>634</td>\n",
       "      <td>90.54</td>\n",
       "      <td>574</td>\n",
       "      <td>12.12</td>\n",
       "      <td>1.56</td>\n",
       "      <td>1.56</td>\n",
       "      <td>12.12</td>\n",
       "    </tr>\n",
       "    <tr>\n",
       "      <th>(region_target &gt; 0.21) and (poutcome_success &lt;= 0.50) and (month &lt;= 6.50) and (housing &lt;= 0.50) and (contact_unknown &lt;= 0.50)</th>\n",
       "      <td>1154</td>\n",
       "      <td>56.67</td>\n",
       "      <td>654</td>\n",
       "      <td>13.81</td>\n",
       "      <td>2.84</td>\n",
       "      <td>4.39</td>\n",
       "      <td>25.93</td>\n",
       "    </tr>\n",
       "    <tr>\n",
       "      <th>(region_target &gt; 0.21) and (poutcome_success &lt;= 0.50) and (month &gt; 8.50) and (housing &lt;= 0.50) and (contact_unknown &lt;= 0.50)</th>\n",
       "      <td>577</td>\n",
       "      <td>54.07</td>\n",
       "      <td>312</td>\n",
       "      <td>6.59</td>\n",
       "      <td>1.42</td>\n",
       "      <td>5.81</td>\n",
       "      <td>32.52</td>\n",
       "    </tr>\n",
       "    <tr>\n",
       "      <th>(region_target &lt;= 0.21) and (poutcome_success &gt; 0.50)</th>\n",
       "      <td>719</td>\n",
       "      <td>41.86</td>\n",
       "      <td>301</td>\n",
       "      <td>6.36</td>\n",
       "      <td>1.77</td>\n",
       "      <td>7.58</td>\n",
       "      <td>38.88</td>\n",
       "    </tr>\n",
       "    <tr>\n",
       "      <th>(region_target &gt; 0.21) and (poutcome_success &lt;= 0.50) and (month &gt; 6.50) and (month &lt;= 8.50) and (housing &lt;= 0.50) and (contact_unknown &lt;= 0.50)</th>\n",
       "      <td>1438</td>\n",
       "      <td>30.60</td>\n",
       "      <td>440</td>\n",
       "      <td>9.29</td>\n",
       "      <td>3.53</td>\n",
       "      <td>11.11</td>\n",
       "      <td>48.17</td>\n",
       "    </tr>\n",
       "    <tr>\n",
       "      <th>(region_target &gt; 0.21) and (poutcome_success &lt;= 0.50) and (housing &gt; 0.50) and (contact_unknown &lt;= 0.50)</th>\n",
       "      <td>2528</td>\n",
       "      <td>30.14</td>\n",
       "      <td>762</td>\n",
       "      <td>16.09</td>\n",
       "      <td>6.21</td>\n",
       "      <td>17.33</td>\n",
       "      <td>64.27</td>\n",
       "    </tr>\n",
       "    <tr>\n",
       "      <th>(region_target &gt; 0.21) and (poutcome_success &lt;= 0.50) and (contact_unknown &gt; 0.50)</th>\n",
       "      <td>1867</td>\n",
       "      <td>14.73</td>\n",
       "      <td>275</td>\n",
       "      <td>5.81</td>\n",
       "      <td>4.59</td>\n",
       "      <td>21.92</td>\n",
       "      <td>70.07</td>\n",
       "    </tr>\n",
       "  </tbody>\n",
       "</table>\n",
       "</div>"
      ],
      "text/plain": [
       "                                                                                                                                                  total  \\\n",
       "condition                                                                                                                                                 \n",
       "(region_target > 0.21) and (poutcome_success > 0.50)                                                                                                634   \n",
       "(region_target > 0.21) and (poutcome_success <= 0.50) and (month <= 6.50) and (housing <= 0.50) and (contact_unknown <= 0.50)                      1154   \n",
       "(region_target > 0.21) and (poutcome_success <= 0.50) and (month > 8.50) and (housing <= 0.50) and (contact_unknown <= 0.50)                        577   \n",
       "(region_target <= 0.21) and (poutcome_success > 0.50)                                                                                               719   \n",
       "(region_target > 0.21) and (poutcome_success <= 0.50) and (month > 6.50) and (month <= 8.50) and (housing <= 0.50) and (contact_unknown <= 0.50)   1438   \n",
       "(region_target > 0.21) and (poutcome_success <= 0.50) and (housing > 0.50) and (contact_unknown <= 0.50)                                           2528   \n",
       "(region_target > 0.21) and (poutcome_success <= 0.50) and (contact_unknown > 0.50)                                                                 1867   \n",
       "\n",
       "                                                                                                                                                  conversion  \\\n",
       "condition                                                                                                                                                      \n",
       "(region_target > 0.21) and (poutcome_success > 0.50)                                                                                                   90.54   \n",
       "(region_target > 0.21) and (poutcome_success <= 0.50) and (month <= 6.50) and (housing <= 0.50) and (contact_unknown <= 0.50)                          56.67   \n",
       "(region_target > 0.21) and (poutcome_success <= 0.50) and (month > 8.50) and (housing <= 0.50) and (contact_unknown <= 0.50)                           54.07   \n",
       "(region_target <= 0.21) and (poutcome_success > 0.50)                                                                                                  41.86   \n",
       "(region_target > 0.21) and (poutcome_success <= 0.50) and (month > 6.50) and (month <= 8.50) and (housing <= 0.50) and (contact_unknown <= 0.50)       30.60   \n",
       "(region_target > 0.21) and (poutcome_success <= 0.50) and (housing > 0.50) and (contact_unknown <= 0.50)                                               30.14   \n",
       "(region_target > 0.21) and (poutcome_success <= 0.50) and (contact_unknown > 0.50)                                                                     14.73   \n",
       "\n",
       "                                                                                                                                                  converted_users  \\\n",
       "condition                                                                                                                                                           \n",
       "(region_target > 0.21) and (poutcome_success > 0.50)                                                                                                          574   \n",
       "(region_target > 0.21) and (poutcome_success <= 0.50) and (month <= 6.50) and (housing <= 0.50) and (contact_unknown <= 0.50)                                 654   \n",
       "(region_target > 0.21) and (poutcome_success <= 0.50) and (month > 8.50) and (housing <= 0.50) and (contact_unknown <= 0.50)                                  312   \n",
       "(region_target <= 0.21) and (poutcome_success > 0.50)                                                                                                         301   \n",
       "(region_target > 0.21) and (poutcome_success <= 0.50) and (month > 6.50) and (month <= 8.50) and (housing <= 0.50) and (contact_unknown <= 0.50)              440   \n",
       "(region_target > 0.21) and (poutcome_success <= 0.50) and (housing > 0.50) and (contact_unknown <= 0.50)                                                      762   \n",
       "(region_target > 0.21) and (poutcome_success <= 0.50) and (contact_unknown > 0.50)                                                                            275   \n",
       "\n",
       "                                                                                                                                                  share_of_converted  \\\n",
       "condition                                                                                                                                                              \n",
       "(region_target > 0.21) and (poutcome_success > 0.50)                                                                                                           12.12   \n",
       "(region_target > 0.21) and (poutcome_success <= 0.50) and (month <= 6.50) and (housing <= 0.50) and (contact_unknown <= 0.50)                                  13.81   \n",
       "(region_target > 0.21) and (poutcome_success <= 0.50) and (month > 8.50) and (housing <= 0.50) and (contact_unknown <= 0.50)                                    6.59   \n",
       "(region_target <= 0.21) and (poutcome_success > 0.50)                                                                                                           6.36   \n",
       "(region_target > 0.21) and (poutcome_success <= 0.50) and (month > 6.50) and (month <= 8.50) and (housing <= 0.50) and (contact_unknown <= 0.50)                9.29   \n",
       "(region_target > 0.21) and (poutcome_success <= 0.50) and (housing > 0.50) and (contact_unknown <= 0.50)                                                       16.09   \n",
       "(region_target > 0.21) and (poutcome_success <= 0.50) and (contact_unknown > 0.50)                                                                              5.81   \n",
       "\n",
       "                                                                                                                                                  share_of_total  \\\n",
       "condition                                                                                                                                                          \n",
       "(region_target > 0.21) and (poutcome_success > 0.50)                                                                                                        1.56   \n",
       "(region_target > 0.21) and (poutcome_success <= 0.50) and (month <= 6.50) and (housing <= 0.50) and (contact_unknown <= 0.50)                               2.84   \n",
       "(region_target > 0.21) and (poutcome_success <= 0.50) and (month > 8.50) and (housing <= 0.50) and (contact_unknown <= 0.50)                                1.42   \n",
       "(region_target <= 0.21) and (poutcome_success > 0.50)                                                                                                       1.77   \n",
       "(region_target > 0.21) and (poutcome_success <= 0.50) and (month > 6.50) and (month <= 8.50) and (housing <= 0.50) and (contact_unknown <= 0.50)            3.53   \n",
       "(region_target > 0.21) and (poutcome_success <= 0.50) and (housing > 0.50) and (contact_unknown <= 0.50)                                                    6.21   \n",
       "(region_target > 0.21) and (poutcome_success <= 0.50) and (contact_unknown > 0.50)                                                                          4.59   \n",
       "\n",
       "                                                                                                                                                  cum_share_of_total  \\\n",
       "condition                                                                                                                                                              \n",
       "(region_target > 0.21) and (poutcome_success > 0.50)                                                                                                            1.56   \n",
       "(region_target > 0.21) and (poutcome_success <= 0.50) and (month <= 6.50) and (housing <= 0.50) and (contact_unknown <= 0.50)                                   4.39   \n",
       "(region_target > 0.21) and (poutcome_success <= 0.50) and (month > 8.50) and (housing <= 0.50) and (contact_unknown <= 0.50)                                    5.81   \n",
       "(region_target <= 0.21) and (poutcome_success > 0.50)                                                                                                           7.58   \n",
       "(region_target > 0.21) and (poutcome_success <= 0.50) and (month > 6.50) and (month <= 8.50) and (housing <= 0.50) and (contact_unknown <= 0.50)               11.11   \n",
       "(region_target > 0.21) and (poutcome_success <= 0.50) and (housing > 0.50) and (contact_unknown <= 0.50)                                                       17.33   \n",
       "(region_target > 0.21) and (poutcome_success <= 0.50) and (contact_unknown > 0.50)                                                                             21.92   \n",
       "\n",
       "                                                                                                                                                  cum_share_of_converted  \n",
       "condition                                                                                                                                                                 \n",
       "(region_target > 0.21) and (poutcome_success > 0.50)                                                                                                               12.12  \n",
       "(region_target > 0.21) and (poutcome_success <= 0.50) and (month <= 6.50) and (housing <= 0.50) and (contact_unknown <= 0.50)                                      25.93  \n",
       "(region_target > 0.21) and (poutcome_success <= 0.50) and (month > 8.50) and (housing <= 0.50) and (contact_unknown <= 0.50)                                       32.52  \n",
       "(region_target <= 0.21) and (poutcome_success > 0.50)                                                                                                              38.88  \n",
       "(region_target > 0.21) and (poutcome_success <= 0.50) and (month > 6.50) and (month <= 8.50) and (housing <= 0.50) and (contact_unknown <= 0.50)                   48.17  \n",
       "(region_target > 0.21) and (poutcome_success <= 0.50) and (housing > 0.50) and (contact_unknown <= 0.50)                                                           64.27  \n",
       "(region_target > 0.21) and (poutcome_success <= 0.50) and (contact_unknown > 0.50)                                                                                 70.07  "
      ]
     },
     "execution_count": 755,
     "metadata": {},
     "output_type": "execute_result"
    }
   ],
   "source": [
    "target_model_def_df.head(7)"
   ]
  },
  {
   "cell_type": "code",
   "execution_count": 747,
   "id": "3213cc77-c288-415f-92c4-5414b18f26d3",
   "metadata": {},
   "outputs": [
    {
     "data": {
      "text/plain": [
       "(4522, 554, 12.251216275984078)"
      ]
     },
     "execution_count": 747,
     "metadata": {},
     "output_type": "execute_result"
    }
   ],
   "source": [
    "test_df = test_df.merge(region_encoding_df)\n",
    "total = test_df.shape[0]\n",
    "converted = test_df.y.sum()\n",
    "total, converted, converted/total*100"
   ]
  },
  {
   "cell_type": "code",
   "execution_count": 756,
   "id": "0ebce11f-bd75-4d62-ae58-89a46fd7d3b6",
   "metadata": {},
   "outputs": [
    {
     "data": {
      "text/plain": [
       "(508, 227)"
      ]
     },
     "execution_count": 756,
     "metadata": {},
     "output_type": "execute_result"
    }
   ],
   "source": [
    "count_selected_df = test_df[\n",
    "    (test_df.poutcome_success > 0.50) | \n",
    "    ((test_df.poutcome_success <= 0.50) & (test_df.age > 60.50)) | \n",
    "    ((test_df.region_count > 3645.50) & (test_df.region_count <= 8151.50) & \n",
    "         (test_df.poutcome_success <= 0.50) & (test_df.contact_cellular > 0.50) & (test_df.age <= 60.50))\n",
    "]\n",
    "\n",
    "count_selected_df.shape[0], count_selected_df.y.sum()"
   ]
  },
  {
   "cell_type": "code",
   "execution_count": 759,
   "id": "92b6c35f-c440-4ba0-8426-a9ac590b208e",
   "metadata": {},
   "outputs": [
    {
     "data": {
      "text/html": [
       "<div>\n",
       "<style scoped>\n",
       "    .dataframe tbody tr th:only-of-type {\n",
       "        vertical-align: middle;\n",
       "    }\n",
       "\n",
       "    .dataframe tbody tr th {\n",
       "        vertical-align: top;\n",
       "    }\n",
       "\n",
       "    .dataframe thead th {\n",
       "        text-align: right;\n",
       "    }\n",
       "</style>\n",
       "<table border=\"1\" class=\"dataframe\">\n",
       "  <thead>\n",
       "    <tr style=\"text-align: right;\">\n",
       "      <th></th>\n",
       "      <th>region</th>\n",
       "      <th>region_count</th>\n",
       "      <th>region_target</th>\n",
       "    </tr>\n",
       "  </thead>\n",
       "  <tbody>\n",
       "    <tr>\n",
       "      <th>119</th>\n",
       "      <td>Manchester</td>\n",
       "      <td>3857</td>\n",
       "      <td>0.37</td>\n",
       "    </tr>\n",
       "  </tbody>\n",
       "</table>\n",
       "</div>"
      ],
      "text/plain": [
       "         region  region_count  region_target\n",
       "119  Manchester          3857           0.37"
      ]
     },
     "execution_count": 759,
     "metadata": {},
     "output_type": "execute_result"
    }
   ],
   "source": [
    "region_encoding_df[(region_encoding_df.region_count > 3645.50) & (region_encoding_df.region_count <= 8151.50)]"
   ]
  },
  {
   "cell_type": "code",
   "execution_count": 758,
   "id": "45bd7d9a-6415-468c-953b-609f8eea2d9c",
   "metadata": {},
   "outputs": [
    {
     "data": {
      "text/plain": [
       "(502, 248)"
      ]
     },
     "execution_count": 758,
     "metadata": {},
     "output_type": "execute_result"
    }
   ],
   "source": [
    "target_selected_df = test_df[\n",
    "    ((test_df.region_target > 0.21) & (test_df.poutcome_success > 0.50)) | \n",
    "    ((test_df.region_target > 0.21) & (test_df.poutcome_success <= 0.50) & (test_df.month <= 6.50) & (test_df.housing <= 0.50) & (test_df.contact_unknown <= 0.50)) | \n",
    "    ((test_df.region_target > 0.21) & (test_df.poutcome_success <= 0.50) & (test_df.month > 8.50) & (test_df.housing <= 0.50) \n",
    "         & (test_df.contact_unknown <= 0.50)) |\n",
    "    ((test_df.region_target <= 0.21) & (test_df.poutcome_success > 0.50)) |\n",
    "    ((test_df.region_target > 0.21) & (test_df.poutcome_success <= 0.50) & (test_df.month > 6.50) & (test_df.month <= 8.50) \n",
    "         & (test_df.housing <= 0.50) & (test_df.contact_unknown <= 0.50))\n",
    "]\n",
    "\n",
    "target_selected_df.shape[0], target_selected_df.y.sum()"
   ]
  },
  {
   "cell_type": "code",
   "execution_count": 760,
   "id": "b4a4d672-9ddf-4c36-ae57-86610b1c84d2",
   "metadata": {},
   "outputs": [
    {
     "data": {
      "text/plain": [
       "109.2511013215859"
      ]
     },
     "execution_count": 760,
     "metadata": {},
     "output_type": "execute_result"
    }
   ],
   "source": [
    "248 / 227 *100"
   ]
  },
  {
   "cell_type": "code",
   "execution_count": 761,
   "id": "6f1ba36a-5ec0-42ce-8740-b21f9047a96b",
   "metadata": {},
   "outputs": [
    {
     "data": {
      "text/html": [
       "<div>\n",
       "<style scoped>\n",
       "    .dataframe tbody tr th:only-of-type {\n",
       "        vertical-align: middle;\n",
       "    }\n",
       "\n",
       "    .dataframe tbody tr th {\n",
       "        vertical-align: top;\n",
       "    }\n",
       "\n",
       "    .dataframe thead th {\n",
       "        text-align: right;\n",
       "    }\n",
       "</style>\n",
       "<table border=\"1\" class=\"dataframe\">\n",
       "  <thead>\n",
       "    <tr style=\"text-align: right;\">\n",
       "      <th></th>\n",
       "      <th>region</th>\n",
       "      <th>region_count</th>\n",
       "      <th>region_target</th>\n",
       "    </tr>\n",
       "  </thead>\n",
       "  <tbody>\n",
       "    <tr>\n",
       "      <th>119</th>\n",
       "      <td>Manchester</td>\n",
       "      <td>3857</td>\n",
       "      <td>0.37</td>\n",
       "    </tr>\n",
       "    <tr>\n",
       "      <th>113</th>\n",
       "      <td>Liverpool</td>\n",
       "      <td>1826</td>\n",
       "      <td>0.35</td>\n",
       "    </tr>\n",
       "    <tr>\n",
       "      <th>37</th>\n",
       "      <td>Bristol</td>\n",
       "      <td>995</td>\n",
       "      <td>0.38</td>\n",
       "    </tr>\n",
       "    <tr>\n",
       "      <th>110</th>\n",
       "      <td>Leicester</td>\n",
       "      <td>774</td>\n",
       "      <td>0.37</td>\n",
       "    </tr>\n",
       "    <tr>\n",
       "      <th>128</th>\n",
       "      <td>Newcastle</td>\n",
       "      <td>632</td>\n",
       "      <td>0.40</td>\n",
       "    </tr>\n",
       "    <tr>\n",
       "      <th>70</th>\n",
       "      <td>Ellon</td>\n",
       "      <td>9</td>\n",
       "      <td>0.22</td>\n",
       "    </tr>\n",
       "    <tr>\n",
       "      <th>67</th>\n",
       "      <td>Dunoon</td>\n",
       "      <td>8</td>\n",
       "      <td>0.50</td>\n",
       "    </tr>\n",
       "    <tr>\n",
       "      <th>118</th>\n",
       "      <td>Mallaig</td>\n",
       "      <td>7</td>\n",
       "      <td>0.43</td>\n",
       "    </tr>\n",
       "    <tr>\n",
       "      <th>44</th>\n",
       "      <td>Carluke</td>\n",
       "      <td>7</td>\n",
       "      <td>0.29</td>\n",
       "    </tr>\n",
       "    <tr>\n",
       "      <th>10</th>\n",
       "      <td>Annan</td>\n",
       "      <td>6</td>\n",
       "      <td>0.33</td>\n",
       "    </tr>\n",
       "    <tr>\n",
       "      <th>79</th>\n",
       "      <td>Girvan</td>\n",
       "      <td>5</td>\n",
       "      <td>0.60</td>\n",
       "    </tr>\n",
       "    <tr>\n",
       "      <th>121</th>\n",
       "      <td>Melrose</td>\n",
       "      <td>5</td>\n",
       "      <td>0.40</td>\n",
       "    </tr>\n",
       "    <tr>\n",
       "      <th>82</th>\n",
       "      <td>Grantown-on-Spey</td>\n",
       "      <td>5</td>\n",
       "      <td>0.40</td>\n",
       "    </tr>\n",
       "    <tr>\n",
       "      <th>86</th>\n",
       "      <td>Hawick</td>\n",
       "      <td>5</td>\n",
       "      <td>0.60</td>\n",
       "    </tr>\n",
       "    <tr>\n",
       "      <th>74</th>\n",
       "      <td>Fort Augustus</td>\n",
       "      <td>4</td>\n",
       "      <td>0.25</td>\n",
       "    </tr>\n",
       "    <tr>\n",
       "      <th>69</th>\n",
       "      <td>Elgin</td>\n",
       "      <td>4</td>\n",
       "      <td>0.25</td>\n",
       "    </tr>\n",
       "    <tr>\n",
       "      <th>5</th>\n",
       "      <td>Airdrie</td>\n",
       "      <td>4</td>\n",
       "      <td>0.25</td>\n",
       "    </tr>\n",
       "    <tr>\n",
       "      <th>127</th>\n",
       "      <td>Newburgh</td>\n",
       "      <td>4</td>\n",
       "      <td>0.25</td>\n",
       "    </tr>\n",
       "    <tr>\n",
       "      <th>104</th>\n",
       "      <td>Kirkwall</td>\n",
       "      <td>4</td>\n",
       "      <td>0.25</td>\n",
       "    </tr>\n",
       "    <tr>\n",
       "      <th>20</th>\n",
       "      <td>Balmaha</td>\n",
       "      <td>3</td>\n",
       "      <td>0.33</td>\n",
       "    </tr>\n",
       "    <tr>\n",
       "      <th>25</th>\n",
       "      <td>Biggar</td>\n",
       "      <td>3</td>\n",
       "      <td>0.33</td>\n",
       "    </tr>\n",
       "    <tr>\n",
       "      <th>114</th>\n",
       "      <td>Lochgilphead</td>\n",
       "      <td>3</td>\n",
       "      <td>0.33</td>\n",
       "    </tr>\n",
       "    <tr>\n",
       "      <th>66</th>\n",
       "      <td>Dunblane</td>\n",
       "      <td>3</td>\n",
       "      <td>0.33</td>\n",
       "    </tr>\n",
       "    <tr>\n",
       "      <th>3</th>\n",
       "      <td>Acharacle</td>\n",
       "      <td>3</td>\n",
       "      <td>0.33</td>\n",
       "    </tr>\n",
       "    <tr>\n",
       "      <th>71</th>\n",
       "      <td>Eyemouth</td>\n",
       "      <td>3</td>\n",
       "      <td>0.33</td>\n",
       "    </tr>\n",
       "    <tr>\n",
       "      <th>93</th>\n",
       "      <td>Inverkeithing</td>\n",
       "      <td>3</td>\n",
       "      <td>0.33</td>\n",
       "    </tr>\n",
       "    <tr>\n",
       "      <th>90</th>\n",
       "      <td>Huntly</td>\n",
       "      <td>3</td>\n",
       "      <td>0.33</td>\n",
       "    </tr>\n",
       "    <tr>\n",
       "      <th>87</th>\n",
       "      <td>Helensburgh</td>\n",
       "      <td>3</td>\n",
       "      <td>0.33</td>\n",
       "    </tr>\n",
       "    <tr>\n",
       "      <th>98</th>\n",
       "      <td>Kelso</td>\n",
       "      <td>2</td>\n",
       "      <td>0.50</td>\n",
       "    </tr>\n",
       "    <tr>\n",
       "      <th>116</th>\n",
       "      <td>Lossiemouth</td>\n",
       "      <td>2</td>\n",
       "      <td>0.50</td>\n",
       "    </tr>\n",
       "    <tr>\n",
       "      <th>43</th>\n",
       "      <td>Campbeltown</td>\n",
       "      <td>2</td>\n",
       "      <td>0.50</td>\n",
       "    </tr>\n",
       "    <tr>\n",
       "      <th>92</th>\n",
       "      <td>Invergordon</td>\n",
       "      <td>2</td>\n",
       "      <td>0.50</td>\n",
       "    </tr>\n",
       "    <tr>\n",
       "      <th>105</th>\n",
       "      <td>Lairg</td>\n",
       "      <td>2</td>\n",
       "      <td>0.50</td>\n",
       "    </tr>\n",
       "  </tbody>\n",
       "</table>\n",
       "</div>"
      ],
      "text/plain": [
       "               region  region_count  region_target\n",
       "119        Manchester          3857           0.37\n",
       "113         Liverpool          1826           0.35\n",
       "37            Bristol           995           0.38\n",
       "110         Leicester           774           0.37\n",
       "128         Newcastle           632           0.40\n",
       "70              Ellon             9           0.22\n",
       "67             Dunoon             8           0.50\n",
       "118           Mallaig             7           0.43\n",
       "44            Carluke             7           0.29\n",
       "10              Annan             6           0.33\n",
       "79             Girvan             5           0.60\n",
       "121           Melrose             5           0.40\n",
       "82   Grantown-on-Spey             5           0.40\n",
       "86             Hawick             5           0.60\n",
       "74      Fort Augustus             4           0.25\n",
       "69              Elgin             4           0.25\n",
       "5             Airdrie             4           0.25\n",
       "127          Newburgh             4           0.25\n",
       "104          Kirkwall             4           0.25\n",
       "20            Balmaha             3           0.33\n",
       "25             Biggar             3           0.33\n",
       "114      Lochgilphead             3           0.33\n",
       "66           Dunblane             3           0.33\n",
       "3           Acharacle             3           0.33\n",
       "71           Eyemouth             3           0.33\n",
       "93      Inverkeithing             3           0.33\n",
       "90             Huntly             3           0.33\n",
       "87        Helensburgh             3           0.33\n",
       "98              Kelso             2           0.50\n",
       "116       Lossiemouth             2           0.50\n",
       "43        Campbeltown             2           0.50\n",
       "92        Invergordon             2           0.50\n",
       "105             Lairg             2           0.50"
      ]
     },
     "execution_count": 761,
     "metadata": {},
     "output_type": "execute_result"
    }
   ],
   "source": [
    "region_encoding_df[region_encoding_df.region_target > 0.21].sort_values('region_count', ascending = False)"
   ]
  },
  {
   "cell_type": "code",
   "execution_count": 1036,
   "id": "661ff9c6-6eec-4ff3-9077-b5dd951196a8",
   "metadata": {},
   "outputs": [],
   "source": [
    "from sklearn.preprocessing import TargetEncoder\n",
    "enc_auto = TargetEncoder(smooth=\"auto\", random_state=42, target_type='binary')"
   ]
  },
  {
   "cell_type": "code",
   "execution_count": 1037,
   "id": "c0282009-df75-4afc-b2ee-cd0a035980a2",
   "metadata": {},
   "outputs": [],
   "source": [
    "train_df, test_df = train_test_split(fin_df,test_size=0.1, random_state=42)"
   ]
  },
  {
   "cell_type": "code",
   "execution_count": 1038,
   "id": "831184a9-d0bd-436d-82c2-518ed3894df2",
   "metadata": {},
   "outputs": [],
   "source": [
    "region_encoding_df = train_df.groupby('region', as_index = False).aggregate({'id': 'count', 'y': 'mean'}).rename(columns = \n",
    "    {'id': 'region_count', 'y': 'raw_region_target'})"
   ]
  },
  {
   "cell_type": "code",
   "execution_count": 1039,
   "id": "dddeae82-ec40-47b5-9208-a3f380c0c59c",
   "metadata": {},
   "outputs": [
    {
     "data": {
      "text/plain": [
       "(0.11637051783037185, 40689)"
      ]
     },
     "execution_count": 1039,
     "metadata": {},
     "output_type": "execute_result"
    }
   ],
   "source": [
    "global_mean = train_df.y.mean()\n",
    "global_count = train_df.shape[0]\n",
    "global_mean, global_count"
   ]
  },
  {
   "cell_type": "code",
   "execution_count": 1082,
   "id": "794f4d3c-4dc9-4f6d-9a61-44bef8838824",
   "metadata": {},
   "outputs": [],
   "source": [
    "import numpy as np\n",
    "k = 100\n",
    "f = 10\n",
    "\n",
    "k = 100\n",
    "f = 100\n",
    "region_encoding_df['smoothing'] = (1 / (1 + np.exp(-(region_encoding_df.region_count - k) / f)))"
   ]
  },
  {
   "cell_type": "code",
   "execution_count": 1083,
   "id": "c468ebda-3fbf-4c70-b34f-683a8b473142",
   "metadata": {},
   "outputs": [],
   "source": [
    "smooth_df = pd.DataFrame({'region_count':np.arange(1, 100001, 1) })\n",
    "smooth_df['smoothing'] = (1 / (1 + np.exp(-(smooth_df.region_count - k) / f)))"
   ]
  },
  {
   "cell_type": "code",
   "execution_count": 1084,
   "id": "5e1dec56-3b7a-460e-83ab-04b344d1e7f4",
   "metadata": {},
   "outputs": [
    {
     "data": {
      "text/plain": [
       "Text(0.5, 1.0, 'Smoothing: k = 100, f = 100')"
      ]
     },
     "execution_count": 1084,
     "metadata": {},
     "output_type": "execute_result"
    },
    {
     "data": {
      "image/png": "[encoded data removed]",
      "text/plain": [
       "<Figure size 640x480 with 1 Axes>"
      ]
     },
     "metadata": {},
     "output_type": "display_data"
    }
   ],
   "source": [
    "import matplotlib.pyplot as plt\n",
    "\n",
    "ax = plt.scatter(smooth_df.region_count, smooth_df.smoothing)\n",
    "plt.xscale('log')\n",
    "plt.ylim([-.1, 1.1])\n",
    "plt.title('Smoothing: k = %d, f = %d' % (k, f))"
   ]
  },
  {
   "cell_type": "code",
   "execution_count": 1043,
   "id": "4b95f57f-35da-40e3-bfbb-b1dfeb74a4f8",
   "metadata": {},
   "outputs": [],
   "source": [
    "region_encoding_df['smoothing'] = (1 / (1 + np.exp(-(region_encoding_df.region_count - k) / f)))"
   ]
  },
  {
   "cell_type": "code",
   "execution_count": 1044,
   "id": "b2c3f825-ce86-47ae-9201-8e0af7c11576",
   "metadata": {},
   "outputs": [],
   "source": [
    "region_encoding_df['region_target'] = region_encoding_df.smoothing * region_encoding_df.raw_region_target \\\n",
    "    + (1 - region_encoding_df.smoothing) * global_mean"
   ]
  },
  {
   "cell_type": "code",
   "execution_count": 1045,
   "id": "c2df37a0-f6d7-41b7-9232-25bb8b705113",
   "metadata": {},
   "outputs": [
    {
     "data": {
      "text/html": [
       "<div>\n",
       "<style scoped>\n",
       "    .dataframe tbody tr th:only-of-type {\n",
       "        vertical-align: middle;\n",
       "    }\n",
       "\n",
       "    .dataframe tbody tr th {\n",
       "        vertical-align: top;\n",
       "    }\n",
       "\n",
       "    .dataframe thead th {\n",
       "        text-align: right;\n",
       "    }\n",
       "</style>\n",
       "<table border=\"1\" class=\"dataframe\">\n",
       "  <thead>\n",
       "    <tr style=\"text-align: right;\">\n",
       "      <th></th>\n",
       "      <th>region</th>\n",
       "      <th>region_count</th>\n",
       "      <th>raw_region_target</th>\n",
       "      <th>smoothing</th>\n",
       "      <th>region_target</th>\n",
       "    </tr>\n",
       "  </thead>\n",
       "  <tbody>\n",
       "    <tr>\n",
       "      <th>0</th>\n",
       "      <td>Aberfeldy</td>\n",
       "      <td>5</td>\n",
       "      <td>0.00</td>\n",
       "      <td>0.00</td>\n",
       "      <td>0.12</td>\n",
       "    </tr>\n",
       "    <tr>\n",
       "      <th>1</th>\n",
       "      <td>Aberlour</td>\n",
       "      <td>3</td>\n",
       "      <td>0.00</td>\n",
       "      <td>0.00</td>\n",
       "      <td>0.12</td>\n",
       "    </tr>\n",
       "    <tr>\n",
       "      <th>2</th>\n",
       "      <td>Aboyne</td>\n",
       "      <td>5</td>\n",
       "      <td>0.00</td>\n",
       "      <td>0.00</td>\n",
       "      <td>0.12</td>\n",
       "    </tr>\n",
       "    <tr>\n",
       "      <th>3</th>\n",
       "      <td>Acharacle</td>\n",
       "      <td>3</td>\n",
       "      <td>0.33</td>\n",
       "      <td>0.00</td>\n",
       "      <td>0.12</td>\n",
       "    </tr>\n",
       "    <tr>\n",
       "      <th>4</th>\n",
       "      <td>Achnasheen</td>\n",
       "      <td>1</td>\n",
       "      <td>0.00</td>\n",
       "      <td>0.00</td>\n",
       "      <td>0.12</td>\n",
       "    </tr>\n",
       "    <tr>\n",
       "      <th>...</th>\n",
       "      <td>...</td>\n",
       "      <td>...</td>\n",
       "      <td>...</td>\n",
       "      <td>...</td>\n",
       "      <td>...</td>\n",
       "    </tr>\n",
       "    <tr>\n",
       "      <th>150</th>\n",
       "      <td>Warrington</td>\n",
       "      <td>254</td>\n",
       "      <td>0.04</td>\n",
       "      <td>1.00</td>\n",
       "      <td>0.04</td>\n",
       "    </tr>\n",
       "    <tr>\n",
       "      <th>151</th>\n",
       "      <td>Wigan</td>\n",
       "      <td>337</td>\n",
       "      <td>0.07</td>\n",
       "      <td>1.00</td>\n",
       "      <td>0.07</td>\n",
       "    </tr>\n",
       "    <tr>\n",
       "      <th>152</th>\n",
       "      <td>Wirral</td>\n",
       "      <td>481</td>\n",
       "      <td>0.05</td>\n",
       "      <td>1.00</td>\n",
       "      <td>0.05</td>\n",
       "    </tr>\n",
       "    <tr>\n",
       "      <th>153</th>\n",
       "      <td>Worthing</td>\n",
       "      <td>257</td>\n",
       "      <td>0.05</td>\n",
       "      <td>1.00</td>\n",
       "      <td>0.05</td>\n",
       "    </tr>\n",
       "    <tr>\n",
       "      <th>154</th>\n",
       "      <td>York</td>\n",
       "      <td>308</td>\n",
       "      <td>0.08</td>\n",
       "      <td>1.00</td>\n",
       "      <td>0.08</td>\n",
       "    </tr>\n",
       "  </tbody>\n",
       "</table>\n",
       "<p>155 rows × 5 columns</p>\n",
       "</div>"
      ],
      "text/plain": [
       "         region  region_count  raw_region_target  smoothing  region_target\n",
       "0     Aberfeldy             5               0.00       0.00           0.12\n",
       "1      Aberlour             3               0.00       0.00           0.12\n",
       "2        Aboyne             5               0.00       0.00           0.12\n",
       "3     Acharacle             3               0.33       0.00           0.12\n",
       "4    Achnasheen             1               0.00       0.00           0.12\n",
       "..          ...           ...                ...        ...            ...\n",
       "150  Warrington           254               0.04       1.00           0.04\n",
       "151       Wigan           337               0.07       1.00           0.07\n",
       "152      Wirral           481               0.05       1.00           0.05\n",
       "153    Worthing           257               0.05       1.00           0.05\n",
       "154        York           308               0.08       1.00           0.08\n",
       "\n",
       "[155 rows x 5 columns]"
      ]
     },
     "execution_count": 1045,
     "metadata": {},
     "output_type": "execute_result"
    }
   ],
   "source": [
    "region_encoding_df"
   ]
  },
  {
   "cell_type": "code",
   "execution_count": 1046,
   "id": "6b49da2a-507c-44e5-a088-6a2b6c88367e",
   "metadata": {},
   "outputs": [],
   "source": [
    "train_df = train_df.merge(region_encoding_df[['region', 'region_target']], on = 'region')\n",
    "test_df = test_df.merge(region_encoding_df[['region', 'region_target']], on = 'region', how = 'left')\n",
    "test_df['region_target'] = test_df['region_target']\\\n",
    "  .fillna(region_encoding_df.region_target.mean())"
   ]
  },
  {
   "cell_type": "code",
   "execution_count": 1047,
   "id": "75495f35-6e64-49a7-8ef4-f82cff488fcf",
   "metadata": {},
   "outputs": [],
   "source": [
    "target_v2_feature_names = train_df.drop(['y', 'id', 'region'], axis = 1).columns"
   ]
  },
  {
   "cell_type": "code",
   "execution_count": 1048,
   "id": "dc960ea1-d2c6-42d4-8ba8-46f6f89909af",
   "metadata": {},
   "outputs": [
    {
     "data": {
      "text/html": [
       "<style>#sk-container-id-20 {\n",
       "  /* Definition of color scheme common for light and dark mode */\n",
       "  --sklearn-color-text: #000;\n",
       "  --sklearn-color-text-muted: #666;\n",
       "  --sklearn-color-line: gray;\n",
       "  /* Definition of color scheme for unfitted estimators */\n",
       "  --sklearn-color-unfitted-level-0: #fff5e6;\n",
       "  --sklearn-color-unfitted-level-1: #f6e4d2;\n",
       "  --sklearn-color-unfitted-level-2: #ffe0b3;\n",
       "  --sklearn-color-unfitted-level-3: chocolate;\n",
       "  /* Definition of color scheme for fitted estimators */\n",
       "  --sklearn-color-fitted-level-0: #f0f8ff;\n",
       "  --sklearn-color-fitted-level-1: #d4ebff;\n",
       "  --sklearn-color-fitted-level-2: #b3dbfd;\n",
       "  --sklearn-color-fitted-level-3: cornflowerblue;\n",
       "\n",
       "  /* Specific color for light theme */\n",
       "  --sklearn-color-text-on-default-background: var(--sg-text-color, var(--theme-code-foreground, var(--jp-content-font-color1, black)));\n",
       "  --sklearn-color-background: var(--sg-background-color, var(--theme-background, var(--jp-layout-color0, white)));\n",
       "  --sklearn-color-border-box: var(--sg-text-color, var(--theme-code-foreground, var(--jp-content-font-color1, black)));\n",
       "  --sklearn-color-icon: #696969;\n",
       "\n",
       "  @media (prefers-color-scheme: dark) {\n",
       "    /* Redefinition of color scheme for dark theme */\n",
       "    --sklearn-color-text-on-default-background: var(--sg-text-color, var(--theme-code-foreground, var(--jp-content-font-color1, white)));\n",
       "    --sklearn-color-background: var(--sg-background-color, var(--theme-background, var(--jp-layout-color0, #111)));\n",
       "    --sklearn-color-border-box: var(--sg-text-color, var(--theme-code-foreground, var(--jp-content-font-color1, white)));\n",
       "    --sklearn-color-icon: #878787;\n",
       "  }\n",
       "}\n",
       "\n",
       "#sk-container-id-20 {\n",
       "  color: var(--sklearn-color-text);\n",
       "}\n",
       "\n",
       "#sk-container-id-20 pre {\n",
       "  padding: 0;\n",
       "}\n",
       "\n",
       "#sk-container-id-20 input.sk-hidden--visually {\n",
       "  border: 0;\n",
       "  clip: rect(1px 1px 1px 1px);\n",
       "  clip: rect(1px, 1px, 1px, 1px);\n",
       "  height: 1px;\n",
       "  margin: -1px;\n",
       "  overflow: hidden;\n",
       "  padding: 0;\n",
       "  position: absolute;\n",
       "  width: 1px;\n",
       "}\n",
       "\n",
       "#sk-container-id-20 div.sk-dashed-wrapped {\n",
       "  border: 1px dashed var(--sklearn-color-line);\n",
       "  margin: 0 0.4em 0.5em 0.4em;\n",
       "  box-sizing: border-box;\n",
       "  padding-bottom: 0.4em;\n",
       "  background-color: var(--sklearn-color-background);\n",
       "}\n",
       "\n",
       "#sk-container-id-20 div.sk-container {\n",
       "  /* jupyter's `normalize.less` sets `[hidden] { display: none; }`\n",
       "     but bootstrap.min.css set `[hidden] { display: none !important; }`\n",
       "     so we also need the `!important` here to be able to override the\n",
       "     default hidden behavior on the sphinx rendered scikit-learn.org.\n",
       "     See: https://github.com/scikit-learn/scikit-learn/issues/21755 */\n",
       "  display: inline-block !important;\n",
       "  position: relative;\n",
       "}\n",
       "\n",
       "#sk-container-id-20 div.sk-text-repr-fallback {\n",
       "  display: none;\n",
       "}\n",
       "\n",
       "div.sk-parallel-item,\n",
       "div.sk-serial,\n",
       "div.sk-item {\n",
       "  /* draw centered vertical line to link estimators */\n",
       "  background-image: linear-gradient(var(--sklearn-color-text-on-default-background), var(--sklearn-color-text-on-default-background));\n",
       "  background-size: 2px 100%;\n",
       "  background-repeat: no-repeat;\n",
       "  background-position: center center;\n",
       "}\n",
       "\n",
       "/* Parallel-specific style estimator block */\n",
       "\n",
       "#sk-container-id-20 div.sk-parallel-item::after {\n",
       "  content: \"\";\n",
       "  width: 100%;\n",
       "  border-bottom: 2px solid var(--sklearn-color-text-on-default-background);\n",
       "  flex-grow: 1;\n",
       "}\n",
       "\n",
       "#sk-container-id-20 div.sk-parallel {\n",
       "  display: flex;\n",
       "  align-items: stretch;\n",
       "  justify-content: center;\n",
       "  background-color: var(--sklearn-color-background);\n",
       "  position: relative;\n",
       "}\n",
       "\n",
       "#sk-container-id-20 div.sk-parallel-item {\n",
       "  display: flex;\n",
       "  flex-direction: column;\n",
       "}\n",
       "\n",
       "#sk-container-id-20 div.sk-parallel-item:first-child::after {\n",
       "  align-self: flex-end;\n",
       "  width: 50%;\n",
       "}\n",
       "\n",
       "#sk-container-id-20 div.sk-parallel-item:last-child::after {\n",
       "  align-self: flex-start;\n",
       "  width: 50%;\n",
       "}\n",
       "\n",
       "#sk-container-id-20 div.sk-parallel-item:only-child::after {\n",
       "  width: 0;\n",
       "}\n",
       "\n",
       "/* Serial-specific style estimator block */\n",
       "\n",
       "#sk-container-id-20 div.sk-serial {\n",
       "  display: flex;\n",
       "  flex-direction: column;\n",
       "  align-items: center;\n",
       "  background-color: var(--sklearn-color-background);\n",
       "  padding-right: 1em;\n",
       "  padding-left: 1em;\n",
       "}\n",
       "\n",
       "\n",
       "/* Toggleable style: style used for estimator/Pipeline/ColumnTransformer box that is\n",
       "clickable and can be expanded/collapsed.\n",
       "- Pipeline and ColumnTransformer use this feature and define the default style\n",
       "- Estimators will overwrite some part of the style using the `sk-estimator` class\n",
       "*/\n",
       "\n",
       "/* Pipeline and ColumnTransformer style (default) */\n",
       "\n",
       "#sk-container-id-20 div.sk-toggleable {\n",
       "  /* Default theme specific background. It is overwritten whether we have a\n",
       "  specific estimator or a Pipeline/ColumnTransformer */\n",
       "  background-color: var(--sklearn-color-background);\n",
       "}\n",
       "\n",
       "/* Toggleable label */\n",
       "#sk-container-id-20 label.sk-toggleable__label {\n",
       "  cursor: pointer;\n",
       "  display: flex;\n",
       "  width: 100%;\n",
       "  margin-bottom: 0;\n",
       "  padding: 0.5em;\n",
       "  box-sizing: border-box;\n",
       "  text-align: center;\n",
       "  align-items: start;\n",
       "  justify-content: space-between;\n",
       "  gap: 0.5em;\n",
       "}\n",
       "\n",
       "#sk-container-id-20 label.sk-toggleable__label .caption {\n",
       "  font-size: 0.6rem;\n",
       "  font-weight: lighter;\n",
       "  color: var(--sklearn-color-text-muted);\n",
       "}\n",
       "\n",
       "#sk-container-id-20 label.sk-toggleable__label-arrow:before {\n",
       "  /* Arrow on the left of the label */\n",
       "  content: \"▸\";\n",
       "  float: left;\n",
       "  margin-right: 0.25em;\n",
       "  color: var(--sklearn-color-icon);\n",
       "}\n",
       "\n",
       "#sk-container-id-20 label.sk-toggleable__label-arrow:hover:before {\n",
       "  color: var(--sklearn-color-text);\n",
       "}\n",
       "\n",
       "/* Toggleable content - dropdown */\n",
       "\n",
       "#sk-container-id-20 div.sk-toggleable__content {\n",
       "  max-height: 0;\n",
       "  max-width: 0;\n",
       "  overflow: hidden;\n",
       "  text-align: left;\n",
       "  /* unfitted */\n",
       "  background-color: var(--sklearn-color-unfitted-level-0);\n",
       "}\n",
       "\n",
       "#sk-container-id-20 div.sk-toggleable__content.fitted {\n",
       "  /* fitted */\n",
       "  background-color: var(--sklearn-color-fitted-level-0);\n",
       "}\n",
       "\n",
       "#sk-container-id-20 div.sk-toggleable__content pre {\n",
       "  margin: 0.2em;\n",
       "  border-radius: 0.25em;\n",
       "  color: var(--sklearn-color-text);\n",
       "  /* unfitted */\n",
       "  background-color: var(--sklearn-color-unfitted-level-0);\n",
       "}\n",
       "\n",
       "#sk-container-id-20 div.sk-toggleable__content.fitted pre {\n",
       "  /* unfitted */\n",
       "  background-color: var(--sklearn-color-fitted-level-0);\n",
       "}\n",
       "\n",
       "#sk-container-id-20 input.sk-toggleable__control:checked~div.sk-toggleable__content {\n",
       "  /* Expand drop-down */\n",
       "  max-height: 200px;\n",
       "  max-width: 100%;\n",
       "  overflow: auto;\n",
       "}\n",
       "\n",
       "#sk-container-id-20 input.sk-toggleable__control:checked~label.sk-toggleable__label-arrow:before {\n",
       "  content: \"▾\";\n",
       "}\n",
       "\n",
       "/* Pipeline/ColumnTransformer-specific style */\n",
       "\n",
       "#sk-container-id-20 div.sk-label input.sk-toggleable__control:checked~label.sk-toggleable__label {\n",
       "  color: var(--sklearn-color-text);\n",
       "  background-color: var(--sklearn-color-unfitted-level-2);\n",
       "}\n",
       "\n",
       "#sk-container-id-20 div.sk-label.fitted input.sk-toggleable__control:checked~label.sk-toggleable__label {\n",
       "  background-color: var(--sklearn-color-fitted-level-2);\n",
       "}\n",
       "\n",
       "/* Estimator-specific style */\n",
       "\n",
       "/* Colorize estimator box */\n",
       "#sk-container-id-20 div.sk-estimator input.sk-toggleable__control:checked~label.sk-toggleable__label {\n",
       "  /* unfitted */\n",
       "  background-color: var(--sklearn-color-unfitted-level-2);\n",
       "}\n",
       "\n",
       "#sk-container-id-20 div.sk-estimator.fitted input.sk-toggleable__control:checked~label.sk-toggleable__label {\n",
       "  /* fitted */\n",
       "  background-color: var(--sklearn-color-fitted-level-2);\n",
       "}\n",
       "\n",
       "#sk-container-id-20 div.sk-label label.sk-toggleable__label,\n",
       "#sk-container-id-20 div.sk-label label {\n",
       "  /* The background is the default theme color */\n",
       "  color: var(--sklearn-color-text-on-default-background);\n",
       "}\n",
       "\n",
       "/* On hover, darken the color of the background */\n",
       "#sk-container-id-20 div.sk-label:hover label.sk-toggleable__label {\n",
       "  color: var(--sklearn-color-text);\n",
       "  background-color: var(--sklearn-color-unfitted-level-2);\n",
       "}\n",
       "\n",
       "/* Label box, darken color on hover, fitted */\n",
       "#sk-container-id-20 div.sk-label.fitted:hover label.sk-toggleable__label.fitted {\n",
       "  color: var(--sklearn-color-text);\n",
       "  background-color: var(--sklearn-color-fitted-level-2);\n",
       "}\n",
       "\n",
       "/* Estimator label */\n",
       "\n",
       "#sk-container-id-20 div.sk-label label {\n",
       "  font-family: monospace;\n",
       "  font-weight: bold;\n",
       "  display: inline-block;\n",
       "  line-height: 1.2em;\n",
       "}\n",
       "\n",
       "#sk-container-id-20 div.sk-label-container {\n",
       "  text-align: center;\n",
       "}\n",
       "\n",
       "/* Estimator-specific */\n",
       "#sk-container-id-20 div.sk-estimator {\n",
       "  font-family: monospace;\n",
       "  border: 1px dotted var(--sklearn-color-border-box);\n",
       "  border-radius: 0.25em;\n",
       "  box-sizing: border-box;\n",
       "  margin-bottom: 0.5em;\n",
       "  /* unfitted */\n",
       "  background-color: var(--sklearn-color-unfitted-level-0);\n",
       "}\n",
       "\n",
       "#sk-container-id-20 div.sk-estimator.fitted {\n",
       "  /* fitted */\n",
       "  background-color: var(--sklearn-color-fitted-level-0);\n",
       "}\n",
       "\n",
       "/* on hover */\n",
       "#sk-container-id-20 div.sk-estimator:hover {\n",
       "  /* unfitted */\n",
       "  background-color: var(--sklearn-color-unfitted-level-2);\n",
       "}\n",
       "\n",
       "#sk-container-id-20 div.sk-estimator.fitted:hover {\n",
       "  /* fitted */\n",
       "  background-color: var(--sklearn-color-fitted-level-2);\n",
       "}\n",
       "\n",
       "/* Specification for estimator info (e.g. \"i\" and \"?\") */\n",
       "\n",
       "/* Common style for \"i\" and \"?\" */\n",
       "\n",
       ".sk-estimator-doc-link,\n",
       "a:link.sk-estimator-doc-link,\n",
       "a:visited.sk-estimator-doc-link {\n",
       "  float: right;\n",
       "  font-size: smaller;\n",
       "  line-height: 1em;\n",
       "  font-family: monospace;\n",
       "  background-color: var(--sklearn-color-background);\n",
       "  border-radius: 1em;\n",
       "  height: 1em;\n",
       "  width: 1em;\n",
       "  text-decoration: none !important;\n",
       "  margin-left: 0.5em;\n",
       "  text-align: center;\n",
       "  /* unfitted */\n",
       "  border: var(--sklearn-color-unfitted-level-1) 1pt solid;\n",
       "  color: var(--sklearn-color-unfitted-level-1);\n",
       "}\n",
       "\n",
       ".sk-estimator-doc-link.fitted,\n",
       "a:link.sk-estimator-doc-link.fitted,\n",
       "a:visited.sk-estimator-doc-link.fitted {\n",
       "  /* fitted */\n",
       "  border: var(--sklearn-color-fitted-level-1) 1pt solid;\n",
       "  color: var(--sklearn-color-fitted-level-1);\n",
       "}\n",
       "\n",
       "/* On hover */\n",
       "div.sk-estimator:hover .sk-estimator-doc-link:hover,\n",
       ".sk-estimator-doc-link:hover,\n",
       "div.sk-label-container:hover .sk-estimator-doc-link:hover,\n",
       ".sk-estimator-doc-link:hover {\n",
       "  /* unfitted */\n",
       "  background-color: var(--sklearn-color-unfitted-level-3);\n",
       "  color: var(--sklearn-color-background);\n",
       "  text-decoration: none;\n",
       "}\n",
       "\n",
       "div.sk-estimator.fitted:hover .sk-estimator-doc-link.fitted:hover,\n",
       ".sk-estimator-doc-link.fitted:hover,\n",
       "div.sk-label-container:hover .sk-estimator-doc-link.fitted:hover,\n",
       ".sk-estimator-doc-link.fitted:hover {\n",
       "  /* fitted */\n",
       "  background-color: var(--sklearn-color-fitted-level-3);\n",
       "  color: var(--sklearn-color-background);\n",
       "  text-decoration: none;\n",
       "}\n",
       "\n",
       "/* Span, style for the box shown on hovering the info icon */\n",
       ".sk-estimator-doc-link span {\n",
       "  display: none;\n",
       "  z-index: 9999;\n",
       "  position: relative;\n",
       "  font-weight: normal;\n",
       "  right: .2ex;\n",
       "  padding: .5ex;\n",
       "  margin: .5ex;\n",
       "  width: min-content;\n",
       "  min-width: 20ex;\n",
       "  max-width: 50ex;\n",
       "  color: var(--sklearn-color-text);\n",
       "  box-shadow: 2pt 2pt 4pt #999;\n",
       "  /* unfitted */\n",
       "  background: var(--sklearn-color-unfitted-level-0);\n",
       "  border: .5pt solid var(--sklearn-color-unfitted-level-3);\n",
       "}\n",
       "\n",
       ".sk-estimator-doc-link.fitted span {\n",
       "  /* fitted */\n",
       "  background: var(--sklearn-color-fitted-level-0);\n",
       "  border: var(--sklearn-color-fitted-level-3);\n",
       "}\n",
       "\n",
       ".sk-estimator-doc-link:hover span {\n",
       "  display: block;\n",
       "}\n",
       "\n",
       "/* \"?\"-specific style due to the `<a>` HTML tag */\n",
       "\n",
       "#sk-container-id-20 a.estimator_doc_link {\n",
       "  float: right;\n",
       "  font-size: 1rem;\n",
       "  line-height: 1em;\n",
       "  font-family: monospace;\n",
       "  background-color: var(--sklearn-color-background);\n",
       "  border-radius: 1rem;\n",
       "  height: 1rem;\n",
       "  width: 1rem;\n",
       "  text-decoration: none;\n",
       "  /* unfitted */\n",
       "  color: var(--sklearn-color-unfitted-level-1);\n",
       "  border: var(--sklearn-color-unfitted-level-1) 1pt solid;\n",
       "}\n",
       "\n",
       "#sk-container-id-20 a.estimator_doc_link.fitted {\n",
       "  /* fitted */\n",
       "  border: var(--sklearn-color-fitted-level-1) 1pt solid;\n",
       "  color: var(--sklearn-color-fitted-level-1);\n",
       "}\n",
       "\n",
       "/* On hover */\n",
       "#sk-container-id-20 a.estimator_doc_link:hover {\n",
       "  /* unfitted */\n",
       "  background-color: var(--sklearn-color-unfitted-level-3);\n",
       "  color: var(--sklearn-color-background);\n",
       "  text-decoration: none;\n",
       "}\n",
       "\n",
       "#sk-container-id-20 a.estimator_doc_link.fitted:hover {\n",
       "  /* fitted */\n",
       "  background-color: var(--sklearn-color-fitted-level-3);\n",
       "}\n",
       "</style><div id=\"sk-container-id-20\" class=\"sk-top-container\"><div class=\"sk-text-repr-fallback\"><pre>DecisionTreeClassifier(min_impurity_decrease=0.001, min_samples_leaf=500)</pre><b>In a Jupyter environment, please rerun this cell to show the HTML representation or trust the notebook. <br />On GitHub, the HTML representation is unable to render, please try loading this page with nbviewer.org.</b></div><div class=\"sk-container\" hidden><div class=\"sk-item\"><div class=\"sk-estimator fitted sk-toggleable\"><input class=\"sk-toggleable__control sk-hidden--visually\" id=\"sk-estimator-id-20\" type=\"checkbox\" checked><label for=\"sk-estimator-id-20\" class=\"sk-toggleable__label fitted sk-toggleable__label-arrow\"><div><div>DecisionTreeClassifier</div></div><div><a class=\"sk-estimator-doc-link fitted\" rel=\"noreferrer\" target=\"_blank\" href=\"https://scikit-learn.org/1.6/modules/generated/sklearn.tree.DecisionTreeClassifier.html\">?<span>Documentation for DecisionTreeClassifier</span></a><span class=\"sk-estimator-doc-link fitted\">i<span>Fitted</span></span></div></label><div class=\"sk-toggleable__content fitted\"><pre>DecisionTreeClassifier(min_impurity_decrease=0.001, min_samples_leaf=500)</pre></div> </div></div></div></div>"
      ],
      "text/plain": [
       "DecisionTreeClassifier(min_impurity_decrease=0.001, min_samples_leaf=500)"
      ]
     },
     "execution_count": 1048,
     "metadata": {},
     "output_type": "execute_result"
    }
   ],
   "source": [
    "target_v2_model = sklearn.tree.DecisionTreeClassifier(min_samples_leaf = 500, \n",
    "  min_impurity_decrease=0.001)\n",
    "target_v2_model.fit(train_df[target_v2_feature_names], train_df['y'])"
   ]
  },
  {
   "cell_type": "code",
   "execution_count": 1049,
   "id": "46bc4e2a-e936-46df-bbfe-dda5916abd14",
   "metadata": {},
   "outputs": [
    {
     "data": {
      "image/svg+xml": [
       "<?xml version=\"1.0\" encoding=\"UTF-8\" standalone=\"no\"?>\n",
       "<!DOCTYPE svg PUBLIC \"-//W3C//DTD SVG 1.1//EN\"\n",
       " \"http://www.w3.org/Graphics/SVG/1.1/DTD/svg11.dtd\">\n",
       "<!-- Generated by graphviz version 12.0.0 (20240704.0754)\n",
       " -->\n",
       "<!-- Title: Tree Pages: 1 -->\n",
       "<svg width=\"718pt\" height=\"685pt\"\n",
       " viewBox=\"0.00 0.00 717.50 685.00\" xmlns=\"http://www.w3.org/2000/svg\" xmlns:xlink=\"http://www.w3.org/1999/xlink\">\n",
       "<g id=\"graph0\" class=\"graph\" transform=\"scale(1 1) rotate(0) translate(4 681)\">\n",
       "<title>Tree</title>\n",
       "<polygon fill=\"white\" stroke=\"none\" points=\"-4,4 -4,-681 713.5,-681 713.5,4 -4,4\"/>\n",
       "<!-- 0 -->\n",
       "<g id=\"node1\" class=\"node\">\n",
       "<title>0</title>\n",
       "<polygon fill=\"#e89253\" stroke=\"black\" points=\"434.5,-677 273,-677 273,-609 434.5,-609 434.5,-677\"/>\n",
       "<text text-anchor=\"middle\" x=\"353.75\" y=\"-659.7\" font-family=\"Helvetica,sans-Serif\" font-size=\"14.00\">region_target &lt;= 0.1164</text>\n",
       "<text text-anchor=\"middle\" x=\"353.75\" y=\"-644.7\" font-family=\"Helvetica,sans-Serif\" font-size=\"14.00\">gini = 0.2057</text>\n",
       "<text text-anchor=\"middle\" x=\"353.75\" y=\"-629.7\" font-family=\"Helvetica,sans-Serif\" font-size=\"14.00\">samples = 100.0%</text>\n",
       "<text text-anchor=\"middle\" x=\"353.75\" y=\"-614.7\" font-family=\"Helvetica,sans-Serif\" font-size=\"14.00\">value = [0.8836, 0.1164]</text>\n",
       "</g>\n",
       "<!-- 1 -->\n",
       "<g id=\"node2\" class=\"node\">\n",
       "<title>1</title>\n",
       "<polygon fill=\"#e68844\" stroke=\"black\" points=\"345.25,-573 170.25,-573 170.25,-505 345.25,-505 345.25,-573\"/>\n",
       "<text text-anchor=\"middle\" x=\"257.75\" y=\"-555.7\" font-family=\"Helvetica,sans-Serif\" font-size=\"14.00\">poutcome_success &lt;= 0.5</text>\n",
       "<text text-anchor=\"middle\" x=\"257.75\" y=\"-540.7\" font-family=\"Helvetica,sans-Serif\" font-size=\"14.00\">gini = 0.1002</text>\n",
       "<text text-anchor=\"middle\" x=\"257.75\" y=\"-525.7\" font-family=\"Helvetica,sans-Serif\" font-size=\"14.00\">samples = 79.9%</text>\n",
       "<text text-anchor=\"middle\" x=\"257.75\" y=\"-510.7\" font-family=\"Helvetica,sans-Serif\" font-size=\"14.00\">value = [0.9471, 0.0529]</text>\n",
       "</g>\n",
       "<!-- 0&#45;&gt;1 -->\n",
       "<g id=\"edge1\" class=\"edge\">\n",
       "<title>0&#45;&gt;1</title>\n",
       "<path fill=\"none\" stroke=\"black\" d=\"M322.32,-608.6C314.19,-599.97 305.35,-590.58 296.89,-581.58\"/>\n",
       "<polygon fill=\"black\" stroke=\"black\" points=\"299.69,-579.46 290.29,-574.58 294.6,-584.26 299.69,-579.46\"/>\n",
       "<text text-anchor=\"middle\" x=\"288.5\" y=\"-592.66\" font-family=\"Helvetica,sans-Serif\" font-size=\"14.00\">True</text>\n",
       "</g>\n",
       "<!-- 4 -->\n",
       "<g id=\"node5\" class=\"node\">\n",
       "<title>4</title>\n",
       "<polygon fill=\"#f4caac\" stroke=\"black\" points=\"538.25,-573 363.25,-573 363.25,-505 538.25,-505 538.25,-573\"/>\n",
       "<text text-anchor=\"middle\" x=\"450.75\" y=\"-555.7\" font-family=\"Helvetica,sans-Serif\" font-size=\"14.00\">poutcome_success &lt;= 0.5</text>\n",
       "<text text-anchor=\"middle\" x=\"450.75\" y=\"-540.7\" font-family=\"Helvetica,sans-Serif\" font-size=\"14.00\">gini = 0.4652</text>\n",
       "<text text-anchor=\"middle\" x=\"450.75\" y=\"-525.7\" font-family=\"Helvetica,sans-Serif\" font-size=\"14.00\">samples = 20.1%</text>\n",
       "<text text-anchor=\"middle\" x=\"450.75\" y=\"-510.7\" font-family=\"Helvetica,sans-Serif\" font-size=\"14.00\">value = [0.632, 0.368]</text>\n",
       "</g>\n",
       "<!-- 0&#45;&gt;4 -->\n",
       "<g id=\"edge4\" class=\"edge\">\n",
       "<title>0&#45;&gt;4</title>\n",
       "<path fill=\"none\" stroke=\"black\" d=\"M385.51,-608.6C393.72,-599.97 402.65,-590.58 411.2,-581.58\"/>\n",
       "<polygon fill=\"black\" stroke=\"black\" points=\"413.52,-584.23 417.87,-574.57 408.45,-579.4 413.52,-584.23\"/>\n",
       "<text text-anchor=\"middle\" x=\"419.55\" y=\"-592.67\" font-family=\"Helvetica,sans-Serif\" font-size=\"14.00\">False</text>\n",
       "</g>\n",
       "<!-- 2 -->\n",
       "<g id=\"node3\" class=\"node\">\n",
       "<title>2</title>\n",
       "<polygon fill=\"#e68742\" stroke=\"black\" points=\"161.5,-461.5 0,-461.5 0,-408.5 161.5,-408.5 161.5,-461.5\"/>\n",
       "<text text-anchor=\"middle\" x=\"80.75\" y=\"-444.2\" font-family=\"Helvetica,sans-Serif\" font-size=\"14.00\">gini = 0.0852</text>\n",
       "<text text-anchor=\"middle\" x=\"80.75\" y=\"-429.2\" font-family=\"Helvetica,sans-Serif\" font-size=\"14.00\">samples = 78.1%</text>\n",
       "<text text-anchor=\"middle\" x=\"80.75\" y=\"-414.2\" font-family=\"Helvetica,sans-Serif\" font-size=\"14.00\">value = [0.9554, 0.0446]</text>\n",
       "</g>\n",
       "<!-- 1&#45;&gt;2 -->\n",
       "<g id=\"edge2\" class=\"edge\">\n",
       "<title>1&#45;&gt;2</title>\n",
       "<path fill=\"none\" stroke=\"black\" d=\"M199.79,-504.6C179.09,-492.67 155.83,-479.27 135.41,-467.5\"/>\n",
       "<polygon fill=\"black\" stroke=\"black\" points=\"137.36,-464.58 126.95,-462.62 133.87,-470.65 137.36,-464.58\"/>\n",
       "</g>\n",
       "<!-- 3 -->\n",
       "<g id=\"node4\" class=\"node\">\n",
       "<title>3</title>\n",
       "<polygon fill=\"#f8dcc8\" stroke=\"black\" points=\"341.5,-461.5 180,-461.5 180,-408.5 341.5,-408.5 341.5,-461.5\"/>\n",
       "<text text-anchor=\"middle\" x=\"260.75\" y=\"-444.2\" font-family=\"Helvetica,sans-Serif\" font-size=\"14.00\">gini = 0.4868</text>\n",
       "<text text-anchor=\"middle\" x=\"260.75\" y=\"-429.2\" font-family=\"Helvetica,sans-Serif\" font-size=\"14.00\">samples = 1.8%</text>\n",
       "<text text-anchor=\"middle\" x=\"260.75\" y=\"-414.2\" font-family=\"Helvetica,sans-Serif\" font-size=\"14.00\">value = [0.5814, 0.4186]</text>\n",
       "</g>\n",
       "<!-- 1&#45;&gt;3 -->\n",
       "<g id=\"edge3\" class=\"edge\">\n",
       "<title>1&#45;&gt;3</title>\n",
       "<path fill=\"none\" stroke=\"black\" d=\"M258.73,-504.6C259.03,-494.47 259.36,-483.28 259.66,-472.93\"/>\n",
       "<polygon fill=\"black\" stroke=\"black\" points=\"263.15,-473.32 259.95,-463.22 256.16,-473.11 263.15,-473.32\"/>\n",
       "</g>\n",
       "<!-- 5 -->\n",
       "<g id=\"node6\" class=\"node\">\n",
       "<title>5</title>\n",
       "<polygon fill=\"#f1bd97\" stroke=\"black\" points=\"529.62,-469 365.88,-469 365.88,-401 529.62,-401 529.62,-469\"/>\n",
       "<text text-anchor=\"middle\" x=\"447.75\" y=\"-451.7\" font-family=\"Helvetica,sans-Serif\" font-size=\"14.00\">contact_unknown &lt;= 0.5</text>\n",
       "<text text-anchor=\"middle\" x=\"447.75\" y=\"-436.7\" font-family=\"Helvetica,sans-Serif\" font-size=\"14.00\">gini = 0.4373</text>\n",
       "<text text-anchor=\"middle\" x=\"447.75\" y=\"-421.7\" font-family=\"Helvetica,sans-Serif\" font-size=\"14.00\">samples = 18.6%</text>\n",
       "<text text-anchor=\"middle\" x=\"447.75\" y=\"-406.7\" font-family=\"Helvetica,sans-Serif\" font-size=\"14.00\">value = [0.677, 0.323]</text>\n",
       "</g>\n",
       "<!-- 4&#45;&gt;5 -->\n",
       "<g id=\"edge5\" class=\"edge\">\n",
       "<title>4&#45;&gt;5</title>\n",
       "<path fill=\"none\" stroke=\"black\" d=\"M449.77,-504.6C449.54,-497.03 449.3,-488.87 449.07,-480.9\"/>\n",
       "<polygon fill=\"black\" stroke=\"black\" points=\"452.57,-480.88 448.78,-470.99 445.57,-481.09 452.57,-480.88\"/>\n",
       "</g>\n",
       "<!-- 14 -->\n",
       "<g id=\"node15\" class=\"node\">\n",
       "<title>14</title>\n",
       "<polygon fill=\"#4ea7e8\" stroke=\"black\" points=\"709.5,-461.5 548,-461.5 548,-408.5 709.5,-408.5 709.5,-461.5\"/>\n",
       "<text text-anchor=\"middle\" x=\"628.75\" y=\"-444.2\" font-family=\"Helvetica,sans-Serif\" font-size=\"14.00\">gini = 0.1714</text>\n",
       "<text text-anchor=\"middle\" x=\"628.75\" y=\"-429.2\" font-family=\"Helvetica,sans-Serif\" font-size=\"14.00\">samples = 1.6%</text>\n",
       "<text text-anchor=\"middle\" x=\"628.75\" y=\"-414.2\" font-family=\"Helvetica,sans-Serif\" font-size=\"14.00\">value = [0.0946, 0.9054]</text>\n",
       "</g>\n",
       "<!-- 4&#45;&gt;14 -->\n",
       "<g id=\"edge14\" class=\"edge\">\n",
       "<title>4&#45;&gt;14</title>\n",
       "<path fill=\"none\" stroke=\"black\" d=\"M509.03,-504.6C529.86,-492.67 553.24,-479.27 573.78,-467.5\"/>\n",
       "<polygon fill=\"black\" stroke=\"black\" points=\"575.36,-470.63 582.29,-462.62 571.88,-464.56 575.36,-470.63\"/>\n",
       "</g>\n",
       "<!-- 6 -->\n",
       "<g id=\"node7\" class=\"node\">\n",
       "<title>6</title>\n",
       "<polygon fill=\"#f5ceb3\" stroke=\"black\" points=\"438.5,-365 277,-365 277,-297 438.5,-297 438.5,-365\"/>\n",
       "<text text-anchor=\"middle\" x=\"357.75\" y=\"-347.7\" font-family=\"Helvetica,sans-Serif\" font-size=\"14.00\">housing &lt;= 0.5</text>\n",
       "<text text-anchor=\"middle\" x=\"357.75\" y=\"-332.7\" font-family=\"Helvetica,sans-Serif\" font-size=\"14.00\">gini = 0.4715</text>\n",
       "<text text-anchor=\"middle\" x=\"357.75\" y=\"-317.7\" font-family=\"Helvetica,sans-Serif\" font-size=\"14.00\">samples = 14.0%</text>\n",
       "<text text-anchor=\"middle\" x=\"357.75\" y=\"-302.7\" font-family=\"Helvetica,sans-Serif\" font-size=\"14.00\">value = [0.6194, 0.3806]</text>\n",
       "</g>\n",
       "<!-- 5&#45;&gt;6 -->\n",
       "<g id=\"edge6\" class=\"edge\">\n",
       "<title>5&#45;&gt;6</title>\n",
       "<path fill=\"none\" stroke=\"black\" d=\"M418.28,-400.6C410.74,-392.06 402.54,-382.77 394.68,-373.86\"/>\n",
       "<polygon fill=\"black\" stroke=\"black\" points=\"397.53,-371.79 388.29,-366.61 392.28,-376.42 397.53,-371.79\"/>\n",
       "</g>\n",
       "<!-- 13 -->\n",
       "<g id=\"node14\" class=\"node\">\n",
       "<title>13</title>\n",
       "<polygon fill=\"#e9975b\" stroke=\"black\" points=\"618.5,-357.5 457,-357.5 457,-304.5 618.5,-304.5 618.5,-357.5\"/>\n",
       "<text text-anchor=\"middle\" x=\"537.75\" y=\"-340.2\" font-family=\"Helvetica,sans-Serif\" font-size=\"14.00\">gini = 0.2512</text>\n",
       "<text text-anchor=\"middle\" x=\"537.75\" y=\"-325.2\" font-family=\"Helvetica,sans-Serif\" font-size=\"14.00\">samples = 4.6%</text>\n",
       "<text text-anchor=\"middle\" x=\"537.75\" y=\"-310.2\" font-family=\"Helvetica,sans-Serif\" font-size=\"14.00\">value = [0.8527, 0.1473]</text>\n",
       "</g>\n",
       "<!-- 5&#45;&gt;13 -->\n",
       "<g id=\"edge13\" class=\"edge\">\n",
       "<title>5&#45;&gt;13</title>\n",
       "<path fill=\"none\" stroke=\"black\" d=\"M477.22,-400.6C486.93,-389.6 497.74,-377.35 507.5,-366.28\"/>\n",
       "<polygon fill=\"black\" stroke=\"black\" points=\"510.08,-368.65 514.07,-358.84 504.83,-364.02 510.08,-368.65\"/>\n",
       "</g>\n",
       "<!-- 7 -->\n",
       "<g id=\"node8\" class=\"node\">\n",
       "<title>7</title>\n",
       "<polygon fill=\"#fae5d7\" stroke=\"black\" points=\"348.5,-261 187,-261 187,-193 348.5,-193 348.5,-261\"/>\n",
       "<text text-anchor=\"middle\" x=\"267.75\" y=\"-243.7\" font-family=\"Helvetica,sans-Serif\" font-size=\"14.00\">month &lt;= 6.5</text>\n",
       "<text text-anchor=\"middle\" x=\"267.75\" y=\"-228.7\" font-family=\"Helvetica,sans-Serif\" font-size=\"14.00\">gini = 0.4937</text>\n",
       "<text text-anchor=\"middle\" x=\"267.75\" y=\"-213.7\" font-family=\"Helvetica,sans-Serif\" font-size=\"14.00\">samples = 7.8%</text>\n",
       "<text text-anchor=\"middle\" x=\"267.75\" y=\"-198.7\" font-family=\"Helvetica,sans-Serif\" font-size=\"14.00\">value = [0.5563, 0.4437]</text>\n",
       "</g>\n",
       "<!-- 6&#45;&gt;7 -->\n",
       "<g id=\"edge7\" class=\"edge\">\n",
       "<title>6&#45;&gt;7</title>\n",
       "<path fill=\"none\" stroke=\"black\" d=\"M328.28,-296.6C320.74,-288.06 312.54,-278.77 304.68,-269.86\"/>\n",
       "<polygon fill=\"black\" stroke=\"black\" points=\"307.53,-267.79 298.29,-262.61 302.28,-272.42 307.53,-267.79\"/>\n",
       "</g>\n",
       "<!-- 12 -->\n",
       "<g id=\"node13\" class=\"node\">\n",
       "<title>12</title>\n",
       "<polygon fill=\"#f0b78e\" stroke=\"black\" points=\"528.5,-253.5 367,-253.5 367,-200.5 528.5,-200.5 528.5,-253.5\"/>\n",
       "<text text-anchor=\"middle\" x=\"447.75\" y=\"-236.2\" font-family=\"Helvetica,sans-Serif\" font-size=\"14.00\">gini = 0.4211</text>\n",
       "<text text-anchor=\"middle\" x=\"447.75\" y=\"-221.2\" font-family=\"Helvetica,sans-Serif\" font-size=\"14.00\">samples = 6.2%</text>\n",
       "<text text-anchor=\"middle\" x=\"447.75\" y=\"-206.2\" font-family=\"Helvetica,sans-Serif\" font-size=\"14.00\">value = [0.6986, 0.3014]</text>\n",
       "</g>\n",
       "<!-- 6&#45;&gt;12 -->\n",
       "<g id=\"edge12\" class=\"edge\">\n",
       "<title>6&#45;&gt;12</title>\n",
       "<path fill=\"none\" stroke=\"black\" d=\"M387.22,-296.6C396.93,-285.6 407.74,-273.35 417.5,-262.28\"/>\n",
       "<polygon fill=\"black\" stroke=\"black\" points=\"420.08,-264.65 424.07,-254.84 414.83,-260.02 420.08,-264.65\"/>\n",
       "</g>\n",
       "<!-- 8 -->\n",
       "<g id=\"node9\" class=\"node\">\n",
       "<title>8</title>\n",
       "<polygon fill=\"#d0e8f9\" stroke=\"black\" points=\"258.5,-149.5 97,-149.5 97,-96.5 258.5,-96.5 258.5,-149.5\"/>\n",
       "<text text-anchor=\"middle\" x=\"177.75\" y=\"-132.2\" font-family=\"Helvetica,sans-Serif\" font-size=\"14.00\">gini = 0.4911</text>\n",
       "<text text-anchor=\"middle\" x=\"177.75\" y=\"-117.2\" font-family=\"Helvetica,sans-Serif\" font-size=\"14.00\">samples = 2.8%</text>\n",
       "<text text-anchor=\"middle\" x=\"177.75\" y=\"-102.2\" font-family=\"Helvetica,sans-Serif\" font-size=\"14.00\">value = [0.4333, 0.5667]</text>\n",
       "</g>\n",
       "<!-- 7&#45;&gt;8 -->\n",
       "<g id=\"edge8\" class=\"edge\">\n",
       "<title>7&#45;&gt;8</title>\n",
       "<path fill=\"none\" stroke=\"black\" d=\"M238.28,-192.6C228.57,-181.6 217.76,-169.35 208,-158.28\"/>\n",
       "<polygon fill=\"black\" stroke=\"black\" points=\"210.67,-156.02 201.43,-150.84 205.42,-160.65 210.67,-156.02\"/>\n",
       "</g>\n",
       "<!-- 9 -->\n",
       "<g id=\"node10\" class=\"node\">\n",
       "<title>9</title>\n",
       "<polygon fill=\"#f4ccaf\" stroke=\"black\" points=\"438.5,-157 277,-157 277,-89 438.5,-89 438.5,-157\"/>\n",
       "<text text-anchor=\"middle\" x=\"357.75\" y=\"-139.7\" font-family=\"Helvetica,sans-Serif\" font-size=\"14.00\">month &lt;= 8.5</text>\n",
       "<text text-anchor=\"middle\" x=\"357.75\" y=\"-124.7\" font-family=\"Helvetica,sans-Serif\" font-size=\"14.00\">gini = 0.4678</text>\n",
       "<text text-anchor=\"middle\" x=\"357.75\" y=\"-109.7\" font-family=\"Helvetica,sans-Serif\" font-size=\"14.00\">samples = 5.0%</text>\n",
       "<text text-anchor=\"middle\" x=\"357.75\" y=\"-94.7\" font-family=\"Helvetica,sans-Serif\" font-size=\"14.00\">value = [0.6268, 0.3732]</text>\n",
       "</g>\n",
       "<!-- 7&#45;&gt;9 -->\n",
       "<g id=\"edge9\" class=\"edge\">\n",
       "<title>7&#45;&gt;9</title>\n",
       "<path fill=\"none\" stroke=\"black\" d=\"M297.22,-192.6C304.76,-184.06 312.96,-174.77 320.82,-165.86\"/>\n",
       "<polygon fill=\"black\" stroke=\"black\" points=\"323.22,-168.42 327.21,-158.61 317.97,-163.79 323.22,-168.42\"/>\n",
       "</g>\n",
       "<!-- 10 -->\n",
       "<g id=\"node11\" class=\"node\">\n",
       "<title>10</title>\n",
       "<polygon fill=\"#f0b990\" stroke=\"black\" points=\"345,-53 198.5,-53 198.5,0 345,0 345,-53\"/>\n",
       "<text text-anchor=\"middle\" x=\"271.75\" y=\"-35.7\" font-family=\"Helvetica,sans-Serif\" font-size=\"14.00\">gini = 0.4247</text>\n",
       "<text text-anchor=\"middle\" x=\"271.75\" y=\"-20.7\" font-family=\"Helvetica,sans-Serif\" font-size=\"14.00\">samples = 3.5%</text>\n",
       "<text text-anchor=\"middle\" x=\"271.75\" y=\"-5.7\" font-family=\"Helvetica,sans-Serif\" font-size=\"14.00\">value = [0.694, 0.306]</text>\n",
       "</g>\n",
       "<!-- 9&#45;&gt;10 -->\n",
       "<g id=\"edge10\" class=\"edge\">\n",
       "<title>9&#45;&gt;10</title>\n",
       "<path fill=\"none\" stroke=\"black\" d=\"M327.43,-88.68C319.52,-79.99 310.99,-70.62 303.03,-61.87\"/>\n",
       "<polygon fill=\"black\" stroke=\"black\" points=\"305.65,-59.55 296.33,-54.51 300.48,-64.26 305.65,-59.55\"/>\n",
       "</g>\n",
       "<!-- 11 -->\n",
       "<g id=\"node12\" class=\"node\">\n",
       "<title>11</title>\n",
       "<polygon fill=\"#e1f0fb\" stroke=\"black\" points=\"524.5,-53 363,-53 363,0 524.5,0 524.5,-53\"/>\n",
       "<text text-anchor=\"middle\" x=\"443.75\" y=\"-35.7\" font-family=\"Helvetica,sans-Serif\" font-size=\"14.00\">gini = 0.4967</text>\n",
       "<text text-anchor=\"middle\" x=\"443.75\" y=\"-20.7\" font-family=\"Helvetica,sans-Serif\" font-size=\"14.00\">samples = 1.4%</text>\n",
       "<text text-anchor=\"middle\" x=\"443.75\" y=\"-5.7\" font-family=\"Helvetica,sans-Serif\" font-size=\"14.00\">value = [0.4593, 0.5407]</text>\n",
       "</g>\n",
       "<!-- 9&#45;&gt;11 -->\n",
       "<g id=\"edge11\" class=\"edge\">\n",
       "<title>9&#45;&gt;11</title>\n",
       "<path fill=\"none\" stroke=\"black\" d=\"M388.07,-88.68C395.98,-79.99 404.51,-70.62 412.47,-61.87\"/>\n",
       "<polygon fill=\"black\" stroke=\"black\" points=\"415.02,-64.26 419.17,-54.51 409.85,-59.55 415.02,-64.26\"/>\n",
       "</g>\n",
       "</g>\n",
       "</svg>\n"
      ],
      "text/plain": [
       "<graphviz.sources.Source at 0x175e6a710>"
      ]
     },
     "execution_count": 1049,
     "metadata": {},
     "output_type": "execute_result"
    }
   ],
   "source": [
    "dot_data = sklearn.tree.export_graphviz(\n",
    "    target_v2_model, out_file=None, feature_names = target_v2_feature_names, filled = True, \n",
    "    proportion = True, precision=4, impurity = True)\n",
    "\n",
    "graph = graphviz.Source(dot_data)\n",
    "graph"
   ]
  },
  {
   "cell_type": "code",
   "execution_count": 1050,
   "id": "7e00c4b7-379d-40a1-8644-a5297d32a0bd",
   "metadata": {},
   "outputs": [],
   "source": [
    "target_v2_model_def_df = get_model_definition(target_v2_model, target_v2_feature_names)"
   ]
  },
  {
   "cell_type": "code",
   "execution_count": 1051,
   "id": "07e14765-a821-4108-bf22-4c07192a00a6",
   "metadata": {},
   "outputs": [
    {
     "data": {
      "text/html": [
       "<div>\n",
       "<style scoped>\n",
       "    .dataframe tbody tr th:only-of-type {\n",
       "        vertical-align: middle;\n",
       "    }\n",
       "\n",
       "    .dataframe tbody tr th {\n",
       "        vertical-align: top;\n",
       "    }\n",
       "\n",
       "    .dataframe thead th {\n",
       "        text-align: right;\n",
       "    }\n",
       "</style>\n",
       "<table border=\"1\" class=\"dataframe\">\n",
       "  <thead>\n",
       "    <tr style=\"text-align: right;\">\n",
       "      <th></th>\n",
       "      <th>total</th>\n",
       "      <th>conversion</th>\n",
       "      <th>converted_users</th>\n",
       "      <th>share_of_converted</th>\n",
       "      <th>share_of_total</th>\n",
       "      <th>cum_share_of_total</th>\n",
       "      <th>cum_share_of_converted</th>\n",
       "    </tr>\n",
       "    <tr>\n",
       "      <th>condition</th>\n",
       "      <th></th>\n",
       "      <th></th>\n",
       "      <th></th>\n",
       "      <th></th>\n",
       "      <th></th>\n",
       "      <th></th>\n",
       "      <th></th>\n",
       "    </tr>\n",
       "  </thead>\n",
       "  <tbody>\n",
       "    <tr>\n",
       "      <th>(region_target &gt; 0.12) and (poutcome_success &gt; 0.50)</th>\n",
       "      <td>634</td>\n",
       "      <td>90.54</td>\n",
       "      <td>574</td>\n",
       "      <td>12.12</td>\n",
       "      <td>1.56</td>\n",
       "      <td>1.56</td>\n",
       "      <td>12.12</td>\n",
       "    </tr>\n",
       "    <tr>\n",
       "      <th>(region_target &gt; 0.12) and (poutcome_success &lt;= 0.50) and (month &lt;= 6.50) and (housing &lt;= 0.50) and (contact_unknown &lt;= 0.50)</th>\n",
       "      <td>1154</td>\n",
       "      <td>56.67</td>\n",
       "      <td>654</td>\n",
       "      <td>13.81</td>\n",
       "      <td>2.84</td>\n",
       "      <td>4.39</td>\n",
       "      <td>25.93</td>\n",
       "    </tr>\n",
       "    <tr>\n",
       "      <th>(region_target &gt; 0.12) and (poutcome_success &lt;= 0.50) and (month &gt; 8.50) and (housing &lt;= 0.50) and (contact_unknown &lt;= 0.50)</th>\n",
       "      <td>577</td>\n",
       "      <td>54.07</td>\n",
       "      <td>312</td>\n",
       "      <td>6.59</td>\n",
       "      <td>1.42</td>\n",
       "      <td>5.81</td>\n",
       "      <td>32.52</td>\n",
       "    </tr>\n",
       "    <tr>\n",
       "      <th>(region_target &lt;= 0.12) and (poutcome_success &gt; 0.50)</th>\n",
       "      <td>719</td>\n",
       "      <td>41.86</td>\n",
       "      <td>301</td>\n",
       "      <td>6.36</td>\n",
       "      <td>1.77</td>\n",
       "      <td>7.58</td>\n",
       "      <td>38.88</td>\n",
       "    </tr>\n",
       "    <tr>\n",
       "      <th>(region_target &gt; 0.12) and (poutcome_success &lt;= 0.50) and (month &gt; 6.50) and (month &lt;= 8.50) and (housing &lt;= 0.50) and (contact_unknown &lt;= 0.50)</th>\n",
       "      <td>1438</td>\n",
       "      <td>30.60</td>\n",
       "      <td>440</td>\n",
       "      <td>9.29</td>\n",
       "      <td>3.53</td>\n",
       "      <td>11.11</td>\n",
       "      <td>48.17</td>\n",
       "    </tr>\n",
       "    <tr>\n",
       "      <th>(region_target &gt; 0.12) and (poutcome_success &lt;= 0.50) and (housing &gt; 0.50) and (contact_unknown &lt;= 0.50)</th>\n",
       "      <td>2528</td>\n",
       "      <td>30.14</td>\n",
       "      <td>762</td>\n",
       "      <td>16.09</td>\n",
       "      <td>6.21</td>\n",
       "      <td>17.33</td>\n",
       "      <td>64.27</td>\n",
       "    </tr>\n",
       "    <tr>\n",
       "      <th>(region_target &gt; 0.12) and (poutcome_success &lt;= 0.50) and (contact_unknown &gt; 0.50)</th>\n",
       "      <td>1867</td>\n",
       "      <td>14.73</td>\n",
       "      <td>275</td>\n",
       "      <td>5.81</td>\n",
       "      <td>4.59</td>\n",
       "      <td>21.92</td>\n",
       "      <td>70.07</td>\n",
       "    </tr>\n",
       "    <tr>\n",
       "      <th>(region_target &lt;= 0.12) and (poutcome_success &lt;= 0.50)</th>\n",
       "      <td>31772</td>\n",
       "      <td>4.46</td>\n",
       "      <td>1417</td>\n",
       "      <td>29.93</td>\n",
       "      <td>78.08</td>\n",
       "      <td>100.00</td>\n",
       "      <td>100.00</td>\n",
       "    </tr>\n",
       "  </tbody>\n",
       "</table>\n",
       "</div>"
      ],
      "text/plain": [
       "                                                                                                                                                  total  \\\n",
       "condition                                                                                                                                                 \n",
       "(region_target > 0.12) and (poutcome_success > 0.50)                                                                                                634   \n",
       "(region_target > 0.12) and (poutcome_success <= 0.50) and (month <= 6.50) and (housing <= 0.50) and (contact_unknown <= 0.50)                      1154   \n",
       "(region_target > 0.12) and (poutcome_success <= 0.50) and (month > 8.50) and (housing <= 0.50) and (contact_unknown <= 0.50)                        577   \n",
       "(region_target <= 0.12) and (poutcome_success > 0.50)                                                                                               719   \n",
       "(region_target > 0.12) and (poutcome_success <= 0.50) and (month > 6.50) and (month <= 8.50) and (housing <= 0.50) and (contact_unknown <= 0.50)   1438   \n",
       "(region_target > 0.12) and (poutcome_success <= 0.50) and (housing > 0.50) and (contact_unknown <= 0.50)                                           2528   \n",
       "(region_target > 0.12) and (poutcome_success <= 0.50) and (contact_unknown > 0.50)                                                                 1867   \n",
       "(region_target <= 0.12) and (poutcome_success <= 0.50)                                                                                            31772   \n",
       "\n",
       "                                                                                                                                                  conversion  \\\n",
       "condition                                                                                                                                                      \n",
       "(region_target > 0.12) and (poutcome_success > 0.50)                                                                                                   90.54   \n",
       "(region_target > 0.12) and (poutcome_success <= 0.50) and (month <= 6.50) and (housing <= 0.50) and (contact_unknown <= 0.50)                          56.67   \n",
       "(region_target > 0.12) and (poutcome_success <= 0.50) and (month > 8.50) and (housing <= 0.50) and (contact_unknown <= 0.50)                           54.07   \n",
       "(region_target <= 0.12) and (poutcome_success > 0.50)                                                                                                  41.86   \n",
       "(region_target > 0.12) and (poutcome_success <= 0.50) and (month > 6.50) and (month <= 8.50) and (housing <= 0.50) and (contact_unknown <= 0.50)       30.60   \n",
       "(region_target > 0.12) and (poutcome_success <= 0.50) and (housing > 0.50) and (contact_unknown <= 0.50)                                               30.14   \n",
       "(region_target > 0.12) and (poutcome_success <= 0.50) and (contact_unknown > 0.50)                                                                     14.73   \n",
       "(region_target <= 0.12) and (poutcome_success <= 0.50)                                                                                                  4.46   \n",
       "\n",
       "                                                                                                                                                  converted_users  \\\n",
       "condition                                                                                                                                                           \n",
       "(region_target > 0.12) and (poutcome_success > 0.50)                                                                                                          574   \n",
       "(region_target > 0.12) and (poutcome_success <= 0.50) and (month <= 6.50) and (housing <= 0.50) and (contact_unknown <= 0.50)                                 654   \n",
       "(region_target > 0.12) and (poutcome_success <= 0.50) and (month > 8.50) and (housing <= 0.50) and (contact_unknown <= 0.50)                                  312   \n",
       "(region_target <= 0.12) and (poutcome_success > 0.50)                                                                                                         301   \n",
       "(region_target > 0.12) and (poutcome_success <= 0.50) and (month > 6.50) and (month <= 8.50) and (housing <= 0.50) and (contact_unknown <= 0.50)              440   \n",
       "(region_target > 0.12) and (poutcome_success <= 0.50) and (housing > 0.50) and (contact_unknown <= 0.50)                                                      762   \n",
       "(region_target > 0.12) and (poutcome_success <= 0.50) and (contact_unknown > 0.50)                                                                            275   \n",
       "(region_target <= 0.12) and (poutcome_success <= 0.50)                                                                                                       1417   \n",
       "\n",
       "                                                                                                                                                  share_of_converted  \\\n",
       "condition                                                                                                                                                              \n",
       "(region_target > 0.12) and (poutcome_success > 0.50)                                                                                                           12.12   \n",
       "(region_target > 0.12) and (poutcome_success <= 0.50) and (month <= 6.50) and (housing <= 0.50) and (contact_unknown <= 0.50)                                  13.81   \n",
       "(region_target > 0.12) and (poutcome_success <= 0.50) and (month > 8.50) and (housing <= 0.50) and (contact_unknown <= 0.50)                                    6.59   \n",
       "(region_target <= 0.12) and (poutcome_success > 0.50)                                                                                                           6.36   \n",
       "(region_target > 0.12) and (poutcome_success <= 0.50) and (month > 6.50) and (month <= 8.50) and (housing <= 0.50) and (contact_unknown <= 0.50)                9.29   \n",
       "(region_target > 0.12) and (poutcome_success <= 0.50) and (housing > 0.50) and (contact_unknown <= 0.50)                                                       16.09   \n",
       "(region_target > 0.12) and (poutcome_success <= 0.50) and (contact_unknown > 0.50)                                                                              5.81   \n",
       "(region_target <= 0.12) and (poutcome_success <= 0.50)                                                                                                         29.93   \n",
       "\n",
       "                                                                                                                                                  share_of_total  \\\n",
       "condition                                                                                                                                                          \n",
       "(region_target > 0.12) and (poutcome_success > 0.50)                                                                                                        1.56   \n",
       "(region_target > 0.12) and (poutcome_success <= 0.50) and (month <= 6.50) and (housing <= 0.50) and (contact_unknown <= 0.50)                               2.84   \n",
       "(region_target > 0.12) and (poutcome_success <= 0.50) and (month > 8.50) and (housing <= 0.50) and (contact_unknown <= 0.50)                                1.42   \n",
       "(region_target <= 0.12) and (poutcome_success > 0.50)                                                                                                       1.77   \n",
       "(region_target > 0.12) and (poutcome_success <= 0.50) and (month > 6.50) and (month <= 8.50) and (housing <= 0.50) and (contact_unknown <= 0.50)            3.53   \n",
       "(region_target > 0.12) and (poutcome_success <= 0.50) and (housing > 0.50) and (contact_unknown <= 0.50)                                                    6.21   \n",
       "(region_target > 0.12) and (poutcome_success <= 0.50) and (contact_unknown > 0.50)                                                                          4.59   \n",
       "(region_target <= 0.12) and (poutcome_success <= 0.50)                                                                                                     78.08   \n",
       "\n",
       "                                                                                                                                                  cum_share_of_total  \\\n",
       "condition                                                                                                                                                              \n",
       "(region_target > 0.12) and (poutcome_success > 0.50)                                                                                                            1.56   \n",
       "(region_target > 0.12) and (poutcome_success <= 0.50) and (month <= 6.50) and (housing <= 0.50) and (contact_unknown <= 0.50)                                   4.39   \n",
       "(region_target > 0.12) and (poutcome_success <= 0.50) and (month > 8.50) and (housing <= 0.50) and (contact_unknown <= 0.50)                                    5.81   \n",
       "(region_target <= 0.12) and (poutcome_success > 0.50)                                                                                                           7.58   \n",
       "(region_target > 0.12) and (poutcome_success <= 0.50) and (month > 6.50) and (month <= 8.50) and (housing <= 0.50) and (contact_unknown <= 0.50)               11.11   \n",
       "(region_target > 0.12) and (poutcome_success <= 0.50) and (housing > 0.50) and (contact_unknown <= 0.50)                                                       17.33   \n",
       "(region_target > 0.12) and (poutcome_success <= 0.50) and (contact_unknown > 0.50)                                                                             21.92   \n",
       "(region_target <= 0.12) and (poutcome_success <= 0.50)                                                                                                        100.00   \n",
       "\n",
       "                                                                                                                                                  cum_share_of_converted  \n",
       "condition                                                                                                                                                                 \n",
       "(region_target > 0.12) and (poutcome_success > 0.50)                                                                                                               12.12  \n",
       "(region_target > 0.12) and (poutcome_success <= 0.50) and (month <= 6.50) and (housing <= 0.50) and (contact_unknown <= 0.50)                                      25.93  \n",
       "(region_target > 0.12) and (poutcome_success <= 0.50) and (month > 8.50) and (housing <= 0.50) and (contact_unknown <= 0.50)                                       32.52  \n",
       "(region_target <= 0.12) and (poutcome_success > 0.50)                                                                                                              38.88  \n",
       "(region_target > 0.12) and (poutcome_success <= 0.50) and (month > 6.50) and (month <= 8.50) and (housing <= 0.50) and (contact_unknown <= 0.50)                   48.17  \n",
       "(region_target > 0.12) and (poutcome_success <= 0.50) and (housing > 0.50) and (contact_unknown <= 0.50)                                                           64.27  \n",
       "(region_target > 0.12) and (poutcome_success <= 0.50) and (contact_unknown > 0.50)                                                                                 70.07  \n",
       "(region_target <= 0.12) and (poutcome_success <= 0.50)                                                                                                            100.00  "
      ]
     },
     "execution_count": 1051,
     "metadata": {},
     "output_type": "execute_result"
    }
   ],
   "source": [
    "target_v2_model_def_df"
   ]
  },
  {
   "cell_type": "code",
   "execution_count": 1052,
   "id": "ec9376d4-451a-45b9-ae30-926ac3ea950a",
   "metadata": {},
   "outputs": [
    {
     "data": {
      "text/html": [
       "<div>\n",
       "<style scoped>\n",
       "    .dataframe tbody tr th:only-of-type {\n",
       "        vertical-align: middle;\n",
       "    }\n",
       "\n",
       "    .dataframe tbody tr th {\n",
       "        vertical-align: top;\n",
       "    }\n",
       "\n",
       "    .dataframe thead th {\n",
       "        text-align: right;\n",
       "    }\n",
       "</style>\n",
       "<table border=\"1\" class=\"dataframe\">\n",
       "  <thead>\n",
       "    <tr style=\"text-align: right;\">\n",
       "      <th></th>\n",
       "      <th>region</th>\n",
       "      <th>region_count</th>\n",
       "      <th>raw_region_target</th>\n",
       "      <th>smoothing</th>\n",
       "      <th>region_target</th>\n",
       "    </tr>\n",
       "  </thead>\n",
       "  <tbody>\n",
       "    <tr>\n",
       "      <th>37</th>\n",
       "      <td>Bristol</td>\n",
       "      <td>995</td>\n",
       "      <td>0.38</td>\n",
       "      <td>1.00</td>\n",
       "      <td>0.38</td>\n",
       "    </tr>\n",
       "    <tr>\n",
       "      <th>110</th>\n",
       "      <td>Leicester</td>\n",
       "      <td>774</td>\n",
       "      <td>0.37</td>\n",
       "      <td>1.00</td>\n",
       "      <td>0.37</td>\n",
       "    </tr>\n",
       "    <tr>\n",
       "      <th>113</th>\n",
       "      <td>Liverpool</td>\n",
       "      <td>1826</td>\n",
       "      <td>0.35</td>\n",
       "      <td>1.00</td>\n",
       "      <td>0.35</td>\n",
       "    </tr>\n",
       "    <tr>\n",
       "      <th>119</th>\n",
       "      <td>Manchester</td>\n",
       "      <td>3857</td>\n",
       "      <td>0.37</td>\n",
       "      <td>1.00</td>\n",
       "      <td>0.37</td>\n",
       "    </tr>\n",
       "    <tr>\n",
       "      <th>128</th>\n",
       "      <td>Newcastle</td>\n",
       "      <td>632</td>\n",
       "      <td>0.40</td>\n",
       "      <td>1.00</td>\n",
       "      <td>0.40</td>\n",
       "    </tr>\n",
       "  </tbody>\n",
       "</table>\n",
       "</div>"
      ],
      "text/plain": [
       "         region  region_count  raw_region_target  smoothing  region_target\n",
       "37      Bristol           995               0.38       1.00           0.38\n",
       "110   Leicester           774               0.37       1.00           0.37\n",
       "113   Liverpool          1826               0.35       1.00           0.35\n",
       "119  Manchester          3857               0.37       1.00           0.37\n",
       "128   Newcastle           632               0.40       1.00           0.40"
      ]
     },
     "execution_count": 1052,
     "metadata": {},
     "output_type": "execute_result"
    }
   ],
   "source": [
    "region_encoding_df[region_encoding_df.region_target > 0.1173]"
   ]
  },
  {
   "cell_type": "code",
   "execution_count": 1056,
   "id": "9368c0ef-9a21-4119-994b-44f47adeace4",
   "metadata": {},
   "outputs": [
    {
     "data": {
      "text/plain": [
       "(500, 247)"
      ]
     },
     "execution_count": 1056,
     "metadata": {},
     "output_type": "execute_result"
    }
   ],
   "source": [
    "target_v2_selected_df = test_df[\n",
    "    ((test_df.region_target > 0.12) & (test_df.poutcome_success > 0.50)) | \n",
    "    ((test_df.region_target > 0.12) & (test_df.poutcome_success <= 0.50) & (test_df.month <= 6.50) & (test_df.housing <= 0.50) & (test_df.contact_unknown <= 0.50)) | \n",
    "    ((test_df.region_target > 0.12) & (test_df.poutcome_success <= 0.50) & (test_df.month > 8.50) & (test_df.housing <= 0.50) \n",
    "         & (test_df.contact_unknown <= 0.50)) | \n",
    "    ((test_df.region_target <= 0.12) & (test_df.poutcome_success > 0.50)\t) | \n",
    "    ((test_df.region_target > 0.12) & (test_df.poutcome_success <= 0.50) & (test_df.month > 6.50) & (test_df.month <= 8.50) \n",
    "         & (test_df.housing <= 0.50) & (test_df.contact_unknown <= 0.50)\t)\n",
    "]\n",
    "\n",
    "target_v2_selected_df.shape[0], target_v2_selected_df.y.sum()"
   ]
  },
  {
   "cell_type": "code",
   "execution_count": null,
   "id": "a4d3f01e-53d4-4252-af3d-9a98775bc758",
   "metadata": {},
   "outputs": [],
   "source": []
  }
 ],
 "metadata": {
  "kernelspec": {
   "display_name": "Python 3 (ipykernel)",
   "language": "python",
   "name": "python3"
  },
  "language_info": {
   "codemirror_mode": {
    "name": "ipython",
    "version": 3
   },
   "file_extension": ".py",
   "mimetype": "text/x-python",
   "name": "python",
   "nbconvert_exporter": "python",
   "pygments_lexer": "ipython3",
   "version": "3.11.6"
  }
 },
 "nbformat": 4,
 "nbformat_minor": 5
}
