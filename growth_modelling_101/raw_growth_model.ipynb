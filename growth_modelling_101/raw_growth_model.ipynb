{
 "cells": [
  {
   "cell_type": "code",
   "execution_count": 37,
   "id": "cc18e88a",
   "metadata": {},
   "outputs": [],
   "source": [
    "import pandas as pd\n",
    "import plotly.express as px\n",
    "import plotly.io as pio\n",
    "import random\n",
    "pio.templates.default = 'simple_white'\n",
    "import datetime\n",
    "import tqdm"
   ]
  },
  {
   "cell_type": "code",
   "execution_count": 38,
   "id": "84e39246",
   "metadata": {},
   "outputs": [
    {
     "data": {
      "text/html": [
       "<div>\n",
       "<style scoped>\n",
       "    .dataframe tbody tr th:only-of-type {\n",
       "        vertical-align: middle;\n",
       "    }\n",
       "\n",
       "    .dataframe tbody tr th {\n",
       "        vertical-align: top;\n",
       "    }\n",
       "\n",
       "    .dataframe thead th {\n",
       "        text-align: right;\n",
       "    }\n",
       "</style>\n",
       "<table border=\"1\" class=\"dataframe\">\n",
       "  <thead>\n",
       "    <tr style=\"text-align: right;\">\n",
       "      <th></th>\n",
       "      <th>user_id</th>\n",
       "      <th>platform</th>\n",
       "      <th>week_date</th>\n",
       "      <th>cohort_week</th>\n",
       "    </tr>\n",
       "  </thead>\n",
       "  <tbody>\n",
       "    <tr>\n",
       "      <th>0</th>\n",
       "      <td>1000001</td>\n",
       "      <td>web</td>\n",
       "      <td>2020-12-28</td>\n",
       "      <td>2020-12-28</td>\n",
       "    </tr>\n",
       "    <tr>\n",
       "      <th>1</th>\n",
       "      <td>1000001</td>\n",
       "      <td>web</td>\n",
       "      <td>2021-01-04</td>\n",
       "      <td>2020-12-28</td>\n",
       "    </tr>\n",
       "    <tr>\n",
       "      <th>2</th>\n",
       "      <td>1000001</td>\n",
       "      <td>web</td>\n",
       "      <td>2021-01-11</td>\n",
       "      <td>2020-12-28</td>\n",
       "    </tr>\n",
       "    <tr>\n",
       "      <th>3</th>\n",
       "      <td>1000001</td>\n",
       "      <td>web</td>\n",
       "      <td>2021-02-15</td>\n",
       "      <td>2020-12-28</td>\n",
       "    </tr>\n",
       "    <tr>\n",
       "      <th>4</th>\n",
       "      <td>1000001</td>\n",
       "      <td>web</td>\n",
       "      <td>2021-02-22</td>\n",
       "      <td>2020-12-28</td>\n",
       "    </tr>\n",
       "  </tbody>\n",
       "</table>\n",
       "</div>"
      ],
      "text/plain": [
       "   user_id platform   week_date cohort_week\n",
       "0  1000001      web  2020-12-28  2020-12-28\n",
       "1  1000001      web  2021-01-04  2020-12-28\n",
       "2  1000001      web  2021-01-11  2020-12-28\n",
       "3  1000001      web  2021-02-15  2020-12-28\n",
       "4  1000001      web  2021-02-22  2020-12-28"
      ]
     },
     "execution_count": 38,
     "metadata": {},
     "output_type": "execute_result"
    }
   ],
   "source": [
    "raw_df = pd.read_csv('weekly_data.csv')\n",
    "raw_df.head()"
   ]
  },
  {
   "cell_type": "code",
   "execution_count": 47,
   "id": "7ac4d901",
   "metadata": {},
   "outputs": [],
   "source": [
    "df = raw_df.groupby(['week_date', 'cohort_week'], as_index = False).user_id.nunique()\n",
    "df = df[df.week_date <= '2023-07-01']"
   ]
  },
  {
   "cell_type": "code",
   "execution_count": 48,
   "id": "08edda15",
   "metadata": {},
   "outputs": [
    {
     "data": {
      "text/plain": [
       "8635"
      ]
     },
     "execution_count": 48,
     "metadata": {},
     "output_type": "execute_result"
    }
   ],
   "source": [
    "df.shape[0]"
   ]
  },
  {
   "cell_type": "code",
   "execution_count": 49,
   "id": "0f45f28f",
   "metadata": {},
   "outputs": [],
   "source": [
    "df['week_num'] = list(map(\n",
    "    lambda d, c: (datetime.datetime.strptime(d, '%Y-%m-%d') - datetime.datetime.strptime(c, '%Y-%m-%d')).days,\n",
    "    df.week_date,\n",
    "    df.cohort_week\n",
    ")) "
   ]
  },
  {
   "cell_type": "code",
   "execution_count": 51,
   "id": "13656f49",
   "metadata": {},
   "outputs": [
    {
     "data": {
      "application/vnd.plotly.v1+json": {
       "config": {
        "plotlyServerURL": "https://plot.ly"
       },
       "data": [
        {
         "hovertemplate": "variable=user_id<br>cohort_week=%{x}<br>value=%{y}<extra></extra>",
         "legendgroup": "user_id",
         "line": {
          "color": "#1F77B4",
          "dash": "solid"
         },
         "marker": {
          "symbol": "circle"
         },
         "mode": "lines",
         "name": "user_id",
         "orientation": "v",
         "showlegend": true,
         "type": "scatter",
         "x": [
          "2020-12-28",
          "2021-01-04",
          "2021-01-11",
          "2021-01-18",
          "2021-01-25",
          "2021-02-01",
          "2021-02-08",
          "2021-02-15",
          "2021-02-22",
          "2021-03-01",
          "2021-03-08",
          "2021-03-15",
          "2021-03-22",
          "2021-03-29",
          "2021-04-05",
          "2021-04-12",
          "2021-04-19",
          "2021-04-26",
          "2021-05-03",
          "2021-05-10",
          "2021-05-17",
          "2021-05-24",
          "2021-05-31",
          "2021-06-07",
          "2021-06-14",
          "2021-06-21",
          "2021-06-28",
          "2021-07-05",
          "2021-07-12",
          "2021-07-19",
          "2021-07-26",
          "2021-08-02",
          "2021-08-09",
          "2021-08-16",
          "2021-08-23",
          "2021-08-30",
          "2021-09-06",
          "2021-09-13",
          "2021-09-20",
          "2021-09-27",
          "2021-10-04",
          "2021-10-11",
          "2021-10-18",
          "2021-10-25",
          "2021-11-01",
          "2021-11-08",
          "2021-11-15",
          "2021-11-22",
          "2021-11-29",
          "2021-12-06",
          "2021-12-13",
          "2021-12-20",
          "2021-12-27",
          "2022-01-03",
          "2022-01-10",
          "2022-01-17",
          "2022-01-24",
          "2022-01-31",
          "2022-02-07",
          "2022-02-14",
          "2022-02-21",
          "2022-02-28",
          "2022-03-07",
          "2022-03-14",
          "2022-03-21",
          "2022-03-28",
          "2022-04-04",
          "2022-04-11",
          "2022-04-18",
          "2022-04-25",
          "2022-05-02",
          "2022-05-09",
          "2022-05-16",
          "2022-05-23",
          "2022-05-30",
          "2022-06-06",
          "2022-06-13",
          "2022-06-20",
          "2022-06-27",
          "2022-07-04",
          "2022-07-11",
          "2022-07-18",
          "2022-07-25",
          "2022-08-01",
          "2022-08-08",
          "2022-08-15",
          "2022-08-22",
          "2022-08-29",
          "2022-09-05",
          "2022-09-12",
          "2022-09-19",
          "2022-09-26",
          "2022-10-03",
          "2022-10-10",
          "2022-10-17",
          "2022-10-24",
          "2022-10-31",
          "2022-11-07",
          "2022-11-14",
          "2022-11-21",
          "2022-11-28",
          "2022-12-05",
          "2022-12-12",
          "2022-12-19",
          "2022-12-26",
          "2023-01-02",
          "2023-01-09",
          "2023-01-16",
          "2023-01-23",
          "2023-01-30",
          "2023-02-06",
          "2023-02-13",
          "2023-02-20",
          "2023-02-27",
          "2023-03-06",
          "2023-03-13",
          "2023-03-20",
          "2023-03-27",
          "2023-04-03",
          "2023-04-10",
          "2023-04-17",
          "2023-04-24",
          "2023-05-01",
          "2023-05-08",
          "2023-05-15",
          "2023-05-22",
          "2023-05-29",
          "2023-06-05",
          "2023-06-12",
          "2023-06-19",
          "2023-06-26"
         ],
         "xaxis": "x",
         "y": [
          5,
          71,
          182,
          291,
          400,
          495,
          590,
          674,
          768,
          824,
          893,
          982,
          992,
          1051,
          1101,
          1171,
          1187,
          1218,
          1220,
          1306,
          1321,
          1347,
          1363,
          1371,
          1366,
          1441,
          1437,
          1469,
          1462,
          1482,
          1510,
          1526,
          1513,
          1545,
          1549,
          1585,
          1569,
          1559,
          1614,
          1603,
          1604,
          1635,
          1591,
          1615,
          1647,
          1674,
          1641,
          1657,
          1645,
          1672,
          1677,
          1639,
          1674,
          1707,
          1708,
          1692,
          1696,
          1712,
          1725,
          1731,
          1673,
          1794,
          1995,
          2120,
          2264,
          2383,
          2458,
          2542,
          2560,
          2619,
          2659,
          2710,
          2667,
          2722,
          2719,
          2740,
          2748,
          2697,
          2777,
          2764,
          2773,
          2758,
          2758,
          2798,
          2751,
          2782,
          2762,
          2830,
          2761,
          2727,
          2786,
          2769,
          2755,
          2769,
          2801,
          2731,
          2750,
          2718,
          2764,
          2757,
          2711,
          2780,
          2726,
          2722,
          2747,
          2704,
          2726,
          2732,
          2660,
          2672,
          2633,
          2720,
          2659,
          2710,
          2658,
          2697,
          2683,
          2683,
          2736,
          2715,
          2751,
          2733,
          2752,
          2770,
          2765,
          2730,
          2757,
          2756,
          2686,
          2750,
          2769
         ],
         "yaxis": "y"
        }
       ],
       "layout": {
        "legend": {
         "title": {
          "text": "variable"
         },
         "tracegroupgap": 0
        },
        "template": {
         "data": {
          "bar": [
           {
            "error_x": {
             "color": "rgb(36,36,36)"
            },
            "error_y": {
             "color": "rgb(36,36,36)"
            },
            "marker": {
             "line": {
              "color": "white",
              "width": 0.5
             },
             "pattern": {
              "fillmode": "overlay",
              "size": 10,
              "solidity": 0.2
             }
            },
            "type": "bar"
           }
          ],
          "barpolar": [
           {
            "marker": {
             "line": {
              "color": "white",
              "width": 0.5
             },
             "pattern": {
              "fillmode": "overlay",
              "size": 10,
              "solidity": 0.2
             }
            },
            "type": "barpolar"
           }
          ],
          "carpet": [
           {
            "aaxis": {
             "endlinecolor": "rgb(36,36,36)",
             "gridcolor": "white",
             "linecolor": "white",
             "minorgridcolor": "white",
             "startlinecolor": "rgb(36,36,36)"
            },
            "baxis": {
             "endlinecolor": "rgb(36,36,36)",
             "gridcolor": "white",
             "linecolor": "white",
             "minorgridcolor": "white",
             "startlinecolor": "rgb(36,36,36)"
            },
            "type": "carpet"
           }
          ],
          "choropleth": [
           {
            "colorbar": {
             "outlinewidth": 1,
             "tickcolor": "rgb(36,36,36)",
             "ticks": "outside"
            },
            "type": "choropleth"
           }
          ],
          "contour": [
           {
            "colorbar": {
             "outlinewidth": 1,
             "tickcolor": "rgb(36,36,36)",
             "ticks": "outside"
            },
            "colorscale": [
             [
              0,
              "#440154"
             ],
             [
              0.1111111111111111,
              "#482878"
             ],
             [
              0.2222222222222222,
              "#3e4989"
             ],
             [
              0.3333333333333333,
              "#31688e"
             ],
             [
              0.4444444444444444,
              "#26828e"
             ],
             [
              0.5555555555555556,
              "#1f9e89"
             ],
             [
              0.6666666666666666,
              "#35b779"
             ],
             [
              0.7777777777777778,
              "#6ece58"
             ],
             [
              0.8888888888888888,
              "#b5de2b"
             ],
             [
              1,
              "#fde725"
             ]
            ],
            "type": "contour"
           }
          ],
          "contourcarpet": [
           {
            "colorbar": {
             "outlinewidth": 1,
             "tickcolor": "rgb(36,36,36)",
             "ticks": "outside"
            },
            "type": "contourcarpet"
           }
          ],
          "heatmap": [
           {
            "colorbar": {
             "outlinewidth": 1,
             "tickcolor": "rgb(36,36,36)",
             "ticks": "outside"
            },
            "colorscale": [
             [
              0,
              "#440154"
             ],
             [
              0.1111111111111111,
              "#482878"
             ],
             [
              0.2222222222222222,
              "#3e4989"
             ],
             [
              0.3333333333333333,
              "#31688e"
             ],
             [
              0.4444444444444444,
              "#26828e"
             ],
             [
              0.5555555555555556,
              "#1f9e89"
             ],
             [
              0.6666666666666666,
              "#35b779"
             ],
             [
              0.7777777777777778,
              "#6ece58"
             ],
             [
              0.8888888888888888,
              "#b5de2b"
             ],
             [
              1,
              "#fde725"
             ]
            ],
            "type": "heatmap"
           }
          ],
          "heatmapgl": [
           {
            "colorbar": {
             "outlinewidth": 1,
             "tickcolor": "rgb(36,36,36)",
             "ticks": "outside"
            },
            "colorscale": [
             [
              0,
              "#440154"
             ],
             [
              0.1111111111111111,
              "#482878"
             ],
             [
              0.2222222222222222,
              "#3e4989"
             ],
             [
              0.3333333333333333,
              "#31688e"
             ],
             [
              0.4444444444444444,
              "#26828e"
             ],
             [
              0.5555555555555556,
              "#1f9e89"
             ],
             [
              0.6666666666666666,
              "#35b779"
             ],
             [
              0.7777777777777778,
              "#6ece58"
             ],
             [
              0.8888888888888888,
              "#b5de2b"
             ],
             [
              1,
              "#fde725"
             ]
            ],
            "type": "heatmapgl"
           }
          ],
          "histogram": [
           {
            "marker": {
             "line": {
              "color": "white",
              "width": 0.6
             }
            },
            "type": "histogram"
           }
          ],
          "histogram2d": [
           {
            "colorbar": {
             "outlinewidth": 1,
             "tickcolor": "rgb(36,36,36)",
             "ticks": "outside"
            },
            "colorscale": [
             [
              0,
              "#440154"
             ],
             [
              0.1111111111111111,
              "#482878"
             ],
             [
              0.2222222222222222,
              "#3e4989"
             ],
             [
              0.3333333333333333,
              "#31688e"
             ],
             [
              0.4444444444444444,
              "#26828e"
             ],
             [
              0.5555555555555556,
              "#1f9e89"
             ],
             [
              0.6666666666666666,
              "#35b779"
             ],
             [
              0.7777777777777778,
              "#6ece58"
             ],
             [
              0.8888888888888888,
              "#b5de2b"
             ],
             [
              1,
              "#fde725"
             ]
            ],
            "type": "histogram2d"
           }
          ],
          "histogram2dcontour": [
           {
            "colorbar": {
             "outlinewidth": 1,
             "tickcolor": "rgb(36,36,36)",
             "ticks": "outside"
            },
            "colorscale": [
             [
              0,
              "#440154"
             ],
             [
              0.1111111111111111,
              "#482878"
             ],
             [
              0.2222222222222222,
              "#3e4989"
             ],
             [
              0.3333333333333333,
              "#31688e"
             ],
             [
              0.4444444444444444,
              "#26828e"
             ],
             [
              0.5555555555555556,
              "#1f9e89"
             ],
             [
              0.6666666666666666,
              "#35b779"
             ],
             [
              0.7777777777777778,
              "#6ece58"
             ],
             [
              0.8888888888888888,
              "#b5de2b"
             ],
             [
              1,
              "#fde725"
             ]
            ],
            "type": "histogram2dcontour"
           }
          ],
          "mesh3d": [
           {
            "colorbar": {
             "outlinewidth": 1,
             "tickcolor": "rgb(36,36,36)",
             "ticks": "outside"
            },
            "type": "mesh3d"
           }
          ],
          "parcoords": [
           {
            "line": {
             "colorbar": {
              "outlinewidth": 1,
              "tickcolor": "rgb(36,36,36)",
              "ticks": "outside"
             }
            },
            "type": "parcoords"
           }
          ],
          "pie": [
           {
            "automargin": true,
            "type": "pie"
           }
          ],
          "scatter": [
           {
            "fillpattern": {
             "fillmode": "overlay",
             "size": 10,
             "solidity": 0.2
            },
            "type": "scatter"
           }
          ],
          "scatter3d": [
           {
            "line": {
             "colorbar": {
              "outlinewidth": 1,
              "tickcolor": "rgb(36,36,36)",
              "ticks": "outside"
             }
            },
            "marker": {
             "colorbar": {
              "outlinewidth": 1,
              "tickcolor": "rgb(36,36,36)",
              "ticks": "outside"
             }
            },
            "type": "scatter3d"
           }
          ],
          "scattercarpet": [
           {
            "marker": {
             "colorbar": {
              "outlinewidth": 1,
              "tickcolor": "rgb(36,36,36)",
              "ticks": "outside"
             }
            },
            "type": "scattercarpet"
           }
          ],
          "scattergeo": [
           {
            "marker": {
             "colorbar": {
              "outlinewidth": 1,
              "tickcolor": "rgb(36,36,36)",
              "ticks": "outside"
             }
            },
            "type": "scattergeo"
           }
          ],
          "scattergl": [
           {
            "marker": {
             "colorbar": {
              "outlinewidth": 1,
              "tickcolor": "rgb(36,36,36)",
              "ticks": "outside"
             }
            },
            "type": "scattergl"
           }
          ],
          "scattermapbox": [
           {
            "marker": {
             "colorbar": {
              "outlinewidth": 1,
              "tickcolor": "rgb(36,36,36)",
              "ticks": "outside"
             }
            },
            "type": "scattermapbox"
           }
          ],
          "scatterpolar": [
           {
            "marker": {
             "colorbar": {
              "outlinewidth": 1,
              "tickcolor": "rgb(36,36,36)",
              "ticks": "outside"
             }
            },
            "type": "scatterpolar"
           }
          ],
          "scatterpolargl": [
           {
            "marker": {
             "colorbar": {
              "outlinewidth": 1,
              "tickcolor": "rgb(36,36,36)",
              "ticks": "outside"
             }
            },
            "type": "scatterpolargl"
           }
          ],
          "scatterternary": [
           {
            "marker": {
             "colorbar": {
              "outlinewidth": 1,
              "tickcolor": "rgb(36,36,36)",
              "ticks": "outside"
             }
            },
            "type": "scatterternary"
           }
          ],
          "surface": [
           {
            "colorbar": {
             "outlinewidth": 1,
             "tickcolor": "rgb(36,36,36)",
             "ticks": "outside"
            },
            "colorscale": [
             [
              0,
              "#440154"
             ],
             [
              0.1111111111111111,
              "#482878"
             ],
             [
              0.2222222222222222,
              "#3e4989"
             ],
             [
              0.3333333333333333,
              "#31688e"
             ],
             [
              0.4444444444444444,
              "#26828e"
             ],
             [
              0.5555555555555556,
              "#1f9e89"
             ],
             [
              0.6666666666666666,
              "#35b779"
             ],
             [
              0.7777777777777778,
              "#6ece58"
             ],
             [
              0.8888888888888888,
              "#b5de2b"
             ],
             [
              1,
              "#fde725"
             ]
            ],
            "type": "surface"
           }
          ],
          "table": [
           {
            "cells": {
             "fill": {
              "color": "rgb(237,237,237)"
             },
             "line": {
              "color": "white"
             }
            },
            "header": {
             "fill": {
              "color": "rgb(217,217,217)"
             },
             "line": {
              "color": "white"
             }
            },
            "type": "table"
           }
          ]
         },
         "layout": {
          "annotationdefaults": {
           "arrowhead": 0,
           "arrowwidth": 1
          },
          "autotypenumbers": "strict",
          "coloraxis": {
           "colorbar": {
            "outlinewidth": 1,
            "tickcolor": "rgb(36,36,36)",
            "ticks": "outside"
           }
          },
          "colorscale": {
           "diverging": [
            [
             0,
             "rgb(103,0,31)"
            ],
            [
             0.1,
             "rgb(178,24,43)"
            ],
            [
             0.2,
             "rgb(214,96,77)"
            ],
            [
             0.3,
             "rgb(244,165,130)"
            ],
            [
             0.4,
             "rgb(253,219,199)"
            ],
            [
             0.5,
             "rgb(247,247,247)"
            ],
            [
             0.6,
             "rgb(209,229,240)"
            ],
            [
             0.7,
             "rgb(146,197,222)"
            ],
            [
             0.8,
             "rgb(67,147,195)"
            ],
            [
             0.9,
             "rgb(33,102,172)"
            ],
            [
             1,
             "rgb(5,48,97)"
            ]
           ],
           "sequential": [
            [
             0,
             "#440154"
            ],
            [
             0.1111111111111111,
             "#482878"
            ],
            [
             0.2222222222222222,
             "#3e4989"
            ],
            [
             0.3333333333333333,
             "#31688e"
            ],
            [
             0.4444444444444444,
             "#26828e"
            ],
            [
             0.5555555555555556,
             "#1f9e89"
            ],
            [
             0.6666666666666666,
             "#35b779"
            ],
            [
             0.7777777777777778,
             "#6ece58"
            ],
            [
             0.8888888888888888,
             "#b5de2b"
            ],
            [
             1,
             "#fde725"
            ]
           ],
           "sequentialminus": [
            [
             0,
             "#440154"
            ],
            [
             0.1111111111111111,
             "#482878"
            ],
            [
             0.2222222222222222,
             "#3e4989"
            ],
            [
             0.3333333333333333,
             "#31688e"
            ],
            [
             0.4444444444444444,
             "#26828e"
            ],
            [
             0.5555555555555556,
             "#1f9e89"
            ],
            [
             0.6666666666666666,
             "#35b779"
            ],
            [
             0.7777777777777778,
             "#6ece58"
            ],
            [
             0.8888888888888888,
             "#b5de2b"
            ],
            [
             1,
             "#fde725"
            ]
           ]
          },
          "colorway": [
           "#1F77B4",
           "#FF7F0E",
           "#2CA02C",
           "#D62728",
           "#9467BD",
           "#8C564B",
           "#E377C2",
           "#7F7F7F",
           "#BCBD22",
           "#17BECF"
          ],
          "font": {
           "color": "rgb(36,36,36)"
          },
          "geo": {
           "bgcolor": "white",
           "lakecolor": "white",
           "landcolor": "white",
           "showlakes": true,
           "showland": true,
           "subunitcolor": "white"
          },
          "hoverlabel": {
           "align": "left"
          },
          "hovermode": "closest",
          "mapbox": {
           "style": "light"
          },
          "paper_bgcolor": "white",
          "plot_bgcolor": "white",
          "polar": {
           "angularaxis": {
            "gridcolor": "rgb(232,232,232)",
            "linecolor": "rgb(36,36,36)",
            "showgrid": false,
            "showline": true,
            "ticks": "outside"
           },
           "bgcolor": "white",
           "radialaxis": {
            "gridcolor": "rgb(232,232,232)",
            "linecolor": "rgb(36,36,36)",
            "showgrid": false,
            "showline": true,
            "ticks": "outside"
           }
          },
          "scene": {
           "xaxis": {
            "backgroundcolor": "white",
            "gridcolor": "rgb(232,232,232)",
            "gridwidth": 2,
            "linecolor": "rgb(36,36,36)",
            "showbackground": true,
            "showgrid": false,
            "showline": true,
            "ticks": "outside",
            "zeroline": false,
            "zerolinecolor": "rgb(36,36,36)"
           },
           "yaxis": {
            "backgroundcolor": "white",
            "gridcolor": "rgb(232,232,232)",
            "gridwidth": 2,
            "linecolor": "rgb(36,36,36)",
            "showbackground": true,
            "showgrid": false,
            "showline": true,
            "ticks": "outside",
            "zeroline": false,
            "zerolinecolor": "rgb(36,36,36)"
           },
           "zaxis": {
            "backgroundcolor": "white",
            "gridcolor": "rgb(232,232,232)",
            "gridwidth": 2,
            "linecolor": "rgb(36,36,36)",
            "showbackground": true,
            "showgrid": false,
            "showline": true,
            "ticks": "outside",
            "zeroline": false,
            "zerolinecolor": "rgb(36,36,36)"
           }
          },
          "shapedefaults": {
           "fillcolor": "black",
           "line": {
            "width": 0
           },
           "opacity": 0.3
          },
          "ternary": {
           "aaxis": {
            "gridcolor": "rgb(232,232,232)",
            "linecolor": "rgb(36,36,36)",
            "showgrid": false,
            "showline": true,
            "ticks": "outside"
           },
           "baxis": {
            "gridcolor": "rgb(232,232,232)",
            "linecolor": "rgb(36,36,36)",
            "showgrid": false,
            "showline": true,
            "ticks": "outside"
           },
           "bgcolor": "white",
           "caxis": {
            "gridcolor": "rgb(232,232,232)",
            "linecolor": "rgb(36,36,36)",
            "showgrid": false,
            "showline": true,
            "ticks": "outside"
           }
          },
          "title": {
           "x": 0.05
          },
          "xaxis": {
           "automargin": true,
           "gridcolor": "rgb(232,232,232)",
           "linecolor": "rgb(36,36,36)",
           "showgrid": false,
           "showline": true,
           "ticks": "outside",
           "title": {
            "standoff": 15
           },
           "zeroline": false,
           "zerolinecolor": "rgb(36,36,36)"
          },
          "yaxis": {
           "automargin": true,
           "gridcolor": "rgb(232,232,232)",
           "linecolor": "rgb(36,36,36)",
           "showgrid": false,
           "showline": true,
           "ticks": "outside",
           "title": {
            "standoff": 15
           },
           "zeroline": false,
           "zerolinecolor": "rgb(36,36,36)"
          }
         }
        },
        "title": {
         "text": "New users"
        },
        "xaxis": {
         "anchor": "y",
         "domain": [
          0,
          1
         ],
         "title": {
          "text": "cohort_week"
         }
        },
        "yaxis": {
         "anchor": "x",
         "domain": [
          0,
          1
         ],
         "title": {
          "text": "value"
         }
        }
       }
      },
      "text/html": [
       "<div>                            <div id=\"290ee091-1064-4745-9d4a-030cb31156cf\" class=\"plotly-graph-div\" style=\"height:525px; width:100%;\"></div>            <script type=\"text/javascript\">                require([\"plotly\"], function(Plotly) {                    window.PLOTLYENV=window.PLOTLYENV || {};                                    if (document.getElementById(\"290ee091-1064-4745-9d4a-030cb31156cf\")) {                    Plotly.newPlot(                        \"290ee091-1064-4745-9d4a-030cb31156cf\",                        [{\"hovertemplate\":\"variable=user_id<br>cohort_week=%{x}<br>value=%{y}<extra></extra>\",\"legendgroup\":\"user_id\",\"line\":{\"color\":\"#1F77B4\",\"dash\":\"solid\"},\"marker\":{\"symbol\":\"circle\"},\"mode\":\"lines\",\"name\":\"user_id\",\"orientation\":\"v\",\"showlegend\":true,\"x\":[\"2020-12-28\",\"2021-01-04\",\"2021-01-11\",\"2021-01-18\",\"2021-01-25\",\"2021-02-01\",\"2021-02-08\",\"2021-02-15\",\"2021-02-22\",\"2021-03-01\",\"2021-03-08\",\"2021-03-15\",\"2021-03-22\",\"2021-03-29\",\"2021-04-05\",\"2021-04-12\",\"2021-04-19\",\"2021-04-26\",\"2021-05-03\",\"2021-05-10\",\"2021-05-17\",\"2021-05-24\",\"2021-05-31\",\"2021-06-07\",\"2021-06-14\",\"2021-06-21\",\"2021-06-28\",\"2021-07-05\",\"2021-07-12\",\"2021-07-19\",\"2021-07-26\",\"2021-08-02\",\"2021-08-09\",\"2021-08-16\",\"2021-08-23\",\"2021-08-30\",\"2021-09-06\",\"2021-09-13\",\"2021-09-20\",\"2021-09-27\",\"2021-10-04\",\"2021-10-11\",\"2021-10-18\",\"2021-10-25\",\"2021-11-01\",\"2021-11-08\",\"2021-11-15\",\"2021-11-22\",\"2021-11-29\",\"2021-12-06\",\"2021-12-13\",\"2021-12-20\",\"2021-12-27\",\"2022-01-03\",\"2022-01-10\",\"2022-01-17\",\"2022-01-24\",\"2022-01-31\",\"2022-02-07\",\"2022-02-14\",\"2022-02-21\",\"2022-02-28\",\"2022-03-07\",\"2022-03-14\",\"2022-03-21\",\"2022-03-28\",\"2022-04-04\",\"2022-04-11\",\"2022-04-18\",\"2022-04-25\",\"2022-05-02\",\"2022-05-09\",\"2022-05-16\",\"2022-05-23\",\"2022-05-30\",\"2022-06-06\",\"2022-06-13\",\"2022-06-20\",\"2022-06-27\",\"2022-07-04\",\"2022-07-11\",\"2022-07-18\",\"2022-07-25\",\"2022-08-01\",\"2022-08-08\",\"2022-08-15\",\"2022-08-22\",\"2022-08-29\",\"2022-09-05\",\"2022-09-12\",\"2022-09-19\",\"2022-09-26\",\"2022-10-03\",\"2022-10-10\",\"2022-10-17\",\"2022-10-24\",\"2022-10-31\",\"2022-11-07\",\"2022-11-14\",\"2022-11-21\",\"2022-11-28\",\"2022-12-05\",\"2022-12-12\",\"2022-12-19\",\"2022-12-26\",\"2023-01-02\",\"2023-01-09\",\"2023-01-16\",\"2023-01-23\",\"2023-01-30\",\"2023-02-06\",\"2023-02-13\",\"2023-02-20\",\"2023-02-27\",\"2023-03-06\",\"2023-03-13\",\"2023-03-20\",\"2023-03-27\",\"2023-04-03\",\"2023-04-10\",\"2023-04-17\",\"2023-04-24\",\"2023-05-01\",\"2023-05-08\",\"2023-05-15\",\"2023-05-22\",\"2023-05-29\",\"2023-06-05\",\"2023-06-12\",\"2023-06-19\",\"2023-06-26\"],\"xaxis\":\"x\",\"y\":[5,71,182,291,400,495,590,674,768,824,893,982,992,1051,1101,1171,1187,1218,1220,1306,1321,1347,1363,1371,1366,1441,1437,1469,1462,1482,1510,1526,1513,1545,1549,1585,1569,1559,1614,1603,1604,1635,1591,1615,1647,1674,1641,1657,1645,1672,1677,1639,1674,1707,1708,1692,1696,1712,1725,1731,1673,1794,1995,2120,2264,2383,2458,2542,2560,2619,2659,2710,2667,2722,2719,2740,2748,2697,2777,2764,2773,2758,2758,2798,2751,2782,2762,2830,2761,2727,2786,2769,2755,2769,2801,2731,2750,2718,2764,2757,2711,2780,2726,2722,2747,2704,2726,2732,2660,2672,2633,2720,2659,2710,2658,2697,2683,2683,2736,2715,2751,2733,2752,2770,2765,2730,2757,2756,2686,2750,2769],\"yaxis\":\"y\",\"type\":\"scatter\"}],                        {\"template\":{\"data\":{\"histogram2dcontour\":[{\"type\":\"histogram2dcontour\",\"colorbar\":{\"outlinewidth\":1,\"tickcolor\":\"rgb(36,36,36)\",\"ticks\":\"outside\"},\"colorscale\":[[0.0,\"#440154\"],[0.1111111111111111,\"#482878\"],[0.2222222222222222,\"#3e4989\"],[0.3333333333333333,\"#31688e\"],[0.4444444444444444,\"#26828e\"],[0.5555555555555556,\"#1f9e89\"],[0.6666666666666666,\"#35b779\"],[0.7777777777777778,\"#6ece58\"],[0.8888888888888888,\"#b5de2b\"],[1.0,\"#fde725\"]]}],\"choropleth\":[{\"type\":\"choropleth\",\"colorbar\":{\"outlinewidth\":1,\"tickcolor\":\"rgb(36,36,36)\",\"ticks\":\"outside\"}}],\"histogram2d\":[{\"type\":\"histogram2d\",\"colorbar\":{\"outlinewidth\":1,\"tickcolor\":\"rgb(36,36,36)\",\"ticks\":\"outside\"},\"colorscale\":[[0.0,\"#440154\"],[0.1111111111111111,\"#482878\"],[0.2222222222222222,\"#3e4989\"],[0.3333333333333333,\"#31688e\"],[0.4444444444444444,\"#26828e\"],[0.5555555555555556,\"#1f9e89\"],[0.6666666666666666,\"#35b779\"],[0.7777777777777778,\"#6ece58\"],[0.8888888888888888,\"#b5de2b\"],[1.0,\"#fde725\"]]}],\"heatmap\":[{\"type\":\"heatmap\",\"colorbar\":{\"outlinewidth\":1,\"tickcolor\":\"rgb(36,36,36)\",\"ticks\":\"outside\"},\"colorscale\":[[0.0,\"#440154\"],[0.1111111111111111,\"#482878\"],[0.2222222222222222,\"#3e4989\"],[0.3333333333333333,\"#31688e\"],[0.4444444444444444,\"#26828e\"],[0.5555555555555556,\"#1f9e89\"],[0.6666666666666666,\"#35b779\"],[0.7777777777777778,\"#6ece58\"],[0.8888888888888888,\"#b5de2b\"],[1.0,\"#fde725\"]]}],\"heatmapgl\":[{\"type\":\"heatmapgl\",\"colorbar\":{\"outlinewidth\":1,\"tickcolor\":\"rgb(36,36,36)\",\"ticks\":\"outside\"},\"colorscale\":[[0.0,\"#440154\"],[0.1111111111111111,\"#482878\"],[0.2222222222222222,\"#3e4989\"],[0.3333333333333333,\"#31688e\"],[0.4444444444444444,\"#26828e\"],[0.5555555555555556,\"#1f9e89\"],[0.6666666666666666,\"#35b779\"],[0.7777777777777778,\"#6ece58\"],[0.8888888888888888,\"#b5de2b\"],[1.0,\"#fde725\"]]}],\"contourcarpet\":[{\"type\":\"contourcarpet\",\"colorbar\":{\"outlinewidth\":1,\"tickcolor\":\"rgb(36,36,36)\",\"ticks\":\"outside\"}}],\"contour\":[{\"type\":\"contour\",\"colorbar\":{\"outlinewidth\":1,\"tickcolor\":\"rgb(36,36,36)\",\"ticks\":\"outside\"},\"colorscale\":[[0.0,\"#440154\"],[0.1111111111111111,\"#482878\"],[0.2222222222222222,\"#3e4989\"],[0.3333333333333333,\"#31688e\"],[0.4444444444444444,\"#26828e\"],[0.5555555555555556,\"#1f9e89\"],[0.6666666666666666,\"#35b779\"],[0.7777777777777778,\"#6ece58\"],[0.8888888888888888,\"#b5de2b\"],[1.0,\"#fde725\"]]}],\"surface\":[{\"type\":\"surface\",\"colorbar\":{\"outlinewidth\":1,\"tickcolor\":\"rgb(36,36,36)\",\"ticks\":\"outside\"},\"colorscale\":[[0.0,\"#440154\"],[0.1111111111111111,\"#482878\"],[0.2222222222222222,\"#3e4989\"],[0.3333333333333333,\"#31688e\"],[0.4444444444444444,\"#26828e\"],[0.5555555555555556,\"#1f9e89\"],[0.6666666666666666,\"#35b779\"],[0.7777777777777778,\"#6ece58\"],[0.8888888888888888,\"#b5de2b\"],[1.0,\"#fde725\"]]}],\"mesh3d\":[{\"type\":\"mesh3d\",\"colorbar\":{\"outlinewidth\":1,\"tickcolor\":\"rgb(36,36,36)\",\"ticks\":\"outside\"}}],\"scatter\":[{\"fillpattern\":{\"fillmode\":\"overlay\",\"size\":10,\"solidity\":0.2},\"type\":\"scatter\"}],\"parcoords\":[{\"type\":\"parcoords\",\"line\":{\"colorbar\":{\"outlinewidth\":1,\"tickcolor\":\"rgb(36,36,36)\",\"ticks\":\"outside\"}}}],\"scatterpolargl\":[{\"type\":\"scatterpolargl\",\"marker\":{\"colorbar\":{\"outlinewidth\":1,\"tickcolor\":\"rgb(36,36,36)\",\"ticks\":\"outside\"}}}],\"bar\":[{\"error_x\":{\"color\":\"rgb(36,36,36)\"},\"error_y\":{\"color\":\"rgb(36,36,36)\"},\"marker\":{\"line\":{\"color\":\"white\",\"width\":0.5},\"pattern\":{\"fillmode\":\"overlay\",\"size\":10,\"solidity\":0.2}},\"type\":\"bar\"}],\"scattergeo\":[{\"type\":\"scattergeo\",\"marker\":{\"colorbar\":{\"outlinewidth\":1,\"tickcolor\":\"rgb(36,36,36)\",\"ticks\":\"outside\"}}}],\"scatterpolar\":[{\"type\":\"scatterpolar\",\"marker\":{\"colorbar\":{\"outlinewidth\":1,\"tickcolor\":\"rgb(36,36,36)\",\"ticks\":\"outside\"}}}],\"histogram\":[{\"marker\":{\"line\":{\"color\":\"white\",\"width\":0.6}},\"type\":\"histogram\"}],\"scattergl\":[{\"type\":\"scattergl\",\"marker\":{\"colorbar\":{\"outlinewidth\":1,\"tickcolor\":\"rgb(36,36,36)\",\"ticks\":\"outside\"}}}],\"scatter3d\":[{\"type\":\"scatter3d\",\"line\":{\"colorbar\":{\"outlinewidth\":1,\"tickcolor\":\"rgb(36,36,36)\",\"ticks\":\"outside\"}},\"marker\":{\"colorbar\":{\"outlinewidth\":1,\"tickcolor\":\"rgb(36,36,36)\",\"ticks\":\"outside\"}}}],\"scattermapbox\":[{\"type\":\"scattermapbox\",\"marker\":{\"colorbar\":{\"outlinewidth\":1,\"tickcolor\":\"rgb(36,36,36)\",\"ticks\":\"outside\"}}}],\"scatterternary\":[{\"type\":\"scatterternary\",\"marker\":{\"colorbar\":{\"outlinewidth\":1,\"tickcolor\":\"rgb(36,36,36)\",\"ticks\":\"outside\"}}}],\"scattercarpet\":[{\"type\":\"scattercarpet\",\"marker\":{\"colorbar\":{\"outlinewidth\":1,\"tickcolor\":\"rgb(36,36,36)\",\"ticks\":\"outside\"}}}],\"carpet\":[{\"aaxis\":{\"endlinecolor\":\"rgb(36,36,36)\",\"gridcolor\":\"white\",\"linecolor\":\"white\",\"minorgridcolor\":\"white\",\"startlinecolor\":\"rgb(36,36,36)\"},\"baxis\":{\"endlinecolor\":\"rgb(36,36,36)\",\"gridcolor\":\"white\",\"linecolor\":\"white\",\"minorgridcolor\":\"white\",\"startlinecolor\":\"rgb(36,36,36)\"},\"type\":\"carpet\"}],\"table\":[{\"cells\":{\"fill\":{\"color\":\"rgb(237,237,237)\"},\"line\":{\"color\":\"white\"}},\"header\":{\"fill\":{\"color\":\"rgb(217,217,217)\"},\"line\":{\"color\":\"white\"}},\"type\":\"table\"}],\"barpolar\":[{\"marker\":{\"line\":{\"color\":\"white\",\"width\":0.5},\"pattern\":{\"fillmode\":\"overlay\",\"size\":10,\"solidity\":0.2}},\"type\":\"barpolar\"}],\"pie\":[{\"automargin\":true,\"type\":\"pie\"}]},\"layout\":{\"autotypenumbers\":\"strict\",\"colorway\":[\"#1F77B4\",\"#FF7F0E\",\"#2CA02C\",\"#D62728\",\"#9467BD\",\"#8C564B\",\"#E377C2\",\"#7F7F7F\",\"#BCBD22\",\"#17BECF\"],\"font\":{\"color\":\"rgb(36,36,36)\"},\"hovermode\":\"closest\",\"hoverlabel\":{\"align\":\"left\"},\"paper_bgcolor\":\"white\",\"plot_bgcolor\":\"white\",\"polar\":{\"bgcolor\":\"white\",\"angularaxis\":{\"gridcolor\":\"rgb(232,232,232)\",\"linecolor\":\"rgb(36,36,36)\",\"showgrid\":false,\"showline\":true,\"ticks\":\"outside\"},\"radialaxis\":{\"gridcolor\":\"rgb(232,232,232)\",\"linecolor\":\"rgb(36,36,36)\",\"showgrid\":false,\"showline\":true,\"ticks\":\"outside\"}},\"ternary\":{\"bgcolor\":\"white\",\"aaxis\":{\"gridcolor\":\"rgb(232,232,232)\",\"linecolor\":\"rgb(36,36,36)\",\"showgrid\":false,\"showline\":true,\"ticks\":\"outside\"},\"baxis\":{\"gridcolor\":\"rgb(232,232,232)\",\"linecolor\":\"rgb(36,36,36)\",\"showgrid\":false,\"showline\":true,\"ticks\":\"outside\"},\"caxis\":{\"gridcolor\":\"rgb(232,232,232)\",\"linecolor\":\"rgb(36,36,36)\",\"showgrid\":false,\"showline\":true,\"ticks\":\"outside\"}},\"coloraxis\":{\"colorbar\":{\"outlinewidth\":1,\"tickcolor\":\"rgb(36,36,36)\",\"ticks\":\"outside\"}},\"colorscale\":{\"sequential\":[[0.0,\"#440154\"],[0.1111111111111111,\"#482878\"],[0.2222222222222222,\"#3e4989\"],[0.3333333333333333,\"#31688e\"],[0.4444444444444444,\"#26828e\"],[0.5555555555555556,\"#1f9e89\"],[0.6666666666666666,\"#35b779\"],[0.7777777777777778,\"#6ece58\"],[0.8888888888888888,\"#b5de2b\"],[1.0,\"#fde725\"]],\"sequentialminus\":[[0.0,\"#440154\"],[0.1111111111111111,\"#482878\"],[0.2222222222222222,\"#3e4989\"],[0.3333333333333333,\"#31688e\"],[0.4444444444444444,\"#26828e\"],[0.5555555555555556,\"#1f9e89\"],[0.6666666666666666,\"#35b779\"],[0.7777777777777778,\"#6ece58\"],[0.8888888888888888,\"#b5de2b\"],[1.0,\"#fde725\"]],\"diverging\":[[0.0,\"rgb(103,0,31)\"],[0.1,\"rgb(178,24,43)\"],[0.2,\"rgb(214,96,77)\"],[0.3,\"rgb(244,165,130)\"],[0.4,\"rgb(253,219,199)\"],[0.5,\"rgb(247,247,247)\"],[0.6,\"rgb(209,229,240)\"],[0.7,\"rgb(146,197,222)\"],[0.8,\"rgb(67,147,195)\"],[0.9,\"rgb(33,102,172)\"],[1.0,\"rgb(5,48,97)\"]]},\"xaxis\":{\"gridcolor\":\"rgb(232,232,232)\",\"linecolor\":\"rgb(36,36,36)\",\"showgrid\":false,\"showline\":true,\"ticks\":\"outside\",\"title\":{\"standoff\":15},\"zerolinecolor\":\"rgb(36,36,36)\",\"automargin\":true,\"zeroline\":false},\"yaxis\":{\"gridcolor\":\"rgb(232,232,232)\",\"linecolor\":\"rgb(36,36,36)\",\"showgrid\":false,\"showline\":true,\"ticks\":\"outside\",\"title\":{\"standoff\":15},\"zerolinecolor\":\"rgb(36,36,36)\",\"automargin\":true,\"zeroline\":false},\"scene\":{\"xaxis\":{\"backgroundcolor\":\"white\",\"gridcolor\":\"rgb(232,232,232)\",\"linecolor\":\"rgb(36,36,36)\",\"showbackground\":true,\"showgrid\":false,\"showline\":true,\"ticks\":\"outside\",\"zerolinecolor\":\"rgb(36,36,36)\",\"gridwidth\":2,\"zeroline\":false},\"yaxis\":{\"backgroundcolor\":\"white\",\"gridcolor\":\"rgb(232,232,232)\",\"linecolor\":\"rgb(36,36,36)\",\"showbackground\":true,\"showgrid\":false,\"showline\":true,\"ticks\":\"outside\",\"zerolinecolor\":\"rgb(36,36,36)\",\"gridwidth\":2,\"zeroline\":false},\"zaxis\":{\"backgroundcolor\":\"white\",\"gridcolor\":\"rgb(232,232,232)\",\"linecolor\":\"rgb(36,36,36)\",\"showbackground\":true,\"showgrid\":false,\"showline\":true,\"ticks\":\"outside\",\"zerolinecolor\":\"rgb(36,36,36)\",\"gridwidth\":2,\"zeroline\":false}},\"shapedefaults\":{\"fillcolor\":\"black\",\"line\":{\"width\":0},\"opacity\":0.3},\"annotationdefaults\":{\"arrowhead\":0,\"arrowwidth\":1},\"geo\":{\"bgcolor\":\"white\",\"landcolor\":\"white\",\"subunitcolor\":\"white\",\"showland\":true,\"showlakes\":true,\"lakecolor\":\"white\"},\"title\":{\"x\":0.05},\"mapbox\":{\"style\":\"light\"}}},\"xaxis\":{\"anchor\":\"y\",\"domain\":[0.0,1.0],\"title\":{\"text\":\"cohort_week\"}},\"yaxis\":{\"anchor\":\"x\",\"domain\":[0.0,1.0],\"title\":{\"text\":\"value\"}},\"legend\":{\"title\":{\"text\":\"variable\"},\"tracegroupgap\":0},\"title\":{\"text\":\"New users\"}},                        {\"responsive\": true}                    ).then(function(){\n",
       "                            \n",
       "var gd = document.getElementById('290ee091-1064-4745-9d4a-030cb31156cf');\n",
       "var x = new MutationObserver(function (mutations, observer) {{\n",
       "        var display = window.getComputedStyle(gd).display;\n",
       "        if (!display || display === 'none') {{\n",
       "            console.log([gd, 'removed!']);\n",
       "            Plotly.purge(gd);\n",
       "            observer.disconnect();\n",
       "        }}\n",
       "}});\n",
       "\n",
       "// Listen for the removal of the full notebook cells\n",
       "var notebookContainer = gd.closest('#notebook-container');\n",
       "if (notebookContainer) {{\n",
       "    x.observe(notebookContainer, {childList: true});\n",
       "}}\n",
       "\n",
       "// Listen for the clearing of the current output cell\n",
       "var outputEl = gd.closest('.output');\n",
       "if (outputEl) {{\n",
       "    x.observe(outputEl, {childList: true});\n",
       "}}\n",
       "\n",
       "                        })                };                });            </script>        </div>"
      ]
     },
     "metadata": {},
     "output_type": "display_data"
    }
   ],
   "source": [
    "px.line(\n",
    "    df[df['week_num'] == 0].sort_values('cohort_week').set_index('cohort_week')[['user_id']],\n",
    "    title = 'New users'\n",
    ")"
   ]
  },
  {
   "cell_type": "code",
   "execution_count": 57,
   "id": "4e48a99b",
   "metadata": {},
   "outputs": [
    {
     "data": {
      "application/vnd.plotly.v1+json": {
       "config": {
        "plotlyServerURL": "https://plot.ly"
       },
       "data": [
        {
         "hovertemplate": "variable=user_id<br>week_date=%{x}<br>value=%{y}<extra></extra>",
         "legendgroup": "user_id",
         "line": {
          "color": "#1F77B4",
          "dash": "solid"
         },
         "marker": {
          "symbol": "circle"
         },
         "mode": "lines",
         "name": "user_id",
         "orientation": "v",
         "showlegend": true,
         "type": "scatter",
         "x": [
          "2020-12-28",
          "2021-01-04",
          "2021-01-11",
          "2021-01-18",
          "2021-01-25",
          "2021-02-01",
          "2021-02-08",
          "2021-02-15",
          "2021-02-22",
          "2021-03-01",
          "2021-03-08",
          "2021-03-15",
          "2021-03-22",
          "2021-03-29",
          "2021-04-05",
          "2021-04-12",
          "2021-04-19",
          "2021-04-26",
          "2021-05-03",
          "2021-05-10",
          "2021-05-17",
          "2021-05-24",
          "2021-05-31",
          "2021-06-07",
          "2021-06-14",
          "2021-06-21",
          "2021-06-28",
          "2021-07-05",
          "2021-07-12",
          "2021-07-19",
          "2021-07-26",
          "2021-08-02",
          "2021-08-09",
          "2021-08-16",
          "2021-08-23",
          "2021-08-30",
          "2021-09-06",
          "2021-09-13",
          "2021-09-20",
          "2021-09-27",
          "2021-10-04",
          "2021-10-11",
          "2021-10-18",
          "2021-10-25",
          "2021-11-01",
          "2021-11-08",
          "2021-11-15",
          "2021-11-22",
          "2021-11-29",
          "2021-12-06",
          "2021-12-13",
          "2021-12-20",
          "2021-12-27",
          "2022-01-03",
          "2022-01-10",
          "2022-01-17",
          "2022-01-24",
          "2022-01-31",
          "2022-02-07",
          "2022-02-14",
          "2022-02-21",
          "2022-02-28",
          "2022-03-07",
          "2022-03-14",
          "2022-03-21",
          "2022-03-28",
          "2022-04-04",
          "2022-04-11",
          "2022-04-18",
          "2022-04-25",
          "2022-05-02",
          "2022-05-09",
          "2022-05-16",
          "2022-05-23",
          "2022-05-30",
          "2022-06-06",
          "2022-06-13",
          "2022-06-20",
          "2022-06-27",
          "2022-07-04",
          "2022-07-11",
          "2022-07-18",
          "2022-07-25",
          "2022-08-01",
          "2022-08-08",
          "2022-08-15",
          "2022-08-22",
          "2022-08-29",
          "2022-09-05",
          "2022-09-12",
          "2022-09-19",
          "2022-09-26",
          "2022-10-03",
          "2022-10-10",
          "2022-10-17",
          "2022-10-24",
          "2022-10-31",
          "2022-11-07",
          "2022-11-14",
          "2022-11-21",
          "2022-11-28",
          "2022-12-05",
          "2022-12-12",
          "2022-12-19",
          "2022-12-26",
          "2023-01-02",
          "2023-01-09",
          "2023-01-16",
          "2023-01-23",
          "2023-01-30",
          "2023-02-06",
          "2023-02-13",
          "2023-02-20",
          "2023-02-27",
          "2023-03-06",
          "2023-03-13",
          "2023-03-20",
          "2023-03-27",
          "2023-04-03",
          "2023-04-10",
          "2023-04-17",
          "2023-04-24",
          "2023-05-01",
          "2023-05-08",
          "2023-05-15",
          "2023-05-22",
          "2023-05-29",
          "2023-06-05",
          "2023-06-12",
          "2023-06-19",
          "2023-06-26"
         ],
         "xaxis": "x",
         "y": [
          5,
          76,
          251,
          510,
          867,
          1306,
          1802,
          2346,
          2981,
          3637,
          4246,
          5023,
          5788,
          6468,
          7243,
          8112,
          8934,
          9809,
          10584,
          11564,
          12246,
          13219,
          14061,
          14917,
          15783,
          16668,
          17603,
          18486,
          19432,
          20178,
          21268,
          22128,
          22896,
          23789,
          24693,
          25784,
          26490,
          27533,
          28302,
          29072,
          29925,
          30781,
          31665,
          32611,
          33641,
          34386,
          35342,
          35841,
          37065,
          37952,
          38779,
          39384,
          40036,
          41220,
          42012,
          42726,
          43721,
          44738,
          45580,
          46300,
          47398,
          48109,
          49145,
          50339,
          51621,
          52981,
          54456,
          56031,
          57701,
          58949,
          60585,
          62084,
          63991,
          65440,
          67017,
          68327,
          69914,
          71332,
          72726,
          74451,
          75642,
          77014,
          78779,
          80256,
          81427,
          82782,
          84091,
          85922,
          86793,
          88427,
          89617,
          91103,
          92372,
          93802,
          94994,
          96326,
          97511,
          98704,
          99713,
          100973,
          102568,
          103699,
          105015,
          105850,
          107480,
          108607,
          109856,
          111653,
          112759,
          114222,
          115476,
          117016,
          118453,
          119878,
          121262,
          123047,
          123850,
          125571,
          126710,
          128767,
          130303,
          131325,
          133068,
          134506,
          136160,
          137431,
          139248,
          141124,
          142343,
          143571,
          145581
         ],
         "yaxis": "y"
        }
       ],
       "layout": {
        "legend": {
         "title": {
          "text": "variable"
         },
         "tracegroupgap": 0
        },
        "template": {
         "data": {
          "bar": [
           {
            "error_x": {
             "color": "rgb(36,36,36)"
            },
            "error_y": {
             "color": "rgb(36,36,36)"
            },
            "marker": {
             "line": {
              "color": "white",
              "width": 0.5
             },
             "pattern": {
              "fillmode": "overlay",
              "size": 10,
              "solidity": 0.2
             }
            },
            "type": "bar"
           }
          ],
          "barpolar": [
           {
            "marker": {
             "line": {
              "color": "white",
              "width": 0.5
             },
             "pattern": {
              "fillmode": "overlay",
              "size": 10,
              "solidity": 0.2
             }
            },
            "type": "barpolar"
           }
          ],
          "carpet": [
           {
            "aaxis": {
             "endlinecolor": "rgb(36,36,36)",
             "gridcolor": "white",
             "linecolor": "white",
             "minorgridcolor": "white",
             "startlinecolor": "rgb(36,36,36)"
            },
            "baxis": {
             "endlinecolor": "rgb(36,36,36)",
             "gridcolor": "white",
             "linecolor": "white",
             "minorgridcolor": "white",
             "startlinecolor": "rgb(36,36,36)"
            },
            "type": "carpet"
           }
          ],
          "choropleth": [
           {
            "colorbar": {
             "outlinewidth": 1,
             "tickcolor": "rgb(36,36,36)",
             "ticks": "outside"
            },
            "type": "choropleth"
           }
          ],
          "contour": [
           {
            "colorbar": {
             "outlinewidth": 1,
             "tickcolor": "rgb(36,36,36)",
             "ticks": "outside"
            },
            "colorscale": [
             [
              0,
              "#440154"
             ],
             [
              0.1111111111111111,
              "#482878"
             ],
             [
              0.2222222222222222,
              "#3e4989"
             ],
             [
              0.3333333333333333,
              "#31688e"
             ],
             [
              0.4444444444444444,
              "#26828e"
             ],
             [
              0.5555555555555556,
              "#1f9e89"
             ],
             [
              0.6666666666666666,
              "#35b779"
             ],
             [
              0.7777777777777778,
              "#6ece58"
             ],
             [
              0.8888888888888888,
              "#b5de2b"
             ],
             [
              1,
              "#fde725"
             ]
            ],
            "type": "contour"
           }
          ],
          "contourcarpet": [
           {
            "colorbar": {
             "outlinewidth": 1,
             "tickcolor": "rgb(36,36,36)",
             "ticks": "outside"
            },
            "type": "contourcarpet"
           }
          ],
          "heatmap": [
           {
            "colorbar": {
             "outlinewidth": 1,
             "tickcolor": "rgb(36,36,36)",
             "ticks": "outside"
            },
            "colorscale": [
             [
              0,
              "#440154"
             ],
             [
              0.1111111111111111,
              "#482878"
             ],
             [
              0.2222222222222222,
              "#3e4989"
             ],
             [
              0.3333333333333333,
              "#31688e"
             ],
             [
              0.4444444444444444,
              "#26828e"
             ],
             [
              0.5555555555555556,
              "#1f9e89"
             ],
             [
              0.6666666666666666,
              "#35b779"
             ],
             [
              0.7777777777777778,
              "#6ece58"
             ],
             [
              0.8888888888888888,
              "#b5de2b"
             ],
             [
              1,
              "#fde725"
             ]
            ],
            "type": "heatmap"
           }
          ],
          "heatmapgl": [
           {
            "colorbar": {
             "outlinewidth": 1,
             "tickcolor": "rgb(36,36,36)",
             "ticks": "outside"
            },
            "colorscale": [
             [
              0,
              "#440154"
             ],
             [
              0.1111111111111111,
              "#482878"
             ],
             [
              0.2222222222222222,
              "#3e4989"
             ],
             [
              0.3333333333333333,
              "#31688e"
             ],
             [
              0.4444444444444444,
              "#26828e"
             ],
             [
              0.5555555555555556,
              "#1f9e89"
             ],
             [
              0.6666666666666666,
              "#35b779"
             ],
             [
              0.7777777777777778,
              "#6ece58"
             ],
             [
              0.8888888888888888,
              "#b5de2b"
             ],
             [
              1,
              "#fde725"
             ]
            ],
            "type": "heatmapgl"
           }
          ],
          "histogram": [
           {
            "marker": {
             "line": {
              "color": "white",
              "width": 0.6
             }
            },
            "type": "histogram"
           }
          ],
          "histogram2d": [
           {
            "colorbar": {
             "outlinewidth": 1,
             "tickcolor": "rgb(36,36,36)",
             "ticks": "outside"
            },
            "colorscale": [
             [
              0,
              "#440154"
             ],
             [
              0.1111111111111111,
              "#482878"
             ],
             [
              0.2222222222222222,
              "#3e4989"
             ],
             [
              0.3333333333333333,
              "#31688e"
             ],
             [
              0.4444444444444444,
              "#26828e"
             ],
             [
              0.5555555555555556,
              "#1f9e89"
             ],
             [
              0.6666666666666666,
              "#35b779"
             ],
             [
              0.7777777777777778,
              "#6ece58"
             ],
             [
              0.8888888888888888,
              "#b5de2b"
             ],
             [
              1,
              "#fde725"
             ]
            ],
            "type": "histogram2d"
           }
          ],
          "histogram2dcontour": [
           {
            "colorbar": {
             "outlinewidth": 1,
             "tickcolor": "rgb(36,36,36)",
             "ticks": "outside"
            },
            "colorscale": [
             [
              0,
              "#440154"
             ],
             [
              0.1111111111111111,
              "#482878"
             ],
             [
              0.2222222222222222,
              "#3e4989"
             ],
             [
              0.3333333333333333,
              "#31688e"
             ],
             [
              0.4444444444444444,
              "#26828e"
             ],
             [
              0.5555555555555556,
              "#1f9e89"
             ],
             [
              0.6666666666666666,
              "#35b779"
             ],
             [
              0.7777777777777778,
              "#6ece58"
             ],
             [
              0.8888888888888888,
              "#b5de2b"
             ],
             [
              1,
              "#fde725"
             ]
            ],
            "type": "histogram2dcontour"
           }
          ],
          "mesh3d": [
           {
            "colorbar": {
             "outlinewidth": 1,
             "tickcolor": "rgb(36,36,36)",
             "ticks": "outside"
            },
            "type": "mesh3d"
           }
          ],
          "parcoords": [
           {
            "line": {
             "colorbar": {
              "outlinewidth": 1,
              "tickcolor": "rgb(36,36,36)",
              "ticks": "outside"
             }
            },
            "type": "parcoords"
           }
          ],
          "pie": [
           {
            "automargin": true,
            "type": "pie"
           }
          ],
          "scatter": [
           {
            "fillpattern": {
             "fillmode": "overlay",
             "size": 10,
             "solidity": 0.2
            },
            "type": "scatter"
           }
          ],
          "scatter3d": [
           {
            "line": {
             "colorbar": {
              "outlinewidth": 1,
              "tickcolor": "rgb(36,36,36)",
              "ticks": "outside"
             }
            },
            "marker": {
             "colorbar": {
              "outlinewidth": 1,
              "tickcolor": "rgb(36,36,36)",
              "ticks": "outside"
             }
            },
            "type": "scatter3d"
           }
          ],
          "scattercarpet": [
           {
            "marker": {
             "colorbar": {
              "outlinewidth": 1,
              "tickcolor": "rgb(36,36,36)",
              "ticks": "outside"
             }
            },
            "type": "scattercarpet"
           }
          ],
          "scattergeo": [
           {
            "marker": {
             "colorbar": {
              "outlinewidth": 1,
              "tickcolor": "rgb(36,36,36)",
              "ticks": "outside"
             }
            },
            "type": "scattergeo"
           }
          ],
          "scattergl": [
           {
            "marker": {
             "colorbar": {
              "outlinewidth": 1,
              "tickcolor": "rgb(36,36,36)",
              "ticks": "outside"
             }
            },
            "type": "scattergl"
           }
          ],
          "scattermapbox": [
           {
            "marker": {
             "colorbar": {
              "outlinewidth": 1,
              "tickcolor": "rgb(36,36,36)",
              "ticks": "outside"
             }
            },
            "type": "scattermapbox"
           }
          ],
          "scatterpolar": [
           {
            "marker": {
             "colorbar": {
              "outlinewidth": 1,
              "tickcolor": "rgb(36,36,36)",
              "ticks": "outside"
             }
            },
            "type": "scatterpolar"
           }
          ],
          "scatterpolargl": [
           {
            "marker": {
             "colorbar": {
              "outlinewidth": 1,
              "tickcolor": "rgb(36,36,36)",
              "ticks": "outside"
             }
            },
            "type": "scatterpolargl"
           }
          ],
          "scatterternary": [
           {
            "marker": {
             "colorbar": {
              "outlinewidth": 1,
              "tickcolor": "rgb(36,36,36)",
              "ticks": "outside"
             }
            },
            "type": "scatterternary"
           }
          ],
          "surface": [
           {
            "colorbar": {
             "outlinewidth": 1,
             "tickcolor": "rgb(36,36,36)",
             "ticks": "outside"
            },
            "colorscale": [
             [
              0,
              "#440154"
             ],
             [
              0.1111111111111111,
              "#482878"
             ],
             [
              0.2222222222222222,
              "#3e4989"
             ],
             [
              0.3333333333333333,
              "#31688e"
             ],
             [
              0.4444444444444444,
              "#26828e"
             ],
             [
              0.5555555555555556,
              "#1f9e89"
             ],
             [
              0.6666666666666666,
              "#35b779"
             ],
             [
              0.7777777777777778,
              "#6ece58"
             ],
             [
              0.8888888888888888,
              "#b5de2b"
             ],
             [
              1,
              "#fde725"
             ]
            ],
            "type": "surface"
           }
          ],
          "table": [
           {
            "cells": {
             "fill": {
              "color": "rgb(237,237,237)"
             },
             "line": {
              "color": "white"
             }
            },
            "header": {
             "fill": {
              "color": "rgb(217,217,217)"
             },
             "line": {
              "color": "white"
             }
            },
            "type": "table"
           }
          ]
         },
         "layout": {
          "annotationdefaults": {
           "arrowhead": 0,
           "arrowwidth": 1
          },
          "autotypenumbers": "strict",
          "coloraxis": {
           "colorbar": {
            "outlinewidth": 1,
            "tickcolor": "rgb(36,36,36)",
            "ticks": "outside"
           }
          },
          "colorscale": {
           "diverging": [
            [
             0,
             "rgb(103,0,31)"
            ],
            [
             0.1,
             "rgb(178,24,43)"
            ],
            [
             0.2,
             "rgb(214,96,77)"
            ],
            [
             0.3,
             "rgb(244,165,130)"
            ],
            [
             0.4,
             "rgb(253,219,199)"
            ],
            [
             0.5,
             "rgb(247,247,247)"
            ],
            [
             0.6,
             "rgb(209,229,240)"
            ],
            [
             0.7,
             "rgb(146,197,222)"
            ],
            [
             0.8,
             "rgb(67,147,195)"
            ],
            [
             0.9,
             "rgb(33,102,172)"
            ],
            [
             1,
             "rgb(5,48,97)"
            ]
           ],
           "sequential": [
            [
             0,
             "#440154"
            ],
            [
             0.1111111111111111,
             "#482878"
            ],
            [
             0.2222222222222222,
             "#3e4989"
            ],
            [
             0.3333333333333333,
             "#31688e"
            ],
            [
             0.4444444444444444,
             "#26828e"
            ],
            [
             0.5555555555555556,
             "#1f9e89"
            ],
            [
             0.6666666666666666,
             "#35b779"
            ],
            [
             0.7777777777777778,
             "#6ece58"
            ],
            [
             0.8888888888888888,
             "#b5de2b"
            ],
            [
             1,
             "#fde725"
            ]
           ],
           "sequentialminus": [
            [
             0,
             "#440154"
            ],
            [
             0.1111111111111111,
             "#482878"
            ],
            [
             0.2222222222222222,
             "#3e4989"
            ],
            [
             0.3333333333333333,
             "#31688e"
            ],
            [
             0.4444444444444444,
             "#26828e"
            ],
            [
             0.5555555555555556,
             "#1f9e89"
            ],
            [
             0.6666666666666666,
             "#35b779"
            ],
            [
             0.7777777777777778,
             "#6ece58"
            ],
            [
             0.8888888888888888,
             "#b5de2b"
            ],
            [
             1,
             "#fde725"
            ]
           ]
          },
          "colorway": [
           "#1F77B4",
           "#FF7F0E",
           "#2CA02C",
           "#D62728",
           "#9467BD",
           "#8C564B",
           "#E377C2",
           "#7F7F7F",
           "#BCBD22",
           "#17BECF"
          ],
          "font": {
           "color": "rgb(36,36,36)"
          },
          "geo": {
           "bgcolor": "white",
           "lakecolor": "white",
           "landcolor": "white",
           "showlakes": true,
           "showland": true,
           "subunitcolor": "white"
          },
          "hoverlabel": {
           "align": "left"
          },
          "hovermode": "closest",
          "mapbox": {
           "style": "light"
          },
          "paper_bgcolor": "white",
          "plot_bgcolor": "white",
          "polar": {
           "angularaxis": {
            "gridcolor": "rgb(232,232,232)",
            "linecolor": "rgb(36,36,36)",
            "showgrid": false,
            "showline": true,
            "ticks": "outside"
           },
           "bgcolor": "white",
           "radialaxis": {
            "gridcolor": "rgb(232,232,232)",
            "linecolor": "rgb(36,36,36)",
            "showgrid": false,
            "showline": true,
            "ticks": "outside"
           }
          },
          "scene": {
           "xaxis": {
            "backgroundcolor": "white",
            "gridcolor": "rgb(232,232,232)",
            "gridwidth": 2,
            "linecolor": "rgb(36,36,36)",
            "showbackground": true,
            "showgrid": false,
            "showline": true,
            "ticks": "outside",
            "zeroline": false,
            "zerolinecolor": "rgb(36,36,36)"
           },
           "yaxis": {
            "backgroundcolor": "white",
            "gridcolor": "rgb(232,232,232)",
            "gridwidth": 2,
            "linecolor": "rgb(36,36,36)",
            "showbackground": true,
            "showgrid": false,
            "showline": true,
            "ticks": "outside",
            "zeroline": false,
            "zerolinecolor": "rgb(36,36,36)"
           },
           "zaxis": {
            "backgroundcolor": "white",
            "gridcolor": "rgb(232,232,232)",
            "gridwidth": 2,
            "linecolor": "rgb(36,36,36)",
            "showbackground": true,
            "showgrid": false,
            "showline": true,
            "ticks": "outside",
            "zeroline": false,
            "zerolinecolor": "rgb(36,36,36)"
           }
          },
          "shapedefaults": {
           "fillcolor": "black",
           "line": {
            "width": 0
           },
           "opacity": 0.3
          },
          "ternary": {
           "aaxis": {
            "gridcolor": "rgb(232,232,232)",
            "linecolor": "rgb(36,36,36)",
            "showgrid": false,
            "showline": true,
            "ticks": "outside"
           },
           "baxis": {
            "gridcolor": "rgb(232,232,232)",
            "linecolor": "rgb(36,36,36)",
            "showgrid": false,
            "showline": true,
            "ticks": "outside"
           },
           "bgcolor": "white",
           "caxis": {
            "gridcolor": "rgb(232,232,232)",
            "linecolor": "rgb(36,36,36)",
            "showgrid": false,
            "showline": true,
            "ticks": "outside"
           }
          },
          "title": {
           "x": 0.05
          },
          "xaxis": {
           "automargin": true,
           "gridcolor": "rgb(232,232,232)",
           "linecolor": "rgb(36,36,36)",
           "showgrid": false,
           "showline": true,
           "ticks": "outside",
           "title": {
            "standoff": 15
           },
           "zeroline": false,
           "zerolinecolor": "rgb(36,36,36)"
          },
          "yaxis": {
           "automargin": true,
           "gridcolor": "rgb(232,232,232)",
           "linecolor": "rgb(36,36,36)",
           "showgrid": false,
           "showline": true,
           "ticks": "outside",
           "title": {
            "standoff": 15
           },
           "zeroline": false,
           "zerolinecolor": "rgb(36,36,36)"
          }
         }
        },
        "title": {
         "text": "Active users"
        },
        "xaxis": {
         "anchor": "y",
         "domain": [
          0,
          1
         ],
         "title": {
          "text": "week_date"
         }
        },
        "yaxis": {
         "anchor": "x",
         "domain": [
          0,
          1
         ],
         "title": {
          "text": "value"
         }
        }
       }
      },
      "text/html": [
       "<div>                            <div id=\"7c1f4115-c0b3-413e-a3f3-14d33f76e684\" class=\"plotly-graph-div\" style=\"height:525px; width:100%;\"></div>            <script type=\"text/javascript\">                require([\"plotly\"], function(Plotly) {                    window.PLOTLYENV=window.PLOTLYENV || {};                                    if (document.getElementById(\"7c1f4115-c0b3-413e-a3f3-14d33f76e684\")) {                    Plotly.newPlot(                        \"7c1f4115-c0b3-413e-a3f3-14d33f76e684\",                        [{\"hovertemplate\":\"variable=user_id<br>week_date=%{x}<br>value=%{y}<extra></extra>\",\"legendgroup\":\"user_id\",\"line\":{\"color\":\"#1F77B4\",\"dash\":\"solid\"},\"marker\":{\"symbol\":\"circle\"},\"mode\":\"lines\",\"name\":\"user_id\",\"orientation\":\"v\",\"showlegend\":true,\"x\":[\"2020-12-28\",\"2021-01-04\",\"2021-01-11\",\"2021-01-18\",\"2021-01-25\",\"2021-02-01\",\"2021-02-08\",\"2021-02-15\",\"2021-02-22\",\"2021-03-01\",\"2021-03-08\",\"2021-03-15\",\"2021-03-22\",\"2021-03-29\",\"2021-04-05\",\"2021-04-12\",\"2021-04-19\",\"2021-04-26\",\"2021-05-03\",\"2021-05-10\",\"2021-05-17\",\"2021-05-24\",\"2021-05-31\",\"2021-06-07\",\"2021-06-14\",\"2021-06-21\",\"2021-06-28\",\"2021-07-05\",\"2021-07-12\",\"2021-07-19\",\"2021-07-26\",\"2021-08-02\",\"2021-08-09\",\"2021-08-16\",\"2021-08-23\",\"2021-08-30\",\"2021-09-06\",\"2021-09-13\",\"2021-09-20\",\"2021-09-27\",\"2021-10-04\",\"2021-10-11\",\"2021-10-18\",\"2021-10-25\",\"2021-11-01\",\"2021-11-08\",\"2021-11-15\",\"2021-11-22\",\"2021-11-29\",\"2021-12-06\",\"2021-12-13\",\"2021-12-20\",\"2021-12-27\",\"2022-01-03\",\"2022-01-10\",\"2022-01-17\",\"2022-01-24\",\"2022-01-31\",\"2022-02-07\",\"2022-02-14\",\"2022-02-21\",\"2022-02-28\",\"2022-03-07\",\"2022-03-14\",\"2022-03-21\",\"2022-03-28\",\"2022-04-04\",\"2022-04-11\",\"2022-04-18\",\"2022-04-25\",\"2022-05-02\",\"2022-05-09\",\"2022-05-16\",\"2022-05-23\",\"2022-05-30\",\"2022-06-06\",\"2022-06-13\",\"2022-06-20\",\"2022-06-27\",\"2022-07-04\",\"2022-07-11\",\"2022-07-18\",\"2022-07-25\",\"2022-08-01\",\"2022-08-08\",\"2022-08-15\",\"2022-08-22\",\"2022-08-29\",\"2022-09-05\",\"2022-09-12\",\"2022-09-19\",\"2022-09-26\",\"2022-10-03\",\"2022-10-10\",\"2022-10-17\",\"2022-10-24\",\"2022-10-31\",\"2022-11-07\",\"2022-11-14\",\"2022-11-21\",\"2022-11-28\",\"2022-12-05\",\"2022-12-12\",\"2022-12-19\",\"2022-12-26\",\"2023-01-02\",\"2023-01-09\",\"2023-01-16\",\"2023-01-23\",\"2023-01-30\",\"2023-02-06\",\"2023-02-13\",\"2023-02-20\",\"2023-02-27\",\"2023-03-06\",\"2023-03-13\",\"2023-03-20\",\"2023-03-27\",\"2023-04-03\",\"2023-04-10\",\"2023-04-17\",\"2023-04-24\",\"2023-05-01\",\"2023-05-08\",\"2023-05-15\",\"2023-05-22\",\"2023-05-29\",\"2023-06-05\",\"2023-06-12\",\"2023-06-19\",\"2023-06-26\"],\"xaxis\":\"x\",\"y\":[5,76,251,510,867,1306,1802,2346,2981,3637,4246,5023,5788,6468,7243,8112,8934,9809,10584,11564,12246,13219,14061,14917,15783,16668,17603,18486,19432,20178,21268,22128,22896,23789,24693,25784,26490,27533,28302,29072,29925,30781,31665,32611,33641,34386,35342,35841,37065,37952,38779,39384,40036,41220,42012,42726,43721,44738,45580,46300,47398,48109,49145,50339,51621,52981,54456,56031,57701,58949,60585,62084,63991,65440,67017,68327,69914,71332,72726,74451,75642,77014,78779,80256,81427,82782,84091,85922,86793,88427,89617,91103,92372,93802,94994,96326,97511,98704,99713,100973,102568,103699,105015,105850,107480,108607,109856,111653,112759,114222,115476,117016,118453,119878,121262,123047,123850,125571,126710,128767,130303,131325,133068,134506,136160,137431,139248,141124,142343,143571,145581],\"yaxis\":\"y\",\"type\":\"scatter\"}],                        {\"template\":{\"data\":{\"histogram2dcontour\":[{\"type\":\"histogram2dcontour\",\"colorbar\":{\"outlinewidth\":1,\"tickcolor\":\"rgb(36,36,36)\",\"ticks\":\"outside\"},\"colorscale\":[[0.0,\"#440154\"],[0.1111111111111111,\"#482878\"],[0.2222222222222222,\"#3e4989\"],[0.3333333333333333,\"#31688e\"],[0.4444444444444444,\"#26828e\"],[0.5555555555555556,\"#1f9e89\"],[0.6666666666666666,\"#35b779\"],[0.7777777777777778,\"#6ece58\"],[0.8888888888888888,\"#b5de2b\"],[1.0,\"#fde725\"]]}],\"choropleth\":[{\"type\":\"choropleth\",\"colorbar\":{\"outlinewidth\":1,\"tickcolor\":\"rgb(36,36,36)\",\"ticks\":\"outside\"}}],\"histogram2d\":[{\"type\":\"histogram2d\",\"colorbar\":{\"outlinewidth\":1,\"tickcolor\":\"rgb(36,36,36)\",\"ticks\":\"outside\"},\"colorscale\":[[0.0,\"#440154\"],[0.1111111111111111,\"#482878\"],[0.2222222222222222,\"#3e4989\"],[0.3333333333333333,\"#31688e\"],[0.4444444444444444,\"#26828e\"],[0.5555555555555556,\"#1f9e89\"],[0.6666666666666666,\"#35b779\"],[0.7777777777777778,\"#6ece58\"],[0.8888888888888888,\"#b5de2b\"],[1.0,\"#fde725\"]]}],\"heatmap\":[{\"type\":\"heatmap\",\"colorbar\":{\"outlinewidth\":1,\"tickcolor\":\"rgb(36,36,36)\",\"ticks\":\"outside\"},\"colorscale\":[[0.0,\"#440154\"],[0.1111111111111111,\"#482878\"],[0.2222222222222222,\"#3e4989\"],[0.3333333333333333,\"#31688e\"],[0.4444444444444444,\"#26828e\"],[0.5555555555555556,\"#1f9e89\"],[0.6666666666666666,\"#35b779\"],[0.7777777777777778,\"#6ece58\"],[0.8888888888888888,\"#b5de2b\"],[1.0,\"#fde725\"]]}],\"heatmapgl\":[{\"type\":\"heatmapgl\",\"colorbar\":{\"outlinewidth\":1,\"tickcolor\":\"rgb(36,36,36)\",\"ticks\":\"outside\"},\"colorscale\":[[0.0,\"#440154\"],[0.1111111111111111,\"#482878\"],[0.2222222222222222,\"#3e4989\"],[0.3333333333333333,\"#31688e\"],[0.4444444444444444,\"#26828e\"],[0.5555555555555556,\"#1f9e89\"],[0.6666666666666666,\"#35b779\"],[0.7777777777777778,\"#6ece58\"],[0.8888888888888888,\"#b5de2b\"],[1.0,\"#fde725\"]]}],\"contourcarpet\":[{\"type\":\"contourcarpet\",\"colorbar\":{\"outlinewidth\":1,\"tickcolor\":\"rgb(36,36,36)\",\"ticks\":\"outside\"}}],\"contour\":[{\"type\":\"contour\",\"colorbar\":{\"outlinewidth\":1,\"tickcolor\":\"rgb(36,36,36)\",\"ticks\":\"outside\"},\"colorscale\":[[0.0,\"#440154\"],[0.1111111111111111,\"#482878\"],[0.2222222222222222,\"#3e4989\"],[0.3333333333333333,\"#31688e\"],[0.4444444444444444,\"#26828e\"],[0.5555555555555556,\"#1f9e89\"],[0.6666666666666666,\"#35b779\"],[0.7777777777777778,\"#6ece58\"],[0.8888888888888888,\"#b5de2b\"],[1.0,\"#fde725\"]]}],\"surface\":[{\"type\":\"surface\",\"colorbar\":{\"outlinewidth\":1,\"tickcolor\":\"rgb(36,36,36)\",\"ticks\":\"outside\"},\"colorscale\":[[0.0,\"#440154\"],[0.1111111111111111,\"#482878\"],[0.2222222222222222,\"#3e4989\"],[0.3333333333333333,\"#31688e\"],[0.4444444444444444,\"#26828e\"],[0.5555555555555556,\"#1f9e89\"],[0.6666666666666666,\"#35b779\"],[0.7777777777777778,\"#6ece58\"],[0.8888888888888888,\"#b5de2b\"],[1.0,\"#fde725\"]]}],\"mesh3d\":[{\"type\":\"mesh3d\",\"colorbar\":{\"outlinewidth\":1,\"tickcolor\":\"rgb(36,36,36)\",\"ticks\":\"outside\"}}],\"scatter\":[{\"fillpattern\":{\"fillmode\":\"overlay\",\"size\":10,\"solidity\":0.2},\"type\":\"scatter\"}],\"parcoords\":[{\"type\":\"parcoords\",\"line\":{\"colorbar\":{\"outlinewidth\":1,\"tickcolor\":\"rgb(36,36,36)\",\"ticks\":\"outside\"}}}],\"scatterpolargl\":[{\"type\":\"scatterpolargl\",\"marker\":{\"colorbar\":{\"outlinewidth\":1,\"tickcolor\":\"rgb(36,36,36)\",\"ticks\":\"outside\"}}}],\"bar\":[{\"error_x\":{\"color\":\"rgb(36,36,36)\"},\"error_y\":{\"color\":\"rgb(36,36,36)\"},\"marker\":{\"line\":{\"color\":\"white\",\"width\":0.5},\"pattern\":{\"fillmode\":\"overlay\",\"size\":10,\"solidity\":0.2}},\"type\":\"bar\"}],\"scattergeo\":[{\"type\":\"scattergeo\",\"marker\":{\"colorbar\":{\"outlinewidth\":1,\"tickcolor\":\"rgb(36,36,36)\",\"ticks\":\"outside\"}}}],\"scatterpolar\":[{\"type\":\"scatterpolar\",\"marker\":{\"colorbar\":{\"outlinewidth\":1,\"tickcolor\":\"rgb(36,36,36)\",\"ticks\":\"outside\"}}}],\"histogram\":[{\"marker\":{\"line\":{\"color\":\"white\",\"width\":0.6}},\"type\":\"histogram\"}],\"scattergl\":[{\"type\":\"scattergl\",\"marker\":{\"colorbar\":{\"outlinewidth\":1,\"tickcolor\":\"rgb(36,36,36)\",\"ticks\":\"outside\"}}}],\"scatter3d\":[{\"type\":\"scatter3d\",\"line\":{\"colorbar\":{\"outlinewidth\":1,\"tickcolor\":\"rgb(36,36,36)\",\"ticks\":\"outside\"}},\"marker\":{\"colorbar\":{\"outlinewidth\":1,\"tickcolor\":\"rgb(36,36,36)\",\"ticks\":\"outside\"}}}],\"scattermapbox\":[{\"type\":\"scattermapbox\",\"marker\":{\"colorbar\":{\"outlinewidth\":1,\"tickcolor\":\"rgb(36,36,36)\",\"ticks\":\"outside\"}}}],\"scatterternary\":[{\"type\":\"scatterternary\",\"marker\":{\"colorbar\":{\"outlinewidth\":1,\"tickcolor\":\"rgb(36,36,36)\",\"ticks\":\"outside\"}}}],\"scattercarpet\":[{\"type\":\"scattercarpet\",\"marker\":{\"colorbar\":{\"outlinewidth\":1,\"tickcolor\":\"rgb(36,36,36)\",\"ticks\":\"outside\"}}}],\"carpet\":[{\"aaxis\":{\"endlinecolor\":\"rgb(36,36,36)\",\"gridcolor\":\"white\",\"linecolor\":\"white\",\"minorgridcolor\":\"white\",\"startlinecolor\":\"rgb(36,36,36)\"},\"baxis\":{\"endlinecolor\":\"rgb(36,36,36)\",\"gridcolor\":\"white\",\"linecolor\":\"white\",\"minorgridcolor\":\"white\",\"startlinecolor\":\"rgb(36,36,36)\"},\"type\":\"carpet\"}],\"table\":[{\"cells\":{\"fill\":{\"color\":\"rgb(237,237,237)\"},\"line\":{\"color\":\"white\"}},\"header\":{\"fill\":{\"color\":\"rgb(217,217,217)\"},\"line\":{\"color\":\"white\"}},\"type\":\"table\"}],\"barpolar\":[{\"marker\":{\"line\":{\"color\":\"white\",\"width\":0.5},\"pattern\":{\"fillmode\":\"overlay\",\"size\":10,\"solidity\":0.2}},\"type\":\"barpolar\"}],\"pie\":[{\"automargin\":true,\"type\":\"pie\"}]},\"layout\":{\"autotypenumbers\":\"strict\",\"colorway\":[\"#1F77B4\",\"#FF7F0E\",\"#2CA02C\",\"#D62728\",\"#9467BD\",\"#8C564B\",\"#E377C2\",\"#7F7F7F\",\"#BCBD22\",\"#17BECF\"],\"font\":{\"color\":\"rgb(36,36,36)\"},\"hovermode\":\"closest\",\"hoverlabel\":{\"align\":\"left\"},\"paper_bgcolor\":\"white\",\"plot_bgcolor\":\"white\",\"polar\":{\"bgcolor\":\"white\",\"angularaxis\":{\"gridcolor\":\"rgb(232,232,232)\",\"linecolor\":\"rgb(36,36,36)\",\"showgrid\":false,\"showline\":true,\"ticks\":\"outside\"},\"radialaxis\":{\"gridcolor\":\"rgb(232,232,232)\",\"linecolor\":\"rgb(36,36,36)\",\"showgrid\":false,\"showline\":true,\"ticks\":\"outside\"}},\"ternary\":{\"bgcolor\":\"white\",\"aaxis\":{\"gridcolor\":\"rgb(232,232,232)\",\"linecolor\":\"rgb(36,36,36)\",\"showgrid\":false,\"showline\":true,\"ticks\":\"outside\"},\"baxis\":{\"gridcolor\":\"rgb(232,232,232)\",\"linecolor\":\"rgb(36,36,36)\",\"showgrid\":false,\"showline\":true,\"ticks\":\"outside\"},\"caxis\":{\"gridcolor\":\"rgb(232,232,232)\",\"linecolor\":\"rgb(36,36,36)\",\"showgrid\":false,\"showline\":true,\"ticks\":\"outside\"}},\"coloraxis\":{\"colorbar\":{\"outlinewidth\":1,\"tickcolor\":\"rgb(36,36,36)\",\"ticks\":\"outside\"}},\"colorscale\":{\"sequential\":[[0.0,\"#440154\"],[0.1111111111111111,\"#482878\"],[0.2222222222222222,\"#3e4989\"],[0.3333333333333333,\"#31688e\"],[0.4444444444444444,\"#26828e\"],[0.5555555555555556,\"#1f9e89\"],[0.6666666666666666,\"#35b779\"],[0.7777777777777778,\"#6ece58\"],[0.8888888888888888,\"#b5de2b\"],[1.0,\"#fde725\"]],\"sequentialminus\":[[0.0,\"#440154\"],[0.1111111111111111,\"#482878\"],[0.2222222222222222,\"#3e4989\"],[0.3333333333333333,\"#31688e\"],[0.4444444444444444,\"#26828e\"],[0.5555555555555556,\"#1f9e89\"],[0.6666666666666666,\"#35b779\"],[0.7777777777777778,\"#6ece58\"],[0.8888888888888888,\"#b5de2b\"],[1.0,\"#fde725\"]],\"diverging\":[[0.0,\"rgb(103,0,31)\"],[0.1,\"rgb(178,24,43)\"],[0.2,\"rgb(214,96,77)\"],[0.3,\"rgb(244,165,130)\"],[0.4,\"rgb(253,219,199)\"],[0.5,\"rgb(247,247,247)\"],[0.6,\"rgb(209,229,240)\"],[0.7,\"rgb(146,197,222)\"],[0.8,\"rgb(67,147,195)\"],[0.9,\"rgb(33,102,172)\"],[1.0,\"rgb(5,48,97)\"]]},\"xaxis\":{\"gridcolor\":\"rgb(232,232,232)\",\"linecolor\":\"rgb(36,36,36)\",\"showgrid\":false,\"showline\":true,\"ticks\":\"outside\",\"title\":{\"standoff\":15},\"zerolinecolor\":\"rgb(36,36,36)\",\"automargin\":true,\"zeroline\":false},\"yaxis\":{\"gridcolor\":\"rgb(232,232,232)\",\"linecolor\":\"rgb(36,36,36)\",\"showgrid\":false,\"showline\":true,\"ticks\":\"outside\",\"title\":{\"standoff\":15},\"zerolinecolor\":\"rgb(36,36,36)\",\"automargin\":true,\"zeroline\":false},\"scene\":{\"xaxis\":{\"backgroundcolor\":\"white\",\"gridcolor\":\"rgb(232,232,232)\",\"linecolor\":\"rgb(36,36,36)\",\"showbackground\":true,\"showgrid\":false,\"showline\":true,\"ticks\":\"outside\",\"zerolinecolor\":\"rgb(36,36,36)\",\"gridwidth\":2,\"zeroline\":false},\"yaxis\":{\"backgroundcolor\":\"white\",\"gridcolor\":\"rgb(232,232,232)\",\"linecolor\":\"rgb(36,36,36)\",\"showbackground\":true,\"showgrid\":false,\"showline\":true,\"ticks\":\"outside\",\"zerolinecolor\":\"rgb(36,36,36)\",\"gridwidth\":2,\"zeroline\":false},\"zaxis\":{\"backgroundcolor\":\"white\",\"gridcolor\":\"rgb(232,232,232)\",\"linecolor\":\"rgb(36,36,36)\",\"showbackground\":true,\"showgrid\":false,\"showline\":true,\"ticks\":\"outside\",\"zerolinecolor\":\"rgb(36,36,36)\",\"gridwidth\":2,\"zeroline\":false}},\"shapedefaults\":{\"fillcolor\":\"black\",\"line\":{\"width\":0},\"opacity\":0.3},\"annotationdefaults\":{\"arrowhead\":0,\"arrowwidth\":1},\"geo\":{\"bgcolor\":\"white\",\"landcolor\":\"white\",\"subunitcolor\":\"white\",\"showland\":true,\"showlakes\":true,\"lakecolor\":\"white\"},\"title\":{\"x\":0.05},\"mapbox\":{\"style\":\"light\"}}},\"xaxis\":{\"anchor\":\"y\",\"domain\":[0.0,1.0],\"title\":{\"text\":\"week_date\"}},\"yaxis\":{\"anchor\":\"x\",\"domain\":[0.0,1.0],\"title\":{\"text\":\"value\"}},\"legend\":{\"title\":{\"text\":\"variable\"},\"tracegroupgap\":0},\"title\":{\"text\":\"Active users\"}},                        {\"responsive\": true}                    ).then(function(){\n",
       "                            \n",
       "var gd = document.getElementById('7c1f4115-c0b3-413e-a3f3-14d33f76e684');\n",
       "var x = new MutationObserver(function (mutations, observer) {{\n",
       "        var display = window.getComputedStyle(gd).display;\n",
       "        if (!display || display === 'none') {{\n",
       "            console.log([gd, 'removed!']);\n",
       "            Plotly.purge(gd);\n",
       "            observer.disconnect();\n",
       "        }}\n",
       "}});\n",
       "\n",
       "// Listen for the removal of the full notebook cells\n",
       "var notebookContainer = gd.closest('#notebook-container');\n",
       "if (notebookContainer) {{\n",
       "    x.observe(notebookContainer, {childList: true});\n",
       "}}\n",
       "\n",
       "// Listen for the clearing of the current output cell\n",
       "var outputEl = gd.closest('.output');\n",
       "if (outputEl) {{\n",
       "    x.observe(outputEl, {childList: true});\n",
       "}}\n",
       "\n",
       "                        })                };                });            </script>        </div>"
      ]
     },
     "metadata": {},
     "output_type": "display_data"
    }
   ],
   "source": [
    "px.line(df.groupby('week_date').user_id.sum(), \n",
    "       title = 'Active users')"
   ]
  },
  {
   "cell_type": "code",
   "execution_count": 64,
   "id": "c625501d",
   "metadata": {},
   "outputs": [
    {
     "data": {
      "application/vnd.plotly.v1+json": {
       "config": {
        "plotlyServerURL": "https://plot.ly"
       },
       "data": [
        {
         "hovertemplate": "cohort_week=2022-07-04<br>week_num=%{x}<br>value=%{y}<extra></extra>",
         "legendgroup": "2022-07-04",
         "line": {
          "color": "#1F77B4",
          "dash": "solid"
         },
         "marker": {
          "symbol": "circle"
         },
         "mode": "lines",
         "name": "2022-07-04",
         "showlegend": true,
         "type": "scattergl",
         "x": [
          0,
          7,
          14,
          21,
          28,
          35,
          42,
          49,
          56,
          63,
          70,
          77,
          84,
          91,
          98,
          105,
          112,
          119,
          126,
          133,
          140,
          147,
          154,
          161,
          168,
          175,
          182,
          189,
          196,
          203,
          210,
          217,
          224,
          231,
          238,
          245,
          252,
          259,
          266,
          273,
          280,
          287,
          294,
          301,
          308,
          315,
          322,
          329,
          336,
          343,
          350,
          357
         ],
         "xaxis": "x",
         "y": [
          100,
          93.16208393632417,
          87.84370477568741,
          84.7684515195369,
          80.60781476121564,
          78.2561505065123,
          77.53256150506512,
          74.34876989869754,
          71.85238784370478,
          69.75397973950795,
          68.52387843704776,
          66.71490593342982,
          67.00434153400869,
          65.77424023154848,
          64.4356005788712,
          64.4356005788712,
          62.91606367583213,
          60.41968162083936,
          60.92619392185239,
          60.52821997105644,
          59.44283646888567,
          57.99565846599132,
          57.814761215629524,
          56.65701881331404,
          56.62083936324168,
          54.23299565846599,
          54.92040520984081,
          54.848046309696095,
          54.23299565846599,
          53.32850940665702,
          52.6410998552822,
          53.545586107091175,
          51.33863965267728,
          51.62807525325615,
          51.66425470332851,
          51.447178002894354,
          51.230101302460206,
          50.68740955137482,
          48.33574529667149,
          49.60202604920405,
          48.26338639652677,
          47.9739507959479,
          48.01013024602026,
          46.7438494934877,
          47.93777134587554,
          46.9247467438495,
          45.62228654124457,
          46.9247467438495,
          46.852387843704776,
          46.34587554269175,
          45.803183791606365,
          46.164978292329955
         ],
         "yaxis": "y"
        },
        {
         "hovertemplate": "cohort_week=2022-07-11<br>week_num=%{x}<br>value=%{y}<extra></extra>",
         "legendgroup": "2022-07-11",
         "line": {
          "color": "#FF7F0E",
          "dash": "solid"
         },
         "marker": {
          "symbol": "circle"
         },
         "mode": "lines",
         "name": "2022-07-11",
         "showlegend": true,
         "type": "scattergl",
         "x": [
          0,
          7,
          14,
          21,
          28,
          35,
          42,
          49,
          56,
          63,
          70,
          77,
          84,
          91,
          98,
          105,
          112,
          119,
          126,
          133,
          140,
          147,
          154,
          161,
          168,
          175,
          182,
          189,
          196,
          203,
          210,
          217,
          224,
          231,
          238,
          245,
          252,
          259,
          266,
          273,
          280,
          287,
          294,
          301,
          308,
          315,
          322,
          329,
          336,
          343,
          350,
          357
         ],
         "xaxis": "x",
         "y": [
          100,
          92.13847818247386,
          87.81103498016589,
          84.38514244500541,
          81.35593220338983,
          77.35304724125496,
          75.47782185358817,
          73.92715470609448,
          72.0519293184277,
          70.4652001442481,
          70.2127659574468,
          66.64262531554273,
          67.32780382257482,
          64.87558600793365,
          64.55102776776054,
          63.86584926072845,
          62.31518211323476,
          61.882437793003966,
          61.41363144608727,
          59.79084024522178,
          59.249909844933285,
          56.401009736747206,
          57.91561485755499,
          56.25676163000361,
          56.6534439235485,
          54.20122610890732,
          54.20122610890732,
          55.030652722683016,
          53.22755138838803,
          54.48972232239452,
          52.72268301478543,
          51.56869816083664,
          50.99170573386224,
          51.53263613415074,
          51.49657410746484,
          50.99170573386224,
          51.67688424089434,
          49.98196898665705,
          50.30652722683015,
          48.10674359899026,
          48.46736386584926,
          48.070681572304366,
          47.74612333213127,
          47.34944103858637,
          46.26758023800937,
          45.79877389109268,
          46.59213847818248,
          47.529751172015864,
          46.01514605120808,
          44.752975117201586,
          45.11359538406058,
          null
         ],
         "yaxis": "y"
        },
        {
         "hovertemplate": "cohort_week=2022-07-18<br>week_num=%{x}<br>value=%{y}<extra></extra>",
         "legendgroup": "2022-07-18",
         "line": {
          "color": "#2CA02C",
          "dash": "solid"
         },
         "marker": {
          "symbol": "circle"
         },
         "mode": "lines",
         "name": "2022-07-18",
         "showlegend": true,
         "type": "scattergl",
         "x": [
          0,
          7,
          14,
          21,
          28,
          35,
          42,
          49,
          56,
          63,
          70,
          77,
          84,
          91,
          98,
          105,
          112,
          119,
          126,
          133,
          140,
          147,
          154,
          161,
          168,
          175,
          182,
          189,
          196,
          203,
          210,
          217,
          224,
          231,
          238,
          245,
          252,
          259,
          266,
          273,
          280,
          287,
          294,
          301,
          308,
          315,
          322,
          329,
          336,
          343,
          350,
          357
         ],
         "xaxis": "x",
         "y": [
          100,
          93.29224075416968,
          87.99854967367658,
          84.59028281363307,
          81.47208121827411,
          77.88252356780275,
          76.90355329949239,
          73.821609862219,
          72.26250906453951,
          71.1022480058013,
          68.85424220449602,
          68.34662799129804,
          67.98404641044235,
          64.53952139231328,
          65.04713560551124,
          63.41551849166062,
          62.472806381435824,
          60.84118926758521,
          61.493836113125454,
          57.577955039883975,
          58.81073241479333,
          58.484408992023205,
          57.432922407541696,
          56.92530819434373,
          56.889050036258155,
          55.43872371283539,
          55.547498187092096,
          53.662073966642495,
          53.26323422770123,
          53.87962291515591,
          53.87962291515591,
          52.42929659173314,
          52.03045685279188,
          52.53807106598985,
          52.57432922407542,
          50.90645395213923,
          49.60116026105874,
          48.51341551849166,
          50.36258158085569,
          49.60116026105874,
          50.108774474256705,
          47.244379985496735,
          47.49818709209572,
          47.49818709209572,
          48.912255257432925,
          47.57070340826686,
          46.99057287889775,
          47.244379985496735,
          46.51921682378535,
          45.54024655547498,
          null,
          null
         ],
         "yaxis": "y"
        },
        {
         "hovertemplate": "cohort_week=2022-07-25<br>week_num=%{x}<br>value=%{y}<extra></extra>",
         "legendgroup": "2022-07-25",
         "line": {
          "color": "#D62728",
          "dash": "solid"
         },
         "marker": {
          "symbol": "circle"
         },
         "mode": "lines",
         "name": "2022-07-25",
         "showlegend": true,
         "type": "scattergl",
         "x": [
          0,
          7,
          14,
          21,
          28,
          35,
          42,
          49,
          56,
          63,
          70,
          77,
          84,
          91,
          98,
          105,
          112,
          119,
          126,
          133,
          140,
          147,
          154,
          161,
          168,
          175,
          182,
          189,
          196,
          203,
          210,
          217,
          224,
          231,
          238,
          245,
          252,
          259,
          266,
          273,
          280,
          287,
          294,
          301,
          308,
          315,
          322,
          329,
          336,
          343,
          350,
          357
         ],
         "xaxis": "x",
         "y": [
          100,
          93.65482233502539,
          87.56345177664974,
          84.37273386511966,
          80.4205946337926,
          81.10949963741842,
          75.56200145032632,
          73.02393038433648,
          71.28353879622915,
          70.5221174764322,
          68.31036983321248,
          66.67875271936185,
          67.47643219724438,
          65.37345902828136,
          64.03190717911531,
          64.57577955039883,
          62.72661348803481,
          61.24002900652647,
          60.91370558375635,
          60.2610587382161,
          60.55112400290065,
          59.20957215373459,
          58.08556925308194,
          56.598984771573605,
          56.09137055837564,
          55.692530819434374,
          54.67730239303843,
          55.22117476432197,
          53.662073966642495,
          53.19071791153009,
          52.755620014503265,
          53.7708484408992,
          52.828136330674404,
          51.776649746192895,
          50.797679477882525,
          50.68890500362581,
          50.65264684554025,
          50.725163161711386,
          51.37781000725163,
          49.56490210297317,
          47.49818709209572,
          51.160261058738215,
          49.057287889775196,
          49.02102973168963,
          47.46192893401015,
          48.223350253807105,
          47.28063814358231,
          48.87599709934735,
          47.28063814358231,
          null,
          null,
          null
         ],
         "yaxis": "y"
        },
        {
         "hovertemplate": "cohort_week=2022-08-01<br>week_num=%{x}<br>value=%{y}<extra></extra>",
         "legendgroup": "2022-08-01",
         "line": {
          "color": "#9467BD",
          "dash": "solid"
         },
         "marker": {
          "symbol": "circle"
         },
         "mode": "lines",
         "name": "2022-08-01",
         "showlegend": true,
         "type": "scattergl",
         "x": [
          0,
          7,
          14,
          21,
          28,
          35,
          42,
          49,
          56,
          63,
          70,
          77,
          84,
          91,
          98,
          105,
          112,
          119,
          126,
          133,
          140,
          147,
          154,
          161,
          168,
          175,
          182,
          189,
          196,
          203,
          210,
          217,
          224,
          231,
          238,
          245,
          252,
          259,
          266,
          273,
          280,
          287,
          294,
          301,
          308,
          315,
          322,
          329,
          336,
          343,
          350,
          357
         ],
         "xaxis": "x",
         "y": [
          100,
          92.38741958541816,
          87.240886347391,
          83.80986418870621,
          81.55825589706933,
          79.12794853466762,
          76.12580414581844,
          75.16082916368835,
          72.48034310221587,
          70.90779127948535,
          69.51393852751966,
          69.83559685489635,
          66.79771265189422,
          66.08291636883489,
          65.29664045746962,
          64.33166547533953,
          63.795568263045034,
          62.580414581844174,
          60.650464617583985,
          59.61401000714796,
          58.89921372408863,
          57.04074338813438,
          57.75553967119371,
          56.93352394567548,
          57.04074338813438,
          56.43316654753395,
          54.53895639742673,
          55.28949249463903,
          53.502501786990706,
          53.538241601143675,
          53.32380271622588,
          52.50178699070765,
          52.39456754824875,
          52.28734810578985,
          51.28663330950679,
          50.78627591136526,
          50.428877769835594,
          48.85632594710508,
          48.391708363116514,
          47.92709077912795,
          47.676912080057186,
          48.391708363116514,
          48.391708363116514,
          45.854181558255895,
          48.92780557541101,
          47.60543245175125,
          47.42673338098642,
          46.10436025732666,
          null,
          null,
          null,
          null
         ],
         "yaxis": "y"
        },
        {
         "hovertemplate": "cohort_week=2022-08-08<br>week_num=%{x}<br>value=%{y}<extra></extra>",
         "legendgroup": "2022-08-08",
         "line": {
          "color": "#8C564B",
          "dash": "solid"
         },
         "marker": {
          "symbol": "circle"
         },
         "mode": "lines",
         "name": "2022-08-08",
         "showlegend": true,
         "type": "scattergl",
         "x": [
          0,
          7,
          14,
          21,
          28,
          35,
          42,
          49,
          56,
          63,
          70,
          77,
          84,
          91,
          98,
          105,
          112,
          119,
          126,
          133,
          140,
          147,
          154,
          161,
          168,
          175,
          182,
          189,
          196,
          203,
          210,
          217,
          224,
          231,
          238,
          245,
          252,
          259,
          266,
          273,
          280,
          287,
          294,
          301,
          308,
          315,
          322,
          329,
          336,
          343,
          350,
          357
         ],
         "xaxis": "x",
         "y": [
          100,
          93.45692475463468,
          88.113413304253,
          84.87822609960014,
          81.46128680479825,
          78.08069792802617,
          74.91821155943293,
          72.7735368956743,
          72.11922937113776,
          69.13849509269356,
          68.44783715012723,
          69.21119592875318,
          67.357324609233,
          65.17629952744457,
          64.70374409305707,
          61.50490730643402,
          63.976735732460924,
          62.413667757179205,
          60.8869501999273,
          59.61468556888404,
          60.12359142130134,
          60.268993093420576,
          56.27044711014177,
          58.778625954198475,
          56.01599418393312,
          55.725190839694655,
          55.32533624136678,
          57.651762995274446,
          54.961832061068705,
          54.23482370047255,
          54.05307161032352,
          53.398764085786986,
          52.27190112686296,
          51.399491094147585,
          52.92620865139949,
          51.72664485641585,
          50.708833151581246,
          48.85496183206107,
          49.32751726644857,
          49.836423118865866,
          50.272628135223556,
          50.018175209014906,
          46.63758633224282,
          51.217739003998545,
          46.49218466012359,
          49.036713922210104,
          46.78298800436205,
          null,
          null,
          null,
          null,
          null
         ],
         "yaxis": "y"
        },
        {
         "hovertemplate": "cohort_week=2022-08-15<br>week_num=%{x}<br>value=%{y}<extra></extra>",
         "legendgroup": "2022-08-15",
         "line": {
          "color": "#E377C2",
          "dash": "solid"
         },
         "marker": {
          "symbol": "circle"
         },
         "mode": "lines",
         "name": "2022-08-15",
         "showlegend": true,
         "type": "scattergl",
         "x": [
          0,
          7,
          14,
          21,
          28,
          35,
          42,
          49,
          56,
          63,
          70,
          77,
          84,
          91,
          98,
          105,
          112,
          119,
          126,
          133,
          140,
          147,
          154,
          161,
          168,
          175,
          182,
          189,
          196,
          203,
          210,
          217,
          224,
          231,
          238,
          245,
          252,
          259,
          266,
          273,
          280,
          287,
          294,
          301,
          308,
          315,
          322,
          329,
          336,
          343,
          350,
          357
         ],
         "xaxis": "x",
         "y": [
          100,
          92.5233644859813,
          88.03019410496046,
          84.43565780014379,
          81.88353702372395,
          78.39683680805176,
          76.52767792954708,
          73.93961179007908,
          73.86772106398274,
          71.06398274622573,
          69.30265995686557,
          68.76347951114306,
          67.0021567217829,
          65.74406901509705,
          65.74406901509705,
          64.05463695183322,
          62.76060388209921,
          60.31631919482387,
          60.2803738317757,
          61.35873472322071,
          58.73472322070453,
          58.30337886412653,
          56.82961897915169,
          56.03882099209202,
          56.074766355140184,
          57.26096333572969,
          56.93745506829619,
          55.427749820273185,
          53.09130122214234,
          53.48670021567218,
          52.731847591660674,
          52.731847591660674,
          51.941049604601005,
          51.6175413371675,
          51.04241552839684,
          50.9705248023005,
          52.12077641984184,
          50.35945363048167,
          51.90510424155284,
          49.20920201294033,
          48.99352983465133,
          50.215672178289,
          47.73544212796549,
          48.23867721063983,
          47.16031631919483,
          45.938173975557156,
          null,
          null,
          null,
          null,
          null,
          null
         ],
         "yaxis": "y"
        },
        {
         "hovertemplate": "cohort_week=2022-08-22<br>week_num=%{x}<br>value=%{y}<extra></extra>",
         "legendgroup": "2022-08-22",
         "line": {
          "color": "#7F7F7F",
          "dash": "solid"
         },
         "marker": {
          "symbol": "circle"
         },
         "mode": "lines",
         "name": "2022-08-22",
         "showlegend": true,
         "type": "scattergl",
         "x": [
          0,
          7,
          14,
          21,
          28,
          35,
          42,
          49,
          56,
          63,
          70,
          77,
          84,
          91,
          98,
          105,
          112,
          119,
          126,
          133,
          140,
          147,
          154,
          161,
          168,
          175,
          182,
          189,
          196,
          203,
          210,
          217,
          224,
          231,
          238,
          245,
          252,
          259,
          266,
          273,
          280,
          287,
          294,
          301,
          308,
          315,
          322,
          329,
          336,
          343,
          350,
          357
         ],
         "xaxis": "x",
         "y": [
          100,
          93.12092686459087,
          88.01593048515568,
          84.64880521361333,
          80.73859522085445,
          79.10934105720493,
          75.81462708182477,
          73.71469949312093,
          72.48370745836351,
          72.88196958725561,
          68.46488052136134,
          67.23388848660392,
          64.98913830557566,
          65.74945691527878,
          64.26502534395365,
          64.55467052860246,
          63.287472845763936,
          61.440984793627806,
          60.897900072411296,
          59.23244026068067,
          59.41346850108617,
          58.363504706734254,
          58.00144822592324,
          56.80666183924692,
          54.055032585083275,
          55.6480811006517,
          55.6118754525706,
          54.92396813902969,
          54.706734250543086,
          52.53439536567704,
          54.091238233164376,
          52.38957277335264,
          51.73787110789283,
          51.81028240405503,
          51.33960897900072,
          50.0724112961622,
          51.19478638667632,
          50.65170166545981,
          49.746560463432296,
          49.022447501810284,
          50.0724112961622,
          48.443157132512674,
          47.79145546705286,
          48.18971759594497,
          49.38450398262129,
          null,
          null,
          null,
          null,
          null,
          null,
          null
         ],
         "yaxis": "y"
        },
        {
         "hovertemplate": "cohort_week=2022-08-29<br>week_num=%{x}<br>value=%{y}<extra></extra>",
         "legendgroup": "2022-08-29",
         "line": {
          "color": "#BCBD22",
          "dash": "solid"
         },
         "marker": {
          "symbol": "circle"
         },
         "mode": "lines",
         "name": "2022-08-29",
         "showlegend": true,
         "type": "scattergl",
         "x": [
          0,
          7,
          14,
          21,
          28,
          35,
          42,
          49,
          56,
          63,
          70,
          77,
          84,
          91,
          98,
          105,
          112,
          119,
          126,
          133,
          140,
          147,
          154,
          161,
          168,
          175,
          182,
          189,
          196,
          203,
          210,
          217,
          224,
          231,
          238,
          245,
          252,
          259,
          266,
          273,
          280,
          287,
          294,
          301,
          308,
          315,
          322,
          329,
          336,
          343,
          350,
          357
         ],
         "xaxis": "x",
         "y": [
          100,
          92.89752650176679,
          87.34982332155477,
          83.46289752650176,
          81.2720848056537,
          78.09187279151944,
          75.0530035335689,
          73.53356890459364,
          73.35689045936395,
          71.30742049469964,
          69.82332155477032,
          68.33922261484099,
          66.113074204947,
          66.85512367491167,
          65.19434628975264,
          63.35689045936396,
          62.19081272084806,
          61.51943462897526,
          60.10600706713781,
          61.37809187279152,
          60.35335689045937,
          58.763250883392224,
          57.420494699646646,
          57.70318021201413,
          55.477031802120145,
          55.44169611307421,
          56.85512367491166,
          54.381625441696116,
          53.18021201413428,
          53.42756183745583,
          55.54770318021201,
          52.36749116607774,
          51.87279151943463,
          52.226148409893995,
          50.24734982332156,
          51.37809187279152,
          50.84805653710247,
          50.56537102473498,
          48.72791519434629,
          48.93992932862191,
          49.32862190812721,
          47.73851590106007,
          47.879858657243815,
          48.303886925795055,
          null,
          null,
          null,
          null,
          null,
          null,
          null,
          null
         ],
         "yaxis": "y"
        },
        {
         "hovertemplate": "cohort_week=2022-09-05<br>week_num=%{x}<br>value=%{y}<extra></extra>",
         "legendgroup": "2022-09-05",
         "line": {
          "color": "#17BECF",
          "dash": "solid"
         },
         "marker": {
          "symbol": "circle"
         },
         "mode": "lines",
         "name": "2022-09-05",
         "showlegend": true,
         "type": "scattergl",
         "x": [
          0,
          7,
          14,
          21,
          28,
          35,
          42,
          49,
          56,
          63,
          70,
          77,
          84,
          91,
          98,
          105,
          112,
          119,
          126,
          133,
          140,
          147,
          154,
          161,
          168,
          175,
          182,
          189,
          196,
          203,
          210,
          217,
          224,
          231,
          238,
          245,
          252,
          259,
          266,
          273,
          280,
          287,
          294,
          301,
          308,
          315,
          322,
          329,
          336,
          343,
          350,
          357
         ],
         "xaxis": "x",
         "y": [
          100,
          93.00977906555596,
          87.75805867439334,
          84.06374501992032,
          81.31111915972474,
          78.66714958348425,
          76.60268018833756,
          74.13980441868888,
          71.3871785584933,
          71.56827236508511,
          68.63455269829772,
          66.71495834842449,
          65.88192683810213,
          65.26620789568997,
          63.9623324882289,
          62.62223831944947,
          62.11517566099239,
          62.54980079681275,
          60.66642520825788,
          58.92792466497646,
          59.79717493661717,
          59.7609561752988,
          57.58783049619703,
          57.73270554147048,
          57.08076783773995,
          54.47301702281782,
          55.63201738500543,
          56.57370517928287,
          52.48098515030786,
          52.553422672944585,
          52.010141253169145,
          52.879391524809854,
          52.517203911626225,
          52.62586019558131,
          51.79282868525896,
          52.26367258239768,
          50.41651575516117,
          49.04020282506338,
          49.329952915610285,
          50.05432814197754,
          49.18507787033683,
          48.9315465411083,
          49.329952915610285,
          null,
          null,
          null,
          null,
          null,
          null,
          null,
          null,
          null
         ],
         "yaxis": "y"
        },
        {
         "hovertemplate": "cohort_week=2022-09-12<br>week_num=%{x}<br>value=%{y}<extra></extra>",
         "legendgroup": "2022-09-12",
         "line": {
          "color": "#1F77B4",
          "dash": "solid"
         },
         "marker": {
          "symbol": "circle"
         },
         "mode": "lines",
         "name": "2022-09-12",
         "showlegend": true,
         "type": "scattergl",
         "x": [
          0,
          7,
          14,
          21,
          28,
          35,
          42,
          49,
          56,
          63,
          70,
          77,
          84,
          91,
          98,
          105,
          112,
          119,
          126,
          133,
          140,
          147,
          154,
          161,
          168,
          175,
          182,
          189,
          196,
          203,
          210,
          217,
          224,
          231,
          238,
          245,
          252,
          259,
          266,
          273,
          280,
          287,
          294,
          301,
          308,
          315,
          322,
          329,
          336,
          343,
          350,
          357
         ],
         "xaxis": "x",
         "y": [
          100,
          92.995966263293,
          88.63219655298863,
          86.13861386138613,
          80.30803080308031,
          79.24459112577925,
          75.9075907590759,
          73.7073707370737,
          70.993766043271,
          70.44371103777044,
          69.74697469746975,
          68.20682068206821,
          66.15328199486615,
          66.7033370003667,
          64.64979831316465,
          61.972863953061974,
          62.33956729006234,
          62.04620462046205,
          62.00953428676201,
          60.68940227356069,
          58.37917125045838,
          59.772643931059775,
          57.53575357535754,
          59.22258892555922,
          56.1056105610561,
          56.61899523285662,
          56.692335900256694,
          54.85881921525486,
          52.91529152915292,
          53.61202786945361,
          53.31866519985332,
          54.198753208654196,
          51.59515951595159,
          51.77851118445178,
          52.25522552255226,
          50.97176384305097,
          51.81518151815182,
          49.834983498349835,
          49.90832416574991,
          49.13824715804914,
          49.394939493949394,
          48.03813714704804,
          null,
          null,
          null,
          null,
          null,
          null,
          null,
          null,
          null,
          null
         ],
         "yaxis": "y"
        },
        {
         "hovertemplate": "cohort_week=2022-09-19<br>week_num=%{x}<br>value=%{y}<extra></extra>",
         "legendgroup": "2022-09-19",
         "line": {
          "color": "#FF7F0E",
          "dash": "solid"
         },
         "marker": {
          "symbol": "circle"
         },
         "mode": "lines",
         "name": "2022-09-19",
         "showlegend": true,
         "type": "scattergl",
         "x": [
          0,
          7,
          14,
          21,
          28,
          35,
          42,
          49,
          56,
          63,
          70,
          77,
          84,
          91,
          98,
          105,
          112,
          119,
          126,
          133,
          140,
          147,
          154,
          161,
          168,
          175,
          182,
          189,
          196,
          203,
          210,
          217,
          224,
          231,
          238,
          245,
          252,
          259,
          266,
          273,
          280,
          287,
          294,
          301,
          308,
          315,
          322,
          329,
          336,
          343,
          350,
          357
         ],
         "xaxis": "x",
         "y": [
          100,
          94.40057430007178,
          86.71931083991386,
          83.05814788226849,
          80.18664752333095,
          79.10983488872937,
          75.34099066762383,
          74.58722182340273,
          71.71572146446519,
          70.24407753050968,
          70.38765254845657,
          68.30581478822685,
          66.97774587221824,
          66.1521895190237,
          64.50107681263461,
          63.388370423546306,
          63.28068916008615,
          60.588657573582196,
          61.629576453697055,
          60.98348887293611,
          60.229720028715,
          57.35821966977746,
          55.778894472361806,
          57.250538406317304,
          56.4967695620962,
          56.066044508255565,
          56.712132089016514,
          53.48169418521177,
          53.912419239052404,
          55.02512562814071,
          53.84063173007897,
          52.36898779612348,
          52.835606604450824,
          52.15362526920316,
          50.53840631730079,
          50.897343862167986,
          50.10768126346016,
          53.015075376884425,
          52.15362526920316,
          49.0667623833453,
          50.57430007178751,
          null,
          null,
          null,
          null,
          null,
          null,
          null,
          null,
          null,
          null,
          null
         ],
         "yaxis": "y"
        },
        {
         "hovertemplate": "cohort_week=2022-09-26<br>week_num=%{x}<br>value=%{y}<extra></extra>",
         "legendgroup": "2022-09-26",
         "line": {
          "color": "#2CA02C",
          "dash": "solid"
         },
         "marker": {
          "symbol": "circle"
         },
         "mode": "lines",
         "name": "2022-09-26",
         "showlegend": true,
         "type": "scattergl",
         "x": [
          0,
          7,
          14,
          21,
          28,
          35,
          42,
          49,
          56,
          63,
          70,
          77,
          84,
          91,
          98,
          105,
          112,
          119,
          126,
          133,
          140,
          147,
          154,
          161,
          168,
          175,
          182,
          189,
          196,
          203,
          210,
          217,
          224,
          231,
          238,
          245,
          252,
          259,
          266,
          273,
          280,
          287,
          294,
          301,
          308,
          315,
          322,
          329,
          336,
          343,
          350,
          357
         ],
         "xaxis": "x",
         "y": [
          100,
          93.28277356446371,
          89.05742145178765,
          83.8569880823402,
          82.05128205128206,
          78.36764174792344,
          76.85084868183459,
          74.86457204767063,
          72.98663777537017,
          70.85590465872156,
          69.01408450704226,
          68.50848681834597,
          68.11123149151318,
          66.26941133983388,
          64.06644998194294,
          62.8385698808234,
          62.33297219212712,
          62.94691224268689,
          62.76634163958108,
          61.14120621162875,
          59.479956663055255,
          59.37161430119177,
          57.63813651137595,
          56.59082701336222,
          58.57710364752618,
          57.999277717587574,
          55.03791982665222,
          54.85734922354641,
          54.2795232936078,
          54.49620801733478,
          52.50993138317082,
          54.02672444925966,
          53.7016973636692,
          51.570964247020584,
          50.45142650776454,
          50.92091007583965,
          51.354279523293606,
          50.30697002527988,
          50.09028530155291,
          50.84868183459733,
          null,
          null,
          null,
          null,
          null,
          null,
          null,
          null,
          null,
          null,
          null,
          null
         ],
         "yaxis": "y"
        },
        {
         "hovertemplate": "cohort_week=2022-10-03<br>week_num=%{x}<br>value=%{y}<extra></extra>",
         "legendgroup": "2022-10-03",
         "line": {
          "color": "#D62728",
          "dash": "solid"
         },
         "marker": {
          "symbol": "circle"
         },
         "mode": "lines",
         "name": "2022-10-03",
         "showlegend": true,
         "type": "scattergl",
         "x": [
          0,
          7,
          14,
          21,
          28,
          35,
          42,
          49,
          56,
          63,
          70,
          77,
          84,
          91,
          98,
          105,
          112,
          119,
          126,
          133,
          140,
          147,
          154,
          161,
          168,
          175,
          182,
          189,
          196,
          203,
          210,
          217,
          224,
          231,
          238,
          245,
          252,
          259,
          266,
          273,
          280,
          287,
          294,
          301,
          308,
          315,
          322,
          329,
          336,
          343,
          350,
          357
         ],
         "xaxis": "x",
         "y": [
          100,
          93.17604355716878,
          88.42105263157895,
          84.13793103448276,
          82.28675136116152,
          78.91107078039927,
          77.13248638838475,
          75.35390199637024,
          72.92196007259528,
          71.21597096188748,
          69.58257713248639,
          67.40471869328493,
          66.9328493647913,
          67.04174228675136,
          65.0453720508167,
          63.774954627949185,
          63.41197822141561,
          63.5934664246824,
          60.254083484573506,
          61.560798548094375,
          59.600725952813065,
          58.83847549909256,
          61.08892921960073,
          59.491833030852995,
          56.55172413793103,
          56.55172413793103,
          55.8983666061706,
          54.990925589836664,
          54.88203266787659,
          52.813067150635206,
          54.37386569872958,
          54.37386569872958,
          52.45009074410164,
          52.3049001814882,
          52.704174228675136,
          50.70780399274047,
          52.23230490018149,
          52.63157894736842,
          50.09074410163339,
          null,
          null,
          null,
          null,
          null,
          null,
          null,
          null,
          null,
          null,
          null,
          null,
          null
         ],
         "yaxis": "y"
        },
        {
         "hovertemplate": "cohort_week=2022-10-10<br>week_num=%{x}<br>value=%{y}<extra></extra>",
         "legendgroup": "2022-10-10",
         "line": {
          "color": "#9467BD",
          "dash": "solid"
         },
         "marker": {
          "symbol": "circle"
         },
         "mode": "lines",
         "name": "2022-10-10",
         "showlegend": true,
         "type": "scattergl",
         "x": [
          0,
          7,
          14,
          21,
          28,
          35,
          42,
          49,
          56,
          63,
          70,
          77,
          84,
          91,
          98,
          105,
          112,
          119,
          126,
          133,
          140,
          147,
          154,
          161,
          168,
          175,
          182,
          189,
          196,
          203,
          210,
          217,
          224,
          231,
          238,
          245,
          252,
          259,
          266,
          273,
          280,
          287,
          294,
          301,
          308,
          315,
          322,
          329,
          336,
          343,
          350,
          357
         ],
         "xaxis": "x",
         "y": [
          100,
          92.9938605994944,
          89.23799205489347,
          85.55435175153485,
          82.84579270494764,
          78.04261466233297,
          77.39256049115204,
          75.55074033947274,
          72.62549656915854,
          70.78367641747923,
          68.03900325027085,
          68.79739978331527,
          67.13615023474179,
          66.30552546045504,
          63.48862405200433,
          63.271939328277355,
          62.62188515709642,
          63.01914048392921,
          61.79126038280968,
          58.721560130010836,
          60.491152040447815,
          56.374142289635245,
          58.90213073311665,
          58.54098952690502,
          55.218490429758035,
          56.30191404839292,
          55.86854460093897,
          55.362946912242684,
          52.834958468761286,
          54.604550379198265,
          55.29071867100036,
          52.54604550379198,
          52.582159624413144,
          53.37667027807873,
          52.07656193571687,
          52.293246659443845,
          51.7515348501264,
          51.24593716143012,
          null,
          null,
          null,
          null,
          null,
          null,
          null,
          null,
          null,
          null,
          null,
          null,
          null,
          null
         ],
         "yaxis": "y"
        },
        {
         "hovertemplate": "cohort_week=2022-10-17<br>week_num=%{x}<br>value=%{y}<extra></extra>",
         "legendgroup": "2022-10-17",
         "line": {
          "color": "#8C564B",
          "dash": "solid"
         },
         "marker": {
          "symbol": "circle"
         },
         "mode": "lines",
         "name": "2022-10-17",
         "showlegend": true,
         "type": "scattergl",
         "x": [
          0,
          7,
          14,
          21,
          28,
          35,
          42,
          49,
          56,
          63,
          70,
          77,
          84,
          91,
          98,
          105,
          112,
          119,
          126,
          133,
          140,
          147,
          154,
          161,
          168,
          175,
          182,
          189,
          196,
          203,
          210,
          217,
          224,
          231,
          238,
          245,
          252,
          259,
          266,
          273,
          280,
          287,
          294,
          301,
          308,
          315,
          322,
          329,
          336,
          343,
          350,
          357
         ],
         "xaxis": "x",
         "y": [
          100,
          92.6811852909675,
          88.11138878971796,
          84.25562299178864,
          80.8996786861835,
          78.90039271688683,
          78.22206354873259,
          75.33023920028562,
          73.79507318814709,
          72.15280257051053,
          70.93895037486612,
          69.68939664405569,
          66.72616922527669,
          63.62013566583363,
          65.15530167797215,
          63.62013566583363,
          62.44198500535523,
          61.977865048197074,
          62.22777579435916,
          59.692966797572296,
          60.228489825062475,
          59.15744377008211,
          57.943591574437704,
          57.97929310960371,
          58.47911460192788,
          56.62263477329525,
          54.58764726883256,
          55.26597643698679,
          54.15922884684041,
          54.766154944662624,
          55.5872902534809,
          52.69546590503391,
          51.80292752588361,
          51.7672259907176,
          51.41021063905748,
          52.55265976436987,
          50.76758300606926,
          null,
          null,
          null,
          null,
          null,
          null,
          null,
          null,
          null,
          null,
          null,
          null,
          null,
          null,
          null
         ],
         "yaxis": "y"
        },
        {
         "hovertemplate": "cohort_week=2022-10-24<br>week_num=%{x}<br>value=%{y}<extra></extra>",
         "legendgroup": "2022-10-24",
         "line": {
          "color": "#E377C2",
          "dash": "solid"
         },
         "marker": {
          "symbol": "circle"
         },
         "mode": "lines",
         "name": "2022-10-24",
         "showlegend": true,
         "type": "scattergl",
         "x": [
          0,
          7,
          14,
          21,
          28,
          35,
          42,
          49,
          56,
          63,
          70,
          77,
          84,
          91,
          98,
          105,
          112,
          119,
          126,
          133,
          140,
          147,
          154,
          161,
          168,
          175,
          182,
          189,
          196,
          203,
          210,
          217,
          224,
          231,
          238,
          245,
          252,
          259,
          266,
          273,
          280,
          287,
          294,
          301,
          308,
          315,
          322,
          329,
          336,
          343,
          350,
          357
         ],
         "xaxis": "x",
         "y": [
          100,
          93.62870743317467,
          88.31929696082021,
          84.21823507872574,
          79.78762358110582,
          79.677773709264,
          75.24716221164408,
          76.05272793848407,
          72.13474917612596,
          71.21933357744416,
          70.74331746612962,
          69.09556938850238,
          67.26473819113878,
          65.06774075430245,
          65.32405712193336,
          63.38337605272794,
          63.09044306114976,
          61.80886122299524,
          62.980593189307946,
          59.428780666422554,
          58.76968143537166,
          60.197729769315266,
          58.76968143537166,
          58.25704870010985,
          56.975466861955326,
          57.414866349322594,
          55.62065177590626,
          56.023434639326254,
          55.510801904064444,
          55.03478579274991,
          53.67997070670084,
          52.874404979860856,
          54.33906993775174,
          53.20395459538631,
          51.51958989381179,
          53.313804467228124,
          null,
          null,
          null,
          null,
          null,
          null,
          null,
          null,
          null,
          null,
          null,
          null,
          null,
          null,
          null,
          null
         ],
         "yaxis": "y"
        },
        {
         "hovertemplate": "cohort_week=2022-10-31<br>week_num=%{x}<br>value=%{y}<extra></extra>",
         "legendgroup": "2022-10-31",
         "line": {
          "color": "#7F7F7F",
          "dash": "solid"
         },
         "marker": {
          "symbol": "circle"
         },
         "mode": "lines",
         "name": "2022-10-31",
         "showlegend": true,
         "type": "scattergl",
         "x": [
          0,
          7,
          14,
          21,
          28,
          35,
          42,
          49,
          56,
          63,
          70,
          77,
          84,
          91,
          98,
          105,
          112,
          119,
          126,
          133,
          140,
          147,
          154,
          161,
          168,
          175,
          182,
          189,
          196,
          203,
          210,
          217,
          224,
          231,
          238,
          245,
          252,
          259,
          266,
          273,
          280,
          287,
          294,
          301,
          308,
          315,
          322,
          329,
          336,
          343,
          350,
          357
         ],
         "xaxis": "x",
         "y": [
          100,
          92.76363636363637,
          87.52727272727273,
          83.41818181818182,
          81.89090909090909,
          78.2909090909091,
          77.30909090909091,
          75.34545454545454,
          73.96363636363637,
          70.54545454545455,
          69.12727272727273,
          68.65454545454546,
          68.03636363636363,
          66.98181818181818,
          65.85454545454546,
          64.03636363636363,
          63.09090909090909,
          64.21818181818182,
          61.27272727272727,
          61.163636363636364,
          59.81818181818182,
          60.4,
          57.49090909090909,
          60.472727272727276,
          57.27272727272727,
          56.36363636363637,
          56.763636363636365,
          55.054545454545455,
          55.30909090909091,
          54.18181818181818,
          53.345454545454544,
          54.21818181818182,
          54.03636363636364,
          53.27272727272727,
          51.054545454545455,
          null,
          null,
          null,
          null,
          null,
          null,
          null,
          null,
          null,
          null,
          null,
          null,
          null,
          null,
          null,
          null,
          null
         ],
         "yaxis": "y"
        },
        {
         "hovertemplate": "cohort_week=2022-11-07<br>week_num=%{x}<br>value=%{y}<extra></extra>",
         "legendgroup": "2022-11-07",
         "line": {
          "color": "#BCBD22",
          "dash": "solid"
         },
         "marker": {
          "symbol": "circle"
         },
         "mode": "lines",
         "name": "2022-11-07",
         "showlegend": true,
         "type": "scattergl",
         "x": [
          0,
          7,
          14,
          21,
          28,
          35,
          42,
          49,
          56,
          63,
          70,
          77,
          84,
          91,
          98,
          105,
          112,
          119,
          126,
          133,
          140,
          147,
          154,
          161,
          168,
          175,
          182,
          189,
          196,
          203,
          210,
          217,
          224,
          231,
          238,
          245,
          252,
          259,
          266,
          273,
          280,
          287,
          294,
          301,
          308,
          315,
          322,
          329,
          336,
          343,
          350,
          357
         ],
         "xaxis": "x",
         "y": [
          100,
          93.15673289183223,
          88.0794701986755,
          83.33333333333333,
          82.04562178072112,
          78.62398822663724,
          77.48344370860927,
          74.50331125827815,
          72.95805739514348,
          71.96467991169978,
          69.97792494481236,
          68.54304635761589,
          66.18837380426784,
          66.59308314937454,
          65.8204562178072,
          64.45916114790288,
          63.39220014716703,
          62.28844738778513,
          62.178072111846944,
          60.19131714495953,
          59.19793966151582,
          59.30831493745401,
          57.28476821192053,
          57.98381162619573,
          56.95364238410596,
          54.893303899926416,
          55.003679175864605,
          55.55555555555556,
          53.311258278145694,
          54.63576158940398,
          54.7093451066961,
          52.428256070640174,
          52.86975717439294,
          54.15746872700515,
          null,
          null,
          null,
          null,
          null,
          null,
          null,
          null,
          null,
          null,
          null,
          null,
          null,
          null,
          null,
          null,
          null,
          null
         ],
         "yaxis": "y"
        },
        {
         "hovertemplate": "cohort_week=2022-11-14<br>week_num=%{x}<br>value=%{y}<extra></extra>",
         "legendgroup": "2022-11-14",
         "line": {
          "color": "#17BECF",
          "dash": "solid"
         },
         "marker": {
          "symbol": "circle"
         },
         "mode": "lines",
         "name": "2022-11-14",
         "showlegend": true,
         "type": "scattergl",
         "x": [
          0,
          7,
          14,
          21,
          28,
          35,
          42,
          49,
          56,
          63,
          70,
          77,
          84,
          91,
          98,
          105,
          112,
          119,
          126,
          133,
          140,
          147,
          154,
          161,
          168,
          175,
          182,
          189,
          196,
          203,
          210,
          217,
          224,
          231,
          238,
          245,
          252,
          259,
          266,
          273,
          280,
          287,
          294,
          301,
          308,
          315,
          322,
          329,
          336,
          343,
          350,
          357
         ],
         "xaxis": "x",
         "y": [
          100,
          92.11287988422576,
          87.87988422575977,
          84.98552821997106,
          81.04196816208393,
          78.61794500723589,
          77.2069464544139,
          74.49348769898698,
          74.05933429811867,
          71.34587554269176,
          69.79015918958032,
          67.22141823444284,
          67.43849493487699,
          65.59334298118668,
          66.75108538350217,
          64.58031837916063,
          63.27785817655572,
          63.63965267727931,
          60.89001447178003,
          61.28798842257598,
          58.39363241678726,
          59.153400868306804,
          56.76555716353111,
          56.801736613603474,
          57.99565846599132,
          57.199710564399425,
          56.00578871201158,
          55.64399421128799,
          54.160636758321274,
          54.08827785817655,
          53.32850940665702,
          53.473227206946454,
          53.219971056439945,
          null,
          null,
          null,
          null,
          null,
          null,
          null,
          null,
          null,
          null,
          null,
          null,
          null,
          null,
          null,
          null,
          null,
          null,
          null
         ],
         "yaxis": "y"
        },
        {
         "hovertemplate": "cohort_week=2022-11-21<br>week_num=%{x}<br>value=%{y}<extra></extra>",
         "legendgroup": "2022-11-21",
         "line": {
          "color": "#1F77B4",
          "dash": "solid"
         },
         "marker": {
          "symbol": "circle"
         },
         "mode": "lines",
         "name": "2022-11-21",
         "showlegend": true,
         "type": "scattergl",
         "x": [
          0,
          7,
          14,
          21,
          28,
          35,
          42,
          49,
          56,
          63,
          70,
          77,
          84,
          91,
          98,
          105,
          112,
          119,
          126,
          133,
          140,
          147,
          154,
          161,
          168,
          175,
          182,
          189,
          196,
          203,
          210,
          217,
          224,
          231,
          238,
          245,
          252,
          259,
          266,
          273,
          280,
          287,
          294,
          301,
          308,
          315,
          322,
          329,
          336,
          343,
          350,
          357
         ],
         "xaxis": "x",
         "y": [
          100,
          91.98404062386652,
          87.55894087776569,
          84.40333696046427,
          80.70366340224882,
          78.4911135291984,
          75.95212187159956,
          74.0297424737033,
          73.1955023576351,
          72.506347479144,
          71.67210736307581,
          67.89989118607181,
          67.82734856728328,
          65.97751178817555,
          66.30395357272397,
          63.80123322451941,
          63.91004715270221,
          63.80123322451941,
          63.32970620239391,
          61.262241566920565,
          59.630032644178456,
          58.54189336235038,
          59.04969169387015,
          55.930359085963005,
          57.52629669931085,
          56.69205658324265,
          56.546971345665575,
          55.82154515778019,
          55.42256075444323,
          54.660863257163584,
          54.8784911135292,
          52.629669931084514,
          null,
          null,
          null,
          null,
          null,
          null,
          null,
          null,
          null,
          null,
          null,
          null,
          null,
          null,
          null,
          null,
          null,
          null,
          null,
          null
         ],
         "yaxis": "y"
        },
        {
         "hovertemplate": "cohort_week=2022-11-28<br>week_num=%{x}<br>value=%{y}<extra></extra>",
         "legendgroup": "2022-11-28",
         "line": {
          "color": "#FF7F0E",
          "dash": "solid"
         },
         "marker": {
          "symbol": "circle"
         },
         "mode": "lines",
         "name": "2022-11-28",
         "showlegend": true,
         "type": "scattergl",
         "x": [
          0,
          7,
          14,
          21,
          28,
          35,
          42,
          49,
          56,
          63,
          70,
          77,
          84,
          91,
          98,
          105,
          112,
          119,
          126,
          133,
          140,
          147,
          154,
          161,
          168,
          175,
          182,
          189,
          196,
          203,
          210,
          217,
          224,
          231,
          238,
          245,
          252,
          259,
          266,
          273,
          280,
          287,
          294,
          301,
          308,
          315,
          322,
          329,
          336,
          343,
          350,
          357
         ],
         "xaxis": "x",
         "y": [
          100,
          92.25378089265953,
          88.15935079306529,
          83.62227960162302,
          80.92954629288086,
          79.60162301733678,
          77.42530431575065,
          76.17115455551458,
          72.63002582073035,
          69.93729251198819,
          70.37993360383622,
          70.0479527849502,
          67.17078568793804,
          64.81003319808188,
          65.84286241239396,
          64.21984507561785,
          61.23201770564367,
          63.814090741423826,
          61.195130947989675,
          60.82626337144965,
          59.12947251936555,
          58.42862412393951,
          57.469568424935446,
          57.54334194024345,
          56.6580597565474,
          56.32607893766138,
          56.47362596827739,
          56.6211729988934,
          54.297307266691256,
          54.703061600885285,
          55.0350424197713,
          null,
          null,
          null,
          null,
          null,
          null,
          null,
          null,
          null,
          null,
          null,
          null,
          null,
          null,
          null,
          null,
          null,
          null,
          null,
          null,
          null
         ],
         "yaxis": "y"
        },
        {
         "hovertemplate": "cohort_week=2022-12-05<br>week_num=%{x}<br>value=%{y}<extra></extra>",
         "legendgroup": "2022-12-05",
         "line": {
          "color": "#2CA02C",
          "dash": "solid"
         },
         "marker": {
          "symbol": "circle"
         },
         "mode": "lines",
         "name": "2022-12-05",
         "showlegend": true,
         "type": "scattergl",
         "x": [
          0,
          7,
          14,
          21,
          28,
          35,
          42,
          49,
          56,
          63,
          70,
          77,
          84,
          91,
          98,
          105,
          112,
          119,
          126,
          133,
          140,
          147,
          154,
          161,
          168,
          175,
          182,
          189,
          196,
          203,
          210,
          217,
          224,
          231,
          238,
          245,
          252,
          259,
          266,
          273,
          280,
          287,
          294,
          301,
          308,
          315,
          322,
          329,
          336,
          343,
          350,
          357
         ],
         "xaxis": "x",
         "y": [
          100,
          93.27338129496403,
          87.66187050359713,
          84.02877697841727,
          81.22302158273381,
          78.88489208633094,
          77.55395683453237,
          76.22302158273381,
          71.36690647482014,
          70.57553956834532,
          70.46762589928058,
          69.49640287769785,
          66.33093525179856,
          65.79136690647482,
          65.46762589928058,
          63.273381294964025,
          63.81294964028777,
          63.05755395683453,
          61.223021582733814,
          62.302158273381295,
          60.431654676258994,
          59.82014388489208,
          57.0863309352518,
          57.05035971223022,
          55.97122302158273,
          56.618705035971225,
          56.618705035971225,
          54.460431654676256,
          54.96402877697842,
          56.54676258992806,
          null,
          null,
          null,
          null,
          null,
          null,
          null,
          null,
          null,
          null,
          null,
          null,
          null,
          null,
          null,
          null,
          null,
          null,
          null,
          null,
          null,
          null
         ],
         "yaxis": "y"
        },
        {
         "hovertemplate": "cohort_week=2022-12-12<br>week_num=%{x}<br>value=%{y}<extra></extra>",
         "legendgroup": "2022-12-12",
         "line": {
          "color": "#D62728",
          "dash": "solid"
         },
         "marker": {
          "symbol": "circle"
         },
         "mode": "lines",
         "name": "2022-12-12",
         "showlegend": true,
         "type": "scattergl",
         "x": [
          0,
          7,
          14,
          21,
          28,
          35,
          42,
          49,
          56,
          63,
          70,
          77,
          84,
          91,
          98,
          105,
          112,
          119,
          126,
          133,
          140,
          147,
          154,
          161,
          168,
          175,
          182,
          189,
          196,
          203,
          210,
          217,
          224,
          231,
          238,
          245,
          252,
          259,
          266,
          273,
          280,
          287,
          294,
          301,
          308,
          315,
          322,
          329,
          336,
          343,
          350,
          357
         ],
         "xaxis": "x",
         "y": [
          100,
          92.47982391782833,
          88.11445341159208,
          84.7028613352898,
          82.53851797505503,
          80.92443140132062,
          78.53998532648569,
          76.30227439471753,
          73.03741746148202,
          70.72633895818048,
          73.18415260454879,
          70.2127659574468,
          69.002201027146,
          66.43433602347763,
          66.06749816581072,
          65.66397652237711,
          65.07703595011004,
          63.93983859134263,
          63.49963316214233,
          62.47248716067498,
          61.88554658840793,
          58.62068965517241,
          59.244314013206164,
          58.51063829787234,
          59.757887013939836,
          58.767424798239176,
          57.96038151137197,
          56.16287600880411,
          57.19002201027146,
          null,
          null,
          null,
          null,
          null,
          null,
          null,
          null,
          null,
          null,
          null,
          null,
          null,
          null,
          null,
          null,
          null,
          null,
          null,
          null,
          null,
          null,
          null
         ],
         "yaxis": "y"
        },
        {
         "hovertemplate": "cohort_week=2022-12-19<br>week_num=%{x}<br>value=%{y}<extra></extra>",
         "legendgroup": "2022-12-19",
         "line": {
          "color": "#9467BD",
          "dash": "solid"
         },
         "marker": {
          "symbol": "circle"
         },
         "mode": "lines",
         "name": "2022-12-19",
         "showlegend": true,
         "type": "scattergl",
         "x": [
          0,
          7,
          14,
          21,
          28,
          35,
          42,
          49,
          56,
          63,
          70,
          77,
          84,
          91,
          98,
          105,
          112,
          119,
          126,
          133,
          140,
          147,
          154,
          161,
          168,
          175,
          182,
          189,
          196,
          203,
          210,
          217,
          224,
          231,
          238,
          245,
          252,
          259,
          266,
          273,
          280,
          287,
          294,
          301,
          308,
          315,
          322,
          329,
          336,
          343,
          350,
          357
         ],
         "xaxis": "x",
         "y": [
          100,
          95.92211609110947,
          93.09331373989714,
          91.29316678912565,
          89.41954445260838,
          87.65613519470978,
          84.97428361498898,
          83.90889052167523,
          84.09257898603968,
          81.70462894930198,
          81.15356355620867,
          78.76561351947097,
          79.5738427626745,
          76.70830271858927,
          76.48787656135195,
          75.53269654665687,
          74.2836149889787,
          75.01836884643645,
          73.84276267450404,
          73.91623806024981,
          71.93240264511388,
          72.85084496693608,
          72.15282880235121,
          70.49963262307128,
          70.94048493754592,
          69.58119030124908,
          68.47905951506246,
          69.47097722263042,
          null,
          null,
          null,
          null,
          null,
          null,
          null,
          null,
          null,
          null,
          null,
          null,
          null,
          null,
          null,
          null,
          null,
          null,
          null,
          null,
          null,
          null,
          null,
          null
         ],
         "yaxis": "y"
        },
        {
         "hovertemplate": "cohort_week=2022-12-26<br>week_num=%{x}<br>value=%{y}<extra></extra>",
         "legendgroup": "2022-12-26",
         "line": {
          "color": "#8C564B",
          "dash": "solid"
         },
         "marker": {
          "symbol": "circle"
         },
         "mode": "lines",
         "name": "2022-12-26",
         "showlegend": true,
         "type": "scattergl",
         "x": [
          0,
          7,
          14,
          21,
          28,
          35,
          42,
          49,
          56,
          63,
          70,
          77,
          84,
          91,
          98,
          105,
          112,
          119,
          126,
          133,
          140,
          147,
          154,
          161,
          168,
          175,
          182,
          189,
          196,
          203,
          210,
          217,
          224,
          231,
          238,
          245,
          252,
          259,
          266,
          273,
          280,
          287,
          294,
          301,
          308,
          315,
          322,
          329,
          336,
          343,
          350,
          357
         ],
         "xaxis": "x",
         "y": [
          100,
          96.17764834364762,
          93.3017837641063,
          90.93556607207863,
          89.33381871132144,
          88.53294503094284,
          86.38514743356389,
          83.40007280669822,
          82.89042591918457,
          82.48998907899527,
          81.03385511467054,
          81.25227520931925,
          78.48562067710229,
          79.97815799053512,
          76.41062977793958,
          75.97378958864215,
          76.73825991991264,
          74.66326902074991,
          75.13651255915545,
          75.20931925737167,
          73.17073170731707,
          71.75100109210047,
          72.87950491445213,
          72.66108481980342,
          71.89661448853295,
          69.5668001456134,
          70.84091736439753,
          null,
          null,
          null,
          null,
          null,
          null,
          null,
          null,
          null,
          null,
          null,
          null,
          null,
          null,
          null,
          null,
          null,
          null,
          null,
          null,
          null,
          null,
          null,
          null,
          null
         ],
         "yaxis": "y"
        },
        {
         "hovertemplate": "cohort_week=2023-01-02<br>week_num=%{x}<br>value=%{y}<extra></extra>",
         "legendgroup": "2023-01-02",
         "line": {
          "color": "#E377C2",
          "dash": "solid"
         },
         "marker": {
          "symbol": "circle"
         },
         "mode": "lines",
         "name": "2023-01-02",
         "showlegend": true,
         "type": "scattergl",
         "x": [
          0,
          7,
          14,
          21,
          28,
          35,
          42,
          49,
          56,
          63,
          70,
          77,
          84,
          91,
          98,
          105,
          112,
          119,
          126,
          133,
          140,
          147,
          154,
          161,
          168,
          175,
          182,
          189,
          196,
          203,
          210,
          217,
          224,
          231,
          238,
          245,
          252,
          259,
          266,
          273,
          280,
          287,
          294,
          301,
          308,
          315,
          322,
          329,
          336,
          343,
          350,
          357
         ],
         "xaxis": "x",
         "y": [
          100,
          96.15384615384616,
          92.38165680473372,
          91.42011834319527,
          88.2396449704142,
          86.79733727810651,
          85.53994082840237,
          85.02218934911242,
          83.28402366863905,
          82.58136094674556,
          79.25295857988165,
          79.47485207100591,
          80.06656804733728,
          78.06952662721893,
          77.07100591715977,
          77.58875739644971,
          75.25887573964496,
          75.22189349112426,
          74.55621301775147,
          75.22189349112426,
          74.14940828402366,
          73.07692307692308,
          72.70710059171597,
          72.55917159763314,
          70.71005917159763,
          71.7085798816568,
          null,
          null,
          null,
          null,
          null,
          null,
          null,
          null,
          null,
          null,
          null,
          null,
          null,
          null,
          null,
          null,
          null,
          null,
          null,
          null,
          null,
          null,
          null,
          null,
          null,
          null
         ],
         "yaxis": "y"
        },
        {
         "hovertemplate": "cohort_week=2023-01-09<br>week_num=%{x}<br>value=%{y}<extra></extra>",
         "legendgroup": "2023-01-09",
         "line": {
          "color": "#7F7F7F",
          "dash": "solid"
         },
         "marker": {
          "symbol": "circle"
         },
         "mode": "lines",
         "name": "2023-01-09",
         "showlegend": true,
         "type": "scattergl",
         "x": [
          0,
          7,
          14,
          21,
          28,
          35,
          42,
          49,
          56,
          63,
          70,
          77,
          84,
          91,
          98,
          105,
          112,
          119,
          126,
          133,
          140,
          147,
          154,
          161,
          168,
          175,
          182,
          189,
          196,
          203,
          210,
          217,
          224,
          231,
          238,
          245,
          252,
          259,
          266,
          273,
          280,
          287,
          294,
          301,
          308,
          315,
          322,
          329,
          336,
          343,
          350,
          357
         ],
         "xaxis": "x",
         "y": [
          100,
          96.03815113719736,
          93.98385913426266,
          91.70946441672781,
          90.02201027146002,
          88.44460748349229,
          84.84959647835656,
          84.18928833455612,
          82.61188554658841,
          82.68525311812179,
          82.09831254585474,
          79.60381511371973,
          79.23697725605282,
          79.53044754218635,
          76.55906089508437,
          76.52237710931769,
          75.75201760821717,
          75.1650770359501,
          75.05502567865004,
          73.62435803374909,
          73.25752017608217,
          72.45047688921497,
          73.40425531914893,
          71.79016874541453,
          71.68011738811445,
          null,
          null,
          null,
          null,
          null,
          null,
          null,
          null,
          null,
          null,
          null,
          null,
          null,
          null,
          null,
          null,
          null,
          null,
          null,
          null,
          null,
          null,
          null,
          null,
          null,
          null,
          null
         ],
         "yaxis": "y"
        },
        {
         "hovertemplate": "cohort_week=2023-01-16<br>week_num=%{x}<br>value=%{y}<extra></extra>",
         "legendgroup": "2023-01-16",
         "line": {
          "color": "#BCBD22",
          "dash": "solid"
         },
         "marker": {
          "symbol": "circle"
         },
         "mode": "lines",
         "name": "2023-01-16",
         "showlegend": true,
         "type": "scattergl",
         "x": [
          0,
          7,
          14,
          21,
          28,
          35,
          42,
          49,
          56,
          63,
          70,
          77,
          84,
          91,
          98,
          105,
          112,
          119,
          126,
          133,
          140,
          147,
          154,
          161,
          168,
          175,
          182,
          189,
          196,
          203,
          210,
          217,
          224,
          231,
          238,
          245,
          252,
          259,
          266,
          273,
          280,
          287,
          294,
          301,
          308,
          315,
          322,
          329,
          336,
          343,
          350,
          357
         ],
         "xaxis": "x",
         "y": [
          100,
          96.41288433382138,
          93.74084919472914,
          90.7393850658858,
          89.42166910688141,
          87.33528550512445,
          86.78623718887262,
          85.68814055636896,
          82.43045387994144,
          82.57686676427525,
          81.99121522693997,
          79.57540263543191,
          79.02635431918009,
          79.24597364568082,
          79.09956076134699,
          76.7203513909224,
          76.46412884333822,
          76.09809663250365,
          75.0732064421669,
          73.75549048316252,
          73.46266471449488,
          71.63250366032212,
          71.8887262079063,
          73.24304538799414,
          null,
          null,
          null,
          null,
          null,
          null,
          null,
          null,
          null,
          null,
          null,
          null,
          null,
          null,
          null,
          null,
          null,
          null,
          null,
          null,
          null,
          null,
          null,
          null,
          null,
          null,
          null,
          null
         ],
         "yaxis": "y"
        },
        {
         "hovertemplate": "cohort_week=2023-01-23<br>week_num=%{x}<br>value=%{y}<extra></extra>",
         "legendgroup": "2023-01-23",
         "line": {
          "color": "#17BECF",
          "dash": "solid"
         },
         "marker": {
          "symbol": "circle"
         },
         "mode": "lines",
         "name": "2023-01-23",
         "showlegend": true,
         "type": "scattergl",
         "x": [
          0,
          7,
          14,
          21,
          28,
          35,
          42,
          49,
          56,
          63,
          70,
          77,
          84,
          91,
          98,
          105,
          112,
          119,
          126,
          133,
          140,
          147,
          154,
          161,
          168,
          175,
          182,
          189,
          196,
          203,
          210,
          217,
          224,
          231,
          238,
          245,
          252,
          259,
          266,
          273,
          280,
          287,
          294,
          301,
          308,
          315,
          322,
          329,
          336,
          343,
          350,
          357
         ],
         "xaxis": "x",
         "y": [
          100,
          95.45112781954887,
          93.27067669172932,
          91.84210526315789,
          89.62406015037594,
          87.66917293233082,
          85.45112781954887,
          85.11278195488721,
          84.06015037593986,
          82.44360902255639,
          81.9172932330827,
          81.05263157894737,
          77.44360902255639,
          79.84962406015038,
          78.64661654135338,
          77.40601503759399,
          76.2406015037594,
          76.84210526315789,
          73.04511278195488,
          73.83458646616542,
          74.73684210526316,
          72.93233082706767,
          72.66917293233082,
          null,
          null,
          null,
          null,
          null,
          null,
          null,
          null,
          null,
          null,
          null,
          null,
          null,
          null,
          null,
          null,
          null,
          null,
          null,
          null,
          null,
          null,
          null,
          null,
          null,
          null,
          null,
          null,
          null
         ],
         "yaxis": "y"
        },
        {
         "hovertemplate": "cohort_week=2023-01-30<br>week_num=%{x}<br>value=%{y}<extra></extra>",
         "legendgroup": "2023-01-30",
         "line": {
          "color": "#1F77B4",
          "dash": "solid"
         },
         "marker": {
          "symbol": "circle"
         },
         "mode": "lines",
         "name": "2023-01-30",
         "showlegend": true,
         "type": "scattergl",
         "x": [
          0,
          7,
          14,
          21,
          28,
          35,
          42,
          49,
          56,
          63,
          70,
          77,
          84,
          91,
          98,
          105,
          112,
          119,
          126,
          133,
          140,
          147,
          154,
          161,
          168,
          175,
          182,
          189,
          196,
          203,
          210,
          217,
          224,
          231,
          238,
          245,
          252,
          259,
          266,
          273,
          280,
          287,
          294,
          301,
          308,
          315,
          322,
          329,
          336,
          343,
          350,
          357
         ],
         "xaxis": "x",
         "y": [
          100,
          96.66916167664671,
          93.30089820359281,
          91.42964071856288,
          89.44610778443113,
          87.3877245508982,
          86.90119760479043,
          84.4685628742515,
          84.2814371257485,
          82.82185628742515,
          82.37275449101796,
          80.87574850299401,
          78.48053892215569,
          79.15419161676647,
          76.94610778443113,
          77.20808383233533,
          75.37425149700599,
          74.51347305389221,
          75.0374251497006,
          73.87724550898204,
          73.46556886227545,
          74.66317365269461,
          null,
          null,
          null,
          null,
          null,
          null,
          null,
          null,
          null,
          null,
          null,
          null,
          null,
          null,
          null,
          null,
          null,
          null,
          null,
          null,
          null,
          null,
          null,
          null,
          null,
          null,
          null,
          null,
          null,
          null
         ],
         "yaxis": "y"
        },
        {
         "hovertemplate": "cohort_week=2023-02-06<br>week_num=%{x}<br>value=%{y}<extra></extra>",
         "legendgroup": "2023-02-06",
         "line": {
          "color": "#FF7F0E",
          "dash": "solid"
         },
         "marker": {
          "symbol": "circle"
         },
         "mode": "lines",
         "name": "2023-02-06",
         "showlegend": true,
         "type": "scattergl",
         "x": [
          0,
          7,
          14,
          21,
          28,
          35,
          42,
          49,
          56,
          63,
          70,
          77,
          84,
          91,
          98,
          105,
          112,
          119,
          126,
          133,
          140,
          147,
          154,
          161,
          168,
          175,
          182,
          189,
          196,
          203,
          210,
          217,
          224,
          231,
          238,
          245,
          252,
          259,
          266,
          273,
          280,
          287,
          294,
          301,
          308,
          315,
          322,
          329,
          336,
          343,
          350,
          357
         ],
         "xaxis": "x",
         "y": [
          100,
          96.42992783896696,
          93.35358906190658,
          91.6824914546145,
          89.28978351690087,
          87.42878845423472,
          86.93505507026205,
          84.46638815039879,
          84.99810102544626,
          83.63083934675275,
          81.76984428408659,
          80.09874667679453,
          79.49107481959742,
          78.76946448917585,
          77.66805924800607,
          77.09836688188378,
          77.97189517660463,
          76.03494113178884,
          75.23737181921763,
          75.12343334599316,
          74.13596657804786,
          null,
          null,
          null,
          null,
          null,
          null,
          null,
          null,
          null,
          null,
          null,
          null,
          null,
          null,
          null,
          null,
          null,
          null,
          null,
          null,
          null,
          null,
          null,
          null,
          null,
          null,
          null,
          null,
          null,
          null,
          null
         ],
         "yaxis": "y"
        },
        {
         "hovertemplate": "cohort_week=2023-02-13<br>week_num=%{x}<br>value=%{y}<extra></extra>",
         "legendgroup": "2023-02-13",
         "line": {
          "color": "#2CA02C",
          "dash": "solid"
         },
         "marker": {
          "symbol": "circle"
         },
         "mode": "lines",
         "name": "2023-02-13",
         "showlegend": true,
         "type": "scattergl",
         "x": [
          0,
          7,
          14,
          21,
          28,
          35,
          42,
          49,
          56,
          63,
          70,
          77,
          84,
          91,
          98,
          105,
          112,
          119,
          126,
          133,
          140,
          147,
          154,
          161,
          168,
          175,
          182,
          189,
          196,
          203,
          210,
          217,
          224,
          231,
          238,
          245,
          252,
          259,
          266,
          273,
          280,
          287,
          294,
          301,
          308,
          315,
          322,
          329,
          336,
          343,
          350,
          357
         ],
         "xaxis": "x",
         "y": [
          100,
          95.99264705882354,
          93.30882352941177,
          91.06617647058823,
          90.11029411764706,
          87.57352941176471,
          87.61029411764706,
          84.44852941176471,
          83.97058823529412,
          83.82352941176471,
          82.31617647058823,
          80.55147058823529,
          79.33823529411765,
          77.57352941176471,
          77.9779411764706,
          77.05882352941177,
          75.95588235294117,
          75.91911764705883,
          74.70588235294117,
          74.5220588235294,
          null,
          null,
          null,
          null,
          null,
          null,
          null,
          null,
          null,
          null,
          null,
          null,
          null,
          null,
          null,
          null,
          null,
          null,
          null,
          null,
          null,
          null,
          null,
          null,
          null,
          null,
          null,
          null,
          null,
          null,
          null,
          null
         ],
         "yaxis": "y"
        },
        {
         "hovertemplate": "cohort_week=2023-02-20<br>week_num=%{x}<br>value=%{y}<extra></extra>",
         "legendgroup": "2023-02-20",
         "line": {
          "color": "#D62728",
          "dash": "solid"
         },
         "marker": {
          "symbol": "circle"
         },
         "mode": "lines",
         "name": "2023-02-20",
         "showlegend": true,
         "type": "scattergl",
         "x": [
          0,
          7,
          14,
          21,
          28,
          35,
          42,
          49,
          56,
          63,
          70,
          77,
          84,
          91,
          98,
          105,
          112,
          119,
          126,
          133,
          140,
          147,
          154,
          161,
          168,
          175,
          182,
          189,
          196,
          203,
          210,
          217,
          224,
          231,
          238,
          245,
          252,
          259,
          266,
          273,
          280,
          287,
          294,
          301,
          308,
          315,
          322,
          329,
          336,
          343,
          350,
          357
         ],
         "xaxis": "x",
         "y": [
          100,
          95.63745769086123,
          93.49379465964648,
          91.04926664159458,
          89.01842798044378,
          88.1910492666416,
          85.14479127491538,
          86.04738623542686,
          83.71568258743889,
          82.51222264009026,
          80.70703271906731,
          79.65400526513727,
          79.1650996615269,
          78.82662655133508,
          77.62316660398646,
          75.40428732606243,
          77.77359909740504,
          77.62316660398646,
          74.99059796916134,
          null,
          null,
          null,
          null,
          null,
          null,
          null,
          null,
          null,
          null,
          null,
          null,
          null,
          null,
          null,
          null,
          null,
          null,
          null,
          null,
          null,
          null,
          null,
          null,
          null,
          null,
          null,
          null,
          null,
          null,
          null,
          null,
          null
         ],
         "yaxis": "y"
        },
        {
         "hovertemplate": "cohort_week=2023-02-27<br>week_num=%{x}<br>value=%{y}<extra></extra>",
         "legendgroup": "2023-02-27",
         "line": {
          "color": "#9467BD",
          "dash": "solid"
         },
         "marker": {
          "symbol": "circle"
         },
         "mode": "lines",
         "name": "2023-02-27",
         "showlegend": true,
         "type": "scattergl",
         "x": [
          0,
          7,
          14,
          21,
          28,
          35,
          42,
          49,
          56,
          63,
          70,
          77,
          84,
          91,
          98,
          105,
          112,
          119,
          126,
          133,
          140,
          147,
          154,
          161,
          168,
          175,
          182,
          189,
          196,
          203,
          210,
          217,
          224,
          231,
          238,
          245,
          252,
          259,
          266,
          273,
          280,
          287,
          294,
          301,
          308,
          315,
          322,
          329,
          336,
          343,
          350,
          357
         ],
         "xaxis": "x",
         "y": [
          100,
          95.75645756457564,
          92.80442804428044,
          91.36531365313652,
          89.5940959409594,
          87.41697416974169,
          86.38376383763837,
          85.05535055350553,
          82.76752767527675,
          82.2140221402214,
          81.8450184501845,
          80.88560885608857,
          79.96309963099631,
          76.97416974169742,
          77.60147601476015,
          75.46125461254613,
          76.75276752767527,
          75.79335793357933,
          null,
          null,
          null,
          null,
          null,
          null,
          null,
          null,
          null,
          null,
          null,
          null,
          null,
          null,
          null,
          null,
          null,
          null,
          null,
          null,
          null,
          null,
          null,
          null,
          null,
          null,
          null,
          null,
          null,
          null,
          null,
          null,
          null,
          null
         ],
         "yaxis": "y"
        },
        {
         "hovertemplate": "cohort_week=2023-03-06<br>week_num=%{x}<br>value=%{y}<extra></extra>",
         "legendgroup": "2023-03-06",
         "line": {
          "color": "#8C564B",
          "dash": "solid"
         },
         "marker": {
          "symbol": "circle"
         },
         "mode": "lines",
         "name": "2023-03-06",
         "showlegend": true,
         "type": "scattergl",
         "x": [
          0,
          7,
          14,
          21,
          28,
          35,
          42,
          49,
          56,
          63,
          70,
          77,
          84,
          91,
          98,
          105,
          112,
          119,
          126,
          133,
          140,
          147,
          154,
          161,
          168,
          175,
          182,
          189,
          196,
          203,
          210,
          217,
          224,
          231,
          238,
          245,
          252,
          259,
          266,
          273,
          280,
          287,
          294,
          301,
          308,
          315,
          322,
          329,
          336,
          343,
          350,
          357
         ],
         "xaxis": "x",
         "y": [
          100,
          95.52294958615501,
          93.52896914973664,
          92.24981188863808,
          89.27765237020316,
          87.92325056433408,
          85.59066967644846,
          85.85402558314522,
          84.6124905944319,
          82.91948833709556,
          81.7155756207675,
          82.05417607223477,
          78.63054928517683,
          78.40481565086532,
          79.60872836719338,
          78.29194883370955,
          77.42663656884876,
          null,
          null,
          null,
          null,
          null,
          null,
          null,
          null,
          null,
          null,
          null,
          null,
          null,
          null,
          null,
          null,
          null,
          null,
          null,
          null,
          null,
          null,
          null,
          null,
          null,
          null,
          null,
          null,
          null,
          null,
          null,
          null,
          null,
          null,
          null
         ],
         "yaxis": "y"
        },
        {
         "hovertemplate": "cohort_week=2023-03-13<br>week_num=%{x}<br>value=%{y}<extra></extra>",
         "legendgroup": "2023-03-13",
         "line": {
          "color": "#E377C2",
          "dash": "solid"
         },
         "marker": {
          "symbol": "circle"
         },
         "mode": "lines",
         "name": "2023-03-13",
         "showlegend": true,
         "type": "scattergl",
         "x": [
          0,
          7,
          14,
          21,
          28,
          35,
          42,
          49,
          56,
          63,
          70,
          77,
          84,
          91,
          98,
          105,
          112,
          119,
          126,
          133,
          140,
          147,
          154,
          161,
          168,
          175,
          182,
          189,
          196,
          203,
          210,
          217,
          224,
          231,
          238,
          245,
          252,
          259,
          266,
          273,
          280,
          287,
          294,
          301,
          308,
          315,
          322,
          329,
          336,
          343,
          350,
          357
         ],
         "xaxis": "x",
         "y": [
          100,
          96.21802002224695,
          92.54727474972191,
          91.69447534297367,
          89.95179829440119,
          87.87541713014461,
          85.02039302929181,
          85.24286243974787,
          83.05524657026325,
          83.35187245087134,
          81.01594364108269,
          80.16314423433444,
          80.3485354097145,
          79.42157953281423,
          76.86318131256952,
          76.60363366703744,
          null,
          null,
          null,
          null,
          null,
          null,
          null,
          null,
          null,
          null,
          null,
          null,
          null,
          null,
          null,
          null,
          null,
          null,
          null,
          null,
          null,
          null,
          null,
          null,
          null,
          null,
          null,
          null,
          null,
          null,
          null,
          null,
          null,
          null,
          null,
          null
         ],
         "yaxis": "y"
        },
        {
         "hovertemplate": "cohort_week=2023-03-20<br>week_num=%{x}<br>value=%{y}<extra></extra>",
         "legendgroup": "2023-03-20",
         "line": {
          "color": "#7F7F7F",
          "dash": "solid"
         },
         "marker": {
          "symbol": "circle"
         },
         "mode": "lines",
         "name": "2023-03-20",
         "showlegend": true,
         "type": "scattergl",
         "x": [
          0,
          7,
          14,
          21,
          28,
          35,
          42,
          49,
          56,
          63,
          70,
          77,
          84,
          91,
          98,
          105,
          112,
          119,
          126,
          133,
          140,
          147,
          154,
          161,
          168,
          175,
          182,
          189,
          196,
          203,
          210,
          217,
          224,
          231,
          238,
          245,
          252,
          259,
          266,
          273,
          280,
          287,
          294,
          301,
          308,
          315,
          322,
          329,
          336,
          343,
          350,
          357
         ],
         "xaxis": "x",
         "y": [
          100,
          96.31010063361909,
          93.51472232575475,
          91.35296310100634,
          90.45844204248975,
          87.3276183376817,
          86.47036898993663,
          84.97950055907566,
          84.68132687290347,
          82.70592620201268,
          81.36414461423779,
          81.21505777115169,
          79.0905702571748,
          77.7115169586284,
          78.12150577711517,
          null,
          null,
          null,
          null,
          null,
          null,
          null,
          null,
          null,
          null,
          null,
          null,
          null,
          null,
          null,
          null,
          null,
          null,
          null,
          null,
          null,
          null,
          null,
          null,
          null,
          null,
          null,
          null,
          null,
          null,
          null,
          null,
          null,
          null,
          null,
          null,
          null
         ],
         "yaxis": "y"
        },
        {
         "hovertemplate": "cohort_week=2023-03-27<br>week_num=%{x}<br>value=%{y}<extra></extra>",
         "legendgroup": "2023-03-27",
         "line": {
          "color": "#BCBD22",
          "dash": "solid"
         },
         "marker": {
          "symbol": "circle"
         },
         "mode": "lines",
         "name": "2023-03-27",
         "showlegend": true,
         "type": "scattergl",
         "x": [
          0,
          7,
          14,
          21,
          28,
          35,
          42,
          49,
          56,
          63,
          70,
          77,
          84,
          91,
          98,
          105,
          112,
          119,
          126,
          133,
          140,
          147,
          154,
          161,
          168,
          175,
          182,
          189,
          196,
          203,
          210,
          217,
          224,
          231,
          238,
          245,
          252,
          259,
          266,
          273,
          280,
          287,
          294,
          301,
          308,
          315,
          322,
          329,
          336,
          343,
          350,
          357
         ],
         "xaxis": "x",
         "y": [
          100,
          95.86284010436079,
          93.4401789042117,
          91.72568020872158,
          90.0857249347745,
          88.81848676854267,
          86.65672754379426,
          85.09131569139024,
          83.11591502049944,
          83.63771897130079,
          81.10324263883712,
          81.10324263883712,
          80.54416697726425,
          78.34513604174431,
          null,
          null,
          null,
          null,
          null,
          null,
          null,
          null,
          null,
          null,
          null,
          null,
          null,
          null,
          null,
          null,
          null,
          null,
          null,
          null,
          null,
          null,
          null,
          null,
          null,
          null,
          null,
          null,
          null,
          null,
          null,
          null,
          null,
          null,
          null,
          null,
          null,
          null
         ],
         "yaxis": "y"
        },
        {
         "hovertemplate": "cohort_week=2023-04-03<br>week_num=%{x}<br>value=%{y}<extra></extra>",
         "legendgroup": "2023-04-03",
         "line": {
          "color": "#17BECF",
          "dash": "solid"
         },
         "marker": {
          "symbol": "circle"
         },
         "mode": "lines",
         "name": "2023-04-03",
         "showlegend": true,
         "type": "scattergl",
         "x": [
          0,
          7,
          14,
          21,
          28,
          35,
          42,
          49,
          56,
          63,
          70,
          77,
          84,
          91,
          98,
          105,
          112,
          119,
          126,
          133,
          140,
          147,
          154,
          161,
          168,
          175,
          182,
          189,
          196,
          203,
          210,
          217,
          224,
          231,
          238,
          245,
          252,
          259,
          266,
          273,
          280,
          287,
          294,
          301,
          308,
          315,
          322,
          329,
          336,
          343,
          350,
          357
         ],
         "xaxis": "x",
         "y": [
          100,
          95.90643274853801,
          93.9327485380117,
          91.95906432748538,
          89.65643274853801,
          88.63304093567251,
          87.46345029239767,
          86.33040935672514,
          83.5891812865497,
          82.67543859649123,
          81.4327485380117,
          81.79824561403508,
          81.46929824561404,
          null,
          null,
          null,
          null,
          null,
          null,
          null,
          null,
          null,
          null,
          null,
          null,
          null,
          null,
          null,
          null,
          null,
          null,
          null,
          null,
          null,
          null,
          null,
          null,
          null,
          null,
          null,
          null,
          null,
          null,
          null,
          null,
          null,
          null,
          null,
          null,
          null,
          null,
          null
         ],
         "yaxis": "y"
        },
        {
         "hovertemplate": "cohort_week=2023-04-10<br>week_num=%{x}<br>value=%{y}<extra></extra>",
         "legendgroup": "2023-04-10",
         "line": {
          "color": "#1F77B4",
          "dash": "solid"
         },
         "marker": {
          "symbol": "circle"
         },
         "mode": "lines",
         "name": "2023-04-10",
         "showlegend": true,
         "type": "scattergl",
         "x": [
          0,
          7,
          14,
          21,
          28,
          35,
          42,
          49,
          56,
          63,
          70,
          77,
          84,
          91,
          98,
          105,
          112,
          119,
          126,
          133,
          140,
          147,
          154,
          161,
          168,
          175,
          182,
          189,
          196,
          203,
          210,
          217,
          224,
          231,
          238,
          245,
          252,
          259,
          266,
          273,
          280,
          287,
          294,
          301,
          308,
          315,
          322,
          329,
          336,
          343,
          350,
          357
         ],
         "xaxis": "x",
         "y": [
          100,
          95.91160220994475,
          93.22283609576428,
          91.0865561694291,
          89.20810313075506,
          89.17127071823204,
          87.99263351749539,
          85.78268876611418,
          84.60405156537753,
          84.45672191528546,
          81.76795580110497,
          81.36279926335175,
          null,
          null,
          null,
          null,
          null,
          null,
          null,
          null,
          null,
          null,
          null,
          null,
          null,
          null,
          null,
          null,
          null,
          null,
          null,
          null,
          null,
          null,
          null,
          null,
          null,
          null,
          null,
          null,
          null,
          null,
          null,
          null,
          null,
          null,
          null,
          null,
          null,
          null,
          null,
          null
         ],
         "yaxis": "y"
        },
        {
         "hovertemplate": "cohort_week=2023-04-17<br>week_num=%{x}<br>value=%{y}<extra></extra>",
         "legendgroup": "2023-04-17",
         "line": {
          "color": "#FF7F0E",
          "dash": "solid"
         },
         "marker": {
          "symbol": "circle"
         },
         "mode": "lines",
         "name": "2023-04-17",
         "showlegend": true,
         "type": "scattergl",
         "x": [
          0,
          7,
          14,
          21,
          28,
          35,
          42,
          49,
          56,
          63,
          70,
          77,
          84,
          91,
          98,
          105,
          112,
          119,
          126,
          133,
          140,
          147,
          154,
          161,
          168,
          175,
          182,
          189,
          196,
          203,
          210,
          217,
          224,
          231,
          238,
          245,
          252,
          259,
          266,
          273,
          280,
          287,
          294,
          301,
          308,
          315,
          322,
          329,
          336,
          343,
          350,
          357
         ],
         "xaxis": "x",
         "y": [
          100,
          96.29225736095965,
          93.96583060705198,
          90.83969465648855,
          89.6401308615049,
          87.96801163213377,
          86.73209741912032,
          86.55034532897129,
          84.33296982915303,
          82.95165394402035,
          81.7157397310069,
          null,
          null,
          null,
          null,
          null,
          null,
          null,
          null,
          null,
          null,
          null,
          null,
          null,
          null,
          null,
          null,
          null,
          null,
          null,
          null,
          null,
          null,
          null,
          null,
          null,
          null,
          null,
          null,
          null,
          null,
          null,
          null,
          null,
          null,
          null,
          null,
          null,
          null,
          null,
          null,
          null
         ],
         "yaxis": "y"
        },
        {
         "hovertemplate": "cohort_week=2023-04-24<br>week_num=%{x}<br>value=%{y}<extra></extra>",
         "legendgroup": "2023-04-24",
         "line": {
          "color": "#2CA02C",
          "dash": "solid"
         },
         "marker": {
          "symbol": "circle"
         },
         "mode": "lines",
         "name": "2023-04-24",
         "showlegend": true,
         "type": "scattergl",
         "x": [
          0,
          7,
          14,
          21,
          28,
          35,
          42,
          49,
          56,
          63,
          70,
          77,
          84,
          91,
          98,
          105,
          112,
          119,
          126,
          133,
          140,
          147,
          154,
          161,
          168,
          175,
          182,
          189,
          196,
          203,
          210,
          217,
          224,
          231,
          238,
          245,
          252,
          259,
          266,
          273,
          280,
          287,
          294,
          301,
          308,
          315,
          322,
          329,
          336,
          343,
          350,
          357
         ],
         "xaxis": "x",
         "y": [
          100,
          95.71899012074643,
          92.71862422246616,
          91.80387852177095,
          89.71825832418588,
          86.82766190998902,
          87.01061105012806,
          85.72996706915478,
          83.71752652762532,
          83.93706549579217,
          null,
          null,
          null,
          null,
          null,
          null,
          null,
          null,
          null,
          null,
          null,
          null,
          null,
          null,
          null,
          null,
          null,
          null,
          null,
          null,
          null,
          null,
          null,
          null,
          null,
          null,
          null,
          null,
          null,
          null,
          null,
          null,
          null,
          null,
          null,
          null,
          null,
          null,
          null,
          null,
          null,
          null
         ],
         "yaxis": "y"
        },
        {
         "hovertemplate": "cohort_week=2023-05-01<br>week_num=%{x}<br>value=%{y}<extra></extra>",
         "legendgroup": "2023-05-01",
         "line": {
          "color": "#D62728",
          "dash": "solid"
         },
         "marker": {
          "symbol": "circle"
         },
         "mode": "lines",
         "name": "2023-05-01",
         "showlegend": true,
         "type": "scattergl",
         "x": [
          0,
          7,
          14,
          21,
          28,
          35,
          42,
          49,
          56,
          63,
          70,
          77,
          84,
          91,
          98,
          105,
          112,
          119,
          126,
          133,
          140,
          147,
          154,
          161,
          168,
          175,
          182,
          189,
          196,
          203,
          210,
          217,
          224,
          231,
          238,
          245,
          252,
          259,
          266,
          273,
          280,
          287,
          294,
          301,
          308,
          315,
          322,
          329,
          336,
          343,
          350,
          357
         ],
         "xaxis": "x",
         "y": [
          100,
          96.76598837209302,
          93.8953488372093,
          91.24273255813954,
          90.00726744186046,
          89.2078488372093,
          86.95494186046511,
          85.42877906976744,
          83.82994186046511,
          null,
          null,
          null,
          null,
          null,
          null,
          null,
          null,
          null,
          null,
          null,
          null,
          null,
          null,
          null,
          null,
          null,
          null,
          null,
          null,
          null,
          null,
          null,
          null,
          null,
          null,
          null,
          null,
          null,
          null,
          null,
          null,
          null,
          null,
          null,
          null,
          null,
          null,
          null,
          null,
          null,
          null,
          null
         ],
         "yaxis": "y"
        },
        {
         "hovertemplate": "cohort_week=2023-05-08<br>week_num=%{x}<br>value=%{y}<extra></extra>",
         "legendgroup": "2023-05-08",
         "line": {
          "color": "#9467BD",
          "dash": "solid"
         },
         "marker": {
          "symbol": "circle"
         },
         "mode": "lines",
         "name": "2023-05-08",
         "showlegend": true,
         "type": "scattergl",
         "x": [
          0,
          7,
          14,
          21,
          28,
          35,
          42,
          49,
          56,
          63,
          70,
          77,
          84,
          91,
          98,
          105,
          112,
          119,
          126,
          133,
          140,
          147,
          154,
          161,
          168,
          175,
          182,
          189,
          196,
          203,
          210,
          217,
          224,
          231,
          238,
          245,
          252,
          259,
          266,
          273,
          280,
          287,
          294,
          301,
          308,
          315,
          322,
          329,
          336,
          343,
          350,
          357
         ],
         "xaxis": "x",
         "y": [
          100,
          95.9927797833935,
          93.35740072202167,
          92.12996389891697,
          90.03610108303249,
          87.83393501805054,
          87.90613718411552,
          85.63176895306859,
          null,
          null,
          null,
          null,
          null,
          null,
          null,
          null,
          null,
          null,
          null,
          null,
          null,
          null,
          null,
          null,
          null,
          null,
          null,
          null,
          null,
          null,
          null,
          null,
          null,
          null,
          null,
          null,
          null,
          null,
          null,
          null,
          null,
          null,
          null,
          null,
          null,
          null,
          null,
          null,
          null,
          null,
          null,
          null
         ],
         "yaxis": "y"
        },
        {
         "hovertemplate": "cohort_week=2023-05-15<br>week_num=%{x}<br>value=%{y}<extra></extra>",
         "legendgroup": "2023-05-15",
         "line": {
          "color": "#8C564B",
          "dash": "solid"
         },
         "marker": {
          "symbol": "circle"
         },
         "mode": "lines",
         "name": "2023-05-15",
         "showlegend": true,
         "type": "scattergl",
         "x": [
          0,
          7,
          14,
          21,
          28,
          35,
          42,
          49,
          56,
          63,
          70,
          77,
          84,
          91,
          98,
          105,
          112,
          119,
          126,
          133,
          140,
          147,
          154,
          161,
          168,
          175,
          182,
          189,
          196,
          203,
          210,
          217,
          224,
          231,
          238,
          245,
          252,
          259,
          266,
          273,
          280,
          287,
          294,
          301,
          308,
          315,
          322,
          329,
          336,
          343,
          350,
          357
         ],
         "xaxis": "x",
         "y": [
          100,
          96.78119349005425,
          94.17721518987342,
          91.97106690777576,
          90.23508137432188,
          88.71609403254973,
          87.19710669077757,
          null,
          null,
          null,
          null,
          null,
          null,
          null,
          null,
          null,
          null,
          null,
          null,
          null,
          null,
          null,
          null,
          null,
          null,
          null,
          null,
          null,
          null,
          null,
          null,
          null,
          null,
          null,
          null,
          null,
          null,
          null,
          null,
          null,
          null,
          null,
          null,
          null,
          null,
          null,
          null,
          null,
          null,
          null,
          null,
          null
         ],
         "yaxis": "y"
        },
        {
         "hovertemplate": "cohort_week=2023-05-22<br>week_num=%{x}<br>value=%{y}<extra></extra>",
         "legendgroup": "2023-05-22",
         "line": {
          "color": "#E377C2",
          "dash": "solid"
         },
         "marker": {
          "symbol": "circle"
         },
         "mode": "lines",
         "name": "2023-05-22",
         "showlegend": true,
         "type": "scattergl",
         "x": [
          0,
          7,
          14,
          21,
          28,
          35,
          42,
          49,
          56,
          63,
          70,
          77,
          84,
          91,
          98,
          105,
          112,
          119,
          126,
          133,
          140,
          147,
          154,
          161,
          168,
          175,
          182,
          189,
          196,
          203,
          210,
          217,
          224,
          231,
          238,
          245,
          252,
          259,
          266,
          273,
          280,
          287,
          294,
          301,
          308,
          315,
          322,
          329,
          336,
          343,
          350,
          357
         ],
         "xaxis": "x",
         "y": [
          100,
          96.84981684981685,
          93.55311355311355,
          92.16117216117216,
          90.29304029304029,
          88.35164835164835,
          null,
          null,
          null,
          null,
          null,
          null,
          null,
          null,
          null,
          null,
          null,
          null,
          null,
          null,
          null,
          null,
          null,
          null,
          null,
          null,
          null,
          null,
          null,
          null,
          null,
          null,
          null,
          null,
          null,
          null,
          null,
          null,
          null,
          null,
          null,
          null,
          null,
          null,
          null,
          null,
          null,
          null,
          null,
          null,
          null,
          null
         ],
         "yaxis": "y"
        },
        {
         "hovertemplate": "cohort_week=2023-05-29<br>week_num=%{x}<br>value=%{y}<extra></extra>",
         "legendgroup": "2023-05-29",
         "line": {
          "color": "#7F7F7F",
          "dash": "solid"
         },
         "marker": {
          "symbol": "circle"
         },
         "mode": "lines",
         "name": "2023-05-29",
         "showlegend": true,
         "type": "scattergl",
         "x": [
          0,
          7,
          14,
          21,
          28,
          35,
          42,
          49,
          56,
          63,
          70,
          77,
          84,
          91,
          98,
          105,
          112,
          119,
          126,
          133,
          140,
          147,
          154,
          161,
          168,
          175,
          182,
          189,
          196,
          203,
          210,
          217,
          224,
          231,
          238,
          245,
          252,
          259,
          266,
          273,
          280,
          287,
          294,
          301,
          308,
          315,
          322,
          329,
          336,
          343,
          350,
          357
         ],
         "xaxis": "x",
         "y": [
          100,
          96.88066739209286,
          92.85455204932899,
          90.93217265143272,
          90.06166122597025,
          null,
          null,
          null,
          null,
          null,
          null,
          null,
          null,
          null,
          null,
          null,
          null,
          null,
          null,
          null,
          null,
          null,
          null,
          null,
          null,
          null,
          null,
          null,
          null,
          null,
          null,
          null,
          null,
          null,
          null,
          null,
          null,
          null,
          null,
          null,
          null,
          null,
          null,
          null,
          null,
          null,
          null,
          null,
          null,
          null,
          null,
          null
         ],
         "yaxis": "y"
        },
        {
         "hovertemplate": "cohort_week=2023-06-05<br>week_num=%{x}<br>value=%{y}<extra></extra>",
         "legendgroup": "2023-06-05",
         "line": {
          "color": "#BCBD22",
          "dash": "solid"
         },
         "marker": {
          "symbol": "circle"
         },
         "mode": "lines",
         "name": "2023-06-05",
         "showlegend": true,
         "type": "scattergl",
         "x": [
          0,
          7,
          14,
          21,
          28,
          35,
          42,
          49,
          56,
          63,
          70,
          77,
          84,
          91,
          98,
          105,
          112,
          119,
          126,
          133,
          140,
          147,
          154,
          161,
          168,
          175,
          182,
          189,
          196,
          203,
          210,
          217,
          224,
          231,
          238,
          245,
          252,
          259,
          266,
          273,
          280,
          287,
          294,
          301,
          308,
          315,
          322,
          329,
          336,
          343,
          350,
          357
         ],
         "xaxis": "x",
         "y": [
          100,
          96.6255442670537,
          93.72278664731495,
          92.0899854862119,
          null,
          null,
          null,
          null,
          null,
          null,
          null,
          null,
          null,
          null,
          null,
          null,
          null,
          null,
          null,
          null,
          null,
          null,
          null,
          null,
          null,
          null,
          null,
          null,
          null,
          null,
          null,
          null,
          null,
          null,
          null,
          null,
          null,
          null,
          null,
          null,
          null,
          null,
          null,
          null,
          null,
          null,
          null,
          null,
          null,
          null,
          null,
          null
         ],
         "yaxis": "y"
        },
        {
         "hovertemplate": "cohort_week=2023-06-12<br>week_num=%{x}<br>value=%{y}<extra></extra>",
         "legendgroup": "2023-06-12",
         "line": {
          "color": "#17BECF",
          "dash": "solid"
         },
         "marker": {
          "symbol": "circle"
         },
         "mode": "lines",
         "name": "2023-06-12",
         "showlegend": true,
         "type": "scattergl",
         "x": [
          0,
          7,
          14,
          21,
          28,
          35,
          42,
          49,
          56,
          63,
          70,
          77,
          84,
          91,
          98,
          105,
          112,
          119,
          126,
          133,
          140,
          147,
          154,
          161,
          168,
          175,
          182,
          189,
          196,
          203,
          210,
          217,
          224,
          231,
          238,
          245,
          252,
          259,
          266,
          273,
          280,
          287,
          294,
          301,
          308,
          315,
          322,
          329,
          336,
          343,
          350,
          357
         ],
         "xaxis": "x",
         "y": [
          100,
          95.6813104988831,
          94.45271779597915,
          null,
          null,
          null,
          null,
          null,
          null,
          null,
          null,
          null,
          null,
          null,
          null,
          null,
          null,
          null,
          null,
          null,
          null,
          null,
          null,
          null,
          null,
          null,
          null,
          null,
          null,
          null,
          null,
          null,
          null,
          null,
          null,
          null,
          null,
          null,
          null,
          null,
          null,
          null,
          null,
          null,
          null,
          null,
          null,
          null,
          null,
          null,
          null,
          null
         ],
         "yaxis": "y"
        },
        {
         "hovertemplate": "cohort_week=2023-06-19<br>week_num=%{x}<br>value=%{y}<extra></extra>",
         "legendgroup": "2023-06-19",
         "line": {
          "color": "#1F77B4",
          "dash": "solid"
         },
         "marker": {
          "symbol": "circle"
         },
         "mode": "lines",
         "name": "2023-06-19",
         "showlegend": true,
         "type": "scattergl",
         "x": [
          0,
          7,
          14,
          21,
          28,
          35,
          42,
          49,
          56,
          63,
          70,
          77,
          84,
          91,
          98,
          105,
          112,
          119,
          126,
          133,
          140,
          147,
          154,
          161,
          168,
          175,
          182,
          189,
          196,
          203,
          210,
          217,
          224,
          231,
          238,
          245,
          252,
          259,
          266,
          273,
          280,
          287,
          294,
          301,
          308,
          315,
          322,
          329,
          336,
          343,
          350,
          357
         ],
         "xaxis": "x",
         "y": [
          100,
          96.18181818181819,
          null,
          null,
          null,
          null,
          null,
          null,
          null,
          null,
          null,
          null,
          null,
          null,
          null,
          null,
          null,
          null,
          null,
          null,
          null,
          null,
          null,
          null,
          null,
          null,
          null,
          null,
          null,
          null,
          null,
          null,
          null,
          null,
          null,
          null,
          null,
          null,
          null,
          null,
          null,
          null,
          null,
          null,
          null,
          null,
          null,
          null,
          null,
          null,
          null,
          null
         ],
         "yaxis": "y"
        },
        {
         "hovertemplate": "cohort_week=2023-06-26<br>week_num=%{x}<br>value=%{y}<extra></extra>",
         "legendgroup": "2023-06-26",
         "line": {
          "color": "#FF7F0E",
          "dash": "solid"
         },
         "marker": {
          "symbol": "circle"
         },
         "mode": "lines",
         "name": "2023-06-26",
         "showlegend": true,
         "type": "scattergl",
         "x": [
          0,
          7,
          14,
          21,
          28,
          35,
          42,
          49,
          56,
          63,
          70,
          77,
          84,
          91,
          98,
          105,
          112,
          119,
          126,
          133,
          140,
          147,
          154,
          161,
          168,
          175,
          182,
          189,
          196,
          203,
          210,
          217,
          224,
          231,
          238,
          245,
          252,
          259,
          266,
          273,
          280,
          287,
          294,
          301,
          308,
          315,
          322,
          329,
          336,
          343,
          350,
          357
         ],
         "xaxis": "x",
         "y": [
          100,
          null,
          null,
          null,
          null,
          null,
          null,
          null,
          null,
          null,
          null,
          null,
          null,
          null,
          null,
          null,
          null,
          null,
          null,
          null,
          null,
          null,
          null,
          null,
          null,
          null,
          null,
          null,
          null,
          null,
          null,
          null,
          null,
          null,
          null,
          null,
          null,
          null,
          null,
          null,
          null,
          null,
          null,
          null,
          null,
          null,
          null,
          null,
          null,
          null,
          null,
          null
         ],
         "yaxis": "y"
        }
       ],
       "layout": {
        "legend": {
         "title": {
          "text": "cohort_week"
         },
         "tracegroupgap": 0
        },
        "margin": {
         "t": 60
        },
        "template": {
         "data": {
          "bar": [
           {
            "error_x": {
             "color": "rgb(36,36,36)"
            },
            "error_y": {
             "color": "rgb(36,36,36)"
            },
            "marker": {
             "line": {
              "color": "white",
              "width": 0.5
             },
             "pattern": {
              "fillmode": "overlay",
              "size": 10,
              "solidity": 0.2
             }
            },
            "type": "bar"
           }
          ],
          "barpolar": [
           {
            "marker": {
             "line": {
              "color": "white",
              "width": 0.5
             },
             "pattern": {
              "fillmode": "overlay",
              "size": 10,
              "solidity": 0.2
             }
            },
            "type": "barpolar"
           }
          ],
          "carpet": [
           {
            "aaxis": {
             "endlinecolor": "rgb(36,36,36)",
             "gridcolor": "white",
             "linecolor": "white",
             "minorgridcolor": "white",
             "startlinecolor": "rgb(36,36,36)"
            },
            "baxis": {
             "endlinecolor": "rgb(36,36,36)",
             "gridcolor": "white",
             "linecolor": "white",
             "minorgridcolor": "white",
             "startlinecolor": "rgb(36,36,36)"
            },
            "type": "carpet"
           }
          ],
          "choropleth": [
           {
            "colorbar": {
             "outlinewidth": 1,
             "tickcolor": "rgb(36,36,36)",
             "ticks": "outside"
            },
            "type": "choropleth"
           }
          ],
          "contour": [
           {
            "colorbar": {
             "outlinewidth": 1,
             "tickcolor": "rgb(36,36,36)",
             "ticks": "outside"
            },
            "colorscale": [
             [
              0,
              "#440154"
             ],
             [
              0.1111111111111111,
              "#482878"
             ],
             [
              0.2222222222222222,
              "#3e4989"
             ],
             [
              0.3333333333333333,
              "#31688e"
             ],
             [
              0.4444444444444444,
              "#26828e"
             ],
             [
              0.5555555555555556,
              "#1f9e89"
             ],
             [
              0.6666666666666666,
              "#35b779"
             ],
             [
              0.7777777777777778,
              "#6ece58"
             ],
             [
              0.8888888888888888,
              "#b5de2b"
             ],
             [
              1,
              "#fde725"
             ]
            ],
            "type": "contour"
           }
          ],
          "contourcarpet": [
           {
            "colorbar": {
             "outlinewidth": 1,
             "tickcolor": "rgb(36,36,36)",
             "ticks": "outside"
            },
            "type": "contourcarpet"
           }
          ],
          "heatmap": [
           {
            "colorbar": {
             "outlinewidth": 1,
             "tickcolor": "rgb(36,36,36)",
             "ticks": "outside"
            },
            "colorscale": [
             [
              0,
              "#440154"
             ],
             [
              0.1111111111111111,
              "#482878"
             ],
             [
              0.2222222222222222,
              "#3e4989"
             ],
             [
              0.3333333333333333,
              "#31688e"
             ],
             [
              0.4444444444444444,
              "#26828e"
             ],
             [
              0.5555555555555556,
              "#1f9e89"
             ],
             [
              0.6666666666666666,
              "#35b779"
             ],
             [
              0.7777777777777778,
              "#6ece58"
             ],
             [
              0.8888888888888888,
              "#b5de2b"
             ],
             [
              1,
              "#fde725"
             ]
            ],
            "type": "heatmap"
           }
          ],
          "heatmapgl": [
           {
            "colorbar": {
             "outlinewidth": 1,
             "tickcolor": "rgb(36,36,36)",
             "ticks": "outside"
            },
            "colorscale": [
             [
              0,
              "#440154"
             ],
             [
              0.1111111111111111,
              "#482878"
             ],
             [
              0.2222222222222222,
              "#3e4989"
             ],
             [
              0.3333333333333333,
              "#31688e"
             ],
             [
              0.4444444444444444,
              "#26828e"
             ],
             [
              0.5555555555555556,
              "#1f9e89"
             ],
             [
              0.6666666666666666,
              "#35b779"
             ],
             [
              0.7777777777777778,
              "#6ece58"
             ],
             [
              0.8888888888888888,
              "#b5de2b"
             ],
             [
              1,
              "#fde725"
             ]
            ],
            "type": "heatmapgl"
           }
          ],
          "histogram": [
           {
            "marker": {
             "line": {
              "color": "white",
              "width": 0.6
             }
            },
            "type": "histogram"
           }
          ],
          "histogram2d": [
           {
            "colorbar": {
             "outlinewidth": 1,
             "tickcolor": "rgb(36,36,36)",
             "ticks": "outside"
            },
            "colorscale": [
             [
              0,
              "#440154"
             ],
             [
              0.1111111111111111,
              "#482878"
             ],
             [
              0.2222222222222222,
              "#3e4989"
             ],
             [
              0.3333333333333333,
              "#31688e"
             ],
             [
              0.4444444444444444,
              "#26828e"
             ],
             [
              0.5555555555555556,
              "#1f9e89"
             ],
             [
              0.6666666666666666,
              "#35b779"
             ],
             [
              0.7777777777777778,
              "#6ece58"
             ],
             [
              0.8888888888888888,
              "#b5de2b"
             ],
             [
              1,
              "#fde725"
             ]
            ],
            "type": "histogram2d"
           }
          ],
          "histogram2dcontour": [
           {
            "colorbar": {
             "outlinewidth": 1,
             "tickcolor": "rgb(36,36,36)",
             "ticks": "outside"
            },
            "colorscale": [
             [
              0,
              "#440154"
             ],
             [
              0.1111111111111111,
              "#482878"
             ],
             [
              0.2222222222222222,
              "#3e4989"
             ],
             [
              0.3333333333333333,
              "#31688e"
             ],
             [
              0.4444444444444444,
              "#26828e"
             ],
             [
              0.5555555555555556,
              "#1f9e89"
             ],
             [
              0.6666666666666666,
              "#35b779"
             ],
             [
              0.7777777777777778,
              "#6ece58"
             ],
             [
              0.8888888888888888,
              "#b5de2b"
             ],
             [
              1,
              "#fde725"
             ]
            ],
            "type": "histogram2dcontour"
           }
          ],
          "mesh3d": [
           {
            "colorbar": {
             "outlinewidth": 1,
             "tickcolor": "rgb(36,36,36)",
             "ticks": "outside"
            },
            "type": "mesh3d"
           }
          ],
          "parcoords": [
           {
            "line": {
             "colorbar": {
              "outlinewidth": 1,
              "tickcolor": "rgb(36,36,36)",
              "ticks": "outside"
             }
            },
            "type": "parcoords"
           }
          ],
          "pie": [
           {
            "automargin": true,
            "type": "pie"
           }
          ],
          "scatter": [
           {
            "fillpattern": {
             "fillmode": "overlay",
             "size": 10,
             "solidity": 0.2
            },
            "type": "scatter"
           }
          ],
          "scatter3d": [
           {
            "line": {
             "colorbar": {
              "outlinewidth": 1,
              "tickcolor": "rgb(36,36,36)",
              "ticks": "outside"
             }
            },
            "marker": {
             "colorbar": {
              "outlinewidth": 1,
              "tickcolor": "rgb(36,36,36)",
              "ticks": "outside"
             }
            },
            "type": "scatter3d"
           }
          ],
          "scattercarpet": [
           {
            "marker": {
             "colorbar": {
              "outlinewidth": 1,
              "tickcolor": "rgb(36,36,36)",
              "ticks": "outside"
             }
            },
            "type": "scattercarpet"
           }
          ],
          "scattergeo": [
           {
            "marker": {
             "colorbar": {
              "outlinewidth": 1,
              "tickcolor": "rgb(36,36,36)",
              "ticks": "outside"
             }
            },
            "type": "scattergeo"
           }
          ],
          "scattergl": [
           {
            "marker": {
             "colorbar": {
              "outlinewidth": 1,
              "tickcolor": "rgb(36,36,36)",
              "ticks": "outside"
             }
            },
            "type": "scattergl"
           }
          ],
          "scattermapbox": [
           {
            "marker": {
             "colorbar": {
              "outlinewidth": 1,
              "tickcolor": "rgb(36,36,36)",
              "ticks": "outside"
             }
            },
            "type": "scattermapbox"
           }
          ],
          "scatterpolar": [
           {
            "marker": {
             "colorbar": {
              "outlinewidth": 1,
              "tickcolor": "rgb(36,36,36)",
              "ticks": "outside"
             }
            },
            "type": "scatterpolar"
           }
          ],
          "scatterpolargl": [
           {
            "marker": {
             "colorbar": {
              "outlinewidth": 1,
              "tickcolor": "rgb(36,36,36)",
              "ticks": "outside"
             }
            },
            "type": "scatterpolargl"
           }
          ],
          "scatterternary": [
           {
            "marker": {
             "colorbar": {
              "outlinewidth": 1,
              "tickcolor": "rgb(36,36,36)",
              "ticks": "outside"
             }
            },
            "type": "scatterternary"
           }
          ],
          "surface": [
           {
            "colorbar": {
             "outlinewidth": 1,
             "tickcolor": "rgb(36,36,36)",
             "ticks": "outside"
            },
            "colorscale": [
             [
              0,
              "#440154"
             ],
             [
              0.1111111111111111,
              "#482878"
             ],
             [
              0.2222222222222222,
              "#3e4989"
             ],
             [
              0.3333333333333333,
              "#31688e"
             ],
             [
              0.4444444444444444,
              "#26828e"
             ],
             [
              0.5555555555555556,
              "#1f9e89"
             ],
             [
              0.6666666666666666,
              "#35b779"
             ],
             [
              0.7777777777777778,
              "#6ece58"
             ],
             [
              0.8888888888888888,
              "#b5de2b"
             ],
             [
              1,
              "#fde725"
             ]
            ],
            "type": "surface"
           }
          ],
          "table": [
           {
            "cells": {
             "fill": {
              "color": "rgb(237,237,237)"
             },
             "line": {
              "color": "white"
             }
            },
            "header": {
             "fill": {
              "color": "rgb(217,217,217)"
             },
             "line": {
              "color": "white"
             }
            },
            "type": "table"
           }
          ]
         },
         "layout": {
          "annotationdefaults": {
           "arrowhead": 0,
           "arrowwidth": 1
          },
          "autotypenumbers": "strict",
          "coloraxis": {
           "colorbar": {
            "outlinewidth": 1,
            "tickcolor": "rgb(36,36,36)",
            "ticks": "outside"
           }
          },
          "colorscale": {
           "diverging": [
            [
             0,
             "rgb(103,0,31)"
            ],
            [
             0.1,
             "rgb(178,24,43)"
            ],
            [
             0.2,
             "rgb(214,96,77)"
            ],
            [
             0.3,
             "rgb(244,165,130)"
            ],
            [
             0.4,
             "rgb(253,219,199)"
            ],
            [
             0.5,
             "rgb(247,247,247)"
            ],
            [
             0.6,
             "rgb(209,229,240)"
            ],
            [
             0.7,
             "rgb(146,197,222)"
            ],
            [
             0.8,
             "rgb(67,147,195)"
            ],
            [
             0.9,
             "rgb(33,102,172)"
            ],
            [
             1,
             "rgb(5,48,97)"
            ]
           ],
           "sequential": [
            [
             0,
             "#440154"
            ],
            [
             0.1111111111111111,
             "#482878"
            ],
            [
             0.2222222222222222,
             "#3e4989"
            ],
            [
             0.3333333333333333,
             "#31688e"
            ],
            [
             0.4444444444444444,
             "#26828e"
            ],
            [
             0.5555555555555556,
             "#1f9e89"
            ],
            [
             0.6666666666666666,
             "#35b779"
            ],
            [
             0.7777777777777778,
             "#6ece58"
            ],
            [
             0.8888888888888888,
             "#b5de2b"
            ],
            [
             1,
             "#fde725"
            ]
           ],
           "sequentialminus": [
            [
             0,
             "#440154"
            ],
            [
             0.1111111111111111,
             "#482878"
            ],
            [
             0.2222222222222222,
             "#3e4989"
            ],
            [
             0.3333333333333333,
             "#31688e"
            ],
            [
             0.4444444444444444,
             "#26828e"
            ],
            [
             0.5555555555555556,
             "#1f9e89"
            ],
            [
             0.6666666666666666,
             "#35b779"
            ],
            [
             0.7777777777777778,
             "#6ece58"
            ],
            [
             0.8888888888888888,
             "#b5de2b"
            ],
            [
             1,
             "#fde725"
            ]
           ]
          },
          "colorway": [
           "#1F77B4",
           "#FF7F0E",
           "#2CA02C",
           "#D62728",
           "#9467BD",
           "#8C564B",
           "#E377C2",
           "#7F7F7F",
           "#BCBD22",
           "#17BECF"
          ],
          "font": {
           "color": "rgb(36,36,36)"
          },
          "geo": {
           "bgcolor": "white",
           "lakecolor": "white",
           "landcolor": "white",
           "showlakes": true,
           "showland": true,
           "subunitcolor": "white"
          },
          "hoverlabel": {
           "align": "left"
          },
          "hovermode": "closest",
          "mapbox": {
           "style": "light"
          },
          "paper_bgcolor": "white",
          "plot_bgcolor": "white",
          "polar": {
           "angularaxis": {
            "gridcolor": "rgb(232,232,232)",
            "linecolor": "rgb(36,36,36)",
            "showgrid": false,
            "showline": true,
            "ticks": "outside"
           },
           "bgcolor": "white",
           "radialaxis": {
            "gridcolor": "rgb(232,232,232)",
            "linecolor": "rgb(36,36,36)",
            "showgrid": false,
            "showline": true,
            "ticks": "outside"
           }
          },
          "scene": {
           "xaxis": {
            "backgroundcolor": "white",
            "gridcolor": "rgb(232,232,232)",
            "gridwidth": 2,
            "linecolor": "rgb(36,36,36)",
            "showbackground": true,
            "showgrid": false,
            "showline": true,
            "ticks": "outside",
            "zeroline": false,
            "zerolinecolor": "rgb(36,36,36)"
           },
           "yaxis": {
            "backgroundcolor": "white",
            "gridcolor": "rgb(232,232,232)",
            "gridwidth": 2,
            "linecolor": "rgb(36,36,36)",
            "showbackground": true,
            "showgrid": false,
            "showline": true,
            "ticks": "outside",
            "zeroline": false,
            "zerolinecolor": "rgb(36,36,36)"
           },
           "zaxis": {
            "backgroundcolor": "white",
            "gridcolor": "rgb(232,232,232)",
            "gridwidth": 2,
            "linecolor": "rgb(36,36,36)",
            "showbackground": true,
            "showgrid": false,
            "showline": true,
            "ticks": "outside",
            "zeroline": false,
            "zerolinecolor": "rgb(36,36,36)"
           }
          },
          "shapedefaults": {
           "fillcolor": "black",
           "line": {
            "width": 0
           },
           "opacity": 0.3
          },
          "ternary": {
           "aaxis": {
            "gridcolor": "rgb(232,232,232)",
            "linecolor": "rgb(36,36,36)",
            "showgrid": false,
            "showline": true,
            "ticks": "outside"
           },
           "baxis": {
            "gridcolor": "rgb(232,232,232)",
            "linecolor": "rgb(36,36,36)",
            "showgrid": false,
            "showline": true,
            "ticks": "outside"
           },
           "bgcolor": "white",
           "caxis": {
            "gridcolor": "rgb(232,232,232)",
            "linecolor": "rgb(36,36,36)",
            "showgrid": false,
            "showline": true,
            "ticks": "outside"
           }
          },
          "title": {
           "x": 0.05
          },
          "xaxis": {
           "automargin": true,
           "gridcolor": "rgb(232,232,232)",
           "linecolor": "rgb(36,36,36)",
           "showgrid": false,
           "showline": true,
           "ticks": "outside",
           "title": {
            "standoff": 15
           },
           "zeroline": false,
           "zerolinecolor": "rgb(36,36,36)"
          },
          "yaxis": {
           "automargin": true,
           "gridcolor": "rgb(232,232,232)",
           "linecolor": "rgb(36,36,36)",
           "showgrid": false,
           "showline": true,
           "ticks": "outside",
           "title": {
            "standoff": 15
           },
           "zeroline": false,
           "zerolinecolor": "rgb(36,36,36)"
          }
         }
        },
        "xaxis": {
         "anchor": "y",
         "domain": [
          0,
          1
         ],
         "title": {
          "text": "week_num"
         }
        },
        "yaxis": {
         "anchor": "x",
         "domain": [
          0,
          1
         ],
         "title": {
          "text": "value"
         }
        }
       }
      },
      "text/html": [
       "<div>                            <div id=\"cfc1cb33-dac6-40bf-bea2-c561cfc6d421\" class=\"plotly-graph-div\" style=\"height:525px; width:100%;\"></div>            <script type=\"text/javascript\">                require([\"plotly\"], function(Plotly) {                    window.PLOTLYENV=window.PLOTLYENV || {};                                    if (document.getElementById(\"cfc1cb33-dac6-40bf-bea2-c561cfc6d421\")) {                    Plotly.newPlot(                        \"cfc1cb33-dac6-40bf-bea2-c561cfc6d421\",                        [{\"hovertemplate\":\"cohort_week=2022-07-04<br>week_num=%{x}<br>value=%{y}<extra></extra>\",\"legendgroup\":\"2022-07-04\",\"line\":{\"color\":\"#1F77B4\",\"dash\":\"solid\"},\"marker\":{\"symbol\":\"circle\"},\"mode\":\"lines\",\"name\":\"2022-07-04\",\"showlegend\":true,\"x\":[0,7,14,21,28,35,42,49,56,63,70,77,84,91,98,105,112,119,126,133,140,147,154,161,168,175,182,189,196,203,210,217,224,231,238,245,252,259,266,273,280,287,294,301,308,315,322,329,336,343,350,357],\"xaxis\":\"x\",\"y\":[100.0,93.16208393632417,87.84370477568741,84.7684515195369,80.60781476121564,78.2561505065123,77.53256150506512,74.34876989869754,71.85238784370478,69.75397973950795,68.52387843704776,66.71490593342982,67.00434153400869,65.77424023154848,64.4356005788712,64.4356005788712,62.91606367583213,60.41968162083936,60.92619392185239,60.52821997105644,59.44283646888567,57.99565846599132,57.814761215629524,56.65701881331404,56.62083936324168,54.23299565846599,54.92040520984081,54.848046309696095,54.23299565846599,53.32850940665702,52.6410998552822,53.545586107091175,51.33863965267728,51.62807525325615,51.66425470332851,51.447178002894354,51.230101302460206,50.68740955137482,48.33574529667149,49.60202604920405,48.26338639652677,47.9739507959479,48.01013024602026,46.7438494934877,47.93777134587554,46.9247467438495,45.62228654124457,46.9247467438495,46.852387843704776,46.34587554269175,45.803183791606365,46.164978292329955],\"yaxis\":\"y\",\"type\":\"scattergl\"},{\"hovertemplate\":\"cohort_week=2022-07-11<br>week_num=%{x}<br>value=%{y}<extra></extra>\",\"legendgroup\":\"2022-07-11\",\"line\":{\"color\":\"#FF7F0E\",\"dash\":\"solid\"},\"marker\":{\"symbol\":\"circle\"},\"mode\":\"lines\",\"name\":\"2022-07-11\",\"showlegend\":true,\"x\":[0,7,14,21,28,35,42,49,56,63,70,77,84,91,98,105,112,119,126,133,140,147,154,161,168,175,182,189,196,203,210,217,224,231,238,245,252,259,266,273,280,287,294,301,308,315,322,329,336,343,350,357],\"xaxis\":\"x\",\"y\":[100.0,92.13847818247386,87.81103498016589,84.38514244500541,81.35593220338983,77.35304724125496,75.47782185358817,73.92715470609448,72.0519293184277,70.4652001442481,70.2127659574468,66.64262531554273,67.32780382257482,64.87558600793365,64.55102776776054,63.86584926072845,62.31518211323476,61.882437793003966,61.41363144608727,59.79084024522178,59.249909844933285,56.401009736747206,57.91561485755499,56.25676163000361,56.6534439235485,54.20122610890732,54.20122610890732,55.030652722683016,53.22755138838803,54.48972232239452,52.72268301478543,51.56869816083664,50.99170573386224,51.53263613415074,51.49657410746484,50.99170573386224,51.67688424089434,49.98196898665705,50.30652722683015,48.10674359899026,48.46736386584926,48.070681572304366,47.74612333213127,47.34944103858637,46.26758023800937,45.79877389109268,46.59213847818248,47.529751172015864,46.01514605120808,44.752975117201586,45.11359538406058,null],\"yaxis\":\"y\",\"type\":\"scattergl\"},{\"hovertemplate\":\"cohort_week=2022-07-18<br>week_num=%{x}<br>value=%{y}<extra></extra>\",\"legendgroup\":\"2022-07-18\",\"line\":{\"color\":\"#2CA02C\",\"dash\":\"solid\"},\"marker\":{\"symbol\":\"circle\"},\"mode\":\"lines\",\"name\":\"2022-07-18\",\"showlegend\":true,\"x\":[0,7,14,21,28,35,42,49,56,63,70,77,84,91,98,105,112,119,126,133,140,147,154,161,168,175,182,189,196,203,210,217,224,231,238,245,252,259,266,273,280,287,294,301,308,315,322,329,336,343,350,357],\"xaxis\":\"x\",\"y\":[100.0,93.29224075416968,87.99854967367658,84.59028281363307,81.47208121827411,77.88252356780275,76.90355329949239,73.821609862219,72.26250906453951,71.1022480058013,68.85424220449602,68.34662799129804,67.98404641044235,64.53952139231328,65.04713560551124,63.41551849166062,62.472806381435824,60.84118926758521,61.493836113125454,57.577955039883975,58.81073241479333,58.484408992023205,57.432922407541696,56.92530819434373,56.889050036258155,55.43872371283539,55.547498187092096,53.662073966642495,53.26323422770123,53.87962291515591,53.87962291515591,52.42929659173314,52.03045685279188,52.53807106598985,52.57432922407542,50.90645395213923,49.60116026105874,48.51341551849166,50.36258158085569,49.60116026105874,50.108774474256705,47.244379985496735,47.49818709209572,47.49818709209572,48.912255257432925,47.57070340826686,46.99057287889775,47.244379985496735,46.51921682378535,45.54024655547498,null,null],\"yaxis\":\"y\",\"type\":\"scattergl\"},{\"hovertemplate\":\"cohort_week=2022-07-25<br>week_num=%{x}<br>value=%{y}<extra></extra>\",\"legendgroup\":\"2022-07-25\",\"line\":{\"color\":\"#D62728\",\"dash\":\"solid\"},\"marker\":{\"symbol\":\"circle\"},\"mode\":\"lines\",\"name\":\"2022-07-25\",\"showlegend\":true,\"x\":[0,7,14,21,28,35,42,49,56,63,70,77,84,91,98,105,112,119,126,133,140,147,154,161,168,175,182,189,196,203,210,217,224,231,238,245,252,259,266,273,280,287,294,301,308,315,322,329,336,343,350,357],\"xaxis\":\"x\",\"y\":[100.0,93.65482233502539,87.56345177664974,84.37273386511966,80.4205946337926,81.10949963741842,75.56200145032632,73.02393038433648,71.28353879622915,70.5221174764322,68.31036983321248,66.67875271936185,67.47643219724438,65.37345902828136,64.03190717911531,64.57577955039883,62.72661348803481,61.24002900652647,60.91370558375635,60.2610587382161,60.55112400290065,59.20957215373459,58.08556925308194,56.598984771573605,56.09137055837564,55.692530819434374,54.67730239303843,55.22117476432197,53.662073966642495,53.19071791153009,52.755620014503265,53.7708484408992,52.828136330674404,51.776649746192895,50.797679477882525,50.68890500362581,50.65264684554025,50.725163161711386,51.37781000725163,49.56490210297317,47.49818709209572,51.160261058738215,49.057287889775196,49.02102973168963,47.46192893401015,48.223350253807105,47.28063814358231,48.87599709934735,47.28063814358231,null,null,null],\"yaxis\":\"y\",\"type\":\"scattergl\"},{\"hovertemplate\":\"cohort_week=2022-08-01<br>week_num=%{x}<br>value=%{y}<extra></extra>\",\"legendgroup\":\"2022-08-01\",\"line\":{\"color\":\"#9467BD\",\"dash\":\"solid\"},\"marker\":{\"symbol\":\"circle\"},\"mode\":\"lines\",\"name\":\"2022-08-01\",\"showlegend\":true,\"x\":[0,7,14,21,28,35,42,49,56,63,70,77,84,91,98,105,112,119,126,133,140,147,154,161,168,175,182,189,196,203,210,217,224,231,238,245,252,259,266,273,280,287,294,301,308,315,322,329,336,343,350,357],\"xaxis\":\"x\",\"y\":[100.0,92.38741958541816,87.240886347391,83.80986418870621,81.55825589706933,79.12794853466762,76.12580414581844,75.16082916368835,72.48034310221587,70.90779127948535,69.51393852751966,69.83559685489635,66.79771265189422,66.08291636883489,65.29664045746962,64.33166547533953,63.795568263045034,62.580414581844174,60.650464617583985,59.61401000714796,58.89921372408863,57.04074338813438,57.75553967119371,56.93352394567548,57.04074338813438,56.43316654753395,54.53895639742673,55.28949249463903,53.502501786990706,53.538241601143675,53.32380271622588,52.50178699070765,52.39456754824875,52.28734810578985,51.28663330950679,50.78627591136526,50.428877769835594,48.85632594710508,48.391708363116514,47.92709077912795,47.676912080057186,48.391708363116514,48.391708363116514,45.854181558255895,48.92780557541101,47.60543245175125,47.42673338098642,46.10436025732666,null,null,null,null],\"yaxis\":\"y\",\"type\":\"scattergl\"},{\"hovertemplate\":\"cohort_week=2022-08-08<br>week_num=%{x}<br>value=%{y}<extra></extra>\",\"legendgroup\":\"2022-08-08\",\"line\":{\"color\":\"#8C564B\",\"dash\":\"solid\"},\"marker\":{\"symbol\":\"circle\"},\"mode\":\"lines\",\"name\":\"2022-08-08\",\"showlegend\":true,\"x\":[0,7,14,21,28,35,42,49,56,63,70,77,84,91,98,105,112,119,126,133,140,147,154,161,168,175,182,189,196,203,210,217,224,231,238,245,252,259,266,273,280,287,294,301,308,315,322,329,336,343,350,357],\"xaxis\":\"x\",\"y\":[100.0,93.45692475463468,88.113413304253,84.87822609960014,81.46128680479825,78.08069792802617,74.91821155943293,72.7735368956743,72.11922937113776,69.13849509269356,68.44783715012723,69.21119592875318,67.357324609233,65.17629952744457,64.70374409305707,61.50490730643402,63.976735732460924,62.413667757179205,60.8869501999273,59.61468556888404,60.12359142130134,60.268993093420576,56.27044711014177,58.778625954198475,56.01599418393312,55.725190839694655,55.32533624136678,57.651762995274446,54.961832061068705,54.23482370047255,54.05307161032352,53.398764085786986,52.27190112686296,51.399491094147585,52.92620865139949,51.72664485641585,50.708833151581246,48.85496183206107,49.32751726644857,49.836423118865866,50.272628135223556,50.018175209014906,46.63758633224282,51.217739003998545,46.49218466012359,49.036713922210104,46.78298800436205,null,null,null,null,null],\"yaxis\":\"y\",\"type\":\"scattergl\"},{\"hovertemplate\":\"cohort_week=2022-08-15<br>week_num=%{x}<br>value=%{y}<extra></extra>\",\"legendgroup\":\"2022-08-15\",\"line\":{\"color\":\"#E377C2\",\"dash\":\"solid\"},\"marker\":{\"symbol\":\"circle\"},\"mode\":\"lines\",\"name\":\"2022-08-15\",\"showlegend\":true,\"x\":[0,7,14,21,28,35,42,49,56,63,70,77,84,91,98,105,112,119,126,133,140,147,154,161,168,175,182,189,196,203,210,217,224,231,238,245,252,259,266,273,280,287,294,301,308,315,322,329,336,343,350,357],\"xaxis\":\"x\",\"y\":[100.0,92.5233644859813,88.03019410496046,84.43565780014379,81.88353702372395,78.39683680805176,76.52767792954708,73.93961179007908,73.86772106398274,71.06398274622573,69.30265995686557,68.76347951114306,67.0021567217829,65.74406901509705,65.74406901509705,64.05463695183322,62.76060388209921,60.31631919482387,60.2803738317757,61.35873472322071,58.73472322070453,58.30337886412653,56.82961897915169,56.03882099209202,56.074766355140184,57.26096333572969,56.93745506829619,55.427749820273185,53.09130122214234,53.48670021567218,52.731847591660674,52.731847591660674,51.941049604601005,51.6175413371675,51.04241552839684,50.9705248023005,52.12077641984184,50.35945363048167,51.90510424155284,49.20920201294033,48.99352983465133,50.215672178289,47.73544212796549,48.23867721063983,47.16031631919483,45.938173975557156,null,null,null,null,null,null],\"yaxis\":\"y\",\"type\":\"scattergl\"},{\"hovertemplate\":\"cohort_week=2022-08-22<br>week_num=%{x}<br>value=%{y}<extra></extra>\",\"legendgroup\":\"2022-08-22\",\"line\":{\"color\":\"#7F7F7F\",\"dash\":\"solid\"},\"marker\":{\"symbol\":\"circle\"},\"mode\":\"lines\",\"name\":\"2022-08-22\",\"showlegend\":true,\"x\":[0,7,14,21,28,35,42,49,56,63,70,77,84,91,98,105,112,119,126,133,140,147,154,161,168,175,182,189,196,203,210,217,224,231,238,245,252,259,266,273,280,287,294,301,308,315,322,329,336,343,350,357],\"xaxis\":\"x\",\"y\":[100.0,93.12092686459087,88.01593048515568,84.64880521361333,80.73859522085445,79.10934105720493,75.81462708182477,73.71469949312093,72.48370745836351,72.88196958725561,68.46488052136134,67.23388848660392,64.98913830557566,65.74945691527878,64.26502534395365,64.55467052860246,63.287472845763936,61.440984793627806,60.897900072411296,59.23244026068067,59.41346850108617,58.363504706734254,58.00144822592324,56.80666183924692,54.055032585083275,55.6480811006517,55.6118754525706,54.92396813902969,54.706734250543086,52.53439536567704,54.091238233164376,52.38957277335264,51.73787110789283,51.81028240405503,51.33960897900072,50.0724112961622,51.19478638667632,50.65170166545981,49.746560463432296,49.022447501810284,50.0724112961622,48.443157132512674,47.79145546705286,48.18971759594497,49.38450398262129,null,null,null,null,null,null,null],\"yaxis\":\"y\",\"type\":\"scattergl\"},{\"hovertemplate\":\"cohort_week=2022-08-29<br>week_num=%{x}<br>value=%{y}<extra></extra>\",\"legendgroup\":\"2022-08-29\",\"line\":{\"color\":\"#BCBD22\",\"dash\":\"solid\"},\"marker\":{\"symbol\":\"circle\"},\"mode\":\"lines\",\"name\":\"2022-08-29\",\"showlegend\":true,\"x\":[0,7,14,21,28,35,42,49,56,63,70,77,84,91,98,105,112,119,126,133,140,147,154,161,168,175,182,189,196,203,210,217,224,231,238,245,252,259,266,273,280,287,294,301,308,315,322,329,336,343,350,357],\"xaxis\":\"x\",\"y\":[100.0,92.89752650176679,87.34982332155477,83.46289752650176,81.2720848056537,78.09187279151944,75.0530035335689,73.53356890459364,73.35689045936395,71.30742049469964,69.82332155477032,68.33922261484099,66.113074204947,66.85512367491167,65.19434628975264,63.35689045936396,62.19081272084806,61.51943462897526,60.10600706713781,61.37809187279152,60.35335689045937,58.763250883392224,57.420494699646646,57.70318021201413,55.477031802120145,55.44169611307421,56.85512367491166,54.381625441696116,53.18021201413428,53.42756183745583,55.54770318021201,52.36749116607774,51.87279151943463,52.226148409893995,50.24734982332156,51.37809187279152,50.84805653710247,50.56537102473498,48.72791519434629,48.93992932862191,49.32862190812721,47.73851590106007,47.879858657243815,48.303886925795055,null,null,null,null,null,null,null,null],\"yaxis\":\"y\",\"type\":\"scattergl\"},{\"hovertemplate\":\"cohort_week=2022-09-05<br>week_num=%{x}<br>value=%{y}<extra></extra>\",\"legendgroup\":\"2022-09-05\",\"line\":{\"color\":\"#17BECF\",\"dash\":\"solid\"},\"marker\":{\"symbol\":\"circle\"},\"mode\":\"lines\",\"name\":\"2022-09-05\",\"showlegend\":true,\"x\":[0,7,14,21,28,35,42,49,56,63,70,77,84,91,98,105,112,119,126,133,140,147,154,161,168,175,182,189,196,203,210,217,224,231,238,245,252,259,266,273,280,287,294,301,308,315,322,329,336,343,350,357],\"xaxis\":\"x\",\"y\":[100.0,93.00977906555596,87.75805867439334,84.06374501992032,81.31111915972474,78.66714958348425,76.60268018833756,74.13980441868888,71.3871785584933,71.56827236508511,68.63455269829772,66.71495834842449,65.88192683810213,65.26620789568997,63.9623324882289,62.62223831944947,62.11517566099239,62.54980079681275,60.66642520825788,58.92792466497646,59.79717493661717,59.7609561752988,57.58783049619703,57.73270554147048,57.08076783773995,54.47301702281782,55.63201738500543,56.57370517928287,52.48098515030786,52.553422672944585,52.010141253169145,52.879391524809854,52.517203911626225,52.62586019558131,51.79282868525896,52.26367258239768,50.41651575516117,49.04020282506338,49.329952915610285,50.05432814197754,49.18507787033683,48.9315465411083,49.329952915610285,null,null,null,null,null,null,null,null,null],\"yaxis\":\"y\",\"type\":\"scattergl\"},{\"hovertemplate\":\"cohort_week=2022-09-12<br>week_num=%{x}<br>value=%{y}<extra></extra>\",\"legendgroup\":\"2022-09-12\",\"line\":{\"color\":\"#1F77B4\",\"dash\":\"solid\"},\"marker\":{\"symbol\":\"circle\"},\"mode\":\"lines\",\"name\":\"2022-09-12\",\"showlegend\":true,\"x\":[0,7,14,21,28,35,42,49,56,63,70,77,84,91,98,105,112,119,126,133,140,147,154,161,168,175,182,189,196,203,210,217,224,231,238,245,252,259,266,273,280,287,294,301,308,315,322,329,336,343,350,357],\"xaxis\":\"x\",\"y\":[100.0,92.995966263293,88.63219655298863,86.13861386138613,80.30803080308031,79.24459112577925,75.9075907590759,73.7073707370737,70.993766043271,70.44371103777044,69.74697469746975,68.20682068206821,66.15328199486615,66.7033370003667,64.64979831316465,61.972863953061974,62.33956729006234,62.04620462046205,62.00953428676201,60.68940227356069,58.37917125045838,59.772643931059775,57.53575357535754,59.22258892555922,56.1056105610561,56.61899523285662,56.692335900256694,54.85881921525486,52.91529152915292,53.61202786945361,53.31866519985332,54.198753208654196,51.59515951595159,51.77851118445178,52.25522552255226,50.97176384305097,51.81518151815182,49.834983498349835,49.90832416574991,49.13824715804914,49.394939493949394,48.03813714704804,null,null,null,null,null,null,null,null,null,null],\"yaxis\":\"y\",\"type\":\"scattergl\"},{\"hovertemplate\":\"cohort_week=2022-09-19<br>week_num=%{x}<br>value=%{y}<extra></extra>\",\"legendgroup\":\"2022-09-19\",\"line\":{\"color\":\"#FF7F0E\",\"dash\":\"solid\"},\"marker\":{\"symbol\":\"circle\"},\"mode\":\"lines\",\"name\":\"2022-09-19\",\"showlegend\":true,\"x\":[0,7,14,21,28,35,42,49,56,63,70,77,84,91,98,105,112,119,126,133,140,147,154,161,168,175,182,189,196,203,210,217,224,231,238,245,252,259,266,273,280,287,294,301,308,315,322,329,336,343,350,357],\"xaxis\":\"x\",\"y\":[100.0,94.40057430007178,86.71931083991386,83.05814788226849,80.18664752333095,79.10983488872937,75.34099066762383,74.58722182340273,71.71572146446519,70.24407753050968,70.38765254845657,68.30581478822685,66.97774587221824,66.1521895190237,64.50107681263461,63.388370423546306,63.28068916008615,60.588657573582196,61.629576453697055,60.98348887293611,60.229720028715,57.35821966977746,55.778894472361806,57.250538406317304,56.4967695620962,56.066044508255565,56.712132089016514,53.48169418521177,53.912419239052404,55.02512562814071,53.84063173007897,52.36898779612348,52.835606604450824,52.15362526920316,50.53840631730079,50.897343862167986,50.10768126346016,53.015075376884425,52.15362526920316,49.0667623833453,50.57430007178751,null,null,null,null,null,null,null,null,null,null,null],\"yaxis\":\"y\",\"type\":\"scattergl\"},{\"hovertemplate\":\"cohort_week=2022-09-26<br>week_num=%{x}<br>value=%{y}<extra></extra>\",\"legendgroup\":\"2022-09-26\",\"line\":{\"color\":\"#2CA02C\",\"dash\":\"solid\"},\"marker\":{\"symbol\":\"circle\"},\"mode\":\"lines\",\"name\":\"2022-09-26\",\"showlegend\":true,\"x\":[0,7,14,21,28,35,42,49,56,63,70,77,84,91,98,105,112,119,126,133,140,147,154,161,168,175,182,189,196,203,210,217,224,231,238,245,252,259,266,273,280,287,294,301,308,315,322,329,336,343,350,357],\"xaxis\":\"x\",\"y\":[100.0,93.28277356446371,89.05742145178765,83.8569880823402,82.05128205128206,78.36764174792344,76.85084868183459,74.86457204767063,72.98663777537017,70.85590465872156,69.01408450704226,68.50848681834597,68.11123149151318,66.26941133983388,64.06644998194294,62.8385698808234,62.33297219212712,62.94691224268689,62.76634163958108,61.14120621162875,59.479956663055255,59.37161430119177,57.63813651137595,56.59082701336222,58.57710364752618,57.999277717587574,55.03791982665222,54.85734922354641,54.2795232936078,54.49620801733478,52.50993138317082,54.02672444925966,53.7016973636692,51.570964247020584,50.45142650776454,50.92091007583965,51.354279523293606,50.30697002527988,50.09028530155291,50.84868183459733,null,null,null,null,null,null,null,null,null,null,null,null],\"yaxis\":\"y\",\"type\":\"scattergl\"},{\"hovertemplate\":\"cohort_week=2022-10-03<br>week_num=%{x}<br>value=%{y}<extra></extra>\",\"legendgroup\":\"2022-10-03\",\"line\":{\"color\":\"#D62728\",\"dash\":\"solid\"},\"marker\":{\"symbol\":\"circle\"},\"mode\":\"lines\",\"name\":\"2022-10-03\",\"showlegend\":true,\"x\":[0,7,14,21,28,35,42,49,56,63,70,77,84,91,98,105,112,119,126,133,140,147,154,161,168,175,182,189,196,203,210,217,224,231,238,245,252,259,266,273,280,287,294,301,308,315,322,329,336,343,350,357],\"xaxis\":\"x\",\"y\":[100.0,93.17604355716878,88.42105263157895,84.13793103448276,82.28675136116152,78.91107078039927,77.13248638838475,75.35390199637024,72.92196007259528,71.21597096188748,69.58257713248639,67.40471869328493,66.9328493647913,67.04174228675136,65.0453720508167,63.774954627949185,63.41197822141561,63.5934664246824,60.254083484573506,61.560798548094375,59.600725952813065,58.83847549909256,61.08892921960073,59.491833030852995,56.55172413793103,56.55172413793103,55.8983666061706,54.990925589836664,54.88203266787659,52.813067150635206,54.37386569872958,54.37386569872958,52.45009074410164,52.3049001814882,52.704174228675136,50.70780399274047,52.23230490018149,52.63157894736842,50.09074410163339,null,null,null,null,null,null,null,null,null,null,null,null,null],\"yaxis\":\"y\",\"type\":\"scattergl\"},{\"hovertemplate\":\"cohort_week=2022-10-10<br>week_num=%{x}<br>value=%{y}<extra></extra>\",\"legendgroup\":\"2022-10-10\",\"line\":{\"color\":\"#9467BD\",\"dash\":\"solid\"},\"marker\":{\"symbol\":\"circle\"},\"mode\":\"lines\",\"name\":\"2022-10-10\",\"showlegend\":true,\"x\":[0,7,14,21,28,35,42,49,56,63,70,77,84,91,98,105,112,119,126,133,140,147,154,161,168,175,182,189,196,203,210,217,224,231,238,245,252,259,266,273,280,287,294,301,308,315,322,329,336,343,350,357],\"xaxis\":\"x\",\"y\":[100.0,92.9938605994944,89.23799205489347,85.55435175153485,82.84579270494764,78.04261466233297,77.39256049115204,75.55074033947274,72.62549656915854,70.78367641747923,68.03900325027085,68.79739978331527,67.13615023474179,66.30552546045504,63.48862405200433,63.271939328277355,62.62188515709642,63.01914048392921,61.79126038280968,58.721560130010836,60.491152040447815,56.374142289635245,58.90213073311665,58.54098952690502,55.218490429758035,56.30191404839292,55.86854460093897,55.362946912242684,52.834958468761286,54.604550379198265,55.29071867100036,52.54604550379198,52.582159624413144,53.37667027807873,52.07656193571687,52.293246659443845,51.7515348501264,51.24593716143012,null,null,null,null,null,null,null,null,null,null,null,null,null,null],\"yaxis\":\"y\",\"type\":\"scattergl\"},{\"hovertemplate\":\"cohort_week=2022-10-17<br>week_num=%{x}<br>value=%{y}<extra></extra>\",\"legendgroup\":\"2022-10-17\",\"line\":{\"color\":\"#8C564B\",\"dash\":\"solid\"},\"marker\":{\"symbol\":\"circle\"},\"mode\":\"lines\",\"name\":\"2022-10-17\",\"showlegend\":true,\"x\":[0,7,14,21,28,35,42,49,56,63,70,77,84,91,98,105,112,119,126,133,140,147,154,161,168,175,182,189,196,203,210,217,224,231,238,245,252,259,266,273,280,287,294,301,308,315,322,329,336,343,350,357],\"xaxis\":\"x\",\"y\":[100.0,92.6811852909675,88.11138878971796,84.25562299178864,80.8996786861835,78.90039271688683,78.22206354873259,75.33023920028562,73.79507318814709,72.15280257051053,70.93895037486612,69.68939664405569,66.72616922527669,63.62013566583363,65.15530167797215,63.62013566583363,62.44198500535523,61.977865048197074,62.22777579435916,59.692966797572296,60.228489825062475,59.15744377008211,57.943591574437704,57.97929310960371,58.47911460192788,56.62263477329525,54.58764726883256,55.26597643698679,54.15922884684041,54.766154944662624,55.5872902534809,52.69546590503391,51.80292752588361,51.7672259907176,51.41021063905748,52.55265976436987,50.76758300606926,null,null,null,null,null,null,null,null,null,null,null,null,null,null,null],\"yaxis\":\"y\",\"type\":\"scattergl\"},{\"hovertemplate\":\"cohort_week=2022-10-24<br>week_num=%{x}<br>value=%{y}<extra></extra>\",\"legendgroup\":\"2022-10-24\",\"line\":{\"color\":\"#E377C2\",\"dash\":\"solid\"},\"marker\":{\"symbol\":\"circle\"},\"mode\":\"lines\",\"name\":\"2022-10-24\",\"showlegend\":true,\"x\":[0,7,14,21,28,35,42,49,56,63,70,77,84,91,98,105,112,119,126,133,140,147,154,161,168,175,182,189,196,203,210,217,224,231,238,245,252,259,266,273,280,287,294,301,308,315,322,329,336,343,350,357],\"xaxis\":\"x\",\"y\":[100.0,93.62870743317467,88.31929696082021,84.21823507872574,79.78762358110582,79.677773709264,75.24716221164408,76.05272793848407,72.13474917612596,71.21933357744416,70.74331746612962,69.09556938850238,67.26473819113878,65.06774075430245,65.32405712193336,63.38337605272794,63.09044306114976,61.80886122299524,62.980593189307946,59.428780666422554,58.76968143537166,60.197729769315266,58.76968143537166,58.25704870010985,56.975466861955326,57.414866349322594,55.62065177590626,56.023434639326254,55.510801904064444,55.03478579274991,53.67997070670084,52.874404979860856,54.33906993775174,53.20395459538631,51.51958989381179,53.313804467228124,null,null,null,null,null,null,null,null,null,null,null,null,null,null,null,null],\"yaxis\":\"y\",\"type\":\"scattergl\"},{\"hovertemplate\":\"cohort_week=2022-10-31<br>week_num=%{x}<br>value=%{y}<extra></extra>\",\"legendgroup\":\"2022-10-31\",\"line\":{\"color\":\"#7F7F7F\",\"dash\":\"solid\"},\"marker\":{\"symbol\":\"circle\"},\"mode\":\"lines\",\"name\":\"2022-10-31\",\"showlegend\":true,\"x\":[0,7,14,21,28,35,42,49,56,63,70,77,84,91,98,105,112,119,126,133,140,147,154,161,168,175,182,189,196,203,210,217,224,231,238,245,252,259,266,273,280,287,294,301,308,315,322,329,336,343,350,357],\"xaxis\":\"x\",\"y\":[100.0,92.76363636363637,87.52727272727273,83.41818181818182,81.89090909090909,78.2909090909091,77.30909090909091,75.34545454545454,73.96363636363637,70.54545454545455,69.12727272727273,68.65454545454546,68.03636363636363,66.98181818181818,65.85454545454546,64.03636363636363,63.09090909090909,64.21818181818182,61.27272727272727,61.163636363636364,59.81818181818182,60.4,57.49090909090909,60.472727272727276,57.27272727272727,56.36363636363637,56.763636363636365,55.054545454545455,55.30909090909091,54.18181818181818,53.345454545454544,54.21818181818182,54.03636363636364,53.27272727272727,51.054545454545455,null,null,null,null,null,null,null,null,null,null,null,null,null,null,null,null,null],\"yaxis\":\"y\",\"type\":\"scattergl\"},{\"hovertemplate\":\"cohort_week=2022-11-07<br>week_num=%{x}<br>value=%{y}<extra></extra>\",\"legendgroup\":\"2022-11-07\",\"line\":{\"color\":\"#BCBD22\",\"dash\":\"solid\"},\"marker\":{\"symbol\":\"circle\"},\"mode\":\"lines\",\"name\":\"2022-11-07\",\"showlegend\":true,\"x\":[0,7,14,21,28,35,42,49,56,63,70,77,84,91,98,105,112,119,126,133,140,147,154,161,168,175,182,189,196,203,210,217,224,231,238,245,252,259,266,273,280,287,294,301,308,315,322,329,336,343,350,357],\"xaxis\":\"x\",\"y\":[100.0,93.15673289183223,88.0794701986755,83.33333333333333,82.04562178072112,78.62398822663724,77.48344370860927,74.50331125827815,72.95805739514348,71.96467991169978,69.97792494481236,68.54304635761589,66.18837380426784,66.59308314937454,65.8204562178072,64.45916114790288,63.39220014716703,62.28844738778513,62.178072111846944,60.19131714495953,59.19793966151582,59.30831493745401,57.28476821192053,57.98381162619573,56.95364238410596,54.893303899926416,55.003679175864605,55.55555555555556,53.311258278145694,54.63576158940398,54.7093451066961,52.428256070640174,52.86975717439294,54.15746872700515,null,null,null,null,null,null,null,null,null,null,null,null,null,null,null,null,null,null],\"yaxis\":\"y\",\"type\":\"scattergl\"},{\"hovertemplate\":\"cohort_week=2022-11-14<br>week_num=%{x}<br>value=%{y}<extra></extra>\",\"legendgroup\":\"2022-11-14\",\"line\":{\"color\":\"#17BECF\",\"dash\":\"solid\"},\"marker\":{\"symbol\":\"circle\"},\"mode\":\"lines\",\"name\":\"2022-11-14\",\"showlegend\":true,\"x\":[0,7,14,21,28,35,42,49,56,63,70,77,84,91,98,105,112,119,126,133,140,147,154,161,168,175,182,189,196,203,210,217,224,231,238,245,252,259,266,273,280,287,294,301,308,315,322,329,336,343,350,357],\"xaxis\":\"x\",\"y\":[100.0,92.11287988422576,87.87988422575977,84.98552821997106,81.04196816208393,78.61794500723589,77.2069464544139,74.49348769898698,74.05933429811867,71.34587554269176,69.79015918958032,67.22141823444284,67.43849493487699,65.59334298118668,66.75108538350217,64.58031837916063,63.27785817655572,63.63965267727931,60.89001447178003,61.28798842257598,58.39363241678726,59.153400868306804,56.76555716353111,56.801736613603474,57.99565846599132,57.199710564399425,56.00578871201158,55.64399421128799,54.160636758321274,54.08827785817655,53.32850940665702,53.473227206946454,53.219971056439945,null,null,null,null,null,null,null,null,null,null,null,null,null,null,null,null,null,null,null],\"yaxis\":\"y\",\"type\":\"scattergl\"},{\"hovertemplate\":\"cohort_week=2022-11-21<br>week_num=%{x}<br>value=%{y}<extra></extra>\",\"legendgroup\":\"2022-11-21\",\"line\":{\"color\":\"#1F77B4\",\"dash\":\"solid\"},\"marker\":{\"symbol\":\"circle\"},\"mode\":\"lines\",\"name\":\"2022-11-21\",\"showlegend\":true,\"x\":[0,7,14,21,28,35,42,49,56,63,70,77,84,91,98,105,112,119,126,133,140,147,154,161,168,175,182,189,196,203,210,217,224,231,238,245,252,259,266,273,280,287,294,301,308,315,322,329,336,343,350,357],\"xaxis\":\"x\",\"y\":[100.0,91.98404062386652,87.55894087776569,84.40333696046427,80.70366340224882,78.4911135291984,75.95212187159956,74.0297424737033,73.1955023576351,72.506347479144,71.67210736307581,67.89989118607181,67.82734856728328,65.97751178817555,66.30395357272397,63.80123322451941,63.91004715270221,63.80123322451941,63.32970620239391,61.262241566920565,59.630032644178456,58.54189336235038,59.04969169387015,55.930359085963005,57.52629669931085,56.69205658324265,56.546971345665575,55.82154515778019,55.42256075444323,54.660863257163584,54.8784911135292,52.629669931084514,null,null,null,null,null,null,null,null,null,null,null,null,null,null,null,null,null,null,null,null],\"yaxis\":\"y\",\"type\":\"scattergl\"},{\"hovertemplate\":\"cohort_week=2022-11-28<br>week_num=%{x}<br>value=%{y}<extra></extra>\",\"legendgroup\":\"2022-11-28\",\"line\":{\"color\":\"#FF7F0E\",\"dash\":\"solid\"},\"marker\":{\"symbol\":\"circle\"},\"mode\":\"lines\",\"name\":\"2022-11-28\",\"showlegend\":true,\"x\":[0,7,14,21,28,35,42,49,56,63,70,77,84,91,98,105,112,119,126,133,140,147,154,161,168,175,182,189,196,203,210,217,224,231,238,245,252,259,266,273,280,287,294,301,308,315,322,329,336,343,350,357],\"xaxis\":\"x\",\"y\":[100.0,92.25378089265953,88.15935079306529,83.62227960162302,80.92954629288086,79.60162301733678,77.42530431575065,76.17115455551458,72.63002582073035,69.93729251198819,70.37993360383622,70.0479527849502,67.17078568793804,64.81003319808188,65.84286241239396,64.21984507561785,61.23201770564367,63.814090741423826,61.195130947989675,60.82626337144965,59.12947251936555,58.42862412393951,57.469568424935446,57.54334194024345,56.6580597565474,56.32607893766138,56.47362596827739,56.6211729988934,54.297307266691256,54.703061600885285,55.0350424197713,null,null,null,null,null,null,null,null,null,null,null,null,null,null,null,null,null,null,null,null,null],\"yaxis\":\"y\",\"type\":\"scattergl\"},{\"hovertemplate\":\"cohort_week=2022-12-05<br>week_num=%{x}<br>value=%{y}<extra></extra>\",\"legendgroup\":\"2022-12-05\",\"line\":{\"color\":\"#2CA02C\",\"dash\":\"solid\"},\"marker\":{\"symbol\":\"circle\"},\"mode\":\"lines\",\"name\":\"2022-12-05\",\"showlegend\":true,\"x\":[0,7,14,21,28,35,42,49,56,63,70,77,84,91,98,105,112,119,126,133,140,147,154,161,168,175,182,189,196,203,210,217,224,231,238,245,252,259,266,273,280,287,294,301,308,315,322,329,336,343,350,357],\"xaxis\":\"x\",\"y\":[100.0,93.27338129496403,87.66187050359713,84.02877697841727,81.22302158273381,78.88489208633094,77.55395683453237,76.22302158273381,71.36690647482014,70.57553956834532,70.46762589928058,69.49640287769785,66.33093525179856,65.79136690647482,65.46762589928058,63.273381294964025,63.81294964028777,63.05755395683453,61.223021582733814,62.302158273381295,60.431654676258994,59.82014388489208,57.0863309352518,57.05035971223022,55.97122302158273,56.618705035971225,56.618705035971225,54.460431654676256,54.96402877697842,56.54676258992806,null,null,null,null,null,null,null,null,null,null,null,null,null,null,null,null,null,null,null,null,null,null],\"yaxis\":\"y\",\"type\":\"scattergl\"},{\"hovertemplate\":\"cohort_week=2022-12-12<br>week_num=%{x}<br>value=%{y}<extra></extra>\",\"legendgroup\":\"2022-12-12\",\"line\":{\"color\":\"#D62728\",\"dash\":\"solid\"},\"marker\":{\"symbol\":\"circle\"},\"mode\":\"lines\",\"name\":\"2022-12-12\",\"showlegend\":true,\"x\":[0,7,14,21,28,35,42,49,56,63,70,77,84,91,98,105,112,119,126,133,140,147,154,161,168,175,182,189,196,203,210,217,224,231,238,245,252,259,266,273,280,287,294,301,308,315,322,329,336,343,350,357],\"xaxis\":\"x\",\"y\":[100.0,92.47982391782833,88.11445341159208,84.7028613352898,82.53851797505503,80.92443140132062,78.53998532648569,76.30227439471753,73.03741746148202,70.72633895818048,73.18415260454879,70.2127659574468,69.002201027146,66.43433602347763,66.06749816581072,65.66397652237711,65.07703595011004,63.93983859134263,63.49963316214233,62.47248716067498,61.88554658840793,58.62068965517241,59.244314013206164,58.51063829787234,59.757887013939836,58.767424798239176,57.96038151137197,56.16287600880411,57.19002201027146,null,null,null,null,null,null,null,null,null,null,null,null,null,null,null,null,null,null,null,null,null,null,null],\"yaxis\":\"y\",\"type\":\"scattergl\"},{\"hovertemplate\":\"cohort_week=2022-12-19<br>week_num=%{x}<br>value=%{y}<extra></extra>\",\"legendgroup\":\"2022-12-19\",\"line\":{\"color\":\"#9467BD\",\"dash\":\"solid\"},\"marker\":{\"symbol\":\"circle\"},\"mode\":\"lines\",\"name\":\"2022-12-19\",\"showlegend\":true,\"x\":[0,7,14,21,28,35,42,49,56,63,70,77,84,91,98,105,112,119,126,133,140,147,154,161,168,175,182,189,196,203,210,217,224,231,238,245,252,259,266,273,280,287,294,301,308,315,322,329,336,343,350,357],\"xaxis\":\"x\",\"y\":[100.0,95.92211609110947,93.09331373989714,91.29316678912565,89.41954445260838,87.65613519470978,84.97428361498898,83.90889052167523,84.09257898603968,81.70462894930198,81.15356355620867,78.76561351947097,79.5738427626745,76.70830271858927,76.48787656135195,75.53269654665687,74.2836149889787,75.01836884643645,73.84276267450404,73.91623806024981,71.93240264511388,72.85084496693608,72.15282880235121,70.49963262307128,70.94048493754592,69.58119030124908,68.47905951506246,69.47097722263042,null,null,null,null,null,null,null,null,null,null,null,null,null,null,null,null,null,null,null,null,null,null,null,null],\"yaxis\":\"y\",\"type\":\"scattergl\"},{\"hovertemplate\":\"cohort_week=2022-12-26<br>week_num=%{x}<br>value=%{y}<extra></extra>\",\"legendgroup\":\"2022-12-26\",\"line\":{\"color\":\"#8C564B\",\"dash\":\"solid\"},\"marker\":{\"symbol\":\"circle\"},\"mode\":\"lines\",\"name\":\"2022-12-26\",\"showlegend\":true,\"x\":[0,7,14,21,28,35,42,49,56,63,70,77,84,91,98,105,112,119,126,133,140,147,154,161,168,175,182,189,196,203,210,217,224,231,238,245,252,259,266,273,280,287,294,301,308,315,322,329,336,343,350,357],\"xaxis\":\"x\",\"y\":[100.0,96.17764834364762,93.3017837641063,90.93556607207863,89.33381871132144,88.53294503094284,86.38514743356389,83.40007280669822,82.89042591918457,82.48998907899527,81.03385511467054,81.25227520931925,78.48562067710229,79.97815799053512,76.41062977793958,75.97378958864215,76.73825991991264,74.66326902074991,75.13651255915545,75.20931925737167,73.17073170731707,71.75100109210047,72.87950491445213,72.66108481980342,71.89661448853295,69.5668001456134,70.84091736439753,null,null,null,null,null,null,null,null,null,null,null,null,null,null,null,null,null,null,null,null,null,null,null,null,null],\"yaxis\":\"y\",\"type\":\"scattergl\"},{\"hovertemplate\":\"cohort_week=2023-01-02<br>week_num=%{x}<br>value=%{y}<extra></extra>\",\"legendgroup\":\"2023-01-02\",\"line\":{\"color\":\"#E377C2\",\"dash\":\"solid\"},\"marker\":{\"symbol\":\"circle\"},\"mode\":\"lines\",\"name\":\"2023-01-02\",\"showlegend\":true,\"x\":[0,7,14,21,28,35,42,49,56,63,70,77,84,91,98,105,112,119,126,133,140,147,154,161,168,175,182,189,196,203,210,217,224,231,238,245,252,259,266,273,280,287,294,301,308,315,322,329,336,343,350,357],\"xaxis\":\"x\",\"y\":[100.0,96.15384615384616,92.38165680473372,91.42011834319527,88.2396449704142,86.79733727810651,85.53994082840237,85.02218934911242,83.28402366863905,82.58136094674556,79.25295857988165,79.47485207100591,80.06656804733728,78.06952662721893,77.07100591715977,77.58875739644971,75.25887573964496,75.22189349112426,74.55621301775147,75.22189349112426,74.14940828402366,73.07692307692308,72.70710059171597,72.55917159763314,70.71005917159763,71.7085798816568,null,null,null,null,null,null,null,null,null,null,null,null,null,null,null,null,null,null,null,null,null,null,null,null,null,null],\"yaxis\":\"y\",\"type\":\"scattergl\"},{\"hovertemplate\":\"cohort_week=2023-01-09<br>week_num=%{x}<br>value=%{y}<extra></extra>\",\"legendgroup\":\"2023-01-09\",\"line\":{\"color\":\"#7F7F7F\",\"dash\":\"solid\"},\"marker\":{\"symbol\":\"circle\"},\"mode\":\"lines\",\"name\":\"2023-01-09\",\"showlegend\":true,\"x\":[0,7,14,21,28,35,42,49,56,63,70,77,84,91,98,105,112,119,126,133,140,147,154,161,168,175,182,189,196,203,210,217,224,231,238,245,252,259,266,273,280,287,294,301,308,315,322,329,336,343,350,357],\"xaxis\":\"x\",\"y\":[100.0,96.03815113719736,93.98385913426266,91.70946441672781,90.02201027146002,88.44460748349229,84.84959647835656,84.18928833455612,82.61188554658841,82.68525311812179,82.09831254585474,79.60381511371973,79.23697725605282,79.53044754218635,76.55906089508437,76.52237710931769,75.75201760821717,75.1650770359501,75.05502567865004,73.62435803374909,73.25752017608217,72.45047688921497,73.40425531914893,71.79016874541453,71.68011738811445,null,null,null,null,null,null,null,null,null,null,null,null,null,null,null,null,null,null,null,null,null,null,null,null,null,null,null],\"yaxis\":\"y\",\"type\":\"scattergl\"},{\"hovertemplate\":\"cohort_week=2023-01-16<br>week_num=%{x}<br>value=%{y}<extra></extra>\",\"legendgroup\":\"2023-01-16\",\"line\":{\"color\":\"#BCBD22\",\"dash\":\"solid\"},\"marker\":{\"symbol\":\"circle\"},\"mode\":\"lines\",\"name\":\"2023-01-16\",\"showlegend\":true,\"x\":[0,7,14,21,28,35,42,49,56,63,70,77,84,91,98,105,112,119,126,133,140,147,154,161,168,175,182,189,196,203,210,217,224,231,238,245,252,259,266,273,280,287,294,301,308,315,322,329,336,343,350,357],\"xaxis\":\"x\",\"y\":[100.0,96.41288433382138,93.74084919472914,90.7393850658858,89.42166910688141,87.33528550512445,86.78623718887262,85.68814055636896,82.43045387994144,82.57686676427525,81.99121522693997,79.57540263543191,79.02635431918009,79.24597364568082,79.09956076134699,76.7203513909224,76.46412884333822,76.09809663250365,75.0732064421669,73.75549048316252,73.46266471449488,71.63250366032212,71.8887262079063,73.24304538799414,null,null,null,null,null,null,null,null,null,null,null,null,null,null,null,null,null,null,null,null,null,null,null,null,null,null,null,null],\"yaxis\":\"y\",\"type\":\"scattergl\"},{\"hovertemplate\":\"cohort_week=2023-01-23<br>week_num=%{x}<br>value=%{y}<extra></extra>\",\"legendgroup\":\"2023-01-23\",\"line\":{\"color\":\"#17BECF\",\"dash\":\"solid\"},\"marker\":{\"symbol\":\"circle\"},\"mode\":\"lines\",\"name\":\"2023-01-23\",\"showlegend\":true,\"x\":[0,7,14,21,28,35,42,49,56,63,70,77,84,91,98,105,112,119,126,133,140,147,154,161,168,175,182,189,196,203,210,217,224,231,238,245,252,259,266,273,280,287,294,301,308,315,322,329,336,343,350,357],\"xaxis\":\"x\",\"y\":[100.0,95.45112781954887,93.27067669172932,91.84210526315789,89.62406015037594,87.66917293233082,85.45112781954887,85.11278195488721,84.06015037593986,82.44360902255639,81.9172932330827,81.05263157894737,77.44360902255639,79.84962406015038,78.64661654135338,77.40601503759399,76.2406015037594,76.84210526315789,73.04511278195488,73.83458646616542,74.73684210526316,72.93233082706767,72.66917293233082,null,null,null,null,null,null,null,null,null,null,null,null,null,null,null,null,null,null,null,null,null,null,null,null,null,null,null,null,null],\"yaxis\":\"y\",\"type\":\"scattergl\"},{\"hovertemplate\":\"cohort_week=2023-01-30<br>week_num=%{x}<br>value=%{y}<extra></extra>\",\"legendgroup\":\"2023-01-30\",\"line\":{\"color\":\"#1F77B4\",\"dash\":\"solid\"},\"marker\":{\"symbol\":\"circle\"},\"mode\":\"lines\",\"name\":\"2023-01-30\",\"showlegend\":true,\"x\":[0,7,14,21,28,35,42,49,56,63,70,77,84,91,98,105,112,119,126,133,140,147,154,161,168,175,182,189,196,203,210,217,224,231,238,245,252,259,266,273,280,287,294,301,308,315,322,329,336,343,350,357],\"xaxis\":\"x\",\"y\":[100.0,96.66916167664671,93.30089820359281,91.42964071856288,89.44610778443113,87.3877245508982,86.90119760479043,84.4685628742515,84.2814371257485,82.82185628742515,82.37275449101796,80.87574850299401,78.48053892215569,79.15419161676647,76.94610778443113,77.20808383233533,75.37425149700599,74.51347305389221,75.0374251497006,73.87724550898204,73.46556886227545,74.66317365269461,null,null,null,null,null,null,null,null,null,null,null,null,null,null,null,null,null,null,null,null,null,null,null,null,null,null,null,null,null,null],\"yaxis\":\"y\",\"type\":\"scattergl\"},{\"hovertemplate\":\"cohort_week=2023-02-06<br>week_num=%{x}<br>value=%{y}<extra></extra>\",\"legendgroup\":\"2023-02-06\",\"line\":{\"color\":\"#FF7F0E\",\"dash\":\"solid\"},\"marker\":{\"symbol\":\"circle\"},\"mode\":\"lines\",\"name\":\"2023-02-06\",\"showlegend\":true,\"x\":[0,7,14,21,28,35,42,49,56,63,70,77,84,91,98,105,112,119,126,133,140,147,154,161,168,175,182,189,196,203,210,217,224,231,238,245,252,259,266,273,280,287,294,301,308,315,322,329,336,343,350,357],\"xaxis\":\"x\",\"y\":[100.0,96.42992783896696,93.35358906190658,91.6824914546145,89.28978351690087,87.42878845423472,86.93505507026205,84.46638815039879,84.99810102544626,83.63083934675275,81.76984428408659,80.09874667679453,79.49107481959742,78.76946448917585,77.66805924800607,77.09836688188378,77.97189517660463,76.03494113178884,75.23737181921763,75.12343334599316,74.13596657804786,null,null,null,null,null,null,null,null,null,null,null,null,null,null,null,null,null,null,null,null,null,null,null,null,null,null,null,null,null,null,null],\"yaxis\":\"y\",\"type\":\"scattergl\"},{\"hovertemplate\":\"cohort_week=2023-02-13<br>week_num=%{x}<br>value=%{y}<extra></extra>\",\"legendgroup\":\"2023-02-13\",\"line\":{\"color\":\"#2CA02C\",\"dash\":\"solid\"},\"marker\":{\"symbol\":\"circle\"},\"mode\":\"lines\",\"name\":\"2023-02-13\",\"showlegend\":true,\"x\":[0,7,14,21,28,35,42,49,56,63,70,77,84,91,98,105,112,119,126,133,140,147,154,161,168,175,182,189,196,203,210,217,224,231,238,245,252,259,266,273,280,287,294,301,308,315,322,329,336,343,350,357],\"xaxis\":\"x\",\"y\":[100.0,95.99264705882354,93.30882352941177,91.06617647058823,90.11029411764706,87.57352941176471,87.61029411764706,84.44852941176471,83.97058823529412,83.82352941176471,82.31617647058823,80.55147058823529,79.33823529411765,77.57352941176471,77.9779411764706,77.05882352941177,75.95588235294117,75.91911764705883,74.70588235294117,74.5220588235294,null,null,null,null,null,null,null,null,null,null,null,null,null,null,null,null,null,null,null,null,null,null,null,null,null,null,null,null,null,null,null,null],\"yaxis\":\"y\",\"type\":\"scattergl\"},{\"hovertemplate\":\"cohort_week=2023-02-20<br>week_num=%{x}<br>value=%{y}<extra></extra>\",\"legendgroup\":\"2023-02-20\",\"line\":{\"color\":\"#D62728\",\"dash\":\"solid\"},\"marker\":{\"symbol\":\"circle\"},\"mode\":\"lines\",\"name\":\"2023-02-20\",\"showlegend\":true,\"x\":[0,7,14,21,28,35,42,49,56,63,70,77,84,91,98,105,112,119,126,133,140,147,154,161,168,175,182,189,196,203,210,217,224,231,238,245,252,259,266,273,280,287,294,301,308,315,322,329,336,343,350,357],\"xaxis\":\"x\",\"y\":[100.0,95.63745769086123,93.49379465964648,91.04926664159458,89.01842798044378,88.1910492666416,85.14479127491538,86.04738623542686,83.71568258743889,82.51222264009026,80.70703271906731,79.65400526513727,79.1650996615269,78.82662655133508,77.62316660398646,75.40428732606243,77.77359909740504,77.62316660398646,74.99059796916134,null,null,null,null,null,null,null,null,null,null,null,null,null,null,null,null,null,null,null,null,null,null,null,null,null,null,null,null,null,null,null,null,null],\"yaxis\":\"y\",\"type\":\"scattergl\"},{\"hovertemplate\":\"cohort_week=2023-02-27<br>week_num=%{x}<br>value=%{y}<extra></extra>\",\"legendgroup\":\"2023-02-27\",\"line\":{\"color\":\"#9467BD\",\"dash\":\"solid\"},\"marker\":{\"symbol\":\"circle\"},\"mode\":\"lines\",\"name\":\"2023-02-27\",\"showlegend\":true,\"x\":[0,7,14,21,28,35,42,49,56,63,70,77,84,91,98,105,112,119,126,133,140,147,154,161,168,175,182,189,196,203,210,217,224,231,238,245,252,259,266,273,280,287,294,301,308,315,322,329,336,343,350,357],\"xaxis\":\"x\",\"y\":[100.0,95.75645756457564,92.80442804428044,91.36531365313652,89.5940959409594,87.41697416974169,86.38376383763837,85.05535055350553,82.76752767527675,82.2140221402214,81.8450184501845,80.88560885608857,79.96309963099631,76.97416974169742,77.60147601476015,75.46125461254613,76.75276752767527,75.79335793357933,null,null,null,null,null,null,null,null,null,null,null,null,null,null,null,null,null,null,null,null,null,null,null,null,null,null,null,null,null,null,null,null,null,null],\"yaxis\":\"y\",\"type\":\"scattergl\"},{\"hovertemplate\":\"cohort_week=2023-03-06<br>week_num=%{x}<br>value=%{y}<extra></extra>\",\"legendgroup\":\"2023-03-06\",\"line\":{\"color\":\"#8C564B\",\"dash\":\"solid\"},\"marker\":{\"symbol\":\"circle\"},\"mode\":\"lines\",\"name\":\"2023-03-06\",\"showlegend\":true,\"x\":[0,7,14,21,28,35,42,49,56,63,70,77,84,91,98,105,112,119,126,133,140,147,154,161,168,175,182,189,196,203,210,217,224,231,238,245,252,259,266,273,280,287,294,301,308,315,322,329,336,343,350,357],\"xaxis\":\"x\",\"y\":[100.0,95.52294958615501,93.52896914973664,92.24981188863808,89.27765237020316,87.92325056433408,85.59066967644846,85.85402558314522,84.6124905944319,82.91948833709556,81.7155756207675,82.05417607223477,78.63054928517683,78.40481565086532,79.60872836719338,78.29194883370955,77.42663656884876,null,null,null,null,null,null,null,null,null,null,null,null,null,null,null,null,null,null,null,null,null,null,null,null,null,null,null,null,null,null,null,null,null,null,null],\"yaxis\":\"y\",\"type\":\"scattergl\"},{\"hovertemplate\":\"cohort_week=2023-03-13<br>week_num=%{x}<br>value=%{y}<extra></extra>\",\"legendgroup\":\"2023-03-13\",\"line\":{\"color\":\"#E377C2\",\"dash\":\"solid\"},\"marker\":{\"symbol\":\"circle\"},\"mode\":\"lines\",\"name\":\"2023-03-13\",\"showlegend\":true,\"x\":[0,7,14,21,28,35,42,49,56,63,70,77,84,91,98,105,112,119,126,133,140,147,154,161,168,175,182,189,196,203,210,217,224,231,238,245,252,259,266,273,280,287,294,301,308,315,322,329,336,343,350,357],\"xaxis\":\"x\",\"y\":[100.0,96.21802002224695,92.54727474972191,91.69447534297367,89.95179829440119,87.87541713014461,85.02039302929181,85.24286243974787,83.05524657026325,83.35187245087134,81.01594364108269,80.16314423433444,80.3485354097145,79.42157953281423,76.86318131256952,76.60363366703744,null,null,null,null,null,null,null,null,null,null,null,null,null,null,null,null,null,null,null,null,null,null,null,null,null,null,null,null,null,null,null,null,null,null,null,null],\"yaxis\":\"y\",\"type\":\"scattergl\"},{\"hovertemplate\":\"cohort_week=2023-03-20<br>week_num=%{x}<br>value=%{y}<extra></extra>\",\"legendgroup\":\"2023-03-20\",\"line\":{\"color\":\"#7F7F7F\",\"dash\":\"solid\"},\"marker\":{\"symbol\":\"circle\"},\"mode\":\"lines\",\"name\":\"2023-03-20\",\"showlegend\":true,\"x\":[0,7,14,21,28,35,42,49,56,63,70,77,84,91,98,105,112,119,126,133,140,147,154,161,168,175,182,189,196,203,210,217,224,231,238,245,252,259,266,273,280,287,294,301,308,315,322,329,336,343,350,357],\"xaxis\":\"x\",\"y\":[100.0,96.31010063361909,93.51472232575475,91.35296310100634,90.45844204248975,87.3276183376817,86.47036898993663,84.97950055907566,84.68132687290347,82.70592620201268,81.36414461423779,81.21505777115169,79.0905702571748,77.7115169586284,78.12150577711517,null,null,null,null,null,null,null,null,null,null,null,null,null,null,null,null,null,null,null,null,null,null,null,null,null,null,null,null,null,null,null,null,null,null,null,null,null],\"yaxis\":\"y\",\"type\":\"scattergl\"},{\"hovertemplate\":\"cohort_week=2023-03-27<br>week_num=%{x}<br>value=%{y}<extra></extra>\",\"legendgroup\":\"2023-03-27\",\"line\":{\"color\":\"#BCBD22\",\"dash\":\"solid\"},\"marker\":{\"symbol\":\"circle\"},\"mode\":\"lines\",\"name\":\"2023-03-27\",\"showlegend\":true,\"x\":[0,7,14,21,28,35,42,49,56,63,70,77,84,91,98,105,112,119,126,133,140,147,154,161,168,175,182,189,196,203,210,217,224,231,238,245,252,259,266,273,280,287,294,301,308,315,322,329,336,343,350,357],\"xaxis\":\"x\",\"y\":[100.0,95.86284010436079,93.4401789042117,91.72568020872158,90.0857249347745,88.81848676854267,86.65672754379426,85.09131569139024,83.11591502049944,83.63771897130079,81.10324263883712,81.10324263883712,80.54416697726425,78.34513604174431,null,null,null,null,null,null,null,null,null,null,null,null,null,null,null,null,null,null,null,null,null,null,null,null,null,null,null,null,null,null,null,null,null,null,null,null,null,null],\"yaxis\":\"y\",\"type\":\"scattergl\"},{\"hovertemplate\":\"cohort_week=2023-04-03<br>week_num=%{x}<br>value=%{y}<extra></extra>\",\"legendgroup\":\"2023-04-03\",\"line\":{\"color\":\"#17BECF\",\"dash\":\"solid\"},\"marker\":{\"symbol\":\"circle\"},\"mode\":\"lines\",\"name\":\"2023-04-03\",\"showlegend\":true,\"x\":[0,7,14,21,28,35,42,49,56,63,70,77,84,91,98,105,112,119,126,133,140,147,154,161,168,175,182,189,196,203,210,217,224,231,238,245,252,259,266,273,280,287,294,301,308,315,322,329,336,343,350,357],\"xaxis\":\"x\",\"y\":[100.0,95.90643274853801,93.9327485380117,91.95906432748538,89.65643274853801,88.63304093567251,87.46345029239767,86.33040935672514,83.5891812865497,82.67543859649123,81.4327485380117,81.79824561403508,81.46929824561404,null,null,null,null,null,null,null,null,null,null,null,null,null,null,null,null,null,null,null,null,null,null,null,null,null,null,null,null,null,null,null,null,null,null,null,null,null,null,null],\"yaxis\":\"y\",\"type\":\"scattergl\"},{\"hovertemplate\":\"cohort_week=2023-04-10<br>week_num=%{x}<br>value=%{y}<extra></extra>\",\"legendgroup\":\"2023-04-10\",\"line\":{\"color\":\"#1F77B4\",\"dash\":\"solid\"},\"marker\":{\"symbol\":\"circle\"},\"mode\":\"lines\",\"name\":\"2023-04-10\",\"showlegend\":true,\"x\":[0,7,14,21,28,35,42,49,56,63,70,77,84,91,98,105,112,119,126,133,140,147,154,161,168,175,182,189,196,203,210,217,224,231,238,245,252,259,266,273,280,287,294,301,308,315,322,329,336,343,350,357],\"xaxis\":\"x\",\"y\":[100.0,95.91160220994475,93.22283609576428,91.0865561694291,89.20810313075506,89.17127071823204,87.99263351749539,85.78268876611418,84.60405156537753,84.45672191528546,81.76795580110497,81.36279926335175,null,null,null,null,null,null,null,null,null,null,null,null,null,null,null,null,null,null,null,null,null,null,null,null,null,null,null,null,null,null,null,null,null,null,null,null,null,null,null,null],\"yaxis\":\"y\",\"type\":\"scattergl\"},{\"hovertemplate\":\"cohort_week=2023-04-17<br>week_num=%{x}<br>value=%{y}<extra></extra>\",\"legendgroup\":\"2023-04-17\",\"line\":{\"color\":\"#FF7F0E\",\"dash\":\"solid\"},\"marker\":{\"symbol\":\"circle\"},\"mode\":\"lines\",\"name\":\"2023-04-17\",\"showlegend\":true,\"x\":[0,7,14,21,28,35,42,49,56,63,70,77,84,91,98,105,112,119,126,133,140,147,154,161,168,175,182,189,196,203,210,217,224,231,238,245,252,259,266,273,280,287,294,301,308,315,322,329,336,343,350,357],\"xaxis\":\"x\",\"y\":[100.0,96.29225736095965,93.96583060705198,90.83969465648855,89.6401308615049,87.96801163213377,86.73209741912032,86.55034532897129,84.33296982915303,82.95165394402035,81.7157397310069,null,null,null,null,null,null,null,null,null,null,null,null,null,null,null,null,null,null,null,null,null,null,null,null,null,null,null,null,null,null,null,null,null,null,null,null,null,null,null,null,null],\"yaxis\":\"y\",\"type\":\"scattergl\"},{\"hovertemplate\":\"cohort_week=2023-04-24<br>week_num=%{x}<br>value=%{y}<extra></extra>\",\"legendgroup\":\"2023-04-24\",\"line\":{\"color\":\"#2CA02C\",\"dash\":\"solid\"},\"marker\":{\"symbol\":\"circle\"},\"mode\":\"lines\",\"name\":\"2023-04-24\",\"showlegend\":true,\"x\":[0,7,14,21,28,35,42,49,56,63,70,77,84,91,98,105,112,119,126,133,140,147,154,161,168,175,182,189,196,203,210,217,224,231,238,245,252,259,266,273,280,287,294,301,308,315,322,329,336,343,350,357],\"xaxis\":\"x\",\"y\":[100.0,95.71899012074643,92.71862422246616,91.80387852177095,89.71825832418588,86.82766190998902,87.01061105012806,85.72996706915478,83.71752652762532,83.93706549579217,null,null,null,null,null,null,null,null,null,null,null,null,null,null,null,null,null,null,null,null,null,null,null,null,null,null,null,null,null,null,null,null,null,null,null,null,null,null,null,null,null,null],\"yaxis\":\"y\",\"type\":\"scattergl\"},{\"hovertemplate\":\"cohort_week=2023-05-01<br>week_num=%{x}<br>value=%{y}<extra></extra>\",\"legendgroup\":\"2023-05-01\",\"line\":{\"color\":\"#D62728\",\"dash\":\"solid\"},\"marker\":{\"symbol\":\"circle\"},\"mode\":\"lines\",\"name\":\"2023-05-01\",\"showlegend\":true,\"x\":[0,7,14,21,28,35,42,49,56,63,70,77,84,91,98,105,112,119,126,133,140,147,154,161,168,175,182,189,196,203,210,217,224,231,238,245,252,259,266,273,280,287,294,301,308,315,322,329,336,343,350,357],\"xaxis\":\"x\",\"y\":[100.0,96.76598837209302,93.8953488372093,91.24273255813954,90.00726744186046,89.2078488372093,86.95494186046511,85.42877906976744,83.82994186046511,null,null,null,null,null,null,null,null,null,null,null,null,null,null,null,null,null,null,null,null,null,null,null,null,null,null,null,null,null,null,null,null,null,null,null,null,null,null,null,null,null,null,null],\"yaxis\":\"y\",\"type\":\"scattergl\"},{\"hovertemplate\":\"cohort_week=2023-05-08<br>week_num=%{x}<br>value=%{y}<extra></extra>\",\"legendgroup\":\"2023-05-08\",\"line\":{\"color\":\"#9467BD\",\"dash\":\"solid\"},\"marker\":{\"symbol\":\"circle\"},\"mode\":\"lines\",\"name\":\"2023-05-08\",\"showlegend\":true,\"x\":[0,7,14,21,28,35,42,49,56,63,70,77,84,91,98,105,112,119,126,133,140,147,154,161,168,175,182,189,196,203,210,217,224,231,238,245,252,259,266,273,280,287,294,301,308,315,322,329,336,343,350,357],\"xaxis\":\"x\",\"y\":[100.0,95.9927797833935,93.35740072202167,92.12996389891697,90.03610108303249,87.83393501805054,87.90613718411552,85.63176895306859,null,null,null,null,null,null,null,null,null,null,null,null,null,null,null,null,null,null,null,null,null,null,null,null,null,null,null,null,null,null,null,null,null,null,null,null,null,null,null,null,null,null,null,null],\"yaxis\":\"y\",\"type\":\"scattergl\"},{\"hovertemplate\":\"cohort_week=2023-05-15<br>week_num=%{x}<br>value=%{y}<extra></extra>\",\"legendgroup\":\"2023-05-15\",\"line\":{\"color\":\"#8C564B\",\"dash\":\"solid\"},\"marker\":{\"symbol\":\"circle\"},\"mode\":\"lines\",\"name\":\"2023-05-15\",\"showlegend\":true,\"x\":[0,7,14,21,28,35,42,49,56,63,70,77,84,91,98,105,112,119,126,133,140,147,154,161,168,175,182,189,196,203,210,217,224,231,238,245,252,259,266,273,280,287,294,301,308,315,322,329,336,343,350,357],\"xaxis\":\"x\",\"y\":[100.0,96.78119349005425,94.17721518987342,91.97106690777576,90.23508137432188,88.71609403254973,87.19710669077757,null,null,null,null,null,null,null,null,null,null,null,null,null,null,null,null,null,null,null,null,null,null,null,null,null,null,null,null,null,null,null,null,null,null,null,null,null,null,null,null,null,null,null,null,null],\"yaxis\":\"y\",\"type\":\"scattergl\"},{\"hovertemplate\":\"cohort_week=2023-05-22<br>week_num=%{x}<br>value=%{y}<extra></extra>\",\"legendgroup\":\"2023-05-22\",\"line\":{\"color\":\"#E377C2\",\"dash\":\"solid\"},\"marker\":{\"symbol\":\"circle\"},\"mode\":\"lines\",\"name\":\"2023-05-22\",\"showlegend\":true,\"x\":[0,7,14,21,28,35,42,49,56,63,70,77,84,91,98,105,112,119,126,133,140,147,154,161,168,175,182,189,196,203,210,217,224,231,238,245,252,259,266,273,280,287,294,301,308,315,322,329,336,343,350,357],\"xaxis\":\"x\",\"y\":[100.0,96.84981684981685,93.55311355311355,92.16117216117216,90.29304029304029,88.35164835164835,null,null,null,null,null,null,null,null,null,null,null,null,null,null,null,null,null,null,null,null,null,null,null,null,null,null,null,null,null,null,null,null,null,null,null,null,null,null,null,null,null,null,null,null,null,null],\"yaxis\":\"y\",\"type\":\"scattergl\"},{\"hovertemplate\":\"cohort_week=2023-05-29<br>week_num=%{x}<br>value=%{y}<extra></extra>\",\"legendgroup\":\"2023-05-29\",\"line\":{\"color\":\"#7F7F7F\",\"dash\":\"solid\"},\"marker\":{\"symbol\":\"circle\"},\"mode\":\"lines\",\"name\":\"2023-05-29\",\"showlegend\":true,\"x\":[0,7,14,21,28,35,42,49,56,63,70,77,84,91,98,105,112,119,126,133,140,147,154,161,168,175,182,189,196,203,210,217,224,231,238,245,252,259,266,273,280,287,294,301,308,315,322,329,336,343,350,357],\"xaxis\":\"x\",\"y\":[100.0,96.88066739209286,92.85455204932899,90.93217265143272,90.06166122597025,null,null,null,null,null,null,null,null,null,null,null,null,null,null,null,null,null,null,null,null,null,null,null,null,null,null,null,null,null,null,null,null,null,null,null,null,null,null,null,null,null,null,null,null,null,null,null],\"yaxis\":\"y\",\"type\":\"scattergl\"},{\"hovertemplate\":\"cohort_week=2023-06-05<br>week_num=%{x}<br>value=%{y}<extra></extra>\",\"legendgroup\":\"2023-06-05\",\"line\":{\"color\":\"#BCBD22\",\"dash\":\"solid\"},\"marker\":{\"symbol\":\"circle\"},\"mode\":\"lines\",\"name\":\"2023-06-05\",\"showlegend\":true,\"x\":[0,7,14,21,28,35,42,49,56,63,70,77,84,91,98,105,112,119,126,133,140,147,154,161,168,175,182,189,196,203,210,217,224,231,238,245,252,259,266,273,280,287,294,301,308,315,322,329,336,343,350,357],\"xaxis\":\"x\",\"y\":[100.0,96.6255442670537,93.72278664731495,92.0899854862119,null,null,null,null,null,null,null,null,null,null,null,null,null,null,null,null,null,null,null,null,null,null,null,null,null,null,null,null,null,null,null,null,null,null,null,null,null,null,null,null,null,null,null,null,null,null,null,null],\"yaxis\":\"y\",\"type\":\"scattergl\"},{\"hovertemplate\":\"cohort_week=2023-06-12<br>week_num=%{x}<br>value=%{y}<extra></extra>\",\"legendgroup\":\"2023-06-12\",\"line\":{\"color\":\"#17BECF\",\"dash\":\"solid\"},\"marker\":{\"symbol\":\"circle\"},\"mode\":\"lines\",\"name\":\"2023-06-12\",\"showlegend\":true,\"x\":[0,7,14,21,28,35,42,49,56,63,70,77,84,91,98,105,112,119,126,133,140,147,154,161,168,175,182,189,196,203,210,217,224,231,238,245,252,259,266,273,280,287,294,301,308,315,322,329,336,343,350,357],\"xaxis\":\"x\",\"y\":[100.0,95.6813104988831,94.45271779597915,null,null,null,null,null,null,null,null,null,null,null,null,null,null,null,null,null,null,null,null,null,null,null,null,null,null,null,null,null,null,null,null,null,null,null,null,null,null,null,null,null,null,null,null,null,null,null,null,null],\"yaxis\":\"y\",\"type\":\"scattergl\"},{\"hovertemplate\":\"cohort_week=2023-06-19<br>week_num=%{x}<br>value=%{y}<extra></extra>\",\"legendgroup\":\"2023-06-19\",\"line\":{\"color\":\"#1F77B4\",\"dash\":\"solid\"},\"marker\":{\"symbol\":\"circle\"},\"mode\":\"lines\",\"name\":\"2023-06-19\",\"showlegend\":true,\"x\":[0,7,14,21,28,35,42,49,56,63,70,77,84,91,98,105,112,119,126,133,140,147,154,161,168,175,182,189,196,203,210,217,224,231,238,245,252,259,266,273,280,287,294,301,308,315,322,329,336,343,350,357],\"xaxis\":\"x\",\"y\":[100.0,96.18181818181819,null,null,null,null,null,null,null,null,null,null,null,null,null,null,null,null,null,null,null,null,null,null,null,null,null,null,null,null,null,null,null,null,null,null,null,null,null,null,null,null,null,null,null,null,null,null,null,null,null,null],\"yaxis\":\"y\",\"type\":\"scattergl\"},{\"hovertemplate\":\"cohort_week=2023-06-26<br>week_num=%{x}<br>value=%{y}<extra></extra>\",\"legendgroup\":\"2023-06-26\",\"line\":{\"color\":\"#FF7F0E\",\"dash\":\"solid\"},\"marker\":{\"symbol\":\"circle\"},\"mode\":\"lines\",\"name\":\"2023-06-26\",\"showlegend\":true,\"x\":[0,7,14,21,28,35,42,49,56,63,70,77,84,91,98,105,112,119,126,133,140,147,154,161,168,175,182,189,196,203,210,217,224,231,238,245,252,259,266,273,280,287,294,301,308,315,322,329,336,343,350,357],\"xaxis\":\"x\",\"y\":[100.0,null,null,null,null,null,null,null,null,null,null,null,null,null,null,null,null,null,null,null,null,null,null,null,null,null,null,null,null,null,null,null,null,null,null,null,null,null,null,null,null,null,null,null,null,null,null,null,null,null,null,null],\"yaxis\":\"y\",\"type\":\"scattergl\"}],                        {\"template\":{\"data\":{\"histogram2dcontour\":[{\"type\":\"histogram2dcontour\",\"colorbar\":{\"outlinewidth\":1,\"tickcolor\":\"rgb(36,36,36)\",\"ticks\":\"outside\"},\"colorscale\":[[0.0,\"#440154\"],[0.1111111111111111,\"#482878\"],[0.2222222222222222,\"#3e4989\"],[0.3333333333333333,\"#31688e\"],[0.4444444444444444,\"#26828e\"],[0.5555555555555556,\"#1f9e89\"],[0.6666666666666666,\"#35b779\"],[0.7777777777777778,\"#6ece58\"],[0.8888888888888888,\"#b5de2b\"],[1.0,\"#fde725\"]]}],\"choropleth\":[{\"type\":\"choropleth\",\"colorbar\":{\"outlinewidth\":1,\"tickcolor\":\"rgb(36,36,36)\",\"ticks\":\"outside\"}}],\"histogram2d\":[{\"type\":\"histogram2d\",\"colorbar\":{\"outlinewidth\":1,\"tickcolor\":\"rgb(36,36,36)\",\"ticks\":\"outside\"},\"colorscale\":[[0.0,\"#440154\"],[0.1111111111111111,\"#482878\"],[0.2222222222222222,\"#3e4989\"],[0.3333333333333333,\"#31688e\"],[0.4444444444444444,\"#26828e\"],[0.5555555555555556,\"#1f9e89\"],[0.6666666666666666,\"#35b779\"],[0.7777777777777778,\"#6ece58\"],[0.8888888888888888,\"#b5de2b\"],[1.0,\"#fde725\"]]}],\"heatmap\":[{\"type\":\"heatmap\",\"colorbar\":{\"outlinewidth\":1,\"tickcolor\":\"rgb(36,36,36)\",\"ticks\":\"outside\"},\"colorscale\":[[0.0,\"#440154\"],[0.1111111111111111,\"#482878\"],[0.2222222222222222,\"#3e4989\"],[0.3333333333333333,\"#31688e\"],[0.4444444444444444,\"#26828e\"],[0.5555555555555556,\"#1f9e89\"],[0.6666666666666666,\"#35b779\"],[0.7777777777777778,\"#6ece58\"],[0.8888888888888888,\"#b5de2b\"],[1.0,\"#fde725\"]]}],\"heatmapgl\":[{\"type\":\"heatmapgl\",\"colorbar\":{\"outlinewidth\":1,\"tickcolor\":\"rgb(36,36,36)\",\"ticks\":\"outside\"},\"colorscale\":[[0.0,\"#440154\"],[0.1111111111111111,\"#482878\"],[0.2222222222222222,\"#3e4989\"],[0.3333333333333333,\"#31688e\"],[0.4444444444444444,\"#26828e\"],[0.5555555555555556,\"#1f9e89\"],[0.6666666666666666,\"#35b779\"],[0.7777777777777778,\"#6ece58\"],[0.8888888888888888,\"#b5de2b\"],[1.0,\"#fde725\"]]}],\"contourcarpet\":[{\"type\":\"contourcarpet\",\"colorbar\":{\"outlinewidth\":1,\"tickcolor\":\"rgb(36,36,36)\",\"ticks\":\"outside\"}}],\"contour\":[{\"type\":\"contour\",\"colorbar\":{\"outlinewidth\":1,\"tickcolor\":\"rgb(36,36,36)\",\"ticks\":\"outside\"},\"colorscale\":[[0.0,\"#440154\"],[0.1111111111111111,\"#482878\"],[0.2222222222222222,\"#3e4989\"],[0.3333333333333333,\"#31688e\"],[0.4444444444444444,\"#26828e\"],[0.5555555555555556,\"#1f9e89\"],[0.6666666666666666,\"#35b779\"],[0.7777777777777778,\"#6ece58\"],[0.8888888888888888,\"#b5de2b\"],[1.0,\"#fde725\"]]}],\"surface\":[{\"type\":\"surface\",\"colorbar\":{\"outlinewidth\":1,\"tickcolor\":\"rgb(36,36,36)\",\"ticks\":\"outside\"},\"colorscale\":[[0.0,\"#440154\"],[0.1111111111111111,\"#482878\"],[0.2222222222222222,\"#3e4989\"],[0.3333333333333333,\"#31688e\"],[0.4444444444444444,\"#26828e\"],[0.5555555555555556,\"#1f9e89\"],[0.6666666666666666,\"#35b779\"],[0.7777777777777778,\"#6ece58\"],[0.8888888888888888,\"#b5de2b\"],[1.0,\"#fde725\"]]}],\"mesh3d\":[{\"type\":\"mesh3d\",\"colorbar\":{\"outlinewidth\":1,\"tickcolor\":\"rgb(36,36,36)\",\"ticks\":\"outside\"}}],\"scatter\":[{\"fillpattern\":{\"fillmode\":\"overlay\",\"size\":10,\"solidity\":0.2},\"type\":\"scatter\"}],\"parcoords\":[{\"type\":\"parcoords\",\"line\":{\"colorbar\":{\"outlinewidth\":1,\"tickcolor\":\"rgb(36,36,36)\",\"ticks\":\"outside\"}}}],\"scatterpolargl\":[{\"type\":\"scatterpolargl\",\"marker\":{\"colorbar\":{\"outlinewidth\":1,\"tickcolor\":\"rgb(36,36,36)\",\"ticks\":\"outside\"}}}],\"bar\":[{\"error_x\":{\"color\":\"rgb(36,36,36)\"},\"error_y\":{\"color\":\"rgb(36,36,36)\"},\"marker\":{\"line\":{\"color\":\"white\",\"width\":0.5},\"pattern\":{\"fillmode\":\"overlay\",\"size\":10,\"solidity\":0.2}},\"type\":\"bar\"}],\"scattergeo\":[{\"type\":\"scattergeo\",\"marker\":{\"colorbar\":{\"outlinewidth\":1,\"tickcolor\":\"rgb(36,36,36)\",\"ticks\":\"outside\"}}}],\"scatterpolar\":[{\"type\":\"scatterpolar\",\"marker\":{\"colorbar\":{\"outlinewidth\":1,\"tickcolor\":\"rgb(36,36,36)\",\"ticks\":\"outside\"}}}],\"histogram\":[{\"marker\":{\"line\":{\"color\":\"white\",\"width\":0.6}},\"type\":\"histogram\"}],\"scattergl\":[{\"type\":\"scattergl\",\"marker\":{\"colorbar\":{\"outlinewidth\":1,\"tickcolor\":\"rgb(36,36,36)\",\"ticks\":\"outside\"}}}],\"scatter3d\":[{\"type\":\"scatter3d\",\"line\":{\"colorbar\":{\"outlinewidth\":1,\"tickcolor\":\"rgb(36,36,36)\",\"ticks\":\"outside\"}},\"marker\":{\"colorbar\":{\"outlinewidth\":1,\"tickcolor\":\"rgb(36,36,36)\",\"ticks\":\"outside\"}}}],\"scattermapbox\":[{\"type\":\"scattermapbox\",\"marker\":{\"colorbar\":{\"outlinewidth\":1,\"tickcolor\":\"rgb(36,36,36)\",\"ticks\":\"outside\"}}}],\"scatterternary\":[{\"type\":\"scatterternary\",\"marker\":{\"colorbar\":{\"outlinewidth\":1,\"tickcolor\":\"rgb(36,36,36)\",\"ticks\":\"outside\"}}}],\"scattercarpet\":[{\"type\":\"scattercarpet\",\"marker\":{\"colorbar\":{\"outlinewidth\":1,\"tickcolor\":\"rgb(36,36,36)\",\"ticks\":\"outside\"}}}],\"carpet\":[{\"aaxis\":{\"endlinecolor\":\"rgb(36,36,36)\",\"gridcolor\":\"white\",\"linecolor\":\"white\",\"minorgridcolor\":\"white\",\"startlinecolor\":\"rgb(36,36,36)\"},\"baxis\":{\"endlinecolor\":\"rgb(36,36,36)\",\"gridcolor\":\"white\",\"linecolor\":\"white\",\"minorgridcolor\":\"white\",\"startlinecolor\":\"rgb(36,36,36)\"},\"type\":\"carpet\"}],\"table\":[{\"cells\":{\"fill\":{\"color\":\"rgb(237,237,237)\"},\"line\":{\"color\":\"white\"}},\"header\":{\"fill\":{\"color\":\"rgb(217,217,217)\"},\"line\":{\"color\":\"white\"}},\"type\":\"table\"}],\"barpolar\":[{\"marker\":{\"line\":{\"color\":\"white\",\"width\":0.5},\"pattern\":{\"fillmode\":\"overlay\",\"size\":10,\"solidity\":0.2}},\"type\":\"barpolar\"}],\"pie\":[{\"automargin\":true,\"type\":\"pie\"}]},\"layout\":{\"autotypenumbers\":\"strict\",\"colorway\":[\"#1F77B4\",\"#FF7F0E\",\"#2CA02C\",\"#D62728\",\"#9467BD\",\"#8C564B\",\"#E377C2\",\"#7F7F7F\",\"#BCBD22\",\"#17BECF\"],\"font\":{\"color\":\"rgb(36,36,36)\"},\"hovermode\":\"closest\",\"hoverlabel\":{\"align\":\"left\"},\"paper_bgcolor\":\"white\",\"plot_bgcolor\":\"white\",\"polar\":{\"bgcolor\":\"white\",\"angularaxis\":{\"gridcolor\":\"rgb(232,232,232)\",\"linecolor\":\"rgb(36,36,36)\",\"showgrid\":false,\"showline\":true,\"ticks\":\"outside\"},\"radialaxis\":{\"gridcolor\":\"rgb(232,232,232)\",\"linecolor\":\"rgb(36,36,36)\",\"showgrid\":false,\"showline\":true,\"ticks\":\"outside\"}},\"ternary\":{\"bgcolor\":\"white\",\"aaxis\":{\"gridcolor\":\"rgb(232,232,232)\",\"linecolor\":\"rgb(36,36,36)\",\"showgrid\":false,\"showline\":true,\"ticks\":\"outside\"},\"baxis\":{\"gridcolor\":\"rgb(232,232,232)\",\"linecolor\":\"rgb(36,36,36)\",\"showgrid\":false,\"showline\":true,\"ticks\":\"outside\"},\"caxis\":{\"gridcolor\":\"rgb(232,232,232)\",\"linecolor\":\"rgb(36,36,36)\",\"showgrid\":false,\"showline\":true,\"ticks\":\"outside\"}},\"coloraxis\":{\"colorbar\":{\"outlinewidth\":1,\"tickcolor\":\"rgb(36,36,36)\",\"ticks\":\"outside\"}},\"colorscale\":{\"sequential\":[[0.0,\"#440154\"],[0.1111111111111111,\"#482878\"],[0.2222222222222222,\"#3e4989\"],[0.3333333333333333,\"#31688e\"],[0.4444444444444444,\"#26828e\"],[0.5555555555555556,\"#1f9e89\"],[0.6666666666666666,\"#35b779\"],[0.7777777777777778,\"#6ece58\"],[0.8888888888888888,\"#b5de2b\"],[1.0,\"#fde725\"]],\"sequentialminus\":[[0.0,\"#440154\"],[0.1111111111111111,\"#482878\"],[0.2222222222222222,\"#3e4989\"],[0.3333333333333333,\"#31688e\"],[0.4444444444444444,\"#26828e\"],[0.5555555555555556,\"#1f9e89\"],[0.6666666666666666,\"#35b779\"],[0.7777777777777778,\"#6ece58\"],[0.8888888888888888,\"#b5de2b\"],[1.0,\"#fde725\"]],\"diverging\":[[0.0,\"rgb(103,0,31)\"],[0.1,\"rgb(178,24,43)\"],[0.2,\"rgb(214,96,77)\"],[0.3,\"rgb(244,165,130)\"],[0.4,\"rgb(253,219,199)\"],[0.5,\"rgb(247,247,247)\"],[0.6,\"rgb(209,229,240)\"],[0.7,\"rgb(146,197,222)\"],[0.8,\"rgb(67,147,195)\"],[0.9,\"rgb(33,102,172)\"],[1.0,\"rgb(5,48,97)\"]]},\"xaxis\":{\"gridcolor\":\"rgb(232,232,232)\",\"linecolor\":\"rgb(36,36,36)\",\"showgrid\":false,\"showline\":true,\"ticks\":\"outside\",\"title\":{\"standoff\":15},\"zerolinecolor\":\"rgb(36,36,36)\",\"automargin\":true,\"zeroline\":false},\"yaxis\":{\"gridcolor\":\"rgb(232,232,232)\",\"linecolor\":\"rgb(36,36,36)\",\"showgrid\":false,\"showline\":true,\"ticks\":\"outside\",\"title\":{\"standoff\":15},\"zerolinecolor\":\"rgb(36,36,36)\",\"automargin\":true,\"zeroline\":false},\"scene\":{\"xaxis\":{\"backgroundcolor\":\"white\",\"gridcolor\":\"rgb(232,232,232)\",\"linecolor\":\"rgb(36,36,36)\",\"showbackground\":true,\"showgrid\":false,\"showline\":true,\"ticks\":\"outside\",\"zerolinecolor\":\"rgb(36,36,36)\",\"gridwidth\":2,\"zeroline\":false},\"yaxis\":{\"backgroundcolor\":\"white\",\"gridcolor\":\"rgb(232,232,232)\",\"linecolor\":\"rgb(36,36,36)\",\"showbackground\":true,\"showgrid\":false,\"showline\":true,\"ticks\":\"outside\",\"zerolinecolor\":\"rgb(36,36,36)\",\"gridwidth\":2,\"zeroline\":false},\"zaxis\":{\"backgroundcolor\":\"white\",\"gridcolor\":\"rgb(232,232,232)\",\"linecolor\":\"rgb(36,36,36)\",\"showbackground\":true,\"showgrid\":false,\"showline\":true,\"ticks\":\"outside\",\"zerolinecolor\":\"rgb(36,36,36)\",\"gridwidth\":2,\"zeroline\":false}},\"shapedefaults\":{\"fillcolor\":\"black\",\"line\":{\"width\":0},\"opacity\":0.3},\"annotationdefaults\":{\"arrowhead\":0,\"arrowwidth\":1},\"geo\":{\"bgcolor\":\"white\",\"landcolor\":\"white\",\"subunitcolor\":\"white\",\"showland\":true,\"showlakes\":true,\"lakecolor\":\"white\"},\"title\":{\"x\":0.05},\"mapbox\":{\"style\":\"light\"}}},\"xaxis\":{\"anchor\":\"y\",\"domain\":[0.0,1.0],\"title\":{\"text\":\"week_num\"}},\"yaxis\":{\"anchor\":\"x\",\"domain\":[0.0,1.0],\"title\":{\"text\":\"value\"}},\"legend\":{\"title\":{\"text\":\"cohort_week\"},\"tracegroupgap\":0},\"margin\":{\"t\":60}},                        {\"responsive\": true}                    ).then(function(){\n",
       "                            \n",
       "var gd = document.getElementById('cfc1cb33-dac6-40bf-bea2-c561cfc6d421');\n",
       "var x = new MutationObserver(function (mutations, observer) {{\n",
       "        var display = window.getComputedStyle(gd).display;\n",
       "        if (!display || display === 'none') {{\n",
       "            console.log([gd, 'removed!']);\n",
       "            Plotly.purge(gd);\n",
       "            observer.disconnect();\n",
       "        }}\n",
       "}});\n",
       "\n",
       "// Listen for the removal of the full notebook cells\n",
       "var notebookContainer = gd.closest('#notebook-container');\n",
       "if (notebookContainer) {{\n",
       "    x.observe(notebookContainer, {childList: true});\n",
       "}}\n",
       "\n",
       "// Listen for the clearing of the current output cell\n",
       "var outputEl = gd.closest('.output');\n",
       "if (outputEl) {{\n",
       "    x.observe(outputEl, {childList: true});\n",
       "}}\n",
       "\n",
       "                        })                };                });            </script>        </div>"
      ]
     },
     "metadata": {},
     "output_type": "display_data"
    }
   ],
   "source": [
    "retention_df = df[df.cohort_week >='2022-07-01'].pivot(index='week_num', columns = 'cohort_week',\n",
    "                                       values = 'user_id')\n",
    "\n",
    "px.line(retention_df.apply(lambda x: 100*x/retention_df.iloc[0], axis = 1))"
   ]
  },
  {
   "cell_type": "code",
   "execution_count": null,
   "id": "811bffa4",
   "metadata": {},
   "outputs": [],
   "source": []
  }
 ],
 "metadata": {
  "kernelspec": {
   "display_name": "Python 3 (ipykernel)",
   "language": "python",
   "name": "python3"
  },
  "language_info": {
   "codemirror_mode": {
    "name": "ipython",
    "version": 3
   },
   "file_extension": ".py",
   "mimetype": "text/x-python",
   "name": "python",
   "nbconvert_exporter": "python",
   "pygments_lexer": "ipython3",
   "version": "3.9.6"
  }
 },
 "nbformat": 4,
 "nbformat_minor": 5
}
