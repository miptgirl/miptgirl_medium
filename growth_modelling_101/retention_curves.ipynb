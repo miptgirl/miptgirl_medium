{
 "cells": [
  {
   "cell_type": "code",
   "execution_count": 1,
   "id": "c324f821",
   "metadata": {},
   "outputs": [],
   "source": [
    "import pandas as pd\n",
    "import plotly.express as px\n",
    "import plotly.io as pio\n",
    "import random\n",
    "pio.templates.default = 'simple_white'\n",
    "import datetime\n",
    "import tqdm\n",
    "from dateutil.relativedelta import relativedelta"
   ]
  },
  {
   "cell_type": "code",
   "execution_count": 2,
   "id": "8c672ec2",
   "metadata": {},
   "outputs": [
    {
     "name": "stdout",
     "output_type": "stream",
     "text": [
      "full_data.csv                       retention_curves.ipynb\r\n",
      "generate_daily_synthetic_data.ipynb weekly_data.csv\r\n",
      "raw_growth_model.ipynb\r\n"
     ]
    }
   ],
   "source": [
    "! ls"
   ]
  },
  {
   "cell_type": "markdown",
   "id": "ff9609d3",
   "metadata": {},
   "source": [
    "### Modelling retention"
   ]
  },
  {
   "cell_type": "code",
   "execution_count": 4,
   "id": "d5eab922",
   "metadata": {},
   "outputs": [],
   "source": [
    "def get_retention(a, b, c, d, periods):\n",
    "    return  a + 1./(b + c*periods ** d)\n",
    "\n",
    "def get_retention_same_event(a, c, d, periods):\n",
    "    b = 1./(1 - a)\n",
    "    return get_retention(a, b, c, d, periods)"
   ]
  },
  {
   "cell_type": "code",
   "execution_count": 5,
   "id": "7f8cbc2c",
   "metadata": {},
   "outputs": [],
   "source": [
    "import plotly\n",
    "colormap = plotly.colors.qualitative.Pastel"
   ]
  },
  {
   "cell_type": "code",
   "execution_count": 35,
   "id": "6344ae49",
   "metadata": {
    "scrolled": false
   },
   "outputs": [
    {
     "data": {
      "application/vnd.plotly.v1+json": {
       "config": {
        "plotlyServerURL": "https://plot.ly"
       },
       "data": [
        {
         "hovertemplate": "product=product1<br># month=%{x}<br>retention, %=%{y}<extra></extra>",
         "legendgroup": "product1",
         "line": {
          "color": "#1F77B4",
          "dash": "solid"
         },
         "marker": {
          "symbol": "circle"
         },
         "mode": "lines",
         "name": "product1",
         "orientation": "v",
         "showlegend": true,
         "type": "scatter",
         "x": [
          0,
          1,
          2,
          3,
          4,
          5,
          6,
          7,
          8,
          9,
          10,
          11,
          12,
          13,
          14,
          15,
          16,
          17,
          18,
          19,
          20,
          21,
          22,
          23
         ],
         "xaxis": "x",
         "y": [
          100,
          64.51612903225806,
          31.25,
          16.806722689075627,
          10.20408163265306,
          6.779661016949151,
          4.8076923076923075,
          3.5778175313059033,
          2.7624309392265194,
          2.195389681668496,
          1.7857142857142856,
          1.480384900074019,
          1.2468827930174562,
          1.06439595529537,
          null,
          null,
          null,
          null,
          null,
          null,
          null,
          null,
          null,
          null
         ],
         "yaxis": "y"
        },
        {
         "hovertemplate": "product=product2<br># month=%{x}<br>retention, %=%{y}<extra></extra>",
         "legendgroup": "product2",
         "line": {
          "color": "#FF7F0E",
          "dash": "solid"
         },
         "marker": {
          "symbol": "circle"
         },
         "mode": "lines",
         "name": "product2",
         "orientation": "v",
         "showlegend": true,
         "type": "scatter",
         "x": [
          0,
          1,
          2,
          3,
          4,
          5,
          6,
          7,
          8,
          9,
          10,
          11,
          12,
          13,
          14,
          15,
          16,
          17,
          18,
          19,
          20,
          21,
          22,
          23
         ],
         "xaxis": "x",
         "y": [
          100,
          77.73415765069551,
          53.81781820747422,
          38.22831368278713,
          28.474047040477906,
          22.16047792900764,
          17.886408225811305,
          14.869997221174566,
          12.663602861819292,
          11.000228698749002,
          9.713892778362275,
          8.697418397932037,
          7.879227262206988,
          7.210076754885916,
          6.655195894038305,
          6.189462241673847,
          5.794352175449495,
          5.455958806528854,
          5.1636715815799175,
          4.9092768958834965,
          4.686333047104011,
          4.489727868086767,
          4.315360423358613,
          4.159908490604444
         ],
         "yaxis": "y"
        },
        {
         "hovertemplate": "product=product3<br># month=%{x}<br>retention, %=%{y}<extra></extra>",
         "legendgroup": "product3",
         "line": {
          "color": "#2CA02C",
          "dash": "solid"
         },
         "marker": {
          "symbol": "circle"
         },
         "mode": "lines",
         "name": "product3",
         "orientation": "v",
         "showlegend": true,
         "type": "scatter",
         "x": [
          0,
          1,
          2,
          3,
          4,
          5,
          6,
          7,
          8,
          9,
          10,
          11,
          12,
          13,
          14,
          15,
          16,
          17,
          18,
          19,
          20,
          21,
          22,
          23
         ],
         "xaxis": "x",
         "y": [
          100,
          53.71794871794873,
          39.26185751522585,
          31.734344063595266,
          27.05152464274289,
          23.834764001750248,
          21.478850637983825,
          19.67387957776082,
          18.243891594732435,
          17.08122599456771,
          16.116157937979576,
          15.301462574455083,
          14.603973172799384,
          13.99968707739967,
          13.470789751936922,
          13.003771591234656,
          12.588195253787077,
          12.215865000869108,
          11.880252608155304,
          11.576091698734512,
          11.2990854021002,
          11.045691959191236,
          10.812965000762794,
          10.598432857150428
         ],
         "yaxis": "y"
        }
       ],
       "layout": {
        "legend": {
         "title": {
          "text": "product"
         },
         "tracegroupgap": 0
        },
        "template": {
         "data": {
          "bar": [
           {
            "error_x": {
             "color": "rgb(36,36,36)"
            },
            "error_y": {
             "color": "rgb(36,36,36)"
            },
            "marker": {
             "line": {
              "color": "white",
              "width": 0.5
             },
             "pattern": {
              "fillmode": "overlay",
              "size": 10,
              "solidity": 0.2
             }
            },
            "type": "bar"
           }
          ],
          "barpolar": [
           {
            "marker": {
             "line": {
              "color": "white",
              "width": 0.5
             },
             "pattern": {
              "fillmode": "overlay",
              "size": 10,
              "solidity": 0.2
             }
            },
            "type": "barpolar"
           }
          ],
          "carpet": [
           {
            "aaxis": {
             "endlinecolor": "rgb(36,36,36)",
             "gridcolor": "white",
             "linecolor": "white",
             "minorgridcolor": "white",
             "startlinecolor": "rgb(36,36,36)"
            },
            "baxis": {
             "endlinecolor": "rgb(36,36,36)",
             "gridcolor": "white",
             "linecolor": "white",
             "minorgridcolor": "white",
             "startlinecolor": "rgb(36,36,36)"
            },
            "type": "carpet"
           }
          ],
          "choropleth": [
           {
            "colorbar": {
             "outlinewidth": 1,
             "tickcolor": "rgb(36,36,36)",
             "ticks": "outside"
            },
            "type": "choropleth"
           }
          ],
          "contour": [
           {
            "colorbar": {
             "outlinewidth": 1,
             "tickcolor": "rgb(36,36,36)",
             "ticks": "outside"
            },
            "colorscale": [
             [
              0,
              "#440154"
             ],
             [
              0.1111111111111111,
              "#482878"
             ],
             [
              0.2222222222222222,
              "#3e4989"
             ],
             [
              0.3333333333333333,
              "#31688e"
             ],
             [
              0.4444444444444444,
              "#26828e"
             ],
             [
              0.5555555555555556,
              "#1f9e89"
             ],
             [
              0.6666666666666666,
              "#35b779"
             ],
             [
              0.7777777777777778,
              "#6ece58"
             ],
             [
              0.8888888888888888,
              "#b5de2b"
             ],
             [
              1,
              "#fde725"
             ]
            ],
            "type": "contour"
           }
          ],
          "contourcarpet": [
           {
            "colorbar": {
             "outlinewidth": 1,
             "tickcolor": "rgb(36,36,36)",
             "ticks": "outside"
            },
            "type": "contourcarpet"
           }
          ],
          "heatmap": [
           {
            "colorbar": {
             "outlinewidth": 1,
             "tickcolor": "rgb(36,36,36)",
             "ticks": "outside"
            },
            "colorscale": [
             [
              0,
              "#440154"
             ],
             [
              0.1111111111111111,
              "#482878"
             ],
             [
              0.2222222222222222,
              "#3e4989"
             ],
             [
              0.3333333333333333,
              "#31688e"
             ],
             [
              0.4444444444444444,
              "#26828e"
             ],
             [
              0.5555555555555556,
              "#1f9e89"
             ],
             [
              0.6666666666666666,
              "#35b779"
             ],
             [
              0.7777777777777778,
              "#6ece58"
             ],
             [
              0.8888888888888888,
              "#b5de2b"
             ],
             [
              1,
              "#fde725"
             ]
            ],
            "type": "heatmap"
           }
          ],
          "heatmapgl": [
           {
            "colorbar": {
             "outlinewidth": 1,
             "tickcolor": "rgb(36,36,36)",
             "ticks": "outside"
            },
            "colorscale": [
             [
              0,
              "#440154"
             ],
             [
              0.1111111111111111,
              "#482878"
             ],
             [
              0.2222222222222222,
              "#3e4989"
             ],
             [
              0.3333333333333333,
              "#31688e"
             ],
             [
              0.4444444444444444,
              "#26828e"
             ],
             [
              0.5555555555555556,
              "#1f9e89"
             ],
             [
              0.6666666666666666,
              "#35b779"
             ],
             [
              0.7777777777777778,
              "#6ece58"
             ],
             [
              0.8888888888888888,
              "#b5de2b"
             ],
             [
              1,
              "#fde725"
             ]
            ],
            "type": "heatmapgl"
           }
          ],
          "histogram": [
           {
            "marker": {
             "line": {
              "color": "white",
              "width": 0.6
             }
            },
            "type": "histogram"
           }
          ],
          "histogram2d": [
           {
            "colorbar": {
             "outlinewidth": 1,
             "tickcolor": "rgb(36,36,36)",
             "ticks": "outside"
            },
            "colorscale": [
             [
              0,
              "#440154"
             ],
             [
              0.1111111111111111,
              "#482878"
             ],
             [
              0.2222222222222222,
              "#3e4989"
             ],
             [
              0.3333333333333333,
              "#31688e"
             ],
             [
              0.4444444444444444,
              "#26828e"
             ],
             [
              0.5555555555555556,
              "#1f9e89"
             ],
             [
              0.6666666666666666,
              "#35b779"
             ],
             [
              0.7777777777777778,
              "#6ece58"
             ],
             [
              0.8888888888888888,
              "#b5de2b"
             ],
             [
              1,
              "#fde725"
             ]
            ],
            "type": "histogram2d"
           }
          ],
          "histogram2dcontour": [
           {
            "colorbar": {
             "outlinewidth": 1,
             "tickcolor": "rgb(36,36,36)",
             "ticks": "outside"
            },
            "colorscale": [
             [
              0,
              "#440154"
             ],
             [
              0.1111111111111111,
              "#482878"
             ],
             [
              0.2222222222222222,
              "#3e4989"
             ],
             [
              0.3333333333333333,
              "#31688e"
             ],
             [
              0.4444444444444444,
              "#26828e"
             ],
             [
              0.5555555555555556,
              "#1f9e89"
             ],
             [
              0.6666666666666666,
              "#35b779"
             ],
             [
              0.7777777777777778,
              "#6ece58"
             ],
             [
              0.8888888888888888,
              "#b5de2b"
             ],
             [
              1,
              "#fde725"
             ]
            ],
            "type": "histogram2dcontour"
           }
          ],
          "mesh3d": [
           {
            "colorbar": {
             "outlinewidth": 1,
             "tickcolor": "rgb(36,36,36)",
             "ticks": "outside"
            },
            "type": "mesh3d"
           }
          ],
          "parcoords": [
           {
            "line": {
             "colorbar": {
              "outlinewidth": 1,
              "tickcolor": "rgb(36,36,36)",
              "ticks": "outside"
             }
            },
            "type": "parcoords"
           }
          ],
          "pie": [
           {
            "automargin": true,
            "type": "pie"
           }
          ],
          "scatter": [
           {
            "fillpattern": {
             "fillmode": "overlay",
             "size": 10,
             "solidity": 0.2
            },
            "type": "scatter"
           }
          ],
          "scatter3d": [
           {
            "line": {
             "colorbar": {
              "outlinewidth": 1,
              "tickcolor": "rgb(36,36,36)",
              "ticks": "outside"
             }
            },
            "marker": {
             "colorbar": {
              "outlinewidth": 1,
              "tickcolor": "rgb(36,36,36)",
              "ticks": "outside"
             }
            },
            "type": "scatter3d"
           }
          ],
          "scattercarpet": [
           {
            "marker": {
             "colorbar": {
              "outlinewidth": 1,
              "tickcolor": "rgb(36,36,36)",
              "ticks": "outside"
             }
            },
            "type": "scattercarpet"
           }
          ],
          "scattergeo": [
           {
            "marker": {
             "colorbar": {
              "outlinewidth": 1,
              "tickcolor": "rgb(36,36,36)",
              "ticks": "outside"
             }
            },
            "type": "scattergeo"
           }
          ],
          "scattergl": [
           {
            "marker": {
             "colorbar": {
              "outlinewidth": 1,
              "tickcolor": "rgb(36,36,36)",
              "ticks": "outside"
             }
            },
            "type": "scattergl"
           }
          ],
          "scattermapbox": [
           {
            "marker": {
             "colorbar": {
              "outlinewidth": 1,
              "tickcolor": "rgb(36,36,36)",
              "ticks": "outside"
             }
            },
            "type": "scattermapbox"
           }
          ],
          "scatterpolar": [
           {
            "marker": {
             "colorbar": {
              "outlinewidth": 1,
              "tickcolor": "rgb(36,36,36)",
              "ticks": "outside"
             }
            },
            "type": "scatterpolar"
           }
          ],
          "scatterpolargl": [
           {
            "marker": {
             "colorbar": {
              "outlinewidth": 1,
              "tickcolor": "rgb(36,36,36)",
              "ticks": "outside"
             }
            },
            "type": "scatterpolargl"
           }
          ],
          "scatterternary": [
           {
            "marker": {
             "colorbar": {
              "outlinewidth": 1,
              "tickcolor": "rgb(36,36,36)",
              "ticks": "outside"
             }
            },
            "type": "scatterternary"
           }
          ],
          "surface": [
           {
            "colorbar": {
             "outlinewidth": 1,
             "tickcolor": "rgb(36,36,36)",
             "ticks": "outside"
            },
            "colorscale": [
             [
              0,
              "#440154"
             ],
             [
              0.1111111111111111,
              "#482878"
             ],
             [
              0.2222222222222222,
              "#3e4989"
             ],
             [
              0.3333333333333333,
              "#31688e"
             ],
             [
              0.4444444444444444,
              "#26828e"
             ],
             [
              0.5555555555555556,
              "#1f9e89"
             ],
             [
              0.6666666666666666,
              "#35b779"
             ],
             [
              0.7777777777777778,
              "#6ece58"
             ],
             [
              0.8888888888888888,
              "#b5de2b"
             ],
             [
              1,
              "#fde725"
             ]
            ],
            "type": "surface"
           }
          ],
          "table": [
           {
            "cells": {
             "fill": {
              "color": "rgb(237,237,237)"
             },
             "line": {
              "color": "white"
             }
            },
            "header": {
             "fill": {
              "color": "rgb(217,217,217)"
             },
             "line": {
              "color": "white"
             }
            },
            "type": "table"
           }
          ]
         },
         "layout": {
          "annotationdefaults": {
           "arrowhead": 0,
           "arrowwidth": 1
          },
          "autotypenumbers": "strict",
          "coloraxis": {
           "colorbar": {
            "outlinewidth": 1,
            "tickcolor": "rgb(36,36,36)",
            "ticks": "outside"
           }
          },
          "colorscale": {
           "diverging": [
            [
             0,
             "rgb(103,0,31)"
            ],
            [
             0.1,
             "rgb(178,24,43)"
            ],
            [
             0.2,
             "rgb(214,96,77)"
            ],
            [
             0.3,
             "rgb(244,165,130)"
            ],
            [
             0.4,
             "rgb(253,219,199)"
            ],
            [
             0.5,
             "rgb(247,247,247)"
            ],
            [
             0.6,
             "rgb(209,229,240)"
            ],
            [
             0.7,
             "rgb(146,197,222)"
            ],
            [
             0.8,
             "rgb(67,147,195)"
            ],
            [
             0.9,
             "rgb(33,102,172)"
            ],
            [
             1,
             "rgb(5,48,97)"
            ]
           ],
           "sequential": [
            [
             0,
             "#440154"
            ],
            [
             0.1111111111111111,
             "#482878"
            ],
            [
             0.2222222222222222,
             "#3e4989"
            ],
            [
             0.3333333333333333,
             "#31688e"
            ],
            [
             0.4444444444444444,
             "#26828e"
            ],
            [
             0.5555555555555556,
             "#1f9e89"
            ],
            [
             0.6666666666666666,
             "#35b779"
            ],
            [
             0.7777777777777778,
             "#6ece58"
            ],
            [
             0.8888888888888888,
             "#b5de2b"
            ],
            [
             1,
             "#fde725"
            ]
           ],
           "sequentialminus": [
            [
             0,
             "#440154"
            ],
            [
             0.1111111111111111,
             "#482878"
            ],
            [
             0.2222222222222222,
             "#3e4989"
            ],
            [
             0.3333333333333333,
             "#31688e"
            ],
            [
             0.4444444444444444,
             "#26828e"
            ],
            [
             0.5555555555555556,
             "#1f9e89"
            ],
            [
             0.6666666666666666,
             "#35b779"
            ],
            [
             0.7777777777777778,
             "#6ece58"
            ],
            [
             0.8888888888888888,
             "#b5de2b"
            ],
            [
             1,
             "#fde725"
            ]
           ]
          },
          "colorway": [
           "#1F77B4",
           "#FF7F0E",
           "#2CA02C",
           "#D62728",
           "#9467BD",
           "#8C564B",
           "#E377C2",
           "#7F7F7F",
           "#BCBD22",
           "#17BECF"
          ],
          "font": {
           "color": "rgb(36,36,36)"
          },
          "geo": {
           "bgcolor": "white",
           "lakecolor": "white",
           "landcolor": "white",
           "showlakes": true,
           "showland": true,
           "subunitcolor": "white"
          },
          "hoverlabel": {
           "align": "left"
          },
          "hovermode": "closest",
          "mapbox": {
           "style": "light"
          },
          "paper_bgcolor": "white",
          "plot_bgcolor": "white",
          "polar": {
           "angularaxis": {
            "gridcolor": "rgb(232,232,232)",
            "linecolor": "rgb(36,36,36)",
            "showgrid": false,
            "showline": true,
            "ticks": "outside"
           },
           "bgcolor": "white",
           "radialaxis": {
            "gridcolor": "rgb(232,232,232)",
            "linecolor": "rgb(36,36,36)",
            "showgrid": false,
            "showline": true,
            "ticks": "outside"
           }
          },
          "scene": {
           "xaxis": {
            "backgroundcolor": "white",
            "gridcolor": "rgb(232,232,232)",
            "gridwidth": 2,
            "linecolor": "rgb(36,36,36)",
            "showbackground": true,
            "showgrid": false,
            "showline": true,
            "ticks": "outside",
            "zeroline": false,
            "zerolinecolor": "rgb(36,36,36)"
           },
           "yaxis": {
            "backgroundcolor": "white",
            "gridcolor": "rgb(232,232,232)",
            "gridwidth": 2,
            "linecolor": "rgb(36,36,36)",
            "showbackground": true,
            "showgrid": false,
            "showline": true,
            "ticks": "outside",
            "zeroline": false,
            "zerolinecolor": "rgb(36,36,36)"
           },
           "zaxis": {
            "backgroundcolor": "white",
            "gridcolor": "rgb(232,232,232)",
            "gridwidth": 2,
            "linecolor": "rgb(36,36,36)",
            "showbackground": true,
            "showgrid": false,
            "showline": true,
            "ticks": "outside",
            "zeroline": false,
            "zerolinecolor": "rgb(36,36,36)"
           }
          },
          "shapedefaults": {
           "fillcolor": "black",
           "line": {
            "width": 0
           },
           "opacity": 0.3
          },
          "ternary": {
           "aaxis": {
            "gridcolor": "rgb(232,232,232)",
            "linecolor": "rgb(36,36,36)",
            "showgrid": false,
            "showline": true,
            "ticks": "outside"
           },
           "baxis": {
            "gridcolor": "rgb(232,232,232)",
            "linecolor": "rgb(36,36,36)",
            "showgrid": false,
            "showline": true,
            "ticks": "outside"
           },
           "bgcolor": "white",
           "caxis": {
            "gridcolor": "rgb(232,232,232)",
            "linecolor": "rgb(36,36,36)",
            "showgrid": false,
            "showline": true,
            "ticks": "outside"
           }
          },
          "title": {
           "x": 0.05
          },
          "xaxis": {
           "automargin": true,
           "gridcolor": "rgb(232,232,232)",
           "linecolor": "rgb(36,36,36)",
           "showgrid": false,
           "showline": true,
           "ticks": "outside",
           "title": {
            "standoff": 15
           },
           "zeroline": false,
           "zerolinecolor": "rgb(36,36,36)"
          },
          "yaxis": {
           "automargin": true,
           "gridcolor": "rgb(232,232,232)",
           "linecolor": "rgb(36,36,36)",
           "showgrid": false,
           "showline": true,
           "ticks": "outside",
           "title": {
            "standoff": 15
           },
           "zeroline": false,
           "zerolinecolor": "rgb(36,36,36)"
          }
         }
        },
        "title": {
         "text": "Monthly retention"
        },
        "xaxis": {
         "anchor": "y",
         "domain": [
          0,
          1
         ],
         "title": {
          "text": "# month"
         }
        },
        "yaxis": {
         "anchor": "x",
         "domain": [
          0,
          1
         ],
         "title": {
          "text": "retention, %"
         }
        }
       }
      },
      "text/html": [
       "<div>                            <div id=\"fc70320d-effd-4a0b-b2e5-19ac49b3bb1f\" class=\"plotly-graph-div\" style=\"height:525px; width:100%;\"></div>            <script type=\"text/javascript\">                require([\"plotly\"], function(Plotly) {                    window.PLOTLYENV=window.PLOTLYENV || {};                                    if (document.getElementById(\"fc70320d-effd-4a0b-b2e5-19ac49b3bb1f\")) {                    Plotly.newPlot(                        \"fc70320d-effd-4a0b-b2e5-19ac49b3bb1f\",                        [{\"hovertemplate\":\"product=product1<br># month=%{x}<br>retention, %=%{y}<extra></extra>\",\"legendgroup\":\"product1\",\"line\":{\"color\":\"#1F77B4\",\"dash\":\"solid\"},\"marker\":{\"symbol\":\"circle\"},\"mode\":\"lines\",\"name\":\"product1\",\"orientation\":\"v\",\"showlegend\":true,\"x\":[0,1,2,3,4,5,6,7,8,9,10,11,12,13,14,15,16,17,18,19,20,21,22,23],\"xaxis\":\"x\",\"y\":[100.0,64.51612903225806,31.25,16.806722689075627,10.20408163265306,6.779661016949151,4.8076923076923075,3.5778175313059033,2.7624309392265194,2.195389681668496,1.7857142857142856,1.480384900074019,1.2468827930174562,1.06439595529537,null,null,null,null,null,null,null,null,null,null],\"yaxis\":\"y\",\"type\":\"scatter\"},{\"hovertemplate\":\"product=product2<br># month=%{x}<br>retention, %=%{y}<extra></extra>\",\"legendgroup\":\"product2\",\"line\":{\"color\":\"#FF7F0E\",\"dash\":\"solid\"},\"marker\":{\"symbol\":\"circle\"},\"mode\":\"lines\",\"name\":\"product2\",\"orientation\":\"v\",\"showlegend\":true,\"x\":[0,1,2,3,4,5,6,7,8,9,10,11,12,13,14,15,16,17,18,19,20,21,22,23],\"xaxis\":\"x\",\"y\":[100.0,77.73415765069551,53.81781820747422,38.22831368278713,28.474047040477906,22.16047792900764,17.886408225811305,14.869997221174566,12.663602861819292,11.000228698749002,9.713892778362275,8.697418397932037,7.879227262206988,7.210076754885916,6.655195894038305,6.189462241673847,5.794352175449495,5.455958806528854,5.1636715815799175,4.9092768958834965,4.686333047104011,4.489727868086767,4.315360423358613,4.159908490604444],\"yaxis\":\"y\",\"type\":\"scatter\"},{\"hovertemplate\":\"product=product3<br># month=%{x}<br>retention, %=%{y}<extra></extra>\",\"legendgroup\":\"product3\",\"line\":{\"color\":\"#2CA02C\",\"dash\":\"solid\"},\"marker\":{\"symbol\":\"circle\"},\"mode\":\"lines\",\"name\":\"product3\",\"orientation\":\"v\",\"showlegend\":true,\"x\":[0,1,2,3,4,5,6,7,8,9,10,11,12,13,14,15,16,17,18,19,20,21,22,23],\"xaxis\":\"x\",\"y\":[100.0,53.71794871794873,39.26185751522585,31.734344063595266,27.05152464274289,23.834764001750248,21.478850637983825,19.67387957776082,18.243891594732435,17.08122599456771,16.116157937979576,15.301462574455083,14.603973172799384,13.99968707739967,13.470789751936922,13.003771591234656,12.588195253787077,12.215865000869108,11.880252608155304,11.576091698734512,11.2990854021002,11.045691959191236,10.812965000762794,10.598432857150428],\"yaxis\":\"y\",\"type\":\"scatter\"}],                        {\"template\":{\"data\":{\"histogram2dcontour\":[{\"type\":\"histogram2dcontour\",\"colorbar\":{\"outlinewidth\":1,\"tickcolor\":\"rgb(36,36,36)\",\"ticks\":\"outside\"},\"colorscale\":[[0.0,\"#440154\"],[0.1111111111111111,\"#482878\"],[0.2222222222222222,\"#3e4989\"],[0.3333333333333333,\"#31688e\"],[0.4444444444444444,\"#26828e\"],[0.5555555555555556,\"#1f9e89\"],[0.6666666666666666,\"#35b779\"],[0.7777777777777778,\"#6ece58\"],[0.8888888888888888,\"#b5de2b\"],[1.0,\"#fde725\"]]}],\"choropleth\":[{\"type\":\"choropleth\",\"colorbar\":{\"outlinewidth\":1,\"tickcolor\":\"rgb(36,36,36)\",\"ticks\":\"outside\"}}],\"histogram2d\":[{\"type\":\"histogram2d\",\"colorbar\":{\"outlinewidth\":1,\"tickcolor\":\"rgb(36,36,36)\",\"ticks\":\"outside\"},\"colorscale\":[[0.0,\"#440154\"],[0.1111111111111111,\"#482878\"],[0.2222222222222222,\"#3e4989\"],[0.3333333333333333,\"#31688e\"],[0.4444444444444444,\"#26828e\"],[0.5555555555555556,\"#1f9e89\"],[0.6666666666666666,\"#35b779\"],[0.7777777777777778,\"#6ece58\"],[0.8888888888888888,\"#b5de2b\"],[1.0,\"#fde725\"]]}],\"heatmap\":[{\"type\":\"heatmap\",\"colorbar\":{\"outlinewidth\":1,\"tickcolor\":\"rgb(36,36,36)\",\"ticks\":\"outside\"},\"colorscale\":[[0.0,\"#440154\"],[0.1111111111111111,\"#482878\"],[0.2222222222222222,\"#3e4989\"],[0.3333333333333333,\"#31688e\"],[0.4444444444444444,\"#26828e\"],[0.5555555555555556,\"#1f9e89\"],[0.6666666666666666,\"#35b779\"],[0.7777777777777778,\"#6ece58\"],[0.8888888888888888,\"#b5de2b\"],[1.0,\"#fde725\"]]}],\"heatmapgl\":[{\"type\":\"heatmapgl\",\"colorbar\":{\"outlinewidth\":1,\"tickcolor\":\"rgb(36,36,36)\",\"ticks\":\"outside\"},\"colorscale\":[[0.0,\"#440154\"],[0.1111111111111111,\"#482878\"],[0.2222222222222222,\"#3e4989\"],[0.3333333333333333,\"#31688e\"],[0.4444444444444444,\"#26828e\"],[0.5555555555555556,\"#1f9e89\"],[0.6666666666666666,\"#35b779\"],[0.7777777777777778,\"#6ece58\"],[0.8888888888888888,\"#b5de2b\"],[1.0,\"#fde725\"]]}],\"contourcarpet\":[{\"type\":\"contourcarpet\",\"colorbar\":{\"outlinewidth\":1,\"tickcolor\":\"rgb(36,36,36)\",\"ticks\":\"outside\"}}],\"contour\":[{\"type\":\"contour\",\"colorbar\":{\"outlinewidth\":1,\"tickcolor\":\"rgb(36,36,36)\",\"ticks\":\"outside\"},\"colorscale\":[[0.0,\"#440154\"],[0.1111111111111111,\"#482878\"],[0.2222222222222222,\"#3e4989\"],[0.3333333333333333,\"#31688e\"],[0.4444444444444444,\"#26828e\"],[0.5555555555555556,\"#1f9e89\"],[0.6666666666666666,\"#35b779\"],[0.7777777777777778,\"#6ece58\"],[0.8888888888888888,\"#b5de2b\"],[1.0,\"#fde725\"]]}],\"surface\":[{\"type\":\"surface\",\"colorbar\":{\"outlinewidth\":1,\"tickcolor\":\"rgb(36,36,36)\",\"ticks\":\"outside\"},\"colorscale\":[[0.0,\"#440154\"],[0.1111111111111111,\"#482878\"],[0.2222222222222222,\"#3e4989\"],[0.3333333333333333,\"#31688e\"],[0.4444444444444444,\"#26828e\"],[0.5555555555555556,\"#1f9e89\"],[0.6666666666666666,\"#35b779\"],[0.7777777777777778,\"#6ece58\"],[0.8888888888888888,\"#b5de2b\"],[1.0,\"#fde725\"]]}],\"mesh3d\":[{\"type\":\"mesh3d\",\"colorbar\":{\"outlinewidth\":1,\"tickcolor\":\"rgb(36,36,36)\",\"ticks\":\"outside\"}}],\"scatter\":[{\"fillpattern\":{\"fillmode\":\"overlay\",\"size\":10,\"solidity\":0.2},\"type\":\"scatter\"}],\"parcoords\":[{\"type\":\"parcoords\",\"line\":{\"colorbar\":{\"outlinewidth\":1,\"tickcolor\":\"rgb(36,36,36)\",\"ticks\":\"outside\"}}}],\"scatterpolargl\":[{\"type\":\"scatterpolargl\",\"marker\":{\"colorbar\":{\"outlinewidth\":1,\"tickcolor\":\"rgb(36,36,36)\",\"ticks\":\"outside\"}}}],\"bar\":[{\"error_x\":{\"color\":\"rgb(36,36,36)\"},\"error_y\":{\"color\":\"rgb(36,36,36)\"},\"marker\":{\"line\":{\"color\":\"white\",\"width\":0.5},\"pattern\":{\"fillmode\":\"overlay\",\"size\":10,\"solidity\":0.2}},\"type\":\"bar\"}],\"scattergeo\":[{\"type\":\"scattergeo\",\"marker\":{\"colorbar\":{\"outlinewidth\":1,\"tickcolor\":\"rgb(36,36,36)\",\"ticks\":\"outside\"}}}],\"scatterpolar\":[{\"type\":\"scatterpolar\",\"marker\":{\"colorbar\":{\"outlinewidth\":1,\"tickcolor\":\"rgb(36,36,36)\",\"ticks\":\"outside\"}}}],\"histogram\":[{\"marker\":{\"line\":{\"color\":\"white\",\"width\":0.6}},\"type\":\"histogram\"}],\"scattergl\":[{\"type\":\"scattergl\",\"marker\":{\"colorbar\":{\"outlinewidth\":1,\"tickcolor\":\"rgb(36,36,36)\",\"ticks\":\"outside\"}}}],\"scatter3d\":[{\"type\":\"scatter3d\",\"line\":{\"colorbar\":{\"outlinewidth\":1,\"tickcolor\":\"rgb(36,36,36)\",\"ticks\":\"outside\"}},\"marker\":{\"colorbar\":{\"outlinewidth\":1,\"tickcolor\":\"rgb(36,36,36)\",\"ticks\":\"outside\"}}}],\"scattermapbox\":[{\"type\":\"scattermapbox\",\"marker\":{\"colorbar\":{\"outlinewidth\":1,\"tickcolor\":\"rgb(36,36,36)\",\"ticks\":\"outside\"}}}],\"scatterternary\":[{\"type\":\"scatterternary\",\"marker\":{\"colorbar\":{\"outlinewidth\":1,\"tickcolor\":\"rgb(36,36,36)\",\"ticks\":\"outside\"}}}],\"scattercarpet\":[{\"type\":\"scattercarpet\",\"marker\":{\"colorbar\":{\"outlinewidth\":1,\"tickcolor\":\"rgb(36,36,36)\",\"ticks\":\"outside\"}}}],\"carpet\":[{\"aaxis\":{\"endlinecolor\":\"rgb(36,36,36)\",\"gridcolor\":\"white\",\"linecolor\":\"white\",\"minorgridcolor\":\"white\",\"startlinecolor\":\"rgb(36,36,36)\"},\"baxis\":{\"endlinecolor\":\"rgb(36,36,36)\",\"gridcolor\":\"white\",\"linecolor\":\"white\",\"minorgridcolor\":\"white\",\"startlinecolor\":\"rgb(36,36,36)\"},\"type\":\"carpet\"}],\"table\":[{\"cells\":{\"fill\":{\"color\":\"rgb(237,237,237)\"},\"line\":{\"color\":\"white\"}},\"header\":{\"fill\":{\"color\":\"rgb(217,217,217)\"},\"line\":{\"color\":\"white\"}},\"type\":\"table\"}],\"barpolar\":[{\"marker\":{\"line\":{\"color\":\"white\",\"width\":0.5},\"pattern\":{\"fillmode\":\"overlay\",\"size\":10,\"solidity\":0.2}},\"type\":\"barpolar\"}],\"pie\":[{\"automargin\":true,\"type\":\"pie\"}]},\"layout\":{\"autotypenumbers\":\"strict\",\"colorway\":[\"#1F77B4\",\"#FF7F0E\",\"#2CA02C\",\"#D62728\",\"#9467BD\",\"#8C564B\",\"#E377C2\",\"#7F7F7F\",\"#BCBD22\",\"#17BECF\"],\"font\":{\"color\":\"rgb(36,36,36)\"},\"hovermode\":\"closest\",\"hoverlabel\":{\"align\":\"left\"},\"paper_bgcolor\":\"white\",\"plot_bgcolor\":\"white\",\"polar\":{\"bgcolor\":\"white\",\"angularaxis\":{\"gridcolor\":\"rgb(232,232,232)\",\"linecolor\":\"rgb(36,36,36)\",\"showgrid\":false,\"showline\":true,\"ticks\":\"outside\"},\"radialaxis\":{\"gridcolor\":\"rgb(232,232,232)\",\"linecolor\":\"rgb(36,36,36)\",\"showgrid\":false,\"showline\":true,\"ticks\":\"outside\"}},\"ternary\":{\"bgcolor\":\"white\",\"aaxis\":{\"gridcolor\":\"rgb(232,232,232)\",\"linecolor\":\"rgb(36,36,36)\",\"showgrid\":false,\"showline\":true,\"ticks\":\"outside\"},\"baxis\":{\"gridcolor\":\"rgb(232,232,232)\",\"linecolor\":\"rgb(36,36,36)\",\"showgrid\":false,\"showline\":true,\"ticks\":\"outside\"},\"caxis\":{\"gridcolor\":\"rgb(232,232,232)\",\"linecolor\":\"rgb(36,36,36)\",\"showgrid\":false,\"showline\":true,\"ticks\":\"outside\"}},\"coloraxis\":{\"colorbar\":{\"outlinewidth\":1,\"tickcolor\":\"rgb(36,36,36)\",\"ticks\":\"outside\"}},\"colorscale\":{\"sequential\":[[0.0,\"#440154\"],[0.1111111111111111,\"#482878\"],[0.2222222222222222,\"#3e4989\"],[0.3333333333333333,\"#31688e\"],[0.4444444444444444,\"#26828e\"],[0.5555555555555556,\"#1f9e89\"],[0.6666666666666666,\"#35b779\"],[0.7777777777777778,\"#6ece58\"],[0.8888888888888888,\"#b5de2b\"],[1.0,\"#fde725\"]],\"sequentialminus\":[[0.0,\"#440154\"],[0.1111111111111111,\"#482878\"],[0.2222222222222222,\"#3e4989\"],[0.3333333333333333,\"#31688e\"],[0.4444444444444444,\"#26828e\"],[0.5555555555555556,\"#1f9e89\"],[0.6666666666666666,\"#35b779\"],[0.7777777777777778,\"#6ece58\"],[0.8888888888888888,\"#b5de2b\"],[1.0,\"#fde725\"]],\"diverging\":[[0.0,\"rgb(103,0,31)\"],[0.1,\"rgb(178,24,43)\"],[0.2,\"rgb(214,96,77)\"],[0.3,\"rgb(244,165,130)\"],[0.4,\"rgb(253,219,199)\"],[0.5,\"rgb(247,247,247)\"],[0.6,\"rgb(209,229,240)\"],[0.7,\"rgb(146,197,222)\"],[0.8,\"rgb(67,147,195)\"],[0.9,\"rgb(33,102,172)\"],[1.0,\"rgb(5,48,97)\"]]},\"xaxis\":{\"gridcolor\":\"rgb(232,232,232)\",\"linecolor\":\"rgb(36,36,36)\",\"showgrid\":false,\"showline\":true,\"ticks\":\"outside\",\"title\":{\"standoff\":15},\"zerolinecolor\":\"rgb(36,36,36)\",\"automargin\":true,\"zeroline\":false},\"yaxis\":{\"gridcolor\":\"rgb(232,232,232)\",\"linecolor\":\"rgb(36,36,36)\",\"showgrid\":false,\"showline\":true,\"ticks\":\"outside\",\"title\":{\"standoff\":15},\"zerolinecolor\":\"rgb(36,36,36)\",\"automargin\":true,\"zeroline\":false},\"scene\":{\"xaxis\":{\"backgroundcolor\":\"white\",\"gridcolor\":\"rgb(232,232,232)\",\"linecolor\":\"rgb(36,36,36)\",\"showbackground\":true,\"showgrid\":false,\"showline\":true,\"ticks\":\"outside\",\"zerolinecolor\":\"rgb(36,36,36)\",\"gridwidth\":2,\"zeroline\":false},\"yaxis\":{\"backgroundcolor\":\"white\",\"gridcolor\":\"rgb(232,232,232)\",\"linecolor\":\"rgb(36,36,36)\",\"showbackground\":true,\"showgrid\":false,\"showline\":true,\"ticks\":\"outside\",\"zerolinecolor\":\"rgb(36,36,36)\",\"gridwidth\":2,\"zeroline\":false},\"zaxis\":{\"backgroundcolor\":\"white\",\"gridcolor\":\"rgb(232,232,232)\",\"linecolor\":\"rgb(36,36,36)\",\"showbackground\":true,\"showgrid\":false,\"showline\":true,\"ticks\":\"outside\",\"zerolinecolor\":\"rgb(36,36,36)\",\"gridwidth\":2,\"zeroline\":false}},\"shapedefaults\":{\"fillcolor\":\"black\",\"line\":{\"width\":0},\"opacity\":0.3},\"annotationdefaults\":{\"arrowhead\":0,\"arrowwidth\":1},\"geo\":{\"bgcolor\":\"white\",\"landcolor\":\"white\",\"subunitcolor\":\"white\",\"showland\":true,\"showlakes\":true,\"lakecolor\":\"white\"},\"title\":{\"x\":0.05},\"mapbox\":{\"style\":\"light\"}}},\"xaxis\":{\"anchor\":\"y\",\"domain\":[0.0,1.0],\"title\":{\"text\":\"# month\"}},\"yaxis\":{\"anchor\":\"x\",\"domain\":[0.0,1.0],\"title\":{\"text\":\"retention, %\"}},\"legend\":{\"title\":{\"text\":\"product\"},\"tracegroupgap\":0},\"title\":{\"text\":\"Monthly retention\"}},                        {\"responsive\": true}                    ).then(function(){\n",
       "                            \n",
       "var gd = document.getElementById('fc70320d-effd-4a0b-b2e5-19ac49b3bb1f');\n",
       "var x = new MutationObserver(function (mutations, observer) {{\n",
       "        var display = window.getComputedStyle(gd).display;\n",
       "        if (!display || display === 'none') {{\n",
       "            console.log([gd, 'removed!']);\n",
       "            Plotly.purge(gd);\n",
       "            observer.disconnect();\n",
       "        }}\n",
       "}});\n",
       "\n",
       "// Listen for the removal of the full notebook cells\n",
       "var notebookContainer = gd.closest('#notebook-container');\n",
       "if (notebookContainer) {{\n",
       "    x.observe(notebookContainer, {childList: true});\n",
       "}}\n",
       "\n",
       "// Listen for the clearing of the current output cell\n",
       "var outputEl = gd.closest('.output');\n",
       "if (outputEl) {{\n",
       "    x.observe(outputEl, {childList: true});\n",
       "}}\n",
       "\n",
       "                        })                };                });            </script>        </div>"
      ]
     },
     "metadata": {},
     "output_type": "display_data"
    }
   ],
   "source": [
    "sample_df = pd.DataFrame()\n",
    "sample_df['periods'] = range(24)\n",
    "\n",
    "product_coefs = [\n",
    "    (0, 0.55, 2),\n",
    "    (0.02, 0.3, 1.6),\n",
    "    (0.05, 1, 0.9)\n",
    "]\n",
    "\n",
    "for i in range(len(product_coefs)):\n",
    "    sample_df['product' + str(i + 1)] = sample_df.periods.map(\n",
    "        lambda x: get_retention_same_event(product_coefs[i][0], product_coefs[i][1],\n",
    "                                           product_coefs[i][2], x)\n",
    "    )\n",
    "    \n",
    "sample_df = sample_df.set_index('periods')\n",
    "px.line(sample_df.applymap(lambda x: None if x < 0.01 else 100*x).loc[0:],\n",
    "       title = 'Monthly retention',\n",
    "       labels = {'value': 'retention, %',\n",
    "                'periods': '# month',\n",
    "                'variable': 'product'})"
   ]
  },
  {
   "cell_type": "code",
   "execution_count": 36,
   "id": "1ff38120",
   "metadata": {},
   "outputs": [
    {
     "data": {
      "text/plain": [
       "(datetime.date(2023, 9, 1), datetime.date(2026, 9, 1))"
      ]
     },
     "execution_count": 36,
     "metadata": {},
     "output_type": "execute_result"
    }
   ],
   "source": [
    "start_month = datetime.date(2023, 9, 1)\n",
    "num_periods = 36\n",
    "end_month = start_month + relativedelta(months = num_periods)\n",
    "\n",
    "start_month, end_month"
   ]
  },
  {
   "cell_type": "code",
   "execution_count": 37,
   "id": "3ebbdcc6",
   "metadata": {},
   "outputs": [],
   "source": [
    "new_users_df = pd.DataFrame()\n",
    "new_users_df['date'] = pd.date_range(start_month.strftime('%Y-%m-%d'), \n",
    "                                     end_month.strftime('%Y-%m-%d'), \n",
    "                                     freq = 'M')\n",
    "new_users_df['date'] = new_users_df.date.map(\n",
    "    lambda x: x - datetime.timedelta(days = x.day - 1)\n",
    ")\n",
    "new_users_df['new_users'] = 1000"
   ]
  },
  {
   "cell_type": "code",
   "execution_count": 38,
   "id": "bb0cd112",
   "metadata": {},
   "outputs": [
    {
     "data": {
      "text/plain": [
       "[{'date': Timestamp('2023-09-01 00:00:00'), 'new_users': 1000},\n",
       " {'date': Timestamp('2023-10-01 00:00:00'), 'new_users': 1000},\n",
       " {'date': Timestamp('2023-11-01 00:00:00'), 'new_users': 1000},\n",
       " {'date': Timestamp('2023-12-01 00:00:00'), 'new_users': 1000},\n",
       " {'date': Timestamp('2024-01-01 00:00:00'), 'new_users': 1000}]"
      ]
     },
     "execution_count": 38,
     "metadata": {},
     "output_type": "execute_result"
    }
   ],
   "source": [
    "new_users_df.head().to_dict('records')"
   ]
  },
  {
   "cell_type": "code",
   "execution_count": 39,
   "id": "6585657b",
   "metadata": {},
   "outputs": [],
   "source": [
    "items = []\n",
    "\n",
    "for cohort_item in new_users_df.to_dict('records'):\n",
    "    cohort_date = cohort_item['date'].date()\n",
    "    cohort_size = cohort_item['new_users']\n",
    "    \n",
    "    for p in range(len(product_coefs)):\n",
    "        product = 'product' + str(p+1)\n",
    "    \n",
    "        for m in range(num_periods + 1):\n",
    "            items.append(\n",
    "                {\n",
    "                    'cohort_date': cohort_date,\n",
    "                    'cohort_size': cohort_size,\n",
    "                    'date': cohort_date + relativedelta(months = m),\n",
    "                    'retention_rate': get_retention_same_event(product_coefs[p][0], product_coefs[p][1],\n",
    "                                                           product_coefs[p][2], m),\n",
    "                    'product': product\n",
    "                }\n",
    "            )"
   ]
  },
  {
   "cell_type": "code",
   "execution_count": 40,
   "id": "3222f612",
   "metadata": {},
   "outputs": [],
   "source": [
    "raw_ret_df = pd.DataFrame(items)\n",
    "raw_ret_df['users'] = raw_ret_df.cohort_size * raw_ret_df.retention_rate"
   ]
  },
  {
   "cell_type": "code",
   "execution_count": 41,
   "id": "436a8d45",
   "metadata": {},
   "outputs": [],
   "source": [
    "raw_ret_df = raw_ret_df[raw_ret_df.date < end_month]"
   ]
  },
  {
   "cell_type": "code",
   "execution_count": 44,
   "id": "ec30d863",
   "metadata": {},
   "outputs": [
    {
     "data": {
      "application/vnd.plotly.v1+json": {
       "config": {
        "plotlyServerURL": "https://plot.ly"
       },
       "data": [
        {
         "hovertemplate": "product=product1<br>date=%{x}<br>active users=%{y}<extra></extra>",
         "legendgroup": "product1",
         "line": {
          "color": "#1F77B4",
          "dash": "solid"
         },
         "marker": {
          "symbol": "circle"
         },
         "mode": "lines",
         "name": "product1",
         "orientation": "v",
         "showlegend": true,
         "type": "scatter",
         "x": [
          "2023-09-01",
          "2023-10-01",
          "2023-11-01",
          "2023-12-01",
          "2024-01-01",
          "2024-02-01",
          "2024-03-01",
          "2024-04-01",
          "2024-05-01",
          "2024-06-01",
          "2024-07-01",
          "2024-08-01",
          "2024-09-01",
          "2024-10-01",
          "2024-11-01",
          "2024-12-01",
          "2025-01-01",
          "2025-02-01",
          "2025-03-01",
          "2025-04-01",
          "2025-05-01",
          "2025-06-01",
          "2025-07-01",
          "2025-08-01",
          "2025-09-01",
          "2025-10-01",
          "2025-11-01",
          "2025-12-01",
          "2026-01-01",
          "2026-02-01",
          "2026-03-01",
          "2026-04-01",
          "2026-05-01",
          "2026-06-01",
          "2026-07-01",
          "2026-08-01"
         ],
         "xaxis": "x",
         "y": [
          1000,
          1645.1612903225805,
          1957.6612903225805,
          2125.728517213337,
          2227.7693335398676,
          2295.565943709359,
          2343.642866786282,
          2379.4210420993413,
          2407.045351491606,
          2428.9992483082915,
          2446.856391165434,
          2461.6602401661744,
          2474.129068096349,
          2484.7730276493025,
          2493.964204119891,
          2501.9802361840193,
          2509.0324223617345,
          2515.2843760972764,
          2520.864733240134,
          2525.8760086097154,
          2530.4008954875435,
          2534.506828560834,
          2538.2493435308943,
          2541.6745875795323,
          2544.8212206821127,
          2547.7218733289583,
          2550.4042767624346,
          2552.8921483882586,
          2555.205892025464,
          2557.3631566139657,
          2559.3792856462237,
          2561.267681453985,
          2563.040102581245,
          2564.7069081483755,
          2566.2772599071695,
          2567.7592902887923
         ],
         "yaxis": "y"
        },
        {
         "hovertemplate": "product=product2<br>date=%{x}<br>active users=%{y}<extra></extra>",
         "legendgroup": "product2",
         "line": {
          "color": "#FF7F0E",
          "dash": "solid"
         },
         "marker": {
          "symbol": "circle"
         },
         "mode": "lines",
         "name": "product2",
         "orientation": "v",
         "showlegend": true,
         "type": "scatter",
         "x": [
          "2023-09-01",
          "2023-10-01",
          "2023-11-01",
          "2023-12-01",
          "2024-01-01",
          "2024-02-01",
          "2024-03-01",
          "2024-04-01",
          "2024-05-01",
          "2024-06-01",
          "2024-07-01",
          "2024-08-01",
          "2024-09-01",
          "2024-10-01",
          "2024-11-01",
          "2024-12-01",
          "2025-01-01",
          "2025-02-01",
          "2025-03-01",
          "2025-04-01",
          "2025-05-01",
          "2025-06-01",
          "2025-07-01",
          "2025-08-01",
          "2025-09-01",
          "2025-10-01",
          "2025-11-01",
          "2025-12-01",
          "2026-01-01",
          "2026-02-01",
          "2026-03-01",
          "2026-04-01",
          "2026-05-01",
          "2026-06-01",
          "2026-07-01",
          "2026-08-01"
         ],
         "xaxis": "x",
         "y": [
          1000,
          1777.341576506955,
          2315.5197585816973,
          2697.802895409569,
          2982.543365814348,
          3204.148145104424,
          3383.0122273625375,
          3531.7121995742827,
          3658.3482281924757,
          3768.350515179966,
          3865.4894429635888,
          3952.463626942909,
          4031.255899564979,
          4103.356667113838,
          4169.908626054221,
          4231.803248470959,
          4289.746770225454,
          4344.306358290743,
          4395.943074106543,
          4445.035843065377,
          4491.899173536417,
          4536.796452217285,
          4579.950056450871,
          4621.549141356915,
          4661.7557047918235,
          4700.709360471155,
          4738.531130661446,
          4775.326486700795,
          4811.1878066626805,
          4846.196377148144,
          4880.424035427543,
          4913.934525543687,
          4946.784625197522,
          4979.02508764582,
          5010.7014333108655,
          5041.854618527629
         ],
         "yaxis": "y"
        },
        {
         "hovertemplate": "product=product3<br>date=%{x}<br>active users=%{y}<extra></extra>",
         "legendgroup": "product3",
         "line": {
          "color": "#2CA02C",
          "dash": "solid"
         },
         "marker": {
          "symbol": "circle"
         },
         "mode": "lines",
         "name": "product3",
         "orientation": "v",
         "showlegend": true,
         "type": "scatter",
         "x": [
          "2023-09-01",
          "2023-10-01",
          "2023-11-01",
          "2023-12-01",
          "2024-01-01",
          "2024-02-01",
          "2024-03-01",
          "2024-04-01",
          "2024-05-01",
          "2024-06-01",
          "2024-07-01",
          "2024-08-01",
          "2024-09-01",
          "2024-10-01",
          "2024-11-01",
          "2024-12-01",
          "2025-01-01",
          "2025-02-01",
          "2025-03-01",
          "2025-04-01",
          "2025-05-01",
          "2025-06-01",
          "2025-07-01",
          "2025-08-01",
          "2025-09-01",
          "2025-10-01",
          "2025-11-01",
          "2025-12-01",
          "2026-01-01",
          "2026-02-01",
          "2026-03-01",
          "2026-04-01",
          "2026-05-01",
          "2026-06-01",
          "2026-07-01",
          "2026-08-01"
         ],
         "xaxis": "x",
         "y": [
          1000,
          1537.1794871794873,
          1929.7980623317458,
          2247.141502967698,
          2517.6567493951275,
          2756.00438941263,
          2970.7928957924682,
          3167.5316915700764,
          3349.970607517401,
          3520.7828674630778,
          3681.9444468428737,
          3834.959072587424,
          3980.998804315418,
          4120.995675089414,
          4255.703572608784,
          4385.741288521131,
          4511.623241059002,
          4633.781891067692,
          4752.584417149245,
          4868.345334136591,
          4981.336188157593,
          5091.793107749505,
          5199.922757757133,
          5305.907086328637,
          5409.9071481321025,
          5512.066212158896,
          5612.512309502682,
          5711.360338407907,
          5808.713816118234,
          5904.666346570469,
          5999.302857691329,
          6092.700650523437,
          6184.930293623695,
          6276.056389425569,
          6366.1382340219825,
          6455.230387734341
         ],
         "yaxis": "y"
        }
       ],
       "layout": {
        "legend": {
         "title": {
          "text": "product"
         },
         "tracegroupgap": 0
        },
        "template": {
         "data": {
          "bar": [
           {
            "error_x": {
             "color": "rgb(36,36,36)"
            },
            "error_y": {
             "color": "rgb(36,36,36)"
            },
            "marker": {
             "line": {
              "color": "white",
              "width": 0.5
             },
             "pattern": {
              "fillmode": "overlay",
              "size": 10,
              "solidity": 0.2
             }
            },
            "type": "bar"
           }
          ],
          "barpolar": [
           {
            "marker": {
             "line": {
              "color": "white",
              "width": 0.5
             },
             "pattern": {
              "fillmode": "overlay",
              "size": 10,
              "solidity": 0.2
             }
            },
            "type": "barpolar"
           }
          ],
          "carpet": [
           {
            "aaxis": {
             "endlinecolor": "rgb(36,36,36)",
             "gridcolor": "white",
             "linecolor": "white",
             "minorgridcolor": "white",
             "startlinecolor": "rgb(36,36,36)"
            },
            "baxis": {
             "endlinecolor": "rgb(36,36,36)",
             "gridcolor": "white",
             "linecolor": "white",
             "minorgridcolor": "white",
             "startlinecolor": "rgb(36,36,36)"
            },
            "type": "carpet"
           }
          ],
          "choropleth": [
           {
            "colorbar": {
             "outlinewidth": 1,
             "tickcolor": "rgb(36,36,36)",
             "ticks": "outside"
            },
            "type": "choropleth"
           }
          ],
          "contour": [
           {
            "colorbar": {
             "outlinewidth": 1,
             "tickcolor": "rgb(36,36,36)",
             "ticks": "outside"
            },
            "colorscale": [
             [
              0,
              "#440154"
             ],
             [
              0.1111111111111111,
              "#482878"
             ],
             [
              0.2222222222222222,
              "#3e4989"
             ],
             [
              0.3333333333333333,
              "#31688e"
             ],
             [
              0.4444444444444444,
              "#26828e"
             ],
             [
              0.5555555555555556,
              "#1f9e89"
             ],
             [
              0.6666666666666666,
              "#35b779"
             ],
             [
              0.7777777777777778,
              "#6ece58"
             ],
             [
              0.8888888888888888,
              "#b5de2b"
             ],
             [
              1,
              "#fde725"
             ]
            ],
            "type": "contour"
           }
          ],
          "contourcarpet": [
           {
            "colorbar": {
             "outlinewidth": 1,
             "tickcolor": "rgb(36,36,36)",
             "ticks": "outside"
            },
            "type": "contourcarpet"
           }
          ],
          "heatmap": [
           {
            "colorbar": {
             "outlinewidth": 1,
             "tickcolor": "rgb(36,36,36)",
             "ticks": "outside"
            },
            "colorscale": [
             [
              0,
              "#440154"
             ],
             [
              0.1111111111111111,
              "#482878"
             ],
             [
              0.2222222222222222,
              "#3e4989"
             ],
             [
              0.3333333333333333,
              "#31688e"
             ],
             [
              0.4444444444444444,
              "#26828e"
             ],
             [
              0.5555555555555556,
              "#1f9e89"
             ],
             [
              0.6666666666666666,
              "#35b779"
             ],
             [
              0.7777777777777778,
              "#6ece58"
             ],
             [
              0.8888888888888888,
              "#b5de2b"
             ],
             [
              1,
              "#fde725"
             ]
            ],
            "type": "heatmap"
           }
          ],
          "heatmapgl": [
           {
            "colorbar": {
             "outlinewidth": 1,
             "tickcolor": "rgb(36,36,36)",
             "ticks": "outside"
            },
            "colorscale": [
             [
              0,
              "#440154"
             ],
             [
              0.1111111111111111,
              "#482878"
             ],
             [
              0.2222222222222222,
              "#3e4989"
             ],
             [
              0.3333333333333333,
              "#31688e"
             ],
             [
              0.4444444444444444,
              "#26828e"
             ],
             [
              0.5555555555555556,
              "#1f9e89"
             ],
             [
              0.6666666666666666,
              "#35b779"
             ],
             [
              0.7777777777777778,
              "#6ece58"
             ],
             [
              0.8888888888888888,
              "#b5de2b"
             ],
             [
              1,
              "#fde725"
             ]
            ],
            "type": "heatmapgl"
           }
          ],
          "histogram": [
           {
            "marker": {
             "line": {
              "color": "white",
              "width": 0.6
             }
            },
            "type": "histogram"
           }
          ],
          "histogram2d": [
           {
            "colorbar": {
             "outlinewidth": 1,
             "tickcolor": "rgb(36,36,36)",
             "ticks": "outside"
            },
            "colorscale": [
             [
              0,
              "#440154"
             ],
             [
              0.1111111111111111,
              "#482878"
             ],
             [
              0.2222222222222222,
              "#3e4989"
             ],
             [
              0.3333333333333333,
              "#31688e"
             ],
             [
              0.4444444444444444,
              "#26828e"
             ],
             [
              0.5555555555555556,
              "#1f9e89"
             ],
             [
              0.6666666666666666,
              "#35b779"
             ],
             [
              0.7777777777777778,
              "#6ece58"
             ],
             [
              0.8888888888888888,
              "#b5de2b"
             ],
             [
              1,
              "#fde725"
             ]
            ],
            "type": "histogram2d"
           }
          ],
          "histogram2dcontour": [
           {
            "colorbar": {
             "outlinewidth": 1,
             "tickcolor": "rgb(36,36,36)",
             "ticks": "outside"
            },
            "colorscale": [
             [
              0,
              "#440154"
             ],
             [
              0.1111111111111111,
              "#482878"
             ],
             [
              0.2222222222222222,
              "#3e4989"
             ],
             [
              0.3333333333333333,
              "#31688e"
             ],
             [
              0.4444444444444444,
              "#26828e"
             ],
             [
              0.5555555555555556,
              "#1f9e89"
             ],
             [
              0.6666666666666666,
              "#35b779"
             ],
             [
              0.7777777777777778,
              "#6ece58"
             ],
             [
              0.8888888888888888,
              "#b5de2b"
             ],
             [
              1,
              "#fde725"
             ]
            ],
            "type": "histogram2dcontour"
           }
          ],
          "mesh3d": [
           {
            "colorbar": {
             "outlinewidth": 1,
             "tickcolor": "rgb(36,36,36)",
             "ticks": "outside"
            },
            "type": "mesh3d"
           }
          ],
          "parcoords": [
           {
            "line": {
             "colorbar": {
              "outlinewidth": 1,
              "tickcolor": "rgb(36,36,36)",
              "ticks": "outside"
             }
            },
            "type": "parcoords"
           }
          ],
          "pie": [
           {
            "automargin": true,
            "type": "pie"
           }
          ],
          "scatter": [
           {
            "fillpattern": {
             "fillmode": "overlay",
             "size": 10,
             "solidity": 0.2
            },
            "type": "scatter"
           }
          ],
          "scatter3d": [
           {
            "line": {
             "colorbar": {
              "outlinewidth": 1,
              "tickcolor": "rgb(36,36,36)",
              "ticks": "outside"
             }
            },
            "marker": {
             "colorbar": {
              "outlinewidth": 1,
              "tickcolor": "rgb(36,36,36)",
              "ticks": "outside"
             }
            },
            "type": "scatter3d"
           }
          ],
          "scattercarpet": [
           {
            "marker": {
             "colorbar": {
              "outlinewidth": 1,
              "tickcolor": "rgb(36,36,36)",
              "ticks": "outside"
             }
            },
            "type": "scattercarpet"
           }
          ],
          "scattergeo": [
           {
            "marker": {
             "colorbar": {
              "outlinewidth": 1,
              "tickcolor": "rgb(36,36,36)",
              "ticks": "outside"
             }
            },
            "type": "scattergeo"
           }
          ],
          "scattergl": [
           {
            "marker": {
             "colorbar": {
              "outlinewidth": 1,
              "tickcolor": "rgb(36,36,36)",
              "ticks": "outside"
             }
            },
            "type": "scattergl"
           }
          ],
          "scattermapbox": [
           {
            "marker": {
             "colorbar": {
              "outlinewidth": 1,
              "tickcolor": "rgb(36,36,36)",
              "ticks": "outside"
             }
            },
            "type": "scattermapbox"
           }
          ],
          "scatterpolar": [
           {
            "marker": {
             "colorbar": {
              "outlinewidth": 1,
              "tickcolor": "rgb(36,36,36)",
              "ticks": "outside"
             }
            },
            "type": "scatterpolar"
           }
          ],
          "scatterpolargl": [
           {
            "marker": {
             "colorbar": {
              "outlinewidth": 1,
              "tickcolor": "rgb(36,36,36)",
              "ticks": "outside"
             }
            },
            "type": "scatterpolargl"
           }
          ],
          "scatterternary": [
           {
            "marker": {
             "colorbar": {
              "outlinewidth": 1,
              "tickcolor": "rgb(36,36,36)",
              "ticks": "outside"
             }
            },
            "type": "scatterternary"
           }
          ],
          "surface": [
           {
            "colorbar": {
             "outlinewidth": 1,
             "tickcolor": "rgb(36,36,36)",
             "ticks": "outside"
            },
            "colorscale": [
             [
              0,
              "#440154"
             ],
             [
              0.1111111111111111,
              "#482878"
             ],
             [
              0.2222222222222222,
              "#3e4989"
             ],
             [
              0.3333333333333333,
              "#31688e"
             ],
             [
              0.4444444444444444,
              "#26828e"
             ],
             [
              0.5555555555555556,
              "#1f9e89"
             ],
             [
              0.6666666666666666,
              "#35b779"
             ],
             [
              0.7777777777777778,
              "#6ece58"
             ],
             [
              0.8888888888888888,
              "#b5de2b"
             ],
             [
              1,
              "#fde725"
             ]
            ],
            "type": "surface"
           }
          ],
          "table": [
           {
            "cells": {
             "fill": {
              "color": "rgb(237,237,237)"
             },
             "line": {
              "color": "white"
             }
            },
            "header": {
             "fill": {
              "color": "rgb(217,217,217)"
             },
             "line": {
              "color": "white"
             }
            },
            "type": "table"
           }
          ]
         },
         "layout": {
          "annotationdefaults": {
           "arrowhead": 0,
           "arrowwidth": 1
          },
          "autotypenumbers": "strict",
          "coloraxis": {
           "colorbar": {
            "outlinewidth": 1,
            "tickcolor": "rgb(36,36,36)",
            "ticks": "outside"
           }
          },
          "colorscale": {
           "diverging": [
            [
             0,
             "rgb(103,0,31)"
            ],
            [
             0.1,
             "rgb(178,24,43)"
            ],
            [
             0.2,
             "rgb(214,96,77)"
            ],
            [
             0.3,
             "rgb(244,165,130)"
            ],
            [
             0.4,
             "rgb(253,219,199)"
            ],
            [
             0.5,
             "rgb(247,247,247)"
            ],
            [
             0.6,
             "rgb(209,229,240)"
            ],
            [
             0.7,
             "rgb(146,197,222)"
            ],
            [
             0.8,
             "rgb(67,147,195)"
            ],
            [
             0.9,
             "rgb(33,102,172)"
            ],
            [
             1,
             "rgb(5,48,97)"
            ]
           ],
           "sequential": [
            [
             0,
             "#440154"
            ],
            [
             0.1111111111111111,
             "#482878"
            ],
            [
             0.2222222222222222,
             "#3e4989"
            ],
            [
             0.3333333333333333,
             "#31688e"
            ],
            [
             0.4444444444444444,
             "#26828e"
            ],
            [
             0.5555555555555556,
             "#1f9e89"
            ],
            [
             0.6666666666666666,
             "#35b779"
            ],
            [
             0.7777777777777778,
             "#6ece58"
            ],
            [
             0.8888888888888888,
             "#b5de2b"
            ],
            [
             1,
             "#fde725"
            ]
           ],
           "sequentialminus": [
            [
             0,
             "#440154"
            ],
            [
             0.1111111111111111,
             "#482878"
            ],
            [
             0.2222222222222222,
             "#3e4989"
            ],
            [
             0.3333333333333333,
             "#31688e"
            ],
            [
             0.4444444444444444,
             "#26828e"
            ],
            [
             0.5555555555555556,
             "#1f9e89"
            ],
            [
             0.6666666666666666,
             "#35b779"
            ],
            [
             0.7777777777777778,
             "#6ece58"
            ],
            [
             0.8888888888888888,
             "#b5de2b"
            ],
            [
             1,
             "#fde725"
            ]
           ]
          },
          "colorway": [
           "#1F77B4",
           "#FF7F0E",
           "#2CA02C",
           "#D62728",
           "#9467BD",
           "#8C564B",
           "#E377C2",
           "#7F7F7F",
           "#BCBD22",
           "#17BECF"
          ],
          "font": {
           "color": "rgb(36,36,36)"
          },
          "geo": {
           "bgcolor": "white",
           "lakecolor": "white",
           "landcolor": "white",
           "showlakes": true,
           "showland": true,
           "subunitcolor": "white"
          },
          "hoverlabel": {
           "align": "left"
          },
          "hovermode": "closest",
          "mapbox": {
           "style": "light"
          },
          "paper_bgcolor": "white",
          "plot_bgcolor": "white",
          "polar": {
           "angularaxis": {
            "gridcolor": "rgb(232,232,232)",
            "linecolor": "rgb(36,36,36)",
            "showgrid": false,
            "showline": true,
            "ticks": "outside"
           },
           "bgcolor": "white",
           "radialaxis": {
            "gridcolor": "rgb(232,232,232)",
            "linecolor": "rgb(36,36,36)",
            "showgrid": false,
            "showline": true,
            "ticks": "outside"
           }
          },
          "scene": {
           "xaxis": {
            "backgroundcolor": "white",
            "gridcolor": "rgb(232,232,232)",
            "gridwidth": 2,
            "linecolor": "rgb(36,36,36)",
            "showbackground": true,
            "showgrid": false,
            "showline": true,
            "ticks": "outside",
            "zeroline": false,
            "zerolinecolor": "rgb(36,36,36)"
           },
           "yaxis": {
            "backgroundcolor": "white",
            "gridcolor": "rgb(232,232,232)",
            "gridwidth": 2,
            "linecolor": "rgb(36,36,36)",
            "showbackground": true,
            "showgrid": false,
            "showline": true,
            "ticks": "outside",
            "zeroline": false,
            "zerolinecolor": "rgb(36,36,36)"
           },
           "zaxis": {
            "backgroundcolor": "white",
            "gridcolor": "rgb(232,232,232)",
            "gridwidth": 2,
            "linecolor": "rgb(36,36,36)",
            "showbackground": true,
            "showgrid": false,
            "showline": true,
            "ticks": "outside",
            "zeroline": false,
            "zerolinecolor": "rgb(36,36,36)"
           }
          },
          "shapedefaults": {
           "fillcolor": "black",
           "line": {
            "width": 0
           },
           "opacity": 0.3
          },
          "ternary": {
           "aaxis": {
            "gridcolor": "rgb(232,232,232)",
            "linecolor": "rgb(36,36,36)",
            "showgrid": false,
            "showline": true,
            "ticks": "outside"
           },
           "baxis": {
            "gridcolor": "rgb(232,232,232)",
            "linecolor": "rgb(36,36,36)",
            "showgrid": false,
            "showline": true,
            "ticks": "outside"
           },
           "bgcolor": "white",
           "caxis": {
            "gridcolor": "rgb(232,232,232)",
            "linecolor": "rgb(36,36,36)",
            "showgrid": false,
            "showline": true,
            "ticks": "outside"
           }
          },
          "title": {
           "x": 0.05
          },
          "xaxis": {
           "automargin": true,
           "gridcolor": "rgb(232,232,232)",
           "linecolor": "rgb(36,36,36)",
           "showgrid": false,
           "showline": true,
           "ticks": "outside",
           "title": {
            "standoff": 15
           },
           "zeroline": false,
           "zerolinecolor": "rgb(36,36,36)"
          },
          "yaxis": {
           "automargin": true,
           "gridcolor": "rgb(232,232,232)",
           "linecolor": "rgb(36,36,36)",
           "showgrid": false,
           "showline": true,
           "ticks": "outside",
           "title": {
            "standoff": 15
           },
           "zeroline": false,
           "zerolinecolor": "rgb(36,36,36)"
          }
         }
        },
        "title": {
         "text": "Active users"
        },
        "xaxis": {
         "anchor": "y",
         "domain": [
          0,
          1
         ],
         "title": {
          "text": "date"
         }
        },
        "yaxis": {
         "anchor": "x",
         "domain": [
          0,
          1
         ],
         "title": {
          "text": "active users"
         }
        }
       }
      },
      "text/html": [
       "<div>                            <div id=\"5754f163-fa17-4fd4-8c0a-0f1fd0b52310\" class=\"plotly-graph-div\" style=\"height:525px; width:100%;\"></div>            <script type=\"text/javascript\">                require([\"plotly\"], function(Plotly) {                    window.PLOTLYENV=window.PLOTLYENV || {};                                    if (document.getElementById(\"5754f163-fa17-4fd4-8c0a-0f1fd0b52310\")) {                    Plotly.newPlot(                        \"5754f163-fa17-4fd4-8c0a-0f1fd0b52310\",                        [{\"hovertemplate\":\"product=product1<br>date=%{x}<br>active users=%{y}<extra></extra>\",\"legendgroup\":\"product1\",\"line\":{\"color\":\"#1F77B4\",\"dash\":\"solid\"},\"marker\":{\"symbol\":\"circle\"},\"mode\":\"lines\",\"name\":\"product1\",\"orientation\":\"v\",\"showlegend\":true,\"x\":[\"2023-09-01\",\"2023-10-01\",\"2023-11-01\",\"2023-12-01\",\"2024-01-01\",\"2024-02-01\",\"2024-03-01\",\"2024-04-01\",\"2024-05-01\",\"2024-06-01\",\"2024-07-01\",\"2024-08-01\",\"2024-09-01\",\"2024-10-01\",\"2024-11-01\",\"2024-12-01\",\"2025-01-01\",\"2025-02-01\",\"2025-03-01\",\"2025-04-01\",\"2025-05-01\",\"2025-06-01\",\"2025-07-01\",\"2025-08-01\",\"2025-09-01\",\"2025-10-01\",\"2025-11-01\",\"2025-12-01\",\"2026-01-01\",\"2026-02-01\",\"2026-03-01\",\"2026-04-01\",\"2026-05-01\",\"2026-06-01\",\"2026-07-01\",\"2026-08-01\"],\"xaxis\":\"x\",\"y\":[1000.0,1645.1612903225805,1957.6612903225805,2125.728517213337,2227.7693335398676,2295.565943709359,2343.642866786282,2379.4210420993413,2407.045351491606,2428.9992483082915,2446.856391165434,2461.6602401661744,2474.129068096349,2484.7730276493025,2493.964204119891,2501.9802361840193,2509.0324223617345,2515.2843760972764,2520.864733240134,2525.8760086097154,2530.4008954875435,2534.506828560834,2538.2493435308943,2541.6745875795323,2544.8212206821127,2547.7218733289583,2550.4042767624346,2552.8921483882586,2555.205892025464,2557.3631566139657,2559.3792856462237,2561.267681453985,2563.040102581245,2564.7069081483755,2566.2772599071695,2567.7592902887923],\"yaxis\":\"y\",\"type\":\"scatter\"},{\"hovertemplate\":\"product=product2<br>date=%{x}<br>active users=%{y}<extra></extra>\",\"legendgroup\":\"product2\",\"line\":{\"color\":\"#FF7F0E\",\"dash\":\"solid\"},\"marker\":{\"symbol\":\"circle\"},\"mode\":\"lines\",\"name\":\"product2\",\"orientation\":\"v\",\"showlegend\":true,\"x\":[\"2023-09-01\",\"2023-10-01\",\"2023-11-01\",\"2023-12-01\",\"2024-01-01\",\"2024-02-01\",\"2024-03-01\",\"2024-04-01\",\"2024-05-01\",\"2024-06-01\",\"2024-07-01\",\"2024-08-01\",\"2024-09-01\",\"2024-10-01\",\"2024-11-01\",\"2024-12-01\",\"2025-01-01\",\"2025-02-01\",\"2025-03-01\",\"2025-04-01\",\"2025-05-01\",\"2025-06-01\",\"2025-07-01\",\"2025-08-01\",\"2025-09-01\",\"2025-10-01\",\"2025-11-01\",\"2025-12-01\",\"2026-01-01\",\"2026-02-01\",\"2026-03-01\",\"2026-04-01\",\"2026-05-01\",\"2026-06-01\",\"2026-07-01\",\"2026-08-01\"],\"xaxis\":\"x\",\"y\":[1000.0,1777.341576506955,2315.5197585816973,2697.802895409569,2982.543365814348,3204.148145104424,3383.0122273625375,3531.7121995742827,3658.3482281924757,3768.350515179966,3865.4894429635888,3952.463626942909,4031.255899564979,4103.356667113838,4169.908626054221,4231.803248470959,4289.746770225454,4344.306358290743,4395.943074106543,4445.035843065377,4491.899173536417,4536.796452217285,4579.950056450871,4621.549141356915,4661.7557047918235,4700.709360471155,4738.531130661446,4775.326486700795,4811.1878066626805,4846.196377148144,4880.424035427543,4913.934525543687,4946.784625197522,4979.02508764582,5010.7014333108655,5041.854618527629],\"yaxis\":\"y\",\"type\":\"scatter\"},{\"hovertemplate\":\"product=product3<br>date=%{x}<br>active users=%{y}<extra></extra>\",\"legendgroup\":\"product3\",\"line\":{\"color\":\"#2CA02C\",\"dash\":\"solid\"},\"marker\":{\"symbol\":\"circle\"},\"mode\":\"lines\",\"name\":\"product3\",\"orientation\":\"v\",\"showlegend\":true,\"x\":[\"2023-09-01\",\"2023-10-01\",\"2023-11-01\",\"2023-12-01\",\"2024-01-01\",\"2024-02-01\",\"2024-03-01\",\"2024-04-01\",\"2024-05-01\",\"2024-06-01\",\"2024-07-01\",\"2024-08-01\",\"2024-09-01\",\"2024-10-01\",\"2024-11-01\",\"2024-12-01\",\"2025-01-01\",\"2025-02-01\",\"2025-03-01\",\"2025-04-01\",\"2025-05-01\",\"2025-06-01\",\"2025-07-01\",\"2025-08-01\",\"2025-09-01\",\"2025-10-01\",\"2025-11-01\",\"2025-12-01\",\"2026-01-01\",\"2026-02-01\",\"2026-03-01\",\"2026-04-01\",\"2026-05-01\",\"2026-06-01\",\"2026-07-01\",\"2026-08-01\"],\"xaxis\":\"x\",\"y\":[1000.0,1537.1794871794873,1929.7980623317458,2247.141502967698,2517.6567493951275,2756.00438941263,2970.7928957924682,3167.5316915700764,3349.970607517401,3520.7828674630778,3681.9444468428737,3834.959072587424,3980.998804315418,4120.995675089414,4255.703572608784,4385.741288521131,4511.623241059002,4633.781891067692,4752.584417149245,4868.345334136591,4981.336188157593,5091.793107749505,5199.922757757133,5305.907086328637,5409.9071481321025,5512.066212158896,5612.512309502682,5711.360338407907,5808.713816118234,5904.666346570469,5999.302857691329,6092.700650523437,6184.930293623695,6276.056389425569,6366.1382340219825,6455.230387734341],\"yaxis\":\"y\",\"type\":\"scatter\"}],                        {\"template\":{\"data\":{\"histogram2dcontour\":[{\"type\":\"histogram2dcontour\",\"colorbar\":{\"outlinewidth\":1,\"tickcolor\":\"rgb(36,36,36)\",\"ticks\":\"outside\"},\"colorscale\":[[0.0,\"#440154\"],[0.1111111111111111,\"#482878\"],[0.2222222222222222,\"#3e4989\"],[0.3333333333333333,\"#31688e\"],[0.4444444444444444,\"#26828e\"],[0.5555555555555556,\"#1f9e89\"],[0.6666666666666666,\"#35b779\"],[0.7777777777777778,\"#6ece58\"],[0.8888888888888888,\"#b5de2b\"],[1.0,\"#fde725\"]]}],\"choropleth\":[{\"type\":\"choropleth\",\"colorbar\":{\"outlinewidth\":1,\"tickcolor\":\"rgb(36,36,36)\",\"ticks\":\"outside\"}}],\"histogram2d\":[{\"type\":\"histogram2d\",\"colorbar\":{\"outlinewidth\":1,\"tickcolor\":\"rgb(36,36,36)\",\"ticks\":\"outside\"},\"colorscale\":[[0.0,\"#440154\"],[0.1111111111111111,\"#482878\"],[0.2222222222222222,\"#3e4989\"],[0.3333333333333333,\"#31688e\"],[0.4444444444444444,\"#26828e\"],[0.5555555555555556,\"#1f9e89\"],[0.6666666666666666,\"#35b779\"],[0.7777777777777778,\"#6ece58\"],[0.8888888888888888,\"#b5de2b\"],[1.0,\"#fde725\"]]}],\"heatmap\":[{\"type\":\"heatmap\",\"colorbar\":{\"outlinewidth\":1,\"tickcolor\":\"rgb(36,36,36)\",\"ticks\":\"outside\"},\"colorscale\":[[0.0,\"#440154\"],[0.1111111111111111,\"#482878\"],[0.2222222222222222,\"#3e4989\"],[0.3333333333333333,\"#31688e\"],[0.4444444444444444,\"#26828e\"],[0.5555555555555556,\"#1f9e89\"],[0.6666666666666666,\"#35b779\"],[0.7777777777777778,\"#6ece58\"],[0.8888888888888888,\"#b5de2b\"],[1.0,\"#fde725\"]]}],\"heatmapgl\":[{\"type\":\"heatmapgl\",\"colorbar\":{\"outlinewidth\":1,\"tickcolor\":\"rgb(36,36,36)\",\"ticks\":\"outside\"},\"colorscale\":[[0.0,\"#440154\"],[0.1111111111111111,\"#482878\"],[0.2222222222222222,\"#3e4989\"],[0.3333333333333333,\"#31688e\"],[0.4444444444444444,\"#26828e\"],[0.5555555555555556,\"#1f9e89\"],[0.6666666666666666,\"#35b779\"],[0.7777777777777778,\"#6ece58\"],[0.8888888888888888,\"#b5de2b\"],[1.0,\"#fde725\"]]}],\"contourcarpet\":[{\"type\":\"contourcarpet\",\"colorbar\":{\"outlinewidth\":1,\"tickcolor\":\"rgb(36,36,36)\",\"ticks\":\"outside\"}}],\"contour\":[{\"type\":\"contour\",\"colorbar\":{\"outlinewidth\":1,\"tickcolor\":\"rgb(36,36,36)\",\"ticks\":\"outside\"},\"colorscale\":[[0.0,\"#440154\"],[0.1111111111111111,\"#482878\"],[0.2222222222222222,\"#3e4989\"],[0.3333333333333333,\"#31688e\"],[0.4444444444444444,\"#26828e\"],[0.5555555555555556,\"#1f9e89\"],[0.6666666666666666,\"#35b779\"],[0.7777777777777778,\"#6ece58\"],[0.8888888888888888,\"#b5de2b\"],[1.0,\"#fde725\"]]}],\"surface\":[{\"type\":\"surface\",\"colorbar\":{\"outlinewidth\":1,\"tickcolor\":\"rgb(36,36,36)\",\"ticks\":\"outside\"},\"colorscale\":[[0.0,\"#440154\"],[0.1111111111111111,\"#482878\"],[0.2222222222222222,\"#3e4989\"],[0.3333333333333333,\"#31688e\"],[0.4444444444444444,\"#26828e\"],[0.5555555555555556,\"#1f9e89\"],[0.6666666666666666,\"#35b779\"],[0.7777777777777778,\"#6ece58\"],[0.8888888888888888,\"#b5de2b\"],[1.0,\"#fde725\"]]}],\"mesh3d\":[{\"type\":\"mesh3d\",\"colorbar\":{\"outlinewidth\":1,\"tickcolor\":\"rgb(36,36,36)\",\"ticks\":\"outside\"}}],\"scatter\":[{\"fillpattern\":{\"fillmode\":\"overlay\",\"size\":10,\"solidity\":0.2},\"type\":\"scatter\"}],\"parcoords\":[{\"type\":\"parcoords\",\"line\":{\"colorbar\":{\"outlinewidth\":1,\"tickcolor\":\"rgb(36,36,36)\",\"ticks\":\"outside\"}}}],\"scatterpolargl\":[{\"type\":\"scatterpolargl\",\"marker\":{\"colorbar\":{\"outlinewidth\":1,\"tickcolor\":\"rgb(36,36,36)\",\"ticks\":\"outside\"}}}],\"bar\":[{\"error_x\":{\"color\":\"rgb(36,36,36)\"},\"error_y\":{\"color\":\"rgb(36,36,36)\"},\"marker\":{\"line\":{\"color\":\"white\",\"width\":0.5},\"pattern\":{\"fillmode\":\"overlay\",\"size\":10,\"solidity\":0.2}},\"type\":\"bar\"}],\"scattergeo\":[{\"type\":\"scattergeo\",\"marker\":{\"colorbar\":{\"outlinewidth\":1,\"tickcolor\":\"rgb(36,36,36)\",\"ticks\":\"outside\"}}}],\"scatterpolar\":[{\"type\":\"scatterpolar\",\"marker\":{\"colorbar\":{\"outlinewidth\":1,\"tickcolor\":\"rgb(36,36,36)\",\"ticks\":\"outside\"}}}],\"histogram\":[{\"marker\":{\"line\":{\"color\":\"white\",\"width\":0.6}},\"type\":\"histogram\"}],\"scattergl\":[{\"type\":\"scattergl\",\"marker\":{\"colorbar\":{\"outlinewidth\":1,\"tickcolor\":\"rgb(36,36,36)\",\"ticks\":\"outside\"}}}],\"scatter3d\":[{\"type\":\"scatter3d\",\"line\":{\"colorbar\":{\"outlinewidth\":1,\"tickcolor\":\"rgb(36,36,36)\",\"ticks\":\"outside\"}},\"marker\":{\"colorbar\":{\"outlinewidth\":1,\"tickcolor\":\"rgb(36,36,36)\",\"ticks\":\"outside\"}}}],\"scattermapbox\":[{\"type\":\"scattermapbox\",\"marker\":{\"colorbar\":{\"outlinewidth\":1,\"tickcolor\":\"rgb(36,36,36)\",\"ticks\":\"outside\"}}}],\"scatterternary\":[{\"type\":\"scatterternary\",\"marker\":{\"colorbar\":{\"outlinewidth\":1,\"tickcolor\":\"rgb(36,36,36)\",\"ticks\":\"outside\"}}}],\"scattercarpet\":[{\"type\":\"scattercarpet\",\"marker\":{\"colorbar\":{\"outlinewidth\":1,\"tickcolor\":\"rgb(36,36,36)\",\"ticks\":\"outside\"}}}],\"carpet\":[{\"aaxis\":{\"endlinecolor\":\"rgb(36,36,36)\",\"gridcolor\":\"white\",\"linecolor\":\"white\",\"minorgridcolor\":\"white\",\"startlinecolor\":\"rgb(36,36,36)\"},\"baxis\":{\"endlinecolor\":\"rgb(36,36,36)\",\"gridcolor\":\"white\",\"linecolor\":\"white\",\"minorgridcolor\":\"white\",\"startlinecolor\":\"rgb(36,36,36)\"},\"type\":\"carpet\"}],\"table\":[{\"cells\":{\"fill\":{\"color\":\"rgb(237,237,237)\"},\"line\":{\"color\":\"white\"}},\"header\":{\"fill\":{\"color\":\"rgb(217,217,217)\"},\"line\":{\"color\":\"white\"}},\"type\":\"table\"}],\"barpolar\":[{\"marker\":{\"line\":{\"color\":\"white\",\"width\":0.5},\"pattern\":{\"fillmode\":\"overlay\",\"size\":10,\"solidity\":0.2}},\"type\":\"barpolar\"}],\"pie\":[{\"automargin\":true,\"type\":\"pie\"}]},\"layout\":{\"autotypenumbers\":\"strict\",\"colorway\":[\"#1F77B4\",\"#FF7F0E\",\"#2CA02C\",\"#D62728\",\"#9467BD\",\"#8C564B\",\"#E377C2\",\"#7F7F7F\",\"#BCBD22\",\"#17BECF\"],\"font\":{\"color\":\"rgb(36,36,36)\"},\"hovermode\":\"closest\",\"hoverlabel\":{\"align\":\"left\"},\"paper_bgcolor\":\"white\",\"plot_bgcolor\":\"white\",\"polar\":{\"bgcolor\":\"white\",\"angularaxis\":{\"gridcolor\":\"rgb(232,232,232)\",\"linecolor\":\"rgb(36,36,36)\",\"showgrid\":false,\"showline\":true,\"ticks\":\"outside\"},\"radialaxis\":{\"gridcolor\":\"rgb(232,232,232)\",\"linecolor\":\"rgb(36,36,36)\",\"showgrid\":false,\"showline\":true,\"ticks\":\"outside\"}},\"ternary\":{\"bgcolor\":\"white\",\"aaxis\":{\"gridcolor\":\"rgb(232,232,232)\",\"linecolor\":\"rgb(36,36,36)\",\"showgrid\":false,\"showline\":true,\"ticks\":\"outside\"},\"baxis\":{\"gridcolor\":\"rgb(232,232,232)\",\"linecolor\":\"rgb(36,36,36)\",\"showgrid\":false,\"showline\":true,\"ticks\":\"outside\"},\"caxis\":{\"gridcolor\":\"rgb(232,232,232)\",\"linecolor\":\"rgb(36,36,36)\",\"showgrid\":false,\"showline\":true,\"ticks\":\"outside\"}},\"coloraxis\":{\"colorbar\":{\"outlinewidth\":1,\"tickcolor\":\"rgb(36,36,36)\",\"ticks\":\"outside\"}},\"colorscale\":{\"sequential\":[[0.0,\"#440154\"],[0.1111111111111111,\"#482878\"],[0.2222222222222222,\"#3e4989\"],[0.3333333333333333,\"#31688e\"],[0.4444444444444444,\"#26828e\"],[0.5555555555555556,\"#1f9e89\"],[0.6666666666666666,\"#35b779\"],[0.7777777777777778,\"#6ece58\"],[0.8888888888888888,\"#b5de2b\"],[1.0,\"#fde725\"]],\"sequentialminus\":[[0.0,\"#440154\"],[0.1111111111111111,\"#482878\"],[0.2222222222222222,\"#3e4989\"],[0.3333333333333333,\"#31688e\"],[0.4444444444444444,\"#26828e\"],[0.5555555555555556,\"#1f9e89\"],[0.6666666666666666,\"#35b779\"],[0.7777777777777778,\"#6ece58\"],[0.8888888888888888,\"#b5de2b\"],[1.0,\"#fde725\"]],\"diverging\":[[0.0,\"rgb(103,0,31)\"],[0.1,\"rgb(178,24,43)\"],[0.2,\"rgb(214,96,77)\"],[0.3,\"rgb(244,165,130)\"],[0.4,\"rgb(253,219,199)\"],[0.5,\"rgb(247,247,247)\"],[0.6,\"rgb(209,229,240)\"],[0.7,\"rgb(146,197,222)\"],[0.8,\"rgb(67,147,195)\"],[0.9,\"rgb(33,102,172)\"],[1.0,\"rgb(5,48,97)\"]]},\"xaxis\":{\"gridcolor\":\"rgb(232,232,232)\",\"linecolor\":\"rgb(36,36,36)\",\"showgrid\":false,\"showline\":true,\"ticks\":\"outside\",\"title\":{\"standoff\":15},\"zerolinecolor\":\"rgb(36,36,36)\",\"automargin\":true,\"zeroline\":false},\"yaxis\":{\"gridcolor\":\"rgb(232,232,232)\",\"linecolor\":\"rgb(36,36,36)\",\"showgrid\":false,\"showline\":true,\"ticks\":\"outside\",\"title\":{\"standoff\":15},\"zerolinecolor\":\"rgb(36,36,36)\",\"automargin\":true,\"zeroline\":false},\"scene\":{\"xaxis\":{\"backgroundcolor\":\"white\",\"gridcolor\":\"rgb(232,232,232)\",\"linecolor\":\"rgb(36,36,36)\",\"showbackground\":true,\"showgrid\":false,\"showline\":true,\"ticks\":\"outside\",\"zerolinecolor\":\"rgb(36,36,36)\",\"gridwidth\":2,\"zeroline\":false},\"yaxis\":{\"backgroundcolor\":\"white\",\"gridcolor\":\"rgb(232,232,232)\",\"linecolor\":\"rgb(36,36,36)\",\"showbackground\":true,\"showgrid\":false,\"showline\":true,\"ticks\":\"outside\",\"zerolinecolor\":\"rgb(36,36,36)\",\"gridwidth\":2,\"zeroline\":false},\"zaxis\":{\"backgroundcolor\":\"white\",\"gridcolor\":\"rgb(232,232,232)\",\"linecolor\":\"rgb(36,36,36)\",\"showbackground\":true,\"showgrid\":false,\"showline\":true,\"ticks\":\"outside\",\"zerolinecolor\":\"rgb(36,36,36)\",\"gridwidth\":2,\"zeroline\":false}},\"shapedefaults\":{\"fillcolor\":\"black\",\"line\":{\"width\":0},\"opacity\":0.3},\"annotationdefaults\":{\"arrowhead\":0,\"arrowwidth\":1},\"geo\":{\"bgcolor\":\"white\",\"landcolor\":\"white\",\"subunitcolor\":\"white\",\"showland\":true,\"showlakes\":true,\"lakecolor\":\"white\"},\"title\":{\"x\":0.05},\"mapbox\":{\"style\":\"light\"}}},\"xaxis\":{\"anchor\":\"y\",\"domain\":[0.0,1.0],\"title\":{\"text\":\"date\"}},\"yaxis\":{\"anchor\":\"x\",\"domain\":[0.0,1.0],\"title\":{\"text\":\"active users\"}},\"legend\":{\"title\":{\"text\":\"product\"},\"tracegroupgap\":0},\"title\":{\"text\":\"Active users\"}},                        {\"responsive\": true}                    ).then(function(){\n",
       "                            \n",
       "var gd = document.getElementById('5754f163-fa17-4fd4-8c0a-0f1fd0b52310');\n",
       "var x = new MutationObserver(function (mutations, observer) {{\n",
       "        var display = window.getComputedStyle(gd).display;\n",
       "        if (!display || display === 'none') {{\n",
       "            console.log([gd, 'removed!']);\n",
       "            Plotly.purge(gd);\n",
       "            observer.disconnect();\n",
       "        }}\n",
       "}});\n",
       "\n",
       "// Listen for the removal of the full notebook cells\n",
       "var notebookContainer = gd.closest('#notebook-container');\n",
       "if (notebookContainer) {{\n",
       "    x.observe(notebookContainer, {childList: true});\n",
       "}}\n",
       "\n",
       "// Listen for the clearing of the current output cell\n",
       "var outputEl = gd.closest('.output');\n",
       "if (outputEl) {{\n",
       "    x.observe(outputEl, {childList: true});\n",
       "}}\n",
       "\n",
       "                        })                };                });            </script>        </div>"
      ]
     },
     "metadata": {},
     "output_type": "display_data"
    }
   ],
   "source": [
    "px.line(\n",
    "    raw_ret_df.pivot_table(index = 'date',\n",
    "                      columns = 'product',\n",
    "                      values = 'users', aggfunc = 'sum'),\n",
    "    title = 'Active users',\n",
    "       labels = {'value': 'active users',\n",
    "                'periods': 'month',\n",
    "                'variable': 'product'})"
   ]
  },
  {
   "cell_type": "code",
   "execution_count": 389,
   "id": "7f79684e",
   "metadata": {},
   "outputs": [
    {
     "data": {
      "application/vnd.plotly.v1+json": {
       "config": {
        "plotlyServerURL": "https://plot.ly"
       },
       "data": [
        {
         "fillpattern": {
          "shape": ""
         },
         "hovertemplate": "cohort=2023-09-01<br>date=%{x}<br>active users=%{y}<extra></extra>",
         "legendgroup": "2023-09-01",
         "line": {
          "color": "rgb(95, 70, 144)"
         },
         "marker": {
          "symbol": "circle"
         },
         "mode": "lines",
         "name": "2023-09-01",
         "orientation": "v",
         "showlegend": true,
         "stackgroup": "1",
         "type": "scatter",
         "x": [
          "2023-09-01",
          "2023-10-01",
          "2023-11-01",
          "2023-12-01",
          "2024-01-01",
          "2024-02-01",
          "2024-03-01",
          "2024-04-01",
          "2024-05-01",
          "2024-06-01",
          "2024-07-01",
          "2024-08-01",
          "2024-09-01",
          "2024-10-01",
          "2024-11-01",
          "2024-12-01",
          "2025-01-01",
          "2025-02-01",
          "2025-03-01",
          "2025-04-01",
          "2025-05-01",
          "2025-06-01",
          "2025-07-01",
          "2025-08-01",
          "2025-09-01",
          "2025-10-01",
          "2025-11-01",
          "2025-12-01",
          "2026-01-01",
          "2026-02-01",
          "2026-03-01",
          "2026-04-01",
          "2026-05-01",
          "2026-06-01",
          "2026-07-01",
          "2026-08-01"
         ],
         "xaxis": "x",
         "y": [
          1000,
          645.1612903225806,
          312.5,
          168.0672268907563,
          102.0408163265306,
          67.79661016949152,
          48.07692307692307,
          35.77817531305903,
          27.624309392265193,
          21.95389681668496,
          17.857142857142858,
          14.80384900074019,
          12.468827930174562,
          10.643959552953698,
          9.191176470588234,
          8.016032064128256,
          7.052186177715091,
          6.251953735542356,
          5.580357142857142,
          5.011275369581558,
          4.524886877828054,
          4.105933073290905,
          3.74251497005988,
          3.425244048638465,
          3.146633102580239,
          2.9006526468455403,
          2.6824034334763946,
          2.4878716258241074,
          2.3137436372049978,
          2.15726458850178,
          2.0161290322580645,
          1.8883958077613066,
          1.7724211272598367,
          1.6668055671305941,
          1.5703517587939697,
          1.4820303816228233
         ],
         "yaxis": "y"
        },
        {
         "fillpattern": {
          "shape": ""
         },
         "hovertemplate": "cohort=2023-10-01<br>date=%{x}<br>active users=%{y}<extra></extra>",
         "legendgroup": "2023-10-01",
         "line": {
          "color": "rgb(29, 105, 150)"
         },
         "marker": {
          "symbol": "circle"
         },
         "mode": "lines",
         "name": "2023-10-01",
         "orientation": "v",
         "showlegend": true,
         "stackgroup": "1",
         "type": "scatter",
         "x": [
          "2023-09-01",
          "2023-10-01",
          "2023-11-01",
          "2023-12-01",
          "2024-01-01",
          "2024-02-01",
          "2024-03-01",
          "2024-04-01",
          "2024-05-01",
          "2024-06-01",
          "2024-07-01",
          "2024-08-01",
          "2024-09-01",
          "2024-10-01",
          "2024-11-01",
          "2024-12-01",
          "2025-01-01",
          "2025-02-01",
          "2025-03-01",
          "2025-04-01",
          "2025-05-01",
          "2025-06-01",
          "2025-07-01",
          "2025-08-01",
          "2025-09-01",
          "2025-10-01",
          "2025-11-01",
          "2025-12-01",
          "2026-01-01",
          "2026-02-01",
          "2026-03-01",
          "2026-04-01",
          "2026-05-01",
          "2026-06-01",
          "2026-07-01",
          "2026-08-01"
         ],
         "xaxis": "x",
         "y": [
          null,
          1000,
          645.1612903225806,
          312.5,
          168.0672268907563,
          102.0408163265306,
          67.79661016949152,
          48.07692307692307,
          35.77817531305903,
          27.624309392265193,
          21.95389681668496,
          17.857142857142858,
          14.80384900074019,
          12.468827930174562,
          10.643959552953698,
          9.191176470588234,
          8.016032064128256,
          7.052186177715091,
          6.251953735542356,
          5.580357142857142,
          5.011275369581558,
          4.524886877828054,
          4.105933073290905,
          3.74251497005988,
          3.425244048638465,
          3.146633102580239,
          2.9006526468455403,
          2.6824034334763946,
          2.4878716258241074,
          2.3137436372049978,
          2.15726458850178,
          2.0161290322580645,
          1.8883958077613066,
          1.7724211272598367,
          1.6668055671305941,
          1.5703517587939697
         ],
         "yaxis": "y"
        },
        {
         "fillpattern": {
          "shape": ""
         },
         "hovertemplate": "cohort=2023-11-01<br>date=%{x}<br>active users=%{y}<extra></extra>",
         "legendgroup": "2023-11-01",
         "line": {
          "color": "rgb(56, 166, 165)"
         },
         "marker": {
          "symbol": "circle"
         },
         "mode": "lines",
         "name": "2023-11-01",
         "orientation": "v",
         "showlegend": true,
         "stackgroup": "1",
         "type": "scatter",
         "x": [
          "2023-09-01",
          "2023-10-01",
          "2023-11-01",
          "2023-12-01",
          "2024-01-01",
          "2024-02-01",
          "2024-03-01",
          "2024-04-01",
          "2024-05-01",
          "2024-06-01",
          "2024-07-01",
          "2024-08-01",
          "2024-09-01",
          "2024-10-01",
          "2024-11-01",
          "2024-12-01",
          "2025-01-01",
          "2025-02-01",
          "2025-03-01",
          "2025-04-01",
          "2025-05-01",
          "2025-06-01",
          "2025-07-01",
          "2025-08-01",
          "2025-09-01",
          "2025-10-01",
          "2025-11-01",
          "2025-12-01",
          "2026-01-01",
          "2026-02-01",
          "2026-03-01",
          "2026-04-01",
          "2026-05-01",
          "2026-06-01",
          "2026-07-01",
          "2026-08-01"
         ],
         "xaxis": "x",
         "y": [
          null,
          null,
          1000,
          645.1612903225806,
          312.5,
          168.0672268907563,
          102.0408163265306,
          67.79661016949152,
          48.07692307692307,
          35.77817531305903,
          27.624309392265193,
          21.95389681668496,
          17.857142857142858,
          14.80384900074019,
          12.468827930174562,
          10.643959552953698,
          9.191176470588234,
          8.016032064128256,
          7.052186177715091,
          6.251953735542356,
          5.580357142857142,
          5.011275369581558,
          4.524886877828054,
          4.105933073290905,
          3.74251497005988,
          3.425244048638465,
          3.146633102580239,
          2.9006526468455403,
          2.6824034334763946,
          2.4878716258241074,
          2.3137436372049978,
          2.15726458850178,
          2.0161290322580645,
          1.8883958077613066,
          1.7724211272598367,
          1.6668055671305941
         ],
         "yaxis": "y"
        },
        {
         "fillpattern": {
          "shape": ""
         },
         "hovertemplate": "cohort=2023-12-01<br>date=%{x}<br>active users=%{y}<extra></extra>",
         "legendgroup": "2023-12-01",
         "line": {
          "color": "rgb(15, 133, 84)"
         },
         "marker": {
          "symbol": "circle"
         },
         "mode": "lines",
         "name": "2023-12-01",
         "orientation": "v",
         "showlegend": true,
         "stackgroup": "1",
         "type": "scatter",
         "x": [
          "2023-09-01",
          "2023-10-01",
          "2023-11-01",
          "2023-12-01",
          "2024-01-01",
          "2024-02-01",
          "2024-03-01",
          "2024-04-01",
          "2024-05-01",
          "2024-06-01",
          "2024-07-01",
          "2024-08-01",
          "2024-09-01",
          "2024-10-01",
          "2024-11-01",
          "2024-12-01",
          "2025-01-01",
          "2025-02-01",
          "2025-03-01",
          "2025-04-01",
          "2025-05-01",
          "2025-06-01",
          "2025-07-01",
          "2025-08-01",
          "2025-09-01",
          "2025-10-01",
          "2025-11-01",
          "2025-12-01",
          "2026-01-01",
          "2026-02-01",
          "2026-03-01",
          "2026-04-01",
          "2026-05-01",
          "2026-06-01",
          "2026-07-01",
          "2026-08-01"
         ],
         "xaxis": "x",
         "y": [
          null,
          null,
          null,
          1000,
          645.1612903225806,
          312.5,
          168.0672268907563,
          102.0408163265306,
          67.79661016949152,
          48.07692307692307,
          35.77817531305903,
          27.624309392265193,
          21.95389681668496,
          17.857142857142858,
          14.80384900074019,
          12.468827930174562,
          10.643959552953698,
          9.191176470588234,
          8.016032064128256,
          7.052186177715091,
          6.251953735542356,
          5.580357142857142,
          5.011275369581558,
          4.524886877828054,
          4.105933073290905,
          3.74251497005988,
          3.425244048638465,
          3.146633102580239,
          2.9006526468455403,
          2.6824034334763946,
          2.4878716258241074,
          2.3137436372049978,
          2.15726458850178,
          2.0161290322580645,
          1.8883958077613066,
          1.7724211272598367
         ],
         "yaxis": "y"
        },
        {
         "fillpattern": {
          "shape": ""
         },
         "hovertemplate": "cohort=2024-01-01<br>date=%{x}<br>active users=%{y}<extra></extra>",
         "legendgroup": "2024-01-01",
         "line": {
          "color": "rgb(115, 175, 72)"
         },
         "marker": {
          "symbol": "circle"
         },
         "mode": "lines",
         "name": "2024-01-01",
         "orientation": "v",
         "showlegend": true,
         "stackgroup": "1",
         "type": "scatter",
         "x": [
          "2023-09-01",
          "2023-10-01",
          "2023-11-01",
          "2023-12-01",
          "2024-01-01",
          "2024-02-01",
          "2024-03-01",
          "2024-04-01",
          "2024-05-01",
          "2024-06-01",
          "2024-07-01",
          "2024-08-01",
          "2024-09-01",
          "2024-10-01",
          "2024-11-01",
          "2024-12-01",
          "2025-01-01",
          "2025-02-01",
          "2025-03-01",
          "2025-04-01",
          "2025-05-01",
          "2025-06-01",
          "2025-07-01",
          "2025-08-01",
          "2025-09-01",
          "2025-10-01",
          "2025-11-01",
          "2025-12-01",
          "2026-01-01",
          "2026-02-01",
          "2026-03-01",
          "2026-04-01",
          "2026-05-01",
          "2026-06-01",
          "2026-07-01",
          "2026-08-01"
         ],
         "xaxis": "x",
         "y": [
          null,
          null,
          null,
          null,
          1000,
          645.1612903225806,
          312.5,
          168.0672268907563,
          102.0408163265306,
          67.79661016949152,
          48.07692307692307,
          35.77817531305903,
          27.624309392265193,
          21.95389681668496,
          17.857142857142858,
          14.80384900074019,
          12.468827930174562,
          10.643959552953698,
          9.191176470588234,
          8.016032064128256,
          7.052186177715091,
          6.251953735542356,
          5.580357142857142,
          5.011275369581558,
          4.524886877828054,
          4.105933073290905,
          3.74251497005988,
          3.425244048638465,
          3.146633102580239,
          2.9006526468455403,
          2.6824034334763946,
          2.4878716258241074,
          2.3137436372049978,
          2.15726458850178,
          2.0161290322580645,
          1.8883958077613066
         ],
         "yaxis": "y"
        },
        {
         "fillpattern": {
          "shape": ""
         },
         "hovertemplate": "cohort=2024-02-01<br>date=%{x}<br>active users=%{y}<extra></extra>",
         "legendgroup": "2024-02-01",
         "line": {
          "color": "rgb(237, 173, 8)"
         },
         "marker": {
          "symbol": "circle"
         },
         "mode": "lines",
         "name": "2024-02-01",
         "orientation": "v",
         "showlegend": true,
         "stackgroup": "1",
         "type": "scatter",
         "x": [
          "2023-09-01",
          "2023-10-01",
          "2023-11-01",
          "2023-12-01",
          "2024-01-01",
          "2024-02-01",
          "2024-03-01",
          "2024-04-01",
          "2024-05-01",
          "2024-06-01",
          "2024-07-01",
          "2024-08-01",
          "2024-09-01",
          "2024-10-01",
          "2024-11-01",
          "2024-12-01",
          "2025-01-01",
          "2025-02-01",
          "2025-03-01",
          "2025-04-01",
          "2025-05-01",
          "2025-06-01",
          "2025-07-01",
          "2025-08-01",
          "2025-09-01",
          "2025-10-01",
          "2025-11-01",
          "2025-12-01",
          "2026-01-01",
          "2026-02-01",
          "2026-03-01",
          "2026-04-01",
          "2026-05-01",
          "2026-06-01",
          "2026-07-01",
          "2026-08-01"
         ],
         "xaxis": "x",
         "y": [
          null,
          null,
          null,
          null,
          null,
          1000,
          645.1612903225806,
          312.5,
          168.0672268907563,
          102.0408163265306,
          67.79661016949152,
          48.07692307692307,
          35.77817531305903,
          27.624309392265193,
          21.95389681668496,
          17.857142857142858,
          14.80384900074019,
          12.468827930174562,
          10.643959552953698,
          9.191176470588234,
          8.016032064128256,
          7.052186177715091,
          6.251953735542356,
          5.580357142857142,
          5.011275369581558,
          4.524886877828054,
          4.105933073290905,
          3.74251497005988,
          3.425244048638465,
          3.146633102580239,
          2.9006526468455403,
          2.6824034334763946,
          2.4878716258241074,
          2.3137436372049978,
          2.15726458850178,
          2.0161290322580645
         ],
         "yaxis": "y"
        },
        {
         "fillpattern": {
          "shape": ""
         },
         "hovertemplate": "cohort=2024-03-01<br>date=%{x}<br>active users=%{y}<extra></extra>",
         "legendgroup": "2024-03-01",
         "line": {
          "color": "rgb(225, 124, 5)"
         },
         "marker": {
          "symbol": "circle"
         },
         "mode": "lines",
         "name": "2024-03-01",
         "orientation": "v",
         "showlegend": true,
         "stackgroup": "1",
         "type": "scatter",
         "x": [
          "2023-09-01",
          "2023-10-01",
          "2023-11-01",
          "2023-12-01",
          "2024-01-01",
          "2024-02-01",
          "2024-03-01",
          "2024-04-01",
          "2024-05-01",
          "2024-06-01",
          "2024-07-01",
          "2024-08-01",
          "2024-09-01",
          "2024-10-01",
          "2024-11-01",
          "2024-12-01",
          "2025-01-01",
          "2025-02-01",
          "2025-03-01",
          "2025-04-01",
          "2025-05-01",
          "2025-06-01",
          "2025-07-01",
          "2025-08-01",
          "2025-09-01",
          "2025-10-01",
          "2025-11-01",
          "2025-12-01",
          "2026-01-01",
          "2026-02-01",
          "2026-03-01",
          "2026-04-01",
          "2026-05-01",
          "2026-06-01",
          "2026-07-01",
          "2026-08-01"
         ],
         "xaxis": "x",
         "y": [
          null,
          null,
          null,
          null,
          null,
          null,
          1000,
          645.1612903225806,
          312.5,
          168.0672268907563,
          102.0408163265306,
          67.79661016949152,
          48.07692307692307,
          35.77817531305903,
          27.624309392265193,
          21.95389681668496,
          17.857142857142858,
          14.80384900074019,
          12.468827930174562,
          10.643959552953698,
          9.191176470588234,
          8.016032064128256,
          7.052186177715091,
          6.251953735542356,
          5.580357142857142,
          5.011275369581558,
          4.524886877828054,
          4.105933073290905,
          3.74251497005988,
          3.425244048638465,
          3.146633102580239,
          2.9006526468455403,
          2.6824034334763946,
          2.4878716258241074,
          2.3137436372049978,
          2.15726458850178
         ],
         "yaxis": "y"
        },
        {
         "fillpattern": {
          "shape": ""
         },
         "hovertemplate": "cohort=2024-04-01<br>date=%{x}<br>active users=%{y}<extra></extra>",
         "legendgroup": "2024-04-01",
         "line": {
          "color": "rgb(204, 80, 62)"
         },
         "marker": {
          "symbol": "circle"
         },
         "mode": "lines",
         "name": "2024-04-01",
         "orientation": "v",
         "showlegend": true,
         "stackgroup": "1",
         "type": "scatter",
         "x": [
          "2023-09-01",
          "2023-10-01",
          "2023-11-01",
          "2023-12-01",
          "2024-01-01",
          "2024-02-01",
          "2024-03-01",
          "2024-04-01",
          "2024-05-01",
          "2024-06-01",
          "2024-07-01",
          "2024-08-01",
          "2024-09-01",
          "2024-10-01",
          "2024-11-01",
          "2024-12-01",
          "2025-01-01",
          "2025-02-01",
          "2025-03-01",
          "2025-04-01",
          "2025-05-01",
          "2025-06-01",
          "2025-07-01",
          "2025-08-01",
          "2025-09-01",
          "2025-10-01",
          "2025-11-01",
          "2025-12-01",
          "2026-01-01",
          "2026-02-01",
          "2026-03-01",
          "2026-04-01",
          "2026-05-01",
          "2026-06-01",
          "2026-07-01",
          "2026-08-01"
         ],
         "xaxis": "x",
         "y": [
          null,
          null,
          null,
          null,
          null,
          null,
          null,
          1000,
          645.1612903225806,
          312.5,
          168.0672268907563,
          102.0408163265306,
          67.79661016949152,
          48.07692307692307,
          35.77817531305903,
          27.624309392265193,
          21.95389681668496,
          17.857142857142858,
          14.80384900074019,
          12.468827930174562,
          10.643959552953698,
          9.191176470588234,
          8.016032064128256,
          7.052186177715091,
          6.251953735542356,
          5.580357142857142,
          5.011275369581558,
          4.524886877828054,
          4.105933073290905,
          3.74251497005988,
          3.425244048638465,
          3.146633102580239,
          2.9006526468455403,
          2.6824034334763946,
          2.4878716258241074,
          2.3137436372049978
         ],
         "yaxis": "y"
        },
        {
         "fillpattern": {
          "shape": ""
         },
         "hovertemplate": "cohort=2024-05-01<br>date=%{x}<br>active users=%{y}<extra></extra>",
         "legendgroup": "2024-05-01",
         "line": {
          "color": "rgb(148, 52, 110)"
         },
         "marker": {
          "symbol": "circle"
         },
         "mode": "lines",
         "name": "2024-05-01",
         "orientation": "v",
         "showlegend": true,
         "stackgroup": "1",
         "type": "scatter",
         "x": [
          "2023-09-01",
          "2023-10-01",
          "2023-11-01",
          "2023-12-01",
          "2024-01-01",
          "2024-02-01",
          "2024-03-01",
          "2024-04-01",
          "2024-05-01",
          "2024-06-01",
          "2024-07-01",
          "2024-08-01",
          "2024-09-01",
          "2024-10-01",
          "2024-11-01",
          "2024-12-01",
          "2025-01-01",
          "2025-02-01",
          "2025-03-01",
          "2025-04-01",
          "2025-05-01",
          "2025-06-01",
          "2025-07-01",
          "2025-08-01",
          "2025-09-01",
          "2025-10-01",
          "2025-11-01",
          "2025-12-01",
          "2026-01-01",
          "2026-02-01",
          "2026-03-01",
          "2026-04-01",
          "2026-05-01",
          "2026-06-01",
          "2026-07-01",
          "2026-08-01"
         ],
         "xaxis": "x",
         "y": [
          null,
          null,
          null,
          null,
          null,
          null,
          null,
          null,
          1000,
          645.1612903225806,
          312.5,
          168.0672268907563,
          102.0408163265306,
          67.79661016949152,
          48.07692307692307,
          35.77817531305903,
          27.624309392265193,
          21.95389681668496,
          17.857142857142858,
          14.80384900074019,
          12.468827930174562,
          10.643959552953698,
          9.191176470588234,
          8.016032064128256,
          7.052186177715091,
          6.251953735542356,
          5.580357142857142,
          5.011275369581558,
          4.524886877828054,
          4.105933073290905,
          3.74251497005988,
          3.425244048638465,
          3.146633102580239,
          2.9006526468455403,
          2.6824034334763946,
          2.4878716258241074
         ],
         "yaxis": "y"
        },
        {
         "fillpattern": {
          "shape": ""
         },
         "hovertemplate": "cohort=2024-06-01<br>date=%{x}<br>active users=%{y}<extra></extra>",
         "legendgroup": "2024-06-01",
         "line": {
          "color": "rgb(111, 64, 112)"
         },
         "marker": {
          "symbol": "circle"
         },
         "mode": "lines",
         "name": "2024-06-01",
         "orientation": "v",
         "showlegend": true,
         "stackgroup": "1",
         "type": "scatter",
         "x": [
          "2023-09-01",
          "2023-10-01",
          "2023-11-01",
          "2023-12-01",
          "2024-01-01",
          "2024-02-01",
          "2024-03-01",
          "2024-04-01",
          "2024-05-01",
          "2024-06-01",
          "2024-07-01",
          "2024-08-01",
          "2024-09-01",
          "2024-10-01",
          "2024-11-01",
          "2024-12-01",
          "2025-01-01",
          "2025-02-01",
          "2025-03-01",
          "2025-04-01",
          "2025-05-01",
          "2025-06-01",
          "2025-07-01",
          "2025-08-01",
          "2025-09-01",
          "2025-10-01",
          "2025-11-01",
          "2025-12-01",
          "2026-01-01",
          "2026-02-01",
          "2026-03-01",
          "2026-04-01",
          "2026-05-01",
          "2026-06-01",
          "2026-07-01",
          "2026-08-01"
         ],
         "xaxis": "x",
         "y": [
          null,
          null,
          null,
          null,
          null,
          null,
          null,
          null,
          null,
          1000,
          645.1612903225806,
          312.5,
          168.0672268907563,
          102.0408163265306,
          67.79661016949152,
          48.07692307692307,
          35.77817531305903,
          27.624309392265193,
          21.95389681668496,
          17.857142857142858,
          14.80384900074019,
          12.468827930174562,
          10.643959552953698,
          9.191176470588234,
          8.016032064128256,
          7.052186177715091,
          6.251953735542356,
          5.580357142857142,
          5.011275369581558,
          4.524886877828054,
          4.105933073290905,
          3.74251497005988,
          3.425244048638465,
          3.146633102580239,
          2.9006526468455403,
          2.6824034334763946
         ],
         "yaxis": "y"
        },
        {
         "fillpattern": {
          "shape": ""
         },
         "hovertemplate": "cohort=2024-07-01<br>date=%{x}<br>active users=%{y}<extra></extra>",
         "legendgroup": "2024-07-01",
         "line": {
          "color": "rgb(102, 102, 102)"
         },
         "marker": {
          "symbol": "circle"
         },
         "mode": "lines",
         "name": "2024-07-01",
         "orientation": "v",
         "showlegend": true,
         "stackgroup": "1",
         "type": "scatter",
         "x": [
          "2023-09-01",
          "2023-10-01",
          "2023-11-01",
          "2023-12-01",
          "2024-01-01",
          "2024-02-01",
          "2024-03-01",
          "2024-04-01",
          "2024-05-01",
          "2024-06-01",
          "2024-07-01",
          "2024-08-01",
          "2024-09-01",
          "2024-10-01",
          "2024-11-01",
          "2024-12-01",
          "2025-01-01",
          "2025-02-01",
          "2025-03-01",
          "2025-04-01",
          "2025-05-01",
          "2025-06-01",
          "2025-07-01",
          "2025-08-01",
          "2025-09-01",
          "2025-10-01",
          "2025-11-01",
          "2025-12-01",
          "2026-01-01",
          "2026-02-01",
          "2026-03-01",
          "2026-04-01",
          "2026-05-01",
          "2026-06-01",
          "2026-07-01",
          "2026-08-01"
         ],
         "xaxis": "x",
         "y": [
          null,
          null,
          null,
          null,
          null,
          null,
          null,
          null,
          null,
          null,
          1000,
          645.1612903225806,
          312.5,
          168.0672268907563,
          102.0408163265306,
          67.79661016949152,
          48.07692307692307,
          35.77817531305903,
          27.624309392265193,
          21.95389681668496,
          17.857142857142858,
          14.80384900074019,
          12.468827930174562,
          10.643959552953698,
          9.191176470588234,
          8.016032064128256,
          7.052186177715091,
          6.251953735542356,
          5.580357142857142,
          5.011275369581558,
          4.524886877828054,
          4.105933073290905,
          3.74251497005988,
          3.425244048638465,
          3.146633102580239,
          2.9006526468455403
         ],
         "yaxis": "y"
        },
        {
         "fillpattern": {
          "shape": ""
         },
         "hovertemplate": "cohort=2024-08-01<br>date=%{x}<br>active users=%{y}<extra></extra>",
         "legendgroup": "2024-08-01",
         "line": {
          "color": "rgb(95, 70, 144)"
         },
         "marker": {
          "symbol": "circle"
         },
         "mode": "lines",
         "name": "2024-08-01",
         "orientation": "v",
         "showlegend": true,
         "stackgroup": "1",
         "type": "scatter",
         "x": [
          "2023-09-01",
          "2023-10-01",
          "2023-11-01",
          "2023-12-01",
          "2024-01-01",
          "2024-02-01",
          "2024-03-01",
          "2024-04-01",
          "2024-05-01",
          "2024-06-01",
          "2024-07-01",
          "2024-08-01",
          "2024-09-01",
          "2024-10-01",
          "2024-11-01",
          "2024-12-01",
          "2025-01-01",
          "2025-02-01",
          "2025-03-01",
          "2025-04-01",
          "2025-05-01",
          "2025-06-01",
          "2025-07-01",
          "2025-08-01",
          "2025-09-01",
          "2025-10-01",
          "2025-11-01",
          "2025-12-01",
          "2026-01-01",
          "2026-02-01",
          "2026-03-01",
          "2026-04-01",
          "2026-05-01",
          "2026-06-01",
          "2026-07-01",
          "2026-08-01"
         ],
         "xaxis": "x",
         "y": [
          null,
          null,
          null,
          null,
          null,
          null,
          null,
          null,
          null,
          null,
          null,
          1000,
          645.1612903225806,
          312.5,
          168.0672268907563,
          102.0408163265306,
          67.79661016949152,
          48.07692307692307,
          35.77817531305903,
          27.624309392265193,
          21.95389681668496,
          17.857142857142858,
          14.80384900074019,
          12.468827930174562,
          10.643959552953698,
          9.191176470588234,
          8.016032064128256,
          7.052186177715091,
          6.251953735542356,
          5.580357142857142,
          5.011275369581558,
          4.524886877828054,
          4.105933073290905,
          3.74251497005988,
          3.425244048638465,
          3.146633102580239
         ],
         "yaxis": "y"
        },
        {
         "fillpattern": {
          "shape": ""
         },
         "hovertemplate": "cohort=2024-09-01<br>date=%{x}<br>active users=%{y}<extra></extra>",
         "legendgroup": "2024-09-01",
         "line": {
          "color": "rgb(29, 105, 150)"
         },
         "marker": {
          "symbol": "circle"
         },
         "mode": "lines",
         "name": "2024-09-01",
         "orientation": "v",
         "showlegend": true,
         "stackgroup": "1",
         "type": "scatter",
         "x": [
          "2023-09-01",
          "2023-10-01",
          "2023-11-01",
          "2023-12-01",
          "2024-01-01",
          "2024-02-01",
          "2024-03-01",
          "2024-04-01",
          "2024-05-01",
          "2024-06-01",
          "2024-07-01",
          "2024-08-01",
          "2024-09-01",
          "2024-10-01",
          "2024-11-01",
          "2024-12-01",
          "2025-01-01",
          "2025-02-01",
          "2025-03-01",
          "2025-04-01",
          "2025-05-01",
          "2025-06-01",
          "2025-07-01",
          "2025-08-01",
          "2025-09-01",
          "2025-10-01",
          "2025-11-01",
          "2025-12-01",
          "2026-01-01",
          "2026-02-01",
          "2026-03-01",
          "2026-04-01",
          "2026-05-01",
          "2026-06-01",
          "2026-07-01",
          "2026-08-01"
         ],
         "xaxis": "x",
         "y": [
          null,
          null,
          null,
          null,
          null,
          null,
          null,
          null,
          null,
          null,
          null,
          null,
          1000,
          645.1612903225806,
          312.5,
          168.0672268907563,
          102.0408163265306,
          67.79661016949152,
          48.07692307692307,
          35.77817531305903,
          27.624309392265193,
          21.95389681668496,
          17.857142857142858,
          14.80384900074019,
          12.468827930174562,
          10.643959552953698,
          9.191176470588234,
          8.016032064128256,
          7.052186177715091,
          6.251953735542356,
          5.580357142857142,
          5.011275369581558,
          4.524886877828054,
          4.105933073290905,
          3.74251497005988,
          3.425244048638465
         ],
         "yaxis": "y"
        },
        {
         "fillpattern": {
          "shape": ""
         },
         "hovertemplate": "cohort=2024-10-01<br>date=%{x}<br>active users=%{y}<extra></extra>",
         "legendgroup": "2024-10-01",
         "line": {
          "color": "rgb(56, 166, 165)"
         },
         "marker": {
          "symbol": "circle"
         },
         "mode": "lines",
         "name": "2024-10-01",
         "orientation": "v",
         "showlegend": true,
         "stackgroup": "1",
         "type": "scatter",
         "x": [
          "2023-09-01",
          "2023-10-01",
          "2023-11-01",
          "2023-12-01",
          "2024-01-01",
          "2024-02-01",
          "2024-03-01",
          "2024-04-01",
          "2024-05-01",
          "2024-06-01",
          "2024-07-01",
          "2024-08-01",
          "2024-09-01",
          "2024-10-01",
          "2024-11-01",
          "2024-12-01",
          "2025-01-01",
          "2025-02-01",
          "2025-03-01",
          "2025-04-01",
          "2025-05-01",
          "2025-06-01",
          "2025-07-01",
          "2025-08-01",
          "2025-09-01",
          "2025-10-01",
          "2025-11-01",
          "2025-12-01",
          "2026-01-01",
          "2026-02-01",
          "2026-03-01",
          "2026-04-01",
          "2026-05-01",
          "2026-06-01",
          "2026-07-01",
          "2026-08-01"
         ],
         "xaxis": "x",
         "y": [
          null,
          null,
          null,
          null,
          null,
          null,
          null,
          null,
          null,
          null,
          null,
          null,
          null,
          1000,
          645.1612903225806,
          312.5,
          168.0672268907563,
          102.0408163265306,
          67.79661016949152,
          48.07692307692307,
          35.77817531305903,
          27.624309392265193,
          21.95389681668496,
          17.857142857142858,
          14.80384900074019,
          12.468827930174562,
          10.643959552953698,
          9.191176470588234,
          8.016032064128256,
          7.052186177715091,
          6.251953735542356,
          5.580357142857142,
          5.011275369581558,
          4.524886877828054,
          4.105933073290905,
          3.74251497005988
         ],
         "yaxis": "y"
        },
        {
         "fillpattern": {
          "shape": ""
         },
         "hovertemplate": "cohort=2024-11-01<br>date=%{x}<br>active users=%{y}<extra></extra>",
         "legendgroup": "2024-11-01",
         "line": {
          "color": "rgb(15, 133, 84)"
         },
         "marker": {
          "symbol": "circle"
         },
         "mode": "lines",
         "name": "2024-11-01",
         "orientation": "v",
         "showlegend": true,
         "stackgroup": "1",
         "type": "scatter",
         "x": [
          "2023-09-01",
          "2023-10-01",
          "2023-11-01",
          "2023-12-01",
          "2024-01-01",
          "2024-02-01",
          "2024-03-01",
          "2024-04-01",
          "2024-05-01",
          "2024-06-01",
          "2024-07-01",
          "2024-08-01",
          "2024-09-01",
          "2024-10-01",
          "2024-11-01",
          "2024-12-01",
          "2025-01-01",
          "2025-02-01",
          "2025-03-01",
          "2025-04-01",
          "2025-05-01",
          "2025-06-01",
          "2025-07-01",
          "2025-08-01",
          "2025-09-01",
          "2025-10-01",
          "2025-11-01",
          "2025-12-01",
          "2026-01-01",
          "2026-02-01",
          "2026-03-01",
          "2026-04-01",
          "2026-05-01",
          "2026-06-01",
          "2026-07-01",
          "2026-08-01"
         ],
         "xaxis": "x",
         "y": [
          null,
          null,
          null,
          null,
          null,
          null,
          null,
          null,
          null,
          null,
          null,
          null,
          null,
          null,
          1000,
          645.1612903225806,
          312.5,
          168.0672268907563,
          102.0408163265306,
          67.79661016949152,
          48.07692307692307,
          35.77817531305903,
          27.624309392265193,
          21.95389681668496,
          17.857142857142858,
          14.80384900074019,
          12.468827930174562,
          10.643959552953698,
          9.191176470588234,
          8.016032064128256,
          7.052186177715091,
          6.251953735542356,
          5.580357142857142,
          5.011275369581558,
          4.524886877828054,
          4.105933073290905
         ],
         "yaxis": "y"
        },
        {
         "fillpattern": {
          "shape": ""
         },
         "hovertemplate": "cohort=2024-12-01<br>date=%{x}<br>active users=%{y}<extra></extra>",
         "legendgroup": "2024-12-01",
         "line": {
          "color": "rgb(115, 175, 72)"
         },
         "marker": {
          "symbol": "circle"
         },
         "mode": "lines",
         "name": "2024-12-01",
         "orientation": "v",
         "showlegend": true,
         "stackgroup": "1",
         "type": "scatter",
         "x": [
          "2023-09-01",
          "2023-10-01",
          "2023-11-01",
          "2023-12-01",
          "2024-01-01",
          "2024-02-01",
          "2024-03-01",
          "2024-04-01",
          "2024-05-01",
          "2024-06-01",
          "2024-07-01",
          "2024-08-01",
          "2024-09-01",
          "2024-10-01",
          "2024-11-01",
          "2024-12-01",
          "2025-01-01",
          "2025-02-01",
          "2025-03-01",
          "2025-04-01",
          "2025-05-01",
          "2025-06-01",
          "2025-07-01",
          "2025-08-01",
          "2025-09-01",
          "2025-10-01",
          "2025-11-01",
          "2025-12-01",
          "2026-01-01",
          "2026-02-01",
          "2026-03-01",
          "2026-04-01",
          "2026-05-01",
          "2026-06-01",
          "2026-07-01",
          "2026-08-01"
         ],
         "xaxis": "x",
         "y": [
          null,
          null,
          null,
          null,
          null,
          null,
          null,
          null,
          null,
          null,
          null,
          null,
          null,
          null,
          null,
          1000,
          645.1612903225806,
          312.5,
          168.0672268907563,
          102.0408163265306,
          67.79661016949152,
          48.07692307692307,
          35.77817531305903,
          27.624309392265193,
          21.95389681668496,
          17.857142857142858,
          14.80384900074019,
          12.468827930174562,
          10.643959552953698,
          9.191176470588234,
          8.016032064128256,
          7.052186177715091,
          6.251953735542356,
          5.580357142857142,
          5.011275369581558,
          4.524886877828054
         ],
         "yaxis": "y"
        },
        {
         "fillpattern": {
          "shape": ""
         },
         "hovertemplate": "cohort=2025-01-01<br>date=%{x}<br>active users=%{y}<extra></extra>",
         "legendgroup": "2025-01-01",
         "line": {
          "color": "rgb(237, 173, 8)"
         },
         "marker": {
          "symbol": "circle"
         },
         "mode": "lines",
         "name": "2025-01-01",
         "orientation": "v",
         "showlegend": true,
         "stackgroup": "1",
         "type": "scatter",
         "x": [
          "2023-09-01",
          "2023-10-01",
          "2023-11-01",
          "2023-12-01",
          "2024-01-01",
          "2024-02-01",
          "2024-03-01",
          "2024-04-01",
          "2024-05-01",
          "2024-06-01",
          "2024-07-01",
          "2024-08-01",
          "2024-09-01",
          "2024-10-01",
          "2024-11-01",
          "2024-12-01",
          "2025-01-01",
          "2025-02-01",
          "2025-03-01",
          "2025-04-01",
          "2025-05-01",
          "2025-06-01",
          "2025-07-01",
          "2025-08-01",
          "2025-09-01",
          "2025-10-01",
          "2025-11-01",
          "2025-12-01",
          "2026-01-01",
          "2026-02-01",
          "2026-03-01",
          "2026-04-01",
          "2026-05-01",
          "2026-06-01",
          "2026-07-01",
          "2026-08-01"
         ],
         "xaxis": "x",
         "y": [
          null,
          null,
          null,
          null,
          null,
          null,
          null,
          null,
          null,
          null,
          null,
          null,
          null,
          null,
          null,
          null,
          1000,
          645.1612903225806,
          312.5,
          168.0672268907563,
          102.0408163265306,
          67.79661016949152,
          48.07692307692307,
          35.77817531305903,
          27.624309392265193,
          21.95389681668496,
          17.857142857142858,
          14.80384900074019,
          12.468827930174562,
          10.643959552953698,
          9.191176470588234,
          8.016032064128256,
          7.052186177715091,
          6.251953735542356,
          5.580357142857142,
          5.011275369581558
         ],
         "yaxis": "y"
        },
        {
         "fillpattern": {
          "shape": ""
         },
         "hovertemplate": "cohort=2025-02-01<br>date=%{x}<br>active users=%{y}<extra></extra>",
         "legendgroup": "2025-02-01",
         "line": {
          "color": "rgb(225, 124, 5)"
         },
         "marker": {
          "symbol": "circle"
         },
         "mode": "lines",
         "name": "2025-02-01",
         "orientation": "v",
         "showlegend": true,
         "stackgroup": "1",
         "type": "scatter",
         "x": [
          "2023-09-01",
          "2023-10-01",
          "2023-11-01",
          "2023-12-01",
          "2024-01-01",
          "2024-02-01",
          "2024-03-01",
          "2024-04-01",
          "2024-05-01",
          "2024-06-01",
          "2024-07-01",
          "2024-08-01",
          "2024-09-01",
          "2024-10-01",
          "2024-11-01",
          "2024-12-01",
          "2025-01-01",
          "2025-02-01",
          "2025-03-01",
          "2025-04-01",
          "2025-05-01",
          "2025-06-01",
          "2025-07-01",
          "2025-08-01",
          "2025-09-01",
          "2025-10-01",
          "2025-11-01",
          "2025-12-01",
          "2026-01-01",
          "2026-02-01",
          "2026-03-01",
          "2026-04-01",
          "2026-05-01",
          "2026-06-01",
          "2026-07-01",
          "2026-08-01"
         ],
         "xaxis": "x",
         "y": [
          null,
          null,
          null,
          null,
          null,
          null,
          null,
          null,
          null,
          null,
          null,
          null,
          null,
          null,
          null,
          null,
          null,
          1000,
          645.1612903225806,
          312.5,
          168.0672268907563,
          102.0408163265306,
          67.79661016949152,
          48.07692307692307,
          35.77817531305903,
          27.624309392265193,
          21.95389681668496,
          17.857142857142858,
          14.80384900074019,
          12.468827930174562,
          10.643959552953698,
          9.191176470588234,
          8.016032064128256,
          7.052186177715091,
          6.251953735542356,
          5.580357142857142
         ],
         "yaxis": "y"
        },
        {
         "fillpattern": {
          "shape": ""
         },
         "hovertemplate": "cohort=2025-03-01<br>date=%{x}<br>active users=%{y}<extra></extra>",
         "legendgroup": "2025-03-01",
         "line": {
          "color": "rgb(204, 80, 62)"
         },
         "marker": {
          "symbol": "circle"
         },
         "mode": "lines",
         "name": "2025-03-01",
         "orientation": "v",
         "showlegend": true,
         "stackgroup": "1",
         "type": "scatter",
         "x": [
          "2023-09-01",
          "2023-10-01",
          "2023-11-01",
          "2023-12-01",
          "2024-01-01",
          "2024-02-01",
          "2024-03-01",
          "2024-04-01",
          "2024-05-01",
          "2024-06-01",
          "2024-07-01",
          "2024-08-01",
          "2024-09-01",
          "2024-10-01",
          "2024-11-01",
          "2024-12-01",
          "2025-01-01",
          "2025-02-01",
          "2025-03-01",
          "2025-04-01",
          "2025-05-01",
          "2025-06-01",
          "2025-07-01",
          "2025-08-01",
          "2025-09-01",
          "2025-10-01",
          "2025-11-01",
          "2025-12-01",
          "2026-01-01",
          "2026-02-01",
          "2026-03-01",
          "2026-04-01",
          "2026-05-01",
          "2026-06-01",
          "2026-07-01",
          "2026-08-01"
         ],
         "xaxis": "x",
         "y": [
          null,
          null,
          null,
          null,
          null,
          null,
          null,
          null,
          null,
          null,
          null,
          null,
          null,
          null,
          null,
          null,
          null,
          null,
          1000,
          645.1612903225806,
          312.5,
          168.0672268907563,
          102.0408163265306,
          67.79661016949152,
          48.07692307692307,
          35.77817531305903,
          27.624309392265193,
          21.95389681668496,
          17.857142857142858,
          14.80384900074019,
          12.468827930174562,
          10.643959552953698,
          9.191176470588234,
          8.016032064128256,
          7.052186177715091,
          6.251953735542356
         ],
         "yaxis": "y"
        },
        {
         "fillpattern": {
          "shape": ""
         },
         "hovertemplate": "cohort=2025-04-01<br>date=%{x}<br>active users=%{y}<extra></extra>",
         "legendgroup": "2025-04-01",
         "line": {
          "color": "rgb(148, 52, 110)"
         },
         "marker": {
          "symbol": "circle"
         },
         "mode": "lines",
         "name": "2025-04-01",
         "orientation": "v",
         "showlegend": true,
         "stackgroup": "1",
         "type": "scatter",
         "x": [
          "2023-09-01",
          "2023-10-01",
          "2023-11-01",
          "2023-12-01",
          "2024-01-01",
          "2024-02-01",
          "2024-03-01",
          "2024-04-01",
          "2024-05-01",
          "2024-06-01",
          "2024-07-01",
          "2024-08-01",
          "2024-09-01",
          "2024-10-01",
          "2024-11-01",
          "2024-12-01",
          "2025-01-01",
          "2025-02-01",
          "2025-03-01",
          "2025-04-01",
          "2025-05-01",
          "2025-06-01",
          "2025-07-01",
          "2025-08-01",
          "2025-09-01",
          "2025-10-01",
          "2025-11-01",
          "2025-12-01",
          "2026-01-01",
          "2026-02-01",
          "2026-03-01",
          "2026-04-01",
          "2026-05-01",
          "2026-06-01",
          "2026-07-01",
          "2026-08-01"
         ],
         "xaxis": "x",
         "y": [
          null,
          null,
          null,
          null,
          null,
          null,
          null,
          null,
          null,
          null,
          null,
          null,
          null,
          null,
          null,
          null,
          null,
          null,
          null,
          1000,
          645.1612903225806,
          312.5,
          168.0672268907563,
          102.0408163265306,
          67.79661016949152,
          48.07692307692307,
          35.77817531305903,
          27.624309392265193,
          21.95389681668496,
          17.857142857142858,
          14.80384900074019,
          12.468827930174562,
          10.643959552953698,
          9.191176470588234,
          8.016032064128256,
          7.052186177715091
         ],
         "yaxis": "y"
        },
        {
         "fillpattern": {
          "shape": ""
         },
         "hovertemplate": "cohort=2025-05-01<br>date=%{x}<br>active users=%{y}<extra></extra>",
         "legendgroup": "2025-05-01",
         "line": {
          "color": "rgb(111, 64, 112)"
         },
         "marker": {
          "symbol": "circle"
         },
         "mode": "lines",
         "name": "2025-05-01",
         "orientation": "v",
         "showlegend": true,
         "stackgroup": "1",
         "type": "scatter",
         "x": [
          "2023-09-01",
          "2023-10-01",
          "2023-11-01",
          "2023-12-01",
          "2024-01-01",
          "2024-02-01",
          "2024-03-01",
          "2024-04-01",
          "2024-05-01",
          "2024-06-01",
          "2024-07-01",
          "2024-08-01",
          "2024-09-01",
          "2024-10-01",
          "2024-11-01",
          "2024-12-01",
          "2025-01-01",
          "2025-02-01",
          "2025-03-01",
          "2025-04-01",
          "2025-05-01",
          "2025-06-01",
          "2025-07-01",
          "2025-08-01",
          "2025-09-01",
          "2025-10-01",
          "2025-11-01",
          "2025-12-01",
          "2026-01-01",
          "2026-02-01",
          "2026-03-01",
          "2026-04-01",
          "2026-05-01",
          "2026-06-01",
          "2026-07-01",
          "2026-08-01"
         ],
         "xaxis": "x",
         "y": [
          null,
          null,
          null,
          null,
          null,
          null,
          null,
          null,
          null,
          null,
          null,
          null,
          null,
          null,
          null,
          null,
          null,
          null,
          null,
          null,
          1000,
          645.1612903225806,
          312.5,
          168.0672268907563,
          102.0408163265306,
          67.79661016949152,
          48.07692307692307,
          35.77817531305903,
          27.624309392265193,
          21.95389681668496,
          17.857142857142858,
          14.80384900074019,
          12.468827930174562,
          10.643959552953698,
          9.191176470588234,
          8.016032064128256
         ],
         "yaxis": "y"
        },
        {
         "fillpattern": {
          "shape": ""
         },
         "hovertemplate": "cohort=2025-06-01<br>date=%{x}<br>active users=%{y}<extra></extra>",
         "legendgroup": "2025-06-01",
         "line": {
          "color": "rgb(102, 102, 102)"
         },
         "marker": {
          "symbol": "circle"
         },
         "mode": "lines",
         "name": "2025-06-01",
         "orientation": "v",
         "showlegend": true,
         "stackgroup": "1",
         "type": "scatter",
         "x": [
          "2023-09-01",
          "2023-10-01",
          "2023-11-01",
          "2023-12-01",
          "2024-01-01",
          "2024-02-01",
          "2024-03-01",
          "2024-04-01",
          "2024-05-01",
          "2024-06-01",
          "2024-07-01",
          "2024-08-01",
          "2024-09-01",
          "2024-10-01",
          "2024-11-01",
          "2024-12-01",
          "2025-01-01",
          "2025-02-01",
          "2025-03-01",
          "2025-04-01",
          "2025-05-01",
          "2025-06-01",
          "2025-07-01",
          "2025-08-01",
          "2025-09-01",
          "2025-10-01",
          "2025-11-01",
          "2025-12-01",
          "2026-01-01",
          "2026-02-01",
          "2026-03-01",
          "2026-04-01",
          "2026-05-01",
          "2026-06-01",
          "2026-07-01",
          "2026-08-01"
         ],
         "xaxis": "x",
         "y": [
          null,
          null,
          null,
          null,
          null,
          null,
          null,
          null,
          null,
          null,
          null,
          null,
          null,
          null,
          null,
          null,
          null,
          null,
          null,
          null,
          null,
          1000,
          645.1612903225806,
          312.5,
          168.0672268907563,
          102.0408163265306,
          67.79661016949152,
          48.07692307692307,
          35.77817531305903,
          27.624309392265193,
          21.95389681668496,
          17.857142857142858,
          14.80384900074019,
          12.468827930174562,
          10.643959552953698,
          9.191176470588234
         ],
         "yaxis": "y"
        },
        {
         "fillpattern": {
          "shape": ""
         },
         "hovertemplate": "cohort=2025-07-01<br>date=%{x}<br>active users=%{y}<extra></extra>",
         "legendgroup": "2025-07-01",
         "line": {
          "color": "rgb(95, 70, 144)"
         },
         "marker": {
          "symbol": "circle"
         },
         "mode": "lines",
         "name": "2025-07-01",
         "orientation": "v",
         "showlegend": true,
         "stackgroup": "1",
         "type": "scatter",
         "x": [
          "2023-09-01",
          "2023-10-01",
          "2023-11-01",
          "2023-12-01",
          "2024-01-01",
          "2024-02-01",
          "2024-03-01",
          "2024-04-01",
          "2024-05-01",
          "2024-06-01",
          "2024-07-01",
          "2024-08-01",
          "2024-09-01",
          "2024-10-01",
          "2024-11-01",
          "2024-12-01",
          "2025-01-01",
          "2025-02-01",
          "2025-03-01",
          "2025-04-01",
          "2025-05-01",
          "2025-06-01",
          "2025-07-01",
          "2025-08-01",
          "2025-09-01",
          "2025-10-01",
          "2025-11-01",
          "2025-12-01",
          "2026-01-01",
          "2026-02-01",
          "2026-03-01",
          "2026-04-01",
          "2026-05-01",
          "2026-06-01",
          "2026-07-01",
          "2026-08-01"
         ],
         "xaxis": "x",
         "y": [
          null,
          null,
          null,
          null,
          null,
          null,
          null,
          null,
          null,
          null,
          null,
          null,
          null,
          null,
          null,
          null,
          null,
          null,
          null,
          null,
          null,
          null,
          1000,
          645.1612903225806,
          312.5,
          168.0672268907563,
          102.0408163265306,
          67.79661016949152,
          48.07692307692307,
          35.77817531305903,
          27.624309392265193,
          21.95389681668496,
          17.857142857142858,
          14.80384900074019,
          12.468827930174562,
          10.643959552953698
         ],
         "yaxis": "y"
        },
        {
         "fillpattern": {
          "shape": ""
         },
         "hovertemplate": "cohort=2025-08-01<br>date=%{x}<br>active users=%{y}<extra></extra>",
         "legendgroup": "2025-08-01",
         "line": {
          "color": "rgb(29, 105, 150)"
         },
         "marker": {
          "symbol": "circle"
         },
         "mode": "lines",
         "name": "2025-08-01",
         "orientation": "v",
         "showlegend": true,
         "stackgroup": "1",
         "type": "scatter",
         "x": [
          "2023-09-01",
          "2023-10-01",
          "2023-11-01",
          "2023-12-01",
          "2024-01-01",
          "2024-02-01",
          "2024-03-01",
          "2024-04-01",
          "2024-05-01",
          "2024-06-01",
          "2024-07-01",
          "2024-08-01",
          "2024-09-01",
          "2024-10-01",
          "2024-11-01",
          "2024-12-01",
          "2025-01-01",
          "2025-02-01",
          "2025-03-01",
          "2025-04-01",
          "2025-05-01",
          "2025-06-01",
          "2025-07-01",
          "2025-08-01",
          "2025-09-01",
          "2025-10-01",
          "2025-11-01",
          "2025-12-01",
          "2026-01-01",
          "2026-02-01",
          "2026-03-01",
          "2026-04-01",
          "2026-05-01",
          "2026-06-01",
          "2026-07-01",
          "2026-08-01"
         ],
         "xaxis": "x",
         "y": [
          null,
          null,
          null,
          null,
          null,
          null,
          null,
          null,
          null,
          null,
          null,
          null,
          null,
          null,
          null,
          null,
          null,
          null,
          null,
          null,
          null,
          null,
          null,
          1000,
          645.1612903225806,
          312.5,
          168.0672268907563,
          102.0408163265306,
          67.79661016949152,
          48.07692307692307,
          35.77817531305903,
          27.624309392265193,
          21.95389681668496,
          17.857142857142858,
          14.80384900074019,
          12.468827930174562
         ],
         "yaxis": "y"
        },
        {
         "fillpattern": {
          "shape": ""
         },
         "hovertemplate": "cohort=2025-09-01<br>date=%{x}<br>active users=%{y}<extra></extra>",
         "legendgroup": "2025-09-01",
         "line": {
          "color": "rgb(56, 166, 165)"
         },
         "marker": {
          "symbol": "circle"
         },
         "mode": "lines",
         "name": "2025-09-01",
         "orientation": "v",
         "showlegend": true,
         "stackgroup": "1",
         "type": "scatter",
         "x": [
          "2023-09-01",
          "2023-10-01",
          "2023-11-01",
          "2023-12-01",
          "2024-01-01",
          "2024-02-01",
          "2024-03-01",
          "2024-04-01",
          "2024-05-01",
          "2024-06-01",
          "2024-07-01",
          "2024-08-01",
          "2024-09-01",
          "2024-10-01",
          "2024-11-01",
          "2024-12-01",
          "2025-01-01",
          "2025-02-01",
          "2025-03-01",
          "2025-04-01",
          "2025-05-01",
          "2025-06-01",
          "2025-07-01",
          "2025-08-01",
          "2025-09-01",
          "2025-10-01",
          "2025-11-01",
          "2025-12-01",
          "2026-01-01",
          "2026-02-01",
          "2026-03-01",
          "2026-04-01",
          "2026-05-01",
          "2026-06-01",
          "2026-07-01",
          "2026-08-01"
         ],
         "xaxis": "x",
         "y": [
          null,
          null,
          null,
          null,
          null,
          null,
          null,
          null,
          null,
          null,
          null,
          null,
          null,
          null,
          null,
          null,
          null,
          null,
          null,
          null,
          null,
          null,
          null,
          null,
          1000,
          645.1612903225806,
          312.5,
          168.0672268907563,
          102.0408163265306,
          67.79661016949152,
          48.07692307692307,
          35.77817531305903,
          27.624309392265193,
          21.95389681668496,
          17.857142857142858,
          14.80384900074019
         ],
         "yaxis": "y"
        },
        {
         "fillpattern": {
          "shape": ""
         },
         "hovertemplate": "cohort=2025-10-01<br>date=%{x}<br>active users=%{y}<extra></extra>",
         "legendgroup": "2025-10-01",
         "line": {
          "color": "rgb(15, 133, 84)"
         },
         "marker": {
          "symbol": "circle"
         },
         "mode": "lines",
         "name": "2025-10-01",
         "orientation": "v",
         "showlegend": true,
         "stackgroup": "1",
         "type": "scatter",
         "x": [
          "2023-09-01",
          "2023-10-01",
          "2023-11-01",
          "2023-12-01",
          "2024-01-01",
          "2024-02-01",
          "2024-03-01",
          "2024-04-01",
          "2024-05-01",
          "2024-06-01",
          "2024-07-01",
          "2024-08-01",
          "2024-09-01",
          "2024-10-01",
          "2024-11-01",
          "2024-12-01",
          "2025-01-01",
          "2025-02-01",
          "2025-03-01",
          "2025-04-01",
          "2025-05-01",
          "2025-06-01",
          "2025-07-01",
          "2025-08-01",
          "2025-09-01",
          "2025-10-01",
          "2025-11-01",
          "2025-12-01",
          "2026-01-01",
          "2026-02-01",
          "2026-03-01",
          "2026-04-01",
          "2026-05-01",
          "2026-06-01",
          "2026-07-01",
          "2026-08-01"
         ],
         "xaxis": "x",
         "y": [
          null,
          null,
          null,
          null,
          null,
          null,
          null,
          null,
          null,
          null,
          null,
          null,
          null,
          null,
          null,
          null,
          null,
          null,
          null,
          null,
          null,
          null,
          null,
          null,
          null,
          1000,
          645.1612903225806,
          312.5,
          168.0672268907563,
          102.0408163265306,
          67.79661016949152,
          48.07692307692307,
          35.77817531305903,
          27.624309392265193,
          21.95389681668496,
          17.857142857142858
         ],
         "yaxis": "y"
        },
        {
         "fillpattern": {
          "shape": ""
         },
         "hovertemplate": "cohort=2025-11-01<br>date=%{x}<br>active users=%{y}<extra></extra>",
         "legendgroup": "2025-11-01",
         "line": {
          "color": "rgb(115, 175, 72)"
         },
         "marker": {
          "symbol": "circle"
         },
         "mode": "lines",
         "name": "2025-11-01",
         "orientation": "v",
         "showlegend": true,
         "stackgroup": "1",
         "type": "scatter",
         "x": [
          "2023-09-01",
          "2023-10-01",
          "2023-11-01",
          "2023-12-01",
          "2024-01-01",
          "2024-02-01",
          "2024-03-01",
          "2024-04-01",
          "2024-05-01",
          "2024-06-01",
          "2024-07-01",
          "2024-08-01",
          "2024-09-01",
          "2024-10-01",
          "2024-11-01",
          "2024-12-01",
          "2025-01-01",
          "2025-02-01",
          "2025-03-01",
          "2025-04-01",
          "2025-05-01",
          "2025-06-01",
          "2025-07-01",
          "2025-08-01",
          "2025-09-01",
          "2025-10-01",
          "2025-11-01",
          "2025-12-01",
          "2026-01-01",
          "2026-02-01",
          "2026-03-01",
          "2026-04-01",
          "2026-05-01",
          "2026-06-01",
          "2026-07-01",
          "2026-08-01"
         ],
         "xaxis": "x",
         "y": [
          null,
          null,
          null,
          null,
          null,
          null,
          null,
          null,
          null,
          null,
          null,
          null,
          null,
          null,
          null,
          null,
          null,
          null,
          null,
          null,
          null,
          null,
          null,
          null,
          null,
          null,
          1000,
          645.1612903225806,
          312.5,
          168.0672268907563,
          102.0408163265306,
          67.79661016949152,
          48.07692307692307,
          35.77817531305903,
          27.624309392265193,
          21.95389681668496
         ],
         "yaxis": "y"
        },
        {
         "fillpattern": {
          "shape": ""
         },
         "hovertemplate": "cohort=2025-12-01<br>date=%{x}<br>active users=%{y}<extra></extra>",
         "legendgroup": "2025-12-01",
         "line": {
          "color": "rgb(237, 173, 8)"
         },
         "marker": {
          "symbol": "circle"
         },
         "mode": "lines",
         "name": "2025-12-01",
         "orientation": "v",
         "showlegend": true,
         "stackgroup": "1",
         "type": "scatter",
         "x": [
          "2023-09-01",
          "2023-10-01",
          "2023-11-01",
          "2023-12-01",
          "2024-01-01",
          "2024-02-01",
          "2024-03-01",
          "2024-04-01",
          "2024-05-01",
          "2024-06-01",
          "2024-07-01",
          "2024-08-01",
          "2024-09-01",
          "2024-10-01",
          "2024-11-01",
          "2024-12-01",
          "2025-01-01",
          "2025-02-01",
          "2025-03-01",
          "2025-04-01",
          "2025-05-01",
          "2025-06-01",
          "2025-07-01",
          "2025-08-01",
          "2025-09-01",
          "2025-10-01",
          "2025-11-01",
          "2025-12-01",
          "2026-01-01",
          "2026-02-01",
          "2026-03-01",
          "2026-04-01",
          "2026-05-01",
          "2026-06-01",
          "2026-07-01",
          "2026-08-01"
         ],
         "xaxis": "x",
         "y": [
          null,
          null,
          null,
          null,
          null,
          null,
          null,
          null,
          null,
          null,
          null,
          null,
          null,
          null,
          null,
          null,
          null,
          null,
          null,
          null,
          null,
          null,
          null,
          null,
          null,
          null,
          null,
          1000,
          645.1612903225806,
          312.5,
          168.0672268907563,
          102.0408163265306,
          67.79661016949152,
          48.07692307692307,
          35.77817531305903,
          27.624309392265193
         ],
         "yaxis": "y"
        },
        {
         "fillpattern": {
          "shape": ""
         },
         "hovertemplate": "cohort=2026-01-01<br>date=%{x}<br>active users=%{y}<extra></extra>",
         "legendgroup": "2026-01-01",
         "line": {
          "color": "rgb(225, 124, 5)"
         },
         "marker": {
          "symbol": "circle"
         },
         "mode": "lines",
         "name": "2026-01-01",
         "orientation": "v",
         "showlegend": true,
         "stackgroup": "1",
         "type": "scatter",
         "x": [
          "2023-09-01",
          "2023-10-01",
          "2023-11-01",
          "2023-12-01",
          "2024-01-01",
          "2024-02-01",
          "2024-03-01",
          "2024-04-01",
          "2024-05-01",
          "2024-06-01",
          "2024-07-01",
          "2024-08-01",
          "2024-09-01",
          "2024-10-01",
          "2024-11-01",
          "2024-12-01",
          "2025-01-01",
          "2025-02-01",
          "2025-03-01",
          "2025-04-01",
          "2025-05-01",
          "2025-06-01",
          "2025-07-01",
          "2025-08-01",
          "2025-09-01",
          "2025-10-01",
          "2025-11-01",
          "2025-12-01",
          "2026-01-01",
          "2026-02-01",
          "2026-03-01",
          "2026-04-01",
          "2026-05-01",
          "2026-06-01",
          "2026-07-01",
          "2026-08-01"
         ],
         "xaxis": "x",
         "y": [
          null,
          null,
          null,
          null,
          null,
          null,
          null,
          null,
          null,
          null,
          null,
          null,
          null,
          null,
          null,
          null,
          null,
          null,
          null,
          null,
          null,
          null,
          null,
          null,
          null,
          null,
          null,
          null,
          1000,
          645.1612903225806,
          312.5,
          168.0672268907563,
          102.0408163265306,
          67.79661016949152,
          48.07692307692307,
          35.77817531305903
         ],
         "yaxis": "y"
        },
        {
         "fillpattern": {
          "shape": ""
         },
         "hovertemplate": "cohort=2026-02-01<br>date=%{x}<br>active users=%{y}<extra></extra>",
         "legendgroup": "2026-02-01",
         "line": {
          "color": "rgb(204, 80, 62)"
         },
         "marker": {
          "symbol": "circle"
         },
         "mode": "lines",
         "name": "2026-02-01",
         "orientation": "v",
         "showlegend": true,
         "stackgroup": "1",
         "type": "scatter",
         "x": [
          "2023-09-01",
          "2023-10-01",
          "2023-11-01",
          "2023-12-01",
          "2024-01-01",
          "2024-02-01",
          "2024-03-01",
          "2024-04-01",
          "2024-05-01",
          "2024-06-01",
          "2024-07-01",
          "2024-08-01",
          "2024-09-01",
          "2024-10-01",
          "2024-11-01",
          "2024-12-01",
          "2025-01-01",
          "2025-02-01",
          "2025-03-01",
          "2025-04-01",
          "2025-05-01",
          "2025-06-01",
          "2025-07-01",
          "2025-08-01",
          "2025-09-01",
          "2025-10-01",
          "2025-11-01",
          "2025-12-01",
          "2026-01-01",
          "2026-02-01",
          "2026-03-01",
          "2026-04-01",
          "2026-05-01",
          "2026-06-01",
          "2026-07-01",
          "2026-08-01"
         ],
         "xaxis": "x",
         "y": [
          null,
          null,
          null,
          null,
          null,
          null,
          null,
          null,
          null,
          null,
          null,
          null,
          null,
          null,
          null,
          null,
          null,
          null,
          null,
          null,
          null,
          null,
          null,
          null,
          null,
          null,
          null,
          null,
          null,
          1000,
          645.1612903225806,
          312.5,
          168.0672268907563,
          102.0408163265306,
          67.79661016949152,
          48.07692307692307
         ],
         "yaxis": "y"
        },
        {
         "fillpattern": {
          "shape": ""
         },
         "hovertemplate": "cohort=2026-03-01<br>date=%{x}<br>active users=%{y}<extra></extra>",
         "legendgroup": "2026-03-01",
         "line": {
          "color": "rgb(148, 52, 110)"
         },
         "marker": {
          "symbol": "circle"
         },
         "mode": "lines",
         "name": "2026-03-01",
         "orientation": "v",
         "showlegend": true,
         "stackgroup": "1",
         "type": "scatter",
         "x": [
          "2023-09-01",
          "2023-10-01",
          "2023-11-01",
          "2023-12-01",
          "2024-01-01",
          "2024-02-01",
          "2024-03-01",
          "2024-04-01",
          "2024-05-01",
          "2024-06-01",
          "2024-07-01",
          "2024-08-01",
          "2024-09-01",
          "2024-10-01",
          "2024-11-01",
          "2024-12-01",
          "2025-01-01",
          "2025-02-01",
          "2025-03-01",
          "2025-04-01",
          "2025-05-01",
          "2025-06-01",
          "2025-07-01",
          "2025-08-01",
          "2025-09-01",
          "2025-10-01",
          "2025-11-01",
          "2025-12-01",
          "2026-01-01",
          "2026-02-01",
          "2026-03-01",
          "2026-04-01",
          "2026-05-01",
          "2026-06-01",
          "2026-07-01",
          "2026-08-01"
         ],
         "xaxis": "x",
         "y": [
          null,
          null,
          null,
          null,
          null,
          null,
          null,
          null,
          null,
          null,
          null,
          null,
          null,
          null,
          null,
          null,
          null,
          null,
          null,
          null,
          null,
          null,
          null,
          null,
          null,
          null,
          null,
          null,
          null,
          null,
          1000,
          645.1612903225806,
          312.5,
          168.0672268907563,
          102.0408163265306,
          67.79661016949152
         ],
         "yaxis": "y"
        },
        {
         "fillpattern": {
          "shape": ""
         },
         "hovertemplate": "cohort=2026-04-01<br>date=%{x}<br>active users=%{y}<extra></extra>",
         "legendgroup": "2026-04-01",
         "line": {
          "color": "rgb(111, 64, 112)"
         },
         "marker": {
          "symbol": "circle"
         },
         "mode": "lines",
         "name": "2026-04-01",
         "orientation": "v",
         "showlegend": true,
         "stackgroup": "1",
         "type": "scatter",
         "x": [
          "2023-09-01",
          "2023-10-01",
          "2023-11-01",
          "2023-12-01",
          "2024-01-01",
          "2024-02-01",
          "2024-03-01",
          "2024-04-01",
          "2024-05-01",
          "2024-06-01",
          "2024-07-01",
          "2024-08-01",
          "2024-09-01",
          "2024-10-01",
          "2024-11-01",
          "2024-12-01",
          "2025-01-01",
          "2025-02-01",
          "2025-03-01",
          "2025-04-01",
          "2025-05-01",
          "2025-06-01",
          "2025-07-01",
          "2025-08-01",
          "2025-09-01",
          "2025-10-01",
          "2025-11-01",
          "2025-12-01",
          "2026-01-01",
          "2026-02-01",
          "2026-03-01",
          "2026-04-01",
          "2026-05-01",
          "2026-06-01",
          "2026-07-01",
          "2026-08-01"
         ],
         "xaxis": "x",
         "y": [
          null,
          null,
          null,
          null,
          null,
          null,
          null,
          null,
          null,
          null,
          null,
          null,
          null,
          null,
          null,
          null,
          null,
          null,
          null,
          null,
          null,
          null,
          null,
          null,
          null,
          null,
          null,
          null,
          null,
          null,
          null,
          1000,
          645.1612903225806,
          312.5,
          168.0672268907563,
          102.0408163265306
         ],
         "yaxis": "y"
        },
        {
         "fillpattern": {
          "shape": ""
         },
         "hovertemplate": "cohort=2026-05-01<br>date=%{x}<br>active users=%{y}<extra></extra>",
         "legendgroup": "2026-05-01",
         "line": {
          "color": "rgb(102, 102, 102)"
         },
         "marker": {
          "symbol": "circle"
         },
         "mode": "lines",
         "name": "2026-05-01",
         "orientation": "v",
         "showlegend": true,
         "stackgroup": "1",
         "type": "scatter",
         "x": [
          "2023-09-01",
          "2023-10-01",
          "2023-11-01",
          "2023-12-01",
          "2024-01-01",
          "2024-02-01",
          "2024-03-01",
          "2024-04-01",
          "2024-05-01",
          "2024-06-01",
          "2024-07-01",
          "2024-08-01",
          "2024-09-01",
          "2024-10-01",
          "2024-11-01",
          "2024-12-01",
          "2025-01-01",
          "2025-02-01",
          "2025-03-01",
          "2025-04-01",
          "2025-05-01",
          "2025-06-01",
          "2025-07-01",
          "2025-08-01",
          "2025-09-01",
          "2025-10-01",
          "2025-11-01",
          "2025-12-01",
          "2026-01-01",
          "2026-02-01",
          "2026-03-01",
          "2026-04-01",
          "2026-05-01",
          "2026-06-01",
          "2026-07-01",
          "2026-08-01"
         ],
         "xaxis": "x",
         "y": [
          null,
          null,
          null,
          null,
          null,
          null,
          null,
          null,
          null,
          null,
          null,
          null,
          null,
          null,
          null,
          null,
          null,
          null,
          null,
          null,
          null,
          null,
          null,
          null,
          null,
          null,
          null,
          null,
          null,
          null,
          null,
          null,
          1000,
          645.1612903225806,
          312.5,
          168.0672268907563
         ],
         "yaxis": "y"
        },
        {
         "fillpattern": {
          "shape": ""
         },
         "hovertemplate": "cohort=2026-06-01<br>date=%{x}<br>active users=%{y}<extra></extra>",
         "legendgroup": "2026-06-01",
         "line": {
          "color": "rgb(95, 70, 144)"
         },
         "marker": {
          "symbol": "circle"
         },
         "mode": "lines",
         "name": "2026-06-01",
         "orientation": "v",
         "showlegend": true,
         "stackgroup": "1",
         "type": "scatter",
         "x": [
          "2023-09-01",
          "2023-10-01",
          "2023-11-01",
          "2023-12-01",
          "2024-01-01",
          "2024-02-01",
          "2024-03-01",
          "2024-04-01",
          "2024-05-01",
          "2024-06-01",
          "2024-07-01",
          "2024-08-01",
          "2024-09-01",
          "2024-10-01",
          "2024-11-01",
          "2024-12-01",
          "2025-01-01",
          "2025-02-01",
          "2025-03-01",
          "2025-04-01",
          "2025-05-01",
          "2025-06-01",
          "2025-07-01",
          "2025-08-01",
          "2025-09-01",
          "2025-10-01",
          "2025-11-01",
          "2025-12-01",
          "2026-01-01",
          "2026-02-01",
          "2026-03-01",
          "2026-04-01",
          "2026-05-01",
          "2026-06-01",
          "2026-07-01",
          "2026-08-01"
         ],
         "xaxis": "x",
         "y": [
          null,
          null,
          null,
          null,
          null,
          null,
          null,
          null,
          null,
          null,
          null,
          null,
          null,
          null,
          null,
          null,
          null,
          null,
          null,
          null,
          null,
          null,
          null,
          null,
          null,
          null,
          null,
          null,
          null,
          null,
          null,
          null,
          null,
          1000,
          645.1612903225806,
          312.5
         ],
         "yaxis": "y"
        },
        {
         "fillpattern": {
          "shape": ""
         },
         "hovertemplate": "cohort=2026-07-01<br>date=%{x}<br>active users=%{y}<extra></extra>",
         "legendgroup": "2026-07-01",
         "line": {
          "color": "rgb(29, 105, 150)"
         },
         "marker": {
          "symbol": "circle"
         },
         "mode": "lines",
         "name": "2026-07-01",
         "orientation": "v",
         "showlegend": true,
         "stackgroup": "1",
         "type": "scatter",
         "x": [
          "2023-09-01",
          "2023-10-01",
          "2023-11-01",
          "2023-12-01",
          "2024-01-01",
          "2024-02-01",
          "2024-03-01",
          "2024-04-01",
          "2024-05-01",
          "2024-06-01",
          "2024-07-01",
          "2024-08-01",
          "2024-09-01",
          "2024-10-01",
          "2024-11-01",
          "2024-12-01",
          "2025-01-01",
          "2025-02-01",
          "2025-03-01",
          "2025-04-01",
          "2025-05-01",
          "2025-06-01",
          "2025-07-01",
          "2025-08-01",
          "2025-09-01",
          "2025-10-01",
          "2025-11-01",
          "2025-12-01",
          "2026-01-01",
          "2026-02-01",
          "2026-03-01",
          "2026-04-01",
          "2026-05-01",
          "2026-06-01",
          "2026-07-01",
          "2026-08-01"
         ],
         "xaxis": "x",
         "y": [
          null,
          null,
          null,
          null,
          null,
          null,
          null,
          null,
          null,
          null,
          null,
          null,
          null,
          null,
          null,
          null,
          null,
          null,
          null,
          null,
          null,
          null,
          null,
          null,
          null,
          null,
          null,
          null,
          null,
          null,
          null,
          null,
          null,
          null,
          1000,
          645.1612903225806
         ],
         "yaxis": "y"
        },
        {
         "fillpattern": {
          "shape": ""
         },
         "hovertemplate": "cohort=2026-08-01<br>date=%{x}<br>active users=%{y}<extra></extra>",
         "legendgroup": "2026-08-01",
         "line": {
          "color": "rgb(56, 166, 165)"
         },
         "marker": {
          "symbol": "circle"
         },
         "mode": "lines",
         "name": "2026-08-01",
         "orientation": "v",
         "showlegend": true,
         "stackgroup": "1",
         "type": "scatter",
         "x": [
          "2023-09-01",
          "2023-10-01",
          "2023-11-01",
          "2023-12-01",
          "2024-01-01",
          "2024-02-01",
          "2024-03-01",
          "2024-04-01",
          "2024-05-01",
          "2024-06-01",
          "2024-07-01",
          "2024-08-01",
          "2024-09-01",
          "2024-10-01",
          "2024-11-01",
          "2024-12-01",
          "2025-01-01",
          "2025-02-01",
          "2025-03-01",
          "2025-04-01",
          "2025-05-01",
          "2025-06-01",
          "2025-07-01",
          "2025-08-01",
          "2025-09-01",
          "2025-10-01",
          "2025-11-01",
          "2025-12-01",
          "2026-01-01",
          "2026-02-01",
          "2026-03-01",
          "2026-04-01",
          "2026-05-01",
          "2026-06-01",
          "2026-07-01",
          "2026-08-01"
         ],
         "xaxis": "x",
         "y": [
          null,
          null,
          null,
          null,
          null,
          null,
          null,
          null,
          null,
          null,
          null,
          null,
          null,
          null,
          null,
          null,
          null,
          null,
          null,
          null,
          null,
          null,
          null,
          null,
          null,
          null,
          null,
          null,
          null,
          null,
          null,
          null,
          null,
          null,
          null,
          1000
         ],
         "yaxis": "y"
        }
       ],
       "layout": {
        "legend": {
         "title": {
          "text": "cohort"
         },
         "tracegroupgap": 0
        },
        "template": {
         "data": {
          "bar": [
           {
            "error_x": {
             "color": "rgb(36,36,36)"
            },
            "error_y": {
             "color": "rgb(36,36,36)"
            },
            "marker": {
             "line": {
              "color": "white",
              "width": 0.5
             },
             "pattern": {
              "fillmode": "overlay",
              "size": 10,
              "solidity": 0.2
             }
            },
            "type": "bar"
           }
          ],
          "barpolar": [
           {
            "marker": {
             "line": {
              "color": "white",
              "width": 0.5
             },
             "pattern": {
              "fillmode": "overlay",
              "size": 10,
              "solidity": 0.2
             }
            },
            "type": "barpolar"
           }
          ],
          "carpet": [
           {
            "aaxis": {
             "endlinecolor": "rgb(36,36,36)",
             "gridcolor": "white",
             "linecolor": "white",
             "minorgridcolor": "white",
             "startlinecolor": "rgb(36,36,36)"
            },
            "baxis": {
             "endlinecolor": "rgb(36,36,36)",
             "gridcolor": "white",
             "linecolor": "white",
             "minorgridcolor": "white",
             "startlinecolor": "rgb(36,36,36)"
            },
            "type": "carpet"
           }
          ],
          "choropleth": [
           {
            "colorbar": {
             "outlinewidth": 1,
             "tickcolor": "rgb(36,36,36)",
             "ticks": "outside"
            },
            "type": "choropleth"
           }
          ],
          "contour": [
           {
            "colorbar": {
             "outlinewidth": 1,
             "tickcolor": "rgb(36,36,36)",
             "ticks": "outside"
            },
            "colorscale": [
             [
              0,
              "#440154"
             ],
             [
              0.1111111111111111,
              "#482878"
             ],
             [
              0.2222222222222222,
              "#3e4989"
             ],
             [
              0.3333333333333333,
              "#31688e"
             ],
             [
              0.4444444444444444,
              "#26828e"
             ],
             [
              0.5555555555555556,
              "#1f9e89"
             ],
             [
              0.6666666666666666,
              "#35b779"
             ],
             [
              0.7777777777777778,
              "#6ece58"
             ],
             [
              0.8888888888888888,
              "#b5de2b"
             ],
             [
              1,
              "#fde725"
             ]
            ],
            "type": "contour"
           }
          ],
          "contourcarpet": [
           {
            "colorbar": {
             "outlinewidth": 1,
             "tickcolor": "rgb(36,36,36)",
             "ticks": "outside"
            },
            "type": "contourcarpet"
           }
          ],
          "heatmap": [
           {
            "colorbar": {
             "outlinewidth": 1,
             "tickcolor": "rgb(36,36,36)",
             "ticks": "outside"
            },
            "colorscale": [
             [
              0,
              "#440154"
             ],
             [
              0.1111111111111111,
              "#482878"
             ],
             [
              0.2222222222222222,
              "#3e4989"
             ],
             [
              0.3333333333333333,
              "#31688e"
             ],
             [
              0.4444444444444444,
              "#26828e"
             ],
             [
              0.5555555555555556,
              "#1f9e89"
             ],
             [
              0.6666666666666666,
              "#35b779"
             ],
             [
              0.7777777777777778,
              "#6ece58"
             ],
             [
              0.8888888888888888,
              "#b5de2b"
             ],
             [
              1,
              "#fde725"
             ]
            ],
            "type": "heatmap"
           }
          ],
          "heatmapgl": [
           {
            "colorbar": {
             "outlinewidth": 1,
             "tickcolor": "rgb(36,36,36)",
             "ticks": "outside"
            },
            "colorscale": [
             [
              0,
              "#440154"
             ],
             [
              0.1111111111111111,
              "#482878"
             ],
             [
              0.2222222222222222,
              "#3e4989"
             ],
             [
              0.3333333333333333,
              "#31688e"
             ],
             [
              0.4444444444444444,
              "#26828e"
             ],
             [
              0.5555555555555556,
              "#1f9e89"
             ],
             [
              0.6666666666666666,
              "#35b779"
             ],
             [
              0.7777777777777778,
              "#6ece58"
             ],
             [
              0.8888888888888888,
              "#b5de2b"
             ],
             [
              1,
              "#fde725"
             ]
            ],
            "type": "heatmapgl"
           }
          ],
          "histogram": [
           {
            "marker": {
             "line": {
              "color": "white",
              "width": 0.6
             }
            },
            "type": "histogram"
           }
          ],
          "histogram2d": [
           {
            "colorbar": {
             "outlinewidth": 1,
             "tickcolor": "rgb(36,36,36)",
             "ticks": "outside"
            },
            "colorscale": [
             [
              0,
              "#440154"
             ],
             [
              0.1111111111111111,
              "#482878"
             ],
             [
              0.2222222222222222,
              "#3e4989"
             ],
             [
              0.3333333333333333,
              "#31688e"
             ],
             [
              0.4444444444444444,
              "#26828e"
             ],
             [
              0.5555555555555556,
              "#1f9e89"
             ],
             [
              0.6666666666666666,
              "#35b779"
             ],
             [
              0.7777777777777778,
              "#6ece58"
             ],
             [
              0.8888888888888888,
              "#b5de2b"
             ],
             [
              1,
              "#fde725"
             ]
            ],
            "type": "histogram2d"
           }
          ],
          "histogram2dcontour": [
           {
            "colorbar": {
             "outlinewidth": 1,
             "tickcolor": "rgb(36,36,36)",
             "ticks": "outside"
            },
            "colorscale": [
             [
              0,
              "#440154"
             ],
             [
              0.1111111111111111,
              "#482878"
             ],
             [
              0.2222222222222222,
              "#3e4989"
             ],
             [
              0.3333333333333333,
              "#31688e"
             ],
             [
              0.4444444444444444,
              "#26828e"
             ],
             [
              0.5555555555555556,
              "#1f9e89"
             ],
             [
              0.6666666666666666,
              "#35b779"
             ],
             [
              0.7777777777777778,
              "#6ece58"
             ],
             [
              0.8888888888888888,
              "#b5de2b"
             ],
             [
              1,
              "#fde725"
             ]
            ],
            "type": "histogram2dcontour"
           }
          ],
          "mesh3d": [
           {
            "colorbar": {
             "outlinewidth": 1,
             "tickcolor": "rgb(36,36,36)",
             "ticks": "outside"
            },
            "type": "mesh3d"
           }
          ],
          "parcoords": [
           {
            "line": {
             "colorbar": {
              "outlinewidth": 1,
              "tickcolor": "rgb(36,36,36)",
              "ticks": "outside"
             }
            },
            "type": "parcoords"
           }
          ],
          "pie": [
           {
            "automargin": true,
            "type": "pie"
           }
          ],
          "scatter": [
           {
            "fillpattern": {
             "fillmode": "overlay",
             "size": 10,
             "solidity": 0.2
            },
            "type": "scatter"
           }
          ],
          "scatter3d": [
           {
            "line": {
             "colorbar": {
              "outlinewidth": 1,
              "tickcolor": "rgb(36,36,36)",
              "ticks": "outside"
             }
            },
            "marker": {
             "colorbar": {
              "outlinewidth": 1,
              "tickcolor": "rgb(36,36,36)",
              "ticks": "outside"
             }
            },
            "type": "scatter3d"
           }
          ],
          "scattercarpet": [
           {
            "marker": {
             "colorbar": {
              "outlinewidth": 1,
              "tickcolor": "rgb(36,36,36)",
              "ticks": "outside"
             }
            },
            "type": "scattercarpet"
           }
          ],
          "scattergeo": [
           {
            "marker": {
             "colorbar": {
              "outlinewidth": 1,
              "tickcolor": "rgb(36,36,36)",
              "ticks": "outside"
             }
            },
            "type": "scattergeo"
           }
          ],
          "scattergl": [
           {
            "marker": {
             "colorbar": {
              "outlinewidth": 1,
              "tickcolor": "rgb(36,36,36)",
              "ticks": "outside"
             }
            },
            "type": "scattergl"
           }
          ],
          "scattermapbox": [
           {
            "marker": {
             "colorbar": {
              "outlinewidth": 1,
              "tickcolor": "rgb(36,36,36)",
              "ticks": "outside"
             }
            },
            "type": "scattermapbox"
           }
          ],
          "scatterpolar": [
           {
            "marker": {
             "colorbar": {
              "outlinewidth": 1,
              "tickcolor": "rgb(36,36,36)",
              "ticks": "outside"
             }
            },
            "type": "scatterpolar"
           }
          ],
          "scatterpolargl": [
           {
            "marker": {
             "colorbar": {
              "outlinewidth": 1,
              "tickcolor": "rgb(36,36,36)",
              "ticks": "outside"
             }
            },
            "type": "scatterpolargl"
           }
          ],
          "scatterternary": [
           {
            "marker": {
             "colorbar": {
              "outlinewidth": 1,
              "tickcolor": "rgb(36,36,36)",
              "ticks": "outside"
             }
            },
            "type": "scatterternary"
           }
          ],
          "surface": [
           {
            "colorbar": {
             "outlinewidth": 1,
             "tickcolor": "rgb(36,36,36)",
             "ticks": "outside"
            },
            "colorscale": [
             [
              0,
              "#440154"
             ],
             [
              0.1111111111111111,
              "#482878"
             ],
             [
              0.2222222222222222,
              "#3e4989"
             ],
             [
              0.3333333333333333,
              "#31688e"
             ],
             [
              0.4444444444444444,
              "#26828e"
             ],
             [
              0.5555555555555556,
              "#1f9e89"
             ],
             [
              0.6666666666666666,
              "#35b779"
             ],
             [
              0.7777777777777778,
              "#6ece58"
             ],
             [
              0.8888888888888888,
              "#b5de2b"
             ],
             [
              1,
              "#fde725"
             ]
            ],
            "type": "surface"
           }
          ],
          "table": [
           {
            "cells": {
             "fill": {
              "color": "rgb(237,237,237)"
             },
             "line": {
              "color": "white"
             }
            },
            "header": {
             "fill": {
              "color": "rgb(217,217,217)"
             },
             "line": {
              "color": "white"
             }
            },
            "type": "table"
           }
          ]
         },
         "layout": {
          "annotationdefaults": {
           "arrowhead": 0,
           "arrowwidth": 1
          },
          "autotypenumbers": "strict",
          "coloraxis": {
           "colorbar": {
            "outlinewidth": 1,
            "tickcolor": "rgb(36,36,36)",
            "ticks": "outside"
           }
          },
          "colorscale": {
           "diverging": [
            [
             0,
             "rgb(103,0,31)"
            ],
            [
             0.1,
             "rgb(178,24,43)"
            ],
            [
             0.2,
             "rgb(214,96,77)"
            ],
            [
             0.3,
             "rgb(244,165,130)"
            ],
            [
             0.4,
             "rgb(253,219,199)"
            ],
            [
             0.5,
             "rgb(247,247,247)"
            ],
            [
             0.6,
             "rgb(209,229,240)"
            ],
            [
             0.7,
             "rgb(146,197,222)"
            ],
            [
             0.8,
             "rgb(67,147,195)"
            ],
            [
             0.9,
             "rgb(33,102,172)"
            ],
            [
             1,
             "rgb(5,48,97)"
            ]
           ],
           "sequential": [
            [
             0,
             "#440154"
            ],
            [
             0.1111111111111111,
             "#482878"
            ],
            [
             0.2222222222222222,
             "#3e4989"
            ],
            [
             0.3333333333333333,
             "#31688e"
            ],
            [
             0.4444444444444444,
             "#26828e"
            ],
            [
             0.5555555555555556,
             "#1f9e89"
            ],
            [
             0.6666666666666666,
             "#35b779"
            ],
            [
             0.7777777777777778,
             "#6ece58"
            ],
            [
             0.8888888888888888,
             "#b5de2b"
            ],
            [
             1,
             "#fde725"
            ]
           ],
           "sequentialminus": [
            [
             0,
             "#440154"
            ],
            [
             0.1111111111111111,
             "#482878"
            ],
            [
             0.2222222222222222,
             "#3e4989"
            ],
            [
             0.3333333333333333,
             "#31688e"
            ],
            [
             0.4444444444444444,
             "#26828e"
            ],
            [
             0.5555555555555556,
             "#1f9e89"
            ],
            [
             0.6666666666666666,
             "#35b779"
            ],
            [
             0.7777777777777778,
             "#6ece58"
            ],
            [
             0.8888888888888888,
             "#b5de2b"
            ],
            [
             1,
             "#fde725"
            ]
           ]
          },
          "colorway": [
           "#1F77B4",
           "#FF7F0E",
           "#2CA02C",
           "#D62728",
           "#9467BD",
           "#8C564B",
           "#E377C2",
           "#7F7F7F",
           "#BCBD22",
           "#17BECF"
          ],
          "font": {
           "color": "rgb(36,36,36)"
          },
          "geo": {
           "bgcolor": "white",
           "lakecolor": "white",
           "landcolor": "white",
           "showlakes": true,
           "showland": true,
           "subunitcolor": "white"
          },
          "hoverlabel": {
           "align": "left"
          },
          "hovermode": "closest",
          "mapbox": {
           "style": "light"
          },
          "paper_bgcolor": "white",
          "plot_bgcolor": "white",
          "polar": {
           "angularaxis": {
            "gridcolor": "rgb(232,232,232)",
            "linecolor": "rgb(36,36,36)",
            "showgrid": false,
            "showline": true,
            "ticks": "outside"
           },
           "bgcolor": "white",
           "radialaxis": {
            "gridcolor": "rgb(232,232,232)",
            "linecolor": "rgb(36,36,36)",
            "showgrid": false,
            "showline": true,
            "ticks": "outside"
           }
          },
          "scene": {
           "xaxis": {
            "backgroundcolor": "white",
            "gridcolor": "rgb(232,232,232)",
            "gridwidth": 2,
            "linecolor": "rgb(36,36,36)",
            "showbackground": true,
            "showgrid": false,
            "showline": true,
            "ticks": "outside",
            "zeroline": false,
            "zerolinecolor": "rgb(36,36,36)"
           },
           "yaxis": {
            "backgroundcolor": "white",
            "gridcolor": "rgb(232,232,232)",
            "gridwidth": 2,
            "linecolor": "rgb(36,36,36)",
            "showbackground": true,
            "showgrid": false,
            "showline": true,
            "ticks": "outside",
            "zeroline": false,
            "zerolinecolor": "rgb(36,36,36)"
           },
           "zaxis": {
            "backgroundcolor": "white",
            "gridcolor": "rgb(232,232,232)",
            "gridwidth": 2,
            "linecolor": "rgb(36,36,36)",
            "showbackground": true,
            "showgrid": false,
            "showline": true,
            "ticks": "outside",
            "zeroline": false,
            "zerolinecolor": "rgb(36,36,36)"
           }
          },
          "shapedefaults": {
           "fillcolor": "black",
           "line": {
            "width": 0
           },
           "opacity": 0.3
          },
          "ternary": {
           "aaxis": {
            "gridcolor": "rgb(232,232,232)",
            "linecolor": "rgb(36,36,36)",
            "showgrid": false,
            "showline": true,
            "ticks": "outside"
           },
           "baxis": {
            "gridcolor": "rgb(232,232,232)",
            "linecolor": "rgb(36,36,36)",
            "showgrid": false,
            "showline": true,
            "ticks": "outside"
           },
           "bgcolor": "white",
           "caxis": {
            "gridcolor": "rgb(232,232,232)",
            "linecolor": "rgb(36,36,36)",
            "showgrid": false,
            "showline": true,
            "ticks": "outside"
           }
          },
          "title": {
           "x": 0.05
          },
          "xaxis": {
           "automargin": true,
           "gridcolor": "rgb(232,232,232)",
           "linecolor": "rgb(36,36,36)",
           "showgrid": false,
           "showline": true,
           "ticks": "outside",
           "title": {
            "standoff": 15
           },
           "zeroline": false,
           "zerolinecolor": "rgb(36,36,36)"
          },
          "yaxis": {
           "automargin": true,
           "gridcolor": "rgb(232,232,232)",
           "linecolor": "rgb(36,36,36)",
           "showgrid": false,
           "showline": true,
           "ticks": "outside",
           "title": {
            "standoff": 15
           },
           "zeroline": false,
           "zerolinecolor": "rgb(36,36,36)"
          }
         }
        },
        "title": {
         "text": "Active users by cohorts for product1"
        },
        "xaxis": {
         "anchor": "y",
         "domain": [
          0,
          1
         ],
         "title": {
          "text": "date"
         }
        },
        "yaxis": {
         "anchor": "x",
         "domain": [
          0,
          1
         ],
         "title": {
          "text": "active users"
         }
        }
       }
      },
      "text/html": [
       "<div>                            <div id=\"2c34f4b7-f15c-4902-80d6-851d81616420\" class=\"plotly-graph-div\" style=\"height:525px; width:100%;\"></div>            <script type=\"text/javascript\">                require([\"plotly\"], function(Plotly) {                    window.PLOTLYENV=window.PLOTLYENV || {};                                    if (document.getElementById(\"2c34f4b7-f15c-4902-80d6-851d81616420\")) {                    Plotly.newPlot(                        \"2c34f4b7-f15c-4902-80d6-851d81616420\",                        [{\"fillpattern\":{\"shape\":\"\"},\"hovertemplate\":\"cohort=2023-09-01<br>date=%{x}<br>active users=%{y}<extra></extra>\",\"legendgroup\":\"2023-09-01\",\"line\":{\"color\":\"rgb(95, 70, 144)\"},\"marker\":{\"symbol\":\"circle\"},\"mode\":\"lines\",\"name\":\"2023-09-01\",\"orientation\":\"v\",\"showlegend\":true,\"stackgroup\":\"1\",\"x\":[\"2023-09-01\",\"2023-10-01\",\"2023-11-01\",\"2023-12-01\",\"2024-01-01\",\"2024-02-01\",\"2024-03-01\",\"2024-04-01\",\"2024-05-01\",\"2024-06-01\",\"2024-07-01\",\"2024-08-01\",\"2024-09-01\",\"2024-10-01\",\"2024-11-01\",\"2024-12-01\",\"2025-01-01\",\"2025-02-01\",\"2025-03-01\",\"2025-04-01\",\"2025-05-01\",\"2025-06-01\",\"2025-07-01\",\"2025-08-01\",\"2025-09-01\",\"2025-10-01\",\"2025-11-01\",\"2025-12-01\",\"2026-01-01\",\"2026-02-01\",\"2026-03-01\",\"2026-04-01\",\"2026-05-01\",\"2026-06-01\",\"2026-07-01\",\"2026-08-01\"],\"xaxis\":\"x\",\"y\":[1000.0,645.1612903225806,312.5,168.0672268907563,102.0408163265306,67.79661016949152,48.07692307692307,35.77817531305903,27.624309392265193,21.95389681668496,17.857142857142858,14.80384900074019,12.468827930174562,10.643959552953698,9.191176470588234,8.016032064128256,7.052186177715091,6.251953735542356,5.580357142857142,5.011275369581558,4.524886877828054,4.105933073290905,3.74251497005988,3.425244048638465,3.146633102580239,2.9006526468455403,2.6824034334763946,2.4878716258241074,2.3137436372049978,2.15726458850178,2.0161290322580645,1.8883958077613066,1.7724211272598367,1.6668055671305941,1.5703517587939697,1.4820303816228233],\"yaxis\":\"y\",\"type\":\"scatter\"},{\"fillpattern\":{\"shape\":\"\"},\"hovertemplate\":\"cohort=2023-10-01<br>date=%{x}<br>active users=%{y}<extra></extra>\",\"legendgroup\":\"2023-10-01\",\"line\":{\"color\":\"rgb(29, 105, 150)\"},\"marker\":{\"symbol\":\"circle\"},\"mode\":\"lines\",\"name\":\"2023-10-01\",\"orientation\":\"v\",\"showlegend\":true,\"stackgroup\":\"1\",\"x\":[\"2023-09-01\",\"2023-10-01\",\"2023-11-01\",\"2023-12-01\",\"2024-01-01\",\"2024-02-01\",\"2024-03-01\",\"2024-04-01\",\"2024-05-01\",\"2024-06-01\",\"2024-07-01\",\"2024-08-01\",\"2024-09-01\",\"2024-10-01\",\"2024-11-01\",\"2024-12-01\",\"2025-01-01\",\"2025-02-01\",\"2025-03-01\",\"2025-04-01\",\"2025-05-01\",\"2025-06-01\",\"2025-07-01\",\"2025-08-01\",\"2025-09-01\",\"2025-10-01\",\"2025-11-01\",\"2025-12-01\",\"2026-01-01\",\"2026-02-01\",\"2026-03-01\",\"2026-04-01\",\"2026-05-01\",\"2026-06-01\",\"2026-07-01\",\"2026-08-01\"],\"xaxis\":\"x\",\"y\":[null,1000.0,645.1612903225806,312.5,168.0672268907563,102.0408163265306,67.79661016949152,48.07692307692307,35.77817531305903,27.624309392265193,21.95389681668496,17.857142857142858,14.80384900074019,12.468827930174562,10.643959552953698,9.191176470588234,8.016032064128256,7.052186177715091,6.251953735542356,5.580357142857142,5.011275369581558,4.524886877828054,4.105933073290905,3.74251497005988,3.425244048638465,3.146633102580239,2.9006526468455403,2.6824034334763946,2.4878716258241074,2.3137436372049978,2.15726458850178,2.0161290322580645,1.8883958077613066,1.7724211272598367,1.6668055671305941,1.5703517587939697],\"yaxis\":\"y\",\"type\":\"scatter\"},{\"fillpattern\":{\"shape\":\"\"},\"hovertemplate\":\"cohort=2023-11-01<br>date=%{x}<br>active users=%{y}<extra></extra>\",\"legendgroup\":\"2023-11-01\",\"line\":{\"color\":\"rgb(56, 166, 165)\"},\"marker\":{\"symbol\":\"circle\"},\"mode\":\"lines\",\"name\":\"2023-11-01\",\"orientation\":\"v\",\"showlegend\":true,\"stackgroup\":\"1\",\"x\":[\"2023-09-01\",\"2023-10-01\",\"2023-11-01\",\"2023-12-01\",\"2024-01-01\",\"2024-02-01\",\"2024-03-01\",\"2024-04-01\",\"2024-05-01\",\"2024-06-01\",\"2024-07-01\",\"2024-08-01\",\"2024-09-01\",\"2024-10-01\",\"2024-11-01\",\"2024-12-01\",\"2025-01-01\",\"2025-02-01\",\"2025-03-01\",\"2025-04-01\",\"2025-05-01\",\"2025-06-01\",\"2025-07-01\",\"2025-08-01\",\"2025-09-01\",\"2025-10-01\",\"2025-11-01\",\"2025-12-01\",\"2026-01-01\",\"2026-02-01\",\"2026-03-01\",\"2026-04-01\",\"2026-05-01\",\"2026-06-01\",\"2026-07-01\",\"2026-08-01\"],\"xaxis\":\"x\",\"y\":[null,null,1000.0,645.1612903225806,312.5,168.0672268907563,102.0408163265306,67.79661016949152,48.07692307692307,35.77817531305903,27.624309392265193,21.95389681668496,17.857142857142858,14.80384900074019,12.468827930174562,10.643959552953698,9.191176470588234,8.016032064128256,7.052186177715091,6.251953735542356,5.580357142857142,5.011275369581558,4.524886877828054,4.105933073290905,3.74251497005988,3.425244048638465,3.146633102580239,2.9006526468455403,2.6824034334763946,2.4878716258241074,2.3137436372049978,2.15726458850178,2.0161290322580645,1.8883958077613066,1.7724211272598367,1.6668055671305941],\"yaxis\":\"y\",\"type\":\"scatter\"},{\"fillpattern\":{\"shape\":\"\"},\"hovertemplate\":\"cohort=2023-12-01<br>date=%{x}<br>active users=%{y}<extra></extra>\",\"legendgroup\":\"2023-12-01\",\"line\":{\"color\":\"rgb(15, 133, 84)\"},\"marker\":{\"symbol\":\"circle\"},\"mode\":\"lines\",\"name\":\"2023-12-01\",\"orientation\":\"v\",\"showlegend\":true,\"stackgroup\":\"1\",\"x\":[\"2023-09-01\",\"2023-10-01\",\"2023-11-01\",\"2023-12-01\",\"2024-01-01\",\"2024-02-01\",\"2024-03-01\",\"2024-04-01\",\"2024-05-01\",\"2024-06-01\",\"2024-07-01\",\"2024-08-01\",\"2024-09-01\",\"2024-10-01\",\"2024-11-01\",\"2024-12-01\",\"2025-01-01\",\"2025-02-01\",\"2025-03-01\",\"2025-04-01\",\"2025-05-01\",\"2025-06-01\",\"2025-07-01\",\"2025-08-01\",\"2025-09-01\",\"2025-10-01\",\"2025-11-01\",\"2025-12-01\",\"2026-01-01\",\"2026-02-01\",\"2026-03-01\",\"2026-04-01\",\"2026-05-01\",\"2026-06-01\",\"2026-07-01\",\"2026-08-01\"],\"xaxis\":\"x\",\"y\":[null,null,null,1000.0,645.1612903225806,312.5,168.0672268907563,102.0408163265306,67.79661016949152,48.07692307692307,35.77817531305903,27.624309392265193,21.95389681668496,17.857142857142858,14.80384900074019,12.468827930174562,10.643959552953698,9.191176470588234,8.016032064128256,7.052186177715091,6.251953735542356,5.580357142857142,5.011275369581558,4.524886877828054,4.105933073290905,3.74251497005988,3.425244048638465,3.146633102580239,2.9006526468455403,2.6824034334763946,2.4878716258241074,2.3137436372049978,2.15726458850178,2.0161290322580645,1.8883958077613066,1.7724211272598367],\"yaxis\":\"y\",\"type\":\"scatter\"},{\"fillpattern\":{\"shape\":\"\"},\"hovertemplate\":\"cohort=2024-01-01<br>date=%{x}<br>active users=%{y}<extra></extra>\",\"legendgroup\":\"2024-01-01\",\"line\":{\"color\":\"rgb(115, 175, 72)\"},\"marker\":{\"symbol\":\"circle\"},\"mode\":\"lines\",\"name\":\"2024-01-01\",\"orientation\":\"v\",\"showlegend\":true,\"stackgroup\":\"1\",\"x\":[\"2023-09-01\",\"2023-10-01\",\"2023-11-01\",\"2023-12-01\",\"2024-01-01\",\"2024-02-01\",\"2024-03-01\",\"2024-04-01\",\"2024-05-01\",\"2024-06-01\",\"2024-07-01\",\"2024-08-01\",\"2024-09-01\",\"2024-10-01\",\"2024-11-01\",\"2024-12-01\",\"2025-01-01\",\"2025-02-01\",\"2025-03-01\",\"2025-04-01\",\"2025-05-01\",\"2025-06-01\",\"2025-07-01\",\"2025-08-01\",\"2025-09-01\",\"2025-10-01\",\"2025-11-01\",\"2025-12-01\",\"2026-01-01\",\"2026-02-01\",\"2026-03-01\",\"2026-04-01\",\"2026-05-01\",\"2026-06-01\",\"2026-07-01\",\"2026-08-01\"],\"xaxis\":\"x\",\"y\":[null,null,null,null,1000.0,645.1612903225806,312.5,168.0672268907563,102.0408163265306,67.79661016949152,48.07692307692307,35.77817531305903,27.624309392265193,21.95389681668496,17.857142857142858,14.80384900074019,12.468827930174562,10.643959552953698,9.191176470588234,8.016032064128256,7.052186177715091,6.251953735542356,5.580357142857142,5.011275369581558,4.524886877828054,4.105933073290905,3.74251497005988,3.425244048638465,3.146633102580239,2.9006526468455403,2.6824034334763946,2.4878716258241074,2.3137436372049978,2.15726458850178,2.0161290322580645,1.8883958077613066],\"yaxis\":\"y\",\"type\":\"scatter\"},{\"fillpattern\":{\"shape\":\"\"},\"hovertemplate\":\"cohort=2024-02-01<br>date=%{x}<br>active users=%{y}<extra></extra>\",\"legendgroup\":\"2024-02-01\",\"line\":{\"color\":\"rgb(237, 173, 8)\"},\"marker\":{\"symbol\":\"circle\"},\"mode\":\"lines\",\"name\":\"2024-02-01\",\"orientation\":\"v\",\"showlegend\":true,\"stackgroup\":\"1\",\"x\":[\"2023-09-01\",\"2023-10-01\",\"2023-11-01\",\"2023-12-01\",\"2024-01-01\",\"2024-02-01\",\"2024-03-01\",\"2024-04-01\",\"2024-05-01\",\"2024-06-01\",\"2024-07-01\",\"2024-08-01\",\"2024-09-01\",\"2024-10-01\",\"2024-11-01\",\"2024-12-01\",\"2025-01-01\",\"2025-02-01\",\"2025-03-01\",\"2025-04-01\",\"2025-05-01\",\"2025-06-01\",\"2025-07-01\",\"2025-08-01\",\"2025-09-01\",\"2025-10-01\",\"2025-11-01\",\"2025-12-01\",\"2026-01-01\",\"2026-02-01\",\"2026-03-01\",\"2026-04-01\",\"2026-05-01\",\"2026-06-01\",\"2026-07-01\",\"2026-08-01\"],\"xaxis\":\"x\",\"y\":[null,null,null,null,null,1000.0,645.1612903225806,312.5,168.0672268907563,102.0408163265306,67.79661016949152,48.07692307692307,35.77817531305903,27.624309392265193,21.95389681668496,17.857142857142858,14.80384900074019,12.468827930174562,10.643959552953698,9.191176470588234,8.016032064128256,7.052186177715091,6.251953735542356,5.580357142857142,5.011275369581558,4.524886877828054,4.105933073290905,3.74251497005988,3.425244048638465,3.146633102580239,2.9006526468455403,2.6824034334763946,2.4878716258241074,2.3137436372049978,2.15726458850178,2.0161290322580645],\"yaxis\":\"y\",\"type\":\"scatter\"},{\"fillpattern\":{\"shape\":\"\"},\"hovertemplate\":\"cohort=2024-03-01<br>date=%{x}<br>active users=%{y}<extra></extra>\",\"legendgroup\":\"2024-03-01\",\"line\":{\"color\":\"rgb(225, 124, 5)\"},\"marker\":{\"symbol\":\"circle\"},\"mode\":\"lines\",\"name\":\"2024-03-01\",\"orientation\":\"v\",\"showlegend\":true,\"stackgroup\":\"1\",\"x\":[\"2023-09-01\",\"2023-10-01\",\"2023-11-01\",\"2023-12-01\",\"2024-01-01\",\"2024-02-01\",\"2024-03-01\",\"2024-04-01\",\"2024-05-01\",\"2024-06-01\",\"2024-07-01\",\"2024-08-01\",\"2024-09-01\",\"2024-10-01\",\"2024-11-01\",\"2024-12-01\",\"2025-01-01\",\"2025-02-01\",\"2025-03-01\",\"2025-04-01\",\"2025-05-01\",\"2025-06-01\",\"2025-07-01\",\"2025-08-01\",\"2025-09-01\",\"2025-10-01\",\"2025-11-01\",\"2025-12-01\",\"2026-01-01\",\"2026-02-01\",\"2026-03-01\",\"2026-04-01\",\"2026-05-01\",\"2026-06-01\",\"2026-07-01\",\"2026-08-01\"],\"xaxis\":\"x\",\"y\":[null,null,null,null,null,null,1000.0,645.1612903225806,312.5,168.0672268907563,102.0408163265306,67.79661016949152,48.07692307692307,35.77817531305903,27.624309392265193,21.95389681668496,17.857142857142858,14.80384900074019,12.468827930174562,10.643959552953698,9.191176470588234,8.016032064128256,7.052186177715091,6.251953735542356,5.580357142857142,5.011275369581558,4.524886877828054,4.105933073290905,3.74251497005988,3.425244048638465,3.146633102580239,2.9006526468455403,2.6824034334763946,2.4878716258241074,2.3137436372049978,2.15726458850178],\"yaxis\":\"y\",\"type\":\"scatter\"},{\"fillpattern\":{\"shape\":\"\"},\"hovertemplate\":\"cohort=2024-04-01<br>date=%{x}<br>active users=%{y}<extra></extra>\",\"legendgroup\":\"2024-04-01\",\"line\":{\"color\":\"rgb(204, 80, 62)\"},\"marker\":{\"symbol\":\"circle\"},\"mode\":\"lines\",\"name\":\"2024-04-01\",\"orientation\":\"v\",\"showlegend\":true,\"stackgroup\":\"1\",\"x\":[\"2023-09-01\",\"2023-10-01\",\"2023-11-01\",\"2023-12-01\",\"2024-01-01\",\"2024-02-01\",\"2024-03-01\",\"2024-04-01\",\"2024-05-01\",\"2024-06-01\",\"2024-07-01\",\"2024-08-01\",\"2024-09-01\",\"2024-10-01\",\"2024-11-01\",\"2024-12-01\",\"2025-01-01\",\"2025-02-01\",\"2025-03-01\",\"2025-04-01\",\"2025-05-01\",\"2025-06-01\",\"2025-07-01\",\"2025-08-01\",\"2025-09-01\",\"2025-10-01\",\"2025-11-01\",\"2025-12-01\",\"2026-01-01\",\"2026-02-01\",\"2026-03-01\",\"2026-04-01\",\"2026-05-01\",\"2026-06-01\",\"2026-07-01\",\"2026-08-01\"],\"xaxis\":\"x\",\"y\":[null,null,null,null,null,null,null,1000.0,645.1612903225806,312.5,168.0672268907563,102.0408163265306,67.79661016949152,48.07692307692307,35.77817531305903,27.624309392265193,21.95389681668496,17.857142857142858,14.80384900074019,12.468827930174562,10.643959552953698,9.191176470588234,8.016032064128256,7.052186177715091,6.251953735542356,5.580357142857142,5.011275369581558,4.524886877828054,4.105933073290905,3.74251497005988,3.425244048638465,3.146633102580239,2.9006526468455403,2.6824034334763946,2.4878716258241074,2.3137436372049978],\"yaxis\":\"y\",\"type\":\"scatter\"},{\"fillpattern\":{\"shape\":\"\"},\"hovertemplate\":\"cohort=2024-05-01<br>date=%{x}<br>active users=%{y}<extra></extra>\",\"legendgroup\":\"2024-05-01\",\"line\":{\"color\":\"rgb(148, 52, 110)\"},\"marker\":{\"symbol\":\"circle\"},\"mode\":\"lines\",\"name\":\"2024-05-01\",\"orientation\":\"v\",\"showlegend\":true,\"stackgroup\":\"1\",\"x\":[\"2023-09-01\",\"2023-10-01\",\"2023-11-01\",\"2023-12-01\",\"2024-01-01\",\"2024-02-01\",\"2024-03-01\",\"2024-04-01\",\"2024-05-01\",\"2024-06-01\",\"2024-07-01\",\"2024-08-01\",\"2024-09-01\",\"2024-10-01\",\"2024-11-01\",\"2024-12-01\",\"2025-01-01\",\"2025-02-01\",\"2025-03-01\",\"2025-04-01\",\"2025-05-01\",\"2025-06-01\",\"2025-07-01\",\"2025-08-01\",\"2025-09-01\",\"2025-10-01\",\"2025-11-01\",\"2025-12-01\",\"2026-01-01\",\"2026-02-01\",\"2026-03-01\",\"2026-04-01\",\"2026-05-01\",\"2026-06-01\",\"2026-07-01\",\"2026-08-01\"],\"xaxis\":\"x\",\"y\":[null,null,null,null,null,null,null,null,1000.0,645.1612903225806,312.5,168.0672268907563,102.0408163265306,67.79661016949152,48.07692307692307,35.77817531305903,27.624309392265193,21.95389681668496,17.857142857142858,14.80384900074019,12.468827930174562,10.643959552953698,9.191176470588234,8.016032064128256,7.052186177715091,6.251953735542356,5.580357142857142,5.011275369581558,4.524886877828054,4.105933073290905,3.74251497005988,3.425244048638465,3.146633102580239,2.9006526468455403,2.6824034334763946,2.4878716258241074],\"yaxis\":\"y\",\"type\":\"scatter\"},{\"fillpattern\":{\"shape\":\"\"},\"hovertemplate\":\"cohort=2024-06-01<br>date=%{x}<br>active users=%{y}<extra></extra>\",\"legendgroup\":\"2024-06-01\",\"line\":{\"color\":\"rgb(111, 64, 112)\"},\"marker\":{\"symbol\":\"circle\"},\"mode\":\"lines\",\"name\":\"2024-06-01\",\"orientation\":\"v\",\"showlegend\":true,\"stackgroup\":\"1\",\"x\":[\"2023-09-01\",\"2023-10-01\",\"2023-11-01\",\"2023-12-01\",\"2024-01-01\",\"2024-02-01\",\"2024-03-01\",\"2024-04-01\",\"2024-05-01\",\"2024-06-01\",\"2024-07-01\",\"2024-08-01\",\"2024-09-01\",\"2024-10-01\",\"2024-11-01\",\"2024-12-01\",\"2025-01-01\",\"2025-02-01\",\"2025-03-01\",\"2025-04-01\",\"2025-05-01\",\"2025-06-01\",\"2025-07-01\",\"2025-08-01\",\"2025-09-01\",\"2025-10-01\",\"2025-11-01\",\"2025-12-01\",\"2026-01-01\",\"2026-02-01\",\"2026-03-01\",\"2026-04-01\",\"2026-05-01\",\"2026-06-01\",\"2026-07-01\",\"2026-08-01\"],\"xaxis\":\"x\",\"y\":[null,null,null,null,null,null,null,null,null,1000.0,645.1612903225806,312.5,168.0672268907563,102.0408163265306,67.79661016949152,48.07692307692307,35.77817531305903,27.624309392265193,21.95389681668496,17.857142857142858,14.80384900074019,12.468827930174562,10.643959552953698,9.191176470588234,8.016032064128256,7.052186177715091,6.251953735542356,5.580357142857142,5.011275369581558,4.524886877828054,4.105933073290905,3.74251497005988,3.425244048638465,3.146633102580239,2.9006526468455403,2.6824034334763946],\"yaxis\":\"y\",\"type\":\"scatter\"},{\"fillpattern\":{\"shape\":\"\"},\"hovertemplate\":\"cohort=2024-07-01<br>date=%{x}<br>active users=%{y}<extra></extra>\",\"legendgroup\":\"2024-07-01\",\"line\":{\"color\":\"rgb(102, 102, 102)\"},\"marker\":{\"symbol\":\"circle\"},\"mode\":\"lines\",\"name\":\"2024-07-01\",\"orientation\":\"v\",\"showlegend\":true,\"stackgroup\":\"1\",\"x\":[\"2023-09-01\",\"2023-10-01\",\"2023-11-01\",\"2023-12-01\",\"2024-01-01\",\"2024-02-01\",\"2024-03-01\",\"2024-04-01\",\"2024-05-01\",\"2024-06-01\",\"2024-07-01\",\"2024-08-01\",\"2024-09-01\",\"2024-10-01\",\"2024-11-01\",\"2024-12-01\",\"2025-01-01\",\"2025-02-01\",\"2025-03-01\",\"2025-04-01\",\"2025-05-01\",\"2025-06-01\",\"2025-07-01\",\"2025-08-01\",\"2025-09-01\",\"2025-10-01\",\"2025-11-01\",\"2025-12-01\",\"2026-01-01\",\"2026-02-01\",\"2026-03-01\",\"2026-04-01\",\"2026-05-01\",\"2026-06-01\",\"2026-07-01\",\"2026-08-01\"],\"xaxis\":\"x\",\"y\":[null,null,null,null,null,null,null,null,null,null,1000.0,645.1612903225806,312.5,168.0672268907563,102.0408163265306,67.79661016949152,48.07692307692307,35.77817531305903,27.624309392265193,21.95389681668496,17.857142857142858,14.80384900074019,12.468827930174562,10.643959552953698,9.191176470588234,8.016032064128256,7.052186177715091,6.251953735542356,5.580357142857142,5.011275369581558,4.524886877828054,4.105933073290905,3.74251497005988,3.425244048638465,3.146633102580239,2.9006526468455403],\"yaxis\":\"y\",\"type\":\"scatter\"},{\"fillpattern\":{\"shape\":\"\"},\"hovertemplate\":\"cohort=2024-08-01<br>date=%{x}<br>active users=%{y}<extra></extra>\",\"legendgroup\":\"2024-08-01\",\"line\":{\"color\":\"rgb(95, 70, 144)\"},\"marker\":{\"symbol\":\"circle\"},\"mode\":\"lines\",\"name\":\"2024-08-01\",\"orientation\":\"v\",\"showlegend\":true,\"stackgroup\":\"1\",\"x\":[\"2023-09-01\",\"2023-10-01\",\"2023-11-01\",\"2023-12-01\",\"2024-01-01\",\"2024-02-01\",\"2024-03-01\",\"2024-04-01\",\"2024-05-01\",\"2024-06-01\",\"2024-07-01\",\"2024-08-01\",\"2024-09-01\",\"2024-10-01\",\"2024-11-01\",\"2024-12-01\",\"2025-01-01\",\"2025-02-01\",\"2025-03-01\",\"2025-04-01\",\"2025-05-01\",\"2025-06-01\",\"2025-07-01\",\"2025-08-01\",\"2025-09-01\",\"2025-10-01\",\"2025-11-01\",\"2025-12-01\",\"2026-01-01\",\"2026-02-01\",\"2026-03-01\",\"2026-04-01\",\"2026-05-01\",\"2026-06-01\",\"2026-07-01\",\"2026-08-01\"],\"xaxis\":\"x\",\"y\":[null,null,null,null,null,null,null,null,null,null,null,1000.0,645.1612903225806,312.5,168.0672268907563,102.0408163265306,67.79661016949152,48.07692307692307,35.77817531305903,27.624309392265193,21.95389681668496,17.857142857142858,14.80384900074019,12.468827930174562,10.643959552953698,9.191176470588234,8.016032064128256,7.052186177715091,6.251953735542356,5.580357142857142,5.011275369581558,4.524886877828054,4.105933073290905,3.74251497005988,3.425244048638465,3.146633102580239],\"yaxis\":\"y\",\"type\":\"scatter\"},{\"fillpattern\":{\"shape\":\"\"},\"hovertemplate\":\"cohort=2024-09-01<br>date=%{x}<br>active users=%{y}<extra></extra>\",\"legendgroup\":\"2024-09-01\",\"line\":{\"color\":\"rgb(29, 105, 150)\"},\"marker\":{\"symbol\":\"circle\"},\"mode\":\"lines\",\"name\":\"2024-09-01\",\"orientation\":\"v\",\"showlegend\":true,\"stackgroup\":\"1\",\"x\":[\"2023-09-01\",\"2023-10-01\",\"2023-11-01\",\"2023-12-01\",\"2024-01-01\",\"2024-02-01\",\"2024-03-01\",\"2024-04-01\",\"2024-05-01\",\"2024-06-01\",\"2024-07-01\",\"2024-08-01\",\"2024-09-01\",\"2024-10-01\",\"2024-11-01\",\"2024-12-01\",\"2025-01-01\",\"2025-02-01\",\"2025-03-01\",\"2025-04-01\",\"2025-05-01\",\"2025-06-01\",\"2025-07-01\",\"2025-08-01\",\"2025-09-01\",\"2025-10-01\",\"2025-11-01\",\"2025-12-01\",\"2026-01-01\",\"2026-02-01\",\"2026-03-01\",\"2026-04-01\",\"2026-05-01\",\"2026-06-01\",\"2026-07-01\",\"2026-08-01\"],\"xaxis\":\"x\",\"y\":[null,null,null,null,null,null,null,null,null,null,null,null,1000.0,645.1612903225806,312.5,168.0672268907563,102.0408163265306,67.79661016949152,48.07692307692307,35.77817531305903,27.624309392265193,21.95389681668496,17.857142857142858,14.80384900074019,12.468827930174562,10.643959552953698,9.191176470588234,8.016032064128256,7.052186177715091,6.251953735542356,5.580357142857142,5.011275369581558,4.524886877828054,4.105933073290905,3.74251497005988,3.425244048638465],\"yaxis\":\"y\",\"type\":\"scatter\"},{\"fillpattern\":{\"shape\":\"\"},\"hovertemplate\":\"cohort=2024-10-01<br>date=%{x}<br>active users=%{y}<extra></extra>\",\"legendgroup\":\"2024-10-01\",\"line\":{\"color\":\"rgb(56, 166, 165)\"},\"marker\":{\"symbol\":\"circle\"},\"mode\":\"lines\",\"name\":\"2024-10-01\",\"orientation\":\"v\",\"showlegend\":true,\"stackgroup\":\"1\",\"x\":[\"2023-09-01\",\"2023-10-01\",\"2023-11-01\",\"2023-12-01\",\"2024-01-01\",\"2024-02-01\",\"2024-03-01\",\"2024-04-01\",\"2024-05-01\",\"2024-06-01\",\"2024-07-01\",\"2024-08-01\",\"2024-09-01\",\"2024-10-01\",\"2024-11-01\",\"2024-12-01\",\"2025-01-01\",\"2025-02-01\",\"2025-03-01\",\"2025-04-01\",\"2025-05-01\",\"2025-06-01\",\"2025-07-01\",\"2025-08-01\",\"2025-09-01\",\"2025-10-01\",\"2025-11-01\",\"2025-12-01\",\"2026-01-01\",\"2026-02-01\",\"2026-03-01\",\"2026-04-01\",\"2026-05-01\",\"2026-06-01\",\"2026-07-01\",\"2026-08-01\"],\"xaxis\":\"x\",\"y\":[null,null,null,null,null,null,null,null,null,null,null,null,null,1000.0,645.1612903225806,312.5,168.0672268907563,102.0408163265306,67.79661016949152,48.07692307692307,35.77817531305903,27.624309392265193,21.95389681668496,17.857142857142858,14.80384900074019,12.468827930174562,10.643959552953698,9.191176470588234,8.016032064128256,7.052186177715091,6.251953735542356,5.580357142857142,5.011275369581558,4.524886877828054,4.105933073290905,3.74251497005988],\"yaxis\":\"y\",\"type\":\"scatter\"},{\"fillpattern\":{\"shape\":\"\"},\"hovertemplate\":\"cohort=2024-11-01<br>date=%{x}<br>active users=%{y}<extra></extra>\",\"legendgroup\":\"2024-11-01\",\"line\":{\"color\":\"rgb(15, 133, 84)\"},\"marker\":{\"symbol\":\"circle\"},\"mode\":\"lines\",\"name\":\"2024-11-01\",\"orientation\":\"v\",\"showlegend\":true,\"stackgroup\":\"1\",\"x\":[\"2023-09-01\",\"2023-10-01\",\"2023-11-01\",\"2023-12-01\",\"2024-01-01\",\"2024-02-01\",\"2024-03-01\",\"2024-04-01\",\"2024-05-01\",\"2024-06-01\",\"2024-07-01\",\"2024-08-01\",\"2024-09-01\",\"2024-10-01\",\"2024-11-01\",\"2024-12-01\",\"2025-01-01\",\"2025-02-01\",\"2025-03-01\",\"2025-04-01\",\"2025-05-01\",\"2025-06-01\",\"2025-07-01\",\"2025-08-01\",\"2025-09-01\",\"2025-10-01\",\"2025-11-01\",\"2025-12-01\",\"2026-01-01\",\"2026-02-01\",\"2026-03-01\",\"2026-04-01\",\"2026-05-01\",\"2026-06-01\",\"2026-07-01\",\"2026-08-01\"],\"xaxis\":\"x\",\"y\":[null,null,null,null,null,null,null,null,null,null,null,null,null,null,1000.0,645.1612903225806,312.5,168.0672268907563,102.0408163265306,67.79661016949152,48.07692307692307,35.77817531305903,27.624309392265193,21.95389681668496,17.857142857142858,14.80384900074019,12.468827930174562,10.643959552953698,9.191176470588234,8.016032064128256,7.052186177715091,6.251953735542356,5.580357142857142,5.011275369581558,4.524886877828054,4.105933073290905],\"yaxis\":\"y\",\"type\":\"scatter\"},{\"fillpattern\":{\"shape\":\"\"},\"hovertemplate\":\"cohort=2024-12-01<br>date=%{x}<br>active users=%{y}<extra></extra>\",\"legendgroup\":\"2024-12-01\",\"line\":{\"color\":\"rgb(115, 175, 72)\"},\"marker\":{\"symbol\":\"circle\"},\"mode\":\"lines\",\"name\":\"2024-12-01\",\"orientation\":\"v\",\"showlegend\":true,\"stackgroup\":\"1\",\"x\":[\"2023-09-01\",\"2023-10-01\",\"2023-11-01\",\"2023-12-01\",\"2024-01-01\",\"2024-02-01\",\"2024-03-01\",\"2024-04-01\",\"2024-05-01\",\"2024-06-01\",\"2024-07-01\",\"2024-08-01\",\"2024-09-01\",\"2024-10-01\",\"2024-11-01\",\"2024-12-01\",\"2025-01-01\",\"2025-02-01\",\"2025-03-01\",\"2025-04-01\",\"2025-05-01\",\"2025-06-01\",\"2025-07-01\",\"2025-08-01\",\"2025-09-01\",\"2025-10-01\",\"2025-11-01\",\"2025-12-01\",\"2026-01-01\",\"2026-02-01\",\"2026-03-01\",\"2026-04-01\",\"2026-05-01\",\"2026-06-01\",\"2026-07-01\",\"2026-08-01\"],\"xaxis\":\"x\",\"y\":[null,null,null,null,null,null,null,null,null,null,null,null,null,null,null,1000.0,645.1612903225806,312.5,168.0672268907563,102.0408163265306,67.79661016949152,48.07692307692307,35.77817531305903,27.624309392265193,21.95389681668496,17.857142857142858,14.80384900074019,12.468827930174562,10.643959552953698,9.191176470588234,8.016032064128256,7.052186177715091,6.251953735542356,5.580357142857142,5.011275369581558,4.524886877828054],\"yaxis\":\"y\",\"type\":\"scatter\"},{\"fillpattern\":{\"shape\":\"\"},\"hovertemplate\":\"cohort=2025-01-01<br>date=%{x}<br>active users=%{y}<extra></extra>\",\"legendgroup\":\"2025-01-01\",\"line\":{\"color\":\"rgb(237, 173, 8)\"},\"marker\":{\"symbol\":\"circle\"},\"mode\":\"lines\",\"name\":\"2025-01-01\",\"orientation\":\"v\",\"showlegend\":true,\"stackgroup\":\"1\",\"x\":[\"2023-09-01\",\"2023-10-01\",\"2023-11-01\",\"2023-12-01\",\"2024-01-01\",\"2024-02-01\",\"2024-03-01\",\"2024-04-01\",\"2024-05-01\",\"2024-06-01\",\"2024-07-01\",\"2024-08-01\",\"2024-09-01\",\"2024-10-01\",\"2024-11-01\",\"2024-12-01\",\"2025-01-01\",\"2025-02-01\",\"2025-03-01\",\"2025-04-01\",\"2025-05-01\",\"2025-06-01\",\"2025-07-01\",\"2025-08-01\",\"2025-09-01\",\"2025-10-01\",\"2025-11-01\",\"2025-12-01\",\"2026-01-01\",\"2026-02-01\",\"2026-03-01\",\"2026-04-01\",\"2026-05-01\",\"2026-06-01\",\"2026-07-01\",\"2026-08-01\"],\"xaxis\":\"x\",\"y\":[null,null,null,null,null,null,null,null,null,null,null,null,null,null,null,null,1000.0,645.1612903225806,312.5,168.0672268907563,102.0408163265306,67.79661016949152,48.07692307692307,35.77817531305903,27.624309392265193,21.95389681668496,17.857142857142858,14.80384900074019,12.468827930174562,10.643959552953698,9.191176470588234,8.016032064128256,7.052186177715091,6.251953735542356,5.580357142857142,5.011275369581558],\"yaxis\":\"y\",\"type\":\"scatter\"},{\"fillpattern\":{\"shape\":\"\"},\"hovertemplate\":\"cohort=2025-02-01<br>date=%{x}<br>active users=%{y}<extra></extra>\",\"legendgroup\":\"2025-02-01\",\"line\":{\"color\":\"rgb(225, 124, 5)\"},\"marker\":{\"symbol\":\"circle\"},\"mode\":\"lines\",\"name\":\"2025-02-01\",\"orientation\":\"v\",\"showlegend\":true,\"stackgroup\":\"1\",\"x\":[\"2023-09-01\",\"2023-10-01\",\"2023-11-01\",\"2023-12-01\",\"2024-01-01\",\"2024-02-01\",\"2024-03-01\",\"2024-04-01\",\"2024-05-01\",\"2024-06-01\",\"2024-07-01\",\"2024-08-01\",\"2024-09-01\",\"2024-10-01\",\"2024-11-01\",\"2024-12-01\",\"2025-01-01\",\"2025-02-01\",\"2025-03-01\",\"2025-04-01\",\"2025-05-01\",\"2025-06-01\",\"2025-07-01\",\"2025-08-01\",\"2025-09-01\",\"2025-10-01\",\"2025-11-01\",\"2025-12-01\",\"2026-01-01\",\"2026-02-01\",\"2026-03-01\",\"2026-04-01\",\"2026-05-01\",\"2026-06-01\",\"2026-07-01\",\"2026-08-01\"],\"xaxis\":\"x\",\"y\":[null,null,null,null,null,null,null,null,null,null,null,null,null,null,null,null,null,1000.0,645.1612903225806,312.5,168.0672268907563,102.0408163265306,67.79661016949152,48.07692307692307,35.77817531305903,27.624309392265193,21.95389681668496,17.857142857142858,14.80384900074019,12.468827930174562,10.643959552953698,9.191176470588234,8.016032064128256,7.052186177715091,6.251953735542356,5.580357142857142],\"yaxis\":\"y\",\"type\":\"scatter\"},{\"fillpattern\":{\"shape\":\"\"},\"hovertemplate\":\"cohort=2025-03-01<br>date=%{x}<br>active users=%{y}<extra></extra>\",\"legendgroup\":\"2025-03-01\",\"line\":{\"color\":\"rgb(204, 80, 62)\"},\"marker\":{\"symbol\":\"circle\"},\"mode\":\"lines\",\"name\":\"2025-03-01\",\"orientation\":\"v\",\"showlegend\":true,\"stackgroup\":\"1\",\"x\":[\"2023-09-01\",\"2023-10-01\",\"2023-11-01\",\"2023-12-01\",\"2024-01-01\",\"2024-02-01\",\"2024-03-01\",\"2024-04-01\",\"2024-05-01\",\"2024-06-01\",\"2024-07-01\",\"2024-08-01\",\"2024-09-01\",\"2024-10-01\",\"2024-11-01\",\"2024-12-01\",\"2025-01-01\",\"2025-02-01\",\"2025-03-01\",\"2025-04-01\",\"2025-05-01\",\"2025-06-01\",\"2025-07-01\",\"2025-08-01\",\"2025-09-01\",\"2025-10-01\",\"2025-11-01\",\"2025-12-01\",\"2026-01-01\",\"2026-02-01\",\"2026-03-01\",\"2026-04-01\",\"2026-05-01\",\"2026-06-01\",\"2026-07-01\",\"2026-08-01\"],\"xaxis\":\"x\",\"y\":[null,null,null,null,null,null,null,null,null,null,null,null,null,null,null,null,null,null,1000.0,645.1612903225806,312.5,168.0672268907563,102.0408163265306,67.79661016949152,48.07692307692307,35.77817531305903,27.624309392265193,21.95389681668496,17.857142857142858,14.80384900074019,12.468827930174562,10.643959552953698,9.191176470588234,8.016032064128256,7.052186177715091,6.251953735542356],\"yaxis\":\"y\",\"type\":\"scatter\"},{\"fillpattern\":{\"shape\":\"\"},\"hovertemplate\":\"cohort=2025-04-01<br>date=%{x}<br>active users=%{y}<extra></extra>\",\"legendgroup\":\"2025-04-01\",\"line\":{\"color\":\"rgb(148, 52, 110)\"},\"marker\":{\"symbol\":\"circle\"},\"mode\":\"lines\",\"name\":\"2025-04-01\",\"orientation\":\"v\",\"showlegend\":true,\"stackgroup\":\"1\",\"x\":[\"2023-09-01\",\"2023-10-01\",\"2023-11-01\",\"2023-12-01\",\"2024-01-01\",\"2024-02-01\",\"2024-03-01\",\"2024-04-01\",\"2024-05-01\",\"2024-06-01\",\"2024-07-01\",\"2024-08-01\",\"2024-09-01\",\"2024-10-01\",\"2024-11-01\",\"2024-12-01\",\"2025-01-01\",\"2025-02-01\",\"2025-03-01\",\"2025-04-01\",\"2025-05-01\",\"2025-06-01\",\"2025-07-01\",\"2025-08-01\",\"2025-09-01\",\"2025-10-01\",\"2025-11-01\",\"2025-12-01\",\"2026-01-01\",\"2026-02-01\",\"2026-03-01\",\"2026-04-01\",\"2026-05-01\",\"2026-06-01\",\"2026-07-01\",\"2026-08-01\"],\"xaxis\":\"x\",\"y\":[null,null,null,null,null,null,null,null,null,null,null,null,null,null,null,null,null,null,null,1000.0,645.1612903225806,312.5,168.0672268907563,102.0408163265306,67.79661016949152,48.07692307692307,35.77817531305903,27.624309392265193,21.95389681668496,17.857142857142858,14.80384900074019,12.468827930174562,10.643959552953698,9.191176470588234,8.016032064128256,7.052186177715091],\"yaxis\":\"y\",\"type\":\"scatter\"},{\"fillpattern\":{\"shape\":\"\"},\"hovertemplate\":\"cohort=2025-05-01<br>date=%{x}<br>active users=%{y}<extra></extra>\",\"legendgroup\":\"2025-05-01\",\"line\":{\"color\":\"rgb(111, 64, 112)\"},\"marker\":{\"symbol\":\"circle\"},\"mode\":\"lines\",\"name\":\"2025-05-01\",\"orientation\":\"v\",\"showlegend\":true,\"stackgroup\":\"1\",\"x\":[\"2023-09-01\",\"2023-10-01\",\"2023-11-01\",\"2023-12-01\",\"2024-01-01\",\"2024-02-01\",\"2024-03-01\",\"2024-04-01\",\"2024-05-01\",\"2024-06-01\",\"2024-07-01\",\"2024-08-01\",\"2024-09-01\",\"2024-10-01\",\"2024-11-01\",\"2024-12-01\",\"2025-01-01\",\"2025-02-01\",\"2025-03-01\",\"2025-04-01\",\"2025-05-01\",\"2025-06-01\",\"2025-07-01\",\"2025-08-01\",\"2025-09-01\",\"2025-10-01\",\"2025-11-01\",\"2025-12-01\",\"2026-01-01\",\"2026-02-01\",\"2026-03-01\",\"2026-04-01\",\"2026-05-01\",\"2026-06-01\",\"2026-07-01\",\"2026-08-01\"],\"xaxis\":\"x\",\"y\":[null,null,null,null,null,null,null,null,null,null,null,null,null,null,null,null,null,null,null,null,1000.0,645.1612903225806,312.5,168.0672268907563,102.0408163265306,67.79661016949152,48.07692307692307,35.77817531305903,27.624309392265193,21.95389681668496,17.857142857142858,14.80384900074019,12.468827930174562,10.643959552953698,9.191176470588234,8.016032064128256],\"yaxis\":\"y\",\"type\":\"scatter\"},{\"fillpattern\":{\"shape\":\"\"},\"hovertemplate\":\"cohort=2025-06-01<br>date=%{x}<br>active users=%{y}<extra></extra>\",\"legendgroup\":\"2025-06-01\",\"line\":{\"color\":\"rgb(102, 102, 102)\"},\"marker\":{\"symbol\":\"circle\"},\"mode\":\"lines\",\"name\":\"2025-06-01\",\"orientation\":\"v\",\"showlegend\":true,\"stackgroup\":\"1\",\"x\":[\"2023-09-01\",\"2023-10-01\",\"2023-11-01\",\"2023-12-01\",\"2024-01-01\",\"2024-02-01\",\"2024-03-01\",\"2024-04-01\",\"2024-05-01\",\"2024-06-01\",\"2024-07-01\",\"2024-08-01\",\"2024-09-01\",\"2024-10-01\",\"2024-11-01\",\"2024-12-01\",\"2025-01-01\",\"2025-02-01\",\"2025-03-01\",\"2025-04-01\",\"2025-05-01\",\"2025-06-01\",\"2025-07-01\",\"2025-08-01\",\"2025-09-01\",\"2025-10-01\",\"2025-11-01\",\"2025-12-01\",\"2026-01-01\",\"2026-02-01\",\"2026-03-01\",\"2026-04-01\",\"2026-05-01\",\"2026-06-01\",\"2026-07-01\",\"2026-08-01\"],\"xaxis\":\"x\",\"y\":[null,null,null,null,null,null,null,null,null,null,null,null,null,null,null,null,null,null,null,null,null,1000.0,645.1612903225806,312.5,168.0672268907563,102.0408163265306,67.79661016949152,48.07692307692307,35.77817531305903,27.624309392265193,21.95389681668496,17.857142857142858,14.80384900074019,12.468827930174562,10.643959552953698,9.191176470588234],\"yaxis\":\"y\",\"type\":\"scatter\"},{\"fillpattern\":{\"shape\":\"\"},\"hovertemplate\":\"cohort=2025-07-01<br>date=%{x}<br>active users=%{y}<extra></extra>\",\"legendgroup\":\"2025-07-01\",\"line\":{\"color\":\"rgb(95, 70, 144)\"},\"marker\":{\"symbol\":\"circle\"},\"mode\":\"lines\",\"name\":\"2025-07-01\",\"orientation\":\"v\",\"showlegend\":true,\"stackgroup\":\"1\",\"x\":[\"2023-09-01\",\"2023-10-01\",\"2023-11-01\",\"2023-12-01\",\"2024-01-01\",\"2024-02-01\",\"2024-03-01\",\"2024-04-01\",\"2024-05-01\",\"2024-06-01\",\"2024-07-01\",\"2024-08-01\",\"2024-09-01\",\"2024-10-01\",\"2024-11-01\",\"2024-12-01\",\"2025-01-01\",\"2025-02-01\",\"2025-03-01\",\"2025-04-01\",\"2025-05-01\",\"2025-06-01\",\"2025-07-01\",\"2025-08-01\",\"2025-09-01\",\"2025-10-01\",\"2025-11-01\",\"2025-12-01\",\"2026-01-01\",\"2026-02-01\",\"2026-03-01\",\"2026-04-01\",\"2026-05-01\",\"2026-06-01\",\"2026-07-01\",\"2026-08-01\"],\"xaxis\":\"x\",\"y\":[null,null,null,null,null,null,null,null,null,null,null,null,null,null,null,null,null,null,null,null,null,null,1000.0,645.1612903225806,312.5,168.0672268907563,102.0408163265306,67.79661016949152,48.07692307692307,35.77817531305903,27.624309392265193,21.95389681668496,17.857142857142858,14.80384900074019,12.468827930174562,10.643959552953698],\"yaxis\":\"y\",\"type\":\"scatter\"},{\"fillpattern\":{\"shape\":\"\"},\"hovertemplate\":\"cohort=2025-08-01<br>date=%{x}<br>active users=%{y}<extra></extra>\",\"legendgroup\":\"2025-08-01\",\"line\":{\"color\":\"rgb(29, 105, 150)\"},\"marker\":{\"symbol\":\"circle\"},\"mode\":\"lines\",\"name\":\"2025-08-01\",\"orientation\":\"v\",\"showlegend\":true,\"stackgroup\":\"1\",\"x\":[\"2023-09-01\",\"2023-10-01\",\"2023-11-01\",\"2023-12-01\",\"2024-01-01\",\"2024-02-01\",\"2024-03-01\",\"2024-04-01\",\"2024-05-01\",\"2024-06-01\",\"2024-07-01\",\"2024-08-01\",\"2024-09-01\",\"2024-10-01\",\"2024-11-01\",\"2024-12-01\",\"2025-01-01\",\"2025-02-01\",\"2025-03-01\",\"2025-04-01\",\"2025-05-01\",\"2025-06-01\",\"2025-07-01\",\"2025-08-01\",\"2025-09-01\",\"2025-10-01\",\"2025-11-01\",\"2025-12-01\",\"2026-01-01\",\"2026-02-01\",\"2026-03-01\",\"2026-04-01\",\"2026-05-01\",\"2026-06-01\",\"2026-07-01\",\"2026-08-01\"],\"xaxis\":\"x\",\"y\":[null,null,null,null,null,null,null,null,null,null,null,null,null,null,null,null,null,null,null,null,null,null,null,1000.0,645.1612903225806,312.5,168.0672268907563,102.0408163265306,67.79661016949152,48.07692307692307,35.77817531305903,27.624309392265193,21.95389681668496,17.857142857142858,14.80384900074019,12.468827930174562],\"yaxis\":\"y\",\"type\":\"scatter\"},{\"fillpattern\":{\"shape\":\"\"},\"hovertemplate\":\"cohort=2025-09-01<br>date=%{x}<br>active users=%{y}<extra></extra>\",\"legendgroup\":\"2025-09-01\",\"line\":{\"color\":\"rgb(56, 166, 165)\"},\"marker\":{\"symbol\":\"circle\"},\"mode\":\"lines\",\"name\":\"2025-09-01\",\"orientation\":\"v\",\"showlegend\":true,\"stackgroup\":\"1\",\"x\":[\"2023-09-01\",\"2023-10-01\",\"2023-11-01\",\"2023-12-01\",\"2024-01-01\",\"2024-02-01\",\"2024-03-01\",\"2024-04-01\",\"2024-05-01\",\"2024-06-01\",\"2024-07-01\",\"2024-08-01\",\"2024-09-01\",\"2024-10-01\",\"2024-11-01\",\"2024-12-01\",\"2025-01-01\",\"2025-02-01\",\"2025-03-01\",\"2025-04-01\",\"2025-05-01\",\"2025-06-01\",\"2025-07-01\",\"2025-08-01\",\"2025-09-01\",\"2025-10-01\",\"2025-11-01\",\"2025-12-01\",\"2026-01-01\",\"2026-02-01\",\"2026-03-01\",\"2026-04-01\",\"2026-05-01\",\"2026-06-01\",\"2026-07-01\",\"2026-08-01\"],\"xaxis\":\"x\",\"y\":[null,null,null,null,null,null,null,null,null,null,null,null,null,null,null,null,null,null,null,null,null,null,null,null,1000.0,645.1612903225806,312.5,168.0672268907563,102.0408163265306,67.79661016949152,48.07692307692307,35.77817531305903,27.624309392265193,21.95389681668496,17.857142857142858,14.80384900074019],\"yaxis\":\"y\",\"type\":\"scatter\"},{\"fillpattern\":{\"shape\":\"\"},\"hovertemplate\":\"cohort=2025-10-01<br>date=%{x}<br>active users=%{y}<extra></extra>\",\"legendgroup\":\"2025-10-01\",\"line\":{\"color\":\"rgb(15, 133, 84)\"},\"marker\":{\"symbol\":\"circle\"},\"mode\":\"lines\",\"name\":\"2025-10-01\",\"orientation\":\"v\",\"showlegend\":true,\"stackgroup\":\"1\",\"x\":[\"2023-09-01\",\"2023-10-01\",\"2023-11-01\",\"2023-12-01\",\"2024-01-01\",\"2024-02-01\",\"2024-03-01\",\"2024-04-01\",\"2024-05-01\",\"2024-06-01\",\"2024-07-01\",\"2024-08-01\",\"2024-09-01\",\"2024-10-01\",\"2024-11-01\",\"2024-12-01\",\"2025-01-01\",\"2025-02-01\",\"2025-03-01\",\"2025-04-01\",\"2025-05-01\",\"2025-06-01\",\"2025-07-01\",\"2025-08-01\",\"2025-09-01\",\"2025-10-01\",\"2025-11-01\",\"2025-12-01\",\"2026-01-01\",\"2026-02-01\",\"2026-03-01\",\"2026-04-01\",\"2026-05-01\",\"2026-06-01\",\"2026-07-01\",\"2026-08-01\"],\"xaxis\":\"x\",\"y\":[null,null,null,null,null,null,null,null,null,null,null,null,null,null,null,null,null,null,null,null,null,null,null,null,null,1000.0,645.1612903225806,312.5,168.0672268907563,102.0408163265306,67.79661016949152,48.07692307692307,35.77817531305903,27.624309392265193,21.95389681668496,17.857142857142858],\"yaxis\":\"y\",\"type\":\"scatter\"},{\"fillpattern\":{\"shape\":\"\"},\"hovertemplate\":\"cohort=2025-11-01<br>date=%{x}<br>active users=%{y}<extra></extra>\",\"legendgroup\":\"2025-11-01\",\"line\":{\"color\":\"rgb(115, 175, 72)\"},\"marker\":{\"symbol\":\"circle\"},\"mode\":\"lines\",\"name\":\"2025-11-01\",\"orientation\":\"v\",\"showlegend\":true,\"stackgroup\":\"1\",\"x\":[\"2023-09-01\",\"2023-10-01\",\"2023-11-01\",\"2023-12-01\",\"2024-01-01\",\"2024-02-01\",\"2024-03-01\",\"2024-04-01\",\"2024-05-01\",\"2024-06-01\",\"2024-07-01\",\"2024-08-01\",\"2024-09-01\",\"2024-10-01\",\"2024-11-01\",\"2024-12-01\",\"2025-01-01\",\"2025-02-01\",\"2025-03-01\",\"2025-04-01\",\"2025-05-01\",\"2025-06-01\",\"2025-07-01\",\"2025-08-01\",\"2025-09-01\",\"2025-10-01\",\"2025-11-01\",\"2025-12-01\",\"2026-01-01\",\"2026-02-01\",\"2026-03-01\",\"2026-04-01\",\"2026-05-01\",\"2026-06-01\",\"2026-07-01\",\"2026-08-01\"],\"xaxis\":\"x\",\"y\":[null,null,null,null,null,null,null,null,null,null,null,null,null,null,null,null,null,null,null,null,null,null,null,null,null,null,1000.0,645.1612903225806,312.5,168.0672268907563,102.0408163265306,67.79661016949152,48.07692307692307,35.77817531305903,27.624309392265193,21.95389681668496],\"yaxis\":\"y\",\"type\":\"scatter\"},{\"fillpattern\":{\"shape\":\"\"},\"hovertemplate\":\"cohort=2025-12-01<br>date=%{x}<br>active users=%{y}<extra></extra>\",\"legendgroup\":\"2025-12-01\",\"line\":{\"color\":\"rgb(237, 173, 8)\"},\"marker\":{\"symbol\":\"circle\"},\"mode\":\"lines\",\"name\":\"2025-12-01\",\"orientation\":\"v\",\"showlegend\":true,\"stackgroup\":\"1\",\"x\":[\"2023-09-01\",\"2023-10-01\",\"2023-11-01\",\"2023-12-01\",\"2024-01-01\",\"2024-02-01\",\"2024-03-01\",\"2024-04-01\",\"2024-05-01\",\"2024-06-01\",\"2024-07-01\",\"2024-08-01\",\"2024-09-01\",\"2024-10-01\",\"2024-11-01\",\"2024-12-01\",\"2025-01-01\",\"2025-02-01\",\"2025-03-01\",\"2025-04-01\",\"2025-05-01\",\"2025-06-01\",\"2025-07-01\",\"2025-08-01\",\"2025-09-01\",\"2025-10-01\",\"2025-11-01\",\"2025-12-01\",\"2026-01-01\",\"2026-02-01\",\"2026-03-01\",\"2026-04-01\",\"2026-05-01\",\"2026-06-01\",\"2026-07-01\",\"2026-08-01\"],\"xaxis\":\"x\",\"y\":[null,null,null,null,null,null,null,null,null,null,null,null,null,null,null,null,null,null,null,null,null,null,null,null,null,null,null,1000.0,645.1612903225806,312.5,168.0672268907563,102.0408163265306,67.79661016949152,48.07692307692307,35.77817531305903,27.624309392265193],\"yaxis\":\"y\",\"type\":\"scatter\"},{\"fillpattern\":{\"shape\":\"\"},\"hovertemplate\":\"cohort=2026-01-01<br>date=%{x}<br>active users=%{y}<extra></extra>\",\"legendgroup\":\"2026-01-01\",\"line\":{\"color\":\"rgb(225, 124, 5)\"},\"marker\":{\"symbol\":\"circle\"},\"mode\":\"lines\",\"name\":\"2026-01-01\",\"orientation\":\"v\",\"showlegend\":true,\"stackgroup\":\"1\",\"x\":[\"2023-09-01\",\"2023-10-01\",\"2023-11-01\",\"2023-12-01\",\"2024-01-01\",\"2024-02-01\",\"2024-03-01\",\"2024-04-01\",\"2024-05-01\",\"2024-06-01\",\"2024-07-01\",\"2024-08-01\",\"2024-09-01\",\"2024-10-01\",\"2024-11-01\",\"2024-12-01\",\"2025-01-01\",\"2025-02-01\",\"2025-03-01\",\"2025-04-01\",\"2025-05-01\",\"2025-06-01\",\"2025-07-01\",\"2025-08-01\",\"2025-09-01\",\"2025-10-01\",\"2025-11-01\",\"2025-12-01\",\"2026-01-01\",\"2026-02-01\",\"2026-03-01\",\"2026-04-01\",\"2026-05-01\",\"2026-06-01\",\"2026-07-01\",\"2026-08-01\"],\"xaxis\":\"x\",\"y\":[null,null,null,null,null,null,null,null,null,null,null,null,null,null,null,null,null,null,null,null,null,null,null,null,null,null,null,null,1000.0,645.1612903225806,312.5,168.0672268907563,102.0408163265306,67.79661016949152,48.07692307692307,35.77817531305903],\"yaxis\":\"y\",\"type\":\"scatter\"},{\"fillpattern\":{\"shape\":\"\"},\"hovertemplate\":\"cohort=2026-02-01<br>date=%{x}<br>active users=%{y}<extra></extra>\",\"legendgroup\":\"2026-02-01\",\"line\":{\"color\":\"rgb(204, 80, 62)\"},\"marker\":{\"symbol\":\"circle\"},\"mode\":\"lines\",\"name\":\"2026-02-01\",\"orientation\":\"v\",\"showlegend\":true,\"stackgroup\":\"1\",\"x\":[\"2023-09-01\",\"2023-10-01\",\"2023-11-01\",\"2023-12-01\",\"2024-01-01\",\"2024-02-01\",\"2024-03-01\",\"2024-04-01\",\"2024-05-01\",\"2024-06-01\",\"2024-07-01\",\"2024-08-01\",\"2024-09-01\",\"2024-10-01\",\"2024-11-01\",\"2024-12-01\",\"2025-01-01\",\"2025-02-01\",\"2025-03-01\",\"2025-04-01\",\"2025-05-01\",\"2025-06-01\",\"2025-07-01\",\"2025-08-01\",\"2025-09-01\",\"2025-10-01\",\"2025-11-01\",\"2025-12-01\",\"2026-01-01\",\"2026-02-01\",\"2026-03-01\",\"2026-04-01\",\"2026-05-01\",\"2026-06-01\",\"2026-07-01\",\"2026-08-01\"],\"xaxis\":\"x\",\"y\":[null,null,null,null,null,null,null,null,null,null,null,null,null,null,null,null,null,null,null,null,null,null,null,null,null,null,null,null,null,1000.0,645.1612903225806,312.5,168.0672268907563,102.0408163265306,67.79661016949152,48.07692307692307],\"yaxis\":\"y\",\"type\":\"scatter\"},{\"fillpattern\":{\"shape\":\"\"},\"hovertemplate\":\"cohort=2026-03-01<br>date=%{x}<br>active users=%{y}<extra></extra>\",\"legendgroup\":\"2026-03-01\",\"line\":{\"color\":\"rgb(148, 52, 110)\"},\"marker\":{\"symbol\":\"circle\"},\"mode\":\"lines\",\"name\":\"2026-03-01\",\"orientation\":\"v\",\"showlegend\":true,\"stackgroup\":\"1\",\"x\":[\"2023-09-01\",\"2023-10-01\",\"2023-11-01\",\"2023-12-01\",\"2024-01-01\",\"2024-02-01\",\"2024-03-01\",\"2024-04-01\",\"2024-05-01\",\"2024-06-01\",\"2024-07-01\",\"2024-08-01\",\"2024-09-01\",\"2024-10-01\",\"2024-11-01\",\"2024-12-01\",\"2025-01-01\",\"2025-02-01\",\"2025-03-01\",\"2025-04-01\",\"2025-05-01\",\"2025-06-01\",\"2025-07-01\",\"2025-08-01\",\"2025-09-01\",\"2025-10-01\",\"2025-11-01\",\"2025-12-01\",\"2026-01-01\",\"2026-02-01\",\"2026-03-01\",\"2026-04-01\",\"2026-05-01\",\"2026-06-01\",\"2026-07-01\",\"2026-08-01\"],\"xaxis\":\"x\",\"y\":[null,null,null,null,null,null,null,null,null,null,null,null,null,null,null,null,null,null,null,null,null,null,null,null,null,null,null,null,null,null,1000.0,645.1612903225806,312.5,168.0672268907563,102.0408163265306,67.79661016949152],\"yaxis\":\"y\",\"type\":\"scatter\"},{\"fillpattern\":{\"shape\":\"\"},\"hovertemplate\":\"cohort=2026-04-01<br>date=%{x}<br>active users=%{y}<extra></extra>\",\"legendgroup\":\"2026-04-01\",\"line\":{\"color\":\"rgb(111, 64, 112)\"},\"marker\":{\"symbol\":\"circle\"},\"mode\":\"lines\",\"name\":\"2026-04-01\",\"orientation\":\"v\",\"showlegend\":true,\"stackgroup\":\"1\",\"x\":[\"2023-09-01\",\"2023-10-01\",\"2023-11-01\",\"2023-12-01\",\"2024-01-01\",\"2024-02-01\",\"2024-03-01\",\"2024-04-01\",\"2024-05-01\",\"2024-06-01\",\"2024-07-01\",\"2024-08-01\",\"2024-09-01\",\"2024-10-01\",\"2024-11-01\",\"2024-12-01\",\"2025-01-01\",\"2025-02-01\",\"2025-03-01\",\"2025-04-01\",\"2025-05-01\",\"2025-06-01\",\"2025-07-01\",\"2025-08-01\",\"2025-09-01\",\"2025-10-01\",\"2025-11-01\",\"2025-12-01\",\"2026-01-01\",\"2026-02-01\",\"2026-03-01\",\"2026-04-01\",\"2026-05-01\",\"2026-06-01\",\"2026-07-01\",\"2026-08-01\"],\"xaxis\":\"x\",\"y\":[null,null,null,null,null,null,null,null,null,null,null,null,null,null,null,null,null,null,null,null,null,null,null,null,null,null,null,null,null,null,null,1000.0,645.1612903225806,312.5,168.0672268907563,102.0408163265306],\"yaxis\":\"y\",\"type\":\"scatter\"},{\"fillpattern\":{\"shape\":\"\"},\"hovertemplate\":\"cohort=2026-05-01<br>date=%{x}<br>active users=%{y}<extra></extra>\",\"legendgroup\":\"2026-05-01\",\"line\":{\"color\":\"rgb(102, 102, 102)\"},\"marker\":{\"symbol\":\"circle\"},\"mode\":\"lines\",\"name\":\"2026-05-01\",\"orientation\":\"v\",\"showlegend\":true,\"stackgroup\":\"1\",\"x\":[\"2023-09-01\",\"2023-10-01\",\"2023-11-01\",\"2023-12-01\",\"2024-01-01\",\"2024-02-01\",\"2024-03-01\",\"2024-04-01\",\"2024-05-01\",\"2024-06-01\",\"2024-07-01\",\"2024-08-01\",\"2024-09-01\",\"2024-10-01\",\"2024-11-01\",\"2024-12-01\",\"2025-01-01\",\"2025-02-01\",\"2025-03-01\",\"2025-04-01\",\"2025-05-01\",\"2025-06-01\",\"2025-07-01\",\"2025-08-01\",\"2025-09-01\",\"2025-10-01\",\"2025-11-01\",\"2025-12-01\",\"2026-01-01\",\"2026-02-01\",\"2026-03-01\",\"2026-04-01\",\"2026-05-01\",\"2026-06-01\",\"2026-07-01\",\"2026-08-01\"],\"xaxis\":\"x\",\"y\":[null,null,null,null,null,null,null,null,null,null,null,null,null,null,null,null,null,null,null,null,null,null,null,null,null,null,null,null,null,null,null,null,1000.0,645.1612903225806,312.5,168.0672268907563],\"yaxis\":\"y\",\"type\":\"scatter\"},{\"fillpattern\":{\"shape\":\"\"},\"hovertemplate\":\"cohort=2026-06-01<br>date=%{x}<br>active users=%{y}<extra></extra>\",\"legendgroup\":\"2026-06-01\",\"line\":{\"color\":\"rgb(95, 70, 144)\"},\"marker\":{\"symbol\":\"circle\"},\"mode\":\"lines\",\"name\":\"2026-06-01\",\"orientation\":\"v\",\"showlegend\":true,\"stackgroup\":\"1\",\"x\":[\"2023-09-01\",\"2023-10-01\",\"2023-11-01\",\"2023-12-01\",\"2024-01-01\",\"2024-02-01\",\"2024-03-01\",\"2024-04-01\",\"2024-05-01\",\"2024-06-01\",\"2024-07-01\",\"2024-08-01\",\"2024-09-01\",\"2024-10-01\",\"2024-11-01\",\"2024-12-01\",\"2025-01-01\",\"2025-02-01\",\"2025-03-01\",\"2025-04-01\",\"2025-05-01\",\"2025-06-01\",\"2025-07-01\",\"2025-08-01\",\"2025-09-01\",\"2025-10-01\",\"2025-11-01\",\"2025-12-01\",\"2026-01-01\",\"2026-02-01\",\"2026-03-01\",\"2026-04-01\",\"2026-05-01\",\"2026-06-01\",\"2026-07-01\",\"2026-08-01\"],\"xaxis\":\"x\",\"y\":[null,null,null,null,null,null,null,null,null,null,null,null,null,null,null,null,null,null,null,null,null,null,null,null,null,null,null,null,null,null,null,null,null,1000.0,645.1612903225806,312.5],\"yaxis\":\"y\",\"type\":\"scatter\"},{\"fillpattern\":{\"shape\":\"\"},\"hovertemplate\":\"cohort=2026-07-01<br>date=%{x}<br>active users=%{y}<extra></extra>\",\"legendgroup\":\"2026-07-01\",\"line\":{\"color\":\"rgb(29, 105, 150)\"},\"marker\":{\"symbol\":\"circle\"},\"mode\":\"lines\",\"name\":\"2026-07-01\",\"orientation\":\"v\",\"showlegend\":true,\"stackgroup\":\"1\",\"x\":[\"2023-09-01\",\"2023-10-01\",\"2023-11-01\",\"2023-12-01\",\"2024-01-01\",\"2024-02-01\",\"2024-03-01\",\"2024-04-01\",\"2024-05-01\",\"2024-06-01\",\"2024-07-01\",\"2024-08-01\",\"2024-09-01\",\"2024-10-01\",\"2024-11-01\",\"2024-12-01\",\"2025-01-01\",\"2025-02-01\",\"2025-03-01\",\"2025-04-01\",\"2025-05-01\",\"2025-06-01\",\"2025-07-01\",\"2025-08-01\",\"2025-09-01\",\"2025-10-01\",\"2025-11-01\",\"2025-12-01\",\"2026-01-01\",\"2026-02-01\",\"2026-03-01\",\"2026-04-01\",\"2026-05-01\",\"2026-06-01\",\"2026-07-01\",\"2026-08-01\"],\"xaxis\":\"x\",\"y\":[null,null,null,null,null,null,null,null,null,null,null,null,null,null,null,null,null,null,null,null,null,null,null,null,null,null,null,null,null,null,null,null,null,null,1000.0,645.1612903225806],\"yaxis\":\"y\",\"type\":\"scatter\"},{\"fillpattern\":{\"shape\":\"\"},\"hovertemplate\":\"cohort=2026-08-01<br>date=%{x}<br>active users=%{y}<extra></extra>\",\"legendgroup\":\"2026-08-01\",\"line\":{\"color\":\"rgb(56, 166, 165)\"},\"marker\":{\"symbol\":\"circle\"},\"mode\":\"lines\",\"name\":\"2026-08-01\",\"orientation\":\"v\",\"showlegend\":true,\"stackgroup\":\"1\",\"x\":[\"2023-09-01\",\"2023-10-01\",\"2023-11-01\",\"2023-12-01\",\"2024-01-01\",\"2024-02-01\",\"2024-03-01\",\"2024-04-01\",\"2024-05-01\",\"2024-06-01\",\"2024-07-01\",\"2024-08-01\",\"2024-09-01\",\"2024-10-01\",\"2024-11-01\",\"2024-12-01\",\"2025-01-01\",\"2025-02-01\",\"2025-03-01\",\"2025-04-01\",\"2025-05-01\",\"2025-06-01\",\"2025-07-01\",\"2025-08-01\",\"2025-09-01\",\"2025-10-01\",\"2025-11-01\",\"2025-12-01\",\"2026-01-01\",\"2026-02-01\",\"2026-03-01\",\"2026-04-01\",\"2026-05-01\",\"2026-06-01\",\"2026-07-01\",\"2026-08-01\"],\"xaxis\":\"x\",\"y\":[null,null,null,null,null,null,null,null,null,null,null,null,null,null,null,null,null,null,null,null,null,null,null,null,null,null,null,null,null,null,null,null,null,null,null,1000.0],\"yaxis\":\"y\",\"type\":\"scatter\"}],                        {\"template\":{\"data\":{\"histogram2dcontour\":[{\"type\":\"histogram2dcontour\",\"colorbar\":{\"outlinewidth\":1,\"tickcolor\":\"rgb(36,36,36)\",\"ticks\":\"outside\"},\"colorscale\":[[0.0,\"#440154\"],[0.1111111111111111,\"#482878\"],[0.2222222222222222,\"#3e4989\"],[0.3333333333333333,\"#31688e\"],[0.4444444444444444,\"#26828e\"],[0.5555555555555556,\"#1f9e89\"],[0.6666666666666666,\"#35b779\"],[0.7777777777777778,\"#6ece58\"],[0.8888888888888888,\"#b5de2b\"],[1.0,\"#fde725\"]]}],\"choropleth\":[{\"type\":\"choropleth\",\"colorbar\":{\"outlinewidth\":1,\"tickcolor\":\"rgb(36,36,36)\",\"ticks\":\"outside\"}}],\"histogram2d\":[{\"type\":\"histogram2d\",\"colorbar\":{\"outlinewidth\":1,\"tickcolor\":\"rgb(36,36,36)\",\"ticks\":\"outside\"},\"colorscale\":[[0.0,\"#440154\"],[0.1111111111111111,\"#482878\"],[0.2222222222222222,\"#3e4989\"],[0.3333333333333333,\"#31688e\"],[0.4444444444444444,\"#26828e\"],[0.5555555555555556,\"#1f9e89\"],[0.6666666666666666,\"#35b779\"],[0.7777777777777778,\"#6ece58\"],[0.8888888888888888,\"#b5de2b\"],[1.0,\"#fde725\"]]}],\"heatmap\":[{\"type\":\"heatmap\",\"colorbar\":{\"outlinewidth\":1,\"tickcolor\":\"rgb(36,36,36)\",\"ticks\":\"outside\"},\"colorscale\":[[0.0,\"#440154\"],[0.1111111111111111,\"#482878\"],[0.2222222222222222,\"#3e4989\"],[0.3333333333333333,\"#31688e\"],[0.4444444444444444,\"#26828e\"],[0.5555555555555556,\"#1f9e89\"],[0.6666666666666666,\"#35b779\"],[0.7777777777777778,\"#6ece58\"],[0.8888888888888888,\"#b5de2b\"],[1.0,\"#fde725\"]]}],\"heatmapgl\":[{\"type\":\"heatmapgl\",\"colorbar\":{\"outlinewidth\":1,\"tickcolor\":\"rgb(36,36,36)\",\"ticks\":\"outside\"},\"colorscale\":[[0.0,\"#440154\"],[0.1111111111111111,\"#482878\"],[0.2222222222222222,\"#3e4989\"],[0.3333333333333333,\"#31688e\"],[0.4444444444444444,\"#26828e\"],[0.5555555555555556,\"#1f9e89\"],[0.6666666666666666,\"#35b779\"],[0.7777777777777778,\"#6ece58\"],[0.8888888888888888,\"#b5de2b\"],[1.0,\"#fde725\"]]}],\"contourcarpet\":[{\"type\":\"contourcarpet\",\"colorbar\":{\"outlinewidth\":1,\"tickcolor\":\"rgb(36,36,36)\",\"ticks\":\"outside\"}}],\"contour\":[{\"type\":\"contour\",\"colorbar\":{\"outlinewidth\":1,\"tickcolor\":\"rgb(36,36,36)\",\"ticks\":\"outside\"},\"colorscale\":[[0.0,\"#440154\"],[0.1111111111111111,\"#482878\"],[0.2222222222222222,\"#3e4989\"],[0.3333333333333333,\"#31688e\"],[0.4444444444444444,\"#26828e\"],[0.5555555555555556,\"#1f9e89\"],[0.6666666666666666,\"#35b779\"],[0.7777777777777778,\"#6ece58\"],[0.8888888888888888,\"#b5de2b\"],[1.0,\"#fde725\"]]}],\"surface\":[{\"type\":\"surface\",\"colorbar\":{\"outlinewidth\":1,\"tickcolor\":\"rgb(36,36,36)\",\"ticks\":\"outside\"},\"colorscale\":[[0.0,\"#440154\"],[0.1111111111111111,\"#482878\"],[0.2222222222222222,\"#3e4989\"],[0.3333333333333333,\"#31688e\"],[0.4444444444444444,\"#26828e\"],[0.5555555555555556,\"#1f9e89\"],[0.6666666666666666,\"#35b779\"],[0.7777777777777778,\"#6ece58\"],[0.8888888888888888,\"#b5de2b\"],[1.0,\"#fde725\"]]}],\"mesh3d\":[{\"type\":\"mesh3d\",\"colorbar\":{\"outlinewidth\":1,\"tickcolor\":\"rgb(36,36,36)\",\"ticks\":\"outside\"}}],\"scatter\":[{\"fillpattern\":{\"fillmode\":\"overlay\",\"size\":10,\"solidity\":0.2},\"type\":\"scatter\"}],\"parcoords\":[{\"type\":\"parcoords\",\"line\":{\"colorbar\":{\"outlinewidth\":1,\"tickcolor\":\"rgb(36,36,36)\",\"ticks\":\"outside\"}}}],\"scatterpolargl\":[{\"type\":\"scatterpolargl\",\"marker\":{\"colorbar\":{\"outlinewidth\":1,\"tickcolor\":\"rgb(36,36,36)\",\"ticks\":\"outside\"}}}],\"bar\":[{\"error_x\":{\"color\":\"rgb(36,36,36)\"},\"error_y\":{\"color\":\"rgb(36,36,36)\"},\"marker\":{\"line\":{\"color\":\"white\",\"width\":0.5},\"pattern\":{\"fillmode\":\"overlay\",\"size\":10,\"solidity\":0.2}},\"type\":\"bar\"}],\"scattergeo\":[{\"type\":\"scattergeo\",\"marker\":{\"colorbar\":{\"outlinewidth\":1,\"tickcolor\":\"rgb(36,36,36)\",\"ticks\":\"outside\"}}}],\"scatterpolar\":[{\"type\":\"scatterpolar\",\"marker\":{\"colorbar\":{\"outlinewidth\":1,\"tickcolor\":\"rgb(36,36,36)\",\"ticks\":\"outside\"}}}],\"histogram\":[{\"marker\":{\"line\":{\"color\":\"white\",\"width\":0.6}},\"type\":\"histogram\"}],\"scattergl\":[{\"type\":\"scattergl\",\"marker\":{\"colorbar\":{\"outlinewidth\":1,\"tickcolor\":\"rgb(36,36,36)\",\"ticks\":\"outside\"}}}],\"scatter3d\":[{\"type\":\"scatter3d\",\"line\":{\"colorbar\":{\"outlinewidth\":1,\"tickcolor\":\"rgb(36,36,36)\",\"ticks\":\"outside\"}},\"marker\":{\"colorbar\":{\"outlinewidth\":1,\"tickcolor\":\"rgb(36,36,36)\",\"ticks\":\"outside\"}}}],\"scattermapbox\":[{\"type\":\"scattermapbox\",\"marker\":{\"colorbar\":{\"outlinewidth\":1,\"tickcolor\":\"rgb(36,36,36)\",\"ticks\":\"outside\"}}}],\"scatterternary\":[{\"type\":\"scatterternary\",\"marker\":{\"colorbar\":{\"outlinewidth\":1,\"tickcolor\":\"rgb(36,36,36)\",\"ticks\":\"outside\"}}}],\"scattercarpet\":[{\"type\":\"scattercarpet\",\"marker\":{\"colorbar\":{\"outlinewidth\":1,\"tickcolor\":\"rgb(36,36,36)\",\"ticks\":\"outside\"}}}],\"carpet\":[{\"aaxis\":{\"endlinecolor\":\"rgb(36,36,36)\",\"gridcolor\":\"white\",\"linecolor\":\"white\",\"minorgridcolor\":\"white\",\"startlinecolor\":\"rgb(36,36,36)\"},\"baxis\":{\"endlinecolor\":\"rgb(36,36,36)\",\"gridcolor\":\"white\",\"linecolor\":\"white\",\"minorgridcolor\":\"white\",\"startlinecolor\":\"rgb(36,36,36)\"},\"type\":\"carpet\"}],\"table\":[{\"cells\":{\"fill\":{\"color\":\"rgb(237,237,237)\"},\"line\":{\"color\":\"white\"}},\"header\":{\"fill\":{\"color\":\"rgb(217,217,217)\"},\"line\":{\"color\":\"white\"}},\"type\":\"table\"}],\"barpolar\":[{\"marker\":{\"line\":{\"color\":\"white\",\"width\":0.5},\"pattern\":{\"fillmode\":\"overlay\",\"size\":10,\"solidity\":0.2}},\"type\":\"barpolar\"}],\"pie\":[{\"automargin\":true,\"type\":\"pie\"}]},\"layout\":{\"autotypenumbers\":\"strict\",\"colorway\":[\"#1F77B4\",\"#FF7F0E\",\"#2CA02C\",\"#D62728\",\"#9467BD\",\"#8C564B\",\"#E377C2\",\"#7F7F7F\",\"#BCBD22\",\"#17BECF\"],\"font\":{\"color\":\"rgb(36,36,36)\"},\"hovermode\":\"closest\",\"hoverlabel\":{\"align\":\"left\"},\"paper_bgcolor\":\"white\",\"plot_bgcolor\":\"white\",\"polar\":{\"bgcolor\":\"white\",\"angularaxis\":{\"gridcolor\":\"rgb(232,232,232)\",\"linecolor\":\"rgb(36,36,36)\",\"showgrid\":false,\"showline\":true,\"ticks\":\"outside\"},\"radialaxis\":{\"gridcolor\":\"rgb(232,232,232)\",\"linecolor\":\"rgb(36,36,36)\",\"showgrid\":false,\"showline\":true,\"ticks\":\"outside\"}},\"ternary\":{\"bgcolor\":\"white\",\"aaxis\":{\"gridcolor\":\"rgb(232,232,232)\",\"linecolor\":\"rgb(36,36,36)\",\"showgrid\":false,\"showline\":true,\"ticks\":\"outside\"},\"baxis\":{\"gridcolor\":\"rgb(232,232,232)\",\"linecolor\":\"rgb(36,36,36)\",\"showgrid\":false,\"showline\":true,\"ticks\":\"outside\"},\"caxis\":{\"gridcolor\":\"rgb(232,232,232)\",\"linecolor\":\"rgb(36,36,36)\",\"showgrid\":false,\"showline\":true,\"ticks\":\"outside\"}},\"coloraxis\":{\"colorbar\":{\"outlinewidth\":1,\"tickcolor\":\"rgb(36,36,36)\",\"ticks\":\"outside\"}},\"colorscale\":{\"sequential\":[[0.0,\"#440154\"],[0.1111111111111111,\"#482878\"],[0.2222222222222222,\"#3e4989\"],[0.3333333333333333,\"#31688e\"],[0.4444444444444444,\"#26828e\"],[0.5555555555555556,\"#1f9e89\"],[0.6666666666666666,\"#35b779\"],[0.7777777777777778,\"#6ece58\"],[0.8888888888888888,\"#b5de2b\"],[1.0,\"#fde725\"]],\"sequentialminus\":[[0.0,\"#440154\"],[0.1111111111111111,\"#482878\"],[0.2222222222222222,\"#3e4989\"],[0.3333333333333333,\"#31688e\"],[0.4444444444444444,\"#26828e\"],[0.5555555555555556,\"#1f9e89\"],[0.6666666666666666,\"#35b779\"],[0.7777777777777778,\"#6ece58\"],[0.8888888888888888,\"#b5de2b\"],[1.0,\"#fde725\"]],\"diverging\":[[0.0,\"rgb(103,0,31)\"],[0.1,\"rgb(178,24,43)\"],[0.2,\"rgb(214,96,77)\"],[0.3,\"rgb(244,165,130)\"],[0.4,\"rgb(253,219,199)\"],[0.5,\"rgb(247,247,247)\"],[0.6,\"rgb(209,229,240)\"],[0.7,\"rgb(146,197,222)\"],[0.8,\"rgb(67,147,195)\"],[0.9,\"rgb(33,102,172)\"],[1.0,\"rgb(5,48,97)\"]]},\"xaxis\":{\"gridcolor\":\"rgb(232,232,232)\",\"linecolor\":\"rgb(36,36,36)\",\"showgrid\":false,\"showline\":true,\"ticks\":\"outside\",\"title\":{\"standoff\":15},\"zerolinecolor\":\"rgb(36,36,36)\",\"automargin\":true,\"zeroline\":false},\"yaxis\":{\"gridcolor\":\"rgb(232,232,232)\",\"linecolor\":\"rgb(36,36,36)\",\"showgrid\":false,\"showline\":true,\"ticks\":\"outside\",\"title\":{\"standoff\":15},\"zerolinecolor\":\"rgb(36,36,36)\",\"automargin\":true,\"zeroline\":false},\"scene\":{\"xaxis\":{\"backgroundcolor\":\"white\",\"gridcolor\":\"rgb(232,232,232)\",\"linecolor\":\"rgb(36,36,36)\",\"showbackground\":true,\"showgrid\":false,\"showline\":true,\"ticks\":\"outside\",\"zerolinecolor\":\"rgb(36,36,36)\",\"gridwidth\":2,\"zeroline\":false},\"yaxis\":{\"backgroundcolor\":\"white\",\"gridcolor\":\"rgb(232,232,232)\",\"linecolor\":\"rgb(36,36,36)\",\"showbackground\":true,\"showgrid\":false,\"showline\":true,\"ticks\":\"outside\",\"zerolinecolor\":\"rgb(36,36,36)\",\"gridwidth\":2,\"zeroline\":false},\"zaxis\":{\"backgroundcolor\":\"white\",\"gridcolor\":\"rgb(232,232,232)\",\"linecolor\":\"rgb(36,36,36)\",\"showbackground\":true,\"showgrid\":false,\"showline\":true,\"ticks\":\"outside\",\"zerolinecolor\":\"rgb(36,36,36)\",\"gridwidth\":2,\"zeroline\":false}},\"shapedefaults\":{\"fillcolor\":\"black\",\"line\":{\"width\":0},\"opacity\":0.3},\"annotationdefaults\":{\"arrowhead\":0,\"arrowwidth\":1},\"geo\":{\"bgcolor\":\"white\",\"landcolor\":\"white\",\"subunitcolor\":\"white\",\"showland\":true,\"showlakes\":true,\"lakecolor\":\"white\"},\"title\":{\"x\":0.05},\"mapbox\":{\"style\":\"light\"}}},\"xaxis\":{\"anchor\":\"y\",\"domain\":[0.0,1.0],\"title\":{\"text\":\"date\"}},\"yaxis\":{\"anchor\":\"x\",\"domain\":[0.0,1.0],\"title\":{\"text\":\"active users\"}},\"legend\":{\"title\":{\"text\":\"cohort\"},\"tracegroupgap\":0},\"title\":{\"text\":\"Active users by cohorts for product1\"}},                        {\"responsive\": true}                    ).then(function(){\n",
       "                            \n",
       "var gd = document.getElementById('2c34f4b7-f15c-4902-80d6-851d81616420');\n",
       "var x = new MutationObserver(function (mutations, observer) {{\n",
       "        var display = window.getComputedStyle(gd).display;\n",
       "        if (!display || display === 'none') {{\n",
       "            console.log([gd, 'removed!']);\n",
       "            Plotly.purge(gd);\n",
       "            observer.disconnect();\n",
       "        }}\n",
       "}});\n",
       "\n",
       "// Listen for the removal of the full notebook cells\n",
       "var notebookContainer = gd.closest('#notebook-container');\n",
       "if (notebookContainer) {{\n",
       "    x.observe(notebookContainer, {childList: true});\n",
       "}}\n",
       "\n",
       "// Listen for the clearing of the current output cell\n",
       "var outputEl = gd.closest('.output');\n",
       "if (outputEl) {{\n",
       "    x.observe(outputEl, {childList: true});\n",
       "}}\n",
       "\n",
       "                        })                };                });            </script>        </div>"
      ]
     },
     "metadata": {},
     "output_type": "display_data"
    }
   ],
   "source": [
    "px.area(\n",
    "    raw_ret_df[raw_ret_df['product'] == 'product1'].pivot_table(index = 'date',\n",
    "                                                           columns = 'cohort_date', \n",
    "                                                           values = 'users'),\n",
    "    labels = {'cohort_date': 'cohort', 'value': 'active users'},\n",
    "    title = 'Active users by cohorts for product1',\n",
    "    color_discrete_sequence = px.colors.qualitative.Prism\n",
    ")"
   ]
  },
  {
   "cell_type": "code",
   "execution_count": 390,
   "id": "a334f0af",
   "metadata": {},
   "outputs": [
    {
     "data": {
      "application/vnd.plotly.v1+json": {
       "config": {
        "plotlyServerURL": "https://plot.ly"
       },
       "data": [
        {
         "fillpattern": {
          "shape": ""
         },
         "hovertemplate": "cohort=2023-09-01<br>date=%{x}<br>active users=%{y}<extra></extra>",
         "legendgroup": "2023-09-01",
         "line": {
          "color": "rgb(95, 70, 144)"
         },
         "marker": {
          "symbol": "circle"
         },
         "mode": "lines",
         "name": "2023-09-01",
         "orientation": "v",
         "showlegend": true,
         "stackgroup": "1",
         "type": "scatter",
         "x": [
          "2023-09-01",
          "2023-10-01",
          "2023-11-01",
          "2023-12-01",
          "2024-01-01",
          "2024-02-01",
          "2024-03-01",
          "2024-04-01",
          "2024-05-01",
          "2024-06-01",
          "2024-07-01",
          "2024-08-01",
          "2024-09-01",
          "2024-10-01",
          "2024-11-01",
          "2024-12-01",
          "2025-01-01",
          "2025-02-01",
          "2025-03-01",
          "2025-04-01",
          "2025-05-01",
          "2025-06-01",
          "2025-07-01",
          "2025-08-01",
          "2025-09-01",
          "2025-10-01",
          "2025-11-01",
          "2025-12-01",
          "2026-01-01",
          "2026-02-01",
          "2026-03-01",
          "2026-04-01",
          "2026-05-01",
          "2026-06-01",
          "2026-07-01",
          "2026-08-01"
         ],
         "xaxis": "x",
         "y": [
          1000,
          537.1794871794873,
          392.61857515225853,
          317.3434406359527,
          270.5152464274289,
          238.34764001750247,
          214.78850637983825,
          196.73879577760823,
          182.43891594732438,
          170.81225994567708,
          161.16157937979574,
          153.0146257445508,
          146.03973172799382,
          139.9968707739967,
          134.7078975193692,
          130.03771591234656,
          125.88195253787077,
          122.15865000869108,
          118.80252608155305,
          115.76091698734511,
          112.990854021002,
          110.45691959191237,
          108.12965000762794,
          105.98432857150428,
          104.0000618034658,
          102.15906402679298,
          100.44609734378585,
          98.8480289052246,
          97.35347771032774,
          95.95253045223437,
          94.63651112086066,
          93.39779283210717,
          92.22964310025917,
          91.12609580187336,
          90.08184459641349,
          89.09215371235842
         ],
         "yaxis": "y"
        },
        {
         "fillpattern": {
          "shape": ""
         },
         "hovertemplate": "cohort=2023-10-01<br>date=%{x}<br>active users=%{y}<extra></extra>",
         "legendgroup": "2023-10-01",
         "line": {
          "color": "rgb(29, 105, 150)"
         },
         "marker": {
          "symbol": "circle"
         },
         "mode": "lines",
         "name": "2023-10-01",
         "orientation": "v",
         "showlegend": true,
         "stackgroup": "1",
         "type": "scatter",
         "x": [
          "2023-09-01",
          "2023-10-01",
          "2023-11-01",
          "2023-12-01",
          "2024-01-01",
          "2024-02-01",
          "2024-03-01",
          "2024-04-01",
          "2024-05-01",
          "2024-06-01",
          "2024-07-01",
          "2024-08-01",
          "2024-09-01",
          "2024-10-01",
          "2024-11-01",
          "2024-12-01",
          "2025-01-01",
          "2025-02-01",
          "2025-03-01",
          "2025-04-01",
          "2025-05-01",
          "2025-06-01",
          "2025-07-01",
          "2025-08-01",
          "2025-09-01",
          "2025-10-01",
          "2025-11-01",
          "2025-12-01",
          "2026-01-01",
          "2026-02-01",
          "2026-03-01",
          "2026-04-01",
          "2026-05-01",
          "2026-06-01",
          "2026-07-01",
          "2026-08-01"
         ],
         "xaxis": "x",
         "y": [
          null,
          1000,
          537.1794871794873,
          392.61857515225853,
          317.3434406359527,
          270.5152464274289,
          238.34764001750247,
          214.78850637983825,
          196.73879577760823,
          182.43891594732438,
          170.81225994567708,
          161.16157937979574,
          153.0146257445508,
          146.03973172799382,
          139.9968707739967,
          134.7078975193692,
          130.03771591234656,
          125.88195253787077,
          122.15865000869108,
          118.80252608155305,
          115.76091698734511,
          112.990854021002,
          110.45691959191237,
          108.12965000762794,
          105.98432857150428,
          104.0000618034658,
          102.15906402679298,
          100.44609734378585,
          98.8480289052246,
          97.35347771032774,
          95.95253045223437,
          94.63651112086066,
          93.39779283210717,
          92.22964310025917,
          91.12609580187336,
          90.08184459641349
         ],
         "yaxis": "y"
        },
        {
         "fillpattern": {
          "shape": ""
         },
         "hovertemplate": "cohort=2023-11-01<br>date=%{x}<br>active users=%{y}<extra></extra>",
         "legendgroup": "2023-11-01",
         "line": {
          "color": "rgb(56, 166, 165)"
         },
         "marker": {
          "symbol": "circle"
         },
         "mode": "lines",
         "name": "2023-11-01",
         "orientation": "v",
         "showlegend": true,
         "stackgroup": "1",
         "type": "scatter",
         "x": [
          "2023-09-01",
          "2023-10-01",
          "2023-11-01",
          "2023-12-01",
          "2024-01-01",
          "2024-02-01",
          "2024-03-01",
          "2024-04-01",
          "2024-05-01",
          "2024-06-01",
          "2024-07-01",
          "2024-08-01",
          "2024-09-01",
          "2024-10-01",
          "2024-11-01",
          "2024-12-01",
          "2025-01-01",
          "2025-02-01",
          "2025-03-01",
          "2025-04-01",
          "2025-05-01",
          "2025-06-01",
          "2025-07-01",
          "2025-08-01",
          "2025-09-01",
          "2025-10-01",
          "2025-11-01",
          "2025-12-01",
          "2026-01-01",
          "2026-02-01",
          "2026-03-01",
          "2026-04-01",
          "2026-05-01",
          "2026-06-01",
          "2026-07-01",
          "2026-08-01"
         ],
         "xaxis": "x",
         "y": [
          null,
          null,
          1000,
          537.1794871794873,
          392.61857515225853,
          317.3434406359527,
          270.5152464274289,
          238.34764001750247,
          214.78850637983825,
          196.73879577760823,
          182.43891594732438,
          170.81225994567708,
          161.16157937979574,
          153.0146257445508,
          146.03973172799382,
          139.9968707739967,
          134.7078975193692,
          130.03771591234656,
          125.88195253787077,
          122.15865000869108,
          118.80252608155305,
          115.76091698734511,
          112.990854021002,
          110.45691959191237,
          108.12965000762794,
          105.98432857150428,
          104.0000618034658,
          102.15906402679298,
          100.44609734378585,
          98.8480289052246,
          97.35347771032774,
          95.95253045223437,
          94.63651112086066,
          93.39779283210717,
          92.22964310025917,
          91.12609580187336
         ],
         "yaxis": "y"
        },
        {
         "fillpattern": {
          "shape": ""
         },
         "hovertemplate": "cohort=2023-12-01<br>date=%{x}<br>active users=%{y}<extra></extra>",
         "legendgroup": "2023-12-01",
         "line": {
          "color": "rgb(15, 133, 84)"
         },
         "marker": {
          "symbol": "circle"
         },
         "mode": "lines",
         "name": "2023-12-01",
         "orientation": "v",
         "showlegend": true,
         "stackgroup": "1",
         "type": "scatter",
         "x": [
          "2023-09-01",
          "2023-10-01",
          "2023-11-01",
          "2023-12-01",
          "2024-01-01",
          "2024-02-01",
          "2024-03-01",
          "2024-04-01",
          "2024-05-01",
          "2024-06-01",
          "2024-07-01",
          "2024-08-01",
          "2024-09-01",
          "2024-10-01",
          "2024-11-01",
          "2024-12-01",
          "2025-01-01",
          "2025-02-01",
          "2025-03-01",
          "2025-04-01",
          "2025-05-01",
          "2025-06-01",
          "2025-07-01",
          "2025-08-01",
          "2025-09-01",
          "2025-10-01",
          "2025-11-01",
          "2025-12-01",
          "2026-01-01",
          "2026-02-01",
          "2026-03-01",
          "2026-04-01",
          "2026-05-01",
          "2026-06-01",
          "2026-07-01",
          "2026-08-01"
         ],
         "xaxis": "x",
         "y": [
          null,
          null,
          null,
          1000,
          537.1794871794873,
          392.61857515225853,
          317.3434406359527,
          270.5152464274289,
          238.34764001750247,
          214.78850637983825,
          196.73879577760823,
          182.43891594732438,
          170.81225994567708,
          161.16157937979574,
          153.0146257445508,
          146.03973172799382,
          139.9968707739967,
          134.7078975193692,
          130.03771591234656,
          125.88195253787077,
          122.15865000869108,
          118.80252608155305,
          115.76091698734511,
          112.990854021002,
          110.45691959191237,
          108.12965000762794,
          105.98432857150428,
          104.0000618034658,
          102.15906402679298,
          100.44609734378585,
          98.8480289052246,
          97.35347771032774,
          95.95253045223437,
          94.63651112086066,
          93.39779283210717,
          92.22964310025917
         ],
         "yaxis": "y"
        },
        {
         "fillpattern": {
          "shape": ""
         },
         "hovertemplate": "cohort=2024-01-01<br>date=%{x}<br>active users=%{y}<extra></extra>",
         "legendgroup": "2024-01-01",
         "line": {
          "color": "rgb(115, 175, 72)"
         },
         "marker": {
          "symbol": "circle"
         },
         "mode": "lines",
         "name": "2024-01-01",
         "orientation": "v",
         "showlegend": true,
         "stackgroup": "1",
         "type": "scatter",
         "x": [
          "2023-09-01",
          "2023-10-01",
          "2023-11-01",
          "2023-12-01",
          "2024-01-01",
          "2024-02-01",
          "2024-03-01",
          "2024-04-01",
          "2024-05-01",
          "2024-06-01",
          "2024-07-01",
          "2024-08-01",
          "2024-09-01",
          "2024-10-01",
          "2024-11-01",
          "2024-12-01",
          "2025-01-01",
          "2025-02-01",
          "2025-03-01",
          "2025-04-01",
          "2025-05-01",
          "2025-06-01",
          "2025-07-01",
          "2025-08-01",
          "2025-09-01",
          "2025-10-01",
          "2025-11-01",
          "2025-12-01",
          "2026-01-01",
          "2026-02-01",
          "2026-03-01",
          "2026-04-01",
          "2026-05-01",
          "2026-06-01",
          "2026-07-01",
          "2026-08-01"
         ],
         "xaxis": "x",
         "y": [
          null,
          null,
          null,
          null,
          1000,
          537.1794871794873,
          392.61857515225853,
          317.3434406359527,
          270.5152464274289,
          238.34764001750247,
          214.78850637983825,
          196.73879577760823,
          182.43891594732438,
          170.81225994567708,
          161.16157937979574,
          153.0146257445508,
          146.03973172799382,
          139.9968707739967,
          134.7078975193692,
          130.03771591234656,
          125.88195253787077,
          122.15865000869108,
          118.80252608155305,
          115.76091698734511,
          112.990854021002,
          110.45691959191237,
          108.12965000762794,
          105.98432857150428,
          104.0000618034658,
          102.15906402679298,
          100.44609734378585,
          98.8480289052246,
          97.35347771032774,
          95.95253045223437,
          94.63651112086066,
          93.39779283210717
         ],
         "yaxis": "y"
        },
        {
         "fillpattern": {
          "shape": ""
         },
         "hovertemplate": "cohort=2024-02-01<br>date=%{x}<br>active users=%{y}<extra></extra>",
         "legendgroup": "2024-02-01",
         "line": {
          "color": "rgb(237, 173, 8)"
         },
         "marker": {
          "symbol": "circle"
         },
         "mode": "lines",
         "name": "2024-02-01",
         "orientation": "v",
         "showlegend": true,
         "stackgroup": "1",
         "type": "scatter",
         "x": [
          "2023-09-01",
          "2023-10-01",
          "2023-11-01",
          "2023-12-01",
          "2024-01-01",
          "2024-02-01",
          "2024-03-01",
          "2024-04-01",
          "2024-05-01",
          "2024-06-01",
          "2024-07-01",
          "2024-08-01",
          "2024-09-01",
          "2024-10-01",
          "2024-11-01",
          "2024-12-01",
          "2025-01-01",
          "2025-02-01",
          "2025-03-01",
          "2025-04-01",
          "2025-05-01",
          "2025-06-01",
          "2025-07-01",
          "2025-08-01",
          "2025-09-01",
          "2025-10-01",
          "2025-11-01",
          "2025-12-01",
          "2026-01-01",
          "2026-02-01",
          "2026-03-01",
          "2026-04-01",
          "2026-05-01",
          "2026-06-01",
          "2026-07-01",
          "2026-08-01"
         ],
         "xaxis": "x",
         "y": [
          null,
          null,
          null,
          null,
          null,
          1000,
          537.1794871794873,
          392.61857515225853,
          317.3434406359527,
          270.5152464274289,
          238.34764001750247,
          214.78850637983825,
          196.73879577760823,
          182.43891594732438,
          170.81225994567708,
          161.16157937979574,
          153.0146257445508,
          146.03973172799382,
          139.9968707739967,
          134.7078975193692,
          130.03771591234656,
          125.88195253787077,
          122.15865000869108,
          118.80252608155305,
          115.76091698734511,
          112.990854021002,
          110.45691959191237,
          108.12965000762794,
          105.98432857150428,
          104.0000618034658,
          102.15906402679298,
          100.44609734378585,
          98.8480289052246,
          97.35347771032774,
          95.95253045223437,
          94.63651112086066
         ],
         "yaxis": "y"
        },
        {
         "fillpattern": {
          "shape": ""
         },
         "hovertemplate": "cohort=2024-03-01<br>date=%{x}<br>active users=%{y}<extra></extra>",
         "legendgroup": "2024-03-01",
         "line": {
          "color": "rgb(225, 124, 5)"
         },
         "marker": {
          "symbol": "circle"
         },
         "mode": "lines",
         "name": "2024-03-01",
         "orientation": "v",
         "showlegend": true,
         "stackgroup": "1",
         "type": "scatter",
         "x": [
          "2023-09-01",
          "2023-10-01",
          "2023-11-01",
          "2023-12-01",
          "2024-01-01",
          "2024-02-01",
          "2024-03-01",
          "2024-04-01",
          "2024-05-01",
          "2024-06-01",
          "2024-07-01",
          "2024-08-01",
          "2024-09-01",
          "2024-10-01",
          "2024-11-01",
          "2024-12-01",
          "2025-01-01",
          "2025-02-01",
          "2025-03-01",
          "2025-04-01",
          "2025-05-01",
          "2025-06-01",
          "2025-07-01",
          "2025-08-01",
          "2025-09-01",
          "2025-10-01",
          "2025-11-01",
          "2025-12-01",
          "2026-01-01",
          "2026-02-01",
          "2026-03-01",
          "2026-04-01",
          "2026-05-01",
          "2026-06-01",
          "2026-07-01",
          "2026-08-01"
         ],
         "xaxis": "x",
         "y": [
          null,
          null,
          null,
          null,
          null,
          null,
          1000,
          537.1794871794873,
          392.61857515225853,
          317.3434406359527,
          270.5152464274289,
          238.34764001750247,
          214.78850637983825,
          196.73879577760823,
          182.43891594732438,
          170.81225994567708,
          161.16157937979574,
          153.0146257445508,
          146.03973172799382,
          139.9968707739967,
          134.7078975193692,
          130.03771591234656,
          125.88195253787077,
          122.15865000869108,
          118.80252608155305,
          115.76091698734511,
          112.990854021002,
          110.45691959191237,
          108.12965000762794,
          105.98432857150428,
          104.0000618034658,
          102.15906402679298,
          100.44609734378585,
          98.8480289052246,
          97.35347771032774,
          95.95253045223437
         ],
         "yaxis": "y"
        },
        {
         "fillpattern": {
          "shape": ""
         },
         "hovertemplate": "cohort=2024-04-01<br>date=%{x}<br>active users=%{y}<extra></extra>",
         "legendgroup": "2024-04-01",
         "line": {
          "color": "rgb(204, 80, 62)"
         },
         "marker": {
          "symbol": "circle"
         },
         "mode": "lines",
         "name": "2024-04-01",
         "orientation": "v",
         "showlegend": true,
         "stackgroup": "1",
         "type": "scatter",
         "x": [
          "2023-09-01",
          "2023-10-01",
          "2023-11-01",
          "2023-12-01",
          "2024-01-01",
          "2024-02-01",
          "2024-03-01",
          "2024-04-01",
          "2024-05-01",
          "2024-06-01",
          "2024-07-01",
          "2024-08-01",
          "2024-09-01",
          "2024-10-01",
          "2024-11-01",
          "2024-12-01",
          "2025-01-01",
          "2025-02-01",
          "2025-03-01",
          "2025-04-01",
          "2025-05-01",
          "2025-06-01",
          "2025-07-01",
          "2025-08-01",
          "2025-09-01",
          "2025-10-01",
          "2025-11-01",
          "2025-12-01",
          "2026-01-01",
          "2026-02-01",
          "2026-03-01",
          "2026-04-01",
          "2026-05-01",
          "2026-06-01",
          "2026-07-01",
          "2026-08-01"
         ],
         "xaxis": "x",
         "y": [
          null,
          null,
          null,
          null,
          null,
          null,
          null,
          1000,
          537.1794871794873,
          392.61857515225853,
          317.3434406359527,
          270.5152464274289,
          238.34764001750247,
          214.78850637983825,
          196.73879577760823,
          182.43891594732438,
          170.81225994567708,
          161.16157937979574,
          153.0146257445508,
          146.03973172799382,
          139.9968707739967,
          134.7078975193692,
          130.03771591234656,
          125.88195253787077,
          122.15865000869108,
          118.80252608155305,
          115.76091698734511,
          112.990854021002,
          110.45691959191237,
          108.12965000762794,
          105.98432857150428,
          104.0000618034658,
          102.15906402679298,
          100.44609734378585,
          98.8480289052246,
          97.35347771032774
         ],
         "yaxis": "y"
        },
        {
         "fillpattern": {
          "shape": ""
         },
         "hovertemplate": "cohort=2024-05-01<br>date=%{x}<br>active users=%{y}<extra></extra>",
         "legendgroup": "2024-05-01",
         "line": {
          "color": "rgb(148, 52, 110)"
         },
         "marker": {
          "symbol": "circle"
         },
         "mode": "lines",
         "name": "2024-05-01",
         "orientation": "v",
         "showlegend": true,
         "stackgroup": "1",
         "type": "scatter",
         "x": [
          "2023-09-01",
          "2023-10-01",
          "2023-11-01",
          "2023-12-01",
          "2024-01-01",
          "2024-02-01",
          "2024-03-01",
          "2024-04-01",
          "2024-05-01",
          "2024-06-01",
          "2024-07-01",
          "2024-08-01",
          "2024-09-01",
          "2024-10-01",
          "2024-11-01",
          "2024-12-01",
          "2025-01-01",
          "2025-02-01",
          "2025-03-01",
          "2025-04-01",
          "2025-05-01",
          "2025-06-01",
          "2025-07-01",
          "2025-08-01",
          "2025-09-01",
          "2025-10-01",
          "2025-11-01",
          "2025-12-01",
          "2026-01-01",
          "2026-02-01",
          "2026-03-01",
          "2026-04-01",
          "2026-05-01",
          "2026-06-01",
          "2026-07-01",
          "2026-08-01"
         ],
         "xaxis": "x",
         "y": [
          null,
          null,
          null,
          null,
          null,
          null,
          null,
          null,
          1000,
          537.1794871794873,
          392.61857515225853,
          317.3434406359527,
          270.5152464274289,
          238.34764001750247,
          214.78850637983825,
          196.73879577760823,
          182.43891594732438,
          170.81225994567708,
          161.16157937979574,
          153.0146257445508,
          146.03973172799382,
          139.9968707739967,
          134.7078975193692,
          130.03771591234656,
          125.88195253787077,
          122.15865000869108,
          118.80252608155305,
          115.76091698734511,
          112.990854021002,
          110.45691959191237,
          108.12965000762794,
          105.98432857150428,
          104.0000618034658,
          102.15906402679298,
          100.44609734378585,
          98.8480289052246
         ],
         "yaxis": "y"
        },
        {
         "fillpattern": {
          "shape": ""
         },
         "hovertemplate": "cohort=2024-06-01<br>date=%{x}<br>active users=%{y}<extra></extra>",
         "legendgroup": "2024-06-01",
         "line": {
          "color": "rgb(111, 64, 112)"
         },
         "marker": {
          "symbol": "circle"
         },
         "mode": "lines",
         "name": "2024-06-01",
         "orientation": "v",
         "showlegend": true,
         "stackgroup": "1",
         "type": "scatter",
         "x": [
          "2023-09-01",
          "2023-10-01",
          "2023-11-01",
          "2023-12-01",
          "2024-01-01",
          "2024-02-01",
          "2024-03-01",
          "2024-04-01",
          "2024-05-01",
          "2024-06-01",
          "2024-07-01",
          "2024-08-01",
          "2024-09-01",
          "2024-10-01",
          "2024-11-01",
          "2024-12-01",
          "2025-01-01",
          "2025-02-01",
          "2025-03-01",
          "2025-04-01",
          "2025-05-01",
          "2025-06-01",
          "2025-07-01",
          "2025-08-01",
          "2025-09-01",
          "2025-10-01",
          "2025-11-01",
          "2025-12-01",
          "2026-01-01",
          "2026-02-01",
          "2026-03-01",
          "2026-04-01",
          "2026-05-01",
          "2026-06-01",
          "2026-07-01",
          "2026-08-01"
         ],
         "xaxis": "x",
         "y": [
          null,
          null,
          null,
          null,
          null,
          null,
          null,
          null,
          null,
          1000,
          537.1794871794873,
          392.61857515225853,
          317.3434406359527,
          270.5152464274289,
          238.34764001750247,
          214.78850637983825,
          196.73879577760823,
          182.43891594732438,
          170.81225994567708,
          161.16157937979574,
          153.0146257445508,
          146.03973172799382,
          139.9968707739967,
          134.7078975193692,
          130.03771591234656,
          125.88195253787077,
          122.15865000869108,
          118.80252608155305,
          115.76091698734511,
          112.990854021002,
          110.45691959191237,
          108.12965000762794,
          105.98432857150428,
          104.0000618034658,
          102.15906402679298,
          100.44609734378585
         ],
         "yaxis": "y"
        },
        {
         "fillpattern": {
          "shape": ""
         },
         "hovertemplate": "cohort=2024-07-01<br>date=%{x}<br>active users=%{y}<extra></extra>",
         "legendgroup": "2024-07-01",
         "line": {
          "color": "rgb(102, 102, 102)"
         },
         "marker": {
          "symbol": "circle"
         },
         "mode": "lines",
         "name": "2024-07-01",
         "orientation": "v",
         "showlegend": true,
         "stackgroup": "1",
         "type": "scatter",
         "x": [
          "2023-09-01",
          "2023-10-01",
          "2023-11-01",
          "2023-12-01",
          "2024-01-01",
          "2024-02-01",
          "2024-03-01",
          "2024-04-01",
          "2024-05-01",
          "2024-06-01",
          "2024-07-01",
          "2024-08-01",
          "2024-09-01",
          "2024-10-01",
          "2024-11-01",
          "2024-12-01",
          "2025-01-01",
          "2025-02-01",
          "2025-03-01",
          "2025-04-01",
          "2025-05-01",
          "2025-06-01",
          "2025-07-01",
          "2025-08-01",
          "2025-09-01",
          "2025-10-01",
          "2025-11-01",
          "2025-12-01",
          "2026-01-01",
          "2026-02-01",
          "2026-03-01",
          "2026-04-01",
          "2026-05-01",
          "2026-06-01",
          "2026-07-01",
          "2026-08-01"
         ],
         "xaxis": "x",
         "y": [
          null,
          null,
          null,
          null,
          null,
          null,
          null,
          null,
          null,
          null,
          1000,
          537.1794871794873,
          392.61857515225853,
          317.3434406359527,
          270.5152464274289,
          238.34764001750247,
          214.78850637983825,
          196.73879577760823,
          182.43891594732438,
          170.81225994567708,
          161.16157937979574,
          153.0146257445508,
          146.03973172799382,
          139.9968707739967,
          134.7078975193692,
          130.03771591234656,
          125.88195253787077,
          122.15865000869108,
          118.80252608155305,
          115.76091698734511,
          112.990854021002,
          110.45691959191237,
          108.12965000762794,
          105.98432857150428,
          104.0000618034658,
          102.15906402679298
         ],
         "yaxis": "y"
        },
        {
         "fillpattern": {
          "shape": ""
         },
         "hovertemplate": "cohort=2024-08-01<br>date=%{x}<br>active users=%{y}<extra></extra>",
         "legendgroup": "2024-08-01",
         "line": {
          "color": "rgb(95, 70, 144)"
         },
         "marker": {
          "symbol": "circle"
         },
         "mode": "lines",
         "name": "2024-08-01",
         "orientation": "v",
         "showlegend": true,
         "stackgroup": "1",
         "type": "scatter",
         "x": [
          "2023-09-01",
          "2023-10-01",
          "2023-11-01",
          "2023-12-01",
          "2024-01-01",
          "2024-02-01",
          "2024-03-01",
          "2024-04-01",
          "2024-05-01",
          "2024-06-01",
          "2024-07-01",
          "2024-08-01",
          "2024-09-01",
          "2024-10-01",
          "2024-11-01",
          "2024-12-01",
          "2025-01-01",
          "2025-02-01",
          "2025-03-01",
          "2025-04-01",
          "2025-05-01",
          "2025-06-01",
          "2025-07-01",
          "2025-08-01",
          "2025-09-01",
          "2025-10-01",
          "2025-11-01",
          "2025-12-01",
          "2026-01-01",
          "2026-02-01",
          "2026-03-01",
          "2026-04-01",
          "2026-05-01",
          "2026-06-01",
          "2026-07-01",
          "2026-08-01"
         ],
         "xaxis": "x",
         "y": [
          null,
          null,
          null,
          null,
          null,
          null,
          null,
          null,
          null,
          null,
          null,
          1000,
          537.1794871794873,
          392.61857515225853,
          317.3434406359527,
          270.5152464274289,
          238.34764001750247,
          214.78850637983825,
          196.73879577760823,
          182.43891594732438,
          170.81225994567708,
          161.16157937979574,
          153.0146257445508,
          146.03973172799382,
          139.9968707739967,
          134.7078975193692,
          130.03771591234656,
          125.88195253787077,
          122.15865000869108,
          118.80252608155305,
          115.76091698734511,
          112.990854021002,
          110.45691959191237,
          108.12965000762794,
          105.98432857150428,
          104.0000618034658
         ],
         "yaxis": "y"
        },
        {
         "fillpattern": {
          "shape": ""
         },
         "hovertemplate": "cohort=2024-09-01<br>date=%{x}<br>active users=%{y}<extra></extra>",
         "legendgroup": "2024-09-01",
         "line": {
          "color": "rgb(29, 105, 150)"
         },
         "marker": {
          "symbol": "circle"
         },
         "mode": "lines",
         "name": "2024-09-01",
         "orientation": "v",
         "showlegend": true,
         "stackgroup": "1",
         "type": "scatter",
         "x": [
          "2023-09-01",
          "2023-10-01",
          "2023-11-01",
          "2023-12-01",
          "2024-01-01",
          "2024-02-01",
          "2024-03-01",
          "2024-04-01",
          "2024-05-01",
          "2024-06-01",
          "2024-07-01",
          "2024-08-01",
          "2024-09-01",
          "2024-10-01",
          "2024-11-01",
          "2024-12-01",
          "2025-01-01",
          "2025-02-01",
          "2025-03-01",
          "2025-04-01",
          "2025-05-01",
          "2025-06-01",
          "2025-07-01",
          "2025-08-01",
          "2025-09-01",
          "2025-10-01",
          "2025-11-01",
          "2025-12-01",
          "2026-01-01",
          "2026-02-01",
          "2026-03-01",
          "2026-04-01",
          "2026-05-01",
          "2026-06-01",
          "2026-07-01",
          "2026-08-01"
         ],
         "xaxis": "x",
         "y": [
          null,
          null,
          null,
          null,
          null,
          null,
          null,
          null,
          null,
          null,
          null,
          null,
          1000,
          537.1794871794873,
          392.61857515225853,
          317.3434406359527,
          270.5152464274289,
          238.34764001750247,
          214.78850637983825,
          196.73879577760823,
          182.43891594732438,
          170.81225994567708,
          161.16157937979574,
          153.0146257445508,
          146.03973172799382,
          139.9968707739967,
          134.7078975193692,
          130.03771591234656,
          125.88195253787077,
          122.15865000869108,
          118.80252608155305,
          115.76091698734511,
          112.990854021002,
          110.45691959191237,
          108.12965000762794,
          105.98432857150428
         ],
         "yaxis": "y"
        },
        {
         "fillpattern": {
          "shape": ""
         },
         "hovertemplate": "cohort=2024-10-01<br>date=%{x}<br>active users=%{y}<extra></extra>",
         "legendgroup": "2024-10-01",
         "line": {
          "color": "rgb(56, 166, 165)"
         },
         "marker": {
          "symbol": "circle"
         },
         "mode": "lines",
         "name": "2024-10-01",
         "orientation": "v",
         "showlegend": true,
         "stackgroup": "1",
         "type": "scatter",
         "x": [
          "2023-09-01",
          "2023-10-01",
          "2023-11-01",
          "2023-12-01",
          "2024-01-01",
          "2024-02-01",
          "2024-03-01",
          "2024-04-01",
          "2024-05-01",
          "2024-06-01",
          "2024-07-01",
          "2024-08-01",
          "2024-09-01",
          "2024-10-01",
          "2024-11-01",
          "2024-12-01",
          "2025-01-01",
          "2025-02-01",
          "2025-03-01",
          "2025-04-01",
          "2025-05-01",
          "2025-06-01",
          "2025-07-01",
          "2025-08-01",
          "2025-09-01",
          "2025-10-01",
          "2025-11-01",
          "2025-12-01",
          "2026-01-01",
          "2026-02-01",
          "2026-03-01",
          "2026-04-01",
          "2026-05-01",
          "2026-06-01",
          "2026-07-01",
          "2026-08-01"
         ],
         "xaxis": "x",
         "y": [
          null,
          null,
          null,
          null,
          null,
          null,
          null,
          null,
          null,
          null,
          null,
          null,
          null,
          1000,
          537.1794871794873,
          392.61857515225853,
          317.3434406359527,
          270.5152464274289,
          238.34764001750247,
          214.78850637983825,
          196.73879577760823,
          182.43891594732438,
          170.81225994567708,
          161.16157937979574,
          153.0146257445508,
          146.03973172799382,
          139.9968707739967,
          134.7078975193692,
          130.03771591234656,
          125.88195253787077,
          122.15865000869108,
          118.80252608155305,
          115.76091698734511,
          112.990854021002,
          110.45691959191237,
          108.12965000762794
         ],
         "yaxis": "y"
        },
        {
         "fillpattern": {
          "shape": ""
         },
         "hovertemplate": "cohort=2024-11-01<br>date=%{x}<br>active users=%{y}<extra></extra>",
         "legendgroup": "2024-11-01",
         "line": {
          "color": "rgb(15, 133, 84)"
         },
         "marker": {
          "symbol": "circle"
         },
         "mode": "lines",
         "name": "2024-11-01",
         "orientation": "v",
         "showlegend": true,
         "stackgroup": "1",
         "type": "scatter",
         "x": [
          "2023-09-01",
          "2023-10-01",
          "2023-11-01",
          "2023-12-01",
          "2024-01-01",
          "2024-02-01",
          "2024-03-01",
          "2024-04-01",
          "2024-05-01",
          "2024-06-01",
          "2024-07-01",
          "2024-08-01",
          "2024-09-01",
          "2024-10-01",
          "2024-11-01",
          "2024-12-01",
          "2025-01-01",
          "2025-02-01",
          "2025-03-01",
          "2025-04-01",
          "2025-05-01",
          "2025-06-01",
          "2025-07-01",
          "2025-08-01",
          "2025-09-01",
          "2025-10-01",
          "2025-11-01",
          "2025-12-01",
          "2026-01-01",
          "2026-02-01",
          "2026-03-01",
          "2026-04-01",
          "2026-05-01",
          "2026-06-01",
          "2026-07-01",
          "2026-08-01"
         ],
         "xaxis": "x",
         "y": [
          null,
          null,
          null,
          null,
          null,
          null,
          null,
          null,
          null,
          null,
          null,
          null,
          null,
          null,
          1000,
          537.1794871794873,
          392.61857515225853,
          317.3434406359527,
          270.5152464274289,
          238.34764001750247,
          214.78850637983825,
          196.73879577760823,
          182.43891594732438,
          170.81225994567708,
          161.16157937979574,
          153.0146257445508,
          146.03973172799382,
          139.9968707739967,
          134.7078975193692,
          130.03771591234656,
          125.88195253787077,
          122.15865000869108,
          118.80252608155305,
          115.76091698734511,
          112.990854021002,
          110.45691959191237
         ],
         "yaxis": "y"
        },
        {
         "fillpattern": {
          "shape": ""
         },
         "hovertemplate": "cohort=2024-12-01<br>date=%{x}<br>active users=%{y}<extra></extra>",
         "legendgroup": "2024-12-01",
         "line": {
          "color": "rgb(115, 175, 72)"
         },
         "marker": {
          "symbol": "circle"
         },
         "mode": "lines",
         "name": "2024-12-01",
         "orientation": "v",
         "showlegend": true,
         "stackgroup": "1",
         "type": "scatter",
         "x": [
          "2023-09-01",
          "2023-10-01",
          "2023-11-01",
          "2023-12-01",
          "2024-01-01",
          "2024-02-01",
          "2024-03-01",
          "2024-04-01",
          "2024-05-01",
          "2024-06-01",
          "2024-07-01",
          "2024-08-01",
          "2024-09-01",
          "2024-10-01",
          "2024-11-01",
          "2024-12-01",
          "2025-01-01",
          "2025-02-01",
          "2025-03-01",
          "2025-04-01",
          "2025-05-01",
          "2025-06-01",
          "2025-07-01",
          "2025-08-01",
          "2025-09-01",
          "2025-10-01",
          "2025-11-01",
          "2025-12-01",
          "2026-01-01",
          "2026-02-01",
          "2026-03-01",
          "2026-04-01",
          "2026-05-01",
          "2026-06-01",
          "2026-07-01",
          "2026-08-01"
         ],
         "xaxis": "x",
         "y": [
          null,
          null,
          null,
          null,
          null,
          null,
          null,
          null,
          null,
          null,
          null,
          null,
          null,
          null,
          null,
          1000,
          537.1794871794873,
          392.61857515225853,
          317.3434406359527,
          270.5152464274289,
          238.34764001750247,
          214.78850637983825,
          196.73879577760823,
          182.43891594732438,
          170.81225994567708,
          161.16157937979574,
          153.0146257445508,
          146.03973172799382,
          139.9968707739967,
          134.7078975193692,
          130.03771591234656,
          125.88195253787077,
          122.15865000869108,
          118.80252608155305,
          115.76091698734511,
          112.990854021002
         ],
         "yaxis": "y"
        },
        {
         "fillpattern": {
          "shape": ""
         },
         "hovertemplate": "cohort=2025-01-01<br>date=%{x}<br>active users=%{y}<extra></extra>",
         "legendgroup": "2025-01-01",
         "line": {
          "color": "rgb(237, 173, 8)"
         },
         "marker": {
          "symbol": "circle"
         },
         "mode": "lines",
         "name": "2025-01-01",
         "orientation": "v",
         "showlegend": true,
         "stackgroup": "1",
         "type": "scatter",
         "x": [
          "2023-09-01",
          "2023-10-01",
          "2023-11-01",
          "2023-12-01",
          "2024-01-01",
          "2024-02-01",
          "2024-03-01",
          "2024-04-01",
          "2024-05-01",
          "2024-06-01",
          "2024-07-01",
          "2024-08-01",
          "2024-09-01",
          "2024-10-01",
          "2024-11-01",
          "2024-12-01",
          "2025-01-01",
          "2025-02-01",
          "2025-03-01",
          "2025-04-01",
          "2025-05-01",
          "2025-06-01",
          "2025-07-01",
          "2025-08-01",
          "2025-09-01",
          "2025-10-01",
          "2025-11-01",
          "2025-12-01",
          "2026-01-01",
          "2026-02-01",
          "2026-03-01",
          "2026-04-01",
          "2026-05-01",
          "2026-06-01",
          "2026-07-01",
          "2026-08-01"
         ],
         "xaxis": "x",
         "y": [
          null,
          null,
          null,
          null,
          null,
          null,
          null,
          null,
          null,
          null,
          null,
          null,
          null,
          null,
          null,
          null,
          1000,
          537.1794871794873,
          392.61857515225853,
          317.3434406359527,
          270.5152464274289,
          238.34764001750247,
          214.78850637983825,
          196.73879577760823,
          182.43891594732438,
          170.81225994567708,
          161.16157937979574,
          153.0146257445508,
          146.03973172799382,
          139.9968707739967,
          134.7078975193692,
          130.03771591234656,
          125.88195253787077,
          122.15865000869108,
          118.80252608155305,
          115.76091698734511
         ],
         "yaxis": "y"
        },
        {
         "fillpattern": {
          "shape": ""
         },
         "hovertemplate": "cohort=2025-02-01<br>date=%{x}<br>active users=%{y}<extra></extra>",
         "legendgroup": "2025-02-01",
         "line": {
          "color": "rgb(225, 124, 5)"
         },
         "marker": {
          "symbol": "circle"
         },
         "mode": "lines",
         "name": "2025-02-01",
         "orientation": "v",
         "showlegend": true,
         "stackgroup": "1",
         "type": "scatter",
         "x": [
          "2023-09-01",
          "2023-10-01",
          "2023-11-01",
          "2023-12-01",
          "2024-01-01",
          "2024-02-01",
          "2024-03-01",
          "2024-04-01",
          "2024-05-01",
          "2024-06-01",
          "2024-07-01",
          "2024-08-01",
          "2024-09-01",
          "2024-10-01",
          "2024-11-01",
          "2024-12-01",
          "2025-01-01",
          "2025-02-01",
          "2025-03-01",
          "2025-04-01",
          "2025-05-01",
          "2025-06-01",
          "2025-07-01",
          "2025-08-01",
          "2025-09-01",
          "2025-10-01",
          "2025-11-01",
          "2025-12-01",
          "2026-01-01",
          "2026-02-01",
          "2026-03-01",
          "2026-04-01",
          "2026-05-01",
          "2026-06-01",
          "2026-07-01",
          "2026-08-01"
         ],
         "xaxis": "x",
         "y": [
          null,
          null,
          null,
          null,
          null,
          null,
          null,
          null,
          null,
          null,
          null,
          null,
          null,
          null,
          null,
          null,
          null,
          1000,
          537.1794871794873,
          392.61857515225853,
          317.3434406359527,
          270.5152464274289,
          238.34764001750247,
          214.78850637983825,
          196.73879577760823,
          182.43891594732438,
          170.81225994567708,
          161.16157937979574,
          153.0146257445508,
          146.03973172799382,
          139.9968707739967,
          134.7078975193692,
          130.03771591234656,
          125.88195253787077,
          122.15865000869108,
          118.80252608155305
         ],
         "yaxis": "y"
        },
        {
         "fillpattern": {
          "shape": ""
         },
         "hovertemplate": "cohort=2025-03-01<br>date=%{x}<br>active users=%{y}<extra></extra>",
         "legendgroup": "2025-03-01",
         "line": {
          "color": "rgb(204, 80, 62)"
         },
         "marker": {
          "symbol": "circle"
         },
         "mode": "lines",
         "name": "2025-03-01",
         "orientation": "v",
         "showlegend": true,
         "stackgroup": "1",
         "type": "scatter",
         "x": [
          "2023-09-01",
          "2023-10-01",
          "2023-11-01",
          "2023-12-01",
          "2024-01-01",
          "2024-02-01",
          "2024-03-01",
          "2024-04-01",
          "2024-05-01",
          "2024-06-01",
          "2024-07-01",
          "2024-08-01",
          "2024-09-01",
          "2024-10-01",
          "2024-11-01",
          "2024-12-01",
          "2025-01-01",
          "2025-02-01",
          "2025-03-01",
          "2025-04-01",
          "2025-05-01",
          "2025-06-01",
          "2025-07-01",
          "2025-08-01",
          "2025-09-01",
          "2025-10-01",
          "2025-11-01",
          "2025-12-01",
          "2026-01-01",
          "2026-02-01",
          "2026-03-01",
          "2026-04-01",
          "2026-05-01",
          "2026-06-01",
          "2026-07-01",
          "2026-08-01"
         ],
         "xaxis": "x",
         "y": [
          null,
          null,
          null,
          null,
          null,
          null,
          null,
          null,
          null,
          null,
          null,
          null,
          null,
          null,
          null,
          null,
          null,
          null,
          1000,
          537.1794871794873,
          392.61857515225853,
          317.3434406359527,
          270.5152464274289,
          238.34764001750247,
          214.78850637983825,
          196.73879577760823,
          182.43891594732438,
          170.81225994567708,
          161.16157937979574,
          153.0146257445508,
          146.03973172799382,
          139.9968707739967,
          134.7078975193692,
          130.03771591234656,
          125.88195253787077,
          122.15865000869108
         ],
         "yaxis": "y"
        },
        {
         "fillpattern": {
          "shape": ""
         },
         "hovertemplate": "cohort=2025-04-01<br>date=%{x}<br>active users=%{y}<extra></extra>",
         "legendgroup": "2025-04-01",
         "line": {
          "color": "rgb(148, 52, 110)"
         },
         "marker": {
          "symbol": "circle"
         },
         "mode": "lines",
         "name": "2025-04-01",
         "orientation": "v",
         "showlegend": true,
         "stackgroup": "1",
         "type": "scatter",
         "x": [
          "2023-09-01",
          "2023-10-01",
          "2023-11-01",
          "2023-12-01",
          "2024-01-01",
          "2024-02-01",
          "2024-03-01",
          "2024-04-01",
          "2024-05-01",
          "2024-06-01",
          "2024-07-01",
          "2024-08-01",
          "2024-09-01",
          "2024-10-01",
          "2024-11-01",
          "2024-12-01",
          "2025-01-01",
          "2025-02-01",
          "2025-03-01",
          "2025-04-01",
          "2025-05-01",
          "2025-06-01",
          "2025-07-01",
          "2025-08-01",
          "2025-09-01",
          "2025-10-01",
          "2025-11-01",
          "2025-12-01",
          "2026-01-01",
          "2026-02-01",
          "2026-03-01",
          "2026-04-01",
          "2026-05-01",
          "2026-06-01",
          "2026-07-01",
          "2026-08-01"
         ],
         "xaxis": "x",
         "y": [
          null,
          null,
          null,
          null,
          null,
          null,
          null,
          null,
          null,
          null,
          null,
          null,
          null,
          null,
          null,
          null,
          null,
          null,
          null,
          1000,
          537.1794871794873,
          392.61857515225853,
          317.3434406359527,
          270.5152464274289,
          238.34764001750247,
          214.78850637983825,
          196.73879577760823,
          182.43891594732438,
          170.81225994567708,
          161.16157937979574,
          153.0146257445508,
          146.03973172799382,
          139.9968707739967,
          134.7078975193692,
          130.03771591234656,
          125.88195253787077
         ],
         "yaxis": "y"
        },
        {
         "fillpattern": {
          "shape": ""
         },
         "hovertemplate": "cohort=2025-05-01<br>date=%{x}<br>active users=%{y}<extra></extra>",
         "legendgroup": "2025-05-01",
         "line": {
          "color": "rgb(111, 64, 112)"
         },
         "marker": {
          "symbol": "circle"
         },
         "mode": "lines",
         "name": "2025-05-01",
         "orientation": "v",
         "showlegend": true,
         "stackgroup": "1",
         "type": "scatter",
         "x": [
          "2023-09-01",
          "2023-10-01",
          "2023-11-01",
          "2023-12-01",
          "2024-01-01",
          "2024-02-01",
          "2024-03-01",
          "2024-04-01",
          "2024-05-01",
          "2024-06-01",
          "2024-07-01",
          "2024-08-01",
          "2024-09-01",
          "2024-10-01",
          "2024-11-01",
          "2024-12-01",
          "2025-01-01",
          "2025-02-01",
          "2025-03-01",
          "2025-04-01",
          "2025-05-01",
          "2025-06-01",
          "2025-07-01",
          "2025-08-01",
          "2025-09-01",
          "2025-10-01",
          "2025-11-01",
          "2025-12-01",
          "2026-01-01",
          "2026-02-01",
          "2026-03-01",
          "2026-04-01",
          "2026-05-01",
          "2026-06-01",
          "2026-07-01",
          "2026-08-01"
         ],
         "xaxis": "x",
         "y": [
          null,
          null,
          null,
          null,
          null,
          null,
          null,
          null,
          null,
          null,
          null,
          null,
          null,
          null,
          null,
          null,
          null,
          null,
          null,
          null,
          1000,
          537.1794871794873,
          392.61857515225853,
          317.3434406359527,
          270.5152464274289,
          238.34764001750247,
          214.78850637983825,
          196.73879577760823,
          182.43891594732438,
          170.81225994567708,
          161.16157937979574,
          153.0146257445508,
          146.03973172799382,
          139.9968707739967,
          134.7078975193692,
          130.03771591234656
         ],
         "yaxis": "y"
        },
        {
         "fillpattern": {
          "shape": ""
         },
         "hovertemplate": "cohort=2025-06-01<br>date=%{x}<br>active users=%{y}<extra></extra>",
         "legendgroup": "2025-06-01",
         "line": {
          "color": "rgb(102, 102, 102)"
         },
         "marker": {
          "symbol": "circle"
         },
         "mode": "lines",
         "name": "2025-06-01",
         "orientation": "v",
         "showlegend": true,
         "stackgroup": "1",
         "type": "scatter",
         "x": [
          "2023-09-01",
          "2023-10-01",
          "2023-11-01",
          "2023-12-01",
          "2024-01-01",
          "2024-02-01",
          "2024-03-01",
          "2024-04-01",
          "2024-05-01",
          "2024-06-01",
          "2024-07-01",
          "2024-08-01",
          "2024-09-01",
          "2024-10-01",
          "2024-11-01",
          "2024-12-01",
          "2025-01-01",
          "2025-02-01",
          "2025-03-01",
          "2025-04-01",
          "2025-05-01",
          "2025-06-01",
          "2025-07-01",
          "2025-08-01",
          "2025-09-01",
          "2025-10-01",
          "2025-11-01",
          "2025-12-01",
          "2026-01-01",
          "2026-02-01",
          "2026-03-01",
          "2026-04-01",
          "2026-05-01",
          "2026-06-01",
          "2026-07-01",
          "2026-08-01"
         ],
         "xaxis": "x",
         "y": [
          null,
          null,
          null,
          null,
          null,
          null,
          null,
          null,
          null,
          null,
          null,
          null,
          null,
          null,
          null,
          null,
          null,
          null,
          null,
          null,
          null,
          1000,
          537.1794871794873,
          392.61857515225853,
          317.3434406359527,
          270.5152464274289,
          238.34764001750247,
          214.78850637983825,
          196.73879577760823,
          182.43891594732438,
          170.81225994567708,
          161.16157937979574,
          153.0146257445508,
          146.03973172799382,
          139.9968707739967,
          134.7078975193692
         ],
         "yaxis": "y"
        },
        {
         "fillpattern": {
          "shape": ""
         },
         "hovertemplate": "cohort=2025-07-01<br>date=%{x}<br>active users=%{y}<extra></extra>",
         "legendgroup": "2025-07-01",
         "line": {
          "color": "rgb(95, 70, 144)"
         },
         "marker": {
          "symbol": "circle"
         },
         "mode": "lines",
         "name": "2025-07-01",
         "orientation": "v",
         "showlegend": true,
         "stackgroup": "1",
         "type": "scatter",
         "x": [
          "2023-09-01",
          "2023-10-01",
          "2023-11-01",
          "2023-12-01",
          "2024-01-01",
          "2024-02-01",
          "2024-03-01",
          "2024-04-01",
          "2024-05-01",
          "2024-06-01",
          "2024-07-01",
          "2024-08-01",
          "2024-09-01",
          "2024-10-01",
          "2024-11-01",
          "2024-12-01",
          "2025-01-01",
          "2025-02-01",
          "2025-03-01",
          "2025-04-01",
          "2025-05-01",
          "2025-06-01",
          "2025-07-01",
          "2025-08-01",
          "2025-09-01",
          "2025-10-01",
          "2025-11-01",
          "2025-12-01",
          "2026-01-01",
          "2026-02-01",
          "2026-03-01",
          "2026-04-01",
          "2026-05-01",
          "2026-06-01",
          "2026-07-01",
          "2026-08-01"
         ],
         "xaxis": "x",
         "y": [
          null,
          null,
          null,
          null,
          null,
          null,
          null,
          null,
          null,
          null,
          null,
          null,
          null,
          null,
          null,
          null,
          null,
          null,
          null,
          null,
          null,
          null,
          1000,
          537.1794871794873,
          392.61857515225853,
          317.3434406359527,
          270.5152464274289,
          238.34764001750247,
          214.78850637983825,
          196.73879577760823,
          182.43891594732438,
          170.81225994567708,
          161.16157937979574,
          153.0146257445508,
          146.03973172799382,
          139.9968707739967
         ],
         "yaxis": "y"
        },
        {
         "fillpattern": {
          "shape": ""
         },
         "hovertemplate": "cohort=2025-08-01<br>date=%{x}<br>active users=%{y}<extra></extra>",
         "legendgroup": "2025-08-01",
         "line": {
          "color": "rgb(29, 105, 150)"
         },
         "marker": {
          "symbol": "circle"
         },
         "mode": "lines",
         "name": "2025-08-01",
         "orientation": "v",
         "showlegend": true,
         "stackgroup": "1",
         "type": "scatter",
         "x": [
          "2023-09-01",
          "2023-10-01",
          "2023-11-01",
          "2023-12-01",
          "2024-01-01",
          "2024-02-01",
          "2024-03-01",
          "2024-04-01",
          "2024-05-01",
          "2024-06-01",
          "2024-07-01",
          "2024-08-01",
          "2024-09-01",
          "2024-10-01",
          "2024-11-01",
          "2024-12-01",
          "2025-01-01",
          "2025-02-01",
          "2025-03-01",
          "2025-04-01",
          "2025-05-01",
          "2025-06-01",
          "2025-07-01",
          "2025-08-01",
          "2025-09-01",
          "2025-10-01",
          "2025-11-01",
          "2025-12-01",
          "2026-01-01",
          "2026-02-01",
          "2026-03-01",
          "2026-04-01",
          "2026-05-01",
          "2026-06-01",
          "2026-07-01",
          "2026-08-01"
         ],
         "xaxis": "x",
         "y": [
          null,
          null,
          null,
          null,
          null,
          null,
          null,
          null,
          null,
          null,
          null,
          null,
          null,
          null,
          null,
          null,
          null,
          null,
          null,
          null,
          null,
          null,
          null,
          1000,
          537.1794871794873,
          392.61857515225853,
          317.3434406359527,
          270.5152464274289,
          238.34764001750247,
          214.78850637983825,
          196.73879577760823,
          182.43891594732438,
          170.81225994567708,
          161.16157937979574,
          153.0146257445508,
          146.03973172799382
         ],
         "yaxis": "y"
        },
        {
         "fillpattern": {
          "shape": ""
         },
         "hovertemplate": "cohort=2025-09-01<br>date=%{x}<br>active users=%{y}<extra></extra>",
         "legendgroup": "2025-09-01",
         "line": {
          "color": "rgb(56, 166, 165)"
         },
         "marker": {
          "symbol": "circle"
         },
         "mode": "lines",
         "name": "2025-09-01",
         "orientation": "v",
         "showlegend": true,
         "stackgroup": "1",
         "type": "scatter",
         "x": [
          "2023-09-01",
          "2023-10-01",
          "2023-11-01",
          "2023-12-01",
          "2024-01-01",
          "2024-02-01",
          "2024-03-01",
          "2024-04-01",
          "2024-05-01",
          "2024-06-01",
          "2024-07-01",
          "2024-08-01",
          "2024-09-01",
          "2024-10-01",
          "2024-11-01",
          "2024-12-01",
          "2025-01-01",
          "2025-02-01",
          "2025-03-01",
          "2025-04-01",
          "2025-05-01",
          "2025-06-01",
          "2025-07-01",
          "2025-08-01",
          "2025-09-01",
          "2025-10-01",
          "2025-11-01",
          "2025-12-01",
          "2026-01-01",
          "2026-02-01",
          "2026-03-01",
          "2026-04-01",
          "2026-05-01",
          "2026-06-01",
          "2026-07-01",
          "2026-08-01"
         ],
         "xaxis": "x",
         "y": [
          null,
          null,
          null,
          null,
          null,
          null,
          null,
          null,
          null,
          null,
          null,
          null,
          null,
          null,
          null,
          null,
          null,
          null,
          null,
          null,
          null,
          null,
          null,
          null,
          1000,
          537.1794871794873,
          392.61857515225853,
          317.3434406359527,
          270.5152464274289,
          238.34764001750247,
          214.78850637983825,
          196.73879577760823,
          182.43891594732438,
          170.81225994567708,
          161.16157937979574,
          153.0146257445508
         ],
         "yaxis": "y"
        },
        {
         "fillpattern": {
          "shape": ""
         },
         "hovertemplate": "cohort=2025-10-01<br>date=%{x}<br>active users=%{y}<extra></extra>",
         "legendgroup": "2025-10-01",
         "line": {
          "color": "rgb(15, 133, 84)"
         },
         "marker": {
          "symbol": "circle"
         },
         "mode": "lines",
         "name": "2025-10-01",
         "orientation": "v",
         "showlegend": true,
         "stackgroup": "1",
         "type": "scatter",
         "x": [
          "2023-09-01",
          "2023-10-01",
          "2023-11-01",
          "2023-12-01",
          "2024-01-01",
          "2024-02-01",
          "2024-03-01",
          "2024-04-01",
          "2024-05-01",
          "2024-06-01",
          "2024-07-01",
          "2024-08-01",
          "2024-09-01",
          "2024-10-01",
          "2024-11-01",
          "2024-12-01",
          "2025-01-01",
          "2025-02-01",
          "2025-03-01",
          "2025-04-01",
          "2025-05-01",
          "2025-06-01",
          "2025-07-01",
          "2025-08-01",
          "2025-09-01",
          "2025-10-01",
          "2025-11-01",
          "2025-12-01",
          "2026-01-01",
          "2026-02-01",
          "2026-03-01",
          "2026-04-01",
          "2026-05-01",
          "2026-06-01",
          "2026-07-01",
          "2026-08-01"
         ],
         "xaxis": "x",
         "y": [
          null,
          null,
          null,
          null,
          null,
          null,
          null,
          null,
          null,
          null,
          null,
          null,
          null,
          null,
          null,
          null,
          null,
          null,
          null,
          null,
          null,
          null,
          null,
          null,
          null,
          1000,
          537.1794871794873,
          392.61857515225853,
          317.3434406359527,
          270.5152464274289,
          238.34764001750247,
          214.78850637983825,
          196.73879577760823,
          182.43891594732438,
          170.81225994567708,
          161.16157937979574
         ],
         "yaxis": "y"
        },
        {
         "fillpattern": {
          "shape": ""
         },
         "hovertemplate": "cohort=2025-11-01<br>date=%{x}<br>active users=%{y}<extra></extra>",
         "legendgroup": "2025-11-01",
         "line": {
          "color": "rgb(115, 175, 72)"
         },
         "marker": {
          "symbol": "circle"
         },
         "mode": "lines",
         "name": "2025-11-01",
         "orientation": "v",
         "showlegend": true,
         "stackgroup": "1",
         "type": "scatter",
         "x": [
          "2023-09-01",
          "2023-10-01",
          "2023-11-01",
          "2023-12-01",
          "2024-01-01",
          "2024-02-01",
          "2024-03-01",
          "2024-04-01",
          "2024-05-01",
          "2024-06-01",
          "2024-07-01",
          "2024-08-01",
          "2024-09-01",
          "2024-10-01",
          "2024-11-01",
          "2024-12-01",
          "2025-01-01",
          "2025-02-01",
          "2025-03-01",
          "2025-04-01",
          "2025-05-01",
          "2025-06-01",
          "2025-07-01",
          "2025-08-01",
          "2025-09-01",
          "2025-10-01",
          "2025-11-01",
          "2025-12-01",
          "2026-01-01",
          "2026-02-01",
          "2026-03-01",
          "2026-04-01",
          "2026-05-01",
          "2026-06-01",
          "2026-07-01",
          "2026-08-01"
         ],
         "xaxis": "x",
         "y": [
          null,
          null,
          null,
          null,
          null,
          null,
          null,
          null,
          null,
          null,
          null,
          null,
          null,
          null,
          null,
          null,
          null,
          null,
          null,
          null,
          null,
          null,
          null,
          null,
          null,
          null,
          1000,
          537.1794871794873,
          392.61857515225853,
          317.3434406359527,
          270.5152464274289,
          238.34764001750247,
          214.78850637983825,
          196.73879577760823,
          182.43891594732438,
          170.81225994567708
         ],
         "yaxis": "y"
        },
        {
         "fillpattern": {
          "shape": ""
         },
         "hovertemplate": "cohort=2025-12-01<br>date=%{x}<br>active users=%{y}<extra></extra>",
         "legendgroup": "2025-12-01",
         "line": {
          "color": "rgb(237, 173, 8)"
         },
         "marker": {
          "symbol": "circle"
         },
         "mode": "lines",
         "name": "2025-12-01",
         "orientation": "v",
         "showlegend": true,
         "stackgroup": "1",
         "type": "scatter",
         "x": [
          "2023-09-01",
          "2023-10-01",
          "2023-11-01",
          "2023-12-01",
          "2024-01-01",
          "2024-02-01",
          "2024-03-01",
          "2024-04-01",
          "2024-05-01",
          "2024-06-01",
          "2024-07-01",
          "2024-08-01",
          "2024-09-01",
          "2024-10-01",
          "2024-11-01",
          "2024-12-01",
          "2025-01-01",
          "2025-02-01",
          "2025-03-01",
          "2025-04-01",
          "2025-05-01",
          "2025-06-01",
          "2025-07-01",
          "2025-08-01",
          "2025-09-01",
          "2025-10-01",
          "2025-11-01",
          "2025-12-01",
          "2026-01-01",
          "2026-02-01",
          "2026-03-01",
          "2026-04-01",
          "2026-05-01",
          "2026-06-01",
          "2026-07-01",
          "2026-08-01"
         ],
         "xaxis": "x",
         "y": [
          null,
          null,
          null,
          null,
          null,
          null,
          null,
          null,
          null,
          null,
          null,
          null,
          null,
          null,
          null,
          null,
          null,
          null,
          null,
          null,
          null,
          null,
          null,
          null,
          null,
          null,
          null,
          1000,
          537.1794871794873,
          392.61857515225853,
          317.3434406359527,
          270.5152464274289,
          238.34764001750247,
          214.78850637983825,
          196.73879577760823,
          182.43891594732438
         ],
         "yaxis": "y"
        },
        {
         "fillpattern": {
          "shape": ""
         },
         "hovertemplate": "cohort=2026-01-01<br>date=%{x}<br>active users=%{y}<extra></extra>",
         "legendgroup": "2026-01-01",
         "line": {
          "color": "rgb(225, 124, 5)"
         },
         "marker": {
          "symbol": "circle"
         },
         "mode": "lines",
         "name": "2026-01-01",
         "orientation": "v",
         "showlegend": true,
         "stackgroup": "1",
         "type": "scatter",
         "x": [
          "2023-09-01",
          "2023-10-01",
          "2023-11-01",
          "2023-12-01",
          "2024-01-01",
          "2024-02-01",
          "2024-03-01",
          "2024-04-01",
          "2024-05-01",
          "2024-06-01",
          "2024-07-01",
          "2024-08-01",
          "2024-09-01",
          "2024-10-01",
          "2024-11-01",
          "2024-12-01",
          "2025-01-01",
          "2025-02-01",
          "2025-03-01",
          "2025-04-01",
          "2025-05-01",
          "2025-06-01",
          "2025-07-01",
          "2025-08-01",
          "2025-09-01",
          "2025-10-01",
          "2025-11-01",
          "2025-12-01",
          "2026-01-01",
          "2026-02-01",
          "2026-03-01",
          "2026-04-01",
          "2026-05-01",
          "2026-06-01",
          "2026-07-01",
          "2026-08-01"
         ],
         "xaxis": "x",
         "y": [
          null,
          null,
          null,
          null,
          null,
          null,
          null,
          null,
          null,
          null,
          null,
          null,
          null,
          null,
          null,
          null,
          null,
          null,
          null,
          null,
          null,
          null,
          null,
          null,
          null,
          null,
          null,
          null,
          1000,
          537.1794871794873,
          392.61857515225853,
          317.3434406359527,
          270.5152464274289,
          238.34764001750247,
          214.78850637983825,
          196.73879577760823
         ],
         "yaxis": "y"
        },
        {
         "fillpattern": {
          "shape": ""
         },
         "hovertemplate": "cohort=2026-02-01<br>date=%{x}<br>active users=%{y}<extra></extra>",
         "legendgroup": "2026-02-01",
         "line": {
          "color": "rgb(204, 80, 62)"
         },
         "marker": {
          "symbol": "circle"
         },
         "mode": "lines",
         "name": "2026-02-01",
         "orientation": "v",
         "showlegend": true,
         "stackgroup": "1",
         "type": "scatter",
         "x": [
          "2023-09-01",
          "2023-10-01",
          "2023-11-01",
          "2023-12-01",
          "2024-01-01",
          "2024-02-01",
          "2024-03-01",
          "2024-04-01",
          "2024-05-01",
          "2024-06-01",
          "2024-07-01",
          "2024-08-01",
          "2024-09-01",
          "2024-10-01",
          "2024-11-01",
          "2024-12-01",
          "2025-01-01",
          "2025-02-01",
          "2025-03-01",
          "2025-04-01",
          "2025-05-01",
          "2025-06-01",
          "2025-07-01",
          "2025-08-01",
          "2025-09-01",
          "2025-10-01",
          "2025-11-01",
          "2025-12-01",
          "2026-01-01",
          "2026-02-01",
          "2026-03-01",
          "2026-04-01",
          "2026-05-01",
          "2026-06-01",
          "2026-07-01",
          "2026-08-01"
         ],
         "xaxis": "x",
         "y": [
          null,
          null,
          null,
          null,
          null,
          null,
          null,
          null,
          null,
          null,
          null,
          null,
          null,
          null,
          null,
          null,
          null,
          null,
          null,
          null,
          null,
          null,
          null,
          null,
          null,
          null,
          null,
          null,
          null,
          1000,
          537.1794871794873,
          392.61857515225853,
          317.3434406359527,
          270.5152464274289,
          238.34764001750247,
          214.78850637983825
         ],
         "yaxis": "y"
        },
        {
         "fillpattern": {
          "shape": ""
         },
         "hovertemplate": "cohort=2026-03-01<br>date=%{x}<br>active users=%{y}<extra></extra>",
         "legendgroup": "2026-03-01",
         "line": {
          "color": "rgb(148, 52, 110)"
         },
         "marker": {
          "symbol": "circle"
         },
         "mode": "lines",
         "name": "2026-03-01",
         "orientation": "v",
         "showlegend": true,
         "stackgroup": "1",
         "type": "scatter",
         "x": [
          "2023-09-01",
          "2023-10-01",
          "2023-11-01",
          "2023-12-01",
          "2024-01-01",
          "2024-02-01",
          "2024-03-01",
          "2024-04-01",
          "2024-05-01",
          "2024-06-01",
          "2024-07-01",
          "2024-08-01",
          "2024-09-01",
          "2024-10-01",
          "2024-11-01",
          "2024-12-01",
          "2025-01-01",
          "2025-02-01",
          "2025-03-01",
          "2025-04-01",
          "2025-05-01",
          "2025-06-01",
          "2025-07-01",
          "2025-08-01",
          "2025-09-01",
          "2025-10-01",
          "2025-11-01",
          "2025-12-01",
          "2026-01-01",
          "2026-02-01",
          "2026-03-01",
          "2026-04-01",
          "2026-05-01",
          "2026-06-01",
          "2026-07-01",
          "2026-08-01"
         ],
         "xaxis": "x",
         "y": [
          null,
          null,
          null,
          null,
          null,
          null,
          null,
          null,
          null,
          null,
          null,
          null,
          null,
          null,
          null,
          null,
          null,
          null,
          null,
          null,
          null,
          null,
          null,
          null,
          null,
          null,
          null,
          null,
          null,
          null,
          1000,
          537.1794871794873,
          392.61857515225853,
          317.3434406359527,
          270.5152464274289,
          238.34764001750247
         ],
         "yaxis": "y"
        },
        {
         "fillpattern": {
          "shape": ""
         },
         "hovertemplate": "cohort=2026-04-01<br>date=%{x}<br>active users=%{y}<extra></extra>",
         "legendgroup": "2026-04-01",
         "line": {
          "color": "rgb(111, 64, 112)"
         },
         "marker": {
          "symbol": "circle"
         },
         "mode": "lines",
         "name": "2026-04-01",
         "orientation": "v",
         "showlegend": true,
         "stackgroup": "1",
         "type": "scatter",
         "x": [
          "2023-09-01",
          "2023-10-01",
          "2023-11-01",
          "2023-12-01",
          "2024-01-01",
          "2024-02-01",
          "2024-03-01",
          "2024-04-01",
          "2024-05-01",
          "2024-06-01",
          "2024-07-01",
          "2024-08-01",
          "2024-09-01",
          "2024-10-01",
          "2024-11-01",
          "2024-12-01",
          "2025-01-01",
          "2025-02-01",
          "2025-03-01",
          "2025-04-01",
          "2025-05-01",
          "2025-06-01",
          "2025-07-01",
          "2025-08-01",
          "2025-09-01",
          "2025-10-01",
          "2025-11-01",
          "2025-12-01",
          "2026-01-01",
          "2026-02-01",
          "2026-03-01",
          "2026-04-01",
          "2026-05-01",
          "2026-06-01",
          "2026-07-01",
          "2026-08-01"
         ],
         "xaxis": "x",
         "y": [
          null,
          null,
          null,
          null,
          null,
          null,
          null,
          null,
          null,
          null,
          null,
          null,
          null,
          null,
          null,
          null,
          null,
          null,
          null,
          null,
          null,
          null,
          null,
          null,
          null,
          null,
          null,
          null,
          null,
          null,
          null,
          1000,
          537.1794871794873,
          392.61857515225853,
          317.3434406359527,
          270.5152464274289
         ],
         "yaxis": "y"
        },
        {
         "fillpattern": {
          "shape": ""
         },
         "hovertemplate": "cohort=2026-05-01<br>date=%{x}<br>active users=%{y}<extra></extra>",
         "legendgroup": "2026-05-01",
         "line": {
          "color": "rgb(102, 102, 102)"
         },
         "marker": {
          "symbol": "circle"
         },
         "mode": "lines",
         "name": "2026-05-01",
         "orientation": "v",
         "showlegend": true,
         "stackgroup": "1",
         "type": "scatter",
         "x": [
          "2023-09-01",
          "2023-10-01",
          "2023-11-01",
          "2023-12-01",
          "2024-01-01",
          "2024-02-01",
          "2024-03-01",
          "2024-04-01",
          "2024-05-01",
          "2024-06-01",
          "2024-07-01",
          "2024-08-01",
          "2024-09-01",
          "2024-10-01",
          "2024-11-01",
          "2024-12-01",
          "2025-01-01",
          "2025-02-01",
          "2025-03-01",
          "2025-04-01",
          "2025-05-01",
          "2025-06-01",
          "2025-07-01",
          "2025-08-01",
          "2025-09-01",
          "2025-10-01",
          "2025-11-01",
          "2025-12-01",
          "2026-01-01",
          "2026-02-01",
          "2026-03-01",
          "2026-04-01",
          "2026-05-01",
          "2026-06-01",
          "2026-07-01",
          "2026-08-01"
         ],
         "xaxis": "x",
         "y": [
          null,
          null,
          null,
          null,
          null,
          null,
          null,
          null,
          null,
          null,
          null,
          null,
          null,
          null,
          null,
          null,
          null,
          null,
          null,
          null,
          null,
          null,
          null,
          null,
          null,
          null,
          null,
          null,
          null,
          null,
          null,
          null,
          1000,
          537.1794871794873,
          392.61857515225853,
          317.3434406359527
         ],
         "yaxis": "y"
        },
        {
         "fillpattern": {
          "shape": ""
         },
         "hovertemplate": "cohort=2026-06-01<br>date=%{x}<br>active users=%{y}<extra></extra>",
         "legendgroup": "2026-06-01",
         "line": {
          "color": "rgb(95, 70, 144)"
         },
         "marker": {
          "symbol": "circle"
         },
         "mode": "lines",
         "name": "2026-06-01",
         "orientation": "v",
         "showlegend": true,
         "stackgroup": "1",
         "type": "scatter",
         "x": [
          "2023-09-01",
          "2023-10-01",
          "2023-11-01",
          "2023-12-01",
          "2024-01-01",
          "2024-02-01",
          "2024-03-01",
          "2024-04-01",
          "2024-05-01",
          "2024-06-01",
          "2024-07-01",
          "2024-08-01",
          "2024-09-01",
          "2024-10-01",
          "2024-11-01",
          "2024-12-01",
          "2025-01-01",
          "2025-02-01",
          "2025-03-01",
          "2025-04-01",
          "2025-05-01",
          "2025-06-01",
          "2025-07-01",
          "2025-08-01",
          "2025-09-01",
          "2025-10-01",
          "2025-11-01",
          "2025-12-01",
          "2026-01-01",
          "2026-02-01",
          "2026-03-01",
          "2026-04-01",
          "2026-05-01",
          "2026-06-01",
          "2026-07-01",
          "2026-08-01"
         ],
         "xaxis": "x",
         "y": [
          null,
          null,
          null,
          null,
          null,
          null,
          null,
          null,
          null,
          null,
          null,
          null,
          null,
          null,
          null,
          null,
          null,
          null,
          null,
          null,
          null,
          null,
          null,
          null,
          null,
          null,
          null,
          null,
          null,
          null,
          null,
          null,
          null,
          1000,
          537.1794871794873,
          392.61857515225853
         ],
         "yaxis": "y"
        },
        {
         "fillpattern": {
          "shape": ""
         },
         "hovertemplate": "cohort=2026-07-01<br>date=%{x}<br>active users=%{y}<extra></extra>",
         "legendgroup": "2026-07-01",
         "line": {
          "color": "rgb(29, 105, 150)"
         },
         "marker": {
          "symbol": "circle"
         },
         "mode": "lines",
         "name": "2026-07-01",
         "orientation": "v",
         "showlegend": true,
         "stackgroup": "1",
         "type": "scatter",
         "x": [
          "2023-09-01",
          "2023-10-01",
          "2023-11-01",
          "2023-12-01",
          "2024-01-01",
          "2024-02-01",
          "2024-03-01",
          "2024-04-01",
          "2024-05-01",
          "2024-06-01",
          "2024-07-01",
          "2024-08-01",
          "2024-09-01",
          "2024-10-01",
          "2024-11-01",
          "2024-12-01",
          "2025-01-01",
          "2025-02-01",
          "2025-03-01",
          "2025-04-01",
          "2025-05-01",
          "2025-06-01",
          "2025-07-01",
          "2025-08-01",
          "2025-09-01",
          "2025-10-01",
          "2025-11-01",
          "2025-12-01",
          "2026-01-01",
          "2026-02-01",
          "2026-03-01",
          "2026-04-01",
          "2026-05-01",
          "2026-06-01",
          "2026-07-01",
          "2026-08-01"
         ],
         "xaxis": "x",
         "y": [
          null,
          null,
          null,
          null,
          null,
          null,
          null,
          null,
          null,
          null,
          null,
          null,
          null,
          null,
          null,
          null,
          null,
          null,
          null,
          null,
          null,
          null,
          null,
          null,
          null,
          null,
          null,
          null,
          null,
          null,
          null,
          null,
          null,
          null,
          1000,
          537.1794871794873
         ],
         "yaxis": "y"
        },
        {
         "fillpattern": {
          "shape": ""
         },
         "hovertemplate": "cohort=2026-08-01<br>date=%{x}<br>active users=%{y}<extra></extra>",
         "legendgroup": "2026-08-01",
         "line": {
          "color": "rgb(56, 166, 165)"
         },
         "marker": {
          "symbol": "circle"
         },
         "mode": "lines",
         "name": "2026-08-01",
         "orientation": "v",
         "showlegend": true,
         "stackgroup": "1",
         "type": "scatter",
         "x": [
          "2023-09-01",
          "2023-10-01",
          "2023-11-01",
          "2023-12-01",
          "2024-01-01",
          "2024-02-01",
          "2024-03-01",
          "2024-04-01",
          "2024-05-01",
          "2024-06-01",
          "2024-07-01",
          "2024-08-01",
          "2024-09-01",
          "2024-10-01",
          "2024-11-01",
          "2024-12-01",
          "2025-01-01",
          "2025-02-01",
          "2025-03-01",
          "2025-04-01",
          "2025-05-01",
          "2025-06-01",
          "2025-07-01",
          "2025-08-01",
          "2025-09-01",
          "2025-10-01",
          "2025-11-01",
          "2025-12-01",
          "2026-01-01",
          "2026-02-01",
          "2026-03-01",
          "2026-04-01",
          "2026-05-01",
          "2026-06-01",
          "2026-07-01",
          "2026-08-01"
         ],
         "xaxis": "x",
         "y": [
          null,
          null,
          null,
          null,
          null,
          null,
          null,
          null,
          null,
          null,
          null,
          null,
          null,
          null,
          null,
          null,
          null,
          null,
          null,
          null,
          null,
          null,
          null,
          null,
          null,
          null,
          null,
          null,
          null,
          null,
          null,
          null,
          null,
          null,
          null,
          1000
         ],
         "yaxis": "y"
        }
       ],
       "layout": {
        "legend": {
         "title": {
          "text": "cohort"
         },
         "tracegroupgap": 0
        },
        "template": {
         "data": {
          "bar": [
           {
            "error_x": {
             "color": "rgb(36,36,36)"
            },
            "error_y": {
             "color": "rgb(36,36,36)"
            },
            "marker": {
             "line": {
              "color": "white",
              "width": 0.5
             },
             "pattern": {
              "fillmode": "overlay",
              "size": 10,
              "solidity": 0.2
             }
            },
            "type": "bar"
           }
          ],
          "barpolar": [
           {
            "marker": {
             "line": {
              "color": "white",
              "width": 0.5
             },
             "pattern": {
              "fillmode": "overlay",
              "size": 10,
              "solidity": 0.2
             }
            },
            "type": "barpolar"
           }
          ],
          "carpet": [
           {
            "aaxis": {
             "endlinecolor": "rgb(36,36,36)",
             "gridcolor": "white",
             "linecolor": "white",
             "minorgridcolor": "white",
             "startlinecolor": "rgb(36,36,36)"
            },
            "baxis": {
             "endlinecolor": "rgb(36,36,36)",
             "gridcolor": "white",
             "linecolor": "white",
             "minorgridcolor": "white",
             "startlinecolor": "rgb(36,36,36)"
            },
            "type": "carpet"
           }
          ],
          "choropleth": [
           {
            "colorbar": {
             "outlinewidth": 1,
             "tickcolor": "rgb(36,36,36)",
             "ticks": "outside"
            },
            "type": "choropleth"
           }
          ],
          "contour": [
           {
            "colorbar": {
             "outlinewidth": 1,
             "tickcolor": "rgb(36,36,36)",
             "ticks": "outside"
            },
            "colorscale": [
             [
              0,
              "#440154"
             ],
             [
              0.1111111111111111,
              "#482878"
             ],
             [
              0.2222222222222222,
              "#3e4989"
             ],
             [
              0.3333333333333333,
              "#31688e"
             ],
             [
              0.4444444444444444,
              "#26828e"
             ],
             [
              0.5555555555555556,
              "#1f9e89"
             ],
             [
              0.6666666666666666,
              "#35b779"
             ],
             [
              0.7777777777777778,
              "#6ece58"
             ],
             [
              0.8888888888888888,
              "#b5de2b"
             ],
             [
              1,
              "#fde725"
             ]
            ],
            "type": "contour"
           }
          ],
          "contourcarpet": [
           {
            "colorbar": {
             "outlinewidth": 1,
             "tickcolor": "rgb(36,36,36)",
             "ticks": "outside"
            },
            "type": "contourcarpet"
           }
          ],
          "heatmap": [
           {
            "colorbar": {
             "outlinewidth": 1,
             "tickcolor": "rgb(36,36,36)",
             "ticks": "outside"
            },
            "colorscale": [
             [
              0,
              "#440154"
             ],
             [
              0.1111111111111111,
              "#482878"
             ],
             [
              0.2222222222222222,
              "#3e4989"
             ],
             [
              0.3333333333333333,
              "#31688e"
             ],
             [
              0.4444444444444444,
              "#26828e"
             ],
             [
              0.5555555555555556,
              "#1f9e89"
             ],
             [
              0.6666666666666666,
              "#35b779"
             ],
             [
              0.7777777777777778,
              "#6ece58"
             ],
             [
              0.8888888888888888,
              "#b5de2b"
             ],
             [
              1,
              "#fde725"
             ]
            ],
            "type": "heatmap"
           }
          ],
          "heatmapgl": [
           {
            "colorbar": {
             "outlinewidth": 1,
             "tickcolor": "rgb(36,36,36)",
             "ticks": "outside"
            },
            "colorscale": [
             [
              0,
              "#440154"
             ],
             [
              0.1111111111111111,
              "#482878"
             ],
             [
              0.2222222222222222,
              "#3e4989"
             ],
             [
              0.3333333333333333,
              "#31688e"
             ],
             [
              0.4444444444444444,
              "#26828e"
             ],
             [
              0.5555555555555556,
              "#1f9e89"
             ],
             [
              0.6666666666666666,
              "#35b779"
             ],
             [
              0.7777777777777778,
              "#6ece58"
             ],
             [
              0.8888888888888888,
              "#b5de2b"
             ],
             [
              1,
              "#fde725"
             ]
            ],
            "type": "heatmapgl"
           }
          ],
          "histogram": [
           {
            "marker": {
             "line": {
              "color": "white",
              "width": 0.6
             }
            },
            "type": "histogram"
           }
          ],
          "histogram2d": [
           {
            "colorbar": {
             "outlinewidth": 1,
             "tickcolor": "rgb(36,36,36)",
             "ticks": "outside"
            },
            "colorscale": [
             [
              0,
              "#440154"
             ],
             [
              0.1111111111111111,
              "#482878"
             ],
             [
              0.2222222222222222,
              "#3e4989"
             ],
             [
              0.3333333333333333,
              "#31688e"
             ],
             [
              0.4444444444444444,
              "#26828e"
             ],
             [
              0.5555555555555556,
              "#1f9e89"
             ],
             [
              0.6666666666666666,
              "#35b779"
             ],
             [
              0.7777777777777778,
              "#6ece58"
             ],
             [
              0.8888888888888888,
              "#b5de2b"
             ],
             [
              1,
              "#fde725"
             ]
            ],
            "type": "histogram2d"
           }
          ],
          "histogram2dcontour": [
           {
            "colorbar": {
             "outlinewidth": 1,
             "tickcolor": "rgb(36,36,36)",
             "ticks": "outside"
            },
            "colorscale": [
             [
              0,
              "#440154"
             ],
             [
              0.1111111111111111,
              "#482878"
             ],
             [
              0.2222222222222222,
              "#3e4989"
             ],
             [
              0.3333333333333333,
              "#31688e"
             ],
             [
              0.4444444444444444,
              "#26828e"
             ],
             [
              0.5555555555555556,
              "#1f9e89"
             ],
             [
              0.6666666666666666,
              "#35b779"
             ],
             [
              0.7777777777777778,
              "#6ece58"
             ],
             [
              0.8888888888888888,
              "#b5de2b"
             ],
             [
              1,
              "#fde725"
             ]
            ],
            "type": "histogram2dcontour"
           }
          ],
          "mesh3d": [
           {
            "colorbar": {
             "outlinewidth": 1,
             "tickcolor": "rgb(36,36,36)",
             "ticks": "outside"
            },
            "type": "mesh3d"
           }
          ],
          "parcoords": [
           {
            "line": {
             "colorbar": {
              "outlinewidth": 1,
              "tickcolor": "rgb(36,36,36)",
              "ticks": "outside"
             }
            },
            "type": "parcoords"
           }
          ],
          "pie": [
           {
            "automargin": true,
            "type": "pie"
           }
          ],
          "scatter": [
           {
            "fillpattern": {
             "fillmode": "overlay",
             "size": 10,
             "solidity": 0.2
            },
            "type": "scatter"
           }
          ],
          "scatter3d": [
           {
            "line": {
             "colorbar": {
              "outlinewidth": 1,
              "tickcolor": "rgb(36,36,36)",
              "ticks": "outside"
             }
            },
            "marker": {
             "colorbar": {
              "outlinewidth": 1,
              "tickcolor": "rgb(36,36,36)",
              "ticks": "outside"
             }
            },
            "type": "scatter3d"
           }
          ],
          "scattercarpet": [
           {
            "marker": {
             "colorbar": {
              "outlinewidth": 1,
              "tickcolor": "rgb(36,36,36)",
              "ticks": "outside"
             }
            },
            "type": "scattercarpet"
           }
          ],
          "scattergeo": [
           {
            "marker": {
             "colorbar": {
              "outlinewidth": 1,
              "tickcolor": "rgb(36,36,36)",
              "ticks": "outside"
             }
            },
            "type": "scattergeo"
           }
          ],
          "scattergl": [
           {
            "marker": {
             "colorbar": {
              "outlinewidth": 1,
              "tickcolor": "rgb(36,36,36)",
              "ticks": "outside"
             }
            },
            "type": "scattergl"
           }
          ],
          "scattermapbox": [
           {
            "marker": {
             "colorbar": {
              "outlinewidth": 1,
              "tickcolor": "rgb(36,36,36)",
              "ticks": "outside"
             }
            },
            "type": "scattermapbox"
           }
          ],
          "scatterpolar": [
           {
            "marker": {
             "colorbar": {
              "outlinewidth": 1,
              "tickcolor": "rgb(36,36,36)",
              "ticks": "outside"
             }
            },
            "type": "scatterpolar"
           }
          ],
          "scatterpolargl": [
           {
            "marker": {
             "colorbar": {
              "outlinewidth": 1,
              "tickcolor": "rgb(36,36,36)",
              "ticks": "outside"
             }
            },
            "type": "scatterpolargl"
           }
          ],
          "scatterternary": [
           {
            "marker": {
             "colorbar": {
              "outlinewidth": 1,
              "tickcolor": "rgb(36,36,36)",
              "ticks": "outside"
             }
            },
            "type": "scatterternary"
           }
          ],
          "surface": [
           {
            "colorbar": {
             "outlinewidth": 1,
             "tickcolor": "rgb(36,36,36)",
             "ticks": "outside"
            },
            "colorscale": [
             [
              0,
              "#440154"
             ],
             [
              0.1111111111111111,
              "#482878"
             ],
             [
              0.2222222222222222,
              "#3e4989"
             ],
             [
              0.3333333333333333,
              "#31688e"
             ],
             [
              0.4444444444444444,
              "#26828e"
             ],
             [
              0.5555555555555556,
              "#1f9e89"
             ],
             [
              0.6666666666666666,
              "#35b779"
             ],
             [
              0.7777777777777778,
              "#6ece58"
             ],
             [
              0.8888888888888888,
              "#b5de2b"
             ],
             [
              1,
              "#fde725"
             ]
            ],
            "type": "surface"
           }
          ],
          "table": [
           {
            "cells": {
             "fill": {
              "color": "rgb(237,237,237)"
             },
             "line": {
              "color": "white"
             }
            },
            "header": {
             "fill": {
              "color": "rgb(217,217,217)"
             },
             "line": {
              "color": "white"
             }
            },
            "type": "table"
           }
          ]
         },
         "layout": {
          "annotationdefaults": {
           "arrowhead": 0,
           "arrowwidth": 1
          },
          "autotypenumbers": "strict",
          "coloraxis": {
           "colorbar": {
            "outlinewidth": 1,
            "tickcolor": "rgb(36,36,36)",
            "ticks": "outside"
           }
          },
          "colorscale": {
           "diverging": [
            [
             0,
             "rgb(103,0,31)"
            ],
            [
             0.1,
             "rgb(178,24,43)"
            ],
            [
             0.2,
             "rgb(214,96,77)"
            ],
            [
             0.3,
             "rgb(244,165,130)"
            ],
            [
             0.4,
             "rgb(253,219,199)"
            ],
            [
             0.5,
             "rgb(247,247,247)"
            ],
            [
             0.6,
             "rgb(209,229,240)"
            ],
            [
             0.7,
             "rgb(146,197,222)"
            ],
            [
             0.8,
             "rgb(67,147,195)"
            ],
            [
             0.9,
             "rgb(33,102,172)"
            ],
            [
             1,
             "rgb(5,48,97)"
            ]
           ],
           "sequential": [
            [
             0,
             "#440154"
            ],
            [
             0.1111111111111111,
             "#482878"
            ],
            [
             0.2222222222222222,
             "#3e4989"
            ],
            [
             0.3333333333333333,
             "#31688e"
            ],
            [
             0.4444444444444444,
             "#26828e"
            ],
            [
             0.5555555555555556,
             "#1f9e89"
            ],
            [
             0.6666666666666666,
             "#35b779"
            ],
            [
             0.7777777777777778,
             "#6ece58"
            ],
            [
             0.8888888888888888,
             "#b5de2b"
            ],
            [
             1,
             "#fde725"
            ]
           ],
           "sequentialminus": [
            [
             0,
             "#440154"
            ],
            [
             0.1111111111111111,
             "#482878"
            ],
            [
             0.2222222222222222,
             "#3e4989"
            ],
            [
             0.3333333333333333,
             "#31688e"
            ],
            [
             0.4444444444444444,
             "#26828e"
            ],
            [
             0.5555555555555556,
             "#1f9e89"
            ],
            [
             0.6666666666666666,
             "#35b779"
            ],
            [
             0.7777777777777778,
             "#6ece58"
            ],
            [
             0.8888888888888888,
             "#b5de2b"
            ],
            [
             1,
             "#fde725"
            ]
           ]
          },
          "colorway": [
           "#1F77B4",
           "#FF7F0E",
           "#2CA02C",
           "#D62728",
           "#9467BD",
           "#8C564B",
           "#E377C2",
           "#7F7F7F",
           "#BCBD22",
           "#17BECF"
          ],
          "font": {
           "color": "rgb(36,36,36)"
          },
          "geo": {
           "bgcolor": "white",
           "lakecolor": "white",
           "landcolor": "white",
           "showlakes": true,
           "showland": true,
           "subunitcolor": "white"
          },
          "hoverlabel": {
           "align": "left"
          },
          "hovermode": "closest",
          "mapbox": {
           "style": "light"
          },
          "paper_bgcolor": "white",
          "plot_bgcolor": "white",
          "polar": {
           "angularaxis": {
            "gridcolor": "rgb(232,232,232)",
            "linecolor": "rgb(36,36,36)",
            "showgrid": false,
            "showline": true,
            "ticks": "outside"
           },
           "bgcolor": "white",
           "radialaxis": {
            "gridcolor": "rgb(232,232,232)",
            "linecolor": "rgb(36,36,36)",
            "showgrid": false,
            "showline": true,
            "ticks": "outside"
           }
          },
          "scene": {
           "xaxis": {
            "backgroundcolor": "white",
            "gridcolor": "rgb(232,232,232)",
            "gridwidth": 2,
            "linecolor": "rgb(36,36,36)",
            "showbackground": true,
            "showgrid": false,
            "showline": true,
            "ticks": "outside",
            "zeroline": false,
            "zerolinecolor": "rgb(36,36,36)"
           },
           "yaxis": {
            "backgroundcolor": "white",
            "gridcolor": "rgb(232,232,232)",
            "gridwidth": 2,
            "linecolor": "rgb(36,36,36)",
            "showbackground": true,
            "showgrid": false,
            "showline": true,
            "ticks": "outside",
            "zeroline": false,
            "zerolinecolor": "rgb(36,36,36)"
           },
           "zaxis": {
            "backgroundcolor": "white",
            "gridcolor": "rgb(232,232,232)",
            "gridwidth": 2,
            "linecolor": "rgb(36,36,36)",
            "showbackground": true,
            "showgrid": false,
            "showline": true,
            "ticks": "outside",
            "zeroline": false,
            "zerolinecolor": "rgb(36,36,36)"
           }
          },
          "shapedefaults": {
           "fillcolor": "black",
           "line": {
            "width": 0
           },
           "opacity": 0.3
          },
          "ternary": {
           "aaxis": {
            "gridcolor": "rgb(232,232,232)",
            "linecolor": "rgb(36,36,36)",
            "showgrid": false,
            "showline": true,
            "ticks": "outside"
           },
           "baxis": {
            "gridcolor": "rgb(232,232,232)",
            "linecolor": "rgb(36,36,36)",
            "showgrid": false,
            "showline": true,
            "ticks": "outside"
           },
           "bgcolor": "white",
           "caxis": {
            "gridcolor": "rgb(232,232,232)",
            "linecolor": "rgb(36,36,36)",
            "showgrid": false,
            "showline": true,
            "ticks": "outside"
           }
          },
          "title": {
           "x": 0.05
          },
          "xaxis": {
           "automargin": true,
           "gridcolor": "rgb(232,232,232)",
           "linecolor": "rgb(36,36,36)",
           "showgrid": false,
           "showline": true,
           "ticks": "outside",
           "title": {
            "standoff": 15
           },
           "zeroline": false,
           "zerolinecolor": "rgb(36,36,36)"
          },
          "yaxis": {
           "automargin": true,
           "gridcolor": "rgb(232,232,232)",
           "linecolor": "rgb(36,36,36)",
           "showgrid": false,
           "showline": true,
           "ticks": "outside",
           "title": {
            "standoff": 15
           },
           "zeroline": false,
           "zerolinecolor": "rgb(36,36,36)"
          }
         }
        },
        "title": {
         "text": "Active users by cohorts for product3"
        },
        "xaxis": {
         "anchor": "y",
         "domain": [
          0,
          1
         ],
         "title": {
          "text": "date"
         }
        },
        "yaxis": {
         "anchor": "x",
         "domain": [
          0,
          1
         ],
         "title": {
          "text": "active users"
         }
        }
       }
      },
      "text/html": [
       "<div>                            <div id=\"a7eff535-06f8-4c00-a322-0b89ddc4c75b\" class=\"plotly-graph-div\" style=\"height:525px; width:100%;\"></div>            <script type=\"text/javascript\">                require([\"plotly\"], function(Plotly) {                    window.PLOTLYENV=window.PLOTLYENV || {};                                    if (document.getElementById(\"a7eff535-06f8-4c00-a322-0b89ddc4c75b\")) {                    Plotly.newPlot(                        \"a7eff535-06f8-4c00-a322-0b89ddc4c75b\",                        [{\"fillpattern\":{\"shape\":\"\"},\"hovertemplate\":\"cohort=2023-09-01<br>date=%{x}<br>active users=%{y}<extra></extra>\",\"legendgroup\":\"2023-09-01\",\"line\":{\"color\":\"rgb(95, 70, 144)\"},\"marker\":{\"symbol\":\"circle\"},\"mode\":\"lines\",\"name\":\"2023-09-01\",\"orientation\":\"v\",\"showlegend\":true,\"stackgroup\":\"1\",\"x\":[\"2023-09-01\",\"2023-10-01\",\"2023-11-01\",\"2023-12-01\",\"2024-01-01\",\"2024-02-01\",\"2024-03-01\",\"2024-04-01\",\"2024-05-01\",\"2024-06-01\",\"2024-07-01\",\"2024-08-01\",\"2024-09-01\",\"2024-10-01\",\"2024-11-01\",\"2024-12-01\",\"2025-01-01\",\"2025-02-01\",\"2025-03-01\",\"2025-04-01\",\"2025-05-01\",\"2025-06-01\",\"2025-07-01\",\"2025-08-01\",\"2025-09-01\",\"2025-10-01\",\"2025-11-01\",\"2025-12-01\",\"2026-01-01\",\"2026-02-01\",\"2026-03-01\",\"2026-04-01\",\"2026-05-01\",\"2026-06-01\",\"2026-07-01\",\"2026-08-01\"],\"xaxis\":\"x\",\"y\":[1000.0,537.1794871794873,392.61857515225853,317.3434406359527,270.5152464274289,238.34764001750247,214.78850637983825,196.73879577760823,182.43891594732438,170.81225994567708,161.16157937979574,153.0146257445508,146.03973172799382,139.9968707739967,134.7078975193692,130.03771591234656,125.88195253787077,122.15865000869108,118.80252608155305,115.76091698734511,112.990854021002,110.45691959191237,108.12965000762794,105.98432857150428,104.0000618034658,102.15906402679298,100.44609734378585,98.8480289052246,97.35347771032774,95.95253045223437,94.63651112086066,93.39779283210717,92.22964310025917,91.12609580187336,90.08184459641349,89.09215371235842],\"yaxis\":\"y\",\"type\":\"scatter\"},{\"fillpattern\":{\"shape\":\"\"},\"hovertemplate\":\"cohort=2023-10-01<br>date=%{x}<br>active users=%{y}<extra></extra>\",\"legendgroup\":\"2023-10-01\",\"line\":{\"color\":\"rgb(29, 105, 150)\"},\"marker\":{\"symbol\":\"circle\"},\"mode\":\"lines\",\"name\":\"2023-10-01\",\"orientation\":\"v\",\"showlegend\":true,\"stackgroup\":\"1\",\"x\":[\"2023-09-01\",\"2023-10-01\",\"2023-11-01\",\"2023-12-01\",\"2024-01-01\",\"2024-02-01\",\"2024-03-01\",\"2024-04-01\",\"2024-05-01\",\"2024-06-01\",\"2024-07-01\",\"2024-08-01\",\"2024-09-01\",\"2024-10-01\",\"2024-11-01\",\"2024-12-01\",\"2025-01-01\",\"2025-02-01\",\"2025-03-01\",\"2025-04-01\",\"2025-05-01\",\"2025-06-01\",\"2025-07-01\",\"2025-08-01\",\"2025-09-01\",\"2025-10-01\",\"2025-11-01\",\"2025-12-01\",\"2026-01-01\",\"2026-02-01\",\"2026-03-01\",\"2026-04-01\",\"2026-05-01\",\"2026-06-01\",\"2026-07-01\",\"2026-08-01\"],\"xaxis\":\"x\",\"y\":[null,1000.0,537.1794871794873,392.61857515225853,317.3434406359527,270.5152464274289,238.34764001750247,214.78850637983825,196.73879577760823,182.43891594732438,170.81225994567708,161.16157937979574,153.0146257445508,146.03973172799382,139.9968707739967,134.7078975193692,130.03771591234656,125.88195253787077,122.15865000869108,118.80252608155305,115.76091698734511,112.990854021002,110.45691959191237,108.12965000762794,105.98432857150428,104.0000618034658,102.15906402679298,100.44609734378585,98.8480289052246,97.35347771032774,95.95253045223437,94.63651112086066,93.39779283210717,92.22964310025917,91.12609580187336,90.08184459641349],\"yaxis\":\"y\",\"type\":\"scatter\"},{\"fillpattern\":{\"shape\":\"\"},\"hovertemplate\":\"cohort=2023-11-01<br>date=%{x}<br>active users=%{y}<extra></extra>\",\"legendgroup\":\"2023-11-01\",\"line\":{\"color\":\"rgb(56, 166, 165)\"},\"marker\":{\"symbol\":\"circle\"},\"mode\":\"lines\",\"name\":\"2023-11-01\",\"orientation\":\"v\",\"showlegend\":true,\"stackgroup\":\"1\",\"x\":[\"2023-09-01\",\"2023-10-01\",\"2023-11-01\",\"2023-12-01\",\"2024-01-01\",\"2024-02-01\",\"2024-03-01\",\"2024-04-01\",\"2024-05-01\",\"2024-06-01\",\"2024-07-01\",\"2024-08-01\",\"2024-09-01\",\"2024-10-01\",\"2024-11-01\",\"2024-12-01\",\"2025-01-01\",\"2025-02-01\",\"2025-03-01\",\"2025-04-01\",\"2025-05-01\",\"2025-06-01\",\"2025-07-01\",\"2025-08-01\",\"2025-09-01\",\"2025-10-01\",\"2025-11-01\",\"2025-12-01\",\"2026-01-01\",\"2026-02-01\",\"2026-03-01\",\"2026-04-01\",\"2026-05-01\",\"2026-06-01\",\"2026-07-01\",\"2026-08-01\"],\"xaxis\":\"x\",\"y\":[null,null,1000.0,537.1794871794873,392.61857515225853,317.3434406359527,270.5152464274289,238.34764001750247,214.78850637983825,196.73879577760823,182.43891594732438,170.81225994567708,161.16157937979574,153.0146257445508,146.03973172799382,139.9968707739967,134.7078975193692,130.03771591234656,125.88195253787077,122.15865000869108,118.80252608155305,115.76091698734511,112.990854021002,110.45691959191237,108.12965000762794,105.98432857150428,104.0000618034658,102.15906402679298,100.44609734378585,98.8480289052246,97.35347771032774,95.95253045223437,94.63651112086066,93.39779283210717,92.22964310025917,91.12609580187336],\"yaxis\":\"y\",\"type\":\"scatter\"},{\"fillpattern\":{\"shape\":\"\"},\"hovertemplate\":\"cohort=2023-12-01<br>date=%{x}<br>active users=%{y}<extra></extra>\",\"legendgroup\":\"2023-12-01\",\"line\":{\"color\":\"rgb(15, 133, 84)\"},\"marker\":{\"symbol\":\"circle\"},\"mode\":\"lines\",\"name\":\"2023-12-01\",\"orientation\":\"v\",\"showlegend\":true,\"stackgroup\":\"1\",\"x\":[\"2023-09-01\",\"2023-10-01\",\"2023-11-01\",\"2023-12-01\",\"2024-01-01\",\"2024-02-01\",\"2024-03-01\",\"2024-04-01\",\"2024-05-01\",\"2024-06-01\",\"2024-07-01\",\"2024-08-01\",\"2024-09-01\",\"2024-10-01\",\"2024-11-01\",\"2024-12-01\",\"2025-01-01\",\"2025-02-01\",\"2025-03-01\",\"2025-04-01\",\"2025-05-01\",\"2025-06-01\",\"2025-07-01\",\"2025-08-01\",\"2025-09-01\",\"2025-10-01\",\"2025-11-01\",\"2025-12-01\",\"2026-01-01\",\"2026-02-01\",\"2026-03-01\",\"2026-04-01\",\"2026-05-01\",\"2026-06-01\",\"2026-07-01\",\"2026-08-01\"],\"xaxis\":\"x\",\"y\":[null,null,null,1000.0,537.1794871794873,392.61857515225853,317.3434406359527,270.5152464274289,238.34764001750247,214.78850637983825,196.73879577760823,182.43891594732438,170.81225994567708,161.16157937979574,153.0146257445508,146.03973172799382,139.9968707739967,134.7078975193692,130.03771591234656,125.88195253787077,122.15865000869108,118.80252608155305,115.76091698734511,112.990854021002,110.45691959191237,108.12965000762794,105.98432857150428,104.0000618034658,102.15906402679298,100.44609734378585,98.8480289052246,97.35347771032774,95.95253045223437,94.63651112086066,93.39779283210717,92.22964310025917],\"yaxis\":\"y\",\"type\":\"scatter\"},{\"fillpattern\":{\"shape\":\"\"},\"hovertemplate\":\"cohort=2024-01-01<br>date=%{x}<br>active users=%{y}<extra></extra>\",\"legendgroup\":\"2024-01-01\",\"line\":{\"color\":\"rgb(115, 175, 72)\"},\"marker\":{\"symbol\":\"circle\"},\"mode\":\"lines\",\"name\":\"2024-01-01\",\"orientation\":\"v\",\"showlegend\":true,\"stackgroup\":\"1\",\"x\":[\"2023-09-01\",\"2023-10-01\",\"2023-11-01\",\"2023-12-01\",\"2024-01-01\",\"2024-02-01\",\"2024-03-01\",\"2024-04-01\",\"2024-05-01\",\"2024-06-01\",\"2024-07-01\",\"2024-08-01\",\"2024-09-01\",\"2024-10-01\",\"2024-11-01\",\"2024-12-01\",\"2025-01-01\",\"2025-02-01\",\"2025-03-01\",\"2025-04-01\",\"2025-05-01\",\"2025-06-01\",\"2025-07-01\",\"2025-08-01\",\"2025-09-01\",\"2025-10-01\",\"2025-11-01\",\"2025-12-01\",\"2026-01-01\",\"2026-02-01\",\"2026-03-01\",\"2026-04-01\",\"2026-05-01\",\"2026-06-01\",\"2026-07-01\",\"2026-08-01\"],\"xaxis\":\"x\",\"y\":[null,null,null,null,1000.0,537.1794871794873,392.61857515225853,317.3434406359527,270.5152464274289,238.34764001750247,214.78850637983825,196.73879577760823,182.43891594732438,170.81225994567708,161.16157937979574,153.0146257445508,146.03973172799382,139.9968707739967,134.7078975193692,130.03771591234656,125.88195253787077,122.15865000869108,118.80252608155305,115.76091698734511,112.990854021002,110.45691959191237,108.12965000762794,105.98432857150428,104.0000618034658,102.15906402679298,100.44609734378585,98.8480289052246,97.35347771032774,95.95253045223437,94.63651112086066,93.39779283210717],\"yaxis\":\"y\",\"type\":\"scatter\"},{\"fillpattern\":{\"shape\":\"\"},\"hovertemplate\":\"cohort=2024-02-01<br>date=%{x}<br>active users=%{y}<extra></extra>\",\"legendgroup\":\"2024-02-01\",\"line\":{\"color\":\"rgb(237, 173, 8)\"},\"marker\":{\"symbol\":\"circle\"},\"mode\":\"lines\",\"name\":\"2024-02-01\",\"orientation\":\"v\",\"showlegend\":true,\"stackgroup\":\"1\",\"x\":[\"2023-09-01\",\"2023-10-01\",\"2023-11-01\",\"2023-12-01\",\"2024-01-01\",\"2024-02-01\",\"2024-03-01\",\"2024-04-01\",\"2024-05-01\",\"2024-06-01\",\"2024-07-01\",\"2024-08-01\",\"2024-09-01\",\"2024-10-01\",\"2024-11-01\",\"2024-12-01\",\"2025-01-01\",\"2025-02-01\",\"2025-03-01\",\"2025-04-01\",\"2025-05-01\",\"2025-06-01\",\"2025-07-01\",\"2025-08-01\",\"2025-09-01\",\"2025-10-01\",\"2025-11-01\",\"2025-12-01\",\"2026-01-01\",\"2026-02-01\",\"2026-03-01\",\"2026-04-01\",\"2026-05-01\",\"2026-06-01\",\"2026-07-01\",\"2026-08-01\"],\"xaxis\":\"x\",\"y\":[null,null,null,null,null,1000.0,537.1794871794873,392.61857515225853,317.3434406359527,270.5152464274289,238.34764001750247,214.78850637983825,196.73879577760823,182.43891594732438,170.81225994567708,161.16157937979574,153.0146257445508,146.03973172799382,139.9968707739967,134.7078975193692,130.03771591234656,125.88195253787077,122.15865000869108,118.80252608155305,115.76091698734511,112.990854021002,110.45691959191237,108.12965000762794,105.98432857150428,104.0000618034658,102.15906402679298,100.44609734378585,98.8480289052246,97.35347771032774,95.95253045223437,94.63651112086066],\"yaxis\":\"y\",\"type\":\"scatter\"},{\"fillpattern\":{\"shape\":\"\"},\"hovertemplate\":\"cohort=2024-03-01<br>date=%{x}<br>active users=%{y}<extra></extra>\",\"legendgroup\":\"2024-03-01\",\"line\":{\"color\":\"rgb(225, 124, 5)\"},\"marker\":{\"symbol\":\"circle\"},\"mode\":\"lines\",\"name\":\"2024-03-01\",\"orientation\":\"v\",\"showlegend\":true,\"stackgroup\":\"1\",\"x\":[\"2023-09-01\",\"2023-10-01\",\"2023-11-01\",\"2023-12-01\",\"2024-01-01\",\"2024-02-01\",\"2024-03-01\",\"2024-04-01\",\"2024-05-01\",\"2024-06-01\",\"2024-07-01\",\"2024-08-01\",\"2024-09-01\",\"2024-10-01\",\"2024-11-01\",\"2024-12-01\",\"2025-01-01\",\"2025-02-01\",\"2025-03-01\",\"2025-04-01\",\"2025-05-01\",\"2025-06-01\",\"2025-07-01\",\"2025-08-01\",\"2025-09-01\",\"2025-10-01\",\"2025-11-01\",\"2025-12-01\",\"2026-01-01\",\"2026-02-01\",\"2026-03-01\",\"2026-04-01\",\"2026-05-01\",\"2026-06-01\",\"2026-07-01\",\"2026-08-01\"],\"xaxis\":\"x\",\"y\":[null,null,null,null,null,null,1000.0,537.1794871794873,392.61857515225853,317.3434406359527,270.5152464274289,238.34764001750247,214.78850637983825,196.73879577760823,182.43891594732438,170.81225994567708,161.16157937979574,153.0146257445508,146.03973172799382,139.9968707739967,134.7078975193692,130.03771591234656,125.88195253787077,122.15865000869108,118.80252608155305,115.76091698734511,112.990854021002,110.45691959191237,108.12965000762794,105.98432857150428,104.0000618034658,102.15906402679298,100.44609734378585,98.8480289052246,97.35347771032774,95.95253045223437],\"yaxis\":\"y\",\"type\":\"scatter\"},{\"fillpattern\":{\"shape\":\"\"},\"hovertemplate\":\"cohort=2024-04-01<br>date=%{x}<br>active users=%{y}<extra></extra>\",\"legendgroup\":\"2024-04-01\",\"line\":{\"color\":\"rgb(204, 80, 62)\"},\"marker\":{\"symbol\":\"circle\"},\"mode\":\"lines\",\"name\":\"2024-04-01\",\"orientation\":\"v\",\"showlegend\":true,\"stackgroup\":\"1\",\"x\":[\"2023-09-01\",\"2023-10-01\",\"2023-11-01\",\"2023-12-01\",\"2024-01-01\",\"2024-02-01\",\"2024-03-01\",\"2024-04-01\",\"2024-05-01\",\"2024-06-01\",\"2024-07-01\",\"2024-08-01\",\"2024-09-01\",\"2024-10-01\",\"2024-11-01\",\"2024-12-01\",\"2025-01-01\",\"2025-02-01\",\"2025-03-01\",\"2025-04-01\",\"2025-05-01\",\"2025-06-01\",\"2025-07-01\",\"2025-08-01\",\"2025-09-01\",\"2025-10-01\",\"2025-11-01\",\"2025-12-01\",\"2026-01-01\",\"2026-02-01\",\"2026-03-01\",\"2026-04-01\",\"2026-05-01\",\"2026-06-01\",\"2026-07-01\",\"2026-08-01\"],\"xaxis\":\"x\",\"y\":[null,null,null,null,null,null,null,1000.0,537.1794871794873,392.61857515225853,317.3434406359527,270.5152464274289,238.34764001750247,214.78850637983825,196.73879577760823,182.43891594732438,170.81225994567708,161.16157937979574,153.0146257445508,146.03973172799382,139.9968707739967,134.7078975193692,130.03771591234656,125.88195253787077,122.15865000869108,118.80252608155305,115.76091698734511,112.990854021002,110.45691959191237,108.12965000762794,105.98432857150428,104.0000618034658,102.15906402679298,100.44609734378585,98.8480289052246,97.35347771032774],\"yaxis\":\"y\",\"type\":\"scatter\"},{\"fillpattern\":{\"shape\":\"\"},\"hovertemplate\":\"cohort=2024-05-01<br>date=%{x}<br>active users=%{y}<extra></extra>\",\"legendgroup\":\"2024-05-01\",\"line\":{\"color\":\"rgb(148, 52, 110)\"},\"marker\":{\"symbol\":\"circle\"},\"mode\":\"lines\",\"name\":\"2024-05-01\",\"orientation\":\"v\",\"showlegend\":true,\"stackgroup\":\"1\",\"x\":[\"2023-09-01\",\"2023-10-01\",\"2023-11-01\",\"2023-12-01\",\"2024-01-01\",\"2024-02-01\",\"2024-03-01\",\"2024-04-01\",\"2024-05-01\",\"2024-06-01\",\"2024-07-01\",\"2024-08-01\",\"2024-09-01\",\"2024-10-01\",\"2024-11-01\",\"2024-12-01\",\"2025-01-01\",\"2025-02-01\",\"2025-03-01\",\"2025-04-01\",\"2025-05-01\",\"2025-06-01\",\"2025-07-01\",\"2025-08-01\",\"2025-09-01\",\"2025-10-01\",\"2025-11-01\",\"2025-12-01\",\"2026-01-01\",\"2026-02-01\",\"2026-03-01\",\"2026-04-01\",\"2026-05-01\",\"2026-06-01\",\"2026-07-01\",\"2026-08-01\"],\"xaxis\":\"x\",\"y\":[null,null,null,null,null,null,null,null,1000.0,537.1794871794873,392.61857515225853,317.3434406359527,270.5152464274289,238.34764001750247,214.78850637983825,196.73879577760823,182.43891594732438,170.81225994567708,161.16157937979574,153.0146257445508,146.03973172799382,139.9968707739967,134.7078975193692,130.03771591234656,125.88195253787077,122.15865000869108,118.80252608155305,115.76091698734511,112.990854021002,110.45691959191237,108.12965000762794,105.98432857150428,104.0000618034658,102.15906402679298,100.44609734378585,98.8480289052246],\"yaxis\":\"y\",\"type\":\"scatter\"},{\"fillpattern\":{\"shape\":\"\"},\"hovertemplate\":\"cohort=2024-06-01<br>date=%{x}<br>active users=%{y}<extra></extra>\",\"legendgroup\":\"2024-06-01\",\"line\":{\"color\":\"rgb(111, 64, 112)\"},\"marker\":{\"symbol\":\"circle\"},\"mode\":\"lines\",\"name\":\"2024-06-01\",\"orientation\":\"v\",\"showlegend\":true,\"stackgroup\":\"1\",\"x\":[\"2023-09-01\",\"2023-10-01\",\"2023-11-01\",\"2023-12-01\",\"2024-01-01\",\"2024-02-01\",\"2024-03-01\",\"2024-04-01\",\"2024-05-01\",\"2024-06-01\",\"2024-07-01\",\"2024-08-01\",\"2024-09-01\",\"2024-10-01\",\"2024-11-01\",\"2024-12-01\",\"2025-01-01\",\"2025-02-01\",\"2025-03-01\",\"2025-04-01\",\"2025-05-01\",\"2025-06-01\",\"2025-07-01\",\"2025-08-01\",\"2025-09-01\",\"2025-10-01\",\"2025-11-01\",\"2025-12-01\",\"2026-01-01\",\"2026-02-01\",\"2026-03-01\",\"2026-04-01\",\"2026-05-01\",\"2026-06-01\",\"2026-07-01\",\"2026-08-01\"],\"xaxis\":\"x\",\"y\":[null,null,null,null,null,null,null,null,null,1000.0,537.1794871794873,392.61857515225853,317.3434406359527,270.5152464274289,238.34764001750247,214.78850637983825,196.73879577760823,182.43891594732438,170.81225994567708,161.16157937979574,153.0146257445508,146.03973172799382,139.9968707739967,134.7078975193692,130.03771591234656,125.88195253787077,122.15865000869108,118.80252608155305,115.76091698734511,112.990854021002,110.45691959191237,108.12965000762794,105.98432857150428,104.0000618034658,102.15906402679298,100.44609734378585],\"yaxis\":\"y\",\"type\":\"scatter\"},{\"fillpattern\":{\"shape\":\"\"},\"hovertemplate\":\"cohort=2024-07-01<br>date=%{x}<br>active users=%{y}<extra></extra>\",\"legendgroup\":\"2024-07-01\",\"line\":{\"color\":\"rgb(102, 102, 102)\"},\"marker\":{\"symbol\":\"circle\"},\"mode\":\"lines\",\"name\":\"2024-07-01\",\"orientation\":\"v\",\"showlegend\":true,\"stackgroup\":\"1\",\"x\":[\"2023-09-01\",\"2023-10-01\",\"2023-11-01\",\"2023-12-01\",\"2024-01-01\",\"2024-02-01\",\"2024-03-01\",\"2024-04-01\",\"2024-05-01\",\"2024-06-01\",\"2024-07-01\",\"2024-08-01\",\"2024-09-01\",\"2024-10-01\",\"2024-11-01\",\"2024-12-01\",\"2025-01-01\",\"2025-02-01\",\"2025-03-01\",\"2025-04-01\",\"2025-05-01\",\"2025-06-01\",\"2025-07-01\",\"2025-08-01\",\"2025-09-01\",\"2025-10-01\",\"2025-11-01\",\"2025-12-01\",\"2026-01-01\",\"2026-02-01\",\"2026-03-01\",\"2026-04-01\",\"2026-05-01\",\"2026-06-01\",\"2026-07-01\",\"2026-08-01\"],\"xaxis\":\"x\",\"y\":[null,null,null,null,null,null,null,null,null,null,1000.0,537.1794871794873,392.61857515225853,317.3434406359527,270.5152464274289,238.34764001750247,214.78850637983825,196.73879577760823,182.43891594732438,170.81225994567708,161.16157937979574,153.0146257445508,146.03973172799382,139.9968707739967,134.7078975193692,130.03771591234656,125.88195253787077,122.15865000869108,118.80252608155305,115.76091698734511,112.990854021002,110.45691959191237,108.12965000762794,105.98432857150428,104.0000618034658,102.15906402679298],\"yaxis\":\"y\",\"type\":\"scatter\"},{\"fillpattern\":{\"shape\":\"\"},\"hovertemplate\":\"cohort=2024-08-01<br>date=%{x}<br>active users=%{y}<extra></extra>\",\"legendgroup\":\"2024-08-01\",\"line\":{\"color\":\"rgb(95, 70, 144)\"},\"marker\":{\"symbol\":\"circle\"},\"mode\":\"lines\",\"name\":\"2024-08-01\",\"orientation\":\"v\",\"showlegend\":true,\"stackgroup\":\"1\",\"x\":[\"2023-09-01\",\"2023-10-01\",\"2023-11-01\",\"2023-12-01\",\"2024-01-01\",\"2024-02-01\",\"2024-03-01\",\"2024-04-01\",\"2024-05-01\",\"2024-06-01\",\"2024-07-01\",\"2024-08-01\",\"2024-09-01\",\"2024-10-01\",\"2024-11-01\",\"2024-12-01\",\"2025-01-01\",\"2025-02-01\",\"2025-03-01\",\"2025-04-01\",\"2025-05-01\",\"2025-06-01\",\"2025-07-01\",\"2025-08-01\",\"2025-09-01\",\"2025-10-01\",\"2025-11-01\",\"2025-12-01\",\"2026-01-01\",\"2026-02-01\",\"2026-03-01\",\"2026-04-01\",\"2026-05-01\",\"2026-06-01\",\"2026-07-01\",\"2026-08-01\"],\"xaxis\":\"x\",\"y\":[null,null,null,null,null,null,null,null,null,null,null,1000.0,537.1794871794873,392.61857515225853,317.3434406359527,270.5152464274289,238.34764001750247,214.78850637983825,196.73879577760823,182.43891594732438,170.81225994567708,161.16157937979574,153.0146257445508,146.03973172799382,139.9968707739967,134.7078975193692,130.03771591234656,125.88195253787077,122.15865000869108,118.80252608155305,115.76091698734511,112.990854021002,110.45691959191237,108.12965000762794,105.98432857150428,104.0000618034658],\"yaxis\":\"y\",\"type\":\"scatter\"},{\"fillpattern\":{\"shape\":\"\"},\"hovertemplate\":\"cohort=2024-09-01<br>date=%{x}<br>active users=%{y}<extra></extra>\",\"legendgroup\":\"2024-09-01\",\"line\":{\"color\":\"rgb(29, 105, 150)\"},\"marker\":{\"symbol\":\"circle\"},\"mode\":\"lines\",\"name\":\"2024-09-01\",\"orientation\":\"v\",\"showlegend\":true,\"stackgroup\":\"1\",\"x\":[\"2023-09-01\",\"2023-10-01\",\"2023-11-01\",\"2023-12-01\",\"2024-01-01\",\"2024-02-01\",\"2024-03-01\",\"2024-04-01\",\"2024-05-01\",\"2024-06-01\",\"2024-07-01\",\"2024-08-01\",\"2024-09-01\",\"2024-10-01\",\"2024-11-01\",\"2024-12-01\",\"2025-01-01\",\"2025-02-01\",\"2025-03-01\",\"2025-04-01\",\"2025-05-01\",\"2025-06-01\",\"2025-07-01\",\"2025-08-01\",\"2025-09-01\",\"2025-10-01\",\"2025-11-01\",\"2025-12-01\",\"2026-01-01\",\"2026-02-01\",\"2026-03-01\",\"2026-04-01\",\"2026-05-01\",\"2026-06-01\",\"2026-07-01\",\"2026-08-01\"],\"xaxis\":\"x\",\"y\":[null,null,null,null,null,null,null,null,null,null,null,null,1000.0,537.1794871794873,392.61857515225853,317.3434406359527,270.5152464274289,238.34764001750247,214.78850637983825,196.73879577760823,182.43891594732438,170.81225994567708,161.16157937979574,153.0146257445508,146.03973172799382,139.9968707739967,134.7078975193692,130.03771591234656,125.88195253787077,122.15865000869108,118.80252608155305,115.76091698734511,112.990854021002,110.45691959191237,108.12965000762794,105.98432857150428],\"yaxis\":\"y\",\"type\":\"scatter\"},{\"fillpattern\":{\"shape\":\"\"},\"hovertemplate\":\"cohort=2024-10-01<br>date=%{x}<br>active users=%{y}<extra></extra>\",\"legendgroup\":\"2024-10-01\",\"line\":{\"color\":\"rgb(56, 166, 165)\"},\"marker\":{\"symbol\":\"circle\"},\"mode\":\"lines\",\"name\":\"2024-10-01\",\"orientation\":\"v\",\"showlegend\":true,\"stackgroup\":\"1\",\"x\":[\"2023-09-01\",\"2023-10-01\",\"2023-11-01\",\"2023-12-01\",\"2024-01-01\",\"2024-02-01\",\"2024-03-01\",\"2024-04-01\",\"2024-05-01\",\"2024-06-01\",\"2024-07-01\",\"2024-08-01\",\"2024-09-01\",\"2024-10-01\",\"2024-11-01\",\"2024-12-01\",\"2025-01-01\",\"2025-02-01\",\"2025-03-01\",\"2025-04-01\",\"2025-05-01\",\"2025-06-01\",\"2025-07-01\",\"2025-08-01\",\"2025-09-01\",\"2025-10-01\",\"2025-11-01\",\"2025-12-01\",\"2026-01-01\",\"2026-02-01\",\"2026-03-01\",\"2026-04-01\",\"2026-05-01\",\"2026-06-01\",\"2026-07-01\",\"2026-08-01\"],\"xaxis\":\"x\",\"y\":[null,null,null,null,null,null,null,null,null,null,null,null,null,1000.0,537.1794871794873,392.61857515225853,317.3434406359527,270.5152464274289,238.34764001750247,214.78850637983825,196.73879577760823,182.43891594732438,170.81225994567708,161.16157937979574,153.0146257445508,146.03973172799382,139.9968707739967,134.7078975193692,130.03771591234656,125.88195253787077,122.15865000869108,118.80252608155305,115.76091698734511,112.990854021002,110.45691959191237,108.12965000762794],\"yaxis\":\"y\",\"type\":\"scatter\"},{\"fillpattern\":{\"shape\":\"\"},\"hovertemplate\":\"cohort=2024-11-01<br>date=%{x}<br>active users=%{y}<extra></extra>\",\"legendgroup\":\"2024-11-01\",\"line\":{\"color\":\"rgb(15, 133, 84)\"},\"marker\":{\"symbol\":\"circle\"},\"mode\":\"lines\",\"name\":\"2024-11-01\",\"orientation\":\"v\",\"showlegend\":true,\"stackgroup\":\"1\",\"x\":[\"2023-09-01\",\"2023-10-01\",\"2023-11-01\",\"2023-12-01\",\"2024-01-01\",\"2024-02-01\",\"2024-03-01\",\"2024-04-01\",\"2024-05-01\",\"2024-06-01\",\"2024-07-01\",\"2024-08-01\",\"2024-09-01\",\"2024-10-01\",\"2024-11-01\",\"2024-12-01\",\"2025-01-01\",\"2025-02-01\",\"2025-03-01\",\"2025-04-01\",\"2025-05-01\",\"2025-06-01\",\"2025-07-01\",\"2025-08-01\",\"2025-09-01\",\"2025-10-01\",\"2025-11-01\",\"2025-12-01\",\"2026-01-01\",\"2026-02-01\",\"2026-03-01\",\"2026-04-01\",\"2026-05-01\",\"2026-06-01\",\"2026-07-01\",\"2026-08-01\"],\"xaxis\":\"x\",\"y\":[null,null,null,null,null,null,null,null,null,null,null,null,null,null,1000.0,537.1794871794873,392.61857515225853,317.3434406359527,270.5152464274289,238.34764001750247,214.78850637983825,196.73879577760823,182.43891594732438,170.81225994567708,161.16157937979574,153.0146257445508,146.03973172799382,139.9968707739967,134.7078975193692,130.03771591234656,125.88195253787077,122.15865000869108,118.80252608155305,115.76091698734511,112.990854021002,110.45691959191237],\"yaxis\":\"y\",\"type\":\"scatter\"},{\"fillpattern\":{\"shape\":\"\"},\"hovertemplate\":\"cohort=2024-12-01<br>date=%{x}<br>active users=%{y}<extra></extra>\",\"legendgroup\":\"2024-12-01\",\"line\":{\"color\":\"rgb(115, 175, 72)\"},\"marker\":{\"symbol\":\"circle\"},\"mode\":\"lines\",\"name\":\"2024-12-01\",\"orientation\":\"v\",\"showlegend\":true,\"stackgroup\":\"1\",\"x\":[\"2023-09-01\",\"2023-10-01\",\"2023-11-01\",\"2023-12-01\",\"2024-01-01\",\"2024-02-01\",\"2024-03-01\",\"2024-04-01\",\"2024-05-01\",\"2024-06-01\",\"2024-07-01\",\"2024-08-01\",\"2024-09-01\",\"2024-10-01\",\"2024-11-01\",\"2024-12-01\",\"2025-01-01\",\"2025-02-01\",\"2025-03-01\",\"2025-04-01\",\"2025-05-01\",\"2025-06-01\",\"2025-07-01\",\"2025-08-01\",\"2025-09-01\",\"2025-10-01\",\"2025-11-01\",\"2025-12-01\",\"2026-01-01\",\"2026-02-01\",\"2026-03-01\",\"2026-04-01\",\"2026-05-01\",\"2026-06-01\",\"2026-07-01\",\"2026-08-01\"],\"xaxis\":\"x\",\"y\":[null,null,null,null,null,null,null,null,null,null,null,null,null,null,null,1000.0,537.1794871794873,392.61857515225853,317.3434406359527,270.5152464274289,238.34764001750247,214.78850637983825,196.73879577760823,182.43891594732438,170.81225994567708,161.16157937979574,153.0146257445508,146.03973172799382,139.9968707739967,134.7078975193692,130.03771591234656,125.88195253787077,122.15865000869108,118.80252608155305,115.76091698734511,112.990854021002],\"yaxis\":\"y\",\"type\":\"scatter\"},{\"fillpattern\":{\"shape\":\"\"},\"hovertemplate\":\"cohort=2025-01-01<br>date=%{x}<br>active users=%{y}<extra></extra>\",\"legendgroup\":\"2025-01-01\",\"line\":{\"color\":\"rgb(237, 173, 8)\"},\"marker\":{\"symbol\":\"circle\"},\"mode\":\"lines\",\"name\":\"2025-01-01\",\"orientation\":\"v\",\"showlegend\":true,\"stackgroup\":\"1\",\"x\":[\"2023-09-01\",\"2023-10-01\",\"2023-11-01\",\"2023-12-01\",\"2024-01-01\",\"2024-02-01\",\"2024-03-01\",\"2024-04-01\",\"2024-05-01\",\"2024-06-01\",\"2024-07-01\",\"2024-08-01\",\"2024-09-01\",\"2024-10-01\",\"2024-11-01\",\"2024-12-01\",\"2025-01-01\",\"2025-02-01\",\"2025-03-01\",\"2025-04-01\",\"2025-05-01\",\"2025-06-01\",\"2025-07-01\",\"2025-08-01\",\"2025-09-01\",\"2025-10-01\",\"2025-11-01\",\"2025-12-01\",\"2026-01-01\",\"2026-02-01\",\"2026-03-01\",\"2026-04-01\",\"2026-05-01\",\"2026-06-01\",\"2026-07-01\",\"2026-08-01\"],\"xaxis\":\"x\",\"y\":[null,null,null,null,null,null,null,null,null,null,null,null,null,null,null,null,1000.0,537.1794871794873,392.61857515225853,317.3434406359527,270.5152464274289,238.34764001750247,214.78850637983825,196.73879577760823,182.43891594732438,170.81225994567708,161.16157937979574,153.0146257445508,146.03973172799382,139.9968707739967,134.7078975193692,130.03771591234656,125.88195253787077,122.15865000869108,118.80252608155305,115.76091698734511],\"yaxis\":\"y\",\"type\":\"scatter\"},{\"fillpattern\":{\"shape\":\"\"},\"hovertemplate\":\"cohort=2025-02-01<br>date=%{x}<br>active users=%{y}<extra></extra>\",\"legendgroup\":\"2025-02-01\",\"line\":{\"color\":\"rgb(225, 124, 5)\"},\"marker\":{\"symbol\":\"circle\"},\"mode\":\"lines\",\"name\":\"2025-02-01\",\"orientation\":\"v\",\"showlegend\":true,\"stackgroup\":\"1\",\"x\":[\"2023-09-01\",\"2023-10-01\",\"2023-11-01\",\"2023-12-01\",\"2024-01-01\",\"2024-02-01\",\"2024-03-01\",\"2024-04-01\",\"2024-05-01\",\"2024-06-01\",\"2024-07-01\",\"2024-08-01\",\"2024-09-01\",\"2024-10-01\",\"2024-11-01\",\"2024-12-01\",\"2025-01-01\",\"2025-02-01\",\"2025-03-01\",\"2025-04-01\",\"2025-05-01\",\"2025-06-01\",\"2025-07-01\",\"2025-08-01\",\"2025-09-01\",\"2025-10-01\",\"2025-11-01\",\"2025-12-01\",\"2026-01-01\",\"2026-02-01\",\"2026-03-01\",\"2026-04-01\",\"2026-05-01\",\"2026-06-01\",\"2026-07-01\",\"2026-08-01\"],\"xaxis\":\"x\",\"y\":[null,null,null,null,null,null,null,null,null,null,null,null,null,null,null,null,null,1000.0,537.1794871794873,392.61857515225853,317.3434406359527,270.5152464274289,238.34764001750247,214.78850637983825,196.73879577760823,182.43891594732438,170.81225994567708,161.16157937979574,153.0146257445508,146.03973172799382,139.9968707739967,134.7078975193692,130.03771591234656,125.88195253787077,122.15865000869108,118.80252608155305],\"yaxis\":\"y\",\"type\":\"scatter\"},{\"fillpattern\":{\"shape\":\"\"},\"hovertemplate\":\"cohort=2025-03-01<br>date=%{x}<br>active users=%{y}<extra></extra>\",\"legendgroup\":\"2025-03-01\",\"line\":{\"color\":\"rgb(204, 80, 62)\"},\"marker\":{\"symbol\":\"circle\"},\"mode\":\"lines\",\"name\":\"2025-03-01\",\"orientation\":\"v\",\"showlegend\":true,\"stackgroup\":\"1\",\"x\":[\"2023-09-01\",\"2023-10-01\",\"2023-11-01\",\"2023-12-01\",\"2024-01-01\",\"2024-02-01\",\"2024-03-01\",\"2024-04-01\",\"2024-05-01\",\"2024-06-01\",\"2024-07-01\",\"2024-08-01\",\"2024-09-01\",\"2024-10-01\",\"2024-11-01\",\"2024-12-01\",\"2025-01-01\",\"2025-02-01\",\"2025-03-01\",\"2025-04-01\",\"2025-05-01\",\"2025-06-01\",\"2025-07-01\",\"2025-08-01\",\"2025-09-01\",\"2025-10-01\",\"2025-11-01\",\"2025-12-01\",\"2026-01-01\",\"2026-02-01\",\"2026-03-01\",\"2026-04-01\",\"2026-05-01\",\"2026-06-01\",\"2026-07-01\",\"2026-08-01\"],\"xaxis\":\"x\",\"y\":[null,null,null,null,null,null,null,null,null,null,null,null,null,null,null,null,null,null,1000.0,537.1794871794873,392.61857515225853,317.3434406359527,270.5152464274289,238.34764001750247,214.78850637983825,196.73879577760823,182.43891594732438,170.81225994567708,161.16157937979574,153.0146257445508,146.03973172799382,139.9968707739967,134.7078975193692,130.03771591234656,125.88195253787077,122.15865000869108],\"yaxis\":\"y\",\"type\":\"scatter\"},{\"fillpattern\":{\"shape\":\"\"},\"hovertemplate\":\"cohort=2025-04-01<br>date=%{x}<br>active users=%{y}<extra></extra>\",\"legendgroup\":\"2025-04-01\",\"line\":{\"color\":\"rgb(148, 52, 110)\"},\"marker\":{\"symbol\":\"circle\"},\"mode\":\"lines\",\"name\":\"2025-04-01\",\"orientation\":\"v\",\"showlegend\":true,\"stackgroup\":\"1\",\"x\":[\"2023-09-01\",\"2023-10-01\",\"2023-11-01\",\"2023-12-01\",\"2024-01-01\",\"2024-02-01\",\"2024-03-01\",\"2024-04-01\",\"2024-05-01\",\"2024-06-01\",\"2024-07-01\",\"2024-08-01\",\"2024-09-01\",\"2024-10-01\",\"2024-11-01\",\"2024-12-01\",\"2025-01-01\",\"2025-02-01\",\"2025-03-01\",\"2025-04-01\",\"2025-05-01\",\"2025-06-01\",\"2025-07-01\",\"2025-08-01\",\"2025-09-01\",\"2025-10-01\",\"2025-11-01\",\"2025-12-01\",\"2026-01-01\",\"2026-02-01\",\"2026-03-01\",\"2026-04-01\",\"2026-05-01\",\"2026-06-01\",\"2026-07-01\",\"2026-08-01\"],\"xaxis\":\"x\",\"y\":[null,null,null,null,null,null,null,null,null,null,null,null,null,null,null,null,null,null,null,1000.0,537.1794871794873,392.61857515225853,317.3434406359527,270.5152464274289,238.34764001750247,214.78850637983825,196.73879577760823,182.43891594732438,170.81225994567708,161.16157937979574,153.0146257445508,146.03973172799382,139.9968707739967,134.7078975193692,130.03771591234656,125.88195253787077],\"yaxis\":\"y\",\"type\":\"scatter\"},{\"fillpattern\":{\"shape\":\"\"},\"hovertemplate\":\"cohort=2025-05-01<br>date=%{x}<br>active users=%{y}<extra></extra>\",\"legendgroup\":\"2025-05-01\",\"line\":{\"color\":\"rgb(111, 64, 112)\"},\"marker\":{\"symbol\":\"circle\"},\"mode\":\"lines\",\"name\":\"2025-05-01\",\"orientation\":\"v\",\"showlegend\":true,\"stackgroup\":\"1\",\"x\":[\"2023-09-01\",\"2023-10-01\",\"2023-11-01\",\"2023-12-01\",\"2024-01-01\",\"2024-02-01\",\"2024-03-01\",\"2024-04-01\",\"2024-05-01\",\"2024-06-01\",\"2024-07-01\",\"2024-08-01\",\"2024-09-01\",\"2024-10-01\",\"2024-11-01\",\"2024-12-01\",\"2025-01-01\",\"2025-02-01\",\"2025-03-01\",\"2025-04-01\",\"2025-05-01\",\"2025-06-01\",\"2025-07-01\",\"2025-08-01\",\"2025-09-01\",\"2025-10-01\",\"2025-11-01\",\"2025-12-01\",\"2026-01-01\",\"2026-02-01\",\"2026-03-01\",\"2026-04-01\",\"2026-05-01\",\"2026-06-01\",\"2026-07-01\",\"2026-08-01\"],\"xaxis\":\"x\",\"y\":[null,null,null,null,null,null,null,null,null,null,null,null,null,null,null,null,null,null,null,null,1000.0,537.1794871794873,392.61857515225853,317.3434406359527,270.5152464274289,238.34764001750247,214.78850637983825,196.73879577760823,182.43891594732438,170.81225994567708,161.16157937979574,153.0146257445508,146.03973172799382,139.9968707739967,134.7078975193692,130.03771591234656],\"yaxis\":\"y\",\"type\":\"scatter\"},{\"fillpattern\":{\"shape\":\"\"},\"hovertemplate\":\"cohort=2025-06-01<br>date=%{x}<br>active users=%{y}<extra></extra>\",\"legendgroup\":\"2025-06-01\",\"line\":{\"color\":\"rgb(102, 102, 102)\"},\"marker\":{\"symbol\":\"circle\"},\"mode\":\"lines\",\"name\":\"2025-06-01\",\"orientation\":\"v\",\"showlegend\":true,\"stackgroup\":\"1\",\"x\":[\"2023-09-01\",\"2023-10-01\",\"2023-11-01\",\"2023-12-01\",\"2024-01-01\",\"2024-02-01\",\"2024-03-01\",\"2024-04-01\",\"2024-05-01\",\"2024-06-01\",\"2024-07-01\",\"2024-08-01\",\"2024-09-01\",\"2024-10-01\",\"2024-11-01\",\"2024-12-01\",\"2025-01-01\",\"2025-02-01\",\"2025-03-01\",\"2025-04-01\",\"2025-05-01\",\"2025-06-01\",\"2025-07-01\",\"2025-08-01\",\"2025-09-01\",\"2025-10-01\",\"2025-11-01\",\"2025-12-01\",\"2026-01-01\",\"2026-02-01\",\"2026-03-01\",\"2026-04-01\",\"2026-05-01\",\"2026-06-01\",\"2026-07-01\",\"2026-08-01\"],\"xaxis\":\"x\",\"y\":[null,null,null,null,null,null,null,null,null,null,null,null,null,null,null,null,null,null,null,null,null,1000.0,537.1794871794873,392.61857515225853,317.3434406359527,270.5152464274289,238.34764001750247,214.78850637983825,196.73879577760823,182.43891594732438,170.81225994567708,161.16157937979574,153.0146257445508,146.03973172799382,139.9968707739967,134.7078975193692],\"yaxis\":\"y\",\"type\":\"scatter\"},{\"fillpattern\":{\"shape\":\"\"},\"hovertemplate\":\"cohort=2025-07-01<br>date=%{x}<br>active users=%{y}<extra></extra>\",\"legendgroup\":\"2025-07-01\",\"line\":{\"color\":\"rgb(95, 70, 144)\"},\"marker\":{\"symbol\":\"circle\"},\"mode\":\"lines\",\"name\":\"2025-07-01\",\"orientation\":\"v\",\"showlegend\":true,\"stackgroup\":\"1\",\"x\":[\"2023-09-01\",\"2023-10-01\",\"2023-11-01\",\"2023-12-01\",\"2024-01-01\",\"2024-02-01\",\"2024-03-01\",\"2024-04-01\",\"2024-05-01\",\"2024-06-01\",\"2024-07-01\",\"2024-08-01\",\"2024-09-01\",\"2024-10-01\",\"2024-11-01\",\"2024-12-01\",\"2025-01-01\",\"2025-02-01\",\"2025-03-01\",\"2025-04-01\",\"2025-05-01\",\"2025-06-01\",\"2025-07-01\",\"2025-08-01\",\"2025-09-01\",\"2025-10-01\",\"2025-11-01\",\"2025-12-01\",\"2026-01-01\",\"2026-02-01\",\"2026-03-01\",\"2026-04-01\",\"2026-05-01\",\"2026-06-01\",\"2026-07-01\",\"2026-08-01\"],\"xaxis\":\"x\",\"y\":[null,null,null,null,null,null,null,null,null,null,null,null,null,null,null,null,null,null,null,null,null,null,1000.0,537.1794871794873,392.61857515225853,317.3434406359527,270.5152464274289,238.34764001750247,214.78850637983825,196.73879577760823,182.43891594732438,170.81225994567708,161.16157937979574,153.0146257445508,146.03973172799382,139.9968707739967],\"yaxis\":\"y\",\"type\":\"scatter\"},{\"fillpattern\":{\"shape\":\"\"},\"hovertemplate\":\"cohort=2025-08-01<br>date=%{x}<br>active users=%{y}<extra></extra>\",\"legendgroup\":\"2025-08-01\",\"line\":{\"color\":\"rgb(29, 105, 150)\"},\"marker\":{\"symbol\":\"circle\"},\"mode\":\"lines\",\"name\":\"2025-08-01\",\"orientation\":\"v\",\"showlegend\":true,\"stackgroup\":\"1\",\"x\":[\"2023-09-01\",\"2023-10-01\",\"2023-11-01\",\"2023-12-01\",\"2024-01-01\",\"2024-02-01\",\"2024-03-01\",\"2024-04-01\",\"2024-05-01\",\"2024-06-01\",\"2024-07-01\",\"2024-08-01\",\"2024-09-01\",\"2024-10-01\",\"2024-11-01\",\"2024-12-01\",\"2025-01-01\",\"2025-02-01\",\"2025-03-01\",\"2025-04-01\",\"2025-05-01\",\"2025-06-01\",\"2025-07-01\",\"2025-08-01\",\"2025-09-01\",\"2025-10-01\",\"2025-11-01\",\"2025-12-01\",\"2026-01-01\",\"2026-02-01\",\"2026-03-01\",\"2026-04-01\",\"2026-05-01\",\"2026-06-01\",\"2026-07-01\",\"2026-08-01\"],\"xaxis\":\"x\",\"y\":[null,null,null,null,null,null,null,null,null,null,null,null,null,null,null,null,null,null,null,null,null,null,null,1000.0,537.1794871794873,392.61857515225853,317.3434406359527,270.5152464274289,238.34764001750247,214.78850637983825,196.73879577760823,182.43891594732438,170.81225994567708,161.16157937979574,153.0146257445508,146.03973172799382],\"yaxis\":\"y\",\"type\":\"scatter\"},{\"fillpattern\":{\"shape\":\"\"},\"hovertemplate\":\"cohort=2025-09-01<br>date=%{x}<br>active users=%{y}<extra></extra>\",\"legendgroup\":\"2025-09-01\",\"line\":{\"color\":\"rgb(56, 166, 165)\"},\"marker\":{\"symbol\":\"circle\"},\"mode\":\"lines\",\"name\":\"2025-09-01\",\"orientation\":\"v\",\"showlegend\":true,\"stackgroup\":\"1\",\"x\":[\"2023-09-01\",\"2023-10-01\",\"2023-11-01\",\"2023-12-01\",\"2024-01-01\",\"2024-02-01\",\"2024-03-01\",\"2024-04-01\",\"2024-05-01\",\"2024-06-01\",\"2024-07-01\",\"2024-08-01\",\"2024-09-01\",\"2024-10-01\",\"2024-11-01\",\"2024-12-01\",\"2025-01-01\",\"2025-02-01\",\"2025-03-01\",\"2025-04-01\",\"2025-05-01\",\"2025-06-01\",\"2025-07-01\",\"2025-08-01\",\"2025-09-01\",\"2025-10-01\",\"2025-11-01\",\"2025-12-01\",\"2026-01-01\",\"2026-02-01\",\"2026-03-01\",\"2026-04-01\",\"2026-05-01\",\"2026-06-01\",\"2026-07-01\",\"2026-08-01\"],\"xaxis\":\"x\",\"y\":[null,null,null,null,null,null,null,null,null,null,null,null,null,null,null,null,null,null,null,null,null,null,null,null,1000.0,537.1794871794873,392.61857515225853,317.3434406359527,270.5152464274289,238.34764001750247,214.78850637983825,196.73879577760823,182.43891594732438,170.81225994567708,161.16157937979574,153.0146257445508],\"yaxis\":\"y\",\"type\":\"scatter\"},{\"fillpattern\":{\"shape\":\"\"},\"hovertemplate\":\"cohort=2025-10-01<br>date=%{x}<br>active users=%{y}<extra></extra>\",\"legendgroup\":\"2025-10-01\",\"line\":{\"color\":\"rgb(15, 133, 84)\"},\"marker\":{\"symbol\":\"circle\"},\"mode\":\"lines\",\"name\":\"2025-10-01\",\"orientation\":\"v\",\"showlegend\":true,\"stackgroup\":\"1\",\"x\":[\"2023-09-01\",\"2023-10-01\",\"2023-11-01\",\"2023-12-01\",\"2024-01-01\",\"2024-02-01\",\"2024-03-01\",\"2024-04-01\",\"2024-05-01\",\"2024-06-01\",\"2024-07-01\",\"2024-08-01\",\"2024-09-01\",\"2024-10-01\",\"2024-11-01\",\"2024-12-01\",\"2025-01-01\",\"2025-02-01\",\"2025-03-01\",\"2025-04-01\",\"2025-05-01\",\"2025-06-01\",\"2025-07-01\",\"2025-08-01\",\"2025-09-01\",\"2025-10-01\",\"2025-11-01\",\"2025-12-01\",\"2026-01-01\",\"2026-02-01\",\"2026-03-01\",\"2026-04-01\",\"2026-05-01\",\"2026-06-01\",\"2026-07-01\",\"2026-08-01\"],\"xaxis\":\"x\",\"y\":[null,null,null,null,null,null,null,null,null,null,null,null,null,null,null,null,null,null,null,null,null,null,null,null,null,1000.0,537.1794871794873,392.61857515225853,317.3434406359527,270.5152464274289,238.34764001750247,214.78850637983825,196.73879577760823,182.43891594732438,170.81225994567708,161.16157937979574],\"yaxis\":\"y\",\"type\":\"scatter\"},{\"fillpattern\":{\"shape\":\"\"},\"hovertemplate\":\"cohort=2025-11-01<br>date=%{x}<br>active users=%{y}<extra></extra>\",\"legendgroup\":\"2025-11-01\",\"line\":{\"color\":\"rgb(115, 175, 72)\"},\"marker\":{\"symbol\":\"circle\"},\"mode\":\"lines\",\"name\":\"2025-11-01\",\"orientation\":\"v\",\"showlegend\":true,\"stackgroup\":\"1\",\"x\":[\"2023-09-01\",\"2023-10-01\",\"2023-11-01\",\"2023-12-01\",\"2024-01-01\",\"2024-02-01\",\"2024-03-01\",\"2024-04-01\",\"2024-05-01\",\"2024-06-01\",\"2024-07-01\",\"2024-08-01\",\"2024-09-01\",\"2024-10-01\",\"2024-11-01\",\"2024-12-01\",\"2025-01-01\",\"2025-02-01\",\"2025-03-01\",\"2025-04-01\",\"2025-05-01\",\"2025-06-01\",\"2025-07-01\",\"2025-08-01\",\"2025-09-01\",\"2025-10-01\",\"2025-11-01\",\"2025-12-01\",\"2026-01-01\",\"2026-02-01\",\"2026-03-01\",\"2026-04-01\",\"2026-05-01\",\"2026-06-01\",\"2026-07-01\",\"2026-08-01\"],\"xaxis\":\"x\",\"y\":[null,null,null,null,null,null,null,null,null,null,null,null,null,null,null,null,null,null,null,null,null,null,null,null,null,null,1000.0,537.1794871794873,392.61857515225853,317.3434406359527,270.5152464274289,238.34764001750247,214.78850637983825,196.73879577760823,182.43891594732438,170.81225994567708],\"yaxis\":\"y\",\"type\":\"scatter\"},{\"fillpattern\":{\"shape\":\"\"},\"hovertemplate\":\"cohort=2025-12-01<br>date=%{x}<br>active users=%{y}<extra></extra>\",\"legendgroup\":\"2025-12-01\",\"line\":{\"color\":\"rgb(237, 173, 8)\"},\"marker\":{\"symbol\":\"circle\"},\"mode\":\"lines\",\"name\":\"2025-12-01\",\"orientation\":\"v\",\"showlegend\":true,\"stackgroup\":\"1\",\"x\":[\"2023-09-01\",\"2023-10-01\",\"2023-11-01\",\"2023-12-01\",\"2024-01-01\",\"2024-02-01\",\"2024-03-01\",\"2024-04-01\",\"2024-05-01\",\"2024-06-01\",\"2024-07-01\",\"2024-08-01\",\"2024-09-01\",\"2024-10-01\",\"2024-11-01\",\"2024-12-01\",\"2025-01-01\",\"2025-02-01\",\"2025-03-01\",\"2025-04-01\",\"2025-05-01\",\"2025-06-01\",\"2025-07-01\",\"2025-08-01\",\"2025-09-01\",\"2025-10-01\",\"2025-11-01\",\"2025-12-01\",\"2026-01-01\",\"2026-02-01\",\"2026-03-01\",\"2026-04-01\",\"2026-05-01\",\"2026-06-01\",\"2026-07-01\",\"2026-08-01\"],\"xaxis\":\"x\",\"y\":[null,null,null,null,null,null,null,null,null,null,null,null,null,null,null,null,null,null,null,null,null,null,null,null,null,null,null,1000.0,537.1794871794873,392.61857515225853,317.3434406359527,270.5152464274289,238.34764001750247,214.78850637983825,196.73879577760823,182.43891594732438],\"yaxis\":\"y\",\"type\":\"scatter\"},{\"fillpattern\":{\"shape\":\"\"},\"hovertemplate\":\"cohort=2026-01-01<br>date=%{x}<br>active users=%{y}<extra></extra>\",\"legendgroup\":\"2026-01-01\",\"line\":{\"color\":\"rgb(225, 124, 5)\"},\"marker\":{\"symbol\":\"circle\"},\"mode\":\"lines\",\"name\":\"2026-01-01\",\"orientation\":\"v\",\"showlegend\":true,\"stackgroup\":\"1\",\"x\":[\"2023-09-01\",\"2023-10-01\",\"2023-11-01\",\"2023-12-01\",\"2024-01-01\",\"2024-02-01\",\"2024-03-01\",\"2024-04-01\",\"2024-05-01\",\"2024-06-01\",\"2024-07-01\",\"2024-08-01\",\"2024-09-01\",\"2024-10-01\",\"2024-11-01\",\"2024-12-01\",\"2025-01-01\",\"2025-02-01\",\"2025-03-01\",\"2025-04-01\",\"2025-05-01\",\"2025-06-01\",\"2025-07-01\",\"2025-08-01\",\"2025-09-01\",\"2025-10-01\",\"2025-11-01\",\"2025-12-01\",\"2026-01-01\",\"2026-02-01\",\"2026-03-01\",\"2026-04-01\",\"2026-05-01\",\"2026-06-01\",\"2026-07-01\",\"2026-08-01\"],\"xaxis\":\"x\",\"y\":[null,null,null,null,null,null,null,null,null,null,null,null,null,null,null,null,null,null,null,null,null,null,null,null,null,null,null,null,1000.0,537.1794871794873,392.61857515225853,317.3434406359527,270.5152464274289,238.34764001750247,214.78850637983825,196.73879577760823],\"yaxis\":\"y\",\"type\":\"scatter\"},{\"fillpattern\":{\"shape\":\"\"},\"hovertemplate\":\"cohort=2026-02-01<br>date=%{x}<br>active users=%{y}<extra></extra>\",\"legendgroup\":\"2026-02-01\",\"line\":{\"color\":\"rgb(204, 80, 62)\"},\"marker\":{\"symbol\":\"circle\"},\"mode\":\"lines\",\"name\":\"2026-02-01\",\"orientation\":\"v\",\"showlegend\":true,\"stackgroup\":\"1\",\"x\":[\"2023-09-01\",\"2023-10-01\",\"2023-11-01\",\"2023-12-01\",\"2024-01-01\",\"2024-02-01\",\"2024-03-01\",\"2024-04-01\",\"2024-05-01\",\"2024-06-01\",\"2024-07-01\",\"2024-08-01\",\"2024-09-01\",\"2024-10-01\",\"2024-11-01\",\"2024-12-01\",\"2025-01-01\",\"2025-02-01\",\"2025-03-01\",\"2025-04-01\",\"2025-05-01\",\"2025-06-01\",\"2025-07-01\",\"2025-08-01\",\"2025-09-01\",\"2025-10-01\",\"2025-11-01\",\"2025-12-01\",\"2026-01-01\",\"2026-02-01\",\"2026-03-01\",\"2026-04-01\",\"2026-05-01\",\"2026-06-01\",\"2026-07-01\",\"2026-08-01\"],\"xaxis\":\"x\",\"y\":[null,null,null,null,null,null,null,null,null,null,null,null,null,null,null,null,null,null,null,null,null,null,null,null,null,null,null,null,null,1000.0,537.1794871794873,392.61857515225853,317.3434406359527,270.5152464274289,238.34764001750247,214.78850637983825],\"yaxis\":\"y\",\"type\":\"scatter\"},{\"fillpattern\":{\"shape\":\"\"},\"hovertemplate\":\"cohort=2026-03-01<br>date=%{x}<br>active users=%{y}<extra></extra>\",\"legendgroup\":\"2026-03-01\",\"line\":{\"color\":\"rgb(148, 52, 110)\"},\"marker\":{\"symbol\":\"circle\"},\"mode\":\"lines\",\"name\":\"2026-03-01\",\"orientation\":\"v\",\"showlegend\":true,\"stackgroup\":\"1\",\"x\":[\"2023-09-01\",\"2023-10-01\",\"2023-11-01\",\"2023-12-01\",\"2024-01-01\",\"2024-02-01\",\"2024-03-01\",\"2024-04-01\",\"2024-05-01\",\"2024-06-01\",\"2024-07-01\",\"2024-08-01\",\"2024-09-01\",\"2024-10-01\",\"2024-11-01\",\"2024-12-01\",\"2025-01-01\",\"2025-02-01\",\"2025-03-01\",\"2025-04-01\",\"2025-05-01\",\"2025-06-01\",\"2025-07-01\",\"2025-08-01\",\"2025-09-01\",\"2025-10-01\",\"2025-11-01\",\"2025-12-01\",\"2026-01-01\",\"2026-02-01\",\"2026-03-01\",\"2026-04-01\",\"2026-05-01\",\"2026-06-01\",\"2026-07-01\",\"2026-08-01\"],\"xaxis\":\"x\",\"y\":[null,null,null,null,null,null,null,null,null,null,null,null,null,null,null,null,null,null,null,null,null,null,null,null,null,null,null,null,null,null,1000.0,537.1794871794873,392.61857515225853,317.3434406359527,270.5152464274289,238.34764001750247],\"yaxis\":\"y\",\"type\":\"scatter\"},{\"fillpattern\":{\"shape\":\"\"},\"hovertemplate\":\"cohort=2026-04-01<br>date=%{x}<br>active users=%{y}<extra></extra>\",\"legendgroup\":\"2026-04-01\",\"line\":{\"color\":\"rgb(111, 64, 112)\"},\"marker\":{\"symbol\":\"circle\"},\"mode\":\"lines\",\"name\":\"2026-04-01\",\"orientation\":\"v\",\"showlegend\":true,\"stackgroup\":\"1\",\"x\":[\"2023-09-01\",\"2023-10-01\",\"2023-11-01\",\"2023-12-01\",\"2024-01-01\",\"2024-02-01\",\"2024-03-01\",\"2024-04-01\",\"2024-05-01\",\"2024-06-01\",\"2024-07-01\",\"2024-08-01\",\"2024-09-01\",\"2024-10-01\",\"2024-11-01\",\"2024-12-01\",\"2025-01-01\",\"2025-02-01\",\"2025-03-01\",\"2025-04-01\",\"2025-05-01\",\"2025-06-01\",\"2025-07-01\",\"2025-08-01\",\"2025-09-01\",\"2025-10-01\",\"2025-11-01\",\"2025-12-01\",\"2026-01-01\",\"2026-02-01\",\"2026-03-01\",\"2026-04-01\",\"2026-05-01\",\"2026-06-01\",\"2026-07-01\",\"2026-08-01\"],\"xaxis\":\"x\",\"y\":[null,null,null,null,null,null,null,null,null,null,null,null,null,null,null,null,null,null,null,null,null,null,null,null,null,null,null,null,null,null,null,1000.0,537.1794871794873,392.61857515225853,317.3434406359527,270.5152464274289],\"yaxis\":\"y\",\"type\":\"scatter\"},{\"fillpattern\":{\"shape\":\"\"},\"hovertemplate\":\"cohort=2026-05-01<br>date=%{x}<br>active users=%{y}<extra></extra>\",\"legendgroup\":\"2026-05-01\",\"line\":{\"color\":\"rgb(102, 102, 102)\"},\"marker\":{\"symbol\":\"circle\"},\"mode\":\"lines\",\"name\":\"2026-05-01\",\"orientation\":\"v\",\"showlegend\":true,\"stackgroup\":\"1\",\"x\":[\"2023-09-01\",\"2023-10-01\",\"2023-11-01\",\"2023-12-01\",\"2024-01-01\",\"2024-02-01\",\"2024-03-01\",\"2024-04-01\",\"2024-05-01\",\"2024-06-01\",\"2024-07-01\",\"2024-08-01\",\"2024-09-01\",\"2024-10-01\",\"2024-11-01\",\"2024-12-01\",\"2025-01-01\",\"2025-02-01\",\"2025-03-01\",\"2025-04-01\",\"2025-05-01\",\"2025-06-01\",\"2025-07-01\",\"2025-08-01\",\"2025-09-01\",\"2025-10-01\",\"2025-11-01\",\"2025-12-01\",\"2026-01-01\",\"2026-02-01\",\"2026-03-01\",\"2026-04-01\",\"2026-05-01\",\"2026-06-01\",\"2026-07-01\",\"2026-08-01\"],\"xaxis\":\"x\",\"y\":[null,null,null,null,null,null,null,null,null,null,null,null,null,null,null,null,null,null,null,null,null,null,null,null,null,null,null,null,null,null,null,null,1000.0,537.1794871794873,392.61857515225853,317.3434406359527],\"yaxis\":\"y\",\"type\":\"scatter\"},{\"fillpattern\":{\"shape\":\"\"},\"hovertemplate\":\"cohort=2026-06-01<br>date=%{x}<br>active users=%{y}<extra></extra>\",\"legendgroup\":\"2026-06-01\",\"line\":{\"color\":\"rgb(95, 70, 144)\"},\"marker\":{\"symbol\":\"circle\"},\"mode\":\"lines\",\"name\":\"2026-06-01\",\"orientation\":\"v\",\"showlegend\":true,\"stackgroup\":\"1\",\"x\":[\"2023-09-01\",\"2023-10-01\",\"2023-11-01\",\"2023-12-01\",\"2024-01-01\",\"2024-02-01\",\"2024-03-01\",\"2024-04-01\",\"2024-05-01\",\"2024-06-01\",\"2024-07-01\",\"2024-08-01\",\"2024-09-01\",\"2024-10-01\",\"2024-11-01\",\"2024-12-01\",\"2025-01-01\",\"2025-02-01\",\"2025-03-01\",\"2025-04-01\",\"2025-05-01\",\"2025-06-01\",\"2025-07-01\",\"2025-08-01\",\"2025-09-01\",\"2025-10-01\",\"2025-11-01\",\"2025-12-01\",\"2026-01-01\",\"2026-02-01\",\"2026-03-01\",\"2026-04-01\",\"2026-05-01\",\"2026-06-01\",\"2026-07-01\",\"2026-08-01\"],\"xaxis\":\"x\",\"y\":[null,null,null,null,null,null,null,null,null,null,null,null,null,null,null,null,null,null,null,null,null,null,null,null,null,null,null,null,null,null,null,null,null,1000.0,537.1794871794873,392.61857515225853],\"yaxis\":\"y\",\"type\":\"scatter\"},{\"fillpattern\":{\"shape\":\"\"},\"hovertemplate\":\"cohort=2026-07-01<br>date=%{x}<br>active users=%{y}<extra></extra>\",\"legendgroup\":\"2026-07-01\",\"line\":{\"color\":\"rgb(29, 105, 150)\"},\"marker\":{\"symbol\":\"circle\"},\"mode\":\"lines\",\"name\":\"2026-07-01\",\"orientation\":\"v\",\"showlegend\":true,\"stackgroup\":\"1\",\"x\":[\"2023-09-01\",\"2023-10-01\",\"2023-11-01\",\"2023-12-01\",\"2024-01-01\",\"2024-02-01\",\"2024-03-01\",\"2024-04-01\",\"2024-05-01\",\"2024-06-01\",\"2024-07-01\",\"2024-08-01\",\"2024-09-01\",\"2024-10-01\",\"2024-11-01\",\"2024-12-01\",\"2025-01-01\",\"2025-02-01\",\"2025-03-01\",\"2025-04-01\",\"2025-05-01\",\"2025-06-01\",\"2025-07-01\",\"2025-08-01\",\"2025-09-01\",\"2025-10-01\",\"2025-11-01\",\"2025-12-01\",\"2026-01-01\",\"2026-02-01\",\"2026-03-01\",\"2026-04-01\",\"2026-05-01\",\"2026-06-01\",\"2026-07-01\",\"2026-08-01\"],\"xaxis\":\"x\",\"y\":[null,null,null,null,null,null,null,null,null,null,null,null,null,null,null,null,null,null,null,null,null,null,null,null,null,null,null,null,null,null,null,null,null,null,1000.0,537.1794871794873],\"yaxis\":\"y\",\"type\":\"scatter\"},{\"fillpattern\":{\"shape\":\"\"},\"hovertemplate\":\"cohort=2026-08-01<br>date=%{x}<br>active users=%{y}<extra></extra>\",\"legendgroup\":\"2026-08-01\",\"line\":{\"color\":\"rgb(56, 166, 165)\"},\"marker\":{\"symbol\":\"circle\"},\"mode\":\"lines\",\"name\":\"2026-08-01\",\"orientation\":\"v\",\"showlegend\":true,\"stackgroup\":\"1\",\"x\":[\"2023-09-01\",\"2023-10-01\",\"2023-11-01\",\"2023-12-01\",\"2024-01-01\",\"2024-02-01\",\"2024-03-01\",\"2024-04-01\",\"2024-05-01\",\"2024-06-01\",\"2024-07-01\",\"2024-08-01\",\"2024-09-01\",\"2024-10-01\",\"2024-11-01\",\"2024-12-01\",\"2025-01-01\",\"2025-02-01\",\"2025-03-01\",\"2025-04-01\",\"2025-05-01\",\"2025-06-01\",\"2025-07-01\",\"2025-08-01\",\"2025-09-01\",\"2025-10-01\",\"2025-11-01\",\"2025-12-01\",\"2026-01-01\",\"2026-02-01\",\"2026-03-01\",\"2026-04-01\",\"2026-05-01\",\"2026-06-01\",\"2026-07-01\",\"2026-08-01\"],\"xaxis\":\"x\",\"y\":[null,null,null,null,null,null,null,null,null,null,null,null,null,null,null,null,null,null,null,null,null,null,null,null,null,null,null,null,null,null,null,null,null,null,null,1000.0],\"yaxis\":\"y\",\"type\":\"scatter\"}],                        {\"template\":{\"data\":{\"histogram2dcontour\":[{\"type\":\"histogram2dcontour\",\"colorbar\":{\"outlinewidth\":1,\"tickcolor\":\"rgb(36,36,36)\",\"ticks\":\"outside\"},\"colorscale\":[[0.0,\"#440154\"],[0.1111111111111111,\"#482878\"],[0.2222222222222222,\"#3e4989\"],[0.3333333333333333,\"#31688e\"],[0.4444444444444444,\"#26828e\"],[0.5555555555555556,\"#1f9e89\"],[0.6666666666666666,\"#35b779\"],[0.7777777777777778,\"#6ece58\"],[0.8888888888888888,\"#b5de2b\"],[1.0,\"#fde725\"]]}],\"choropleth\":[{\"type\":\"choropleth\",\"colorbar\":{\"outlinewidth\":1,\"tickcolor\":\"rgb(36,36,36)\",\"ticks\":\"outside\"}}],\"histogram2d\":[{\"type\":\"histogram2d\",\"colorbar\":{\"outlinewidth\":1,\"tickcolor\":\"rgb(36,36,36)\",\"ticks\":\"outside\"},\"colorscale\":[[0.0,\"#440154\"],[0.1111111111111111,\"#482878\"],[0.2222222222222222,\"#3e4989\"],[0.3333333333333333,\"#31688e\"],[0.4444444444444444,\"#26828e\"],[0.5555555555555556,\"#1f9e89\"],[0.6666666666666666,\"#35b779\"],[0.7777777777777778,\"#6ece58\"],[0.8888888888888888,\"#b5de2b\"],[1.0,\"#fde725\"]]}],\"heatmap\":[{\"type\":\"heatmap\",\"colorbar\":{\"outlinewidth\":1,\"tickcolor\":\"rgb(36,36,36)\",\"ticks\":\"outside\"},\"colorscale\":[[0.0,\"#440154\"],[0.1111111111111111,\"#482878\"],[0.2222222222222222,\"#3e4989\"],[0.3333333333333333,\"#31688e\"],[0.4444444444444444,\"#26828e\"],[0.5555555555555556,\"#1f9e89\"],[0.6666666666666666,\"#35b779\"],[0.7777777777777778,\"#6ece58\"],[0.8888888888888888,\"#b5de2b\"],[1.0,\"#fde725\"]]}],\"heatmapgl\":[{\"type\":\"heatmapgl\",\"colorbar\":{\"outlinewidth\":1,\"tickcolor\":\"rgb(36,36,36)\",\"ticks\":\"outside\"},\"colorscale\":[[0.0,\"#440154\"],[0.1111111111111111,\"#482878\"],[0.2222222222222222,\"#3e4989\"],[0.3333333333333333,\"#31688e\"],[0.4444444444444444,\"#26828e\"],[0.5555555555555556,\"#1f9e89\"],[0.6666666666666666,\"#35b779\"],[0.7777777777777778,\"#6ece58\"],[0.8888888888888888,\"#b5de2b\"],[1.0,\"#fde725\"]]}],\"contourcarpet\":[{\"type\":\"contourcarpet\",\"colorbar\":{\"outlinewidth\":1,\"tickcolor\":\"rgb(36,36,36)\",\"ticks\":\"outside\"}}],\"contour\":[{\"type\":\"contour\",\"colorbar\":{\"outlinewidth\":1,\"tickcolor\":\"rgb(36,36,36)\",\"ticks\":\"outside\"},\"colorscale\":[[0.0,\"#440154\"],[0.1111111111111111,\"#482878\"],[0.2222222222222222,\"#3e4989\"],[0.3333333333333333,\"#31688e\"],[0.4444444444444444,\"#26828e\"],[0.5555555555555556,\"#1f9e89\"],[0.6666666666666666,\"#35b779\"],[0.7777777777777778,\"#6ece58\"],[0.8888888888888888,\"#b5de2b\"],[1.0,\"#fde725\"]]}],\"surface\":[{\"type\":\"surface\",\"colorbar\":{\"outlinewidth\":1,\"tickcolor\":\"rgb(36,36,36)\",\"ticks\":\"outside\"},\"colorscale\":[[0.0,\"#440154\"],[0.1111111111111111,\"#482878\"],[0.2222222222222222,\"#3e4989\"],[0.3333333333333333,\"#31688e\"],[0.4444444444444444,\"#26828e\"],[0.5555555555555556,\"#1f9e89\"],[0.6666666666666666,\"#35b779\"],[0.7777777777777778,\"#6ece58\"],[0.8888888888888888,\"#b5de2b\"],[1.0,\"#fde725\"]]}],\"mesh3d\":[{\"type\":\"mesh3d\",\"colorbar\":{\"outlinewidth\":1,\"tickcolor\":\"rgb(36,36,36)\",\"ticks\":\"outside\"}}],\"scatter\":[{\"fillpattern\":{\"fillmode\":\"overlay\",\"size\":10,\"solidity\":0.2},\"type\":\"scatter\"}],\"parcoords\":[{\"type\":\"parcoords\",\"line\":{\"colorbar\":{\"outlinewidth\":1,\"tickcolor\":\"rgb(36,36,36)\",\"ticks\":\"outside\"}}}],\"scatterpolargl\":[{\"type\":\"scatterpolargl\",\"marker\":{\"colorbar\":{\"outlinewidth\":1,\"tickcolor\":\"rgb(36,36,36)\",\"ticks\":\"outside\"}}}],\"bar\":[{\"error_x\":{\"color\":\"rgb(36,36,36)\"},\"error_y\":{\"color\":\"rgb(36,36,36)\"},\"marker\":{\"line\":{\"color\":\"white\",\"width\":0.5},\"pattern\":{\"fillmode\":\"overlay\",\"size\":10,\"solidity\":0.2}},\"type\":\"bar\"}],\"scattergeo\":[{\"type\":\"scattergeo\",\"marker\":{\"colorbar\":{\"outlinewidth\":1,\"tickcolor\":\"rgb(36,36,36)\",\"ticks\":\"outside\"}}}],\"scatterpolar\":[{\"type\":\"scatterpolar\",\"marker\":{\"colorbar\":{\"outlinewidth\":1,\"tickcolor\":\"rgb(36,36,36)\",\"ticks\":\"outside\"}}}],\"histogram\":[{\"marker\":{\"line\":{\"color\":\"white\",\"width\":0.6}},\"type\":\"histogram\"}],\"scattergl\":[{\"type\":\"scattergl\",\"marker\":{\"colorbar\":{\"outlinewidth\":1,\"tickcolor\":\"rgb(36,36,36)\",\"ticks\":\"outside\"}}}],\"scatter3d\":[{\"type\":\"scatter3d\",\"line\":{\"colorbar\":{\"outlinewidth\":1,\"tickcolor\":\"rgb(36,36,36)\",\"ticks\":\"outside\"}},\"marker\":{\"colorbar\":{\"outlinewidth\":1,\"tickcolor\":\"rgb(36,36,36)\",\"ticks\":\"outside\"}}}],\"scattermapbox\":[{\"type\":\"scattermapbox\",\"marker\":{\"colorbar\":{\"outlinewidth\":1,\"tickcolor\":\"rgb(36,36,36)\",\"ticks\":\"outside\"}}}],\"scatterternary\":[{\"type\":\"scatterternary\",\"marker\":{\"colorbar\":{\"outlinewidth\":1,\"tickcolor\":\"rgb(36,36,36)\",\"ticks\":\"outside\"}}}],\"scattercarpet\":[{\"type\":\"scattercarpet\",\"marker\":{\"colorbar\":{\"outlinewidth\":1,\"tickcolor\":\"rgb(36,36,36)\",\"ticks\":\"outside\"}}}],\"carpet\":[{\"aaxis\":{\"endlinecolor\":\"rgb(36,36,36)\",\"gridcolor\":\"white\",\"linecolor\":\"white\",\"minorgridcolor\":\"white\",\"startlinecolor\":\"rgb(36,36,36)\"},\"baxis\":{\"endlinecolor\":\"rgb(36,36,36)\",\"gridcolor\":\"white\",\"linecolor\":\"white\",\"minorgridcolor\":\"white\",\"startlinecolor\":\"rgb(36,36,36)\"},\"type\":\"carpet\"}],\"table\":[{\"cells\":{\"fill\":{\"color\":\"rgb(237,237,237)\"},\"line\":{\"color\":\"white\"}},\"header\":{\"fill\":{\"color\":\"rgb(217,217,217)\"},\"line\":{\"color\":\"white\"}},\"type\":\"table\"}],\"barpolar\":[{\"marker\":{\"line\":{\"color\":\"white\",\"width\":0.5},\"pattern\":{\"fillmode\":\"overlay\",\"size\":10,\"solidity\":0.2}},\"type\":\"barpolar\"}],\"pie\":[{\"automargin\":true,\"type\":\"pie\"}]},\"layout\":{\"autotypenumbers\":\"strict\",\"colorway\":[\"#1F77B4\",\"#FF7F0E\",\"#2CA02C\",\"#D62728\",\"#9467BD\",\"#8C564B\",\"#E377C2\",\"#7F7F7F\",\"#BCBD22\",\"#17BECF\"],\"font\":{\"color\":\"rgb(36,36,36)\"},\"hovermode\":\"closest\",\"hoverlabel\":{\"align\":\"left\"},\"paper_bgcolor\":\"white\",\"plot_bgcolor\":\"white\",\"polar\":{\"bgcolor\":\"white\",\"angularaxis\":{\"gridcolor\":\"rgb(232,232,232)\",\"linecolor\":\"rgb(36,36,36)\",\"showgrid\":false,\"showline\":true,\"ticks\":\"outside\"},\"radialaxis\":{\"gridcolor\":\"rgb(232,232,232)\",\"linecolor\":\"rgb(36,36,36)\",\"showgrid\":false,\"showline\":true,\"ticks\":\"outside\"}},\"ternary\":{\"bgcolor\":\"white\",\"aaxis\":{\"gridcolor\":\"rgb(232,232,232)\",\"linecolor\":\"rgb(36,36,36)\",\"showgrid\":false,\"showline\":true,\"ticks\":\"outside\"},\"baxis\":{\"gridcolor\":\"rgb(232,232,232)\",\"linecolor\":\"rgb(36,36,36)\",\"showgrid\":false,\"showline\":true,\"ticks\":\"outside\"},\"caxis\":{\"gridcolor\":\"rgb(232,232,232)\",\"linecolor\":\"rgb(36,36,36)\",\"showgrid\":false,\"showline\":true,\"ticks\":\"outside\"}},\"coloraxis\":{\"colorbar\":{\"outlinewidth\":1,\"tickcolor\":\"rgb(36,36,36)\",\"ticks\":\"outside\"}},\"colorscale\":{\"sequential\":[[0.0,\"#440154\"],[0.1111111111111111,\"#482878\"],[0.2222222222222222,\"#3e4989\"],[0.3333333333333333,\"#31688e\"],[0.4444444444444444,\"#26828e\"],[0.5555555555555556,\"#1f9e89\"],[0.6666666666666666,\"#35b779\"],[0.7777777777777778,\"#6ece58\"],[0.8888888888888888,\"#b5de2b\"],[1.0,\"#fde725\"]],\"sequentialminus\":[[0.0,\"#440154\"],[0.1111111111111111,\"#482878\"],[0.2222222222222222,\"#3e4989\"],[0.3333333333333333,\"#31688e\"],[0.4444444444444444,\"#26828e\"],[0.5555555555555556,\"#1f9e89\"],[0.6666666666666666,\"#35b779\"],[0.7777777777777778,\"#6ece58\"],[0.8888888888888888,\"#b5de2b\"],[1.0,\"#fde725\"]],\"diverging\":[[0.0,\"rgb(103,0,31)\"],[0.1,\"rgb(178,24,43)\"],[0.2,\"rgb(214,96,77)\"],[0.3,\"rgb(244,165,130)\"],[0.4,\"rgb(253,219,199)\"],[0.5,\"rgb(247,247,247)\"],[0.6,\"rgb(209,229,240)\"],[0.7,\"rgb(146,197,222)\"],[0.8,\"rgb(67,147,195)\"],[0.9,\"rgb(33,102,172)\"],[1.0,\"rgb(5,48,97)\"]]},\"xaxis\":{\"gridcolor\":\"rgb(232,232,232)\",\"linecolor\":\"rgb(36,36,36)\",\"showgrid\":false,\"showline\":true,\"ticks\":\"outside\",\"title\":{\"standoff\":15},\"zerolinecolor\":\"rgb(36,36,36)\",\"automargin\":true,\"zeroline\":false},\"yaxis\":{\"gridcolor\":\"rgb(232,232,232)\",\"linecolor\":\"rgb(36,36,36)\",\"showgrid\":false,\"showline\":true,\"ticks\":\"outside\",\"title\":{\"standoff\":15},\"zerolinecolor\":\"rgb(36,36,36)\",\"automargin\":true,\"zeroline\":false},\"scene\":{\"xaxis\":{\"backgroundcolor\":\"white\",\"gridcolor\":\"rgb(232,232,232)\",\"linecolor\":\"rgb(36,36,36)\",\"showbackground\":true,\"showgrid\":false,\"showline\":true,\"ticks\":\"outside\",\"zerolinecolor\":\"rgb(36,36,36)\",\"gridwidth\":2,\"zeroline\":false},\"yaxis\":{\"backgroundcolor\":\"white\",\"gridcolor\":\"rgb(232,232,232)\",\"linecolor\":\"rgb(36,36,36)\",\"showbackground\":true,\"showgrid\":false,\"showline\":true,\"ticks\":\"outside\",\"zerolinecolor\":\"rgb(36,36,36)\",\"gridwidth\":2,\"zeroline\":false},\"zaxis\":{\"backgroundcolor\":\"white\",\"gridcolor\":\"rgb(232,232,232)\",\"linecolor\":\"rgb(36,36,36)\",\"showbackground\":true,\"showgrid\":false,\"showline\":true,\"ticks\":\"outside\",\"zerolinecolor\":\"rgb(36,36,36)\",\"gridwidth\":2,\"zeroline\":false}},\"shapedefaults\":{\"fillcolor\":\"black\",\"line\":{\"width\":0},\"opacity\":0.3},\"annotationdefaults\":{\"arrowhead\":0,\"arrowwidth\":1},\"geo\":{\"bgcolor\":\"white\",\"landcolor\":\"white\",\"subunitcolor\":\"white\",\"showland\":true,\"showlakes\":true,\"lakecolor\":\"white\"},\"title\":{\"x\":0.05},\"mapbox\":{\"style\":\"light\"}}},\"xaxis\":{\"anchor\":\"y\",\"domain\":[0.0,1.0],\"title\":{\"text\":\"date\"}},\"yaxis\":{\"anchor\":\"x\",\"domain\":[0.0,1.0],\"title\":{\"text\":\"active users\"}},\"legend\":{\"title\":{\"text\":\"cohort\"},\"tracegroupgap\":0},\"title\":{\"text\":\"Active users by cohorts for product3\"}},                        {\"responsive\": true}                    ).then(function(){\n",
       "                            \n",
       "var gd = document.getElementById('a7eff535-06f8-4c00-a322-0b89ddc4c75b');\n",
       "var x = new MutationObserver(function (mutations, observer) {{\n",
       "        var display = window.getComputedStyle(gd).display;\n",
       "        if (!display || display === 'none') {{\n",
       "            console.log([gd, 'removed!']);\n",
       "            Plotly.purge(gd);\n",
       "            observer.disconnect();\n",
       "        }}\n",
       "}});\n",
       "\n",
       "// Listen for the removal of the full notebook cells\n",
       "var notebookContainer = gd.closest('#notebook-container');\n",
       "if (notebookContainer) {{\n",
       "    x.observe(notebookContainer, {childList: true});\n",
       "}}\n",
       "\n",
       "// Listen for the clearing of the current output cell\n",
       "var outputEl = gd.closest('.output');\n",
       "if (outputEl) {{\n",
       "    x.observe(outputEl, {childList: true});\n",
       "}}\n",
       "\n",
       "                        })                };                });            </script>        </div>"
      ]
     },
     "metadata": {},
     "output_type": "display_data"
    }
   ],
   "source": [
    "px.area(\n",
    "    raw_ret_df[raw_ret_df['product'] == 'product3'].pivot_table(index = 'date',\n",
    "                                                           columns = 'cohort_date', \n",
    "                                                           values = 'users'),\n",
    "    labels = {'cohort_date': 'cohort', 'value': 'active users'},\n",
    "    title = 'Active users by cohorts for product3',\n",
    "    color_discrete_sequence = px.colors.qualitative.Prism\n",
    ")"
   ]
  },
  {
   "cell_type": "markdown",
   "id": "bc9def8d",
   "metadata": {},
   "source": [
    "### Revenue Retention"
   ]
  },
  {
   "cell_type": "code",
   "execution_count": 188,
   "id": "3f11a431",
   "metadata": {},
   "outputs": [],
   "source": [
    "rev_ret_df = pd.DataFrame()\n",
    "rev_ret_df['num_month'] = range(13)\n",
    "\n",
    "cohort_size = 1000"
   ]
  },
  {
   "cell_type": "code",
   "execution_count": 189,
   "id": "f5329160",
   "metadata": {},
   "outputs": [],
   "source": [
    "rev_ret_df['random_num1'] = list(map(\n",
    "    lambda x:  (random.random() - 0.5)*2*0.1,\n",
    "    rev_ret_df.num_month\n",
    "))\n",
    "\n",
    "rev_ret_df['random_num2'] = list(map(\n",
    "    lambda x:  (random.random() - 0.5)*2*0.1,\n",
    "    rev_ret_df.num_month\n",
    "))"
   ]
  },
  {
   "cell_type": "code",
   "execution_count": 190,
   "id": "fdf7d0ba",
   "metadata": {},
   "outputs": [
    {
     "name": "stderr",
     "output_type": "stream",
     "text": [
      "/var/folders/t0/2zclhqgd5nd26hq5cxhzl8t40000gq/T/ipykernel_72763/3037288790.py:7: SettingWithCopyWarning:\n",
      "\n",
      "\n",
      "A value is trying to be set on a copy of a slice from a DataFrame\n",
      "\n",
      "See the caveats in the documentation: https://pandas.pydata.org/pandas-docs/stable/user_guide/indexing.html#returning-a-view-versus-a-copy\n",
      "\n"
     ]
    }
   ],
   "source": [
    "rev_ret_df['retention1'] = rev_ret_df.num_month.map(\n",
    "        lambda x: get_retention_same_event(product_coefs[2][0], product_coefs[2][1],\n",
    "                                           product_coefs[2][2], x)\n",
    "    )\n",
    "\n",
    "rev_ret_df['retention2'] = rev_ret_df['retention1']\n",
    "rev_ret_df.retention2.loc[0] = rev_ret_df.loc[0].retention2 *1.42"
   ]
  },
  {
   "cell_type": "code",
   "execution_count": 191,
   "id": "59d1b592",
   "metadata": {},
   "outputs": [],
   "source": [
    "rev_ret_df['cohort1_revenue'] = (1 + rev_ret_df['random_num1']) * 600*cohort_size*rev_ret_df.retention1\n",
    "rev_ret_df['cohort2_revenue'] = (1 + rev_ret_df['random_num2']) * 600*cohort_size*rev_ret_df.retention2"
   ]
  },
  {
   "cell_type": "code",
   "execution_count": 192,
   "id": "ad2a5d22",
   "metadata": {},
   "outputs": [],
   "source": [
    "rev_ret_df.set_index('num_month', inplace = True)"
   ]
  },
  {
   "cell_type": "code",
   "execution_count": 193,
   "id": "145bacb8",
   "metadata": {},
   "outputs": [
    {
     "data": {
      "application/vnd.plotly.v1+json": {
       "config": {
        "plotlyServerURL": "https://plot.ly"
       },
       "data": [
        {
         "hovertemplate": "cohort=cohort1<br># month=%{x}<br>revenue in USD=%{y}<extra></extra>",
         "legendgroup": "cohort1",
         "line": {
          "color": "#1F77B4",
          "dash": "solid"
         },
         "marker": {
          "symbol": "circle"
         },
         "mode": "lines",
         "name": "cohort1",
         "orientation": "v",
         "showlegend": true,
         "type": "scatter",
         "x": [
          0,
          1,
          2,
          3,
          4,
          5,
          6,
          7,
          8,
          9,
          10,
          11,
          12
         ],
         "xaxis": "x",
         "y": [
          564161.5491368057,
          302660.9225339103,
          234434.76574389037,
          172427.86565748145,
          159466.65382007998,
          141709.62932434224,
          127102.44891692977,
          119449.0701293518,
          105056.06131759443,
          97002.62449150458,
          101264.2482660594,
          91546.82555099887,
          90643.25050760452
         ],
         "yaxis": "y"
        },
        {
         "hovertemplate": "cohort=cohort2<br># month=%{x}<br>revenue in USD=%{y}<extra></extra>",
         "legendgroup": "cohort2",
         "line": {
          "color": "#FF7F0E",
          "dash": "solid"
         },
         "marker": {
          "symbol": "circle"
         },
         "mode": "lines",
         "name": "cohort2",
         "orientation": "v",
         "showlegend": true,
         "type": "scatter",
         "x": [
          0,
          1,
          2,
          3,
          4,
          5,
          6,
          7,
          8,
          9,
          10,
          11,
          12
         ],
         "xaxis": "x",
         "y": [
          793625.3350305508,
          290815.65351807786,
          253460.26086380793,
          201380.47664195424,
          169561.27861090144,
          153905.60309193376,
          121951.00585065721,
          118269.6244247016,
          100938.8639049823,
          105658.270202894,
          104099.53834297699,
          93020.80191868846,
          88172.07704229615
         ],
         "yaxis": "y"
        }
       ],
       "layout": {
        "legend": {
         "title": {
          "text": "cohort"
         },
         "tracegroupgap": 0
        },
        "template": {
         "data": {
          "bar": [
           {
            "error_x": {
             "color": "rgb(36,36,36)"
            },
            "error_y": {
             "color": "rgb(36,36,36)"
            },
            "marker": {
             "line": {
              "color": "white",
              "width": 0.5
             },
             "pattern": {
              "fillmode": "overlay",
              "size": 10,
              "solidity": 0.2
             }
            },
            "type": "bar"
           }
          ],
          "barpolar": [
           {
            "marker": {
             "line": {
              "color": "white",
              "width": 0.5
             },
             "pattern": {
              "fillmode": "overlay",
              "size": 10,
              "solidity": 0.2
             }
            },
            "type": "barpolar"
           }
          ],
          "carpet": [
           {
            "aaxis": {
             "endlinecolor": "rgb(36,36,36)",
             "gridcolor": "white",
             "linecolor": "white",
             "minorgridcolor": "white",
             "startlinecolor": "rgb(36,36,36)"
            },
            "baxis": {
             "endlinecolor": "rgb(36,36,36)",
             "gridcolor": "white",
             "linecolor": "white",
             "minorgridcolor": "white",
             "startlinecolor": "rgb(36,36,36)"
            },
            "type": "carpet"
           }
          ],
          "choropleth": [
           {
            "colorbar": {
             "outlinewidth": 1,
             "tickcolor": "rgb(36,36,36)",
             "ticks": "outside"
            },
            "type": "choropleth"
           }
          ],
          "contour": [
           {
            "colorbar": {
             "outlinewidth": 1,
             "tickcolor": "rgb(36,36,36)",
             "ticks": "outside"
            },
            "colorscale": [
             [
              0,
              "#440154"
             ],
             [
              0.1111111111111111,
              "#482878"
             ],
             [
              0.2222222222222222,
              "#3e4989"
             ],
             [
              0.3333333333333333,
              "#31688e"
             ],
             [
              0.4444444444444444,
              "#26828e"
             ],
             [
              0.5555555555555556,
              "#1f9e89"
             ],
             [
              0.6666666666666666,
              "#35b779"
             ],
             [
              0.7777777777777778,
              "#6ece58"
             ],
             [
              0.8888888888888888,
              "#b5de2b"
             ],
             [
              1,
              "#fde725"
             ]
            ],
            "type": "contour"
           }
          ],
          "contourcarpet": [
           {
            "colorbar": {
             "outlinewidth": 1,
             "tickcolor": "rgb(36,36,36)",
             "ticks": "outside"
            },
            "type": "contourcarpet"
           }
          ],
          "heatmap": [
           {
            "colorbar": {
             "outlinewidth": 1,
             "tickcolor": "rgb(36,36,36)",
             "ticks": "outside"
            },
            "colorscale": [
             [
              0,
              "#440154"
             ],
             [
              0.1111111111111111,
              "#482878"
             ],
             [
              0.2222222222222222,
              "#3e4989"
             ],
             [
              0.3333333333333333,
              "#31688e"
             ],
             [
              0.4444444444444444,
              "#26828e"
             ],
             [
              0.5555555555555556,
              "#1f9e89"
             ],
             [
              0.6666666666666666,
              "#35b779"
             ],
             [
              0.7777777777777778,
              "#6ece58"
             ],
             [
              0.8888888888888888,
              "#b5de2b"
             ],
             [
              1,
              "#fde725"
             ]
            ],
            "type": "heatmap"
           }
          ],
          "heatmapgl": [
           {
            "colorbar": {
             "outlinewidth": 1,
             "tickcolor": "rgb(36,36,36)",
             "ticks": "outside"
            },
            "colorscale": [
             [
              0,
              "#440154"
             ],
             [
              0.1111111111111111,
              "#482878"
             ],
             [
              0.2222222222222222,
              "#3e4989"
             ],
             [
              0.3333333333333333,
              "#31688e"
             ],
             [
              0.4444444444444444,
              "#26828e"
             ],
             [
              0.5555555555555556,
              "#1f9e89"
             ],
             [
              0.6666666666666666,
              "#35b779"
             ],
             [
              0.7777777777777778,
              "#6ece58"
             ],
             [
              0.8888888888888888,
              "#b5de2b"
             ],
             [
              1,
              "#fde725"
             ]
            ],
            "type": "heatmapgl"
           }
          ],
          "histogram": [
           {
            "marker": {
             "line": {
              "color": "white",
              "width": 0.6
             }
            },
            "type": "histogram"
           }
          ],
          "histogram2d": [
           {
            "colorbar": {
             "outlinewidth": 1,
             "tickcolor": "rgb(36,36,36)",
             "ticks": "outside"
            },
            "colorscale": [
             [
              0,
              "#440154"
             ],
             [
              0.1111111111111111,
              "#482878"
             ],
             [
              0.2222222222222222,
              "#3e4989"
             ],
             [
              0.3333333333333333,
              "#31688e"
             ],
             [
              0.4444444444444444,
              "#26828e"
             ],
             [
              0.5555555555555556,
              "#1f9e89"
             ],
             [
              0.6666666666666666,
              "#35b779"
             ],
             [
              0.7777777777777778,
              "#6ece58"
             ],
             [
              0.8888888888888888,
              "#b5de2b"
             ],
             [
              1,
              "#fde725"
             ]
            ],
            "type": "histogram2d"
           }
          ],
          "histogram2dcontour": [
           {
            "colorbar": {
             "outlinewidth": 1,
             "tickcolor": "rgb(36,36,36)",
             "ticks": "outside"
            },
            "colorscale": [
             [
              0,
              "#440154"
             ],
             [
              0.1111111111111111,
              "#482878"
             ],
             [
              0.2222222222222222,
              "#3e4989"
             ],
             [
              0.3333333333333333,
              "#31688e"
             ],
             [
              0.4444444444444444,
              "#26828e"
             ],
             [
              0.5555555555555556,
              "#1f9e89"
             ],
             [
              0.6666666666666666,
              "#35b779"
             ],
             [
              0.7777777777777778,
              "#6ece58"
             ],
             [
              0.8888888888888888,
              "#b5de2b"
             ],
             [
              1,
              "#fde725"
             ]
            ],
            "type": "histogram2dcontour"
           }
          ],
          "mesh3d": [
           {
            "colorbar": {
             "outlinewidth": 1,
             "tickcolor": "rgb(36,36,36)",
             "ticks": "outside"
            },
            "type": "mesh3d"
           }
          ],
          "parcoords": [
           {
            "line": {
             "colorbar": {
              "outlinewidth": 1,
              "tickcolor": "rgb(36,36,36)",
              "ticks": "outside"
             }
            },
            "type": "parcoords"
           }
          ],
          "pie": [
           {
            "automargin": true,
            "type": "pie"
           }
          ],
          "scatter": [
           {
            "fillpattern": {
             "fillmode": "overlay",
             "size": 10,
             "solidity": 0.2
            },
            "type": "scatter"
           }
          ],
          "scatter3d": [
           {
            "line": {
             "colorbar": {
              "outlinewidth": 1,
              "tickcolor": "rgb(36,36,36)",
              "ticks": "outside"
             }
            },
            "marker": {
             "colorbar": {
              "outlinewidth": 1,
              "tickcolor": "rgb(36,36,36)",
              "ticks": "outside"
             }
            },
            "type": "scatter3d"
           }
          ],
          "scattercarpet": [
           {
            "marker": {
             "colorbar": {
              "outlinewidth": 1,
              "tickcolor": "rgb(36,36,36)",
              "ticks": "outside"
             }
            },
            "type": "scattercarpet"
           }
          ],
          "scattergeo": [
           {
            "marker": {
             "colorbar": {
              "outlinewidth": 1,
              "tickcolor": "rgb(36,36,36)",
              "ticks": "outside"
             }
            },
            "type": "scattergeo"
           }
          ],
          "scattergl": [
           {
            "marker": {
             "colorbar": {
              "outlinewidth": 1,
              "tickcolor": "rgb(36,36,36)",
              "ticks": "outside"
             }
            },
            "type": "scattergl"
           }
          ],
          "scattermapbox": [
           {
            "marker": {
             "colorbar": {
              "outlinewidth": 1,
              "tickcolor": "rgb(36,36,36)",
              "ticks": "outside"
             }
            },
            "type": "scattermapbox"
           }
          ],
          "scatterpolar": [
           {
            "marker": {
             "colorbar": {
              "outlinewidth": 1,
              "tickcolor": "rgb(36,36,36)",
              "ticks": "outside"
             }
            },
            "type": "scatterpolar"
           }
          ],
          "scatterpolargl": [
           {
            "marker": {
             "colorbar": {
              "outlinewidth": 1,
              "tickcolor": "rgb(36,36,36)",
              "ticks": "outside"
             }
            },
            "type": "scatterpolargl"
           }
          ],
          "scatterternary": [
           {
            "marker": {
             "colorbar": {
              "outlinewidth": 1,
              "tickcolor": "rgb(36,36,36)",
              "ticks": "outside"
             }
            },
            "type": "scatterternary"
           }
          ],
          "surface": [
           {
            "colorbar": {
             "outlinewidth": 1,
             "tickcolor": "rgb(36,36,36)",
             "ticks": "outside"
            },
            "colorscale": [
             [
              0,
              "#440154"
             ],
             [
              0.1111111111111111,
              "#482878"
             ],
             [
              0.2222222222222222,
              "#3e4989"
             ],
             [
              0.3333333333333333,
              "#31688e"
             ],
             [
              0.4444444444444444,
              "#26828e"
             ],
             [
              0.5555555555555556,
              "#1f9e89"
             ],
             [
              0.6666666666666666,
              "#35b779"
             ],
             [
              0.7777777777777778,
              "#6ece58"
             ],
             [
              0.8888888888888888,
              "#b5de2b"
             ],
             [
              1,
              "#fde725"
             ]
            ],
            "type": "surface"
           }
          ],
          "table": [
           {
            "cells": {
             "fill": {
              "color": "rgb(237,237,237)"
             },
             "line": {
              "color": "white"
             }
            },
            "header": {
             "fill": {
              "color": "rgb(217,217,217)"
             },
             "line": {
              "color": "white"
             }
            },
            "type": "table"
           }
          ]
         },
         "layout": {
          "annotationdefaults": {
           "arrowhead": 0,
           "arrowwidth": 1
          },
          "autotypenumbers": "strict",
          "coloraxis": {
           "colorbar": {
            "outlinewidth": 1,
            "tickcolor": "rgb(36,36,36)",
            "ticks": "outside"
           }
          },
          "colorscale": {
           "diverging": [
            [
             0,
             "rgb(103,0,31)"
            ],
            [
             0.1,
             "rgb(178,24,43)"
            ],
            [
             0.2,
             "rgb(214,96,77)"
            ],
            [
             0.3,
             "rgb(244,165,130)"
            ],
            [
             0.4,
             "rgb(253,219,199)"
            ],
            [
             0.5,
             "rgb(247,247,247)"
            ],
            [
             0.6,
             "rgb(209,229,240)"
            ],
            [
             0.7,
             "rgb(146,197,222)"
            ],
            [
             0.8,
             "rgb(67,147,195)"
            ],
            [
             0.9,
             "rgb(33,102,172)"
            ],
            [
             1,
             "rgb(5,48,97)"
            ]
           ],
           "sequential": [
            [
             0,
             "#440154"
            ],
            [
             0.1111111111111111,
             "#482878"
            ],
            [
             0.2222222222222222,
             "#3e4989"
            ],
            [
             0.3333333333333333,
             "#31688e"
            ],
            [
             0.4444444444444444,
             "#26828e"
            ],
            [
             0.5555555555555556,
             "#1f9e89"
            ],
            [
             0.6666666666666666,
             "#35b779"
            ],
            [
             0.7777777777777778,
             "#6ece58"
            ],
            [
             0.8888888888888888,
             "#b5de2b"
            ],
            [
             1,
             "#fde725"
            ]
           ],
           "sequentialminus": [
            [
             0,
             "#440154"
            ],
            [
             0.1111111111111111,
             "#482878"
            ],
            [
             0.2222222222222222,
             "#3e4989"
            ],
            [
             0.3333333333333333,
             "#31688e"
            ],
            [
             0.4444444444444444,
             "#26828e"
            ],
            [
             0.5555555555555556,
             "#1f9e89"
            ],
            [
             0.6666666666666666,
             "#35b779"
            ],
            [
             0.7777777777777778,
             "#6ece58"
            ],
            [
             0.8888888888888888,
             "#b5de2b"
            ],
            [
             1,
             "#fde725"
            ]
           ]
          },
          "colorway": [
           "#1F77B4",
           "#FF7F0E",
           "#2CA02C",
           "#D62728",
           "#9467BD",
           "#8C564B",
           "#E377C2",
           "#7F7F7F",
           "#BCBD22",
           "#17BECF"
          ],
          "font": {
           "color": "rgb(36,36,36)"
          },
          "geo": {
           "bgcolor": "white",
           "lakecolor": "white",
           "landcolor": "white",
           "showlakes": true,
           "showland": true,
           "subunitcolor": "white"
          },
          "hoverlabel": {
           "align": "left"
          },
          "hovermode": "closest",
          "mapbox": {
           "style": "light"
          },
          "paper_bgcolor": "white",
          "plot_bgcolor": "white",
          "polar": {
           "angularaxis": {
            "gridcolor": "rgb(232,232,232)",
            "linecolor": "rgb(36,36,36)",
            "showgrid": false,
            "showline": true,
            "ticks": "outside"
           },
           "bgcolor": "white",
           "radialaxis": {
            "gridcolor": "rgb(232,232,232)",
            "linecolor": "rgb(36,36,36)",
            "showgrid": false,
            "showline": true,
            "ticks": "outside"
           }
          },
          "scene": {
           "xaxis": {
            "backgroundcolor": "white",
            "gridcolor": "rgb(232,232,232)",
            "gridwidth": 2,
            "linecolor": "rgb(36,36,36)",
            "showbackground": true,
            "showgrid": false,
            "showline": true,
            "ticks": "outside",
            "zeroline": false,
            "zerolinecolor": "rgb(36,36,36)"
           },
           "yaxis": {
            "backgroundcolor": "white",
            "gridcolor": "rgb(232,232,232)",
            "gridwidth": 2,
            "linecolor": "rgb(36,36,36)",
            "showbackground": true,
            "showgrid": false,
            "showline": true,
            "ticks": "outside",
            "zeroline": false,
            "zerolinecolor": "rgb(36,36,36)"
           },
           "zaxis": {
            "backgroundcolor": "white",
            "gridcolor": "rgb(232,232,232)",
            "gridwidth": 2,
            "linecolor": "rgb(36,36,36)",
            "showbackground": true,
            "showgrid": false,
            "showline": true,
            "ticks": "outside",
            "zeroline": false,
            "zerolinecolor": "rgb(36,36,36)"
           }
          },
          "shapedefaults": {
           "fillcolor": "black",
           "line": {
            "width": 0
           },
           "opacity": 0.3
          },
          "ternary": {
           "aaxis": {
            "gridcolor": "rgb(232,232,232)",
            "linecolor": "rgb(36,36,36)",
            "showgrid": false,
            "showline": true,
            "ticks": "outside"
           },
           "baxis": {
            "gridcolor": "rgb(232,232,232)",
            "linecolor": "rgb(36,36,36)",
            "showgrid": false,
            "showline": true,
            "ticks": "outside"
           },
           "bgcolor": "white",
           "caxis": {
            "gridcolor": "rgb(232,232,232)",
            "linecolor": "rgb(36,36,36)",
            "showgrid": false,
            "showline": true,
            "ticks": "outside"
           }
          },
          "title": {
           "x": 0.05
          },
          "xaxis": {
           "automargin": true,
           "gridcolor": "rgb(232,232,232)",
           "linecolor": "rgb(36,36,36)",
           "showgrid": false,
           "showline": true,
           "ticks": "outside",
           "title": {
            "standoff": 15
           },
           "zeroline": false,
           "zerolinecolor": "rgb(36,36,36)"
          },
          "yaxis": {
           "automargin": true,
           "gridcolor": "rgb(232,232,232)",
           "linecolor": "rgb(36,36,36)",
           "showgrid": false,
           "showline": true,
           "ticks": "outside",
           "title": {
            "standoff": 15
           },
           "zeroline": false,
           "zerolinecolor": "rgb(36,36,36)"
          }
         }
        },
        "title": {
         "text": "Revenue from cohorts"
        },
        "xaxis": {
         "anchor": "y",
         "domain": [
          0,
          1
         ],
         "title": {
          "text": "# month"
         }
        },
        "yaxis": {
         "anchor": "x",
         "domain": [
          0,
          1
         ],
         "title": {
          "text": "revenue in USD"
         }
        }
       }
      },
      "text/html": [
       "<div>                            <div id=\"526d1b4e-03bd-42a0-aa2a-146ad79d19b8\" class=\"plotly-graph-div\" style=\"height:525px; width:100%;\"></div>            <script type=\"text/javascript\">                require([\"plotly\"], function(Plotly) {                    window.PLOTLYENV=window.PLOTLYENV || {};                                    if (document.getElementById(\"526d1b4e-03bd-42a0-aa2a-146ad79d19b8\")) {                    Plotly.newPlot(                        \"526d1b4e-03bd-42a0-aa2a-146ad79d19b8\",                        [{\"hovertemplate\":\"cohort=cohort1<br># month=%{x}<br>revenue in USD=%{y}<extra></extra>\",\"legendgroup\":\"cohort1\",\"line\":{\"color\":\"#1F77B4\",\"dash\":\"solid\"},\"marker\":{\"symbol\":\"circle\"},\"mode\":\"lines\",\"name\":\"cohort1\",\"orientation\":\"v\",\"showlegend\":true,\"x\":[0,1,2,3,4,5,6,7,8,9,10,11,12],\"xaxis\":\"x\",\"y\":[564161.5491368057,302660.9225339103,234434.76574389037,172427.86565748145,159466.65382007998,141709.62932434224,127102.44891692977,119449.0701293518,105056.06131759443,97002.62449150458,101264.2482660594,91546.82555099887,90643.25050760452],\"yaxis\":\"y\",\"type\":\"scatter\"},{\"hovertemplate\":\"cohort=cohort2<br># month=%{x}<br>revenue in USD=%{y}<extra></extra>\",\"legendgroup\":\"cohort2\",\"line\":{\"color\":\"#FF7F0E\",\"dash\":\"solid\"},\"marker\":{\"symbol\":\"circle\"},\"mode\":\"lines\",\"name\":\"cohort2\",\"orientation\":\"v\",\"showlegend\":true,\"x\":[0,1,2,3,4,5,6,7,8,9,10,11,12],\"xaxis\":\"x\",\"y\":[793625.3350305508,290815.65351807786,253460.26086380793,201380.47664195424,169561.27861090144,153905.60309193376,121951.00585065721,118269.6244247016,100938.8639049823,105658.270202894,104099.53834297699,93020.80191868846,88172.07704229615],\"yaxis\":\"y\",\"type\":\"scatter\"}],                        {\"template\":{\"data\":{\"histogram2dcontour\":[{\"type\":\"histogram2dcontour\",\"colorbar\":{\"outlinewidth\":1,\"tickcolor\":\"rgb(36,36,36)\",\"ticks\":\"outside\"},\"colorscale\":[[0.0,\"#440154\"],[0.1111111111111111,\"#482878\"],[0.2222222222222222,\"#3e4989\"],[0.3333333333333333,\"#31688e\"],[0.4444444444444444,\"#26828e\"],[0.5555555555555556,\"#1f9e89\"],[0.6666666666666666,\"#35b779\"],[0.7777777777777778,\"#6ece58\"],[0.8888888888888888,\"#b5de2b\"],[1.0,\"#fde725\"]]}],\"choropleth\":[{\"type\":\"choropleth\",\"colorbar\":{\"outlinewidth\":1,\"tickcolor\":\"rgb(36,36,36)\",\"ticks\":\"outside\"}}],\"histogram2d\":[{\"type\":\"histogram2d\",\"colorbar\":{\"outlinewidth\":1,\"tickcolor\":\"rgb(36,36,36)\",\"ticks\":\"outside\"},\"colorscale\":[[0.0,\"#440154\"],[0.1111111111111111,\"#482878\"],[0.2222222222222222,\"#3e4989\"],[0.3333333333333333,\"#31688e\"],[0.4444444444444444,\"#26828e\"],[0.5555555555555556,\"#1f9e89\"],[0.6666666666666666,\"#35b779\"],[0.7777777777777778,\"#6ece58\"],[0.8888888888888888,\"#b5de2b\"],[1.0,\"#fde725\"]]}],\"heatmap\":[{\"type\":\"heatmap\",\"colorbar\":{\"outlinewidth\":1,\"tickcolor\":\"rgb(36,36,36)\",\"ticks\":\"outside\"},\"colorscale\":[[0.0,\"#440154\"],[0.1111111111111111,\"#482878\"],[0.2222222222222222,\"#3e4989\"],[0.3333333333333333,\"#31688e\"],[0.4444444444444444,\"#26828e\"],[0.5555555555555556,\"#1f9e89\"],[0.6666666666666666,\"#35b779\"],[0.7777777777777778,\"#6ece58\"],[0.8888888888888888,\"#b5de2b\"],[1.0,\"#fde725\"]]}],\"heatmapgl\":[{\"type\":\"heatmapgl\",\"colorbar\":{\"outlinewidth\":1,\"tickcolor\":\"rgb(36,36,36)\",\"ticks\":\"outside\"},\"colorscale\":[[0.0,\"#440154\"],[0.1111111111111111,\"#482878\"],[0.2222222222222222,\"#3e4989\"],[0.3333333333333333,\"#31688e\"],[0.4444444444444444,\"#26828e\"],[0.5555555555555556,\"#1f9e89\"],[0.6666666666666666,\"#35b779\"],[0.7777777777777778,\"#6ece58\"],[0.8888888888888888,\"#b5de2b\"],[1.0,\"#fde725\"]]}],\"contourcarpet\":[{\"type\":\"contourcarpet\",\"colorbar\":{\"outlinewidth\":1,\"tickcolor\":\"rgb(36,36,36)\",\"ticks\":\"outside\"}}],\"contour\":[{\"type\":\"contour\",\"colorbar\":{\"outlinewidth\":1,\"tickcolor\":\"rgb(36,36,36)\",\"ticks\":\"outside\"},\"colorscale\":[[0.0,\"#440154\"],[0.1111111111111111,\"#482878\"],[0.2222222222222222,\"#3e4989\"],[0.3333333333333333,\"#31688e\"],[0.4444444444444444,\"#26828e\"],[0.5555555555555556,\"#1f9e89\"],[0.6666666666666666,\"#35b779\"],[0.7777777777777778,\"#6ece58\"],[0.8888888888888888,\"#b5de2b\"],[1.0,\"#fde725\"]]}],\"surface\":[{\"type\":\"surface\",\"colorbar\":{\"outlinewidth\":1,\"tickcolor\":\"rgb(36,36,36)\",\"ticks\":\"outside\"},\"colorscale\":[[0.0,\"#440154\"],[0.1111111111111111,\"#482878\"],[0.2222222222222222,\"#3e4989\"],[0.3333333333333333,\"#31688e\"],[0.4444444444444444,\"#26828e\"],[0.5555555555555556,\"#1f9e89\"],[0.6666666666666666,\"#35b779\"],[0.7777777777777778,\"#6ece58\"],[0.8888888888888888,\"#b5de2b\"],[1.0,\"#fde725\"]]}],\"mesh3d\":[{\"type\":\"mesh3d\",\"colorbar\":{\"outlinewidth\":1,\"tickcolor\":\"rgb(36,36,36)\",\"ticks\":\"outside\"}}],\"scatter\":[{\"fillpattern\":{\"fillmode\":\"overlay\",\"size\":10,\"solidity\":0.2},\"type\":\"scatter\"}],\"parcoords\":[{\"type\":\"parcoords\",\"line\":{\"colorbar\":{\"outlinewidth\":1,\"tickcolor\":\"rgb(36,36,36)\",\"ticks\":\"outside\"}}}],\"scatterpolargl\":[{\"type\":\"scatterpolargl\",\"marker\":{\"colorbar\":{\"outlinewidth\":1,\"tickcolor\":\"rgb(36,36,36)\",\"ticks\":\"outside\"}}}],\"bar\":[{\"error_x\":{\"color\":\"rgb(36,36,36)\"},\"error_y\":{\"color\":\"rgb(36,36,36)\"},\"marker\":{\"line\":{\"color\":\"white\",\"width\":0.5},\"pattern\":{\"fillmode\":\"overlay\",\"size\":10,\"solidity\":0.2}},\"type\":\"bar\"}],\"scattergeo\":[{\"type\":\"scattergeo\",\"marker\":{\"colorbar\":{\"outlinewidth\":1,\"tickcolor\":\"rgb(36,36,36)\",\"ticks\":\"outside\"}}}],\"scatterpolar\":[{\"type\":\"scatterpolar\",\"marker\":{\"colorbar\":{\"outlinewidth\":1,\"tickcolor\":\"rgb(36,36,36)\",\"ticks\":\"outside\"}}}],\"histogram\":[{\"marker\":{\"line\":{\"color\":\"white\",\"width\":0.6}},\"type\":\"histogram\"}],\"scattergl\":[{\"type\":\"scattergl\",\"marker\":{\"colorbar\":{\"outlinewidth\":1,\"tickcolor\":\"rgb(36,36,36)\",\"ticks\":\"outside\"}}}],\"scatter3d\":[{\"type\":\"scatter3d\",\"line\":{\"colorbar\":{\"outlinewidth\":1,\"tickcolor\":\"rgb(36,36,36)\",\"ticks\":\"outside\"}},\"marker\":{\"colorbar\":{\"outlinewidth\":1,\"tickcolor\":\"rgb(36,36,36)\",\"ticks\":\"outside\"}}}],\"scattermapbox\":[{\"type\":\"scattermapbox\",\"marker\":{\"colorbar\":{\"outlinewidth\":1,\"tickcolor\":\"rgb(36,36,36)\",\"ticks\":\"outside\"}}}],\"scatterternary\":[{\"type\":\"scatterternary\",\"marker\":{\"colorbar\":{\"outlinewidth\":1,\"tickcolor\":\"rgb(36,36,36)\",\"ticks\":\"outside\"}}}],\"scattercarpet\":[{\"type\":\"scattercarpet\",\"marker\":{\"colorbar\":{\"outlinewidth\":1,\"tickcolor\":\"rgb(36,36,36)\",\"ticks\":\"outside\"}}}],\"carpet\":[{\"aaxis\":{\"endlinecolor\":\"rgb(36,36,36)\",\"gridcolor\":\"white\",\"linecolor\":\"white\",\"minorgridcolor\":\"white\",\"startlinecolor\":\"rgb(36,36,36)\"},\"baxis\":{\"endlinecolor\":\"rgb(36,36,36)\",\"gridcolor\":\"white\",\"linecolor\":\"white\",\"minorgridcolor\":\"white\",\"startlinecolor\":\"rgb(36,36,36)\"},\"type\":\"carpet\"}],\"table\":[{\"cells\":{\"fill\":{\"color\":\"rgb(237,237,237)\"},\"line\":{\"color\":\"white\"}},\"header\":{\"fill\":{\"color\":\"rgb(217,217,217)\"},\"line\":{\"color\":\"white\"}},\"type\":\"table\"}],\"barpolar\":[{\"marker\":{\"line\":{\"color\":\"white\",\"width\":0.5},\"pattern\":{\"fillmode\":\"overlay\",\"size\":10,\"solidity\":0.2}},\"type\":\"barpolar\"}],\"pie\":[{\"automargin\":true,\"type\":\"pie\"}]},\"layout\":{\"autotypenumbers\":\"strict\",\"colorway\":[\"#1F77B4\",\"#FF7F0E\",\"#2CA02C\",\"#D62728\",\"#9467BD\",\"#8C564B\",\"#E377C2\",\"#7F7F7F\",\"#BCBD22\",\"#17BECF\"],\"font\":{\"color\":\"rgb(36,36,36)\"},\"hovermode\":\"closest\",\"hoverlabel\":{\"align\":\"left\"},\"paper_bgcolor\":\"white\",\"plot_bgcolor\":\"white\",\"polar\":{\"bgcolor\":\"white\",\"angularaxis\":{\"gridcolor\":\"rgb(232,232,232)\",\"linecolor\":\"rgb(36,36,36)\",\"showgrid\":false,\"showline\":true,\"ticks\":\"outside\"},\"radialaxis\":{\"gridcolor\":\"rgb(232,232,232)\",\"linecolor\":\"rgb(36,36,36)\",\"showgrid\":false,\"showline\":true,\"ticks\":\"outside\"}},\"ternary\":{\"bgcolor\":\"white\",\"aaxis\":{\"gridcolor\":\"rgb(232,232,232)\",\"linecolor\":\"rgb(36,36,36)\",\"showgrid\":false,\"showline\":true,\"ticks\":\"outside\"},\"baxis\":{\"gridcolor\":\"rgb(232,232,232)\",\"linecolor\":\"rgb(36,36,36)\",\"showgrid\":false,\"showline\":true,\"ticks\":\"outside\"},\"caxis\":{\"gridcolor\":\"rgb(232,232,232)\",\"linecolor\":\"rgb(36,36,36)\",\"showgrid\":false,\"showline\":true,\"ticks\":\"outside\"}},\"coloraxis\":{\"colorbar\":{\"outlinewidth\":1,\"tickcolor\":\"rgb(36,36,36)\",\"ticks\":\"outside\"}},\"colorscale\":{\"sequential\":[[0.0,\"#440154\"],[0.1111111111111111,\"#482878\"],[0.2222222222222222,\"#3e4989\"],[0.3333333333333333,\"#31688e\"],[0.4444444444444444,\"#26828e\"],[0.5555555555555556,\"#1f9e89\"],[0.6666666666666666,\"#35b779\"],[0.7777777777777778,\"#6ece58\"],[0.8888888888888888,\"#b5de2b\"],[1.0,\"#fde725\"]],\"sequentialminus\":[[0.0,\"#440154\"],[0.1111111111111111,\"#482878\"],[0.2222222222222222,\"#3e4989\"],[0.3333333333333333,\"#31688e\"],[0.4444444444444444,\"#26828e\"],[0.5555555555555556,\"#1f9e89\"],[0.6666666666666666,\"#35b779\"],[0.7777777777777778,\"#6ece58\"],[0.8888888888888888,\"#b5de2b\"],[1.0,\"#fde725\"]],\"diverging\":[[0.0,\"rgb(103,0,31)\"],[0.1,\"rgb(178,24,43)\"],[0.2,\"rgb(214,96,77)\"],[0.3,\"rgb(244,165,130)\"],[0.4,\"rgb(253,219,199)\"],[0.5,\"rgb(247,247,247)\"],[0.6,\"rgb(209,229,240)\"],[0.7,\"rgb(146,197,222)\"],[0.8,\"rgb(67,147,195)\"],[0.9,\"rgb(33,102,172)\"],[1.0,\"rgb(5,48,97)\"]]},\"xaxis\":{\"gridcolor\":\"rgb(232,232,232)\",\"linecolor\":\"rgb(36,36,36)\",\"showgrid\":false,\"showline\":true,\"ticks\":\"outside\",\"title\":{\"standoff\":15},\"zerolinecolor\":\"rgb(36,36,36)\",\"automargin\":true,\"zeroline\":false},\"yaxis\":{\"gridcolor\":\"rgb(232,232,232)\",\"linecolor\":\"rgb(36,36,36)\",\"showgrid\":false,\"showline\":true,\"ticks\":\"outside\",\"title\":{\"standoff\":15},\"zerolinecolor\":\"rgb(36,36,36)\",\"automargin\":true,\"zeroline\":false},\"scene\":{\"xaxis\":{\"backgroundcolor\":\"white\",\"gridcolor\":\"rgb(232,232,232)\",\"linecolor\":\"rgb(36,36,36)\",\"showbackground\":true,\"showgrid\":false,\"showline\":true,\"ticks\":\"outside\",\"zerolinecolor\":\"rgb(36,36,36)\",\"gridwidth\":2,\"zeroline\":false},\"yaxis\":{\"backgroundcolor\":\"white\",\"gridcolor\":\"rgb(232,232,232)\",\"linecolor\":\"rgb(36,36,36)\",\"showbackground\":true,\"showgrid\":false,\"showline\":true,\"ticks\":\"outside\",\"zerolinecolor\":\"rgb(36,36,36)\",\"gridwidth\":2,\"zeroline\":false},\"zaxis\":{\"backgroundcolor\":\"white\",\"gridcolor\":\"rgb(232,232,232)\",\"linecolor\":\"rgb(36,36,36)\",\"showbackground\":true,\"showgrid\":false,\"showline\":true,\"ticks\":\"outside\",\"zerolinecolor\":\"rgb(36,36,36)\",\"gridwidth\":2,\"zeroline\":false}},\"shapedefaults\":{\"fillcolor\":\"black\",\"line\":{\"width\":0},\"opacity\":0.3},\"annotationdefaults\":{\"arrowhead\":0,\"arrowwidth\":1},\"geo\":{\"bgcolor\":\"white\",\"landcolor\":\"white\",\"subunitcolor\":\"white\",\"showland\":true,\"showlakes\":true,\"lakecolor\":\"white\"},\"title\":{\"x\":0.05},\"mapbox\":{\"style\":\"light\"}}},\"xaxis\":{\"anchor\":\"y\",\"domain\":[0.0,1.0],\"title\":{\"text\":\"# month\"}},\"yaxis\":{\"anchor\":\"x\",\"domain\":[0.0,1.0],\"title\":{\"text\":\"revenue in USD\"}},\"legend\":{\"title\":{\"text\":\"cohort\"},\"tracegroupgap\":0},\"title\":{\"text\":\"Revenue from cohorts\"}},                        {\"responsive\": true}                    ).then(function(){\n",
       "                            \n",
       "var gd = document.getElementById('526d1b4e-03bd-42a0-aa2a-146ad79d19b8');\n",
       "var x = new MutationObserver(function (mutations, observer) {{\n",
       "        var display = window.getComputedStyle(gd).display;\n",
       "        if (!display || display === 'none') {{\n",
       "            console.log([gd, 'removed!']);\n",
       "            Plotly.purge(gd);\n",
       "            observer.disconnect();\n",
       "        }}\n",
       "}});\n",
       "\n",
       "// Listen for the removal of the full notebook cells\n",
       "var notebookContainer = gd.closest('#notebook-container');\n",
       "if (notebookContainer) {{\n",
       "    x.observe(notebookContainer, {childList: true});\n",
       "}}\n",
       "\n",
       "// Listen for the clearing of the current output cell\n",
       "var outputEl = gd.closest('.output');\n",
       "if (outputEl) {{\n",
       "    x.observe(outputEl, {childList: true});\n",
       "}}\n",
       "\n",
       "                        })                };                });            </script>        </div>"
      ]
     },
     "metadata": {},
     "output_type": "display_data"
    }
   ],
   "source": [
    "px.line(rev_ret_df[['cohort1_revenue', 'cohort2_revenue']].rename(\n",
    "    columns = {'cohort1_revenue': 'cohort1', 'cohort2_revenue': 'cohort2'}),\n",
    "    title = 'Revenue from cohorts',\n",
    "    labels = {\n",
    "        'value': 'revenue in USD',\n",
    "        'num_month': '# month',\n",
    "        'variable': 'cohort'\n",
    "    }\n",
    ")"
   ]
  },
  {
   "cell_type": "code",
   "execution_count": 194,
   "id": "13c716e8",
   "metadata": {},
   "outputs": [
    {
     "data": {
      "application/vnd.plotly.v1+json": {
       "config": {
        "plotlyServerURL": "https://plot.ly"
       },
       "data": [
        {
         "hovertemplate": "cohort=cohort1<br># month=%{x}<br>retention, %=%{y}<extra></extra>",
         "legendgroup": "cohort1",
         "line": {
          "color": "#1F77B4",
          "dash": "solid"
         },
         "marker": {
          "symbol": "circle"
         },
         "mode": "lines",
         "name": "cohort1",
         "orientation": "v",
         "showlegend": true,
         "type": "scatter",
         "x": [
          0,
          1,
          2,
          3,
          4,
          5,
          6,
          7,
          8,
          9,
          10,
          11,
          12
         ],
         "xaxis": "x",
         "y": [
          1,
          0.5364791751529258,
          0.4155454516575737,
          0.30563562143025236,
          0.28266133001100774,
          0.2511862595761175,
          0.22529441985438858,
          0.2117284850626822,
          0.18621627347403463,
          0.17194121903543988,
          0.17949512585712118,
          0.1622705866627563,
          0.16066896201326208
         ],
         "yaxis": "y"
        },
        {
         "hovertemplate": "cohort=cohort2<br># month=%{x}<br>retention, %=%{y}<extra></extra>",
         "legendgroup": "cohort2",
         "line": {
          "color": "#FF7F0E",
          "dash": "solid"
         },
         "marker": {
          "symbol": "circle"
         },
         "mode": "lines",
         "name": "cohort2",
         "orientation": "v",
         "showlegend": true,
         "type": "scatter",
         "x": [
          0,
          1,
          2,
          3,
          4,
          5,
          6,
          7,
          8,
          9,
          10,
          11,
          12
         ],
         "xaxis": "x",
         "y": [
          1,
          0.36643947802760457,
          0.3193701734005895,
          0.2537475402473159,
          0.21365406461523073,
          0.19392728066828804,
          0.15366319655856586,
          0.14902450716262577,
          0.1271870484088019,
          0.13313369109975132,
          0.1311696259532461,
          0.11720997026274067,
          0.11110038093592607
         ],
         "yaxis": "y"
        }
       ],
       "layout": {
        "legend": {
         "title": {
          "text": "cohort"
         },
         "tracegroupgap": 0
        },
        "template": {
         "data": {
          "bar": [
           {
            "error_x": {
             "color": "rgb(36,36,36)"
            },
            "error_y": {
             "color": "rgb(36,36,36)"
            },
            "marker": {
             "line": {
              "color": "white",
              "width": 0.5
             },
             "pattern": {
              "fillmode": "overlay",
              "size": 10,
              "solidity": 0.2
             }
            },
            "type": "bar"
           }
          ],
          "barpolar": [
           {
            "marker": {
             "line": {
              "color": "white",
              "width": 0.5
             },
             "pattern": {
              "fillmode": "overlay",
              "size": 10,
              "solidity": 0.2
             }
            },
            "type": "barpolar"
           }
          ],
          "carpet": [
           {
            "aaxis": {
             "endlinecolor": "rgb(36,36,36)",
             "gridcolor": "white",
             "linecolor": "white",
             "minorgridcolor": "white",
             "startlinecolor": "rgb(36,36,36)"
            },
            "baxis": {
             "endlinecolor": "rgb(36,36,36)",
             "gridcolor": "white",
             "linecolor": "white",
             "minorgridcolor": "white",
             "startlinecolor": "rgb(36,36,36)"
            },
            "type": "carpet"
           }
          ],
          "choropleth": [
           {
            "colorbar": {
             "outlinewidth": 1,
             "tickcolor": "rgb(36,36,36)",
             "ticks": "outside"
            },
            "type": "choropleth"
           }
          ],
          "contour": [
           {
            "colorbar": {
             "outlinewidth": 1,
             "tickcolor": "rgb(36,36,36)",
             "ticks": "outside"
            },
            "colorscale": [
             [
              0,
              "#440154"
             ],
             [
              0.1111111111111111,
              "#482878"
             ],
             [
              0.2222222222222222,
              "#3e4989"
             ],
             [
              0.3333333333333333,
              "#31688e"
             ],
             [
              0.4444444444444444,
              "#26828e"
             ],
             [
              0.5555555555555556,
              "#1f9e89"
             ],
             [
              0.6666666666666666,
              "#35b779"
             ],
             [
              0.7777777777777778,
              "#6ece58"
             ],
             [
              0.8888888888888888,
              "#b5de2b"
             ],
             [
              1,
              "#fde725"
             ]
            ],
            "type": "contour"
           }
          ],
          "contourcarpet": [
           {
            "colorbar": {
             "outlinewidth": 1,
             "tickcolor": "rgb(36,36,36)",
             "ticks": "outside"
            },
            "type": "contourcarpet"
           }
          ],
          "heatmap": [
           {
            "colorbar": {
             "outlinewidth": 1,
             "tickcolor": "rgb(36,36,36)",
             "ticks": "outside"
            },
            "colorscale": [
             [
              0,
              "#440154"
             ],
             [
              0.1111111111111111,
              "#482878"
             ],
             [
              0.2222222222222222,
              "#3e4989"
             ],
             [
              0.3333333333333333,
              "#31688e"
             ],
             [
              0.4444444444444444,
              "#26828e"
             ],
             [
              0.5555555555555556,
              "#1f9e89"
             ],
             [
              0.6666666666666666,
              "#35b779"
             ],
             [
              0.7777777777777778,
              "#6ece58"
             ],
             [
              0.8888888888888888,
              "#b5de2b"
             ],
             [
              1,
              "#fde725"
             ]
            ],
            "type": "heatmap"
           }
          ],
          "heatmapgl": [
           {
            "colorbar": {
             "outlinewidth": 1,
             "tickcolor": "rgb(36,36,36)",
             "ticks": "outside"
            },
            "colorscale": [
             [
              0,
              "#440154"
             ],
             [
              0.1111111111111111,
              "#482878"
             ],
             [
              0.2222222222222222,
              "#3e4989"
             ],
             [
              0.3333333333333333,
              "#31688e"
             ],
             [
              0.4444444444444444,
              "#26828e"
             ],
             [
              0.5555555555555556,
              "#1f9e89"
             ],
             [
              0.6666666666666666,
              "#35b779"
             ],
             [
              0.7777777777777778,
              "#6ece58"
             ],
             [
              0.8888888888888888,
              "#b5de2b"
             ],
             [
              1,
              "#fde725"
             ]
            ],
            "type": "heatmapgl"
           }
          ],
          "histogram": [
           {
            "marker": {
             "line": {
              "color": "white",
              "width": 0.6
             }
            },
            "type": "histogram"
           }
          ],
          "histogram2d": [
           {
            "colorbar": {
             "outlinewidth": 1,
             "tickcolor": "rgb(36,36,36)",
             "ticks": "outside"
            },
            "colorscale": [
             [
              0,
              "#440154"
             ],
             [
              0.1111111111111111,
              "#482878"
             ],
             [
              0.2222222222222222,
              "#3e4989"
             ],
             [
              0.3333333333333333,
              "#31688e"
             ],
             [
              0.4444444444444444,
              "#26828e"
             ],
             [
              0.5555555555555556,
              "#1f9e89"
             ],
             [
              0.6666666666666666,
              "#35b779"
             ],
             [
              0.7777777777777778,
              "#6ece58"
             ],
             [
              0.8888888888888888,
              "#b5de2b"
             ],
             [
              1,
              "#fde725"
             ]
            ],
            "type": "histogram2d"
           }
          ],
          "histogram2dcontour": [
           {
            "colorbar": {
             "outlinewidth": 1,
             "tickcolor": "rgb(36,36,36)",
             "ticks": "outside"
            },
            "colorscale": [
             [
              0,
              "#440154"
             ],
             [
              0.1111111111111111,
              "#482878"
             ],
             [
              0.2222222222222222,
              "#3e4989"
             ],
             [
              0.3333333333333333,
              "#31688e"
             ],
             [
              0.4444444444444444,
              "#26828e"
             ],
             [
              0.5555555555555556,
              "#1f9e89"
             ],
             [
              0.6666666666666666,
              "#35b779"
             ],
             [
              0.7777777777777778,
              "#6ece58"
             ],
             [
              0.8888888888888888,
              "#b5de2b"
             ],
             [
              1,
              "#fde725"
             ]
            ],
            "type": "histogram2dcontour"
           }
          ],
          "mesh3d": [
           {
            "colorbar": {
             "outlinewidth": 1,
             "tickcolor": "rgb(36,36,36)",
             "ticks": "outside"
            },
            "type": "mesh3d"
           }
          ],
          "parcoords": [
           {
            "line": {
             "colorbar": {
              "outlinewidth": 1,
              "tickcolor": "rgb(36,36,36)",
              "ticks": "outside"
             }
            },
            "type": "parcoords"
           }
          ],
          "pie": [
           {
            "automargin": true,
            "type": "pie"
           }
          ],
          "scatter": [
           {
            "fillpattern": {
             "fillmode": "overlay",
             "size": 10,
             "solidity": 0.2
            },
            "type": "scatter"
           }
          ],
          "scatter3d": [
           {
            "line": {
             "colorbar": {
              "outlinewidth": 1,
              "tickcolor": "rgb(36,36,36)",
              "ticks": "outside"
             }
            },
            "marker": {
             "colorbar": {
              "outlinewidth": 1,
              "tickcolor": "rgb(36,36,36)",
              "ticks": "outside"
             }
            },
            "type": "scatter3d"
           }
          ],
          "scattercarpet": [
           {
            "marker": {
             "colorbar": {
              "outlinewidth": 1,
              "tickcolor": "rgb(36,36,36)",
              "ticks": "outside"
             }
            },
            "type": "scattercarpet"
           }
          ],
          "scattergeo": [
           {
            "marker": {
             "colorbar": {
              "outlinewidth": 1,
              "tickcolor": "rgb(36,36,36)",
              "ticks": "outside"
             }
            },
            "type": "scattergeo"
           }
          ],
          "scattergl": [
           {
            "marker": {
             "colorbar": {
              "outlinewidth": 1,
              "tickcolor": "rgb(36,36,36)",
              "ticks": "outside"
             }
            },
            "type": "scattergl"
           }
          ],
          "scattermapbox": [
           {
            "marker": {
             "colorbar": {
              "outlinewidth": 1,
              "tickcolor": "rgb(36,36,36)",
              "ticks": "outside"
             }
            },
            "type": "scattermapbox"
           }
          ],
          "scatterpolar": [
           {
            "marker": {
             "colorbar": {
              "outlinewidth": 1,
              "tickcolor": "rgb(36,36,36)",
              "ticks": "outside"
             }
            },
            "type": "scatterpolar"
           }
          ],
          "scatterpolargl": [
           {
            "marker": {
             "colorbar": {
              "outlinewidth": 1,
              "tickcolor": "rgb(36,36,36)",
              "ticks": "outside"
             }
            },
            "type": "scatterpolargl"
           }
          ],
          "scatterternary": [
           {
            "marker": {
             "colorbar": {
              "outlinewidth": 1,
              "tickcolor": "rgb(36,36,36)",
              "ticks": "outside"
             }
            },
            "type": "scatterternary"
           }
          ],
          "surface": [
           {
            "colorbar": {
             "outlinewidth": 1,
             "tickcolor": "rgb(36,36,36)",
             "ticks": "outside"
            },
            "colorscale": [
             [
              0,
              "#440154"
             ],
             [
              0.1111111111111111,
              "#482878"
             ],
             [
              0.2222222222222222,
              "#3e4989"
             ],
             [
              0.3333333333333333,
              "#31688e"
             ],
             [
              0.4444444444444444,
              "#26828e"
             ],
             [
              0.5555555555555556,
              "#1f9e89"
             ],
             [
              0.6666666666666666,
              "#35b779"
             ],
             [
              0.7777777777777778,
              "#6ece58"
             ],
             [
              0.8888888888888888,
              "#b5de2b"
             ],
             [
              1,
              "#fde725"
             ]
            ],
            "type": "surface"
           }
          ],
          "table": [
           {
            "cells": {
             "fill": {
              "color": "rgb(237,237,237)"
             },
             "line": {
              "color": "white"
             }
            },
            "header": {
             "fill": {
              "color": "rgb(217,217,217)"
             },
             "line": {
              "color": "white"
             }
            },
            "type": "table"
           }
          ]
         },
         "layout": {
          "annotationdefaults": {
           "arrowhead": 0,
           "arrowwidth": 1
          },
          "autotypenumbers": "strict",
          "coloraxis": {
           "colorbar": {
            "outlinewidth": 1,
            "tickcolor": "rgb(36,36,36)",
            "ticks": "outside"
           }
          },
          "colorscale": {
           "diverging": [
            [
             0,
             "rgb(103,0,31)"
            ],
            [
             0.1,
             "rgb(178,24,43)"
            ],
            [
             0.2,
             "rgb(214,96,77)"
            ],
            [
             0.3,
             "rgb(244,165,130)"
            ],
            [
             0.4,
             "rgb(253,219,199)"
            ],
            [
             0.5,
             "rgb(247,247,247)"
            ],
            [
             0.6,
             "rgb(209,229,240)"
            ],
            [
             0.7,
             "rgb(146,197,222)"
            ],
            [
             0.8,
             "rgb(67,147,195)"
            ],
            [
             0.9,
             "rgb(33,102,172)"
            ],
            [
             1,
             "rgb(5,48,97)"
            ]
           ],
           "sequential": [
            [
             0,
             "#440154"
            ],
            [
             0.1111111111111111,
             "#482878"
            ],
            [
             0.2222222222222222,
             "#3e4989"
            ],
            [
             0.3333333333333333,
             "#31688e"
            ],
            [
             0.4444444444444444,
             "#26828e"
            ],
            [
             0.5555555555555556,
             "#1f9e89"
            ],
            [
             0.6666666666666666,
             "#35b779"
            ],
            [
             0.7777777777777778,
             "#6ece58"
            ],
            [
             0.8888888888888888,
             "#b5de2b"
            ],
            [
             1,
             "#fde725"
            ]
           ],
           "sequentialminus": [
            [
             0,
             "#440154"
            ],
            [
             0.1111111111111111,
             "#482878"
            ],
            [
             0.2222222222222222,
             "#3e4989"
            ],
            [
             0.3333333333333333,
             "#31688e"
            ],
            [
             0.4444444444444444,
             "#26828e"
            ],
            [
             0.5555555555555556,
             "#1f9e89"
            ],
            [
             0.6666666666666666,
             "#35b779"
            ],
            [
             0.7777777777777778,
             "#6ece58"
            ],
            [
             0.8888888888888888,
             "#b5de2b"
            ],
            [
             1,
             "#fde725"
            ]
           ]
          },
          "colorway": [
           "#1F77B4",
           "#FF7F0E",
           "#2CA02C",
           "#D62728",
           "#9467BD",
           "#8C564B",
           "#E377C2",
           "#7F7F7F",
           "#BCBD22",
           "#17BECF"
          ],
          "font": {
           "color": "rgb(36,36,36)"
          },
          "geo": {
           "bgcolor": "white",
           "lakecolor": "white",
           "landcolor": "white",
           "showlakes": true,
           "showland": true,
           "subunitcolor": "white"
          },
          "hoverlabel": {
           "align": "left"
          },
          "hovermode": "closest",
          "mapbox": {
           "style": "light"
          },
          "paper_bgcolor": "white",
          "plot_bgcolor": "white",
          "polar": {
           "angularaxis": {
            "gridcolor": "rgb(232,232,232)",
            "linecolor": "rgb(36,36,36)",
            "showgrid": false,
            "showline": true,
            "ticks": "outside"
           },
           "bgcolor": "white",
           "radialaxis": {
            "gridcolor": "rgb(232,232,232)",
            "linecolor": "rgb(36,36,36)",
            "showgrid": false,
            "showline": true,
            "ticks": "outside"
           }
          },
          "scene": {
           "xaxis": {
            "backgroundcolor": "white",
            "gridcolor": "rgb(232,232,232)",
            "gridwidth": 2,
            "linecolor": "rgb(36,36,36)",
            "showbackground": true,
            "showgrid": false,
            "showline": true,
            "ticks": "outside",
            "zeroline": false,
            "zerolinecolor": "rgb(36,36,36)"
           },
           "yaxis": {
            "backgroundcolor": "white",
            "gridcolor": "rgb(232,232,232)",
            "gridwidth": 2,
            "linecolor": "rgb(36,36,36)",
            "showbackground": true,
            "showgrid": false,
            "showline": true,
            "ticks": "outside",
            "zeroline": false,
            "zerolinecolor": "rgb(36,36,36)"
           },
           "zaxis": {
            "backgroundcolor": "white",
            "gridcolor": "rgb(232,232,232)",
            "gridwidth": 2,
            "linecolor": "rgb(36,36,36)",
            "showbackground": true,
            "showgrid": false,
            "showline": true,
            "ticks": "outside",
            "zeroline": false,
            "zerolinecolor": "rgb(36,36,36)"
           }
          },
          "shapedefaults": {
           "fillcolor": "black",
           "line": {
            "width": 0
           },
           "opacity": 0.3
          },
          "ternary": {
           "aaxis": {
            "gridcolor": "rgb(232,232,232)",
            "linecolor": "rgb(36,36,36)",
            "showgrid": false,
            "showline": true,
            "ticks": "outside"
           },
           "baxis": {
            "gridcolor": "rgb(232,232,232)",
            "linecolor": "rgb(36,36,36)",
            "showgrid": false,
            "showline": true,
            "ticks": "outside"
           },
           "bgcolor": "white",
           "caxis": {
            "gridcolor": "rgb(232,232,232)",
            "linecolor": "rgb(36,36,36)",
            "showgrid": false,
            "showline": true,
            "ticks": "outside"
           }
          },
          "title": {
           "x": 0.05
          },
          "xaxis": {
           "automargin": true,
           "gridcolor": "rgb(232,232,232)",
           "linecolor": "rgb(36,36,36)",
           "showgrid": false,
           "showline": true,
           "ticks": "outside",
           "title": {
            "standoff": 15
           },
           "zeroline": false,
           "zerolinecolor": "rgb(36,36,36)"
          },
          "yaxis": {
           "automargin": true,
           "gridcolor": "rgb(232,232,232)",
           "linecolor": "rgb(36,36,36)",
           "showgrid": false,
           "showline": true,
           "ticks": "outside",
           "title": {
            "standoff": 15
           },
           "zeroline": false,
           "zerolinecolor": "rgb(36,36,36)"
          }
         }
        },
        "title": {
         "text": "Revenue Retention normed on 1st month"
        },
        "xaxis": {
         "anchor": "y",
         "domain": [
          0,
          1
         ],
         "title": {
          "text": "# month"
         }
        },
        "yaxis": {
         "anchor": "x",
         "domain": [
          0,
          1
         ],
         "title": {
          "text": "retention, %"
         }
        }
       }
      },
      "text/html": [
       "<div>                            <div id=\"7a3cd139-eac1-4397-8897-ed67fde7ebba\" class=\"plotly-graph-div\" style=\"height:525px; width:100%;\"></div>            <script type=\"text/javascript\">                require([\"plotly\"], function(Plotly) {                    window.PLOTLYENV=window.PLOTLYENV || {};                                    if (document.getElementById(\"7a3cd139-eac1-4397-8897-ed67fde7ebba\")) {                    Plotly.newPlot(                        \"7a3cd139-eac1-4397-8897-ed67fde7ebba\",                        [{\"hovertemplate\":\"cohort=cohort1<br># month=%{x}<br>retention, %=%{y}<extra></extra>\",\"legendgroup\":\"cohort1\",\"line\":{\"color\":\"#1F77B4\",\"dash\":\"solid\"},\"marker\":{\"symbol\":\"circle\"},\"mode\":\"lines\",\"name\":\"cohort1\",\"orientation\":\"v\",\"showlegend\":true,\"x\":[0,1,2,3,4,5,6,7,8,9,10,11,12],\"xaxis\":\"x\",\"y\":[1.0,0.5364791751529258,0.4155454516575737,0.30563562143025236,0.28266133001100774,0.2511862595761175,0.22529441985438858,0.2117284850626822,0.18621627347403463,0.17194121903543988,0.17949512585712118,0.1622705866627563,0.16066896201326208],\"yaxis\":\"y\",\"type\":\"scatter\"},{\"hovertemplate\":\"cohort=cohort2<br># month=%{x}<br>retention, %=%{y}<extra></extra>\",\"legendgroup\":\"cohort2\",\"line\":{\"color\":\"#FF7F0E\",\"dash\":\"solid\"},\"marker\":{\"symbol\":\"circle\"},\"mode\":\"lines\",\"name\":\"cohort2\",\"orientation\":\"v\",\"showlegend\":true,\"x\":[0,1,2,3,4,5,6,7,8,9,10,11,12],\"xaxis\":\"x\",\"y\":[1.0,0.36643947802760457,0.3193701734005895,0.2537475402473159,0.21365406461523073,0.19392728066828804,0.15366319655856586,0.14902450716262577,0.1271870484088019,0.13313369109975132,0.1311696259532461,0.11720997026274067,0.11110038093592607],\"yaxis\":\"y\",\"type\":\"scatter\"}],                        {\"template\":{\"data\":{\"histogram2dcontour\":[{\"type\":\"histogram2dcontour\",\"colorbar\":{\"outlinewidth\":1,\"tickcolor\":\"rgb(36,36,36)\",\"ticks\":\"outside\"},\"colorscale\":[[0.0,\"#440154\"],[0.1111111111111111,\"#482878\"],[0.2222222222222222,\"#3e4989\"],[0.3333333333333333,\"#31688e\"],[0.4444444444444444,\"#26828e\"],[0.5555555555555556,\"#1f9e89\"],[0.6666666666666666,\"#35b779\"],[0.7777777777777778,\"#6ece58\"],[0.8888888888888888,\"#b5de2b\"],[1.0,\"#fde725\"]]}],\"choropleth\":[{\"type\":\"choropleth\",\"colorbar\":{\"outlinewidth\":1,\"tickcolor\":\"rgb(36,36,36)\",\"ticks\":\"outside\"}}],\"histogram2d\":[{\"type\":\"histogram2d\",\"colorbar\":{\"outlinewidth\":1,\"tickcolor\":\"rgb(36,36,36)\",\"ticks\":\"outside\"},\"colorscale\":[[0.0,\"#440154\"],[0.1111111111111111,\"#482878\"],[0.2222222222222222,\"#3e4989\"],[0.3333333333333333,\"#31688e\"],[0.4444444444444444,\"#26828e\"],[0.5555555555555556,\"#1f9e89\"],[0.6666666666666666,\"#35b779\"],[0.7777777777777778,\"#6ece58\"],[0.8888888888888888,\"#b5de2b\"],[1.0,\"#fde725\"]]}],\"heatmap\":[{\"type\":\"heatmap\",\"colorbar\":{\"outlinewidth\":1,\"tickcolor\":\"rgb(36,36,36)\",\"ticks\":\"outside\"},\"colorscale\":[[0.0,\"#440154\"],[0.1111111111111111,\"#482878\"],[0.2222222222222222,\"#3e4989\"],[0.3333333333333333,\"#31688e\"],[0.4444444444444444,\"#26828e\"],[0.5555555555555556,\"#1f9e89\"],[0.6666666666666666,\"#35b779\"],[0.7777777777777778,\"#6ece58\"],[0.8888888888888888,\"#b5de2b\"],[1.0,\"#fde725\"]]}],\"heatmapgl\":[{\"type\":\"heatmapgl\",\"colorbar\":{\"outlinewidth\":1,\"tickcolor\":\"rgb(36,36,36)\",\"ticks\":\"outside\"},\"colorscale\":[[0.0,\"#440154\"],[0.1111111111111111,\"#482878\"],[0.2222222222222222,\"#3e4989\"],[0.3333333333333333,\"#31688e\"],[0.4444444444444444,\"#26828e\"],[0.5555555555555556,\"#1f9e89\"],[0.6666666666666666,\"#35b779\"],[0.7777777777777778,\"#6ece58\"],[0.8888888888888888,\"#b5de2b\"],[1.0,\"#fde725\"]]}],\"contourcarpet\":[{\"type\":\"contourcarpet\",\"colorbar\":{\"outlinewidth\":1,\"tickcolor\":\"rgb(36,36,36)\",\"ticks\":\"outside\"}}],\"contour\":[{\"type\":\"contour\",\"colorbar\":{\"outlinewidth\":1,\"tickcolor\":\"rgb(36,36,36)\",\"ticks\":\"outside\"},\"colorscale\":[[0.0,\"#440154\"],[0.1111111111111111,\"#482878\"],[0.2222222222222222,\"#3e4989\"],[0.3333333333333333,\"#31688e\"],[0.4444444444444444,\"#26828e\"],[0.5555555555555556,\"#1f9e89\"],[0.6666666666666666,\"#35b779\"],[0.7777777777777778,\"#6ece58\"],[0.8888888888888888,\"#b5de2b\"],[1.0,\"#fde725\"]]}],\"surface\":[{\"type\":\"surface\",\"colorbar\":{\"outlinewidth\":1,\"tickcolor\":\"rgb(36,36,36)\",\"ticks\":\"outside\"},\"colorscale\":[[0.0,\"#440154\"],[0.1111111111111111,\"#482878\"],[0.2222222222222222,\"#3e4989\"],[0.3333333333333333,\"#31688e\"],[0.4444444444444444,\"#26828e\"],[0.5555555555555556,\"#1f9e89\"],[0.6666666666666666,\"#35b779\"],[0.7777777777777778,\"#6ece58\"],[0.8888888888888888,\"#b5de2b\"],[1.0,\"#fde725\"]]}],\"mesh3d\":[{\"type\":\"mesh3d\",\"colorbar\":{\"outlinewidth\":1,\"tickcolor\":\"rgb(36,36,36)\",\"ticks\":\"outside\"}}],\"scatter\":[{\"fillpattern\":{\"fillmode\":\"overlay\",\"size\":10,\"solidity\":0.2},\"type\":\"scatter\"}],\"parcoords\":[{\"type\":\"parcoords\",\"line\":{\"colorbar\":{\"outlinewidth\":1,\"tickcolor\":\"rgb(36,36,36)\",\"ticks\":\"outside\"}}}],\"scatterpolargl\":[{\"type\":\"scatterpolargl\",\"marker\":{\"colorbar\":{\"outlinewidth\":1,\"tickcolor\":\"rgb(36,36,36)\",\"ticks\":\"outside\"}}}],\"bar\":[{\"error_x\":{\"color\":\"rgb(36,36,36)\"},\"error_y\":{\"color\":\"rgb(36,36,36)\"},\"marker\":{\"line\":{\"color\":\"white\",\"width\":0.5},\"pattern\":{\"fillmode\":\"overlay\",\"size\":10,\"solidity\":0.2}},\"type\":\"bar\"}],\"scattergeo\":[{\"type\":\"scattergeo\",\"marker\":{\"colorbar\":{\"outlinewidth\":1,\"tickcolor\":\"rgb(36,36,36)\",\"ticks\":\"outside\"}}}],\"scatterpolar\":[{\"type\":\"scatterpolar\",\"marker\":{\"colorbar\":{\"outlinewidth\":1,\"tickcolor\":\"rgb(36,36,36)\",\"ticks\":\"outside\"}}}],\"histogram\":[{\"marker\":{\"line\":{\"color\":\"white\",\"width\":0.6}},\"type\":\"histogram\"}],\"scattergl\":[{\"type\":\"scattergl\",\"marker\":{\"colorbar\":{\"outlinewidth\":1,\"tickcolor\":\"rgb(36,36,36)\",\"ticks\":\"outside\"}}}],\"scatter3d\":[{\"type\":\"scatter3d\",\"line\":{\"colorbar\":{\"outlinewidth\":1,\"tickcolor\":\"rgb(36,36,36)\",\"ticks\":\"outside\"}},\"marker\":{\"colorbar\":{\"outlinewidth\":1,\"tickcolor\":\"rgb(36,36,36)\",\"ticks\":\"outside\"}}}],\"scattermapbox\":[{\"type\":\"scattermapbox\",\"marker\":{\"colorbar\":{\"outlinewidth\":1,\"tickcolor\":\"rgb(36,36,36)\",\"ticks\":\"outside\"}}}],\"scatterternary\":[{\"type\":\"scatterternary\",\"marker\":{\"colorbar\":{\"outlinewidth\":1,\"tickcolor\":\"rgb(36,36,36)\",\"ticks\":\"outside\"}}}],\"scattercarpet\":[{\"type\":\"scattercarpet\",\"marker\":{\"colorbar\":{\"outlinewidth\":1,\"tickcolor\":\"rgb(36,36,36)\",\"ticks\":\"outside\"}}}],\"carpet\":[{\"aaxis\":{\"endlinecolor\":\"rgb(36,36,36)\",\"gridcolor\":\"white\",\"linecolor\":\"white\",\"minorgridcolor\":\"white\",\"startlinecolor\":\"rgb(36,36,36)\"},\"baxis\":{\"endlinecolor\":\"rgb(36,36,36)\",\"gridcolor\":\"white\",\"linecolor\":\"white\",\"minorgridcolor\":\"white\",\"startlinecolor\":\"rgb(36,36,36)\"},\"type\":\"carpet\"}],\"table\":[{\"cells\":{\"fill\":{\"color\":\"rgb(237,237,237)\"},\"line\":{\"color\":\"white\"}},\"header\":{\"fill\":{\"color\":\"rgb(217,217,217)\"},\"line\":{\"color\":\"white\"}},\"type\":\"table\"}],\"barpolar\":[{\"marker\":{\"line\":{\"color\":\"white\",\"width\":0.5},\"pattern\":{\"fillmode\":\"overlay\",\"size\":10,\"solidity\":0.2}},\"type\":\"barpolar\"}],\"pie\":[{\"automargin\":true,\"type\":\"pie\"}]},\"layout\":{\"autotypenumbers\":\"strict\",\"colorway\":[\"#1F77B4\",\"#FF7F0E\",\"#2CA02C\",\"#D62728\",\"#9467BD\",\"#8C564B\",\"#E377C2\",\"#7F7F7F\",\"#BCBD22\",\"#17BECF\"],\"font\":{\"color\":\"rgb(36,36,36)\"},\"hovermode\":\"closest\",\"hoverlabel\":{\"align\":\"left\"},\"paper_bgcolor\":\"white\",\"plot_bgcolor\":\"white\",\"polar\":{\"bgcolor\":\"white\",\"angularaxis\":{\"gridcolor\":\"rgb(232,232,232)\",\"linecolor\":\"rgb(36,36,36)\",\"showgrid\":false,\"showline\":true,\"ticks\":\"outside\"},\"radialaxis\":{\"gridcolor\":\"rgb(232,232,232)\",\"linecolor\":\"rgb(36,36,36)\",\"showgrid\":false,\"showline\":true,\"ticks\":\"outside\"}},\"ternary\":{\"bgcolor\":\"white\",\"aaxis\":{\"gridcolor\":\"rgb(232,232,232)\",\"linecolor\":\"rgb(36,36,36)\",\"showgrid\":false,\"showline\":true,\"ticks\":\"outside\"},\"baxis\":{\"gridcolor\":\"rgb(232,232,232)\",\"linecolor\":\"rgb(36,36,36)\",\"showgrid\":false,\"showline\":true,\"ticks\":\"outside\"},\"caxis\":{\"gridcolor\":\"rgb(232,232,232)\",\"linecolor\":\"rgb(36,36,36)\",\"showgrid\":false,\"showline\":true,\"ticks\":\"outside\"}},\"coloraxis\":{\"colorbar\":{\"outlinewidth\":1,\"tickcolor\":\"rgb(36,36,36)\",\"ticks\":\"outside\"}},\"colorscale\":{\"sequential\":[[0.0,\"#440154\"],[0.1111111111111111,\"#482878\"],[0.2222222222222222,\"#3e4989\"],[0.3333333333333333,\"#31688e\"],[0.4444444444444444,\"#26828e\"],[0.5555555555555556,\"#1f9e89\"],[0.6666666666666666,\"#35b779\"],[0.7777777777777778,\"#6ece58\"],[0.8888888888888888,\"#b5de2b\"],[1.0,\"#fde725\"]],\"sequentialminus\":[[0.0,\"#440154\"],[0.1111111111111111,\"#482878\"],[0.2222222222222222,\"#3e4989\"],[0.3333333333333333,\"#31688e\"],[0.4444444444444444,\"#26828e\"],[0.5555555555555556,\"#1f9e89\"],[0.6666666666666666,\"#35b779\"],[0.7777777777777778,\"#6ece58\"],[0.8888888888888888,\"#b5de2b\"],[1.0,\"#fde725\"]],\"diverging\":[[0.0,\"rgb(103,0,31)\"],[0.1,\"rgb(178,24,43)\"],[0.2,\"rgb(214,96,77)\"],[0.3,\"rgb(244,165,130)\"],[0.4,\"rgb(253,219,199)\"],[0.5,\"rgb(247,247,247)\"],[0.6,\"rgb(209,229,240)\"],[0.7,\"rgb(146,197,222)\"],[0.8,\"rgb(67,147,195)\"],[0.9,\"rgb(33,102,172)\"],[1.0,\"rgb(5,48,97)\"]]},\"xaxis\":{\"gridcolor\":\"rgb(232,232,232)\",\"linecolor\":\"rgb(36,36,36)\",\"showgrid\":false,\"showline\":true,\"ticks\":\"outside\",\"title\":{\"standoff\":15},\"zerolinecolor\":\"rgb(36,36,36)\",\"automargin\":true,\"zeroline\":false},\"yaxis\":{\"gridcolor\":\"rgb(232,232,232)\",\"linecolor\":\"rgb(36,36,36)\",\"showgrid\":false,\"showline\":true,\"ticks\":\"outside\",\"title\":{\"standoff\":15},\"zerolinecolor\":\"rgb(36,36,36)\",\"automargin\":true,\"zeroline\":false},\"scene\":{\"xaxis\":{\"backgroundcolor\":\"white\",\"gridcolor\":\"rgb(232,232,232)\",\"linecolor\":\"rgb(36,36,36)\",\"showbackground\":true,\"showgrid\":false,\"showline\":true,\"ticks\":\"outside\",\"zerolinecolor\":\"rgb(36,36,36)\",\"gridwidth\":2,\"zeroline\":false},\"yaxis\":{\"backgroundcolor\":\"white\",\"gridcolor\":\"rgb(232,232,232)\",\"linecolor\":\"rgb(36,36,36)\",\"showbackground\":true,\"showgrid\":false,\"showline\":true,\"ticks\":\"outside\",\"zerolinecolor\":\"rgb(36,36,36)\",\"gridwidth\":2,\"zeroline\":false},\"zaxis\":{\"backgroundcolor\":\"white\",\"gridcolor\":\"rgb(232,232,232)\",\"linecolor\":\"rgb(36,36,36)\",\"showbackground\":true,\"showgrid\":false,\"showline\":true,\"ticks\":\"outside\",\"zerolinecolor\":\"rgb(36,36,36)\",\"gridwidth\":2,\"zeroline\":false}},\"shapedefaults\":{\"fillcolor\":\"black\",\"line\":{\"width\":0},\"opacity\":0.3},\"annotationdefaults\":{\"arrowhead\":0,\"arrowwidth\":1},\"geo\":{\"bgcolor\":\"white\",\"landcolor\":\"white\",\"subunitcolor\":\"white\",\"showland\":true,\"showlakes\":true,\"lakecolor\":\"white\"},\"title\":{\"x\":0.05},\"mapbox\":{\"style\":\"light\"}}},\"xaxis\":{\"anchor\":\"y\",\"domain\":[0.0,1.0],\"title\":{\"text\":\"# month\"}},\"yaxis\":{\"anchor\":\"x\",\"domain\":[0.0,1.0],\"title\":{\"text\":\"retention, %\"}},\"legend\":{\"title\":{\"text\":\"cohort\"},\"tracegroupgap\":0},\"title\":{\"text\":\"Revenue Retention normed on 1st month\"}},                        {\"responsive\": true}                    ).then(function(){\n",
       "                            \n",
       "var gd = document.getElementById('7a3cd139-eac1-4397-8897-ed67fde7ebba');\n",
       "var x = new MutationObserver(function (mutations, observer) {{\n",
       "        var display = window.getComputedStyle(gd).display;\n",
       "        if (!display || display === 'none') {{\n",
       "            console.log([gd, 'removed!']);\n",
       "            Plotly.purge(gd);\n",
       "            observer.disconnect();\n",
       "        }}\n",
       "}});\n",
       "\n",
       "// Listen for the removal of the full notebook cells\n",
       "var notebookContainer = gd.closest('#notebook-container');\n",
       "if (notebookContainer) {{\n",
       "    x.observe(notebookContainer, {childList: true});\n",
       "}}\n",
       "\n",
       "// Listen for the clearing of the current output cell\n",
       "var outputEl = gd.closest('.output');\n",
       "if (outputEl) {{\n",
       "    x.observe(outputEl, {childList: true});\n",
       "}}\n",
       "\n",
       "                        })                };                });            </script>        </div>"
      ]
     },
     "metadata": {},
     "output_type": "display_data"
    }
   ],
   "source": [
    "px.line(rev_ret_df.apply(lambda x: x/rev_ret_df.iloc[0], axis = 1)[['cohort1_revenue', 'cohort2_revenue']].rename(\n",
    "    columns = {'cohort1_revenue': 'cohort1', 'cohort2_revenue': 'cohort2'}),\n",
    "    title = 'Revenue Retention normed on 1st month',\n",
    "    labels = {\n",
    "        'value': 'retention, %',\n",
    "        'num_month': '# month',\n",
    "        'variable': 'cohort'\n",
    "    }\n",
    ")"
   ]
  },
  {
   "cell_type": "code",
   "execution_count": 197,
   "id": "18bc54c1",
   "metadata": {},
   "outputs": [
    {
     "data": {
      "application/vnd.plotly.v1+json": {
       "config": {
        "plotlyServerURL": "https://plot.ly"
       },
       "data": [
        {
         "hovertemplate": "cohort=cohort1<br># month=%{x}<br>revenue in USD=%{y}<extra></extra>",
         "legendgroup": "cohort1",
         "line": {
          "color": "#1F77B4",
          "dash": "solid"
         },
         "marker": {
          "symbol": "circle"
         },
         "mode": "lines",
         "name": "cohort1",
         "orientation": "v",
         "showlegend": true,
         "type": "scatter",
         "x": [
          0,
          1,
          2,
          3,
          4,
          5,
          6,
          7,
          8,
          9,
          10,
          11,
          12
         ],
         "xaxis": "x",
         "y": [
          564.1615491368057,
          302.6609225339103,
          234.43476574389038,
          172.42786565748145,
          159.46665382007998,
          141.70962932434225,
          127.10244891692977,
          119.44907012935181,
          105.05606131759443,
          97.00262449150458,
          101.2642482660594,
          91.54682555099886,
          90.64325050760452
         ],
         "yaxis": "y"
        },
        {
         "hovertemplate": "cohort=cohort2<br># month=%{x}<br>revenue in USD=%{y}<extra></extra>",
         "legendgroup": "cohort2",
         "line": {
          "color": "#FF7F0E",
          "dash": "solid"
         },
         "marker": {
          "symbol": "circle"
         },
         "mode": "lines",
         "name": "cohort2",
         "orientation": "v",
         "showlegend": true,
         "type": "scatter",
         "x": [
          0,
          1,
          2,
          3,
          4,
          5,
          6,
          7,
          8,
          9,
          10,
          11,
          12
         ],
         "xaxis": "x",
         "y": [
          793.6253350305508,
          290.81565351807785,
          253.46026086380792,
          201.38047664195423,
          169.56127861090144,
          153.90560309193376,
          121.95100585065721,
          118.2696244247016,
          100.9388639049823,
          105.658270202894,
          104.09953834297698,
          93.02080191868846,
          88.17207704229615
         ],
         "yaxis": "y"
        }
       ],
       "layout": {
        "legend": {
         "title": {
          "text": "cohort"
         },
         "tracegroupgap": 0
        },
        "template": {
         "data": {
          "bar": [
           {
            "error_x": {
             "color": "rgb(36,36,36)"
            },
            "error_y": {
             "color": "rgb(36,36,36)"
            },
            "marker": {
             "line": {
              "color": "white",
              "width": 0.5
             },
             "pattern": {
              "fillmode": "overlay",
              "size": 10,
              "solidity": 0.2
             }
            },
            "type": "bar"
           }
          ],
          "barpolar": [
           {
            "marker": {
             "line": {
              "color": "white",
              "width": 0.5
             },
             "pattern": {
              "fillmode": "overlay",
              "size": 10,
              "solidity": 0.2
             }
            },
            "type": "barpolar"
           }
          ],
          "carpet": [
           {
            "aaxis": {
             "endlinecolor": "rgb(36,36,36)",
             "gridcolor": "white",
             "linecolor": "white",
             "minorgridcolor": "white",
             "startlinecolor": "rgb(36,36,36)"
            },
            "baxis": {
             "endlinecolor": "rgb(36,36,36)",
             "gridcolor": "white",
             "linecolor": "white",
             "minorgridcolor": "white",
             "startlinecolor": "rgb(36,36,36)"
            },
            "type": "carpet"
           }
          ],
          "choropleth": [
           {
            "colorbar": {
             "outlinewidth": 1,
             "tickcolor": "rgb(36,36,36)",
             "ticks": "outside"
            },
            "type": "choropleth"
           }
          ],
          "contour": [
           {
            "colorbar": {
             "outlinewidth": 1,
             "tickcolor": "rgb(36,36,36)",
             "ticks": "outside"
            },
            "colorscale": [
             [
              0,
              "#440154"
             ],
             [
              0.1111111111111111,
              "#482878"
             ],
             [
              0.2222222222222222,
              "#3e4989"
             ],
             [
              0.3333333333333333,
              "#31688e"
             ],
             [
              0.4444444444444444,
              "#26828e"
             ],
             [
              0.5555555555555556,
              "#1f9e89"
             ],
             [
              0.6666666666666666,
              "#35b779"
             ],
             [
              0.7777777777777778,
              "#6ece58"
             ],
             [
              0.8888888888888888,
              "#b5de2b"
             ],
             [
              1,
              "#fde725"
             ]
            ],
            "type": "contour"
           }
          ],
          "contourcarpet": [
           {
            "colorbar": {
             "outlinewidth": 1,
             "tickcolor": "rgb(36,36,36)",
             "ticks": "outside"
            },
            "type": "contourcarpet"
           }
          ],
          "heatmap": [
           {
            "colorbar": {
             "outlinewidth": 1,
             "tickcolor": "rgb(36,36,36)",
             "ticks": "outside"
            },
            "colorscale": [
             [
              0,
              "#440154"
             ],
             [
              0.1111111111111111,
              "#482878"
             ],
             [
              0.2222222222222222,
              "#3e4989"
             ],
             [
              0.3333333333333333,
              "#31688e"
             ],
             [
              0.4444444444444444,
              "#26828e"
             ],
             [
              0.5555555555555556,
              "#1f9e89"
             ],
             [
              0.6666666666666666,
              "#35b779"
             ],
             [
              0.7777777777777778,
              "#6ece58"
             ],
             [
              0.8888888888888888,
              "#b5de2b"
             ],
             [
              1,
              "#fde725"
             ]
            ],
            "type": "heatmap"
           }
          ],
          "heatmapgl": [
           {
            "colorbar": {
             "outlinewidth": 1,
             "tickcolor": "rgb(36,36,36)",
             "ticks": "outside"
            },
            "colorscale": [
             [
              0,
              "#440154"
             ],
             [
              0.1111111111111111,
              "#482878"
             ],
             [
              0.2222222222222222,
              "#3e4989"
             ],
             [
              0.3333333333333333,
              "#31688e"
             ],
             [
              0.4444444444444444,
              "#26828e"
             ],
             [
              0.5555555555555556,
              "#1f9e89"
             ],
             [
              0.6666666666666666,
              "#35b779"
             ],
             [
              0.7777777777777778,
              "#6ece58"
             ],
             [
              0.8888888888888888,
              "#b5de2b"
             ],
             [
              1,
              "#fde725"
             ]
            ],
            "type": "heatmapgl"
           }
          ],
          "histogram": [
           {
            "marker": {
             "line": {
              "color": "white",
              "width": 0.6
             }
            },
            "type": "histogram"
           }
          ],
          "histogram2d": [
           {
            "colorbar": {
             "outlinewidth": 1,
             "tickcolor": "rgb(36,36,36)",
             "ticks": "outside"
            },
            "colorscale": [
             [
              0,
              "#440154"
             ],
             [
              0.1111111111111111,
              "#482878"
             ],
             [
              0.2222222222222222,
              "#3e4989"
             ],
             [
              0.3333333333333333,
              "#31688e"
             ],
             [
              0.4444444444444444,
              "#26828e"
             ],
             [
              0.5555555555555556,
              "#1f9e89"
             ],
             [
              0.6666666666666666,
              "#35b779"
             ],
             [
              0.7777777777777778,
              "#6ece58"
             ],
             [
              0.8888888888888888,
              "#b5de2b"
             ],
             [
              1,
              "#fde725"
             ]
            ],
            "type": "histogram2d"
           }
          ],
          "histogram2dcontour": [
           {
            "colorbar": {
             "outlinewidth": 1,
             "tickcolor": "rgb(36,36,36)",
             "ticks": "outside"
            },
            "colorscale": [
             [
              0,
              "#440154"
             ],
             [
              0.1111111111111111,
              "#482878"
             ],
             [
              0.2222222222222222,
              "#3e4989"
             ],
             [
              0.3333333333333333,
              "#31688e"
             ],
             [
              0.4444444444444444,
              "#26828e"
             ],
             [
              0.5555555555555556,
              "#1f9e89"
             ],
             [
              0.6666666666666666,
              "#35b779"
             ],
             [
              0.7777777777777778,
              "#6ece58"
             ],
             [
              0.8888888888888888,
              "#b5de2b"
             ],
             [
              1,
              "#fde725"
             ]
            ],
            "type": "histogram2dcontour"
           }
          ],
          "mesh3d": [
           {
            "colorbar": {
             "outlinewidth": 1,
             "tickcolor": "rgb(36,36,36)",
             "ticks": "outside"
            },
            "type": "mesh3d"
           }
          ],
          "parcoords": [
           {
            "line": {
             "colorbar": {
              "outlinewidth": 1,
              "tickcolor": "rgb(36,36,36)",
              "ticks": "outside"
             }
            },
            "type": "parcoords"
           }
          ],
          "pie": [
           {
            "automargin": true,
            "type": "pie"
           }
          ],
          "scatter": [
           {
            "fillpattern": {
             "fillmode": "overlay",
             "size": 10,
             "solidity": 0.2
            },
            "type": "scatter"
           }
          ],
          "scatter3d": [
           {
            "line": {
             "colorbar": {
              "outlinewidth": 1,
              "tickcolor": "rgb(36,36,36)",
              "ticks": "outside"
             }
            },
            "marker": {
             "colorbar": {
              "outlinewidth": 1,
              "tickcolor": "rgb(36,36,36)",
              "ticks": "outside"
             }
            },
            "type": "scatter3d"
           }
          ],
          "scattercarpet": [
           {
            "marker": {
             "colorbar": {
              "outlinewidth": 1,
              "tickcolor": "rgb(36,36,36)",
              "ticks": "outside"
             }
            },
            "type": "scattercarpet"
           }
          ],
          "scattergeo": [
           {
            "marker": {
             "colorbar": {
              "outlinewidth": 1,
              "tickcolor": "rgb(36,36,36)",
              "ticks": "outside"
             }
            },
            "type": "scattergeo"
           }
          ],
          "scattergl": [
           {
            "marker": {
             "colorbar": {
              "outlinewidth": 1,
              "tickcolor": "rgb(36,36,36)",
              "ticks": "outside"
             }
            },
            "type": "scattergl"
           }
          ],
          "scattermapbox": [
           {
            "marker": {
             "colorbar": {
              "outlinewidth": 1,
              "tickcolor": "rgb(36,36,36)",
              "ticks": "outside"
             }
            },
            "type": "scattermapbox"
           }
          ],
          "scatterpolar": [
           {
            "marker": {
             "colorbar": {
              "outlinewidth": 1,
              "tickcolor": "rgb(36,36,36)",
              "ticks": "outside"
             }
            },
            "type": "scatterpolar"
           }
          ],
          "scatterpolargl": [
           {
            "marker": {
             "colorbar": {
              "outlinewidth": 1,
              "tickcolor": "rgb(36,36,36)",
              "ticks": "outside"
             }
            },
            "type": "scatterpolargl"
           }
          ],
          "scatterternary": [
           {
            "marker": {
             "colorbar": {
              "outlinewidth": 1,
              "tickcolor": "rgb(36,36,36)",
              "ticks": "outside"
             }
            },
            "type": "scatterternary"
           }
          ],
          "surface": [
           {
            "colorbar": {
             "outlinewidth": 1,
             "tickcolor": "rgb(36,36,36)",
             "ticks": "outside"
            },
            "colorscale": [
             [
              0,
              "#440154"
             ],
             [
              0.1111111111111111,
              "#482878"
             ],
             [
              0.2222222222222222,
              "#3e4989"
             ],
             [
              0.3333333333333333,
              "#31688e"
             ],
             [
              0.4444444444444444,
              "#26828e"
             ],
             [
              0.5555555555555556,
              "#1f9e89"
             ],
             [
              0.6666666666666666,
              "#35b779"
             ],
             [
              0.7777777777777778,
              "#6ece58"
             ],
             [
              0.8888888888888888,
              "#b5de2b"
             ],
             [
              1,
              "#fde725"
             ]
            ],
            "type": "surface"
           }
          ],
          "table": [
           {
            "cells": {
             "fill": {
              "color": "rgb(237,237,237)"
             },
             "line": {
              "color": "white"
             }
            },
            "header": {
             "fill": {
              "color": "rgb(217,217,217)"
             },
             "line": {
              "color": "white"
             }
            },
            "type": "table"
           }
          ]
         },
         "layout": {
          "annotationdefaults": {
           "arrowhead": 0,
           "arrowwidth": 1
          },
          "autotypenumbers": "strict",
          "coloraxis": {
           "colorbar": {
            "outlinewidth": 1,
            "tickcolor": "rgb(36,36,36)",
            "ticks": "outside"
           }
          },
          "colorscale": {
           "diverging": [
            [
             0,
             "rgb(103,0,31)"
            ],
            [
             0.1,
             "rgb(178,24,43)"
            ],
            [
             0.2,
             "rgb(214,96,77)"
            ],
            [
             0.3,
             "rgb(244,165,130)"
            ],
            [
             0.4,
             "rgb(253,219,199)"
            ],
            [
             0.5,
             "rgb(247,247,247)"
            ],
            [
             0.6,
             "rgb(209,229,240)"
            ],
            [
             0.7,
             "rgb(146,197,222)"
            ],
            [
             0.8,
             "rgb(67,147,195)"
            ],
            [
             0.9,
             "rgb(33,102,172)"
            ],
            [
             1,
             "rgb(5,48,97)"
            ]
           ],
           "sequential": [
            [
             0,
             "#440154"
            ],
            [
             0.1111111111111111,
             "#482878"
            ],
            [
             0.2222222222222222,
             "#3e4989"
            ],
            [
             0.3333333333333333,
             "#31688e"
            ],
            [
             0.4444444444444444,
             "#26828e"
            ],
            [
             0.5555555555555556,
             "#1f9e89"
            ],
            [
             0.6666666666666666,
             "#35b779"
            ],
            [
             0.7777777777777778,
             "#6ece58"
            ],
            [
             0.8888888888888888,
             "#b5de2b"
            ],
            [
             1,
             "#fde725"
            ]
           ],
           "sequentialminus": [
            [
             0,
             "#440154"
            ],
            [
             0.1111111111111111,
             "#482878"
            ],
            [
             0.2222222222222222,
             "#3e4989"
            ],
            [
             0.3333333333333333,
             "#31688e"
            ],
            [
             0.4444444444444444,
             "#26828e"
            ],
            [
             0.5555555555555556,
             "#1f9e89"
            ],
            [
             0.6666666666666666,
             "#35b779"
            ],
            [
             0.7777777777777778,
             "#6ece58"
            ],
            [
             0.8888888888888888,
             "#b5de2b"
            ],
            [
             1,
             "#fde725"
            ]
           ]
          },
          "colorway": [
           "#1F77B4",
           "#FF7F0E",
           "#2CA02C",
           "#D62728",
           "#9467BD",
           "#8C564B",
           "#E377C2",
           "#7F7F7F",
           "#BCBD22",
           "#17BECF"
          ],
          "font": {
           "color": "rgb(36,36,36)"
          },
          "geo": {
           "bgcolor": "white",
           "lakecolor": "white",
           "landcolor": "white",
           "showlakes": true,
           "showland": true,
           "subunitcolor": "white"
          },
          "hoverlabel": {
           "align": "left"
          },
          "hovermode": "closest",
          "mapbox": {
           "style": "light"
          },
          "paper_bgcolor": "white",
          "plot_bgcolor": "white",
          "polar": {
           "angularaxis": {
            "gridcolor": "rgb(232,232,232)",
            "linecolor": "rgb(36,36,36)",
            "showgrid": false,
            "showline": true,
            "ticks": "outside"
           },
           "bgcolor": "white",
           "radialaxis": {
            "gridcolor": "rgb(232,232,232)",
            "linecolor": "rgb(36,36,36)",
            "showgrid": false,
            "showline": true,
            "ticks": "outside"
           }
          },
          "scene": {
           "xaxis": {
            "backgroundcolor": "white",
            "gridcolor": "rgb(232,232,232)",
            "gridwidth": 2,
            "linecolor": "rgb(36,36,36)",
            "showbackground": true,
            "showgrid": false,
            "showline": true,
            "ticks": "outside",
            "zeroline": false,
            "zerolinecolor": "rgb(36,36,36)"
           },
           "yaxis": {
            "backgroundcolor": "white",
            "gridcolor": "rgb(232,232,232)",
            "gridwidth": 2,
            "linecolor": "rgb(36,36,36)",
            "showbackground": true,
            "showgrid": false,
            "showline": true,
            "ticks": "outside",
            "zeroline": false,
            "zerolinecolor": "rgb(36,36,36)"
           },
           "zaxis": {
            "backgroundcolor": "white",
            "gridcolor": "rgb(232,232,232)",
            "gridwidth": 2,
            "linecolor": "rgb(36,36,36)",
            "showbackground": true,
            "showgrid": false,
            "showline": true,
            "ticks": "outside",
            "zeroline": false,
            "zerolinecolor": "rgb(36,36,36)"
           }
          },
          "shapedefaults": {
           "fillcolor": "black",
           "line": {
            "width": 0
           },
           "opacity": 0.3
          },
          "ternary": {
           "aaxis": {
            "gridcolor": "rgb(232,232,232)",
            "linecolor": "rgb(36,36,36)",
            "showgrid": false,
            "showline": true,
            "ticks": "outside"
           },
           "baxis": {
            "gridcolor": "rgb(232,232,232)",
            "linecolor": "rgb(36,36,36)",
            "showgrid": false,
            "showline": true,
            "ticks": "outside"
           },
           "bgcolor": "white",
           "caxis": {
            "gridcolor": "rgb(232,232,232)",
            "linecolor": "rgb(36,36,36)",
            "showgrid": false,
            "showline": true,
            "ticks": "outside"
           }
          },
          "title": {
           "x": 0.05
          },
          "xaxis": {
           "automargin": true,
           "gridcolor": "rgb(232,232,232)",
           "linecolor": "rgb(36,36,36)",
           "showgrid": false,
           "showline": true,
           "ticks": "outside",
           "title": {
            "standoff": 15
           },
           "zeroline": false,
           "zerolinecolor": "rgb(36,36,36)"
          },
          "yaxis": {
           "automargin": true,
           "gridcolor": "rgb(232,232,232)",
           "linecolor": "rgb(36,36,36)",
           "showgrid": false,
           "showline": true,
           "ticks": "outside",
           "title": {
            "standoff": 15
           },
           "zeroline": false,
           "zerolinecolor": "rgb(36,36,36)"
          }
         }
        },
        "title": {
         "text": "Revenue Retention normed on cohort size"
        },
        "xaxis": {
         "anchor": "y",
         "domain": [
          0,
          1
         ],
         "title": {
          "text": "# month"
         }
        },
        "yaxis": {
         "anchor": "x",
         "domain": [
          0,
          1
         ],
         "title": {
          "text": "revenue in USD"
         }
        }
       }
      },
      "text/html": [
       "<div>                            <div id=\"8fc8a83b-c6c8-4272-91df-e0624efcfbd7\" class=\"plotly-graph-div\" style=\"height:525px; width:100%;\"></div>            <script type=\"text/javascript\">                require([\"plotly\"], function(Plotly) {                    window.PLOTLYENV=window.PLOTLYENV || {};                                    if (document.getElementById(\"8fc8a83b-c6c8-4272-91df-e0624efcfbd7\")) {                    Plotly.newPlot(                        \"8fc8a83b-c6c8-4272-91df-e0624efcfbd7\",                        [{\"hovertemplate\":\"cohort=cohort1<br># month=%{x}<br>revenue in USD=%{y}<extra></extra>\",\"legendgroup\":\"cohort1\",\"line\":{\"color\":\"#1F77B4\",\"dash\":\"solid\"},\"marker\":{\"symbol\":\"circle\"},\"mode\":\"lines\",\"name\":\"cohort1\",\"orientation\":\"v\",\"showlegend\":true,\"x\":[0,1,2,3,4,5,6,7,8,9,10,11,12],\"xaxis\":\"x\",\"y\":[564.1615491368057,302.6609225339103,234.43476574389038,172.42786565748145,159.46665382007998,141.70962932434225,127.10244891692977,119.44907012935181,105.05606131759443,97.00262449150458,101.2642482660594,91.54682555099886,90.64325050760452],\"yaxis\":\"y\",\"type\":\"scatter\"},{\"hovertemplate\":\"cohort=cohort2<br># month=%{x}<br>revenue in USD=%{y}<extra></extra>\",\"legendgroup\":\"cohort2\",\"line\":{\"color\":\"#FF7F0E\",\"dash\":\"solid\"},\"marker\":{\"symbol\":\"circle\"},\"mode\":\"lines\",\"name\":\"cohort2\",\"orientation\":\"v\",\"showlegend\":true,\"x\":[0,1,2,3,4,5,6,7,8,9,10,11,12],\"xaxis\":\"x\",\"y\":[793.6253350305508,290.81565351807785,253.46026086380792,201.38047664195423,169.56127861090144,153.90560309193376,121.95100585065721,118.2696244247016,100.9388639049823,105.658270202894,104.09953834297698,93.02080191868846,88.17207704229615],\"yaxis\":\"y\",\"type\":\"scatter\"}],                        {\"template\":{\"data\":{\"histogram2dcontour\":[{\"type\":\"histogram2dcontour\",\"colorbar\":{\"outlinewidth\":1,\"tickcolor\":\"rgb(36,36,36)\",\"ticks\":\"outside\"},\"colorscale\":[[0.0,\"#440154\"],[0.1111111111111111,\"#482878\"],[0.2222222222222222,\"#3e4989\"],[0.3333333333333333,\"#31688e\"],[0.4444444444444444,\"#26828e\"],[0.5555555555555556,\"#1f9e89\"],[0.6666666666666666,\"#35b779\"],[0.7777777777777778,\"#6ece58\"],[0.8888888888888888,\"#b5de2b\"],[1.0,\"#fde725\"]]}],\"choropleth\":[{\"type\":\"choropleth\",\"colorbar\":{\"outlinewidth\":1,\"tickcolor\":\"rgb(36,36,36)\",\"ticks\":\"outside\"}}],\"histogram2d\":[{\"type\":\"histogram2d\",\"colorbar\":{\"outlinewidth\":1,\"tickcolor\":\"rgb(36,36,36)\",\"ticks\":\"outside\"},\"colorscale\":[[0.0,\"#440154\"],[0.1111111111111111,\"#482878\"],[0.2222222222222222,\"#3e4989\"],[0.3333333333333333,\"#31688e\"],[0.4444444444444444,\"#26828e\"],[0.5555555555555556,\"#1f9e89\"],[0.6666666666666666,\"#35b779\"],[0.7777777777777778,\"#6ece58\"],[0.8888888888888888,\"#b5de2b\"],[1.0,\"#fde725\"]]}],\"heatmap\":[{\"type\":\"heatmap\",\"colorbar\":{\"outlinewidth\":1,\"tickcolor\":\"rgb(36,36,36)\",\"ticks\":\"outside\"},\"colorscale\":[[0.0,\"#440154\"],[0.1111111111111111,\"#482878\"],[0.2222222222222222,\"#3e4989\"],[0.3333333333333333,\"#31688e\"],[0.4444444444444444,\"#26828e\"],[0.5555555555555556,\"#1f9e89\"],[0.6666666666666666,\"#35b779\"],[0.7777777777777778,\"#6ece58\"],[0.8888888888888888,\"#b5de2b\"],[1.0,\"#fde725\"]]}],\"heatmapgl\":[{\"type\":\"heatmapgl\",\"colorbar\":{\"outlinewidth\":1,\"tickcolor\":\"rgb(36,36,36)\",\"ticks\":\"outside\"},\"colorscale\":[[0.0,\"#440154\"],[0.1111111111111111,\"#482878\"],[0.2222222222222222,\"#3e4989\"],[0.3333333333333333,\"#31688e\"],[0.4444444444444444,\"#26828e\"],[0.5555555555555556,\"#1f9e89\"],[0.6666666666666666,\"#35b779\"],[0.7777777777777778,\"#6ece58\"],[0.8888888888888888,\"#b5de2b\"],[1.0,\"#fde725\"]]}],\"contourcarpet\":[{\"type\":\"contourcarpet\",\"colorbar\":{\"outlinewidth\":1,\"tickcolor\":\"rgb(36,36,36)\",\"ticks\":\"outside\"}}],\"contour\":[{\"type\":\"contour\",\"colorbar\":{\"outlinewidth\":1,\"tickcolor\":\"rgb(36,36,36)\",\"ticks\":\"outside\"},\"colorscale\":[[0.0,\"#440154\"],[0.1111111111111111,\"#482878\"],[0.2222222222222222,\"#3e4989\"],[0.3333333333333333,\"#31688e\"],[0.4444444444444444,\"#26828e\"],[0.5555555555555556,\"#1f9e89\"],[0.6666666666666666,\"#35b779\"],[0.7777777777777778,\"#6ece58\"],[0.8888888888888888,\"#b5de2b\"],[1.0,\"#fde725\"]]}],\"surface\":[{\"type\":\"surface\",\"colorbar\":{\"outlinewidth\":1,\"tickcolor\":\"rgb(36,36,36)\",\"ticks\":\"outside\"},\"colorscale\":[[0.0,\"#440154\"],[0.1111111111111111,\"#482878\"],[0.2222222222222222,\"#3e4989\"],[0.3333333333333333,\"#31688e\"],[0.4444444444444444,\"#26828e\"],[0.5555555555555556,\"#1f9e89\"],[0.6666666666666666,\"#35b779\"],[0.7777777777777778,\"#6ece58\"],[0.8888888888888888,\"#b5de2b\"],[1.0,\"#fde725\"]]}],\"mesh3d\":[{\"type\":\"mesh3d\",\"colorbar\":{\"outlinewidth\":1,\"tickcolor\":\"rgb(36,36,36)\",\"ticks\":\"outside\"}}],\"scatter\":[{\"fillpattern\":{\"fillmode\":\"overlay\",\"size\":10,\"solidity\":0.2},\"type\":\"scatter\"}],\"parcoords\":[{\"type\":\"parcoords\",\"line\":{\"colorbar\":{\"outlinewidth\":1,\"tickcolor\":\"rgb(36,36,36)\",\"ticks\":\"outside\"}}}],\"scatterpolargl\":[{\"type\":\"scatterpolargl\",\"marker\":{\"colorbar\":{\"outlinewidth\":1,\"tickcolor\":\"rgb(36,36,36)\",\"ticks\":\"outside\"}}}],\"bar\":[{\"error_x\":{\"color\":\"rgb(36,36,36)\"},\"error_y\":{\"color\":\"rgb(36,36,36)\"},\"marker\":{\"line\":{\"color\":\"white\",\"width\":0.5},\"pattern\":{\"fillmode\":\"overlay\",\"size\":10,\"solidity\":0.2}},\"type\":\"bar\"}],\"scattergeo\":[{\"type\":\"scattergeo\",\"marker\":{\"colorbar\":{\"outlinewidth\":1,\"tickcolor\":\"rgb(36,36,36)\",\"ticks\":\"outside\"}}}],\"scatterpolar\":[{\"type\":\"scatterpolar\",\"marker\":{\"colorbar\":{\"outlinewidth\":1,\"tickcolor\":\"rgb(36,36,36)\",\"ticks\":\"outside\"}}}],\"histogram\":[{\"marker\":{\"line\":{\"color\":\"white\",\"width\":0.6}},\"type\":\"histogram\"}],\"scattergl\":[{\"type\":\"scattergl\",\"marker\":{\"colorbar\":{\"outlinewidth\":1,\"tickcolor\":\"rgb(36,36,36)\",\"ticks\":\"outside\"}}}],\"scatter3d\":[{\"type\":\"scatter3d\",\"line\":{\"colorbar\":{\"outlinewidth\":1,\"tickcolor\":\"rgb(36,36,36)\",\"ticks\":\"outside\"}},\"marker\":{\"colorbar\":{\"outlinewidth\":1,\"tickcolor\":\"rgb(36,36,36)\",\"ticks\":\"outside\"}}}],\"scattermapbox\":[{\"type\":\"scattermapbox\",\"marker\":{\"colorbar\":{\"outlinewidth\":1,\"tickcolor\":\"rgb(36,36,36)\",\"ticks\":\"outside\"}}}],\"scatterternary\":[{\"type\":\"scatterternary\",\"marker\":{\"colorbar\":{\"outlinewidth\":1,\"tickcolor\":\"rgb(36,36,36)\",\"ticks\":\"outside\"}}}],\"scattercarpet\":[{\"type\":\"scattercarpet\",\"marker\":{\"colorbar\":{\"outlinewidth\":1,\"tickcolor\":\"rgb(36,36,36)\",\"ticks\":\"outside\"}}}],\"carpet\":[{\"aaxis\":{\"endlinecolor\":\"rgb(36,36,36)\",\"gridcolor\":\"white\",\"linecolor\":\"white\",\"minorgridcolor\":\"white\",\"startlinecolor\":\"rgb(36,36,36)\"},\"baxis\":{\"endlinecolor\":\"rgb(36,36,36)\",\"gridcolor\":\"white\",\"linecolor\":\"white\",\"minorgridcolor\":\"white\",\"startlinecolor\":\"rgb(36,36,36)\"},\"type\":\"carpet\"}],\"table\":[{\"cells\":{\"fill\":{\"color\":\"rgb(237,237,237)\"},\"line\":{\"color\":\"white\"}},\"header\":{\"fill\":{\"color\":\"rgb(217,217,217)\"},\"line\":{\"color\":\"white\"}},\"type\":\"table\"}],\"barpolar\":[{\"marker\":{\"line\":{\"color\":\"white\",\"width\":0.5},\"pattern\":{\"fillmode\":\"overlay\",\"size\":10,\"solidity\":0.2}},\"type\":\"barpolar\"}],\"pie\":[{\"automargin\":true,\"type\":\"pie\"}]},\"layout\":{\"autotypenumbers\":\"strict\",\"colorway\":[\"#1F77B4\",\"#FF7F0E\",\"#2CA02C\",\"#D62728\",\"#9467BD\",\"#8C564B\",\"#E377C2\",\"#7F7F7F\",\"#BCBD22\",\"#17BECF\"],\"font\":{\"color\":\"rgb(36,36,36)\"},\"hovermode\":\"closest\",\"hoverlabel\":{\"align\":\"left\"},\"paper_bgcolor\":\"white\",\"plot_bgcolor\":\"white\",\"polar\":{\"bgcolor\":\"white\",\"angularaxis\":{\"gridcolor\":\"rgb(232,232,232)\",\"linecolor\":\"rgb(36,36,36)\",\"showgrid\":false,\"showline\":true,\"ticks\":\"outside\"},\"radialaxis\":{\"gridcolor\":\"rgb(232,232,232)\",\"linecolor\":\"rgb(36,36,36)\",\"showgrid\":false,\"showline\":true,\"ticks\":\"outside\"}},\"ternary\":{\"bgcolor\":\"white\",\"aaxis\":{\"gridcolor\":\"rgb(232,232,232)\",\"linecolor\":\"rgb(36,36,36)\",\"showgrid\":false,\"showline\":true,\"ticks\":\"outside\"},\"baxis\":{\"gridcolor\":\"rgb(232,232,232)\",\"linecolor\":\"rgb(36,36,36)\",\"showgrid\":false,\"showline\":true,\"ticks\":\"outside\"},\"caxis\":{\"gridcolor\":\"rgb(232,232,232)\",\"linecolor\":\"rgb(36,36,36)\",\"showgrid\":false,\"showline\":true,\"ticks\":\"outside\"}},\"coloraxis\":{\"colorbar\":{\"outlinewidth\":1,\"tickcolor\":\"rgb(36,36,36)\",\"ticks\":\"outside\"}},\"colorscale\":{\"sequential\":[[0.0,\"#440154\"],[0.1111111111111111,\"#482878\"],[0.2222222222222222,\"#3e4989\"],[0.3333333333333333,\"#31688e\"],[0.4444444444444444,\"#26828e\"],[0.5555555555555556,\"#1f9e89\"],[0.6666666666666666,\"#35b779\"],[0.7777777777777778,\"#6ece58\"],[0.8888888888888888,\"#b5de2b\"],[1.0,\"#fde725\"]],\"sequentialminus\":[[0.0,\"#440154\"],[0.1111111111111111,\"#482878\"],[0.2222222222222222,\"#3e4989\"],[0.3333333333333333,\"#31688e\"],[0.4444444444444444,\"#26828e\"],[0.5555555555555556,\"#1f9e89\"],[0.6666666666666666,\"#35b779\"],[0.7777777777777778,\"#6ece58\"],[0.8888888888888888,\"#b5de2b\"],[1.0,\"#fde725\"]],\"diverging\":[[0.0,\"rgb(103,0,31)\"],[0.1,\"rgb(178,24,43)\"],[0.2,\"rgb(214,96,77)\"],[0.3,\"rgb(244,165,130)\"],[0.4,\"rgb(253,219,199)\"],[0.5,\"rgb(247,247,247)\"],[0.6,\"rgb(209,229,240)\"],[0.7,\"rgb(146,197,222)\"],[0.8,\"rgb(67,147,195)\"],[0.9,\"rgb(33,102,172)\"],[1.0,\"rgb(5,48,97)\"]]},\"xaxis\":{\"gridcolor\":\"rgb(232,232,232)\",\"linecolor\":\"rgb(36,36,36)\",\"showgrid\":false,\"showline\":true,\"ticks\":\"outside\",\"title\":{\"standoff\":15},\"zerolinecolor\":\"rgb(36,36,36)\",\"automargin\":true,\"zeroline\":false},\"yaxis\":{\"gridcolor\":\"rgb(232,232,232)\",\"linecolor\":\"rgb(36,36,36)\",\"showgrid\":false,\"showline\":true,\"ticks\":\"outside\",\"title\":{\"standoff\":15},\"zerolinecolor\":\"rgb(36,36,36)\",\"automargin\":true,\"zeroline\":false},\"scene\":{\"xaxis\":{\"backgroundcolor\":\"white\",\"gridcolor\":\"rgb(232,232,232)\",\"linecolor\":\"rgb(36,36,36)\",\"showbackground\":true,\"showgrid\":false,\"showline\":true,\"ticks\":\"outside\",\"zerolinecolor\":\"rgb(36,36,36)\",\"gridwidth\":2,\"zeroline\":false},\"yaxis\":{\"backgroundcolor\":\"white\",\"gridcolor\":\"rgb(232,232,232)\",\"linecolor\":\"rgb(36,36,36)\",\"showbackground\":true,\"showgrid\":false,\"showline\":true,\"ticks\":\"outside\",\"zerolinecolor\":\"rgb(36,36,36)\",\"gridwidth\":2,\"zeroline\":false},\"zaxis\":{\"backgroundcolor\":\"white\",\"gridcolor\":\"rgb(232,232,232)\",\"linecolor\":\"rgb(36,36,36)\",\"showbackground\":true,\"showgrid\":false,\"showline\":true,\"ticks\":\"outside\",\"zerolinecolor\":\"rgb(36,36,36)\",\"gridwidth\":2,\"zeroline\":false}},\"shapedefaults\":{\"fillcolor\":\"black\",\"line\":{\"width\":0},\"opacity\":0.3},\"annotationdefaults\":{\"arrowhead\":0,\"arrowwidth\":1},\"geo\":{\"bgcolor\":\"white\",\"landcolor\":\"white\",\"subunitcolor\":\"white\",\"showland\":true,\"showlakes\":true,\"lakecolor\":\"white\"},\"title\":{\"x\":0.05},\"mapbox\":{\"style\":\"light\"}}},\"xaxis\":{\"anchor\":\"y\",\"domain\":[0.0,1.0],\"title\":{\"text\":\"# month\"}},\"yaxis\":{\"anchor\":\"x\",\"domain\":[0.0,1.0],\"title\":{\"text\":\"revenue in USD\"}},\"legend\":{\"title\":{\"text\":\"cohort\"},\"tracegroupgap\":0},\"title\":{\"text\":\"Revenue Retention normed on cohort size\"}},                        {\"responsive\": true}                    ).then(function(){\n",
       "                            \n",
       "var gd = document.getElementById('8fc8a83b-c6c8-4272-91df-e0624efcfbd7');\n",
       "var x = new MutationObserver(function (mutations, observer) {{\n",
       "        var display = window.getComputedStyle(gd).display;\n",
       "        if (!display || display === 'none') {{\n",
       "            console.log([gd, 'removed!']);\n",
       "            Plotly.purge(gd);\n",
       "            observer.disconnect();\n",
       "        }}\n",
       "}});\n",
       "\n",
       "// Listen for the removal of the full notebook cells\n",
       "var notebookContainer = gd.closest('#notebook-container');\n",
       "if (notebookContainer) {{\n",
       "    x.observe(notebookContainer, {childList: true});\n",
       "}}\n",
       "\n",
       "// Listen for the clearing of the current output cell\n",
       "var outputEl = gd.closest('.output');\n",
       "if (outputEl) {{\n",
       "    x.observe(outputEl, {childList: true});\n",
       "}}\n",
       "\n",
       "                        })                };                });            </script>        </div>"
      ]
     },
     "metadata": {},
     "output_type": "display_data"
    }
   ],
   "source": [
    "px.line(rev_ret_df.apply(lambda x: x/cohort_size)[['cohort1_revenue', 'cohort2_revenue']].rename(\n",
    "    columns = {'cohort1_revenue': 'cohort1', 'cohort2_revenue': 'cohort2'}),\n",
    "    title = 'Revenue Retention normed on cohort size',\n",
    "    labels = {\n",
    "        'value': 'revenue in USD',\n",
    "        'num_month': '# month',\n",
    "        'variable': 'cohort'\n",
    "    }\n",
    ")"
   ]
  },
  {
   "cell_type": "markdown",
   "id": "4242362b",
   "metadata": {},
   "source": [
    "### Predicted retention"
   ]
  },
  {
   "cell_type": "code",
   "execution_count": 253,
   "id": "98a6119a",
   "metadata": {},
   "outputs": [],
   "source": [
    "import numpy as np\n",
    "import scipy.optimize"
   ]
  },
  {
   "cell_type": "code",
   "execution_count": 254,
   "id": "a2f0317e",
   "metadata": {},
   "outputs": [],
   "source": [
    "fact_df = pd.DataFrame([\n",
    "    {\n",
    "        'num_month': 0,\n",
    "        'fact': 1\n",
    "    },\n",
    "    {\n",
    "        'num_month': 1,\n",
    "        'fact': 0.5432\n",
    "    },\n",
    "    {\n",
    "        'num_month': 2,\n",
    "        'fact': 0.3874\n",
    "    },\n",
    "    {\n",
    "        'num_month': 3,\n",
    "        'fact': 0.3450\n",
    "    },\n",
    "    {\n",
    "        'num_month': 4,\n",
    "        'fact': 0.3208\n",
    "    },\n",
    "    {\n",
    "        'num_month': 5,\n",
    "        'fact': 0.3085\n",
    "    },\n",
    "    {\n",
    "        'num_month': 6,\n",
    "        'fact': 0.2804\n",
    "    },\n",
    "    {\n",
    "        'num_month': 7,\n",
    "        'fact': 0.2643\n",
    "    }\n",
    "])"
   ]
  },
  {
   "cell_type": "code",
   "execution_count": 255,
   "id": "83a77d23",
   "metadata": {},
   "outputs": [
    {
     "data": {
      "text/html": [
       "<div>\n",
       "<style scoped>\n",
       "    .dataframe tbody tr th:only-of-type {\n",
       "        vertical-align: middle;\n",
       "    }\n",
       "\n",
       "    .dataframe tbody tr th {\n",
       "        vertical-align: top;\n",
       "    }\n",
       "\n",
       "    .dataframe thead th {\n",
       "        text-align: right;\n",
       "    }\n",
       "</style>\n",
       "<table border=\"1\" class=\"dataframe\">\n",
       "  <thead>\n",
       "    <tr style=\"text-align: right;\">\n",
       "      <th></th>\n",
       "      <th>fact</th>\n",
       "    </tr>\n",
       "    <tr>\n",
       "      <th>num_month</th>\n",
       "      <th></th>\n",
       "    </tr>\n",
       "  </thead>\n",
       "  <tbody>\n",
       "    <tr>\n",
       "      <th>0</th>\n",
       "      <td>1.0000</td>\n",
       "    </tr>\n",
       "    <tr>\n",
       "      <th>1</th>\n",
       "      <td>0.5432</td>\n",
       "    </tr>\n",
       "    <tr>\n",
       "      <th>2</th>\n",
       "      <td>0.3874</td>\n",
       "    </tr>\n",
       "    <tr>\n",
       "      <th>3</th>\n",
       "      <td>0.3450</td>\n",
       "    </tr>\n",
       "    <tr>\n",
       "      <th>4</th>\n",
       "      <td>0.3208</td>\n",
       "    </tr>\n",
       "  </tbody>\n",
       "</table>\n",
       "</div>"
      ],
      "text/plain": [
       "             fact\n",
       "num_month        \n",
       "0          1.0000\n",
       "1          0.5432\n",
       "2          0.3874\n",
       "3          0.3450\n",
       "4          0.3208"
      ]
     },
     "execution_count": 255,
     "metadata": {},
     "output_type": "execute_result"
    }
   ],
   "source": [
    "fact_df.set_index('num_month').head()"
   ]
  },
  {
   "cell_type": "code",
   "execution_count": 256,
   "id": "37b96757",
   "metadata": {},
   "outputs": [],
   "source": [
    "def get_mse_for_retention(params):\n",
    "    tmp_df = fact_df.copy()\n",
    "    tmp_df['prediction'] = tmp_df.index.map(\n",
    "        lambda x: get_retention_same_event(params[0], params[1], params[2], x)\n",
    "    )\n",
    "    \n",
    "    tmp_df['se'] = (tmp_df.fact - tmp_df.prediction)\n",
    "    tmp_df['se'] = tmp_df['se']**2\n",
    "    \n",
    "    return tmp_df.se.mean() ** 0.5"
   ]
  },
  {
   "cell_type": "code",
   "execution_count": 257,
   "id": "007b2e5a",
   "metadata": {},
   "outputs": [
    {
     "data": {
      "text/plain": [
       "0.2128505330287813"
      ]
     },
     "execution_count": 257,
     "metadata": {},
     "output_type": "execute_result"
    }
   ],
   "source": [
    "get_mse_for_retention([0, 1, 2])"
   ]
  },
  {
   "cell_type": "code",
   "execution_count": 258,
   "id": "76404814",
   "metadata": {},
   "outputs": [],
   "source": [
    "result = scipy.optimize.minimize(get_mse_for_retention, [0, 1, 2])"
   ]
  },
  {
   "cell_type": "code",
   "execution_count": 259,
   "id": "2639030d",
   "metadata": {},
   "outputs": [
    {
     "data": {
      "text/plain": [
       "      fun: 0.008183107374475135\n",
       " hess_inv: array([[ 0.31646083,  2.3298383 ,  2.63636092],\n",
       "       [ 2.3298383 , 23.07012695, 16.84567771],\n",
       "       [ 2.63636092, 16.84567771, 24.74404368]])\n",
       "      jac: array([-6.95162453e-06, -5.59922773e-06,  8.23126175e-06])\n",
       "  message: 'Optimization terminated successfully.'\n",
       "     nfev: 100\n",
       "      nit: 20\n",
       "     njev: 25\n",
       "   status: 0\n",
       "  success: True\n",
       "        x: array([0.23635088, 1.98512186, 1.28231184])"
      ]
     },
     "execution_count": 259,
     "metadata": {},
     "output_type": "execute_result"
    }
   ],
   "source": [
    "result"
   ]
  },
  {
   "cell_type": "code",
   "execution_count": 269,
   "id": "a676535c",
   "metadata": {},
   "outputs": [],
   "source": [
    "ext_fact_df = pd.concat([fact_df, pd.DataFrame({'num_month': range(8, 15)})])"
   ]
  },
  {
   "cell_type": "code",
   "execution_count": 270,
   "id": "043d7979",
   "metadata": {},
   "outputs": [],
   "source": [
    "ext_fact_df['prediction'] = list(map(\n",
    "    lambda x: get_retention_same_event(result.x[0], result.x[1], result.x[2], x),\n",
    "    ext_fact_df.num_month\n",
    "))"
   ]
  },
  {
   "cell_type": "code",
   "execution_count": 271,
   "id": "1255c5c6",
   "metadata": {},
   "outputs": [
    {
     "data": {
      "application/vnd.plotly.v1+json": {
       "config": {
        "plotlyServerURL": "https://plot.ly"
       },
       "data": [
        {
         "hovertemplate": "variable=fact<br>num_month=%{x}<br>value=%{y}<extra></extra>",
         "legendgroup": "fact",
         "line": {
          "color": "#1F77B4",
          "dash": "solid"
         },
         "marker": {
          "symbol": "circle"
         },
         "mode": "lines",
         "name": "fact",
         "orientation": "v",
         "showlegend": true,
         "type": "scatter",
         "x": [
          0,
          1,
          2,
          3,
          4,
          5,
          6,
          7,
          8,
          9,
          10,
          11,
          12,
          13,
          14
         ],
         "xaxis": "x",
         "y": [
          1,
          0.5432,
          0.3874,
          0.345,
          0.3208,
          0.3085,
          0.2804,
          0.2643,
          null,
          null,
          null,
          null,
          null,
          null,
          null
         ],
         "yaxis": "y"
        },
        {
         "hovertemplate": "variable=prediction<br>num_month=%{x}<br>value=%{y}<extra></extra>",
         "legendgroup": "prediction",
         "line": {
          "color": "#FF7F0E",
          "dash": "solid"
         },
         "marker": {
          "symbol": "circle"
         },
         "mode": "lines",
         "name": "prediction",
         "orientation": "v",
         "showlegend": true,
         "type": "scatter",
         "x": [
          0,
          1,
          2,
          3,
          4,
          5,
          6,
          7,
          8,
          9,
          10,
          11,
          12,
          13,
          14
         ],
         "xaxis": "x",
         "y": [
          1,
          0.5398756746037511,
          0.3992735186197688,
          0.3423906415145418,
          0.3129587130919763,
          0.29536873239118494,
          0.28382999096264,
          0.2757535945259857,
          0.2698245453641295,
          0.2653100853508017,
          0.2617721714769742,
          0.25893409189307875,
          0.2566131018503526,
          0.25468401542016095,
          0.25305840663242085
         ],
         "yaxis": "y"
        }
       ],
       "layout": {
        "legend": {
         "title": {
          "text": "variable"
         },
         "tracegroupgap": 0
        },
        "margin": {
         "t": 60
        },
        "template": {
         "data": {
          "bar": [
           {
            "error_x": {
             "color": "rgb(36,36,36)"
            },
            "error_y": {
             "color": "rgb(36,36,36)"
            },
            "marker": {
             "line": {
              "color": "white",
              "width": 0.5
             },
             "pattern": {
              "fillmode": "overlay",
              "size": 10,
              "solidity": 0.2
             }
            },
            "type": "bar"
           }
          ],
          "barpolar": [
           {
            "marker": {
             "line": {
              "color": "white",
              "width": 0.5
             },
             "pattern": {
              "fillmode": "overlay",
              "size": 10,
              "solidity": 0.2
             }
            },
            "type": "barpolar"
           }
          ],
          "carpet": [
           {
            "aaxis": {
             "endlinecolor": "rgb(36,36,36)",
             "gridcolor": "white",
             "linecolor": "white",
             "minorgridcolor": "white",
             "startlinecolor": "rgb(36,36,36)"
            },
            "baxis": {
             "endlinecolor": "rgb(36,36,36)",
             "gridcolor": "white",
             "linecolor": "white",
             "minorgridcolor": "white",
             "startlinecolor": "rgb(36,36,36)"
            },
            "type": "carpet"
           }
          ],
          "choropleth": [
           {
            "colorbar": {
             "outlinewidth": 1,
             "tickcolor": "rgb(36,36,36)",
             "ticks": "outside"
            },
            "type": "choropleth"
           }
          ],
          "contour": [
           {
            "colorbar": {
             "outlinewidth": 1,
             "tickcolor": "rgb(36,36,36)",
             "ticks": "outside"
            },
            "colorscale": [
             [
              0,
              "#440154"
             ],
             [
              0.1111111111111111,
              "#482878"
             ],
             [
              0.2222222222222222,
              "#3e4989"
             ],
             [
              0.3333333333333333,
              "#31688e"
             ],
             [
              0.4444444444444444,
              "#26828e"
             ],
             [
              0.5555555555555556,
              "#1f9e89"
             ],
             [
              0.6666666666666666,
              "#35b779"
             ],
             [
              0.7777777777777778,
              "#6ece58"
             ],
             [
              0.8888888888888888,
              "#b5de2b"
             ],
             [
              1,
              "#fde725"
             ]
            ],
            "type": "contour"
           }
          ],
          "contourcarpet": [
           {
            "colorbar": {
             "outlinewidth": 1,
             "tickcolor": "rgb(36,36,36)",
             "ticks": "outside"
            },
            "type": "contourcarpet"
           }
          ],
          "heatmap": [
           {
            "colorbar": {
             "outlinewidth": 1,
             "tickcolor": "rgb(36,36,36)",
             "ticks": "outside"
            },
            "colorscale": [
             [
              0,
              "#440154"
             ],
             [
              0.1111111111111111,
              "#482878"
             ],
             [
              0.2222222222222222,
              "#3e4989"
             ],
             [
              0.3333333333333333,
              "#31688e"
             ],
             [
              0.4444444444444444,
              "#26828e"
             ],
             [
              0.5555555555555556,
              "#1f9e89"
             ],
             [
              0.6666666666666666,
              "#35b779"
             ],
             [
              0.7777777777777778,
              "#6ece58"
             ],
             [
              0.8888888888888888,
              "#b5de2b"
             ],
             [
              1,
              "#fde725"
             ]
            ],
            "type": "heatmap"
           }
          ],
          "heatmapgl": [
           {
            "colorbar": {
             "outlinewidth": 1,
             "tickcolor": "rgb(36,36,36)",
             "ticks": "outside"
            },
            "colorscale": [
             [
              0,
              "#440154"
             ],
             [
              0.1111111111111111,
              "#482878"
             ],
             [
              0.2222222222222222,
              "#3e4989"
             ],
             [
              0.3333333333333333,
              "#31688e"
             ],
             [
              0.4444444444444444,
              "#26828e"
             ],
             [
              0.5555555555555556,
              "#1f9e89"
             ],
             [
              0.6666666666666666,
              "#35b779"
             ],
             [
              0.7777777777777778,
              "#6ece58"
             ],
             [
              0.8888888888888888,
              "#b5de2b"
             ],
             [
              1,
              "#fde725"
             ]
            ],
            "type": "heatmapgl"
           }
          ],
          "histogram": [
           {
            "marker": {
             "line": {
              "color": "white",
              "width": 0.6
             }
            },
            "type": "histogram"
           }
          ],
          "histogram2d": [
           {
            "colorbar": {
             "outlinewidth": 1,
             "tickcolor": "rgb(36,36,36)",
             "ticks": "outside"
            },
            "colorscale": [
             [
              0,
              "#440154"
             ],
             [
              0.1111111111111111,
              "#482878"
             ],
             [
              0.2222222222222222,
              "#3e4989"
             ],
             [
              0.3333333333333333,
              "#31688e"
             ],
             [
              0.4444444444444444,
              "#26828e"
             ],
             [
              0.5555555555555556,
              "#1f9e89"
             ],
             [
              0.6666666666666666,
              "#35b779"
             ],
             [
              0.7777777777777778,
              "#6ece58"
             ],
             [
              0.8888888888888888,
              "#b5de2b"
             ],
             [
              1,
              "#fde725"
             ]
            ],
            "type": "histogram2d"
           }
          ],
          "histogram2dcontour": [
           {
            "colorbar": {
             "outlinewidth": 1,
             "tickcolor": "rgb(36,36,36)",
             "ticks": "outside"
            },
            "colorscale": [
             [
              0,
              "#440154"
             ],
             [
              0.1111111111111111,
              "#482878"
             ],
             [
              0.2222222222222222,
              "#3e4989"
             ],
             [
              0.3333333333333333,
              "#31688e"
             ],
             [
              0.4444444444444444,
              "#26828e"
             ],
             [
              0.5555555555555556,
              "#1f9e89"
             ],
             [
              0.6666666666666666,
              "#35b779"
             ],
             [
              0.7777777777777778,
              "#6ece58"
             ],
             [
              0.8888888888888888,
              "#b5de2b"
             ],
             [
              1,
              "#fde725"
             ]
            ],
            "type": "histogram2dcontour"
           }
          ],
          "mesh3d": [
           {
            "colorbar": {
             "outlinewidth": 1,
             "tickcolor": "rgb(36,36,36)",
             "ticks": "outside"
            },
            "type": "mesh3d"
           }
          ],
          "parcoords": [
           {
            "line": {
             "colorbar": {
              "outlinewidth": 1,
              "tickcolor": "rgb(36,36,36)",
              "ticks": "outside"
             }
            },
            "type": "parcoords"
           }
          ],
          "pie": [
           {
            "automargin": true,
            "type": "pie"
           }
          ],
          "scatter": [
           {
            "fillpattern": {
             "fillmode": "overlay",
             "size": 10,
             "solidity": 0.2
            },
            "type": "scatter"
           }
          ],
          "scatter3d": [
           {
            "line": {
             "colorbar": {
              "outlinewidth": 1,
              "tickcolor": "rgb(36,36,36)",
              "ticks": "outside"
             }
            },
            "marker": {
             "colorbar": {
              "outlinewidth": 1,
              "tickcolor": "rgb(36,36,36)",
              "ticks": "outside"
             }
            },
            "type": "scatter3d"
           }
          ],
          "scattercarpet": [
           {
            "marker": {
             "colorbar": {
              "outlinewidth": 1,
              "tickcolor": "rgb(36,36,36)",
              "ticks": "outside"
             }
            },
            "type": "scattercarpet"
           }
          ],
          "scattergeo": [
           {
            "marker": {
             "colorbar": {
              "outlinewidth": 1,
              "tickcolor": "rgb(36,36,36)",
              "ticks": "outside"
             }
            },
            "type": "scattergeo"
           }
          ],
          "scattergl": [
           {
            "marker": {
             "colorbar": {
              "outlinewidth": 1,
              "tickcolor": "rgb(36,36,36)",
              "ticks": "outside"
             }
            },
            "type": "scattergl"
           }
          ],
          "scattermapbox": [
           {
            "marker": {
             "colorbar": {
              "outlinewidth": 1,
              "tickcolor": "rgb(36,36,36)",
              "ticks": "outside"
             }
            },
            "type": "scattermapbox"
           }
          ],
          "scatterpolar": [
           {
            "marker": {
             "colorbar": {
              "outlinewidth": 1,
              "tickcolor": "rgb(36,36,36)",
              "ticks": "outside"
             }
            },
            "type": "scatterpolar"
           }
          ],
          "scatterpolargl": [
           {
            "marker": {
             "colorbar": {
              "outlinewidth": 1,
              "tickcolor": "rgb(36,36,36)",
              "ticks": "outside"
             }
            },
            "type": "scatterpolargl"
           }
          ],
          "scatterternary": [
           {
            "marker": {
             "colorbar": {
              "outlinewidth": 1,
              "tickcolor": "rgb(36,36,36)",
              "ticks": "outside"
             }
            },
            "type": "scatterternary"
           }
          ],
          "surface": [
           {
            "colorbar": {
             "outlinewidth": 1,
             "tickcolor": "rgb(36,36,36)",
             "ticks": "outside"
            },
            "colorscale": [
             [
              0,
              "#440154"
             ],
             [
              0.1111111111111111,
              "#482878"
             ],
             [
              0.2222222222222222,
              "#3e4989"
             ],
             [
              0.3333333333333333,
              "#31688e"
             ],
             [
              0.4444444444444444,
              "#26828e"
             ],
             [
              0.5555555555555556,
              "#1f9e89"
             ],
             [
              0.6666666666666666,
              "#35b779"
             ],
             [
              0.7777777777777778,
              "#6ece58"
             ],
             [
              0.8888888888888888,
              "#b5de2b"
             ],
             [
              1,
              "#fde725"
             ]
            ],
            "type": "surface"
           }
          ],
          "table": [
           {
            "cells": {
             "fill": {
              "color": "rgb(237,237,237)"
             },
             "line": {
              "color": "white"
             }
            },
            "header": {
             "fill": {
              "color": "rgb(217,217,217)"
             },
             "line": {
              "color": "white"
             }
            },
            "type": "table"
           }
          ]
         },
         "layout": {
          "annotationdefaults": {
           "arrowhead": 0,
           "arrowwidth": 1
          },
          "autotypenumbers": "strict",
          "coloraxis": {
           "colorbar": {
            "outlinewidth": 1,
            "tickcolor": "rgb(36,36,36)",
            "ticks": "outside"
           }
          },
          "colorscale": {
           "diverging": [
            [
             0,
             "rgb(103,0,31)"
            ],
            [
             0.1,
             "rgb(178,24,43)"
            ],
            [
             0.2,
             "rgb(214,96,77)"
            ],
            [
             0.3,
             "rgb(244,165,130)"
            ],
            [
             0.4,
             "rgb(253,219,199)"
            ],
            [
             0.5,
             "rgb(247,247,247)"
            ],
            [
             0.6,
             "rgb(209,229,240)"
            ],
            [
             0.7,
             "rgb(146,197,222)"
            ],
            [
             0.8,
             "rgb(67,147,195)"
            ],
            [
             0.9,
             "rgb(33,102,172)"
            ],
            [
             1,
             "rgb(5,48,97)"
            ]
           ],
           "sequential": [
            [
             0,
             "#440154"
            ],
            [
             0.1111111111111111,
             "#482878"
            ],
            [
             0.2222222222222222,
             "#3e4989"
            ],
            [
             0.3333333333333333,
             "#31688e"
            ],
            [
             0.4444444444444444,
             "#26828e"
            ],
            [
             0.5555555555555556,
             "#1f9e89"
            ],
            [
             0.6666666666666666,
             "#35b779"
            ],
            [
             0.7777777777777778,
             "#6ece58"
            ],
            [
             0.8888888888888888,
             "#b5de2b"
            ],
            [
             1,
             "#fde725"
            ]
           ],
           "sequentialminus": [
            [
             0,
             "#440154"
            ],
            [
             0.1111111111111111,
             "#482878"
            ],
            [
             0.2222222222222222,
             "#3e4989"
            ],
            [
             0.3333333333333333,
             "#31688e"
            ],
            [
             0.4444444444444444,
             "#26828e"
            ],
            [
             0.5555555555555556,
             "#1f9e89"
            ],
            [
             0.6666666666666666,
             "#35b779"
            ],
            [
             0.7777777777777778,
             "#6ece58"
            ],
            [
             0.8888888888888888,
             "#b5de2b"
            ],
            [
             1,
             "#fde725"
            ]
           ]
          },
          "colorway": [
           "#1F77B4",
           "#FF7F0E",
           "#2CA02C",
           "#D62728",
           "#9467BD",
           "#8C564B",
           "#E377C2",
           "#7F7F7F",
           "#BCBD22",
           "#17BECF"
          ],
          "font": {
           "color": "rgb(36,36,36)"
          },
          "geo": {
           "bgcolor": "white",
           "lakecolor": "white",
           "landcolor": "white",
           "showlakes": true,
           "showland": true,
           "subunitcolor": "white"
          },
          "hoverlabel": {
           "align": "left"
          },
          "hovermode": "closest",
          "mapbox": {
           "style": "light"
          },
          "paper_bgcolor": "white",
          "plot_bgcolor": "white",
          "polar": {
           "angularaxis": {
            "gridcolor": "rgb(232,232,232)",
            "linecolor": "rgb(36,36,36)",
            "showgrid": false,
            "showline": true,
            "ticks": "outside"
           },
           "bgcolor": "white",
           "radialaxis": {
            "gridcolor": "rgb(232,232,232)",
            "linecolor": "rgb(36,36,36)",
            "showgrid": false,
            "showline": true,
            "ticks": "outside"
           }
          },
          "scene": {
           "xaxis": {
            "backgroundcolor": "white",
            "gridcolor": "rgb(232,232,232)",
            "gridwidth": 2,
            "linecolor": "rgb(36,36,36)",
            "showbackground": true,
            "showgrid": false,
            "showline": true,
            "ticks": "outside",
            "zeroline": false,
            "zerolinecolor": "rgb(36,36,36)"
           },
           "yaxis": {
            "backgroundcolor": "white",
            "gridcolor": "rgb(232,232,232)",
            "gridwidth": 2,
            "linecolor": "rgb(36,36,36)",
            "showbackground": true,
            "showgrid": false,
            "showline": true,
            "ticks": "outside",
            "zeroline": false,
            "zerolinecolor": "rgb(36,36,36)"
           },
           "zaxis": {
            "backgroundcolor": "white",
            "gridcolor": "rgb(232,232,232)",
            "gridwidth": 2,
            "linecolor": "rgb(36,36,36)",
            "showbackground": true,
            "showgrid": false,
            "showline": true,
            "ticks": "outside",
            "zeroline": false,
            "zerolinecolor": "rgb(36,36,36)"
           }
          },
          "shapedefaults": {
           "fillcolor": "black",
           "line": {
            "width": 0
           },
           "opacity": 0.3
          },
          "ternary": {
           "aaxis": {
            "gridcolor": "rgb(232,232,232)",
            "linecolor": "rgb(36,36,36)",
            "showgrid": false,
            "showline": true,
            "ticks": "outside"
           },
           "baxis": {
            "gridcolor": "rgb(232,232,232)",
            "linecolor": "rgb(36,36,36)",
            "showgrid": false,
            "showline": true,
            "ticks": "outside"
           },
           "bgcolor": "white",
           "caxis": {
            "gridcolor": "rgb(232,232,232)",
            "linecolor": "rgb(36,36,36)",
            "showgrid": false,
            "showline": true,
            "ticks": "outside"
           }
          },
          "title": {
           "x": 0.05
          },
          "xaxis": {
           "automargin": true,
           "gridcolor": "rgb(232,232,232)",
           "linecolor": "rgb(36,36,36)",
           "showgrid": false,
           "showline": true,
           "ticks": "outside",
           "title": {
            "standoff": 15
           },
           "zeroline": false,
           "zerolinecolor": "rgb(36,36,36)"
          },
          "yaxis": {
           "automargin": true,
           "gridcolor": "rgb(232,232,232)",
           "linecolor": "rgb(36,36,36)",
           "showgrid": false,
           "showline": true,
           "ticks": "outside",
           "title": {
            "standoff": 15
           },
           "zeroline": false,
           "zerolinecolor": "rgb(36,36,36)"
          }
         }
        },
        "xaxis": {
         "anchor": "y",
         "domain": [
          0,
          1
         ],
         "title": {
          "text": "num_month"
         }
        },
        "yaxis": {
         "anchor": "x",
         "domain": [
          0,
          1
         ],
         "title": {
          "text": "value"
         }
        }
       }
      },
      "text/html": [
       "<div>                            <div id=\"7b89b926-13a6-45f5-b388-0f660b0d32b3\" class=\"plotly-graph-div\" style=\"height:525px; width:100%;\"></div>            <script type=\"text/javascript\">                require([\"plotly\"], function(Plotly) {                    window.PLOTLYENV=window.PLOTLYENV || {};                                    if (document.getElementById(\"7b89b926-13a6-45f5-b388-0f660b0d32b3\")) {                    Plotly.newPlot(                        \"7b89b926-13a6-45f5-b388-0f660b0d32b3\",                        [{\"hovertemplate\":\"variable=fact<br>num_month=%{x}<br>value=%{y}<extra></extra>\",\"legendgroup\":\"fact\",\"line\":{\"color\":\"#1F77B4\",\"dash\":\"solid\"},\"marker\":{\"symbol\":\"circle\"},\"mode\":\"lines\",\"name\":\"fact\",\"orientation\":\"v\",\"showlegend\":true,\"x\":[0,1,2,3,4,5,6,7,8,9,10,11,12,13,14],\"xaxis\":\"x\",\"y\":[1.0,0.5432,0.3874,0.345,0.3208,0.3085,0.2804,0.2643,null,null,null,null,null,null,null],\"yaxis\":\"y\",\"type\":\"scatter\"},{\"hovertemplate\":\"variable=prediction<br>num_month=%{x}<br>value=%{y}<extra></extra>\",\"legendgroup\":\"prediction\",\"line\":{\"color\":\"#FF7F0E\",\"dash\":\"solid\"},\"marker\":{\"symbol\":\"circle\"},\"mode\":\"lines\",\"name\":\"prediction\",\"orientation\":\"v\",\"showlegend\":true,\"x\":[0,1,2,3,4,5,6,7,8,9,10,11,12,13,14],\"xaxis\":\"x\",\"y\":[1.0,0.5398756746037511,0.3992735186197688,0.3423906415145418,0.3129587130919763,0.29536873239118494,0.28382999096264,0.2757535945259857,0.2698245453641295,0.2653100853508017,0.2617721714769742,0.25893409189307875,0.2566131018503526,0.25468401542016095,0.25305840663242085],\"yaxis\":\"y\",\"type\":\"scatter\"}],                        {\"template\":{\"data\":{\"histogram2dcontour\":[{\"type\":\"histogram2dcontour\",\"colorbar\":{\"outlinewidth\":1,\"tickcolor\":\"rgb(36,36,36)\",\"ticks\":\"outside\"},\"colorscale\":[[0.0,\"#440154\"],[0.1111111111111111,\"#482878\"],[0.2222222222222222,\"#3e4989\"],[0.3333333333333333,\"#31688e\"],[0.4444444444444444,\"#26828e\"],[0.5555555555555556,\"#1f9e89\"],[0.6666666666666666,\"#35b779\"],[0.7777777777777778,\"#6ece58\"],[0.8888888888888888,\"#b5de2b\"],[1.0,\"#fde725\"]]}],\"choropleth\":[{\"type\":\"choropleth\",\"colorbar\":{\"outlinewidth\":1,\"tickcolor\":\"rgb(36,36,36)\",\"ticks\":\"outside\"}}],\"histogram2d\":[{\"type\":\"histogram2d\",\"colorbar\":{\"outlinewidth\":1,\"tickcolor\":\"rgb(36,36,36)\",\"ticks\":\"outside\"},\"colorscale\":[[0.0,\"#440154\"],[0.1111111111111111,\"#482878\"],[0.2222222222222222,\"#3e4989\"],[0.3333333333333333,\"#31688e\"],[0.4444444444444444,\"#26828e\"],[0.5555555555555556,\"#1f9e89\"],[0.6666666666666666,\"#35b779\"],[0.7777777777777778,\"#6ece58\"],[0.8888888888888888,\"#b5de2b\"],[1.0,\"#fde725\"]]}],\"heatmap\":[{\"type\":\"heatmap\",\"colorbar\":{\"outlinewidth\":1,\"tickcolor\":\"rgb(36,36,36)\",\"ticks\":\"outside\"},\"colorscale\":[[0.0,\"#440154\"],[0.1111111111111111,\"#482878\"],[0.2222222222222222,\"#3e4989\"],[0.3333333333333333,\"#31688e\"],[0.4444444444444444,\"#26828e\"],[0.5555555555555556,\"#1f9e89\"],[0.6666666666666666,\"#35b779\"],[0.7777777777777778,\"#6ece58\"],[0.8888888888888888,\"#b5de2b\"],[1.0,\"#fde725\"]]}],\"heatmapgl\":[{\"type\":\"heatmapgl\",\"colorbar\":{\"outlinewidth\":1,\"tickcolor\":\"rgb(36,36,36)\",\"ticks\":\"outside\"},\"colorscale\":[[0.0,\"#440154\"],[0.1111111111111111,\"#482878\"],[0.2222222222222222,\"#3e4989\"],[0.3333333333333333,\"#31688e\"],[0.4444444444444444,\"#26828e\"],[0.5555555555555556,\"#1f9e89\"],[0.6666666666666666,\"#35b779\"],[0.7777777777777778,\"#6ece58\"],[0.8888888888888888,\"#b5de2b\"],[1.0,\"#fde725\"]]}],\"contourcarpet\":[{\"type\":\"contourcarpet\",\"colorbar\":{\"outlinewidth\":1,\"tickcolor\":\"rgb(36,36,36)\",\"ticks\":\"outside\"}}],\"contour\":[{\"type\":\"contour\",\"colorbar\":{\"outlinewidth\":1,\"tickcolor\":\"rgb(36,36,36)\",\"ticks\":\"outside\"},\"colorscale\":[[0.0,\"#440154\"],[0.1111111111111111,\"#482878\"],[0.2222222222222222,\"#3e4989\"],[0.3333333333333333,\"#31688e\"],[0.4444444444444444,\"#26828e\"],[0.5555555555555556,\"#1f9e89\"],[0.6666666666666666,\"#35b779\"],[0.7777777777777778,\"#6ece58\"],[0.8888888888888888,\"#b5de2b\"],[1.0,\"#fde725\"]]}],\"surface\":[{\"type\":\"surface\",\"colorbar\":{\"outlinewidth\":1,\"tickcolor\":\"rgb(36,36,36)\",\"ticks\":\"outside\"},\"colorscale\":[[0.0,\"#440154\"],[0.1111111111111111,\"#482878\"],[0.2222222222222222,\"#3e4989\"],[0.3333333333333333,\"#31688e\"],[0.4444444444444444,\"#26828e\"],[0.5555555555555556,\"#1f9e89\"],[0.6666666666666666,\"#35b779\"],[0.7777777777777778,\"#6ece58\"],[0.8888888888888888,\"#b5de2b\"],[1.0,\"#fde725\"]]}],\"mesh3d\":[{\"type\":\"mesh3d\",\"colorbar\":{\"outlinewidth\":1,\"tickcolor\":\"rgb(36,36,36)\",\"ticks\":\"outside\"}}],\"scatter\":[{\"fillpattern\":{\"fillmode\":\"overlay\",\"size\":10,\"solidity\":0.2},\"type\":\"scatter\"}],\"parcoords\":[{\"type\":\"parcoords\",\"line\":{\"colorbar\":{\"outlinewidth\":1,\"tickcolor\":\"rgb(36,36,36)\",\"ticks\":\"outside\"}}}],\"scatterpolargl\":[{\"type\":\"scatterpolargl\",\"marker\":{\"colorbar\":{\"outlinewidth\":1,\"tickcolor\":\"rgb(36,36,36)\",\"ticks\":\"outside\"}}}],\"bar\":[{\"error_x\":{\"color\":\"rgb(36,36,36)\"},\"error_y\":{\"color\":\"rgb(36,36,36)\"},\"marker\":{\"line\":{\"color\":\"white\",\"width\":0.5},\"pattern\":{\"fillmode\":\"overlay\",\"size\":10,\"solidity\":0.2}},\"type\":\"bar\"}],\"scattergeo\":[{\"type\":\"scattergeo\",\"marker\":{\"colorbar\":{\"outlinewidth\":1,\"tickcolor\":\"rgb(36,36,36)\",\"ticks\":\"outside\"}}}],\"scatterpolar\":[{\"type\":\"scatterpolar\",\"marker\":{\"colorbar\":{\"outlinewidth\":1,\"tickcolor\":\"rgb(36,36,36)\",\"ticks\":\"outside\"}}}],\"histogram\":[{\"marker\":{\"line\":{\"color\":\"white\",\"width\":0.6}},\"type\":\"histogram\"}],\"scattergl\":[{\"type\":\"scattergl\",\"marker\":{\"colorbar\":{\"outlinewidth\":1,\"tickcolor\":\"rgb(36,36,36)\",\"ticks\":\"outside\"}}}],\"scatter3d\":[{\"type\":\"scatter3d\",\"line\":{\"colorbar\":{\"outlinewidth\":1,\"tickcolor\":\"rgb(36,36,36)\",\"ticks\":\"outside\"}},\"marker\":{\"colorbar\":{\"outlinewidth\":1,\"tickcolor\":\"rgb(36,36,36)\",\"ticks\":\"outside\"}}}],\"scattermapbox\":[{\"type\":\"scattermapbox\",\"marker\":{\"colorbar\":{\"outlinewidth\":1,\"tickcolor\":\"rgb(36,36,36)\",\"ticks\":\"outside\"}}}],\"scatterternary\":[{\"type\":\"scatterternary\",\"marker\":{\"colorbar\":{\"outlinewidth\":1,\"tickcolor\":\"rgb(36,36,36)\",\"ticks\":\"outside\"}}}],\"scattercarpet\":[{\"type\":\"scattercarpet\",\"marker\":{\"colorbar\":{\"outlinewidth\":1,\"tickcolor\":\"rgb(36,36,36)\",\"ticks\":\"outside\"}}}],\"carpet\":[{\"aaxis\":{\"endlinecolor\":\"rgb(36,36,36)\",\"gridcolor\":\"white\",\"linecolor\":\"white\",\"minorgridcolor\":\"white\",\"startlinecolor\":\"rgb(36,36,36)\"},\"baxis\":{\"endlinecolor\":\"rgb(36,36,36)\",\"gridcolor\":\"white\",\"linecolor\":\"white\",\"minorgridcolor\":\"white\",\"startlinecolor\":\"rgb(36,36,36)\"},\"type\":\"carpet\"}],\"table\":[{\"cells\":{\"fill\":{\"color\":\"rgb(237,237,237)\"},\"line\":{\"color\":\"white\"}},\"header\":{\"fill\":{\"color\":\"rgb(217,217,217)\"},\"line\":{\"color\":\"white\"}},\"type\":\"table\"}],\"barpolar\":[{\"marker\":{\"line\":{\"color\":\"white\",\"width\":0.5},\"pattern\":{\"fillmode\":\"overlay\",\"size\":10,\"solidity\":0.2}},\"type\":\"barpolar\"}],\"pie\":[{\"automargin\":true,\"type\":\"pie\"}]},\"layout\":{\"autotypenumbers\":\"strict\",\"colorway\":[\"#1F77B4\",\"#FF7F0E\",\"#2CA02C\",\"#D62728\",\"#9467BD\",\"#8C564B\",\"#E377C2\",\"#7F7F7F\",\"#BCBD22\",\"#17BECF\"],\"font\":{\"color\":\"rgb(36,36,36)\"},\"hovermode\":\"closest\",\"hoverlabel\":{\"align\":\"left\"},\"paper_bgcolor\":\"white\",\"plot_bgcolor\":\"white\",\"polar\":{\"bgcolor\":\"white\",\"angularaxis\":{\"gridcolor\":\"rgb(232,232,232)\",\"linecolor\":\"rgb(36,36,36)\",\"showgrid\":false,\"showline\":true,\"ticks\":\"outside\"},\"radialaxis\":{\"gridcolor\":\"rgb(232,232,232)\",\"linecolor\":\"rgb(36,36,36)\",\"showgrid\":false,\"showline\":true,\"ticks\":\"outside\"}},\"ternary\":{\"bgcolor\":\"white\",\"aaxis\":{\"gridcolor\":\"rgb(232,232,232)\",\"linecolor\":\"rgb(36,36,36)\",\"showgrid\":false,\"showline\":true,\"ticks\":\"outside\"},\"baxis\":{\"gridcolor\":\"rgb(232,232,232)\",\"linecolor\":\"rgb(36,36,36)\",\"showgrid\":false,\"showline\":true,\"ticks\":\"outside\"},\"caxis\":{\"gridcolor\":\"rgb(232,232,232)\",\"linecolor\":\"rgb(36,36,36)\",\"showgrid\":false,\"showline\":true,\"ticks\":\"outside\"}},\"coloraxis\":{\"colorbar\":{\"outlinewidth\":1,\"tickcolor\":\"rgb(36,36,36)\",\"ticks\":\"outside\"}},\"colorscale\":{\"sequential\":[[0.0,\"#440154\"],[0.1111111111111111,\"#482878\"],[0.2222222222222222,\"#3e4989\"],[0.3333333333333333,\"#31688e\"],[0.4444444444444444,\"#26828e\"],[0.5555555555555556,\"#1f9e89\"],[0.6666666666666666,\"#35b779\"],[0.7777777777777778,\"#6ece58\"],[0.8888888888888888,\"#b5de2b\"],[1.0,\"#fde725\"]],\"sequentialminus\":[[0.0,\"#440154\"],[0.1111111111111111,\"#482878\"],[0.2222222222222222,\"#3e4989\"],[0.3333333333333333,\"#31688e\"],[0.4444444444444444,\"#26828e\"],[0.5555555555555556,\"#1f9e89\"],[0.6666666666666666,\"#35b779\"],[0.7777777777777778,\"#6ece58\"],[0.8888888888888888,\"#b5de2b\"],[1.0,\"#fde725\"]],\"diverging\":[[0.0,\"rgb(103,0,31)\"],[0.1,\"rgb(178,24,43)\"],[0.2,\"rgb(214,96,77)\"],[0.3,\"rgb(244,165,130)\"],[0.4,\"rgb(253,219,199)\"],[0.5,\"rgb(247,247,247)\"],[0.6,\"rgb(209,229,240)\"],[0.7,\"rgb(146,197,222)\"],[0.8,\"rgb(67,147,195)\"],[0.9,\"rgb(33,102,172)\"],[1.0,\"rgb(5,48,97)\"]]},\"xaxis\":{\"gridcolor\":\"rgb(232,232,232)\",\"linecolor\":\"rgb(36,36,36)\",\"showgrid\":false,\"showline\":true,\"ticks\":\"outside\",\"title\":{\"standoff\":15},\"zerolinecolor\":\"rgb(36,36,36)\",\"automargin\":true,\"zeroline\":false},\"yaxis\":{\"gridcolor\":\"rgb(232,232,232)\",\"linecolor\":\"rgb(36,36,36)\",\"showgrid\":false,\"showline\":true,\"ticks\":\"outside\",\"title\":{\"standoff\":15},\"zerolinecolor\":\"rgb(36,36,36)\",\"automargin\":true,\"zeroline\":false},\"scene\":{\"xaxis\":{\"backgroundcolor\":\"white\",\"gridcolor\":\"rgb(232,232,232)\",\"linecolor\":\"rgb(36,36,36)\",\"showbackground\":true,\"showgrid\":false,\"showline\":true,\"ticks\":\"outside\",\"zerolinecolor\":\"rgb(36,36,36)\",\"gridwidth\":2,\"zeroline\":false},\"yaxis\":{\"backgroundcolor\":\"white\",\"gridcolor\":\"rgb(232,232,232)\",\"linecolor\":\"rgb(36,36,36)\",\"showbackground\":true,\"showgrid\":false,\"showline\":true,\"ticks\":\"outside\",\"zerolinecolor\":\"rgb(36,36,36)\",\"gridwidth\":2,\"zeroline\":false},\"zaxis\":{\"backgroundcolor\":\"white\",\"gridcolor\":\"rgb(232,232,232)\",\"linecolor\":\"rgb(36,36,36)\",\"showbackground\":true,\"showgrid\":false,\"showline\":true,\"ticks\":\"outside\",\"zerolinecolor\":\"rgb(36,36,36)\",\"gridwidth\":2,\"zeroline\":false}},\"shapedefaults\":{\"fillcolor\":\"black\",\"line\":{\"width\":0},\"opacity\":0.3},\"annotationdefaults\":{\"arrowhead\":0,\"arrowwidth\":1},\"geo\":{\"bgcolor\":\"white\",\"landcolor\":\"white\",\"subunitcolor\":\"white\",\"showland\":true,\"showlakes\":true,\"lakecolor\":\"white\"},\"title\":{\"x\":0.05},\"mapbox\":{\"style\":\"light\"}}},\"xaxis\":{\"anchor\":\"y\",\"domain\":[0.0,1.0],\"title\":{\"text\":\"num_month\"}},\"yaxis\":{\"anchor\":\"x\",\"domain\":[0.0,1.0],\"title\":{\"text\":\"value\"}},\"legend\":{\"title\":{\"text\":\"variable\"},\"tracegroupgap\":0},\"margin\":{\"t\":60}},                        {\"responsive\": true}                    ).then(function(){\n",
       "                            \n",
       "var gd = document.getElementById('7b89b926-13a6-45f5-b388-0f660b0d32b3');\n",
       "var x = new MutationObserver(function (mutations, observer) {{\n",
       "        var display = window.getComputedStyle(gd).display;\n",
       "        if (!display || display === 'none') {{\n",
       "            console.log([gd, 'removed!']);\n",
       "            Plotly.purge(gd);\n",
       "            observer.disconnect();\n",
       "        }}\n",
       "}});\n",
       "\n",
       "// Listen for the removal of the full notebook cells\n",
       "var notebookContainer = gd.closest('#notebook-container');\n",
       "if (notebookContainer) {{\n",
       "    x.observe(notebookContainer, {childList: true});\n",
       "}}\n",
       "\n",
       "// Listen for the clearing of the current output cell\n",
       "var outputEl = gd.closest('.output');\n",
       "if (outputEl) {{\n",
       "    x.observe(outputEl, {childList: true});\n",
       "}}\n",
       "\n",
       "                        })                };                });            </script>        </div>"
      ]
     },
     "metadata": {},
     "output_type": "display_data"
    }
   ],
   "source": [
    "px.line(ext_fact_df.set_index('num_month'))"
   ]
  },
  {
   "cell_type": "code",
   "execution_count": 278,
   "id": "33aa83d9",
   "metadata": {},
   "outputs": [
    {
     "data": {
      "application/vnd.plotly.v1+json": {
       "config": {
        "plotlyServerURL": "https://plot.ly"
       },
       "data": [
        {
         "line": {
          "color": "#1F77B4",
          "width": 3
         },
         "name": "fact",
         "type": "scatter",
         "x": [
          0,
          1,
          2,
          3,
          4,
          5,
          6,
          7,
          8,
          9,
          10,
          11,
          12,
          13,
          14
         ],
         "y": [
          1,
          0.5432,
          0.3874,
          0.345,
          0.3208,
          0.3085,
          0.2804,
          0.2643,
          null,
          null,
          null,
          null,
          null,
          null,
          null
         ]
        },
        {
         "line": {
          "color": "#1F77B4",
          "dash": "dot",
          "width": 3
         },
         "name": "prediction",
         "type": "scatter",
         "x": [
          0,
          1,
          2,
          3,
          4,
          5,
          6,
          7,
          8,
          9,
          10,
          11,
          12,
          13,
          14
         ],
         "y": [
          1,
          0.5398756746037511,
          0.3992735186197688,
          0.3423906415145418,
          0.3129587130919763,
          0.29536873239118494,
          0.28382999096264,
          0.2757535945259857,
          0.2698245453641295,
          0.2653100853508017,
          0.2617721714769742,
          0.25893409189307875,
          0.2566131018503526,
          0.25468401542016095,
          0.25305840663242085
         ]
        }
       ],
       "layout": {
        "template": {
         "data": {
          "bar": [
           {
            "error_x": {
             "color": "rgb(36,36,36)"
            },
            "error_y": {
             "color": "rgb(36,36,36)"
            },
            "marker": {
             "line": {
              "color": "white",
              "width": 0.5
             },
             "pattern": {
              "fillmode": "overlay",
              "size": 10,
              "solidity": 0.2
             }
            },
            "type": "bar"
           }
          ],
          "barpolar": [
           {
            "marker": {
             "line": {
              "color": "white",
              "width": 0.5
             },
             "pattern": {
              "fillmode": "overlay",
              "size": 10,
              "solidity": 0.2
             }
            },
            "type": "barpolar"
           }
          ],
          "carpet": [
           {
            "aaxis": {
             "endlinecolor": "rgb(36,36,36)",
             "gridcolor": "white",
             "linecolor": "white",
             "minorgridcolor": "white",
             "startlinecolor": "rgb(36,36,36)"
            },
            "baxis": {
             "endlinecolor": "rgb(36,36,36)",
             "gridcolor": "white",
             "linecolor": "white",
             "minorgridcolor": "white",
             "startlinecolor": "rgb(36,36,36)"
            },
            "type": "carpet"
           }
          ],
          "choropleth": [
           {
            "colorbar": {
             "outlinewidth": 1,
             "tickcolor": "rgb(36,36,36)",
             "ticks": "outside"
            },
            "type": "choropleth"
           }
          ],
          "contour": [
           {
            "colorbar": {
             "outlinewidth": 1,
             "tickcolor": "rgb(36,36,36)",
             "ticks": "outside"
            },
            "colorscale": [
             [
              0,
              "#440154"
             ],
             [
              0.1111111111111111,
              "#482878"
             ],
             [
              0.2222222222222222,
              "#3e4989"
             ],
             [
              0.3333333333333333,
              "#31688e"
             ],
             [
              0.4444444444444444,
              "#26828e"
             ],
             [
              0.5555555555555556,
              "#1f9e89"
             ],
             [
              0.6666666666666666,
              "#35b779"
             ],
             [
              0.7777777777777778,
              "#6ece58"
             ],
             [
              0.8888888888888888,
              "#b5de2b"
             ],
             [
              1,
              "#fde725"
             ]
            ],
            "type": "contour"
           }
          ],
          "contourcarpet": [
           {
            "colorbar": {
             "outlinewidth": 1,
             "tickcolor": "rgb(36,36,36)",
             "ticks": "outside"
            },
            "type": "contourcarpet"
           }
          ],
          "heatmap": [
           {
            "colorbar": {
             "outlinewidth": 1,
             "tickcolor": "rgb(36,36,36)",
             "ticks": "outside"
            },
            "colorscale": [
             [
              0,
              "#440154"
             ],
             [
              0.1111111111111111,
              "#482878"
             ],
             [
              0.2222222222222222,
              "#3e4989"
             ],
             [
              0.3333333333333333,
              "#31688e"
             ],
             [
              0.4444444444444444,
              "#26828e"
             ],
             [
              0.5555555555555556,
              "#1f9e89"
             ],
             [
              0.6666666666666666,
              "#35b779"
             ],
             [
              0.7777777777777778,
              "#6ece58"
             ],
             [
              0.8888888888888888,
              "#b5de2b"
             ],
             [
              1,
              "#fde725"
             ]
            ],
            "type": "heatmap"
           }
          ],
          "heatmapgl": [
           {
            "colorbar": {
             "outlinewidth": 1,
             "tickcolor": "rgb(36,36,36)",
             "ticks": "outside"
            },
            "colorscale": [
             [
              0,
              "#440154"
             ],
             [
              0.1111111111111111,
              "#482878"
             ],
             [
              0.2222222222222222,
              "#3e4989"
             ],
             [
              0.3333333333333333,
              "#31688e"
             ],
             [
              0.4444444444444444,
              "#26828e"
             ],
             [
              0.5555555555555556,
              "#1f9e89"
             ],
             [
              0.6666666666666666,
              "#35b779"
             ],
             [
              0.7777777777777778,
              "#6ece58"
             ],
             [
              0.8888888888888888,
              "#b5de2b"
             ],
             [
              1,
              "#fde725"
             ]
            ],
            "type": "heatmapgl"
           }
          ],
          "histogram": [
           {
            "marker": {
             "line": {
              "color": "white",
              "width": 0.6
             }
            },
            "type": "histogram"
           }
          ],
          "histogram2d": [
           {
            "colorbar": {
             "outlinewidth": 1,
             "tickcolor": "rgb(36,36,36)",
             "ticks": "outside"
            },
            "colorscale": [
             [
              0,
              "#440154"
             ],
             [
              0.1111111111111111,
              "#482878"
             ],
             [
              0.2222222222222222,
              "#3e4989"
             ],
             [
              0.3333333333333333,
              "#31688e"
             ],
             [
              0.4444444444444444,
              "#26828e"
             ],
             [
              0.5555555555555556,
              "#1f9e89"
             ],
             [
              0.6666666666666666,
              "#35b779"
             ],
             [
              0.7777777777777778,
              "#6ece58"
             ],
             [
              0.8888888888888888,
              "#b5de2b"
             ],
             [
              1,
              "#fde725"
             ]
            ],
            "type": "histogram2d"
           }
          ],
          "histogram2dcontour": [
           {
            "colorbar": {
             "outlinewidth": 1,
             "tickcolor": "rgb(36,36,36)",
             "ticks": "outside"
            },
            "colorscale": [
             [
              0,
              "#440154"
             ],
             [
              0.1111111111111111,
              "#482878"
             ],
             [
              0.2222222222222222,
              "#3e4989"
             ],
             [
              0.3333333333333333,
              "#31688e"
             ],
             [
              0.4444444444444444,
              "#26828e"
             ],
             [
              0.5555555555555556,
              "#1f9e89"
             ],
             [
              0.6666666666666666,
              "#35b779"
             ],
             [
              0.7777777777777778,
              "#6ece58"
             ],
             [
              0.8888888888888888,
              "#b5de2b"
             ],
             [
              1,
              "#fde725"
             ]
            ],
            "type": "histogram2dcontour"
           }
          ],
          "mesh3d": [
           {
            "colorbar": {
             "outlinewidth": 1,
             "tickcolor": "rgb(36,36,36)",
             "ticks": "outside"
            },
            "type": "mesh3d"
           }
          ],
          "parcoords": [
           {
            "line": {
             "colorbar": {
              "outlinewidth": 1,
              "tickcolor": "rgb(36,36,36)",
              "ticks": "outside"
             }
            },
            "type": "parcoords"
           }
          ],
          "pie": [
           {
            "automargin": true,
            "type": "pie"
           }
          ],
          "scatter": [
           {
            "fillpattern": {
             "fillmode": "overlay",
             "size": 10,
             "solidity": 0.2
            },
            "type": "scatter"
           }
          ],
          "scatter3d": [
           {
            "line": {
             "colorbar": {
              "outlinewidth": 1,
              "tickcolor": "rgb(36,36,36)",
              "ticks": "outside"
             }
            },
            "marker": {
             "colorbar": {
              "outlinewidth": 1,
              "tickcolor": "rgb(36,36,36)",
              "ticks": "outside"
             }
            },
            "type": "scatter3d"
           }
          ],
          "scattercarpet": [
           {
            "marker": {
             "colorbar": {
              "outlinewidth": 1,
              "tickcolor": "rgb(36,36,36)",
              "ticks": "outside"
             }
            },
            "type": "scattercarpet"
           }
          ],
          "scattergeo": [
           {
            "marker": {
             "colorbar": {
              "outlinewidth": 1,
              "tickcolor": "rgb(36,36,36)",
              "ticks": "outside"
             }
            },
            "type": "scattergeo"
           }
          ],
          "scattergl": [
           {
            "marker": {
             "colorbar": {
              "outlinewidth": 1,
              "tickcolor": "rgb(36,36,36)",
              "ticks": "outside"
             }
            },
            "type": "scattergl"
           }
          ],
          "scattermapbox": [
           {
            "marker": {
             "colorbar": {
              "outlinewidth": 1,
              "tickcolor": "rgb(36,36,36)",
              "ticks": "outside"
             }
            },
            "type": "scattermapbox"
           }
          ],
          "scatterpolar": [
           {
            "marker": {
             "colorbar": {
              "outlinewidth": 1,
              "tickcolor": "rgb(36,36,36)",
              "ticks": "outside"
             }
            },
            "type": "scatterpolar"
           }
          ],
          "scatterpolargl": [
           {
            "marker": {
             "colorbar": {
              "outlinewidth": 1,
              "tickcolor": "rgb(36,36,36)",
              "ticks": "outside"
             }
            },
            "type": "scatterpolargl"
           }
          ],
          "scatterternary": [
           {
            "marker": {
             "colorbar": {
              "outlinewidth": 1,
              "tickcolor": "rgb(36,36,36)",
              "ticks": "outside"
             }
            },
            "type": "scatterternary"
           }
          ],
          "surface": [
           {
            "colorbar": {
             "outlinewidth": 1,
             "tickcolor": "rgb(36,36,36)",
             "ticks": "outside"
            },
            "colorscale": [
             [
              0,
              "#440154"
             ],
             [
              0.1111111111111111,
              "#482878"
             ],
             [
              0.2222222222222222,
              "#3e4989"
             ],
             [
              0.3333333333333333,
              "#31688e"
             ],
             [
              0.4444444444444444,
              "#26828e"
             ],
             [
              0.5555555555555556,
              "#1f9e89"
             ],
             [
              0.6666666666666666,
              "#35b779"
             ],
             [
              0.7777777777777778,
              "#6ece58"
             ],
             [
              0.8888888888888888,
              "#b5de2b"
             ],
             [
              1,
              "#fde725"
             ]
            ],
            "type": "surface"
           }
          ],
          "table": [
           {
            "cells": {
             "fill": {
              "color": "rgb(237,237,237)"
             },
             "line": {
              "color": "white"
             }
            },
            "header": {
             "fill": {
              "color": "rgb(217,217,217)"
             },
             "line": {
              "color": "white"
             }
            },
            "type": "table"
           }
          ]
         },
         "layout": {
          "annotationdefaults": {
           "arrowhead": 0,
           "arrowwidth": 1
          },
          "autotypenumbers": "strict",
          "coloraxis": {
           "colorbar": {
            "outlinewidth": 1,
            "tickcolor": "rgb(36,36,36)",
            "ticks": "outside"
           }
          },
          "colorscale": {
           "diverging": [
            [
             0,
             "rgb(103,0,31)"
            ],
            [
             0.1,
             "rgb(178,24,43)"
            ],
            [
             0.2,
             "rgb(214,96,77)"
            ],
            [
             0.3,
             "rgb(244,165,130)"
            ],
            [
             0.4,
             "rgb(253,219,199)"
            ],
            [
             0.5,
             "rgb(247,247,247)"
            ],
            [
             0.6,
             "rgb(209,229,240)"
            ],
            [
             0.7,
             "rgb(146,197,222)"
            ],
            [
             0.8,
             "rgb(67,147,195)"
            ],
            [
             0.9,
             "rgb(33,102,172)"
            ],
            [
             1,
             "rgb(5,48,97)"
            ]
           ],
           "sequential": [
            [
             0,
             "#440154"
            ],
            [
             0.1111111111111111,
             "#482878"
            ],
            [
             0.2222222222222222,
             "#3e4989"
            ],
            [
             0.3333333333333333,
             "#31688e"
            ],
            [
             0.4444444444444444,
             "#26828e"
            ],
            [
             0.5555555555555556,
             "#1f9e89"
            ],
            [
             0.6666666666666666,
             "#35b779"
            ],
            [
             0.7777777777777778,
             "#6ece58"
            ],
            [
             0.8888888888888888,
             "#b5de2b"
            ],
            [
             1,
             "#fde725"
            ]
           ],
           "sequentialminus": [
            [
             0,
             "#440154"
            ],
            [
             0.1111111111111111,
             "#482878"
            ],
            [
             0.2222222222222222,
             "#3e4989"
            ],
            [
             0.3333333333333333,
             "#31688e"
            ],
            [
             0.4444444444444444,
             "#26828e"
            ],
            [
             0.5555555555555556,
             "#1f9e89"
            ],
            [
             0.6666666666666666,
             "#35b779"
            ],
            [
             0.7777777777777778,
             "#6ece58"
            ],
            [
             0.8888888888888888,
             "#b5de2b"
            ],
            [
             1,
             "#fde725"
            ]
           ]
          },
          "colorway": [
           "#1F77B4",
           "#FF7F0E",
           "#2CA02C",
           "#D62728",
           "#9467BD",
           "#8C564B",
           "#E377C2",
           "#7F7F7F",
           "#BCBD22",
           "#17BECF"
          ],
          "font": {
           "color": "rgb(36,36,36)"
          },
          "geo": {
           "bgcolor": "white",
           "lakecolor": "white",
           "landcolor": "white",
           "showlakes": true,
           "showland": true,
           "subunitcolor": "white"
          },
          "hoverlabel": {
           "align": "left"
          },
          "hovermode": "closest",
          "mapbox": {
           "style": "light"
          },
          "paper_bgcolor": "white",
          "plot_bgcolor": "white",
          "polar": {
           "angularaxis": {
            "gridcolor": "rgb(232,232,232)",
            "linecolor": "rgb(36,36,36)",
            "showgrid": false,
            "showline": true,
            "ticks": "outside"
           },
           "bgcolor": "white",
           "radialaxis": {
            "gridcolor": "rgb(232,232,232)",
            "linecolor": "rgb(36,36,36)",
            "showgrid": false,
            "showline": true,
            "ticks": "outside"
           }
          },
          "scene": {
           "xaxis": {
            "backgroundcolor": "white",
            "gridcolor": "rgb(232,232,232)",
            "gridwidth": 2,
            "linecolor": "rgb(36,36,36)",
            "showbackground": true,
            "showgrid": false,
            "showline": true,
            "ticks": "outside",
            "zeroline": false,
            "zerolinecolor": "rgb(36,36,36)"
           },
           "yaxis": {
            "backgroundcolor": "white",
            "gridcolor": "rgb(232,232,232)",
            "gridwidth": 2,
            "linecolor": "rgb(36,36,36)",
            "showbackground": true,
            "showgrid": false,
            "showline": true,
            "ticks": "outside",
            "zeroline": false,
            "zerolinecolor": "rgb(36,36,36)"
           },
           "zaxis": {
            "backgroundcolor": "white",
            "gridcolor": "rgb(232,232,232)",
            "gridwidth": 2,
            "linecolor": "rgb(36,36,36)",
            "showbackground": true,
            "showgrid": false,
            "showline": true,
            "ticks": "outside",
            "zeroline": false,
            "zerolinecolor": "rgb(36,36,36)"
           }
          },
          "shapedefaults": {
           "fillcolor": "black",
           "line": {
            "width": 0
           },
           "opacity": 0.3
          },
          "ternary": {
           "aaxis": {
            "gridcolor": "rgb(232,232,232)",
            "linecolor": "rgb(36,36,36)",
            "showgrid": false,
            "showline": true,
            "ticks": "outside"
           },
           "baxis": {
            "gridcolor": "rgb(232,232,232)",
            "linecolor": "rgb(36,36,36)",
            "showgrid": false,
            "showline": true,
            "ticks": "outside"
           },
           "bgcolor": "white",
           "caxis": {
            "gridcolor": "rgb(232,232,232)",
            "linecolor": "rgb(36,36,36)",
            "showgrid": false,
            "showline": true,
            "ticks": "outside"
           }
          },
          "title": {
           "x": 0.05
          },
          "xaxis": {
           "automargin": true,
           "gridcolor": "rgb(232,232,232)",
           "linecolor": "rgb(36,36,36)",
           "showgrid": false,
           "showline": true,
           "ticks": "outside",
           "title": {
            "standoff": 15
           },
           "zeroline": false,
           "zerolinecolor": "rgb(36,36,36)"
          },
          "yaxis": {
           "automargin": true,
           "gridcolor": "rgb(232,232,232)",
           "linecolor": "rgb(36,36,36)",
           "showgrid": false,
           "showline": true,
           "ticks": "outside",
           "title": {
            "standoff": 15
           },
           "zeroline": false,
           "zerolinecolor": "rgb(36,36,36)"
          }
         }
        },
        "title": {
         "text": "Daily retention model"
        },
        "xaxis": {
         "title": {
          "text": "# day"
         }
        },
        "yaxis": {
         "title": {
          "text": "retention"
         }
        }
       }
      },
      "text/html": [
       "<div>                            <div id=\"dadbcb51-c8a4-4a3e-844e-0e422df466a4\" class=\"plotly-graph-div\" style=\"height:525px; width:100%;\"></div>            <script type=\"text/javascript\">                require([\"plotly\"], function(Plotly) {                    window.PLOTLYENV=window.PLOTLYENV || {};                                    if (document.getElementById(\"dadbcb51-c8a4-4a3e-844e-0e422df466a4\")) {                    Plotly.newPlot(                        \"dadbcb51-c8a4-4a3e-844e-0e422df466a4\",                        [{\"line\":{\"color\":\"#1F77B4\",\"width\":3},\"name\":\"fact\",\"x\":[0,1,2,3,4,5,6,7,8,9,10,11,12,13,14],\"y\":[1.0,0.5432,0.3874,0.345,0.3208,0.3085,0.2804,0.2643,null,null,null,null,null,null,null],\"type\":\"scatter\"},{\"line\":{\"color\":\"#1F77B4\",\"dash\":\"dot\",\"width\":3},\"name\":\"prediction\",\"x\":[0,1,2,3,4,5,6,7,8,9,10,11,12,13,14],\"y\":[1.0,0.5398756746037511,0.3992735186197688,0.3423906415145418,0.3129587130919763,0.29536873239118494,0.28382999096264,0.2757535945259857,0.2698245453641295,0.2653100853508017,0.2617721714769742,0.25893409189307875,0.2566131018503526,0.25468401542016095,0.25305840663242085],\"type\":\"scatter\"}],                        {\"template\":{\"data\":{\"histogram2dcontour\":[{\"type\":\"histogram2dcontour\",\"colorbar\":{\"outlinewidth\":1,\"tickcolor\":\"rgb(36,36,36)\",\"ticks\":\"outside\"},\"colorscale\":[[0.0,\"#440154\"],[0.1111111111111111,\"#482878\"],[0.2222222222222222,\"#3e4989\"],[0.3333333333333333,\"#31688e\"],[0.4444444444444444,\"#26828e\"],[0.5555555555555556,\"#1f9e89\"],[0.6666666666666666,\"#35b779\"],[0.7777777777777778,\"#6ece58\"],[0.8888888888888888,\"#b5de2b\"],[1.0,\"#fde725\"]]}],\"choropleth\":[{\"type\":\"choropleth\",\"colorbar\":{\"outlinewidth\":1,\"tickcolor\":\"rgb(36,36,36)\",\"ticks\":\"outside\"}}],\"histogram2d\":[{\"type\":\"histogram2d\",\"colorbar\":{\"outlinewidth\":1,\"tickcolor\":\"rgb(36,36,36)\",\"ticks\":\"outside\"},\"colorscale\":[[0.0,\"#440154\"],[0.1111111111111111,\"#482878\"],[0.2222222222222222,\"#3e4989\"],[0.3333333333333333,\"#31688e\"],[0.4444444444444444,\"#26828e\"],[0.5555555555555556,\"#1f9e89\"],[0.6666666666666666,\"#35b779\"],[0.7777777777777778,\"#6ece58\"],[0.8888888888888888,\"#b5de2b\"],[1.0,\"#fde725\"]]}],\"heatmap\":[{\"type\":\"heatmap\",\"colorbar\":{\"outlinewidth\":1,\"tickcolor\":\"rgb(36,36,36)\",\"ticks\":\"outside\"},\"colorscale\":[[0.0,\"#440154\"],[0.1111111111111111,\"#482878\"],[0.2222222222222222,\"#3e4989\"],[0.3333333333333333,\"#31688e\"],[0.4444444444444444,\"#26828e\"],[0.5555555555555556,\"#1f9e89\"],[0.6666666666666666,\"#35b779\"],[0.7777777777777778,\"#6ece58\"],[0.8888888888888888,\"#b5de2b\"],[1.0,\"#fde725\"]]}],\"heatmapgl\":[{\"type\":\"heatmapgl\",\"colorbar\":{\"outlinewidth\":1,\"tickcolor\":\"rgb(36,36,36)\",\"ticks\":\"outside\"},\"colorscale\":[[0.0,\"#440154\"],[0.1111111111111111,\"#482878\"],[0.2222222222222222,\"#3e4989\"],[0.3333333333333333,\"#31688e\"],[0.4444444444444444,\"#26828e\"],[0.5555555555555556,\"#1f9e89\"],[0.6666666666666666,\"#35b779\"],[0.7777777777777778,\"#6ece58\"],[0.8888888888888888,\"#b5de2b\"],[1.0,\"#fde725\"]]}],\"contourcarpet\":[{\"type\":\"contourcarpet\",\"colorbar\":{\"outlinewidth\":1,\"tickcolor\":\"rgb(36,36,36)\",\"ticks\":\"outside\"}}],\"contour\":[{\"type\":\"contour\",\"colorbar\":{\"outlinewidth\":1,\"tickcolor\":\"rgb(36,36,36)\",\"ticks\":\"outside\"},\"colorscale\":[[0.0,\"#440154\"],[0.1111111111111111,\"#482878\"],[0.2222222222222222,\"#3e4989\"],[0.3333333333333333,\"#31688e\"],[0.4444444444444444,\"#26828e\"],[0.5555555555555556,\"#1f9e89\"],[0.6666666666666666,\"#35b779\"],[0.7777777777777778,\"#6ece58\"],[0.8888888888888888,\"#b5de2b\"],[1.0,\"#fde725\"]]}],\"surface\":[{\"type\":\"surface\",\"colorbar\":{\"outlinewidth\":1,\"tickcolor\":\"rgb(36,36,36)\",\"ticks\":\"outside\"},\"colorscale\":[[0.0,\"#440154\"],[0.1111111111111111,\"#482878\"],[0.2222222222222222,\"#3e4989\"],[0.3333333333333333,\"#31688e\"],[0.4444444444444444,\"#26828e\"],[0.5555555555555556,\"#1f9e89\"],[0.6666666666666666,\"#35b779\"],[0.7777777777777778,\"#6ece58\"],[0.8888888888888888,\"#b5de2b\"],[1.0,\"#fde725\"]]}],\"mesh3d\":[{\"type\":\"mesh3d\",\"colorbar\":{\"outlinewidth\":1,\"tickcolor\":\"rgb(36,36,36)\",\"ticks\":\"outside\"}}],\"scatter\":[{\"fillpattern\":{\"fillmode\":\"overlay\",\"size\":10,\"solidity\":0.2},\"type\":\"scatter\"}],\"parcoords\":[{\"type\":\"parcoords\",\"line\":{\"colorbar\":{\"outlinewidth\":1,\"tickcolor\":\"rgb(36,36,36)\",\"ticks\":\"outside\"}}}],\"scatterpolargl\":[{\"type\":\"scatterpolargl\",\"marker\":{\"colorbar\":{\"outlinewidth\":1,\"tickcolor\":\"rgb(36,36,36)\",\"ticks\":\"outside\"}}}],\"bar\":[{\"error_x\":{\"color\":\"rgb(36,36,36)\"},\"error_y\":{\"color\":\"rgb(36,36,36)\"},\"marker\":{\"line\":{\"color\":\"white\",\"width\":0.5},\"pattern\":{\"fillmode\":\"overlay\",\"size\":10,\"solidity\":0.2}},\"type\":\"bar\"}],\"scattergeo\":[{\"type\":\"scattergeo\",\"marker\":{\"colorbar\":{\"outlinewidth\":1,\"tickcolor\":\"rgb(36,36,36)\",\"ticks\":\"outside\"}}}],\"scatterpolar\":[{\"type\":\"scatterpolar\",\"marker\":{\"colorbar\":{\"outlinewidth\":1,\"tickcolor\":\"rgb(36,36,36)\",\"ticks\":\"outside\"}}}],\"histogram\":[{\"marker\":{\"line\":{\"color\":\"white\",\"width\":0.6}},\"type\":\"histogram\"}],\"scattergl\":[{\"type\":\"scattergl\",\"marker\":{\"colorbar\":{\"outlinewidth\":1,\"tickcolor\":\"rgb(36,36,36)\",\"ticks\":\"outside\"}}}],\"scatter3d\":[{\"type\":\"scatter3d\",\"line\":{\"colorbar\":{\"outlinewidth\":1,\"tickcolor\":\"rgb(36,36,36)\",\"ticks\":\"outside\"}},\"marker\":{\"colorbar\":{\"outlinewidth\":1,\"tickcolor\":\"rgb(36,36,36)\",\"ticks\":\"outside\"}}}],\"scattermapbox\":[{\"type\":\"scattermapbox\",\"marker\":{\"colorbar\":{\"outlinewidth\":1,\"tickcolor\":\"rgb(36,36,36)\",\"ticks\":\"outside\"}}}],\"scatterternary\":[{\"type\":\"scatterternary\",\"marker\":{\"colorbar\":{\"outlinewidth\":1,\"tickcolor\":\"rgb(36,36,36)\",\"ticks\":\"outside\"}}}],\"scattercarpet\":[{\"type\":\"scattercarpet\",\"marker\":{\"colorbar\":{\"outlinewidth\":1,\"tickcolor\":\"rgb(36,36,36)\",\"ticks\":\"outside\"}}}],\"carpet\":[{\"aaxis\":{\"endlinecolor\":\"rgb(36,36,36)\",\"gridcolor\":\"white\",\"linecolor\":\"white\",\"minorgridcolor\":\"white\",\"startlinecolor\":\"rgb(36,36,36)\"},\"baxis\":{\"endlinecolor\":\"rgb(36,36,36)\",\"gridcolor\":\"white\",\"linecolor\":\"white\",\"minorgridcolor\":\"white\",\"startlinecolor\":\"rgb(36,36,36)\"},\"type\":\"carpet\"}],\"table\":[{\"cells\":{\"fill\":{\"color\":\"rgb(237,237,237)\"},\"line\":{\"color\":\"white\"}},\"header\":{\"fill\":{\"color\":\"rgb(217,217,217)\"},\"line\":{\"color\":\"white\"}},\"type\":\"table\"}],\"barpolar\":[{\"marker\":{\"line\":{\"color\":\"white\",\"width\":0.5},\"pattern\":{\"fillmode\":\"overlay\",\"size\":10,\"solidity\":0.2}},\"type\":\"barpolar\"}],\"pie\":[{\"automargin\":true,\"type\":\"pie\"}]},\"layout\":{\"autotypenumbers\":\"strict\",\"colorway\":[\"#1F77B4\",\"#FF7F0E\",\"#2CA02C\",\"#D62728\",\"#9467BD\",\"#8C564B\",\"#E377C2\",\"#7F7F7F\",\"#BCBD22\",\"#17BECF\"],\"font\":{\"color\":\"rgb(36,36,36)\"},\"hovermode\":\"closest\",\"hoverlabel\":{\"align\":\"left\"},\"paper_bgcolor\":\"white\",\"plot_bgcolor\":\"white\",\"polar\":{\"bgcolor\":\"white\",\"angularaxis\":{\"gridcolor\":\"rgb(232,232,232)\",\"linecolor\":\"rgb(36,36,36)\",\"showgrid\":false,\"showline\":true,\"ticks\":\"outside\"},\"radialaxis\":{\"gridcolor\":\"rgb(232,232,232)\",\"linecolor\":\"rgb(36,36,36)\",\"showgrid\":false,\"showline\":true,\"ticks\":\"outside\"}},\"ternary\":{\"bgcolor\":\"white\",\"aaxis\":{\"gridcolor\":\"rgb(232,232,232)\",\"linecolor\":\"rgb(36,36,36)\",\"showgrid\":false,\"showline\":true,\"ticks\":\"outside\"},\"baxis\":{\"gridcolor\":\"rgb(232,232,232)\",\"linecolor\":\"rgb(36,36,36)\",\"showgrid\":false,\"showline\":true,\"ticks\":\"outside\"},\"caxis\":{\"gridcolor\":\"rgb(232,232,232)\",\"linecolor\":\"rgb(36,36,36)\",\"showgrid\":false,\"showline\":true,\"ticks\":\"outside\"}},\"coloraxis\":{\"colorbar\":{\"outlinewidth\":1,\"tickcolor\":\"rgb(36,36,36)\",\"ticks\":\"outside\"}},\"colorscale\":{\"sequential\":[[0.0,\"#440154\"],[0.1111111111111111,\"#482878\"],[0.2222222222222222,\"#3e4989\"],[0.3333333333333333,\"#31688e\"],[0.4444444444444444,\"#26828e\"],[0.5555555555555556,\"#1f9e89\"],[0.6666666666666666,\"#35b779\"],[0.7777777777777778,\"#6ece58\"],[0.8888888888888888,\"#b5de2b\"],[1.0,\"#fde725\"]],\"sequentialminus\":[[0.0,\"#440154\"],[0.1111111111111111,\"#482878\"],[0.2222222222222222,\"#3e4989\"],[0.3333333333333333,\"#31688e\"],[0.4444444444444444,\"#26828e\"],[0.5555555555555556,\"#1f9e89\"],[0.6666666666666666,\"#35b779\"],[0.7777777777777778,\"#6ece58\"],[0.8888888888888888,\"#b5de2b\"],[1.0,\"#fde725\"]],\"diverging\":[[0.0,\"rgb(103,0,31)\"],[0.1,\"rgb(178,24,43)\"],[0.2,\"rgb(214,96,77)\"],[0.3,\"rgb(244,165,130)\"],[0.4,\"rgb(253,219,199)\"],[0.5,\"rgb(247,247,247)\"],[0.6,\"rgb(209,229,240)\"],[0.7,\"rgb(146,197,222)\"],[0.8,\"rgb(67,147,195)\"],[0.9,\"rgb(33,102,172)\"],[1.0,\"rgb(5,48,97)\"]]},\"xaxis\":{\"gridcolor\":\"rgb(232,232,232)\",\"linecolor\":\"rgb(36,36,36)\",\"showgrid\":false,\"showline\":true,\"ticks\":\"outside\",\"title\":{\"standoff\":15},\"zerolinecolor\":\"rgb(36,36,36)\",\"automargin\":true,\"zeroline\":false},\"yaxis\":{\"gridcolor\":\"rgb(232,232,232)\",\"linecolor\":\"rgb(36,36,36)\",\"showgrid\":false,\"showline\":true,\"ticks\":\"outside\",\"title\":{\"standoff\":15},\"zerolinecolor\":\"rgb(36,36,36)\",\"automargin\":true,\"zeroline\":false},\"scene\":{\"xaxis\":{\"backgroundcolor\":\"white\",\"gridcolor\":\"rgb(232,232,232)\",\"linecolor\":\"rgb(36,36,36)\",\"showbackground\":true,\"showgrid\":false,\"showline\":true,\"ticks\":\"outside\",\"zerolinecolor\":\"rgb(36,36,36)\",\"gridwidth\":2,\"zeroline\":false},\"yaxis\":{\"backgroundcolor\":\"white\",\"gridcolor\":\"rgb(232,232,232)\",\"linecolor\":\"rgb(36,36,36)\",\"showbackground\":true,\"showgrid\":false,\"showline\":true,\"ticks\":\"outside\",\"zerolinecolor\":\"rgb(36,36,36)\",\"gridwidth\":2,\"zeroline\":false},\"zaxis\":{\"backgroundcolor\":\"white\",\"gridcolor\":\"rgb(232,232,232)\",\"linecolor\":\"rgb(36,36,36)\",\"showbackground\":true,\"showgrid\":false,\"showline\":true,\"ticks\":\"outside\",\"zerolinecolor\":\"rgb(36,36,36)\",\"gridwidth\":2,\"zeroline\":false}},\"shapedefaults\":{\"fillcolor\":\"black\",\"line\":{\"width\":0},\"opacity\":0.3},\"annotationdefaults\":{\"arrowhead\":0,\"arrowwidth\":1},\"geo\":{\"bgcolor\":\"white\",\"landcolor\":\"white\",\"subunitcolor\":\"white\",\"showland\":true,\"showlakes\":true,\"lakecolor\":\"white\"},\"title\":{\"x\":0.05},\"mapbox\":{\"style\":\"light\"}}},\"title\":{\"text\":\"Daily retention model\"},\"yaxis\":{\"title\":{\"text\":\"retention\"}},\"xaxis\":{\"title\":{\"text\":\"# day\"}}},                        {\"responsive\": true}                    ).then(function(){\n",
       "                            \n",
       "var gd = document.getElementById('dadbcb51-c8a4-4a3e-844e-0e422df466a4');\n",
       "var x = new MutationObserver(function (mutations, observer) {{\n",
       "        var display = window.getComputedStyle(gd).display;\n",
       "        if (!display || display === 'none') {{\n",
       "            console.log([gd, 'removed!']);\n",
       "            Plotly.purge(gd);\n",
       "            observer.disconnect();\n",
       "        }}\n",
       "}});\n",
       "\n",
       "// Listen for the removal of the full notebook cells\n",
       "var notebookContainer = gd.closest('#notebook-container');\n",
       "if (notebookContainer) {{\n",
       "    x.observe(notebookContainer, {childList: true});\n",
       "}}\n",
       "\n",
       "// Listen for the clearing of the current output cell\n",
       "var outputEl = gd.closest('.output');\n",
       "if (outputEl) {{\n",
       "    x.observe(outputEl, {childList: true});\n",
       "}}\n",
       "\n",
       "                        })                };                });            </script>        </div>"
      ]
     },
     "metadata": {},
     "output_type": "display_data"
    }
   ],
   "source": [
    "import plotly.graph_objects as go\n",
    "import plotly\n",
    "fig = go.Figure()\n",
    "\n",
    "fig.add_trace(go.Scatter(x=ext_fact_df.num_month, y=ext_fact_df.fact, name='fact',\n",
    "                         line=dict(color=plotly.colors.qualitative.D3[0], width=3)))\n",
    "\n",
    "fig.add_trace(go.Scatter(x=ext_fact_df.num_month, y=ext_fact_df.prediction, name='prediction',\n",
    "                         line=dict(color=plotly.colors.qualitative.D3[0], width=3, dash='dot')))\n",
    "\n",
    "fig.update_layout(title='Daily retention model',\n",
    "                   yaxis_title='retention',\n",
    "                   xaxis_title='# day')"
   ]
  },
  {
   "cell_type": "markdown",
   "id": "485ec27e",
   "metadata": {},
   "source": [
    "### Cohort monitoring"
   ]
  },
  {
   "cell_type": "code",
   "execution_count": 368,
   "id": "bef9090e",
   "metadata": {},
   "outputs": [
    {
     "data": {
      "text/html": [
       "<div>\n",
       "<style scoped>\n",
       "    .dataframe tbody tr th:only-of-type {\n",
       "        vertical-align: middle;\n",
       "    }\n",
       "\n",
       "    .dataframe tbody tr th {\n",
       "        vertical-align: top;\n",
       "    }\n",
       "\n",
       "    .dataframe thead th {\n",
       "        text-align: right;\n",
       "    }\n",
       "</style>\n",
       "<table border=\"1\" class=\"dataframe\">\n",
       "  <thead>\n",
       "    <tr style=\"text-align: right;\">\n",
       "      <th></th>\n",
       "      <th>user_id</th>\n",
       "      <th>date</th>\n",
       "      <th>platform</th>\n",
       "      <th>week_date</th>\n",
       "    </tr>\n",
       "  </thead>\n",
       "  <tbody>\n",
       "    <tr>\n",
       "      <th>0</th>\n",
       "      <td>1000001</td>\n",
       "      <td>2021-01-04</td>\n",
       "      <td>web</td>\n",
       "      <td>2021-01-04</td>\n",
       "    </tr>\n",
       "    <tr>\n",
       "      <th>1</th>\n",
       "      <td>1000001</td>\n",
       "      <td>2021-01-05</td>\n",
       "      <td>web</td>\n",
       "      <td>2021-01-04</td>\n",
       "    </tr>\n",
       "    <tr>\n",
       "      <th>2</th>\n",
       "      <td>1000001</td>\n",
       "      <td>2021-01-07</td>\n",
       "      <td>web</td>\n",
       "      <td>2021-01-04</td>\n",
       "    </tr>\n",
       "    <tr>\n",
       "      <th>3</th>\n",
       "      <td>1000001</td>\n",
       "      <td>2021-01-19</td>\n",
       "      <td>web</td>\n",
       "      <td>2021-01-18</td>\n",
       "    </tr>\n",
       "    <tr>\n",
       "      <th>4</th>\n",
       "      <td>1000001</td>\n",
       "      <td>2021-03-08</td>\n",
       "      <td>web</td>\n",
       "      <td>2021-03-08</td>\n",
       "    </tr>\n",
       "  </tbody>\n",
       "</table>\n",
       "</div>"
      ],
      "text/plain": [
       "   user_id        date platform   week_date\n",
       "0  1000001  2021-01-04      web  2021-01-04\n",
       "1  1000001  2021-01-05      web  2021-01-04\n",
       "2  1000001  2021-01-07      web  2021-01-04\n",
       "3  1000001  2021-01-19      web  2021-01-18\n",
       "4  1000001  2021-03-08      web  2021-03-08"
      ]
     },
     "execution_count": 368,
     "metadata": {},
     "output_type": "execute_result"
    }
   ],
   "source": [
    "raw_df = pd.read_csv('full_data.csv', sep = '\\t')\\\n",
    "    .drop('Unnamed: 0', axis = 1)\n",
    "raw_df.head()"
   ]
  },
  {
   "cell_type": "code",
   "execution_count": 369,
   "id": "6c1db0f2",
   "metadata": {},
   "outputs": [],
   "source": [
    "raw_users_df = raw_df.groupby('user_id', as_index = False)[['date', 'week_date']].min()\\\n",
    "    .rename(columns = {'date': 'cohort_date', 'week_date': 'cohort_week_date'})"
   ]
  },
  {
   "cell_type": "code",
   "execution_count": 370,
   "id": "2aba702a",
   "metadata": {},
   "outputs": [],
   "source": [
    "raw_df = raw_df.merge(raw_users_df)"
   ]
  },
  {
   "cell_type": "code",
   "execution_count": 371,
   "id": "b22d7417",
   "metadata": {},
   "outputs": [],
   "source": [
    "raw_df['week_num'] = list(map(\n",
    "    lambda x, y: (datetime.datetime.strptime(x, '%Y-%m-%d') - datetime.datetime.strptime(y, '%Y-%m-%d')).days,\n",
    "    raw_df.week_date,\n",
    "    raw_df.cohort_week_date\n",
    "))"
   ]
  },
  {
   "cell_type": "code",
   "execution_count": 372,
   "id": "67637380",
   "metadata": {},
   "outputs": [],
   "source": [
    "df = raw_df.groupby(['week_date', 'cohort_week_date'], as_index = False)[['user_id']].nunique()\\\n",
    "    .rename(columns = {'user_id': 'users'})"
   ]
  },
  {
   "cell_type": "code",
   "execution_count": 373,
   "id": "3e18d88c",
   "metadata": {},
   "outputs": [],
   "source": [
    "df['week_num'] = list(map(\n",
    "    lambda x, y: (datetime.datetime.strptime(x, '%Y-%m-%d') - datetime.datetime.strptime(y, '%Y-%m-%d')).days/7,\n",
    "    df.week_date,\n",
    "    df.cohort_week_date\n",
    "))"
   ]
  },
  {
   "cell_type": "code",
   "execution_count": 374,
   "id": "fe4ebe9f",
   "metadata": {},
   "outputs": [],
   "source": [
    "df = df.merge(df[df.week_num == 0][['cohort_week_date', 'users']].rename(columns = {'users': 'cohort_users'}))"
   ]
  },
  {
   "cell_type": "code",
   "execution_count": 375,
   "id": "8dba4c35",
   "metadata": {},
   "outputs": [],
   "source": [
    "df['retention'] = 100.*df.users/df.cohort_users"
   ]
  },
  {
   "cell_type": "code",
   "execution_count": 376,
   "id": "d786a63d",
   "metadata": {},
   "outputs": [],
   "source": [
    "filt_df = df[(df.cohort_week_date > '2023-05-08')\n",
    "            & (df.week_date < '2023-09-01')]"
   ]
  },
  {
   "cell_type": "code",
   "execution_count": 377,
   "id": "6d61c4bd",
   "metadata": {},
   "outputs": [
    {
     "data": {
      "application/vnd.plotly.v1+json": {
       "config": {
        "plotlyServerURL": "https://plot.ly"
       },
       "data": [
        {
         "hovertemplate": "cohort=2023-05-15<br>week=%{x}<br>retention, %=%{y}<extra></extra>",
         "legendgroup": "2023-05-15",
         "line": {
          "color": "#1F77B4",
          "dash": "solid"
         },
         "marker": {
          "symbol": "circle"
         },
         "mode": "lines",
         "name": "2023-05-15",
         "orientation": "v",
         "showlegend": true,
         "type": "scatter",
         "x": [
          "2023-05-15",
          "2023-05-22",
          "2023-05-29",
          "2023-06-05",
          "2023-06-12",
          "2023-06-19",
          "2023-06-26",
          "2023-07-03",
          "2023-07-10",
          "2023-07-17",
          "2023-07-24",
          "2023-07-31",
          "2023-08-07",
          "2023-08-14",
          "2023-08-21",
          "2023-08-28"
         ],
         "xaxis": "x",
         "y": [
          100,
          82.920245398773,
          57.84049079754601,
          46.13496932515337,
          36.93251533742331,
          32.147239263803684,
          30.03680981595092,
          27.190184049079754,
          25.20245398773006,
          24.392638036809817,
          22.625766871165645,
          22.282208588957054,
          21.079754601226995,
          19.975460122699385,
          19.926380368098158,
          19.460122699386503
         ],
         "yaxis": "y"
        },
        {
         "hovertemplate": "cohort=2023-05-22<br>week=%{x}<br>retention, %=%{y}<extra></extra>",
         "legendgroup": "2023-05-22",
         "line": {
          "color": "#FF7F0E",
          "dash": "solid"
         },
         "marker": {
          "symbol": "circle"
         },
         "mode": "lines",
         "name": "2023-05-22",
         "orientation": "v",
         "showlegend": true,
         "type": "scatter",
         "x": [
          "2023-05-15",
          "2023-05-22",
          "2023-05-29",
          "2023-06-05",
          "2023-06-12",
          "2023-06-19",
          "2023-06-26",
          "2023-07-03",
          "2023-07-10",
          "2023-07-17",
          "2023-07-24",
          "2023-07-31",
          "2023-08-07",
          "2023-08-14",
          "2023-08-21",
          "2023-08-28"
         ],
         "xaxis": "x",
         "y": [
          null,
          100,
          82.73483947681332,
          58.715814506539836,
          45.51724137931034,
          39.19143876337693,
          32.74673008323425,
          30.725326991676575,
          28.10939357907253,
          24.61355529131986,
          24.304399524375743,
          23.258026159334126,
          21.379310344827587,
          20.546967895362663,
          20.42806183115339,
          20
         ],
         "yaxis": "y"
        },
        {
         "hovertemplate": "cohort=2023-05-29<br>week=%{x}<br>retention, %=%{y}<extra></extra>",
         "legendgroup": "2023-05-29",
         "line": {
          "color": "#2CA02C",
          "dash": "solid"
         },
         "marker": {
          "symbol": "circle"
         },
         "mode": "lines",
         "name": "2023-05-29",
         "orientation": "v",
         "showlegend": true,
         "type": "scatter",
         "x": [
          "2023-05-15",
          "2023-05-22",
          "2023-05-29",
          "2023-06-05",
          "2023-06-12",
          "2023-06-19",
          "2023-06-26",
          "2023-07-03",
          "2023-07-10",
          "2023-07-17",
          "2023-07-24",
          "2023-07-31",
          "2023-08-07",
          "2023-08-14",
          "2023-08-21",
          "2023-08-28"
         ],
         "xaxis": "x",
         "y": [
          null,
          null,
          100,
          83.02243211334121,
          59.59858323494687,
          45.97402597402598,
          38.44155844155844,
          34.52184179456907,
          31.66469893742621,
          26.753246753246753,
          24.462809917355372,
          24.74616292798111,
          22.266824085005904,
          21.629279811097994,
          20.425029515938608,
          21.67650531286895
         ],
         "yaxis": "y"
        },
        {
         "hovertemplate": "cohort=2023-06-05<br>week=%{x}<br>retention, %=%{y}<extra></extra>",
         "legendgroup": "2023-06-05",
         "line": {
          "color": "#D62728",
          "dash": "solid"
         },
         "marker": {
          "symbol": "circle"
         },
         "mode": "lines",
         "name": "2023-06-05",
         "orientation": "v",
         "showlegend": true,
         "type": "scatter",
         "x": [
          "2023-05-15",
          "2023-05-22",
          "2023-05-29",
          "2023-06-05",
          "2023-06-12",
          "2023-06-19",
          "2023-06-26",
          "2023-07-03",
          "2023-07-10",
          "2023-07-17",
          "2023-07-24",
          "2023-07-31",
          "2023-08-07",
          "2023-08-14",
          "2023-08-21",
          "2023-08-28"
         ],
         "xaxis": "x",
         "y": [
          null,
          null,
          null,
          100,
          83.7598883201489,
          60.86551884597487,
          45.5793392275477,
          39.71614704513728,
          33.71335504885994,
          31.642624476500696,
          26.96603071195905,
          26.221498371335503,
          23.825034899953465,
          22.91763610981852,
          21.59143787808283,
          21.40530479292694
         ],
         "yaxis": "y"
        },
        {
         "hovertemplate": "cohort=2023-06-12<br>week=%{x}<br>retention, %=%{y}<extra></extra>",
         "legendgroup": "2023-06-12",
         "line": {
          "color": "#9467BD",
          "dash": "solid"
         },
         "marker": {
          "symbol": "circle"
         },
         "mode": "lines",
         "name": "2023-06-12",
         "orientation": "v",
         "showlegend": true,
         "type": "scatter",
         "x": [
          "2023-05-15",
          "2023-05-22",
          "2023-05-29",
          "2023-06-05",
          "2023-06-12",
          "2023-06-19",
          "2023-06-26",
          "2023-07-03",
          "2023-07-10",
          "2023-07-17",
          "2023-07-24",
          "2023-07-31",
          "2023-08-07",
          "2023-08-14",
          "2023-08-21",
          "2023-08-28"
         ],
         "xaxis": "x",
         "y": [
          null,
          null,
          null,
          null,
          100,
          83.66794495826754,
          59.12474622152042,
          46.898263027295286,
          39.79246559891721,
          33.72434017595308,
          30.92713737875028,
          27.81412136250846,
          26.956914053688248,
          23.88901421159486,
          22.919016467403566,
          21.407624633431084
         ],
         "yaxis": "y"
        },
        {
         "hovertemplate": "cohort=2023-06-19<br>week=%{x}<br>retention, %=%{y}<extra></extra>",
         "legendgroup": "2023-06-19",
         "line": {
          "color": "#8C564B",
          "dash": "solid"
         },
         "marker": {
          "symbol": "circle"
         },
         "mode": "lines",
         "name": "2023-06-19",
         "orientation": "v",
         "showlegend": true,
         "type": "scatter",
         "x": [
          "2023-05-15",
          "2023-05-22",
          "2023-05-29",
          "2023-06-05",
          "2023-06-12",
          "2023-06-19",
          "2023-06-26",
          "2023-07-03",
          "2023-07-10",
          "2023-07-17",
          "2023-07-24",
          "2023-07-31",
          "2023-08-07",
          "2023-08-14",
          "2023-08-21",
          "2023-08-28"
         ],
         "xaxis": "x",
         "y": [
          null,
          null,
          null,
          null,
          null,
          100,
          83.48748026167381,
          60.929393187457705,
          46.785472591924204,
          39.183397247913376,
          34.89736070381232,
          31.13016016241823,
          27.15993683735619,
          25.986916309496955,
          24.701105346266637,
          21.90390254906384
         ],
         "yaxis": "y"
        },
        {
         "hovertemplate": "cohort=2023-06-26<br>week=%{x}<br>retention, %=%{y}<extra></extra>",
         "legendgroup": "2023-06-26",
         "line": {
          "color": "#E377C2",
          "dash": "solid"
         },
         "marker": {
          "symbol": "circle"
         },
         "mode": "lines",
         "name": "2023-06-26",
         "orientation": "v",
         "showlegend": true,
         "type": "scatter",
         "x": [
          "2023-05-15",
          "2023-05-22",
          "2023-05-29",
          "2023-06-05",
          "2023-06-12",
          "2023-06-19",
          "2023-06-26",
          "2023-07-03",
          "2023-07-10",
          "2023-07-17",
          "2023-07-24",
          "2023-07-31",
          "2023-08-07",
          "2023-08-14",
          "2023-08-21",
          "2023-08-28"
         ],
         "xaxis": "x",
         "y": [
          null,
          null,
          null,
          null,
          null,
          null,
          100,
          84.83642793987622,
          60.96374889478338,
          48.275862068965516,
          39.6551724137931,
          33.95225464190982,
          29.420866489832008,
          27.630415561450043,
          26.702033598585324,
          23.91688770999116
         ],
         "yaxis": "y"
        },
        {
         "hovertemplate": "cohort=2023-07-03<br>week=%{x}<br>retention, %=%{y}<extra></extra>",
         "legendgroup": "2023-07-03",
         "line": {
          "color": "#7F7F7F",
          "dash": "solid"
         },
         "marker": {
          "symbol": "circle"
         },
         "mode": "lines",
         "name": "2023-07-03",
         "orientation": "v",
         "showlegend": true,
         "type": "scatter",
         "x": [
          "2023-05-15",
          "2023-05-22",
          "2023-05-29",
          "2023-06-05",
          "2023-06-12",
          "2023-06-19",
          "2023-06-26",
          "2023-07-03",
          "2023-07-10",
          "2023-07-17",
          "2023-07-24",
          "2023-07-31",
          "2023-08-07",
          "2023-08-14",
          "2023-08-21",
          "2023-08-28"
         ],
         "xaxis": "x",
         "y": [
          null,
          null,
          null,
          null,
          null,
          null,
          null,
          100,
          84.41643121060639,
          60.769397956965875,
          46.83764399043686,
          38.90458595957401,
          34.188219952184305,
          30.66724625081504,
          28.319930449902195,
          25.88567702673332
         ],
         "yaxis": "y"
        },
        {
         "hovertemplate": "cohort=2023-07-10<br>week=%{x}<br>retention, %=%{y}<extra></extra>",
         "legendgroup": "2023-07-10",
         "line": {
          "color": "#BCBD22",
          "dash": "solid"
         },
         "marker": {
          "symbol": "circle"
         },
         "mode": "lines",
         "name": "2023-07-10",
         "orientation": "v",
         "showlegend": true,
         "type": "scatter",
         "x": [
          "2023-05-15",
          "2023-05-22",
          "2023-05-29",
          "2023-06-05",
          "2023-06-12",
          "2023-06-19",
          "2023-06-26",
          "2023-07-03",
          "2023-07-10",
          "2023-07-17",
          "2023-07-24",
          "2023-07-31",
          "2023-08-07",
          "2023-08-14",
          "2023-08-21",
          "2023-08-28"
         ],
         "xaxis": "x",
         "y": [
          null,
          null,
          null,
          null,
          null,
          null,
          null,
          null,
          100,
          85.70505920344456,
          61.420882669537136,
          47.36275565123789,
          39.181916038751346,
          34.811625403659846,
          30.39827771797632,
          28.31001076426265
         ],
         "yaxis": "y"
        },
        {
         "hovertemplate": "cohort=2023-07-17<br>week=%{x}<br>retention, %=%{y}<extra></extra>",
         "legendgroup": "2023-07-17",
         "line": {
          "color": "#17BECF",
          "dash": "solid"
         },
         "marker": {
          "symbol": "circle"
         },
         "mode": "lines",
         "name": "2023-07-17",
         "orientation": "v",
         "showlegend": true,
         "type": "scatter",
         "x": [
          "2023-05-15",
          "2023-05-22",
          "2023-05-29",
          "2023-06-05",
          "2023-06-12",
          "2023-06-19",
          "2023-06-26",
          "2023-07-03",
          "2023-07-10",
          "2023-07-17",
          "2023-07-24",
          "2023-07-31",
          "2023-08-07",
          "2023-08-14",
          "2023-08-21",
          "2023-08-28"
         ],
         "xaxis": "x",
         "y": [
          null,
          null,
          null,
          null,
          null,
          null,
          null,
          null,
          null,
          100,
          85.12044340225965,
          60.733319121722445,
          47.64442549562993,
          40.22596461308889,
          33.169899808143256,
          31.869537412065657
         ],
         "yaxis": "y"
        },
        {
         "hovertemplate": "cohort=2023-07-24<br>week=%{x}<br>retention, %=%{y}<extra></extra>",
         "legendgroup": "2023-07-24",
         "line": {
          "color": "#1F77B4",
          "dash": "solid"
         },
         "marker": {
          "symbol": "circle"
         },
         "mode": "lines",
         "name": "2023-07-24",
         "orientation": "v",
         "showlegend": true,
         "type": "scatter",
         "x": [
          "2023-05-15",
          "2023-05-22",
          "2023-05-29",
          "2023-06-05",
          "2023-06-12",
          "2023-06-19",
          "2023-06-26",
          "2023-07-03",
          "2023-07-10",
          "2023-07-17",
          "2023-07-24",
          "2023-07-31",
          "2023-08-07",
          "2023-08-14",
          "2023-08-21",
          "2023-08-28"
         ],
         "xaxis": "x",
         "y": [
          null,
          null,
          null,
          null,
          null,
          null,
          null,
          null,
          null,
          null,
          100,
          85.58558558558559,
          61.15650534255185,
          49.23528179342133,
          39.55583490467211,
          34.799916195265034
         ],
         "yaxis": "y"
        },
        {
         "hovertemplate": "cohort=2023-07-31<br>week=%{x}<br>retention, %=%{y}<extra></extra>",
         "legendgroup": "2023-07-31",
         "line": {
          "color": "#FF7F0E",
          "dash": "solid"
         },
         "marker": {
          "symbol": "circle"
         },
         "mode": "lines",
         "name": "2023-07-31",
         "orientation": "v",
         "showlegend": true,
         "type": "scatter",
         "x": [
          "2023-05-15",
          "2023-05-22",
          "2023-05-29",
          "2023-06-05",
          "2023-06-12",
          "2023-06-19",
          "2023-06-26",
          "2023-07-03",
          "2023-07-10",
          "2023-07-17",
          "2023-07-24",
          "2023-07-31",
          "2023-08-07",
          "2023-08-14",
          "2023-08-21",
          "2023-08-28"
         ],
         "xaxis": "x",
         "y": [
          null,
          null,
          null,
          null,
          null,
          null,
          null,
          null,
          null,
          null,
          null,
          100,
          85.0610386923236,
          61.618042623629215,
          48.706807366025245,
          39.437202565694186
         ],
         "yaxis": "y"
        },
        {
         "hovertemplate": "cohort=2023-08-07<br>week=%{x}<br>retention, %=%{y}<extra></extra>",
         "legendgroup": "2023-08-07",
         "line": {
          "color": "#2CA02C",
          "dash": "solid"
         },
         "marker": {
          "symbol": "circle"
         },
         "mode": "lines",
         "name": "2023-08-07",
         "orientation": "v",
         "showlegend": true,
         "type": "scatter",
         "x": [
          "2023-05-15",
          "2023-05-22",
          "2023-05-29",
          "2023-06-05",
          "2023-06-12",
          "2023-06-19",
          "2023-06-26",
          "2023-07-03",
          "2023-07-10",
          "2023-07-17",
          "2023-07-24",
          "2023-07-31",
          "2023-08-07",
          "2023-08-14",
          "2023-08-21",
          "2023-08-28"
         ],
         "xaxis": "x",
         "y": [
          null,
          null,
          null,
          null,
          null,
          null,
          null,
          null,
          null,
          null,
          null,
          null,
          100,
          86.03649784703711,
          62.5999589911831,
          48.10334221857699
         ],
         "yaxis": "y"
        },
        {
         "hovertemplate": "cohort=2023-08-14<br>week=%{x}<br>retention, %=%{y}<extra></extra>",
         "legendgroup": "2023-08-14",
         "line": {
          "color": "#D62728",
          "dash": "solid"
         },
         "marker": {
          "symbol": "circle"
         },
         "mode": "lines",
         "name": "2023-08-14",
         "orientation": "v",
         "showlegend": true,
         "type": "scatter",
         "x": [
          "2023-05-15",
          "2023-05-22",
          "2023-05-29",
          "2023-06-05",
          "2023-06-12",
          "2023-06-19",
          "2023-06-26",
          "2023-07-03",
          "2023-07-10",
          "2023-07-17",
          "2023-07-24",
          "2023-07-31",
          "2023-08-07",
          "2023-08-14",
          "2023-08-21",
          "2023-08-28"
         ],
         "xaxis": "x",
         "y": [
          null,
          null,
          null,
          null,
          null,
          null,
          null,
          null,
          null,
          null,
          null,
          null,
          null,
          100,
          84.84540276647681,
          61.85923515052888
         ],
         "yaxis": "y"
        },
        {
         "hovertemplate": "cohort=2023-08-21<br>week=%{x}<br>retention, %=%{y}<extra></extra>",
         "legendgroup": "2023-08-21",
         "line": {
          "color": "#9467BD",
          "dash": "solid"
         },
         "marker": {
          "symbol": "circle"
         },
         "mode": "lines",
         "name": "2023-08-21",
         "orientation": "v",
         "showlegend": true,
         "type": "scatter",
         "x": [
          "2023-05-15",
          "2023-05-22",
          "2023-05-29",
          "2023-06-05",
          "2023-06-12",
          "2023-06-19",
          "2023-06-26",
          "2023-07-03",
          "2023-07-10",
          "2023-07-17",
          "2023-07-24",
          "2023-07-31",
          "2023-08-07",
          "2023-08-14",
          "2023-08-21",
          "2023-08-28"
         ],
         "xaxis": "x",
         "y": [
          null,
          null,
          null,
          null,
          null,
          null,
          null,
          null,
          null,
          null,
          null,
          null,
          null,
          null,
          100,
          85.74605742013749
         ],
         "yaxis": "y"
        },
        {
         "hovertemplate": "cohort=2023-08-28<br>week=%{x}<br>retention, %=%{y}<extra></extra>",
         "legendgroup": "2023-08-28",
         "line": {
          "color": "#8C564B",
          "dash": "solid"
         },
         "marker": {
          "symbol": "circle"
         },
         "mode": "lines",
         "name": "2023-08-28",
         "orientation": "v",
         "showlegend": true,
         "type": "scatter",
         "x": [
          "2023-05-15",
          "2023-05-22",
          "2023-05-29",
          "2023-06-05",
          "2023-06-12",
          "2023-06-19",
          "2023-06-26",
          "2023-07-03",
          "2023-07-10",
          "2023-07-17",
          "2023-07-24",
          "2023-07-31",
          "2023-08-07",
          "2023-08-14",
          "2023-08-21",
          "2023-08-28"
         ],
         "xaxis": "x",
         "y": [
          null,
          null,
          null,
          null,
          null,
          null,
          null,
          null,
          null,
          null,
          null,
          null,
          null,
          null,
          null,
          100
         ],
         "yaxis": "y"
        }
       ],
       "layout": {
        "legend": {
         "title": {
          "text": "cohort"
         },
         "tracegroupgap": 0
        },
        "template": {
         "data": {
          "bar": [
           {
            "error_x": {
             "color": "rgb(36,36,36)"
            },
            "error_y": {
             "color": "rgb(36,36,36)"
            },
            "marker": {
             "line": {
              "color": "white",
              "width": 0.5
             },
             "pattern": {
              "fillmode": "overlay",
              "size": 10,
              "solidity": 0.2
             }
            },
            "type": "bar"
           }
          ],
          "barpolar": [
           {
            "marker": {
             "line": {
              "color": "white",
              "width": 0.5
             },
             "pattern": {
              "fillmode": "overlay",
              "size": 10,
              "solidity": 0.2
             }
            },
            "type": "barpolar"
           }
          ],
          "carpet": [
           {
            "aaxis": {
             "endlinecolor": "rgb(36,36,36)",
             "gridcolor": "white",
             "linecolor": "white",
             "minorgridcolor": "white",
             "startlinecolor": "rgb(36,36,36)"
            },
            "baxis": {
             "endlinecolor": "rgb(36,36,36)",
             "gridcolor": "white",
             "linecolor": "white",
             "minorgridcolor": "white",
             "startlinecolor": "rgb(36,36,36)"
            },
            "type": "carpet"
           }
          ],
          "choropleth": [
           {
            "colorbar": {
             "outlinewidth": 1,
             "tickcolor": "rgb(36,36,36)",
             "ticks": "outside"
            },
            "type": "choropleth"
           }
          ],
          "contour": [
           {
            "colorbar": {
             "outlinewidth": 1,
             "tickcolor": "rgb(36,36,36)",
             "ticks": "outside"
            },
            "colorscale": [
             [
              0,
              "#440154"
             ],
             [
              0.1111111111111111,
              "#482878"
             ],
             [
              0.2222222222222222,
              "#3e4989"
             ],
             [
              0.3333333333333333,
              "#31688e"
             ],
             [
              0.4444444444444444,
              "#26828e"
             ],
             [
              0.5555555555555556,
              "#1f9e89"
             ],
             [
              0.6666666666666666,
              "#35b779"
             ],
             [
              0.7777777777777778,
              "#6ece58"
             ],
             [
              0.8888888888888888,
              "#b5de2b"
             ],
             [
              1,
              "#fde725"
             ]
            ],
            "type": "contour"
           }
          ],
          "contourcarpet": [
           {
            "colorbar": {
             "outlinewidth": 1,
             "tickcolor": "rgb(36,36,36)",
             "ticks": "outside"
            },
            "type": "contourcarpet"
           }
          ],
          "heatmap": [
           {
            "colorbar": {
             "outlinewidth": 1,
             "tickcolor": "rgb(36,36,36)",
             "ticks": "outside"
            },
            "colorscale": [
             [
              0,
              "#440154"
             ],
             [
              0.1111111111111111,
              "#482878"
             ],
             [
              0.2222222222222222,
              "#3e4989"
             ],
             [
              0.3333333333333333,
              "#31688e"
             ],
             [
              0.4444444444444444,
              "#26828e"
             ],
             [
              0.5555555555555556,
              "#1f9e89"
             ],
             [
              0.6666666666666666,
              "#35b779"
             ],
             [
              0.7777777777777778,
              "#6ece58"
             ],
             [
              0.8888888888888888,
              "#b5de2b"
             ],
             [
              1,
              "#fde725"
             ]
            ],
            "type": "heatmap"
           }
          ],
          "heatmapgl": [
           {
            "colorbar": {
             "outlinewidth": 1,
             "tickcolor": "rgb(36,36,36)",
             "ticks": "outside"
            },
            "colorscale": [
             [
              0,
              "#440154"
             ],
             [
              0.1111111111111111,
              "#482878"
             ],
             [
              0.2222222222222222,
              "#3e4989"
             ],
             [
              0.3333333333333333,
              "#31688e"
             ],
             [
              0.4444444444444444,
              "#26828e"
             ],
             [
              0.5555555555555556,
              "#1f9e89"
             ],
             [
              0.6666666666666666,
              "#35b779"
             ],
             [
              0.7777777777777778,
              "#6ece58"
             ],
             [
              0.8888888888888888,
              "#b5de2b"
             ],
             [
              1,
              "#fde725"
             ]
            ],
            "type": "heatmapgl"
           }
          ],
          "histogram": [
           {
            "marker": {
             "line": {
              "color": "white",
              "width": 0.6
             }
            },
            "type": "histogram"
           }
          ],
          "histogram2d": [
           {
            "colorbar": {
             "outlinewidth": 1,
             "tickcolor": "rgb(36,36,36)",
             "ticks": "outside"
            },
            "colorscale": [
             [
              0,
              "#440154"
             ],
             [
              0.1111111111111111,
              "#482878"
             ],
             [
              0.2222222222222222,
              "#3e4989"
             ],
             [
              0.3333333333333333,
              "#31688e"
             ],
             [
              0.4444444444444444,
              "#26828e"
             ],
             [
              0.5555555555555556,
              "#1f9e89"
             ],
             [
              0.6666666666666666,
              "#35b779"
             ],
             [
              0.7777777777777778,
              "#6ece58"
             ],
             [
              0.8888888888888888,
              "#b5de2b"
             ],
             [
              1,
              "#fde725"
             ]
            ],
            "type": "histogram2d"
           }
          ],
          "histogram2dcontour": [
           {
            "colorbar": {
             "outlinewidth": 1,
             "tickcolor": "rgb(36,36,36)",
             "ticks": "outside"
            },
            "colorscale": [
             [
              0,
              "#440154"
             ],
             [
              0.1111111111111111,
              "#482878"
             ],
             [
              0.2222222222222222,
              "#3e4989"
             ],
             [
              0.3333333333333333,
              "#31688e"
             ],
             [
              0.4444444444444444,
              "#26828e"
             ],
             [
              0.5555555555555556,
              "#1f9e89"
             ],
             [
              0.6666666666666666,
              "#35b779"
             ],
             [
              0.7777777777777778,
              "#6ece58"
             ],
             [
              0.8888888888888888,
              "#b5de2b"
             ],
             [
              1,
              "#fde725"
             ]
            ],
            "type": "histogram2dcontour"
           }
          ],
          "mesh3d": [
           {
            "colorbar": {
             "outlinewidth": 1,
             "tickcolor": "rgb(36,36,36)",
             "ticks": "outside"
            },
            "type": "mesh3d"
           }
          ],
          "parcoords": [
           {
            "line": {
             "colorbar": {
              "outlinewidth": 1,
              "tickcolor": "rgb(36,36,36)",
              "ticks": "outside"
             }
            },
            "type": "parcoords"
           }
          ],
          "pie": [
           {
            "automargin": true,
            "type": "pie"
           }
          ],
          "scatter": [
           {
            "fillpattern": {
             "fillmode": "overlay",
             "size": 10,
             "solidity": 0.2
            },
            "type": "scatter"
           }
          ],
          "scatter3d": [
           {
            "line": {
             "colorbar": {
              "outlinewidth": 1,
              "tickcolor": "rgb(36,36,36)",
              "ticks": "outside"
             }
            },
            "marker": {
             "colorbar": {
              "outlinewidth": 1,
              "tickcolor": "rgb(36,36,36)",
              "ticks": "outside"
             }
            },
            "type": "scatter3d"
           }
          ],
          "scattercarpet": [
           {
            "marker": {
             "colorbar": {
              "outlinewidth": 1,
              "tickcolor": "rgb(36,36,36)",
              "ticks": "outside"
             }
            },
            "type": "scattercarpet"
           }
          ],
          "scattergeo": [
           {
            "marker": {
             "colorbar": {
              "outlinewidth": 1,
              "tickcolor": "rgb(36,36,36)",
              "ticks": "outside"
             }
            },
            "type": "scattergeo"
           }
          ],
          "scattergl": [
           {
            "marker": {
             "colorbar": {
              "outlinewidth": 1,
              "tickcolor": "rgb(36,36,36)",
              "ticks": "outside"
             }
            },
            "type": "scattergl"
           }
          ],
          "scattermapbox": [
           {
            "marker": {
             "colorbar": {
              "outlinewidth": 1,
              "tickcolor": "rgb(36,36,36)",
              "ticks": "outside"
             }
            },
            "type": "scattermapbox"
           }
          ],
          "scatterpolar": [
           {
            "marker": {
             "colorbar": {
              "outlinewidth": 1,
              "tickcolor": "rgb(36,36,36)",
              "ticks": "outside"
             }
            },
            "type": "scatterpolar"
           }
          ],
          "scatterpolargl": [
           {
            "marker": {
             "colorbar": {
              "outlinewidth": 1,
              "tickcolor": "rgb(36,36,36)",
              "ticks": "outside"
             }
            },
            "type": "scatterpolargl"
           }
          ],
          "scatterternary": [
           {
            "marker": {
             "colorbar": {
              "outlinewidth": 1,
              "tickcolor": "rgb(36,36,36)",
              "ticks": "outside"
             }
            },
            "type": "scatterternary"
           }
          ],
          "surface": [
           {
            "colorbar": {
             "outlinewidth": 1,
             "tickcolor": "rgb(36,36,36)",
             "ticks": "outside"
            },
            "colorscale": [
             [
              0,
              "#440154"
             ],
             [
              0.1111111111111111,
              "#482878"
             ],
             [
              0.2222222222222222,
              "#3e4989"
             ],
             [
              0.3333333333333333,
              "#31688e"
             ],
             [
              0.4444444444444444,
              "#26828e"
             ],
             [
              0.5555555555555556,
              "#1f9e89"
             ],
             [
              0.6666666666666666,
              "#35b779"
             ],
             [
              0.7777777777777778,
              "#6ece58"
             ],
             [
              0.8888888888888888,
              "#b5de2b"
             ],
             [
              1,
              "#fde725"
             ]
            ],
            "type": "surface"
           }
          ],
          "table": [
           {
            "cells": {
             "fill": {
              "color": "rgb(237,237,237)"
             },
             "line": {
              "color": "white"
             }
            },
            "header": {
             "fill": {
              "color": "rgb(217,217,217)"
             },
             "line": {
              "color": "white"
             }
            },
            "type": "table"
           }
          ]
         },
         "layout": {
          "annotationdefaults": {
           "arrowhead": 0,
           "arrowwidth": 1
          },
          "autotypenumbers": "strict",
          "coloraxis": {
           "colorbar": {
            "outlinewidth": 1,
            "tickcolor": "rgb(36,36,36)",
            "ticks": "outside"
           }
          },
          "colorscale": {
           "diverging": [
            [
             0,
             "rgb(103,0,31)"
            ],
            [
             0.1,
             "rgb(178,24,43)"
            ],
            [
             0.2,
             "rgb(214,96,77)"
            ],
            [
             0.3,
             "rgb(244,165,130)"
            ],
            [
             0.4,
             "rgb(253,219,199)"
            ],
            [
             0.5,
             "rgb(247,247,247)"
            ],
            [
             0.6,
             "rgb(209,229,240)"
            ],
            [
             0.7,
             "rgb(146,197,222)"
            ],
            [
             0.8,
             "rgb(67,147,195)"
            ],
            [
             0.9,
             "rgb(33,102,172)"
            ],
            [
             1,
             "rgb(5,48,97)"
            ]
           ],
           "sequential": [
            [
             0,
             "#440154"
            ],
            [
             0.1111111111111111,
             "#482878"
            ],
            [
             0.2222222222222222,
             "#3e4989"
            ],
            [
             0.3333333333333333,
             "#31688e"
            ],
            [
             0.4444444444444444,
             "#26828e"
            ],
            [
             0.5555555555555556,
             "#1f9e89"
            ],
            [
             0.6666666666666666,
             "#35b779"
            ],
            [
             0.7777777777777778,
             "#6ece58"
            ],
            [
             0.8888888888888888,
             "#b5de2b"
            ],
            [
             1,
             "#fde725"
            ]
           ],
           "sequentialminus": [
            [
             0,
             "#440154"
            ],
            [
             0.1111111111111111,
             "#482878"
            ],
            [
             0.2222222222222222,
             "#3e4989"
            ],
            [
             0.3333333333333333,
             "#31688e"
            ],
            [
             0.4444444444444444,
             "#26828e"
            ],
            [
             0.5555555555555556,
             "#1f9e89"
            ],
            [
             0.6666666666666666,
             "#35b779"
            ],
            [
             0.7777777777777778,
             "#6ece58"
            ],
            [
             0.8888888888888888,
             "#b5de2b"
            ],
            [
             1,
             "#fde725"
            ]
           ]
          },
          "colorway": [
           "#1F77B4",
           "#FF7F0E",
           "#2CA02C",
           "#D62728",
           "#9467BD",
           "#8C564B",
           "#E377C2",
           "#7F7F7F",
           "#BCBD22",
           "#17BECF"
          ],
          "font": {
           "color": "rgb(36,36,36)"
          },
          "geo": {
           "bgcolor": "white",
           "lakecolor": "white",
           "landcolor": "white",
           "showlakes": true,
           "showland": true,
           "subunitcolor": "white"
          },
          "hoverlabel": {
           "align": "left"
          },
          "hovermode": "closest",
          "mapbox": {
           "style": "light"
          },
          "paper_bgcolor": "white",
          "plot_bgcolor": "white",
          "polar": {
           "angularaxis": {
            "gridcolor": "rgb(232,232,232)",
            "linecolor": "rgb(36,36,36)",
            "showgrid": false,
            "showline": true,
            "ticks": "outside"
           },
           "bgcolor": "white",
           "radialaxis": {
            "gridcolor": "rgb(232,232,232)",
            "linecolor": "rgb(36,36,36)",
            "showgrid": false,
            "showline": true,
            "ticks": "outside"
           }
          },
          "scene": {
           "xaxis": {
            "backgroundcolor": "white",
            "gridcolor": "rgb(232,232,232)",
            "gridwidth": 2,
            "linecolor": "rgb(36,36,36)",
            "showbackground": true,
            "showgrid": false,
            "showline": true,
            "ticks": "outside",
            "zeroline": false,
            "zerolinecolor": "rgb(36,36,36)"
           },
           "yaxis": {
            "backgroundcolor": "white",
            "gridcolor": "rgb(232,232,232)",
            "gridwidth": 2,
            "linecolor": "rgb(36,36,36)",
            "showbackground": true,
            "showgrid": false,
            "showline": true,
            "ticks": "outside",
            "zeroline": false,
            "zerolinecolor": "rgb(36,36,36)"
           },
           "zaxis": {
            "backgroundcolor": "white",
            "gridcolor": "rgb(232,232,232)",
            "gridwidth": 2,
            "linecolor": "rgb(36,36,36)",
            "showbackground": true,
            "showgrid": false,
            "showline": true,
            "ticks": "outside",
            "zeroline": false,
            "zerolinecolor": "rgb(36,36,36)"
           }
          },
          "shapedefaults": {
           "fillcolor": "black",
           "line": {
            "width": 0
           },
           "opacity": 0.3
          },
          "ternary": {
           "aaxis": {
            "gridcolor": "rgb(232,232,232)",
            "linecolor": "rgb(36,36,36)",
            "showgrid": false,
            "showline": true,
            "ticks": "outside"
           },
           "baxis": {
            "gridcolor": "rgb(232,232,232)",
            "linecolor": "rgb(36,36,36)",
            "showgrid": false,
            "showline": true,
            "ticks": "outside"
           },
           "bgcolor": "white",
           "caxis": {
            "gridcolor": "rgb(232,232,232)",
            "linecolor": "rgb(36,36,36)",
            "showgrid": false,
            "showline": true,
            "ticks": "outside"
           }
          },
          "title": {
           "x": 0.05
          },
          "xaxis": {
           "automargin": true,
           "gridcolor": "rgb(232,232,232)",
           "linecolor": "rgb(36,36,36)",
           "showgrid": false,
           "showline": true,
           "ticks": "outside",
           "title": {
            "standoff": 15
           },
           "zeroline": false,
           "zerolinecolor": "rgb(36,36,36)"
          },
          "yaxis": {
           "automargin": true,
           "gridcolor": "rgb(232,232,232)",
           "linecolor": "rgb(36,36,36)",
           "showgrid": false,
           "showline": true,
           "ticks": "outside",
           "title": {
            "standoff": 15
           },
           "zeroline": false,
           "zerolinecolor": "rgb(36,36,36)"
          }
         }
        },
        "title": {
         "text": "Weekly retention by cohort"
        },
        "xaxis": {
         "anchor": "y",
         "domain": [
          0,
          1
         ],
         "title": {
          "text": "week"
         }
        },
        "yaxis": {
         "anchor": "x",
         "domain": [
          0,
          1
         ],
         "title": {
          "text": "retention, %"
         }
        }
       }
      },
      "text/html": [
       "<div>                            <div id=\"a64ece82-32d5-48b6-b171-f79743fb46c8\" class=\"plotly-graph-div\" style=\"height:525px; width:100%;\"></div>            <script type=\"text/javascript\">                require([\"plotly\"], function(Plotly) {                    window.PLOTLYENV=window.PLOTLYENV || {};                                    if (document.getElementById(\"a64ece82-32d5-48b6-b171-f79743fb46c8\")) {                    Plotly.newPlot(                        \"a64ece82-32d5-48b6-b171-f79743fb46c8\",                        [{\"hovertemplate\":\"cohort=2023-05-15<br>week=%{x}<br>retention, %=%{y}<extra></extra>\",\"legendgroup\":\"2023-05-15\",\"line\":{\"color\":\"#1F77B4\",\"dash\":\"solid\"},\"marker\":{\"symbol\":\"circle\"},\"mode\":\"lines\",\"name\":\"2023-05-15\",\"orientation\":\"v\",\"showlegend\":true,\"x\":[\"2023-05-15\",\"2023-05-22\",\"2023-05-29\",\"2023-06-05\",\"2023-06-12\",\"2023-06-19\",\"2023-06-26\",\"2023-07-03\",\"2023-07-10\",\"2023-07-17\",\"2023-07-24\",\"2023-07-31\",\"2023-08-07\",\"2023-08-14\",\"2023-08-21\",\"2023-08-28\"],\"xaxis\":\"x\",\"y\":[100.0,82.920245398773,57.84049079754601,46.13496932515337,36.93251533742331,32.147239263803684,30.03680981595092,27.190184049079754,25.20245398773006,24.392638036809817,22.625766871165645,22.282208588957054,21.079754601226995,19.975460122699385,19.926380368098158,19.460122699386503],\"yaxis\":\"y\",\"type\":\"scatter\"},{\"hovertemplate\":\"cohort=2023-05-22<br>week=%{x}<br>retention, %=%{y}<extra></extra>\",\"legendgroup\":\"2023-05-22\",\"line\":{\"color\":\"#FF7F0E\",\"dash\":\"solid\"},\"marker\":{\"symbol\":\"circle\"},\"mode\":\"lines\",\"name\":\"2023-05-22\",\"orientation\":\"v\",\"showlegend\":true,\"x\":[\"2023-05-15\",\"2023-05-22\",\"2023-05-29\",\"2023-06-05\",\"2023-06-12\",\"2023-06-19\",\"2023-06-26\",\"2023-07-03\",\"2023-07-10\",\"2023-07-17\",\"2023-07-24\",\"2023-07-31\",\"2023-08-07\",\"2023-08-14\",\"2023-08-21\",\"2023-08-28\"],\"xaxis\":\"x\",\"y\":[null,100.0,82.73483947681332,58.715814506539836,45.51724137931034,39.19143876337693,32.74673008323425,30.725326991676575,28.10939357907253,24.61355529131986,24.304399524375743,23.258026159334126,21.379310344827587,20.546967895362663,20.42806183115339,20.0],\"yaxis\":\"y\",\"type\":\"scatter\"},{\"hovertemplate\":\"cohort=2023-05-29<br>week=%{x}<br>retention, %=%{y}<extra></extra>\",\"legendgroup\":\"2023-05-29\",\"line\":{\"color\":\"#2CA02C\",\"dash\":\"solid\"},\"marker\":{\"symbol\":\"circle\"},\"mode\":\"lines\",\"name\":\"2023-05-29\",\"orientation\":\"v\",\"showlegend\":true,\"x\":[\"2023-05-15\",\"2023-05-22\",\"2023-05-29\",\"2023-06-05\",\"2023-06-12\",\"2023-06-19\",\"2023-06-26\",\"2023-07-03\",\"2023-07-10\",\"2023-07-17\",\"2023-07-24\",\"2023-07-31\",\"2023-08-07\",\"2023-08-14\",\"2023-08-21\",\"2023-08-28\"],\"xaxis\":\"x\",\"y\":[null,null,100.0,83.02243211334121,59.59858323494687,45.97402597402598,38.44155844155844,34.52184179456907,31.66469893742621,26.753246753246753,24.462809917355372,24.74616292798111,22.266824085005904,21.629279811097994,20.425029515938608,21.67650531286895],\"yaxis\":\"y\",\"type\":\"scatter\"},{\"hovertemplate\":\"cohort=2023-06-05<br>week=%{x}<br>retention, %=%{y}<extra></extra>\",\"legendgroup\":\"2023-06-05\",\"line\":{\"color\":\"#D62728\",\"dash\":\"solid\"},\"marker\":{\"symbol\":\"circle\"},\"mode\":\"lines\",\"name\":\"2023-06-05\",\"orientation\":\"v\",\"showlegend\":true,\"x\":[\"2023-05-15\",\"2023-05-22\",\"2023-05-29\",\"2023-06-05\",\"2023-06-12\",\"2023-06-19\",\"2023-06-26\",\"2023-07-03\",\"2023-07-10\",\"2023-07-17\",\"2023-07-24\",\"2023-07-31\",\"2023-08-07\",\"2023-08-14\",\"2023-08-21\",\"2023-08-28\"],\"xaxis\":\"x\",\"y\":[null,null,null,100.0,83.7598883201489,60.86551884597487,45.5793392275477,39.71614704513728,33.71335504885994,31.642624476500696,26.96603071195905,26.221498371335503,23.825034899953465,22.91763610981852,21.59143787808283,21.40530479292694],\"yaxis\":\"y\",\"type\":\"scatter\"},{\"hovertemplate\":\"cohort=2023-06-12<br>week=%{x}<br>retention, %=%{y}<extra></extra>\",\"legendgroup\":\"2023-06-12\",\"line\":{\"color\":\"#9467BD\",\"dash\":\"solid\"},\"marker\":{\"symbol\":\"circle\"},\"mode\":\"lines\",\"name\":\"2023-06-12\",\"orientation\":\"v\",\"showlegend\":true,\"x\":[\"2023-05-15\",\"2023-05-22\",\"2023-05-29\",\"2023-06-05\",\"2023-06-12\",\"2023-06-19\",\"2023-06-26\",\"2023-07-03\",\"2023-07-10\",\"2023-07-17\",\"2023-07-24\",\"2023-07-31\",\"2023-08-07\",\"2023-08-14\",\"2023-08-21\",\"2023-08-28\"],\"xaxis\":\"x\",\"y\":[null,null,null,null,100.0,83.66794495826754,59.12474622152042,46.898263027295286,39.79246559891721,33.72434017595308,30.92713737875028,27.81412136250846,26.956914053688248,23.88901421159486,22.919016467403566,21.407624633431084],\"yaxis\":\"y\",\"type\":\"scatter\"},{\"hovertemplate\":\"cohort=2023-06-19<br>week=%{x}<br>retention, %=%{y}<extra></extra>\",\"legendgroup\":\"2023-06-19\",\"line\":{\"color\":\"#8C564B\",\"dash\":\"solid\"},\"marker\":{\"symbol\":\"circle\"},\"mode\":\"lines\",\"name\":\"2023-06-19\",\"orientation\":\"v\",\"showlegend\":true,\"x\":[\"2023-05-15\",\"2023-05-22\",\"2023-05-29\",\"2023-06-05\",\"2023-06-12\",\"2023-06-19\",\"2023-06-26\",\"2023-07-03\",\"2023-07-10\",\"2023-07-17\",\"2023-07-24\",\"2023-07-31\",\"2023-08-07\",\"2023-08-14\",\"2023-08-21\",\"2023-08-28\"],\"xaxis\":\"x\",\"y\":[null,null,null,null,null,100.0,83.48748026167381,60.929393187457705,46.785472591924204,39.183397247913376,34.89736070381232,31.13016016241823,27.15993683735619,25.986916309496955,24.701105346266637,21.90390254906384],\"yaxis\":\"y\",\"type\":\"scatter\"},{\"hovertemplate\":\"cohort=2023-06-26<br>week=%{x}<br>retention, %=%{y}<extra></extra>\",\"legendgroup\":\"2023-06-26\",\"line\":{\"color\":\"#E377C2\",\"dash\":\"solid\"},\"marker\":{\"symbol\":\"circle\"},\"mode\":\"lines\",\"name\":\"2023-06-26\",\"orientation\":\"v\",\"showlegend\":true,\"x\":[\"2023-05-15\",\"2023-05-22\",\"2023-05-29\",\"2023-06-05\",\"2023-06-12\",\"2023-06-19\",\"2023-06-26\",\"2023-07-03\",\"2023-07-10\",\"2023-07-17\",\"2023-07-24\",\"2023-07-31\",\"2023-08-07\",\"2023-08-14\",\"2023-08-21\",\"2023-08-28\"],\"xaxis\":\"x\",\"y\":[null,null,null,null,null,null,100.0,84.83642793987622,60.96374889478338,48.275862068965516,39.6551724137931,33.95225464190982,29.420866489832008,27.630415561450043,26.702033598585324,23.91688770999116],\"yaxis\":\"y\",\"type\":\"scatter\"},{\"hovertemplate\":\"cohort=2023-07-03<br>week=%{x}<br>retention, %=%{y}<extra></extra>\",\"legendgroup\":\"2023-07-03\",\"line\":{\"color\":\"#7F7F7F\",\"dash\":\"solid\"},\"marker\":{\"symbol\":\"circle\"},\"mode\":\"lines\",\"name\":\"2023-07-03\",\"orientation\":\"v\",\"showlegend\":true,\"x\":[\"2023-05-15\",\"2023-05-22\",\"2023-05-29\",\"2023-06-05\",\"2023-06-12\",\"2023-06-19\",\"2023-06-26\",\"2023-07-03\",\"2023-07-10\",\"2023-07-17\",\"2023-07-24\",\"2023-07-31\",\"2023-08-07\",\"2023-08-14\",\"2023-08-21\",\"2023-08-28\"],\"xaxis\":\"x\",\"y\":[null,null,null,null,null,null,null,100.0,84.41643121060639,60.769397956965875,46.83764399043686,38.90458595957401,34.188219952184305,30.66724625081504,28.319930449902195,25.88567702673332],\"yaxis\":\"y\",\"type\":\"scatter\"},{\"hovertemplate\":\"cohort=2023-07-10<br>week=%{x}<br>retention, %=%{y}<extra></extra>\",\"legendgroup\":\"2023-07-10\",\"line\":{\"color\":\"#BCBD22\",\"dash\":\"solid\"},\"marker\":{\"symbol\":\"circle\"},\"mode\":\"lines\",\"name\":\"2023-07-10\",\"orientation\":\"v\",\"showlegend\":true,\"x\":[\"2023-05-15\",\"2023-05-22\",\"2023-05-29\",\"2023-06-05\",\"2023-06-12\",\"2023-06-19\",\"2023-06-26\",\"2023-07-03\",\"2023-07-10\",\"2023-07-17\",\"2023-07-24\",\"2023-07-31\",\"2023-08-07\",\"2023-08-14\",\"2023-08-21\",\"2023-08-28\"],\"xaxis\":\"x\",\"y\":[null,null,null,null,null,null,null,null,100.0,85.70505920344456,61.420882669537136,47.36275565123789,39.181916038751346,34.811625403659846,30.39827771797632,28.31001076426265],\"yaxis\":\"y\",\"type\":\"scatter\"},{\"hovertemplate\":\"cohort=2023-07-17<br>week=%{x}<br>retention, %=%{y}<extra></extra>\",\"legendgroup\":\"2023-07-17\",\"line\":{\"color\":\"#17BECF\",\"dash\":\"solid\"},\"marker\":{\"symbol\":\"circle\"},\"mode\":\"lines\",\"name\":\"2023-07-17\",\"orientation\":\"v\",\"showlegend\":true,\"x\":[\"2023-05-15\",\"2023-05-22\",\"2023-05-29\",\"2023-06-05\",\"2023-06-12\",\"2023-06-19\",\"2023-06-26\",\"2023-07-03\",\"2023-07-10\",\"2023-07-17\",\"2023-07-24\",\"2023-07-31\",\"2023-08-07\",\"2023-08-14\",\"2023-08-21\",\"2023-08-28\"],\"xaxis\":\"x\",\"y\":[null,null,null,null,null,null,null,null,null,100.0,85.12044340225965,60.733319121722445,47.64442549562993,40.22596461308889,33.169899808143256,31.869537412065657],\"yaxis\":\"y\",\"type\":\"scatter\"},{\"hovertemplate\":\"cohort=2023-07-24<br>week=%{x}<br>retention, %=%{y}<extra></extra>\",\"legendgroup\":\"2023-07-24\",\"line\":{\"color\":\"#1F77B4\",\"dash\":\"solid\"},\"marker\":{\"symbol\":\"circle\"},\"mode\":\"lines\",\"name\":\"2023-07-24\",\"orientation\":\"v\",\"showlegend\":true,\"x\":[\"2023-05-15\",\"2023-05-22\",\"2023-05-29\",\"2023-06-05\",\"2023-06-12\",\"2023-06-19\",\"2023-06-26\",\"2023-07-03\",\"2023-07-10\",\"2023-07-17\",\"2023-07-24\",\"2023-07-31\",\"2023-08-07\",\"2023-08-14\",\"2023-08-21\",\"2023-08-28\"],\"xaxis\":\"x\",\"y\":[null,null,null,null,null,null,null,null,null,null,100.0,85.58558558558559,61.15650534255185,49.23528179342133,39.55583490467211,34.799916195265034],\"yaxis\":\"y\",\"type\":\"scatter\"},{\"hovertemplate\":\"cohort=2023-07-31<br>week=%{x}<br>retention, %=%{y}<extra></extra>\",\"legendgroup\":\"2023-07-31\",\"line\":{\"color\":\"#FF7F0E\",\"dash\":\"solid\"},\"marker\":{\"symbol\":\"circle\"},\"mode\":\"lines\",\"name\":\"2023-07-31\",\"orientation\":\"v\",\"showlegend\":true,\"x\":[\"2023-05-15\",\"2023-05-22\",\"2023-05-29\",\"2023-06-05\",\"2023-06-12\",\"2023-06-19\",\"2023-06-26\",\"2023-07-03\",\"2023-07-10\",\"2023-07-17\",\"2023-07-24\",\"2023-07-31\",\"2023-08-07\",\"2023-08-14\",\"2023-08-21\",\"2023-08-28\"],\"xaxis\":\"x\",\"y\":[null,null,null,null,null,null,null,null,null,null,null,100.0,85.0610386923236,61.618042623629215,48.706807366025245,39.437202565694186],\"yaxis\":\"y\",\"type\":\"scatter\"},{\"hovertemplate\":\"cohort=2023-08-07<br>week=%{x}<br>retention, %=%{y}<extra></extra>\",\"legendgroup\":\"2023-08-07\",\"line\":{\"color\":\"#2CA02C\",\"dash\":\"solid\"},\"marker\":{\"symbol\":\"circle\"},\"mode\":\"lines\",\"name\":\"2023-08-07\",\"orientation\":\"v\",\"showlegend\":true,\"x\":[\"2023-05-15\",\"2023-05-22\",\"2023-05-29\",\"2023-06-05\",\"2023-06-12\",\"2023-06-19\",\"2023-06-26\",\"2023-07-03\",\"2023-07-10\",\"2023-07-17\",\"2023-07-24\",\"2023-07-31\",\"2023-08-07\",\"2023-08-14\",\"2023-08-21\",\"2023-08-28\"],\"xaxis\":\"x\",\"y\":[null,null,null,null,null,null,null,null,null,null,null,null,100.0,86.03649784703711,62.5999589911831,48.10334221857699],\"yaxis\":\"y\",\"type\":\"scatter\"},{\"hovertemplate\":\"cohort=2023-08-14<br>week=%{x}<br>retention, %=%{y}<extra></extra>\",\"legendgroup\":\"2023-08-14\",\"line\":{\"color\":\"#D62728\",\"dash\":\"solid\"},\"marker\":{\"symbol\":\"circle\"},\"mode\":\"lines\",\"name\":\"2023-08-14\",\"orientation\":\"v\",\"showlegend\":true,\"x\":[\"2023-05-15\",\"2023-05-22\",\"2023-05-29\",\"2023-06-05\",\"2023-06-12\",\"2023-06-19\",\"2023-06-26\",\"2023-07-03\",\"2023-07-10\",\"2023-07-17\",\"2023-07-24\",\"2023-07-31\",\"2023-08-07\",\"2023-08-14\",\"2023-08-21\",\"2023-08-28\"],\"xaxis\":\"x\",\"y\":[null,null,null,null,null,null,null,null,null,null,null,null,null,100.0,84.84540276647681,61.85923515052888],\"yaxis\":\"y\",\"type\":\"scatter\"},{\"hovertemplate\":\"cohort=2023-08-21<br>week=%{x}<br>retention, %=%{y}<extra></extra>\",\"legendgroup\":\"2023-08-21\",\"line\":{\"color\":\"#9467BD\",\"dash\":\"solid\"},\"marker\":{\"symbol\":\"circle\"},\"mode\":\"lines\",\"name\":\"2023-08-21\",\"orientation\":\"v\",\"showlegend\":true,\"x\":[\"2023-05-15\",\"2023-05-22\",\"2023-05-29\",\"2023-06-05\",\"2023-06-12\",\"2023-06-19\",\"2023-06-26\",\"2023-07-03\",\"2023-07-10\",\"2023-07-17\",\"2023-07-24\",\"2023-07-31\",\"2023-08-07\",\"2023-08-14\",\"2023-08-21\",\"2023-08-28\"],\"xaxis\":\"x\",\"y\":[null,null,null,null,null,null,null,null,null,null,null,null,null,null,100.0,85.74605742013749],\"yaxis\":\"y\",\"type\":\"scatter\"},{\"hovertemplate\":\"cohort=2023-08-28<br>week=%{x}<br>retention, %=%{y}<extra></extra>\",\"legendgroup\":\"2023-08-28\",\"line\":{\"color\":\"#8C564B\",\"dash\":\"solid\"},\"marker\":{\"symbol\":\"circle\"},\"mode\":\"lines\",\"name\":\"2023-08-28\",\"orientation\":\"v\",\"showlegend\":true,\"x\":[\"2023-05-15\",\"2023-05-22\",\"2023-05-29\",\"2023-06-05\",\"2023-06-12\",\"2023-06-19\",\"2023-06-26\",\"2023-07-03\",\"2023-07-10\",\"2023-07-17\",\"2023-07-24\",\"2023-07-31\",\"2023-08-07\",\"2023-08-14\",\"2023-08-21\",\"2023-08-28\"],\"xaxis\":\"x\",\"y\":[null,null,null,null,null,null,null,null,null,null,null,null,null,null,null,100.0],\"yaxis\":\"y\",\"type\":\"scatter\"}],                        {\"template\":{\"data\":{\"histogram2dcontour\":[{\"type\":\"histogram2dcontour\",\"colorbar\":{\"outlinewidth\":1,\"tickcolor\":\"rgb(36,36,36)\",\"ticks\":\"outside\"},\"colorscale\":[[0.0,\"#440154\"],[0.1111111111111111,\"#482878\"],[0.2222222222222222,\"#3e4989\"],[0.3333333333333333,\"#31688e\"],[0.4444444444444444,\"#26828e\"],[0.5555555555555556,\"#1f9e89\"],[0.6666666666666666,\"#35b779\"],[0.7777777777777778,\"#6ece58\"],[0.8888888888888888,\"#b5de2b\"],[1.0,\"#fde725\"]]}],\"choropleth\":[{\"type\":\"choropleth\",\"colorbar\":{\"outlinewidth\":1,\"tickcolor\":\"rgb(36,36,36)\",\"ticks\":\"outside\"}}],\"histogram2d\":[{\"type\":\"histogram2d\",\"colorbar\":{\"outlinewidth\":1,\"tickcolor\":\"rgb(36,36,36)\",\"ticks\":\"outside\"},\"colorscale\":[[0.0,\"#440154\"],[0.1111111111111111,\"#482878\"],[0.2222222222222222,\"#3e4989\"],[0.3333333333333333,\"#31688e\"],[0.4444444444444444,\"#26828e\"],[0.5555555555555556,\"#1f9e89\"],[0.6666666666666666,\"#35b779\"],[0.7777777777777778,\"#6ece58\"],[0.8888888888888888,\"#b5de2b\"],[1.0,\"#fde725\"]]}],\"heatmap\":[{\"type\":\"heatmap\",\"colorbar\":{\"outlinewidth\":1,\"tickcolor\":\"rgb(36,36,36)\",\"ticks\":\"outside\"},\"colorscale\":[[0.0,\"#440154\"],[0.1111111111111111,\"#482878\"],[0.2222222222222222,\"#3e4989\"],[0.3333333333333333,\"#31688e\"],[0.4444444444444444,\"#26828e\"],[0.5555555555555556,\"#1f9e89\"],[0.6666666666666666,\"#35b779\"],[0.7777777777777778,\"#6ece58\"],[0.8888888888888888,\"#b5de2b\"],[1.0,\"#fde725\"]]}],\"heatmapgl\":[{\"type\":\"heatmapgl\",\"colorbar\":{\"outlinewidth\":1,\"tickcolor\":\"rgb(36,36,36)\",\"ticks\":\"outside\"},\"colorscale\":[[0.0,\"#440154\"],[0.1111111111111111,\"#482878\"],[0.2222222222222222,\"#3e4989\"],[0.3333333333333333,\"#31688e\"],[0.4444444444444444,\"#26828e\"],[0.5555555555555556,\"#1f9e89\"],[0.6666666666666666,\"#35b779\"],[0.7777777777777778,\"#6ece58\"],[0.8888888888888888,\"#b5de2b\"],[1.0,\"#fde725\"]]}],\"contourcarpet\":[{\"type\":\"contourcarpet\",\"colorbar\":{\"outlinewidth\":1,\"tickcolor\":\"rgb(36,36,36)\",\"ticks\":\"outside\"}}],\"contour\":[{\"type\":\"contour\",\"colorbar\":{\"outlinewidth\":1,\"tickcolor\":\"rgb(36,36,36)\",\"ticks\":\"outside\"},\"colorscale\":[[0.0,\"#440154\"],[0.1111111111111111,\"#482878\"],[0.2222222222222222,\"#3e4989\"],[0.3333333333333333,\"#31688e\"],[0.4444444444444444,\"#26828e\"],[0.5555555555555556,\"#1f9e89\"],[0.6666666666666666,\"#35b779\"],[0.7777777777777778,\"#6ece58\"],[0.8888888888888888,\"#b5de2b\"],[1.0,\"#fde725\"]]}],\"surface\":[{\"type\":\"surface\",\"colorbar\":{\"outlinewidth\":1,\"tickcolor\":\"rgb(36,36,36)\",\"ticks\":\"outside\"},\"colorscale\":[[0.0,\"#440154\"],[0.1111111111111111,\"#482878\"],[0.2222222222222222,\"#3e4989\"],[0.3333333333333333,\"#31688e\"],[0.4444444444444444,\"#26828e\"],[0.5555555555555556,\"#1f9e89\"],[0.6666666666666666,\"#35b779\"],[0.7777777777777778,\"#6ece58\"],[0.8888888888888888,\"#b5de2b\"],[1.0,\"#fde725\"]]}],\"mesh3d\":[{\"type\":\"mesh3d\",\"colorbar\":{\"outlinewidth\":1,\"tickcolor\":\"rgb(36,36,36)\",\"ticks\":\"outside\"}}],\"scatter\":[{\"fillpattern\":{\"fillmode\":\"overlay\",\"size\":10,\"solidity\":0.2},\"type\":\"scatter\"}],\"parcoords\":[{\"type\":\"parcoords\",\"line\":{\"colorbar\":{\"outlinewidth\":1,\"tickcolor\":\"rgb(36,36,36)\",\"ticks\":\"outside\"}}}],\"scatterpolargl\":[{\"type\":\"scatterpolargl\",\"marker\":{\"colorbar\":{\"outlinewidth\":1,\"tickcolor\":\"rgb(36,36,36)\",\"ticks\":\"outside\"}}}],\"bar\":[{\"error_x\":{\"color\":\"rgb(36,36,36)\"},\"error_y\":{\"color\":\"rgb(36,36,36)\"},\"marker\":{\"line\":{\"color\":\"white\",\"width\":0.5},\"pattern\":{\"fillmode\":\"overlay\",\"size\":10,\"solidity\":0.2}},\"type\":\"bar\"}],\"scattergeo\":[{\"type\":\"scattergeo\",\"marker\":{\"colorbar\":{\"outlinewidth\":1,\"tickcolor\":\"rgb(36,36,36)\",\"ticks\":\"outside\"}}}],\"scatterpolar\":[{\"type\":\"scatterpolar\",\"marker\":{\"colorbar\":{\"outlinewidth\":1,\"tickcolor\":\"rgb(36,36,36)\",\"ticks\":\"outside\"}}}],\"histogram\":[{\"marker\":{\"line\":{\"color\":\"white\",\"width\":0.6}},\"type\":\"histogram\"}],\"scattergl\":[{\"type\":\"scattergl\",\"marker\":{\"colorbar\":{\"outlinewidth\":1,\"tickcolor\":\"rgb(36,36,36)\",\"ticks\":\"outside\"}}}],\"scatter3d\":[{\"type\":\"scatter3d\",\"line\":{\"colorbar\":{\"outlinewidth\":1,\"tickcolor\":\"rgb(36,36,36)\",\"ticks\":\"outside\"}},\"marker\":{\"colorbar\":{\"outlinewidth\":1,\"tickcolor\":\"rgb(36,36,36)\",\"ticks\":\"outside\"}}}],\"scattermapbox\":[{\"type\":\"scattermapbox\",\"marker\":{\"colorbar\":{\"outlinewidth\":1,\"tickcolor\":\"rgb(36,36,36)\",\"ticks\":\"outside\"}}}],\"scatterternary\":[{\"type\":\"scatterternary\",\"marker\":{\"colorbar\":{\"outlinewidth\":1,\"tickcolor\":\"rgb(36,36,36)\",\"ticks\":\"outside\"}}}],\"scattercarpet\":[{\"type\":\"scattercarpet\",\"marker\":{\"colorbar\":{\"outlinewidth\":1,\"tickcolor\":\"rgb(36,36,36)\",\"ticks\":\"outside\"}}}],\"carpet\":[{\"aaxis\":{\"endlinecolor\":\"rgb(36,36,36)\",\"gridcolor\":\"white\",\"linecolor\":\"white\",\"minorgridcolor\":\"white\",\"startlinecolor\":\"rgb(36,36,36)\"},\"baxis\":{\"endlinecolor\":\"rgb(36,36,36)\",\"gridcolor\":\"white\",\"linecolor\":\"white\",\"minorgridcolor\":\"white\",\"startlinecolor\":\"rgb(36,36,36)\"},\"type\":\"carpet\"}],\"table\":[{\"cells\":{\"fill\":{\"color\":\"rgb(237,237,237)\"},\"line\":{\"color\":\"white\"}},\"header\":{\"fill\":{\"color\":\"rgb(217,217,217)\"},\"line\":{\"color\":\"white\"}},\"type\":\"table\"}],\"barpolar\":[{\"marker\":{\"line\":{\"color\":\"white\",\"width\":0.5},\"pattern\":{\"fillmode\":\"overlay\",\"size\":10,\"solidity\":0.2}},\"type\":\"barpolar\"}],\"pie\":[{\"automargin\":true,\"type\":\"pie\"}]},\"layout\":{\"autotypenumbers\":\"strict\",\"colorway\":[\"#1F77B4\",\"#FF7F0E\",\"#2CA02C\",\"#D62728\",\"#9467BD\",\"#8C564B\",\"#E377C2\",\"#7F7F7F\",\"#BCBD22\",\"#17BECF\"],\"font\":{\"color\":\"rgb(36,36,36)\"},\"hovermode\":\"closest\",\"hoverlabel\":{\"align\":\"left\"},\"paper_bgcolor\":\"white\",\"plot_bgcolor\":\"white\",\"polar\":{\"bgcolor\":\"white\",\"angularaxis\":{\"gridcolor\":\"rgb(232,232,232)\",\"linecolor\":\"rgb(36,36,36)\",\"showgrid\":false,\"showline\":true,\"ticks\":\"outside\"},\"radialaxis\":{\"gridcolor\":\"rgb(232,232,232)\",\"linecolor\":\"rgb(36,36,36)\",\"showgrid\":false,\"showline\":true,\"ticks\":\"outside\"}},\"ternary\":{\"bgcolor\":\"white\",\"aaxis\":{\"gridcolor\":\"rgb(232,232,232)\",\"linecolor\":\"rgb(36,36,36)\",\"showgrid\":false,\"showline\":true,\"ticks\":\"outside\"},\"baxis\":{\"gridcolor\":\"rgb(232,232,232)\",\"linecolor\":\"rgb(36,36,36)\",\"showgrid\":false,\"showline\":true,\"ticks\":\"outside\"},\"caxis\":{\"gridcolor\":\"rgb(232,232,232)\",\"linecolor\":\"rgb(36,36,36)\",\"showgrid\":false,\"showline\":true,\"ticks\":\"outside\"}},\"coloraxis\":{\"colorbar\":{\"outlinewidth\":1,\"tickcolor\":\"rgb(36,36,36)\",\"ticks\":\"outside\"}},\"colorscale\":{\"sequential\":[[0.0,\"#440154\"],[0.1111111111111111,\"#482878\"],[0.2222222222222222,\"#3e4989\"],[0.3333333333333333,\"#31688e\"],[0.4444444444444444,\"#26828e\"],[0.5555555555555556,\"#1f9e89\"],[0.6666666666666666,\"#35b779\"],[0.7777777777777778,\"#6ece58\"],[0.8888888888888888,\"#b5de2b\"],[1.0,\"#fde725\"]],\"sequentialminus\":[[0.0,\"#440154\"],[0.1111111111111111,\"#482878\"],[0.2222222222222222,\"#3e4989\"],[0.3333333333333333,\"#31688e\"],[0.4444444444444444,\"#26828e\"],[0.5555555555555556,\"#1f9e89\"],[0.6666666666666666,\"#35b779\"],[0.7777777777777778,\"#6ece58\"],[0.8888888888888888,\"#b5de2b\"],[1.0,\"#fde725\"]],\"diverging\":[[0.0,\"rgb(103,0,31)\"],[0.1,\"rgb(178,24,43)\"],[0.2,\"rgb(214,96,77)\"],[0.3,\"rgb(244,165,130)\"],[0.4,\"rgb(253,219,199)\"],[0.5,\"rgb(247,247,247)\"],[0.6,\"rgb(209,229,240)\"],[0.7,\"rgb(146,197,222)\"],[0.8,\"rgb(67,147,195)\"],[0.9,\"rgb(33,102,172)\"],[1.0,\"rgb(5,48,97)\"]]},\"xaxis\":{\"gridcolor\":\"rgb(232,232,232)\",\"linecolor\":\"rgb(36,36,36)\",\"showgrid\":false,\"showline\":true,\"ticks\":\"outside\",\"title\":{\"standoff\":15},\"zerolinecolor\":\"rgb(36,36,36)\",\"automargin\":true,\"zeroline\":false},\"yaxis\":{\"gridcolor\":\"rgb(232,232,232)\",\"linecolor\":\"rgb(36,36,36)\",\"showgrid\":false,\"showline\":true,\"ticks\":\"outside\",\"title\":{\"standoff\":15},\"zerolinecolor\":\"rgb(36,36,36)\",\"automargin\":true,\"zeroline\":false},\"scene\":{\"xaxis\":{\"backgroundcolor\":\"white\",\"gridcolor\":\"rgb(232,232,232)\",\"linecolor\":\"rgb(36,36,36)\",\"showbackground\":true,\"showgrid\":false,\"showline\":true,\"ticks\":\"outside\",\"zerolinecolor\":\"rgb(36,36,36)\",\"gridwidth\":2,\"zeroline\":false},\"yaxis\":{\"backgroundcolor\":\"white\",\"gridcolor\":\"rgb(232,232,232)\",\"linecolor\":\"rgb(36,36,36)\",\"showbackground\":true,\"showgrid\":false,\"showline\":true,\"ticks\":\"outside\",\"zerolinecolor\":\"rgb(36,36,36)\",\"gridwidth\":2,\"zeroline\":false},\"zaxis\":{\"backgroundcolor\":\"white\",\"gridcolor\":\"rgb(232,232,232)\",\"linecolor\":\"rgb(36,36,36)\",\"showbackground\":true,\"showgrid\":false,\"showline\":true,\"ticks\":\"outside\",\"zerolinecolor\":\"rgb(36,36,36)\",\"gridwidth\":2,\"zeroline\":false}},\"shapedefaults\":{\"fillcolor\":\"black\",\"line\":{\"width\":0},\"opacity\":0.3},\"annotationdefaults\":{\"arrowhead\":0,\"arrowwidth\":1},\"geo\":{\"bgcolor\":\"white\",\"landcolor\":\"white\",\"subunitcolor\":\"white\",\"showland\":true,\"showlakes\":true,\"lakecolor\":\"white\"},\"title\":{\"x\":0.05},\"mapbox\":{\"style\":\"light\"}}},\"xaxis\":{\"anchor\":\"y\",\"domain\":[0.0,1.0],\"title\":{\"text\":\"week\"}},\"yaxis\":{\"anchor\":\"x\",\"domain\":[0.0,1.0],\"title\":{\"text\":\"retention, %\"}},\"legend\":{\"title\":{\"text\":\"cohort\"},\"tracegroupgap\":0},\"title\":{\"text\":\"Weekly retention by cohort\"}},                        {\"responsive\": true}                    ).then(function(){\n",
       "                            \n",
       "var gd = document.getElementById('a64ece82-32d5-48b6-b171-f79743fb46c8');\n",
       "var x = new MutationObserver(function (mutations, observer) {{\n",
       "        var display = window.getComputedStyle(gd).display;\n",
       "        if (!display || display === 'none') {{\n",
       "            console.log([gd, 'removed!']);\n",
       "            Plotly.purge(gd);\n",
       "            observer.disconnect();\n",
       "        }}\n",
       "}});\n",
       "\n",
       "// Listen for the removal of the full notebook cells\n",
       "var notebookContainer = gd.closest('#notebook-container');\n",
       "if (notebookContainer) {{\n",
       "    x.observe(notebookContainer, {childList: true});\n",
       "}}\n",
       "\n",
       "// Listen for the clearing of the current output cell\n",
       "var outputEl = gd.closest('.output');\n",
       "if (outputEl) {{\n",
       "    x.observe(outputEl, {childList: true});\n",
       "}}\n",
       "\n",
       "                        })                };                });            </script>        </div>"
      ]
     },
     "metadata": {},
     "output_type": "display_data"
    }
   ],
   "source": [
    "px.line(\n",
    "    filt_df.pivot(index = 'week_date', columns = 'cohort_week_date',\n",
    "             values = 'retention'),\n",
    "    title = 'Weekly retention by cohort',\n",
    "    labels = {\n",
    "        'cohort_week_date': 'cohort',\n",
    "        'week_date': 'week',\n",
    "        'value': 'retention, %'\n",
    "    }\n",
    ")"
   ]
  },
  {
   "cell_type": "code",
   "execution_count": 378,
   "id": "da5b2839",
   "metadata": {},
   "outputs": [
    {
     "data": {
      "application/vnd.plotly.v1+json": {
       "config": {
        "plotlyServerURL": "https://plot.ly"
       },
       "data": [
        {
         "hovertemplate": "cohort=2023-05-15<br># week=%{x}<br>retention, %=%{y}<extra></extra>",
         "legendgroup": "2023-05-15",
         "line": {
          "color": "#1F77B4",
          "dash": "solid"
         },
         "marker": {
          "symbol": "circle"
         },
         "mode": "lines",
         "name": "2023-05-15",
         "orientation": "v",
         "showlegend": true,
         "type": "scatter",
         "x": [
          0,
          1,
          2,
          3,
          4,
          5,
          6,
          7,
          8,
          9,
          10,
          11,
          12,
          13,
          14,
          15
         ],
         "xaxis": "x",
         "y": [
          100,
          82.920245398773,
          57.84049079754601,
          46.13496932515337,
          36.93251533742331,
          32.147239263803684,
          30.03680981595092,
          27.190184049079754,
          25.20245398773006,
          24.392638036809817,
          22.625766871165645,
          22.282208588957054,
          21.079754601226995,
          19.975460122699385,
          19.926380368098158,
          19.460122699386503
         ],
         "yaxis": "y"
        },
        {
         "hovertemplate": "cohort=2023-05-22<br># week=%{x}<br>retention, %=%{y}<extra></extra>",
         "legendgroup": "2023-05-22",
         "line": {
          "color": "#FF7F0E",
          "dash": "solid"
         },
         "marker": {
          "symbol": "circle"
         },
         "mode": "lines",
         "name": "2023-05-22",
         "orientation": "v",
         "showlegend": true,
         "type": "scatter",
         "x": [
          0,
          1,
          2,
          3,
          4,
          5,
          6,
          7,
          8,
          9,
          10,
          11,
          12,
          13,
          14,
          15
         ],
         "xaxis": "x",
         "y": [
          100,
          82.73483947681332,
          58.715814506539836,
          45.51724137931034,
          39.19143876337693,
          32.74673008323425,
          30.725326991676575,
          28.10939357907253,
          24.61355529131986,
          24.304399524375743,
          23.258026159334126,
          21.379310344827587,
          20.546967895362663,
          20.42806183115339,
          20,
          null
         ],
         "yaxis": "y"
        },
        {
         "hovertemplate": "cohort=2023-05-29<br># week=%{x}<br>retention, %=%{y}<extra></extra>",
         "legendgroup": "2023-05-29",
         "line": {
          "color": "#2CA02C",
          "dash": "solid"
         },
         "marker": {
          "symbol": "circle"
         },
         "mode": "lines",
         "name": "2023-05-29",
         "orientation": "v",
         "showlegend": true,
         "type": "scatter",
         "x": [
          0,
          1,
          2,
          3,
          4,
          5,
          6,
          7,
          8,
          9,
          10,
          11,
          12,
          13,
          14,
          15
         ],
         "xaxis": "x",
         "y": [
          100,
          83.02243211334121,
          59.59858323494687,
          45.97402597402598,
          38.44155844155844,
          34.52184179456907,
          31.66469893742621,
          26.753246753246753,
          24.462809917355372,
          24.74616292798111,
          22.266824085005904,
          21.629279811097994,
          20.425029515938608,
          21.67650531286895,
          null,
          null
         ],
         "yaxis": "y"
        },
        {
         "hovertemplate": "cohort=2023-06-05<br># week=%{x}<br>retention, %=%{y}<extra></extra>",
         "legendgroup": "2023-06-05",
         "line": {
          "color": "#D62728",
          "dash": "solid"
         },
         "marker": {
          "symbol": "circle"
         },
         "mode": "lines",
         "name": "2023-06-05",
         "orientation": "v",
         "showlegend": true,
         "type": "scatter",
         "x": [
          0,
          1,
          2,
          3,
          4,
          5,
          6,
          7,
          8,
          9,
          10,
          11,
          12,
          13,
          14,
          15
         ],
         "xaxis": "x",
         "y": [
          100,
          83.7598883201489,
          60.86551884597487,
          45.5793392275477,
          39.71614704513728,
          33.71335504885994,
          31.642624476500696,
          26.96603071195905,
          26.221498371335503,
          23.825034899953465,
          22.91763610981852,
          21.59143787808283,
          21.40530479292694,
          null,
          null,
          null
         ],
         "yaxis": "y"
        },
        {
         "hovertemplate": "cohort=2023-06-12<br># week=%{x}<br>retention, %=%{y}<extra></extra>",
         "legendgroup": "2023-06-12",
         "line": {
          "color": "#9467BD",
          "dash": "solid"
         },
         "marker": {
          "symbol": "circle"
         },
         "mode": "lines",
         "name": "2023-06-12",
         "orientation": "v",
         "showlegend": true,
         "type": "scatter",
         "x": [
          0,
          1,
          2,
          3,
          4,
          5,
          6,
          7,
          8,
          9,
          10,
          11,
          12,
          13,
          14,
          15
         ],
         "xaxis": "x",
         "y": [
          100,
          83.66794495826754,
          59.12474622152042,
          46.898263027295286,
          39.79246559891721,
          33.72434017595308,
          30.92713737875028,
          27.81412136250846,
          26.956914053688248,
          23.88901421159486,
          22.919016467403566,
          21.407624633431084,
          null,
          null,
          null,
          null
         ],
         "yaxis": "y"
        },
        {
         "hovertemplate": "cohort=2023-06-19<br># week=%{x}<br>retention, %=%{y}<extra></extra>",
         "legendgroup": "2023-06-19",
         "line": {
          "color": "#8C564B",
          "dash": "solid"
         },
         "marker": {
          "symbol": "circle"
         },
         "mode": "lines",
         "name": "2023-06-19",
         "orientation": "v",
         "showlegend": true,
         "type": "scatter",
         "x": [
          0,
          1,
          2,
          3,
          4,
          5,
          6,
          7,
          8,
          9,
          10,
          11,
          12,
          13,
          14,
          15
         ],
         "xaxis": "x",
         "y": [
          100,
          83.48748026167381,
          60.929393187457705,
          46.785472591924204,
          39.183397247913376,
          34.89736070381232,
          31.13016016241823,
          27.15993683735619,
          25.986916309496955,
          24.701105346266637,
          21.90390254906384,
          null,
          null,
          null,
          null,
          null
         ],
         "yaxis": "y"
        },
        {
         "hovertemplate": "cohort=2023-06-26<br># week=%{x}<br>retention, %=%{y}<extra></extra>",
         "legendgroup": "2023-06-26",
         "line": {
          "color": "#E377C2",
          "dash": "solid"
         },
         "marker": {
          "symbol": "circle"
         },
         "mode": "lines",
         "name": "2023-06-26",
         "orientation": "v",
         "showlegend": true,
         "type": "scatter",
         "x": [
          0,
          1,
          2,
          3,
          4,
          5,
          6,
          7,
          8,
          9,
          10,
          11,
          12,
          13,
          14,
          15
         ],
         "xaxis": "x",
         "y": [
          100,
          84.83642793987622,
          60.96374889478338,
          48.275862068965516,
          39.6551724137931,
          33.95225464190982,
          29.420866489832008,
          27.630415561450043,
          26.702033598585324,
          23.91688770999116,
          null,
          null,
          null,
          null,
          null,
          null
         ],
         "yaxis": "y"
        },
        {
         "hovertemplate": "cohort=2023-07-03<br># week=%{x}<br>retention, %=%{y}<extra></extra>",
         "legendgroup": "2023-07-03",
         "line": {
          "color": "#7F7F7F",
          "dash": "solid"
         },
         "marker": {
          "symbol": "circle"
         },
         "mode": "lines",
         "name": "2023-07-03",
         "orientation": "v",
         "showlegend": true,
         "type": "scatter",
         "x": [
          0,
          1,
          2,
          3,
          4,
          5,
          6,
          7,
          8,
          9,
          10,
          11,
          12,
          13,
          14,
          15
         ],
         "xaxis": "x",
         "y": [
          100,
          84.41643121060639,
          60.769397956965875,
          46.83764399043686,
          38.90458595957401,
          34.188219952184305,
          30.66724625081504,
          28.319930449902195,
          25.88567702673332,
          null,
          null,
          null,
          null,
          null,
          null,
          null
         ],
         "yaxis": "y"
        },
        {
         "hovertemplate": "cohort=2023-07-10<br># week=%{x}<br>retention, %=%{y}<extra></extra>",
         "legendgroup": "2023-07-10",
         "line": {
          "color": "#BCBD22",
          "dash": "solid"
         },
         "marker": {
          "symbol": "circle"
         },
         "mode": "lines",
         "name": "2023-07-10",
         "orientation": "v",
         "showlegend": true,
         "type": "scatter",
         "x": [
          0,
          1,
          2,
          3,
          4,
          5,
          6,
          7,
          8,
          9,
          10,
          11,
          12,
          13,
          14,
          15
         ],
         "xaxis": "x",
         "y": [
          100,
          85.70505920344456,
          61.420882669537136,
          47.36275565123789,
          39.181916038751346,
          34.811625403659846,
          30.39827771797632,
          28.31001076426265,
          null,
          null,
          null,
          null,
          null,
          null,
          null,
          null
         ],
         "yaxis": "y"
        },
        {
         "hovertemplate": "cohort=2023-07-17<br># week=%{x}<br>retention, %=%{y}<extra></extra>",
         "legendgroup": "2023-07-17",
         "line": {
          "color": "#17BECF",
          "dash": "solid"
         },
         "marker": {
          "symbol": "circle"
         },
         "mode": "lines",
         "name": "2023-07-17",
         "orientation": "v",
         "showlegend": true,
         "type": "scatter",
         "x": [
          0,
          1,
          2,
          3,
          4,
          5,
          6,
          7,
          8,
          9,
          10,
          11,
          12,
          13,
          14,
          15
         ],
         "xaxis": "x",
         "y": [
          100,
          85.12044340225965,
          60.733319121722445,
          47.64442549562993,
          40.22596461308889,
          33.169899808143256,
          31.869537412065657,
          null,
          null,
          null,
          null,
          null,
          null,
          null,
          null,
          null
         ],
         "yaxis": "y"
        },
        {
         "hovertemplate": "cohort=2023-07-24<br># week=%{x}<br>retention, %=%{y}<extra></extra>",
         "legendgroup": "2023-07-24",
         "line": {
          "color": "#1F77B4",
          "dash": "solid"
         },
         "marker": {
          "symbol": "circle"
         },
         "mode": "lines",
         "name": "2023-07-24",
         "orientation": "v",
         "showlegend": true,
         "type": "scatter",
         "x": [
          0,
          1,
          2,
          3,
          4,
          5,
          6,
          7,
          8,
          9,
          10,
          11,
          12,
          13,
          14,
          15
         ],
         "xaxis": "x",
         "y": [
          100,
          85.58558558558559,
          61.15650534255185,
          49.23528179342133,
          39.55583490467211,
          34.799916195265034,
          null,
          null,
          null,
          null,
          null,
          null,
          null,
          null,
          null,
          null
         ],
         "yaxis": "y"
        },
        {
         "hovertemplate": "cohort=2023-07-31<br># week=%{x}<br>retention, %=%{y}<extra></extra>",
         "legendgroup": "2023-07-31",
         "line": {
          "color": "#FF7F0E",
          "dash": "solid"
         },
         "marker": {
          "symbol": "circle"
         },
         "mode": "lines",
         "name": "2023-07-31",
         "orientation": "v",
         "showlegend": true,
         "type": "scatter",
         "x": [
          0,
          1,
          2,
          3,
          4,
          5,
          6,
          7,
          8,
          9,
          10,
          11,
          12,
          13,
          14,
          15
         ],
         "xaxis": "x",
         "y": [
          100,
          85.0610386923236,
          61.618042623629215,
          48.706807366025245,
          39.437202565694186,
          null,
          null,
          null,
          null,
          null,
          null,
          null,
          null,
          null,
          null,
          null
         ],
         "yaxis": "y"
        },
        {
         "hovertemplate": "cohort=2023-08-07<br># week=%{x}<br>retention, %=%{y}<extra></extra>",
         "legendgroup": "2023-08-07",
         "line": {
          "color": "#2CA02C",
          "dash": "solid"
         },
         "marker": {
          "symbol": "circle"
         },
         "mode": "lines",
         "name": "2023-08-07",
         "orientation": "v",
         "showlegend": true,
         "type": "scatter",
         "x": [
          0,
          1,
          2,
          3,
          4,
          5,
          6,
          7,
          8,
          9,
          10,
          11,
          12,
          13,
          14,
          15
         ],
         "xaxis": "x",
         "y": [
          100,
          86.03649784703711,
          62.5999589911831,
          48.10334221857699,
          null,
          null,
          null,
          null,
          null,
          null,
          null,
          null,
          null,
          null,
          null,
          null
         ],
         "yaxis": "y"
        },
        {
         "hovertemplate": "cohort=2023-08-14<br># week=%{x}<br>retention, %=%{y}<extra></extra>",
         "legendgroup": "2023-08-14",
         "line": {
          "color": "#D62728",
          "dash": "solid"
         },
         "marker": {
          "symbol": "circle"
         },
         "mode": "lines",
         "name": "2023-08-14",
         "orientation": "v",
         "showlegend": true,
         "type": "scatter",
         "x": [
          0,
          1,
          2,
          3,
          4,
          5,
          6,
          7,
          8,
          9,
          10,
          11,
          12,
          13,
          14,
          15
         ],
         "xaxis": "x",
         "y": [
          100,
          84.84540276647681,
          61.85923515052888,
          null,
          null,
          null,
          null,
          null,
          null,
          null,
          null,
          null,
          null,
          null,
          null,
          null
         ],
         "yaxis": "y"
        },
        {
         "hovertemplate": "cohort=2023-08-21<br># week=%{x}<br>retention, %=%{y}<extra></extra>",
         "legendgroup": "2023-08-21",
         "line": {
          "color": "#9467BD",
          "dash": "solid"
         },
         "marker": {
          "symbol": "circle"
         },
         "mode": "lines",
         "name": "2023-08-21",
         "orientation": "v",
         "showlegend": true,
         "type": "scatter",
         "x": [
          0,
          1,
          2,
          3,
          4,
          5,
          6,
          7,
          8,
          9,
          10,
          11,
          12,
          13,
          14,
          15
         ],
         "xaxis": "x",
         "y": [
          100,
          85.74605742013749,
          null,
          null,
          null,
          null,
          null,
          null,
          null,
          null,
          null,
          null,
          null,
          null,
          null,
          null
         ],
         "yaxis": "y"
        },
        {
         "hovertemplate": "cohort=2023-08-28<br># week=%{x}<br>retention, %=%{y}<extra></extra>",
         "legendgroup": "2023-08-28",
         "line": {
          "color": "#8C564B",
          "dash": "solid"
         },
         "marker": {
          "symbol": "circle"
         },
         "mode": "lines",
         "name": "2023-08-28",
         "orientation": "v",
         "showlegend": true,
         "type": "scatter",
         "x": [
          0,
          1,
          2,
          3,
          4,
          5,
          6,
          7,
          8,
          9,
          10,
          11,
          12,
          13,
          14,
          15
         ],
         "xaxis": "x",
         "y": [
          100,
          null,
          null,
          null,
          null,
          null,
          null,
          null,
          null,
          null,
          null,
          null,
          null,
          null,
          null,
          null
         ],
         "yaxis": "y"
        }
       ],
       "layout": {
        "legend": {
         "title": {
          "text": "cohort"
         },
         "tracegroupgap": 0
        },
        "template": {
         "data": {
          "bar": [
           {
            "error_x": {
             "color": "rgb(36,36,36)"
            },
            "error_y": {
             "color": "rgb(36,36,36)"
            },
            "marker": {
             "line": {
              "color": "white",
              "width": 0.5
             },
             "pattern": {
              "fillmode": "overlay",
              "size": 10,
              "solidity": 0.2
             }
            },
            "type": "bar"
           }
          ],
          "barpolar": [
           {
            "marker": {
             "line": {
              "color": "white",
              "width": 0.5
             },
             "pattern": {
              "fillmode": "overlay",
              "size": 10,
              "solidity": 0.2
             }
            },
            "type": "barpolar"
           }
          ],
          "carpet": [
           {
            "aaxis": {
             "endlinecolor": "rgb(36,36,36)",
             "gridcolor": "white",
             "linecolor": "white",
             "minorgridcolor": "white",
             "startlinecolor": "rgb(36,36,36)"
            },
            "baxis": {
             "endlinecolor": "rgb(36,36,36)",
             "gridcolor": "white",
             "linecolor": "white",
             "minorgridcolor": "white",
             "startlinecolor": "rgb(36,36,36)"
            },
            "type": "carpet"
           }
          ],
          "choropleth": [
           {
            "colorbar": {
             "outlinewidth": 1,
             "tickcolor": "rgb(36,36,36)",
             "ticks": "outside"
            },
            "type": "choropleth"
           }
          ],
          "contour": [
           {
            "colorbar": {
             "outlinewidth": 1,
             "tickcolor": "rgb(36,36,36)",
             "ticks": "outside"
            },
            "colorscale": [
             [
              0,
              "#440154"
             ],
             [
              0.1111111111111111,
              "#482878"
             ],
             [
              0.2222222222222222,
              "#3e4989"
             ],
             [
              0.3333333333333333,
              "#31688e"
             ],
             [
              0.4444444444444444,
              "#26828e"
             ],
             [
              0.5555555555555556,
              "#1f9e89"
             ],
             [
              0.6666666666666666,
              "#35b779"
             ],
             [
              0.7777777777777778,
              "#6ece58"
             ],
             [
              0.8888888888888888,
              "#b5de2b"
             ],
             [
              1,
              "#fde725"
             ]
            ],
            "type": "contour"
           }
          ],
          "contourcarpet": [
           {
            "colorbar": {
             "outlinewidth": 1,
             "tickcolor": "rgb(36,36,36)",
             "ticks": "outside"
            },
            "type": "contourcarpet"
           }
          ],
          "heatmap": [
           {
            "colorbar": {
             "outlinewidth": 1,
             "tickcolor": "rgb(36,36,36)",
             "ticks": "outside"
            },
            "colorscale": [
             [
              0,
              "#440154"
             ],
             [
              0.1111111111111111,
              "#482878"
             ],
             [
              0.2222222222222222,
              "#3e4989"
             ],
             [
              0.3333333333333333,
              "#31688e"
             ],
             [
              0.4444444444444444,
              "#26828e"
             ],
             [
              0.5555555555555556,
              "#1f9e89"
             ],
             [
              0.6666666666666666,
              "#35b779"
             ],
             [
              0.7777777777777778,
              "#6ece58"
             ],
             [
              0.8888888888888888,
              "#b5de2b"
             ],
             [
              1,
              "#fde725"
             ]
            ],
            "type": "heatmap"
           }
          ],
          "heatmapgl": [
           {
            "colorbar": {
             "outlinewidth": 1,
             "tickcolor": "rgb(36,36,36)",
             "ticks": "outside"
            },
            "colorscale": [
             [
              0,
              "#440154"
             ],
             [
              0.1111111111111111,
              "#482878"
             ],
             [
              0.2222222222222222,
              "#3e4989"
             ],
             [
              0.3333333333333333,
              "#31688e"
             ],
             [
              0.4444444444444444,
              "#26828e"
             ],
             [
              0.5555555555555556,
              "#1f9e89"
             ],
             [
              0.6666666666666666,
              "#35b779"
             ],
             [
              0.7777777777777778,
              "#6ece58"
             ],
             [
              0.8888888888888888,
              "#b5de2b"
             ],
             [
              1,
              "#fde725"
             ]
            ],
            "type": "heatmapgl"
           }
          ],
          "histogram": [
           {
            "marker": {
             "line": {
              "color": "white",
              "width": 0.6
             }
            },
            "type": "histogram"
           }
          ],
          "histogram2d": [
           {
            "colorbar": {
             "outlinewidth": 1,
             "tickcolor": "rgb(36,36,36)",
             "ticks": "outside"
            },
            "colorscale": [
             [
              0,
              "#440154"
             ],
             [
              0.1111111111111111,
              "#482878"
             ],
             [
              0.2222222222222222,
              "#3e4989"
             ],
             [
              0.3333333333333333,
              "#31688e"
             ],
             [
              0.4444444444444444,
              "#26828e"
             ],
             [
              0.5555555555555556,
              "#1f9e89"
             ],
             [
              0.6666666666666666,
              "#35b779"
             ],
             [
              0.7777777777777778,
              "#6ece58"
             ],
             [
              0.8888888888888888,
              "#b5de2b"
             ],
             [
              1,
              "#fde725"
             ]
            ],
            "type": "histogram2d"
           }
          ],
          "histogram2dcontour": [
           {
            "colorbar": {
             "outlinewidth": 1,
             "tickcolor": "rgb(36,36,36)",
             "ticks": "outside"
            },
            "colorscale": [
             [
              0,
              "#440154"
             ],
             [
              0.1111111111111111,
              "#482878"
             ],
             [
              0.2222222222222222,
              "#3e4989"
             ],
             [
              0.3333333333333333,
              "#31688e"
             ],
             [
              0.4444444444444444,
              "#26828e"
             ],
             [
              0.5555555555555556,
              "#1f9e89"
             ],
             [
              0.6666666666666666,
              "#35b779"
             ],
             [
              0.7777777777777778,
              "#6ece58"
             ],
             [
              0.8888888888888888,
              "#b5de2b"
             ],
             [
              1,
              "#fde725"
             ]
            ],
            "type": "histogram2dcontour"
           }
          ],
          "mesh3d": [
           {
            "colorbar": {
             "outlinewidth": 1,
             "tickcolor": "rgb(36,36,36)",
             "ticks": "outside"
            },
            "type": "mesh3d"
           }
          ],
          "parcoords": [
           {
            "line": {
             "colorbar": {
              "outlinewidth": 1,
              "tickcolor": "rgb(36,36,36)",
              "ticks": "outside"
             }
            },
            "type": "parcoords"
           }
          ],
          "pie": [
           {
            "automargin": true,
            "type": "pie"
           }
          ],
          "scatter": [
           {
            "fillpattern": {
             "fillmode": "overlay",
             "size": 10,
             "solidity": 0.2
            },
            "type": "scatter"
           }
          ],
          "scatter3d": [
           {
            "line": {
             "colorbar": {
              "outlinewidth": 1,
              "tickcolor": "rgb(36,36,36)",
              "ticks": "outside"
             }
            },
            "marker": {
             "colorbar": {
              "outlinewidth": 1,
              "tickcolor": "rgb(36,36,36)",
              "ticks": "outside"
             }
            },
            "type": "scatter3d"
           }
          ],
          "scattercarpet": [
           {
            "marker": {
             "colorbar": {
              "outlinewidth": 1,
              "tickcolor": "rgb(36,36,36)",
              "ticks": "outside"
             }
            },
            "type": "scattercarpet"
           }
          ],
          "scattergeo": [
           {
            "marker": {
             "colorbar": {
              "outlinewidth": 1,
              "tickcolor": "rgb(36,36,36)",
              "ticks": "outside"
             }
            },
            "type": "scattergeo"
           }
          ],
          "scattergl": [
           {
            "marker": {
             "colorbar": {
              "outlinewidth": 1,
              "tickcolor": "rgb(36,36,36)",
              "ticks": "outside"
             }
            },
            "type": "scattergl"
           }
          ],
          "scattermapbox": [
           {
            "marker": {
             "colorbar": {
              "outlinewidth": 1,
              "tickcolor": "rgb(36,36,36)",
              "ticks": "outside"
             }
            },
            "type": "scattermapbox"
           }
          ],
          "scatterpolar": [
           {
            "marker": {
             "colorbar": {
              "outlinewidth": 1,
              "tickcolor": "rgb(36,36,36)",
              "ticks": "outside"
             }
            },
            "type": "scatterpolar"
           }
          ],
          "scatterpolargl": [
           {
            "marker": {
             "colorbar": {
              "outlinewidth": 1,
              "tickcolor": "rgb(36,36,36)",
              "ticks": "outside"
             }
            },
            "type": "scatterpolargl"
           }
          ],
          "scatterternary": [
           {
            "marker": {
             "colorbar": {
              "outlinewidth": 1,
              "tickcolor": "rgb(36,36,36)",
              "ticks": "outside"
             }
            },
            "type": "scatterternary"
           }
          ],
          "surface": [
           {
            "colorbar": {
             "outlinewidth": 1,
             "tickcolor": "rgb(36,36,36)",
             "ticks": "outside"
            },
            "colorscale": [
             [
              0,
              "#440154"
             ],
             [
              0.1111111111111111,
              "#482878"
             ],
             [
              0.2222222222222222,
              "#3e4989"
             ],
             [
              0.3333333333333333,
              "#31688e"
             ],
             [
              0.4444444444444444,
              "#26828e"
             ],
             [
              0.5555555555555556,
              "#1f9e89"
             ],
             [
              0.6666666666666666,
              "#35b779"
             ],
             [
              0.7777777777777778,
              "#6ece58"
             ],
             [
              0.8888888888888888,
              "#b5de2b"
             ],
             [
              1,
              "#fde725"
             ]
            ],
            "type": "surface"
           }
          ],
          "table": [
           {
            "cells": {
             "fill": {
              "color": "rgb(237,237,237)"
             },
             "line": {
              "color": "white"
             }
            },
            "header": {
             "fill": {
              "color": "rgb(217,217,217)"
             },
             "line": {
              "color": "white"
             }
            },
            "type": "table"
           }
          ]
         },
         "layout": {
          "annotationdefaults": {
           "arrowhead": 0,
           "arrowwidth": 1
          },
          "autotypenumbers": "strict",
          "coloraxis": {
           "colorbar": {
            "outlinewidth": 1,
            "tickcolor": "rgb(36,36,36)",
            "ticks": "outside"
           }
          },
          "colorscale": {
           "diverging": [
            [
             0,
             "rgb(103,0,31)"
            ],
            [
             0.1,
             "rgb(178,24,43)"
            ],
            [
             0.2,
             "rgb(214,96,77)"
            ],
            [
             0.3,
             "rgb(244,165,130)"
            ],
            [
             0.4,
             "rgb(253,219,199)"
            ],
            [
             0.5,
             "rgb(247,247,247)"
            ],
            [
             0.6,
             "rgb(209,229,240)"
            ],
            [
             0.7,
             "rgb(146,197,222)"
            ],
            [
             0.8,
             "rgb(67,147,195)"
            ],
            [
             0.9,
             "rgb(33,102,172)"
            ],
            [
             1,
             "rgb(5,48,97)"
            ]
           ],
           "sequential": [
            [
             0,
             "#440154"
            ],
            [
             0.1111111111111111,
             "#482878"
            ],
            [
             0.2222222222222222,
             "#3e4989"
            ],
            [
             0.3333333333333333,
             "#31688e"
            ],
            [
             0.4444444444444444,
             "#26828e"
            ],
            [
             0.5555555555555556,
             "#1f9e89"
            ],
            [
             0.6666666666666666,
             "#35b779"
            ],
            [
             0.7777777777777778,
             "#6ece58"
            ],
            [
             0.8888888888888888,
             "#b5de2b"
            ],
            [
             1,
             "#fde725"
            ]
           ],
           "sequentialminus": [
            [
             0,
             "#440154"
            ],
            [
             0.1111111111111111,
             "#482878"
            ],
            [
             0.2222222222222222,
             "#3e4989"
            ],
            [
             0.3333333333333333,
             "#31688e"
            ],
            [
             0.4444444444444444,
             "#26828e"
            ],
            [
             0.5555555555555556,
             "#1f9e89"
            ],
            [
             0.6666666666666666,
             "#35b779"
            ],
            [
             0.7777777777777778,
             "#6ece58"
            ],
            [
             0.8888888888888888,
             "#b5de2b"
            ],
            [
             1,
             "#fde725"
            ]
           ]
          },
          "colorway": [
           "#1F77B4",
           "#FF7F0E",
           "#2CA02C",
           "#D62728",
           "#9467BD",
           "#8C564B",
           "#E377C2",
           "#7F7F7F",
           "#BCBD22",
           "#17BECF"
          ],
          "font": {
           "color": "rgb(36,36,36)"
          },
          "geo": {
           "bgcolor": "white",
           "lakecolor": "white",
           "landcolor": "white",
           "showlakes": true,
           "showland": true,
           "subunitcolor": "white"
          },
          "hoverlabel": {
           "align": "left"
          },
          "hovermode": "closest",
          "mapbox": {
           "style": "light"
          },
          "paper_bgcolor": "white",
          "plot_bgcolor": "white",
          "polar": {
           "angularaxis": {
            "gridcolor": "rgb(232,232,232)",
            "linecolor": "rgb(36,36,36)",
            "showgrid": false,
            "showline": true,
            "ticks": "outside"
           },
           "bgcolor": "white",
           "radialaxis": {
            "gridcolor": "rgb(232,232,232)",
            "linecolor": "rgb(36,36,36)",
            "showgrid": false,
            "showline": true,
            "ticks": "outside"
           }
          },
          "scene": {
           "xaxis": {
            "backgroundcolor": "white",
            "gridcolor": "rgb(232,232,232)",
            "gridwidth": 2,
            "linecolor": "rgb(36,36,36)",
            "showbackground": true,
            "showgrid": false,
            "showline": true,
            "ticks": "outside",
            "zeroline": false,
            "zerolinecolor": "rgb(36,36,36)"
           },
           "yaxis": {
            "backgroundcolor": "white",
            "gridcolor": "rgb(232,232,232)",
            "gridwidth": 2,
            "linecolor": "rgb(36,36,36)",
            "showbackground": true,
            "showgrid": false,
            "showline": true,
            "ticks": "outside",
            "zeroline": false,
            "zerolinecolor": "rgb(36,36,36)"
           },
           "zaxis": {
            "backgroundcolor": "white",
            "gridcolor": "rgb(232,232,232)",
            "gridwidth": 2,
            "linecolor": "rgb(36,36,36)",
            "showbackground": true,
            "showgrid": false,
            "showline": true,
            "ticks": "outside",
            "zeroline": false,
            "zerolinecolor": "rgb(36,36,36)"
           }
          },
          "shapedefaults": {
           "fillcolor": "black",
           "line": {
            "width": 0
           },
           "opacity": 0.3
          },
          "ternary": {
           "aaxis": {
            "gridcolor": "rgb(232,232,232)",
            "linecolor": "rgb(36,36,36)",
            "showgrid": false,
            "showline": true,
            "ticks": "outside"
           },
           "baxis": {
            "gridcolor": "rgb(232,232,232)",
            "linecolor": "rgb(36,36,36)",
            "showgrid": false,
            "showline": true,
            "ticks": "outside"
           },
           "bgcolor": "white",
           "caxis": {
            "gridcolor": "rgb(232,232,232)",
            "linecolor": "rgb(36,36,36)",
            "showgrid": false,
            "showline": true,
            "ticks": "outside"
           }
          },
          "title": {
           "x": 0.05
          },
          "xaxis": {
           "automargin": true,
           "gridcolor": "rgb(232,232,232)",
           "linecolor": "rgb(36,36,36)",
           "showgrid": false,
           "showline": true,
           "ticks": "outside",
           "title": {
            "standoff": 15
           },
           "zeroline": false,
           "zerolinecolor": "rgb(36,36,36)"
          },
          "yaxis": {
           "automargin": true,
           "gridcolor": "rgb(232,232,232)",
           "linecolor": "rgb(36,36,36)",
           "showgrid": false,
           "showline": true,
           "ticks": "outside",
           "title": {
            "standoff": 15
           },
           "zeroline": false,
           "zerolinecolor": "rgb(36,36,36)"
          }
         }
        },
        "title": {
         "text": "Weekly retention by cohort"
        },
        "xaxis": {
         "anchor": "y",
         "domain": [
          0,
          1
         ],
         "title": {
          "text": "# week"
         }
        },
        "yaxis": {
         "anchor": "x",
         "domain": [
          0,
          1
         ],
         "title": {
          "text": "retention, %"
         }
        }
       }
      },
      "text/html": [
       "<div>                            <div id=\"0d3f8001-5372-4d9a-b197-30d90079f5f9\" class=\"plotly-graph-div\" style=\"height:525px; width:100%;\"></div>            <script type=\"text/javascript\">                require([\"plotly\"], function(Plotly) {                    window.PLOTLYENV=window.PLOTLYENV || {};                                    if (document.getElementById(\"0d3f8001-5372-4d9a-b197-30d90079f5f9\")) {                    Plotly.newPlot(                        \"0d3f8001-5372-4d9a-b197-30d90079f5f9\",                        [{\"hovertemplate\":\"cohort=2023-05-15<br># week=%{x}<br>retention, %=%{y}<extra></extra>\",\"legendgroup\":\"2023-05-15\",\"line\":{\"color\":\"#1F77B4\",\"dash\":\"solid\"},\"marker\":{\"symbol\":\"circle\"},\"mode\":\"lines\",\"name\":\"2023-05-15\",\"orientation\":\"v\",\"showlegend\":true,\"x\":[0.0,1.0,2.0,3.0,4.0,5.0,6.0,7.0,8.0,9.0,10.0,11.0,12.0,13.0,14.0,15.0],\"xaxis\":\"x\",\"y\":[100.0,82.920245398773,57.84049079754601,46.13496932515337,36.93251533742331,32.147239263803684,30.03680981595092,27.190184049079754,25.20245398773006,24.392638036809817,22.625766871165645,22.282208588957054,21.079754601226995,19.975460122699385,19.926380368098158,19.460122699386503],\"yaxis\":\"y\",\"type\":\"scatter\"},{\"hovertemplate\":\"cohort=2023-05-22<br># week=%{x}<br>retention, %=%{y}<extra></extra>\",\"legendgroup\":\"2023-05-22\",\"line\":{\"color\":\"#FF7F0E\",\"dash\":\"solid\"},\"marker\":{\"symbol\":\"circle\"},\"mode\":\"lines\",\"name\":\"2023-05-22\",\"orientation\":\"v\",\"showlegend\":true,\"x\":[0.0,1.0,2.0,3.0,4.0,5.0,6.0,7.0,8.0,9.0,10.0,11.0,12.0,13.0,14.0,15.0],\"xaxis\":\"x\",\"y\":[100.0,82.73483947681332,58.715814506539836,45.51724137931034,39.19143876337693,32.74673008323425,30.725326991676575,28.10939357907253,24.61355529131986,24.304399524375743,23.258026159334126,21.379310344827587,20.546967895362663,20.42806183115339,20.0,null],\"yaxis\":\"y\",\"type\":\"scatter\"},{\"hovertemplate\":\"cohort=2023-05-29<br># week=%{x}<br>retention, %=%{y}<extra></extra>\",\"legendgroup\":\"2023-05-29\",\"line\":{\"color\":\"#2CA02C\",\"dash\":\"solid\"},\"marker\":{\"symbol\":\"circle\"},\"mode\":\"lines\",\"name\":\"2023-05-29\",\"orientation\":\"v\",\"showlegend\":true,\"x\":[0.0,1.0,2.0,3.0,4.0,5.0,6.0,7.0,8.0,9.0,10.0,11.0,12.0,13.0,14.0,15.0],\"xaxis\":\"x\",\"y\":[100.0,83.02243211334121,59.59858323494687,45.97402597402598,38.44155844155844,34.52184179456907,31.66469893742621,26.753246753246753,24.462809917355372,24.74616292798111,22.266824085005904,21.629279811097994,20.425029515938608,21.67650531286895,null,null],\"yaxis\":\"y\",\"type\":\"scatter\"},{\"hovertemplate\":\"cohort=2023-06-05<br># week=%{x}<br>retention, %=%{y}<extra></extra>\",\"legendgroup\":\"2023-06-05\",\"line\":{\"color\":\"#D62728\",\"dash\":\"solid\"},\"marker\":{\"symbol\":\"circle\"},\"mode\":\"lines\",\"name\":\"2023-06-05\",\"orientation\":\"v\",\"showlegend\":true,\"x\":[0.0,1.0,2.0,3.0,4.0,5.0,6.0,7.0,8.0,9.0,10.0,11.0,12.0,13.0,14.0,15.0],\"xaxis\":\"x\",\"y\":[100.0,83.7598883201489,60.86551884597487,45.5793392275477,39.71614704513728,33.71335504885994,31.642624476500696,26.96603071195905,26.221498371335503,23.825034899953465,22.91763610981852,21.59143787808283,21.40530479292694,null,null,null],\"yaxis\":\"y\",\"type\":\"scatter\"},{\"hovertemplate\":\"cohort=2023-06-12<br># week=%{x}<br>retention, %=%{y}<extra></extra>\",\"legendgroup\":\"2023-06-12\",\"line\":{\"color\":\"#9467BD\",\"dash\":\"solid\"},\"marker\":{\"symbol\":\"circle\"},\"mode\":\"lines\",\"name\":\"2023-06-12\",\"orientation\":\"v\",\"showlegend\":true,\"x\":[0.0,1.0,2.0,3.0,4.0,5.0,6.0,7.0,8.0,9.0,10.0,11.0,12.0,13.0,14.0,15.0],\"xaxis\":\"x\",\"y\":[100.0,83.66794495826754,59.12474622152042,46.898263027295286,39.79246559891721,33.72434017595308,30.92713737875028,27.81412136250846,26.956914053688248,23.88901421159486,22.919016467403566,21.407624633431084,null,null,null,null],\"yaxis\":\"y\",\"type\":\"scatter\"},{\"hovertemplate\":\"cohort=2023-06-19<br># week=%{x}<br>retention, %=%{y}<extra></extra>\",\"legendgroup\":\"2023-06-19\",\"line\":{\"color\":\"#8C564B\",\"dash\":\"solid\"},\"marker\":{\"symbol\":\"circle\"},\"mode\":\"lines\",\"name\":\"2023-06-19\",\"orientation\":\"v\",\"showlegend\":true,\"x\":[0.0,1.0,2.0,3.0,4.0,5.0,6.0,7.0,8.0,9.0,10.0,11.0,12.0,13.0,14.0,15.0],\"xaxis\":\"x\",\"y\":[100.0,83.48748026167381,60.929393187457705,46.785472591924204,39.183397247913376,34.89736070381232,31.13016016241823,27.15993683735619,25.986916309496955,24.701105346266637,21.90390254906384,null,null,null,null,null],\"yaxis\":\"y\",\"type\":\"scatter\"},{\"hovertemplate\":\"cohort=2023-06-26<br># week=%{x}<br>retention, %=%{y}<extra></extra>\",\"legendgroup\":\"2023-06-26\",\"line\":{\"color\":\"#E377C2\",\"dash\":\"solid\"},\"marker\":{\"symbol\":\"circle\"},\"mode\":\"lines\",\"name\":\"2023-06-26\",\"orientation\":\"v\",\"showlegend\":true,\"x\":[0.0,1.0,2.0,3.0,4.0,5.0,6.0,7.0,8.0,9.0,10.0,11.0,12.0,13.0,14.0,15.0],\"xaxis\":\"x\",\"y\":[100.0,84.83642793987622,60.96374889478338,48.275862068965516,39.6551724137931,33.95225464190982,29.420866489832008,27.630415561450043,26.702033598585324,23.91688770999116,null,null,null,null,null,null],\"yaxis\":\"y\",\"type\":\"scatter\"},{\"hovertemplate\":\"cohort=2023-07-03<br># week=%{x}<br>retention, %=%{y}<extra></extra>\",\"legendgroup\":\"2023-07-03\",\"line\":{\"color\":\"#7F7F7F\",\"dash\":\"solid\"},\"marker\":{\"symbol\":\"circle\"},\"mode\":\"lines\",\"name\":\"2023-07-03\",\"orientation\":\"v\",\"showlegend\":true,\"x\":[0.0,1.0,2.0,3.0,4.0,5.0,6.0,7.0,8.0,9.0,10.0,11.0,12.0,13.0,14.0,15.0],\"xaxis\":\"x\",\"y\":[100.0,84.41643121060639,60.769397956965875,46.83764399043686,38.90458595957401,34.188219952184305,30.66724625081504,28.319930449902195,25.88567702673332,null,null,null,null,null,null,null],\"yaxis\":\"y\",\"type\":\"scatter\"},{\"hovertemplate\":\"cohort=2023-07-10<br># week=%{x}<br>retention, %=%{y}<extra></extra>\",\"legendgroup\":\"2023-07-10\",\"line\":{\"color\":\"#BCBD22\",\"dash\":\"solid\"},\"marker\":{\"symbol\":\"circle\"},\"mode\":\"lines\",\"name\":\"2023-07-10\",\"orientation\":\"v\",\"showlegend\":true,\"x\":[0.0,1.0,2.0,3.0,4.0,5.0,6.0,7.0,8.0,9.0,10.0,11.0,12.0,13.0,14.0,15.0],\"xaxis\":\"x\",\"y\":[100.0,85.70505920344456,61.420882669537136,47.36275565123789,39.181916038751346,34.811625403659846,30.39827771797632,28.31001076426265,null,null,null,null,null,null,null,null],\"yaxis\":\"y\",\"type\":\"scatter\"},{\"hovertemplate\":\"cohort=2023-07-17<br># week=%{x}<br>retention, %=%{y}<extra></extra>\",\"legendgroup\":\"2023-07-17\",\"line\":{\"color\":\"#17BECF\",\"dash\":\"solid\"},\"marker\":{\"symbol\":\"circle\"},\"mode\":\"lines\",\"name\":\"2023-07-17\",\"orientation\":\"v\",\"showlegend\":true,\"x\":[0.0,1.0,2.0,3.0,4.0,5.0,6.0,7.0,8.0,9.0,10.0,11.0,12.0,13.0,14.0,15.0],\"xaxis\":\"x\",\"y\":[100.0,85.12044340225965,60.733319121722445,47.64442549562993,40.22596461308889,33.169899808143256,31.869537412065657,null,null,null,null,null,null,null,null,null],\"yaxis\":\"y\",\"type\":\"scatter\"},{\"hovertemplate\":\"cohort=2023-07-24<br># week=%{x}<br>retention, %=%{y}<extra></extra>\",\"legendgroup\":\"2023-07-24\",\"line\":{\"color\":\"#1F77B4\",\"dash\":\"solid\"},\"marker\":{\"symbol\":\"circle\"},\"mode\":\"lines\",\"name\":\"2023-07-24\",\"orientation\":\"v\",\"showlegend\":true,\"x\":[0.0,1.0,2.0,3.0,4.0,5.0,6.0,7.0,8.0,9.0,10.0,11.0,12.0,13.0,14.0,15.0],\"xaxis\":\"x\",\"y\":[100.0,85.58558558558559,61.15650534255185,49.23528179342133,39.55583490467211,34.799916195265034,null,null,null,null,null,null,null,null,null,null],\"yaxis\":\"y\",\"type\":\"scatter\"},{\"hovertemplate\":\"cohort=2023-07-31<br># week=%{x}<br>retention, %=%{y}<extra></extra>\",\"legendgroup\":\"2023-07-31\",\"line\":{\"color\":\"#FF7F0E\",\"dash\":\"solid\"},\"marker\":{\"symbol\":\"circle\"},\"mode\":\"lines\",\"name\":\"2023-07-31\",\"orientation\":\"v\",\"showlegend\":true,\"x\":[0.0,1.0,2.0,3.0,4.0,5.0,6.0,7.0,8.0,9.0,10.0,11.0,12.0,13.0,14.0,15.0],\"xaxis\":\"x\",\"y\":[100.0,85.0610386923236,61.618042623629215,48.706807366025245,39.437202565694186,null,null,null,null,null,null,null,null,null,null,null],\"yaxis\":\"y\",\"type\":\"scatter\"},{\"hovertemplate\":\"cohort=2023-08-07<br># week=%{x}<br>retention, %=%{y}<extra></extra>\",\"legendgroup\":\"2023-08-07\",\"line\":{\"color\":\"#2CA02C\",\"dash\":\"solid\"},\"marker\":{\"symbol\":\"circle\"},\"mode\":\"lines\",\"name\":\"2023-08-07\",\"orientation\":\"v\",\"showlegend\":true,\"x\":[0.0,1.0,2.0,3.0,4.0,5.0,6.0,7.0,8.0,9.0,10.0,11.0,12.0,13.0,14.0,15.0],\"xaxis\":\"x\",\"y\":[100.0,86.03649784703711,62.5999589911831,48.10334221857699,null,null,null,null,null,null,null,null,null,null,null,null],\"yaxis\":\"y\",\"type\":\"scatter\"},{\"hovertemplate\":\"cohort=2023-08-14<br># week=%{x}<br>retention, %=%{y}<extra></extra>\",\"legendgroup\":\"2023-08-14\",\"line\":{\"color\":\"#D62728\",\"dash\":\"solid\"},\"marker\":{\"symbol\":\"circle\"},\"mode\":\"lines\",\"name\":\"2023-08-14\",\"orientation\":\"v\",\"showlegend\":true,\"x\":[0.0,1.0,2.0,3.0,4.0,5.0,6.0,7.0,8.0,9.0,10.0,11.0,12.0,13.0,14.0,15.0],\"xaxis\":\"x\",\"y\":[100.0,84.84540276647681,61.85923515052888,null,null,null,null,null,null,null,null,null,null,null,null,null],\"yaxis\":\"y\",\"type\":\"scatter\"},{\"hovertemplate\":\"cohort=2023-08-21<br># week=%{x}<br>retention, %=%{y}<extra></extra>\",\"legendgroup\":\"2023-08-21\",\"line\":{\"color\":\"#9467BD\",\"dash\":\"solid\"},\"marker\":{\"symbol\":\"circle\"},\"mode\":\"lines\",\"name\":\"2023-08-21\",\"orientation\":\"v\",\"showlegend\":true,\"x\":[0.0,1.0,2.0,3.0,4.0,5.0,6.0,7.0,8.0,9.0,10.0,11.0,12.0,13.0,14.0,15.0],\"xaxis\":\"x\",\"y\":[100.0,85.74605742013749,null,null,null,null,null,null,null,null,null,null,null,null,null,null],\"yaxis\":\"y\",\"type\":\"scatter\"},{\"hovertemplate\":\"cohort=2023-08-28<br># week=%{x}<br>retention, %=%{y}<extra></extra>\",\"legendgroup\":\"2023-08-28\",\"line\":{\"color\":\"#8C564B\",\"dash\":\"solid\"},\"marker\":{\"symbol\":\"circle\"},\"mode\":\"lines\",\"name\":\"2023-08-28\",\"orientation\":\"v\",\"showlegend\":true,\"x\":[0.0,1.0,2.0,3.0,4.0,5.0,6.0,7.0,8.0,9.0,10.0,11.0,12.0,13.0,14.0,15.0],\"xaxis\":\"x\",\"y\":[100.0,null,null,null,null,null,null,null,null,null,null,null,null,null,null,null],\"yaxis\":\"y\",\"type\":\"scatter\"}],                        {\"template\":{\"data\":{\"histogram2dcontour\":[{\"type\":\"histogram2dcontour\",\"colorbar\":{\"outlinewidth\":1,\"tickcolor\":\"rgb(36,36,36)\",\"ticks\":\"outside\"},\"colorscale\":[[0.0,\"#440154\"],[0.1111111111111111,\"#482878\"],[0.2222222222222222,\"#3e4989\"],[0.3333333333333333,\"#31688e\"],[0.4444444444444444,\"#26828e\"],[0.5555555555555556,\"#1f9e89\"],[0.6666666666666666,\"#35b779\"],[0.7777777777777778,\"#6ece58\"],[0.8888888888888888,\"#b5de2b\"],[1.0,\"#fde725\"]]}],\"choropleth\":[{\"type\":\"choropleth\",\"colorbar\":{\"outlinewidth\":1,\"tickcolor\":\"rgb(36,36,36)\",\"ticks\":\"outside\"}}],\"histogram2d\":[{\"type\":\"histogram2d\",\"colorbar\":{\"outlinewidth\":1,\"tickcolor\":\"rgb(36,36,36)\",\"ticks\":\"outside\"},\"colorscale\":[[0.0,\"#440154\"],[0.1111111111111111,\"#482878\"],[0.2222222222222222,\"#3e4989\"],[0.3333333333333333,\"#31688e\"],[0.4444444444444444,\"#26828e\"],[0.5555555555555556,\"#1f9e89\"],[0.6666666666666666,\"#35b779\"],[0.7777777777777778,\"#6ece58\"],[0.8888888888888888,\"#b5de2b\"],[1.0,\"#fde725\"]]}],\"heatmap\":[{\"type\":\"heatmap\",\"colorbar\":{\"outlinewidth\":1,\"tickcolor\":\"rgb(36,36,36)\",\"ticks\":\"outside\"},\"colorscale\":[[0.0,\"#440154\"],[0.1111111111111111,\"#482878\"],[0.2222222222222222,\"#3e4989\"],[0.3333333333333333,\"#31688e\"],[0.4444444444444444,\"#26828e\"],[0.5555555555555556,\"#1f9e89\"],[0.6666666666666666,\"#35b779\"],[0.7777777777777778,\"#6ece58\"],[0.8888888888888888,\"#b5de2b\"],[1.0,\"#fde725\"]]}],\"heatmapgl\":[{\"type\":\"heatmapgl\",\"colorbar\":{\"outlinewidth\":1,\"tickcolor\":\"rgb(36,36,36)\",\"ticks\":\"outside\"},\"colorscale\":[[0.0,\"#440154\"],[0.1111111111111111,\"#482878\"],[0.2222222222222222,\"#3e4989\"],[0.3333333333333333,\"#31688e\"],[0.4444444444444444,\"#26828e\"],[0.5555555555555556,\"#1f9e89\"],[0.6666666666666666,\"#35b779\"],[0.7777777777777778,\"#6ece58\"],[0.8888888888888888,\"#b5de2b\"],[1.0,\"#fde725\"]]}],\"contourcarpet\":[{\"type\":\"contourcarpet\",\"colorbar\":{\"outlinewidth\":1,\"tickcolor\":\"rgb(36,36,36)\",\"ticks\":\"outside\"}}],\"contour\":[{\"type\":\"contour\",\"colorbar\":{\"outlinewidth\":1,\"tickcolor\":\"rgb(36,36,36)\",\"ticks\":\"outside\"},\"colorscale\":[[0.0,\"#440154\"],[0.1111111111111111,\"#482878\"],[0.2222222222222222,\"#3e4989\"],[0.3333333333333333,\"#31688e\"],[0.4444444444444444,\"#26828e\"],[0.5555555555555556,\"#1f9e89\"],[0.6666666666666666,\"#35b779\"],[0.7777777777777778,\"#6ece58\"],[0.8888888888888888,\"#b5de2b\"],[1.0,\"#fde725\"]]}],\"surface\":[{\"type\":\"surface\",\"colorbar\":{\"outlinewidth\":1,\"tickcolor\":\"rgb(36,36,36)\",\"ticks\":\"outside\"},\"colorscale\":[[0.0,\"#440154\"],[0.1111111111111111,\"#482878\"],[0.2222222222222222,\"#3e4989\"],[0.3333333333333333,\"#31688e\"],[0.4444444444444444,\"#26828e\"],[0.5555555555555556,\"#1f9e89\"],[0.6666666666666666,\"#35b779\"],[0.7777777777777778,\"#6ece58\"],[0.8888888888888888,\"#b5de2b\"],[1.0,\"#fde725\"]]}],\"mesh3d\":[{\"type\":\"mesh3d\",\"colorbar\":{\"outlinewidth\":1,\"tickcolor\":\"rgb(36,36,36)\",\"ticks\":\"outside\"}}],\"scatter\":[{\"fillpattern\":{\"fillmode\":\"overlay\",\"size\":10,\"solidity\":0.2},\"type\":\"scatter\"}],\"parcoords\":[{\"type\":\"parcoords\",\"line\":{\"colorbar\":{\"outlinewidth\":1,\"tickcolor\":\"rgb(36,36,36)\",\"ticks\":\"outside\"}}}],\"scatterpolargl\":[{\"type\":\"scatterpolargl\",\"marker\":{\"colorbar\":{\"outlinewidth\":1,\"tickcolor\":\"rgb(36,36,36)\",\"ticks\":\"outside\"}}}],\"bar\":[{\"error_x\":{\"color\":\"rgb(36,36,36)\"},\"error_y\":{\"color\":\"rgb(36,36,36)\"},\"marker\":{\"line\":{\"color\":\"white\",\"width\":0.5},\"pattern\":{\"fillmode\":\"overlay\",\"size\":10,\"solidity\":0.2}},\"type\":\"bar\"}],\"scattergeo\":[{\"type\":\"scattergeo\",\"marker\":{\"colorbar\":{\"outlinewidth\":1,\"tickcolor\":\"rgb(36,36,36)\",\"ticks\":\"outside\"}}}],\"scatterpolar\":[{\"type\":\"scatterpolar\",\"marker\":{\"colorbar\":{\"outlinewidth\":1,\"tickcolor\":\"rgb(36,36,36)\",\"ticks\":\"outside\"}}}],\"histogram\":[{\"marker\":{\"line\":{\"color\":\"white\",\"width\":0.6}},\"type\":\"histogram\"}],\"scattergl\":[{\"type\":\"scattergl\",\"marker\":{\"colorbar\":{\"outlinewidth\":1,\"tickcolor\":\"rgb(36,36,36)\",\"ticks\":\"outside\"}}}],\"scatter3d\":[{\"type\":\"scatter3d\",\"line\":{\"colorbar\":{\"outlinewidth\":1,\"tickcolor\":\"rgb(36,36,36)\",\"ticks\":\"outside\"}},\"marker\":{\"colorbar\":{\"outlinewidth\":1,\"tickcolor\":\"rgb(36,36,36)\",\"ticks\":\"outside\"}}}],\"scattermapbox\":[{\"type\":\"scattermapbox\",\"marker\":{\"colorbar\":{\"outlinewidth\":1,\"tickcolor\":\"rgb(36,36,36)\",\"ticks\":\"outside\"}}}],\"scatterternary\":[{\"type\":\"scatterternary\",\"marker\":{\"colorbar\":{\"outlinewidth\":1,\"tickcolor\":\"rgb(36,36,36)\",\"ticks\":\"outside\"}}}],\"scattercarpet\":[{\"type\":\"scattercarpet\",\"marker\":{\"colorbar\":{\"outlinewidth\":1,\"tickcolor\":\"rgb(36,36,36)\",\"ticks\":\"outside\"}}}],\"carpet\":[{\"aaxis\":{\"endlinecolor\":\"rgb(36,36,36)\",\"gridcolor\":\"white\",\"linecolor\":\"white\",\"minorgridcolor\":\"white\",\"startlinecolor\":\"rgb(36,36,36)\"},\"baxis\":{\"endlinecolor\":\"rgb(36,36,36)\",\"gridcolor\":\"white\",\"linecolor\":\"white\",\"minorgridcolor\":\"white\",\"startlinecolor\":\"rgb(36,36,36)\"},\"type\":\"carpet\"}],\"table\":[{\"cells\":{\"fill\":{\"color\":\"rgb(237,237,237)\"},\"line\":{\"color\":\"white\"}},\"header\":{\"fill\":{\"color\":\"rgb(217,217,217)\"},\"line\":{\"color\":\"white\"}},\"type\":\"table\"}],\"barpolar\":[{\"marker\":{\"line\":{\"color\":\"white\",\"width\":0.5},\"pattern\":{\"fillmode\":\"overlay\",\"size\":10,\"solidity\":0.2}},\"type\":\"barpolar\"}],\"pie\":[{\"automargin\":true,\"type\":\"pie\"}]},\"layout\":{\"autotypenumbers\":\"strict\",\"colorway\":[\"#1F77B4\",\"#FF7F0E\",\"#2CA02C\",\"#D62728\",\"#9467BD\",\"#8C564B\",\"#E377C2\",\"#7F7F7F\",\"#BCBD22\",\"#17BECF\"],\"font\":{\"color\":\"rgb(36,36,36)\"},\"hovermode\":\"closest\",\"hoverlabel\":{\"align\":\"left\"},\"paper_bgcolor\":\"white\",\"plot_bgcolor\":\"white\",\"polar\":{\"bgcolor\":\"white\",\"angularaxis\":{\"gridcolor\":\"rgb(232,232,232)\",\"linecolor\":\"rgb(36,36,36)\",\"showgrid\":false,\"showline\":true,\"ticks\":\"outside\"},\"radialaxis\":{\"gridcolor\":\"rgb(232,232,232)\",\"linecolor\":\"rgb(36,36,36)\",\"showgrid\":false,\"showline\":true,\"ticks\":\"outside\"}},\"ternary\":{\"bgcolor\":\"white\",\"aaxis\":{\"gridcolor\":\"rgb(232,232,232)\",\"linecolor\":\"rgb(36,36,36)\",\"showgrid\":false,\"showline\":true,\"ticks\":\"outside\"},\"baxis\":{\"gridcolor\":\"rgb(232,232,232)\",\"linecolor\":\"rgb(36,36,36)\",\"showgrid\":false,\"showline\":true,\"ticks\":\"outside\"},\"caxis\":{\"gridcolor\":\"rgb(232,232,232)\",\"linecolor\":\"rgb(36,36,36)\",\"showgrid\":false,\"showline\":true,\"ticks\":\"outside\"}},\"coloraxis\":{\"colorbar\":{\"outlinewidth\":1,\"tickcolor\":\"rgb(36,36,36)\",\"ticks\":\"outside\"}},\"colorscale\":{\"sequential\":[[0.0,\"#440154\"],[0.1111111111111111,\"#482878\"],[0.2222222222222222,\"#3e4989\"],[0.3333333333333333,\"#31688e\"],[0.4444444444444444,\"#26828e\"],[0.5555555555555556,\"#1f9e89\"],[0.6666666666666666,\"#35b779\"],[0.7777777777777778,\"#6ece58\"],[0.8888888888888888,\"#b5de2b\"],[1.0,\"#fde725\"]],\"sequentialminus\":[[0.0,\"#440154\"],[0.1111111111111111,\"#482878\"],[0.2222222222222222,\"#3e4989\"],[0.3333333333333333,\"#31688e\"],[0.4444444444444444,\"#26828e\"],[0.5555555555555556,\"#1f9e89\"],[0.6666666666666666,\"#35b779\"],[0.7777777777777778,\"#6ece58\"],[0.8888888888888888,\"#b5de2b\"],[1.0,\"#fde725\"]],\"diverging\":[[0.0,\"rgb(103,0,31)\"],[0.1,\"rgb(178,24,43)\"],[0.2,\"rgb(214,96,77)\"],[0.3,\"rgb(244,165,130)\"],[0.4,\"rgb(253,219,199)\"],[0.5,\"rgb(247,247,247)\"],[0.6,\"rgb(209,229,240)\"],[0.7,\"rgb(146,197,222)\"],[0.8,\"rgb(67,147,195)\"],[0.9,\"rgb(33,102,172)\"],[1.0,\"rgb(5,48,97)\"]]},\"xaxis\":{\"gridcolor\":\"rgb(232,232,232)\",\"linecolor\":\"rgb(36,36,36)\",\"showgrid\":false,\"showline\":true,\"ticks\":\"outside\",\"title\":{\"standoff\":15},\"zerolinecolor\":\"rgb(36,36,36)\",\"automargin\":true,\"zeroline\":false},\"yaxis\":{\"gridcolor\":\"rgb(232,232,232)\",\"linecolor\":\"rgb(36,36,36)\",\"showgrid\":false,\"showline\":true,\"ticks\":\"outside\",\"title\":{\"standoff\":15},\"zerolinecolor\":\"rgb(36,36,36)\",\"automargin\":true,\"zeroline\":false},\"scene\":{\"xaxis\":{\"backgroundcolor\":\"white\",\"gridcolor\":\"rgb(232,232,232)\",\"linecolor\":\"rgb(36,36,36)\",\"showbackground\":true,\"showgrid\":false,\"showline\":true,\"ticks\":\"outside\",\"zerolinecolor\":\"rgb(36,36,36)\",\"gridwidth\":2,\"zeroline\":false},\"yaxis\":{\"backgroundcolor\":\"white\",\"gridcolor\":\"rgb(232,232,232)\",\"linecolor\":\"rgb(36,36,36)\",\"showbackground\":true,\"showgrid\":false,\"showline\":true,\"ticks\":\"outside\",\"zerolinecolor\":\"rgb(36,36,36)\",\"gridwidth\":2,\"zeroline\":false},\"zaxis\":{\"backgroundcolor\":\"white\",\"gridcolor\":\"rgb(232,232,232)\",\"linecolor\":\"rgb(36,36,36)\",\"showbackground\":true,\"showgrid\":false,\"showline\":true,\"ticks\":\"outside\",\"zerolinecolor\":\"rgb(36,36,36)\",\"gridwidth\":2,\"zeroline\":false}},\"shapedefaults\":{\"fillcolor\":\"black\",\"line\":{\"width\":0},\"opacity\":0.3},\"annotationdefaults\":{\"arrowhead\":0,\"arrowwidth\":1},\"geo\":{\"bgcolor\":\"white\",\"landcolor\":\"white\",\"subunitcolor\":\"white\",\"showland\":true,\"showlakes\":true,\"lakecolor\":\"white\"},\"title\":{\"x\":0.05},\"mapbox\":{\"style\":\"light\"}}},\"xaxis\":{\"anchor\":\"y\",\"domain\":[0.0,1.0],\"title\":{\"text\":\"# week\"}},\"yaxis\":{\"anchor\":\"x\",\"domain\":[0.0,1.0],\"title\":{\"text\":\"retention, %\"}},\"legend\":{\"title\":{\"text\":\"cohort\"},\"tracegroupgap\":0},\"title\":{\"text\":\"Weekly retention by cohort\"}},                        {\"responsive\": true}                    ).then(function(){\n",
       "                            \n",
       "var gd = document.getElementById('0d3f8001-5372-4d9a-b197-30d90079f5f9');\n",
       "var x = new MutationObserver(function (mutations, observer) {{\n",
       "        var display = window.getComputedStyle(gd).display;\n",
       "        if (!display || display === 'none') {{\n",
       "            console.log([gd, 'removed!']);\n",
       "            Plotly.purge(gd);\n",
       "            observer.disconnect();\n",
       "        }}\n",
       "}});\n",
       "\n",
       "// Listen for the removal of the full notebook cells\n",
       "var notebookContainer = gd.closest('#notebook-container');\n",
       "if (notebookContainer) {{\n",
       "    x.observe(notebookContainer, {childList: true});\n",
       "}}\n",
       "\n",
       "// Listen for the clearing of the current output cell\n",
       "var outputEl = gd.closest('.output');\n",
       "if (outputEl) {{\n",
       "    x.observe(outputEl, {childList: true});\n",
       "}}\n",
       "\n",
       "                        })                };                });            </script>        </div>"
      ]
     },
     "metadata": {},
     "output_type": "display_data"
    }
   ],
   "source": [
    "px.line(\n",
    "    filt_df.pivot(index = 'week_num', columns = 'cohort_week_date',\n",
    "             values = 'retention'),\n",
    "    title = 'Weekly retention by cohort',\n",
    "    labels = {\n",
    "        'cohort_week_date': 'cohort',\n",
    "        'week_num': '# week',\n",
    "        'value': 'retention, %'\n",
    "    }\n",
    ")"
   ]
  },
  {
   "cell_type": "code",
   "execution_count": 379,
   "id": "81c1eb8f",
   "metadata": {},
   "outputs": [],
   "source": [
    "filt_df = df[(df.cohort_week_date > '2022-09-01')\n",
    "            & (df.week_date < '2023-09-01')]\n",
    "filt_df = filt_df[filt_df.week_num.isin([1, 3, 5, 20])]\n",
    "\n",
    "filt_df['week_num'] = filt_df['week_num'].map(int)"
   ]
  },
  {
   "cell_type": "code",
   "execution_count": 381,
   "id": "cbcb10d5",
   "metadata": {},
   "outputs": [
    {
     "data": {
      "application/vnd.plotly.v1+json": {
       "config": {
        "plotlyServerURL": "https://plot.ly"
       },
       "data": [
        {
         "hovertemplate": "# week=1<br>cohort week=%{x}<br>retention, %=%{y}<extra></extra>",
         "legendgroup": "1",
         "line": {
          "color": "#1F77B4",
          "dash": "solid"
         },
         "marker": {
          "symbol": "circle"
         },
         "mode": "lines",
         "name": "1",
         "orientation": "v",
         "showlegend": true,
         "type": "scatter",
         "x": [
          "2022-09-05",
          "2022-09-12",
          "2022-09-19",
          "2022-09-26",
          "2022-10-03",
          "2022-10-10",
          "2022-10-17",
          "2022-10-24",
          "2022-10-31",
          "2022-11-07",
          "2022-11-14",
          "2022-11-21",
          "2022-11-28",
          "2022-12-05",
          "2022-12-12",
          "2022-12-19",
          "2022-12-26",
          "2023-01-02",
          "2023-01-09",
          "2023-01-16",
          "2023-01-23",
          "2023-01-30",
          "2023-02-06",
          "2023-02-13",
          "2023-02-20",
          "2023-02-27",
          "2023-03-06",
          "2023-03-13",
          "2023-03-20",
          "2023-03-27",
          "2023-04-03",
          "2023-04-10",
          "2023-04-17",
          "2023-04-24",
          "2023-05-01",
          "2023-05-08",
          "2023-05-15",
          "2023-05-22",
          "2023-05-29",
          "2023-06-05",
          "2023-06-12",
          "2023-06-19",
          "2023-06-26",
          "2023-07-03",
          "2023-07-10",
          "2023-07-17",
          "2023-07-24",
          "2023-07-31",
          "2023-08-07",
          "2023-08-14",
          "2023-08-21"
         ],
         "xaxis": "x",
         "y": [
          64.69165659008465,
          63.82566585956417,
          64.60305899490167,
          65.29613313754282,
          65.15004840271055,
          64.59657701711491,
          65.4060606060606,
          65.67990373044525,
          65.60833737275811,
          64.67444120505345,
          64.15186176685324,
          65.30214424951266,
          70.99415204678363,
          72.41582988777319,
          72.36255572065379,
          78.42907385697538,
          78.74015748031496,
          79.01825800658486,
          80.0241036456764,
          79.75903614457832,
          78.9136405248703,
          77.44744744744744,
          78.60606060606061,
          78.9583956899132,
          81.07546048722519,
          79.03225806451613,
          80.33593976252534,
          80.73051481161922,
          81.26210905065042,
          81.06984478935698,
          81.62439287641662,
          83.27554014403842,
          82.47104247104247,
          82.18644507920021,
          82.44640605296343,
          83.0902348578492,
          82.920245398773,
          82.73483947681332,
          83.02243211334121,
          83.7598883201489,
          83.66794495826754,
          83.48748026167381,
          84.83642793987622,
          84.41643121060639,
          85.70505920344456,
          85.12044340225965,
          85.58558558558559,
          85.0610386923236,
          86.03649784703711,
          84.84540276647681,
          85.74605742013749
         ],
         "yaxis": "y"
        },
        {
         "hovertemplate": "# week=3<br>cohort week=%{x}<br>retention, %=%{y}<extra></extra>",
         "legendgroup": "3",
         "line": {
          "color": "#FF7F0E",
          "dash": "solid"
         },
         "marker": {
          "symbol": "circle"
         },
         "mode": "lines",
         "name": "3",
         "orientation": "v",
         "showlegend": true,
         "type": "scatter",
         "x": [
          "2022-09-05",
          "2022-09-12",
          "2022-09-19",
          "2022-09-26",
          "2022-10-03",
          "2022-10-10",
          "2022-10-17",
          "2022-10-24",
          "2022-10-31",
          "2022-11-07",
          "2022-11-14",
          "2022-11-21",
          "2022-11-28",
          "2022-12-05",
          "2022-12-12",
          "2022-12-19",
          "2022-12-26",
          "2023-01-02",
          "2023-01-09",
          "2023-01-16",
          "2023-01-23",
          "2023-01-30",
          "2023-02-06",
          "2023-02-13",
          "2023-02-20",
          "2023-02-27",
          "2023-03-06",
          "2023-03-13",
          "2023-03-20",
          "2023-03-27",
          "2023-04-03",
          "2023-04-10",
          "2023-04-17",
          "2023-04-24",
          "2023-05-01",
          "2023-05-08",
          "2023-05-15",
          "2023-05-22",
          "2023-05-29",
          "2023-06-05",
          "2023-06-12",
          "2023-06-19",
          "2023-06-26",
          "2023-07-03",
          "2023-07-10",
          "2023-07-17",
          "2023-07-24",
          "2023-07-31",
          "2023-08-07",
          "2023-08-14",
          "2023-08-21"
         ],
         "xaxis": "x",
         "y": [
          28.391777509068923,
          28.523002421307506,
          27.79800922554018,
          28.756730298580518,
          30.566311713455953,
          28.60635696821516,
          28.654545454545456,
          28.784596871239472,
          28.74454677653902,
          27.866861030126337,
          29.058165003650522,
          28.021442495126706,
          33.27485380116959,
          34.347312463083284,
          35.393759286775634,
          40.65064478311841,
          43.034524530587525,
          42.32265788686022,
          42.60319373305212,
          40.903614457831324,
          41.257247482453465,
          40.330330330330334,
          42.18181818181818,
          43.28045495360671,
          41.56268568033274,
          43.10035842293907,
          43.932812047494934,
          43.945930399769914,
          44.14613894270689,
          43.12638580931264,
          44.52239611440907,
          44.57188583622299,
          44.68468468468468,
          45.91015320695923,
          45.67465321563682,
          45.95797280593325,
          46.13496932515337,
          45.51724137931034,
          45.97402597402598,
          45.5793392275477,
          46.898263027295286,
          46.785472591924204,
          48.275862068965516,
          46.83764399043686,
          47.36275565123789,
          47.64442549562993,
          49.23528179342133,
          48.706807366025245,
          48.10334221857699,
          null,
          null
         ],
         "yaxis": "y"
        },
        {
         "hovertemplate": "# week=5<br>cohort week=%{x}<br>retention, %=%{y}<extra></extra>",
         "legendgroup": "5",
         "line": {
          "color": "#2CA02C",
          "dash": "solid"
         },
         "marker": {
          "symbol": "circle"
         },
         "mode": "lines",
         "name": "5",
         "orientation": "v",
         "showlegend": true,
         "type": "scatter",
         "x": [
          "2022-09-05",
          "2022-09-12",
          "2022-09-19",
          "2022-09-26",
          "2022-10-03",
          "2022-10-10",
          "2022-10-17",
          "2022-10-24",
          "2022-10-31",
          "2022-11-07",
          "2022-11-14",
          "2022-11-21",
          "2022-11-28",
          "2022-12-05",
          "2022-12-12",
          "2022-12-19",
          "2022-12-26",
          "2023-01-02",
          "2023-01-09",
          "2023-01-16",
          "2023-01-23",
          "2023-01-30",
          "2023-02-06",
          "2023-02-13",
          "2023-02-20",
          "2023-02-27",
          "2023-03-06",
          "2023-03-13",
          "2023-03-20",
          "2023-03-27",
          "2023-04-03",
          "2023-04-10",
          "2023-04-17",
          "2023-04-24",
          "2023-05-01",
          "2023-05-08",
          "2023-05-15",
          "2023-05-22",
          "2023-05-29",
          "2023-06-05",
          "2023-06-12",
          "2023-06-19",
          "2023-06-26",
          "2023-07-03",
          "2023-07-10",
          "2023-07-17",
          "2023-07-24",
          "2023-07-31",
          "2023-08-07",
          "2023-08-14",
          "2023-08-21"
         ],
         "xaxis": "x",
         "y": [
          19.80652962515115,
          20.411622276029057,
          20.660354454964796,
          22.148800783162017,
          20.087124878993222,
          20.660146699266505,
          20.33939393939394,
          20.866425992779785,
          19.801260300533205,
          19.946550048590865,
          21.80579216354344,
          21.783625730994153,
          26.11111111111111,
          25.044300059066746,
          27.102526002971768,
          30.2168815943728,
          30.98122350090854,
          30.859024244238253,
          31.394998493522145,
          30.210843373493976,
          30.9429356118401,
          31.92192192192192,
          30.484848484848484,
          31.816821310984736,
          31.610219845513964,
          33.27359617682198,
          32.14596003475239,
          31.377624388840953,
          32.41073899806255,
          33.148558758314856,
          33.32433890987588,
          33.0221392371299,
          32.40669240669241,
          33.54972734354713,
          34.401008827238336,
          33.794808405438815,
          32.147239263803684,
          32.74673008323425,
          34.52184179456907,
          33.71335504885994,
          33.72434017595308,
          34.89736070381232,
          33.95225464190982,
          34.188219952184305,
          34.811625403659846,
          33.169899808143256,
          34.799916195265034,
          null,
          null,
          null,
          null
         ],
         "yaxis": "y"
        },
        {
         "hovertemplate": "# week=20<br>cohort week=%{x}<br>retention, %=%{y}<extra></extra>",
         "legendgroup": "20",
         "line": {
          "color": "#D62728",
          "dash": "solid"
         },
         "marker": {
          "symbol": "circle"
         },
         "mode": "lines",
         "name": "20",
         "orientation": "v",
         "showlegend": true,
         "type": "scatter",
         "x": [
          "2022-09-05",
          "2022-09-12",
          "2022-09-19",
          "2022-09-26",
          "2022-10-03",
          "2022-10-10",
          "2022-10-17",
          "2022-10-24",
          "2022-10-31",
          "2022-11-07",
          "2022-11-14",
          "2022-11-21",
          "2022-11-28",
          "2022-12-05",
          "2022-12-12",
          "2022-12-19",
          "2022-12-26",
          "2023-01-02",
          "2023-01-09",
          "2023-01-16",
          "2023-01-23",
          "2023-01-30",
          "2023-02-06",
          "2023-02-13",
          "2023-02-20",
          "2023-02-27",
          "2023-03-06",
          "2023-03-13",
          "2023-03-20",
          "2023-03-27",
          "2023-04-03",
          "2023-04-10",
          "2023-04-17",
          "2023-04-24",
          "2023-05-01",
          "2023-05-08",
          "2023-05-15",
          "2023-05-22",
          "2023-05-29",
          "2023-06-05",
          "2023-06-12",
          "2023-06-19",
          "2023-06-26",
          "2023-07-03",
          "2023-07-10",
          "2023-07-17",
          "2023-07-24",
          "2023-07-31",
          "2023-08-07",
          "2023-08-14",
          "2023-08-21"
         ],
         "xaxis": "x",
         "y": [
          12.091898428053204,
          12.5181598062954,
          11.240592376790483,
          12.139011257953989,
          12.294288480154888,
          12.34718826405868,
          12.436363636363636,
          12.178098676293622,
          12.336403296170625,
          12.17201166180758,
          12.338768556826478,
          13.03606237816764,
          15.497076023391813,
          14.087418783225043,
          15.690936106983655,
          19.695193434935522,
          18.382798304058145,
          20.263394193355282,
          19.433564326604397,
          20.06024096385542,
          19.346963686298444,
          18.82882882882883,
          20.151515151515152,
          19.634839868302905,
          19.221628045157455,
          17.77180406212664,
          19.548218940052127,
          18.2916307161346,
          18.627179629117077,
          17.79379157427938,
          17.781975175391256,
          17.578020805548146,
          null,
          null,
          null,
          null,
          null,
          null,
          null,
          null,
          null,
          null,
          null,
          null,
          null,
          null,
          null,
          null,
          null,
          null,
          null
         ],
         "yaxis": "y"
        }
       ],
       "layout": {
        "legend": {
         "title": {
          "text": "# week"
         },
         "tracegroupgap": 0
        },
        "template": {
         "data": {
          "bar": [
           {
            "error_x": {
             "color": "rgb(36,36,36)"
            },
            "error_y": {
             "color": "rgb(36,36,36)"
            },
            "marker": {
             "line": {
              "color": "white",
              "width": 0.5
             },
             "pattern": {
              "fillmode": "overlay",
              "size": 10,
              "solidity": 0.2
             }
            },
            "type": "bar"
           }
          ],
          "barpolar": [
           {
            "marker": {
             "line": {
              "color": "white",
              "width": 0.5
             },
             "pattern": {
              "fillmode": "overlay",
              "size": 10,
              "solidity": 0.2
             }
            },
            "type": "barpolar"
           }
          ],
          "carpet": [
           {
            "aaxis": {
             "endlinecolor": "rgb(36,36,36)",
             "gridcolor": "white",
             "linecolor": "white",
             "minorgridcolor": "white",
             "startlinecolor": "rgb(36,36,36)"
            },
            "baxis": {
             "endlinecolor": "rgb(36,36,36)",
             "gridcolor": "white",
             "linecolor": "white",
             "minorgridcolor": "white",
             "startlinecolor": "rgb(36,36,36)"
            },
            "type": "carpet"
           }
          ],
          "choropleth": [
           {
            "colorbar": {
             "outlinewidth": 1,
             "tickcolor": "rgb(36,36,36)",
             "ticks": "outside"
            },
            "type": "choropleth"
           }
          ],
          "contour": [
           {
            "colorbar": {
             "outlinewidth": 1,
             "tickcolor": "rgb(36,36,36)",
             "ticks": "outside"
            },
            "colorscale": [
             [
              0,
              "#440154"
             ],
             [
              0.1111111111111111,
              "#482878"
             ],
             [
              0.2222222222222222,
              "#3e4989"
             ],
             [
              0.3333333333333333,
              "#31688e"
             ],
             [
              0.4444444444444444,
              "#26828e"
             ],
             [
              0.5555555555555556,
              "#1f9e89"
             ],
             [
              0.6666666666666666,
              "#35b779"
             ],
             [
              0.7777777777777778,
              "#6ece58"
             ],
             [
              0.8888888888888888,
              "#b5de2b"
             ],
             [
              1,
              "#fde725"
             ]
            ],
            "type": "contour"
           }
          ],
          "contourcarpet": [
           {
            "colorbar": {
             "outlinewidth": 1,
             "tickcolor": "rgb(36,36,36)",
             "ticks": "outside"
            },
            "type": "contourcarpet"
           }
          ],
          "heatmap": [
           {
            "colorbar": {
             "outlinewidth": 1,
             "tickcolor": "rgb(36,36,36)",
             "ticks": "outside"
            },
            "colorscale": [
             [
              0,
              "#440154"
             ],
             [
              0.1111111111111111,
              "#482878"
             ],
             [
              0.2222222222222222,
              "#3e4989"
             ],
             [
              0.3333333333333333,
              "#31688e"
             ],
             [
              0.4444444444444444,
              "#26828e"
             ],
             [
              0.5555555555555556,
              "#1f9e89"
             ],
             [
              0.6666666666666666,
              "#35b779"
             ],
             [
              0.7777777777777778,
              "#6ece58"
             ],
             [
              0.8888888888888888,
              "#b5de2b"
             ],
             [
              1,
              "#fde725"
             ]
            ],
            "type": "heatmap"
           }
          ],
          "heatmapgl": [
           {
            "colorbar": {
             "outlinewidth": 1,
             "tickcolor": "rgb(36,36,36)",
             "ticks": "outside"
            },
            "colorscale": [
             [
              0,
              "#440154"
             ],
             [
              0.1111111111111111,
              "#482878"
             ],
             [
              0.2222222222222222,
              "#3e4989"
             ],
             [
              0.3333333333333333,
              "#31688e"
             ],
             [
              0.4444444444444444,
              "#26828e"
             ],
             [
              0.5555555555555556,
              "#1f9e89"
             ],
             [
              0.6666666666666666,
              "#35b779"
             ],
             [
              0.7777777777777778,
              "#6ece58"
             ],
             [
              0.8888888888888888,
              "#b5de2b"
             ],
             [
              1,
              "#fde725"
             ]
            ],
            "type": "heatmapgl"
           }
          ],
          "histogram": [
           {
            "marker": {
             "line": {
              "color": "white",
              "width": 0.6
             }
            },
            "type": "histogram"
           }
          ],
          "histogram2d": [
           {
            "colorbar": {
             "outlinewidth": 1,
             "tickcolor": "rgb(36,36,36)",
             "ticks": "outside"
            },
            "colorscale": [
             [
              0,
              "#440154"
             ],
             [
              0.1111111111111111,
              "#482878"
             ],
             [
              0.2222222222222222,
              "#3e4989"
             ],
             [
              0.3333333333333333,
              "#31688e"
             ],
             [
              0.4444444444444444,
              "#26828e"
             ],
             [
              0.5555555555555556,
              "#1f9e89"
             ],
             [
              0.6666666666666666,
              "#35b779"
             ],
             [
              0.7777777777777778,
              "#6ece58"
             ],
             [
              0.8888888888888888,
              "#b5de2b"
             ],
             [
              1,
              "#fde725"
             ]
            ],
            "type": "histogram2d"
           }
          ],
          "histogram2dcontour": [
           {
            "colorbar": {
             "outlinewidth": 1,
             "tickcolor": "rgb(36,36,36)",
             "ticks": "outside"
            },
            "colorscale": [
             [
              0,
              "#440154"
             ],
             [
              0.1111111111111111,
              "#482878"
             ],
             [
              0.2222222222222222,
              "#3e4989"
             ],
             [
              0.3333333333333333,
              "#31688e"
             ],
             [
              0.4444444444444444,
              "#26828e"
             ],
             [
              0.5555555555555556,
              "#1f9e89"
             ],
             [
              0.6666666666666666,
              "#35b779"
             ],
             [
              0.7777777777777778,
              "#6ece58"
             ],
             [
              0.8888888888888888,
              "#b5de2b"
             ],
             [
              1,
              "#fde725"
             ]
            ],
            "type": "histogram2dcontour"
           }
          ],
          "mesh3d": [
           {
            "colorbar": {
             "outlinewidth": 1,
             "tickcolor": "rgb(36,36,36)",
             "ticks": "outside"
            },
            "type": "mesh3d"
           }
          ],
          "parcoords": [
           {
            "line": {
             "colorbar": {
              "outlinewidth": 1,
              "tickcolor": "rgb(36,36,36)",
              "ticks": "outside"
             }
            },
            "type": "parcoords"
           }
          ],
          "pie": [
           {
            "automargin": true,
            "type": "pie"
           }
          ],
          "scatter": [
           {
            "fillpattern": {
             "fillmode": "overlay",
             "size": 10,
             "solidity": 0.2
            },
            "type": "scatter"
           }
          ],
          "scatter3d": [
           {
            "line": {
             "colorbar": {
              "outlinewidth": 1,
              "tickcolor": "rgb(36,36,36)",
              "ticks": "outside"
             }
            },
            "marker": {
             "colorbar": {
              "outlinewidth": 1,
              "tickcolor": "rgb(36,36,36)",
              "ticks": "outside"
             }
            },
            "type": "scatter3d"
           }
          ],
          "scattercarpet": [
           {
            "marker": {
             "colorbar": {
              "outlinewidth": 1,
              "tickcolor": "rgb(36,36,36)",
              "ticks": "outside"
             }
            },
            "type": "scattercarpet"
           }
          ],
          "scattergeo": [
           {
            "marker": {
             "colorbar": {
              "outlinewidth": 1,
              "tickcolor": "rgb(36,36,36)",
              "ticks": "outside"
             }
            },
            "type": "scattergeo"
           }
          ],
          "scattergl": [
           {
            "marker": {
             "colorbar": {
              "outlinewidth": 1,
              "tickcolor": "rgb(36,36,36)",
              "ticks": "outside"
             }
            },
            "type": "scattergl"
           }
          ],
          "scattermapbox": [
           {
            "marker": {
             "colorbar": {
              "outlinewidth": 1,
              "tickcolor": "rgb(36,36,36)",
              "ticks": "outside"
             }
            },
            "type": "scattermapbox"
           }
          ],
          "scatterpolar": [
           {
            "marker": {
             "colorbar": {
              "outlinewidth": 1,
              "tickcolor": "rgb(36,36,36)",
              "ticks": "outside"
             }
            },
            "type": "scatterpolar"
           }
          ],
          "scatterpolargl": [
           {
            "marker": {
             "colorbar": {
              "outlinewidth": 1,
              "tickcolor": "rgb(36,36,36)",
              "ticks": "outside"
             }
            },
            "type": "scatterpolargl"
           }
          ],
          "scatterternary": [
           {
            "marker": {
             "colorbar": {
              "outlinewidth": 1,
              "tickcolor": "rgb(36,36,36)",
              "ticks": "outside"
             }
            },
            "type": "scatterternary"
           }
          ],
          "surface": [
           {
            "colorbar": {
             "outlinewidth": 1,
             "tickcolor": "rgb(36,36,36)",
             "ticks": "outside"
            },
            "colorscale": [
             [
              0,
              "#440154"
             ],
             [
              0.1111111111111111,
              "#482878"
             ],
             [
              0.2222222222222222,
              "#3e4989"
             ],
             [
              0.3333333333333333,
              "#31688e"
             ],
             [
              0.4444444444444444,
              "#26828e"
             ],
             [
              0.5555555555555556,
              "#1f9e89"
             ],
             [
              0.6666666666666666,
              "#35b779"
             ],
             [
              0.7777777777777778,
              "#6ece58"
             ],
             [
              0.8888888888888888,
              "#b5de2b"
             ],
             [
              1,
              "#fde725"
             ]
            ],
            "type": "surface"
           }
          ],
          "table": [
           {
            "cells": {
             "fill": {
              "color": "rgb(237,237,237)"
             },
             "line": {
              "color": "white"
             }
            },
            "header": {
             "fill": {
              "color": "rgb(217,217,217)"
             },
             "line": {
              "color": "white"
             }
            },
            "type": "table"
           }
          ]
         },
         "layout": {
          "annotationdefaults": {
           "arrowhead": 0,
           "arrowwidth": 1
          },
          "autotypenumbers": "strict",
          "coloraxis": {
           "colorbar": {
            "outlinewidth": 1,
            "tickcolor": "rgb(36,36,36)",
            "ticks": "outside"
           }
          },
          "colorscale": {
           "diverging": [
            [
             0,
             "rgb(103,0,31)"
            ],
            [
             0.1,
             "rgb(178,24,43)"
            ],
            [
             0.2,
             "rgb(214,96,77)"
            ],
            [
             0.3,
             "rgb(244,165,130)"
            ],
            [
             0.4,
             "rgb(253,219,199)"
            ],
            [
             0.5,
             "rgb(247,247,247)"
            ],
            [
             0.6,
             "rgb(209,229,240)"
            ],
            [
             0.7,
             "rgb(146,197,222)"
            ],
            [
             0.8,
             "rgb(67,147,195)"
            ],
            [
             0.9,
             "rgb(33,102,172)"
            ],
            [
             1,
             "rgb(5,48,97)"
            ]
           ],
           "sequential": [
            [
             0,
             "#440154"
            ],
            [
             0.1111111111111111,
             "#482878"
            ],
            [
             0.2222222222222222,
             "#3e4989"
            ],
            [
             0.3333333333333333,
             "#31688e"
            ],
            [
             0.4444444444444444,
             "#26828e"
            ],
            [
             0.5555555555555556,
             "#1f9e89"
            ],
            [
             0.6666666666666666,
             "#35b779"
            ],
            [
             0.7777777777777778,
             "#6ece58"
            ],
            [
             0.8888888888888888,
             "#b5de2b"
            ],
            [
             1,
             "#fde725"
            ]
           ],
           "sequentialminus": [
            [
             0,
             "#440154"
            ],
            [
             0.1111111111111111,
             "#482878"
            ],
            [
             0.2222222222222222,
             "#3e4989"
            ],
            [
             0.3333333333333333,
             "#31688e"
            ],
            [
             0.4444444444444444,
             "#26828e"
            ],
            [
             0.5555555555555556,
             "#1f9e89"
            ],
            [
             0.6666666666666666,
             "#35b779"
            ],
            [
             0.7777777777777778,
             "#6ece58"
            ],
            [
             0.8888888888888888,
             "#b5de2b"
            ],
            [
             1,
             "#fde725"
            ]
           ]
          },
          "colorway": [
           "#1F77B4",
           "#FF7F0E",
           "#2CA02C",
           "#D62728",
           "#9467BD",
           "#8C564B",
           "#E377C2",
           "#7F7F7F",
           "#BCBD22",
           "#17BECF"
          ],
          "font": {
           "color": "rgb(36,36,36)"
          },
          "geo": {
           "bgcolor": "white",
           "lakecolor": "white",
           "landcolor": "white",
           "showlakes": true,
           "showland": true,
           "subunitcolor": "white"
          },
          "hoverlabel": {
           "align": "left"
          },
          "hovermode": "closest",
          "mapbox": {
           "style": "light"
          },
          "paper_bgcolor": "white",
          "plot_bgcolor": "white",
          "polar": {
           "angularaxis": {
            "gridcolor": "rgb(232,232,232)",
            "linecolor": "rgb(36,36,36)",
            "showgrid": false,
            "showline": true,
            "ticks": "outside"
           },
           "bgcolor": "white",
           "radialaxis": {
            "gridcolor": "rgb(232,232,232)",
            "linecolor": "rgb(36,36,36)",
            "showgrid": false,
            "showline": true,
            "ticks": "outside"
           }
          },
          "scene": {
           "xaxis": {
            "backgroundcolor": "white",
            "gridcolor": "rgb(232,232,232)",
            "gridwidth": 2,
            "linecolor": "rgb(36,36,36)",
            "showbackground": true,
            "showgrid": false,
            "showline": true,
            "ticks": "outside",
            "zeroline": false,
            "zerolinecolor": "rgb(36,36,36)"
           },
           "yaxis": {
            "backgroundcolor": "white",
            "gridcolor": "rgb(232,232,232)",
            "gridwidth": 2,
            "linecolor": "rgb(36,36,36)",
            "showbackground": true,
            "showgrid": false,
            "showline": true,
            "ticks": "outside",
            "zeroline": false,
            "zerolinecolor": "rgb(36,36,36)"
           },
           "zaxis": {
            "backgroundcolor": "white",
            "gridcolor": "rgb(232,232,232)",
            "gridwidth": 2,
            "linecolor": "rgb(36,36,36)",
            "showbackground": true,
            "showgrid": false,
            "showline": true,
            "ticks": "outside",
            "zeroline": false,
            "zerolinecolor": "rgb(36,36,36)"
           }
          },
          "shapedefaults": {
           "fillcolor": "black",
           "line": {
            "width": 0
           },
           "opacity": 0.3
          },
          "ternary": {
           "aaxis": {
            "gridcolor": "rgb(232,232,232)",
            "linecolor": "rgb(36,36,36)",
            "showgrid": false,
            "showline": true,
            "ticks": "outside"
           },
           "baxis": {
            "gridcolor": "rgb(232,232,232)",
            "linecolor": "rgb(36,36,36)",
            "showgrid": false,
            "showline": true,
            "ticks": "outside"
           },
           "bgcolor": "white",
           "caxis": {
            "gridcolor": "rgb(232,232,232)",
            "linecolor": "rgb(36,36,36)",
            "showgrid": false,
            "showline": true,
            "ticks": "outside"
           }
          },
          "title": {
           "x": 0.05
          },
          "xaxis": {
           "automargin": true,
           "gridcolor": "rgb(232,232,232)",
           "linecolor": "rgb(36,36,36)",
           "showgrid": false,
           "showline": true,
           "ticks": "outside",
           "title": {
            "standoff": 15
           },
           "zeroline": false,
           "zerolinecolor": "rgb(36,36,36)"
          },
          "yaxis": {
           "automargin": true,
           "gridcolor": "rgb(232,232,232)",
           "linecolor": "rgb(36,36,36)",
           "showgrid": false,
           "showline": true,
           "ticks": "outside",
           "title": {
            "standoff": 15
           },
           "zeroline": false,
           "zerolinecolor": "rgb(36,36,36)"
          }
         }
        },
        "title": {
         "text": "Monitoring retention"
        },
        "xaxis": {
         "anchor": "y",
         "domain": [
          0,
          1
         ],
         "title": {
          "text": "cohort week"
         }
        },
        "yaxis": {
         "anchor": "x",
         "domain": [
          0,
          1
         ],
         "title": {
          "text": "retention, %"
         }
        }
       }
      },
      "text/html": [
       "<div>                            <div id=\"150b5ea9-0763-4f5b-9ade-194b137be049\" class=\"plotly-graph-div\" style=\"height:525px; width:100%;\"></div>            <script type=\"text/javascript\">                require([\"plotly\"], function(Plotly) {                    window.PLOTLYENV=window.PLOTLYENV || {};                                    if (document.getElementById(\"150b5ea9-0763-4f5b-9ade-194b137be049\")) {                    Plotly.newPlot(                        \"150b5ea9-0763-4f5b-9ade-194b137be049\",                        [{\"hovertemplate\":\"# week=1<br>cohort week=%{x}<br>retention, %=%{y}<extra></extra>\",\"legendgroup\":\"1\",\"line\":{\"color\":\"#1F77B4\",\"dash\":\"solid\"},\"marker\":{\"symbol\":\"circle\"},\"mode\":\"lines\",\"name\":\"1\",\"orientation\":\"v\",\"showlegend\":true,\"x\":[\"2022-09-05\",\"2022-09-12\",\"2022-09-19\",\"2022-09-26\",\"2022-10-03\",\"2022-10-10\",\"2022-10-17\",\"2022-10-24\",\"2022-10-31\",\"2022-11-07\",\"2022-11-14\",\"2022-11-21\",\"2022-11-28\",\"2022-12-05\",\"2022-12-12\",\"2022-12-19\",\"2022-12-26\",\"2023-01-02\",\"2023-01-09\",\"2023-01-16\",\"2023-01-23\",\"2023-01-30\",\"2023-02-06\",\"2023-02-13\",\"2023-02-20\",\"2023-02-27\",\"2023-03-06\",\"2023-03-13\",\"2023-03-20\",\"2023-03-27\",\"2023-04-03\",\"2023-04-10\",\"2023-04-17\",\"2023-04-24\",\"2023-05-01\",\"2023-05-08\",\"2023-05-15\",\"2023-05-22\",\"2023-05-29\",\"2023-06-05\",\"2023-06-12\",\"2023-06-19\",\"2023-06-26\",\"2023-07-03\",\"2023-07-10\",\"2023-07-17\",\"2023-07-24\",\"2023-07-31\",\"2023-08-07\",\"2023-08-14\",\"2023-08-21\"],\"xaxis\":\"x\",\"y\":[64.69165659008465,63.82566585956417,64.60305899490167,65.29613313754282,65.15004840271055,64.59657701711491,65.4060606060606,65.67990373044525,65.60833737275811,64.67444120505345,64.15186176685324,65.30214424951266,70.99415204678363,72.41582988777319,72.36255572065379,78.42907385697538,78.74015748031496,79.01825800658486,80.0241036456764,79.75903614457832,78.9136405248703,77.44744744744744,78.60606060606061,78.9583956899132,81.07546048722519,79.03225806451613,80.33593976252534,80.73051481161922,81.26210905065042,81.06984478935698,81.62439287641662,83.27554014403842,82.47104247104247,82.18644507920021,82.44640605296343,83.0902348578492,82.920245398773,82.73483947681332,83.02243211334121,83.7598883201489,83.66794495826754,83.48748026167381,84.83642793987622,84.41643121060639,85.70505920344456,85.12044340225965,85.58558558558559,85.0610386923236,86.03649784703711,84.84540276647681,85.74605742013749],\"yaxis\":\"y\",\"type\":\"scatter\"},{\"hovertemplate\":\"# week=3<br>cohort week=%{x}<br>retention, %=%{y}<extra></extra>\",\"legendgroup\":\"3\",\"line\":{\"color\":\"#FF7F0E\",\"dash\":\"solid\"},\"marker\":{\"symbol\":\"circle\"},\"mode\":\"lines\",\"name\":\"3\",\"orientation\":\"v\",\"showlegend\":true,\"x\":[\"2022-09-05\",\"2022-09-12\",\"2022-09-19\",\"2022-09-26\",\"2022-10-03\",\"2022-10-10\",\"2022-10-17\",\"2022-10-24\",\"2022-10-31\",\"2022-11-07\",\"2022-11-14\",\"2022-11-21\",\"2022-11-28\",\"2022-12-05\",\"2022-12-12\",\"2022-12-19\",\"2022-12-26\",\"2023-01-02\",\"2023-01-09\",\"2023-01-16\",\"2023-01-23\",\"2023-01-30\",\"2023-02-06\",\"2023-02-13\",\"2023-02-20\",\"2023-02-27\",\"2023-03-06\",\"2023-03-13\",\"2023-03-20\",\"2023-03-27\",\"2023-04-03\",\"2023-04-10\",\"2023-04-17\",\"2023-04-24\",\"2023-05-01\",\"2023-05-08\",\"2023-05-15\",\"2023-05-22\",\"2023-05-29\",\"2023-06-05\",\"2023-06-12\",\"2023-06-19\",\"2023-06-26\",\"2023-07-03\",\"2023-07-10\",\"2023-07-17\",\"2023-07-24\",\"2023-07-31\",\"2023-08-07\",\"2023-08-14\",\"2023-08-21\"],\"xaxis\":\"x\",\"y\":[28.391777509068923,28.523002421307506,27.79800922554018,28.756730298580518,30.566311713455953,28.60635696821516,28.654545454545456,28.784596871239472,28.74454677653902,27.866861030126337,29.058165003650522,28.021442495126706,33.27485380116959,34.347312463083284,35.393759286775634,40.65064478311841,43.034524530587525,42.32265788686022,42.60319373305212,40.903614457831324,41.257247482453465,40.330330330330334,42.18181818181818,43.28045495360671,41.56268568033274,43.10035842293907,43.932812047494934,43.945930399769914,44.14613894270689,43.12638580931264,44.52239611440907,44.57188583622299,44.68468468468468,45.91015320695923,45.67465321563682,45.95797280593325,46.13496932515337,45.51724137931034,45.97402597402598,45.5793392275477,46.898263027295286,46.785472591924204,48.275862068965516,46.83764399043686,47.36275565123789,47.64442549562993,49.23528179342133,48.706807366025245,48.10334221857699,null,null],\"yaxis\":\"y\",\"type\":\"scatter\"},{\"hovertemplate\":\"# week=5<br>cohort week=%{x}<br>retention, %=%{y}<extra></extra>\",\"legendgroup\":\"5\",\"line\":{\"color\":\"#2CA02C\",\"dash\":\"solid\"},\"marker\":{\"symbol\":\"circle\"},\"mode\":\"lines\",\"name\":\"5\",\"orientation\":\"v\",\"showlegend\":true,\"x\":[\"2022-09-05\",\"2022-09-12\",\"2022-09-19\",\"2022-09-26\",\"2022-10-03\",\"2022-10-10\",\"2022-10-17\",\"2022-10-24\",\"2022-10-31\",\"2022-11-07\",\"2022-11-14\",\"2022-11-21\",\"2022-11-28\",\"2022-12-05\",\"2022-12-12\",\"2022-12-19\",\"2022-12-26\",\"2023-01-02\",\"2023-01-09\",\"2023-01-16\",\"2023-01-23\",\"2023-01-30\",\"2023-02-06\",\"2023-02-13\",\"2023-02-20\",\"2023-02-27\",\"2023-03-06\",\"2023-03-13\",\"2023-03-20\",\"2023-03-27\",\"2023-04-03\",\"2023-04-10\",\"2023-04-17\",\"2023-04-24\",\"2023-05-01\",\"2023-05-08\",\"2023-05-15\",\"2023-05-22\",\"2023-05-29\",\"2023-06-05\",\"2023-06-12\",\"2023-06-19\",\"2023-06-26\",\"2023-07-03\",\"2023-07-10\",\"2023-07-17\",\"2023-07-24\",\"2023-07-31\",\"2023-08-07\",\"2023-08-14\",\"2023-08-21\"],\"xaxis\":\"x\",\"y\":[19.80652962515115,20.411622276029057,20.660354454964796,22.148800783162017,20.087124878993222,20.660146699266505,20.33939393939394,20.866425992779785,19.801260300533205,19.946550048590865,21.80579216354344,21.783625730994153,26.11111111111111,25.044300059066746,27.102526002971768,30.2168815943728,30.98122350090854,30.859024244238253,31.394998493522145,30.210843373493976,30.9429356118401,31.92192192192192,30.484848484848484,31.816821310984736,31.610219845513964,33.27359617682198,32.14596003475239,31.377624388840953,32.41073899806255,33.148558758314856,33.32433890987588,33.0221392371299,32.40669240669241,33.54972734354713,34.401008827238336,33.794808405438815,32.147239263803684,32.74673008323425,34.52184179456907,33.71335504885994,33.72434017595308,34.89736070381232,33.95225464190982,34.188219952184305,34.811625403659846,33.169899808143256,34.799916195265034,null,null,null,null],\"yaxis\":\"y\",\"type\":\"scatter\"},{\"hovertemplate\":\"# week=20<br>cohort week=%{x}<br>retention, %=%{y}<extra></extra>\",\"legendgroup\":\"20\",\"line\":{\"color\":\"#D62728\",\"dash\":\"solid\"},\"marker\":{\"symbol\":\"circle\"},\"mode\":\"lines\",\"name\":\"20\",\"orientation\":\"v\",\"showlegend\":true,\"x\":[\"2022-09-05\",\"2022-09-12\",\"2022-09-19\",\"2022-09-26\",\"2022-10-03\",\"2022-10-10\",\"2022-10-17\",\"2022-10-24\",\"2022-10-31\",\"2022-11-07\",\"2022-11-14\",\"2022-11-21\",\"2022-11-28\",\"2022-12-05\",\"2022-12-12\",\"2022-12-19\",\"2022-12-26\",\"2023-01-02\",\"2023-01-09\",\"2023-01-16\",\"2023-01-23\",\"2023-01-30\",\"2023-02-06\",\"2023-02-13\",\"2023-02-20\",\"2023-02-27\",\"2023-03-06\",\"2023-03-13\",\"2023-03-20\",\"2023-03-27\",\"2023-04-03\",\"2023-04-10\",\"2023-04-17\",\"2023-04-24\",\"2023-05-01\",\"2023-05-08\",\"2023-05-15\",\"2023-05-22\",\"2023-05-29\",\"2023-06-05\",\"2023-06-12\",\"2023-06-19\",\"2023-06-26\",\"2023-07-03\",\"2023-07-10\",\"2023-07-17\",\"2023-07-24\",\"2023-07-31\",\"2023-08-07\",\"2023-08-14\",\"2023-08-21\"],\"xaxis\":\"x\",\"y\":[12.091898428053204,12.5181598062954,11.240592376790483,12.139011257953989,12.294288480154888,12.34718826405868,12.436363636363636,12.178098676293622,12.336403296170625,12.17201166180758,12.338768556826478,13.03606237816764,15.497076023391813,14.087418783225043,15.690936106983655,19.695193434935522,18.382798304058145,20.263394193355282,19.433564326604397,20.06024096385542,19.346963686298444,18.82882882882883,20.151515151515152,19.634839868302905,19.221628045157455,17.77180406212664,19.548218940052127,18.2916307161346,18.627179629117077,17.79379157427938,17.781975175391256,17.578020805548146,null,null,null,null,null,null,null,null,null,null,null,null,null,null,null,null,null,null,null],\"yaxis\":\"y\",\"type\":\"scatter\"}],                        {\"template\":{\"data\":{\"histogram2dcontour\":[{\"type\":\"histogram2dcontour\",\"colorbar\":{\"outlinewidth\":1,\"tickcolor\":\"rgb(36,36,36)\",\"ticks\":\"outside\"},\"colorscale\":[[0.0,\"#440154\"],[0.1111111111111111,\"#482878\"],[0.2222222222222222,\"#3e4989\"],[0.3333333333333333,\"#31688e\"],[0.4444444444444444,\"#26828e\"],[0.5555555555555556,\"#1f9e89\"],[0.6666666666666666,\"#35b779\"],[0.7777777777777778,\"#6ece58\"],[0.8888888888888888,\"#b5de2b\"],[1.0,\"#fde725\"]]}],\"choropleth\":[{\"type\":\"choropleth\",\"colorbar\":{\"outlinewidth\":1,\"tickcolor\":\"rgb(36,36,36)\",\"ticks\":\"outside\"}}],\"histogram2d\":[{\"type\":\"histogram2d\",\"colorbar\":{\"outlinewidth\":1,\"tickcolor\":\"rgb(36,36,36)\",\"ticks\":\"outside\"},\"colorscale\":[[0.0,\"#440154\"],[0.1111111111111111,\"#482878\"],[0.2222222222222222,\"#3e4989\"],[0.3333333333333333,\"#31688e\"],[0.4444444444444444,\"#26828e\"],[0.5555555555555556,\"#1f9e89\"],[0.6666666666666666,\"#35b779\"],[0.7777777777777778,\"#6ece58\"],[0.8888888888888888,\"#b5de2b\"],[1.0,\"#fde725\"]]}],\"heatmap\":[{\"type\":\"heatmap\",\"colorbar\":{\"outlinewidth\":1,\"tickcolor\":\"rgb(36,36,36)\",\"ticks\":\"outside\"},\"colorscale\":[[0.0,\"#440154\"],[0.1111111111111111,\"#482878\"],[0.2222222222222222,\"#3e4989\"],[0.3333333333333333,\"#31688e\"],[0.4444444444444444,\"#26828e\"],[0.5555555555555556,\"#1f9e89\"],[0.6666666666666666,\"#35b779\"],[0.7777777777777778,\"#6ece58\"],[0.8888888888888888,\"#b5de2b\"],[1.0,\"#fde725\"]]}],\"heatmapgl\":[{\"type\":\"heatmapgl\",\"colorbar\":{\"outlinewidth\":1,\"tickcolor\":\"rgb(36,36,36)\",\"ticks\":\"outside\"},\"colorscale\":[[0.0,\"#440154\"],[0.1111111111111111,\"#482878\"],[0.2222222222222222,\"#3e4989\"],[0.3333333333333333,\"#31688e\"],[0.4444444444444444,\"#26828e\"],[0.5555555555555556,\"#1f9e89\"],[0.6666666666666666,\"#35b779\"],[0.7777777777777778,\"#6ece58\"],[0.8888888888888888,\"#b5de2b\"],[1.0,\"#fde725\"]]}],\"contourcarpet\":[{\"type\":\"contourcarpet\",\"colorbar\":{\"outlinewidth\":1,\"tickcolor\":\"rgb(36,36,36)\",\"ticks\":\"outside\"}}],\"contour\":[{\"type\":\"contour\",\"colorbar\":{\"outlinewidth\":1,\"tickcolor\":\"rgb(36,36,36)\",\"ticks\":\"outside\"},\"colorscale\":[[0.0,\"#440154\"],[0.1111111111111111,\"#482878\"],[0.2222222222222222,\"#3e4989\"],[0.3333333333333333,\"#31688e\"],[0.4444444444444444,\"#26828e\"],[0.5555555555555556,\"#1f9e89\"],[0.6666666666666666,\"#35b779\"],[0.7777777777777778,\"#6ece58\"],[0.8888888888888888,\"#b5de2b\"],[1.0,\"#fde725\"]]}],\"surface\":[{\"type\":\"surface\",\"colorbar\":{\"outlinewidth\":1,\"tickcolor\":\"rgb(36,36,36)\",\"ticks\":\"outside\"},\"colorscale\":[[0.0,\"#440154\"],[0.1111111111111111,\"#482878\"],[0.2222222222222222,\"#3e4989\"],[0.3333333333333333,\"#31688e\"],[0.4444444444444444,\"#26828e\"],[0.5555555555555556,\"#1f9e89\"],[0.6666666666666666,\"#35b779\"],[0.7777777777777778,\"#6ece58\"],[0.8888888888888888,\"#b5de2b\"],[1.0,\"#fde725\"]]}],\"mesh3d\":[{\"type\":\"mesh3d\",\"colorbar\":{\"outlinewidth\":1,\"tickcolor\":\"rgb(36,36,36)\",\"ticks\":\"outside\"}}],\"scatter\":[{\"fillpattern\":{\"fillmode\":\"overlay\",\"size\":10,\"solidity\":0.2},\"type\":\"scatter\"}],\"parcoords\":[{\"type\":\"parcoords\",\"line\":{\"colorbar\":{\"outlinewidth\":1,\"tickcolor\":\"rgb(36,36,36)\",\"ticks\":\"outside\"}}}],\"scatterpolargl\":[{\"type\":\"scatterpolargl\",\"marker\":{\"colorbar\":{\"outlinewidth\":1,\"tickcolor\":\"rgb(36,36,36)\",\"ticks\":\"outside\"}}}],\"bar\":[{\"error_x\":{\"color\":\"rgb(36,36,36)\"},\"error_y\":{\"color\":\"rgb(36,36,36)\"},\"marker\":{\"line\":{\"color\":\"white\",\"width\":0.5},\"pattern\":{\"fillmode\":\"overlay\",\"size\":10,\"solidity\":0.2}},\"type\":\"bar\"}],\"scattergeo\":[{\"type\":\"scattergeo\",\"marker\":{\"colorbar\":{\"outlinewidth\":1,\"tickcolor\":\"rgb(36,36,36)\",\"ticks\":\"outside\"}}}],\"scatterpolar\":[{\"type\":\"scatterpolar\",\"marker\":{\"colorbar\":{\"outlinewidth\":1,\"tickcolor\":\"rgb(36,36,36)\",\"ticks\":\"outside\"}}}],\"histogram\":[{\"marker\":{\"line\":{\"color\":\"white\",\"width\":0.6}},\"type\":\"histogram\"}],\"scattergl\":[{\"type\":\"scattergl\",\"marker\":{\"colorbar\":{\"outlinewidth\":1,\"tickcolor\":\"rgb(36,36,36)\",\"ticks\":\"outside\"}}}],\"scatter3d\":[{\"type\":\"scatter3d\",\"line\":{\"colorbar\":{\"outlinewidth\":1,\"tickcolor\":\"rgb(36,36,36)\",\"ticks\":\"outside\"}},\"marker\":{\"colorbar\":{\"outlinewidth\":1,\"tickcolor\":\"rgb(36,36,36)\",\"ticks\":\"outside\"}}}],\"scattermapbox\":[{\"type\":\"scattermapbox\",\"marker\":{\"colorbar\":{\"outlinewidth\":1,\"tickcolor\":\"rgb(36,36,36)\",\"ticks\":\"outside\"}}}],\"scatterternary\":[{\"type\":\"scatterternary\",\"marker\":{\"colorbar\":{\"outlinewidth\":1,\"tickcolor\":\"rgb(36,36,36)\",\"ticks\":\"outside\"}}}],\"scattercarpet\":[{\"type\":\"scattercarpet\",\"marker\":{\"colorbar\":{\"outlinewidth\":1,\"tickcolor\":\"rgb(36,36,36)\",\"ticks\":\"outside\"}}}],\"carpet\":[{\"aaxis\":{\"endlinecolor\":\"rgb(36,36,36)\",\"gridcolor\":\"white\",\"linecolor\":\"white\",\"minorgridcolor\":\"white\",\"startlinecolor\":\"rgb(36,36,36)\"},\"baxis\":{\"endlinecolor\":\"rgb(36,36,36)\",\"gridcolor\":\"white\",\"linecolor\":\"white\",\"minorgridcolor\":\"white\",\"startlinecolor\":\"rgb(36,36,36)\"},\"type\":\"carpet\"}],\"table\":[{\"cells\":{\"fill\":{\"color\":\"rgb(237,237,237)\"},\"line\":{\"color\":\"white\"}},\"header\":{\"fill\":{\"color\":\"rgb(217,217,217)\"},\"line\":{\"color\":\"white\"}},\"type\":\"table\"}],\"barpolar\":[{\"marker\":{\"line\":{\"color\":\"white\",\"width\":0.5},\"pattern\":{\"fillmode\":\"overlay\",\"size\":10,\"solidity\":0.2}},\"type\":\"barpolar\"}],\"pie\":[{\"automargin\":true,\"type\":\"pie\"}]},\"layout\":{\"autotypenumbers\":\"strict\",\"colorway\":[\"#1F77B4\",\"#FF7F0E\",\"#2CA02C\",\"#D62728\",\"#9467BD\",\"#8C564B\",\"#E377C2\",\"#7F7F7F\",\"#BCBD22\",\"#17BECF\"],\"font\":{\"color\":\"rgb(36,36,36)\"},\"hovermode\":\"closest\",\"hoverlabel\":{\"align\":\"left\"},\"paper_bgcolor\":\"white\",\"plot_bgcolor\":\"white\",\"polar\":{\"bgcolor\":\"white\",\"angularaxis\":{\"gridcolor\":\"rgb(232,232,232)\",\"linecolor\":\"rgb(36,36,36)\",\"showgrid\":false,\"showline\":true,\"ticks\":\"outside\"},\"radialaxis\":{\"gridcolor\":\"rgb(232,232,232)\",\"linecolor\":\"rgb(36,36,36)\",\"showgrid\":false,\"showline\":true,\"ticks\":\"outside\"}},\"ternary\":{\"bgcolor\":\"white\",\"aaxis\":{\"gridcolor\":\"rgb(232,232,232)\",\"linecolor\":\"rgb(36,36,36)\",\"showgrid\":false,\"showline\":true,\"ticks\":\"outside\"},\"baxis\":{\"gridcolor\":\"rgb(232,232,232)\",\"linecolor\":\"rgb(36,36,36)\",\"showgrid\":false,\"showline\":true,\"ticks\":\"outside\"},\"caxis\":{\"gridcolor\":\"rgb(232,232,232)\",\"linecolor\":\"rgb(36,36,36)\",\"showgrid\":false,\"showline\":true,\"ticks\":\"outside\"}},\"coloraxis\":{\"colorbar\":{\"outlinewidth\":1,\"tickcolor\":\"rgb(36,36,36)\",\"ticks\":\"outside\"}},\"colorscale\":{\"sequential\":[[0.0,\"#440154\"],[0.1111111111111111,\"#482878\"],[0.2222222222222222,\"#3e4989\"],[0.3333333333333333,\"#31688e\"],[0.4444444444444444,\"#26828e\"],[0.5555555555555556,\"#1f9e89\"],[0.6666666666666666,\"#35b779\"],[0.7777777777777778,\"#6ece58\"],[0.8888888888888888,\"#b5de2b\"],[1.0,\"#fde725\"]],\"sequentialminus\":[[0.0,\"#440154\"],[0.1111111111111111,\"#482878\"],[0.2222222222222222,\"#3e4989\"],[0.3333333333333333,\"#31688e\"],[0.4444444444444444,\"#26828e\"],[0.5555555555555556,\"#1f9e89\"],[0.6666666666666666,\"#35b779\"],[0.7777777777777778,\"#6ece58\"],[0.8888888888888888,\"#b5de2b\"],[1.0,\"#fde725\"]],\"diverging\":[[0.0,\"rgb(103,0,31)\"],[0.1,\"rgb(178,24,43)\"],[0.2,\"rgb(214,96,77)\"],[0.3,\"rgb(244,165,130)\"],[0.4,\"rgb(253,219,199)\"],[0.5,\"rgb(247,247,247)\"],[0.6,\"rgb(209,229,240)\"],[0.7,\"rgb(146,197,222)\"],[0.8,\"rgb(67,147,195)\"],[0.9,\"rgb(33,102,172)\"],[1.0,\"rgb(5,48,97)\"]]},\"xaxis\":{\"gridcolor\":\"rgb(232,232,232)\",\"linecolor\":\"rgb(36,36,36)\",\"showgrid\":false,\"showline\":true,\"ticks\":\"outside\",\"title\":{\"standoff\":15},\"zerolinecolor\":\"rgb(36,36,36)\",\"automargin\":true,\"zeroline\":false},\"yaxis\":{\"gridcolor\":\"rgb(232,232,232)\",\"linecolor\":\"rgb(36,36,36)\",\"showgrid\":false,\"showline\":true,\"ticks\":\"outside\",\"title\":{\"standoff\":15},\"zerolinecolor\":\"rgb(36,36,36)\",\"automargin\":true,\"zeroline\":false},\"scene\":{\"xaxis\":{\"backgroundcolor\":\"white\",\"gridcolor\":\"rgb(232,232,232)\",\"linecolor\":\"rgb(36,36,36)\",\"showbackground\":true,\"showgrid\":false,\"showline\":true,\"ticks\":\"outside\",\"zerolinecolor\":\"rgb(36,36,36)\",\"gridwidth\":2,\"zeroline\":false},\"yaxis\":{\"backgroundcolor\":\"white\",\"gridcolor\":\"rgb(232,232,232)\",\"linecolor\":\"rgb(36,36,36)\",\"showbackground\":true,\"showgrid\":false,\"showline\":true,\"ticks\":\"outside\",\"zerolinecolor\":\"rgb(36,36,36)\",\"gridwidth\":2,\"zeroline\":false},\"zaxis\":{\"backgroundcolor\":\"white\",\"gridcolor\":\"rgb(232,232,232)\",\"linecolor\":\"rgb(36,36,36)\",\"showbackground\":true,\"showgrid\":false,\"showline\":true,\"ticks\":\"outside\",\"zerolinecolor\":\"rgb(36,36,36)\",\"gridwidth\":2,\"zeroline\":false}},\"shapedefaults\":{\"fillcolor\":\"black\",\"line\":{\"width\":0},\"opacity\":0.3},\"annotationdefaults\":{\"arrowhead\":0,\"arrowwidth\":1},\"geo\":{\"bgcolor\":\"white\",\"landcolor\":\"white\",\"subunitcolor\":\"white\",\"showland\":true,\"showlakes\":true,\"lakecolor\":\"white\"},\"title\":{\"x\":0.05},\"mapbox\":{\"style\":\"light\"}}},\"xaxis\":{\"anchor\":\"y\",\"domain\":[0.0,1.0],\"title\":{\"text\":\"cohort week\"}},\"yaxis\":{\"anchor\":\"x\",\"domain\":[0.0,1.0],\"title\":{\"text\":\"retention, %\"}},\"legend\":{\"title\":{\"text\":\"# week\"},\"tracegroupgap\":0},\"title\":{\"text\":\"Monitoring retention\"}},                        {\"responsive\": true}                    ).then(function(){\n",
       "                            \n",
       "var gd = document.getElementById('150b5ea9-0763-4f5b-9ade-194b137be049');\n",
       "var x = new MutationObserver(function (mutations, observer) {{\n",
       "        var display = window.getComputedStyle(gd).display;\n",
       "        if (!display || display === 'none') {{\n",
       "            console.log([gd, 'removed!']);\n",
       "            Plotly.purge(gd);\n",
       "            observer.disconnect();\n",
       "        }}\n",
       "}});\n",
       "\n",
       "// Listen for the removal of the full notebook cells\n",
       "var notebookContainer = gd.closest('#notebook-container');\n",
       "if (notebookContainer) {{\n",
       "    x.observe(notebookContainer, {childList: true});\n",
       "}}\n",
       "\n",
       "// Listen for the clearing of the current output cell\n",
       "var outputEl = gd.closest('.output');\n",
       "if (outputEl) {{\n",
       "    x.observe(outputEl, {childList: true});\n",
       "}}\n",
       "\n",
       "                        })                };                });            </script>        </div>"
      ]
     },
     "metadata": {},
     "output_type": "display_data"
    }
   ],
   "source": [
    "px.line(filt_df.pivot(index = 'cohort_week_date',\n",
    "                          columns = 'week_num',\n",
    "                          values = 'retention'),\n",
    "       title = 'Monitoring retention',\n",
    "       labels = {\n",
    "           'value': 'retention, %',\n",
    "           'week_num': '# week',\n",
    "           'cohort_week_date': 'cohort week'\n",
    "       })"
   ]
  },
  {
   "cell_type": "code",
   "execution_count": null,
   "id": "ddbea387",
   "metadata": {},
   "outputs": [],
   "source": []
  },
  {
   "cell_type": "code",
   "execution_count": null,
   "id": "40cc7d17",
   "metadata": {},
   "outputs": [],
   "source": []
  }
 ],
 "metadata": {
  "kernelspec": {
   "display_name": "Python 3 (ipykernel)",
   "language": "python",
   "name": "python3"
  },
  "language_info": {
   "codemirror_mode": {
    "name": "ipython",
    "version": 3
   },
   "file_extension": ".py",
   "mimetype": "text/x-python",
   "name": "python",
   "nbconvert_exporter": "python",
   "pygments_lexer": "ipython3",
   "version": "3.9.6"
  }
 },
 "nbformat": 4,
 "nbformat_minor": 5
}
