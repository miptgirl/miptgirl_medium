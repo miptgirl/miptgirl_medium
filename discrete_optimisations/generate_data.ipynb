{
 "cells": [
  {
   "cell_type": "code",
   "execution_count": 159,
   "id": "505af86c-dc57-49e4-9679-b1c9454d48d6",
   "metadata": {},
   "outputs": [],
   "source": [
    "import pandas as pd\n",
    "import numpy as np"
   ]
  },
  {
   "cell_type": "markdown",
   "id": "71949723-d594-41e2-964e-8bb0e1947b30",
   "metadata": {},
   "source": [
    "### Country stats"
   ]
  },
  {
   "cell_type": "code",
   "execution_count": 160,
   "id": "0efce837-7ca6-4652-ab61-6264f7f3e798",
   "metadata": {},
   "outputs": [],
   "source": [
    "# net annual earnings - https://doi.org/10.2908/EARN_NT_NET"
   ]
  },
  {
   "cell_type": "code",
   "execution_count": 161,
   "id": "842c508f-aeb2-4755-b4f7-a4cbd7307294",
   "metadata": {},
   "outputs": [],
   "source": [
    "earnings_df = pd.read_csv('net_earnings_eu.tsv', sep = '\\t')[['freq,currency,estruct,ecase,geo\\TIME_PERIOD', '2022 ']]\n",
    "earnings_df.columns = ['segment', 'country_avg_annual_earning']\n",
    "earnings_df['country_code'] = earnings_df['segment'].map(lambda x: x.split(',')[-1])\n",
    "earnings_df = earnings_df.drop('segment', axis = 1)\n",
    "earnings_df = earnings_df[['country_code', 'country_avg_annual_earning']]"
   ]
  },
  {
   "cell_type": "code",
   "execution_count": 162,
   "id": "b151d12d-844d-4dac-a01d-c4b9ce76e945",
   "metadata": {},
   "outputs": [],
   "source": [
    "# population - https://doi.org/10.2908/TPS00001"
   ]
  },
  {
   "cell_type": "code",
   "execution_count": 163,
   "id": "d280ce82-2ae4-4046-9e35-ff956c53f452",
   "metadata": {},
   "outputs": [],
   "source": [
    "population_df = pd.read_csv('population.tsv', sep = '\\t')[['freq,indic_de,geo\\TIME_PERIOD', '2023 ']]\n",
    "population_df.columns = ['segment', 'country_population']\n",
    "population_df['country_code'] = population_df['segment'].map(lambda x: x.split(',')[-1])\n",
    "population_df = population_df.drop('segment', axis = 1)\n",
    "population_df = population_df[['country_code', 'country_population']]"
   ]
  },
  {
   "cell_type": "code",
   "execution_count": 164,
   "id": "d84f9859-a3e0-4e41-a1cf-91b93c568003",
   "metadata": {},
   "outputs": [],
   "source": [
    "iso_df = pd.read_csv('iso_codes.txt')[['name', 'alpha-2']]\n",
    "iso_df.columns = ['country', 'country_code']"
   ]
  },
  {
   "cell_type": "code",
   "execution_count": 165,
   "id": "59d71e64-28cf-4e8b-89ac-1fecf1edb175",
   "metadata": {
    "scrolled": true
   },
   "outputs": [
    {
     "data": {
      "text/html": [
       "<div>\n",
       "<style scoped>\n",
       "    .dataframe tbody tr th:only-of-type {\n",
       "        vertical-align: middle;\n",
       "    }\n",
       "\n",
       "    .dataframe tbody tr th {\n",
       "        vertical-align: top;\n",
       "    }\n",
       "\n",
       "    .dataframe thead th {\n",
       "        text-align: right;\n",
       "    }\n",
       "</style>\n",
       "<table border=\"1\" class=\"dataframe\">\n",
       "  <thead>\n",
       "    <tr style=\"text-align: right;\">\n",
       "      <th></th>\n",
       "      <th>country</th>\n",
       "      <th>country_code</th>\n",
       "    </tr>\n",
       "  </thead>\n",
       "  <tbody>\n",
       "    <tr>\n",
       "      <th>0</th>\n",
       "      <td>Afghanistan</td>\n",
       "      <td>AF</td>\n",
       "    </tr>\n",
       "    <tr>\n",
       "      <th>1</th>\n",
       "      <td>Åland Islands</td>\n",
       "      <td>AX</td>\n",
       "    </tr>\n",
       "    <tr>\n",
       "      <th>2</th>\n",
       "      <td>Albania</td>\n",
       "      <td>AL</td>\n",
       "    </tr>\n",
       "    <tr>\n",
       "      <th>3</th>\n",
       "      <td>Algeria</td>\n",
       "      <td>DZ</td>\n",
       "    </tr>\n",
       "    <tr>\n",
       "      <th>4</th>\n",
       "      <td>American Samoa</td>\n",
       "      <td>AS</td>\n",
       "    </tr>\n",
       "  </tbody>\n",
       "</table>\n",
       "</div>"
      ],
      "text/plain": [
       "          country country_code\n",
       "0     Afghanistan           AF\n",
       "1   Åland Islands           AX\n",
       "2         Albania           AL\n",
       "3         Algeria           DZ\n",
       "4  American Samoa           AS"
      ]
     },
     "execution_count": 165,
     "metadata": {},
     "output_type": "execute_result"
    }
   ],
   "source": [
    "iso_df.head()"
   ]
  },
  {
   "cell_type": "code",
   "execution_count": 166,
   "id": "b6c63d2c-4908-40ef-9df4-8dabcbd25a58",
   "metadata": {},
   "outputs": [],
   "source": [
    "country_df = earnings_df.merge(population_df)"
   ]
  },
  {
   "cell_type": "code",
   "execution_count": 167,
   "id": "22c0b110-ecae-460e-8e55-3c1b80556a37",
   "metadata": {},
   "outputs": [],
   "source": [
    "country_df = country_df[(country_df.country_avg_annual_earning != ': ') & (country_df.country_population != ': ')]"
   ]
  },
  {
   "cell_type": "code",
   "execution_count": 168,
   "id": "0855a2df-ebcc-4aea-a1bd-1298b32b98e0",
   "metadata": {},
   "outputs": [],
   "source": [
    "country_df = country_df[~country_df.country_code.isin(['EA19', 'EA20', 'EU27_2020'])]"
   ]
  },
  {
   "cell_type": "code",
   "execution_count": 169,
   "id": "7d08c764-cb21-4b50-9116-112063d1de19",
   "metadata": {},
   "outputs": [],
   "source": [
    "country_df['country_avg_annual_earning'] = country_df.country_avg_annual_earning.map(\n",
    "    lambda x: float(x.split(' ')[0])\n",
    ")\n",
    "\n",
    "country_df['country_population'] = country_df.country_population.map(\n",
    "    lambda x: int(x.split(' ')[0])\n",
    ")"
   ]
  },
  {
   "cell_type": "code",
   "execution_count": 170,
   "id": "45b490c5-3042-45b8-addd-9c2e030e669e",
   "metadata": {},
   "outputs": [],
   "source": [
    "country_df = country_df.merge(iso_df, how = 'left')"
   ]
  },
  {
   "cell_type": "code",
   "execution_count": 171,
   "id": "2e2d34e9-844f-4e7a-955f-b1a81f25fb7b",
   "metadata": {},
   "outputs": [
    {
     "data": {
      "text/plain": [
       "(31, 4)"
      ]
     },
     "execution_count": 171,
     "metadata": {},
     "output_type": "execute_result"
    }
   ],
   "source": [
    "country_df.shape"
   ]
  },
  {
   "cell_type": "code",
   "execution_count": 172,
   "id": "26dec2c8-4790-4072-bc4c-b256e97eaa2d",
   "metadata": {},
   "outputs": [
    {
     "data": {
      "text/plain": [
       "9903520314283042199192993792"
      ]
     },
     "execution_count": 172,
     "metadata": {},
     "output_type": "execute_result"
    }
   ],
   "source": [
    "2**93"
   ]
  },
  {
   "cell_type": "code",
   "execution_count": 173,
   "id": "8aef6898-6255-4bbe-9302-79bb7de80dc0",
   "metadata": {},
   "outputs": [],
   "source": [
    "total_users = 30000"
   ]
  },
  {
   "cell_type": "code",
   "execution_count": 174,
   "id": "370c9412-d999-430e-b17c-6bb36f6296b4",
   "metadata": {},
   "outputs": [
    {
     "data": {
      "text/html": [
       "<div>\n",
       "<style scoped>\n",
       "    .dataframe tbody tr th:only-of-type {\n",
       "        vertical-align: middle;\n",
       "    }\n",
       "\n",
       "    .dataframe tbody tr th {\n",
       "        vertical-align: top;\n",
       "    }\n",
       "\n",
       "    .dataframe thead th {\n",
       "        text-align: right;\n",
       "    }\n",
       "</style>\n",
       "<table border=\"1\" class=\"dataframe\">\n",
       "  <thead>\n",
       "    <tr style=\"text-align: right;\">\n",
       "      <th></th>\n",
       "      <th>country_code</th>\n",
       "      <th>country_avg_annual_earning</th>\n",
       "      <th>country_population</th>\n",
       "      <th>country</th>\n",
       "    </tr>\n",
       "  </thead>\n",
       "  <tbody>\n",
       "    <tr>\n",
       "      <th>0</th>\n",
       "      <td>AT</td>\n",
       "      <td>68690.65</td>\n",
       "      <td>9104772</td>\n",
       "      <td>Austria</td>\n",
       "    </tr>\n",
       "    <tr>\n",
       "      <th>1</th>\n",
       "      <td>BE</td>\n",
       "      <td>70297.58</td>\n",
       "      <td>11754004</td>\n",
       "      <td>Belgium</td>\n",
       "    </tr>\n",
       "    <tr>\n",
       "      <th>2</th>\n",
       "      <td>BG</td>\n",
       "      <td>12923.66</td>\n",
       "      <td>6447710</td>\n",
       "      <td>Bulgaria</td>\n",
       "    </tr>\n",
       "    <tr>\n",
       "      <th>3</th>\n",
       "      <td>CH</td>\n",
       "      <td>106839.33</td>\n",
       "      <td>8812728</td>\n",
       "      <td>Switzerland</td>\n",
       "    </tr>\n",
       "    <tr>\n",
       "      <th>4</th>\n",
       "      <td>CY</td>\n",
       "      <td>27263.20</td>\n",
       "      <td>920701</td>\n",
       "      <td>Cyprus</td>\n",
       "    </tr>\n",
       "  </tbody>\n",
       "</table>\n",
       "</div>"
      ],
      "text/plain": [
       "  country_code  country_avg_annual_earning  country_population      country\n",
       "0           AT                    68690.65             9104772      Austria\n",
       "1           BE                    70297.58            11754004      Belgium\n",
       "2           BG                    12923.66             6447710     Bulgaria\n",
       "3           CH                   106839.33             8812728  Switzerland\n",
       "4           CY                    27263.20              920701       Cyprus"
      ]
     },
     "execution_count": 174,
     "metadata": {},
     "output_type": "execute_result"
    }
   ],
   "source": [
    "country_df.head()"
   ]
  },
  {
   "cell_type": "markdown",
   "id": "fbf3af48-4c72-48a7-bbda-4b22da5d8b75",
   "metadata": {},
   "source": [
    "### Generate stats"
   ]
  },
  {
   "cell_type": "code",
   "execution_count": 175,
   "id": "d6add633-1c45-4bed-8b20-85d5d43da5ba",
   "metadata": {},
   "outputs": [],
   "source": [
    "population_coefs = {\n",
    "    'search': [0.0003, 0.00003],\n",
    "    'social networks': [0.0003, 0.00003],\n",
    "    'influencers': [0.00005, 0.0002]\n",
    "}\n",
    "\n",
    "ltv_coefs = {\n",
    "    'search': 1.0,\n",
    "    'social networks': 0.8, \n",
    "    'influencers': 1.5\n",
    "}"
   ]
  },
  {
   "cell_type": "code",
   "execution_count": 177,
   "id": "59a13a06-9d31-4505-bd4c-707a495e1638",
   "metadata": {},
   "outputs": [],
   "source": [
    "tmp = []\n",
    "\n",
    "for marketing_channel in ['social networks', 'influencers']:\n",
    "    tmp_df = country_df.copy()\n",
    "    tmp_df['users'] = tmp_df.country_population.map(\n",
    "        lambda x: int(x*np.random.normal(population_coefs[marketing_channel][0], population_coefs[marketing_channel][1]))\n",
    "    )\n",
    "\n",
    "    tmp_df['users'] = tmp_df.users.map(\n",
    "        lambda x: x if x > 0 else int(np.random.normal(100, 10))\n",
    "    )\n",
    "\n",
    "    tmp_df['ltv'] = tmp_df.country_avg_annual_earning.map(\n",
    "        lambda x: round(ltv_coefs[marketing_channel]*x*np.random.normal(0.03, 0.01), 2)\n",
    "    )\n",
    "\n",
    "    tmp_df['ltv'] = list(map(\n",
    "        lambda x, y: x if x > 0 else 0.03*y*ltv_coefs[marketing_channel],\n",
    "        tmp_df.ltv,\n",
    "        tmp_df.country_avg_annual_earning\n",
    "    ))\n",
    "\n",
    "    tmp_df['cac'] = tmp_df.ltv.map(\n",
    "        lambda x: round(x*np.random.normal(0.3, 0.05), 2)\n",
    "    )\n",
    "\n",
    "    tmp_df['cs_contacts'] = tmp_df.users.map(\n",
    "        lambda x: int(x*np.random.normal(0.05, 0.02))\n",
    "    )\n",
    "    \n",
    "    tmp_df['channel'] = marketing_channel\n",
    "    tmp.append(tmp_df)"
   ]
  },
  {
   "cell_type": "code",
   "execution_count": 178,
   "id": "19c1361d-6eac-4cc3-ae33-66d73fcd9d54",
   "metadata": {},
   "outputs": [],
   "source": [
    "fin_df = pd.concat(tmp)"
   ]
  },
  {
   "cell_type": "code",
   "execution_count": 179,
   "id": "b8c39b64-7e93-486d-9ed2-dec6a20f7def",
   "metadata": {},
   "outputs": [
    {
     "data": {
      "text/html": [
       "<div>\n",
       "<style scoped>\n",
       "    .dataframe tbody tr th:only-of-type {\n",
       "        vertical-align: middle;\n",
       "    }\n",
       "\n",
       "    .dataframe tbody tr th {\n",
       "        vertical-align: top;\n",
       "    }\n",
       "\n",
       "    .dataframe thead th {\n",
       "        text-align: right;\n",
       "    }\n",
       "</style>\n",
       "<table border=\"1\" class=\"dataframe\">\n",
       "  <thead>\n",
       "    <tr style=\"text-align: right;\">\n",
       "      <th></th>\n",
       "      <th>country_code</th>\n",
       "      <th>country_avg_annual_earning</th>\n",
       "      <th>country_population</th>\n",
       "      <th>country</th>\n",
       "      <th>users</th>\n",
       "      <th>ltv</th>\n",
       "      <th>cac</th>\n",
       "      <th>cs_contacts</th>\n",
       "      <th>channel</th>\n",
       "    </tr>\n",
       "  </thead>\n",
       "  <tbody>\n",
       "  </tbody>\n",
       "</table>\n",
       "</div>"
      ],
      "text/plain": [
       "Empty DataFrame\n",
       "Columns: [country_code, country_avg_annual_earning, country_population, country, users, ltv, cac, cs_contacts, channel]\n",
       "Index: []"
      ]
     },
     "execution_count": 179,
     "metadata": {},
     "output_type": "execute_result"
    }
   ],
   "source": [
    "fin_df[fin_df.ltv < 0]"
   ]
  },
  {
   "cell_type": "code",
   "execution_count": 180,
   "id": "eb04c16a-26c0-4d6f-9ac4-994416cfc690",
   "metadata": {},
   "outputs": [
    {
     "data": {
      "text/html": [
       "<div>\n",
       "<style scoped>\n",
       "    .dataframe tbody tr th:only-of-type {\n",
       "        vertical-align: middle;\n",
       "    }\n",
       "\n",
       "    .dataframe tbody tr th {\n",
       "        vertical-align: top;\n",
       "    }\n",
       "\n",
       "    .dataframe thead th {\n",
       "        text-align: right;\n",
       "    }\n",
       "</style>\n",
       "<table border=\"1\" class=\"dataframe\">\n",
       "  <thead>\n",
       "    <tr style=\"text-align: right;\">\n",
       "      <th></th>\n",
       "      <th>country_code</th>\n",
       "      <th>country_avg_annual_earning</th>\n",
       "      <th>country_population</th>\n",
       "      <th>country</th>\n",
       "      <th>users</th>\n",
       "      <th>ltv</th>\n",
       "      <th>cac</th>\n",
       "      <th>cs_contacts</th>\n",
       "      <th>channel</th>\n",
       "    </tr>\n",
       "  </thead>\n",
       "  <tbody>\n",
       "  </tbody>\n",
       "</table>\n",
       "</div>"
      ],
      "text/plain": [
       "Empty DataFrame\n",
       "Columns: [country_code, country_avg_annual_earning, country_population, country, users, ltv, cac, cs_contacts, channel]\n",
       "Index: []"
      ]
     },
     "execution_count": 180,
     "metadata": {},
     "output_type": "execute_result"
    }
   ],
   "source": [
    "fin_df[fin_df.cac < 0]"
   ]
  },
  {
   "cell_type": "code",
   "execution_count": 181,
   "id": "a48a80f3-d430-4cc6-a3fe-f7b7563c7c4c",
   "metadata": {},
   "outputs": [
    {
     "data": {
      "text/html": [
       "<div>\n",
       "<style scoped>\n",
       "    .dataframe tbody tr th:only-of-type {\n",
       "        vertical-align: middle;\n",
       "    }\n",
       "\n",
       "    .dataframe tbody tr th {\n",
       "        vertical-align: top;\n",
       "    }\n",
       "\n",
       "    .dataframe thead th {\n",
       "        text-align: right;\n",
       "    }\n",
       "</style>\n",
       "<table border=\"1\" class=\"dataframe\">\n",
       "  <thead>\n",
       "    <tr style=\"text-align: right;\">\n",
       "      <th></th>\n",
       "      <th>country_code</th>\n",
       "      <th>country_avg_annual_earning</th>\n",
       "      <th>country_population</th>\n",
       "      <th>country</th>\n",
       "      <th>users</th>\n",
       "      <th>ltv</th>\n",
       "      <th>cac</th>\n",
       "      <th>cs_contacts</th>\n",
       "      <th>channel</th>\n",
       "    </tr>\n",
       "  </thead>\n",
       "  <tbody>\n",
       "  </tbody>\n",
       "</table>\n",
       "</div>"
      ],
      "text/plain": [
       "Empty DataFrame\n",
       "Columns: [country_code, country_avg_annual_earning, country_population, country, users, ltv, cac, cs_contacts, channel]\n",
       "Index: []"
      ]
     },
     "execution_count": 181,
     "metadata": {},
     "output_type": "execute_result"
    }
   ],
   "source": [
    "fin_df[fin_df.cs_contacts < 0]"
   ]
  },
  {
   "cell_type": "code",
   "execution_count": 182,
   "id": "52a08d68-cb25-4a89-a5e1-1e45c064f99a",
   "metadata": {},
   "outputs": [
    {
     "data": {
      "text/html": [
       "<div>\n",
       "<style scoped>\n",
       "    .dataframe tbody tr th:only-of-type {\n",
       "        vertical-align: middle;\n",
       "    }\n",
       "\n",
       "    .dataframe tbody tr th {\n",
       "        vertical-align: top;\n",
       "    }\n",
       "\n",
       "    .dataframe thead th {\n",
       "        text-align: right;\n",
       "    }\n",
       "</style>\n",
       "<table border=\"1\" class=\"dataframe\">\n",
       "  <thead>\n",
       "    <tr style=\"text-align: right;\">\n",
       "      <th></th>\n",
       "      <th>users</th>\n",
       "      <th>ltv</th>\n",
       "      <th>cac</th>\n",
       "      <th>cs_contacts</th>\n",
       "    </tr>\n",
       "    <tr>\n",
       "      <th>channel</th>\n",
       "      <th></th>\n",
       "      <th></th>\n",
       "      <th></th>\n",
       "      <th></th>\n",
       "    </tr>\n",
       "  </thead>\n",
       "  <tbody>\n",
       "    <tr>\n",
       "      <th>influencers</th>\n",
       "      <td>35735</td>\n",
       "      <td>1998.979677</td>\n",
       "      <td>589.606774</td>\n",
       "      <td>1725</td>\n",
       "    </tr>\n",
       "    <tr>\n",
       "      <th>social networks</th>\n",
       "      <td>168030</td>\n",
       "      <td>1097.542903</td>\n",
       "      <td>302.920323</td>\n",
       "      <td>7764</td>\n",
       "    </tr>\n",
       "  </tbody>\n",
       "</table>\n",
       "</div>"
      ],
      "text/plain": [
       "                  users          ltv         cac  cs_contacts\n",
       "channel                                                      \n",
       "influencers       35735  1998.979677  589.606774         1725\n",
       "social networks  168030  1097.542903  302.920323         7764"
      ]
     },
     "execution_count": 182,
     "metadata": {},
     "output_type": "execute_result"
    }
   ],
   "source": [
    "fin_df.groupby('channel').agg({'users': 'sum', 'ltv': 'mean', 'cac': 'mean', 'cs_contacts': 'sum'})"
   ]
  },
  {
   "cell_type": "code",
   "execution_count": 184,
   "id": "f46cca74-7d4a-4b5b-ae56-4dce12f0fd7f",
   "metadata": {},
   "outputs": [],
   "source": [
    "fin_df['ltv_to_cac'] = fin_df.ltv/fin_df.cac"
   ]
  },
  {
   "cell_type": "code",
   "execution_count": 185,
   "id": "08493b3b-82fb-4d2d-92d4-94492b171f8e",
   "metadata": {},
   "outputs": [],
   "source": [
    "fin_df['marketing_spending'] = (fin_df.users * fin_df.cac).map(lambda x: round(x, 2))\n",
    "fin_df['revenue'] = (fin_df.users * fin_df.ltv).map(lambda x: round(x, 2))"
   ]
  },
  {
   "cell_type": "code",
   "execution_count": 186,
   "id": "ca79c2e7-1cc4-4fad-9982-4eb89e556073",
   "metadata": {},
   "outputs": [],
   "source": [
    "fin_df[['country', 'channel', 'users', 'cs_contacts', 'marketing_spending', 'revenue']].to_csv('marketing_campaign_estimations.csv', \n",
    "                                                                                               index = False, sep = '\\t')"
   ]
  },
  {
   "cell_type": "code",
   "execution_count": null,
   "id": "ebbed365-c38b-4d76-8dc5-a9041948c3b7",
   "metadata": {},
   "outputs": [],
   "source": []
  }
 ],
 "metadata": {
  "kernelspec": {
   "display_name": "Python 3 (ipykernel)",
   "language": "python",
   "name": "python3"
  },
  "language_info": {
   "codemirror_mode": {
    "name": "ipython",
    "version": 3
   },
   "file_extension": ".py",
   "mimetype": "text/x-python",
   "name": "python",
   "nbconvert_exporter": "python",
   "pygments_lexer": "ipython3",
   "version": "3.11.6"
  }
 },
 "nbformat": 4,
 "nbformat_minor": 5
}
