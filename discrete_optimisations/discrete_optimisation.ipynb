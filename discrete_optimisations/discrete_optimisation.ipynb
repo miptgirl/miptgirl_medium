{
 "cells": [
  {
   "cell_type": "code",
   "execution_count": 232,
   "id": "945dd837-0eb6-4398-bb0e-95fa732e1124",
   "metadata": {},
   "outputs": [],
   "source": [
    "import pandas as pd\n",
    "import numpy as np\n",
    "import tqdm"
   ]
  },
  {
   "cell_type": "code",
   "execution_count": 233,
   "id": "bf06a31a-9be4-4725-b487-d89e8c725f96",
   "metadata": {},
   "outputs": [
    {
     "name": "stdout",
     "output_type": "stream",
     "text": [
      "discrete_optimisation.ipynb        marketing_campaign_estimations.csv\n",
      "generate_data.ipynb                net_earnings_eu.tsv\n",
      "iso_codes.txt                      population.tsv\n"
     ]
    }
   ],
   "source": [
    "! ls "
   ]
  },
  {
   "cell_type": "code",
   "execution_count": 234,
   "id": "446bfe37-c414-4b11-9332-8d01a6f15d81",
   "metadata": {},
   "outputs": [],
   "source": [
    "df = pd.read_csv('marketing_campaign_estimations.csv', sep = '\\t')"
   ]
  },
  {
   "cell_type": "code",
   "execution_count": 235,
   "id": "64eafd04-31f7-4162-8193-0a1f35559bd2",
   "metadata": {},
   "outputs": [
    {
     "data": {
      "text/html": [
       "<div>\n",
       "<style scoped>\n",
       "    .dataframe tbody tr th:only-of-type {\n",
       "        vertical-align: middle;\n",
       "    }\n",
       "\n",
       "    .dataframe tbody tr th {\n",
       "        vertical-align: top;\n",
       "    }\n",
       "\n",
       "    .dataframe thead th {\n",
       "        text-align: right;\n",
       "    }\n",
       "</style>\n",
       "<table border=\"1\" class=\"dataframe\">\n",
       "  <thead>\n",
       "    <tr style=\"text-align: right;\">\n",
       "      <th></th>\n",
       "      <th>country</th>\n",
       "      <th>channel</th>\n",
       "      <th>users</th>\n",
       "      <th>cs_contacts</th>\n",
       "      <th>marketing_spending</th>\n",
       "      <th>revenue</th>\n",
       "    </tr>\n",
       "  </thead>\n",
       "  <tbody>\n",
       "    <tr>\n",
       "      <th>0</th>\n",
       "      <td>Austria</td>\n",
       "      <td>social networks</td>\n",
       "      <td>2483</td>\n",
       "      <td>113</td>\n",
       "      <td>1348442.81</td>\n",
       "      <td>5947157.45</td>\n",
       "    </tr>\n",
       "    <tr>\n",
       "      <th>1</th>\n",
       "      <td>Belgium</td>\n",
       "      <td>social networks</td>\n",
       "      <td>3318</td>\n",
       "      <td>173</td>\n",
       "      <td>2800790.16</td>\n",
       "      <td>9100510.86</td>\n",
       "    </tr>\n",
       "    <tr>\n",
       "      <th>2</th>\n",
       "      <td>Bulgaria</td>\n",
       "      <td>social networks</td>\n",
       "      <td>2168</td>\n",
       "      <td>115</td>\n",
       "      <td>130578.64</td>\n",
       "      <td>626140.08</td>\n",
       "    </tr>\n",
       "    <tr>\n",
       "      <th>3</th>\n",
       "      <td>Switzerland</td>\n",
       "      <td>social networks</td>\n",
       "      <td>2681</td>\n",
       "      <td>180</td>\n",
       "      <td>1781765.79</td>\n",
       "      <td>10498340.23</td>\n",
       "    </tr>\n",
       "    <tr>\n",
       "      <th>4</th>\n",
       "      <td>Cyprus</td>\n",
       "      <td>social networks</td>\n",
       "      <td>263</td>\n",
       "      <td>0</td>\n",
       "      <td>73398.04</td>\n",
       "      <td>274979.65</td>\n",
       "    </tr>\n",
       "  </tbody>\n",
       "</table>\n",
       "</div>"
      ],
      "text/plain": [
       "       country          channel  users  cs_contacts  marketing_spending  \\\n",
       "0      Austria  social networks   2483          113          1348442.81   \n",
       "1      Belgium  social networks   3318          173          2800790.16   \n",
       "2     Bulgaria  social networks   2168          115           130578.64   \n",
       "3  Switzerland  social networks   2681          180          1781765.79   \n",
       "4       Cyprus  social networks    263            0            73398.04   \n",
       "\n",
       "       revenue  \n",
       "0   5947157.45  \n",
       "1   9100510.86  \n",
       "2    626140.08  \n",
       "3  10498340.23  \n",
       "4    274979.65  "
      ]
     },
     "execution_count": 235,
     "metadata": {},
     "output_type": "execute_result"
    }
   ],
   "source": [
    "df.head()"
   ]
  },
  {
   "cell_type": "code",
   "execution_count": 236,
   "id": "f3586587-202d-4350-9f01-6b7508441438",
   "metadata": {},
   "outputs": [],
   "source": [
    "df['segment'] = df.country + ' - ' + df.channel"
   ]
  },
  {
   "cell_type": "code",
   "execution_count": 237,
   "id": "63c31c0f-6b30-4585-a362-911d55711970",
   "metadata": {},
   "outputs": [
    {
     "data": {
      "text/plain": [
       "62"
      ]
     },
     "execution_count": 237,
     "metadata": {},
     "output_type": "execute_result"
    }
   ],
   "source": [
    "len(df.segment)"
   ]
  },
  {
   "cell_type": "code",
   "execution_count": 238,
   "id": "f48a4145-e802-4b29-82fa-09adcac23652",
   "metadata": {},
   "outputs": [
    {
     "data": {
      "text/plain": [
       "9489"
      ]
     },
     "execution_count": 238,
     "metadata": {},
     "output_type": "execute_result"
    }
   ],
   "source": [
    "df.cs_contacts.sum()"
   ]
  },
  {
   "cell_type": "code",
   "execution_count": 239,
   "id": "b23d7b7e-e24a-40bf-b5df-cfda4bc5137a",
   "metadata": {},
   "outputs": [
    {
     "data": {
      "text/html": [
       "<div>\n",
       "<style scoped>\n",
       "    .dataframe tbody tr th:only-of-type {\n",
       "        vertical-align: middle;\n",
       "    }\n",
       "\n",
       "    .dataframe tbody tr th {\n",
       "        vertical-align: top;\n",
       "    }\n",
       "\n",
       "    .dataframe thead th {\n",
       "        text-align: right;\n",
       "    }\n",
       "</style>\n",
       "<table border=\"1\" class=\"dataframe\">\n",
       "  <thead>\n",
       "    <tr style=\"text-align: right;\">\n",
       "      <th></th>\n",
       "      <th>country</th>\n",
       "      <th>channel</th>\n",
       "      <th>users</th>\n",
       "      <th>cs_contacts</th>\n",
       "      <th>marketing_spending</th>\n",
       "      <th>revenue</th>\n",
       "      <th>segment</th>\n",
       "    </tr>\n",
       "  </thead>\n",
       "  <tbody>\n",
       "    <tr>\n",
       "      <th>0</th>\n",
       "      <td>Austria</td>\n",
       "      <td>social networks</td>\n",
       "      <td>2483</td>\n",
       "      <td>113</td>\n",
       "      <td>1348442.81</td>\n",
       "      <td>5947157.45</td>\n",
       "      <td>Austria - social networks</td>\n",
       "    </tr>\n",
       "    <tr>\n",
       "      <th>1</th>\n",
       "      <td>Belgium</td>\n",
       "      <td>social networks</td>\n",
       "      <td>3318</td>\n",
       "      <td>173</td>\n",
       "      <td>2800790.16</td>\n",
       "      <td>9100510.86</td>\n",
       "      <td>Belgium - social networks</td>\n",
       "    </tr>\n",
       "    <tr>\n",
       "      <th>2</th>\n",
       "      <td>Bulgaria</td>\n",
       "      <td>social networks</td>\n",
       "      <td>2168</td>\n",
       "      <td>115</td>\n",
       "      <td>130578.64</td>\n",
       "      <td>626140.08</td>\n",
       "      <td>Bulgaria - social networks</td>\n",
       "    </tr>\n",
       "    <tr>\n",
       "      <th>3</th>\n",
       "      <td>Switzerland</td>\n",
       "      <td>social networks</td>\n",
       "      <td>2681</td>\n",
       "      <td>180</td>\n",
       "      <td>1781765.79</td>\n",
       "      <td>10498340.23</td>\n",
       "      <td>Switzerland - social networks</td>\n",
       "    </tr>\n",
       "    <tr>\n",
       "      <th>4</th>\n",
       "      <td>Cyprus</td>\n",
       "      <td>social networks</td>\n",
       "      <td>263</td>\n",
       "      <td>0</td>\n",
       "      <td>73398.04</td>\n",
       "      <td>274979.65</td>\n",
       "      <td>Cyprus - social networks</td>\n",
       "    </tr>\n",
       "  </tbody>\n",
       "</table>\n",
       "</div>"
      ],
      "text/plain": [
       "       country          channel  users  cs_contacts  marketing_spending  \\\n",
       "0      Austria  social networks   2483          113          1348442.81   \n",
       "1      Belgium  social networks   3318          173          2800790.16   \n",
       "2     Bulgaria  social networks   2168          115           130578.64   \n",
       "3  Switzerland  social networks   2681          180          1781765.79   \n",
       "4       Cyprus  social networks    263            0            73398.04   \n",
       "\n",
       "       revenue                        segment  \n",
       "0   5947157.45      Austria - social networks  \n",
       "1   9100510.86      Belgium - social networks  \n",
       "2    626140.08     Bulgaria - social networks  \n",
       "3  10498340.23  Switzerland - social networks  \n",
       "4    274979.65       Cyprus - social networks  "
      ]
     },
     "execution_count": 239,
     "metadata": {},
     "output_type": "execute_result"
    }
   ],
   "source": [
    "df.head()"
   ]
  },
  {
   "cell_type": "code",
   "execution_count": 240,
   "id": "19f85044-923c-42ac-ad62-4750e473c471",
   "metadata": {},
   "outputs": [
    {
     "data": {
      "text/plain": [
       "channel\n",
       "social networks    31\n",
       "influencers        31\n",
       "Name: count, dtype: int64"
      ]
     },
     "execution_count": 240,
     "metadata": {},
     "output_type": "execute_result"
    }
   ],
   "source": [
    "df.channel.value_counts()"
   ]
  },
  {
   "cell_type": "code",
   "execution_count": 241,
   "id": "28b954ac-c70a-4329-adaa-793b82c765d4",
   "metadata": {},
   "outputs": [],
   "source": [
    "total_stats_df = df.groupby('channel', as_index = False).agg(\n",
    "    {'users': 'sum', 'marketing_spending': 'sum', 'revenue': 'sum', 'cs_contacts': 'sum'}\n",
    ")"
   ]
  },
  {
   "cell_type": "code",
   "execution_count": 244,
   "id": "7712fa17-6f5f-4ae9-8e32-85548f8adfd7",
   "metadata": {},
   "outputs": [
    {
     "data": {
      "text/html": [
       "<div>\n",
       "<style scoped>\n",
       "    .dataframe tbody tr th:only-of-type {\n",
       "        vertical-align: middle;\n",
       "    }\n",
       "\n",
       "    .dataframe tbody tr th {\n",
       "        vertical-align: top;\n",
       "    }\n",
       "\n",
       "    .dataframe thead th {\n",
       "        text-align: right;\n",
       "    }\n",
       "</style>\n",
       "<table border=\"1\" class=\"dataframe\">\n",
       "  <thead>\n",
       "    <tr style=\"text-align: right;\">\n",
       "      <th></th>\n",
       "      <th>channel</th>\n",
       "      <th>users</th>\n",
       "      <th>marketing_spending</th>\n",
       "      <th>revenue</th>\n",
       "      <th>cs_contacts</th>\n",
       "    </tr>\n",
       "  </thead>\n",
       "  <tbody>\n",
       "    <tr>\n",
       "      <th>0</th>\n",
       "      <td>influencers</td>\n",
       "      <td>35735</td>\n",
       "      <td>0.000018</td>\n",
       "      <td>0.000058</td>\n",
       "      <td>1725</td>\n",
       "    </tr>\n",
       "    <tr>\n",
       "      <th>1</th>\n",
       "      <td>social networks</td>\n",
       "      <td>168030</td>\n",
       "      <td>0.000046</td>\n",
       "      <td>0.000148</td>\n",
       "      <td>7764</td>\n",
       "    </tr>\n",
       "  </tbody>\n",
       "</table>\n",
       "</div>"
      ],
      "text/plain": [
       "           channel   users  marketing_spending   revenue  cs_contacts\n",
       "0      influencers   35735            0.000018  0.000058         1725\n",
       "1  social networks  168030            0.000046  0.000148         7764"
      ]
     },
     "execution_count": 244,
     "metadata": {},
     "output_type": "execute_result"
    }
   ],
   "source": [
    "total_stats_df['marketing_spending'] = total_stats_df.marketing_spending/10**6\n",
    "total_stats_df['revenue'] = total_stats_df.revenue/10**6\n",
    "\n",
    "total_stats_df"
   ]
  },
  {
   "cell_type": "markdown",
   "id": "137e6224-d6a6-4d96-910a-e4992c0493c4",
   "metadata": {},
   "source": [
    "### Brute force "
   ]
  },
  {
   "cell_type": "code",
   "execution_count": 282,
   "id": "5acdb4ec-f694-403a-9462-61aae97e98e8",
   "metadata": {},
   "outputs": [
    {
     "data": {
      "text/plain": [
       "4.611686018427388"
      ]
     },
     "execution_count": 282,
     "metadata": {},
     "output_type": "execute_result"
    }
   ],
   "source": [
    "2**62/10**18"
   ]
  },
  {
   "cell_type": "code",
   "execution_count": 245,
   "id": "ab805c65-1969-4a1e-917a-4dadf02f6a74",
   "metadata": {},
   "outputs": [
    {
     "name": "stdout",
     "output_type": "stream",
     "text": [
      "number of segments:  15\n",
      "number of combinations:  32768\n"
     ]
    }
   ],
   "source": [
    "import itertools\n",
    "\n",
    "combinations = []\n",
    "segments = list(df.segment.values)[:15]\n",
    "print('number of segments: ', len(segments))\n",
    "for num_items in range(len(segments) + 1):\n",
    "    combinations.extend(\n",
    "        itertools.combinations(segments, num_items)\n",
    "    )\n",
    "\n",
    "print('number of combinations: ', len(combinations))"
   ]
  },
  {
   "cell_type": "code",
   "execution_count": 246,
   "id": "5c807cdb-322a-41bd-8b6b-b37446134b78",
   "metadata": {},
   "outputs": [
    {
     "name": "stderr",
     "output_type": "stream",
     "text": [
      "100%|███████████████████████████████████████████████████████████████████████████████████████████████████████████████████████████████████████████████████████████████████| 32768/32768 [00:04<00:00, 6933.57it/s]\n"
     ]
    }
   ],
   "source": [
    "tmp = []\n",
    "\n",
    "for selected in tqdm.tqdm(combinations):\n",
    "    tmp_df = df[df.segment.isin(selected)]\n",
    "    tmp.append(\n",
    "        {\n",
    "        'selected_segments': ', '.join(selected),\n",
    "        'users': tmp_df.users.sum(),\n",
    "        'cs_contacts': tmp_df.cs_contacts.sum(),\n",
    "        'marketing_spending': tmp_df.marketing_spending.sum(),\n",
    "        'revenue': tmp_df.revenue.sum()\n",
    "        }\n",
    "    )"
   ]
  },
  {
   "cell_type": "code",
   "execution_count": 247,
   "id": "f599459c-8147-48d4-9993-784d597526f6",
   "metadata": {},
   "outputs": [
    {
     "data": {
      "text/plain": [
       "20890800.619824003"
      ]
     },
     "execution_count": 247,
     "metadata": {},
     "output_type": "execute_result"
    }
   ],
   "source": [
    "2**62 / 7000 / 3600 / 24 / 365"
   ]
  },
  {
   "cell_type": "code",
   "execution_count": 248,
   "id": "90012763-2632-4bd0-8bd6-658a7a60a8fe",
   "metadata": {},
   "outputs": [],
   "source": [
    "res_df = pd.DataFrame(tmp)"
   ]
  },
  {
   "cell_type": "code",
   "execution_count": 249,
   "id": "1f2d98fd-cea4-4dc0-abd7-d97b45b3e88c",
   "metadata": {},
   "outputs": [
    {
     "data": {
      "text/html": [
       "<div>\n",
       "<style scoped>\n",
       "    .dataframe tbody tr th:only-of-type {\n",
       "        vertical-align: middle;\n",
       "    }\n",
       "\n",
       "    .dataframe tbody tr th {\n",
       "        vertical-align: top;\n",
       "    }\n",
       "\n",
       "    .dataframe thead th {\n",
       "        text-align: right;\n",
       "    }\n",
       "</style>\n",
       "<table border=\"1\" class=\"dataframe\">\n",
       "  <thead>\n",
       "    <tr style=\"text-align: right;\">\n",
       "      <th></th>\n",
       "      <th>selected_segments</th>\n",
       "      <th>users</th>\n",
       "      <th>cs_contacts</th>\n",
       "      <th>marketing_spending</th>\n",
       "      <th>revenue</th>\n",
       "    </tr>\n",
       "  </thead>\n",
       "  <tbody>\n",
       "    <tr>\n",
       "      <th>32767</th>\n",
       "      <td>Austria - social networks, Belgium - social ne...</td>\n",
       "      <td>88318</td>\n",
       "      <td>4063</td>\n",
       "      <td>27467731.24</td>\n",
       "      <td>89218064.93</td>\n",
       "    </tr>\n",
       "    <tr>\n",
       "      <th>32762</th>\n",
       "      <td>Austria - social networks, Belgium - social ne...</td>\n",
       "      <td>88055</td>\n",
       "      <td>4063</td>\n",
       "      <td>27394333.20</td>\n",
       "      <td>88943085.28</td>\n",
       "    </tr>\n",
       "    <tr>\n",
       "      <th>32758</th>\n",
       "      <td>Austria - social networks, Belgium - social ne...</td>\n",
       "      <td>87921</td>\n",
       "      <td>4054</td>\n",
       "      <td>27354050.29</td>\n",
       "      <td>88919771.04</td>\n",
       "    </tr>\n",
       "    <tr>\n",
       "      <th>32698</th>\n",
       "      <td>Austria - social networks, Belgium - social ne...</td>\n",
       "      <td>87658</td>\n",
       "      <td>4054</td>\n",
       "      <td>27280652.25</td>\n",
       "      <td>88644791.39</td>\n",
       "    </tr>\n",
       "    <tr>\n",
       "      <th>32764</th>\n",
       "      <td>Austria - social networks, Belgium - social ne...</td>\n",
       "      <td>86150</td>\n",
       "      <td>3948</td>\n",
       "      <td>27337152.60</td>\n",
       "      <td>88591924.85</td>\n",
       "    </tr>\n",
       "    <tr>\n",
       "      <th>...</th>\n",
       "      <td>...</td>\n",
       "      <td>...</td>\n",
       "      <td>...</td>\n",
       "      <td>...</td>\n",
       "      <td>...</td>\n",
       "    </tr>\n",
       "    <tr>\n",
       "      <th>3</th>\n",
       "      <td>Bulgaria - social networks</td>\n",
       "      <td>2168</td>\n",
       "      <td>115</td>\n",
       "      <td>130578.64</td>\n",
       "      <td>626140.08</td>\n",
       "    </tr>\n",
       "    <tr>\n",
       "      <th>69</th>\n",
       "      <td>Cyprus - social networks, Estonia - social net...</td>\n",
       "      <td>660</td>\n",
       "      <td>9</td>\n",
       "      <td>187078.99</td>\n",
       "      <td>573273.54</td>\n",
       "    </tr>\n",
       "    <tr>\n",
       "      <th>9</th>\n",
       "      <td>Estonia - social networks</td>\n",
       "      <td>397</td>\n",
       "      <td>9</td>\n",
       "      <td>113680.95</td>\n",
       "      <td>298293.89</td>\n",
       "    </tr>\n",
       "    <tr>\n",
       "      <th>5</th>\n",
       "      <td>Cyprus - social networks</td>\n",
       "      <td>263</td>\n",
       "      <td>0</td>\n",
       "      <td>73398.04</td>\n",
       "      <td>274979.65</td>\n",
       "    </tr>\n",
       "    <tr>\n",
       "      <th>0</th>\n",
       "      <td></td>\n",
       "      <td>0</td>\n",
       "      <td>0</td>\n",
       "      <td>0.00</td>\n",
       "      <td>0.00</td>\n",
       "    </tr>\n",
       "  </tbody>\n",
       "</table>\n",
       "<p>32768 rows × 5 columns</p>\n",
       "</div>"
      ],
      "text/plain": [
       "                                       selected_segments  users  cs_contacts  \\\n",
       "32767  Austria - social networks, Belgium - social ne...  88318         4063   \n",
       "32762  Austria - social networks, Belgium - social ne...  88055         4063   \n",
       "32758  Austria - social networks, Belgium - social ne...  87921         4054   \n",
       "32698  Austria - social networks, Belgium - social ne...  87658         4054   \n",
       "32764  Austria - social networks, Belgium - social ne...  86150         3948   \n",
       "...                                                  ...    ...          ...   \n",
       "3                             Bulgaria - social networks   2168          115   \n",
       "69     Cyprus - social networks, Estonia - social net...    660            9   \n",
       "9                              Estonia - social networks    397            9   \n",
       "5                               Cyprus - social networks    263            0   \n",
       "0                                                             0            0   \n",
       "\n",
       "       marketing_spending      revenue  \n",
       "32767         27467731.24  89218064.93  \n",
       "32762         27394333.20  88943085.28  \n",
       "32758         27354050.29  88919771.04  \n",
       "32698         27280652.25  88644791.39  \n",
       "32764         27337152.60  88591924.85  \n",
       "...                   ...          ...  \n",
       "3               130578.64    626140.08  \n",
       "69              187078.99    573273.54  \n",
       "9               113680.95    298293.89  \n",
       "5                73398.04    274979.65  \n",
       "0                    0.00         0.00  \n",
       "\n",
       "[32768 rows x 5 columns]"
      ]
     },
     "execution_count": 249,
     "metadata": {},
     "output_type": "execute_result"
    }
   ],
   "source": [
    "res_df.sort_values('revenue', ascending = False)"
   ]
  },
  {
   "cell_type": "markdown",
   "id": "28d69001-4cc3-4d07-aa53-121e8bf6ce06",
   "metadata": {},
   "source": [
    "### Naive approach"
   ]
  },
  {
   "cell_type": "code",
   "execution_count": 250,
   "id": "6dd20272-539e-4251-a86a-b74a09027094",
   "metadata": {},
   "outputs": [
    {
     "data": {
      "text/plain": [
       "107.91584679"
      ]
     },
     "execution_count": 250,
     "metadata": {},
     "output_type": "execute_result"
    }
   ],
   "source": [
    "df['revenue_per_spend'] = df.revenue / df.marketing_spending \n",
    "df = df.sort_values('revenue_per_spend', ascending = False)\n",
    "df['spend_cumulative'] = df.marketing_spending.cumsum()\n",
    "df[df.spend_cumulative <= 30000000].revenue.sum()/1000000"
   ]
  },
  {
   "cell_type": "code",
   "execution_count": 307,
   "id": "eb24a104-1abe-4a84-ab16-3d68bf4c2a39",
   "metadata": {},
   "outputs": [
    {
     "data": {
      "text/plain": [
       "48"
      ]
     },
     "execution_count": 307,
     "metadata": {},
     "output_type": "execute_result"
    }
   ],
   "source": [
    "df[df.spend_cumulative <= 30000000].shape[0]"
   ]
  },
  {
   "cell_type": "markdown",
   "id": "7f8fc652-0261-4850-95d3-a9d8d6c499a4",
   "metadata": {},
   "source": [
    "### Merging segments"
   ]
  },
  {
   "cell_type": "code",
   "execution_count": 295,
   "id": "124a41c5-d019-4a12-9996-0131de2ec27b",
   "metadata": {},
   "outputs": [],
   "source": [
    "df['share_of_revenue'] = df.revenue/df.revenue.sum() * 100"
   ]
  },
  {
   "cell_type": "code",
   "execution_count": 296,
   "id": "7584015d-d144-4312-8817-1af4044da880",
   "metadata": {},
   "outputs": [],
   "source": [
    "# ! pip install matplotlib"
   ]
  },
  {
   "cell_type": "code",
   "execution_count": 297,
   "id": "77d67409-1737-4dd9-ae28-f888974ad7be",
   "metadata": {},
   "outputs": [],
   "source": [
    "from matplotlib import pyplot"
   ]
  },
  {
   "cell_type": "code",
   "execution_count": 298,
   "id": "c6600db9-2b44-4cf5-ae02-4bf6dbc91de6",
   "metadata": {},
   "outputs": [
    {
     "data": {
      "text/plain": [
       "<Axes: >"
      ]
     },
     "execution_count": 298,
     "metadata": {},
     "output_type": "execute_result"
    },
    {
     "data": {
      "image/png": "[encoded data removed]",
      "text/plain": [
       "<Figure size 640x480 with 1 Axes>"
      ]
     },
     "metadata": {},
     "output_type": "display_data"
    }
   ],
   "source": [
    "df.share_of_cs_contacts.hist(bins = 10)"
   ]
  },
  {
   "cell_type": "code",
   "execution_count": 299,
   "id": "5f7bbac2-b01c-4b11-b5d5-fa954eee5d71",
   "metadata": {},
   "outputs": [
    {
     "data": {
      "text/html": [
       "<div>\n",
       "<style scoped>\n",
       "    .dataframe tbody tr th:only-of-type {\n",
       "        vertical-align: middle;\n",
       "    }\n",
       "\n",
       "    .dataframe tbody tr th {\n",
       "        vertical-align: top;\n",
       "    }\n",
       "\n",
       "    .dataframe thead th {\n",
       "        text-align: right;\n",
       "    }\n",
       "</style>\n",
       "<table border=\"1\" class=\"dataframe\">\n",
       "  <thead>\n",
       "    <tr style=\"text-align: right;\">\n",
       "      <th></th>\n",
       "      <th>country</th>\n",
       "      <th>channel</th>\n",
       "      <th>users</th>\n",
       "      <th>cs_contacts</th>\n",
       "      <th>marketing_spending</th>\n",
       "      <th>revenue</th>\n",
       "      <th>segment</th>\n",
       "      <th>revenue_per_spend</th>\n",
       "      <th>spend_cumulative</th>\n",
       "      <th>share_of_cs_contacts</th>\n",
       "      <th>segment_group</th>\n",
       "      <th>contacts_per_user</th>\n",
       "      <th>selected</th>\n",
       "      <th>share_of_spend</th>\n",
       "      <th>share_of_revenue</th>\n",
       "    </tr>\n",
       "  </thead>\n",
       "  <tbody>\n",
       "    <tr>\n",
       "      <th>33</th>\n",
       "      <td>Bulgaria</td>\n",
       "      <td>influencers</td>\n",
       "      <td>75</td>\n",
       "      <td>3</td>\n",
       "      <td>11178.75</td>\n",
       "      <td>38001.00</td>\n",
       "      <td>Bulgaria - influencers</td>\n",
       "      <td>3.399396</td>\n",
       "      <td>16989049.50</td>\n",
       "      <td>0.031616</td>\n",
       "      <td>good</td>\n",
       "      <td>0.040000</td>\n",
       "      <td>1.0</td>\n",
       "      <td>0.017509</td>\n",
       "      <td>0.018494</td>\n",
       "    </tr>\n",
       "    <tr>\n",
       "      <th>49</th>\n",
       "      <td>Lithuania</td>\n",
       "      <td>influencers</td>\n",
       "      <td>88</td>\n",
       "      <td>3</td>\n",
       "      <td>17395.84</td>\n",
       "      <td>52408.40</td>\n",
       "      <td>Lithuania - influencers</td>\n",
       "      <td>3.012697</td>\n",
       "      <td>29234846.71</td>\n",
       "      <td>0.031616</td>\n",
       "      <td>good</td>\n",
       "      <td>0.034091</td>\n",
       "      <td>0.0</td>\n",
       "      <td>0.027247</td>\n",
       "      <td>0.025506</td>\n",
       "    </tr>\n",
       "    <tr>\n",
       "      <th>57</th>\n",
       "      <td>Romania</td>\n",
       "      <td>influencers</td>\n",
       "      <td>89</td>\n",
       "      <td>4</td>\n",
       "      <td>17801.78</td>\n",
       "      <td>72497.62</td>\n",
       "      <td>Romania - influencers</td>\n",
       "      <td>4.072493</td>\n",
       "      <td>5254066.33</td>\n",
       "      <td>0.042154</td>\n",
       "      <td>Romania - influencers</td>\n",
       "      <td>0.044944</td>\n",
       "      <td>1.0</td>\n",
       "      <td>0.027883</td>\n",
       "      <td>0.035283</td>\n",
       "    </tr>\n",
       "    <tr>\n",
       "      <th>45</th>\n",
       "      <td>Hungary</td>\n",
       "      <td>influencers</td>\n",
       "      <td>106</td>\n",
       "      <td>8</td>\n",
       "      <td>20981.64</td>\n",
       "      <td>74415.18</td>\n",
       "      <td>Hungary - influencers</td>\n",
       "      <td>3.546681</td>\n",
       "      <td>9422126.91</td>\n",
       "      <td>0.084308</td>\n",
       "      <td>Hungary - influencers</td>\n",
       "      <td>0.075472</td>\n",
       "      <td>1.0</td>\n",
       "      <td>0.032863</td>\n",
       "      <td>0.036216</td>\n",
       "    </tr>\n",
       "    <tr>\n",
       "      <th>21</th>\n",
       "      <td>Malta</td>\n",
       "      <td>social networks</td>\n",
       "      <td>144</td>\n",
       "      <td>5</td>\n",
       "      <td>19540.80</td>\n",
       "      <td>74854.08</td>\n",
       "      <td>Malta - social networks</td>\n",
       "      <td>3.830656</td>\n",
       "      <td>6180321.50</td>\n",
       "      <td>0.052693</td>\n",
       "      <td>good</td>\n",
       "      <td>0.034722</td>\n",
       "      <td>1.0</td>\n",
       "      <td>0.030606</td>\n",
       "      <td>0.036430</td>\n",
       "    </tr>\n",
       "    <tr>\n",
       "      <th>60</th>\n",
       "      <td>Slovakia</td>\n",
       "      <td>influencers</td>\n",
       "      <td>109</td>\n",
       "      <td>8</td>\n",
       "      <td>40242.80</td>\n",
       "      <td>123362.93</td>\n",
       "      <td>Slovakia - influencers</td>\n",
       "      <td>3.065466</td>\n",
       "      <td>27174990.14</td>\n",
       "      <td>0.084308</td>\n",
       "      <td>Slovakia - influencers</td>\n",
       "      <td>0.073394</td>\n",
       "      <td>1.0</td>\n",
       "      <td>0.063031</td>\n",
       "      <td>0.060038</td>\n",
       "    </tr>\n",
       "    <tr>\n",
       "      <th>39</th>\n",
       "      <td>Estonia</td>\n",
       "      <td>influencers</td>\n",
       "      <td>103</td>\n",
       "      <td>5</td>\n",
       "      <td>38026.57</td>\n",
       "      <td>131537.18</td>\n",
       "      <td>Estonia - influencers</td>\n",
       "      <td>3.459086</td>\n",
       "      <td>10264324.63</td>\n",
       "      <td>0.052693</td>\n",
       "      <td>Estonia - influencers</td>\n",
       "      <td>0.048544</td>\n",
       "      <td>1.0</td>\n",
       "      <td>0.059560</td>\n",
       "      <td>0.064016</td>\n",
       "    </tr>\n",
       "    <tr>\n",
       "      <th>52</th>\n",
       "      <td>Malta</td>\n",
       "      <td>influencers</td>\n",
       "      <td>123</td>\n",
       "      <td>8</td>\n",
       "      <td>46033.98</td>\n",
       "      <td>152977.56</td>\n",
       "      <td>Malta - influencers</td>\n",
       "      <td>3.323144</td>\n",
       "      <td>17035083.48</td>\n",
       "      <td>0.084308</td>\n",
       "      <td>Malta - influencers</td>\n",
       "      <td>0.065041</td>\n",
       "      <td>1.0</td>\n",
       "      <td>0.072102</td>\n",
       "      <td>0.074450</td>\n",
       "    </tr>\n",
       "    <tr>\n",
       "      <th>59</th>\n",
       "      <td>Slovenia</td>\n",
       "      <td>influencers</td>\n",
       "      <td>100</td>\n",
       "      <td>5</td>\n",
       "      <td>44757.00</td>\n",
       "      <td>169291.00</td>\n",
       "      <td>Slovenia - influencers</td>\n",
       "      <td>3.782447</td>\n",
       "      <td>6651751.81</td>\n",
       "      <td>0.052693</td>\n",
       "      <td>Slovenia - influencers</td>\n",
       "      <td>0.050000</td>\n",
       "      <td>1.0</td>\n",
       "      <td>0.070102</td>\n",
       "      <td>0.082390</td>\n",
       "    </tr>\n",
       "    <tr>\n",
       "      <th>16</th>\n",
       "      <td>Iceland</td>\n",
       "      <td>social networks</td>\n",
       "      <td>109</td>\n",
       "      <td>1</td>\n",
       "      <td>64267.49</td>\n",
       "      <td>202152.49</td>\n",
       "      <td>Iceland - social networks</td>\n",
       "      <td>3.145486</td>\n",
       "      <td>20698459.62</td>\n",
       "      <td>0.010539</td>\n",
       "      <td>good</td>\n",
       "      <td>0.009174</td>\n",
       "      <td>1.0</td>\n",
       "      <td>0.100661</td>\n",
       "      <td>0.098383</td>\n",
       "    </tr>\n",
       "  </tbody>\n",
       "</table>\n",
       "</div>"
      ],
      "text/plain": [
       "      country          channel  users  cs_contacts  marketing_spending  \\\n",
       "33   Bulgaria      influencers     75            3            11178.75   \n",
       "49  Lithuania      influencers     88            3            17395.84   \n",
       "57    Romania      influencers     89            4            17801.78   \n",
       "45    Hungary      influencers    106            8            20981.64   \n",
       "21      Malta  social networks    144            5            19540.80   \n",
       "60   Slovakia      influencers    109            8            40242.80   \n",
       "39    Estonia      influencers    103            5            38026.57   \n",
       "52      Malta      influencers    123            8            46033.98   \n",
       "59   Slovenia      influencers    100            5            44757.00   \n",
       "16    Iceland  social networks    109            1            64267.49   \n",
       "\n",
       "      revenue                    segment  revenue_per_spend  spend_cumulative  \\\n",
       "33   38001.00     Bulgaria - influencers           3.399396       16989049.50   \n",
       "49   52408.40    Lithuania - influencers           3.012697       29234846.71   \n",
       "57   72497.62      Romania - influencers           4.072493        5254066.33   \n",
       "45   74415.18      Hungary - influencers           3.546681        9422126.91   \n",
       "21   74854.08    Malta - social networks           3.830656        6180321.50   \n",
       "60  123362.93     Slovakia - influencers           3.065466       27174990.14   \n",
       "39  131537.18      Estonia - influencers           3.459086       10264324.63   \n",
       "52  152977.56        Malta - influencers           3.323144       17035083.48   \n",
       "59  169291.00     Slovenia - influencers           3.782447        6651751.81   \n",
       "16  202152.49  Iceland - social networks           3.145486       20698459.62   \n",
       "\n",
       "    share_of_cs_contacts           segment_group  contacts_per_user  selected  \\\n",
       "33              0.031616                    good           0.040000       1.0   \n",
       "49              0.031616                    good           0.034091       0.0   \n",
       "57              0.042154   Romania - influencers           0.044944       1.0   \n",
       "45              0.084308   Hungary - influencers           0.075472       1.0   \n",
       "21              0.052693                    good           0.034722       1.0   \n",
       "60              0.084308  Slovakia - influencers           0.073394       1.0   \n",
       "39              0.052693   Estonia - influencers           0.048544       1.0   \n",
       "52              0.084308     Malta - influencers           0.065041       1.0   \n",
       "59              0.052693  Slovenia - influencers           0.050000       1.0   \n",
       "16              0.010539                    good           0.009174       1.0   \n",
       "\n",
       "    share_of_spend  share_of_revenue  \n",
       "33        0.017509          0.018494  \n",
       "49        0.027247          0.025506  \n",
       "57        0.027883          0.035283  \n",
       "45        0.032863          0.036216  \n",
       "21        0.030606          0.036430  \n",
       "60        0.063031          0.060038  \n",
       "39        0.059560          0.064016  \n",
       "52        0.072102          0.074450  \n",
       "59        0.070102          0.082390  \n",
       "16        0.100661          0.098383  "
      ]
     },
     "execution_count": 299,
     "metadata": {},
     "output_type": "execute_result"
    }
   ],
   "source": [
    "df.sort_values('share_of_revenue').head(10)"
   ]
  },
  {
   "cell_type": "code",
   "execution_count": 302,
   "id": "a02822c8-2408-463e-8256-8d152d71421d",
   "metadata": {},
   "outputs": [],
   "source": [
    "df['segment_group'] = list(map(\n",
    "    lambda x, y: x if y >= 0.1 else 'other',\n",
    "    df.segment,\n",
    "    df.share_of_revenue\n",
    "))"
   ]
  },
  {
   "cell_type": "code",
   "execution_count": 304,
   "id": "ef190437-2ecd-4ea8-97a2-4464a3af6800",
   "metadata": {},
   "outputs": [
    {
     "data": {
      "text/plain": [
       "0.5312050617653221"
      ]
     },
     "execution_count": 304,
     "metadata": {},
     "output_type": "execute_result"
    }
   ],
   "source": [
    "df[df.segment_group == 'other'].share_of_revenue.sum()"
   ]
  },
  {
   "cell_type": "code",
   "execution_count": 305,
   "id": "aedecc13-d202-4fba-9ab1-e7cb52628ba1",
   "metadata": {},
   "outputs": [
    {
     "data": {
      "text/plain": [
       "(10, 15)"
      ]
     },
     "execution_count": 305,
     "metadata": {},
     "output_type": "execute_result"
    }
   ],
   "source": [
    "df[df.segment_group == 'other'].shape"
   ]
  },
  {
   "cell_type": "code",
   "execution_count": 303,
   "id": "6add48db-fd80-4cd9-8855-d9685f516f3e",
   "metadata": {},
   "outputs": [
    {
     "data": {
      "text/plain": [
       "53"
      ]
     },
     "execution_count": 303,
     "metadata": {},
     "output_type": "execute_result"
    }
   ],
   "source": [
    "df.segment_group.nunique()"
   ]
  },
  {
   "cell_type": "code",
   "execution_count": 306,
   "id": "d0200325-aeae-48d4-920a-49ce09ab7bbb",
   "metadata": {},
   "outputs": [
    {
     "data": {
      "text/plain": [
       "20401.17248029688"
      ]
     },
     "execution_count": 306,
     "metadata": {},
     "output_type": "execute_result"
    }
   ],
   "source": [
    "2**52 / 7000 / 3600 / 24 / 365"
   ]
  },
  {
   "cell_type": "code",
   "execution_count": 259,
   "id": "d34feed3-77ae-4a9d-9dcd-e40772e3fbe6",
   "metadata": {},
   "outputs": [
    {
     "data": {
      "text/plain": [
       "0.0465683507962604"
      ]
     },
     "execution_count": 259,
     "metadata": {},
     "output_type": "execute_result"
    }
   ],
   "source": [
    "df.cs_contacts.sum()/df.users.sum()"
   ]
  },
  {
   "cell_type": "code",
   "execution_count": 260,
   "id": "a65e038f-b779-4219-8b86-3e58338cc313",
   "metadata": {},
   "outputs": [],
   "source": [
    "df['contacts_per_user'] = df.cs_contacts/df.users"
   ]
  },
  {
   "cell_type": "code",
   "execution_count": 261,
   "id": "5b80ccb8-11d5-4c9f-b7fc-42c680108dd0",
   "metadata": {},
   "outputs": [
    {
     "data": {
      "text/plain": [
       "(23, 12)"
      ]
     },
     "execution_count": 261,
     "metadata": {},
     "output_type": "execute_result"
    }
   ],
   "source": [
    "df[df.contacts_per_user <= 0.045].shape"
   ]
  },
  {
   "cell_type": "code",
   "execution_count": 262,
   "id": "512ca33f-1c6a-4c54-983c-aee99bb53d78",
   "metadata": {},
   "outputs": [],
   "source": [
    "df['segment_group'] = list(map(\n",
    "    lambda x, y: x if y > 0.042 else 'good',\n",
    "    df.segment,\n",
    "    df.contacts_per_user\n",
    "))"
   ]
  },
  {
   "cell_type": "code",
   "execution_count": 263,
   "id": "502c3c90-7761-492b-8cde-10f3043f095b",
   "metadata": {},
   "outputs": [
    {
     "data": {
      "text/plain": [
       "43"
      ]
     },
     "execution_count": 263,
     "metadata": {},
     "output_type": "execute_result"
    }
   ],
   "source": [
    "df.segment_group.nunique()"
   ]
  },
  {
   "cell_type": "code",
   "execution_count": 264,
   "id": "27c181f7-d643-4bc2-9daa-2b2d61e49d23",
   "metadata": {},
   "outputs": [
    {
     "data": {
      "text/plain": [
       "9.96151000014496"
      ]
     },
     "execution_count": 264,
     "metadata": {},
     "output_type": "execute_result"
    }
   ],
   "source": [
    "2**41 / 7000 / 3600 / 24 / 365"
   ]
  },
  {
   "cell_type": "markdown",
   "id": "9b1c98d6-db59-4f8f-a403-44f387379a82",
   "metadata": {},
   "source": [
    "### Linear optimisations"
   ]
  },
  {
   "cell_type": "code",
   "execution_count": 265,
   "id": "ce3eeb65-e16f-4fc1-bbe4-7d4408a9eb8d",
   "metadata": {},
   "outputs": [
    {
     "name": "stdout",
     "output_type": "stream",
     "text": [
      "Requirement already satisfied: pulp in /Users/marie/Documents/github/llm_env/lib/python3.11/site-packages (2.9.0)\n",
      "\n",
      "\u001b[1m[\u001b[0m\u001b[34;49mnotice\u001b[0m\u001b[1;39;49m]\u001b[0m\u001b[39;49m A new release of pip is available: \u001b[0m\u001b[31;49m23.3.1\u001b[0m\u001b[39;49m -> \u001b[0m\u001b[32;49m24.3.1\u001b[0m\n",
      "\u001b[1m[\u001b[0m\u001b[34;49mnotice\u001b[0m\u001b[1;39;49m]\u001b[0m\u001b[39;49m To update, run: \u001b[0m\u001b[32;49mpip install --upgrade pip\u001b[0m\n"
     ]
    }
   ],
   "source": [
    "! pip install pulp"
   ]
  },
  {
   "cell_type": "code",
   "execution_count": 266,
   "id": "668e5018-4d47-48a4-989e-0ce7423cae7b",
   "metadata": {},
   "outputs": [
    {
     "data": {
      "text/html": [
       "<div>\n",
       "<style scoped>\n",
       "    .dataframe tbody tr th:only-of-type {\n",
       "        vertical-align: middle;\n",
       "    }\n",
       "\n",
       "    .dataframe tbody tr th {\n",
       "        vertical-align: top;\n",
       "    }\n",
       "\n",
       "    .dataframe thead th {\n",
       "        text-align: right;\n",
       "    }\n",
       "</style>\n",
       "<table border=\"1\" class=\"dataframe\">\n",
       "  <thead>\n",
       "    <tr style=\"text-align: right;\">\n",
       "      <th></th>\n",
       "      <th>country</th>\n",
       "      <th>channel</th>\n",
       "      <th>users</th>\n",
       "      <th>cs_contacts</th>\n",
       "      <th>marketing_spending</th>\n",
       "      <th>revenue</th>\n",
       "      <th>segment</th>\n",
       "      <th>revenue_per_spend</th>\n",
       "      <th>spend_cumulative</th>\n",
       "      <th>share_of_cs_contacts</th>\n",
       "      <th>segment_group</th>\n",
       "      <th>contacts_per_user</th>\n",
       "    </tr>\n",
       "  </thead>\n",
       "  <tbody>\n",
       "    <tr>\n",
       "      <th>27</th>\n",
       "      <td>Sweden</td>\n",
       "      <td>social networks</td>\n",
       "      <td>3088</td>\n",
       "      <td>108</td>\n",
       "      <td>1075828.32</td>\n",
       "      <td>6952261.44</td>\n",
       "      <td>Sweden - social networks</td>\n",
       "      <td>6.462241</td>\n",
       "      <td>1075828.32</td>\n",
       "      <td>1.138160</td>\n",
       "      <td>good</td>\n",
       "      <td>0.034974</td>\n",
       "    </tr>\n",
       "    <tr>\n",
       "      <th>3</th>\n",
       "      <td>Switzerland</td>\n",
       "      <td>social networks</td>\n",
       "      <td>2681</td>\n",
       "      <td>180</td>\n",
       "      <td>1781765.79</td>\n",
       "      <td>10498340.23</td>\n",
       "      <td>Switzerland - social networks</td>\n",
       "      <td>5.892099</td>\n",
       "      <td>2857594.11</td>\n",
       "      <td>1.896933</td>\n",
       "      <td>Switzerland - social networks</td>\n",
       "      <td>0.067139</td>\n",
       "    </tr>\n",
       "    <tr>\n",
       "      <th>18</th>\n",
       "      <td>Lithuania</td>\n",
       "      <td>social networks</td>\n",
       "      <td>730</td>\n",
       "      <td>46</td>\n",
       "      <td>106492.40</td>\n",
       "      <td>528038.20</td>\n",
       "      <td>Lithuania - social networks</td>\n",
       "      <td>4.958459</td>\n",
       "      <td>2964086.51</td>\n",
       "      <td>0.484772</td>\n",
       "      <td>Lithuania - social networks</td>\n",
       "      <td>0.063014</td>\n",
       "    </tr>\n",
       "    <tr>\n",
       "      <th>2</th>\n",
       "      <td>Bulgaria</td>\n",
       "      <td>social networks</td>\n",
       "      <td>2168</td>\n",
       "      <td>115</td>\n",
       "      <td>130578.64</td>\n",
       "      <td>626140.08</td>\n",
       "      <td>Bulgaria - social networks</td>\n",
       "      <td>4.795119</td>\n",
       "      <td>3094665.15</td>\n",
       "      <td>1.211930</td>\n",
       "      <td>Bulgaria - social networks</td>\n",
       "      <td>0.053044</td>\n",
       "    </tr>\n",
       "    <tr>\n",
       "      <th>29</th>\n",
       "      <td>Slovakia</td>\n",
       "      <td>social networks</td>\n",
       "      <td>1702</td>\n",
       "      <td>46</td>\n",
       "      <td>274056.04</td>\n",
       "      <td>1309586.88</td>\n",
       "      <td>Slovakia - social networks</td>\n",
       "      <td>4.778537</td>\n",
       "      <td>3368721.19</td>\n",
       "      <td>0.484772</td>\n",
       "      <td>good</td>\n",
       "      <td>0.027027</td>\n",
       "    </tr>\n",
       "  </tbody>\n",
       "</table>\n",
       "</div>"
      ],
      "text/plain": [
       "        country          channel  users  cs_contacts  marketing_spending  \\\n",
       "27       Sweden  social networks   3088          108          1075828.32   \n",
       "3   Switzerland  social networks   2681          180          1781765.79   \n",
       "18    Lithuania  social networks    730           46           106492.40   \n",
       "2      Bulgaria  social networks   2168          115           130578.64   \n",
       "29     Slovakia  social networks   1702           46           274056.04   \n",
       "\n",
       "        revenue                        segment  revenue_per_spend  \\\n",
       "27   6952261.44       Sweden - social networks           6.462241   \n",
       "3   10498340.23  Switzerland - social networks           5.892099   \n",
       "18    528038.20    Lithuania - social networks           4.958459   \n",
       "2     626140.08     Bulgaria - social networks           4.795119   \n",
       "29   1309586.88     Slovakia - social networks           4.778537   \n",
       "\n",
       "    spend_cumulative  share_of_cs_contacts                  segment_group  \\\n",
       "27        1075828.32              1.138160                           good   \n",
       "3         2857594.11              1.896933  Switzerland - social networks   \n",
       "18        2964086.51              0.484772    Lithuania - social networks   \n",
       "2         3094665.15              1.211930     Bulgaria - social networks   \n",
       "29        3368721.19              0.484772                           good   \n",
       "\n",
       "    contacts_per_user  \n",
       "27           0.034974  \n",
       "3            0.067139  \n",
       "18           0.063014  \n",
       "2            0.053044  \n",
       "29           0.027027  "
      ]
     },
     "execution_count": 266,
     "metadata": {},
     "output_type": "execute_result"
    }
   ],
   "source": [
    "df.head()"
   ]
  },
  {
   "cell_type": "code",
   "execution_count": 180,
   "id": "a21000c5-da24-4d1c-995b-58eb7db7719d",
   "metadata": {},
   "outputs": [],
   "source": [
    "from pulp import *"
   ]
  },
  {
   "cell_type": "code",
   "execution_count": 309,
   "id": "7981564c-b165-4aff-ad3f-09f37533b99a",
   "metadata": {},
   "outputs": [],
   "source": [
    "# Create the problem instance\n",
    "problem = LpProblem(\"Marketing_campaign\", LpMaximize)"
   ]
  },
  {
   "cell_type": "code",
   "execution_count": 310,
   "id": "9c652190-1607-4045-9c57-87167ee6bc47",
   "metadata": {},
   "outputs": [],
   "source": [
    "# Decision variables\n",
    "items = range(df.shape[0])  # Number of items\n",
    "selected = LpVariable.dicts(\"Selected\", items, cat=\"Binary\")"
   ]
  },
  {
   "cell_type": "code",
   "execution_count": 311,
   "id": "b531bf83-7875-45e3-bb15-8a61d2e81692",
   "metadata": {},
   "outputs": [],
   "source": [
    "# Objective function: Maximize the total value\n",
    "problem += lpSum(selected[i] * list(df['revenue'].values)[i] for i in items)"
   ]
  },
  {
   "cell_type": "code",
   "execution_count": 312,
   "id": "dccf2cd3-9965-4ae6-a656-122e39941741",
   "metadata": {},
   "outputs": [],
   "source": [
    "# Constraint: Total weight should not exceed the knapsack capacity\n",
    "problem += lpSum(selected[i] * list(df['marketing_spending'].values)[i] for i in items) <= 30000000"
   ]
  },
  {
   "cell_type": "code",
   "execution_count": 313,
   "id": "ca10aa4c-2000-4af3-b26f-7195621385c6",
   "metadata": {},
   "outputs": [
    {
     "data": {
      "text/plain": [
       "Marketing_campaign:\n",
       "MAXIMIZE\n",
       "6952261.44*Selected_0 + 10498340.23*Selected_1 + 364652.47*Selected_10 + 360358.8*Selected_11 + 2543016.96*Selected_12 + 294875.7*Selected_13 + 74854.08*Selected_14 + 1623908.0*Selected_15 + 169291.0*Selected_16 + 274979.65*Selected_17 + 369810.24*Selected_18 + 2597360.42*Selected_19 + 528038.2*Selected_2 + 3134893.86*Selected_20 + 338584.17*Selected_21 + 1601526.83*Selected_22 + 1709970.66*Selected_23 + 74415.18*Selected_24 + 2524372.62*Selected_25 + 323604.61*Selected_26 + 131537.18*Selected_27 + 220807.6*Selected_28 + 988428.48*Selected_29 + 626140.08*Selected_3 + 239873.24*Selected_30 + 1636203.64*Selected_31 + 19785841.52*Selected_32 + 38001.0*Selected_33 + 152977.56*Selected_34 + 9100510.86*Selected_35 + 229397.46*Selected_36 + 883976.8*Selected_37 + 1424592.89*Selected_38 + 202152.49*Selected_39 + 1309586.88*Selected_4 + 936300.36*Selected_40 + 8605419.9*Selected_41 + 7887038.4*Selected_42 + 2450700.7*Selected_43 + 123362.93*Selected_44 + 324029.88*Selected_45 + 5846286.1*Selected_46 + 52408.4*Selected_47 + 18150012.09*Selected_48 + 2211198.84*Selected_49 + 1533916.29*Selected_5 + 6292661.87*Selected_50 + 1912524.75*Selected_51 + 18903895.27*Selected_52 + 412054.86*Selected_53 + 301344.71*Selected_54 + 15728375.02*Selected_55 + 23326034.85*Selected_56 + 5549541.12*Selected_57 + 886285.44*Selected_58 + 298293.89*Selected_59 + 5947157.45*Selected_6 + 1997371.98*Selected_60 + 1590281.28*Selected_61 + 432657.68*Selected_7 + 374928.28*Selected_8 + 72497.62*Selected_9 + 0.0\n",
       "SUBJECT TO\n",
       "_C1: 1075828.32 Selected_0 + 1781765.79 Selected_1 + 90580.36 Selected_10\n",
       " + 90307.2 Selected_11 + 649353.21 Selected_12 + 76473.6 Selected_13\n",
       " + 19540.8 Selected_14 + 426673.31 Selected_15 + 44757 Selected_16\n",
       " + 73398.04 Selected_17 + 99085.5 Selected_18 + 706960.3 Selected_19\n",
       " + 106492.4 Selected_2 + 854379.9 Selected_20 + 92806.56 Selected_21\n",
       " + 442759.82 Selected_22 + 480003.34 Selected_23 + 20981.64 Selected_24\n",
       " + 711903.78 Selected_25 + 92267.37 Selected_26 + 38026.57 Selected_27\n",
       " + 64034.88 Selected_28 + 286965.12 Selected_29 + 130578.64 Selected_3\n",
       " + 70185.32 Selected_30 + 479207.6 Selected_31 + 5813153.2 Selected_32\n",
       " + 11178.75 Selected_33 + 46033.98 Selected_34 + 2800790.16 Selected_35\n",
       " + 71460.54 Selected_36 + 276206 Selected_37 + 450651.95 Selected_38\n",
       " + 64267.49 Selected_39 + 274056.04 Selected_4 + 301633.5 Selected_40\n",
       " + 2784677.5 Selected_41 + 2554604.8 Selected_42 + 795371.92 Selected_43\n",
       " + 40242.8 Selected_44 + 107157.47 Selected_45 + 1935303.26 Selected_46\n",
       " + 17395.84 Selected_47 + 6045186.06 Selected_48 + 740898.08 Selected_49\n",
       " + 329255.83 Selected_5 + 2130851.14 Selected_50 + 659602.44 Selected_51\n",
       " + 6522106.89 Selected_52 + 147277.46 Selected_53 + 110421.52 Selected_54\n",
       " + 5778243.23 Selected_55 + 8587438.56 Selected_56 + 2059447.68 Selected_57\n",
       " + 330094.86 Selected_58 + 113680.95 Selected_59 + 1348442.81 Selected_6\n",
       " + 763777.1 Selected_60 + 621730.2 Selected_61 + 101070.32 Selected_7\n",
       " + 88774.4 Selected_8 + 17801.78 Selected_9 <= 30000000\n",
       "\n",
       "VARIABLES\n",
       "0 <= Selected_0 <= 1 Integer\n",
       "0 <= Selected_1 <= 1 Integer\n",
       "0 <= Selected_10 <= 1 Integer\n",
       "0 <= Selected_11 <= 1 Integer\n",
       "0 <= Selected_12 <= 1 Integer\n",
       "0 <= Selected_13 <= 1 Integer\n",
       "0 <= Selected_14 <= 1 Integer\n",
       "0 <= Selected_15 <= 1 Integer\n",
       "0 <= Selected_16 <= 1 Integer\n",
       "0 <= Selected_17 <= 1 Integer\n",
       "0 <= Selected_18 <= 1 Integer\n",
       "0 <= Selected_19 <= 1 Integer\n",
       "0 <= Selected_2 <= 1 Integer\n",
       "0 <= Selected_20 <= 1 Integer\n",
       "0 <= Selected_21 <= 1 Integer\n",
       "0 <= Selected_22 <= 1 Integer\n",
       "0 <= Selected_23 <= 1 Integer\n",
       "0 <= Selected_24 <= 1 Integer\n",
       "0 <= Selected_25 <= 1 Integer\n",
       "0 <= Selected_26 <= 1 Integer\n",
       "0 <= Selected_27 <= 1 Integer\n",
       "0 <= Selected_28 <= 1 Integer\n",
       "0 <= Selected_29 <= 1 Integer\n",
       "0 <= Selected_3 <= 1 Integer\n",
       "0 <= Selected_30 <= 1 Integer\n",
       "0 <= Selected_31 <= 1 Integer\n",
       "0 <= Selected_32 <= 1 Integer\n",
       "0 <= Selected_33 <= 1 Integer\n",
       "0 <= Selected_34 <= 1 Integer\n",
       "0 <= Selected_35 <= 1 Integer\n",
       "0 <= Selected_36 <= 1 Integer\n",
       "0 <= Selected_37 <= 1 Integer\n",
       "0 <= Selected_38 <= 1 Integer\n",
       "0 <= Selected_39 <= 1 Integer\n",
       "0 <= Selected_4 <= 1 Integer\n",
       "0 <= Selected_40 <= 1 Integer\n",
       "0 <= Selected_41 <= 1 Integer\n",
       "0 <= Selected_42 <= 1 Integer\n",
       "0 <= Selected_43 <= 1 Integer\n",
       "0 <= Selected_44 <= 1 Integer\n",
       "0 <= Selected_45 <= 1 Integer\n",
       "0 <= Selected_46 <= 1 Integer\n",
       "0 <= Selected_47 <= 1 Integer\n",
       "0 <= Selected_48 <= 1 Integer\n",
       "0 <= Selected_49 <= 1 Integer\n",
       "0 <= Selected_5 <= 1 Integer\n",
       "0 <= Selected_50 <= 1 Integer\n",
       "0 <= Selected_51 <= 1 Integer\n",
       "0 <= Selected_52 <= 1 Integer\n",
       "0 <= Selected_53 <= 1 Integer\n",
       "0 <= Selected_54 <= 1 Integer\n",
       "0 <= Selected_55 <= 1 Integer\n",
       "0 <= Selected_56 <= 1 Integer\n",
       "0 <= Selected_57 <= 1 Integer\n",
       "0 <= Selected_58 <= 1 Integer\n",
       "0 <= Selected_59 <= 1 Integer\n",
       "0 <= Selected_6 <= 1 Integer\n",
       "0 <= Selected_60 <= 1 Integer\n",
       "0 <= Selected_61 <= 1 Integer\n",
       "0 <= Selected_7 <= 1 Integer\n",
       "0 <= Selected_8 <= 1 Integer\n",
       "0 <= Selected_9 <= 1 Integer"
      ]
     },
     "execution_count": 313,
     "metadata": {},
     "output_type": "execute_result"
    }
   ],
   "source": [
    "problem"
   ]
  },
  {
   "cell_type": "code",
   "execution_count": 315,
   "id": "f2a027e9-5edb-41e1-beac-d309369bd652",
   "metadata": {},
   "outputs": [
    {
     "name": "stdout",
     "output_type": "stream",
     "text": [
      "CPU times: user 3 μs, sys: 1e+03 ns, total: 4 μs\n",
      "Wall time: 6.2 μs\n",
      "Welcome to the CBC MILP Solver \n",
      "Version: 2.10.3 \n",
      "Build Date: Dec 15 2019 \n",
      "\n",
      "command line - /Users/marie/Documents/github/llm_env/lib/python3.11/site-packages/pulp/solverdir/cbc/osx/64/cbc /var/folders/7v/1ln722x97kd8bchgxpmdkynw0000gn/T/6d7e8e5a898445ab83d189cbdec240b4-pulp.mps -max -timeMode elapsed -branch -printingOptions all -solution /var/folders/7v/1ln722x97kd8bchgxpmdkynw0000gn/T/6d7e8e5a898445ab83d189cbdec240b4-pulp.sol (default strategy 1)\n",
      "At line 2 NAME          MODEL\n",
      "At line 3 ROWS\n",
      "At line 6 COLUMNS\n",
      "At line 255 RHS\n",
      "At line 257 BOUNDS\n",
      "At line 320 ENDATA\n",
      "Problem MODEL has 1 rows, 62 columns and 62 elements\n",
      "Coin0008I MODEL read with 0 errors\n",
      "Option for timeMode changed from cpu to elapsed\n",
      "Continuous objective value is 1.10213e+08 - 0.00 seconds\n",
      "Cgl0004I processed model has 1 rows, 62 columns (62 integer (62 of which binary)) and 62 elements\n",
      "Cbc0038I Initial state - 1 integers unsatisfied sum - 0.126572\n",
      "Cbc0038I Solution found of -1.07916e+08\n",
      "Cbc0038I Before mini branch and bound, 61 integers at bound fixed and 0 continuous\n",
      "Cbc0038I Full problem 1 rows 62 columns, reduced to 0 rows 0 columns\n",
      "Cbc0038I Mini branch and bound did not improve solution (0.01 seconds)\n",
      "Cbc0038I Round again with cutoff of -1.08146e+08\n",
      "Cbc0038I Reduced cost fixing fixed 4 variables on major pass 2\n",
      "Cbc0038I Pass   1: suminf.    0.01215 (1) obj. -1.08146e+08 iterations 2\n",
      "Cbc0038I Pass   2: suminf.    0.11732 (1) obj. -1.10134e+08 iterations 1\n",
      "Cbc0038I Pass   3: suminf.    0.14721 (1) obj. -1.08256e+08 iterations 10\n",
      "Cbc0038I Pass   4: suminf.    0.38091 (2) obj. -1.08146e+08 iterations 2\n",
      "Cbc0038I Pass   5: suminf.    0.14721 (1) obj. -1.08256e+08 iterations 2\n",
      "Cbc0038I Pass   6: suminf.    0.31927 (1) obj. -1.08478e+08 iterations 11\n",
      "Cbc0038I Pass   7: suminf.    0.42260 (2) obj. -1.08146e+08 iterations 2\n",
      "Cbc0038I Pass   8: suminf.    0.31927 (1) obj. -1.08478e+08 iterations 1\n",
      "Cbc0038I Pass   9: suminf.    0.31927 (1) obj. -1.08478e+08 iterations 0\n",
      "Cbc0038I Pass  10: suminf.    0.79576 (2) obj. -1.08146e+08 iterations 12\n",
      "Cbc0038I Pass  11: suminf.    0.31244 (1) obj. -1.08146e+08 iterations 2\n",
      "Cbc0038I Pass  12: suminf.    0.32615 (1) obj. -1.08405e+08 iterations 1\n",
      "Cbc0038I Pass  13: suminf.    0.73931 (2) obj. -1.08146e+08 iterations 21\n",
      "Cbc0038I Pass  14: suminf.    0.73931 (2) obj. -1.08146e+08 iterations 0\n",
      "Cbc0038I Pass  15: suminf.    0.57535 (2) obj. -1.08146e+08 iterations 3\n",
      "Cbc0038I Pass  16: suminf.    0.38575 (1) obj. -1.0848e+08 iterations 1\n",
      "Cbc0038I Pass  17: suminf.    0.38575 (1) obj. -1.0848e+08 iterations 0\n",
      "Cbc0038I Pass  18: suminf.    0.77932 (2) obj. -1.08146e+08 iterations 11\n",
      "Cbc0038I Pass  19: suminf.    0.43441 (1) obj. -1.08146e+08 iterations 2\n",
      "Cbc0038I Pass  20: suminf.    0.43567 (1) obj. -1.08169e+08 iterations 1\n",
      "Cbc0038I Pass  21: suminf.    0.48861 (1) obj. -1.08201e+08 iterations 12\n",
      "Cbc0038I Pass  22: suminf.    0.50490 (2) obj. -1.08146e+08 iterations 2\n",
      "Cbc0038I Pass  23: suminf.    0.48861 (1) obj. -1.08201e+08 iterations 1\n",
      "Cbc0038I Pass  24: suminf.    0.48861 (1) obj. -1.08201e+08 iterations 0\n",
      "Cbc0038I Pass  25: suminf.    0.65914 (2) obj. -1.08146e+08 iterations 9\n",
      "Cbc0038I Pass  26: suminf.    0.48428 (1) obj. -1.0824e+08 iterations 1\n",
      "Cbc0038I Pass  27: suminf.    0.50478 (2) obj. -1.08146e+08 iterations 2\n",
      "Cbc0038I Pass  28: suminf.    0.48428 (1) obj. -1.0824e+08 iterations 1\n",
      "Cbc0038I Pass  29: suminf.    0.82372 (2) obj. -1.08146e+08 iterations 11\n",
      "Cbc0038I Pass  30: suminf.    0.82372 (2) obj. -1.08146e+08 iterations 0\n",
      "Cbc0038I Rounding solution of -1.09814e+08 is better than previous of -1.07916e+08\n",
      "\n",
      "Cbc0038I Before mini branch and bound, 15 integers at bound fixed and 0 continuous\n",
      "Cbc0038I Full problem 1 rows 62 columns, reduced to 1 rows 43 columns\n",
      "Cbc0038I Mini branch and bound improved solution from -1.09814e+08 to -1.10163e+08 (0.01 seconds)\n",
      "Cbc0038I Round again with cutoff of -1.10173e+08\n",
      "Cbc0038I Reduced cost fixing fixed 42 variables on major pass 3\n",
      "Cbc0038I Pass  30: suminf.    0.12435 (1) obj. -1.10173e+08 iterations 1\n",
      "Cbc0038I Pass  31: suminf.    0.12657 (1) obj. -1.10213e+08 iterations 1\n",
      "Cbc0038I Pass  32: suminf.    0.13549 (1) obj. -1.10173e+08 iterations 2\n",
      "Cbc0038I Pass  33: suminf.    0.13720 (1) obj. -1.10204e+08 iterations 1\n",
      "Cbc0038I Pass  34: suminf.    0.13549 (1) obj. -1.10173e+08 iterations 1\n",
      "Cbc0038I Pass  35: suminf.    0.14140 (2) obj. -1.10173e+08 iterations 4\n",
      "Cbc0038I Pass  36: suminf.    0.02130 (1) obj. -1.10188e+08 iterations 2\n",
      "Cbc0038I Pass  37: suminf.    0.02045 (1) obj. -1.10173e+08 iterations 1\n",
      "Cbc0038I Pass  38: suminf.    0.21682 (2) obj. -1.10173e+08 iterations 4\n",
      "Cbc0038I Pass  39: suminf.    0.02630 (1) obj. -1.10173e+08 iterations 1\n",
      "Cbc0038I Pass  40: suminf.    0.02646 (1) obj. -1.10176e+08 iterations 1\n",
      "Cbc0038I Pass  41: suminf.    0.27259 (2) obj. -1.10173e+08 iterations 3\n",
      "Cbc0038I Pass  42: suminf.    0.13839 (1) obj. -1.10198e+08 iterations 2\n",
      "Cbc0038I Pass  43: suminf.    0.13699 (1) obj. -1.10173e+08 iterations 1\n",
      "Cbc0038I Pass  44: suminf.    0.44156 (2) obj. -1.10173e+08 iterations 2\n",
      "Cbc0038I Pass  45: suminf.    0.01516 (1) obj. -1.10173e+08 iterations 1\n",
      "Cbc0038I Pass  46: suminf.    0.01583 (1) obj. -1.10185e+08 iterations 1\n",
      "Cbc0038I Pass  47: suminf.    0.30230 (2) obj. -1.10173e+08 iterations 4\n",
      "Cbc0038I Pass  48: suminf.    0.30230 (2) obj. -1.10173e+08 iterations 0\n",
      "Cbc0038I Pass  49: suminf.    0.16675 (1) obj. -1.10187e+08 iterations 2\n",
      "Cbc0038I Pass  50: suminf.    0.16598 (1) obj. -1.10173e+08 iterations 1\n",
      "Cbc0038I Pass  51: suminf.    0.37672 (2) obj. -1.10173e+08 iterations 3\n",
      "Cbc0038I Pass  52: suminf.    0.37672 (2) obj. -1.10173e+08 iterations 0\n",
      "Cbc0038I Pass  53: suminf.    0.16963 (1) obj. -1.10187e+08 iterations 2\n",
      "Cbc0038I Pass  54: suminf.    0.16886 (1) obj. -1.10173e+08 iterations 1\n",
      "Cbc0038I Pass  55: suminf.    0.37921 (2) obj. -1.10173e+08 iterations 3\n",
      "Cbc0038I Pass  56: suminf.    0.37921 (2) obj. -1.10173e+08 iterations 0\n",
      "Cbc0038I Pass  57: suminf.    0.15856 (1) obj. -1.10186e+08 iterations 2\n",
      "Cbc0038I Pass  58: suminf.    0.15781 (1) obj. -1.10173e+08 iterations 1\n",
      "Cbc0038I Pass  59: suminf.    0.12830 (2) obj. -1.10173e+08 iterations 3\n",
      "Cbc0038I No solution found this major pass\n",
      "Cbc0038I Before mini branch and bound, 51 integers at bound fixed and 0 continuous\n",
      "Cbc0038I Mini branch and bound did not improve solution (0.01 seconds)\n",
      "Cbc0038I After 0.01 seconds - Feasibility pump exiting with objective of -1.10163e+08 - took 0.01 seconds\n",
      "Cbc0012I Integer solution of -1.1016266e+08 found by feasibility pump after 0 iterations and 0 nodes (0.01 seconds)\n",
      "Cbc0038I Full problem 1 rows 62 columns, reduced to 1 rows 3 columns\n",
      "Cbc0031I 9 added rows had average density of 9\n",
      "Cbc0013I At root node, 9 cuts changed objective from -1.1019491e+08 to -1.1018709e+08 in 17 passes\n",
      "Cbc0014I Cut generator 0 (Probing) - 0 row cuts average 0.0 elements, 0 column cuts (0 active)  in 0.000 seconds - new frequency is -100\n",
      "Cbc0014I Cut generator 1 (Gomory) - 0 row cuts average 0.0 elements, 0 column cuts (0 active)  in 0.001 seconds - new frequency is -100\n",
      "Cbc0014I Cut generator 2 (Knapsack) - 27 row cuts average 8.9 elements, 0 column cuts (0 active)  in 0.001 seconds - new frequency is 1\n",
      "Cbc0014I Cut generator 3 (Clique) - 0 row cuts average 0.0 elements, 0 column cuts (0 active)  in 0.000 seconds - new frequency is -100\n",
      "Cbc0014I Cut generator 4 (MixedIntegerRounding2) - 0 row cuts average 0.0 elements, 0 column cuts (0 active)  in 0.000 seconds - new frequency is -100\n",
      "Cbc0014I Cut generator 5 (FlowCover) - 0 row cuts average 0.0 elements, 0 column cuts (0 active)  in 0.000 seconds - new frequency is -100\n",
      "Cbc0010I After 0 nodes, 1 on tree, -1.1016266e+08 best solution, best possible -1.1018709e+08 (0.02 seconds)\n",
      "Cbc0001I Search completed - best objective -110162662.21, took 76 iterations and 4 nodes (0.02 seconds)\n",
      "Cbc0032I Strong branching done 38 times (164 iterations), fathomed 2 nodes and fixed 0 variables\n",
      "Cbc0035I Maximum depth 1, 65 variables fixed on reduced cost\n",
      "Cuts at root node changed objective from -1.10213e+08 to -1.10187e+08\n",
      "Probing was tried 17 times and created 0 cuts of which 0 were active after adding rounds of cuts (0.000 seconds)\n",
      "Gomory was tried 17 times and created 0 cuts of which 0 were active after adding rounds of cuts (0.001 seconds)\n",
      "Knapsack was tried 30 times and created 43 cuts of which 0 were active after adding rounds of cuts (0.002 seconds)\n",
      "Clique was tried 17 times and created 0 cuts of which 0 were active after adding rounds of cuts (0.000 seconds)\n",
      "MixedIntegerRounding2 was tried 17 times and created 0 cuts of which 0 were active after adding rounds of cuts (0.000 seconds)\n",
      "FlowCover was tried 17 times and created 0 cuts of which 0 were active after adding rounds of cuts (0.000 seconds)\n",
      "TwoMirCuts was tried 1 times and created 0 cuts of which 0 were active after adding rounds of cuts (0.000 seconds)\n",
      "ZeroHalf was tried 1 times and created 0 cuts of which 0 were active after adding rounds of cuts (0.000 seconds)\n",
      "\n",
      "Result - Optimal solution found\n",
      "\n",
      "Objective value:                110162662.21000001\n",
      "Enumerated nodes:               4\n",
      "Total iterations:               76\n",
      "Time (CPU seconds):             0.02\n",
      "Time (Wallclock seconds):       0.02\n",
      "\n",
      "Option for printingOptions changed from normal to all\n",
      "Total time (CPU seconds):       0.02   (Wallclock seconds):       0.02\n",
      "\n"
     ]
    },
    {
     "data": {
      "text/plain": [
       "1"
      ]
     },
     "execution_count": 315,
     "metadata": {},
     "output_type": "execute_result"
    }
   ],
   "source": [
    "%time \n",
    "problem.solve()"
   ]
  },
  {
   "cell_type": "code",
   "execution_count": 316,
   "id": "90a96c36-00ba-44be-a98d-d95d72e95253",
   "metadata": {},
   "outputs": [
    {
     "data": {
      "text/plain": [
       "6952261.44*Selected_0 + 10498340.23*Selected_1 + 364652.47*Selected_10 + 360358.8*Selected_11 + 2543016.96*Selected_12 + 294875.7*Selected_13 + 74854.08*Selected_14 + 1623908.0*Selected_15 + 169291.0*Selected_16 + 274979.65*Selected_17 + 369810.24*Selected_18 + 2597360.42*Selected_19 + 528038.2*Selected_2 + 3134893.86*Selected_20 + 338584.17*Selected_21 + 1601526.83*Selected_22 + 1709970.66*Selected_23 + 74415.18*Selected_24 + 2524372.62*Selected_25 + 323604.61*Selected_26 + 131537.18*Selected_27 + 220807.6*Selected_28 + 988428.48*Selected_29 + 626140.08*Selected_3 + 239873.24*Selected_30 + 1636203.64*Selected_31 + 19785841.52*Selected_32 + 38001.0*Selected_33 + 152977.56*Selected_34 + 9100510.86*Selected_35 + 229397.46*Selected_36 + 883976.8*Selected_37 + 1424592.89*Selected_38 + 202152.49*Selected_39 + 1309586.88*Selected_4 + 936300.36*Selected_40 + 8605419.9*Selected_41 + 7887038.4*Selected_42 + 2450700.7*Selected_43 + 123362.93*Selected_44 + 324029.88*Selected_45 + 5846286.1*Selected_46 + 52408.4*Selected_47 + 18150012.09*Selected_48 + 2211198.84*Selected_49 + 1533916.29*Selected_5 + 6292661.87*Selected_50 + 1912524.75*Selected_51 + 18903895.27*Selected_52 + 412054.86*Selected_53 + 301344.71*Selected_54 + 15728375.02*Selected_55 + 23326034.85*Selected_56 + 5549541.12*Selected_57 + 886285.44*Selected_58 + 298293.89*Selected_59 + 5947157.45*Selected_6 + 1997371.98*Selected_60 + 1590281.28*Selected_61 + 432657.68*Selected_7 + 374928.28*Selected_8 + 72497.62*Selected_9 + 0.0"
      ]
     },
     "execution_count": 316,
     "metadata": {},
     "output_type": "execute_result"
    }
   ],
   "source": [
    "problem."
   ]
  },
  {
   "cell_type": "code",
   "execution_count": 272,
   "id": "80843bc4-5452-4d36-a130-da66a1bd4be6",
   "metadata": {},
   "outputs": [
    {
     "data": {
      "text/plain": [
       "1.0"
      ]
     },
     "execution_count": 272,
     "metadata": {},
     "output_type": "execute_result"
    }
   ],
   "source": [
    "selected[0].value()"
   ]
  },
  {
   "cell_type": "code",
   "execution_count": 273,
   "id": "4bc53f28-fcca-4b2d-a73a-bbd39b4a27ba",
   "metadata": {},
   "outputs": [],
   "source": [
    "df['selected'] = list(map(lambda x: x.value(), selected.values()))"
   ]
  },
  {
   "cell_type": "code",
   "execution_count": 274,
   "id": "154c85c5-5793-401a-9946-7168d78c400c",
   "metadata": {},
   "outputs": [
    {
     "data": {
      "text/plain": [
       "48.0"
      ]
     },
     "execution_count": 274,
     "metadata": {},
     "output_type": "execute_result"
    }
   ],
   "source": [
    "df.selected.sum()"
   ]
  },
  {
   "cell_type": "code",
   "execution_count": 275,
   "id": "8e06a649-78e9-4390-a1ec-cb3524249a3a",
   "metadata": {},
   "outputs": [
    {
     "data": {
      "text/plain": [
       "110.16266221000001"
      ]
     },
     "execution_count": 275,
     "metadata": {},
     "output_type": "execute_result"
    }
   ],
   "source": [
    "df[df.selected == 1].revenue.sum()/10**6"
   ]
  },
  {
   "cell_type": "code",
   "execution_count": 276,
   "id": "cb4fb258-8673-4f64-be06-39c83d76a8d0",
   "metadata": {},
   "outputs": [
    {
     "data": {
      "text/plain": [
       "29.99846894"
      ]
     },
     "execution_count": 276,
     "metadata": {},
     "output_type": "execute_result"
    }
   ],
   "source": [
    "df[df.selected == 1].marketing_spending.sum()/10**6"
   ]
  },
  {
   "cell_type": "code",
   "execution_count": 277,
   "id": "1586965c-098c-4a3a-bb67-3bf1a6671743",
   "metadata": {},
   "outputs": [
    {
     "data": {
      "text/plain": [
       "0.04463332965375134"
      ]
     },
     "execution_count": 277,
     "metadata": {},
     "output_type": "execute_result"
    }
   ],
   "source": [
    "df[df.selected == 1].cs_contacts.sum()/df[df.selected == 1].users.sum()"
   ]
  },
  {
   "cell_type": "code",
   "execution_count": 278,
   "id": "4118ae63-6d6a-466a-962e-2558bf9b5e04",
   "metadata": {},
   "outputs": [],
   "source": [
    "problem = LpProblem(\"Marketing_campaign\", LpMaximize)\n",
    "items = range(df.shape[0])  # Number of items\n",
    "selected = LpVariable.dicts(\"Selected\", items, cat=\"Binary\")\n",
    "problem += lpSum(selected[i] * list(df['revenue'].values)[i] for i in items)\n",
    "problem += lpSum(selected[i] * list(df['cs_contacts'].values)[i] for i in items) <= 5000\n",
    "problem += lpSum(selected[i] * list(df['marketing_spending'].values)[i] for i in items) <= 30*10**6\n",
    "problem += lpSum(selected[i] * list(df['cs_contacts'].values)[i] for i in items) <= 0.042*lpSum(selected[i] * list(df['users'].values)[i] for i in items)"
   ]
  },
  {
   "cell_type": "code",
   "execution_count": 279,
   "id": "b97d4d92-e72d-46f6-bc78-d54a2e54d695",
   "metadata": {},
   "outputs": [
    {
     "name": "stdout",
     "output_type": "stream",
     "text": [
      "Welcome to the CBC MILP Solver \n",
      "Version: 2.10.3 \n",
      "Build Date: Dec 15 2019 \n",
      "\n",
      "command line - /Users/marie/Documents/github/llm_env/lib/python3.11/site-packages/pulp/solverdir/cbc/osx/64/cbc /var/folders/7v/1ln722x97kd8bchgxpmdkynw0000gn/T/19ec01fe438948fbb742e7573ac8c69c-pulp.mps -max -timeMode elapsed -branch -printingOptions all -solution /var/folders/7v/1ln722x97kd8bchgxpmdkynw0000gn/T/19ec01fe438948fbb742e7573ac8c69c-pulp.sol (default strategy 1)\n",
      "At line 2 NAME          MODEL\n",
      "At line 3 ROWS\n",
      "At line 8 COLUMNS\n",
      "At line 380 RHS\n",
      "At line 384 BOUNDS\n",
      "At line 447 ENDATA\n",
      "Problem MODEL has 3 rows, 62 columns and 185 elements\n",
      "Coin0008I MODEL read with 0 errors\n",
      "Option for timeMode changed from cpu to elapsed\n",
      "Continuous objective value is 1.10164e+08 - 0.00 seconds\n",
      "Cgl0004I processed model has 3 rows, 62 columns (62 integer (62 of which binary)) and 185 elements\n",
      "Cbc0038I Initial state - 2 integers unsatisfied sum - 0.52483\n",
      "Cbc0038I Pass   1: suminf.    0.52483 (2) obj. -1.10164e+08 iterations 0\n",
      "Cbc0038I Pass   2: suminf.    0.06826 (1) obj. -1.09928e+08 iterations 2\n",
      "Cbc0038I Solution found of -9.30167e+07\n",
      "Cbc0038I Rounding solution of -1.08322e+08 is better than previous of -9.30167e+07\n",
      "\n",
      "Cbc0038I Before mini branch and bound, 60 integers at bound fixed and 0 continuous\n",
      "Cbc0038I Mini branch and bound did not improve solution (0.00 seconds)\n",
      "Cbc0038I Round again with cutoff of -1.08506e+08\n",
      "Cbc0038I Reduced cost fixing fixed 6 variables on major pass 2\n",
      "Cbc0038I Pass   3: suminf.    0.52483 (2) obj. -1.10164e+08 iterations 0\n",
      "Cbc0038I Pass   4: suminf.    0.06826 (1) obj. -1.09928e+08 iterations 2\n",
      "Cbc0038I Pass   5: suminf.    0.49996 (2) obj. -1.08506e+08 iterations 2\n",
      "Cbc0038I Pass   6: suminf.    0.48076 (2) obj. -1.09455e+08 iterations 1\n",
      "Cbc0038I Pass   7: suminf.    0.94708 (3) obj. -1.08506e+08 iterations 10\n",
      "Cbc0038I Pass   8: suminf.    0.32307 (1) obj. -1.09234e+08 iterations 3\n",
      "Cbc0038I Pass   9: suminf.    0.55821 (2) obj. -1.08506e+08 iterations 2\n",
      "Cbc0038I Pass  10: suminf.    0.55091 (2) obj. -1.08867e+08 iterations 1\n",
      "Cbc0038I Pass  11: suminf.    0.48278 (3) obj. -1.08506e+08 iterations 7\n",
      "Cbc0038I Pass  12: suminf.    0.37907 (2) obj. -1.08506e+08 iterations 2\n",
      "Cbc0038I Pass  13: suminf.    0.40436 (1) obj. -1.08752e+08 iterations 2\n",
      "Cbc0038I Pass  14: suminf.    0.31733 (2) obj. -1.08506e+08 iterations 14\n",
      "Cbc0038I Pass  15: suminf.    0.14727 (2) obj. -1.08506e+08 iterations 3\n",
      "Cbc0038I Pass  16: suminf.    0.15725 (1) obj. -1.08592e+08 iterations 1\n",
      "Cbc0038I Pass  17: suminf.    1.08406 (3) obj. -1.08506e+08 iterations 19\n",
      "Cbc0038I Pass  18: suminf.    0.07454 (1) obj. -1.08686e+08 iterations 2\n",
      "Cbc0038I Pass  19: suminf.    0.62766 (2) obj. -1.08506e+08 iterations 2\n",
      "Cbc0038I Pass  20: suminf.    0.96039 (3) obj. -1.08506e+08 iterations 10\n",
      "Cbc0038I Pass  21: suminf.    0.56411 (2) obj. -1.08506e+08 iterations 2\n",
      "Cbc0038I Pass  22: suminf.    0.04655 (1) obj. -1.08736e+08 iterations 4\n",
      "Cbc0038I Pass  23: suminf.    0.75282 (2) obj. -1.08506e+08 iterations 2\n",
      "Cbc0038I Pass  24: suminf.    0.70003 (2) obj. -1.08977e+08 iterations 9\n",
      "Cbc0038I Pass  25: suminf.    0.70003 (2) obj. -1.08977e+08 iterations 0\n",
      "Cbc0038I Pass  26: suminf.    0.88096 (2) obj. -1.08506e+08 iterations 2\n",
      "Cbc0038I Pass  27: suminf.    0.08456 (1) obj. -1.08802e+08 iterations 1\n",
      "Cbc0038I Pass  28: suminf.    0.08456 (1) obj. -1.08802e+08 iterations 0\n",
      "Cbc0038I Pass  29: suminf.    0.41841 (2) obj. -1.08506e+08 iterations 7\n",
      "Cbc0038I Pass  30: suminf.    0.41841 (2) obj. -1.08506e+08 iterations 0\n",
      "Cbc0038I Pass  31: suminf.    0.69173 (2) obj. -1.08506e+08 iterations 3\n",
      "Cbc0038I Pass  32: suminf.    0.06086 (1) obj. -1.08712e+08 iterations 2\n",
      "Cbc0038I Rounding solution of -1.08477e+08 is better than previous of -1.08322e+08\n",
      "\n",
      "Cbc0038I Before mini branch and bound, 20 integers at bound fixed and 0 continuous\n",
      "Cbc0038I Full problem 3 rows 62 columns, reduced to 3 rows 42 columns\n",
      "Cbc0038I Mini branch and bound improved solution from -1.08477e+08 to -1.0987e+08 (0.01 seconds)\n",
      "Cbc0038I Round again with cutoff of -1.09929e+08\n",
      "Cbc0038I Reduced cost fixing fixed 20 variables on major pass 3\n",
      "Cbc0038I Pass  32: suminf.    0.52483 (2) obj. -1.10164e+08 iterations 0\n",
      "Cbc0038I Pass  33: suminf.    0.07293 (2) obj. -1.09929e+08 iterations 1\n",
      "Cbc0038I Pass  34: suminf.    0.48361 (2) obj. -1.09929e+08 iterations 7\n",
      "Cbc0038I Pass  35: suminf.    0.48361 (2) obj. -1.09929e+08 iterations 0\n",
      "Cbc0038I Pass  36: suminf.    0.50386 (2) obj. -1.09984e+08 iterations 3\n",
      "Cbc0038I Pass  37: suminf.    0.62644 (2) obj. -1.09929e+08 iterations 1\n",
      "Cbc0038I Pass  38: suminf.    0.50386 (2) obj. -1.09984e+08 iterations 1\n",
      "Cbc0038I Pass  39: suminf.    0.52040 (2) obj. -1.09959e+08 iterations 5\n",
      "Cbc0038I Pass  40: suminf.    0.52040 (2) obj. -1.09959e+08 iterations 0\n",
      "Cbc0038I Pass  41: suminf.    0.58848 (2) obj. -1.09929e+08 iterations 1\n",
      "Cbc0038I Pass  42: suminf.    0.52040 (2) obj. -1.09959e+08 iterations 1\n",
      "Cbc0038I Pass  43: suminf.    0.97799 (3) obj. -1.09929e+08 iterations 6\n",
      "Cbc0038I Pass  44: suminf.    0.94257 (3) obj. -1.09929e+08 iterations 1\n",
      "Cbc0038I Pass  45: suminf.    0.55794 (2) obj. -1.09929e+08 iterations 5\n",
      "Cbc0038I Pass  46: suminf.    0.48752 (1) obj. -1.09961e+08 iterations 1\n",
      "Cbc0038I Pass  47: suminf.    0.48928 (1) obj. -1.09929e+08 iterations 1\n",
      "Cbc0038I Pass  48: suminf.    0.95765 (3) obj. -1.09929e+08 iterations 10\n",
      "Cbc0038I Pass  49: suminf.    0.95765 (3) obj. -1.09929e+08 iterations 0\n",
      "Cbc0038I Pass  50: suminf.    0.59831 (2) obj. -1.09929e+08 iterations 3\n",
      "Cbc0038I Pass  51: suminf.    0.52880 (2) obj. -1.0996e+08 iterations 1\n",
      "Cbc0038I Pass  52: suminf.    0.60324 (3) obj. -1.09929e+08 iterations 6\n",
      "Cbc0038I Pass  53: suminf.    0.48245 (2) obj. -1.09936e+08 iterations 1\n",
      "Cbc0038I Pass  54: suminf.    0.49923 (2) obj. -1.09929e+08 iterations 2\n",
      "Cbc0038I Pass  55: suminf.    0.83133 (3) obj. -1.09929e+08 iterations 6\n",
      "Cbc0038I Pass  56: suminf.    0.48112 (2) obj. -1.09949e+08 iterations 1\n",
      "Cbc0038I Pass  57: suminf.    0.52575 (2) obj. -1.09929e+08 iterations 2\n",
      "Cbc0038I Pass  58: suminf.    0.46207 (3) obj. -1.09929e+08 iterations 4\n",
      "Cbc0038I Pass  59: suminf.    0.45966 (2) obj. -1.09929e+08 iterations 1\n",
      "Cbc0038I Pass  60: suminf.    0.52479 (2) obj. -1.0997e+08 iterations 4\n",
      "Cbc0038I Pass  61: suminf.    0.52479 (2) obj. -1.0997e+08 iterations 0\n",
      "Cbc0038I No solution found this major pass\n",
      "Cbc0038I Before mini branch and bound, 38 integers at bound fixed and 0 continuous\n",
      "Cbc0038I Full problem 3 rows 62 columns, reduced to 2 rows 24 columns\n",
      "Cbc0038I Mini branch and bound did not improve solution (0.01 seconds)\n",
      "Cbc0038I After 0.01 seconds - Feasibility pump exiting with objective of -1.0987e+08 - took 0.01 seconds\n",
      "Cbc0012I Integer solution of -1.0986986e+08 found by feasibility pump after 0 iterations and 0 nodes (0.01 seconds)\n",
      "Cbc0038I Full problem 3 rows 62 columns, reduced to 2 rows 7 columns\n",
      "Cbc0031I 6 added rows had average density of 7.6666667\n",
      "Cbc0013I At root node, 6 cuts changed objective from -1.1016354e+08 to -1.0987428e+08 in 10 passes\n",
      "Cbc0014I Cut generator 0 (Probing) - 10 row cuts average 9.1 elements, 4 column cuts (4 active)  in 0.000 seconds - new frequency is 1\n",
      "Cbc0014I Cut generator 1 (Gomory) - 3 row cuts average 14.3 elements, 0 column cuts (0 active)  in 0.000 seconds - new frequency is 1\n",
      "Cbc0014I Cut generator 2 (Knapsack) - 27 row cuts average 9.3 elements, 0 column cuts (0 active)  in 0.001 seconds - new frequency is 1\n",
      "Cbc0014I Cut generator 3 (Clique) - 0 row cuts average 0.0 elements, 0 column cuts (0 active)  in 0.000 seconds - new frequency is -100\n",
      "Cbc0014I Cut generator 4 (MixedIntegerRounding2) - 5 row cuts average 45.8 elements, 0 column cuts (0 active)  in 0.000 seconds - new frequency is 1\n",
      "Cbc0014I Cut generator 5 (FlowCover) - 0 row cuts average 0.0 elements, 0 column cuts (0 active)  in 0.000 seconds - new frequency is -100\n",
      "Cbc0014I Cut generator 6 (TwoMirCuts) - 25 row cuts average 24.6 elements, 0 column cuts (0 active)  in 0.000 seconds - new frequency is -100\n",
      "Cbc0010I After 0 nodes, 1 on tree, -1.0986986e+08 best solution, best possible -1.0987428e+08 (0.02 seconds)\n",
      "Cbc0001I Search completed - best objective -109869864.29, took 72 iterations and 2 nodes (0.02 seconds)\n",
      "Cbc0032I Strong branching done 14 times (35 iterations), fathomed 1 nodes and fixed 0 variables\n",
      "Cbc0035I Maximum depth 0, 52 variables fixed on reduced cost\n",
      "Cuts at root node changed objective from -1.10164e+08 to -1.09874e+08\n",
      "Probing was tried 16 times and created 19 cuts of which 0 were active after adding rounds of cuts (0.000 seconds)\n",
      "Gomory was tried 15 times and created 4 cuts of which 0 were active after adding rounds of cuts (0.000 seconds)\n",
      "Knapsack was tried 15 times and created 33 cuts of which 0 were active after adding rounds of cuts (0.001 seconds)\n",
      "Clique was tried 10 times and created 0 cuts of which 0 were active after adding rounds of cuts (0.000 seconds)\n",
      "MixedIntegerRounding2 was tried 15 times and created 5 cuts of which 0 were active after adding rounds of cuts (0.000 seconds)\n",
      "FlowCover was tried 10 times and created 0 cuts of which 0 were active after adding rounds of cuts (0.000 seconds)\n",
      "TwoMirCuts was tried 10 times and created 25 cuts of which 0 were active after adding rounds of cuts (0.000 seconds)\n",
      "ZeroHalf was tried 1 times and created 0 cuts of which 0 were active after adding rounds of cuts (0.000 seconds)\n",
      "\n",
      "Result - Optimal solution found\n",
      "\n",
      "Objective value:                109869864.29000004\n",
      "Enumerated nodes:               2\n",
      "Total iterations:               72\n",
      "Time (CPU seconds):             0.02\n",
      "Time (Wallclock seconds):       0.02\n",
      "\n",
      "Option for printingOptions changed from normal to all\n",
      "Total time (CPU seconds):       0.02   (Wallclock seconds):       0.02\n",
      "\n"
     ]
    },
    {
     "data": {
      "text/plain": [
       "1"
      ]
     },
     "execution_count": 279,
     "metadata": {},
     "output_type": "execute_result"
    }
   ],
   "source": [
    "problem.solve()"
   ]
  },
  {
   "cell_type": "code",
   "execution_count": 198,
   "id": "7b321c2b-3d3e-4cc8-a052-f8f239ff5d04",
   "metadata": {},
   "outputs": [],
   "source": [
    "df['selected'] = list(map(lambda x: x.value(), selected.values()))"
   ]
  },
  {
   "cell_type": "code",
   "execution_count": 199,
   "id": "89b1ca57-986c-425d-9003-dd06901fcd40",
   "metadata": {},
   "outputs": [
    {
     "data": {
      "text/plain": [
       "41.0"
      ]
     },
     "execution_count": 199,
     "metadata": {},
     "output_type": "execute_result"
    }
   ],
   "source": [
    "df.selected.sum()"
   ]
  },
  {
   "cell_type": "code",
   "execution_count": 200,
   "id": "c6fff89a-3049-4798-9e18-ab150fcdcfe6",
   "metadata": {},
   "outputs": [
    {
     "data": {
      "text/plain": [
       "198.17775089999998"
      ]
     },
     "execution_count": 200,
     "metadata": {},
     "output_type": "execute_result"
    }
   ],
   "source": [
    "df[df.selected == 1].revenue.sum()/10**6"
   ]
  },
  {
   "cell_type": "code",
   "execution_count": 201,
   "id": "2111d3d9-11e6-48c0-9d29-1150cf63312e",
   "metadata": {},
   "outputs": [
    {
     "data": {
      "text/plain": [
       "29.956269980000005"
      ]
     },
     "execution_count": 201,
     "metadata": {},
     "output_type": "execute_result"
    }
   ],
   "source": [
    "df[df.selected == 1].marketing_spending.sum()/10**6"
   ]
  },
  {
   "cell_type": "code",
   "execution_count": 203,
   "id": "48967ede-3aaf-43a0-9d14-e4c959267dad",
   "metadata": {},
   "outputs": [
    {
     "data": {
      "text/plain": [
       "0.041901247717589775"
      ]
     },
     "execution_count": 203,
     "metadata": {},
     "output_type": "execute_result"
    }
   ],
   "source": [
    "df[df.selected == 1].cs_contacts.sum()/df[df.selected == 1].users.sum()"
   ]
  },
  {
   "cell_type": "code",
   "execution_count": null,
   "id": "58fc947c-ba7d-427a-9509-d64b359b796b",
   "metadata": {},
   "outputs": [],
   "source": []
  }
 ],
 "metadata": {
  "kernelspec": {
   "display_name": "Python 3 (ipykernel)",
   "language": "python",
   "name": "python3"
  },
  "language_info": {
   "codemirror_mode": {
    "name": "ipython",
    "version": 3
   },
   "file_extension": ".py",
   "mimetype": "text/x-python",
   "name": "python",
   "nbconvert_exporter": "python",
   "pygments_lexer": "ipython3",
   "version": "3.11.6"
  }
 },
 "nbformat": 4,
 "nbformat_minor": 5
}
