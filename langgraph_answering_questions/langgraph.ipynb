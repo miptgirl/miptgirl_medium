{
 "cells": [
  {
   "cell_type": "code",
   "execution_count": 1,
   "id": "93da36dd-56f2-436a-9028-068a84f37e28",
   "metadata": {},
   "outputs": [],
   "source": [
    "from langchain_community.chat_models import ChatOllama\n",
    "from langchain_core.output_parsers import StrOutputParser\n",
    "from langchain_core.prompts import ChatPromptTemplate"
   ]
  },
  {
   "cell_type": "code",
   "execution_count": 2,
   "id": "8b73fa39-0aa2-4fc8-a049-095848f8927b",
   "metadata": {},
   "outputs": [],
   "source": [
    "# ! pip install langchain_community\n",
    "# ! pip install -U langgraph"
   ]
  },
  {
   "cell_type": "markdown",
   "id": "52063cbf-647d-42fe-9f03-25069859b4a9",
   "metadata": {},
   "source": [
    "### One Agent"
   ]
  },
  {
   "cell_type": "code",
   "execution_count": 3,
   "id": "08d7bf0a-a3e2-4a2d-a680-a8bd80ff180c",
   "metadata": {},
   "outputs": [],
   "source": [
    "from langchain_openai import ChatOpenAI"
   ]
  },
  {
   "cell_type": "code",
   "execution_count": 4,
   "id": "ba818c52-9bf1-445b-bbe7-dd36aaec6091",
   "metadata": {},
   "outputs": [
    {
     "data": {
      "text/plain": [
       "\"Here's one:\\n\\nWhy did the machine learning model go to therapy?\\n\\nBecause it was struggling to generalize its emotions and had a lot of bias towards being anxious!\""
      ]
     },
     "execution_count": 4,
     "metadata": {},
     "output_type": "execute_result"
    }
   ],
   "source": [
    "llm = ChatOpenAI(model=\"llama3\", api_key = 'ollama', base_url='http://localhost:11434/v1/')\n",
    "prompt = ChatPromptTemplate.from_template(\"Tell me a short joke about {topic}\")\n",
    "chain = prompt | llm | StrOutputParser()\n",
    "chain.invoke({'topic': \"Machine Learning\"})"
   ]
  },
  {
   "cell_type": "code",
   "execution_count": 5,
   "id": "b55c2c86-7931-4913-8bd5-6a8beecbcd0d",
   "metadata": {},
   "outputs": [],
   "source": [
    "CH_HOST = 'http://localhost:8123' # default address \n",
    "import requests\n",
    "\n",
    "def get_clickhouse_data(query, host = CH_HOST, connection_timeout = 1500):\n",
    "  r = requests.post(host, params = {'query': query}, \n",
    "    timeout = connection_timeout)\n",
    "  if r.status_code == 200:\n",
    "      return r.text\n",
    "  else: \n",
    "      return 'Database returned the following error:\\n' + r.text"
   ]
  },
  {
   "cell_type": "code",
   "execution_count": 6,
   "id": "35d31d9f-9300-4518-8aec-42fe20a78205",
   "metadata": {},
   "outputs": [],
   "source": [
    "from langchain_core.tools import tool\n",
    "from pydantic.v1 import BaseModel, Field\n",
    "from typing import Optional\n",
    "\n",
    "class SQLQuery(BaseModel):\n",
    "    query: str = Field(description=\"SQL query to execute\")\n",
    "\n",
    "@tool(args_schema = SQLQuery)\n",
    "def execute_sql(query: str) -> str:\n",
    "    \"\"\"Returns the result of SQL query execution\"\"\"\n",
    "    return get_clickhouse_data(query)"
   ]
  },
  {
   "cell_type": "code",
   "execution_count": 138,
   "id": "090719f4-479b-46b4-860e-e3bed679c504",
   "metadata": {},
   "outputs": [
    {
     "name": "stdout",
     "output_type": "stream",
     "text": [
      "\n",
      "name: execute_sql\n",
      "description: Returns the result of SQL query execution\n",
      "arguments: {'query': {'title': 'Query', 'description': 'SQL query to execute', 'type': 'string'}}\n",
      "\n"
     ]
    }
   ],
   "source": [
    "print(f'''\n",
    "name: {execute_sql.name}\n",
    "description: {execute_sql.description}\n",
    "arguments: {execute_sql.args}\n",
    "''')"
   ]
  },
  {
   "cell_type": "code",
   "execution_count": 7,
   "id": "2f63c8c6-2a63-48a7-87ee-03e129848f80",
   "metadata": {},
   "outputs": [],
   "source": [
    "from langgraph.graph import StateGraph, END\n",
    "from typing import TypedDict, Annotated\n",
    "import operator\n",
    "from langchain_core.messages import AnyMessage, SystemMessage, HumanMessage, ToolMessage"
   ]
  },
  {
   "cell_type": "code",
   "execution_count": 49,
   "id": "994064eb-71d1-4978-8d7c-e33d904cf47c",
   "metadata": {},
   "outputs": [],
   "source": [
    "class AgentState(TypedDict):\n",
    "    messages: Annotated[list[AnyMessage], operator.add]"
   ]
  },
  {
   "cell_type": "code",
   "execution_count": 147,
   "id": "cd91288e-1ec1-45d4-b00f-143f6741f6f2",
   "metadata": {},
   "outputs": [],
   "source": [
    "class SQLAgent:\n",
    "    def __init__(self, model, tools, system_prompt=\"\"):\n",
    "        self.system_prompt = system_prompt\n",
    "        \n",
    "        # initialising graph with a state \n",
    "        graph = StateGraph(AgentState)\n",
    "        \n",
    "        # adding nodes \n",
    "        graph.add_node(\"llm\", self.call_llm)\n",
    "        graph.add_node(\"function\", self.execute_function)\n",
    "        graph.add_conditional_edges(\n",
    "            \"llm\",\n",
    "            self.exists_function_calling,\n",
    "            {True: \"function\", False: END}\n",
    "            )\n",
    "        graph.add_edge(\"function\", \"llm\")\n",
    "        \n",
    "        # setting starting point\n",
    "        graph.set_entry_point(\"llm\")\n",
    "        \n",
    "        self.graph = graph.compile()\n",
    "        self.tools = {t.name: t for t in tools}\n",
    "        self.model = model.bind_tools(tools)\n",
    "\n",
    "    def exists_function_calling(self, state: AgentState):\n",
    "        result = state['messages'][-1]\n",
    "        return len(result.tool_calls) > 0\n",
    "\n",
    "    def call_llm(self, state: AgentState):\n",
    "        messages = state['messages']\n",
    "        if self.system_prompt:\n",
    "            messages = [SystemMessage(content=self.system_prompt)] + messages\n",
    "        message = self.model.invoke(messages)\n",
    "        return {'messages': [message]}\n",
    "\n",
    "    def execute_function(self, state: AgentState):\n",
    "        tool_calls = state['messages'][-1].tool_calls\n",
    "        results = []\n",
    "        for t in tool_calls:\n",
    "            print(f\"Calling: {t}\")\n",
    "            if not t['name'] in self.tools:      # check for bad tool name from LLM\n",
    "                print(\"\\n ....bad tool name....\")\n",
    "                result = \"bad tool name, retry\"  # instruct LLM to retry if bad\n",
    "            else:\n",
    "                result = self.tools[t['name']].invoke(t['args'])\n",
    "            results.append(ToolMessage(tool_call_id=t['id'], name=t['name'], content=str(result)))\n",
    "        print(\"Back to the model!\")\n",
    "        return {'messages': results}"
   ]
  },
  {
   "cell_type": "code",
   "execution_count": 148,
   "id": "d46407e1-f832-4492-8414-c64d7a27b496",
   "metadata": {},
   "outputs": [],
   "source": [
    "# ! brew install graphviz"
   ]
  },
  {
   "cell_type": "code",
   "execution_count": 149,
   "id": "ff8f52b6-bf14-4009-a186-041005e054a7",
   "metadata": {},
   "outputs": [],
   "source": [
    "# ! python3 -m pip install -U --no-cache-dir  \\\n",
    "#                 --config-settings=\"--global-option=build_ext\" \\\n",
    "#                 --config-settings=\"--global-option=-I$(brew --prefix graphviz)/include/\" \\\n",
    "#                 --config-settings=\"--global-option=-L$(brew --prefix graphviz)/lib/\" \\\n",
    "#                 pygraphviz\n",
    "\n",
    "\n",
    "# https://github.com/pygraphviz/pygraphviz/issues/398"
   ]
  },
  {
   "cell_type": "code",
   "execution_count": 15,
   "id": "4e4e03c7-a21c-4bb5-916d-5abafaa2a5f7",
   "metadata": {},
   "outputs": [],
   "source": [
    "import json\n",
    "import os\n",
    "with open('../../config.json') as f:\n",
    "    config = json.loads(f.read())\n",
    "\n",
    "os.environ[\"OPENAI_MODEL_NAME\"]='gpt-4o-mini'  \n",
    "os.environ[\"OPENAI_API_KEY\"] = config['OPENAI_API_KEY']\n",
    "os.environ[\"TAVILY_API_KEY\"] = config[\"TAVILY_API_KEY\"]"
   ]
  },
  {
   "cell_type": "code",
   "execution_count": 158,
   "id": "7b3b89b1-5baf-4d8d-ba5f-408a793b1e02",
   "metadata": {},
   "outputs": [],
   "source": [
    "prompt = '''You are a senior expert in SQL and data analysis. \n",
    "So, you can help the team to gather needed data to power their decisions. \n",
    "You are very accurate and take into account all the nuances in data.\n",
    "Your goal is to provide the detailed documentation for the table in database \n",
    "that will help users. Please, keep your answers concise and straight to the point.'''\n",
    "\n",
    "# model = ChatOpenAI(model=\"llama3\", api_key = 'ollama', base_url='http://localhost:11434/v1/')\n",
    "model = ChatOpenAI(model=\"gpt-4o-mini\")\n",
    "doc_agent = SQLAgent(model, [execute_sql], system_prompt=prompt)"
   ]
  },
  {
   "cell_type": "code",
   "execution_count": 159,
   "id": "e500064e-375d-4a06-a472-6eb978e8aa29",
   "metadata": {},
   "outputs": [
    {
     "data": {
      "image/png": "[encoded data removed]",
      "text/plain": [
       "<IPython.core.display.Image object>"
      ]
     },
     "execution_count": 159,
     "metadata": {},
     "output_type": "execute_result"
    }
   ],
   "source": [
    "from IPython.display import Image\n",
    "\n",
    "Image(doc_agent.graph.get_graph().draw_png())"
   ]
  },
  {
   "cell_type": "code",
   "execution_count": 160,
   "id": "032a6b05-8a0b-41a3-8dcf-4891c0b1650b",
   "metadata": {},
   "outputs": [
    {
     "name": "stdout",
     "output_type": "stream",
     "text": [
      "Calling: {'name': 'execute_sql', 'args': {'query': 'DESCRIBE ecommerce_db.users;'}, 'id': 'call_qZbDU9Coa2tMjUARcX36h0ax', 'type': 'tool_call'}\n",
      "Back to the model!\n"
     ]
    }
   ],
   "source": [
    "messages = [HumanMessage(content=\"What info do we have in ecommerce_db.users table?\")]\n",
    "result = doc_agent.graph.invoke({\"messages\": messages})"
   ]
  },
  {
   "cell_type": "code",
   "execution_count": 163,
   "id": "67b2e0a5-4e24-4d1d-8b79-b3812b4b1726",
   "metadata": {},
   "outputs": [
    {
     "name": "stdout",
     "output_type": "stream",
     "text": [
      "[HumanMessage(content='What info do we have in ecommerce_db.users table?'), AIMessage(content='', additional_kwargs={'tool_calls': [{'id': 'call_qZbDU9Coa2tMjUARcX36h0ax', 'function': {'arguments': '{\"query\":\"DESCRIBE ecommerce_db.users;\"}', 'name': 'execute_sql'}, 'type': 'function'}]}, response_metadata={'token_usage': {'completion_tokens': 20, 'prompt_tokens': 136, 'total_tokens': 156}, 'model_name': 'gpt-4o-mini-2024-07-18', 'system_fingerprint': 'fp_ba606877f9', 'finish_reason': 'tool_calls', 'logprobs': None}, id='run-ce787309-9a20-4aca-afbe-e8e192eccb82-0', tool_calls=[{'name': 'execute_sql', 'args': {'query': 'DESCRIBE ecommerce_db.users;'}, 'id': 'call_qZbDU9Coa2tMjUARcX36h0ax', 'type': 'tool_call'}], usage_metadata={'input_tokens': 136, 'output_tokens': 20, 'total_tokens': 156}), ToolMessage(content='user_id\\tUInt64\\t\\t\\t\\t\\t\\ncountry\\tString\\t\\t\\t\\t\\t\\nis_active\\tUInt8\\t\\t\\t\\t\\t\\nage\\tUInt64\\t\\t\\t\\t\\t\\n', name='execute_sql', tool_call_id='call_qZbDU9Coa2tMjUARcX36h0ax'), AIMessage(content='The `ecommerce_db.users` table contains the following columns:\\n\\n1. **user_id**: `UInt64` - A unique identifier for each user.\\n2. **country**: `String` - The country where the user is located.\\n3. **is_active**: `UInt8` - Indicates whether the user is active (1) or inactive (0).\\n4. **age**: `UInt64` - The age of the user.', response_metadata={'token_usage': {'completion_tokens': 94, 'prompt_tokens': 184, 'total_tokens': 278}, 'model_name': 'gpt-4o-mini-2024-07-18', 'system_fingerprint': 'fp_ba606877f9', 'finish_reason': 'stop', 'logprobs': None}, id='run-00a45f63-1618-438e-8d5a-3c8dd5718050-0', usage_metadata={'input_tokens': 184, 'output_tokens': 94, 'total_tokens': 278})]\n"
     ]
    }
   ],
   "source": [
    "print(result['messages'])"
   ]
  },
  {
   "cell_type": "code",
   "execution_count": null,
   "id": "9bb43bda-faaf-4e95-8fb0-72b88fff15b7",
   "metadata": {},
   "outputs": [],
   "source": [
    "[\n",
    "    HumanMessage(content='What info do we have in ecommerce_db.users table?'), \n",
    "    AIMessage(content='', tool_calls=[{'name': 'execute_sql', 'args': {'query': 'DESCRIBE ecommerce_db.users;'}, 'id': 'call_qZbDU9Coa2tMjUARcX36h0ax', 'type': 'tool_call'}]), \n",
    "    ToolMessage(content='user_id\\tUInt64\\t\\t\\t\\t\\t\\ncountry\\tString\\t\\t\\t\\t\\t\\nis_active\\tUInt8\\t\\t\\t\\t\\t\\nage\\tUInt64\\t\\t\\t\\t\\t\\n', name='execute_sql', tool_call_id='call_qZbDU9Coa2tMjUARcX36h0ax'), \n",
    "    AIMessage(content='The `ecommerce_db.users` table contains the following columns: <...>')\n",
    "]"
   ]
  },
  {
   "cell_type": "code",
   "execution_count": 164,
   "id": "a877d57d-2e42-4466-a31c-b1ca69ef6fee",
   "metadata": {},
   "outputs": [
    {
     "name": "stdout",
     "output_type": "stream",
     "text": [
      "The `ecommerce_db.users` table contains the following columns:\n",
      "\n",
      "1. **user_id**: `UInt64` - A unique identifier for each user.\n",
      "2. **country**: `String` - The country where the user is located.\n",
      "3. **is_active**: `UInt8` - Indicates whether the user is active (1) or inactive (0).\n",
      "4. **age**: `UInt64` - The age of the user.\n"
     ]
    }
   ],
   "source": [
    "print(result['messages'][-1].content)"
   ]
  },
  {
   "cell_type": "code",
   "execution_count": 65,
   "id": "6c208ff4-b294-441d-9a1c-6cbac0f3f7ad",
   "metadata": {},
   "outputs": [],
   "source": [
    "# ! pip install langchainhub"
   ]
  },
  {
   "cell_type": "code",
   "execution_count": 119,
   "id": "d9a94643-aee6-4d20-8bac-e0d468a75995",
   "metadata": {},
   "outputs": [],
   "source": [
    "model = ChatOpenAI(model=\"llama3\", api_key = 'ollama', base_url='http://localhost:11434/v1/')\n",
    "model = ChatOpenAI(model=\"gpt-4o-mini\")"
   ]
  },
  {
   "cell_type": "code",
   "execution_count": 165,
   "id": "db71e52a-e2ec-441f-840f-478b093bb910",
   "metadata": {},
   "outputs": [],
   "source": [
    "# from langchain import hub\n",
    "# prompt = hub.pull('hwchase17/react')\n",
    "# prompt.pretty_print()"
   ]
  },
  {
   "cell_type": "code",
   "execution_count": 121,
   "id": "0a7f77e4-6246-49ae-a6e4-43e5d9d577fe",
   "metadata": {},
   "outputs": [],
   "source": [
    "from langgraph.prebuilt import create_react_agent"
   ]
  },
  {
   "cell_type": "code",
   "execution_count": 171,
   "id": "9ad9b351-cc3a-44a0-8129-5fec469ad791",
   "metadata": {},
   "outputs": [],
   "source": [
    "prebuilt_doc_agent = create_react_agent(model, [execute_sql])"
   ]
  },
  {
   "cell_type": "code",
   "execution_count": 172,
   "id": "445a4db1-5e10-44e1-824d-c0730cc3f322",
   "metadata": {},
   "outputs": [
    {
     "data": {
      "image/png": "[encoded data removed]",
      "text/plain": [
       "<IPython.core.display.Image object>"
      ]
     },
     "execution_count": 172,
     "metadata": {},
     "output_type": "execute_result"
    }
   ],
   "source": [
    "Image(prebuilt_doc_agent.get_graph().draw_png())"
   ]
  },
  {
   "cell_type": "code",
   "execution_count": 125,
   "id": "7ded060f-e48e-419a-9261-baf4dc834f4f",
   "metadata": {},
   "outputs": [],
   "source": [
    "inputs = {\"messages\": [(\"user\", \"What columns are in ecommerce_db.users?\")]}\n",
    "\n",
    "result = agent.invoke(inputs)"
   ]
  },
  {
   "cell_type": "code",
   "execution_count": 126,
   "id": "3ff6aa8b-3156-4ba5-a816-78af5937721d",
   "metadata": {},
   "outputs": [],
   "source": [
    "def print_stream(stream):\n",
    "    for s in stream:\n",
    "        message = s[\"messages\"][-1]\n",
    "        if isinstance(message, tuple):\n",
    "            print(message)\n",
    "        else:\n",
    "            message.pretty_print()\n",
    "\n",
    "# https://langchain-ai.github.io/langgraph/how-tos/create-react-agent/#usage"
   ]
  },
  {
   "cell_type": "code",
   "execution_count": 128,
   "id": "ad7b168f-db83-4153-ae06-9c2a4aa7bca5",
   "metadata": {},
   "outputs": [
    {
     "name": "stdout",
     "output_type": "stream",
     "text": [
      "================================\u001b[1m Human Message \u001b[0m=================================\n",
      "\n",
      "What columns are in ecommerce_db.users?\n",
      "==================================\u001b[1m Ai Message \u001b[0m==================================\n",
      "Tool Calls:\n",
      "  get_table_structure (call_fIFrtMNZzpZFT2yfbUHdfhY1)\n",
      " Call ID: call_fIFrtMNZzpZFT2yfbUHdfhY1\n",
      "  Args:\n",
      "    table: ecommerce_db.users\n",
      "=================================\u001b[1m Tool Message \u001b[0m=================================\n",
      "Name: get_table_structure\n",
      "\n",
      "name\ttype\tdefault_type\tdefault_expression\tcomment\tcodec_expression\tttl_expression\n",
      "user_id\tUInt64\t\t\t\t\t\n",
      "country\tString\t\t\t\t\t\n",
      "is_active\tUInt8\t\t\t\t\t\n",
      "age\tUInt64\t\t\t\t\t\n",
      "\n",
      "==================================\u001b[1m Ai Message \u001b[0m==================================\n",
      "\n",
      "The columns in the `ecommerce_db.users` table are as follows:\n",
      "\n",
      "1. **user_id**: Type - `UInt64`\n",
      "2. **country**: Type - `String`\n",
      "3. **is_active**: Type - `UInt8`\n",
      "4. **age**: Type - `UInt64`\n"
     ]
    }
   ],
   "source": [
    "print_stream(agent.stream(inputs, stream_mode=\"values\"))"
   ]
  },
  {
   "cell_type": "markdown",
   "id": "ebfed1e1-b190-44a9-92d5-7056219c8e40",
   "metadata": {},
   "source": [
    "### Persistence and streaming"
   ]
  },
  {
   "cell_type": "code",
   "execution_count": 176,
   "id": "2d9ca628-d2d7-4f0b-a52e-2802962a6d43",
   "metadata": {},
   "outputs": [],
   "source": [
    "from langgraph.checkpoint.sqlite import SqliteSaver\n",
    "memory = SqliteSaver.from_conn_string(\":memory:\")"
   ]
  },
  {
   "cell_type": "code",
   "execution_count": 179,
   "id": "c82f9405-e518-4ea1-8310-0342688efd26",
   "metadata": {},
   "outputs": [],
   "source": [
    "prebuilt_doc_agent = create_react_agent(model, [execute_sql], checkpointer = memory)"
   ]
  },
  {
   "cell_type": "code",
   "execution_count": 181,
   "id": "34153df4-fe18-4b91-accc-3f4a44255422",
   "metadata": {},
   "outputs": [
    {
     "name": "stdout",
     "output_type": "stream",
     "text": [
      "==================================\u001b[1m Ai Message \u001b[0m==================================\n",
      "Tool Calls:\n",
      "  execute_sql (call_jDzlj3JaVOqf6EH50t7qH6nz)\n",
      " Call ID: call_jDzlj3JaVOqf6EH50t7qH6nz\n",
      "  Args:\n",
      "    query: SELECT * FROM ecommerce_db.users LIMIT 5;\n",
      "=================================\u001b[1m Tool Message \u001b[0m=================================\n",
      "Name: execute_sql\n",
      "\n",
      "1000001\tUnited Kingdom\t0\t70\n",
      "1000002\tFrance\t1\t87\n",
      "1000003\tFrance\t1\t88\n",
      "1000004\tGermany\t1\t25\n",
      "1000005\tGermany\t1\t48\n",
      "\n",
      "==================================\u001b[1m Ai Message \u001b[0m==================================\n",
      "\n",
      "The `ecommerce_db.users` table contains the following information for each user:\n",
      "\n",
      "1. User ID\n",
      "2. Country\n",
      "3. Some binary or categorical value (possibly indicating active status or membership)\n",
      "4. A numerical value (possibly indicating age, score, or another metric)\n",
      "\n",
      "Here are the details for the first five users:\n",
      "\n",
      "| User ID | Country        | Status | Metric |\n",
      "|---------|----------------|--------|--------|\n",
      "| 1000001 | United Kingdom  | 0      | 70     |\n",
      "| 1000002 | France         | 1      | 87     |\n",
      "| 1000003 | France         | 1      | 88     |\n",
      "| 1000004 | Germany        | 1      | 25     |\n",
      "| 1000005 | Germany        | 1      | 48     |\n",
      "\n",
      "If you need more specific details or other records, let me know!\n"
     ]
    }
   ],
   "source": [
    "thread = {\"configurable\": {\"thread_id\": \"18\"}}\n",
    "messages = [HumanMessage(content=\"What info do we have in ecommerce_db.users table?\")]\n",
    "\n",
    "for event in prebuilt_doc_agent.stream({\"messages\": messages}, thread):\n",
    "    for v in event.values():\n",
    "        v['messages'][-1].pretty_print()"
   ]
  },
  {
   "cell_type": "code",
   "execution_count": 182,
   "id": "d5a70e3d-3689-4713-8c93-c619711f998a",
   "metadata": {},
   "outputs": [
    {
     "name": "stdout",
     "output_type": "stream",
     "text": [
      "==================================\u001b[1m Ai Message \u001b[0m==================================\n",
      "Tool Calls:\n",
      "  execute_sql (call_sQKRWtG6aEB38rtOpZszxTVs)\n",
      " Call ID: call_sQKRWtG6aEB38rtOpZszxTVs\n",
      "  Args:\n",
      "    query: DESCRIBE ecommerce_db.users;\n",
      "=================================\u001b[1m Tool Message \u001b[0m=================================\n",
      "Name: execute_sql\n",
      "\n",
      "user_id\tUInt64\t\t\t\t\t\n",
      "country\tString\t\t\t\t\t\n",
      "is_active\tUInt8\t\t\t\t\t\n",
      "age\tUInt64\t\t\t\t\t\n",
      "\n",
      "==================================\u001b[1m Ai Message \u001b[0m==================================\n",
      "\n",
      "The `ecommerce_db.users` table has the following columns along with their data types:\n",
      "\n",
      "| Column Name | Data Type |\n",
      "|-------------|-----------|\n",
      "| user_id     | UInt64    |\n",
      "| country     | String    |\n",
      "| is_active   | UInt8     |\n",
      "| age         | UInt64    |\n",
      "\n",
      "If you need further information or assistance, feel free to ask!\n"
     ]
    }
   ],
   "source": [
    "followup_messages = [HumanMessage(content=\"I would like to know the column names and types. Maybe you could look it up in database using describe.\")]\n",
    "\n",
    "for event in prebuilt_doc_agent.stream({\"messages\": followup_messages}, thread):\n",
    "    for v in event.values():\n",
    "        v['messages'][-1].pretty_print()"
   ]
  },
  {
   "cell_type": "code",
   "execution_count": 183,
   "id": "55738752-08cf-401c-ae90-ac1845be705a",
   "metadata": {},
   "outputs": [
    {
     "name": "stdout",
     "output_type": "stream",
     "text": [
      "==================================\u001b[1m Ai Message \u001b[0m==================================\n",
      "Tool Calls:\n",
      "  execute_sql (call_LrmsOGzzusaLEZLP9hGTBGgo)\n",
      " Call ID: call_LrmsOGzzusaLEZLP9hGTBGgo\n",
      "  Args:\n",
      "    query: DESCRIBE your_table_name;\n",
      "=================================\u001b[1m Tool Message \u001b[0m=================================\n",
      "Name: execute_sql\n",
      "\n",
      "Database returned the following error:\n",
      "Code: 60. DB::Exception: Table default.your_table_name does not exist. (UNKNOWN_TABLE) (version 23.12.1.414 (official build))\n",
      "\n",
      "==================================\u001b[1m Ai Message \u001b[0m==================================\n",
      "\n",
      "It seems that the table `your_table_name` does not exist in the database. Could you please provide the actual name of the table you want to describe?\n"
     ]
    }
   ],
   "source": [
    "new_thread = {\"configurable\": {\"thread_id\": \"42\"}}\n",
    "followup_messages = [HumanMessage(content=\"I would like to know the column names and types. Maybe you could look it up in database using describe.\")]\n",
    "\n",
    "for event in prebuilt_doc_agent.stream({\"messages\": followup_messages}, new_thread):\n",
    "    for v in event.values():\n",
    "        v['messages'][-1].pretty_print()"
   ]
  },
  {
   "cell_type": "markdown",
   "id": "ef5c5373-6c62-435e-b104-fed1a1a3645d",
   "metadata": {},
   "source": [
    "## Multi agent set up"
   ]
  },
  {
   "cell_type": "code",
   "execution_count": 8,
   "id": "d0ec9cc3-f264-4036-99d1-a0e661aefbc6",
   "metadata": {},
   "outputs": [],
   "source": [
    "# import importlib\n",
    "# importlib.reload(langgraph)"
   ]
  },
  {
   "cell_type": "code",
   "execution_count": 9,
   "id": "bee83c80-3c21-4d23-987b-17d61e6a6716",
   "metadata": {},
   "outputs": [],
   "source": [
    "from langgraph.prebuilt import create_react_agent"
   ]
  },
  {
   "cell_type": "code",
   "execution_count": 79,
   "id": "5767bbfc-ae91-4791-ae14-7d3da081ce79",
   "metadata": {},
   "outputs": [],
   "source": [
    "class MultiAgentState(TypedDict):\n",
    "    question: str\n",
    "    question_type: str\n",
    "    answer: str\n",
    "    feedback: str"
   ]
  },
  {
   "cell_type": "code",
   "execution_count": 38,
   "id": "65ab8fd6-d93e-4f20-9ba4-f45546f1319f",
   "metadata": {},
   "outputs": [],
   "source": [
    "question_category_prompt = '''You are a senior specialist of analytical support. Your task is to classify the incoming questions. \n",
    "Depending on your answer, question will be routed to the right team, so your task is crucial for our team. \n",
    "There are 3 possible question types: \n",
    "- DATABASE - questions related to our database (tables or fields)\n",
    "- LANGCHAIN- questions related to LangGraph or LangChain libraries\n",
    "- GENERAL - general questions\n",
    "Return in the output only one word (DATABASE, LANGCHAIN or  GENERAL).\n",
    "'''\n",
    "\n",
    "def router_node(state: MultiAgentState):\n",
    "    print('Router node started execution')\n",
    "    messages = [\n",
    "        SystemMessage(content=question_category_prompt), \n",
    "        HumanMessage(content=state['question'])\n",
    "    ]\n",
    "    model = ChatOpenAI(model=\"gpt-4o-mini\")\n",
    "    response = model.invoke(messages)\n",
    "    print('Question type: %s' % response.content)\n",
    "    return {\"question_type\": response.content}"
   ]
  },
  {
   "cell_type": "code",
   "execution_count": 61,
   "id": "0f5ad784-61b8-4602-9a5e-40c735b1e489",
   "metadata": {},
   "outputs": [],
   "source": [
    "sql_expert_system_prompt = '''\n",
    "You are an expert in SQL, so you can help the team \n",
    "to gather needed data to power their decisions. \n",
    "You are very accurate and take into account all the nuances in data. \n",
    "You use SQL to get the data before answering the question.\n",
    "'''\n",
    "\n",
    "def sql_expert_node(state: MultiAgentState):\n",
    "    model = ChatOpenAI(model=\"gpt-4o-mini\")\n",
    "    sql_agent = create_react_agent(model, [execute_sql],\n",
    "        state_modifier = sql_expert_system_prompt)\n",
    "    messages = [HumanMessage(content=state['question'])]\n",
    "    result = sql_agent.invoke({\"messages\": messages})\n",
    "    return {'answer': result['messages'][-1].content}"
   ]
  },
  {
   "cell_type": "code",
   "execution_count": 62,
   "id": "88d2bf71-04e0-40a7-a960-febcfb38b424",
   "metadata": {},
   "outputs": [],
   "source": [
    "from langchain_community.tools.tavily_search import TavilySearchResults\n",
    "# https://python.langchain.com/v0.1/docs/integrations/tools/tavily_search/\n",
    "tavily_tool = TavilySearchResults(max_results=5)\n",
    "\n",
    "search_expert_system_prompt = '''\n",
    "You are an expert in LangChain and other technologies. \n",
    "Your goal is to answer questions based on results provided by search.\n",
    "You don't add anything yourself and provide only information baked by other sources. \n",
    "'''\n",
    "\n",
    "def search_expert_node(state: MultiAgentState):\n",
    "    model = ChatOpenAI(model=\"gpt-4o-mini\")\n",
    "    sql_agent = create_react_agent(model, [tavily_tool],\n",
    "        state_modifier = search_expert_system_prompt)\n",
    "    messages = [HumanMessage(content=state['question'])]\n",
    "    result = sql_agent.invoke({\"messages\": messages})\n",
    "    return {'answer': result['messages'][-1].content}"
   ]
  },
  {
   "cell_type": "code",
   "execution_count": 63,
   "id": "21ac5878-a3bc-4934-8bb6-f1fab295c094",
   "metadata": {},
   "outputs": [],
   "source": [
    "general_prompt = '''You're a friendly assistant and your goal is to answer general questions.\n",
    "Please, don't provide any unchecked information and just tell that you don't know if you don't have enough info.\n",
    "'''\n",
    "\n",
    "def general_assistant_node(state: MultiAgentState):\n",
    "    messages = [\n",
    "        SystemMessage(content=general_prompt), \n",
    "        HumanMessage(content=state['question'])\n",
    "    ]\n",
    "    model = ChatOpenAI(model=\"gpt-4o-mini\")\n",
    "    response = model.invoke(messages)\n",
    "    return {\"answer\": response.content}"
   ]
  },
  {
   "cell_type": "code",
   "execution_count": 187,
   "id": "bb942322-adad-4f24-88f4-956cb8cf6f08",
   "metadata": {},
   "outputs": [],
   "source": [
    "def human_feedback_node(state: MultiAgentState):\n",
    "    pass\n",
    "\n",
    "editor_prompt = '''You're an editor and your goal is to provide the final answer to the customer, taking into account the feedback. \n",
    "You don't add any information on your own. You use friendly and professional tone. \n",
    "In the output please provide the final answer to the customer without additional comments.\n",
    "Here's all the information you need.\n",
    "\n",
    "\n",
    "Question from customer: \n",
    "----\n",
    "{question}\n",
    "----\n",
    "Draft answer:\n",
    "----\n",
    "{answer}\n",
    "----\n",
    "Feedback: \n",
    "----\n",
    "{feedback}\n",
    "----\n",
    "'''\n",
    "\n",
    "def editor_node(state: MultiAgentState):\n",
    "    print(state)\n",
    "    messages = [\n",
    "        SystemMessage(content=editor_prompt.format(question = state['question'], answer = state['answer'], feedback = state['feedback']))\n",
    "    ]\n",
    "    model = ChatOpenAI(model=\"gpt-4o-mini\")\n",
    "    response = model.invoke(messages)\n",
    "    return {\"answer\": response.content}"
   ]
  },
  {
   "cell_type": "code",
   "execution_count": 188,
   "id": "9a0b6cb6-d5b3-41b7-90cb-15ec3890ce94",
   "metadata": {},
   "outputs": [],
   "source": [
    "from langgraph.checkpoint.sqlite import SqliteSaver\n",
    "memory = SqliteSaver.from_conn_string(\":memory:\")"
   ]
  },
  {
   "cell_type": "code",
   "execution_count": 189,
   "id": "57183f5a-fa32-4b59-9698-f2e562b1e9b3",
   "metadata": {},
   "outputs": [],
   "source": [
    "def route_question(state: MultiAgentState):\n",
    "    print('route function execution')\n",
    "    print(state)\n",
    "    return state['question_type']"
   ]
  },
  {
   "cell_type": "code",
   "execution_count": 190,
   "id": "2ddfe167-8f9c-4b6d-97b2-4f74d9c55496",
   "metadata": {},
   "outputs": [],
   "source": [
    "builder = StateGraph(MultiAgentState)\n",
    "builder.add_node(\"router\", router_node)\n",
    "builder.add_node('database_expert', sql_expert_node)\n",
    "builder.add_node('langchain_expert', search_expert_node)\n",
    "builder.add_node('general_assistant', general_assistant_node)\n",
    "builder.add_node('human', human_feedback_node)\n",
    "builder.add_node('editor', editor_node)\n",
    "\n",
    "builder.add_conditional_edges(\n",
    "    \"router\", \n",
    "    route_question,\n",
    "    {'DATABASE': 'database_expert', 'LANGCHAIN': 'langchain_expert', 'GENERAL': 'general_assistant'}\n",
    ")\n",
    "\n",
    "builder.set_entry_point(\"router\")\n",
    "\n",
    "builder.add_edge('database_expert', 'human')\n",
    "builder.add_edge('langchain_expert', 'human')\n",
    "builder.add_edge('general_assistant', 'human')\n",
    "builder.add_edge('human', 'editor')\n",
    "builder.add_edge('editor', END)"
   ]
  },
  {
   "cell_type": "code",
   "execution_count": 191,
   "id": "2747e2d8-537e-42f4-86b3-417fac159fa4",
   "metadata": {},
   "outputs": [],
   "source": [
    "graph = builder.compile(checkpointer=memory, interrupt_before = ['human'])"
   ]
  },
  {
   "cell_type": "code",
   "execution_count": 192,
   "id": "59063ad3-127f-445f-85bd-79af2c8ccdaf",
   "metadata": {},
   "outputs": [
    {
     "data": {
      "image/png": "[encoded data removed]",
      "text/plain": [
       "<IPython.core.display.Image object>"
      ]
     },
     "execution_count": 192,
     "metadata": {},
     "output_type": "execute_result"
    }
   ],
   "source": [
    "from IPython.display import Image\n",
    "\n",
    "Image(graph.get_graph().draw_png())"
   ]
  },
  {
   "cell_type": "code",
   "execution_count": 211,
   "id": "e8e72d9a-23cd-4283-a605-08b7ee456f94",
   "metadata": {},
   "outputs": [
    {
     "name": "stdout",
     "output_type": "stream",
     "text": [
      "Router node started execution\n",
      "Question type: DATABASE\n",
      "route function execution\n",
      "{'question_type': 'DATABASE', 'question': 'What are the types of fields in ecommerce_db.users table?', 'answer': 'Hello! \\n\\nThe `ecommerce_db.users` table has the following fields:\\n\\n1. **user_id**: UInt64\\n2. **country**: String\\n3. **is_active**: UInt8\\n4. **age**: UInt64\\n\\nHave a nice day!', 'feedback': 'It looks wonderful. Could you only make it a bit friendlier adding hello and have a nice day please?'}\n",
      "{'router': {'question_type': 'DATABASE'}}\n",
      "{'database_expert': {'answer': 'The `ecommerce_db.users` table has the following fields:\\n\\n1. **user_id**: UInt64\\n2. **country**: String\\n3. **is_active**: UInt8\\n4. **age**: UInt64'}}\n"
     ]
    }
   ],
   "source": [
    "thread = {\"configurable\": {\"thread_id\": \"42\"}}\n",
    "results = []\n",
    "\n",
    "for event in graph.stream({\n",
    "    'question': \"What are the types of fields in ecommerce_db.users table?\",\n",
    "}, thread):\n",
    "    print(event)\n",
    "    results.append(event)"
   ]
  },
  {
   "cell_type": "code",
   "execution_count": 221,
   "id": "e124b563-1d4b-4953-9430-e306aff316a2",
   "metadata": {},
   "outputs": [
    {
     "data": {
      "text/plain": [
       "'The `ecommerce_db.users` table has the following fields:\\n\\n1. **user_id**: UInt64\\n2. **country**: String\\n3. **is_active**: UInt8\\n4. **age**: UInt64'"
      ]
     },
     "execution_count": 221,
     "metadata": {},
     "output_type": "execute_result"
    }
   ],
   "source": [
    "results[1]['database_expert']['answer']"
   ]
  },
  {
   "cell_type": "code",
   "execution_count": 212,
   "id": "512feefd-ef51-4f37-b376-579f119dbd1a",
   "metadata": {},
   "outputs": [
    {
     "name": "stdin",
     "output_type": "stream",
     "text": [
      "Do I need to change anything in the answer? It looks wonderful. Could you only make it a bit friendlier adding hello and have a nice day please?\n"
     ]
    }
   ],
   "source": [
    "user_input = input(\"Do I need to change anything in the answer?\")"
   ]
  },
  {
   "cell_type": "code",
   "execution_count": 214,
   "id": "680057c8-09ea-4ae1-b7b2-b7b8fb1dd3a8",
   "metadata": {},
   "outputs": [
    {
     "data": {
      "text/plain": [
       "{'configurable': {'thread_id': '42',\n",
       "  'thread_ts': '1ef54885-527d-62a6-800b-181220993b35'}}"
      ]
     },
     "execution_count": 214,
     "metadata": {},
     "output_type": "execute_result"
    }
   ],
   "source": [
    "graph.update_state(thread, {\"feedback\": user_input}, as_node=\"human\")"
   ]
  },
  {
   "cell_type": "code",
   "execution_count": 215,
   "id": "cd91add9-9459-431e-8ef2-a7c231394e98",
   "metadata": {},
   "outputs": [
    {
     "name": "stdout",
     "output_type": "stream",
     "text": [
      "{'question': 'What are the types of fields in ecommerce_db.users table?', 'question_type': 'DATABASE', 'answer': 'The `ecommerce_db.users` table has the following fields:\\n\\n1. **user_id**: UInt64\\n2. **country**: String\\n3. **is_active**: UInt8\\n4. **age**: UInt64', 'feedback': 'It looks wonderful. Could you only make it a bit friendlier adding hello and have a nice day please?'}\n"
     ]
    }
   ],
   "source": [
    "print(graph.get_state(thread).values)"
   ]
  },
  {
   "cell_type": "code",
   "execution_count": 216,
   "id": "2d0f1e7f-a608-4095-808c-0d3b4768dd13",
   "metadata": {},
   "outputs": [
    {
     "name": "stdout",
     "output_type": "stream",
     "text": [
      "{'question': 'What are the types of fields in ecommerce_db.users table?', 'question_type': 'DATABASE', 'answer': 'The `ecommerce_db.users` table has the following fields:\\n\\n1. **user_id**: UInt64\\n2. **country**: String\\n3. **is_active**: UInt8\\n4. **age**: UInt64', 'feedback': 'It looks wonderful. Could you only make it a bit friendlier adding hello and have a nice day please?'}\n",
      "{'question': 'What are the types of fields in ecommerce_db.users table?', 'question_type': 'DATABASE', 'answer': 'Hello! The `ecommerce_db.users` table has the following fields:\\n\\n1. **user_id**: UInt64\\n2. **country**: String\\n3. **is_active**: UInt8\\n4. **age**: UInt64\\n\\nHave a nice day!', 'feedback': 'It looks wonderful. Could you only make it a bit friendlier adding hello and have a nice day please?'}\n"
     ]
    }
   ],
   "source": [
    "for event in graph.stream(None, thread, stream_mode=\"values\"):\n",
    "    print(event)"
   ]
  },
  {
   "cell_type": "code",
   "execution_count": 217,
   "id": "18ae8e43-f697-4e07-8dda-7479c4e78b4f",
   "metadata": {},
   "outputs": [
    {
     "name": "stdout",
     "output_type": "stream",
     "text": [
      "Hello! The `ecommerce_db.users` table has the following fields:\n",
      "\n",
      "1. **user_id**: UInt64\n",
      "2. **country**: String\n",
      "3. **is_active**: UInt8\n",
      "4. **age**: UInt64\n",
      "\n",
      "Have a nice day!\n"
     ]
    }
   ],
   "source": [
    "print(event['answer'])"
   ]
  },
  {
   "cell_type": "markdown",
   "id": "03b5327d-f654-4676-9ca3-8b2e02bfdd25",
   "metadata": {},
   "source": [
    "### Using Human tool"
   ]
  },
  {
   "cell_type": "code",
   "execution_count": 218,
   "id": "03748f48-695e-4def-b83c-23f9701295d7",
   "metadata": {},
   "outputs": [],
   "source": [
    "from langchain_community.tools import HumanInputRun\n",
    "\n",
    "human_tool = HumanInputRun()"
   ]
  },
  {
   "cell_type": "code",
   "execution_count": 222,
   "id": "d7048151-bc99-4c68-942b-54ebdd994445",
   "metadata": {},
   "outputs": [],
   "source": [
    "state = {'question': 'What are the types of fields in ecommerce_db.users table?', \n",
    "         'answer': 'The `ecommerce_db.users` table has the following fields:\\n\\n1. **user_id**: UInt64\\n2. **country**: String\\n3. **is_active**: UInt8\\n4. **age**: UInt64'\n",
    "        }"
   ]
  },
  {
   "cell_type": "code",
   "execution_count": 229,
   "id": "83fc11cf-3275-4046-90cb-fad4a8fa36d9",
   "metadata": {},
   "outputs": [
    {
     "name": "stdout",
     "output_type": "stream",
     "text": [
      "\n",
      "\n",
      "Is the draft answer complete and accurate for the customer's question about the types of fields in the ecommerce_db.users table?\n"
     ]
    },
    {
     "name": "stdin",
     "output_type": "stream",
     "text": [
      " Yes, but could you please make it friendlier.\n"
     ]
    }
   ],
   "source": [
    "editor_agent_prompt = '''You're an editor and your goal is to provide the final answer to the customer, taking into the initial question.\n",
    "If you need any clarifications or need feedback, please, use human. Always reach out to human to get the feedback before final answer.\n",
    "You don't add any information on your own. You use friendly and professional tone. \n",
    "In the output please provide the final answer to the customer without additional comments.\n",
    "Here's all the information you need.\n",
    "\n",
    "Question from customer: \n",
    "----\n",
    "{question}\n",
    "----\n",
    "Draft answer:\n",
    "----\n",
    "{answer}\n",
    "----\n",
    "'''\n",
    "\n",
    "model = ChatOpenAI(model=\"gpt-4o-mini\")\n",
    "editor_agent = create_react_agent(model, [human_tool])\n",
    "messages = [SystemMessage(content=editor_agent_prompt.format(question = state['question'], answer = state['answer']))]\n",
    "editor_result = editor_agent.invoke({\"messages\": messages})"
   ]
  },
  {
   "cell_type": "code",
   "execution_count": 236,
   "id": "e38cfe16-7be0-44cf-9d9e-82465b1afec2",
   "metadata": {},
   "outputs": [
    {
     "name": "stdout",
     "output_type": "stream",
     "text": [
      "The `ecommerce_db.users` table has the following fields:\n",
      "\n",
      "1. **user_id**: UInt64\n",
      "2. **country**: String\n",
      "3. **is_active**: UInt8\n",
      "4. **age**: UInt64\n",
      "\n",
      "If you have any more questions, feel free to ask!\n"
     ]
    }
   ],
   "source": [
    "print(editor_result['messages'][-1].content)"
   ]
  },
  {
   "cell_type": "code",
   "execution_count": 237,
   "id": "1fde33c1-5d89-42cf-b7ec-9599c08c3743",
   "metadata": {},
   "outputs": [],
   "source": [
    "def editor_agent_node(state: MultiAgentState):\n",
    "    model = ChatOpenAI(model=\"gpt-4o-mini\")\n",
    "    editor_agent = create_react_agent(model, [human_tool])\n",
    "    messages = [SystemMessage(content=editor_agent_prompt.format(question = state['question'], answer = state['answer']))]\n",
    "    result = editor_agent.invoke({\"messages\": messages})\n",
    "    return {'answer': result['messages'][-1].content}"
   ]
  },
  {
   "cell_type": "code",
   "execution_count": 238,
   "id": "2bd84f94-e0df-49d5-ad2d-45de44108df3",
   "metadata": {},
   "outputs": [],
   "source": [
    "builder = StateGraph(MultiAgentState)\n",
    "builder.add_node(\"router\", router_node)\n",
    "builder.add_node('database_expert', sql_expert_node)\n",
    "builder.add_node('langchain_expert', search_expert_node)\n",
    "builder.add_node('general_assistant', general_assistant_node)\n",
    "builder.add_node('editor', editor_agent_node)\n",
    "\n",
    "builder.add_conditional_edges(\n",
    "    \"router\", \n",
    "    route_question,\n",
    "    {'DATABASE': 'database_expert', 'LANGCHAIN': 'langchain_expert', 'GENERAL': 'general_assistant'}\n",
    ")\n",
    "\n",
    "builder.set_entry_point(\"router\")\n",
    "\n",
    "builder.add_edge('database_expert', 'editor')\n",
    "builder.add_edge('langchain_expert', 'editor')\n",
    "builder.add_edge('general_assistant', 'editor')\n",
    "builder.add_edge('editor', END)"
   ]
  },
  {
   "cell_type": "code",
   "execution_count": 240,
   "id": "a896b6ac-15de-4e03-91ff-8c1765287838",
   "metadata": {},
   "outputs": [],
   "source": [
    "graph = builder.compile(checkpointer=memory)"
   ]
  },
  {
   "cell_type": "code",
   "execution_count": 241,
   "id": "6ea74798-58f1-4c0b-8673-48529ce57250",
   "metadata": {},
   "outputs": [
    {
     "data": {
      "image/png": "[encoded data removed]",
      "text/plain": [
       "<IPython.core.display.Image object>"
      ]
     },
     "execution_count": 241,
     "metadata": {},
     "output_type": "execute_result"
    }
   ],
   "source": [
    "from IPython.display import Image\n",
    "\n",
    "Image(graph.get_graph().draw_png())"
   ]
  },
  {
   "cell_type": "code",
   "execution_count": 242,
   "id": "5ecca7de-ef64-442c-9354-a7060e5633ee",
   "metadata": {},
   "outputs": [
    {
     "name": "stdout",
     "output_type": "stream",
     "text": [
      "Router node started execution\n",
      "Question type: DATABASE\n",
      "route function execution\n",
      "{'question_type': 'DATABASE', 'question': 'What are the types of fields in ecommerce_db.users table?', 'answer': 'Hello! The `ecommerce_db.users` table has the following fields:\\n\\n1. **user_id**: UInt64\\n2. **country**: String\\n3. **is_active**: UInt8\\n4. **age**: UInt64\\n\\nHave a nice day!', 'feedback': 'It looks wonderful. Could you only make it a bit friendlier adding hello and have a nice day please?'}\n",
      "{'router': {'question_type': 'DATABASE'}}\n",
      "{'database_expert': {'answer': 'The `ecommerce_db.users` table has the following fields:\\n\\n1. **user_id**: UInt64\\n2. **country**: String\\n3. **is_active**: UInt8\\n4. **age**: UInt64'}}\n",
      "\n",
      "\n",
      "Is the draft answer complete and accurate regarding the fields in the ecommerce_db.users table?\n"
     ]
    },
    {
     "name": "stdin",
     "output_type": "stream",
     "text": [
      " Yes, but could you please add some polite words like \"hello\" and \"have a nice day\"\n"
     ]
    },
    {
     "name": "stdout",
     "output_type": "stream",
     "text": [
      "{'editor': {'answer': 'The `ecommerce_db.users` table has the following fields:\\n\\n1. **user_id**: UInt64\\n2. **country**: String\\n3. **is_active**: UInt8\\n4. **age**: UInt64\\n\\nHello! I hope this information helps you. Have a nice day!'}}\n"
     ]
    }
   ],
   "source": [
    "thread = {\"configurable\": {\"thread_id\": \"42\"}}\n",
    "results = []\n",
    "\n",
    "for event in graph.stream({\n",
    "    'question': \"What are the types of fields in ecommerce_db.users table?\",\n",
    "}, thread):\n",
    "    print(event)\n",
    "    results.append(event)"
   ]
  },
  {
   "cell_type": "code",
   "execution_count": null,
   "id": "208d8a97-b2f4-46cd-b863-16a73deb0902",
   "metadata": {},
   "outputs": [],
   "source": []
  }
 ],
 "metadata": {
  "kernelspec": {
   "display_name": "Python 3 (ipykernel)",
   "language": "python",
   "name": "python3"
  },
  "language_info": {
   "codemirror_mode": {
    "name": "ipython",
    "version": 3
   },
   "file_extension": ".py",
   "mimetype": "text/x-python",
   "name": "python",
   "nbconvert_exporter": "python",
   "pygments_lexer": "ipython3",
   "version": "3.11.6"
  }
 },
 "nbformat": 4,
 "nbformat_minor": 5
}
