{
 "cells": [
  {
   "cell_type": "code",
   "execution_count": 1,
   "id": "871a764b-d171-4131-8655-6cd8b281ddee",
   "metadata": {},
   "outputs": [],
   "source": [
    "# ! pip install -U dspy"
   ]
  },
  {
   "cell_type": "code",
   "execution_count": 2,
   "id": "64efbe85-7b97-422e-97fe-9fda44252121",
   "metadata": {},
   "outputs": [],
   "source": [
    "# ! ollama pull llama3.2"
   ]
  },
  {
   "cell_type": "code",
   "execution_count": 3,
   "id": "608877ba-2d2a-4cdf-82d6-d998046ebe77",
   "metadata": {},
   "outputs": [],
   "source": [
    "import pandas as pd\n",
    "import tqdm"
   ]
  },
  {
   "cell_type": "markdown",
   "id": "a2c4d512-bd69-4160-a86c-fa902efc624a",
   "metadata": {},
   "source": [
    "### Trying out the framework on a simple example"
   ]
  },
  {
   "cell_type": "code",
   "execution_count": 4,
   "id": "8792e4df-e23f-4e64-a254-91aec02258c0",
   "metadata": {},
   "outputs": [],
   "source": [
    "import dspy\n",
    "llm = dspy.LM('ollama_chat/llama3.2', api_base='http://localhost:11434', api_key='', temperature = 0.2)\n",
    "dspy.configure(lm=llm)\n",
    "dspy.configure_cache(enable_memory_cache=False, enable_disk_cache=False)"
   ]
  },
  {
   "cell_type": "code",
   "execution_count": 5,
   "id": "524bf893-1633-4afa-9c11-1dc1a6baa631",
   "metadata": {},
   "outputs": [
    {
     "data": {
      "text/plain": [
       "Prediction(\n",
       "    answer=5\n",
       ")"
      ]
     },
     "execution_count": 5,
     "metadata": {},
     "output_type": "execute_result"
    }
   ],
   "source": [
    "simple_model = dspy.Predict(\"question -> answer: int\", cache = False)\n",
    "simple_model(question=\"I have 5 different balls and I randomly select 4. How many possible combinations of the balls I can get?\")"
   ]
  },
  {
   "cell_type": "code",
   "execution_count": 6,
   "id": "84ed5828-bc20-4d5c-b0e9-e96737634fef",
   "metadata": {},
   "outputs": [],
   "source": [
    "# llm.history[-1]"
   ]
  },
  {
   "cell_type": "code",
   "execution_count": 7,
   "id": "d5807698-3f98-4b8d-a4a2-3f3eba2c6439",
   "metadata": {},
   "outputs": [
    {
     "name": "stdout",
     "output_type": "stream",
     "text": [
      "\n",
      "\n",
      "\n",
      "\n",
      "\u001b[34m[2025-06-20T20:56:29.355580]\u001b[0m\n",
      "\n",
      "\u001b[31mSystem message:\u001b[0m\n",
      "\n",
      "Your input fields are:\n",
      "1. `question` (str):\n",
      "Your output fields are:\n",
      "1. `answer` (int):\n",
      "All interactions will be structured in the following way, with the appropriate values filled in.\n",
      "\n",
      "Inputs will have the following structure:\n",
      "\n",
      "[[ ## question ## ]]\n",
      "{question}\n",
      "\n",
      "Outputs will be a JSON object with the following fields.\n",
      "\n",
      "{\n",
      "  \"answer\": \"{answer}        # note: the value you produce must be a single int value\"\n",
      "}\n",
      "In adhering to this structure, your objective is: \n",
      "        Given the fields `question`, produce the fields `answer`.\n",
      "\n",
      "\n",
      "\u001b[31mUser message:\u001b[0m\n",
      "\n",
      "[[ ## question ## ]]\n",
      "I have 5 different balls and I randomly select 4. How many possible combinations of the balls I can get?\n",
      "\n",
      "Respond with a JSON object in the following order of fields: `answer` (must be formatted as a valid Python int).\n",
      "\n",
      "\n",
      "\u001b[31mResponse:\u001b[0m\n",
      "\n",
      "\u001b[32m{\n",
      "  \"answer\": 5\n",
      "}\u001b[0m\n",
      "\n",
      "\n",
      "\n",
      "\n",
      "\n"
     ]
    }
   ],
   "source": [
    "dspy.inspect_history(n = 1)"
   ]
  },
  {
   "cell_type": "code",
   "execution_count": 8,
   "id": "57545a8b-b413-4b2d-b116-3ff4858a733b",
   "metadata": {},
   "outputs": [
    {
     "data": {
      "text/plain": [
       "Prediction(\n",
       "    reasoning=\"This is a combination problem, where order does not matter. The number of combinations of n items taken r at a time can be calculated using the formula C(n, r) = n! / [r!(n-r)!]. In this case, we have 5 balls and we're selecting 4, so we calculate C(5, 4).\",\n",
       "    answer=5\n",
       ")"
      ]
     },
     "execution_count": 8,
     "metadata": {},
     "output_type": "execute_result"
    }
   ],
   "source": [
    "cot_model = dspy.ChainOfThought(\"question -> answer: int\")\n",
    "cot_model(question=\"I have 5 different balls and I randomly select 4. How many possible combinations of the balls I can get?\")"
   ]
  },
  {
   "cell_type": "code",
   "execution_count": 9,
   "id": "ddd91f13-b283-407c-bee6-fd6c82387db3",
   "metadata": {},
   "outputs": [
    {
     "name": "stdout",
     "output_type": "stream",
     "text": [
      "\n",
      "\n",
      "\n",
      "\n",
      "\u001b[34m[2025-06-20T20:56:36.896674]\u001b[0m\n",
      "\n",
      "\u001b[31mSystem message:\u001b[0m\n",
      "\n",
      "Your input fields are:\n",
      "1. `question` (str):\n",
      "Your output fields are:\n",
      "1. `reasoning` (str): \n",
      "2. `answer` (int):\n",
      "All interactions will be structured in the following way, with the appropriate values filled in.\n",
      "\n",
      "Inputs will have the following structure:\n",
      "\n",
      "[[ ## question ## ]]\n",
      "{question}\n",
      "\n",
      "Outputs will be a JSON object with the following fields.\n",
      "\n",
      "{\n",
      "  \"reasoning\": \"{reasoning}\",\n",
      "  \"answer\": \"{answer}        # note: the value you produce must be a single int value\"\n",
      "}\n",
      "In adhering to this structure, your objective is: \n",
      "        Given the fields `question`, produce the fields `answer`.\n",
      "\n",
      "\n",
      "\u001b[31mUser message:\u001b[0m\n",
      "\n",
      "[[ ## question ## ]]\n",
      "I have 5 different balls and I randomly select 4. How many possible combinations of the balls I can get?\n",
      "\n",
      "Respond with a JSON object in the following order of fields: `reasoning`, then `answer` (must be formatted as a valid Python int).\n",
      "\n",
      "\n",
      "\u001b[31mResponse:\u001b[0m\n",
      "\n",
      "\u001b[32m{\n",
      "  \"reasoning\": \"This is a combination problem, where order does not matter. The number of combinations of n items taken r at a time can be calculated using the formula C(n, r) = n! / [r!(n-r)!]. In this case, we have 5 balls and we're selecting 4, so we calculate C(5, 4).\",\n",
      "  \"answer\": 5\n",
      "}\u001b[0m\n",
      "\n",
      "\n",
      "\n",
      "\n",
      "\n"
     ]
    }
   ],
   "source": [
    "dspy.inspect_history(n = 1)"
   ]
  },
  {
   "cell_type": "code",
   "execution_count": 10,
   "id": "ae5eb577-9d38-4164-a1bf-997179d574be",
   "metadata": {},
   "outputs": [],
   "source": [
    "dspy.configure(adapter=dspy.JSONAdapter())"
   ]
  },
  {
   "cell_type": "code",
   "execution_count": 11,
   "id": "637ce2fa-b129-48df-9ba2-7908b5e326a8",
   "metadata": {},
   "outputs": [
    {
     "name": "stdout",
     "output_type": "stream",
     "text": [
      "Prediction(\n",
      "    reasoning='This is a combination problem, where the order of selection does not matter. The number of combinations can be calculated using the formula C(n, k) = n! / (k!(n-k)!), where n is the total number of items and k is the number of items to select. In this case, we have 5 balls and want to select 4, so we calculate C(5, 4).',\n",
      "    answer=5\n",
      ")\n"
     ]
    }
   ],
   "source": [
    "print(cot_model(question=\"I have 5 different balls and I randomly select 4. How many possible combinations of the balls I can get?\"))"
   ]
  },
  {
   "cell_type": "code",
   "execution_count": 12,
   "id": "ac9c695e-824b-4539-9422-de2e5ae91351",
   "metadata": {},
   "outputs": [
    {
     "name": "stdout",
     "output_type": "stream",
     "text": [
      "\n",
      "\n",
      "\n",
      "\n",
      "\u001b[34m[2025-06-20T20:56:40.166777]\u001b[0m\n",
      "\n",
      "\u001b[31mSystem message:\u001b[0m\n",
      "\n",
      "Your input fields are:\n",
      "1. `question` (str):\n",
      "Your output fields are:\n",
      "1. `reasoning` (str): \n",
      "2. `answer` (int):\n",
      "All interactions will be structured in the following way, with the appropriate values filled in.\n",
      "\n",
      "Inputs will have the following structure:\n",
      "\n",
      "[[ ## question ## ]]\n",
      "{question}\n",
      "\n",
      "Outputs will be a JSON object with the following fields.\n",
      "\n",
      "{\n",
      "  \"reasoning\": \"{reasoning}\",\n",
      "  \"answer\": \"{answer}        # note: the value you produce must be a single int value\"\n",
      "}\n",
      "In adhering to this structure, your objective is: \n",
      "        Given the fields `question`, produce the fields `answer`.\n",
      "\n",
      "\n",
      "\u001b[31mUser message:\u001b[0m\n",
      "\n",
      "[[ ## question ## ]]\n",
      "I have 5 different balls and I randomly select 4. How many possible combinations of the balls I can get?\n",
      "\n",
      "Respond with a JSON object in the following order of fields: `reasoning`, then `answer` (must be formatted as a valid Python int).\n",
      "\n",
      "\n",
      "\u001b[31mResponse:\u001b[0m\n",
      "\n",
      "\u001b[32m{\n",
      "  \"reasoning\": \"This is a combination problem, where the order of selection does not matter. The number of combinations can be calculated using the formula C(n, k) = n! / (k!(n-k)!), where n is the total number of items and k is the number of items to select. In this case, we have 5 balls and want to select 4, so we calculate C(5, 4).\",\n",
      "  \"answer\": 5\n",
      "}\u001b[0m\n",
      "\n",
      "\n",
      "\n",
      "\n",
      "\n"
     ]
    }
   ],
   "source": [
    "dspy.inspect_history(n = 1)"
   ]
  },
  {
   "cell_type": "code",
   "execution_count": 13,
   "id": "8668e315-1504-4795-9eed-dbd888b515fa",
   "metadata": {},
   "outputs": [
    {
     "name": "stdout",
     "output_type": "stream",
     "text": [
      "Prediction(\n",
      "    reasoning='This is a combination problem, where the order of selection does not matter. The number of combinations can be calculated using the formula C(n, k) = n! / (k!(n-k)!), where n is the total number of items and k is the number of items to choose.',\n",
      "    answer=55\n",
      ")\n"
     ]
    }
   ],
   "source": [
    "print(cot_model(question=\"I have 25 different balls and I randomly select 9. How many possible combinations of the balls I can get?\"))"
   ]
  },
  {
   "cell_type": "code",
   "execution_count": 14,
   "id": "c5900bbe-50de-4688-978d-a8729cecf2fd",
   "metadata": {},
   "outputs": [],
   "source": [
    "import math"
   ]
  },
  {
   "cell_type": "code",
   "execution_count": 15,
   "id": "5a741060-363e-4f43-b863-539694d81374",
   "metadata": {},
   "outputs": [
    {
     "data": {
      "text/plain": [
       "2042975"
      ]
     },
     "execution_count": 15,
     "metadata": {},
     "output_type": "execute_result"
    }
   ],
   "source": [
    "n = 25\n",
    "k = 9\n",
    "round(math.factorial(n)/math.factorial(k)/math.factorial(n-k))"
   ]
  },
  {
   "cell_type": "code",
   "execution_count": 16,
   "id": "ba3ce21a-ea3b-4eb4-8020-a466464d9738",
   "metadata": {},
   "outputs": [],
   "source": [
    "# ! brew install deno"
   ]
  },
  {
   "cell_type": "code",
   "execution_count": 17,
   "id": "cbe26c24-4898-49b1-96a0-b77f21e5b4a2",
   "metadata": {},
   "outputs": [],
   "source": [
    "from dspy import PythonInterpreter"
   ]
  },
  {
   "cell_type": "code",
   "execution_count": 18,
   "id": "885362d3-3337-4b62-8551-65f6664d45b2",
   "metadata": {},
   "outputs": [],
   "source": [
    "def evaluate_math(expr: str) -> str:\n",
    "    # Executes Python and returns the output as string\n",
    "    with PythonInterpreter() as interp:\n",
    "        return interp(expr)"
   ]
  },
  {
   "cell_type": "code",
   "execution_count": 19,
   "id": "de57e56c-121d-43c5-96cb-62a58c52522c",
   "metadata": {},
   "outputs": [],
   "source": [
    "react_model = dspy.ReAct(\n",
    "    signature=\"question -> answer: int\",  # expects an int answer\n",
    "    tools=[evaluate_math]\n",
    ")"
   ]
  },
  {
   "cell_type": "code",
   "execution_count": 20,
   "id": "faac61dd-3f18-4d1e-a5d5-32ec102ff477",
   "metadata": {},
   "outputs": [],
   "source": [
    "response = react_model(question=\"I have 25 different balls and I randomly select 9. How many possible combinations of the balls I can get?\")"
   ]
  },
  {
   "cell_type": "code",
   "execution_count": 21,
   "id": "da6766a6-7af0-4a3f-9d82-8fe47126edf6",
   "metadata": {},
   "outputs": [
    {
     "data": {
      "text/plain": [
       "53130"
      ]
     },
     "execution_count": 21,
     "metadata": {},
     "output_type": "execute_result"
    }
   ],
   "source": [
    "response.answer"
   ]
  },
  {
   "cell_type": "code",
   "execution_count": 22,
   "id": "37a6c3ad-10de-444c-8276-87415152e9f0",
   "metadata": {},
   "outputs": [
    {
     "data": {
      "text/plain": [
       "{'thought_0': 'To find the number of possible combinations of the balls I can get, we need to calculate the number of combinations of 9 items from a set of 25 items.',\n",
       " 'tool_name_0': 'evaluate_math',\n",
       " 'tool_args_0': {'expr': '{25} choose {9}'},\n",
       " 'observation_0': 'Execution error in evaluate_math: \\nTraceback (most recent call last):\\n  File \"/Users/marie/Documents/github/llm_env/lib/python3.11/site-packages/dspy/predict/react.py\", line 89, in forward\\n    trajectory[f\"observation_{idx}\"] = self.tools[pred.next_tool_name](**pred.next_tool_args)\\n                                       ^^^^^^^^^^^^^^^^^^^^^^^^^^^^^^^^^^^^^^^^^^^^^^^^^^^^^^\\n  File \"/Users/marie/Documents/github/llm_env/lib/python3.11/site-packages/dspy/utils/callback.py\", line 326, in sync_wrapper\\n    return fn(instance, *args, **kwargs)\\n           ^^^^^^^^^^^^^^^^^^^^^^^^^^^^^\\n  File \"/Users/marie/Documents/github/llm_env/lib/python3.11/site-packages/dspy/adapters/types/tool.py\", line 166, in __call__\\n    result = self.func(**parsed_kwargs)\\n             ^^^^^^^^^^^^^^^^^^^^^^^^^^\\n  File \"/var/folders/7v/1ln722x97kd8bchgxpmdkynw0000gn/T/ipykernel_6482/1271922619.py\", line 4, in evaluate_math\\n    return interp(expr)\\n           ^^^^^^^^^^^^\\n  File \"/Users/marie/Documents/github/llm_env/lib/python3.11/site-packages/dspy/primitives/python_interpreter.py\", line 149, in __call__\\n    return self.execute(code, variables)\\n           ^^^^^^^^^^^^^^^^^^^^^^^^^^^^^\\nSyntaxError: Invalid Python syntax. message:',\n",
       " 'thought_1': 'The problem requires us to calculate the number of combinations of 9 items from a set of 25 items. This can be calculated using the formula for combinations: nCr = n! / (r!(n-r)!). In this case, n is 25 and r is 9.',\n",
       " 'tool_name_1': 'evaluate_math',\n",
       " 'tool_args_1': {'expr': 'math.comb(25, 9)'},\n",
       " 'observation_1': 'Execution error in evaluate_math: \\nTraceback (most recent call last):\\n  File \"/Users/marie/Documents/github/llm_env/lib/python3.11/site-packages/dspy/predict/react.py\", line 89, in forward\\n    trajectory[f\"observation_{idx}\"] = self.tools[pred.next_tool_name](**pred.next_tool_args)\\n                                       ^^^^^^^^^^^^^^^^^^^^^^^^^^^^^^^^^^^^^^^^^^^^^^^^^^^^^^\\n  File \"/Users/marie/Documents/github/llm_env/lib/python3.11/site-packages/dspy/utils/callback.py\", line 326, in sync_wrapper\\n    return fn(instance, *args, **kwargs)\\n           ^^^^^^^^^^^^^^^^^^^^^^^^^^^^^\\n  File \"/Users/marie/Documents/github/llm_env/lib/python3.11/site-packages/dspy/adapters/types/tool.py\", line 166, in __call__\\n    result = self.func(**parsed_kwargs)\\n             ^^^^^^^^^^^^^^^^^^^^^^^^^^\\n  File \"/var/folders/7v/1ln722x97kd8bchgxpmdkynw0000gn/T/ipykernel_6482/1271922619.py\", line 4, in evaluate_math\\n    return interp(expr)\\n           ^^^^^^^^^^^^\\n  File \"/Users/marie/Documents/github/llm_env/lib/python3.11/site-packages/dspy/primitives/python_interpreter.py\", line 149, in __call__\\n    return self.execute(code, variables)\\n           ^^^^^^^^^^^^^^^^^^^^^^^^^^^^^\\ndspy.primitives.python_interpreter.InterpreterError: NameError: [\"name \\'math\\' is not defined\"]',\n",
       " 'thought_2': 'The problem requires us to calculate the number of combinations of 9 items from a set of 25 items. This can be calculated using the formula for combinations: nCr = n! / (r!(n-r)!). In this case, n is 25 and r is 9.',\n",
       " 'tool_name_2': 'evaluate_math',\n",
       " 'tool_args_2': {'expr': 'math.comb(25, 9)'},\n",
       " 'observation_2': 'Execution error in evaluate_math: \\nTraceback (most recent call last):\\n  File \"/Users/marie/Documents/github/llm_env/lib/python3.11/site-packages/dspy/predict/react.py\", line 89, in forward\\n    trajectory[f\"observation_{idx}\"] = self.tools[pred.next_tool_name](**pred.next_tool_args)\\n                                       ^^^^^^^^^^^^^^^^^^^^^^^^^^^^^^^^^^^^^^^^^^^^^^^^^^^^^^\\n  File \"/Users/marie/Documents/github/llm_env/lib/python3.11/site-packages/dspy/utils/callback.py\", line 326, in sync_wrapper\\n    return fn(instance, *args, **kwargs)\\n           ^^^^^^^^^^^^^^^^^^^^^^^^^^^^^\\n  File \"/Users/marie/Documents/github/llm_env/lib/python3.11/site-packages/dspy/adapters/types/tool.py\", line 166, in __call__\\n    result = self.func(**parsed_kwargs)\\n             ^^^^^^^^^^^^^^^^^^^^^^^^^^\\n  File \"/var/folders/7v/1ln722x97kd8bchgxpmdkynw0000gn/T/ipykernel_6482/1271922619.py\", line 4, in evaluate_math\\n    return interp(expr)\\n           ^^^^^^^^^^^^\\n  File \"/Users/marie/Documents/github/llm_env/lib/python3.11/site-packages/dspy/primitives/python_interpreter.py\", line 149, in __call__\\n    return self.execute(code, variables)\\n           ^^^^^^^^^^^^^^^^^^^^^^^^^^^^^\\ndspy.primitives.python_interpreter.InterpreterError: NameError: [\"name \\'math\\' is not defined\"]',\n",
       " 'thought_3': 'The problem requires us to calculate the number of combinations of 9 items from a set of 25 items. This can be calculated using the formula for combinations: nCr = n! / (r!(n-r)!). In this case, n is 25 and r is 9.',\n",
       " 'tool_name_3': 'evaluate_math',\n",
       " 'tool_args_3': {'expr': 'math.comb(25, 9)'},\n",
       " 'observation_3': 'Execution error in evaluate_math: \\nTraceback (most recent call last):\\n  File \"/Users/marie/Documents/github/llm_env/lib/python3.11/site-packages/dspy/predict/react.py\", line 89, in forward\\n    trajectory[f\"observation_{idx}\"] = self.tools[pred.next_tool_name](**pred.next_tool_args)\\n                                       ^^^^^^^^^^^^^^^^^^^^^^^^^^^^^^^^^^^^^^^^^^^^^^^^^^^^^^\\n  File \"/Users/marie/Documents/github/llm_env/lib/python3.11/site-packages/dspy/utils/callback.py\", line 326, in sync_wrapper\\n    return fn(instance, *args, **kwargs)\\n           ^^^^^^^^^^^^^^^^^^^^^^^^^^^^^\\n  File \"/Users/marie/Documents/github/llm_env/lib/python3.11/site-packages/dspy/adapters/types/tool.py\", line 166, in __call__\\n    result = self.func(**parsed_kwargs)\\n             ^^^^^^^^^^^^^^^^^^^^^^^^^^\\n  File \"/var/folders/7v/1ln722x97kd8bchgxpmdkynw0000gn/T/ipykernel_6482/1271922619.py\", line 4, in evaluate_math\\n    return interp(expr)\\n           ^^^^^^^^^^^^\\n  File \"/Users/marie/Documents/github/llm_env/lib/python3.11/site-packages/dspy/primitives/python_interpreter.py\", line 149, in __call__\\n    return self.execute(code, variables)\\n           ^^^^^^^^^^^^^^^^^^^^^^^^^^^^^\\ndspy.primitives.python_interpreter.InterpreterError: NameError: [\"name \\'math\\' is not defined\"]',\n",
       " 'thought_4': 'The problem requires us to calculate the number of combinations of 9 items from a set of 25 items. This can be calculated using the formula for combinations: nCr = n! / (r!(n-r)!). In this case, n is 25 and r is 9.',\n",
       " 'tool_name_4': 'evaluate_math',\n",
       " 'tool_args_4': {'expr': 'math.comb(25, 9)'},\n",
       " 'observation_4': 'Execution error in evaluate_math: \\nTraceback (most recent call last):\\n  File \"/Users/marie/Documents/github/llm_env/lib/python3.11/site-packages/dspy/predict/react.py\", line 89, in forward\\n    trajectory[f\"observation_{idx}\"] = self.tools[pred.next_tool_name](**pred.next_tool_args)\\n                                       ^^^^^^^^^^^^^^^^^^^^^^^^^^^^^^^^^^^^^^^^^^^^^^^^^^^^^^\\n  File \"/Users/marie/Documents/github/llm_env/lib/python3.11/site-packages/dspy/utils/callback.py\", line 326, in sync_wrapper\\n    return fn(instance, *args, **kwargs)\\n           ^^^^^^^^^^^^^^^^^^^^^^^^^^^^^\\n  File \"/Users/marie/Documents/github/llm_env/lib/python3.11/site-packages/dspy/adapters/types/tool.py\", line 166, in __call__\\n    result = self.func(**parsed_kwargs)\\n             ^^^^^^^^^^^^^^^^^^^^^^^^^^\\n  File \"/var/folders/7v/1ln722x97kd8bchgxpmdkynw0000gn/T/ipykernel_6482/1271922619.py\", line 4, in evaluate_math\\n    return interp(expr)\\n           ^^^^^^^^^^^^\\n  File \"/Users/marie/Documents/github/llm_env/lib/python3.11/site-packages/dspy/primitives/python_interpreter.py\", line 149, in __call__\\n    return self.execute(code, variables)\\n           ^^^^^^^^^^^^^^^^^^^^^^^^^^^^^\\ndspy.primitives.python_interpreter.InterpreterError: NameError: [\"name \\'math\\' is not defined\"]'}"
      ]
     },
     "execution_count": 22,
     "metadata": {},
     "output_type": "execute_result"
    }
   ],
   "source": [
    "response.trajectory"
   ]
  },
  {
   "cell_type": "code",
   "execution_count": 23,
   "id": "2258893c-0db1-48fe-b2a4-0dd78eb57946",
   "metadata": {},
   "outputs": [],
   "source": [
    "# we can use MLflow for observability - https://dspy.ai/tutorials/observability/\n",
    "# no registration needed"
   ]
  },
  {
   "cell_type": "code",
   "execution_count": 24,
   "id": "797649ba-be43-4cce-bb35-739ac7eb04fd",
   "metadata": {},
   "outputs": [],
   "source": [
    "# ! pip install -U mlflow"
   ]
  },
  {
   "cell_type": "code",
   "execution_count": 25,
   "id": "657314ab-cd58-4cb4-9c96-95d01c2e0fc9",
   "metadata": {},
   "outputs": [],
   "source": [
    "# # It is highly recommended to use SQL store when using MLflow tracing\n",
    "# mlflow server --backend-store-uri sqlite:///mydb.sqlite\n",
    "# python3 -m mlflow server --backend-store-uri sqlite:///mydb.sqlite\n",
    "# If you don't specify a different port via --port flag, you MLflow server will be hosted at port 5000."
   ]
  },
  {
   "cell_type": "code",
   "execution_count": 26,
   "id": "ccbe3ebb-401b-4059-8415-25e263c95299",
   "metadata": {},
   "outputs": [],
   "source": [
    "# import mlflow\n",
    "# # Tell MLflow about the server URI.\n",
    "# mlflow.set_tracking_uri(\"http://127.0.0.1:5000\")\n",
    "# # Create a unique name for your experiment.\n",
    "# mlflow.set_experiment(\"DSPy\")\n",
    "# mlflow.dspy.autolog()"
   ]
  },
  {
   "cell_type": "code",
   "execution_count": 27,
   "id": "f4d6dcdc-ba96-4edf-b623-1c6d831ca1f5",
   "metadata": {},
   "outputs": [],
   "source": [
    "llm = dspy.LM('ollama_chat/llama3.2', api_base='http://localhost:11434', api_key='', temperature = 0.3)\n",
    "dspy.configure(lm=llm)\n",
    "dspy.configure_cache(enable_memory_cache=False, enable_disk_cache=False)\n",
    "react_model = dspy.ReAct(\n",
    "    signature=\"question -> answer: int\",  # expects an int answer\n",
    "    tools=[evaluate_math]\n",
    ")"
   ]
  },
  {
   "cell_type": "code",
   "execution_count": 28,
   "id": "f326d188-cd6b-4125-abe9-16658e8a2d60",
   "metadata": {},
   "outputs": [],
   "source": [
    "response = react_model(question=\"I have 25 different balls and I randomly select 9. How many possible combinations of the balls I can get?\")"
   ]
  },
  {
   "cell_type": "code",
   "execution_count": 29,
   "id": "5817b6e9-7637-47ab-ab89-2304473b95e3",
   "metadata": {},
   "outputs": [
    {
     "data": {
      "text/plain": [
       "53130"
      ]
     },
     "execution_count": 29,
     "metadata": {},
     "output_type": "execute_result"
    }
   ],
   "source": [
    "response.answer"
   ]
  },
  {
   "cell_type": "code",
   "execution_count": 30,
   "id": "49528a61-a601-4395-beda-e201e8e10c57",
   "metadata": {},
   "outputs": [
    {
     "data": {
      "text/plain": [
       "{'thought_0': 'To find the number of possible combinations, we can use the concept of combinations in mathematics.',\n",
       " 'tool_name_0': 'evaluate_math',\n",
       " 'tool_args_0': {'expr': '{25}\\n{9}'},\n",
       " 'observation_0': {},\n",
       " 'thought_1': 'The number of possible combinations can be calculated using the combination formula C(n, k) = n! / (k!(n-k)!). Here, we have n=25 balls and k=9 selected balls.',\n",
       " 'tool_name_1': 'evaluate_math',\n",
       " 'tool_args_1': {'expr': '{25}²{9}'},\n",
       " 'observation_1': 'Execution error in evaluate_math: \\nTraceback (most recent call last):\\n  File \"/Users/marie/Documents/github/llm_env/lib/python3.11/site-packages/dspy/predict/react.py\", line 89, in forward\\n    trajectory[f\"observation_{idx}\"] = self.tools[pred.next_tool_name](**pred.next_tool_args)\\n                                       ^^^^^^^^^^^^^^^^^^^^^^^^^^^^^^^^^^^^^^^^^^^^^^^^^^^^^^\\n  File \"/Users/marie/Documents/github/llm_env/lib/python3.11/site-packages/dspy/utils/callback.py\", line 326, in sync_wrapper\\n    return fn(instance, *args, **kwargs)\\n           ^^^^^^^^^^^^^^^^^^^^^^^^^^^^^\\n  File \"/Users/marie/Documents/github/llm_env/lib/python3.11/site-packages/dspy/adapters/types/tool.py\", line 166, in __call__\\n    result = self.func(**parsed_kwargs)\\n             ^^^^^^^^^^^^^^^^^^^^^^^^^^\\n  File \"/var/folders/7v/1ln722x97kd8bchgxpmdkynw0000gn/T/ipykernel_6482/1271922619.py\", line 4, in evaluate_math\\n    return interp(expr)\\n           ^^^^^^^^^^^^\\n  File \"/Users/marie/Documents/github/llm_env/lib/python3.11/site-packages/dspy/primitives/python_interpreter.py\", line 149, in __call__\\n    return self.execute(code, variables)\\n           ^^^^^^^^^^^^^^^^^^^^^^^^^^^^^\\nSyntaxError: Invalid Python syntax. message:',\n",
       " 'thought_2': 'The number of possible combinations can be calculated using the combination formula C(n, k) = n! / (k!(n-k)!). Here, we have n=25 balls and k=9 selected balls.',\n",
       " 'tool_name_2': 'evaluate_math',\n",
       " 'tool_args_2': {'expr': '{25}²{9}'},\n",
       " 'observation_2': 'Execution error in evaluate_math: \\nTraceback (most recent call last):\\n  File \"/Users/marie/Documents/github/llm_env/lib/python3.11/site-packages/dspy/predict/react.py\", line 89, in forward\\n    trajectory[f\"observation_{idx}\"] = self.tools[pred.next_tool_name](**pred.next_tool_args)\\n                                       ^^^^^^^^^^^^^^^^^^^^^^^^^^^^^^^^^^^^^^^^^^^^^^^^^^^^^^\\n  File \"/Users/marie/Documents/github/llm_env/lib/python3.11/site-packages/dspy/utils/callback.py\", line 326, in sync_wrapper\\n    return fn(instance, *args, **kwargs)\\n           ^^^^^^^^^^^^^^^^^^^^^^^^^^^^^\\n  File \"/Users/marie/Documents/github/llm_env/lib/python3.11/site-packages/dspy/adapters/types/tool.py\", line 166, in __call__\\n    result = self.func(**parsed_kwargs)\\n             ^^^^^^^^^^^^^^^^^^^^^^^^^^\\n  File \"/var/folders/7v/1ln722x97kd8bchgxpmdkynw0000gn/T/ipykernel_6482/1271922619.py\", line 4, in evaluate_math\\n    return interp(expr)\\n           ^^^^^^^^^^^^\\n  File \"/Users/marie/Documents/github/llm_env/lib/python3.11/site-packages/dspy/primitives/python_interpreter.py\", line 149, in __call__\\n    return self.execute(code, variables)\\n           ^^^^^^^^^^^^^^^^^^^^^^^^^^^^^\\nSyntaxError: Invalid Python syntax. message:',\n",
       " 'thought_3': 'The number of possible combinations can be calculated using the combination formula C(n, k) = n! / (k!(n-k)!). Here, we have n=25 balls and k=9 selected balls.',\n",
       " 'tool_name_3': 'evaluate_math',\n",
       " 'tool_args_3': {'expr': '{25}²{9}'},\n",
       " 'observation_3': 'Execution error in evaluate_math: \\nTraceback (most recent call last):\\n  File \"/Users/marie/Documents/github/llm_env/lib/python3.11/site-packages/dspy/predict/react.py\", line 89, in forward\\n    trajectory[f\"observation_{idx}\"] = self.tools[pred.next_tool_name](**pred.next_tool_args)\\n                                       ^^^^^^^^^^^^^^^^^^^^^^^^^^^^^^^^^^^^^^^^^^^^^^^^^^^^^^\\n  File \"/Users/marie/Documents/github/llm_env/lib/python3.11/site-packages/dspy/utils/callback.py\", line 326, in sync_wrapper\\n    return fn(instance, *args, **kwargs)\\n           ^^^^^^^^^^^^^^^^^^^^^^^^^^^^^\\n  File \"/Users/marie/Documents/github/llm_env/lib/python3.11/site-packages/dspy/adapters/types/tool.py\", line 166, in __call__\\n    result = self.func(**parsed_kwargs)\\n             ^^^^^^^^^^^^^^^^^^^^^^^^^^\\n  File \"/var/folders/7v/1ln722x97kd8bchgxpmdkynw0000gn/T/ipykernel_6482/1271922619.py\", line 4, in evaluate_math\\n    return interp(expr)\\n           ^^^^^^^^^^^^\\n  File \"/Users/marie/Documents/github/llm_env/lib/python3.11/site-packages/dspy/primitives/python_interpreter.py\", line 149, in __call__\\n    return self.execute(code, variables)\\n           ^^^^^^^^^^^^^^^^^^^^^^^^^^^^^\\nSyntaxError: Invalid Python syntax. message:',\n",
       " 'thought_4': 'The number of possible combinations can be calculated using the combination formula C(n, k) = n! / (k!(n-k)!). Here, we have n=25 balls and k=9 selected balls.',\n",
       " 'tool_name_4': 'evaluate_math',\n",
       " 'tool_args_4': {'expr': '{25}\\n{9}'},\n",
       " 'observation_4': {}}"
      ]
     },
     "execution_count": 30,
     "metadata": {},
     "output_type": "execute_result"
    }
   ],
   "source": [
    "response.trajectory"
   ]
  },
  {
   "cell_type": "markdown",
   "id": "30eda697-9d48-455d-8bd9-0fa44d46c583",
   "metadata": {},
   "source": [
    "### NPS"
   ]
  },
  {
   "cell_type": "code",
   "execution_count": 31,
   "id": "a76c018e-4060-46e3-884f-e40b5ba71b41",
   "metadata": {},
   "outputs": [],
   "source": [
    "import json\n",
    "with open('nps_comments.json', 'r') as f:\n",
    "    nps_data = json.loads(f.read())"
   ]
  },
  {
   "cell_type": "code",
   "execution_count": 32,
   "id": "be71ac25-0861-42a2-8b35-af559e786ea8",
   "metadata": {},
   "outputs": [],
   "source": [
    "topics = set()\n",
    "\n",
    "for rec in nps_data: \n",
    "    for t in rec['topics']: \n",
    "        topics.add(t)"
   ]
  },
  {
   "cell_type": "code",
   "execution_count": 33,
   "id": "259d09fd-f04e-4b72-b5df-6bc7b2059e2d",
   "metadata": {},
   "outputs": [
    {
     "name": "stdout",
     "output_type": "stream",
     "text": [
      "['Difficult Product Discovery', 'Damaged or Incorrect Items', 'Customs and Import Charges', 'Complicated Returns or Exchanges', 'Website or App Bugs', 'Inaccurate Product Descriptions or Photos', 'Confusing Loyalty or Discount Systems', 'Unresponsive or Generic Customer Support', 'Limited Size or Shade Availability', 'Slow or Unreliable Shipping']\n"
     ]
    }
   ],
   "source": [
    "print(list(topics))"
   ]
  },
  {
   "cell_type": "code",
   "execution_count": 34,
   "id": "4cd0adf2-ca9a-4ab3-8296-e15ea632dde3",
   "metadata": {},
   "outputs": [],
   "source": [
    "from typing import Literal, List\n",
    "\n",
    "class NPSTopic(dspy.Signature):\n",
    "    \"\"\"Classify NPS topics\"\"\"\n",
    "\n",
    "    comment: str = dspy.InputField()\n",
    "    answer: List[Literal['Slow or Unreliable Shipping', 'Inaccurate Product Descriptions or Photos', 'Limited Size or Shade Availability', \n",
    "                    'Unresponsive or Generic Customer Support', 'Website or App Bugs', 'Confusing Loyalty or Discount Systems', \n",
    "                    'Complicated Returns or Exchanges', 'Customs and Import Charges', 'Difficult Product Discovery', \n",
    "                    'Damaged or Incorrect Items']] = dspy.OutputField()"
   ]
  },
  {
   "cell_type": "code",
   "execution_count": 35,
   "id": "1443a3d1-bf3a-48db-acc5-3d81ead9af57",
   "metadata": {},
   "outputs": [
    {
     "data": {
      "text/plain": [
       "{'topics': ['Limited Size or Shade Availability'],\n",
       " 'comment': \"Absolutely frustrated! Every time I find something I love, it's sold out in my size. What's the point of having a wishlist if nothing is ever available?\"}"
      ]
     },
     "execution_count": 35,
     "metadata": {},
     "output_type": "execute_result"
    }
   ],
   "source": [
    "nps_data[0]"
   ]
  },
  {
   "cell_type": "code",
   "execution_count": 36,
   "id": "2eeab89b-af8c-48ee-9c70-5101af4af322",
   "metadata": {},
   "outputs": [],
   "source": [
    "nps_topic_model = dspy.ChainOfThought(NPSTopic)"
   ]
  },
  {
   "cell_type": "code",
   "execution_count": 37,
   "id": "405986d4-396d-4565-ab9f-08ac0246a522",
   "metadata": {},
   "outputs": [],
   "source": [
    "response = nps_topic_model(comment = \"Absolutely frustrated! Every time I find something I love, it's sold out in my size. What's the point of having a wishlist if nothing is ever available?\")"
   ]
  },
  {
   "cell_type": "code",
   "execution_count": 38,
   "id": "dbef022f-1905-4c41-b134-6d2faa0b0df7",
   "metadata": {},
   "outputs": [
    {
     "name": "stdout",
     "output_type": "stream",
     "text": [
      "\n",
      "\n",
      "\n",
      "\n",
      "\u001b[34m[2025-06-20T20:58:09.216473]\u001b[0m\n",
      "\n",
      "\u001b[31mSystem message:\u001b[0m\n",
      "\n",
      "Your input fields are:\n",
      "1. `comment` (str):\n",
      "Your output fields are:\n",
      "1. `reasoning` (str): \n",
      "2. `answer` (list[Literal['Slow or Unreliable Shipping', 'Inaccurate Product Descriptions or Photos', 'Limited Size or Shade Availability', 'Unresponsive or Generic Customer Support', 'Website or App Bugs', 'Confusing Loyalty or Discount Systems', 'Complicated Returns or Exchanges', 'Customs and Import Charges', 'Difficult Product Discovery', 'Damaged or Incorrect Items']]):\n",
      "All interactions will be structured in the following way, with the appropriate values filled in.\n",
      "\n",
      "Inputs will have the following structure:\n",
      "\n",
      "[[ ## comment ## ]]\n",
      "{comment}\n",
      "\n",
      "Outputs will be a JSON object with the following fields.\n",
      "\n",
      "{\n",
      "  \"reasoning\": \"{reasoning}\",\n",
      "  \"answer\": \"{answer}        # note: the value you produce must adhere to the JSON schema: {\\\"type\\\": \\\"array\\\", \\\"items\\\": {\\\"type\\\": \\\"string\\\", \\\"enum\\\": [\\\"Slow or Unreliable Shipping\\\", \\\"Inaccurate Product Descriptions or Photos\\\", \\\"Limited Size or Shade Availability\\\", \\\"Unresponsive or Generic Customer Support\\\", \\\"Website or App Bugs\\\", \\\"Confusing Loyalty or Discount Systems\\\", \\\"Complicated Returns or Exchanges\\\", \\\"Customs and Import Charges\\\", \\\"Difficult Product Discovery\\\", \\\"Damaged or Incorrect Items\\\"]}}\"\n",
      "}\n",
      "In adhering to this structure, your objective is: \n",
      "        Classify NPS topics\n",
      "\n",
      "\n",
      "\u001b[31mUser message:\u001b[0m\n",
      "\n",
      "[[ ## comment ## ]]\n",
      "Absolutely frustrated! Every time I find something I love, it's sold out in my size. What's the point of having a wishlist if nothing is ever available?\n",
      "\n",
      "Respond with a JSON object in the following order of fields: `reasoning`, then `answer` (must be formatted as a valid Python list[Literal['Slow or Unreliable Shipping', 'Inaccurate Product Descriptions or Photos', 'Limited Size or Shade Availability', 'Unresponsive or Generic Customer Support', 'Website or App Bugs', 'Confusing Loyalty or Discount Systems', 'Complicated Returns or Exchanges', 'Customs and Import Charges', 'Difficult Product Discovery', 'Damaged or Incorrect Items']]).\n",
      "\n",
      "\n",
      "\u001b[31mResponse:\u001b[0m\n",
      "\n",
      "\u001b[32m{\n",
      "  \"reasoning\": \"The customer is expressing frustration with the limited availability of products in their size, which they feel defeats the purpose of having a wishlist.\",\n",
      "  \"answer\": [\n",
      "    \"Limited Size or Shade Availability\"\n",
      "  ]\n",
      "}\u001b[0m\n",
      "\n",
      "\n",
      "\n",
      "\n",
      "\n"
     ]
    }
   ],
   "source": [
    "dspy.inspect_history(n = 1)"
   ]
  },
  {
   "cell_type": "code",
   "execution_count": 39,
   "id": "b8d868af-65b0-4aae-bf6a-e9f0791da919",
   "metadata": {},
   "outputs": [],
   "source": [
    "nps_df = pd.DataFrame(nps_data)"
   ]
  },
  {
   "cell_type": "code",
   "execution_count": 40,
   "id": "8073cf63-c2f8-4d31-bab3-305ef84510c1",
   "metadata": {},
   "outputs": [],
   "source": [
    "nps_df['id'] = list(map(lambda x: x + 1, range(nps_df.shape[0])))"
   ]
  },
  {
   "cell_type": "code",
   "execution_count": 41,
   "id": "2186c313-ef51-4eeb-8c6d-c4b80beb0c6a",
   "metadata": {},
   "outputs": [
    {
     "name": "stderr",
     "output_type": "stream",
     "text": [
      "100%|█████████████████████████████████████████| 105/105 [06:17<00:00,  3.59s/it]\n"
     ]
    }
   ],
   "source": [
    "tmp = []\n",
    "\n",
    "for rec in tqdm.tqdm(nps_df.to_dict('records')):\n",
    "    response = nps_topic_model(comment = rec['comment'])\n",
    "    res = {\n",
    "        'id': rec['id'],\n",
    "        'model_topics': response.answer\n",
    "    }\n",
    "\n",
    "    tmp.append(res)"
   ]
  },
  {
   "cell_type": "code",
   "execution_count": 42,
   "id": "c46452f4-b88c-468a-ae4a-ae9ad05ff4d3",
   "metadata": {},
   "outputs": [],
   "source": [
    "ini_model_topics_df = pd.DataFrame(tmp)"
   ]
  },
  {
   "cell_type": "code",
   "execution_count": 43,
   "id": "6d1ad4d0-05c5-4e25-b549-ecf69580e423",
   "metadata": {},
   "outputs": [
    {
     "data": {
      "text/html": [
       "<div>\n",
       "<style scoped>\n",
       "    .dataframe tbody tr th:only-of-type {\n",
       "        vertical-align: middle;\n",
       "    }\n",
       "\n",
       "    .dataframe tbody tr th {\n",
       "        vertical-align: top;\n",
       "    }\n",
       "\n",
       "    .dataframe thead th {\n",
       "        text-align: right;\n",
       "    }\n",
       "</style>\n",
       "<table border=\"1\" class=\"dataframe\">\n",
       "  <thead>\n",
       "    <tr style=\"text-align: right;\">\n",
       "      <th></th>\n",
       "      <th>id</th>\n",
       "      <th>model_topics</th>\n",
       "    </tr>\n",
       "  </thead>\n",
       "  <tbody>\n",
       "    <tr>\n",
       "      <th>0</th>\n",
       "      <td>1</td>\n",
       "      <td>[Limited Size or Shade Availability]</td>\n",
       "    </tr>\n",
       "    <tr>\n",
       "      <th>1</th>\n",
       "      <td>2</td>\n",
       "      <td>[Slow or Unreliable Shipping, Inaccurate Produ...</td>\n",
       "    </tr>\n",
       "    <tr>\n",
       "      <th>2</th>\n",
       "      <td>3</td>\n",
       "      <td>[Inaccurate Product Descriptions or Photos]</td>\n",
       "    </tr>\n",
       "    <tr>\n",
       "      <th>3</th>\n",
       "      <td>4</td>\n",
       "      <td>[Confusing Loyalty or Discount Systems]</td>\n",
       "    </tr>\n",
       "    <tr>\n",
       "      <th>4</th>\n",
       "      <td>5</td>\n",
       "      <td>[Website or App Bugs]</td>\n",
       "    </tr>\n",
       "    <tr>\n",
       "      <th>...</th>\n",
       "      <td>...</td>\n",
       "      <td>...</td>\n",
       "    </tr>\n",
       "    <tr>\n",
       "      <th>100</th>\n",
       "      <td>101</td>\n",
       "      <td>[Customs and Import Charges, Inaccurate Produc...</td>\n",
       "    </tr>\n",
       "    <tr>\n",
       "      <th>101</th>\n",
       "      <td>102</td>\n",
       "      <td>[Slow or Unreliable Shipping, Inaccurate Produ...</td>\n",
       "    </tr>\n",
       "    <tr>\n",
       "      <th>102</th>\n",
       "      <td>103</td>\n",
       "      <td>[Slow or Unreliable Shipping, Inaccurate Produ...</td>\n",
       "    </tr>\n",
       "    <tr>\n",
       "      <th>103</th>\n",
       "      <td>104</td>\n",
       "      <td>[Slow or Unreliable Shipping, Inaccurate Produ...</td>\n",
       "    </tr>\n",
       "    <tr>\n",
       "      <th>104</th>\n",
       "      <td>105</td>\n",
       "      <td>[Confusing Loyalty or Discount Systems, Compli...</td>\n",
       "    </tr>\n",
       "  </tbody>\n",
       "</table>\n",
       "<p>105 rows × 2 columns</p>\n",
       "</div>"
      ],
      "text/plain": [
       "      id                                       model_topics\n",
       "0      1               [Limited Size or Shade Availability]\n",
       "1      2  [Slow or Unreliable Shipping, Inaccurate Produ...\n",
       "2      3        [Inaccurate Product Descriptions or Photos]\n",
       "3      4            [Confusing Loyalty or Discount Systems]\n",
       "4      5                              [Website or App Bugs]\n",
       "..   ...                                                ...\n",
       "100  101  [Customs and Import Charges, Inaccurate Produc...\n",
       "101  102  [Slow or Unreliable Shipping, Inaccurate Produ...\n",
       "102  103  [Slow or Unreliable Shipping, Inaccurate Produ...\n",
       "103  104  [Slow or Unreliable Shipping, Inaccurate Produ...\n",
       "104  105  [Confusing Loyalty or Discount Systems, Compli...\n",
       "\n",
       "[105 rows x 2 columns]"
      ]
     },
     "execution_count": 43,
     "metadata": {},
     "output_type": "execute_result"
    }
   ],
   "source": [
    "ini_model_topics_df"
   ]
  },
  {
   "cell_type": "code",
   "execution_count": 44,
   "id": "7f59c4de-13b6-4488-8668-6d8691958ff2",
   "metadata": {},
   "outputs": [],
   "source": [
    "nps_df = nps_df.merge(ini_model_topics_df)"
   ]
  },
  {
   "cell_type": "code",
   "execution_count": 45,
   "id": "b44613ee-8231-48e6-aa31-c387855141ad",
   "metadata": {},
   "outputs": [
    {
     "data": {
      "text/plain": [
       "[{'topics': ['Limited Size or Shade Availability'],\n",
       "  'comment': \"Absolutely frustrated! Every time I find something I love, it's sold out in my size. What's the point of having a wishlist if nothing is ever available?\",\n",
       "  'id': 1,\n",
       "  'model_topics': ['Limited Size or Shade Availability']},\n",
       " {'topics': ['Customs and Import Charges'],\n",
       "  'comment': 'Got hit with unexpected customs fees that doubled my order cost. Should have been disclosed before checkout.',\n",
       "  'id': 27,\n",
       "  'model_topics': ['Customs and Import Charges']},\n",
       " {'topics': ['Difficult Product Discovery'],\n",
       "  'comment': \"Search results are completely random. Looking for 'foundation' brings up nail polish. Makes no sense.\",\n",
       "  'id': 36,\n",
       "  'model_topics': ['Slow or Unreliable Shipping',\n",
       "   'Inaccurate Product Descriptions or Photos']},\n",
       " {'topics': ['Slow or Unreliable Shipping'],\n",
       "  'comment': 'Premium shipping costs more than the product but still takes a week. What exactly am I paying premium for?',\n",
       "  'id': 85,\n",
       "  'model_topics': ['Slow or Unreliable Shipping']},\n",
       " {'topics': ['Limited Size or Shade Availability'],\n",
       "  'comment': \"My shade is ALWAYS out of stock. I've been trying to reorder my foundation for 3 weeks now. Time to find a new brand that actually keeps products in stock.\",\n",
       "  'id': 6,\n",
       "  'model_topics': ['Limited Size or Shade Availability']}]"
      ]
     },
     "execution_count": 45,
     "metadata": {},
     "output_type": "execute_result"
    }
   ],
   "source": [
    "nps_df.sample(5).to_dict('records')"
   ]
  },
  {
   "cell_type": "code",
   "execution_count": 46,
   "id": "8b921a4f-5331-4e0f-b587-ede5e4eefc09",
   "metadata": {},
   "outputs": [],
   "source": [
    "def compare_topics(l1, l2):\n",
    "    l1_fmt = ', '.join(sorted(l1))\n",
    "    l2_fmt = ', '.join(sorted(l2))\n",
    "    if l1_fmt == l2_fmt: \n",
    "        return 1 \n",
    "    return 0\n",
    "\n",
    "\n",
    "nps_df['model_accuracy'] = list(map(\n",
    "    compare_topics,\n",
    "    nps_df.topics,\n",
    "    nps_df.model_topics\n",
    "))"
   ]
  },
  {
   "cell_type": "code",
   "execution_count": 47,
   "id": "2509ed7a-310e-46fe-9866-a9cb24317362",
   "metadata": {},
   "outputs": [
    {
     "data": {
      "text/plain": [
       "54.29"
      ]
     },
     "execution_count": 47,
     "metadata": {},
     "output_type": "execute_result"
    }
   ],
   "source": [
    "round(100*nps_df.model_accuracy.mean(), 2)"
   ]
  },
  {
   "cell_type": "code",
   "execution_count": 48,
   "id": "6313f7bd-133f-47bc-8772-2b439f7a3771",
   "metadata": {},
   "outputs": [
    {
     "data": {
      "text/plain": [
       "0.1454613971032902"
      ]
     },
     "execution_count": 48,
     "metadata": {},
     "output_type": "execute_result"
    }
   ],
   "source": [
    "import random\n",
    "random.random()"
   ]
  },
  {
   "cell_type": "code",
   "execution_count": 49,
   "id": "29a94962-e178-401a-a944-c76802abf748",
   "metadata": {},
   "outputs": [],
   "source": [
    "trainset = []\n",
    "valset = []\n",
    "for rec in nps_data: \n",
    "    if random.random() <= 0.5:\n",
    "        trainset.append(\n",
    "            dspy.Example(\n",
    "                comment = rec['comment'],\n",
    "                answer = rec['topics']\n",
    "            ).with_inputs('comment')\n",
    "        )\n",
    "    else: \n",
    "        valset.append(\n",
    "            dspy.Example(\n",
    "                comment = rec['comment'],\n",
    "                answer = rec['topics']\n",
    "            ).with_inputs('comment')\n",
    "        )"
   ]
  },
  {
   "cell_type": "code",
   "execution_count": 50,
   "id": "5354da63-e766-49f8-973d-95c65db88bdc",
   "metadata": {},
   "outputs": [],
   "source": [
    "# tp = dspy.MIPROv2(metric=dspy.evaluate.answer_exact_match, auto=\"light\", num_threads=24)"
   ]
  },
  {
   "cell_type": "code",
   "execution_count": 51,
   "id": "0ae239ac-2085-465c-913d-c67f297b6bb2",
   "metadata": {},
   "outputs": [],
   "source": [
    "def list_exact_match(example, pred, trace=None):\n",
    "    \"\"\"Custom metric for comparing lists of topics\"\"\"\n",
    "    try:\n",
    "        pred_answer = pred.answer\n",
    "        expected_answer = example.answer\n",
    "        \n",
    "        # Convert to sets for order-independent comparison\n",
    "        if isinstance(pred_answer, list) and isinstance(expected_answer, list):\n",
    "            return set(pred_answer) == set(expected_answer)\n",
    "        else:\n",
    "            return pred_answer == expected_answer\n",
    "    except Exception as e:\n",
    "        print(f\"Error in metric: {e}\")\n",
    "        return False"
   ]
  },
  {
   "cell_type": "code",
   "execution_count": 52,
   "id": "336a0435-93fd-4532-8881-d82be5bb8e74",
   "metadata": {},
   "outputs": [],
   "source": [
    "tp = dspy.MIPROv2(metric=list_exact_match, auto=\"light\", num_threads=24)"
   ]
  },
  {
   "cell_type": "code",
   "execution_count": 53,
   "id": "1ba105be-06aa-452d-ad0a-ca4fe9745dc8",
   "metadata": {},
   "outputs": [
    {
     "name": "stderr",
     "output_type": "stream",
     "text": [
      "2025/06/20 21:04:26 INFO dspy.teleprompt.mipro_optimizer_v2: \n",
      "RUNNING WITH THE FOLLOWING LIGHT AUTO RUN SETTINGS:\n",
      "num_trials: 10\n",
      "minibatch: True\n",
      "num_fewshot_candidates: 6\n",
      "num_instruct_candidates: 3\n",
      "valset size: 61\n",
      "\n",
      "2025/06/20 21:04:26 INFO dspy.teleprompt.mipro_optimizer_v2: \n",
      "==> STEP 1: BOOTSTRAP FEWSHOT EXAMPLES <==\n",
      "2025/06/20 21:04:26 INFO dspy.teleprompt.mipro_optimizer_v2: These will be used as few-shot example candidates for our program and for creating instructions.\n",
      "\n",
      "2025/06/20 21:04:26 INFO dspy.teleprompt.mipro_optimizer_v2: Bootstrapping N=6 sets of demonstrations...\n"
     ]
    },
    {
     "name": "stdout",
     "output_type": "stream",
     "text": [
      "Bootstrapping set 1/6\n",
      "Bootstrapping set 2/6\n",
      "Bootstrapping set 3/6\n"
     ]
    },
    {
     "name": "stderr",
     "output_type": "stream",
     "text": [
      " 11%|█████                                       | 5/44 [00:16<02:07,  3.26s/it]\n"
     ]
    },
    {
     "name": "stdout",
     "output_type": "stream",
     "text": [
      "Bootstrapped 4 full traces after 5 examples for up to 1 rounds, amounting to 5 attempts.\n",
      "Bootstrapping set 4/6\n"
     ]
    },
    {
     "name": "stderr",
     "output_type": "stream",
     "text": [
      " 16%|███████                                     | 7/44 [00:23<02:04,  3.36s/it]\n"
     ]
    },
    {
     "name": "stdout",
     "output_type": "stream",
     "text": [
      "Bootstrapped 3 full traces after 7 examples for up to 1 rounds, amounting to 7 attempts.\n",
      "Bootstrapping set 5/6\n"
     ]
    },
    {
     "name": "stderr",
     "output_type": "stream",
     "text": [
      "  2%|█                                           | 1/44 [00:04<02:55,  4.08s/it]\n"
     ]
    },
    {
     "name": "stdout",
     "output_type": "stream",
     "text": [
      "Bootstrapped 1 full traces after 1 examples for up to 1 rounds, amounting to 1 attempts.\n",
      "Bootstrapping set 6/6\n"
     ]
    },
    {
     "name": "stderr",
     "output_type": "stream",
     "text": [
      "  5%|██                                          | 2/44 [00:06<02:15,  3.23s/it]\n",
      "2025/06/20 21:05:17 INFO dspy.teleprompt.mipro_optimizer_v2: \n",
      "==> STEP 2: PROPOSE INSTRUCTION CANDIDATES <==\n",
      "2025/06/20 21:05:17 INFO dspy.teleprompt.mipro_optimizer_v2: We will use the few-shot examples from the previous step, a generated dataset summary, a summary of the program code, and a randomly selected prompting tip to propose instructions.\n"
     ]
    },
    {
     "name": "stdout",
     "output_type": "stream",
     "text": [
      "Bootstrapped 2 full traces after 2 examples for up to 1 rounds, amounting to 2 attempts.\n",
      "Error getting source code: unhashable type: 'dict'.\n",
      "\n",
      "Running without program aware proposer.\n"
     ]
    },
    {
     "name": "stderr",
     "output_type": "stream",
     "text": [
      "2025/06/20 21:05:58 INFO dspy.teleprompt.mipro_optimizer_v2: \n",
      "Proposing N=3 instructions...\n",
      "\n",
      "2025/06/20 21:06:08 INFO dspy.teleprompt.mipro_optimizer_v2: Proposed Instructions for Predictor 0:\n",
      "\n",
      "2025/06/20 21:06:08 INFO dspy.teleprompt.mipro_optimizer_v2: 0: Classify NPS topics\n",
      "\n",
      "2025/06/20 21:06:08 INFO dspy.teleprompt.mipro_optimizer_v2: 1: Help a customer find their perfect shade by recommending available products within a 3-day timeframe, or else risk losing them to a competitor brand that prioritizes product availability.\n",
      "\n",
      "2025/06/20 21:06:08 INFO dspy.teleprompt.mipro_optimizer_v2: 2: Classify NPS (Net Promoter Score) topics as positive, negative, or neutral, ensuring that product discovery and filtering systems are considered to provide relevant recommendations for skincare and beauty products.\n",
      "\n",
      "2025/06/20 21:06:08 INFO dspy.teleprompt.mipro_optimizer_v2: \n",
      "\n",
      "2025/06/20 21:06:08 INFO dspy.teleprompt.mipro_optimizer_v2: ==> STEP 3: FINDING OPTIMAL PROMPT PARAMETERS <==\n",
      "2025/06/20 21:06:08 INFO dspy.teleprompt.mipro_optimizer_v2: We will evaluate the program over a series of trials with different combinations of instructions and few-shot examples to find the optimal combination using Bayesian Optimization.\n",
      "\n",
      "2025/06/20 21:06:08 INFO dspy.teleprompt.mipro_optimizer_v2: == Trial 1 / 13 - Full Evaluation of Default Program ==\n"
     ]
    },
    {
     "name": "stdout",
     "output_type": "stream",
     "text": [
      "Average Metric: 35.00 / 61 (57.4%): 100%|███████| 61/61 [03:17<00:00,  3.24s/it]"
     ]
    },
    {
     "name": "stderr",
     "output_type": "stream",
     "text": [
      "2025/06/20 21:09:26 INFO dspy.evaluate.evaluate: Average Metric: 35 / 61 (57.4%)\n",
      "2025/06/20 21:09:26 INFO dspy.teleprompt.mipro_optimizer_v2: Default program score: 57.38\n",
      "\n",
      "/Users/marie/Documents/github/llm_env/lib/python3.11/site-packages/optuna/_experimental.py:31: ExperimentalWarning: Argument ``multivariate`` is an experimental feature. The interface can change in the future.\n",
      "  warnings.warn(\n",
      "2025/06/20 21:09:26 INFO dspy.teleprompt.mipro_optimizer_v2: == Trial 2 / 13 - Minibatch ==\n"
     ]
    },
    {
     "name": "stdout",
     "output_type": "stream",
     "text": [
      "\n",
      "Average Metric: 25.00 / 35 (71.4%): 100%|███████| 35/35 [02:12<00:00,  3.79s/it]"
     ]
    },
    {
     "name": "stderr",
     "output_type": "stream",
     "text": [
      "2025/06/20 21:11:38 INFO dspy.evaluate.evaluate: Average Metric: 25 / 35 (71.4%)\n",
      "2025/06/20 21:11:38 INFO dspy.teleprompt.mipro_optimizer_v2: Score: 71.43 on minibatch of size 35 with parameters ['Predictor 0: Instruction 1', 'Predictor 0: Few-Shot Set 3'].\n",
      "2025/06/20 21:11:39 INFO dspy.teleprompt.mipro_optimizer_v2: Minibatch scores so far: [71.43]\n",
      "2025/06/20 21:11:39 INFO dspy.teleprompt.mipro_optimizer_v2: Full eval scores so far: [57.38]\n",
      "2025/06/20 21:11:39 INFO dspy.teleprompt.mipro_optimizer_v2: Best full score so far: 57.38\n",
      "2025/06/20 21:11:39 INFO dspy.teleprompt.mipro_optimizer_v2: =========================================\n",
      "\n",
      "\n",
      "2025/06/20 21:11:39 INFO dspy.teleprompt.mipro_optimizer_v2: == Trial 3 / 13 - Minibatch ==\n"
     ]
    },
    {
     "name": "stdout",
     "output_type": "stream",
     "text": [
      "\n",
      "Average Metric: 21.00 / 35 (60.0%): 100%|███████| 35/35 [02:10<00:00,  3.73s/it]"
     ]
    },
    {
     "name": "stderr",
     "output_type": "stream",
     "text": [
      "2025/06/20 21:13:49 INFO dspy.evaluate.evaluate: Average Metric: 21 / 35 (60.0%)\n",
      "2025/06/20 21:13:49 INFO dspy.teleprompt.mipro_optimizer_v2: Score: 60.0 on minibatch of size 35 with parameters ['Predictor 0: Instruction 2', 'Predictor 0: Few-Shot Set 0'].\n",
      "2025/06/20 21:13:49 INFO dspy.teleprompt.mipro_optimizer_v2: Minibatch scores so far: [71.43, 60.0]\n",
      "2025/06/20 21:13:49 INFO dspy.teleprompt.mipro_optimizer_v2: Full eval scores so far: [57.38]\n",
      "2025/06/20 21:13:49 INFO dspy.teleprompt.mipro_optimizer_v2: Best full score so far: 57.38\n",
      "2025/06/20 21:13:49 INFO dspy.teleprompt.mipro_optimizer_v2: =========================================\n",
      "\n",
      "\n",
      "2025/06/20 21:13:49 INFO dspy.teleprompt.mipro_optimizer_v2: == Trial 4 / 13 - Minibatch ==\n"
     ]
    },
    {
     "name": "stdout",
     "output_type": "stream",
     "text": [
      "\n",
      "Average Metric: 26.00 / 35 (74.3%): 100%|███████| 35/35 [01:59<00:00,  3.41s/it]"
     ]
    },
    {
     "name": "stderr",
     "output_type": "stream",
     "text": [
      "2025/06/20 21:15:49 INFO dspy.evaluate.evaluate: Average Metric: 26 / 35 (74.3%)\n",
      "2025/06/20 21:15:49 INFO dspy.teleprompt.mipro_optimizer_v2: Score: 74.29 on minibatch of size 35 with parameters ['Predictor 0: Instruction 1', 'Predictor 0: Few-Shot Set 5'].\n",
      "2025/06/20 21:15:49 INFO dspy.teleprompt.mipro_optimizer_v2: Minibatch scores so far: [71.43, 60.0, 74.29]\n",
      "2025/06/20 21:15:49 INFO dspy.teleprompt.mipro_optimizer_v2: Full eval scores so far: [57.38]\n",
      "2025/06/20 21:15:49 INFO dspy.teleprompt.mipro_optimizer_v2: Best full score so far: 57.38\n",
      "2025/06/20 21:15:49 INFO dspy.teleprompt.mipro_optimizer_v2: =========================================\n",
      "\n",
      "\n",
      "2025/06/20 21:15:49 INFO dspy.teleprompt.mipro_optimizer_v2: == Trial 5 / 13 - Minibatch ==\n"
     ]
    },
    {
     "name": "stdout",
     "output_type": "stream",
     "text": [
      "\n",
      "Average Metric: 26.00 / 35 (74.3%): 100%|███████| 35/35 [02:00<00:00,  3.45s/it]"
     ]
    },
    {
     "name": "stderr",
     "output_type": "stream",
     "text": [
      "2025/06/20 21:17:49 INFO dspy.evaluate.evaluate: Average Metric: 26 / 35 (74.3%)\n",
      "2025/06/20 21:17:49 INFO dspy.teleprompt.mipro_optimizer_v2: Score: 74.29 on minibatch of size 35 with parameters ['Predictor 0: Instruction 2', 'Predictor 0: Few-Shot Set 2'].\n",
      "2025/06/20 21:17:49 INFO dspy.teleprompt.mipro_optimizer_v2: Minibatch scores so far: [71.43, 60.0, 74.29, 74.29]\n",
      "2025/06/20 21:17:49 INFO dspy.teleprompt.mipro_optimizer_v2: Full eval scores so far: [57.38]\n",
      "2025/06/20 21:17:49 INFO dspy.teleprompt.mipro_optimizer_v2: Best full score so far: 57.38\n",
      "2025/06/20 21:17:49 INFO dspy.teleprompt.mipro_optimizer_v2: =========================================\n",
      "\n",
      "\n",
      "2025/06/20 21:17:49 INFO dspy.teleprompt.mipro_optimizer_v2: == Trial 6 / 13 - Minibatch ==\n"
     ]
    },
    {
     "name": "stdout",
     "output_type": "stream",
     "text": [
      "\n",
      "Average Metric: 23.00 / 35 (65.7%): 100%|███████| 35/35 [01:55<00:00,  3.31s/it]"
     ]
    },
    {
     "name": "stderr",
     "output_type": "stream",
     "text": [
      "2025/06/20 21:19:45 INFO dspy.evaluate.evaluate: Average Metric: 23 / 35 (65.7%)\n",
      "2025/06/20 21:19:45 INFO dspy.teleprompt.mipro_optimizer_v2: Score: 65.71 on minibatch of size 35 with parameters ['Predictor 0: Instruction 0', 'Predictor 0: Few-Shot Set 5'].\n",
      "2025/06/20 21:19:45 INFO dspy.teleprompt.mipro_optimizer_v2: Minibatch scores so far: [71.43, 60.0, 74.29, 74.29, 65.71]\n",
      "2025/06/20 21:19:45 INFO dspy.teleprompt.mipro_optimizer_v2: Full eval scores so far: [57.38]\n",
      "2025/06/20 21:19:45 INFO dspy.teleprompt.mipro_optimizer_v2: Best full score so far: 57.38\n",
      "2025/06/20 21:19:45 INFO dspy.teleprompt.mipro_optimizer_v2: =========================================\n",
      "\n",
      "\n",
      "2025/06/20 21:19:45 INFO dspy.teleprompt.mipro_optimizer_v2: ===== Trial 7 / 13 - Full Evaluation =====\n",
      "2025/06/20 21:19:45 INFO dspy.teleprompt.mipro_optimizer_v2: Doing full eval on next top averaging program (Avg Score: 74.29) from minibatch trials...\n"
     ]
    },
    {
     "name": "stdout",
     "output_type": "stream",
     "text": [
      "\n",
      "Average Metric: 40.00 / 61 (65.6%): 100%|███████| 61/61 [03:01<00:00,  2.98s/it]"
     ]
    },
    {
     "name": "stderr",
     "output_type": "stream",
     "text": [
      "2025/06/20 21:22:47 INFO dspy.evaluate.evaluate: Average Metric: 40 / 61 (65.6%)\n",
      "2025/06/20 21:22:47 INFO dspy.teleprompt.mipro_optimizer_v2: \u001b[92mNew best full eval score!\u001b[0m Score: 65.57\n",
      "2025/06/20 21:22:47 INFO dspy.teleprompt.mipro_optimizer_v2: Full eval scores so far: [57.38, 65.57]\n",
      "2025/06/20 21:22:47 INFO dspy.teleprompt.mipro_optimizer_v2: Best full score so far: 65.57\n",
      "2025/06/20 21:22:47 INFO dspy.teleprompt.mipro_optimizer_v2: =======================\n",
      "2025/06/20 21:22:47 INFO dspy.teleprompt.mipro_optimizer_v2: \n",
      "\n",
      "2025/06/20 21:22:47 INFO dspy.teleprompt.mipro_optimizer_v2: == Trial 8 / 13 - Minibatch ==\n"
     ]
    },
    {
     "name": "stdout",
     "output_type": "stream",
     "text": [
      "\n",
      "Average Metric: 24.00 / 35 (68.6%): 100%|███████| 35/35 [01:59<00:00,  3.41s/it]"
     ]
    },
    {
     "name": "stderr",
     "output_type": "stream",
     "text": [
      "2025/06/20 21:24:47 INFO dspy.evaluate.evaluate: Average Metric: 24 / 35 (68.6%)\n",
      "2025/06/20 21:24:47 INFO dspy.teleprompt.mipro_optimizer_v2: Score: 68.57 on minibatch of size 35 with parameters ['Predictor 0: Instruction 2', 'Predictor 0: Few-Shot Set 0'].\n",
      "2025/06/20 21:24:47 INFO dspy.teleprompt.mipro_optimizer_v2: Minibatch scores so far: [71.43, 60.0, 74.29, 74.29, 65.71, 68.57]\n",
      "2025/06/20 21:24:47 INFO dspy.teleprompt.mipro_optimizer_v2: Full eval scores so far: [57.38, 65.57]\n",
      "2025/06/20 21:24:47 INFO dspy.teleprompt.mipro_optimizer_v2: Best full score so far: 65.57\n",
      "2025/06/20 21:24:47 INFO dspy.teleprompt.mipro_optimizer_v2: =========================================\n",
      "\n",
      "\n",
      "2025/06/20 21:24:47 INFO dspy.teleprompt.mipro_optimizer_v2: == Trial 9 / 13 - Minibatch ==\n"
     ]
    },
    {
     "name": "stdout",
     "output_type": "stream",
     "text": [
      "\n",
      "Average Metric: 26.00 / 35 (74.3%): 100%|███████| 35/35 [02:01<00:00,  3.46s/it]"
     ]
    },
    {
     "name": "stderr",
     "output_type": "stream",
     "text": [
      "2025/06/20 21:26:48 INFO dspy.evaluate.evaluate: Average Metric: 26 / 35 (74.3%)\n",
      "2025/06/20 21:26:48 INFO dspy.teleprompt.mipro_optimizer_v2: Score: 74.29 on minibatch of size 35 with parameters ['Predictor 0: Instruction 2', 'Predictor 0: Few-Shot Set 5'].\n",
      "2025/06/20 21:26:48 INFO dspy.teleprompt.mipro_optimizer_v2: Minibatch scores so far: [71.43, 60.0, 74.29, 74.29, 65.71, 68.57, 74.29]\n",
      "2025/06/20 21:26:48 INFO dspy.teleprompt.mipro_optimizer_v2: Full eval scores so far: [57.38, 65.57]\n",
      "2025/06/20 21:26:48 INFO dspy.teleprompt.mipro_optimizer_v2: Best full score so far: 65.57\n",
      "2025/06/20 21:26:48 INFO dspy.teleprompt.mipro_optimizer_v2: =========================================\n",
      "\n",
      "\n",
      "2025/06/20 21:26:48 INFO dspy.teleprompt.mipro_optimizer_v2: == Trial 10 / 13 - Minibatch ==\n"
     ]
    },
    {
     "name": "stdout",
     "output_type": "stream",
     "text": [
      "\n",
      "Average Metric: 21.00 / 35 (60.0%): 100%|███████| 35/35 [01:52<00:00,  3.20s/it]"
     ]
    },
    {
     "name": "stderr",
     "output_type": "stream",
     "text": [
      "2025/06/20 21:28:40 INFO dspy.evaluate.evaluate: Average Metric: 21 / 35 (60.0%)\n",
      "2025/06/20 21:28:40 INFO dspy.teleprompt.mipro_optimizer_v2: Score: 60.0 on minibatch of size 35 with parameters ['Predictor 0: Instruction 1', 'Predictor 0: Few-Shot Set 4'].\n",
      "2025/06/20 21:28:40 INFO dspy.teleprompt.mipro_optimizer_v2: Minibatch scores so far: [71.43, 60.0, 74.29, 74.29, 65.71, 68.57, 74.29, 60.0]\n",
      "2025/06/20 21:28:40 INFO dspy.teleprompt.mipro_optimizer_v2: Full eval scores so far: [57.38, 65.57]\n",
      "2025/06/20 21:28:40 INFO dspy.teleprompt.mipro_optimizer_v2: Best full score so far: 65.57\n",
      "2025/06/20 21:28:40 INFO dspy.teleprompt.mipro_optimizer_v2: ==========================================\n",
      "\n",
      "\n",
      "2025/06/20 21:28:40 INFO dspy.teleprompt.mipro_optimizer_v2: == Trial 11 / 13 - Minibatch ==\n"
     ]
    },
    {
     "name": "stdout",
     "output_type": "stream",
     "text": [
      "\n",
      "Average Metric: 28.00 / 35 (80.0%): 100%|███████| 35/35 [01:57<00:00,  3.37s/it]"
     ]
    },
    {
     "name": "stderr",
     "output_type": "stream",
     "text": [
      "2025/06/20 21:30:38 INFO dspy.evaluate.evaluate: Average Metric: 28 / 35 (80.0%)\n",
      "2025/06/20 21:30:38 INFO dspy.teleprompt.mipro_optimizer_v2: Score: 80.0 on minibatch of size 35 with parameters ['Predictor 0: Instruction 1', 'Predictor 0: Few-Shot Set 5'].\n",
      "2025/06/20 21:30:38 INFO dspy.teleprompt.mipro_optimizer_v2: Minibatch scores so far: [71.43, 60.0, 74.29, 74.29, 65.71, 68.57, 74.29, 60.0, 80.0]\n",
      "2025/06/20 21:30:38 INFO dspy.teleprompt.mipro_optimizer_v2: Full eval scores so far: [57.38, 65.57]\n",
      "2025/06/20 21:30:38 INFO dspy.teleprompt.mipro_optimizer_v2: Best full score so far: 65.57\n",
      "2025/06/20 21:30:38 INFO dspy.teleprompt.mipro_optimizer_v2: ==========================================\n",
      "\n",
      "\n",
      "2025/06/20 21:30:38 INFO dspy.teleprompt.mipro_optimizer_v2: == Trial 12 / 13 - Minibatch ==\n"
     ]
    },
    {
     "name": "stdout",
     "output_type": "stream",
     "text": [
      "\n",
      "Average Metric: 24.00 / 35 (68.6%): 100%|███████| 35/35 [02:03<00:00,  3.52s/it]"
     ]
    },
    {
     "name": "stderr",
     "output_type": "stream",
     "text": [
      "2025/06/20 21:32:41 INFO dspy.evaluate.evaluate: Average Metric: 24 / 35 (68.6%)\n",
      "2025/06/20 21:32:41 INFO dspy.teleprompt.mipro_optimizer_v2: Score: 68.57 on minibatch of size 35 with parameters ['Predictor 0: Instruction 1', 'Predictor 0: Few-Shot Set 5'].\n",
      "2025/06/20 21:32:41 INFO dspy.teleprompt.mipro_optimizer_v2: Minibatch scores so far: [71.43, 60.0, 74.29, 74.29, 65.71, 68.57, 74.29, 60.0, 80.0, 68.57]\n",
      "2025/06/20 21:32:41 INFO dspy.teleprompt.mipro_optimizer_v2: Full eval scores so far: [57.38, 65.57]\n",
      "2025/06/20 21:32:41 INFO dspy.teleprompt.mipro_optimizer_v2: Best full score so far: 65.57\n",
      "2025/06/20 21:32:41 INFO dspy.teleprompt.mipro_optimizer_v2: ==========================================\n",
      "\n",
      "\n",
      "2025/06/20 21:32:41 INFO dspy.teleprompt.mipro_optimizer_v2: ===== Trial 13 / 13 - Full Evaluation =====\n",
      "2025/06/20 21:32:41 INFO dspy.teleprompt.mipro_optimizer_v2: Doing full eval on next top averaging program (Avg Score: 74.29) from minibatch trials...\n"
     ]
    },
    {
     "name": "stdout",
     "output_type": "stream",
     "text": [
      "\n",
      "Average Metric: 48.00 / 61 (78.7%): 100%|███████| 61/61 [03:40<00:00,  3.61s/it]"
     ]
    },
    {
     "name": "stderr",
     "output_type": "stream",
     "text": [
      "2025/06/20 21:36:22 INFO dspy.evaluate.evaluate: Average Metric: 48 / 61 (78.7%)\n",
      "2025/06/20 21:36:22 INFO dspy.teleprompt.mipro_optimizer_v2: \u001b[92mNew best full eval score!\u001b[0m Score: 78.69\n",
      "2025/06/20 21:36:22 INFO dspy.teleprompt.mipro_optimizer_v2: Full eval scores so far: [57.38, 65.57, 78.69]\n",
      "2025/06/20 21:36:22 INFO dspy.teleprompt.mipro_optimizer_v2: Best full score so far: 78.69\n",
      "2025/06/20 21:36:22 INFO dspy.teleprompt.mipro_optimizer_v2: =======================\n",
      "2025/06/20 21:36:22 INFO dspy.teleprompt.mipro_optimizer_v2: \n",
      "\n",
      "2025/06/20 21:36:22 INFO dspy.teleprompt.mipro_optimizer_v2: Returning best identified program with score 78.69!\n"
     ]
    },
    {
     "name": "stdout",
     "output_type": "stream",
     "text": [
      "\n"
     ]
    }
   ],
   "source": [
    "opt_nps_topic_model =  tp.compile(\n",
    "    nps_topic_model, \n",
    "    trainset=trainset, \n",
    "    valset=valset,\n",
    "    requires_permission_to_run = False, provide_traceback=True)"
   ]
  },
  {
   "cell_type": "code",
   "execution_count": 54,
   "id": "f7467b45-9d5e-4a78-a4d6-0597cb2724dc",
   "metadata": {},
   "outputs": [
    {
     "data": {
      "text/plain": [
       "Prediction(\n",
       "    reasoning='The customer is expressing frustration with the limited availability of products in their size, which suggests a problem with product inventory management.',\n",
       "    answer=['Limited Size or Shade Availability']\n",
       ")"
      ]
     },
     "execution_count": 54,
     "metadata": {},
     "output_type": "execute_result"
    }
   ],
   "source": [
    "opt_nps_topic_model(comment = \"Absolutely frustrated! Every time I find something I love, it's sold out in my size. What's the point of having a wishlist if nothing is ever available?\"\n",
    ")"
   ]
  },
  {
   "cell_type": "code",
   "execution_count": 55,
   "id": "1e047d49-130a-4f6a-855c-0e67cd8307fd",
   "metadata": {},
   "outputs": [
    {
     "name": "stdout",
     "output_type": "stream",
     "text": [
      "\n",
      "\n",
      "\n",
      "\n",
      "\u001b[34m[2025-06-20T21:36:26.502410]\u001b[0m\n",
      "\n",
      "\u001b[31mSystem message:\u001b[0m\n",
      "\n",
      "Your input fields are:\n",
      "1. `comment` (str):\n",
      "Your output fields are:\n",
      "1. `reasoning` (str): \n",
      "2. `answer` (list[Literal['Slow or Unreliable Shipping', 'Inaccurate Product Descriptions or Photos', 'Limited Size or Shade Availability', 'Unresponsive or Generic Customer Support', 'Website or App Bugs', 'Confusing Loyalty or Discount Systems', 'Complicated Returns or Exchanges', 'Customs and Import Charges', 'Difficult Product Discovery', 'Damaged or Incorrect Items']]):\n",
      "All interactions will be structured in the following way, with the appropriate values filled in.\n",
      "\n",
      "Inputs will have the following structure:\n",
      "\n",
      "[[ ## comment ## ]]\n",
      "{comment}\n",
      "\n",
      "Outputs will be a JSON object with the following fields.\n",
      "\n",
      "{\n",
      "  \"reasoning\": \"{reasoning}\",\n",
      "  \"answer\": \"{answer}        # note: the value you produce must adhere to the JSON schema: {\\\"type\\\": \\\"array\\\", \\\"items\\\": {\\\"type\\\": \\\"string\\\", \\\"enum\\\": [\\\"Slow or Unreliable Shipping\\\", \\\"Inaccurate Product Descriptions or Photos\\\", \\\"Limited Size or Shade Availability\\\", \\\"Unresponsive or Generic Customer Support\\\", \\\"Website or App Bugs\\\", \\\"Confusing Loyalty or Discount Systems\\\", \\\"Complicated Returns or Exchanges\\\", \\\"Customs and Import Charges\\\", \\\"Difficult Product Discovery\\\", \\\"Damaged or Incorrect Items\\\"]}}\"\n",
      "}\n",
      "In adhering to this structure, your objective is: \n",
      "        Classify NPS (Net Promoter Score) topics as positive, negative, or neutral, ensuring that product discovery and filtering systems are considered to provide relevant recommendations for skincare and beauty products.\n",
      "\n",
      "\n",
      "\u001b[31mUser message:\u001b[0m\n",
      "\n",
      "[[ ## comment ## ]]\n",
      "Your search function is terrible. I typed 'red lipstick' and got foundation results. How am I supposed to find anything on this site?\n",
      "\n",
      "\n",
      "\u001b[31mAssistant message:\u001b[0m\n",
      "\n",
      "{\n",
      "  \"reasoning\": \"Not supplied for this particular example. \",\n",
      "  \"answer\": [\n",
      "    \"Difficult Product Discovery\"\n",
      "  ]\n",
      "}\n",
      "\n",
      "\n",
      "\u001b[31mUser message:\u001b[0m\n",
      "\n",
      "[[ ## comment ## ]]\n",
      "Mobile app crashes every time I try to checkout. I've lost my cart contents multiple times. This is unacceptable in 2025.\n",
      "\n",
      "\n",
      "\u001b[31mAssistant message:\u001b[0m\n",
      "\n",
      "{\n",
      "  \"reasoning\": \"Not supplied for this particular example. \",\n",
      "  \"answer\": [\n",
      "    \"Website or App Bugs\"\n",
      "  ]\n",
      "}\n",
      "\n",
      "\n",
      "\u001b[31mUser message:\u001b[0m\n",
      "\n",
      "[[ ## comment ## ]]\n",
      "My shade is ALWAYS out of stock. I've been trying to reorder my foundation for 3 weeks now. Time to find a new brand that actually keeps products in stock.\n",
      "\n",
      "\n",
      "\u001b[31mAssistant message:\u001b[0m\n",
      "\n",
      "{\n",
      "  \"reasoning\": \"Not supplied for this particular example. \",\n",
      "  \"answer\": [\n",
      "    \"Limited Size or Shade Availability\"\n",
      "  ]\n",
      "}\n",
      "\n",
      "\n",
      "\u001b[31mUser message:\u001b[0m\n",
      "\n",
      "[[ ## comment ## ]]\n",
      "Promo code worked at checkout but didn't apply the discount. Had to contact support multiple times to get it sorted. Your site has serious technical issues.\n",
      "\n",
      "\n",
      "\u001b[31mAssistant message:\u001b[0m\n",
      "\n",
      "{\n",
      "  \"reasoning\": \"The customer experienced issues with a promo code not applying correctly, which indicates a problem with the website's checkout process.\",\n",
      "  \"answer\": [\n",
      "    \"Website or App Bugs\"\n",
      "  ]\n",
      "}\n",
      "\n",
      "\n",
      "\u001b[31mUser message:\u001b[0m\n",
      "\n",
      "[[ ## comment ## ]]\n",
      "Absolutely frustrated! Every time I find something I love, it's sold out in my size. What's the point of having a wishlist if nothing is ever available?\n",
      "\n",
      "Respond with a JSON object in the following order of fields: `reasoning`, then `answer` (must be formatted as a valid Python list[Literal['Slow or Unreliable Shipping', 'Inaccurate Product Descriptions or Photos', 'Limited Size or Shade Availability', 'Unresponsive or Generic Customer Support', 'Website or App Bugs', 'Confusing Loyalty or Discount Systems', 'Complicated Returns or Exchanges', 'Customs and Import Charges', 'Difficult Product Discovery', 'Damaged or Incorrect Items']]).\n",
      "\n",
      "\n",
      "\u001b[31mResponse:\u001b[0m\n",
      "\n",
      "\u001b[32m{\n",
      "  \"reasoning\": \"The customer is expressing frustration with the limited availability of products in their size, which suggests a problem with product inventory management.\",\n",
      "  \"answer\": [\n",
      "    \"Limited Size or Shade Availability\"\n",
      "  ]\n",
      "}\u001b[0m\n",
      "\n",
      "\n",
      "\n",
      "\n",
      "\n"
     ]
    }
   ],
   "source": [
    "dspy.inspect_history(n = 1)"
   ]
  },
  {
   "cell_type": "code",
   "execution_count": 56,
   "id": "0c6e3905-3d7c-4ce2-8bb0-b1c58b35f6e1",
   "metadata": {},
   "outputs": [
    {
     "name": "stderr",
     "output_type": "stream",
     "text": [
      "100%|███████████████████████████████████████████| 61/61 [08:40<00:00,  8.53s/it]\n"
     ]
    }
   ],
   "source": [
    "tmp = []\n",
    "\n",
    "for e in tqdm.tqdm(valset):\n",
    "    comment = e.comment \n",
    "    prev_resp = nps_topic_model(comment = comment) \n",
    "    new_resp = opt_nps_topic_model(comment = comment)\n",
    "\n",
    "    tmp.append(\n",
    "        {\n",
    "        'comment': comment,\n",
    "        'sot_answer': e.answer,\n",
    "        'prev_answer': prev_resp.answer,\n",
    "        'new_answer': new_resp.answer\n",
    "        }\n",
    "    )"
   ]
  },
  {
   "cell_type": "code",
   "execution_count": 57,
   "id": "0d166d70-4f96-4880-85da-2dae4a34da3c",
   "metadata": {},
   "outputs": [],
   "source": [
    "cmp_df = pd.DataFrame(tmp)"
   ]
  },
  {
   "cell_type": "code",
   "execution_count": 58,
   "id": "622b6531-96fe-4721-aea6-4c0846972684",
   "metadata": {},
   "outputs": [],
   "source": [
    "def list_exact_match_raw(expected_answer, pred_answer, trace=None):\n",
    "    \"\"\"Custom metric for comparing lists of topics\"\"\"\n",
    "    try:\n",
    "        # Convert to sets for order-independent comparison\n",
    "        if isinstance(pred_answer, list) and isinstance(expected_answer, list):\n",
    "            return set(pred_answer) == set(expected_answer)\n",
    "        else:\n",
    "            return pred_answer == expected_answer\n",
    "    except Exception as e:\n",
    "        print(f\"Error in metric: {e}\")\n",
    "        return False"
   ]
  },
  {
   "cell_type": "code",
   "execution_count": 59,
   "id": "2c4ceb51-74f7-4484-84e5-b69de6333f48",
   "metadata": {},
   "outputs": [],
   "source": [
    "cmp_df['prev_accuracy'] = list(map(\n",
    "    list_exact_match_raw,\n",
    "    cmp_df.sot_answer,\n",
    "    cmp_df.prev_answer))\n",
    "\n",
    "cmp_df['new_accuracy'] = list(map(\n",
    "    list_exact_match_raw,\n",
    "    cmp_df.sot_answer,\n",
    "    cmp_df.new_answer))"
   ]
  },
  {
   "cell_type": "code",
   "execution_count": 60,
   "id": "9ae49dc6-5bb2-49b8-b6da-9ae8f8c81a6d",
   "metadata": {},
   "outputs": [
    {
     "data": {
      "text/plain": [
       "prev_accuracy    62.295082\n",
       "new_accuracy     81.967213\n",
       "dtype: float64"
      ]
     },
     "execution_count": 60,
     "metadata": {},
     "output_type": "execute_result"
    }
   ],
   "source": [
    "cmp_df[['prev_accuracy', 'new_accuracy']].mean()*100"
   ]
  },
  {
   "cell_type": "code",
   "execution_count": 61,
   "id": "1058882b-1959-48b5-b399-b643e34f9e8e",
   "metadata": {},
   "outputs": [
    {
     "name": "stdout",
     "output_type": "stream",
     "text": [
      "Going to sample between 1 and 10 traces per predictor.\n",
      "Will attempt to bootstrap 16 candidate sets.\n"
     ]
    }
   ],
   "source": [
    "tp2 = dspy.BootstrapFewShotWithRandomSearch(list_exact_match, num_threads=24, max_bootstrapped_demos = 10)"
   ]
  },
  {
   "cell_type": "code",
   "execution_count": 62,
   "id": "59aae3e1-2ea2-414c-9dbf-e53f156d537c",
   "metadata": {},
   "outputs": [
    {
     "name": "stdout",
     "output_type": "stream",
     "text": [
      "Average Metric: 39.00 / 61 (63.9%): 100%|███████| 61/61 [02:58<00:00,  2.92s/it]"
     ]
    },
    {
     "name": "stderr",
     "output_type": "stream",
     "text": [
      "2025/06/20 21:48:05 INFO dspy.evaluate.evaluate: Average Metric: 39 / 61 (63.9%)\n"
     ]
    },
    {
     "name": "stdout",
     "output_type": "stream",
     "text": [
      "\n",
      "New best score: 63.93 for seed -3\n",
      "Scores so far: [63.93]\n",
      "Best score so far: 63.93\n",
      "Average Metric: 43.00 / 61 (70.5%): 100%|███████| 61/61 [02:49<00:00,  2.79s/it]"
     ]
    },
    {
     "name": "stderr",
     "output_type": "stream",
     "text": [
      "2025/06/20 21:50:55 INFO dspy.evaluate.evaluate: Average Metric: 43 / 61 (70.5%)\n"
     ]
    },
    {
     "name": "stdout",
     "output_type": "stream",
     "text": [
      "\n",
      "New best score: 70.49 for seed -2\n",
      "Scores so far: [63.93, 70.49]\n",
      "Best score so far: 70.49\n"
     ]
    },
    {
     "name": "stderr",
     "output_type": "stream",
     "text": [
      " 34%|██████████████▋                            | 15/44 [01:02<02:00,  4.16s/it]\n"
     ]
    },
    {
     "name": "stdout",
     "output_type": "stream",
     "text": [
      "Bootstrapped 10 full traces after 15 examples for up to 1 rounds, amounting to 15 attempts.\n",
      "Average Metric: 47.00 / 61 (77.0%): 100%|███████| 61/61 [03:03<00:00,  3.01s/it]"
     ]
    },
    {
     "name": "stderr",
     "output_type": "stream",
     "text": [
      "2025/06/20 21:55:01 INFO dspy.evaluate.evaluate: Average Metric: 47 / 61 (77.0%)\n"
     ]
    },
    {
     "name": "stdout",
     "output_type": "stream",
     "text": [
      "\n",
      "New best score: 77.05 for seed -1\n",
      "Scores so far: [63.93, 70.49, 77.05]\n",
      "Best score so far: 77.05\n"
     ]
    },
    {
     "name": "stderr",
     "output_type": "stream",
     "text": [
      " 23%|█████████▊                                 | 10/44 [01:01<03:28,  6.12s/it]\n"
     ]
    },
    {
     "name": "stdout",
     "output_type": "stream",
     "text": [
      "Bootstrapped 7 full traces after 10 examples for up to 1 rounds, amounting to 10 attempts.\n",
      "Average Metric: 42.00 / 61 (68.9%): 100%|███████| 61/61 [02:52<00:00,  2.83s/it]"
     ]
    },
    {
     "name": "stderr",
     "output_type": "stream",
     "text": [
      "2025/06/20 21:58:55 INFO dspy.evaluate.evaluate: Average Metric: 42 / 61 (68.9%)\n"
     ]
    },
    {
     "name": "stdout",
     "output_type": "stream",
     "text": [
      "\n",
      "Scores so far: [63.93, 70.49, 77.05, 68.85]\n",
      "Best score so far: 77.05\n"
     ]
    },
    {
     "name": "stderr",
     "output_type": "stream",
     "text": [
      "  7%|███                                         | 3/44 [00:24<05:36,  8.20s/it]\n"
     ]
    },
    {
     "name": "stdout",
     "output_type": "stream",
     "text": [
      "Bootstrapped 3 full traces after 3 examples for up to 1 rounds, amounting to 3 attempts.\n",
      "Average Metric: 45.00 / 61 (73.8%): 100%|███████| 61/61 [03:11<00:00,  3.13s/it]"
     ]
    },
    {
     "name": "stderr",
     "output_type": "stream",
     "text": [
      "2025/06/20 22:02:31 INFO dspy.evaluate.evaluate: Average Metric: 45 / 61 (73.8%)\n"
     ]
    },
    {
     "name": "stdout",
     "output_type": "stream",
     "text": [
      "\n",
      "Scores so far: [63.93, 70.49, 77.05, 68.85, 73.77]\n",
      "Best score so far: 77.05\n"
     ]
    },
    {
     "name": "stderr",
     "output_type": "stream",
     "text": [
      "  9%|████                                        | 4/44 [00:29<04:51,  7.28s/it]\n"
     ]
    },
    {
     "name": "stdout",
     "output_type": "stream",
     "text": [
      "Bootstrapped 1 full traces after 4 examples for up to 1 rounds, amounting to 4 attempts.\n",
      "Average Metric: 39.00 / 61 (63.9%): 100%|███████| 61/61 [11:29<00:00, 11.30s/it]"
     ]
    },
    {
     "name": "stderr",
     "output_type": "stream",
     "text": [
      "2025/06/20 22:14:30 INFO dspy.evaluate.evaluate: Average Metric: 39 / 61 (63.9%)\n"
     ]
    },
    {
     "name": "stdout",
     "output_type": "stream",
     "text": [
      "\n",
      "Scores so far: [63.93, 70.49, 77.05, 68.85, 73.77, 63.93]\n",
      "Best score so far: 77.05\n"
     ]
    },
    {
     "name": "stderr",
     "output_type": "stream",
     "text": [
      " 11%|█████                                       | 5/44 [00:31<04:08,  6.36s/it]\n"
     ]
    },
    {
     "name": "stdout",
     "output_type": "stream",
     "text": [
      "Bootstrapped 4 full traces after 5 examples for up to 1 rounds, amounting to 5 attempts.\n",
      "Average Metric: 48.00 / 61 (78.7%): 100%|███████| 61/61 [03:12<00:00,  3.15s/it]"
     ]
    },
    {
     "name": "stderr",
     "output_type": "stream",
     "text": [
      "2025/06/20 22:18:14 INFO dspy.evaluate.evaluate: Average Metric: 48 / 61 (78.7%)\n"
     ]
    },
    {
     "name": "stdout",
     "output_type": "stream",
     "text": [
      "\n",
      "New best score: 78.69 for seed 3\n",
      "Scores so far: [63.93, 70.49, 77.05, 68.85, 73.77, 63.93, 78.69]\n",
      "Best score so far: 78.69\n"
     ]
    },
    {
     "name": "stderr",
     "output_type": "stream",
     "text": [
      " 16%|███████                                     | 7/44 [01:02<05:29,  8.90s/it]\n"
     ]
    },
    {
     "name": "stdout",
     "output_type": "stream",
     "text": [
      "Bootstrapped 4 full traces after 7 examples for up to 1 rounds, amounting to 7 attempts.\n",
      "Average Metric: 41.00 / 61 (67.2%): 100%|███████| 61/61 [03:56<00:00,  3.88s/it]"
     ]
    },
    {
     "name": "stderr",
     "output_type": "stream",
     "text": [
      "2025/06/20 22:23:13 INFO dspy.evaluate.evaluate: Average Metric: 41 / 61 (67.2%)\n"
     ]
    },
    {
     "name": "stdout",
     "output_type": "stream",
     "text": [
      "\n",
      "Scores so far: [63.93, 70.49, 77.05, 68.85, 73.77, 63.93, 78.69, 67.21]\n",
      "Best score so far: 78.69\n"
     ]
    },
    {
     "name": "stderr",
     "output_type": "stream",
     "text": [
      " 48%|████████████████████▌                      | 21/44 [03:07<03:25,  8.95s/it]\n"
     ]
    },
    {
     "name": "stdout",
     "output_type": "stream",
     "text": [
      "Bootstrapped 10 full traces after 21 examples for up to 1 rounds, amounting to 21 attempts.\n",
      "Average Metric: 43.00 / 61 (70.5%): 100%|███████| 61/61 [04:10<00:00,  4.11s/it]"
     ]
    },
    {
     "name": "stderr",
     "output_type": "stream",
     "text": [
      "2025/06/20 22:30:31 INFO dspy.evaluate.evaluate: Average Metric: 43 / 61 (70.5%)\n"
     ]
    },
    {
     "name": "stdout",
     "output_type": "stream",
     "text": [
      "\n",
      "Scores so far: [63.93, 70.49, 77.05, 68.85, 73.77, 63.93, 78.69, 67.21, 70.49]\n",
      "Best score so far: 78.69\n"
     ]
    },
    {
     "name": "stderr",
     "output_type": "stream",
     "text": [
      " 48%|████████████████████▌                      | 21/44 [03:15<03:34,  9.32s/it]\n"
     ]
    },
    {
     "name": "stdout",
     "output_type": "stream",
     "text": [
      "Bootstrapped 10 full traces after 21 examples for up to 1 rounds, amounting to 21 attempts.\n",
      "Average Metric: 40.00 / 61 (65.6%): 100%|███████| 61/61 [04:11<00:00,  4.12s/it]"
     ]
    },
    {
     "name": "stderr",
     "output_type": "stream",
     "text": [
      "2025/06/20 22:37:58 INFO dspy.evaluate.evaluate: Average Metric: 40 / 61 (65.6%)\n"
     ]
    },
    {
     "name": "stdout",
     "output_type": "stream",
     "text": [
      "\n",
      "Scores so far: [63.93, 70.49, 77.05, 68.85, 73.77, 63.93, 78.69, 67.21, 70.49, 65.57]\n",
      "Best score so far: 78.69\n"
     ]
    },
    {
     "name": "stderr",
     "output_type": "stream",
     "text": [
      " 18%|████████                                    | 8/44 [01:06<04:57,  8.26s/it]\n"
     ]
    },
    {
     "name": "stdout",
     "output_type": "stream",
     "text": [
      "Bootstrapped 6 full traces after 8 examples for up to 1 rounds, amounting to 8 attempts.\n",
      "Average Metric: 46.00 / 61 (75.4%): 100%|███████| 61/61 [04:19<00:00,  4.25s/it]"
     ]
    },
    {
     "name": "stderr",
     "output_type": "stream",
     "text": [
      "2025/06/20 22:43:24 INFO dspy.evaluate.evaluate: Average Metric: 46 / 61 (75.4%)\n"
     ]
    },
    {
     "name": "stdout",
     "output_type": "stream",
     "text": [
      "\n",
      "Scores so far: [63.93, 70.49, 77.05, 68.85, 73.77, 63.93, 78.69, 67.21, 70.49, 65.57, 75.41]\n",
      "Best score so far: 78.69\n"
     ]
    },
    {
     "name": "stderr",
     "output_type": "stream",
     "text": [
      " 16%|███████                                     | 7/44 [01:05<05:44,  9.32s/it]\n"
     ]
    },
    {
     "name": "stdout",
     "output_type": "stream",
     "text": [
      "Bootstrapped 4 full traces after 7 examples for up to 1 rounds, amounting to 7 attempts.\n",
      "Average Metric: 43.00 / 61 (70.5%): 100%|███████| 61/61 [04:13<00:00,  4.15s/it]"
     ]
    },
    {
     "name": "stderr",
     "output_type": "stream",
     "text": [
      "2025/06/20 22:48:43 INFO dspy.evaluate.evaluate: Average Metric: 43 / 61 (70.5%)\n"
     ]
    },
    {
     "name": "stdout",
     "output_type": "stream",
     "text": [
      "\n",
      "Scores so far: [63.93, 70.49, 77.05, 68.85, 73.77, 63.93, 78.69, 67.21, 70.49, 65.57, 75.41, 70.49]\n",
      "Best score so far: 78.69\n"
     ]
    },
    {
     "name": "stderr",
     "output_type": "stream",
     "text": [
      " 30%|████████████▋                              | 13/44 [01:30<03:36,  6.97s/it]\n"
     ]
    },
    {
     "name": "stdout",
     "output_type": "stream",
     "text": [
      "Bootstrapped 8 full traces after 13 examples for up to 1 rounds, amounting to 13 attempts.\n",
      "Average Metric: 48.00 / 61 (78.7%): 100%|███████| 61/61 [03:28<00:00,  3.42s/it]"
     ]
    },
    {
     "name": "stderr",
     "output_type": "stream",
     "text": [
      "2025/06/20 22:53:42 INFO dspy.evaluate.evaluate: Average Metric: 48 / 61 (78.7%)\n"
     ]
    },
    {
     "name": "stdout",
     "output_type": "stream",
     "text": [
      "\n",
      "Scores so far: [63.93, 70.49, 77.05, 68.85, 73.77, 63.93, 78.69, 67.21, 70.49, 65.57, 75.41, 70.49, 78.69]\n",
      "Best score so far: 78.69\n"
     ]
    },
    {
     "name": "stderr",
     "output_type": "stream",
     "text": [
      " 32%|█████████████▋                             | 14/44 [01:36<03:27,  6.92s/it]\n"
     ]
    },
    {
     "name": "stdout",
     "output_type": "stream",
     "text": [
      "Bootstrapped 10 full traces after 14 examples for up to 1 rounds, amounting to 14 attempts.\n",
      "Average Metric: 29.00 / 61 (47.5%): 100%|███████| 61/61 [03:45<00:00,  3.69s/it]"
     ]
    },
    {
     "name": "stderr",
     "output_type": "stream",
     "text": [
      "2025/06/20 22:59:05 INFO dspy.evaluate.evaluate: Average Metric: 29 / 61 (47.5%)\n"
     ]
    },
    {
     "name": "stdout",
     "output_type": "stream",
     "text": [
      "\n",
      "Scores so far: [63.93, 70.49, 77.05, 68.85, 73.77, 63.93, 78.69, 67.21, 70.49, 65.57, 75.41, 70.49, 78.69, 47.54]\n",
      "Best score so far: 78.69\n"
     ]
    },
    {
     "name": "stderr",
     "output_type": "stream",
     "text": [
      " 23%|█████████▊                                 | 10/44 [01:24<04:46,  8.43s/it]\n"
     ]
    },
    {
     "name": "stdout",
     "output_type": "stream",
     "text": [
      "Bootstrapped 8 full traces after 10 examples for up to 1 rounds, amounting to 10 attempts.\n",
      "Average Metric: 49.00 / 61 (80.3%): 100%|███████| 61/61 [04:25<00:00,  4.35s/it]"
     ]
    },
    {
     "name": "stderr",
     "output_type": "stream",
     "text": [
      "2025/06/20 23:04:55 INFO dspy.evaluate.evaluate: Average Metric: 49 / 61 (80.3%)\n"
     ]
    },
    {
     "name": "stdout",
     "output_type": "stream",
     "text": [
      "\n",
      "New best score: 80.33 for seed 11\n",
      "Scores so far: [63.93, 70.49, 77.05, 68.85, 73.77, 63.93, 78.69, 67.21, 70.49, 65.57, 75.41, 70.49, 78.69, 47.54, 80.33]\n",
      "Best score so far: 80.33\n"
     ]
    },
    {
     "name": "stderr",
     "output_type": "stream",
     "text": [
      " 27%|███████████▋                               | 12/44 [01:35<04:14,  7.94s/it]\n"
     ]
    },
    {
     "name": "stdout",
     "output_type": "stream",
     "text": [
      "Bootstrapped 8 full traces after 12 examples for up to 1 rounds, amounting to 12 attempts.\n",
      "Average Metric: 42.00 / 61 (68.9%): 100%|███████| 61/61 [04:10<00:00,  4.10s/it]"
     ]
    },
    {
     "name": "stderr",
     "output_type": "stream",
     "text": [
      "2025/06/20 23:10:41 INFO dspy.evaluate.evaluate: Average Metric: 42 / 61 (68.9%)\n"
     ]
    },
    {
     "name": "stdout",
     "output_type": "stream",
     "text": [
      "\n",
      "Scores so far: [63.93, 70.49, 77.05, 68.85, 73.77, 63.93, 78.69, 67.21, 70.49, 65.57, 75.41, 70.49, 78.69, 47.54, 80.33, 68.85]\n",
      "Best score so far: 80.33\n"
     ]
    },
    {
     "name": "stderr",
     "output_type": "stream",
     "text": [
      " 16%|███████                                     | 7/44 [01:02<05:27,  8.86s/it]\n"
     ]
    },
    {
     "name": "stdout",
     "output_type": "stream",
     "text": [
      "Bootstrapped 5 full traces after 7 examples for up to 1 rounds, amounting to 7 attempts.\n",
      "Average Metric: 47.00 / 61 (77.0%): 100%|███████| 61/61 [03:27<00:00,  3.40s/it]"
     ]
    },
    {
     "name": "stderr",
     "output_type": "stream",
     "text": [
      "2025/06/20 23:15:10 INFO dspy.evaluate.evaluate: Average Metric: 47 / 61 (77.0%)\n"
     ]
    },
    {
     "name": "stdout",
     "output_type": "stream",
     "text": [
      "\n",
      "Scores so far: [63.93, 70.49, 77.05, 68.85, 73.77, 63.93, 78.69, 67.21, 70.49, 65.57, 75.41, 70.49, 78.69, 47.54, 80.33, 68.85, 77.05]\n",
      "Best score so far: 80.33\n"
     ]
    },
    {
     "name": "stderr",
     "output_type": "stream",
     "text": [
      " 11%|█████                                       | 5/44 [00:46<05:59,  9.22s/it]\n"
     ]
    },
    {
     "name": "stdout",
     "output_type": "stream",
     "text": [
      "Bootstrapped 2 full traces after 5 examples for up to 1 rounds, amounting to 5 attempts.\n",
      "Average Metric: 39.00 / 61 (63.9%): 100%|███████| 61/61 [03:37<00:00,  3.56s/it]"
     ]
    },
    {
     "name": "stderr",
     "output_type": "stream",
     "text": [
      "2025/06/20 23:19:33 INFO dspy.evaluate.evaluate: Average Metric: 39 / 61 (63.9%)\n"
     ]
    },
    {
     "name": "stdout",
     "output_type": "stream",
     "text": [
      "\n",
      "Scores so far: [63.93, 70.49, 77.05, 68.85, 73.77, 63.93, 78.69, 67.21, 70.49, 65.57, 75.41, 70.49, 78.69, 47.54, 80.33, 68.85, 77.05, 63.93]\n",
      "Best score so far: 80.33\n"
     ]
    },
    {
     "name": "stderr",
     "output_type": "stream",
     "text": [
      " 11%|█████                                       | 5/44 [00:46<06:05,  9.38s/it]\n"
     ]
    },
    {
     "name": "stdout",
     "output_type": "stream",
     "text": [
      "Bootstrapped 4 full traces after 5 examples for up to 1 rounds, amounting to 5 attempts.\n",
      "Average Metric: 40.00 / 61 (65.6%): 100%|███████| 61/61 [03:46<00:00,  3.71s/it]"
     ]
    },
    {
     "name": "stderr",
     "output_type": "stream",
     "text": [
      "2025/06/20 23:24:07 INFO dspy.evaluate.evaluate: Average Metric: 40 / 61 (65.6%)\n"
     ]
    },
    {
     "name": "stdout",
     "output_type": "stream",
     "text": [
      "\n",
      "Scores so far: [63.93, 70.49, 77.05, 68.85, 73.77, 63.93, 78.69, 67.21, 70.49, 65.57, 75.41, 70.49, 78.69, 47.54, 80.33, 68.85, 77.05, 63.93, 65.57]\n",
      "Best score so far: 80.33\n",
      "19 candidate programs found.\n"
     ]
    }
   ],
   "source": [
    "opt2_nps_topic_model =  tp2.compile(\n",
    "    nps_topic_model, \n",
    "    trainset=trainset, \n",
    "    valset=valset)"
   ]
  },
  {
   "cell_type": "code",
   "execution_count": 63,
   "id": "ecc5cdeb-2755-4dea-aec8-36f7dfd15890",
   "metadata": {},
   "outputs": [
    {
     "name": "stderr",
     "output_type": "stream",
     "text": [
      "100%|████████████████████████████████████████| 61/61 [2:06:46<00:00, 124.70s/it]\n"
     ]
    }
   ],
   "source": [
    "tmp = []\n",
    "\n",
    "for e in tqdm.tqdm(valset):\n",
    "    comment = e.comment \n",
    "    prev_resp = nps_topic_model(comment = comment) \n",
    "    new_resp = opt_nps_topic_model(comment = comment)\n",
    "    new_reason_resp = opt2_nps_topic_model(comment = comment)\n",
    "\n",
    "    tmp.append(\n",
    "        {\n",
    "        'comment': comment,\n",
    "        'sot_answer': e.answer,\n",
    "        'prev_answer': prev_resp.answer,\n",
    "        'new_answer': new_resp.answer,\n",
    "        'new_reason_answer': new_reason_resp.answer\n",
    "        }\n",
    "    )"
   ]
  },
  {
   "cell_type": "code",
   "execution_count": 64,
   "id": "83cddd33-86b6-4e26-9520-d52f7bf6b319",
   "metadata": {},
   "outputs": [],
   "source": [
    "cmp_df = pd.DataFrame(tmp)"
   ]
  },
  {
   "cell_type": "code",
   "execution_count": 65,
   "id": "5c39f4a9-32a8-407a-9500-8a6e759f585e",
   "metadata": {},
   "outputs": [],
   "source": [
    "cmp_df['prev_accuracy'] = list(map(\n",
    "    list_exact_match_raw,\n",
    "    cmp_df.sot_answer,\n",
    "    cmp_df.prev_answer))\n",
    "\n",
    "cmp_df['new_accuracy'] = list(map(\n",
    "    list_exact_match_raw,\n",
    "    cmp_df.sot_answer,\n",
    "    cmp_df.new_answer))\n",
    "\n",
    "cmp_df['new_reason_accuracy'] = list(map(\n",
    "    list_exact_match_raw,\n",
    "    cmp_df.sot_answer,\n",
    "    cmp_df.new_reason_answer))"
   ]
  },
  {
   "cell_type": "code",
   "execution_count": 66,
   "id": "4a4b3681-30b7-490a-b856-5462c47b75e5",
   "metadata": {},
   "outputs": [
    {
     "data": {
      "text/plain": [
       "prev_accuracy          55.737705\n",
       "new_accuracy           75.409836\n",
       "new_reason_accuracy    77.049180\n",
       "dtype: float64"
      ]
     },
     "execution_count": 66,
     "metadata": {},
     "output_type": "execute_result"
    }
   ],
   "source": [
    "cmp_df[['prev_accuracy', 'new_accuracy', 'new_reason_accuracy']].mean()*100"
   ]
  },
  {
   "cell_type": "code",
   "execution_count": 67,
   "id": "8ebce393-a18b-4168-a67d-3d74b58af6b9",
   "metadata": {},
   "outputs": [
    {
     "data": {
      "text/plain": [
       "Prediction(\n",
       "    reasoning='Not supplied for this particular example. ',\n",
       "    answer=['Limited Size or Shade Availability', 'Difficult Product Discovery']\n",
       ")"
      ]
     },
     "execution_count": 67,
     "metadata": {},
     "output_type": "execute_result"
    }
   ],
   "source": [
    "opt2_nps_topic_model(comment = \"Absolutely frustrated! Every time I find something I love, it's sold out in my size. What's the point of having a wishlist if nothing is ever available?\"\n",
    ")"
   ]
  },
  {
   "cell_type": "code",
   "execution_count": 68,
   "id": "5dc759f1-4add-4906-b8a3-d816f92bd0d9",
   "metadata": {},
   "outputs": [
    {
     "name": "stdout",
     "output_type": "stream",
     "text": [
      "\n",
      "\n",
      "\n",
      "\n",
      "\u001b[34m[2025-06-21T01:30:56.644792]\u001b[0m\n",
      "\n",
      "\u001b[31mSystem message:\u001b[0m\n",
      "\n",
      "Your input fields are:\n",
      "1. `comment` (str):\n",
      "Your output fields are:\n",
      "1. `reasoning` (str): \n",
      "2. `answer` (list[Literal['Slow or Unreliable Shipping', 'Inaccurate Product Descriptions or Photos', 'Limited Size or Shade Availability', 'Unresponsive or Generic Customer Support', 'Website or App Bugs', 'Confusing Loyalty or Discount Systems', 'Complicated Returns or Exchanges', 'Customs and Import Charges', 'Difficult Product Discovery', 'Damaged or Incorrect Items']]):\n",
      "All interactions will be structured in the following way, with the appropriate values filled in.\n",
      "\n",
      "Inputs will have the following structure:\n",
      "\n",
      "[[ ## comment ## ]]\n",
      "{comment}\n",
      "\n",
      "Outputs will be a JSON object with the following fields.\n",
      "\n",
      "{\n",
      "  \"reasoning\": \"{reasoning}\",\n",
      "  \"answer\": \"{answer}        # note: the value you produce must adhere to the JSON schema: {\\\"type\\\": \\\"array\\\", \\\"items\\\": {\\\"type\\\": \\\"string\\\", \\\"enum\\\": [\\\"Slow or Unreliable Shipping\\\", \\\"Inaccurate Product Descriptions or Photos\\\", \\\"Limited Size or Shade Availability\\\", \\\"Unresponsive or Generic Customer Support\\\", \\\"Website or App Bugs\\\", \\\"Confusing Loyalty or Discount Systems\\\", \\\"Complicated Returns or Exchanges\\\", \\\"Customs and Import Charges\\\", \\\"Difficult Product Discovery\\\", \\\"Damaged or Incorrect Items\\\"]}}\"\n",
      "}\n",
      "In adhering to this structure, your objective is: \n",
      "        Classify NPS topics\n",
      "\n",
      "\n",
      "\u001b[31mUser message:\u001b[0m\n",
      "\n",
      "This is an example of the task, though some input or output fields are not supplied.\n",
      "\n",
      "[[ ## comment ## ]]\n",
      "Product reviews don't load half the time. Can't make informed decisions without seeing other customers' experiences.\n",
      "\n",
      "\n",
      "\u001b[31mAssistant message:\u001b[0m\n",
      "\n",
      "{\n",
      "  \"reasoning\": \"Not supplied for this particular example. \",\n",
      "  \"answer\": [\n",
      "    \"Website or App Bugs\"\n",
      "  ]\n",
      "}\n",
      "\n",
      "\n",
      "\u001b[31mUser message:\u001b[0m\n",
      "\n",
      "This is an example of the task, though some input or output fields are not supplied.\n",
      "\n",
      "[[ ## comment ## ]]\n",
      "Your search function is terrible. I typed 'red lipstick' and got foundation results. How am I supposed to find anything on this site?\n",
      "\n",
      "\n",
      "\u001b[31mAssistant message:\u001b[0m\n",
      "\n",
      "{\n",
      "  \"reasoning\": \"Not supplied for this particular example. \",\n",
      "  \"answer\": [\n",
      "    \"Difficult Product Discovery\"\n",
      "  ]\n",
      "}\n",
      "\n",
      "\n",
      "\u001b[31mUser message:\u001b[0m\n",
      "\n",
      "This is an example of the task, though some input or output fields are not supplied.\n",
      "\n",
      "[[ ## comment ## ]]\n",
      "Submitted a complaint 2 weeks ago and still no response. Customer service is completely overwhelmed or just ignoring customers.\n",
      "\n",
      "\n",
      "\u001b[31mAssistant message:\u001b[0m\n",
      "\n",
      "{\n",
      "  \"reasoning\": \"Not supplied for this particular example. \",\n",
      "  \"answer\": [\n",
      "    \"Unresponsive or Generic Customer Support\"\n",
      "  ]\n",
      "}\n",
      "\n",
      "\n",
      "\u001b[31mUser message:\u001b[0m\n",
      "\n",
      "This is an example of the task, though some input or output fields are not supplied.\n",
      "\n",
      "[[ ## comment ## ]]\n",
      "Spent $200 expecting to hit VIP status but apparently I needed to spend it in one order, not cumulative. Rules are unclear.\n",
      "\n",
      "\n",
      "\u001b[31mAssistant message:\u001b[0m\n",
      "\n",
      "{\n",
      "  \"reasoning\": \"Not supplied for this particular example. \",\n",
      "  \"answer\": [\n",
      "    \"Confusing Loyalty or Discount Systems\"\n",
      "  ]\n",
      "}\n",
      "\n",
      "\n",
      "\u001b[31mUser message:\u001b[0m\n",
      "\n",
      "This is an example of the task, though some input or output fields are not supplied.\n",
      "\n",
      "[[ ## comment ## ]]\n",
      "Travel sizes sell out faster than full sizes but aren't restocked as frequently. Poor inventory balance.\n",
      "\n",
      "\n",
      "\u001b[31mAssistant message:\u001b[0m\n",
      "\n",
      "{\n",
      "  \"reasoning\": \"Not supplied for this particular example. \",\n",
      "  \"answer\": [\n",
      "    \"Limited Size or Shade Availability\"\n",
      "  ]\n",
      "}\n",
      "\n",
      "\n",
      "\u001b[31mUser message:\u001b[0m\n",
      "\n",
      "This is an example of the task, though some input or output fields are not supplied.\n",
      "\n",
      "[[ ## comment ## ]]\n",
      "Phone support has 45+ minute wait times. By the time someone answers, I've forgotten why I called.\n",
      "\n",
      "\n",
      "\u001b[31mAssistant message:\u001b[0m\n",
      "\n",
      "{\n",
      "  \"reasoning\": \"Not supplied for this particular example. \",\n",
      "  \"answer\": [\n",
      "    \"Unresponsive or Generic Customer Support\"\n",
      "  ]\n",
      "}\n",
      "\n",
      "\n",
      "\u001b[31mUser message:\u001b[0m\n",
      "\n",
      "This is an example of the task, though some input or output fields are not supplied.\n",
      "\n",
      "[[ ## comment ## ]]\n",
      "Support team doesn't seem trained on your own products. Asked about an ingredient and they had no clue.\n",
      "\n",
      "\n",
      "\u001b[31mAssistant message:\u001b[0m\n",
      "\n",
      "{\n",
      "  \"reasoning\": \"Not supplied for this particular example. \",\n",
      "  \"answer\": [\n",
      "    \"Unresponsive or Generic Customer Support\"\n",
      "  ]\n",
      "}\n",
      "\n",
      "\n",
      "\u001b[31mUser message:\u001b[0m\n",
      "\n",
      "This is an example of the task, though some input or output fields are not supplied.\n",
      "\n",
      "[[ ## comment ## ]]\n",
      "Mobile app crashes every time I try to checkout. I've lost my cart contents multiple times. This is unacceptable in 2025.\n",
      "\n",
      "\n",
      "\u001b[31mAssistant message:\u001b[0m\n",
      "\n",
      "{\n",
      "  \"reasoning\": \"Not supplied for this particular example. \",\n",
      "  \"answer\": [\n",
      "    \"Website or App Bugs\"\n",
      "  ]\n",
      "}\n",
      "\n",
      "\n",
      "\u001b[31mUser message:\u001b[0m\n",
      "\n",
      "[[ ## comment ## ]]\n",
      "Popular items sell out instantly and take months to restock. Your inventory management is terrible.\n",
      "\n",
      "\n",
      "\u001b[31mAssistant message:\u001b[0m\n",
      "\n",
      "{\n",
      "  \"reasoning\": \"Not supplied for this particular example. \",\n",
      "  \"answer\": [\n",
      "    \"Limited Size or Shade Availability\"\n",
      "  ]\n",
      "}\n",
      "\n",
      "\n",
      "\u001b[31mUser message:\u001b[0m\n",
      "\n",
      "[[ ## comment ## ]]\n",
      "Search results are completely random. Looking for 'foundation' brings up nail polish. Makes no sense.\n",
      "\n",
      "\n",
      "\u001b[31mAssistant message:\u001b[0m\n",
      "\n",
      "{\n",
      "  \"reasoning\": \"Not supplied for this particular example. \",\n",
      "  \"answer\": [\n",
      "    \"Difficult Product Discovery\"\n",
      "  ]\n",
      "}\n",
      "\n",
      "\n",
      "\u001b[31mUser message:\u001b[0m\n",
      "\n",
      "[[ ## comment ## ]]\n",
      "Product recommendations are completely off. I buy skincare and you keep showing me hair products. Your algorithm needs work.\n",
      "\n",
      "\n",
      "\u001b[31mAssistant message:\u001b[0m\n",
      "\n",
      "{\n",
      "  \"reasoning\": \"Not supplied for this particular example. \",\n",
      "  \"answer\": [\n",
      "    \"Difficult Product Discovery\"\n",
      "  ]\n",
      "}\n",
      "\n",
      "\n",
      "\u001b[31mUser message:\u001b[0m\n",
      "\n",
      "[[ ## comment ## ]]\n",
      "Triple points promotion didn't apply to my order. Fine print is buried so deep you need a magnifying glass to find exclusions.\n",
      "\n",
      "\n",
      "\u001b[31mAssistant message:\u001b[0m\n",
      "\n",
      "{\n",
      "  \"reasoning\": \"Not supplied for this particular example. \",\n",
      "  \"answer\": [\n",
      "    \"Confusing Loyalty or Discount Systems\"\n",
      "  ]\n",
      "}\n",
      "\n",
      "\n",
      "\u001b[31mUser message:\u001b[0m\n",
      "\n",
      "[[ ## comment ## ]]\n",
      "Package arrived late and half the products were missing. Your logistics are completely broken.\n",
      "\n",
      "\n",
      "\u001b[31mAssistant message:\u001b[0m\n",
      "\n",
      "{\n",
      "  \"reasoning\": \"Not supplied for this particular example. \",\n",
      "  \"answer\": [\n",
      "    \"Slow or Unreliable Shipping\",\n",
      "    \"Damaged or Incorrect Items\"\n",
      "  ]\n",
      "}\n",
      "\n",
      "\n",
      "\u001b[31mUser message:\u001b[0m\n",
      "\n",
      "[[ ## comment ## ]]\n",
      "Exchange process requires me to place a new order and wait for refund. Why can't you just swap the items directly?\n",
      "\n",
      "\n",
      "\u001b[31mAssistant message:\u001b[0m\n",
      "\n",
      "{\n",
      "  \"reasoning\": \"Not supplied for this particular example. \",\n",
      "  \"answer\": [\n",
      "    \"Complicated Returns or Exchanges\"\n",
      "  ]\n",
      "}\n",
      "\n",
      "\n",
      "\u001b[31mUser message:\u001b[0m\n",
      "\n",
      "[[ ## comment ## ]]\n",
      "Cart keeps emptying itself when I switch between pages. I've had to start over 5 times trying to place one order.\n",
      "\n",
      "\n",
      "\u001b[31mAssistant message:\u001b[0m\n",
      "\n",
      "{\n",
      "  \"reasoning\": \"Not supplied for this particular example. \",\n",
      "  \"answer\": [\n",
      "    \"Website or App Bugs\"\n",
      "  ]\n",
      "}\n",
      "\n",
      "\n",
      "\u001b[31mUser message:\u001b[0m\n",
      "\n",
      "[[ ## comment ## ]]\n",
      "Package got lost twice and customer service acted like it was my fault. Terrible logistics management.\n",
      "\n",
      "\n",
      "\u001b[31mAssistant message:\u001b[0m\n",
      "\n",
      "{\n",
      "  \"reasoning\": \"Not supplied for this particular example. \",\n",
      "  \"answer\": [\n",
      "    \"Slow or Unreliable Shipping\"\n",
      "  ]\n",
      "}\n",
      "\n",
      "\n",
      "\u001b[31mUser message:\u001b[0m\n",
      "\n",
      "[[ ## comment ## ]]\n",
      "Absolutely frustrated! Every time I find something I love, it's sold out in my size. What's the point of having a wishlist if nothing is ever available?\n",
      "\n",
      "Respond with a JSON object in the following order of fields: `reasoning`, then `answer` (must be formatted as a valid Python list[Literal['Slow or Unreliable Shipping', 'Inaccurate Product Descriptions or Photos', 'Limited Size or Shade Availability', 'Unresponsive or Generic Customer Support', 'Website or App Bugs', 'Confusing Loyalty or Discount Systems', 'Complicated Returns or Exchanges', 'Customs and Import Charges', 'Difficult Product Discovery', 'Damaged or Incorrect Items']]).\n",
      "\n",
      "\n",
      "\u001b[31mResponse:\u001b[0m\n",
      "\n",
      "\u001b[32m{\n",
      "  \"reasoning\": \"Not supplied for this particular example. \",\n",
      "  \"answer\": [\n",
      "    \"Limited Size or Shade Availability\",\n",
      "    \"Difficult Product Discovery\"\n",
      "  ]\n",
      "}\u001b[0m\n",
      "\n",
      "\n",
      "\n",
      "\n",
      "\n"
     ]
    }
   ],
   "source": [
    "dspy.inspect_history(n = 1)"
   ]
  },
  {
   "cell_type": "code",
   "execution_count": null,
   "id": "e2b1ac3d-c2ab-4927-a935-a5c7427819b1",
   "metadata": {},
   "outputs": [],
   "source": []
  },
  {
   "cell_type": "code",
   "execution_count": null,
   "id": "9095e289-a8e5-4196-9b3f-e503ea4f7f0f",
   "metadata": {},
   "outputs": [],
   "source": []
  },
  {
   "cell_type": "code",
   "execution_count": null,
   "id": "fda6d55d-7249-43d1-bbdb-f89c6e64d7f5",
   "metadata": {},
   "outputs": [],
   "source": []
  },
  {
   "cell_type": "code",
   "execution_count": null,
   "id": "d16dc2e8-5e3e-423c-b91a-5eb5ef6ff511",
   "metadata": {},
   "outputs": [],
   "source": []
  },
  {
   "cell_type": "code",
   "execution_count": null,
   "id": "0c236dce-0f24-4648-b04f-5ea2d273ef60",
   "metadata": {},
   "outputs": [],
   "source": []
  }
 ],
 "metadata": {
  "kernelspec": {
   "display_name": "Python 3 (ipykernel)",
   "language": "python",
   "name": "python3"
  },
  "language_info": {
   "codemirror_mode": {
    "name": "ipython",
    "version": 3
   },
   "file_extension": ".py",
   "mimetype": "text/x-python",
   "name": "python",
   "nbconvert_exporter": "python",
   "pygments_lexer": "ipython3",
   "version": "3.11.13"
  }
 },
 "nbformat": 4,
 "nbformat_minor": 5
}
