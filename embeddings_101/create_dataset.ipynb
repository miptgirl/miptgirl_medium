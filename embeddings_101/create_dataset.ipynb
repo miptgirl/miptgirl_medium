{
 "cells": [
  {
   "cell_type": "code",
   "execution_count": 113,
   "id": "4c77ee80-d222-4120-b012-90fc8a861227",
   "metadata": {},
   "outputs": [],
   "source": [
    "import os\n",
    "import xml.etree.ElementTree as ET\n",
    "import pandas as pd\n",
    "from bs4 import BeautifulSoup\n",
    "import tqdm\n",
    "import tiktoken\n",
    "import numpy as np"
   ]
  },
  {
   "cell_type": "code",
   "execution_count": 95,
   "id": "44a342da-9b36-4c19-a756-56ce6afc0864",
   "metadata": {},
   "outputs": [],
   "source": [
    "def num_tokens_from_string(string: str, encoding_name: str) -> int:\n",
    "    \"\"\"Returns the number of tokens in a text string.\"\"\"\n",
    "    encoding = tiktoken.encoding_for_model(encoding_name)\n",
    "    num_tokens = len(encoding.encode(string, disallowed_special=()))\n",
    "    return num_tokens"
   ]
  },
  {
   "cell_type": "code",
   "execution_count": 45,
   "id": "cba66db8-1cb5-411a-b8ac-4f1f74186259",
   "metadata": {},
   "outputs": [],
   "source": [
    "pd.set_option('display.max_colwidth', 5000)"
   ]
  },
  {
   "cell_type": "code",
   "execution_count": 46,
   "id": "4086bec1-3ed0-4371-84ce-26c1ae811d78",
   "metadata": {},
   "outputs": [
    {
     "name": "stdout",
     "output_type": "stream",
     "text": [
      "\u001b[34mai.stackexchange.com\u001b[m\u001b[m/             \u001b[34meconomics.stackexchange.com\u001b[m\u001b[m/\n",
      "\u001b[34mastronomy.stackexchange.com\u001b[m\u001b[m/      \u001b[34mfitness.stackexchange.com\u001b[m\u001b[m/\n",
      "\u001b[34mbicycles.stackexchange.com\u001b[m\u001b[m/       \u001b[34mgenai.stackexchange.com\u001b[m\u001b[m/\n",
      "\u001b[34mbioinformatics.stackexchange.com\u001b[m\u001b[m/ \u001b[34mmovies.stackexchange.com\u001b[m\u001b[m/\n",
      "\u001b[34mchess.stackexchange.com\u001b[m\u001b[m/          \u001b[34mpets.stackexchange.com\u001b[m\u001b[m/\n",
      "\u001b[34mcoffee.stackexchange.com\u001b[m\u001b[m/         \u001b[34mpolitics.stackexchange.com\u001b[m\u001b[m/\n",
      "\u001b[34mdatascience.stackexchange.com\u001b[m\u001b[m/    \u001b[34mtravel.stackexchange.com\u001b[m\u001b[m/\n"
     ]
    }
   ],
   "source": [
    "ls data"
   ]
  },
  {
   "cell_type": "code",
   "execution_count": 35,
   "id": "850a70e3-25fc-46ac-a9d3-fa01e2f145dc",
   "metadata": {},
   "outputs": [
    {
     "name": "stdout",
     "output_type": "stream",
     "text": [
      "Posts.xml\n"
     ]
    }
   ],
   "source": [
    "! ls data/ai.stackexchange.com"
   ]
  },
  {
   "cell_type": "code",
   "execution_count": 60,
   "id": "cdaf86b0-d45b-45fe-b22e-d058e6120924",
   "metadata": {},
   "outputs": [],
   "source": [
    "def get_text_from_html(text):\n",
    "    if text is None:\n",
    "        return None\n",
    "    soup = BeautifulSoup(text)\n",
    "    return soup.get_text()\n",
    "\n",
    "def process_folder(folder_name):\n",
    "    with open('data/%s/Posts.xml' % folder_name) as f:\n",
    "        xml_data = f.read()\n",
    "    \n",
    "    root = ET.fromstring(xml_data)\n",
    "    post_items = root.findall('row')\n",
    "    print('Total number of posts: %d' % len(post_items))\n",
    "    tmp_data = []\n",
    "    for item in post_items:\n",
    "        tmp_data.append(\n",
    "            {\n",
    "                'topic': folder_name.replace('.stackexchange.com', ''),\n",
    "                'raw_body': item.get('Body'),\n",
    "                'raw_title': item.get('Title'),\n",
    "                'body': get_text_from_html(item.get('Body')),\n",
    "                'title': get_text_from_html(item.get('Title')),\n",
    "                'tags': item.get('Tags'),\n",
    "                'post_type': item.get('PostTypeId')\n",
    "            }\n",
    "        )\n",
    "    df = pd.DataFrame(tmp_data)\n",
    "    df = df[df.post_type == '1']\n",
    "    print('Number of questions: %d' % len(df))\n",
    "    return df"
   ]
  },
  {
   "cell_type": "code",
   "execution_count": 61,
   "id": "db29dd18-bb9d-445b-8c17-9eb7bc7856ef",
   "metadata": {},
   "outputs": [
    {
     "name": "stdout",
     "output_type": "stream",
     "text": [
      "Total number of posts: 25956\n"
     ]
    },
    {
     "name": "stderr",
     "output_type": "stream",
     "text": [
      "/var/folders/7v/1ln722x97kd8bchgxpmdkynw0000gn/T/ipykernel_75214/2580885949.py:4: MarkupResemblesLocatorWarning: The input looks more like a filename than markup. You may want to open this file and pass the filehandle into Beautiful Soup.\n",
      "  soup = BeautifulSoup(text)\n"
     ]
    },
    {
     "name": "stdout",
     "output_type": "stream",
     "text": [
      "Number of questions: 12020\n"
     ]
    }
   ],
   "source": [
    "tmp_df = process_folder('ai.stackexchange.com')"
   ]
  },
  {
   "cell_type": "code",
   "execution_count": 67,
   "id": "362ce997-c0b1-4d2b-a021-49f0eadc2b4a",
   "metadata": {},
   "outputs": [
    {
     "name": "stderr",
     "output_type": "stream",
     "text": [
      "  0%|                                                                               | 0/15 [00:00<?, ?it/s]"
     ]
    },
    {
     "name": "stdout",
     "output_type": "stream",
     "text": [
      "ai.stackexchange.com\n",
      "Total number of posts: 25956\n"
     ]
    },
    {
     "name": "stderr",
     "output_type": "stream",
     "text": [
      "/var/folders/7v/1ln722x97kd8bchgxpmdkynw0000gn/T/ipykernel_75214/2580885949.py:4: MarkupResemblesLocatorWarning: The input looks more like a filename than markup. You may want to open this file and pass the filehandle into Beautiful Soup.\n",
      "  soup = BeautifulSoup(text)\n",
      "  7%|████▋                                                                  | 1/15 [00:05<01:18,  5.61s/it]"
     ]
    },
    {
     "name": "stdout",
     "output_type": "stream",
     "text": [
      "Number of questions: 12020\n",
      "coffee.stackexchange.com\n",
      "Total number of posts: 4483\n"
     ]
    },
    {
     "name": "stderr",
     "output_type": "stream",
     "text": [
      " 13%|█████████▍                                                             | 2/15 [00:06<00:34,  2.64s/it]"
     ]
    },
    {
     "name": "stdout",
     "output_type": "stream",
     "text": [
      "Number of questions: 1458\n",
      "astronomy.stackexchange.com\n",
      "Total number of posts: 35084\n"
     ]
    },
    {
     "name": "stderr",
     "output_type": "stream",
     "text": [
      " 20%|██████████████▏                                                        | 3/15 [00:12<00:53,  4.48s/it]"
     ]
    },
    {
     "name": "stdout",
     "output_type": "stream",
     "text": [
      "Number of questions: 14339\n",
      "Skipping .DS_Store...\n",
      "pets.stackexchange.com\n",
      "Total number of posts: 21159\n"
     ]
    },
    {
     "name": "stderr",
     "output_type": "stream",
     "text": [
      " 33%|███████████████████████▋                                               | 5/15 [00:15<00:27,  2.78s/it]"
     ]
    },
    {
     "name": "stdout",
     "output_type": "stream",
     "text": [
      "Number of questions: 8267\n",
      "politics.stackexchange.com\n",
      "Total number of posts: 55308\n"
     ]
    },
    {
     "name": "stderr",
     "output_type": "stream",
     "text": [
      " 40%|████████████████████████████▍                                          | 6/15 [00:28<00:50,  5.57s/it]"
     ]
    },
    {
     "name": "stdout",
     "output_type": "stream",
     "text": [
      "Number of questions: 16518\n",
      "bioinformatics.stackexchange.com\n",
      "Total number of posts: 13775\n"
     ]
    },
    {
     "name": "stderr",
     "output_type": "stream",
     "text": [
      " 47%|█████████████████████████████████▏                                     | 7/15 [00:31<00:38,  4.78s/it]"
     ]
    },
    {
     "name": "stdout",
     "output_type": "stream",
     "text": [
      "Number of questions: 5923\n",
      "genai.stackexchange.com\n",
      "Total number of posts: 474\n",
      "Number of questions: 181\n",
      "bicycles.stackexchange.com\n",
      "Total number of posts: 69574\n"
     ]
    },
    {
     "name": "stderr",
     "output_type": "stream",
     "text": [
      " 60%|██████████████████████████████████████████▌                            | 9/15 [00:40<00:28,  4.74s/it]"
     ]
    },
    {
     "name": "stdout",
     "output_type": "stream",
     "text": [
      "Number of questions: 20582\n",
      "travel.stackexchange.com\n",
      "Total number of posts: 128164\n"
     ]
    },
    {
     "name": "stderr",
     "output_type": "stream",
     "text": [
      " 67%|██████████████████████████████████████████████▋                       | 10/15 [00:58<00:39,  7.99s/it]"
     ]
    },
    {
     "name": "stdout",
     "output_type": "stream",
     "text": [
      "Number of questions: 48040\n",
      "fitness.stackexchange.com\n",
      "Total number of posts: 29505\n"
     ]
    },
    {
     "name": "stderr",
     "output_type": "stream",
     "text": [
      " 73%|███████████████████████████████████████████████████▎                  | 11/15 [01:03<00:28,  7.10s/it]"
     ]
    },
    {
     "name": "stdout",
     "output_type": "stream",
     "text": [
      "Number of questions: 10126\n",
      "chess.stackexchange.com\n",
      "Total number of posts: 30452\n"
     ]
    },
    {
     "name": "stderr",
     "output_type": "stream",
     "text": [
      " 80%|████████████████████████████████████████████████████████              | 12/15 [01:07<00:19,  6.42s/it]"
     ]
    },
    {
     "name": "stdout",
     "output_type": "stream",
     "text": [
      "Number of questions: 8744\n",
      "economics.stackexchange.com\n",
      "Total number of posts: 34095\n"
     ]
    },
    {
     "name": "stderr",
     "output_type": "stream",
     "text": [
      " 87%|████████████████████████████████████████████████████████████▋         | 13/15 [01:14<00:13,  6.62s/it]"
     ]
    },
    {
     "name": "stdout",
     "output_type": "stream",
     "text": [
      "Number of questions: 15489\n",
      "datascience.stackexchange.com\n",
      "Total number of posts: 78220\n"
     ]
    },
    {
     "name": "stderr",
     "output_type": "stream",
     "text": [
      " 93%|█████████████████████████████████████████████████████████████████▎    | 14/15 [01:29<00:08,  8.89s/it]"
     ]
    },
    {
     "name": "stdout",
     "output_type": "stream",
     "text": [
      "Number of questions: 36604\n",
      "movies.stackexchange.com\n",
      "Total number of posts: 64473\n"
     ]
    },
    {
     "name": "stderr",
     "output_type": "stream",
     "text": [
      "100%|██████████████████████████████████████████████████████████████████████| 15/15 [01:40<00:00,  6.68s/it]"
     ]
    },
    {
     "name": "stdout",
     "output_type": "stream",
     "text": [
      "Number of questions: 22730\n"
     ]
    },
    {
     "name": "stderr",
     "output_type": "stream",
     "text": [
      "\n"
     ]
    }
   ],
   "source": [
    "tmp_dfs = []\n",
    "\n",
    "for folder_name in tqdm.tqdm(os.listdir('./data')):\n",
    "    if folder_name.startswith('.'):\n",
    "        print('Skipping %s...' % folder_name)\n",
    "        continue\n",
    "    print(folder_name)\n",
    "    tmp_dfs.append(process_folder(folder_name))"
   ]
  },
  {
   "cell_type": "code",
   "execution_count": 68,
   "id": "6249ee4e-1498-4d36-a225-a7597cbe56e7",
   "metadata": {},
   "outputs": [],
   "source": [
    "df = pd.concat(tmp_dfs)"
   ]
  },
  {
   "cell_type": "code",
   "execution_count": 70,
   "id": "f0a22292-6cf6-480c-b0e7-51b821919b87",
   "metadata": {},
   "outputs": [
    {
     "data": {
      "text/plain": [
       "topic\n",
       "travel            48040\n",
       "datascience       36604\n",
       "movies            22730\n",
       "bicycles          20582\n",
       "politics          16518\n",
       "economics         15489\n",
       "astronomy         14339\n",
       "ai                12020\n",
       "fitness           10126\n",
       "chess              8744\n",
       "pets               8267\n",
       "bioinformatics     5923\n",
       "coffee             1458\n",
       "genai               181\n",
       "Name: count, dtype: int64"
      ]
     },
     "execution_count": 70,
     "metadata": {},
     "output_type": "execute_result"
    }
   ],
   "source": [
    "df.topic.value_counts()"
   ]
  },
  {
   "cell_type": "code",
   "execution_count": 108,
   "id": "bce91f3e-c1a3-4311-b191-8fd0c0b8d487",
   "metadata": {},
   "outputs": [
    {
     "name": "stdout",
     "output_type": "stream",
     "text": [
      "a\n",
      "b\n"
     ]
    }
   ],
   "source": [
    "print('a\\nb')"
   ]
  },
  {
   "cell_type": "code",
   "execution_count": 109,
   "id": "74c85214-c127-4505-9617-6c19680aacd7",
   "metadata": {},
   "outputs": [],
   "source": [
    "df['full_text'] = list(map(\n",
    "    lambda x, y: x + '\\n' + y,\n",
    "    df.title,\n",
    "    df.body\n",
    "))"
   ]
  },
  {
   "cell_type": "code",
   "execution_count": 110,
   "id": "805c2d36-9bbd-4ef3-aa7a-50a3e0f24ff1",
   "metadata": {},
   "outputs": [],
   "source": [
    "df['tokens'] = df.full_text.map(lambda x: num_tokens_from_string(x, 'gpt-4-1106-preview'))"
   ]
  },
  {
   "cell_type": "code",
   "execution_count": 114,
   "id": "dd0a3cb7-3fe1-4423-831a-2dc8de7cb297",
   "metadata": {},
   "outputs": [
    {
     "data": {
      "text/plain": [
       "Text(0.5, 1.0, 'Distribution of tokens')"
      ]
     },
     "execution_count": 114,
     "metadata": {},
     "output_type": "execute_result"
    },
    {
     "data": {
      "image/png": "[encoded data removed]",
      "text/plain": [
       "<Figure size 640x480 with 1 Axes>"
      ]
     },
     "metadata": {},
     "output_type": "display_data"
    }
   ],
   "source": [
    "ax = df.tokens.hist(bins = 50, range = (0, 1000),\n",
    "                   weights = 100.*np.ones_like(df.index)/df.shape[0])\n",
    "ax.set_title('Distribution of tokens')"
   ]
  },
  {
   "cell_type": "code",
   "execution_count": 137,
   "id": "0e4f0543-fe6e-4ccf-8fbc-163b03ba6500",
   "metadata": {},
   "outputs": [],
   "source": [
    "df_filt = df[df.tokens <= 200]"
   ]
  },
  {
   "cell_type": "code",
   "execution_count": 143,
   "id": "bfb32050-0fc3-46bf-8db6-9dc315c487ab",
   "metadata": {},
   "outputs": [],
   "source": [
    "df_filt = df_filt[df_filt.full_text.map(lambda x: '$$' not in x)] # filter Latex\n",
    "df_filt = df_filt[df_filt.full_text.map(lambda x: '$\\\\' not in x)] # filter Latex"
   ]
  },
  {
   "cell_type": "code",
   "execution_count": 144,
   "id": "b1e21b32-0749-4a86-814c-69d9b69ed713",
   "metadata": {},
   "outputs": [
    {
     "data": {
      "text/plain": [
       "topic\n",
       "travel            39395\n",
       "datascience       20402\n",
       "movies            18707\n",
       "bicycles          15557\n",
       "politics          11249\n",
       "astronomy         10434\n",
       "economics          8854\n",
       "fitness            7240\n",
       "ai                 6824\n",
       "chess              6260\n",
       "pets               5594\n",
       "bioinformatics     2886\n",
       "coffee             1246\n",
       "genai               118\n",
       "Name: count, dtype: int64"
      ]
     },
     "execution_count": 144,
     "metadata": {},
     "output_type": "execute_result"
    }
   ],
   "source": [
    "df_filt.topic.value_counts()"
   ]
  },
  {
   "cell_type": "code",
   "execution_count": 154,
   "id": "153b7b13-57ba-46d1-b7b1-9e66d25d42bb",
   "metadata": {},
   "outputs": [
    {
     "data": {
      "text/html": [
       "<div>\n",
       "<style scoped>\n",
       "    .dataframe tbody tr th:only-of-type {\n",
       "        vertical-align: middle;\n",
       "    }\n",
       "\n",
       "    .dataframe tbody tr th {\n",
       "        vertical-align: top;\n",
       "    }\n",
       "\n",
       "    .dataframe thead th {\n",
       "        text-align: right;\n",
       "    }\n",
       "</style>\n",
       "<table border=\"1\" class=\"dataframe\">\n",
       "  <thead>\n",
       "    <tr style=\"text-align: right;\">\n",
       "      <th></th>\n",
       "      <th>full_text</th>\n",
       "    </tr>\n",
       "  </thead>\n",
       "  <tbody>\n",
       "    <tr>\n",
       "      <th>282</th>\n",
       "      <td>How to generate exact word(s) in generated image?\\nI want to design a prompt where I already have the main thing in the image fixed, but I need to have a text included in the image with exact word(s) I put in there. For example, this is my prompt.\\n\\na flying bird, text \"Bird\" in the background\\n\\nThe result only generates a flying bird. No text in the image, let alone the exact word.\\nHow to generate exact word(s) in generated image?\\nI am using this tool.\\n</td>\n",
       "    </tr>\n",
       "    <tr>\n",
       "      <th>395</th>\n",
       "      <td>What is the meaning of the prompt \"derpibooru_p_95\", and what effect does it achieve?\\nWhen crafting a prompt for a generative AI image package - For example using Stable diffusion with the Automatic111 web ui - what is the meaning of the prompt fragment \"derpibooru_p_95\", and what effect does adding it to your prompt achieve?\\n</td>\n",
       "    </tr>\n",
       "    <tr>\n",
       "      <th>17</th>\n",
       "      <td>How do I \"teach\" a large language model new knowledge?\\nSuppose I have a copy of a pre-trained transformer-based large language model like Google's T5 or Meta's Llama. Due to the pre-training, it contains a lot of knowledge.\\nHowever, I want to teach the model something new, knowledge it doesn't already contain about a specific domain. That way, when I ask it to do a task or answer a question about this domain, it can benefit from this specialized knowledge?\\nHow would I go about teaching a pre-trained large language model new knowledge?\\n</td>\n",
       "    </tr>\n",
       "    <tr>\n",
       "      <th>220</th>\n",
       "      <td>Generative AI Use Case for Search Domain\\nI am trying to think and research for use cases that can beneficial search experience using Generative AI. There are two things,\\n\\nThe final search results that can be more relevant and personalised per user. This would take time and more effort - in terms the backend search service to change/upgrade etc.\\nThe more I am trying to focus how can generative ai be leveraged and provide to benefits on the client side while user is actually search. One thought I had:\\nused to generate new keywords and topics that can be used to improve the search engine's coverage of a particular topic. This can help to provide more relevant results to users.\\n\\nI wanted to understand what other use case have you witnessed/seem where generative ai can really helpful while user is actually searching (on the client side experience)\\n</td>\n",
       "    </tr>\n",
       "    <tr>\n",
       "      <th>113</th>\n",
       "      <td>How can I encourage ChatGPT to be more \"disagreeable\" or firm on a point it's made, instead of backing off when told it's wrong?\\nAs mentioned in Why is ChatGPT so quick to apologize when \"corrected\" instead of disagreeing or engaging in \"argument\" or \"debate\" with the user?:\\n\\nWhen you tell ChatGPT it's wrong about something, it will often very quickly apologize and say it's made an error (even if it's very clearly right), perhaps point to its knowledge cutoff date, and then agree with the user.\\n\\nHow can I make ChatGPT be more firm on its points/arguments, instead of being so quick to apologize and admit fault?\\nUnlike How to get ChatGPT to Stop Apologizing?, this question is about how to make ChatGPT more firm on what it says instead of just not apologizing, and is not specifically about apology cases.\\n</td>\n",
       "    </tr>\n",
       "  </tbody>\n",
       "</table>\n",
       "</div>"
      ],
      "text/plain": [
       "                                                                                                                                                                                                                                                                                                                                                                                                                                                                                                                                                                                                                                                                                                                                                                                                                                                                                           full_text\n",
       "282                                                                                                                                                                                                                                                                                                                                                                                                                  How to generate exact word(s) in generated image?\\nI want to design a prompt where I already have the main thing in the image fixed, but I need to have a text included in the image with exact word(s) I put in there. For example, this is my prompt.\\n\\na flying bird, text \"Bird\" in the background\\n\\nThe result only generates a flying bird. No text in the image, let alone the exact word.\\nHow to generate exact word(s) in generated image?\\nI am using this tool.\\n\n",
       "395                                                                                                                                                                                                                                                                                                                                                                                                                                                                                                                                                       What is the meaning of the prompt \"derpibooru_p_95\", and what effect does it achieve?\\nWhen crafting a prompt for a generative AI image package - For example using Stable diffusion with the Automatic111 web ui - what is the meaning of the prompt fragment \"derpibooru_p_95\", and what effect does adding it to your prompt achieve?\\n\n",
       "17                                                                                                                                                                                                                                                                                                                                 How do I \"teach\" a large language model new knowledge?\\nSuppose I have a copy of a pre-trained transformer-based large language model like Google's T5 or Meta's Llama. Due to the pre-training, it contains a lot of knowledge.\\nHowever, I want to teach the model something new, knowledge it doesn't already contain about a specific domain. That way, when I ask it to do a task or answer a question about this domain, it can benefit from this specialized knowledge?\\nHow would I go about teaching a pre-trained large language model new knowledge?\\n\n",
       "220  Generative AI Use Case for Search Domain\\nI am trying to think and research for use cases that can beneficial search experience using Generative AI. There are two things,\\n\\nThe final search results that can be more relevant and personalised per user. This would take time and more effort - in terms the backend search service to change/upgrade etc.\\nThe more I am trying to focus how can generative ai be leveraged and provide to benefits on the client side while user is actually search. One thought I had:\\nused to generate new keywords and topics that can be used to improve the search engine's coverage of a particular topic. This can help to provide more relevant results to users.\\n\\nI wanted to understand what other use case have you witnessed/seem where generative ai can really helpful while user is actually searching (on the client side experience)\\n\n",
       "113                                             How can I encourage ChatGPT to be more \"disagreeable\" or firm on a point it's made, instead of backing off when told it's wrong?\\nAs mentioned in Why is ChatGPT so quick to apologize when \"corrected\" instead of disagreeing or engaging in \"argument\" or \"debate\" with the user?:\\n\\nWhen you tell ChatGPT it's wrong about something, it will often very quickly apologize and say it's made an error (even if it's very clearly right), perhaps point to its knowledge cutoff date, and then agree with the user.\\n\\nHow can I make ChatGPT be more firm on its points/arguments, instead of being so quick to apologize and admit fault?\\nUnlike How to get ChatGPT to Stop Apologizing?, this question is about how to make ChatGPT more firm on what it says instead of just not apologizing, and is not specifically about apology cases.\\n"
      ]
     },
     "execution_count": 154,
     "metadata": {},
     "output_type": "execute_result"
    }
   ],
   "source": [
    "df_filt[df_filt.topic == 'genai'][['full_text']].sample(5, random_state=42)"
   ]
  },
  {
   "cell_type": "code",
   "execution_count": 165,
   "id": "82591bd4-8e02-449b-a981-54d08405bf31",
   "metadata": {},
   "outputs": [],
   "source": [
    "tmp_dfs = []\n",
    "\n",
    "for topic in df_filt.topic.unique():\n",
    "    sample_tmp_df = df_filt[df_filt.topic == topic][['full_text', 'topic', 'tokens']].sample(100, random_state=42)\n",
    "    tmp_dfs.append(sample_tmp_df)"
   ]
  },
  {
   "cell_type": "code",
   "execution_count": 166,
   "id": "b64e5ea3-176e-466d-b96a-b7125657bf21",
   "metadata": {},
   "outputs": [],
   "source": [
    "sample_df = pd.concat(tmp_dfs)"
   ]
  },
  {
   "cell_type": "code",
   "execution_count": 167,
   "id": "44e592dc-6e2d-47b0-8020-46d2d3b9824c",
   "metadata": {},
   "outputs": [
    {
     "data": {
      "text/plain": [
       "150262"
      ]
     },
     "execution_count": 167,
     "metadata": {},
     "output_type": "execute_result"
    }
   ],
   "source": [
    "sample_df.tokens.sum()"
   ]
  },
  {
   "cell_type": "code",
   "execution_count": 168,
   "id": "98517cd4-70e9-465a-b8be-a6a3f0922f20",
   "metadata": {},
   "outputs": [
    {
     "data": {
      "text/plain": [
       "Text(0.5, 1.0, 'Distribution of tokens in the sample')"
      ]
     },
     "execution_count": 168,
     "metadata": {},
     "output_type": "execute_result"
    },
    {
     "data": {
      "image/png": "[encoded data removed]",
      "text/plain": [
       "<Figure size 640x480 with 1 Axes>"
      ]
     },
     "metadata": {},
     "output_type": "display_data"
    }
   ],
   "source": [
    "ax = sample_df.tokens.hist(bins = 10,\n",
    "                   weights = 100.*np.ones_like(sample_df.index)/sample_df.shape[0])\n",
    "ax.set_title('Distribution of tokens in the sample')"
   ]
  },
  {
   "cell_type": "code",
   "execution_count": 169,
   "id": "3c2715ed-f6ab-4925-b172-2af4f74645ed",
   "metadata": {},
   "outputs": [],
   "source": [
    "sample_df.to_csv('sample_stack_exchange_data.csv', index = False, sep = '\\t')"
   ]
  },
  {
   "cell_type": "code",
   "execution_count": null,
   "id": "9fd0f9c2-629a-4abd-8ea1-442d51f349c4",
   "metadata": {},
   "outputs": [],
   "source": []
  }
 ],
 "metadata": {
  "kernelspec": {
   "display_name": "Python 3 (ipykernel)",
   "language": "python",
   "name": "python3"
  },
  "language_info": {
   "codemirror_mode": {
    "name": "ipython",
    "version": 3
   },
   "file_extension": ".py",
   "mimetype": "text/x-python",
   "name": "python",
   "nbconvert_exporter": "python",
   "pygments_lexer": "ipython3",
   "version": "3.9.6"
  }
 },
 "nbformat": 4,
 "nbformat_minor": 5
}
