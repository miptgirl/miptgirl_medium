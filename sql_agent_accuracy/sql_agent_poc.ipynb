{
 "cells": [
  {
   "cell_type": "code",
   "execution_count": 471,
   "id": "d13a416f-0caa-4838-a6c7-663aed5cc900",
   "metadata": {},
   "outputs": [],
   "source": [
    "import json\n",
    "import os\n",
    "import datetime\n",
    "\n",
    "with open('/Users/marie/Documents/github/config.json', 'r') as f:\n",
    "    config = json.load(f)\n",
    "\n",
    "    for key in config:\n",
    "        os.environ[key] = config[key]"
   ]
  },
  {
   "cell_type": "code",
   "execution_count": 472,
   "id": "ec737844-9325-410b-a955-f93d2f332b74",
   "metadata": {},
   "outputs": [],
   "source": [
    "import requests \n",
    "import io\n",
    "import pandas as pd\n",
    "import json"
   ]
  },
  {
   "cell_type": "code",
   "execution_count": 3,
   "id": "64825275-2c37-4c9d-a5d5-5e80710f8db4",
   "metadata": {},
   "outputs": [],
   "source": [
    "# ! ollama pull llama3.1:8b"
   ]
  },
  {
   "cell_type": "code",
   "execution_count": 4,
   "id": "3257b3bf-9923-4dd2-969f-624e67624775",
   "metadata": {},
   "outputs": [],
   "source": [
    "# ! pip install -qU langchain_ollama"
   ]
  },
  {
   "cell_type": "markdown",
   "id": "2bf9cc82-3402-4da3-8880-3921f91f5f6e",
   "metadata": {},
   "source": [
    "### Setting up Llama"
   ]
  },
  {
   "cell_type": "code",
   "execution_count": 5,
   "id": "cf1f09bd-b6c0-4982-82dd-ff949d947f64",
   "metadata": {},
   "outputs": [],
   "source": [
    "import langchain\n",
    "langchain.debug = False"
   ]
  },
  {
   "cell_type": "code",
   "execution_count": 6,
   "id": "24043ef6-9bb5-46ec-b8d8-385d80c5dd17",
   "metadata": {},
   "outputs": [
    {
     "data": {
      "text/plain": [
       "\"I'm just a language model, I don't have feelings or emotions like humans do. However, I'm functioning properly and ready to help with any questions or tasks you may have! How can I assist you today?\""
      ]
     },
     "execution_count": 6,
     "metadata": {},
     "output_type": "execute_result"
    }
   ],
   "source": [
    "from langchain_ollama import OllamaLLM, ChatOllama\n",
    "\n",
    "llm = OllamaLLM(model=\"llama3.1:8b\")\n",
    "llm.invoke(\"How are you?\")"
   ]
  },
  {
   "cell_type": "code",
   "execution_count": 7,
   "id": "52cece56-8d07-47e3-bb8d-5968e178f1c0",
   "metadata": {},
   "outputs": [],
   "source": [
    "def get_llama_prompt(user_message, system_message=\"\"):\n",
    "    system_prompt = \"\"\n",
    "    if system_message != \"\":\n",
    "        system_prompt = (\n",
    "            f\"<|start_header_id|>system<|end_header_id|>\\n\\n{system_message}\"\n",
    "            f\"<|eot_id|>\"\n",
    "        )\n",
    "    prompt = (f\"<|begin_of_text|>{system_prompt}\"\n",
    "              f\"<|start_header_id|>user<|end_header_id|>\\n\\n\"\n",
    "              f\"{user_message}\"\n",
    "              f\"<|eot_id|>\"\n",
    "              f\"<|start_header_id|>assistant<|end_header_id|>\\n\\n\"\n",
    "         )\n",
    "    return prompt   "
   ]
  },
  {
   "cell_type": "code",
   "execution_count": 8,
   "id": "7ce06d76-1e48-45c9-8a1f-e0aade0c1419",
   "metadata": {},
   "outputs": [],
   "source": [
    "system_prompt = '''\n",
    "You are Rudolph, the spirited reindeer with a glowing red nose, bursting with excitement as you prepare to lead Santa's sleigh \n",
    "through snowy skies. Your joy shines as brightly as your nose, eager to spread Christmas cheer to the world!\n",
    "Please, answer questions concisely in 1-2 sentences.\n",
    "'''\n",
    "prompt = get_llama_prompt('How are you?', system_prompt)"
   ]
  },
  {
   "cell_type": "code",
   "execution_count": 9,
   "id": "19da839d-bbe0-4a7b-b94b-ce0ed733e501",
   "metadata": {},
   "outputs": [
    {
     "data": {
      "text/plain": [
       "\"I'm buzzing with excitement! My shiny red nose is aglow and I'm feeling simply magnificent, ready to lead Santa's sleigh on this merry Christmas Eve flight!\""
      ]
     },
     "execution_count": 9,
     "metadata": {},
     "output_type": "execute_result"
    }
   ],
   "source": [
    "llm.invoke(prompt)"
   ]
  },
  {
   "cell_type": "markdown",
   "id": "88ccde28-ce32-4d75-9fa0-1ba99a1a7e91",
   "metadata": {},
   "source": [
    "### ClickHouse"
   ]
  },
  {
   "cell_type": "code",
   "execution_count": 10,
   "id": "6bc2adef-8a4c-4fa9-83b3-4660741a3eb7",
   "metadata": {},
   "outputs": [],
   "source": [
    "CH_HOST = 'http://localhost:8123' # default address \n",
    "import requests\n",
    "import io\n",
    "\n",
    "def get_clickhouse_data(query, host = CH_HOST, connection_timeout = 1500):\n",
    "  r = requests.post(host, params = {'query': query}, \n",
    "    timeout = connection_timeout)\n",
    "  if r.status_code == 200:\n",
    "      return pd.read_csv(io.StringIO(r.text), sep = '\\t')\n",
    "  else: \n",
    "      return 'Database returned the following error:\\n' + r.text\n",
    "      # giving feedback to LLM instead of raising exception"
   ]
  },
  {
   "cell_type": "code",
   "execution_count": 11,
   "id": "62cef689-87b8-4bd0-8076-dd4fdc0c36d4",
   "metadata": {},
   "outputs": [
    {
     "data": {
      "text/html": [
       "<div>\n",
       "<style scoped>\n",
       "    .dataframe tbody tr th:only-of-type {\n",
       "        vertical-align: middle;\n",
       "    }\n",
       "\n",
       "    .dataframe tbody tr th {\n",
       "        vertical-align: top;\n",
       "    }\n",
       "\n",
       "    .dataframe thead th {\n",
       "        text-align: right;\n",
       "    }\n",
       "</style>\n",
       "<table border=\"1\" class=\"dataframe\">\n",
       "  <thead>\n",
       "    <tr style=\"text-align: right;\">\n",
       "      <th></th>\n",
       "      <th>name</th>\n",
       "    </tr>\n",
       "  </thead>\n",
       "  <tbody>\n",
       "    <tr>\n",
       "      <th>0</th>\n",
       "      <td>sessions</td>\n",
       "    </tr>\n",
       "    <tr>\n",
       "      <th>1</th>\n",
       "      <td>users</td>\n",
       "    </tr>\n",
       "  </tbody>\n",
       "</table>\n",
       "</div>"
      ],
      "text/plain": [
       "       name\n",
       "0  sessions\n",
       "1     users"
      ]
     },
     "execution_count": 11,
     "metadata": {},
     "output_type": "execute_result"
    }
   ],
   "source": [
    "get_clickhouse_data('show tables from ecommerce format TabSeparatedWithNames')"
   ]
  },
  {
   "cell_type": "code",
   "execution_count": 12,
   "id": "38e17d7c-910a-44e1-9ae3-efe5991f8ae9",
   "metadata": {},
   "outputs": [
    {
     "data": {
      "text/html": [
       "<div>\n",
       "<style scoped>\n",
       "    .dataframe tbody tr th:only-of-type {\n",
       "        vertical-align: middle;\n",
       "    }\n",
       "\n",
       "    .dataframe tbody tr th {\n",
       "        vertical-align: top;\n",
       "    }\n",
       "\n",
       "    .dataframe thead th {\n",
       "        text-align: right;\n",
       "    }\n",
       "</style>\n",
       "<table border=\"1\" class=\"dataframe\">\n",
       "  <thead>\n",
       "    <tr style=\"text-align: right;\">\n",
       "      <th></th>\n",
       "      <th>user_id</th>\n",
       "      <th>session_id</th>\n",
       "      <th>action_date</th>\n",
       "      <th>session_duration</th>\n",
       "      <th>os</th>\n",
       "      <th>browser</th>\n",
       "      <th>is_fraud</th>\n",
       "      <th>revenue</th>\n",
       "    </tr>\n",
       "  </thead>\n",
       "  <tbody>\n",
       "    <tr>\n",
       "      <th>0</th>\n",
       "      <td>1000001</td>\n",
       "      <td>1</td>\n",
       "      <td>2021-01-02</td>\n",
       "      <td>125</td>\n",
       "      <td>Windows</td>\n",
       "      <td>Chrome</td>\n",
       "      <td>0</td>\n",
       "      <td>0.0</td>\n",
       "    </tr>\n",
       "    <tr>\n",
       "      <th>1</th>\n",
       "      <td>1000001</td>\n",
       "      <td>2</td>\n",
       "      <td>2021-01-03</td>\n",
       "      <td>496</td>\n",
       "      <td>Windows</td>\n",
       "      <td>Chrome</td>\n",
       "      <td>0</td>\n",
       "      <td>1506.7</td>\n",
       "    </tr>\n",
       "    <tr>\n",
       "      <th>2</th>\n",
       "      <td>1000002</td>\n",
       "      <td>23</td>\n",
       "      <td>2021-01-03</td>\n",
       "      <td>651</td>\n",
       "      <td>Windows</td>\n",
       "      <td>Chrome</td>\n",
       "      <td>0</td>\n",
       "      <td>0.0</td>\n",
       "    </tr>\n",
       "    <tr>\n",
       "      <th>3</th>\n",
       "      <td>1000005</td>\n",
       "      <td>76</td>\n",
       "      <td>2021-01-04</td>\n",
       "      <td>372</td>\n",
       "      <td>Windows</td>\n",
       "      <td>Chrome</td>\n",
       "      <td>0</td>\n",
       "      <td>1428.5</td>\n",
       "    </tr>\n",
       "    <tr>\n",
       "      <th>4</th>\n",
       "      <td>1000007</td>\n",
       "      <td>106</td>\n",
       "      <td>2021-01-04</td>\n",
       "      <td>661</td>\n",
       "      <td>Windows</td>\n",
       "      <td>Chrome</td>\n",
       "      <td>0</td>\n",
       "      <td>6823.7</td>\n",
       "    </tr>\n",
       "  </tbody>\n",
       "</table>\n",
       "</div>"
      ],
      "text/plain": [
       "   user_id  session_id action_date  session_duration       os browser  \\\n",
       "0  1000001           1  2021-01-02               125  Windows  Chrome   \n",
       "1  1000001           2  2021-01-03               496  Windows  Chrome   \n",
       "2  1000002          23  2021-01-03               651  Windows  Chrome   \n",
       "3  1000005          76  2021-01-04               372  Windows  Chrome   \n",
       "4  1000007         106  2021-01-04               661  Windows  Chrome   \n",
       "\n",
       "   is_fraud  revenue  \n",
       "0         0      0.0  \n",
       "1         0   1506.7  \n",
       "2         0      0.0  \n",
       "3         0   1428.5  \n",
       "4         0   6823.7  "
      ]
     },
     "execution_count": 12,
     "metadata": {},
     "output_type": "execute_result"
    }
   ],
   "source": [
    "q = '''\n",
    "select * \n",
    "from ecommerce.sessions\n",
    "limit 5\n",
    "format TabSeparatedWithNames\n",
    "'''\n",
    "\n",
    "get_clickhouse_data(q)"
   ]
  },
  {
   "cell_type": "code",
   "execution_count": 13,
   "id": "8f57d5b6-da4e-4d78-8b95-b1387f867c32",
   "metadata": {},
   "outputs": [
    {
     "data": {
      "text/html": [
       "<div>\n",
       "<style scoped>\n",
       "    .dataframe tbody tr th:only-of-type {\n",
       "        vertical-align: middle;\n",
       "    }\n",
       "\n",
       "    .dataframe tbody tr th {\n",
       "        vertical-align: top;\n",
       "    }\n",
       "\n",
       "    .dataframe thead th {\n",
       "        text-align: right;\n",
       "    }\n",
       "</style>\n",
       "<table border=\"1\" class=\"dataframe\">\n",
       "  <thead>\n",
       "    <tr style=\"text-align: right;\">\n",
       "      <th></th>\n",
       "      <th>user_id</th>\n",
       "      <th>country</th>\n",
       "      <th>is_active</th>\n",
       "      <th>age</th>\n",
       "    </tr>\n",
       "  </thead>\n",
       "  <tbody>\n",
       "    <tr>\n",
       "      <th>0</th>\n",
       "      <td>1000001</td>\n",
       "      <td>Netherlands</td>\n",
       "      <td>1</td>\n",
       "      <td>47</td>\n",
       "    </tr>\n",
       "    <tr>\n",
       "      <th>1</th>\n",
       "      <td>1000002</td>\n",
       "      <td>United Kingdom</td>\n",
       "      <td>1</td>\n",
       "      <td>52</td>\n",
       "    </tr>\n",
       "    <tr>\n",
       "      <th>2</th>\n",
       "      <td>1000003</td>\n",
       "      <td>Netherlands</td>\n",
       "      <td>1</td>\n",
       "      <td>41</td>\n",
       "    </tr>\n",
       "    <tr>\n",
       "      <th>3</th>\n",
       "      <td>1000004</td>\n",
       "      <td>United Kingdom</td>\n",
       "      <td>1</td>\n",
       "      <td>72</td>\n",
       "    </tr>\n",
       "    <tr>\n",
       "      <th>4</th>\n",
       "      <td>1000005</td>\n",
       "      <td>Netherlands</td>\n",
       "      <td>1</td>\n",
       "      <td>63</td>\n",
       "    </tr>\n",
       "  </tbody>\n",
       "</table>\n",
       "</div>"
      ],
      "text/plain": [
       "   user_id         country  is_active  age\n",
       "0  1000001     Netherlands          1   47\n",
       "1  1000002  United Kingdom          1   52\n",
       "2  1000003     Netherlands          1   41\n",
       "3  1000004  United Kingdom          1   72\n",
       "4  1000005     Netherlands          1   63"
      ]
     },
     "execution_count": 13,
     "metadata": {},
     "output_type": "execute_result"
    }
   ],
   "source": [
    "q = '''\n",
    "select * \n",
    "from ecommerce.users\n",
    "limit 5\n",
    "format TabSeparatedWithNames\n",
    "'''\n",
    "\n",
    "get_clickhouse_data(q)"
   ]
  },
  {
   "cell_type": "code",
   "execution_count": 14,
   "id": "3a454253-49a7-4864-8f31-b7bdff22450c",
   "metadata": {},
   "outputs": [
    {
     "data": {
      "text/html": [
       "<div>\n",
       "<style scoped>\n",
       "    .dataframe tbody tr th:only-of-type {\n",
       "        vertical-align: middle;\n",
       "    }\n",
       "\n",
       "    .dataframe tbody tr th {\n",
       "        vertical-align: top;\n",
       "    }\n",
       "\n",
       "    .dataframe thead th {\n",
       "        text-align: right;\n",
       "    }\n",
       "</style>\n",
       "<table border=\"1\" class=\"dataframe\">\n",
       "  <thead>\n",
       "    <tr style=\"text-align: right;\">\n",
       "      <th></th>\n",
       "      <th>count()</th>\n",
       "    </tr>\n",
       "  </thead>\n",
       "  <tbody>\n",
       "    <tr>\n",
       "      <th>0</th>\n",
       "      <td>592800</td>\n",
       "    </tr>\n",
       "  </tbody>\n",
       "</table>\n",
       "</div>"
      ],
      "text/plain": [
       "   count()\n",
       "0   592800"
      ]
     },
     "execution_count": 14,
     "metadata": {},
     "output_type": "execute_result"
    }
   ],
   "source": [
    "q = '''\n",
    "select count(1) \n",
    "from ecommerce.users\n",
    "where is_active = 1\n",
    "format TabSeparatedWithNames\n",
    "'''\n",
    "\n",
    "get_clickhouse_data(q)"
   ]
  },
  {
   "cell_type": "markdown",
   "id": "701ece57-bfb3-4183-8b1b-8cde49ec47ed",
   "metadata": {},
   "source": [
    "### SQL agent - first version"
   ]
  },
  {
   "cell_type": "code",
   "execution_count": 15,
   "id": "78da8d2a-5242-4f04-8f03-77c9f207f76a",
   "metadata": {},
   "outputs": [],
   "source": [
    "generate_query_system_prompt = '''\n",
    "You are a senior data analyst with more than 10 years of experience writing complex SQL queries. \n",
    "There are two tables in the database you're working with with the following schemas. \n",
    "\n",
    "Table: ecommerce.users \n",
    "Description: customers of the online shop\n",
    "Fields: \n",
    "- user_id (integer) - unique identifier of customer, for example, 1000004 or 3000004\n",
    "- country (string) - country of residence, for example, \"Netherlands\" or \"United Kingdom\"\n",
    "- is_active (integer) - 1 if customer is still active and 0 otherwise\n",
    "- age (integer) - customer age in full years, for example, 31 or 72\n",
    "\n",
    "Table: ecommerce.sessions \n",
    "Description: sessions of usage the online shop\n",
    "Fields: \n",
    "- user_id (integer) - unique identifier of customer, for example, 1000004 or 3000004\n",
    "- session_id (integer) - unique identifier of session, for example, 106 or 1023\n",
    "- action_date (date) - session start date, for example, \"2021-01-03\" or \"2024-12-02\"\n",
    "- session_duration (integer) - duration of session in seconds, for example, 125 or 49\n",
    "- os (string) - operation system that customer used, for example, \"Windows\" or \"Android\"\n",
    "- browser (string) - browser that customer used, for example, \"Chrome\" or \"Safari\"\n",
    "- is_fraud (integer) - 1 if session is marked as fraud and 0 otherwise\n",
    "- revenue (float) - income in USD (the sum of purchased items), for example, 0.0 or 1506.7\n",
    "\n",
    "\n",
    "Write a query in ClickHouse SQL to answer the following question. \n",
    "Add \"format TabSeparatedWithNames\" at the end of the query to get data from ClickHouse database in the right format. \n",
    "Answer questions following the instructions and providing all the needed information and sharing your reasoning. \n",
    "'''"
   ]
  },
  {
   "cell_type": "code",
   "execution_count": 16,
   "id": "ced70d45-b98e-4a3f-aed6-3d9809939339",
   "metadata": {},
   "outputs": [],
   "source": [
    "prompt = get_llama_prompt('How many customers made purchase in December 2024?', generate_query_system_prompt)"
   ]
  },
  {
   "cell_type": "code",
   "execution_count": 17,
   "id": "e2c5a06b-417d-4c34-83ab-48e73463c01c",
   "metadata": {},
   "outputs": [
    {
     "name": "stdout",
     "output_type": "stream",
     "text": [
      "To answer this question, we need to find the number of unique users who had a session with a revenue greater than 0 in December 2024.\n",
      "\n",
      "Here is the query:\n",
      "\n",
      "```sql\n",
      "SELECT count(DISTINCT user_id) AS num_customers\n",
      "FROM ecommerce.sessions\n",
      "WHERE action_date >= '2024-12-01'\n",
      "  AND action_date < '2025-01-01'\n",
      "  AND revenue > 0;\n",
      "```\n",
      "\n",
      "When we run this query in ClickHouse, we add the \"format TabSeparatedWithNames\" at the end to get the data in the correct format:\n",
      "\n",
      "```sql\n",
      "SELECT count(DISTINCT user_id) AS num_customers\n",
      "FROM ecommerce.sessions\n",
      "WHERE action_date >= '2024-12-01'\n",
      "  AND action_date < '2025-01-01'\n",
      "  AND revenue > 0;\n",
      "format TabSeparatedWithNames;\n",
      "```\n",
      "\n",
      "This query will return the number of unique customers who made a purchase in December 2024.\n"
     ]
    }
   ],
   "source": [
    "print(llm.invoke(prompt))"
   ]
  },
  {
   "cell_type": "code",
   "execution_count": 18,
   "id": "69f76d71-7a25-4df0-91bf-347d3aa96379",
   "metadata": {},
   "outputs": [],
   "source": [
    "# https://python.langchain.com/docs/integrations/chat/ollama/"
   ]
  },
  {
   "cell_type": "code",
   "execution_count": 19,
   "id": "8bbda96b-5046-43eb-9684-76be10440ac4",
   "metadata": {},
   "outputs": [],
   "source": [
    "from langchain_ollama import OllamaLLM, ChatOllama"
   ]
  },
  {
   "cell_type": "code",
   "execution_count": 20,
   "id": "01cc82eb-11e3-417d-9cff-1e56d6a0cdb8",
   "metadata": {},
   "outputs": [],
   "source": [
    "from langchain_core.tools import tool\n",
    "\n",
    "@tool\n",
    "def execute_query(comments: str, query: str) -> str:\n",
    "    \"\"\"Excutes SQL query.\n",
    "\n",
    "    Args:\n",
    "        comments (str): 1-2 sentences describing the result SQL query and what it does to answer the question,\n",
    "        query (str): SQL query\n",
    "    \"\"\"\n",
    "    pass"
   ]
  },
  {
   "cell_type": "code",
   "execution_count": 21,
   "id": "9cfd76c0-95cb-4817-a2f5-23dd33e95b13",
   "metadata": {},
   "outputs": [],
   "source": [
    "chat_llm = ChatOllama(model=\"llama3.1:8b\").bind_tools([execute_query])"
   ]
  },
  {
   "cell_type": "code",
   "execution_count": 22,
   "id": "d32659ea-c404-4c45-9fe0-8684996ac64f",
   "metadata": {},
   "outputs": [],
   "source": [
    "generate_query_system_prompt = '''\n",
    "You are a senior data analyst with more than 10 years of experience writing complex SQL queries. \n",
    "There are two tables in the database you're working with with the following schemas. \n",
    "\n",
    "Table: ecommerce.users \n",
    "Description: customers of the online shop\n",
    "Fields: \n",
    "- user_id (integer) - unique identifier of customer, for example, 1000004 or 3000004\n",
    "- country (string) - country of residence, for example, \"Netherlands\" or \"United Kingdom\"\n",
    "- is_active (integer) - 1 if customer is still active and 0 otherwise\n",
    "- age (integer) - customer age in full years, for example, 31 or 72\n",
    "\n",
    "Table: ecommerce.sessions \n",
    "Description: sessions of usage the online shop\n",
    "Fields: \n",
    "- user_id (integer) - unique identifier of customer, for example, 1000004 or 3000004\n",
    "- session_id (integer) - unique identifier of session, for example, 106 or 1023\n",
    "- action_date (date) - session start date, for example, \"2021-01-03\" or \"2024-12-02\"\n",
    "- session_duration (integer) - duration of session in seconds, for example, 125 or 49\n",
    "- os (string) - operation system that customer used, for example, \"Windows\" or \"Android\"\n",
    "- browser (string) - browser that customer used, for example, \"Chrome\" or \"Safari\"\n",
    "- is_fraud (integer) - 1 if session is marked as fraud and 0 otherwise\n",
    "- revenue (float) - income in USD (the sum of purchased items), for example, 0.0 or 1506.7\n",
    "\n",
    "\n",
    "Write a query in ClickHouse SQL to answer the following question. \n",
    "Add \"format TabSeparatedWithNames\" at the end of the query to get data from ClickHouse database in the right format. \n",
    "Follow the provided instructions and always use tool to execute query.\n",
    "'''"
   ]
  },
  {
   "cell_type": "code",
   "execution_count": 23,
   "id": "4fa3c531-3eb9-4cfc-baeb-709dd331cfe7",
   "metadata": {},
   "outputs": [],
   "source": [
    "prompt = get_llama_prompt('Which country had the highest number of first-time users in 2024?', generate_query_system_prompt)"
   ]
  },
  {
   "cell_type": "code",
   "execution_count": 24,
   "id": "9b3ed28a-d717-415e-a849-eb7c8c40e157",
   "metadata": {},
   "outputs": [],
   "source": [
    "result = chat_llm.invoke(prompt)"
   ]
  },
  {
   "cell_type": "code",
   "execution_count": 25,
   "id": "ad24a5e5-1f17-4868-a1c9-e6c5de9f398c",
   "metadata": {},
   "outputs": [
    {
     "data": {
      "text/plain": [
       "[{'name': 'execute_query',\n",
       "  'args': {'comments': 'Query to find the country with the highest number of first-time users in 2024.',\n",
       "   'query': 'SELECT T1.country FROM ecommerce.users AS T1 JOIN ecommerce.sessions AS T2 ON T1.user_id = T2.user_id WHERE T1.is_active = 1 AND YEAR(T2.action_date) = 2024 AND T2.session_id NOT IN (SELECT session_id FROM ecommerce.sessions GROUP BY user_id HAVING COUNT(session_id) > 1) GROUP BY T1.country ORDER BY COUNT(*) DESC LIMIT 1'},\n",
       "  'id': '1c5000ec-78cb-4408-ac3a-dedcd6bf9457',\n",
       "  'type': 'tool_call'}]"
      ]
     },
     "execution_count": 25,
     "metadata": {},
     "output_type": "execute_result"
    }
   ],
   "source": [
    "result.tool_calls"
   ]
  },
  {
   "cell_type": "code",
   "execution_count": 26,
   "id": "4a00e7e2-b77e-47f5-90c2-a05c75faeaae",
   "metadata": {},
   "outputs": [
    {
     "data": {
      "text/plain": [
       "'SELECT T1.country FROM ecommerce.users AS T1 JOIN ecommerce.sessions AS T2 ON T1.user_id = T2.user_id WHERE T1.is_active = 1 AND YEAR(T2.action_date) = 2024 AND T2.session_id NOT IN (SELECT session_id FROM ecommerce.sessions GROUP BY user_id HAVING COUNT(session_id) > 1) GROUP BY T1.country ORDER BY COUNT(*) DESC LIMIT 1'"
      ]
     },
     "execution_count": 26,
     "metadata": {},
     "output_type": "execute_result"
    }
   ],
   "source": [
    "result.tool_calls[0]['args']['query']"
   ]
  },
  {
   "cell_type": "markdown",
   "id": "ab5cf420-1c13-474d-92b2-4e33d8c2a09d",
   "metadata": {},
   "source": [
    "### Evaluating quality"
   ]
  },
  {
   "cell_type": "code",
   "execution_count": 49,
   "id": "3fd31fe7-1d99-4e50-84d4-aa1e8f25c50c",
   "metadata": {},
   "outputs": [],
   "source": [
    "golden_set = [\n",
    "    {\n",
    "        \"question\": \"How many customers made purchase in December 2024?\",\n",
    "        \"sql_query\": \"select uniqExact(user_id) as customers from ecommerce.sessions where (toStartOfMonth(action_date) = '2024-12-01') and (revenue > 0) format TabSeparatedWithNames\" \n",
    "    },\n",
    "    {\n",
    "        \"question\": \"What was the fraud rate in 2023, expressed as a percentage?\",\n",
    "        \"sql_query\": \"select 100*uniqExactIf(user_id, is_fraud = 1)/uniqExact(user_id) as fraud_rate from ecommerce.sessions where (toStartOfYear(action_date) = '2023-01-01') format TabSeparatedWithNames\"\n",
    "    },\n",
    "    {\n",
    "        \"question\": \"What was the share of users using Windows yesterday?\",\n",
    "        \"sql_query\": \"select 100*uniqExactIf(user_id, os = 'Windows')/uniqExact(user_id) as windows_share from ecommerce.sessions where (action_date = today() - 1) format TabSeparatedWithNames\"\n",
    "    },\n",
    "    {\n",
    "        \"question\": \"What was the revenue from Dutch users aged 55 and older in December 2024\",\n",
    "        \"sql_query\": \"select sum(s.revenue) from ecommerce.sessions AS s inner join ecommerce.users AS u on s.user_id = u.user_id where (u.country = 'Netherlands') AND (u.age >= 55) and (toStartOfMonth(action_date) = '2024-12-01') format TabSeparatedWithNames\"\n",
    "    },\n",
    "    {\n",
    "        \"question\": \"What are the median and interquartile range (IQR) of purchase revenue for each country?\",\n",
    "        \"sql_query\": \"select country, median(revenue) as median_revenue, quantile(0.25)(revenue) as percentile_25_revenue, quantile(0.75)(revenue) as percentile_75_revenue from ecommerce.sessions AS s inner join ecommerce.users AS u on u.user_id = s.user_id where (revenue > 0) group by country format TabSeparatedWithNames\"\n",
    "    },\n",
    "    {\n",
    "        \"question\": \"What is the average number of days between the first session and the first purchase for users who made at least one purchase?\", \n",
    "        \"sql_query\": \"select avg(first_purchase - first_action_date) as avg_days_to_purchase from (select user_id, min(action_date) as first_action_date, minIf(action_date, revenue > 0) as first_purchase, max(revenue) as max_revenue from ecommerce.sessions group by user_id) where max_revenue > 0 format TabSeparatedWithNames\"\n",
    "    },\n",
    "    {\n",
    "        \"question\": \"What is the number of sessions in December 2024, broken down by operating systems, including the totals?\",\n",
    "        \"sql_query\": \"SELECT os, uniqExact(session_id) as total FROM ecommerce.sessions WHERE toStartOfMonth(action_date) = '2024-12-01' GROUP BY os with totals format TabSeparatedWithNames\"\n",
    "    },\n",
    "    {\n",
    "        \"question\": \"Do we have customers who used multiple operating browsers during 2024? If so, please calculate the number of customers for each combination of browsers.\",\n",
    "        \"sql_query\": \"select browsers, count(1) as users from (select user_id, arrayStringConcat(arraySort(groupArray(distinct browser)), ', ') as browsers from ecommerce.sessions where (toStartOfYear(action_date) = '2024-01-01') group by user_id) group by browsers order by users desc format TabSeparatedWithNames\"\n",
    "    },\n",
    "    {\n",
    "        \"question\": \"Which browser has the highest share of fraud users?\",\n",
    "        \"sql_query\": \"select browser, 100*uniqExactIf(user_id, is_fraud = 1)/uniqExact(user_id) as fraud_rate from ecommerce.sessions group by browser order by fraud_rate desc limit 1 format TabSeparatedWithNames\"\n",
    "    },\n",
    "    {\n",
    "        \"question\": \"Which country had the highest number of first-time users in 2024?\",\n",
    "        \"sql_query\": \"select country, count(distinct user_id) as users from (select user_id, min(action_date) as first_date from ecommerce.sessions group by user_id having toStartOfYear(first_date) = '2024-01-01') as t inner join ecommerce.users as u on t.user_id = u.user_id group by country order by users desc limit 1 format TabSeparatedWithNames\"\n",
    "    }\n",
    "]"
   ]
  },
  {
   "cell_type": "code",
   "execution_count": 458,
   "id": "6d92eb03-c0cc-4415-a0bd-18a84d66d70e",
   "metadata": {},
   "outputs": [],
   "source": [
    "with open('golden_set.json', 'r') as f:\n",
    "    golden_set = json.loads(f.read())"
   ]
  },
  {
   "cell_type": "code",
   "execution_count": 51,
   "id": "7a4ceb7c-fdd5-4d55-bcf1-4dd5886a5e4d",
   "metadata": {},
   "outputs": [],
   "source": [
    "generate_query_system_prompt = '''\n",
    "You are a senior data analyst with more than 10 years of experience writing complex SQL queries. \n",
    "There are two tables in the database you're working with with the following schemas. \n",
    "\n",
    "Table: ecommerce.users \n",
    "Description: customers of the online shop\n",
    "Fields: \n",
    "- user_id (integer) - unique identifier of customer, for example, 1000004 or 3000004\n",
    "- country (string) - country of residence, for example, \"Netherlands\" or \"United Kingdom\"\n",
    "- is_active (integer) - 1 if customer is still active and 0 otherwise\n",
    "- age (integer) - customer age in full years, for example, 31 or 72\n",
    "\n",
    "Table: ecommerce.sessions \n",
    "Description: sessions of usage the online shop\n",
    "Fields: \n",
    "- user_id (integer) - unique identifier of customer, for example, 1000004 or 3000004\n",
    "- session_id (integer) - unique identifier of session, for example, 106 or 1023\n",
    "- action_date (date) - session start date, for example, \"2021-01-03\" or \"2024-12-02\"\n",
    "- session_duration (integer) - duration of session in seconds, for example, 125 or 49\n",
    "- os (string) - operation system that customer used, for example, \"Windows\" or \"Android\"\n",
    "- browser (string) - browser that customer used, for example, \"Chrome\" or \"Safari\"\n",
    "- is_fraud (integer) - 1 if session is marked as fraud and 0 otherwise\n",
    "- revenue (float) - income in USD (the sum of purchased items), for example, 0.0 or 1506.7\n",
    "\n",
    "\n",
    "Write a query in ClickHouse SQL to answer the following question. \n",
    "Add \"format TabSeparatedWithNames\" at the end of each query to get data from ClickHouse database in the right format. \n",
    "Follow the provided instructions and always use tool to execute query.\n",
    "'''"
   ]
  },
  {
   "cell_type": "code",
   "execution_count": 52,
   "id": "f21edf23-3c77-4d81-b3d8-41d27044e7bf",
   "metadata": {},
   "outputs": [],
   "source": [
    "golden_df = pd.DataFrame(golden_set) \n",
    "golden_df['id'] = list(range(golden_df.shape[0]))"
   ]
  },
  {
   "cell_type": "code",
   "execution_count": 53,
   "id": "490d7ad0-2d40-4e88-bb37-98bb48f2e2bb",
   "metadata": {},
   "outputs": [],
   "source": [
    "pd.set_option('display.max_colwidth', 5000)"
   ]
  },
  {
   "cell_type": "code",
   "execution_count": 54,
   "id": "70ff62fc-6b87-42b2-8ba4-dfab1e361cc7",
   "metadata": {},
   "outputs": [
    {
     "data": {
      "text/html": [
       "<div>\n",
       "<style scoped>\n",
       "    .dataframe tbody tr th:only-of-type {\n",
       "        vertical-align: middle;\n",
       "    }\n",
       "\n",
       "    .dataframe tbody tr th {\n",
       "        vertical-align: top;\n",
       "    }\n",
       "\n",
       "    .dataframe thead th {\n",
       "        text-align: right;\n",
       "    }\n",
       "</style>\n",
       "<table border=\"1\" class=\"dataframe\">\n",
       "  <thead>\n",
       "    <tr style=\"text-align: right;\">\n",
       "      <th></th>\n",
       "      <th>question</th>\n",
       "      <th>sql_query</th>\n",
       "      <th>id</th>\n",
       "    </tr>\n",
       "  </thead>\n",
       "  <tbody>\n",
       "    <tr>\n",
       "      <th>0</th>\n",
       "      <td>How many customers made purchase in December 2024?</td>\n",
       "      <td>select uniqExact(user_id) as customers from ecommerce.sessions where (toStartOfMonth(action_date) = '2024-12-01') and (revenue &gt; 0) format TabSeparatedWithNames</td>\n",
       "      <td>0</td>\n",
       "    </tr>\n",
       "    <tr>\n",
       "      <th>1</th>\n",
       "      <td>What was the fraud rate in 2023, expressed as a percentage?</td>\n",
       "      <td>select 100*uniqExactIf(user_id, is_fraud = 1)/uniqExact(user_id) as fraud_rate from ecommerce.sessions where (toStartOfYear(action_date) = '2023-01-01') format TabSeparatedWithNames</td>\n",
       "      <td>1</td>\n",
       "    </tr>\n",
       "    <tr>\n",
       "      <th>2</th>\n",
       "      <td>What was the share of users using Windows yesterday?</td>\n",
       "      <td>select 100*uniqExactIf(user_id, os = 'Windows')/uniqExact(user_id) as windows_share from ecommerce.sessions where (action_date = today() - 1) format TabSeparatedWithNames</td>\n",
       "      <td>2</td>\n",
       "    </tr>\n",
       "    <tr>\n",
       "      <th>3</th>\n",
       "      <td>What was the revenue from Dutch users aged 55 and older in December 2024</td>\n",
       "      <td>select sum(s.revenue) from ecommerce.sessions AS s inner join ecommerce.users AS u on s.user_id = u.user_id where (u.country = 'Netherlands') AND (u.age &gt;= 55) and (toStartOfMonth(action_date) = '2024-12-01') format TabSeparatedWithNames</td>\n",
       "      <td>3</td>\n",
       "    </tr>\n",
       "    <tr>\n",
       "      <th>4</th>\n",
       "      <td>What are the median and interquartile range (IQR) of purchase revenue for each country?</td>\n",
       "      <td>select country, median(revenue) as median_revenue, quantile(0.25)(revenue) as percentile_25_revenue, quantile(0.75)(revenue) as percentile_75_revenue from ecommerce.sessions AS s inner join ecommerce.users AS u on u.user_id = s.user_id where (revenue &gt; 0) group by country format TabSeparatedWithNames</td>\n",
       "      <td>4</td>\n",
       "    </tr>\n",
       "    <tr>\n",
       "      <th>5</th>\n",
       "      <td>What is the average number of days between the first session and the first purchase for users who made at least one purchase?</td>\n",
       "      <td>select avg(first_purchase - first_action_date) as avg_days_to_purchase from (select user_id, min(action_date) as first_action_date, minIf(action_date, revenue &gt; 0) as first_purchase, max(revenue) as max_revenue from ecommerce.sessions group by user_id) where max_revenue &gt; 0 format TabSeparatedWithNames</td>\n",
       "      <td>5</td>\n",
       "    </tr>\n",
       "    <tr>\n",
       "      <th>6</th>\n",
       "      <td>What is the number of sessions in December 2024, broken down by operating systems, including the totals?</td>\n",
       "      <td>SELECT os, uniqExact(session_id) as total FROM ecommerce.sessions WHERE toStartOfMonth(action_date) = '2024-12-01' GROUP BY os with totals format TabSeparatedWithNames</td>\n",
       "      <td>6</td>\n",
       "    </tr>\n",
       "    <tr>\n",
       "      <th>7</th>\n",
       "      <td>Do we have customers who used multiple operating browsers during 2024? If so, please calculate the number of customers for each combination of browsers.</td>\n",
       "      <td>select browsers, count(1) as users from (select user_id, arrayStringConcat(arraySort(groupArray(distinct browser)), ', ') as browsers from ecommerce.sessions where (toStartOfYear(action_date) = '2024-01-01') group by user_id) group by browsers order by users desc format TabSeparatedWithNames</td>\n",
       "      <td>7</td>\n",
       "    </tr>\n",
       "    <tr>\n",
       "      <th>8</th>\n",
       "      <td>Which browser has the highest share of fraud users?</td>\n",
       "      <td>select browser, 100*uniqExactIf(user_id, is_fraud = 1)/uniqExact(user_id) as fraud_rate from ecommerce.sessions group by browser order by fraud_rate desc limit 1 format TabSeparatedWithNames</td>\n",
       "      <td>8</td>\n",
       "    </tr>\n",
       "    <tr>\n",
       "      <th>9</th>\n",
       "      <td>Which country had the highest number of first-time users in 2024?</td>\n",
       "      <td>select country, count(distinct user_id) as users from (select user_id, min(action_date) as first_date from ecommerce.sessions group by user_id having toStartOfYear(first_date) = '2024-01-01') as t inner join ecommerce.users as u on t.user_id = u.user_id group by country order by users desc limit 1 format TabSeparatedWithNames</td>\n",
       "      <td>9</td>\n",
       "    </tr>\n",
       "  </tbody>\n",
       "</table>\n",
       "</div>"
      ],
      "text/plain": [
       "                                                                                                                                                   question  \\\n",
       "0                                                                                                        How many customers made purchase in December 2024?   \n",
       "1                                                                                               What was the fraud rate in 2023, expressed as a percentage?   \n",
       "2                                                                                                      What was the share of users using Windows yesterday?   \n",
       "3                                                                                  What was the revenue from Dutch users aged 55 and older in December 2024   \n",
       "4                                                                   What are the median and interquartile range (IQR) of purchase revenue for each country?   \n",
       "5                             What is the average number of days between the first session and the first purchase for users who made at least one purchase?   \n",
       "6                                                  What is the number of sessions in December 2024, broken down by operating systems, including the totals?   \n",
       "7  Do we have customers who used multiple operating browsers during 2024? If so, please calculate the number of customers for each combination of browsers.   \n",
       "8                                                                                                       Which browser has the highest share of fraud users?   \n",
       "9                                                                                         Which country had the highest number of first-time users in 2024?   \n",
       "\n",
       "                                                                                                                                                                                                                                                                                                                                 sql_query  \\\n",
       "0                                                                                                                                                                         select uniqExact(user_id) as customers from ecommerce.sessions where (toStartOfMonth(action_date) = '2024-12-01') and (revenue > 0) format TabSeparatedWithNames   \n",
       "1                                                                                                                                                    select 100*uniqExactIf(user_id, is_fraud = 1)/uniqExact(user_id) as fraud_rate from ecommerce.sessions where (toStartOfYear(action_date) = '2023-01-01') format TabSeparatedWithNames   \n",
       "2                                                                                                                                                               select 100*uniqExactIf(user_id, os = 'Windows')/uniqExact(user_id) as windows_share from ecommerce.sessions where (action_date = today() - 1) format TabSeparatedWithNames   \n",
       "3                                                                                            select sum(s.revenue) from ecommerce.sessions AS s inner join ecommerce.users AS u on s.user_id = u.user_id where (u.country = 'Netherlands') AND (u.age >= 55) and (toStartOfMonth(action_date) = '2024-12-01') format TabSeparatedWithNames   \n",
       "4                            select country, median(revenue) as median_revenue, quantile(0.25)(revenue) as percentile_25_revenue, quantile(0.75)(revenue) as percentile_75_revenue from ecommerce.sessions AS s inner join ecommerce.users AS u on u.user_id = s.user_id where (revenue > 0) group by country format TabSeparatedWithNames   \n",
       "5                          select avg(first_purchase - first_action_date) as avg_days_to_purchase from (select user_id, min(action_date) as first_action_date, minIf(action_date, revenue > 0) as first_purchase, max(revenue) as max_revenue from ecommerce.sessions group by user_id) where max_revenue > 0 format TabSeparatedWithNames   \n",
       "6                                                                                                                                                                  SELECT os, uniqExact(session_id) as total FROM ecommerce.sessions WHERE toStartOfMonth(action_date) = '2024-12-01' GROUP BY os with totals format TabSeparatedWithNames   \n",
       "7                                     select browsers, count(1) as users from (select user_id, arrayStringConcat(arraySort(groupArray(distinct browser)), ', ') as browsers from ecommerce.sessions where (toStartOfYear(action_date) = '2024-01-01') group by user_id) group by browsers order by users desc format TabSeparatedWithNames   \n",
       "8                                                                                                                                           select browser, 100*uniqExactIf(user_id, is_fraud = 1)/uniqExact(user_id) as fraud_rate from ecommerce.sessions group by browser order by fraud_rate desc limit 1 format TabSeparatedWithNames   \n",
       "9  select country, count(distinct user_id) as users from (select user_id, min(action_date) as first_date from ecommerce.sessions group by user_id having toStartOfYear(first_date) = '2024-01-01') as t inner join ecommerce.users as u on t.user_id = u.user_id group by country order by users desc limit 1 format TabSeparatedWithNames   \n",
       "\n",
       "   id  \n",
       "0   0  \n",
       "1   1  \n",
       "2   2  \n",
       "3   3  \n",
       "4   4  \n",
       "5   5  \n",
       "6   6  \n",
       "7   7  \n",
       "8   8  \n",
       "9   9  "
      ]
     },
     "execution_count": 54,
     "metadata": {},
     "output_type": "execute_result"
    }
   ],
   "source": [
    "golden_df"
   ]
  },
  {
   "cell_type": "code",
   "execution_count": 55,
   "id": "d6101e6c-5049-45f8-9d32-f8187c615c5b",
   "metadata": {},
   "outputs": [],
   "source": [
    "CH_HOST = 'http://localhost:8123' # default address \n",
    "import requests\n",
    "import io\n",
    "\n",
    "def get_clickhouse_data(query, host = CH_HOST, connection_timeout = 1500):\n",
    "    # pushing model to return data in the format that we want\n",
    "    if not 'format tabseparatedwithnames' in query.lower():\n",
    "        return \"Database returned the following error:\\n Please, specify the output format, for example, 'select .... format TabSeparatedWithNames'.\"\n",
    "      \n",
    "    r = requests.post(host, params = {'query': query}, \n",
    "        timeout = connection_timeout)\n",
    "    if r.status_code == 200:\n",
    "        return r.text\n",
    "    else: \n",
    "        return 'Database returned the following error:\\n' + r.text\n",
    "        # giving feedback to LLM instead of raising exception"
   ]
  },
  {
   "cell_type": "code",
   "execution_count": 56,
   "id": "5ccb9e0e-8332-4ef6-9da3-ff96ec94b9b8",
   "metadata": {},
   "outputs": [],
   "source": [
    "def generate_query(question):\n",
    "    prompt = get_llama_prompt(question, generate_query_system_prompt)\n",
    "    result = chat_llm.invoke(prompt)\n",
    "    try:\n",
    "        generated_query = result.tool_calls[0]['args']['query']\n",
    "    except:\n",
    "        generated_query = ''\n",
    "    return generated_query"
   ]
  },
  {
   "cell_type": "code",
   "execution_count": 57,
   "id": "17bbc5dc-ac47-47b7-98d2-16855ae94a58",
   "metadata": {},
   "outputs": [
    {
     "name": "stderr",
     "output_type": "stream",
     "text": [
      "100%|███████████████████████████████████████████████████████████████████████████████████████████████████████████████████████████████████████████████████████████████████████████| 10/10 [02:45<00:00, 16.57s/it]\n"
     ]
    }
   ],
   "source": [
    "tmp = []\n",
    "import tqdm\n",
    "\n",
    "for rec in tqdm.tqdm(golden_df.to_dict('records')):\n",
    "    generated_query = generate_query(rec['question'])\n",
    "    tmp.append(\n",
    "        {\n",
    "            'id': rec['id'],\n",
    "            'generated_query': generated_query\n",
    "        }\n",
    "    )"
   ]
  },
  {
   "cell_type": "code",
   "execution_count": 58,
   "id": "565b242d-1c86-405d-9fe4-76a0c9013b9e",
   "metadata": {},
   "outputs": [],
   "source": [
    "eval_df = golden_df.merge(pd.DataFrame(tmp))"
   ]
  },
  {
   "cell_type": "code",
   "execution_count": 59,
   "id": "8d700ea8-4e6b-41a9-9b87-dd5ca2b8a5ce",
   "metadata": {},
   "outputs": [],
   "source": [
    "# pd.set_option('display.max_colwidth', 5000)"
   ]
  },
  {
   "cell_type": "code",
   "execution_count": 60,
   "id": "16c85715-bd46-4775-849e-ee01047d3e90",
   "metadata": {},
   "outputs": [
    {
     "data": {
      "text/html": [
       "<div>\n",
       "<style scoped>\n",
       "    .dataframe tbody tr th:only-of-type {\n",
       "        vertical-align: middle;\n",
       "    }\n",
       "\n",
       "    .dataframe tbody tr th {\n",
       "        vertical-align: top;\n",
       "    }\n",
       "\n",
       "    .dataframe thead th {\n",
       "        text-align: right;\n",
       "    }\n",
       "</style>\n",
       "<table border=\"1\" class=\"dataframe\">\n",
       "  <thead>\n",
       "    <tr style=\"text-align: right;\">\n",
       "      <th></th>\n",
       "      <th>question</th>\n",
       "      <th>sql_query</th>\n",
       "      <th>id</th>\n",
       "      <th>generated_query</th>\n",
       "    </tr>\n",
       "  </thead>\n",
       "  <tbody>\n",
       "    <tr>\n",
       "      <th>0</th>\n",
       "      <td>How many customers made purchase in December 2024?</td>\n",
       "      <td>select uniqExact(user_id) as customers from ecommerce.sessions where (toStartOfMonth(action_date) = '2024-12-01') and (revenue &gt; 0) format TabSeparatedWithNames</td>\n",
       "      <td>0</td>\n",
       "      <td>SELECT COUNT(DISTINCT user_id) FROM ecommerce.sessions WHERE EXTRACT(MONTH, action_date) = 12 AND EXTRACT(YEAR, action_date) = 2024</td>\n",
       "    </tr>\n",
       "    <tr>\n",
       "      <th>1</th>\n",
       "      <td>What was the fraud rate in 2023, expressed as a percentage?</td>\n",
       "      <td>select 100*uniqExactIf(user_id, is_fraud = 1)/uniqExact(user_id) as fraud_rate from ecommerce.sessions where (toStartOfYear(action_date) = '2023-01-01') format TabSeparatedWithNames</td>\n",
       "      <td>1</td>\n",
       "      <td>SELECT SUM(CASE WHEN is_fraud = 1 THEN 1 ELSE 0 END) as fraud_count, SUM(1) as total_sessions FROM ecommerce.sessions WHERE YEAR(action_date) = 2023 GROUP BY MONTH(action_date)</td>\n",
       "    </tr>\n",
       "    <tr>\n",
       "      <th>2</th>\n",
       "      <td>What was the share of users using Windows yesterday?</td>\n",
       "      <td>select 100*uniqExactIf(user_id, os = 'Windows')/uniqExact(user_id) as windows_share from ecommerce.sessions where (action_date = today() - 1) format TabSeparatedWithNames</td>\n",
       "      <td>2</td>\n",
       "      <td>SELECT SUM(CASE WHEN T1.os = 'Windows' THEN 1 ELSE 0 END) / COUNT(*) * 100 as windows_share FROM sessions AS T1 INNER JOIN ecommerce.users AS T2 ON T1.user_id = T2.user_id WHERE T1.action_date = TODAY() - INTERVAL 1 DAY</td>\n",
       "    </tr>\n",
       "    <tr>\n",
       "      <th>3</th>\n",
       "      <td>What was the revenue from Dutch users aged 55 and older in December 2024</td>\n",
       "      <td>select sum(s.revenue) from ecommerce.sessions AS s inner join ecommerce.users AS u on s.user_id = u.user_id where (u.country = 'Netherlands') AND (u.age &gt;= 55) and (toStartOfMonth(action_date) = '2024-12-01') format TabSeparatedWithNames</td>\n",
       "      <td>3</td>\n",
       "      <td>SELECT SUM(T1.revenue) FROM ecommerce.sessions AS T1 INNER JOIN ecommerce.users AS T2 ON T1.user_id = T2.user_id WHERE T2.country = 'Netherlands' AND T2.age &gt;= 55 AND SUBSTR(T1.action_date, 1, 7) = '2024-12'</td>\n",
       "    </tr>\n",
       "    <tr>\n",
       "      <th>4</th>\n",
       "      <td>What are the median and interquartile range (IQR) of purchase revenue for each country?</td>\n",
       "      <td>select country, median(revenue) as median_revenue, quantile(0.25)(revenue) as percentile_25_revenue, quantile(0.75)(revenue) as percentile_75_revenue from ecommerce.sessions AS s inner join ecommerce.users AS u on u.user_id = s.user_id where (revenue &gt; 0) group by country format TabSeparatedWithNames</td>\n",
       "      <td>4</td>\n",
       "      <td>SELECT median(revenue), percentile(revenue, 0.25) - percentile(revenue, 0.75) AS iqr, country FROM ecommerce.sessions GROUP BY country</td>\n",
       "    </tr>\n",
       "    <tr>\n",
       "      <th>5</th>\n",
       "      <td>What is the average number of days between the first session and the first purchase for users who made at least one purchase?</td>\n",
       "      <td>select avg(first_purchase - first_action_date) as avg_days_to_purchase from (select user_id, min(action_date) as first_action_date, minIf(action_date, revenue &gt; 0) as first_purchase, max(revenue) as max_revenue from ecommerce.sessions group by user_id) where max_revenue &gt; 0 format TabSeparatedWithNames</td>\n",
       "      <td>5</td>\n",
       "      <td>SELECT AVG(DATEDIFF(purchase_date, first_session_date)) FROM ( SELECT user_id, MIN(action_date) AS first_session_date, MIN(purchase_date) AS first_purchase_date FROM ecommerce.sessions WHERE revenue &gt; 0 GROUP BY user_id ) T</td>\n",
       "    </tr>\n",
       "    <tr>\n",
       "      <th>6</th>\n",
       "      <td>What is the number of sessions in December 2024, broken down by operating systems, including the totals?</td>\n",
       "      <td>SELECT os, uniqExact(session_id) as total FROM ecommerce.sessions WHERE toStartOfMonth(action_date) = '2024-12-01' GROUP BY os with totals format TabSeparatedWithNames</td>\n",
       "      <td>6</td>\n",
       "      <td>SELECT os, COUNT(*) as total FROM ecommerce.sessions WHERE STR_TO_DATE(action_date, '%Y-%m') = '2024-12' GROUP BY os</td>\n",
       "    </tr>\n",
       "    <tr>\n",
       "      <th>7</th>\n",
       "      <td>Do we have customers who used multiple operating browsers during 2024? If so, please calculate the number of customers for each combination of browsers.</td>\n",
       "      <td>select browsers, count(1) as users from (select user_id, arrayStringConcat(arraySort(groupArray(distinct browser)), ', ') as browsers from ecommerce.sessions where (toStartOfYear(action_date) = '2024-01-01') group by user_id) group by browsers order by users desc format TabSeparatedWithNames</td>\n",
       "      <td>7</td>\n",
       "      <td>SELECT browser, browser, COUNT(DISTINCT user_id) AS count FROM ecommerce.sessions WHERE YEAR(action_date) = 2024 GROUP BY browser, browser</td>\n",
       "    </tr>\n",
       "    <tr>\n",
       "      <th>8</th>\n",
       "      <td>Which browser has the highest share of fraud users?</td>\n",
       "      <td>select browser, 100*uniqExactIf(user_id, is_fraud = 1)/uniqExact(user_id) as fraud_rate from ecommerce.sessions group by browser order by fraud_rate desc limit 1 format TabSeparatedWithNames</td>\n",
       "      <td>8</td>\n",
       "      <td>SELECT browser, SUM(is_fraud) as fraud_count, COUNT(user_id) as total_sessions FROM ecommerce.sessions GROUP BY browser ORDER BY fraud_count / total_sessions DESC LIMIT 1</td>\n",
       "    </tr>\n",
       "    <tr>\n",
       "      <th>9</th>\n",
       "      <td>Which country had the highest number of first-time users in 2024?</td>\n",
       "      <td>select country, count(distinct user_id) as users from (select user_id, min(action_date) as first_date from ecommerce.sessions group by user_id having toStartOfYear(first_date) = '2024-01-01') as t inner join ecommerce.users as u on t.user_id = u.user_id group by country order by users desc limit 1 format TabSeparatedWithNames</td>\n",
       "      <td>9</td>\n",
       "      <td>SELECT t2.country, COUNT(*) as num_first_time_users FROM ( SELECT user_id FROM ecommerce.sessions WHERE action_date = '2024' GROUP BY user_id EXCEPT SELECT user_id FROM ecommerce.users ) t1 JOIN ecommerce.users t2 ON t1.user_id  = t2.user_id GROUP BY t2.country ORDER BY num_first_time_users DESC</td>\n",
       "    </tr>\n",
       "  </tbody>\n",
       "</table>\n",
       "</div>"
      ],
      "text/plain": [
       "                                                                                                                                                   question  \\\n",
       "0                                                                                                        How many customers made purchase in December 2024?   \n",
       "1                                                                                               What was the fraud rate in 2023, expressed as a percentage?   \n",
       "2                                                                                                      What was the share of users using Windows yesterday?   \n",
       "3                                                                                  What was the revenue from Dutch users aged 55 and older in December 2024   \n",
       "4                                                                   What are the median and interquartile range (IQR) of purchase revenue for each country?   \n",
       "5                             What is the average number of days between the first session and the first purchase for users who made at least one purchase?   \n",
       "6                                                  What is the number of sessions in December 2024, broken down by operating systems, including the totals?   \n",
       "7  Do we have customers who used multiple operating browsers during 2024? If so, please calculate the number of customers for each combination of browsers.   \n",
       "8                                                                                                       Which browser has the highest share of fraud users?   \n",
       "9                                                                                         Which country had the highest number of first-time users in 2024?   \n",
       "\n",
       "                                                                                                                                                                                                                                                                                                                                 sql_query  \\\n",
       "0                                                                                                                                                                         select uniqExact(user_id) as customers from ecommerce.sessions where (toStartOfMonth(action_date) = '2024-12-01') and (revenue > 0) format TabSeparatedWithNames   \n",
       "1                                                                                                                                                    select 100*uniqExactIf(user_id, is_fraud = 1)/uniqExact(user_id) as fraud_rate from ecommerce.sessions where (toStartOfYear(action_date) = '2023-01-01') format TabSeparatedWithNames   \n",
       "2                                                                                                                                                               select 100*uniqExactIf(user_id, os = 'Windows')/uniqExact(user_id) as windows_share from ecommerce.sessions where (action_date = today() - 1) format TabSeparatedWithNames   \n",
       "3                                                                                            select sum(s.revenue) from ecommerce.sessions AS s inner join ecommerce.users AS u on s.user_id = u.user_id where (u.country = 'Netherlands') AND (u.age >= 55) and (toStartOfMonth(action_date) = '2024-12-01') format TabSeparatedWithNames   \n",
       "4                            select country, median(revenue) as median_revenue, quantile(0.25)(revenue) as percentile_25_revenue, quantile(0.75)(revenue) as percentile_75_revenue from ecommerce.sessions AS s inner join ecommerce.users AS u on u.user_id = s.user_id where (revenue > 0) group by country format TabSeparatedWithNames   \n",
       "5                          select avg(first_purchase - first_action_date) as avg_days_to_purchase from (select user_id, min(action_date) as first_action_date, minIf(action_date, revenue > 0) as first_purchase, max(revenue) as max_revenue from ecommerce.sessions group by user_id) where max_revenue > 0 format TabSeparatedWithNames   \n",
       "6                                                                                                                                                                  SELECT os, uniqExact(session_id) as total FROM ecommerce.sessions WHERE toStartOfMonth(action_date) = '2024-12-01' GROUP BY os with totals format TabSeparatedWithNames   \n",
       "7                                     select browsers, count(1) as users from (select user_id, arrayStringConcat(arraySort(groupArray(distinct browser)), ', ') as browsers from ecommerce.sessions where (toStartOfYear(action_date) = '2024-01-01') group by user_id) group by browsers order by users desc format TabSeparatedWithNames   \n",
       "8                                                                                                                                           select browser, 100*uniqExactIf(user_id, is_fraud = 1)/uniqExact(user_id) as fraud_rate from ecommerce.sessions group by browser order by fraud_rate desc limit 1 format TabSeparatedWithNames   \n",
       "9  select country, count(distinct user_id) as users from (select user_id, min(action_date) as first_date from ecommerce.sessions group by user_id having toStartOfYear(first_date) = '2024-01-01') as t inner join ecommerce.users as u on t.user_id = u.user_id group by country order by users desc limit 1 format TabSeparatedWithNames   \n",
       "\n",
       "   id  \\\n",
       "0   0   \n",
       "1   1   \n",
       "2   2   \n",
       "3   3   \n",
       "4   4   \n",
       "5   5   \n",
       "6   6   \n",
       "7   7   \n",
       "8   8   \n",
       "9   9   \n",
       "\n",
       "                                                                                                                                                                                                                                                                                            generated_query  \n",
       "0                                                                                                                                                                       SELECT COUNT(DISTINCT user_id) FROM ecommerce.sessions WHERE EXTRACT(MONTH, action_date) = 12 AND EXTRACT(YEAR, action_date) = 2024  \n",
       "1                                                                                                                          SELECT SUM(CASE WHEN is_fraud = 1 THEN 1 ELSE 0 END) as fraud_count, SUM(1) as total_sessions FROM ecommerce.sessions WHERE YEAR(action_date) = 2023 GROUP BY MONTH(action_date)  \n",
       "2                                                                               SELECT SUM(CASE WHEN T1.os = 'Windows' THEN 1 ELSE 0 END) / COUNT(*) * 100 as windows_share FROM sessions AS T1 INNER JOIN ecommerce.users AS T2 ON T1.user_id = T2.user_id WHERE T1.action_date = TODAY() - INTERVAL 1 DAY  \n",
       "3                                                                                           SELECT SUM(T1.revenue) FROM ecommerce.sessions AS T1 INNER JOIN ecommerce.users AS T2 ON T1.user_id = T2.user_id WHERE T2.country = 'Netherlands' AND T2.age >= 55 AND SUBSTR(T1.action_date, 1, 7) = '2024-12'  \n",
       "4                                                                                                                                                                    SELECT median(revenue), percentile(revenue, 0.25) - percentile(revenue, 0.75) AS iqr, country FROM ecommerce.sessions GROUP BY country  \n",
       "5                                                                           SELECT AVG(DATEDIFF(purchase_date, first_session_date)) FROM ( SELECT user_id, MIN(action_date) AS first_session_date, MIN(purchase_date) AS first_purchase_date FROM ecommerce.sessions WHERE revenue > 0 GROUP BY user_id ) T  \n",
       "6                                                                                                                                                                                      SELECT os, COUNT(*) as total FROM ecommerce.sessions WHERE STR_TO_DATE(action_date, '%Y-%m') = '2024-12' GROUP BY os  \n",
       "7                                                                                                                                                                SELECT browser, browser, COUNT(DISTINCT user_id) AS count FROM ecommerce.sessions WHERE YEAR(action_date) = 2024 GROUP BY browser, browser  \n",
       "8                                                                                                                                SELECT browser, SUM(is_fraud) as fraud_count, COUNT(user_id) as total_sessions FROM ecommerce.sessions GROUP BY browser ORDER BY fraud_count / total_sessions DESC LIMIT 1  \n",
       "9  SELECT t2.country, COUNT(*) as num_first_time_users FROM ( SELECT user_id FROM ecommerce.sessions WHERE action_date = '2024' GROUP BY user_id EXCEPT SELECT user_id FROM ecommerce.users ) t1 JOIN ecommerce.users t2 ON t1.user_id  = t2.user_id GROUP BY t2.country ORDER BY num_first_time_users DESC  "
      ]
     },
     "execution_count": 60,
     "metadata": {},
     "output_type": "execute_result"
    }
   ],
   "source": [
    "eval_df"
   ]
  },
  {
   "cell_type": "code",
   "execution_count": 61,
   "id": "4bc81543-fcf0-4d32-94be-f7d27fa9a9b9",
   "metadata": {},
   "outputs": [
    {
     "name": "stderr",
     "output_type": "stream",
     "text": [
      "100%|███████████████████████████████████████████████████████████████████████████████████████████████████████████████████████████████████████████████████████████████████████████| 10/10 [00:02<00:00,  3.41it/s]\n"
     ]
    }
   ],
   "source": [
    "tmp = []\n",
    "\n",
    "for rec in tqdm.tqdm(eval_df.to_dict('records')):\n",
    "    golden_output = get_clickhouse_data(rec['sql_query'])\n",
    "    generated_output = get_clickhouse_data(rec['generated_query'])\n",
    "\n",
    "    tmp.append(\n",
    "        {\n",
    "            'id': rec['id'],\n",
    "            'golden_output': golden_output,\n",
    "            'generated_output': generated_output\n",
    "        }\n",
    "    )"
   ]
  },
  {
   "cell_type": "code",
   "execution_count": 62,
   "id": "1723271f-3838-4394-9a27-65cfa90bd59e",
   "metadata": {},
   "outputs": [],
   "source": [
    "eval_df = eval_df.merge(pd.DataFrame(tmp))"
   ]
  },
  {
   "cell_type": "code",
   "execution_count": 63,
   "id": "dcc67574-73bd-4617-a372-a7404426c8b7",
   "metadata": {},
   "outputs": [],
   "source": [
    "def is_valid_output(s):\n",
    "    if s.startswith('Database returned the following error:'):\n",
    "        return 'error'\n",
    "    if len(s.strip().split('\\n')) >= 1000:\n",
    "        return 'too many rows'\n",
    "    return 'ok'\n",
    "\n",
    "eval_df['golden_output_valid'] = eval_df.golden_output.map(is_valid_output)\n",
    "eval_df['generated_output_valid'] = eval_df.generated_output.map(is_valid_output)"
   ]
  },
  {
   "cell_type": "code",
   "execution_count": 64,
   "id": "24681969-683b-4b74-b39c-c23a9c2f8f70",
   "metadata": {},
   "outputs": [
    {
     "data": {
      "text/html": [
       "<div>\n",
       "<style scoped>\n",
       "    .dataframe tbody tr th:only-of-type {\n",
       "        vertical-align: middle;\n",
       "    }\n",
       "\n",
       "    .dataframe tbody tr th {\n",
       "        vertical-align: top;\n",
       "    }\n",
       "\n",
       "    .dataframe thead th {\n",
       "        text-align: right;\n",
       "    }\n",
       "</style>\n",
       "<table border=\"1\" class=\"dataframe\">\n",
       "  <thead>\n",
       "    <tr style=\"text-align: right;\">\n",
       "      <th></th>\n",
       "      <th>golden set</th>\n",
       "    </tr>\n",
       "    <tr>\n",
       "      <th>golden_output_valid</th>\n",
       "      <th></th>\n",
       "    </tr>\n",
       "  </thead>\n",
       "  <tbody>\n",
       "    <tr>\n",
       "      <th>ok</th>\n",
       "      <td>10</td>\n",
       "    </tr>\n",
       "  </tbody>\n",
       "</table>\n",
       "</div>"
      ],
      "text/plain": [
       "                     golden set\n",
       "golden_output_valid            \n",
       "ok                           10"
      ]
     },
     "execution_count": 64,
     "metadata": {},
     "output_type": "execute_result"
    }
   ],
   "source": [
    "eval_df.groupby('golden_output_valid')[['id']].count().rename(columns = {'id': 'golden set'})"
   ]
  },
  {
   "cell_type": "code",
   "execution_count": 65,
   "id": "f6e1ab7b-4b2b-4b19-b23e-b7b37c9255ff",
   "metadata": {},
   "outputs": [],
   "source": [
    "valid_stats_df = (eval_df.groupby('golden_output_valid')[['id']].count().rename(columns = {'id': 'golden set'}).join(\n",
    "    eval_df.groupby('generated_output_valid')[['id']].count().rename(columns = {'id': 'generated'}), how = 'outer')).fillna(0).T"
   ]
  },
  {
   "cell_type": "code",
   "execution_count": 66,
   "id": "f740b7eb-768f-469f-b848-a24c568ed60c",
   "metadata": {},
   "outputs": [
    {
     "data": {
      "text/html": [
       "<div>\n",
       "<style scoped>\n",
       "    .dataframe tbody tr th:only-of-type {\n",
       "        vertical-align: middle;\n",
       "    }\n",
       "\n",
       "    .dataframe tbody tr th {\n",
       "        vertical-align: top;\n",
       "    }\n",
       "\n",
       "    .dataframe thead th {\n",
       "        text-align: right;\n",
       "    }\n",
       "</style>\n",
       "<table border=\"1\" class=\"dataframe\">\n",
       "  <thead>\n",
       "    <tr style=\"text-align: right;\">\n",
       "      <th></th>\n",
       "      <th>error</th>\n",
       "      <th>ok</th>\n",
       "    </tr>\n",
       "  </thead>\n",
       "  <tbody>\n",
       "    <tr>\n",
       "      <th>golden set</th>\n",
       "      <td>0.0</td>\n",
       "      <td>10.0</td>\n",
       "    </tr>\n",
       "    <tr>\n",
       "      <th>generated</th>\n",
       "      <td>10.0</td>\n",
       "      <td>0.0</td>\n",
       "    </tr>\n",
       "  </tbody>\n",
       "</table>\n",
       "</div>"
      ],
      "text/plain": [
       "            error    ok\n",
       "golden set    0.0  10.0\n",
       "generated    10.0   0.0"
      ]
     },
     "execution_count": 66,
     "metadata": {},
     "output_type": "execute_result"
    }
   ],
   "source": [
    "valid_stats_df"
   ]
  },
  {
   "cell_type": "code",
   "execution_count": 67,
   "id": "ca6269f8-9f68-48bd-89a8-024d970acd53",
   "metadata": {},
   "outputs": [],
   "source": [
    "import plotly.express as px\n",
    "import plotly.io as pio\n",
    "pio.templates.default = 'simple_white'"
   ]
  },
  {
   "cell_type": "code",
   "execution_count": 68,
   "id": "4b5ecb2b-c1ed-43ce-859a-33bcbbef1217",
   "metadata": {},
   "outputs": [
    {
     "data": {
      "application/vnd.plotly.v1+json": {
       "config": {
        "plotlyServerURL": "https://plot.ly"
       },
       "data": [
        {
         "alignmentgroup": "True",
         "hovertemplate": "validity=error<br>share of queries, %=%{x}<br>=%{y}<extra></extra>",
         "legendgroup": "error",
         "marker": {
          "color": "#ea324c",
          "pattern": {
           "shape": ""
          }
         },
         "name": "error",
         "offsetgroup": "error",
         "orientation": "h",
         "showlegend": true,
         "textposition": "auto",
         "texttemplate": "%{x:.1f}",
         "type": "bar",
         "x": [
          0,
          100
         ],
         "xaxis": "x",
         "y": [
          "golden set",
          "generated"
         ],
         "yaxis": "y"
        },
        {
         "alignmentgroup": "True",
         "hovertemplate": "validity=ok<br>share of queries, %=%{x}<br>=%{y}<extra></extra>",
         "legendgroup": "ok",
         "marker": {
          "color": "#00b38a",
          "pattern": {
           "shape": ""
          }
         },
         "name": "ok",
         "offsetgroup": "ok",
         "orientation": "h",
         "showlegend": true,
         "textposition": "auto",
         "texttemplate": "%{x:.1f}",
         "type": "bar",
         "x": [
          100,
          0
         ],
         "xaxis": "x",
         "y": [
          "golden set",
          "generated"
         ],
         "yaxis": "y"
        }
       ],
       "layout": {
        "autosize": true,
        "barmode": "relative",
        "legend": {
         "title": {
          "text": "validity"
         },
         "tracegroupgap": 0
        },
        "template": {
         "data": {
          "bar": [
           {
            "error_x": {
             "color": "rgb(36,36,36)"
            },
            "error_y": {
             "color": "rgb(36,36,36)"
            },
            "marker": {
             "line": {
              "color": "white",
              "width": 0.5
             },
             "pattern": {
              "fillmode": "overlay",
              "size": 10,
              "solidity": 0.2
             }
            },
            "type": "bar"
           }
          ],
          "barpolar": [
           {
            "marker": {
             "line": {
              "color": "white",
              "width": 0.5
             },
             "pattern": {
              "fillmode": "overlay",
              "size": 10,
              "solidity": 0.2
             }
            },
            "type": "barpolar"
           }
          ],
          "carpet": [
           {
            "aaxis": {
             "endlinecolor": "rgb(36,36,36)",
             "gridcolor": "white",
             "linecolor": "white",
             "minorgridcolor": "white",
             "startlinecolor": "rgb(36,36,36)"
            },
            "baxis": {
             "endlinecolor": "rgb(36,36,36)",
             "gridcolor": "white",
             "linecolor": "white",
             "minorgridcolor": "white",
             "startlinecolor": "rgb(36,36,36)"
            },
            "type": "carpet"
           }
          ],
          "choropleth": [
           {
            "colorbar": {
             "outlinewidth": 1,
             "tickcolor": "rgb(36,36,36)",
             "ticks": "outside"
            },
            "type": "choropleth"
           }
          ],
          "contour": [
           {
            "colorbar": {
             "outlinewidth": 1,
             "tickcolor": "rgb(36,36,36)",
             "ticks": "outside"
            },
            "colorscale": [
             [
              0,
              "#440154"
             ],
             [
              0.1111111111111111,
              "#482878"
             ],
             [
              0.2222222222222222,
              "#3e4989"
             ],
             [
              0.3333333333333333,
              "#31688e"
             ],
             [
              0.4444444444444444,
              "#26828e"
             ],
             [
              0.5555555555555556,
              "#1f9e89"
             ],
             [
              0.6666666666666666,
              "#35b779"
             ],
             [
              0.7777777777777778,
              "#6ece58"
             ],
             [
              0.8888888888888888,
              "#b5de2b"
             ],
             [
              1,
              "#fde725"
             ]
            ],
            "type": "contour"
           }
          ],
          "contourcarpet": [
           {
            "colorbar": {
             "outlinewidth": 1,
             "tickcolor": "rgb(36,36,36)",
             "ticks": "outside"
            },
            "type": "contourcarpet"
           }
          ],
          "heatmap": [
           {
            "colorbar": {
             "outlinewidth": 1,
             "tickcolor": "rgb(36,36,36)",
             "ticks": "outside"
            },
            "colorscale": [
             [
              0,
              "#440154"
             ],
             [
              0.1111111111111111,
              "#482878"
             ],
             [
              0.2222222222222222,
              "#3e4989"
             ],
             [
              0.3333333333333333,
              "#31688e"
             ],
             [
              0.4444444444444444,
              "#26828e"
             ],
             [
              0.5555555555555556,
              "#1f9e89"
             ],
             [
              0.6666666666666666,
              "#35b779"
             ],
             [
              0.7777777777777778,
              "#6ece58"
             ],
             [
              0.8888888888888888,
              "#b5de2b"
             ],
             [
              1,
              "#fde725"
             ]
            ],
            "type": "heatmap"
           }
          ],
          "heatmapgl": [
           {
            "colorbar": {
             "outlinewidth": 1,
             "tickcolor": "rgb(36,36,36)",
             "ticks": "outside"
            },
            "colorscale": [
             [
              0,
              "#440154"
             ],
             [
              0.1111111111111111,
              "#482878"
             ],
             [
              0.2222222222222222,
              "#3e4989"
             ],
             [
              0.3333333333333333,
              "#31688e"
             ],
             [
              0.4444444444444444,
              "#26828e"
             ],
             [
              0.5555555555555556,
              "#1f9e89"
             ],
             [
              0.6666666666666666,
              "#35b779"
             ],
             [
              0.7777777777777778,
              "#6ece58"
             ],
             [
              0.8888888888888888,
              "#b5de2b"
             ],
             [
              1,
              "#fde725"
             ]
            ],
            "type": "heatmapgl"
           }
          ],
          "histogram": [
           {
            "marker": {
             "line": {
              "color": "white",
              "width": 0.6
             }
            },
            "type": "histogram"
           }
          ],
          "histogram2d": [
           {
            "colorbar": {
             "outlinewidth": 1,
             "tickcolor": "rgb(36,36,36)",
             "ticks": "outside"
            },
            "colorscale": [
             [
              0,
              "#440154"
             ],
             [
              0.1111111111111111,
              "#482878"
             ],
             [
              0.2222222222222222,
              "#3e4989"
             ],
             [
              0.3333333333333333,
              "#31688e"
             ],
             [
              0.4444444444444444,
              "#26828e"
             ],
             [
              0.5555555555555556,
              "#1f9e89"
             ],
             [
              0.6666666666666666,
              "#35b779"
             ],
             [
              0.7777777777777778,
              "#6ece58"
             ],
             [
              0.8888888888888888,
              "#b5de2b"
             ],
             [
              1,
              "#fde725"
             ]
            ],
            "type": "histogram2d"
           }
          ],
          "histogram2dcontour": [
           {
            "colorbar": {
             "outlinewidth": 1,
             "tickcolor": "rgb(36,36,36)",
             "ticks": "outside"
            },
            "colorscale": [
             [
              0,
              "#440154"
             ],
             [
              0.1111111111111111,
              "#482878"
             ],
             [
              0.2222222222222222,
              "#3e4989"
             ],
             [
              0.3333333333333333,
              "#31688e"
             ],
             [
              0.4444444444444444,
              "#26828e"
             ],
             [
              0.5555555555555556,
              "#1f9e89"
             ],
             [
              0.6666666666666666,
              "#35b779"
             ],
             [
              0.7777777777777778,
              "#6ece58"
             ],
             [
              0.8888888888888888,
              "#b5de2b"
             ],
             [
              1,
              "#fde725"
             ]
            ],
            "type": "histogram2dcontour"
           }
          ],
          "mesh3d": [
           {
            "colorbar": {
             "outlinewidth": 1,
             "tickcolor": "rgb(36,36,36)",
             "ticks": "outside"
            },
            "type": "mesh3d"
           }
          ],
          "parcoords": [
           {
            "line": {
             "colorbar": {
              "outlinewidth": 1,
              "tickcolor": "rgb(36,36,36)",
              "ticks": "outside"
             }
            },
            "type": "parcoords"
           }
          ],
          "pie": [
           {
            "automargin": true,
            "type": "pie"
           }
          ],
          "scatter": [
           {
            "fillpattern": {
             "fillmode": "overlay",
             "size": 10,
             "solidity": 0.2
            },
            "type": "scatter"
           }
          ],
          "scatter3d": [
           {
            "line": {
             "colorbar": {
              "outlinewidth": 1,
              "tickcolor": "rgb(36,36,36)",
              "ticks": "outside"
             }
            },
            "marker": {
             "colorbar": {
              "outlinewidth": 1,
              "tickcolor": "rgb(36,36,36)",
              "ticks": "outside"
             }
            },
            "type": "scatter3d"
           }
          ],
          "scattercarpet": [
           {
            "marker": {
             "colorbar": {
              "outlinewidth": 1,
              "tickcolor": "rgb(36,36,36)",
              "ticks": "outside"
             }
            },
            "type": "scattercarpet"
           }
          ],
          "scattergeo": [
           {
            "marker": {
             "colorbar": {
              "outlinewidth": 1,
              "tickcolor": "rgb(36,36,36)",
              "ticks": "outside"
             }
            },
            "type": "scattergeo"
           }
          ],
          "scattergl": [
           {
            "marker": {
             "colorbar": {
              "outlinewidth": 1,
              "tickcolor": "rgb(36,36,36)",
              "ticks": "outside"
             }
            },
            "type": "scattergl"
           }
          ],
          "scattermapbox": [
           {
            "marker": {
             "colorbar": {
              "outlinewidth": 1,
              "tickcolor": "rgb(36,36,36)",
              "ticks": "outside"
             }
            },
            "type": "scattermapbox"
           }
          ],
          "scatterpolar": [
           {
            "marker": {
             "colorbar": {
              "outlinewidth": 1,
              "tickcolor": "rgb(36,36,36)",
              "ticks": "outside"
             }
            },
            "type": "scatterpolar"
           }
          ],
          "scatterpolargl": [
           {
            "marker": {
             "colorbar": {
              "outlinewidth": 1,
              "tickcolor": "rgb(36,36,36)",
              "ticks": "outside"
             }
            },
            "type": "scatterpolargl"
           }
          ],
          "scatterternary": [
           {
            "marker": {
             "colorbar": {
              "outlinewidth": 1,
              "tickcolor": "rgb(36,36,36)",
              "ticks": "outside"
             }
            },
            "type": "scatterternary"
           }
          ],
          "surface": [
           {
            "colorbar": {
             "outlinewidth": 1,
             "tickcolor": "rgb(36,36,36)",
             "ticks": "outside"
            },
            "colorscale": [
             [
              0,
              "#440154"
             ],
             [
              0.1111111111111111,
              "#482878"
             ],
             [
              0.2222222222222222,
              "#3e4989"
             ],
             [
              0.3333333333333333,
              "#31688e"
             ],
             [
              0.4444444444444444,
              "#26828e"
             ],
             [
              0.5555555555555556,
              "#1f9e89"
             ],
             [
              0.6666666666666666,
              "#35b779"
             ],
             [
              0.7777777777777778,
              "#6ece58"
             ],
             [
              0.8888888888888888,
              "#b5de2b"
             ],
             [
              1,
              "#fde725"
             ]
            ],
            "type": "surface"
           }
          ],
          "table": [
           {
            "cells": {
             "fill": {
              "color": "rgb(237,237,237)"
             },
             "line": {
              "color": "white"
             }
            },
            "header": {
             "fill": {
              "color": "rgb(217,217,217)"
             },
             "line": {
              "color": "white"
             }
            },
            "type": "table"
           }
          ]
         },
         "layout": {
          "annotationdefaults": {
           "arrowhead": 0,
           "arrowwidth": 1
          },
          "autotypenumbers": "strict",
          "coloraxis": {
           "colorbar": {
            "outlinewidth": 1,
            "tickcolor": "rgb(36,36,36)",
            "ticks": "outside"
           }
          },
          "colorscale": {
           "diverging": [
            [
             0,
             "rgb(103,0,31)"
            ],
            [
             0.1,
             "rgb(178,24,43)"
            ],
            [
             0.2,
             "rgb(214,96,77)"
            ],
            [
             0.3,
             "rgb(244,165,130)"
            ],
            [
             0.4,
             "rgb(253,219,199)"
            ],
            [
             0.5,
             "rgb(247,247,247)"
            ],
            [
             0.6,
             "rgb(209,229,240)"
            ],
            [
             0.7,
             "rgb(146,197,222)"
            ],
            [
             0.8,
             "rgb(67,147,195)"
            ],
            [
             0.9,
             "rgb(33,102,172)"
            ],
            [
             1,
             "rgb(5,48,97)"
            ]
           ],
           "sequential": [
            [
             0,
             "#440154"
            ],
            [
             0.1111111111111111,
             "#482878"
            ],
            [
             0.2222222222222222,
             "#3e4989"
            ],
            [
             0.3333333333333333,
             "#31688e"
            ],
            [
             0.4444444444444444,
             "#26828e"
            ],
            [
             0.5555555555555556,
             "#1f9e89"
            ],
            [
             0.6666666666666666,
             "#35b779"
            ],
            [
             0.7777777777777778,
             "#6ece58"
            ],
            [
             0.8888888888888888,
             "#b5de2b"
            ],
            [
             1,
             "#fde725"
            ]
           ],
           "sequentialminus": [
            [
             0,
             "#440154"
            ],
            [
             0.1111111111111111,
             "#482878"
            ],
            [
             0.2222222222222222,
             "#3e4989"
            ],
            [
             0.3333333333333333,
             "#31688e"
            ],
            [
             0.4444444444444444,
             "#26828e"
            ],
            [
             0.5555555555555556,
             "#1f9e89"
            ],
            [
             0.6666666666666666,
             "#35b779"
            ],
            [
             0.7777777777777778,
             "#6ece58"
            ],
            [
             0.8888888888888888,
             "#b5de2b"
            ],
            [
             1,
             "#fde725"
            ]
           ]
          },
          "colorway": [
           "#1F77B4",
           "#FF7F0E",
           "#2CA02C",
           "#D62728",
           "#9467BD",
           "#8C564B",
           "#E377C2",
           "#7F7F7F",
           "#BCBD22",
           "#17BECF"
          ],
          "font": {
           "color": "rgb(36,36,36)"
          },
          "geo": {
           "bgcolor": "white",
           "lakecolor": "white",
           "landcolor": "white",
           "showlakes": true,
           "showland": true,
           "subunitcolor": "white"
          },
          "hoverlabel": {
           "align": "left"
          },
          "hovermode": "closest",
          "mapbox": {
           "style": "light"
          },
          "paper_bgcolor": "white",
          "plot_bgcolor": "white",
          "polar": {
           "angularaxis": {
            "gridcolor": "rgb(232,232,232)",
            "linecolor": "rgb(36,36,36)",
            "showgrid": false,
            "showline": true,
            "ticks": "outside"
           },
           "bgcolor": "white",
           "radialaxis": {
            "gridcolor": "rgb(232,232,232)",
            "linecolor": "rgb(36,36,36)",
            "showgrid": false,
            "showline": true,
            "ticks": "outside"
           }
          },
          "scene": {
           "xaxis": {
            "backgroundcolor": "white",
            "gridcolor": "rgb(232,232,232)",
            "gridwidth": 2,
            "linecolor": "rgb(36,36,36)",
            "showbackground": true,
            "showgrid": false,
            "showline": true,
            "ticks": "outside",
            "zeroline": false,
            "zerolinecolor": "rgb(36,36,36)"
           },
           "yaxis": {
            "backgroundcolor": "white",
            "gridcolor": "rgb(232,232,232)",
            "gridwidth": 2,
            "linecolor": "rgb(36,36,36)",
            "showbackground": true,
            "showgrid": false,
            "showline": true,
            "ticks": "outside",
            "zeroline": false,
            "zerolinecolor": "rgb(36,36,36)"
           },
           "zaxis": {
            "backgroundcolor": "white",
            "gridcolor": "rgb(232,232,232)",
            "gridwidth": 2,
            "linecolor": "rgb(36,36,36)",
            "showbackground": true,
            "showgrid": false,
            "showline": true,
            "ticks": "outside",
            "zeroline": false,
            "zerolinecolor": "rgb(36,36,36)"
           }
          },
          "shapedefaults": {
           "fillcolor": "black",
           "line": {
            "width": 0
           },
           "opacity": 0.3
          },
          "ternary": {
           "aaxis": {
            "gridcolor": "rgb(232,232,232)",
            "linecolor": "rgb(36,36,36)",
            "showgrid": false,
            "showline": true,
            "ticks": "outside"
           },
           "baxis": {
            "gridcolor": "rgb(232,232,232)",
            "linecolor": "rgb(36,36,36)",
            "showgrid": false,
            "showline": true,
            "ticks": "outside"
           },
           "bgcolor": "white",
           "caxis": {
            "gridcolor": "rgb(232,232,232)",
            "linecolor": "rgb(36,36,36)",
            "showgrid": false,
            "showline": true,
            "ticks": "outside"
           }
          },
          "title": {
           "x": 0.05
          },
          "xaxis": {
           "automargin": true,
           "gridcolor": "rgb(232,232,232)",
           "linecolor": "rgb(36,36,36)",
           "showgrid": false,
           "showline": true,
           "ticks": "outside",
           "title": {
            "standoff": 15
           },
           "zeroline": false,
           "zerolinecolor": "rgb(36,36,36)"
          },
          "yaxis": {
           "automargin": true,
           "gridcolor": "rgb(232,232,232)",
           "linecolor": "rgb(36,36,36)",
           "showgrid": false,
           "showline": true,
           "ticks": "outside",
           "title": {
            "standoff": 15
           },
           "zeroline": false,
           "zerolinecolor": "rgb(36,36,36)"
          }
         }
        },
        "title": {
         "text": "<b>LLM SQL Agent evaluation</b>: query validity"
        },
        "xaxis": {
         "anchor": "y",
         "autorange": true,
         "domain": [
          0,
          1
         ],
         "range": [
          0,
          105.26315789473684
         ],
         "title": {
          "text": "share of queries, %"
         },
         "type": "linear"
        },
        "yaxis": {
         "anchor": "x",
         "autorange": true,
         "domain": [
          0,
          1
         ],
         "range": [
          -0.5,
          1.5
         ],
         "title": {
          "text": ""
         },
         "type": "category"
        }
       }
      },
      "text/html": [
       "<div>                            <div id=\"8cab49d2-aa7c-4753-8f0e-899686d0b0b7\" class=\"plotly-graph-div\" style=\"height:525px; width:100%;\"></div>            <script type=\"text/javascript\">                require([\"plotly\"], function(Plotly) {                    window.PLOTLYENV=window.PLOTLYENV || {};                                    if (document.getElementById(\"8cab49d2-aa7c-4753-8f0e-899686d0b0b7\")) {                    Plotly.newPlot(                        \"8cab49d2-aa7c-4753-8f0e-899686d0b0b7\",                        [{\"alignmentgroup\":\"True\",\"hovertemplate\":\"validity=error\\u003cbr\\u003eshare of queries, %=%{x}\\u003cbr\\u003e=%{y}\\u003cextra\\u003e\\u003c\\u002fextra\\u003e\",\"legendgroup\":\"error\",\"marker\":{\"color\":\"#ea324c\",\"pattern\":{\"shape\":\"\"}},\"name\":\"error\",\"offsetgroup\":\"error\",\"orientation\":\"h\",\"showlegend\":true,\"textposition\":\"auto\",\"texttemplate\":\"%{x:.1f}\",\"x\":[0.0,100.0],\"xaxis\":\"x\",\"y\":[\"golden set\",\"generated\"],\"yaxis\":\"y\",\"type\":\"bar\"},{\"alignmentgroup\":\"True\",\"hovertemplate\":\"validity=ok\\u003cbr\\u003eshare of queries, %=%{x}\\u003cbr\\u003e=%{y}\\u003cextra\\u003e\\u003c\\u002fextra\\u003e\",\"legendgroup\":\"ok\",\"marker\":{\"color\":\"#00b38a\",\"pattern\":{\"shape\":\"\"}},\"name\":\"ok\",\"offsetgroup\":\"ok\",\"orientation\":\"h\",\"showlegend\":true,\"textposition\":\"auto\",\"texttemplate\":\"%{x:.1f}\",\"x\":[100.0,0.0],\"xaxis\":\"x\",\"y\":[\"golden set\",\"generated\"],\"yaxis\":\"y\",\"type\":\"bar\"}],                        {\"template\":{\"data\":{\"histogram2dcontour\":[{\"type\":\"histogram2dcontour\",\"colorbar\":{\"outlinewidth\":1,\"tickcolor\":\"rgb(36,36,36)\",\"ticks\":\"outside\"},\"colorscale\":[[0.0,\"#440154\"],[0.1111111111111111,\"#482878\"],[0.2222222222222222,\"#3e4989\"],[0.3333333333333333,\"#31688e\"],[0.4444444444444444,\"#26828e\"],[0.5555555555555556,\"#1f9e89\"],[0.6666666666666666,\"#35b779\"],[0.7777777777777778,\"#6ece58\"],[0.8888888888888888,\"#b5de2b\"],[1.0,\"#fde725\"]]}],\"choropleth\":[{\"type\":\"choropleth\",\"colorbar\":{\"outlinewidth\":1,\"tickcolor\":\"rgb(36,36,36)\",\"ticks\":\"outside\"}}],\"histogram2d\":[{\"type\":\"histogram2d\",\"colorbar\":{\"outlinewidth\":1,\"tickcolor\":\"rgb(36,36,36)\",\"ticks\":\"outside\"},\"colorscale\":[[0.0,\"#440154\"],[0.1111111111111111,\"#482878\"],[0.2222222222222222,\"#3e4989\"],[0.3333333333333333,\"#31688e\"],[0.4444444444444444,\"#26828e\"],[0.5555555555555556,\"#1f9e89\"],[0.6666666666666666,\"#35b779\"],[0.7777777777777778,\"#6ece58\"],[0.8888888888888888,\"#b5de2b\"],[1.0,\"#fde725\"]]}],\"heatmap\":[{\"type\":\"heatmap\",\"colorbar\":{\"outlinewidth\":1,\"tickcolor\":\"rgb(36,36,36)\",\"ticks\":\"outside\"},\"colorscale\":[[0.0,\"#440154\"],[0.1111111111111111,\"#482878\"],[0.2222222222222222,\"#3e4989\"],[0.3333333333333333,\"#31688e\"],[0.4444444444444444,\"#26828e\"],[0.5555555555555556,\"#1f9e89\"],[0.6666666666666666,\"#35b779\"],[0.7777777777777778,\"#6ece58\"],[0.8888888888888888,\"#b5de2b\"],[1.0,\"#fde725\"]]}],\"heatmapgl\":[{\"type\":\"heatmapgl\",\"colorbar\":{\"outlinewidth\":1,\"tickcolor\":\"rgb(36,36,36)\",\"ticks\":\"outside\"},\"colorscale\":[[0.0,\"#440154\"],[0.1111111111111111,\"#482878\"],[0.2222222222222222,\"#3e4989\"],[0.3333333333333333,\"#31688e\"],[0.4444444444444444,\"#26828e\"],[0.5555555555555556,\"#1f9e89\"],[0.6666666666666666,\"#35b779\"],[0.7777777777777778,\"#6ece58\"],[0.8888888888888888,\"#b5de2b\"],[1.0,\"#fde725\"]]}],\"contourcarpet\":[{\"type\":\"contourcarpet\",\"colorbar\":{\"outlinewidth\":1,\"tickcolor\":\"rgb(36,36,36)\",\"ticks\":\"outside\"}}],\"contour\":[{\"type\":\"contour\",\"colorbar\":{\"outlinewidth\":1,\"tickcolor\":\"rgb(36,36,36)\",\"ticks\":\"outside\"},\"colorscale\":[[0.0,\"#440154\"],[0.1111111111111111,\"#482878\"],[0.2222222222222222,\"#3e4989\"],[0.3333333333333333,\"#31688e\"],[0.4444444444444444,\"#26828e\"],[0.5555555555555556,\"#1f9e89\"],[0.6666666666666666,\"#35b779\"],[0.7777777777777778,\"#6ece58\"],[0.8888888888888888,\"#b5de2b\"],[1.0,\"#fde725\"]]}],\"surface\":[{\"type\":\"surface\",\"colorbar\":{\"outlinewidth\":1,\"tickcolor\":\"rgb(36,36,36)\",\"ticks\":\"outside\"},\"colorscale\":[[0.0,\"#440154\"],[0.1111111111111111,\"#482878\"],[0.2222222222222222,\"#3e4989\"],[0.3333333333333333,\"#31688e\"],[0.4444444444444444,\"#26828e\"],[0.5555555555555556,\"#1f9e89\"],[0.6666666666666666,\"#35b779\"],[0.7777777777777778,\"#6ece58\"],[0.8888888888888888,\"#b5de2b\"],[1.0,\"#fde725\"]]}],\"mesh3d\":[{\"type\":\"mesh3d\",\"colorbar\":{\"outlinewidth\":1,\"tickcolor\":\"rgb(36,36,36)\",\"ticks\":\"outside\"}}],\"scatter\":[{\"fillpattern\":{\"fillmode\":\"overlay\",\"size\":10,\"solidity\":0.2},\"type\":\"scatter\"}],\"parcoords\":[{\"type\":\"parcoords\",\"line\":{\"colorbar\":{\"outlinewidth\":1,\"tickcolor\":\"rgb(36,36,36)\",\"ticks\":\"outside\"}}}],\"scatterpolargl\":[{\"type\":\"scatterpolargl\",\"marker\":{\"colorbar\":{\"outlinewidth\":1,\"tickcolor\":\"rgb(36,36,36)\",\"ticks\":\"outside\"}}}],\"bar\":[{\"error_x\":{\"color\":\"rgb(36,36,36)\"},\"error_y\":{\"color\":\"rgb(36,36,36)\"},\"marker\":{\"line\":{\"color\":\"white\",\"width\":0.5},\"pattern\":{\"fillmode\":\"overlay\",\"size\":10,\"solidity\":0.2}},\"type\":\"bar\"}],\"scattergeo\":[{\"type\":\"scattergeo\",\"marker\":{\"colorbar\":{\"outlinewidth\":1,\"tickcolor\":\"rgb(36,36,36)\",\"ticks\":\"outside\"}}}],\"scatterpolar\":[{\"type\":\"scatterpolar\",\"marker\":{\"colorbar\":{\"outlinewidth\":1,\"tickcolor\":\"rgb(36,36,36)\",\"ticks\":\"outside\"}}}],\"histogram\":[{\"marker\":{\"line\":{\"color\":\"white\",\"width\":0.6}},\"type\":\"histogram\"}],\"scattergl\":[{\"type\":\"scattergl\",\"marker\":{\"colorbar\":{\"outlinewidth\":1,\"tickcolor\":\"rgb(36,36,36)\",\"ticks\":\"outside\"}}}],\"scatter3d\":[{\"type\":\"scatter3d\",\"line\":{\"colorbar\":{\"outlinewidth\":1,\"tickcolor\":\"rgb(36,36,36)\",\"ticks\":\"outside\"}},\"marker\":{\"colorbar\":{\"outlinewidth\":1,\"tickcolor\":\"rgb(36,36,36)\",\"ticks\":\"outside\"}}}],\"scattermapbox\":[{\"type\":\"scattermapbox\",\"marker\":{\"colorbar\":{\"outlinewidth\":1,\"tickcolor\":\"rgb(36,36,36)\",\"ticks\":\"outside\"}}}],\"scatterternary\":[{\"type\":\"scatterternary\",\"marker\":{\"colorbar\":{\"outlinewidth\":1,\"tickcolor\":\"rgb(36,36,36)\",\"ticks\":\"outside\"}}}],\"scattercarpet\":[{\"type\":\"scattercarpet\",\"marker\":{\"colorbar\":{\"outlinewidth\":1,\"tickcolor\":\"rgb(36,36,36)\",\"ticks\":\"outside\"}}}],\"carpet\":[{\"aaxis\":{\"endlinecolor\":\"rgb(36,36,36)\",\"gridcolor\":\"white\",\"linecolor\":\"white\",\"minorgridcolor\":\"white\",\"startlinecolor\":\"rgb(36,36,36)\"},\"baxis\":{\"endlinecolor\":\"rgb(36,36,36)\",\"gridcolor\":\"white\",\"linecolor\":\"white\",\"minorgridcolor\":\"white\",\"startlinecolor\":\"rgb(36,36,36)\"},\"type\":\"carpet\"}],\"table\":[{\"cells\":{\"fill\":{\"color\":\"rgb(237,237,237)\"},\"line\":{\"color\":\"white\"}},\"header\":{\"fill\":{\"color\":\"rgb(217,217,217)\"},\"line\":{\"color\":\"white\"}},\"type\":\"table\"}],\"barpolar\":[{\"marker\":{\"line\":{\"color\":\"white\",\"width\":0.5},\"pattern\":{\"fillmode\":\"overlay\",\"size\":10,\"solidity\":0.2}},\"type\":\"barpolar\"}],\"pie\":[{\"automargin\":true,\"type\":\"pie\"}]},\"layout\":{\"autotypenumbers\":\"strict\",\"colorway\":[\"#1F77B4\",\"#FF7F0E\",\"#2CA02C\",\"#D62728\",\"#9467BD\",\"#8C564B\",\"#E377C2\",\"#7F7F7F\",\"#BCBD22\",\"#17BECF\"],\"font\":{\"color\":\"rgb(36,36,36)\"},\"hovermode\":\"closest\",\"hoverlabel\":{\"align\":\"left\"},\"paper_bgcolor\":\"white\",\"plot_bgcolor\":\"white\",\"polar\":{\"bgcolor\":\"white\",\"angularaxis\":{\"gridcolor\":\"rgb(232,232,232)\",\"linecolor\":\"rgb(36,36,36)\",\"showgrid\":false,\"showline\":true,\"ticks\":\"outside\"},\"radialaxis\":{\"gridcolor\":\"rgb(232,232,232)\",\"linecolor\":\"rgb(36,36,36)\",\"showgrid\":false,\"showline\":true,\"ticks\":\"outside\"}},\"ternary\":{\"bgcolor\":\"white\",\"aaxis\":{\"gridcolor\":\"rgb(232,232,232)\",\"linecolor\":\"rgb(36,36,36)\",\"showgrid\":false,\"showline\":true,\"ticks\":\"outside\"},\"baxis\":{\"gridcolor\":\"rgb(232,232,232)\",\"linecolor\":\"rgb(36,36,36)\",\"showgrid\":false,\"showline\":true,\"ticks\":\"outside\"},\"caxis\":{\"gridcolor\":\"rgb(232,232,232)\",\"linecolor\":\"rgb(36,36,36)\",\"showgrid\":false,\"showline\":true,\"ticks\":\"outside\"}},\"coloraxis\":{\"colorbar\":{\"outlinewidth\":1,\"tickcolor\":\"rgb(36,36,36)\",\"ticks\":\"outside\"}},\"colorscale\":{\"sequential\":[[0.0,\"#440154\"],[0.1111111111111111,\"#482878\"],[0.2222222222222222,\"#3e4989\"],[0.3333333333333333,\"#31688e\"],[0.4444444444444444,\"#26828e\"],[0.5555555555555556,\"#1f9e89\"],[0.6666666666666666,\"#35b779\"],[0.7777777777777778,\"#6ece58\"],[0.8888888888888888,\"#b5de2b\"],[1.0,\"#fde725\"]],\"sequentialminus\":[[0.0,\"#440154\"],[0.1111111111111111,\"#482878\"],[0.2222222222222222,\"#3e4989\"],[0.3333333333333333,\"#31688e\"],[0.4444444444444444,\"#26828e\"],[0.5555555555555556,\"#1f9e89\"],[0.6666666666666666,\"#35b779\"],[0.7777777777777778,\"#6ece58\"],[0.8888888888888888,\"#b5de2b\"],[1.0,\"#fde725\"]],\"diverging\":[[0.0,\"rgb(103,0,31)\"],[0.1,\"rgb(178,24,43)\"],[0.2,\"rgb(214,96,77)\"],[0.3,\"rgb(244,165,130)\"],[0.4,\"rgb(253,219,199)\"],[0.5,\"rgb(247,247,247)\"],[0.6,\"rgb(209,229,240)\"],[0.7,\"rgb(146,197,222)\"],[0.8,\"rgb(67,147,195)\"],[0.9,\"rgb(33,102,172)\"],[1.0,\"rgb(5,48,97)\"]]},\"xaxis\":{\"gridcolor\":\"rgb(232,232,232)\",\"linecolor\":\"rgb(36,36,36)\",\"showgrid\":false,\"showline\":true,\"ticks\":\"outside\",\"title\":{\"standoff\":15},\"zerolinecolor\":\"rgb(36,36,36)\",\"automargin\":true,\"zeroline\":false},\"yaxis\":{\"gridcolor\":\"rgb(232,232,232)\",\"linecolor\":\"rgb(36,36,36)\",\"showgrid\":false,\"showline\":true,\"ticks\":\"outside\",\"title\":{\"standoff\":15},\"zerolinecolor\":\"rgb(36,36,36)\",\"automargin\":true,\"zeroline\":false},\"scene\":{\"xaxis\":{\"backgroundcolor\":\"white\",\"gridcolor\":\"rgb(232,232,232)\",\"linecolor\":\"rgb(36,36,36)\",\"showbackground\":true,\"showgrid\":false,\"showline\":true,\"ticks\":\"outside\",\"zerolinecolor\":\"rgb(36,36,36)\",\"gridwidth\":2,\"zeroline\":false},\"yaxis\":{\"backgroundcolor\":\"white\",\"gridcolor\":\"rgb(232,232,232)\",\"linecolor\":\"rgb(36,36,36)\",\"showbackground\":true,\"showgrid\":false,\"showline\":true,\"ticks\":\"outside\",\"zerolinecolor\":\"rgb(36,36,36)\",\"gridwidth\":2,\"zeroline\":false},\"zaxis\":{\"backgroundcolor\":\"white\",\"gridcolor\":\"rgb(232,232,232)\",\"linecolor\":\"rgb(36,36,36)\",\"showbackground\":true,\"showgrid\":false,\"showline\":true,\"ticks\":\"outside\",\"zerolinecolor\":\"rgb(36,36,36)\",\"gridwidth\":2,\"zeroline\":false}},\"shapedefaults\":{\"fillcolor\":\"black\",\"line\":{\"width\":0},\"opacity\":0.3},\"annotationdefaults\":{\"arrowhead\":0,\"arrowwidth\":1},\"geo\":{\"bgcolor\":\"white\",\"landcolor\":\"white\",\"subunitcolor\":\"white\",\"showland\":true,\"showlakes\":true,\"lakecolor\":\"white\"},\"title\":{\"x\":0.05},\"mapbox\":{\"style\":\"light\"}}},\"xaxis\":{\"anchor\":\"y\",\"domain\":[0.0,1.0],\"title\":{\"text\":\"share of queries, %\"}},\"yaxis\":{\"anchor\":\"x\",\"domain\":[0.0,1.0],\"title\":{\"text\":\"\"}},\"legend\":{\"title\":{\"text\":\"validity\"},\"tracegroupgap\":0},\"title\":{\"text\":\"\\u003cb\\u003eLLM SQL Agent evaluation\\u003c\\u002fb\\u003e: query validity\"},\"barmode\":\"relative\"},                        {\"responsive\": true}                    ).then(function(){\n",
       "                            \n",
       "var gd = document.getElementById('8cab49d2-aa7c-4753-8f0e-899686d0b0b7');\n",
       "var x = new MutationObserver(function (mutations, observer) {{\n",
       "        var display = window.getComputedStyle(gd).display;\n",
       "        if (!display || display === 'none') {{\n",
       "            console.log([gd, 'removed!']);\n",
       "            Plotly.purge(gd);\n",
       "            observer.disconnect();\n",
       "        }}\n",
       "}});\n",
       "\n",
       "// Listen for the removal of the full notebook cells\n",
       "var notebookContainer = gd.closest('#notebook-container');\n",
       "if (notebookContainer) {{\n",
       "    x.observe(notebookContainer, {childList: true});\n",
       "}}\n",
       "\n",
       "// Listen for the clearing of the current output cell\n",
       "var outputEl = gd.closest('.output');\n",
       "if (outputEl) {{\n",
       "    x.observe(outputEl, {childList: true});\n",
       "}}\n",
       "\n",
       "                        })                };                });            </script>        </div>"
      ]
     },
     "metadata": {},
     "output_type": "display_data"
    }
   ],
   "source": [
    "fig = px.bar(valid_stats_df.apply(lambda x: 100*x/valid_stats_df.sum(axis = 1)),\n",
    "  orientation = 'h', title = '<b>LLM SQL Agent evaluation</b>: query validity',\n",
    "   text_auto = '.1f',\n",
    "   color_discrete_map = {'ok': '#00b38a', 'error': '#ea324c', 'too many rows': '#f2ac42'},\n",
    "  labels = {'index': '', 'variable': 'validity', 'value': 'share of queries, %'})\n",
    "\n",
    "fig.show()                           "
   ]
  },
  {
   "cell_type": "code",
   "execution_count": 69,
   "id": "2f60c748-a875-489c-9a8c-5cbc9ab587c9",
   "metadata": {},
   "outputs": [],
   "source": [
    "def evaluate_sql_agent(generate_query_func, golden_df):\n",
    "  # generating SQL\n",
    "  tmp = []\n",
    "  for rec in tqdm.tqdm(golden_df.to_dict('records')):\n",
    "    generated_query = generate_query_func(rec['question'])\n",
    "    tmp.append(\n",
    "      {\n",
    "          'id': rec['id'],\n",
    "          'generated_query': generated_query\n",
    "      }\n",
    "    )\n",
    "\n",
    "  eval_df = golden_df.merge(pd.DataFrame(tmp))\n",
    "\n",
    "  # executing SQL queries\n",
    "\n",
    "  tmp = []\n",
    "\n",
    "  for rec in tqdm.tqdm(eval_df.to_dict('records')):\n",
    "    golden_output = get_clickhouse_data(rec['sql_query'])\n",
    "    generated_output = get_clickhouse_data(rec['generated_query'])\n",
    "\n",
    "    tmp.append(\n",
    "        {\n",
    "            'id': rec['id'],\n",
    "            'golden_output': golden_output,\n",
    "            'generated_output': generated_output\n",
    "        }\n",
    "    )\n",
    "\n",
    "  eval_df = eval_df.merge(pd.DataFrame(tmp))\n",
    "\n",
    "  # checking validity\n",
    "  eval_df['golden_output_valid'] = eval_df.golden_output.map(is_valid_output)\n",
    "  eval_df['generated_output_valid'] = eval_df.generated_output.map(is_valid_output)\n",
    "  valid_stats_df = (eval_df.groupby('golden_output_valid')[['id']].count().rename(columns = {'id': 'golden set'}).join(\n",
    "    eval_df.groupby('generated_output_valid')[['id']].count().rename(columns = {'id': 'generated'}), how = 'outer')).fillna(0).T\n",
    "\n",
    "  fig = px.bar(valid_stats_df.apply(lambda x: 100*x/valid_stats_df.sum(axis = 1)),\n",
    "      orientation = 'h', title = '<b>LLM SQL Agent evaluation</b>: query validity',\n",
    "       text_auto = '.1f',\n",
    "       color_discrete_map = {'ok': '#00b38a', 'error': '#ea324c', 'too many rows': '#f2ac42'},\n",
    "      labels = {'index': '', 'variable': 'validity', 'value': 'share of queries, %'})\n",
    "\n",
    "  fig.show()\n",
    "\n",
    "  return eval_df"
   ]
  },
  {
   "cell_type": "code",
   "execution_count": 70,
   "id": "da9f2310-b2a8-4d72-a6de-44418043005d",
   "metadata": {},
   "outputs": [],
   "source": [
    "# evaluate_sql_agent(generate_query, golden_df)"
   ]
  },
  {
   "cell_type": "markdown",
   "id": "404efdd9-3d95-49bf-942b-0823999f3c2d",
   "metadata": {},
   "source": [
    "### Self-reflection"
   ]
  },
  {
   "cell_type": "code",
   "execution_count": 91,
   "id": "6c15ab61-91b4-4d9d-9565-8132e0acbab2",
   "metadata": {},
   "outputs": [],
   "source": [
    "reflection_user_query_tmpl = '''\n",
    "You've got the following question: \"{question}\". \n",
    "You've generated the SQL query: \"{query}\".\n",
    "However, the database returned an error: \"{output}\". \n",
    "Please, revise the query to correct mistake. \n",
    "'''\n",
    "\n",
    "def generate_query_reflection(question):\n",
    "    generated_query = generate_query(question) \n",
    "    print('Initial query:', generated_query)\n",
    "    db_output = get_clickhouse_data(generated_query)\n",
    "    is_valid_db_output = is_valid_output(db_output)\n",
    "    if is_valid_db_output == 'too many rows':\n",
    "        db_output = \"Database unexpectedly returned more than 1000 rows.\"\n",
    "\n",
    "    if is_valid_db_output == 'ok': \n",
    "        return generated_query\n",
    "    else:\n",
    "        reflection_user_query = reflection_user_query_tmpl.format(\n",
    "            question = question,\n",
    "            query = generated_query,\n",
    "            output = db_output\n",
    "        )\n",
    "        \n",
    "        reflection_prompt = get_llama_prompt(reflection_user_query, generate_query_system_prompt) \n",
    "        # print('Reflection prompt:', reflection_prompt)\n",
    "        reflection_result = chat_llm.invoke(reflection_prompt)\n",
    "\n",
    "        try:\n",
    "            reflected_query = reflection_result.tool_calls[0]['args']['query']\n",
    "        except:\n",
    "            reflected_query = ''\n",
    "        print('Reflected query:', reflected_query)\n",
    "        return reflected_query"
   ]
  },
  {
   "cell_type": "code",
   "execution_count": 72,
   "id": "b25eec76-1a7d-44eb-a9d7-87417c26a5fb",
   "metadata": {},
   "outputs": [
    {
     "name": "stderr",
     "output_type": "stream",
     "text": [
      "  0%|                                                                                                                                                                                    | 0/10 [00:00<?, ?it/s]"
     ]
    },
    {
     "name": "stdout",
     "output_type": "stream",
     "text": [
      "Initial query: SELECT SUM(CASE WHEN is_fraud = 0 THEN 1 ELSE 0 END) FROM ecommerce.sessions WHERE EXTRACT(YEAR FROM action_date) = 2024 AND EXTRACT(MONTH FROM action_date) = 12 AND user_id IN (SELECT user_id FROM ecommerce.users WHERE is_active = 1)\n",
      "Reflection prompt: <|begin_of_text|><|start_header_id|>system<|end_header_id|>\n",
      "\n",
      "\n",
      "You are a senior data analyst with more than 10 years of experience writing complex SQL queries. \n",
      "There are two tables in the database you're working with with the following schemas. \n",
      "\n",
      "Table: ecommerce.users \n",
      "Description: customers of the online shop\n",
      "Fields: \n",
      "- user_id (integer) - unique identifier of customer, for example, 1000004 or 3000004\n",
      "- country (string) - country of residence, for example, \"Netherlands\" or \"United Kingdom\"\n",
      "- is_active (integer) - 1 if customer is still active and 0 otherwise\n",
      "- age (integer) - customer age in full years, for example, 31 or 72\n",
      "\n",
      "Table: ecommerce.sessions \n",
      "Description: sessions of usage the online shop\n",
      "Fields: \n",
      "- user_id (integer) - unique identifier of customer, for example, 1000004 or 3000004\n",
      "- session_id (integer) - unique identifier of session, for example, 106 or 1023\n",
      "- action_date (date) - session start date, for example, \"2021-01-03\" or \"2024-12-02\"\n",
      "- session_duration (integer) - duration of session in seconds, for example, 125 or 49\n",
      "- os (string) - operation system that customer used, for example, \"Windows\" or \"Android\"\n",
      "- browser (string) - browser that customer used, for example, \"Chrome\" or \"Safari\"\n",
      "- is_fraud (integer) - 1 if session is marked as fraud and 0 otherwise\n",
      "- revenue (float) - income in USD (the sum of purchased items), for example, 0.0 or 1506.7\n",
      "\n",
      "\n",
      "Write a query in ClickHouse SQL to answer the following question. \n",
      "Add \"format TabSeparatedWithNames\" at the end of each query to get data from ClickHouse database in the right format. \n",
      "Follow the provided instructions and always use tool to execute query.\n",
      "<|eot_id|><|start_header_id|>user<|end_header_id|>\n",
      "\n",
      "\n",
      "You've got the following question: \"How many customers made purchase in December 2024?\". \n",
      "You've generated the SQL query: \"SELECT SUM(CASE WHEN is_fraud = 0 THEN 1 ELSE 0 END) FROM ecommerce.sessions WHERE EXTRACT(YEAR FROM action_date) = 2024 AND EXTRACT(MONTH FROM action_date) = 12 AND user_id IN (SELECT user_id FROM ecommerce.users WHERE is_active = 1)\".\n",
      "However, the database returned an error: \"Database returned the following error:\n",
      " Please, specify the output format, for example, 'select .... format TabSeparatedWithNames'.\". \n",
      "Please, revise the query to correct mistake. \n",
      "<|eot_id|><|start_header_id|>assistant<|end_header_id|>\n",
      "\n",
      "\n"
     ]
    },
    {
     "name": "stderr",
     "output_type": "stream",
     "text": [
      " 10%|█████████████████▏                                                                                                                                                          | 1/10 [00:38<05:45, 38.40s/it]"
     ]
    },
    {
     "name": "stdout",
     "output_type": "stream",
     "text": [
      "Reflected query: SELECT SUM(CASE WHEN is_fraud = 0 THEN 1 ELSE 0 END) FROM ecommerce.sessions WHERE EXTRACT(YEAR FROM action_date) = 2024 AND EXTRACT(MONTH FROM action_date) = 12 AND user_id IN (SELECT user_id FROM ecommerce.users WHERE is_active = 1) format TabSeparatedWithNames\n",
      "Initial query: SELECT CAST(SUM(CASE WHEN is_fraud = '1' THEN 1 ELSE 0 END) AS Float) * 100 / COUNT(*) FROM ecommerce.sessions WHERE YEAR(action_date) = '2023'\n",
      "Reflection prompt: <|begin_of_text|><|start_header_id|>system<|end_header_id|>\n",
      "\n",
      "\n",
      "You are a senior data analyst with more than 10 years of experience writing complex SQL queries. \n",
      "There are two tables in the database you're working with with the following schemas. \n",
      "\n",
      "Table: ecommerce.users \n",
      "Description: customers of the online shop\n",
      "Fields: \n",
      "- user_id (integer) - unique identifier of customer, for example, 1000004 or 3000004\n",
      "- country (string) - country of residence, for example, \"Netherlands\" or \"United Kingdom\"\n",
      "- is_active (integer) - 1 if customer is still active and 0 otherwise\n",
      "- age (integer) - customer age in full years, for example, 31 or 72\n",
      "\n",
      "Table: ecommerce.sessions \n",
      "Description: sessions of usage the online shop\n",
      "Fields: \n",
      "- user_id (integer) - unique identifier of customer, for example, 1000004 or 3000004\n",
      "- session_id (integer) - unique identifier of session, for example, 106 or 1023\n",
      "- action_date (date) - session start date, for example, \"2021-01-03\" or \"2024-12-02\"\n",
      "- session_duration (integer) - duration of session in seconds, for example, 125 or 49\n",
      "- os (string) - operation system that customer used, for example, \"Windows\" or \"Android\"\n",
      "- browser (string) - browser that customer used, for example, \"Chrome\" or \"Safari\"\n",
      "- is_fraud (integer) - 1 if session is marked as fraud and 0 otherwise\n",
      "- revenue (float) - income in USD (the sum of purchased items), for example, 0.0 or 1506.7\n",
      "\n",
      "\n",
      "Write a query in ClickHouse SQL to answer the following question. \n",
      "Add \"format TabSeparatedWithNames\" at the end of each query to get data from ClickHouse database in the right format. \n",
      "Follow the provided instructions and always use tool to execute query.\n",
      "<|eot_id|><|start_header_id|>user<|end_header_id|>\n",
      "\n",
      "\n",
      "You've got the following question: \"What was the fraud rate in 2023, expressed as a percentage?\". \n",
      "You've generated the SQL query: \"SELECT CAST(SUM(CASE WHEN is_fraud = '1' THEN 1 ELSE 0 END) AS Float) * 100 / COUNT(*) FROM ecommerce.sessions WHERE YEAR(action_date) = '2023'\".\n",
      "However, the database returned an error: \"Database returned the following error:\n",
      " Please, specify the output format, for example, 'select .... format TabSeparatedWithNames'.\". \n",
      "Please, revise the query to correct mistake. \n",
      "<|eot_id|><|start_header_id|>assistant<|end_header_id|>\n",
      "\n",
      "\n"
     ]
    },
    {
     "name": "stderr",
     "output_type": "stream",
     "text": [
      " 20%|██████████████████████████████████▍                                                                                                                                         | 2/10 [01:03<04:06, 30.81s/it]"
     ]
    },
    {
     "name": "stdout",
     "output_type": "stream",
     "text": [
      "Reflected query: SELECT CAST(SUM(CASE WHEN is_fraud = 1 THEN 1 ELSE 0 END) AS Float) * 100 / COUNT(*) FROM ecommerce.sessions WHERE YEAR(action_date) = '2023' format TabSeparatedWithNames\n",
      "Initial query: SELECT CAST(SUM(CASE WHEN os = 'Windows' THEN 1 ELSE 0 END) AS UInt32) * 100.0 / COUNT(*) as share FROM ecommerce.sessions WHERE date(date_trunc('day', action_date)) = (date_trunc('day', now()) - INTERVAL '1 day')\n",
      "Reflection prompt: <|begin_of_text|><|start_header_id|>system<|end_header_id|>\n",
      "\n",
      "\n",
      "You are a senior data analyst with more than 10 years of experience writing complex SQL queries. \n",
      "There are two tables in the database you're working with with the following schemas. \n",
      "\n",
      "Table: ecommerce.users \n",
      "Description: customers of the online shop\n",
      "Fields: \n",
      "- user_id (integer) - unique identifier of customer, for example, 1000004 or 3000004\n",
      "- country (string) - country of residence, for example, \"Netherlands\" or \"United Kingdom\"\n",
      "- is_active (integer) - 1 if customer is still active and 0 otherwise\n",
      "- age (integer) - customer age in full years, for example, 31 or 72\n",
      "\n",
      "Table: ecommerce.sessions \n",
      "Description: sessions of usage the online shop\n",
      "Fields: \n",
      "- user_id (integer) - unique identifier of customer, for example, 1000004 or 3000004\n",
      "- session_id (integer) - unique identifier of session, for example, 106 or 1023\n",
      "- action_date (date) - session start date, for example, \"2021-01-03\" or \"2024-12-02\"\n",
      "- session_duration (integer) - duration of session in seconds, for example, 125 or 49\n",
      "- os (string) - operation system that customer used, for example, \"Windows\" or \"Android\"\n",
      "- browser (string) - browser that customer used, for example, \"Chrome\" or \"Safari\"\n",
      "- is_fraud (integer) - 1 if session is marked as fraud and 0 otherwise\n",
      "- revenue (float) - income in USD (the sum of purchased items), for example, 0.0 or 1506.7\n",
      "\n",
      "\n",
      "Write a query in ClickHouse SQL to answer the following question. \n",
      "Add \"format TabSeparatedWithNames\" at the end of each query to get data from ClickHouse database in the right format. \n",
      "Follow the provided instructions and always use tool to execute query.\n",
      "<|eot_id|><|start_header_id|>user<|end_header_id|>\n",
      "\n",
      "\n",
      "You've got the following question: \"What was the share of users using Windows yesterday?\". \n",
      "You've generated the SQL query: \"SELECT CAST(SUM(CASE WHEN os = 'Windows' THEN 1 ELSE 0 END) AS UInt32) * 100.0 / COUNT(*) as share FROM ecommerce.sessions WHERE date(date_trunc('day', action_date)) = (date_trunc('day', now()) - INTERVAL '1 day')\".\n",
      "However, the database returned an error: \"Database returned the following error:\n",
      " Please, specify the output format, for example, 'select .... format TabSeparatedWithNames'.\". \n",
      "Please, revise the query to correct mistake. \n",
      "<|eot_id|><|start_header_id|>assistant<|end_header_id|>\n",
      "\n",
      "\n"
     ]
    },
    {
     "name": "stderr",
     "output_type": "stream",
     "text": [
      " 30%|███████████████████████████████████████████████████▌                                                                                                                        | 3/10 [01:36<03:41, 31.64s/it]"
     ]
    },
    {
     "name": "stdout",
     "output_type": "stream",
     "text": [
      "Reflected query: SELECT CAST(SUM(CASE WHEN os = 'Windows' THEN 1 ELSE 0 END) AS UInt32) * 100.0 / COUNT(*) as share FROM ecommerce.sessions WHERE date(date_trunc('day', action_date)) = (date_trunc('day', now()) - INTERVAL '1 day') format TabSeparatedWithNames\n",
      "Initial query: SELECT SUM(revenue) FROM ecommerce.sessions WHERE MONTH(action_date) = 12 AND YEAR(action_date) = 2024 AND country = 'Netherlands' AND age >= 55\n",
      "Reflection prompt: <|begin_of_text|><|start_header_id|>system<|end_header_id|>\n",
      "\n",
      "\n",
      "You are a senior data analyst with more than 10 years of experience writing complex SQL queries. \n",
      "There are two tables in the database you're working with with the following schemas. \n",
      "\n",
      "Table: ecommerce.users \n",
      "Description: customers of the online shop\n",
      "Fields: \n",
      "- user_id (integer) - unique identifier of customer, for example, 1000004 or 3000004\n",
      "- country (string) - country of residence, for example, \"Netherlands\" or \"United Kingdom\"\n",
      "- is_active (integer) - 1 if customer is still active and 0 otherwise\n",
      "- age (integer) - customer age in full years, for example, 31 or 72\n",
      "\n",
      "Table: ecommerce.sessions \n",
      "Description: sessions of usage the online shop\n",
      "Fields: \n",
      "- user_id (integer) - unique identifier of customer, for example, 1000004 or 3000004\n",
      "- session_id (integer) - unique identifier of session, for example, 106 or 1023\n",
      "- action_date (date) - session start date, for example, \"2021-01-03\" or \"2024-12-02\"\n",
      "- session_duration (integer) - duration of session in seconds, for example, 125 or 49\n",
      "- os (string) - operation system that customer used, for example, \"Windows\" or \"Android\"\n",
      "- browser (string) - browser that customer used, for example, \"Chrome\" or \"Safari\"\n",
      "- is_fraud (integer) - 1 if session is marked as fraud and 0 otherwise\n",
      "- revenue (float) - income in USD (the sum of purchased items), for example, 0.0 or 1506.7\n",
      "\n",
      "\n",
      "Write a query in ClickHouse SQL to answer the following question. \n",
      "Add \"format TabSeparatedWithNames\" at the end of each query to get data from ClickHouse database in the right format. \n",
      "Follow the provided instructions and always use tool to execute query.\n",
      "<|eot_id|><|start_header_id|>user<|end_header_id|>\n",
      "\n",
      "\n",
      "You've got the following question: \"What was the revenue from Dutch users aged 55 and older in December 2024\". \n",
      "You've generated the SQL query: \"SELECT SUM(revenue) FROM ecommerce.sessions WHERE MONTH(action_date) = 12 AND YEAR(action_date) = 2024 AND country = 'Netherlands' AND age >= 55\".\n",
      "However, the database returned an error: \"Database returned the following error:\n",
      " Please, specify the output format, for example, 'select .... format TabSeparatedWithNames'.\". \n",
      "Please, revise the query to correct mistake. \n",
      "<|eot_id|><|start_header_id|>assistant<|end_header_id|>\n",
      "\n",
      "\n"
     ]
    },
    {
     "name": "stderr",
     "output_type": "stream",
     "text": [
      " 40%|████████████████████████████████████████████████████████████████████▊                                                                                                       | 4/10 [02:02<02:57, 29.56s/it]"
     ]
    },
    {
     "name": "stdout",
     "output_type": "stream",
     "text": [
      "Reflected query: SELECT SUM(revenue) FROM ecommerce.sessions WHERE MONTH(action_date) = 12 AND YEAR(action_date) = 2024 AND country = 'Netherlands' AND age >= 55 format TabSeparatedWithNames\n",
      "Initial query: \n",
      "Reflection prompt: <|begin_of_text|><|start_header_id|>system<|end_header_id|>\n",
      "\n",
      "\n",
      "You are a senior data analyst with more than 10 years of experience writing complex SQL queries. \n",
      "There are two tables in the database you're working with with the following schemas. \n",
      "\n",
      "Table: ecommerce.users \n",
      "Description: customers of the online shop\n",
      "Fields: \n",
      "- user_id (integer) - unique identifier of customer, for example, 1000004 or 3000004\n",
      "- country (string) - country of residence, for example, \"Netherlands\" or \"United Kingdom\"\n",
      "- is_active (integer) - 1 if customer is still active and 0 otherwise\n",
      "- age (integer) - customer age in full years, for example, 31 or 72\n",
      "\n",
      "Table: ecommerce.sessions \n",
      "Description: sessions of usage the online shop\n",
      "Fields: \n",
      "- user_id (integer) - unique identifier of customer, for example, 1000004 or 3000004\n",
      "- session_id (integer) - unique identifier of session, for example, 106 or 1023\n",
      "- action_date (date) - session start date, for example, \"2021-01-03\" or \"2024-12-02\"\n",
      "- session_duration (integer) - duration of session in seconds, for example, 125 or 49\n",
      "- os (string) - operation system that customer used, for example, \"Windows\" or \"Android\"\n",
      "- browser (string) - browser that customer used, for example, \"Chrome\" or \"Safari\"\n",
      "- is_fraud (integer) - 1 if session is marked as fraud and 0 otherwise\n",
      "- revenue (float) - income in USD (the sum of purchased items), for example, 0.0 or 1506.7\n",
      "\n",
      "\n",
      "Write a query in ClickHouse SQL to answer the following question. \n",
      "Add \"format TabSeparatedWithNames\" at the end of each query to get data from ClickHouse database in the right format. \n",
      "Follow the provided instructions and always use tool to execute query.\n",
      "<|eot_id|><|start_header_id|>user<|end_header_id|>\n",
      "\n",
      "\n",
      "You've got the following question: \"What are the median and interquartile range (IQR) of purchase revenue for each country?\". \n",
      "You've generated the SQL query: \"\".\n",
      "However, the database returned an error: \"Database returned the following error:\n",
      " Please, specify the output format, for example, 'select .... format TabSeparatedWithNames'.\". \n",
      "Please, revise the query to correct mistake. \n",
      "<|eot_id|><|start_header_id|>assistant<|end_header_id|>\n",
      "\n",
      "\n"
     ]
    },
    {
     "name": "stderr",
     "output_type": "stream",
     "text": [
      " 50%|██████████████████████████████████████████████████████████████████████████████████████                                                                                      | 5/10 [02:33<02:29, 29.99s/it]"
     ]
    },
    {
     "name": "stdout",
     "output_type": "stream",
     "text": [
      "Reflected query: SELECT country, percentile(0.5)(revenue) as median_revenue, percentile(0.75)(revenue) - percentile(0.25)(revenue) as iqr FROM ecommerce.sessions GROUP BY country format TabSeparatedWithNames\n",
      "Initial query: SELECT AVG(DATEDIFF(action_date, action_date)) AS avg_days_between_first_session_and_purchase FROM ( SELECT user_id, MIN(action_date) as first_session, MIN(case when revenue > 0 then action_date end) as first_purchase FROM ecommerce.sessions GROUP BY user_id HAVING COUNT(*) > 1 AND first_purchase IS NOT NULL ) AS subquery\n",
      "Reflection prompt: <|begin_of_text|><|start_header_id|>system<|end_header_id|>\n",
      "\n",
      "\n",
      "You are a senior data analyst with more than 10 years of experience writing complex SQL queries. \n",
      "There are two tables in the database you're working with with the following schemas. \n",
      "\n",
      "Table: ecommerce.users \n",
      "Description: customers of the online shop\n",
      "Fields: \n",
      "- user_id (integer) - unique identifier of customer, for example, 1000004 or 3000004\n",
      "- country (string) - country of residence, for example, \"Netherlands\" or \"United Kingdom\"\n",
      "- is_active (integer) - 1 if customer is still active and 0 otherwise\n",
      "- age (integer) - customer age in full years, for example, 31 or 72\n",
      "\n",
      "Table: ecommerce.sessions \n",
      "Description: sessions of usage the online shop\n",
      "Fields: \n",
      "- user_id (integer) - unique identifier of customer, for example, 1000004 or 3000004\n",
      "- session_id (integer) - unique identifier of session, for example, 106 or 1023\n",
      "- action_date (date) - session start date, for example, \"2021-01-03\" or \"2024-12-02\"\n",
      "- session_duration (integer) - duration of session in seconds, for example, 125 or 49\n",
      "- os (string) - operation system that customer used, for example, \"Windows\" or \"Android\"\n",
      "- browser (string) - browser that customer used, for example, \"Chrome\" or \"Safari\"\n",
      "- is_fraud (integer) - 1 if session is marked as fraud and 0 otherwise\n",
      "- revenue (float) - income in USD (the sum of purchased items), for example, 0.0 or 1506.7\n",
      "\n",
      "\n",
      "Write a query in ClickHouse SQL to answer the following question. \n",
      "Add \"format TabSeparatedWithNames\" at the end of each query to get data from ClickHouse database in the right format. \n",
      "Follow the provided instructions and always use tool to execute query.\n",
      "<|eot_id|><|start_header_id|>user<|end_header_id|>\n",
      "\n",
      "\n",
      "You've got the following question: \"What is the average number of days between the first session and the first purchase for users who made at least one purchase?\". \n",
      "You've generated the SQL query: \"SELECT AVG(DATEDIFF(action_date, action_date)) AS avg_days_between_first_session_and_purchase FROM ( SELECT user_id, MIN(action_date) as first_session, MIN(case when revenue > 0 then action_date end) as first_purchase FROM ecommerce.sessions GROUP BY user_id HAVING COUNT(*) > 1 AND first_purchase IS NOT NULL ) AS subquery\".\n",
      "However, the database returned an error: \"Database returned the following error:\n",
      " Please, specify the output format, for example, 'select .... format TabSeparatedWithNames'.\". \n",
      "Please, revise the query to correct mistake. \n",
      "<|eot_id|><|start_header_id|>assistant<|end_header_id|>\n",
      "\n",
      "\n"
     ]
    },
    {
     "name": "stderr",
     "output_type": "stream",
     "text": [
      " 60%|███████████████████████████████████████████████████████████████████████████████████████████████████████▏                                                                    | 6/10 [03:16<02:17, 34.46s/it]"
     ]
    },
    {
     "name": "stdout",
     "output_type": "stream",
     "text": [
      "Reflected query: SELECT AVG(DATEDIFF(first_purchase, first_session)) AS avg_days_between_first_session_and_purchase FROM ( SELECT user_id, MIN(action_date) as first_session, MIN(case when revenue > 0 then action_date end) as first_purchase FROM ecommerce.sessions GROUP BY user_id HAVING COUNT(*) > 1 AND first_purchase IS NOT NULL ) AS subquery format TabSeparatedWithNames\n",
      "Initial query: SELECT os, COUNT(*) as count FROM ecommerce.sessions WHERE EXTRACT(MONTH, action_date) = 12 AND EXTRACT(YEAR, action_date) = 2024 GROUP BY os\n",
      "Reflection prompt: <|begin_of_text|><|start_header_id|>system<|end_header_id|>\n",
      "\n",
      "\n",
      "You are a senior data analyst with more than 10 years of experience writing complex SQL queries. \n",
      "There are two tables in the database you're working with with the following schemas. \n",
      "\n",
      "Table: ecommerce.users \n",
      "Description: customers of the online shop\n",
      "Fields: \n",
      "- user_id (integer) - unique identifier of customer, for example, 1000004 or 3000004\n",
      "- country (string) - country of residence, for example, \"Netherlands\" or \"United Kingdom\"\n",
      "- is_active (integer) - 1 if customer is still active and 0 otherwise\n",
      "- age (integer) - customer age in full years, for example, 31 or 72\n",
      "\n",
      "Table: ecommerce.sessions \n",
      "Description: sessions of usage the online shop\n",
      "Fields: \n",
      "- user_id (integer) - unique identifier of customer, for example, 1000004 or 3000004\n",
      "- session_id (integer) - unique identifier of session, for example, 106 or 1023\n",
      "- action_date (date) - session start date, for example, \"2021-01-03\" or \"2024-12-02\"\n",
      "- session_duration (integer) - duration of session in seconds, for example, 125 or 49\n",
      "- os (string) - operation system that customer used, for example, \"Windows\" or \"Android\"\n",
      "- browser (string) - browser that customer used, for example, \"Chrome\" or \"Safari\"\n",
      "- is_fraud (integer) - 1 if session is marked as fraud and 0 otherwise\n",
      "- revenue (float) - income in USD (the sum of purchased items), for example, 0.0 or 1506.7\n",
      "\n",
      "\n",
      "Write a query in ClickHouse SQL to answer the following question. \n",
      "Add \"format TabSeparatedWithNames\" at the end of each query to get data from ClickHouse database in the right format. \n",
      "Follow the provided instructions and always use tool to execute query.\n",
      "<|eot_id|><|start_header_id|>user<|end_header_id|>\n",
      "\n",
      "\n",
      "You've got the following question: \"What is the number of sessions in December 2024, broken down by operating systems, including the totals?\". \n",
      "You've generated the SQL query: \"SELECT os, COUNT(*) as count FROM ecommerce.sessions WHERE EXTRACT(MONTH, action_date) = 12 AND EXTRACT(YEAR, action_date) = 2024 GROUP BY os\".\n",
      "However, the database returned an error: \"Database returned the following error:\n",
      " Please, specify the output format, for example, 'select .... format TabSeparatedWithNames'.\". \n",
      "Please, revise the query to correct mistake. \n",
      "<|eot_id|><|start_header_id|>assistant<|end_header_id|>\n",
      "\n",
      "\n"
     ]
    },
    {
     "name": "stderr",
     "output_type": "stream",
     "text": [
      " 70%|████████████████████████████████████████████████████████████████████████████████████████████████████████████████████████▍                                                   | 7/10 [03:46<01:38, 32.77s/it]"
     ]
    },
    {
     "name": "stdout",
     "output_type": "stream",
     "text": [
      "Reflected query: SELECT os, COUNT(*) as count FROM ecommerce.sessions WHERE EXTRACT(MONTH, action_date) = 12 AND EXTRACT(YEAR, action_date) = 2024 GROUP BY os format TabSeparatedWithNames\n",
      "Initial query: SELECT browser, COUNT(DISTINCT user_id) as count FROM ecommerce.sessions WHERE action_date >= '2024-01-01' GROUP BY browser HAVING COUNT(DISTINCT user_id) > 1\n",
      "Reflection prompt: <|begin_of_text|><|start_header_id|>system<|end_header_id|>\n",
      "\n",
      "\n",
      "You are a senior data analyst with more than 10 years of experience writing complex SQL queries. \n",
      "There are two tables in the database you're working with with the following schemas. \n",
      "\n",
      "Table: ecommerce.users \n",
      "Description: customers of the online shop\n",
      "Fields: \n",
      "- user_id (integer) - unique identifier of customer, for example, 1000004 or 3000004\n",
      "- country (string) - country of residence, for example, \"Netherlands\" or \"United Kingdom\"\n",
      "- is_active (integer) - 1 if customer is still active and 0 otherwise\n",
      "- age (integer) - customer age in full years, for example, 31 or 72\n",
      "\n",
      "Table: ecommerce.sessions \n",
      "Description: sessions of usage the online shop\n",
      "Fields: \n",
      "- user_id (integer) - unique identifier of customer, for example, 1000004 or 3000004\n",
      "- session_id (integer) - unique identifier of session, for example, 106 or 1023\n",
      "- action_date (date) - session start date, for example, \"2021-01-03\" or \"2024-12-02\"\n",
      "- session_duration (integer) - duration of session in seconds, for example, 125 or 49\n",
      "- os (string) - operation system that customer used, for example, \"Windows\" or \"Android\"\n",
      "- browser (string) - browser that customer used, for example, \"Chrome\" or \"Safari\"\n",
      "- is_fraud (integer) - 1 if session is marked as fraud and 0 otherwise\n",
      "- revenue (float) - income in USD (the sum of purchased items), for example, 0.0 or 1506.7\n",
      "\n",
      "\n",
      "Write a query in ClickHouse SQL to answer the following question. \n",
      "Add \"format TabSeparatedWithNames\" at the end of each query to get data from ClickHouse database in the right format. \n",
      "Follow the provided instructions and always use tool to execute query.\n",
      "<|eot_id|><|start_header_id|>user<|end_header_id|>\n",
      "\n",
      "\n",
      "You've got the following question: \"Do we have customers who used multiple operating browsers during 2024? If so, please calculate the number of customers for each combination of browsers.\". \n",
      "You've generated the SQL query: \"SELECT browser, COUNT(DISTINCT user_id) as count FROM ecommerce.sessions WHERE action_date >= '2024-01-01' GROUP BY browser HAVING COUNT(DISTINCT user_id) > 1\".\n",
      "However, the database returned an error: \"Database returned the following error:\n",
      " Please, specify the output format, for example, 'select .... format TabSeparatedWithNames'.\". \n",
      "Please, revise the query to correct mistake. \n",
      "<|eot_id|><|start_header_id|>assistant<|end_header_id|>\n",
      "\n",
      "\n"
     ]
    },
    {
     "name": "stderr",
     "output_type": "stream",
     "text": [
      " 80%|█████████████████████████████████████████████████████████████████████████████████████████████████████████████████████████████████████████▌                                  | 8/10 [04:11<01:01, 30.54s/it]"
     ]
    },
    {
     "name": "stdout",
     "output_type": "stream",
     "text": [
      "Reflected query: SELECT browser, COUNT(DISTINCT user_id) as count FROM ecommerce.sessions WHERE action_date >= '2024-01-01' GROUP BY browser HAVING COUNT(DISTINCT user_id) > 1 format TabSeparatedWithNames\n",
      "Initial query: SELECT T2.browser, COUNT(T1.session_id) AS session_count FROM ecommerce.sessions as T1 JOIN ecommerce.users as T2 ON T1.user_id = T2.user_id WHERE is_fraud = 1 GROUP BY T2.browser ORDER BY session_count DESC LIMIT 1\n",
      "Reflection prompt: <|begin_of_text|><|start_header_id|>system<|end_header_id|>\n",
      "\n",
      "\n",
      "You are a senior data analyst with more than 10 years of experience writing complex SQL queries. \n",
      "There are two tables in the database you're working with with the following schemas. \n",
      "\n",
      "Table: ecommerce.users \n",
      "Description: customers of the online shop\n",
      "Fields: \n",
      "- user_id (integer) - unique identifier of customer, for example, 1000004 or 3000004\n",
      "- country (string) - country of residence, for example, \"Netherlands\" or \"United Kingdom\"\n",
      "- is_active (integer) - 1 if customer is still active and 0 otherwise\n",
      "- age (integer) - customer age in full years, for example, 31 or 72\n",
      "\n",
      "Table: ecommerce.sessions \n",
      "Description: sessions of usage the online shop\n",
      "Fields: \n",
      "- user_id (integer) - unique identifier of customer, for example, 1000004 or 3000004\n",
      "- session_id (integer) - unique identifier of session, for example, 106 or 1023\n",
      "- action_date (date) - session start date, for example, \"2021-01-03\" or \"2024-12-02\"\n",
      "- session_duration (integer) - duration of session in seconds, for example, 125 or 49\n",
      "- os (string) - operation system that customer used, for example, \"Windows\" or \"Android\"\n",
      "- browser (string) - browser that customer used, for example, \"Chrome\" or \"Safari\"\n",
      "- is_fraud (integer) - 1 if session is marked as fraud and 0 otherwise\n",
      "- revenue (float) - income in USD (the sum of purchased items), for example, 0.0 or 1506.7\n",
      "\n",
      "\n",
      "Write a query in ClickHouse SQL to answer the following question. \n",
      "Add \"format TabSeparatedWithNames\" at the end of each query to get data from ClickHouse database in the right format. \n",
      "Follow the provided instructions and always use tool to execute query.\n",
      "<|eot_id|><|start_header_id|>user<|end_header_id|>\n",
      "\n",
      "\n",
      "You've got the following question: \"Which browser has the highest share of fraud users?\". \n",
      "You've generated the SQL query: \"SELECT T2.browser, COUNT(T1.session_id) AS session_count FROM ecommerce.sessions as T1 JOIN ecommerce.users as T2 ON T1.user_id = T2.user_id WHERE is_fraud = 1 GROUP BY T2.browser ORDER BY session_count DESC LIMIT 1\".\n",
      "However, the database returned an error: \"Database returned the following error:\n",
      " Please, specify the output format, for example, 'select .... format TabSeparatedWithNames'.\". \n",
      "Please, revise the query to correct mistake. \n",
      "<|eot_id|><|start_header_id|>assistant<|end_header_id|>\n",
      "\n",
      "\n"
     ]
    },
    {
     "name": "stderr",
     "output_type": "stream",
     "text": [
      " 90%|██████████████████████████████████████████████████████████████████████████████████████████████████████████████████████████████████████████████████████████▊                 | 9/10 [04:42<00:30, 30.46s/it]"
     ]
    },
    {
     "name": "stdout",
     "output_type": "stream",
     "text": [
      "Reflected query: SELECT T2.browser, COUNT(T1.session_id) AS session_count FROM ecommerce.sessions as T1 JOIN ecommerce.users as T2 ON T1.user_id = T2.user_id WHERE is_fraud = 1 GROUP BY T2.browser ORDER BY session_count DESC LIMIT 1 format TabSeparatedWithNames\n",
      "Initial query: SELECT T1.country, COUNT(T2.user_id) as num_users FROM ecommerce.sessions AS T1 INNER JOIN ecommerce.users AS T2 ON T1.user_id = T2.user_id WHERE EXTRACT(YEAR FROM T1.action_date) = 2024 AND T2.is_active = '1' GROUP BY T1.country ORDER BY num_users DESC LIMIT 1\n",
      "Reflection prompt: <|begin_of_text|><|start_header_id|>system<|end_header_id|>\n",
      "\n",
      "\n",
      "You are a senior data analyst with more than 10 years of experience writing complex SQL queries. \n",
      "There are two tables in the database you're working with with the following schemas. \n",
      "\n",
      "Table: ecommerce.users \n",
      "Description: customers of the online shop\n",
      "Fields: \n",
      "- user_id (integer) - unique identifier of customer, for example, 1000004 or 3000004\n",
      "- country (string) - country of residence, for example, \"Netherlands\" or \"United Kingdom\"\n",
      "- is_active (integer) - 1 if customer is still active and 0 otherwise\n",
      "- age (integer) - customer age in full years, for example, 31 or 72\n",
      "\n",
      "Table: ecommerce.sessions \n",
      "Description: sessions of usage the online shop\n",
      "Fields: \n",
      "- user_id (integer) - unique identifier of customer, for example, 1000004 or 3000004\n",
      "- session_id (integer) - unique identifier of session, for example, 106 or 1023\n",
      "- action_date (date) - session start date, for example, \"2021-01-03\" or \"2024-12-02\"\n",
      "- session_duration (integer) - duration of session in seconds, for example, 125 or 49\n",
      "- os (string) - operation system that customer used, for example, \"Windows\" or \"Android\"\n",
      "- browser (string) - browser that customer used, for example, \"Chrome\" or \"Safari\"\n",
      "- is_fraud (integer) - 1 if session is marked as fraud and 0 otherwise\n",
      "- revenue (float) - income in USD (the sum of purchased items), for example, 0.0 or 1506.7\n",
      "\n",
      "\n",
      "Write a query in ClickHouse SQL to answer the following question. \n",
      "Add \"format TabSeparatedWithNames\" at the end of each query to get data from ClickHouse database in the right format. \n",
      "Follow the provided instructions and always use tool to execute query.\n",
      "<|eot_id|><|start_header_id|>user<|end_header_id|>\n",
      "\n",
      "\n",
      "You've got the following question: \"Which country had the highest number of first-time users in 2024?\". \n",
      "You've generated the SQL query: \"SELECT T1.country, COUNT(T2.user_id) as num_users FROM ecommerce.sessions AS T1 INNER JOIN ecommerce.users AS T2 ON T1.user_id = T2.user_id WHERE EXTRACT(YEAR FROM T1.action_date) = 2024 AND T2.is_active = '1' GROUP BY T1.country ORDER BY num_users DESC LIMIT 1\".\n",
      "However, the database returned an error: \"Database returned the following error:\n",
      " Please, specify the output format, for example, 'select .... format TabSeparatedWithNames'.\". \n",
      "Please, revise the query to correct mistake. \n",
      "<|eot_id|><|start_header_id|>assistant<|end_header_id|>\n",
      "\n",
      "\n"
     ]
    },
    {
     "name": "stderr",
     "output_type": "stream",
     "text": [
      "100%|███████████████████████████████████████████████████████████████████████████████████████████████████████████████████████████████████████████████████████████████████████████| 10/10 [05:19<00:00, 31.99s/it]\n"
     ]
    },
    {
     "name": "stdout",
     "output_type": "stream",
     "text": [
      "Reflected query: SELECT T1.country, COUNT(T2.user_id) as num_users FROM ecommerce.sessions AS T1 INNER JOIN ecommerce.users AS T2 ON T1.user_id = T2.user_id WHERE EXTRACT(YEAR FROM T1.action_date) = 2024 AND T2.is_active = '1' GROUP BY T1.country ORDER BY num_users DESC LIMIT 1 format TabSeparatedWithNames\n"
     ]
    },
    {
     "name": "stderr",
     "output_type": "stream",
     "text": [
      "100%|███████████████████████████████████████████████████████████████████████████████████████████████████████████████████████████████████████████████████████████████████████████| 10/10 [00:05<00:00,  1.72it/s]\n"
     ]
    },
    {
     "data": {
      "application/vnd.plotly.v1+json": {
       "config": {
        "plotlyServerURL": "https://plot.ly"
       },
       "data": [
        {
         "alignmentgroup": "True",
         "hovertemplate": "validity=error<br>share of queries, %=%{x}<br>=%{y}<extra></extra>",
         "legendgroup": "error",
         "marker": {
          "color": "#ea324c",
          "pattern": {
           "shape": ""
          }
         },
         "name": "error",
         "offsetgroup": "error",
         "orientation": "h",
         "showlegend": true,
         "textposition": "auto",
         "texttemplate": "%{x:.1f}",
         "type": "bar",
         "x": [
          0,
          60
         ],
         "xaxis": "x",
         "y": [
          "golden set",
          "generated"
         ],
         "yaxis": "y"
        },
        {
         "alignmentgroup": "True",
         "hovertemplate": "validity=ok<br>share of queries, %=%{x}<br>=%{y}<extra></extra>",
         "legendgroup": "ok",
         "marker": {
          "color": "#00b38a",
          "pattern": {
           "shape": ""
          }
         },
         "name": "ok",
         "offsetgroup": "ok",
         "orientation": "h",
         "showlegend": true,
         "textposition": "auto",
         "texttemplate": "%{x:.1f}",
         "type": "bar",
         "x": [
          100,
          40
         ],
         "xaxis": "x",
         "y": [
          "golden set",
          "generated"
         ],
         "yaxis": "y"
        }
       ],
       "layout": {
        "autosize": true,
        "barmode": "relative",
        "legend": {
         "title": {
          "text": "validity"
         },
         "tracegroupgap": 0
        },
        "template": {
         "data": {
          "bar": [
           {
            "error_x": {
             "color": "rgb(36,36,36)"
            },
            "error_y": {
             "color": "rgb(36,36,36)"
            },
            "marker": {
             "line": {
              "color": "white",
              "width": 0.5
             },
             "pattern": {
              "fillmode": "overlay",
              "size": 10,
              "solidity": 0.2
             }
            },
            "type": "bar"
           }
          ],
          "barpolar": [
           {
            "marker": {
             "line": {
              "color": "white",
              "width": 0.5
             },
             "pattern": {
              "fillmode": "overlay",
              "size": 10,
              "solidity": 0.2
             }
            },
            "type": "barpolar"
           }
          ],
          "carpet": [
           {
            "aaxis": {
             "endlinecolor": "rgb(36,36,36)",
             "gridcolor": "white",
             "linecolor": "white",
             "minorgridcolor": "white",
             "startlinecolor": "rgb(36,36,36)"
            },
            "baxis": {
             "endlinecolor": "rgb(36,36,36)",
             "gridcolor": "white",
             "linecolor": "white",
             "minorgridcolor": "white",
             "startlinecolor": "rgb(36,36,36)"
            },
            "type": "carpet"
           }
          ],
          "choropleth": [
           {
            "colorbar": {
             "outlinewidth": 1,
             "tickcolor": "rgb(36,36,36)",
             "ticks": "outside"
            },
            "type": "choropleth"
           }
          ],
          "contour": [
           {
            "colorbar": {
             "outlinewidth": 1,
             "tickcolor": "rgb(36,36,36)",
             "ticks": "outside"
            },
            "colorscale": [
             [
              0,
              "#440154"
             ],
             [
              0.1111111111111111,
              "#482878"
             ],
             [
              0.2222222222222222,
              "#3e4989"
             ],
             [
              0.3333333333333333,
              "#31688e"
             ],
             [
              0.4444444444444444,
              "#26828e"
             ],
             [
              0.5555555555555556,
              "#1f9e89"
             ],
             [
              0.6666666666666666,
              "#35b779"
             ],
             [
              0.7777777777777778,
              "#6ece58"
             ],
             [
              0.8888888888888888,
              "#b5de2b"
             ],
             [
              1,
              "#fde725"
             ]
            ],
            "type": "contour"
           }
          ],
          "contourcarpet": [
           {
            "colorbar": {
             "outlinewidth": 1,
             "tickcolor": "rgb(36,36,36)",
             "ticks": "outside"
            },
            "type": "contourcarpet"
           }
          ],
          "heatmap": [
           {
            "colorbar": {
             "outlinewidth": 1,
             "tickcolor": "rgb(36,36,36)",
             "ticks": "outside"
            },
            "colorscale": [
             [
              0,
              "#440154"
             ],
             [
              0.1111111111111111,
              "#482878"
             ],
             [
              0.2222222222222222,
              "#3e4989"
             ],
             [
              0.3333333333333333,
              "#31688e"
             ],
             [
              0.4444444444444444,
              "#26828e"
             ],
             [
              0.5555555555555556,
              "#1f9e89"
             ],
             [
              0.6666666666666666,
              "#35b779"
             ],
             [
              0.7777777777777778,
              "#6ece58"
             ],
             [
              0.8888888888888888,
              "#b5de2b"
             ],
             [
              1,
              "#fde725"
             ]
            ],
            "type": "heatmap"
           }
          ],
          "heatmapgl": [
           {
            "colorbar": {
             "outlinewidth": 1,
             "tickcolor": "rgb(36,36,36)",
             "ticks": "outside"
            },
            "colorscale": [
             [
              0,
              "#440154"
             ],
             [
              0.1111111111111111,
              "#482878"
             ],
             [
              0.2222222222222222,
              "#3e4989"
             ],
             [
              0.3333333333333333,
              "#31688e"
             ],
             [
              0.4444444444444444,
              "#26828e"
             ],
             [
              0.5555555555555556,
              "#1f9e89"
             ],
             [
              0.6666666666666666,
              "#35b779"
             ],
             [
              0.7777777777777778,
              "#6ece58"
             ],
             [
              0.8888888888888888,
              "#b5de2b"
             ],
             [
              1,
              "#fde725"
             ]
            ],
            "type": "heatmapgl"
           }
          ],
          "histogram": [
           {
            "marker": {
             "line": {
              "color": "white",
              "width": 0.6
             }
            },
            "type": "histogram"
           }
          ],
          "histogram2d": [
           {
            "colorbar": {
             "outlinewidth": 1,
             "tickcolor": "rgb(36,36,36)",
             "ticks": "outside"
            },
            "colorscale": [
             [
              0,
              "#440154"
             ],
             [
              0.1111111111111111,
              "#482878"
             ],
             [
              0.2222222222222222,
              "#3e4989"
             ],
             [
              0.3333333333333333,
              "#31688e"
             ],
             [
              0.4444444444444444,
              "#26828e"
             ],
             [
              0.5555555555555556,
              "#1f9e89"
             ],
             [
              0.6666666666666666,
              "#35b779"
             ],
             [
              0.7777777777777778,
              "#6ece58"
             ],
             [
              0.8888888888888888,
              "#b5de2b"
             ],
             [
              1,
              "#fde725"
             ]
            ],
            "type": "histogram2d"
           }
          ],
          "histogram2dcontour": [
           {
            "colorbar": {
             "outlinewidth": 1,
             "tickcolor": "rgb(36,36,36)",
             "ticks": "outside"
            },
            "colorscale": [
             [
              0,
              "#440154"
             ],
             [
              0.1111111111111111,
              "#482878"
             ],
             [
              0.2222222222222222,
              "#3e4989"
             ],
             [
              0.3333333333333333,
              "#31688e"
             ],
             [
              0.4444444444444444,
              "#26828e"
             ],
             [
              0.5555555555555556,
              "#1f9e89"
             ],
             [
              0.6666666666666666,
              "#35b779"
             ],
             [
              0.7777777777777778,
              "#6ece58"
             ],
             [
              0.8888888888888888,
              "#b5de2b"
             ],
             [
              1,
              "#fde725"
             ]
            ],
            "type": "histogram2dcontour"
           }
          ],
          "mesh3d": [
           {
            "colorbar": {
             "outlinewidth": 1,
             "tickcolor": "rgb(36,36,36)",
             "ticks": "outside"
            },
            "type": "mesh3d"
           }
          ],
          "parcoords": [
           {
            "line": {
             "colorbar": {
              "outlinewidth": 1,
              "tickcolor": "rgb(36,36,36)",
              "ticks": "outside"
             }
            },
            "type": "parcoords"
           }
          ],
          "pie": [
           {
            "automargin": true,
            "type": "pie"
           }
          ],
          "scatter": [
           {
            "fillpattern": {
             "fillmode": "overlay",
             "size": 10,
             "solidity": 0.2
            },
            "type": "scatter"
           }
          ],
          "scatter3d": [
           {
            "line": {
             "colorbar": {
              "outlinewidth": 1,
              "tickcolor": "rgb(36,36,36)",
              "ticks": "outside"
             }
            },
            "marker": {
             "colorbar": {
              "outlinewidth": 1,
              "tickcolor": "rgb(36,36,36)",
              "ticks": "outside"
             }
            },
            "type": "scatter3d"
           }
          ],
          "scattercarpet": [
           {
            "marker": {
             "colorbar": {
              "outlinewidth": 1,
              "tickcolor": "rgb(36,36,36)",
              "ticks": "outside"
             }
            },
            "type": "scattercarpet"
           }
          ],
          "scattergeo": [
           {
            "marker": {
             "colorbar": {
              "outlinewidth": 1,
              "tickcolor": "rgb(36,36,36)",
              "ticks": "outside"
             }
            },
            "type": "scattergeo"
           }
          ],
          "scattergl": [
           {
            "marker": {
             "colorbar": {
              "outlinewidth": 1,
              "tickcolor": "rgb(36,36,36)",
              "ticks": "outside"
             }
            },
            "type": "scattergl"
           }
          ],
          "scattermapbox": [
           {
            "marker": {
             "colorbar": {
              "outlinewidth": 1,
              "tickcolor": "rgb(36,36,36)",
              "ticks": "outside"
             }
            },
            "type": "scattermapbox"
           }
          ],
          "scatterpolar": [
           {
            "marker": {
             "colorbar": {
              "outlinewidth": 1,
              "tickcolor": "rgb(36,36,36)",
              "ticks": "outside"
             }
            },
            "type": "scatterpolar"
           }
          ],
          "scatterpolargl": [
           {
            "marker": {
             "colorbar": {
              "outlinewidth": 1,
              "tickcolor": "rgb(36,36,36)",
              "ticks": "outside"
             }
            },
            "type": "scatterpolargl"
           }
          ],
          "scatterternary": [
           {
            "marker": {
             "colorbar": {
              "outlinewidth": 1,
              "tickcolor": "rgb(36,36,36)",
              "ticks": "outside"
             }
            },
            "type": "scatterternary"
           }
          ],
          "surface": [
           {
            "colorbar": {
             "outlinewidth": 1,
             "tickcolor": "rgb(36,36,36)",
             "ticks": "outside"
            },
            "colorscale": [
             [
              0,
              "#440154"
             ],
             [
              0.1111111111111111,
              "#482878"
             ],
             [
              0.2222222222222222,
              "#3e4989"
             ],
             [
              0.3333333333333333,
              "#31688e"
             ],
             [
              0.4444444444444444,
              "#26828e"
             ],
             [
              0.5555555555555556,
              "#1f9e89"
             ],
             [
              0.6666666666666666,
              "#35b779"
             ],
             [
              0.7777777777777778,
              "#6ece58"
             ],
             [
              0.8888888888888888,
              "#b5de2b"
             ],
             [
              1,
              "#fde725"
             ]
            ],
            "type": "surface"
           }
          ],
          "table": [
           {
            "cells": {
             "fill": {
              "color": "rgb(237,237,237)"
             },
             "line": {
              "color": "white"
             }
            },
            "header": {
             "fill": {
              "color": "rgb(217,217,217)"
             },
             "line": {
              "color": "white"
             }
            },
            "type": "table"
           }
          ]
         },
         "layout": {
          "annotationdefaults": {
           "arrowhead": 0,
           "arrowwidth": 1
          },
          "autotypenumbers": "strict",
          "coloraxis": {
           "colorbar": {
            "outlinewidth": 1,
            "tickcolor": "rgb(36,36,36)",
            "ticks": "outside"
           }
          },
          "colorscale": {
           "diverging": [
            [
             0,
             "rgb(103,0,31)"
            ],
            [
             0.1,
             "rgb(178,24,43)"
            ],
            [
             0.2,
             "rgb(214,96,77)"
            ],
            [
             0.3,
             "rgb(244,165,130)"
            ],
            [
             0.4,
             "rgb(253,219,199)"
            ],
            [
             0.5,
             "rgb(247,247,247)"
            ],
            [
             0.6,
             "rgb(209,229,240)"
            ],
            [
             0.7,
             "rgb(146,197,222)"
            ],
            [
             0.8,
             "rgb(67,147,195)"
            ],
            [
             0.9,
             "rgb(33,102,172)"
            ],
            [
             1,
             "rgb(5,48,97)"
            ]
           ],
           "sequential": [
            [
             0,
             "#440154"
            ],
            [
             0.1111111111111111,
             "#482878"
            ],
            [
             0.2222222222222222,
             "#3e4989"
            ],
            [
             0.3333333333333333,
             "#31688e"
            ],
            [
             0.4444444444444444,
             "#26828e"
            ],
            [
             0.5555555555555556,
             "#1f9e89"
            ],
            [
             0.6666666666666666,
             "#35b779"
            ],
            [
             0.7777777777777778,
             "#6ece58"
            ],
            [
             0.8888888888888888,
             "#b5de2b"
            ],
            [
             1,
             "#fde725"
            ]
           ],
           "sequentialminus": [
            [
             0,
             "#440154"
            ],
            [
             0.1111111111111111,
             "#482878"
            ],
            [
             0.2222222222222222,
             "#3e4989"
            ],
            [
             0.3333333333333333,
             "#31688e"
            ],
            [
             0.4444444444444444,
             "#26828e"
            ],
            [
             0.5555555555555556,
             "#1f9e89"
            ],
            [
             0.6666666666666666,
             "#35b779"
            ],
            [
             0.7777777777777778,
             "#6ece58"
            ],
            [
             0.8888888888888888,
             "#b5de2b"
            ],
            [
             1,
             "#fde725"
            ]
           ]
          },
          "colorway": [
           "#1F77B4",
           "#FF7F0E",
           "#2CA02C",
           "#D62728",
           "#9467BD",
           "#8C564B",
           "#E377C2",
           "#7F7F7F",
           "#BCBD22",
           "#17BECF"
          ],
          "font": {
           "color": "rgb(36,36,36)"
          },
          "geo": {
           "bgcolor": "white",
           "lakecolor": "white",
           "landcolor": "white",
           "showlakes": true,
           "showland": true,
           "subunitcolor": "white"
          },
          "hoverlabel": {
           "align": "left"
          },
          "hovermode": "closest",
          "mapbox": {
           "style": "light"
          },
          "paper_bgcolor": "white",
          "plot_bgcolor": "white",
          "polar": {
           "angularaxis": {
            "gridcolor": "rgb(232,232,232)",
            "linecolor": "rgb(36,36,36)",
            "showgrid": false,
            "showline": true,
            "ticks": "outside"
           },
           "bgcolor": "white",
           "radialaxis": {
            "gridcolor": "rgb(232,232,232)",
            "linecolor": "rgb(36,36,36)",
            "showgrid": false,
            "showline": true,
            "ticks": "outside"
           }
          },
          "scene": {
           "xaxis": {
            "backgroundcolor": "white",
            "gridcolor": "rgb(232,232,232)",
            "gridwidth": 2,
            "linecolor": "rgb(36,36,36)",
            "showbackground": true,
            "showgrid": false,
            "showline": true,
            "ticks": "outside",
            "zeroline": false,
            "zerolinecolor": "rgb(36,36,36)"
           },
           "yaxis": {
            "backgroundcolor": "white",
            "gridcolor": "rgb(232,232,232)",
            "gridwidth": 2,
            "linecolor": "rgb(36,36,36)",
            "showbackground": true,
            "showgrid": false,
            "showline": true,
            "ticks": "outside",
            "zeroline": false,
            "zerolinecolor": "rgb(36,36,36)"
           },
           "zaxis": {
            "backgroundcolor": "white",
            "gridcolor": "rgb(232,232,232)",
            "gridwidth": 2,
            "linecolor": "rgb(36,36,36)",
            "showbackground": true,
            "showgrid": false,
            "showline": true,
            "ticks": "outside",
            "zeroline": false,
            "zerolinecolor": "rgb(36,36,36)"
           }
          },
          "shapedefaults": {
           "fillcolor": "black",
           "line": {
            "width": 0
           },
           "opacity": 0.3
          },
          "ternary": {
           "aaxis": {
            "gridcolor": "rgb(232,232,232)",
            "linecolor": "rgb(36,36,36)",
            "showgrid": false,
            "showline": true,
            "ticks": "outside"
           },
           "baxis": {
            "gridcolor": "rgb(232,232,232)",
            "linecolor": "rgb(36,36,36)",
            "showgrid": false,
            "showline": true,
            "ticks": "outside"
           },
           "bgcolor": "white",
           "caxis": {
            "gridcolor": "rgb(232,232,232)",
            "linecolor": "rgb(36,36,36)",
            "showgrid": false,
            "showline": true,
            "ticks": "outside"
           }
          },
          "title": {
           "x": 0.05
          },
          "xaxis": {
           "automargin": true,
           "gridcolor": "rgb(232,232,232)",
           "linecolor": "rgb(36,36,36)",
           "showgrid": false,
           "showline": true,
           "ticks": "outside",
           "title": {
            "standoff": 15
           },
           "zeroline": false,
           "zerolinecolor": "rgb(36,36,36)"
          },
          "yaxis": {
           "automargin": true,
           "gridcolor": "rgb(232,232,232)",
           "linecolor": "rgb(36,36,36)",
           "showgrid": false,
           "showline": true,
           "ticks": "outside",
           "title": {
            "standoff": 15
           },
           "zeroline": false,
           "zerolinecolor": "rgb(36,36,36)"
          }
         }
        },
        "title": {
         "text": "<b>LLM SQL Agent evaluation</b>: query validity"
        },
        "xaxis": {
         "anchor": "y",
         "autorange": true,
         "domain": [
          0,
          1
         ],
         "range": [
          0,
          105.26315789473684
         ],
         "title": {
          "text": "share of queries, %"
         },
         "type": "linear"
        },
        "yaxis": {
         "anchor": "x",
         "autorange": true,
         "domain": [
          0,
          1
         ],
         "range": [
          -0.5,
          1.5
         ],
         "title": {
          "text": ""
         },
         "type": "category"
        }
       }
      },
      "image/png": "[encoded data removed]",
      "text/html": [
       "<div>                            <div id=\"129b48c7-fc70-426e-b4f6-cbf775f33e01\" class=\"plotly-graph-div\" style=\"height:525px; width:100%;\"></div>            <script type=\"text/javascript\">                require([\"plotly\"], function(Plotly) {                    window.PLOTLYENV=window.PLOTLYENV || {};                                    if (document.getElementById(\"129b48c7-fc70-426e-b4f6-cbf775f33e01\")) {                    Plotly.newPlot(                        \"129b48c7-fc70-426e-b4f6-cbf775f33e01\",                        [{\"alignmentgroup\":\"True\",\"hovertemplate\":\"validity=error\\u003cbr\\u003eshare of queries, %=%{x}\\u003cbr\\u003e=%{y}\\u003cextra\\u003e\\u003c\\u002fextra\\u003e\",\"legendgroup\":\"error\",\"marker\":{\"color\":\"#ea324c\",\"pattern\":{\"shape\":\"\"}},\"name\":\"error\",\"offsetgroup\":\"error\",\"orientation\":\"h\",\"showlegend\":true,\"textposition\":\"auto\",\"texttemplate\":\"%{x:.1f}\",\"x\":[0.0,60.0],\"xaxis\":\"x\",\"y\":[\"golden set\",\"generated\"],\"yaxis\":\"y\",\"type\":\"bar\"},{\"alignmentgroup\":\"True\",\"hovertemplate\":\"validity=ok\\u003cbr\\u003eshare of queries, %=%{x}\\u003cbr\\u003e=%{y}\\u003cextra\\u003e\\u003c\\u002fextra\\u003e\",\"legendgroup\":\"ok\",\"marker\":{\"color\":\"#00b38a\",\"pattern\":{\"shape\":\"\"}},\"name\":\"ok\",\"offsetgroup\":\"ok\",\"orientation\":\"h\",\"showlegend\":true,\"textposition\":\"auto\",\"texttemplate\":\"%{x:.1f}\",\"x\":[100.0,40.0],\"xaxis\":\"x\",\"y\":[\"golden set\",\"generated\"],\"yaxis\":\"y\",\"type\":\"bar\"}],                        {\"template\":{\"data\":{\"histogram2dcontour\":[{\"type\":\"histogram2dcontour\",\"colorbar\":{\"outlinewidth\":1,\"tickcolor\":\"rgb(36,36,36)\",\"ticks\":\"outside\"},\"colorscale\":[[0.0,\"#440154\"],[0.1111111111111111,\"#482878\"],[0.2222222222222222,\"#3e4989\"],[0.3333333333333333,\"#31688e\"],[0.4444444444444444,\"#26828e\"],[0.5555555555555556,\"#1f9e89\"],[0.6666666666666666,\"#35b779\"],[0.7777777777777778,\"#6ece58\"],[0.8888888888888888,\"#b5de2b\"],[1.0,\"#fde725\"]]}],\"choropleth\":[{\"type\":\"choropleth\",\"colorbar\":{\"outlinewidth\":1,\"tickcolor\":\"rgb(36,36,36)\",\"ticks\":\"outside\"}}],\"histogram2d\":[{\"type\":\"histogram2d\",\"colorbar\":{\"outlinewidth\":1,\"tickcolor\":\"rgb(36,36,36)\",\"ticks\":\"outside\"},\"colorscale\":[[0.0,\"#440154\"],[0.1111111111111111,\"#482878\"],[0.2222222222222222,\"#3e4989\"],[0.3333333333333333,\"#31688e\"],[0.4444444444444444,\"#26828e\"],[0.5555555555555556,\"#1f9e89\"],[0.6666666666666666,\"#35b779\"],[0.7777777777777778,\"#6ece58\"],[0.8888888888888888,\"#b5de2b\"],[1.0,\"#fde725\"]]}],\"heatmap\":[{\"type\":\"heatmap\",\"colorbar\":{\"outlinewidth\":1,\"tickcolor\":\"rgb(36,36,36)\",\"ticks\":\"outside\"},\"colorscale\":[[0.0,\"#440154\"],[0.1111111111111111,\"#482878\"],[0.2222222222222222,\"#3e4989\"],[0.3333333333333333,\"#31688e\"],[0.4444444444444444,\"#26828e\"],[0.5555555555555556,\"#1f9e89\"],[0.6666666666666666,\"#35b779\"],[0.7777777777777778,\"#6ece58\"],[0.8888888888888888,\"#b5de2b\"],[1.0,\"#fde725\"]]}],\"heatmapgl\":[{\"type\":\"heatmapgl\",\"colorbar\":{\"outlinewidth\":1,\"tickcolor\":\"rgb(36,36,36)\",\"ticks\":\"outside\"},\"colorscale\":[[0.0,\"#440154\"],[0.1111111111111111,\"#482878\"],[0.2222222222222222,\"#3e4989\"],[0.3333333333333333,\"#31688e\"],[0.4444444444444444,\"#26828e\"],[0.5555555555555556,\"#1f9e89\"],[0.6666666666666666,\"#35b779\"],[0.7777777777777778,\"#6ece58\"],[0.8888888888888888,\"#b5de2b\"],[1.0,\"#fde725\"]]}],\"contourcarpet\":[{\"type\":\"contourcarpet\",\"colorbar\":{\"outlinewidth\":1,\"tickcolor\":\"rgb(36,36,36)\",\"ticks\":\"outside\"}}],\"contour\":[{\"type\":\"contour\",\"colorbar\":{\"outlinewidth\":1,\"tickcolor\":\"rgb(36,36,36)\",\"ticks\":\"outside\"},\"colorscale\":[[0.0,\"#440154\"],[0.1111111111111111,\"#482878\"],[0.2222222222222222,\"#3e4989\"],[0.3333333333333333,\"#31688e\"],[0.4444444444444444,\"#26828e\"],[0.5555555555555556,\"#1f9e89\"],[0.6666666666666666,\"#35b779\"],[0.7777777777777778,\"#6ece58\"],[0.8888888888888888,\"#b5de2b\"],[1.0,\"#fde725\"]]}],\"surface\":[{\"type\":\"surface\",\"colorbar\":{\"outlinewidth\":1,\"tickcolor\":\"rgb(36,36,36)\",\"ticks\":\"outside\"},\"colorscale\":[[0.0,\"#440154\"],[0.1111111111111111,\"#482878\"],[0.2222222222222222,\"#3e4989\"],[0.3333333333333333,\"#31688e\"],[0.4444444444444444,\"#26828e\"],[0.5555555555555556,\"#1f9e89\"],[0.6666666666666666,\"#35b779\"],[0.7777777777777778,\"#6ece58\"],[0.8888888888888888,\"#b5de2b\"],[1.0,\"#fde725\"]]}],\"mesh3d\":[{\"type\":\"mesh3d\",\"colorbar\":{\"outlinewidth\":1,\"tickcolor\":\"rgb(36,36,36)\",\"ticks\":\"outside\"}}],\"scatter\":[{\"fillpattern\":{\"fillmode\":\"overlay\",\"size\":10,\"solidity\":0.2},\"type\":\"scatter\"}],\"parcoords\":[{\"type\":\"parcoords\",\"line\":{\"colorbar\":{\"outlinewidth\":1,\"tickcolor\":\"rgb(36,36,36)\",\"ticks\":\"outside\"}}}],\"scatterpolargl\":[{\"type\":\"scatterpolargl\",\"marker\":{\"colorbar\":{\"outlinewidth\":1,\"tickcolor\":\"rgb(36,36,36)\",\"ticks\":\"outside\"}}}],\"bar\":[{\"error_x\":{\"color\":\"rgb(36,36,36)\"},\"error_y\":{\"color\":\"rgb(36,36,36)\"},\"marker\":{\"line\":{\"color\":\"white\",\"width\":0.5},\"pattern\":{\"fillmode\":\"overlay\",\"size\":10,\"solidity\":0.2}},\"type\":\"bar\"}],\"scattergeo\":[{\"type\":\"scattergeo\",\"marker\":{\"colorbar\":{\"outlinewidth\":1,\"tickcolor\":\"rgb(36,36,36)\",\"ticks\":\"outside\"}}}],\"scatterpolar\":[{\"type\":\"scatterpolar\",\"marker\":{\"colorbar\":{\"outlinewidth\":1,\"tickcolor\":\"rgb(36,36,36)\",\"ticks\":\"outside\"}}}],\"histogram\":[{\"marker\":{\"line\":{\"color\":\"white\",\"width\":0.6}},\"type\":\"histogram\"}],\"scattergl\":[{\"type\":\"scattergl\",\"marker\":{\"colorbar\":{\"outlinewidth\":1,\"tickcolor\":\"rgb(36,36,36)\",\"ticks\":\"outside\"}}}],\"scatter3d\":[{\"type\":\"scatter3d\",\"line\":{\"colorbar\":{\"outlinewidth\":1,\"tickcolor\":\"rgb(36,36,36)\",\"ticks\":\"outside\"}},\"marker\":{\"colorbar\":{\"outlinewidth\":1,\"tickcolor\":\"rgb(36,36,36)\",\"ticks\":\"outside\"}}}],\"scattermapbox\":[{\"type\":\"scattermapbox\",\"marker\":{\"colorbar\":{\"outlinewidth\":1,\"tickcolor\":\"rgb(36,36,36)\",\"ticks\":\"outside\"}}}],\"scatterternary\":[{\"type\":\"scatterternary\",\"marker\":{\"colorbar\":{\"outlinewidth\":1,\"tickcolor\":\"rgb(36,36,36)\",\"ticks\":\"outside\"}}}],\"scattercarpet\":[{\"type\":\"scattercarpet\",\"marker\":{\"colorbar\":{\"outlinewidth\":1,\"tickcolor\":\"rgb(36,36,36)\",\"ticks\":\"outside\"}}}],\"carpet\":[{\"aaxis\":{\"endlinecolor\":\"rgb(36,36,36)\",\"gridcolor\":\"white\",\"linecolor\":\"white\",\"minorgridcolor\":\"white\",\"startlinecolor\":\"rgb(36,36,36)\"},\"baxis\":{\"endlinecolor\":\"rgb(36,36,36)\",\"gridcolor\":\"white\",\"linecolor\":\"white\",\"minorgridcolor\":\"white\",\"startlinecolor\":\"rgb(36,36,36)\"},\"type\":\"carpet\"}],\"table\":[{\"cells\":{\"fill\":{\"color\":\"rgb(237,237,237)\"},\"line\":{\"color\":\"white\"}},\"header\":{\"fill\":{\"color\":\"rgb(217,217,217)\"},\"line\":{\"color\":\"white\"}},\"type\":\"table\"}],\"barpolar\":[{\"marker\":{\"line\":{\"color\":\"white\",\"width\":0.5},\"pattern\":{\"fillmode\":\"overlay\",\"size\":10,\"solidity\":0.2}},\"type\":\"barpolar\"}],\"pie\":[{\"automargin\":true,\"type\":\"pie\"}]},\"layout\":{\"autotypenumbers\":\"strict\",\"colorway\":[\"#1F77B4\",\"#FF7F0E\",\"#2CA02C\",\"#D62728\",\"#9467BD\",\"#8C564B\",\"#E377C2\",\"#7F7F7F\",\"#BCBD22\",\"#17BECF\"],\"font\":{\"color\":\"rgb(36,36,36)\"},\"hovermode\":\"closest\",\"hoverlabel\":{\"align\":\"left\"},\"paper_bgcolor\":\"white\",\"plot_bgcolor\":\"white\",\"polar\":{\"bgcolor\":\"white\",\"angularaxis\":{\"gridcolor\":\"rgb(232,232,232)\",\"linecolor\":\"rgb(36,36,36)\",\"showgrid\":false,\"showline\":true,\"ticks\":\"outside\"},\"radialaxis\":{\"gridcolor\":\"rgb(232,232,232)\",\"linecolor\":\"rgb(36,36,36)\",\"showgrid\":false,\"showline\":true,\"ticks\":\"outside\"}},\"ternary\":{\"bgcolor\":\"white\",\"aaxis\":{\"gridcolor\":\"rgb(232,232,232)\",\"linecolor\":\"rgb(36,36,36)\",\"showgrid\":false,\"showline\":true,\"ticks\":\"outside\"},\"baxis\":{\"gridcolor\":\"rgb(232,232,232)\",\"linecolor\":\"rgb(36,36,36)\",\"showgrid\":false,\"showline\":true,\"ticks\":\"outside\"},\"caxis\":{\"gridcolor\":\"rgb(232,232,232)\",\"linecolor\":\"rgb(36,36,36)\",\"showgrid\":false,\"showline\":true,\"ticks\":\"outside\"}},\"coloraxis\":{\"colorbar\":{\"outlinewidth\":1,\"tickcolor\":\"rgb(36,36,36)\",\"ticks\":\"outside\"}},\"colorscale\":{\"sequential\":[[0.0,\"#440154\"],[0.1111111111111111,\"#482878\"],[0.2222222222222222,\"#3e4989\"],[0.3333333333333333,\"#31688e\"],[0.4444444444444444,\"#26828e\"],[0.5555555555555556,\"#1f9e89\"],[0.6666666666666666,\"#35b779\"],[0.7777777777777778,\"#6ece58\"],[0.8888888888888888,\"#b5de2b\"],[1.0,\"#fde725\"]],\"sequentialminus\":[[0.0,\"#440154\"],[0.1111111111111111,\"#482878\"],[0.2222222222222222,\"#3e4989\"],[0.3333333333333333,\"#31688e\"],[0.4444444444444444,\"#26828e\"],[0.5555555555555556,\"#1f9e89\"],[0.6666666666666666,\"#35b779\"],[0.7777777777777778,\"#6ece58\"],[0.8888888888888888,\"#b5de2b\"],[1.0,\"#fde725\"]],\"diverging\":[[0.0,\"rgb(103,0,31)\"],[0.1,\"rgb(178,24,43)\"],[0.2,\"rgb(214,96,77)\"],[0.3,\"rgb(244,165,130)\"],[0.4,\"rgb(253,219,199)\"],[0.5,\"rgb(247,247,247)\"],[0.6,\"rgb(209,229,240)\"],[0.7,\"rgb(146,197,222)\"],[0.8,\"rgb(67,147,195)\"],[0.9,\"rgb(33,102,172)\"],[1.0,\"rgb(5,48,97)\"]]},\"xaxis\":{\"gridcolor\":\"rgb(232,232,232)\",\"linecolor\":\"rgb(36,36,36)\",\"showgrid\":false,\"showline\":true,\"ticks\":\"outside\",\"title\":{\"standoff\":15},\"zerolinecolor\":\"rgb(36,36,36)\",\"automargin\":true,\"zeroline\":false},\"yaxis\":{\"gridcolor\":\"rgb(232,232,232)\",\"linecolor\":\"rgb(36,36,36)\",\"showgrid\":false,\"showline\":true,\"ticks\":\"outside\",\"title\":{\"standoff\":15},\"zerolinecolor\":\"rgb(36,36,36)\",\"automargin\":true,\"zeroline\":false},\"scene\":{\"xaxis\":{\"backgroundcolor\":\"white\",\"gridcolor\":\"rgb(232,232,232)\",\"linecolor\":\"rgb(36,36,36)\",\"showbackground\":true,\"showgrid\":false,\"showline\":true,\"ticks\":\"outside\",\"zerolinecolor\":\"rgb(36,36,36)\",\"gridwidth\":2,\"zeroline\":false},\"yaxis\":{\"backgroundcolor\":\"white\",\"gridcolor\":\"rgb(232,232,232)\",\"linecolor\":\"rgb(36,36,36)\",\"showbackground\":true,\"showgrid\":false,\"showline\":true,\"ticks\":\"outside\",\"zerolinecolor\":\"rgb(36,36,36)\",\"gridwidth\":2,\"zeroline\":false},\"zaxis\":{\"backgroundcolor\":\"white\",\"gridcolor\":\"rgb(232,232,232)\",\"linecolor\":\"rgb(36,36,36)\",\"showbackground\":true,\"showgrid\":false,\"showline\":true,\"ticks\":\"outside\",\"zerolinecolor\":\"rgb(36,36,36)\",\"gridwidth\":2,\"zeroline\":false}},\"shapedefaults\":{\"fillcolor\":\"black\",\"line\":{\"width\":0},\"opacity\":0.3},\"annotationdefaults\":{\"arrowhead\":0,\"arrowwidth\":1},\"geo\":{\"bgcolor\":\"white\",\"landcolor\":\"white\",\"subunitcolor\":\"white\",\"showland\":true,\"showlakes\":true,\"lakecolor\":\"white\"},\"title\":{\"x\":0.05},\"mapbox\":{\"style\":\"light\"}}},\"xaxis\":{\"anchor\":\"y\",\"domain\":[0.0,1.0],\"title\":{\"text\":\"share of queries, %\"}},\"yaxis\":{\"anchor\":\"x\",\"domain\":[0.0,1.0],\"title\":{\"text\":\"\"}},\"legend\":{\"title\":{\"text\":\"validity\"},\"tracegroupgap\":0},\"title\":{\"text\":\"\\u003cb\\u003eLLM SQL Agent evaluation\\u003c\\u002fb\\u003e: query validity\"},\"barmode\":\"relative\"},                        {\"responsive\": true}                    ).then(function(){\n",
       "                            \n",
       "var gd = document.getElementById('129b48c7-fc70-426e-b4f6-cbf775f33e01');\n",
       "var x = new MutationObserver(function (mutations, observer) {{\n",
       "        var display = window.getComputedStyle(gd).display;\n",
       "        if (!display || display === 'none') {{\n",
       "            console.log([gd, 'removed!']);\n",
       "            Plotly.purge(gd);\n",
       "            observer.disconnect();\n",
       "        }}\n",
       "}});\n",
       "\n",
       "// Listen for the removal of the full notebook cells\n",
       "var notebookContainer = gd.closest('#notebook-container');\n",
       "if (notebookContainer) {{\n",
       "    x.observe(notebookContainer, {childList: true});\n",
       "}}\n",
       "\n",
       "// Listen for the clearing of the current output cell\n",
       "var outputEl = gd.closest('.output');\n",
       "if (outputEl) {{\n",
       "    x.observe(outputEl, {childList: true});\n",
       "}}\n",
       "\n",
       "                        })                };                });            </script>        </div>"
      ]
     },
     "metadata": {},
     "output_type": "display_data"
    }
   ],
   "source": [
    "refl_eval_df = evaluate_sql_agent(generate_query_reflection, golden_df)"
   ]
  },
  {
   "cell_type": "code",
   "execution_count": 73,
   "id": "baabbca4-3594-4be3-b9ca-a4227221dda5",
   "metadata": {},
   "outputs": [
    {
     "data": {
      "text/html": [
       "<div>\n",
       "<style scoped>\n",
       "    .dataframe tbody tr th:only-of-type {\n",
       "        vertical-align: middle;\n",
       "    }\n",
       "\n",
       "    .dataframe tbody tr th {\n",
       "        vertical-align: top;\n",
       "    }\n",
       "\n",
       "    .dataframe thead th {\n",
       "        text-align: right;\n",
       "    }\n",
       "</style>\n",
       "<table border=\"1\" class=\"dataframe\">\n",
       "  <thead>\n",
       "    <tr style=\"text-align: right;\">\n",
       "      <th></th>\n",
       "      <th>count</th>\n",
       "    </tr>\n",
       "    <tr>\n",
       "      <th>generated_output</th>\n",
       "      <th></th>\n",
       "    </tr>\n",
       "  </thead>\n",
       "  <tbody>\n",
       "    <tr>\n",
       "      <th>sum(if(equals(is_fraud, 0), 1, 0))\\n455376\\n</th>\n",
       "      <td>1</td>\n",
       "    </tr>\n",
       "    <tr>\n",
       "      <th>divide(multiply(CAST(sum(if(equals(is_fraud, 1), 1, 0)), \\'Float\\'), 100), count())\\n1.0058579080541428\\n</th>\n",
       "      <td>1</td>\n",
       "    </tr>\n",
       "    <tr>\n",
       "      <th>share\\n57.87996683461955\\n</th>\n",
       "      <td>1</td>\n",
       "    </tr>\n",
       "    <tr>\n",
       "      <th>Database returned the following error:\\nCode: 47. DB::Exception: Missing columns: 'age' 'country' while processing query: 'SELECT sum(revenue) FROM ecommerce.sessions WHERE (toMonth(action_date) = 12) AND ((action_date &gt;= '2024-01-01') AND (action_date &lt; '2025-01-01')) AND (country = 'Netherlands') AND (age &gt;= 55)', required columns: 'action_date' 'country' 'age' 'revenue', maybe you meant: 'action_date' or 'revenue'. (UNKNOWN_IDENTIFIER) (version 23.12.1.414 (official build))\\n</th>\n",
       "      <td>1</td>\n",
       "    </tr>\n",
       "    <tr>\n",
       "      <th>Database returned the following error:\\nCode: 47. DB::Exception: Missing columns: 'country' while processing query: 'SELECT country, percentile(0.5)(revenue) AS median_revenue, percentile(0.75)(revenue) - percentile(0.25)(revenue) AS iqr FROM ecommerce.sessions GROUP BY country', required columns: 'country' 'revenue', maybe you meant: 'revenue'. (UNKNOWN_IDENTIFIER) (version 23.12.1.414 (official build))\\n</th>\n",
       "      <td>1</td>\n",
       "    </tr>\n",
       "    <tr>\n",
       "      <th>Database returned the following error:\\nCode: 42. DB::Exception: Number of arguments for function dateDiff doesn't match: passed 2, should be 3 or 4: While processing dateDiff(first_purchase, first_session). (NUMBER_OF_ARGUMENTS_DOESNT_MATCH) (version 23.12.1.414 (official build))\\n</th>\n",
       "      <td>1</td>\n",
       "    </tr>\n",
       "    <tr>\n",
       "      <th>Database returned the following error:\\nCode: 47. DB::Exception: Missing columns: 'YEAR' 'MONTH' while processing query: 'SELECT os, count() AS count FROM ecommerce.sessions WHERE (extract(MONTH, action_date) = 12) AND (extract(YEAR, action_date) = 2024) GROUP BY os', required columns: 'os' 'MONTH' 'action_date' 'YEAR', maybe you meant: 'os' or 'action_date'. (UNKNOWN_IDENTIFIER) (version 23.12.1.414 (official build))\\n</th>\n",
       "      <td>1</td>\n",
       "    </tr>\n",
       "    <tr>\n",
       "      <th>browser\\tcount\\nChrome\\t593442\\nSafari\\t521440\\nFirefox\\t320815\\n</th>\n",
       "      <td>1</td>\n",
       "    </tr>\n",
       "    <tr>\n",
       "      <th>Database returned the following error:\\nCode: 47. DB::Exception: There's no column 'T2.browser' in table 'T2': While processing T2.browser. (UNKNOWN_IDENTIFIER) (version 23.12.1.414 (official build))\\n</th>\n",
       "      <td>1</td>\n",
       "    </tr>\n",
       "    <tr>\n",
       "      <th>Database returned the following error:\\nCode: 47. DB::Exception: There's no column 'T1.country' in table 'T1': While processing T1.country. (UNKNOWN_IDENTIFIER) (version 23.12.1.414 (official build))\\n</th>\n",
       "      <td>1</td>\n",
       "    </tr>\n",
       "  </tbody>\n",
       "</table>\n",
       "</div>"
      ],
      "text/plain": [
       "                                                                                                                                                                                                                                                                                                                                                                                                                                                                                                     count\n",
       "generated_output                                                                                                                                                                                                                                                                                                                                                                                                                                                                                          \n",
       "sum(if(equals(is_fraud, 0), 1, 0))\\n455376\\n                                                                                                                                                                                                                                                                                                                                                                                                                                                             1\n",
       "divide(multiply(CAST(sum(if(equals(is_fraud, 1), 1, 0)), \\'Float\\'), 100), count())\\n1.0058579080541428\\n                                                                                                                                                                                                                                                                                                                                                                                                1\n",
       "share\\n57.87996683461955\\n                                                                                                                                                                                                                                                                                                                                                                                                                                                                               1\n",
       "Database returned the following error:\\nCode: 47. DB::Exception: Missing columns: 'age' 'country' while processing query: 'SELECT sum(revenue) FROM ecommerce.sessions WHERE (toMonth(action_date) = 12) AND ((action_date >= '2024-01-01') AND (action_date < '2025-01-01')) AND (country = 'Netherlands') AND (age >= 55)', required columns: 'action_date' 'country' 'age' 'revenue', maybe you meant: 'action_date' or 'revenue'. (UNKNOWN_IDENTIFIER) (version 23.12.1.414 (official build))\\n      1\n",
       "Database returned the following error:\\nCode: 47. DB::Exception: Missing columns: 'country' while processing query: 'SELECT country, percentile(0.5)(revenue) AS median_revenue, percentile(0.75)(revenue) - percentile(0.25)(revenue) AS iqr FROM ecommerce.sessions GROUP BY country', required columns: 'country' 'revenue', maybe you meant: 'revenue'. (UNKNOWN_IDENTIFIER) (version 23.12.1.414 (official build))\\n                                                                                1\n",
       "Database returned the following error:\\nCode: 42. DB::Exception: Number of arguments for function dateDiff doesn't match: passed 2, should be 3 or 4: While processing dateDiff(first_purchase, first_session). (NUMBER_OF_ARGUMENTS_DOESNT_MATCH) (version 23.12.1.414 (official build))\\n                                                                                                                                                                                                              1\n",
       "Database returned the following error:\\nCode: 47. DB::Exception: Missing columns: 'YEAR' 'MONTH' while processing query: 'SELECT os, count() AS count FROM ecommerce.sessions WHERE (extract(MONTH, action_date) = 12) AND (extract(YEAR, action_date) = 2024) GROUP BY os', required columns: 'os' 'MONTH' 'action_date' 'YEAR', maybe you meant: 'os' or 'action_date'. (UNKNOWN_IDENTIFIER) (version 23.12.1.414 (official build))\\n                                                                  1\n",
       "browser\\tcount\\nChrome\\t593442\\nSafari\\t521440\\nFirefox\\t320815\\n                                                                                                                                                                                                                                                                                                                                                                                                                                        1\n",
       "Database returned the following error:\\nCode: 47. DB::Exception: There's no column 'T2.browser' in table 'T2': While processing T2.browser. (UNKNOWN_IDENTIFIER) (version 23.12.1.414 (official build))\\n                                                                                                                                                                                                                                                                                                1\n",
       "Database returned the following error:\\nCode: 47. DB::Exception: There's no column 'T1.country' in table 'T1': While processing T1.country. (UNKNOWN_IDENTIFIER) (version 23.12.1.414 (official build))\\n                                                                                                                                                                                                                                                                                                1"
      ]
     },
     "execution_count": 73,
     "metadata": {},
     "output_type": "execute_result"
    }
   ],
   "source": [
    "pd.DataFrame(refl_eval_df.generated_output.value_counts())"
   ]
  },
  {
   "cell_type": "code",
   "execution_count": 76,
   "id": "13a39b7a-b6ce-49cf-a054-c05e45b34521",
   "metadata": {},
   "outputs": [],
   "source": [
    "rec = refl_eval_df[refl_eval_df.generated_output_valid != 'error'].to_dict('records')[0]"
   ]
  },
  {
   "cell_type": "code",
   "execution_count": 77,
   "id": "b31abf2b-2e3f-4b34-a0d2-bf065ba2fb8f",
   "metadata": {},
   "outputs": [
    {
     "data": {
      "text/plain": [
       "{'question': 'How many customers made purchase in December 2024?',\n",
       " 'sql_query': \"select uniqExact(user_id) as customers from ecommerce.sessions where (toStartOfMonth(action_date) = '2024-12-01') and (revenue > 0) format TabSeparatedWithNames\",\n",
       " 'id': 0,\n",
       " 'generated_query': 'SELECT SUM(CASE WHEN is_fraud = 0 THEN 1 ELSE 0 END) FROM ecommerce.sessions WHERE EXTRACT(YEAR FROM action_date) = 2024 AND EXTRACT(MONTH FROM action_date) = 12 AND user_id IN (SELECT user_id FROM ecommerce.users WHERE is_active = 1) format TabSeparatedWithNames',\n",
       " 'golden_output': 'customers\\n114032\\n',\n",
       " 'generated_output': 'sum(if(equals(is_fraud, 0), 1, 0))\\n455376\\n',\n",
       " 'golden_output_valid': 'ok',\n",
       " 'generated_output_valid': 'ok'}"
      ]
     },
     "execution_count": 77,
     "metadata": {},
     "output_type": "execute_result"
    }
   ],
   "source": [
    "rec"
   ]
  },
  {
   "cell_type": "markdown",
   "id": "9fedeac9-1626-44f7-a92f-074ee37b4fff",
   "metadata": {},
   "source": [
    "# Estimating correctness"
   ]
  },
  {
   "cell_type": "code",
   "execution_count": 170,
   "id": "32ba7c9b-7968-4b91-bc92-fbc3e5be8f63",
   "metadata": {},
   "outputs": [],
   "source": [
    "accuracy_system_prompt = '''\n",
    "You are a senior and very diligent QA specialist and your task is to compare data in datasets. \n",
    "They are similar if they are almost identical, or if they convey the same information. \n",
    "Disregard if column names specified in the first row have different names or in a different order.\n",
    "Focus on comparing the actual information (numbers). If values in datasets are different, than it means that they are not identical.\n",
    "Always execute tool to provide results.\n",
    "'''"
   ]
  },
  {
   "cell_type": "code",
   "execution_count": 171,
   "id": "aeab8988-6ea4-45df-8709-edc99a664492",
   "metadata": {},
   "outputs": [],
   "source": [
    "@tool\n",
    "def compare_datasets(comments: str, score: int) -> str:\n",
    "    \"\"\"Stores info about datasets.\n",
    "\n",
    "    Args:\n",
    "        comments (str): 1-2 sentences about the comparison of datasets,\n",
    "        score (int): 0 if dataset provides different values and 1 if it shows identical information\n",
    "    \"\"\"\n",
    "    pass"
   ]
  },
  {
   "cell_type": "code",
   "execution_count": null,
   "id": "88f2b749-4455-4440-863d-fde57bef09bf",
   "metadata": {},
   "outputs": [],
   "source": [
    "# ! pip install -qU langchain-openai"
   ]
  },
  {
   "cell_type": "code",
   "execution_count": 187,
   "id": "61f3f2ad-a895-419f-a43d-5683f0772687",
   "metadata": {},
   "outputs": [],
   "source": [
    "from langchain_openai import ChatOpenAI\n",
    "\n",
    "accuracy_chat_llm = ChatOpenAI(model=\"gpt-4o-mini\", temperature = 0.0).bind_tools([compare_datasets])"
   ]
  },
  {
   "cell_type": "code",
   "execution_count": 188,
   "id": "534daf0c-9d4d-47fa-9920-33c98509ea85",
   "metadata": {},
   "outputs": [],
   "source": [
    "def get_openai_prompt(question, system):\n",
    "    messages = [\n",
    "        (\"system\", system),\n",
    "        (\"human\", question)\n",
    "    ]\n",
    "    return messages"
   ]
  },
  {
   "cell_type": "code",
   "execution_count": 189,
   "id": "c110bd72-2071-4237-832b-ef78a019c771",
   "metadata": {},
   "outputs": [],
   "source": [
    "# accuracy_chat_llm = ChatOllama(model=\"llama3.1:8b\", temperature = 0.0).bind_tools([compare_datasets])"
   ]
  },
  {
   "cell_type": "code",
   "execution_count": 190,
   "id": "ee3a0f16-6f49-4594-8349-c15e4d36428f",
   "metadata": {},
   "outputs": [],
   "source": [
    "accuracy_question_tmp = '''\n",
    "Here are the two datasets to compare delimited by ####\n",
    "\n",
    "Dataset #1: \n",
    "####\n",
    "{dataset1}\n",
    "####\n",
    "\n",
    "Dataset #2: \n",
    "####\n",
    "{dataset2}\n",
    "####\n",
    "'''"
   ]
  },
  {
   "cell_type": "code",
   "execution_count": 178,
   "id": "15d89e27-da51-47b9-a537-8a72702a008d",
   "metadata": {},
   "outputs": [],
   "source": [
    "# prompt = get_llama_prompt(accuracy_question_tmp.format(dataset1 = rec['golden_output'], dataset2 = rec['generated_output']),\n",
    "#                          accuracy_system_prompt)\n",
    "# print(prompt)"
   ]
  },
  {
   "cell_type": "code",
   "execution_count": 179,
   "id": "b7f64349-8b77-42c0-ac92-b64a292d26b0",
   "metadata": {},
   "outputs": [],
   "source": [
    "# accuracy_result = accuracy_chat_llm.invoke(prompt)"
   ]
  },
  {
   "cell_type": "code",
   "execution_count": 180,
   "id": "f4a28844-b965-4705-9eec-5b8ff197bb65",
   "metadata": {},
   "outputs": [],
   "source": [
    "# accuracy_result.tool_calls[0]['args']['score']"
   ]
  },
  {
   "cell_type": "code",
   "execution_count": 181,
   "id": "58e0a91f-6b13-4316-a56b-e691c66d69ae",
   "metadata": {},
   "outputs": [],
   "source": [
    "prompt = get_openai_prompt(accuracy_question_tmp.format(dataset1 = 'customers\\n114032\\n', dataset2 = 'customers\\n114031\\n'),\n",
    "                         accuracy_system_prompt)\n",
    "# print(prompt)\n",
    "\n",
    "# accuracy_result = accuracy_chat_llm.invoke(prompt)\n",
    "# accuracy_result.tool_calls[0]['args']"
   ]
  },
  {
   "cell_type": "code",
   "execution_count": 182,
   "id": "93f52052-c19b-49be-b0e7-af8e6e142c9e",
   "metadata": {},
   "outputs": [],
   "source": [
    "prompt = get_openai_prompt(accuracy_question_tmp.format(dataset1 = 'users\\n114032\\n', dataset2 = 'customers\\n114032\\n'),\n",
    "                         accuracy_system_prompt)\n",
    "# print(prompt)\n",
    "\n",
    "# accuracy_result = accuracy_chat_llm.invoke(prompt)\n",
    "# accuracy_result.tool_calls[0]['args']"
   ]
  },
  {
   "cell_type": "code",
   "execution_count": 195,
   "id": "fa147cc6-e2fb-4a36-b5c9-95b1615a093a",
   "metadata": {},
   "outputs": [],
   "source": [
    "import plotly.io as pio\n",
    "pio.templates.default = 'simple_white'\n",
    "\n",
    "def is_answer_accurate(output1, output2):\n",
    "    prompt = get_openai_prompt(accuracy_question_tmp.format(dataset1 = output1, dataset2 = output2),\n",
    "        accuracy_system_prompt)\n",
    "    accuracy_result = accuracy_chat_llm.invoke(prompt)\n",
    "    try:\n",
    "        return accuracy_result.tool_calls[0]['args']['score']\n",
    "    except:\n",
    "        return None\n",
    "\n",
    "def evaluate_sql_agent(generate_query_func, golden_df):\n",
    "  # generating SQL\n",
    "  tmp = []\n",
    "  for rec in tqdm.tqdm(golden_df.to_dict('records')):\n",
    "    generated_query = generate_query_func(rec['question'])\n",
    "    tmp.append(\n",
    "      {\n",
    "          'id': rec['id'],\n",
    "          'generated_query': generated_query\n",
    "      }\n",
    "    )\n",
    "\n",
    "  eval_df = golden_df.merge(pd.DataFrame(tmp))\n",
    "\n",
    "  # executing SQL queries\n",
    "\n",
    "  tmp = []\n",
    "\n",
    "  for rec in tqdm.tqdm(eval_df.to_dict('records')):\n",
    "    golden_output = get_clickhouse_data(rec['sql_query'])\n",
    "    generated_output = get_clickhouse_data(rec['generated_query'])\n",
    "\n",
    "    tmp.append(\n",
    "        {\n",
    "            'id': rec['id'],\n",
    "            'golden_output': golden_output,\n",
    "            'generated_output': generated_output\n",
    "        }\n",
    "    )\n",
    "\n",
    "  eval_df = eval_df.merge(pd.DataFrame(tmp))\n",
    "\n",
    "  # checking validity\n",
    "  eval_df['golden_output_valid'] = eval_df.golden_output.map(is_valid_output)\n",
    "  eval_df['generated_output_valid'] = eval_df.generated_output.map(is_valid_output)\n",
    "  \n",
    "  eval_df['correct_output'] = list(map(\n",
    "      is_answer_accurate,\n",
    "      eval_df['golden_output'],\n",
    "      eval_df['generated_output']\n",
    "  ))\n",
    "\n",
    "  eval_df['accuracy'] = list(map(\n",
    "      lambda x, y: 'invalid: ' + x if x != 'ok' else ('correct' if y == 1 else 'incorrect'),\n",
    "      eval_df.generated_output_valid,\n",
    "      eval_df.correct_output\n",
    "  ))\n",
    "\n",
    "  valid_stats_df = (eval_df.groupby('golden_output_valid')[['id']].count().rename(columns = {'id': 'golden set'}).join(\n",
    "    eval_df.groupby('generated_output_valid')[['id']].count().rename(columns = {'id': 'generated'}), how = 'outer')).fillna(0).T\n",
    "\n",
    "  fig = px.bar(valid_stats_df.apply(lambda x: 100*x/valid_stats_df.sum(axis = 1)),\n",
    "      orientation = 'h', title = '<b>LLM SQL Agent evaluation</b>: query validity',\n",
    "       text_auto = '.1f',\n",
    "       color_discrete_map = {'ok': '#00b38a', 'error': '#ea324c', 'too many rows': '#f2ac42'},\n",
    "      labels = {'index': '', 'variable': 'validity', 'value': 'share of queries, %'})\n",
    "\n",
    "  fig.show()\n",
    "\n",
    "  accuracy_stats_df = eval_df.groupby('accuracy')[['id']].count()\n",
    "  accuracy_stats_df['share'] = accuracy_stats_df.id*100/accuracy_stats_df.id.sum()\n",
    "\n",
    "  fig = px.bar(accuracy_stats_df[['share']],\n",
    "      title = '<b>LLM SQL Agent evaluation</b>: query accuracy',\n",
    "       text_auto = '.1f', orientation = 'h',\n",
    "       color_discrete_sequence = ['#0077B5'],\n",
    "      labels = {'index': '', 'variable': 'accuracy', 'value': 'share of queries, %'})\n",
    "\n",
    "  fig.update_layout(showlegend = False)\n",
    "  fig.show()\n",
    "\n",
    "  return eval_df"
   ]
  },
  {
   "cell_type": "code",
   "execution_count": 199,
   "id": "22cab782-e0f8-4688-aca1-daeb07390c0e",
   "metadata": {},
   "outputs": [
    {
     "name": "stderr",
     "output_type": "stream",
     "text": [
      "  0%|                                                                                                                                                                                    | 0/10 [00:00<?, ?it/s]"
     ]
    },
    {
     "name": "stdout",
     "output_type": "stream",
     "text": [
      "Initial query: SELECT COUNT(DISTINCT user_id) FROM ecommerce.sessions WHERE YEAR(action_date) = 2024 AND MONTH(action_date) = 12\n"
     ]
    },
    {
     "name": "stderr",
     "output_type": "stream",
     "text": [
      " 10%|█████████████████▏                                                                                                                                                          | 1/10 [00:11<01:46, 11.89s/it]"
     ]
    },
    {
     "name": "stdout",
     "output_type": "stream",
     "text": [
      "Reflected query: SELECT COUNT(DISTINCT user_id) FROM ecommerce.sessions WHERE YEAR(action_date) = 2024 AND MONTH(action_date) = 12 format TabSeparatedWithNames\n",
      "Initial query: SELECT CAST(SUM(CASE WHEN is_fraud = 1 THEN 1 ELSE 0 END) AS Float) * 100 / COUNT(session_id) FROM ecommerce.sessions WHERE YEAR(action_date) = 2023\n"
     ]
    },
    {
     "name": "stderr",
     "output_type": "stream",
     "text": [
      " 20%|██████████████████████████████████▍                                                                                                                                         | 2/10 [00:24<01:38, 12.37s/it]"
     ]
    },
    {
     "name": "stdout",
     "output_type": "stream",
     "text": [
      "Reflected query: SELECT CAST(SUM(CASE WHEN is_fraud = 1 THEN 1 ELSE 0 END) AS Float) * 100 / COUNT(session_id) FROM ecommerce.sessions WHERE YEAR(action_date) = 2023 format TabSeparatedWithNames\n",
      "Initial query: SELECT count(DISTINCT T1.user_id) / (SELECT COUNT(user_id) FROM ecommerce.sessions WHERE action_date = (CURRENT_DATE - INTERVAL '1 day')) * 100 FROM ecommerce.sessions AS T1 JOIN ecommerce.users AS T2 ON T1.user_id = T2.user_id WHERE T1.os = 'Windows'\n"
     ]
    },
    {
     "name": "stderr",
     "output_type": "stream",
     "text": [
      " 30%|███████████████████████████████████████████████████▌                                                                                                                        | 3/10 [00:41<01:40, 14.34s/it]"
     ]
    },
    {
     "name": "stdout",
     "output_type": "stream",
     "text": [
      "Reflected query: SELECT count(DISTINCT T1.user_id) / (SELECT COUNT(user_id) FROM ecommerce.sessions WHERE action_date = (CURRENT_DATE - INTERVAL '1 day')) * 100 FROM ecommerce.sessions AS T1 JOIN ecommerce.users AS T2 ON T1.user_id = T2.user_id WHERE T1.os = 'Windows' format TabSeparatedWithNames\n",
      "Initial query: SELECT SUM(T2.revenue) FROM ecommerce.sessions AS T1 INNER JOIN ecommerce.users AS T2 ON T1.user_id = T2.user_id WHERE T2.country = 'Netherlands' AND T1.action_date LIKE '%-12-2024' AND T2.age >= 55\n"
     ]
    },
    {
     "name": "stderr",
     "output_type": "stream",
     "text": [
      " 40%|████████████████████████████████████████████████████████████████████▊                                                                                                       | 4/10 [01:04<01:46, 17.81s/it]"
     ]
    },
    {
     "name": "stdout",
     "output_type": "stream",
     "text": [
      "Reflected query: SELECT SUM(T2.revenue) FROM ecommerce.sessions AS T1 INNER JOIN ecommerce.users AS T2 ON T1.user_id = T2.user_id WHERE T2.country = 'Netherlands' AND T1.action_date LIKE '%-12-2024' AND T2.age >= 55 format TabSeparatedWithNames\n",
      "Initial query: SELECT country, quantile(0.5, AGG_REVENUE) AS median_revenue, quantile(0.75, AGG_REVENUE) - quantile(0.25, AGG_REVENUE) AS IQR FROM ( SELECT country, revenue FROM ecommerce.sessions WHERE is_fraud = 0 GROUP BY country ) GROUP BY country\n"
     ]
    },
    {
     "name": "stderr",
     "output_type": "stream",
     "text": [
      " 50%|██████████████████████████████████████████████████████████████████████████████████████                                                                                      | 5/10 [01:33<01:49, 21.85s/it]"
     ]
    },
    {
     "name": "stdout",
     "output_type": "stream",
     "text": [
      "Reflected query: SELECT country, quantile(0.5, AGG_REVENUE) AS median_revenue, quantile(0.75, AGG_REVENUE) - quantile(0.25, AGG_REVENUE) AS IQR FROM ( SELECT country, revenue FROM ecommerce.sessions WHERE is_fraud = 0 GROUP BY country ) GROUP BY country format TabSeparatedWithNames\n",
      "Initial query: SELECT AVG(DATEDIFF('day', MIN(action_date), action_date)) as avg_days FROM ecommerce.sessions WHERE revenue > 0 GROUP BY user_id\n"
     ]
    },
    {
     "name": "stderr",
     "output_type": "stream",
     "text": [
      " 60%|███████████████████████████████████████████████████████████████████████████████████████████████████████▏                                                                    | 6/10 [01:53<01:25, 21.38s/it]"
     ]
    },
    {
     "name": "stdout",
     "output_type": "stream",
     "text": [
      "Reflected query: SELECT AVG(DATEDIFF('day', MIN(action_date), action_date)) as avg_days FROM ecommerce.sessions WHERE revenue > 0 GROUP BY user_id format TabSeparatedWithNames\n",
      "Initial query: SELECT os, COUNT(session_id) as count FROM ecommerce.sessions WHERE STR_TO_DATE(action_date, 'yyyy-MM-dd') = '2024-12-01' OR STR_TO_DATE(action_date, 'yyyy-MM-dd') = '2024-12-02' OR STR_TO_DATE(action_date, 'yyyy-MM-dd') = '2024-12-03' OR STR_TO_DATE(action_date, 'yyyy-MM-dd') = '2024-12-04' OR STR_TO_DATE(action_date, 'yyyy-MM-dd') = '2024-12-05' OR STR_TO_DATE(action_date, 'yyyy-MM-dd') = '2024-12-06' OR STR_TO_DATE(action_date, 'yyyy-MM-dd') = '2024-12-07' OR STR_TO_DATE(action_date, 'yyyy-MM-dd') = '2024-12-08' OR STR_TO_DATE(action_date, 'yyyy-MM-dd') = '2024-12-09' OR STR_TO_DATE(action_date, 'yyyy-MM-dd') = '2024-12-10' OR STR_TO_DATE(action_date, 'yyyy-MM-dd') = '2024-12-11' OR STR_TO_DATE(action_date, 'yyyy-MM-dd') = '2024-12-12' OR STR_TO_DATE(action_date, 'yyyy-MM-dd') = '2024-12-13' OR STR_TO_DATE(action_date, 'yyyy-MM-dd') = '2024-12-14' OR STR_TO_DATE(action_date, 'yyyy-MM-dd') = '2024-12-15' OR STR_TO_DATE(action_date, 'yyyy-MM-dd') = '2024-12-16' OR STR_TO_DATE(action_date, 'yyyy-MM-dd') = '2024-12-17' OR STR_TO_DATE(action_date, 'yyyy-MM-dd') = '2024-12-18' OR STR_TO_DATE(action_date, 'yyyy-MM-dd') = '2024-12-19' OR STR_TO_DATE(action_date, 'yyyy-MM-dd') = '2024-12-20' OR STR_TO_DATE(action_date, 'yyyy-MM-dd') = '2024-12-21' OR STR_TO_DATE(action_date, 'yyyy-MM-dd') = '2024-12-22' OR STR_TO_DATE(action_date, 'yyyy-MM-dd') = '2024-12-23' OR STR_TO_DATE(action_date, 'yyyy-MM-dd') = '2024-12-24' OR STR_TO_DATE(action_date, 'yyyy-MM-dd') = '2024-12-25' OR STR_TO_DATE(action_date, 'yyyy-MM-dd') = '2024-12-26' OR STR_TO_DATE(action_date, 'yyyy-MM-dd') = '2024-12-27' OR STR_TO_DATE(action_date, 'yyyy-MM-dd') = '2024-12-28' OR STR_TO_DATE(action_date, 'yyyy-MM-dd') = '2024-12-29' OR STR_TO_DATE(action_date, 'yyyy-MM-dd') = '2024-12-30' OR STR_TO_DATE(action_date, 'yyyy-MM-dd') = '2024-12-31' GROUP BY os\n"
     ]
    },
    {
     "name": "stderr",
     "output_type": "stream",
     "text": [
      " 70%|████████████████████████████████████████████████████████████████████████████████████████████████████████████████████████▍                                                   | 7/10 [03:40<02:27, 49.21s/it]"
     ]
    },
    {
     "name": "stdout",
     "output_type": "stream",
     "text": [
      "Reflected query: SELECT os, COUNT(session_id) as count FROM ecommerce.sessions WHERE action_date >= '2024-12-01' AND action_date <= '2024-12-31' GROUP BY os format TabSeparatedWithNames\n",
      "Initial query: SELECT browser1, browser2, COUNT(DISTINCT user_id) as count FROM (SELECT user_id, browser AS browser1, LAG(browser) OVER (PARTITION BY user_id ORDER BY session_id) AS browser2 FROM ecommerce.sessions WHERE YEAR(action_date) = 2024 GROUP BY user_id, browser) t WHERE browser2 IS NOT NULL GROUP BY browser1, browser2\n"
     ]
    },
    {
     "name": "stderr",
     "output_type": "stream",
     "text": [
      " 80%|█████████████████████████████████████████████████████████████████████████████████████████████████████████████████████████████████████████▌                                  | 8/10 [04:06<01:23, 41.86s/it]"
     ]
    },
    {
     "name": "stdout",
     "output_type": "stream",
     "text": [
      "Reflected query: SELECT browser1, browser2, COUNT(DISTINCT user_id) as count FROM (SELECT user_id, browser AS browser1, LAG(browser) OVER (PARTITION BY user_id ORDER BY session_id) AS browser2 FROM ecommerce.sessions WHERE YEAR(action_date) = 2024 GROUP BY user_id, browser) t WHERE browser2 IS NOT NULL GROUP BY browser1, browser2 format TabSeparatedWithNames\n",
      "Initial query: SELECT browser, SUM(is_fraud) AS total_fraud_count, COUNT(*) AS total_sessions FROM ecommerce.sessions GROUP BY browser ORDER BY total_fraud_count / COUNT(*) DESC LIMIT 1\n"
     ]
    },
    {
     "name": "stderr",
     "output_type": "stream",
     "text": [
      " 90%|██████████████████████████████████████████████████████████████████████████████████████████████████████████████████████████████████████████████████████████▊                 | 9/10 [04:22<00:33, 33.73s/it]"
     ]
    },
    {
     "name": "stdout",
     "output_type": "stream",
     "text": [
      "Reflected query: SELECT browser, SUM(is_fraud) AS total_fraud_count, COUNT(*) AS total_sessions FROM ecommerce.sessions GROUP BY browser ORDER BY total_fraud_count / COUNT(*) DESC LIMIT 1 format TabSeparatedWithNames\n",
      "Initial query: SELECT T2.country FROM ecommerce.sessions AS T1 INNER JOIN ecommerce.users AS T2 ON T1.user_id = T2.user_id WHERE EXTRACT(YEAR FROM T1.action_date) = 2024 AND T1.is_fraud = 0 AND T2.is_active = 1 GROUP BY T2.country ORDER BY COUNT(T1.session_id) DESC LIMIT 1\n"
     ]
    },
    {
     "name": "stderr",
     "output_type": "stream",
     "text": [
      "100%|███████████████████████████████████████████████████████████████████████████████████████████████████████████████████████████████████████████████████████████████████████████| 10/10 [04:50<00:00, 29.04s/it]\n"
     ]
    },
    {
     "name": "stdout",
     "output_type": "stream",
     "text": [
      "Reflected query: SELECT T2.country FROM ecommerce.sessions AS T1 INNER JOIN ecommerce.users AS T2 ON T1.user_id = T2.user_id WHERE EXTRACT(YEAR FROM T1.action_date) = 2024 AND T1.is_fraud = 0 AND T2.is_active = 1 GROUP BY T2.country ORDER BY COUNT(T1.session_id) DESC LIMIT 1 format TabSeparatedWithNames\n"
     ]
    },
    {
     "name": "stderr",
     "output_type": "stream",
     "text": [
      "100%|███████████████████████████████████████████████████████████████████████████████████████████████████████████████████████████████████████████████████████████████████████████| 10/10 [00:04<00:00,  2.16it/s]\n"
     ]
    },
    {
     "data": {
      "application/vnd.plotly.v1+json": {
       "config": {
        "plotlyServerURL": "https://plot.ly"
       },
       "data": [
        {
         "alignmentgroup": "True",
         "hovertemplate": "validity=error<br>share of queries, %=%{x}<br>=%{y}<extra></extra>",
         "legendgroup": "error",
         "marker": {
          "color": "#ea324c",
          "pattern": {
           "shape": ""
          }
         },
         "name": "error",
         "offsetgroup": "error",
         "orientation": "h",
         "showlegend": true,
         "textposition": "auto",
         "texttemplate": "%{x:.1f}",
         "type": "bar",
         "x": [
          0,
          50
         ],
         "xaxis": "x",
         "y": [
          "golden set",
          "generated"
         ],
         "yaxis": "y"
        },
        {
         "alignmentgroup": "True",
         "hovertemplate": "validity=ok<br>share of queries, %=%{x}<br>=%{y}<extra></extra>",
         "legendgroup": "ok",
         "marker": {
          "color": "#00b38a",
          "pattern": {
           "shape": ""
          }
         },
         "name": "ok",
         "offsetgroup": "ok",
         "orientation": "h",
         "showlegend": true,
         "textposition": "auto",
         "texttemplate": "%{x:.1f}",
         "type": "bar",
         "x": [
          100,
          50
         ],
         "xaxis": "x",
         "y": [
          "golden set",
          "generated"
         ],
         "yaxis": "y"
        }
       ],
       "layout": {
        "autosize": true,
        "barmode": "relative",
        "legend": {
         "title": {
          "text": "validity"
         },
         "tracegroupgap": 0
        },
        "template": {
         "data": {
          "bar": [
           {
            "error_x": {
             "color": "rgb(36,36,36)"
            },
            "error_y": {
             "color": "rgb(36,36,36)"
            },
            "marker": {
             "line": {
              "color": "white",
              "width": 0.5
             },
             "pattern": {
              "fillmode": "overlay",
              "size": 10,
              "solidity": 0.2
             }
            },
            "type": "bar"
           }
          ],
          "barpolar": [
           {
            "marker": {
             "line": {
              "color": "white",
              "width": 0.5
             },
             "pattern": {
              "fillmode": "overlay",
              "size": 10,
              "solidity": 0.2
             }
            },
            "type": "barpolar"
           }
          ],
          "carpet": [
           {
            "aaxis": {
             "endlinecolor": "rgb(36,36,36)",
             "gridcolor": "white",
             "linecolor": "white",
             "minorgridcolor": "white",
             "startlinecolor": "rgb(36,36,36)"
            },
            "baxis": {
             "endlinecolor": "rgb(36,36,36)",
             "gridcolor": "white",
             "linecolor": "white",
             "minorgridcolor": "white",
             "startlinecolor": "rgb(36,36,36)"
            },
            "type": "carpet"
           }
          ],
          "choropleth": [
           {
            "colorbar": {
             "outlinewidth": 1,
             "tickcolor": "rgb(36,36,36)",
             "ticks": "outside"
            },
            "type": "choropleth"
           }
          ],
          "contour": [
           {
            "colorbar": {
             "outlinewidth": 1,
             "tickcolor": "rgb(36,36,36)",
             "ticks": "outside"
            },
            "colorscale": [
             [
              0,
              "#440154"
             ],
             [
              0.1111111111111111,
              "#482878"
             ],
             [
              0.2222222222222222,
              "#3e4989"
             ],
             [
              0.3333333333333333,
              "#31688e"
             ],
             [
              0.4444444444444444,
              "#26828e"
             ],
             [
              0.5555555555555556,
              "#1f9e89"
             ],
             [
              0.6666666666666666,
              "#35b779"
             ],
             [
              0.7777777777777778,
              "#6ece58"
             ],
             [
              0.8888888888888888,
              "#b5de2b"
             ],
             [
              1,
              "#fde725"
             ]
            ],
            "type": "contour"
           }
          ],
          "contourcarpet": [
           {
            "colorbar": {
             "outlinewidth": 1,
             "tickcolor": "rgb(36,36,36)",
             "ticks": "outside"
            },
            "type": "contourcarpet"
           }
          ],
          "heatmap": [
           {
            "colorbar": {
             "outlinewidth": 1,
             "tickcolor": "rgb(36,36,36)",
             "ticks": "outside"
            },
            "colorscale": [
             [
              0,
              "#440154"
             ],
             [
              0.1111111111111111,
              "#482878"
             ],
             [
              0.2222222222222222,
              "#3e4989"
             ],
             [
              0.3333333333333333,
              "#31688e"
             ],
             [
              0.4444444444444444,
              "#26828e"
             ],
             [
              0.5555555555555556,
              "#1f9e89"
             ],
             [
              0.6666666666666666,
              "#35b779"
             ],
             [
              0.7777777777777778,
              "#6ece58"
             ],
             [
              0.8888888888888888,
              "#b5de2b"
             ],
             [
              1,
              "#fde725"
             ]
            ],
            "type": "heatmap"
           }
          ],
          "heatmapgl": [
           {
            "colorbar": {
             "outlinewidth": 1,
             "tickcolor": "rgb(36,36,36)",
             "ticks": "outside"
            },
            "colorscale": [
             [
              0,
              "#440154"
             ],
             [
              0.1111111111111111,
              "#482878"
             ],
             [
              0.2222222222222222,
              "#3e4989"
             ],
             [
              0.3333333333333333,
              "#31688e"
             ],
             [
              0.4444444444444444,
              "#26828e"
             ],
             [
              0.5555555555555556,
              "#1f9e89"
             ],
             [
              0.6666666666666666,
              "#35b779"
             ],
             [
              0.7777777777777778,
              "#6ece58"
             ],
             [
              0.8888888888888888,
              "#b5de2b"
             ],
             [
              1,
              "#fde725"
             ]
            ],
            "type": "heatmapgl"
           }
          ],
          "histogram": [
           {
            "marker": {
             "line": {
              "color": "white",
              "width": 0.6
             }
            },
            "type": "histogram"
           }
          ],
          "histogram2d": [
           {
            "colorbar": {
             "outlinewidth": 1,
             "tickcolor": "rgb(36,36,36)",
             "ticks": "outside"
            },
            "colorscale": [
             [
              0,
              "#440154"
             ],
             [
              0.1111111111111111,
              "#482878"
             ],
             [
              0.2222222222222222,
              "#3e4989"
             ],
             [
              0.3333333333333333,
              "#31688e"
             ],
             [
              0.4444444444444444,
              "#26828e"
             ],
             [
              0.5555555555555556,
              "#1f9e89"
             ],
             [
              0.6666666666666666,
              "#35b779"
             ],
             [
              0.7777777777777778,
              "#6ece58"
             ],
             [
              0.8888888888888888,
              "#b5de2b"
             ],
             [
              1,
              "#fde725"
             ]
            ],
            "type": "histogram2d"
           }
          ],
          "histogram2dcontour": [
           {
            "colorbar": {
             "outlinewidth": 1,
             "tickcolor": "rgb(36,36,36)",
             "ticks": "outside"
            },
            "colorscale": [
             [
              0,
              "#440154"
             ],
             [
              0.1111111111111111,
              "#482878"
             ],
             [
              0.2222222222222222,
              "#3e4989"
             ],
             [
              0.3333333333333333,
              "#31688e"
             ],
             [
              0.4444444444444444,
              "#26828e"
             ],
             [
              0.5555555555555556,
              "#1f9e89"
             ],
             [
              0.6666666666666666,
              "#35b779"
             ],
             [
              0.7777777777777778,
              "#6ece58"
             ],
             [
              0.8888888888888888,
              "#b5de2b"
             ],
             [
              1,
              "#fde725"
             ]
            ],
            "type": "histogram2dcontour"
           }
          ],
          "mesh3d": [
           {
            "colorbar": {
             "outlinewidth": 1,
             "tickcolor": "rgb(36,36,36)",
             "ticks": "outside"
            },
            "type": "mesh3d"
           }
          ],
          "parcoords": [
           {
            "line": {
             "colorbar": {
              "outlinewidth": 1,
              "tickcolor": "rgb(36,36,36)",
              "ticks": "outside"
             }
            },
            "type": "parcoords"
           }
          ],
          "pie": [
           {
            "automargin": true,
            "type": "pie"
           }
          ],
          "scatter": [
           {
            "fillpattern": {
             "fillmode": "overlay",
             "size": 10,
             "solidity": 0.2
            },
            "type": "scatter"
           }
          ],
          "scatter3d": [
           {
            "line": {
             "colorbar": {
              "outlinewidth": 1,
              "tickcolor": "rgb(36,36,36)",
              "ticks": "outside"
             }
            },
            "marker": {
             "colorbar": {
              "outlinewidth": 1,
              "tickcolor": "rgb(36,36,36)",
              "ticks": "outside"
             }
            },
            "type": "scatter3d"
           }
          ],
          "scattercarpet": [
           {
            "marker": {
             "colorbar": {
              "outlinewidth": 1,
              "tickcolor": "rgb(36,36,36)",
              "ticks": "outside"
             }
            },
            "type": "scattercarpet"
           }
          ],
          "scattergeo": [
           {
            "marker": {
             "colorbar": {
              "outlinewidth": 1,
              "tickcolor": "rgb(36,36,36)",
              "ticks": "outside"
             }
            },
            "type": "scattergeo"
           }
          ],
          "scattergl": [
           {
            "marker": {
             "colorbar": {
              "outlinewidth": 1,
              "tickcolor": "rgb(36,36,36)",
              "ticks": "outside"
             }
            },
            "type": "scattergl"
           }
          ],
          "scattermapbox": [
           {
            "marker": {
             "colorbar": {
              "outlinewidth": 1,
              "tickcolor": "rgb(36,36,36)",
              "ticks": "outside"
             }
            },
            "type": "scattermapbox"
           }
          ],
          "scatterpolar": [
           {
            "marker": {
             "colorbar": {
              "outlinewidth": 1,
              "tickcolor": "rgb(36,36,36)",
              "ticks": "outside"
             }
            },
            "type": "scatterpolar"
           }
          ],
          "scatterpolargl": [
           {
            "marker": {
             "colorbar": {
              "outlinewidth": 1,
              "tickcolor": "rgb(36,36,36)",
              "ticks": "outside"
             }
            },
            "type": "scatterpolargl"
           }
          ],
          "scatterternary": [
           {
            "marker": {
             "colorbar": {
              "outlinewidth": 1,
              "tickcolor": "rgb(36,36,36)",
              "ticks": "outside"
             }
            },
            "type": "scatterternary"
           }
          ],
          "surface": [
           {
            "colorbar": {
             "outlinewidth": 1,
             "tickcolor": "rgb(36,36,36)",
             "ticks": "outside"
            },
            "colorscale": [
             [
              0,
              "#440154"
             ],
             [
              0.1111111111111111,
              "#482878"
             ],
             [
              0.2222222222222222,
              "#3e4989"
             ],
             [
              0.3333333333333333,
              "#31688e"
             ],
             [
              0.4444444444444444,
              "#26828e"
             ],
             [
              0.5555555555555556,
              "#1f9e89"
             ],
             [
              0.6666666666666666,
              "#35b779"
             ],
             [
              0.7777777777777778,
              "#6ece58"
             ],
             [
              0.8888888888888888,
              "#b5de2b"
             ],
             [
              1,
              "#fde725"
             ]
            ],
            "type": "surface"
           }
          ],
          "table": [
           {
            "cells": {
             "fill": {
              "color": "rgb(237,237,237)"
             },
             "line": {
              "color": "white"
             }
            },
            "header": {
             "fill": {
              "color": "rgb(217,217,217)"
             },
             "line": {
              "color": "white"
             }
            },
            "type": "table"
           }
          ]
         },
         "layout": {
          "annotationdefaults": {
           "arrowhead": 0,
           "arrowwidth": 1
          },
          "autotypenumbers": "strict",
          "coloraxis": {
           "colorbar": {
            "outlinewidth": 1,
            "tickcolor": "rgb(36,36,36)",
            "ticks": "outside"
           }
          },
          "colorscale": {
           "diverging": [
            [
             0,
             "rgb(103,0,31)"
            ],
            [
             0.1,
             "rgb(178,24,43)"
            ],
            [
             0.2,
             "rgb(214,96,77)"
            ],
            [
             0.3,
             "rgb(244,165,130)"
            ],
            [
             0.4,
             "rgb(253,219,199)"
            ],
            [
             0.5,
             "rgb(247,247,247)"
            ],
            [
             0.6,
             "rgb(209,229,240)"
            ],
            [
             0.7,
             "rgb(146,197,222)"
            ],
            [
             0.8,
             "rgb(67,147,195)"
            ],
            [
             0.9,
             "rgb(33,102,172)"
            ],
            [
             1,
             "rgb(5,48,97)"
            ]
           ],
           "sequential": [
            [
             0,
             "#440154"
            ],
            [
             0.1111111111111111,
             "#482878"
            ],
            [
             0.2222222222222222,
             "#3e4989"
            ],
            [
             0.3333333333333333,
             "#31688e"
            ],
            [
             0.4444444444444444,
             "#26828e"
            ],
            [
             0.5555555555555556,
             "#1f9e89"
            ],
            [
             0.6666666666666666,
             "#35b779"
            ],
            [
             0.7777777777777778,
             "#6ece58"
            ],
            [
             0.8888888888888888,
             "#b5de2b"
            ],
            [
             1,
             "#fde725"
            ]
           ],
           "sequentialminus": [
            [
             0,
             "#440154"
            ],
            [
             0.1111111111111111,
             "#482878"
            ],
            [
             0.2222222222222222,
             "#3e4989"
            ],
            [
             0.3333333333333333,
             "#31688e"
            ],
            [
             0.4444444444444444,
             "#26828e"
            ],
            [
             0.5555555555555556,
             "#1f9e89"
            ],
            [
             0.6666666666666666,
             "#35b779"
            ],
            [
             0.7777777777777778,
             "#6ece58"
            ],
            [
             0.8888888888888888,
             "#b5de2b"
            ],
            [
             1,
             "#fde725"
            ]
           ]
          },
          "colorway": [
           "#1F77B4",
           "#FF7F0E",
           "#2CA02C",
           "#D62728",
           "#9467BD",
           "#8C564B",
           "#E377C2",
           "#7F7F7F",
           "#BCBD22",
           "#17BECF"
          ],
          "font": {
           "color": "rgb(36,36,36)"
          },
          "geo": {
           "bgcolor": "white",
           "lakecolor": "white",
           "landcolor": "white",
           "showlakes": true,
           "showland": true,
           "subunitcolor": "white"
          },
          "hoverlabel": {
           "align": "left"
          },
          "hovermode": "closest",
          "mapbox": {
           "style": "light"
          },
          "paper_bgcolor": "white",
          "plot_bgcolor": "white",
          "polar": {
           "angularaxis": {
            "gridcolor": "rgb(232,232,232)",
            "linecolor": "rgb(36,36,36)",
            "showgrid": false,
            "showline": true,
            "ticks": "outside"
           },
           "bgcolor": "white",
           "radialaxis": {
            "gridcolor": "rgb(232,232,232)",
            "linecolor": "rgb(36,36,36)",
            "showgrid": false,
            "showline": true,
            "ticks": "outside"
           }
          },
          "scene": {
           "xaxis": {
            "backgroundcolor": "white",
            "gridcolor": "rgb(232,232,232)",
            "gridwidth": 2,
            "linecolor": "rgb(36,36,36)",
            "showbackground": true,
            "showgrid": false,
            "showline": true,
            "ticks": "outside",
            "zeroline": false,
            "zerolinecolor": "rgb(36,36,36)"
           },
           "yaxis": {
            "backgroundcolor": "white",
            "gridcolor": "rgb(232,232,232)",
            "gridwidth": 2,
            "linecolor": "rgb(36,36,36)",
            "showbackground": true,
            "showgrid": false,
            "showline": true,
            "ticks": "outside",
            "zeroline": false,
            "zerolinecolor": "rgb(36,36,36)"
           },
           "zaxis": {
            "backgroundcolor": "white",
            "gridcolor": "rgb(232,232,232)",
            "gridwidth": 2,
            "linecolor": "rgb(36,36,36)",
            "showbackground": true,
            "showgrid": false,
            "showline": true,
            "ticks": "outside",
            "zeroline": false,
            "zerolinecolor": "rgb(36,36,36)"
           }
          },
          "shapedefaults": {
           "fillcolor": "black",
           "line": {
            "width": 0
           },
           "opacity": 0.3
          },
          "ternary": {
           "aaxis": {
            "gridcolor": "rgb(232,232,232)",
            "linecolor": "rgb(36,36,36)",
            "showgrid": false,
            "showline": true,
            "ticks": "outside"
           },
           "baxis": {
            "gridcolor": "rgb(232,232,232)",
            "linecolor": "rgb(36,36,36)",
            "showgrid": false,
            "showline": true,
            "ticks": "outside"
           },
           "bgcolor": "white",
           "caxis": {
            "gridcolor": "rgb(232,232,232)",
            "linecolor": "rgb(36,36,36)",
            "showgrid": false,
            "showline": true,
            "ticks": "outside"
           }
          },
          "title": {
           "x": 0.05
          },
          "xaxis": {
           "automargin": true,
           "gridcolor": "rgb(232,232,232)",
           "linecolor": "rgb(36,36,36)",
           "showgrid": false,
           "showline": true,
           "ticks": "outside",
           "title": {
            "standoff": 15
           },
           "zeroline": false,
           "zerolinecolor": "rgb(36,36,36)"
          },
          "yaxis": {
           "automargin": true,
           "gridcolor": "rgb(232,232,232)",
           "linecolor": "rgb(36,36,36)",
           "showgrid": false,
           "showline": true,
           "ticks": "outside",
           "title": {
            "standoff": 15
           },
           "zeroline": false,
           "zerolinecolor": "rgb(36,36,36)"
          }
         }
        },
        "title": {
         "text": "<b>LLM SQL Agent evaluation</b>: query validity"
        },
        "xaxis": {
         "anchor": "y",
         "autorange": true,
         "domain": [
          0,
          1
         ],
         "range": [
          0,
          105.26315789473684
         ],
         "title": {
          "text": "share of queries, %"
         },
         "type": "linear"
        },
        "yaxis": {
         "anchor": "x",
         "autorange": true,
         "domain": [
          0,
          1
         ],
         "range": [
          -0.5,
          1.5
         ],
         "title": {
          "text": ""
         },
         "type": "category"
        }
       }
      },
      "image/png": "[encoded data removed]",
      "text/html": [
       "<div>                            <div id=\"fb3769fd-c684-499f-a2a6-f1804979b695\" class=\"plotly-graph-div\" style=\"height:525px; width:100%;\"></div>            <script type=\"text/javascript\">                require([\"plotly\"], function(Plotly) {                    window.PLOTLYENV=window.PLOTLYENV || {};                                    if (document.getElementById(\"fb3769fd-c684-499f-a2a6-f1804979b695\")) {                    Plotly.newPlot(                        \"fb3769fd-c684-499f-a2a6-f1804979b695\",                        [{\"alignmentgroup\":\"True\",\"hovertemplate\":\"validity=error\\u003cbr\\u003eshare of queries, %=%{x}\\u003cbr\\u003e=%{y}\\u003cextra\\u003e\\u003c\\u002fextra\\u003e\",\"legendgroup\":\"error\",\"marker\":{\"color\":\"#ea324c\",\"pattern\":{\"shape\":\"\"}},\"name\":\"error\",\"offsetgroup\":\"error\",\"orientation\":\"h\",\"showlegend\":true,\"textposition\":\"auto\",\"texttemplate\":\"%{x:.1f}\",\"x\":[0.0,50.0],\"xaxis\":\"x\",\"y\":[\"golden set\",\"generated\"],\"yaxis\":\"y\",\"type\":\"bar\"},{\"alignmentgroup\":\"True\",\"hovertemplate\":\"validity=ok\\u003cbr\\u003eshare of queries, %=%{x}\\u003cbr\\u003e=%{y}\\u003cextra\\u003e\\u003c\\u002fextra\\u003e\",\"legendgroup\":\"ok\",\"marker\":{\"color\":\"#00b38a\",\"pattern\":{\"shape\":\"\"}},\"name\":\"ok\",\"offsetgroup\":\"ok\",\"orientation\":\"h\",\"showlegend\":true,\"textposition\":\"auto\",\"texttemplate\":\"%{x:.1f}\",\"x\":[100.0,50.0],\"xaxis\":\"x\",\"y\":[\"golden set\",\"generated\"],\"yaxis\":\"y\",\"type\":\"bar\"}],                        {\"template\":{\"data\":{\"histogram2dcontour\":[{\"type\":\"histogram2dcontour\",\"colorbar\":{\"outlinewidth\":1,\"tickcolor\":\"rgb(36,36,36)\",\"ticks\":\"outside\"},\"colorscale\":[[0.0,\"#440154\"],[0.1111111111111111,\"#482878\"],[0.2222222222222222,\"#3e4989\"],[0.3333333333333333,\"#31688e\"],[0.4444444444444444,\"#26828e\"],[0.5555555555555556,\"#1f9e89\"],[0.6666666666666666,\"#35b779\"],[0.7777777777777778,\"#6ece58\"],[0.8888888888888888,\"#b5de2b\"],[1.0,\"#fde725\"]]}],\"choropleth\":[{\"type\":\"choropleth\",\"colorbar\":{\"outlinewidth\":1,\"tickcolor\":\"rgb(36,36,36)\",\"ticks\":\"outside\"}}],\"histogram2d\":[{\"type\":\"histogram2d\",\"colorbar\":{\"outlinewidth\":1,\"tickcolor\":\"rgb(36,36,36)\",\"ticks\":\"outside\"},\"colorscale\":[[0.0,\"#440154\"],[0.1111111111111111,\"#482878\"],[0.2222222222222222,\"#3e4989\"],[0.3333333333333333,\"#31688e\"],[0.4444444444444444,\"#26828e\"],[0.5555555555555556,\"#1f9e89\"],[0.6666666666666666,\"#35b779\"],[0.7777777777777778,\"#6ece58\"],[0.8888888888888888,\"#b5de2b\"],[1.0,\"#fde725\"]]}],\"heatmap\":[{\"type\":\"heatmap\",\"colorbar\":{\"outlinewidth\":1,\"tickcolor\":\"rgb(36,36,36)\",\"ticks\":\"outside\"},\"colorscale\":[[0.0,\"#440154\"],[0.1111111111111111,\"#482878\"],[0.2222222222222222,\"#3e4989\"],[0.3333333333333333,\"#31688e\"],[0.4444444444444444,\"#26828e\"],[0.5555555555555556,\"#1f9e89\"],[0.6666666666666666,\"#35b779\"],[0.7777777777777778,\"#6ece58\"],[0.8888888888888888,\"#b5de2b\"],[1.0,\"#fde725\"]]}],\"heatmapgl\":[{\"type\":\"heatmapgl\",\"colorbar\":{\"outlinewidth\":1,\"tickcolor\":\"rgb(36,36,36)\",\"ticks\":\"outside\"},\"colorscale\":[[0.0,\"#440154\"],[0.1111111111111111,\"#482878\"],[0.2222222222222222,\"#3e4989\"],[0.3333333333333333,\"#31688e\"],[0.4444444444444444,\"#26828e\"],[0.5555555555555556,\"#1f9e89\"],[0.6666666666666666,\"#35b779\"],[0.7777777777777778,\"#6ece58\"],[0.8888888888888888,\"#b5de2b\"],[1.0,\"#fde725\"]]}],\"contourcarpet\":[{\"type\":\"contourcarpet\",\"colorbar\":{\"outlinewidth\":1,\"tickcolor\":\"rgb(36,36,36)\",\"ticks\":\"outside\"}}],\"contour\":[{\"type\":\"contour\",\"colorbar\":{\"outlinewidth\":1,\"tickcolor\":\"rgb(36,36,36)\",\"ticks\":\"outside\"},\"colorscale\":[[0.0,\"#440154\"],[0.1111111111111111,\"#482878\"],[0.2222222222222222,\"#3e4989\"],[0.3333333333333333,\"#31688e\"],[0.4444444444444444,\"#26828e\"],[0.5555555555555556,\"#1f9e89\"],[0.6666666666666666,\"#35b779\"],[0.7777777777777778,\"#6ece58\"],[0.8888888888888888,\"#b5de2b\"],[1.0,\"#fde725\"]]}],\"surface\":[{\"type\":\"surface\",\"colorbar\":{\"outlinewidth\":1,\"tickcolor\":\"rgb(36,36,36)\",\"ticks\":\"outside\"},\"colorscale\":[[0.0,\"#440154\"],[0.1111111111111111,\"#482878\"],[0.2222222222222222,\"#3e4989\"],[0.3333333333333333,\"#31688e\"],[0.4444444444444444,\"#26828e\"],[0.5555555555555556,\"#1f9e89\"],[0.6666666666666666,\"#35b779\"],[0.7777777777777778,\"#6ece58\"],[0.8888888888888888,\"#b5de2b\"],[1.0,\"#fde725\"]]}],\"mesh3d\":[{\"type\":\"mesh3d\",\"colorbar\":{\"outlinewidth\":1,\"tickcolor\":\"rgb(36,36,36)\",\"ticks\":\"outside\"}}],\"scatter\":[{\"fillpattern\":{\"fillmode\":\"overlay\",\"size\":10,\"solidity\":0.2},\"type\":\"scatter\"}],\"parcoords\":[{\"type\":\"parcoords\",\"line\":{\"colorbar\":{\"outlinewidth\":1,\"tickcolor\":\"rgb(36,36,36)\",\"ticks\":\"outside\"}}}],\"scatterpolargl\":[{\"type\":\"scatterpolargl\",\"marker\":{\"colorbar\":{\"outlinewidth\":1,\"tickcolor\":\"rgb(36,36,36)\",\"ticks\":\"outside\"}}}],\"bar\":[{\"error_x\":{\"color\":\"rgb(36,36,36)\"},\"error_y\":{\"color\":\"rgb(36,36,36)\"},\"marker\":{\"line\":{\"color\":\"white\",\"width\":0.5},\"pattern\":{\"fillmode\":\"overlay\",\"size\":10,\"solidity\":0.2}},\"type\":\"bar\"}],\"scattergeo\":[{\"type\":\"scattergeo\",\"marker\":{\"colorbar\":{\"outlinewidth\":1,\"tickcolor\":\"rgb(36,36,36)\",\"ticks\":\"outside\"}}}],\"scatterpolar\":[{\"type\":\"scatterpolar\",\"marker\":{\"colorbar\":{\"outlinewidth\":1,\"tickcolor\":\"rgb(36,36,36)\",\"ticks\":\"outside\"}}}],\"histogram\":[{\"marker\":{\"line\":{\"color\":\"white\",\"width\":0.6}},\"type\":\"histogram\"}],\"scattergl\":[{\"type\":\"scattergl\",\"marker\":{\"colorbar\":{\"outlinewidth\":1,\"tickcolor\":\"rgb(36,36,36)\",\"ticks\":\"outside\"}}}],\"scatter3d\":[{\"type\":\"scatter3d\",\"line\":{\"colorbar\":{\"outlinewidth\":1,\"tickcolor\":\"rgb(36,36,36)\",\"ticks\":\"outside\"}},\"marker\":{\"colorbar\":{\"outlinewidth\":1,\"tickcolor\":\"rgb(36,36,36)\",\"ticks\":\"outside\"}}}],\"scattermapbox\":[{\"type\":\"scattermapbox\",\"marker\":{\"colorbar\":{\"outlinewidth\":1,\"tickcolor\":\"rgb(36,36,36)\",\"ticks\":\"outside\"}}}],\"scatterternary\":[{\"type\":\"scatterternary\",\"marker\":{\"colorbar\":{\"outlinewidth\":1,\"tickcolor\":\"rgb(36,36,36)\",\"ticks\":\"outside\"}}}],\"scattercarpet\":[{\"type\":\"scattercarpet\",\"marker\":{\"colorbar\":{\"outlinewidth\":1,\"tickcolor\":\"rgb(36,36,36)\",\"ticks\":\"outside\"}}}],\"carpet\":[{\"aaxis\":{\"endlinecolor\":\"rgb(36,36,36)\",\"gridcolor\":\"white\",\"linecolor\":\"white\",\"minorgridcolor\":\"white\",\"startlinecolor\":\"rgb(36,36,36)\"},\"baxis\":{\"endlinecolor\":\"rgb(36,36,36)\",\"gridcolor\":\"white\",\"linecolor\":\"white\",\"minorgridcolor\":\"white\",\"startlinecolor\":\"rgb(36,36,36)\"},\"type\":\"carpet\"}],\"table\":[{\"cells\":{\"fill\":{\"color\":\"rgb(237,237,237)\"},\"line\":{\"color\":\"white\"}},\"header\":{\"fill\":{\"color\":\"rgb(217,217,217)\"},\"line\":{\"color\":\"white\"}},\"type\":\"table\"}],\"barpolar\":[{\"marker\":{\"line\":{\"color\":\"white\",\"width\":0.5},\"pattern\":{\"fillmode\":\"overlay\",\"size\":10,\"solidity\":0.2}},\"type\":\"barpolar\"}],\"pie\":[{\"automargin\":true,\"type\":\"pie\"}]},\"layout\":{\"autotypenumbers\":\"strict\",\"colorway\":[\"#1F77B4\",\"#FF7F0E\",\"#2CA02C\",\"#D62728\",\"#9467BD\",\"#8C564B\",\"#E377C2\",\"#7F7F7F\",\"#BCBD22\",\"#17BECF\"],\"font\":{\"color\":\"rgb(36,36,36)\"},\"hovermode\":\"closest\",\"hoverlabel\":{\"align\":\"left\"},\"paper_bgcolor\":\"white\",\"plot_bgcolor\":\"white\",\"polar\":{\"bgcolor\":\"white\",\"angularaxis\":{\"gridcolor\":\"rgb(232,232,232)\",\"linecolor\":\"rgb(36,36,36)\",\"showgrid\":false,\"showline\":true,\"ticks\":\"outside\"},\"radialaxis\":{\"gridcolor\":\"rgb(232,232,232)\",\"linecolor\":\"rgb(36,36,36)\",\"showgrid\":false,\"showline\":true,\"ticks\":\"outside\"}},\"ternary\":{\"bgcolor\":\"white\",\"aaxis\":{\"gridcolor\":\"rgb(232,232,232)\",\"linecolor\":\"rgb(36,36,36)\",\"showgrid\":false,\"showline\":true,\"ticks\":\"outside\"},\"baxis\":{\"gridcolor\":\"rgb(232,232,232)\",\"linecolor\":\"rgb(36,36,36)\",\"showgrid\":false,\"showline\":true,\"ticks\":\"outside\"},\"caxis\":{\"gridcolor\":\"rgb(232,232,232)\",\"linecolor\":\"rgb(36,36,36)\",\"showgrid\":false,\"showline\":true,\"ticks\":\"outside\"}},\"coloraxis\":{\"colorbar\":{\"outlinewidth\":1,\"tickcolor\":\"rgb(36,36,36)\",\"ticks\":\"outside\"}},\"colorscale\":{\"sequential\":[[0.0,\"#440154\"],[0.1111111111111111,\"#482878\"],[0.2222222222222222,\"#3e4989\"],[0.3333333333333333,\"#31688e\"],[0.4444444444444444,\"#26828e\"],[0.5555555555555556,\"#1f9e89\"],[0.6666666666666666,\"#35b779\"],[0.7777777777777778,\"#6ece58\"],[0.8888888888888888,\"#b5de2b\"],[1.0,\"#fde725\"]],\"sequentialminus\":[[0.0,\"#440154\"],[0.1111111111111111,\"#482878\"],[0.2222222222222222,\"#3e4989\"],[0.3333333333333333,\"#31688e\"],[0.4444444444444444,\"#26828e\"],[0.5555555555555556,\"#1f9e89\"],[0.6666666666666666,\"#35b779\"],[0.7777777777777778,\"#6ece58\"],[0.8888888888888888,\"#b5de2b\"],[1.0,\"#fde725\"]],\"diverging\":[[0.0,\"rgb(103,0,31)\"],[0.1,\"rgb(178,24,43)\"],[0.2,\"rgb(214,96,77)\"],[0.3,\"rgb(244,165,130)\"],[0.4,\"rgb(253,219,199)\"],[0.5,\"rgb(247,247,247)\"],[0.6,\"rgb(209,229,240)\"],[0.7,\"rgb(146,197,222)\"],[0.8,\"rgb(67,147,195)\"],[0.9,\"rgb(33,102,172)\"],[1.0,\"rgb(5,48,97)\"]]},\"xaxis\":{\"gridcolor\":\"rgb(232,232,232)\",\"linecolor\":\"rgb(36,36,36)\",\"showgrid\":false,\"showline\":true,\"ticks\":\"outside\",\"title\":{\"standoff\":15},\"zerolinecolor\":\"rgb(36,36,36)\",\"automargin\":true,\"zeroline\":false},\"yaxis\":{\"gridcolor\":\"rgb(232,232,232)\",\"linecolor\":\"rgb(36,36,36)\",\"showgrid\":false,\"showline\":true,\"ticks\":\"outside\",\"title\":{\"standoff\":15},\"zerolinecolor\":\"rgb(36,36,36)\",\"automargin\":true,\"zeroline\":false},\"scene\":{\"xaxis\":{\"backgroundcolor\":\"white\",\"gridcolor\":\"rgb(232,232,232)\",\"linecolor\":\"rgb(36,36,36)\",\"showbackground\":true,\"showgrid\":false,\"showline\":true,\"ticks\":\"outside\",\"zerolinecolor\":\"rgb(36,36,36)\",\"gridwidth\":2,\"zeroline\":false},\"yaxis\":{\"backgroundcolor\":\"white\",\"gridcolor\":\"rgb(232,232,232)\",\"linecolor\":\"rgb(36,36,36)\",\"showbackground\":true,\"showgrid\":false,\"showline\":true,\"ticks\":\"outside\",\"zerolinecolor\":\"rgb(36,36,36)\",\"gridwidth\":2,\"zeroline\":false},\"zaxis\":{\"backgroundcolor\":\"white\",\"gridcolor\":\"rgb(232,232,232)\",\"linecolor\":\"rgb(36,36,36)\",\"showbackground\":true,\"showgrid\":false,\"showline\":true,\"ticks\":\"outside\",\"zerolinecolor\":\"rgb(36,36,36)\",\"gridwidth\":2,\"zeroline\":false}},\"shapedefaults\":{\"fillcolor\":\"black\",\"line\":{\"width\":0},\"opacity\":0.3},\"annotationdefaults\":{\"arrowhead\":0,\"arrowwidth\":1},\"geo\":{\"bgcolor\":\"white\",\"landcolor\":\"white\",\"subunitcolor\":\"white\",\"showland\":true,\"showlakes\":true,\"lakecolor\":\"white\"},\"title\":{\"x\":0.05},\"mapbox\":{\"style\":\"light\"}}},\"xaxis\":{\"anchor\":\"y\",\"domain\":[0.0,1.0],\"title\":{\"text\":\"share of queries, %\"}},\"yaxis\":{\"anchor\":\"x\",\"domain\":[0.0,1.0],\"title\":{\"text\":\"\"}},\"legend\":{\"title\":{\"text\":\"validity\"},\"tracegroupgap\":0},\"title\":{\"text\":\"\\u003cb\\u003eLLM SQL Agent evaluation\\u003c\\u002fb\\u003e: query validity\"},\"barmode\":\"relative\"},                        {\"responsive\": true}                    ).then(function(){\n",
       "                            \n",
       "var gd = document.getElementById('fb3769fd-c684-499f-a2a6-f1804979b695');\n",
       "var x = new MutationObserver(function (mutations, observer) {{\n",
       "        var display = window.getComputedStyle(gd).display;\n",
       "        if (!display || display === 'none') {{\n",
       "            console.log([gd, 'removed!']);\n",
       "            Plotly.purge(gd);\n",
       "            observer.disconnect();\n",
       "        }}\n",
       "}});\n",
       "\n",
       "// Listen for the removal of the full notebook cells\n",
       "var notebookContainer = gd.closest('#notebook-container');\n",
       "if (notebookContainer) {{\n",
       "    x.observe(notebookContainer, {childList: true});\n",
       "}}\n",
       "\n",
       "// Listen for the clearing of the current output cell\n",
       "var outputEl = gd.closest('.output');\n",
       "if (outputEl) {{\n",
       "    x.observe(outputEl, {childList: true});\n",
       "}}\n",
       "\n",
       "                        })                };                });            </script>        </div>"
      ]
     },
     "metadata": {},
     "output_type": "display_data"
    },
    {
     "data": {
      "application/vnd.plotly.v1+json": {
       "config": {
        "plotlyServerURL": "https://plot.ly"
       },
       "data": [
        {
         "alignmentgroup": "True",
         "hovertemplate": "accuracy=%{y}<br>share of queries, %=%{x}<extra></extra>",
         "legendgroup": "share",
         "marker": {
          "color": "#0077B5",
          "pattern": {
           "shape": ""
          }
         },
         "name": "share",
         "offsetgroup": "share",
         "orientation": "h",
         "showlegend": true,
         "textposition": "auto",
         "texttemplate": "%{x:.1f}",
         "type": "bar",
         "x": [
          10,
          40,
          50
         ],
         "xaxis": "x",
         "y": [
          "correct",
          "incorrect",
          "invalid: error"
         ],
         "yaxis": "y"
        }
       ],
       "layout": {
        "autosize": true,
        "barmode": "relative",
        "legend": {
         "title": {
          "text": "accuracy"
         },
         "tracegroupgap": 0
        },
        "showlegend": false,
        "template": {
         "data": {
          "bar": [
           {
            "error_x": {
             "color": "rgb(36,36,36)"
            },
            "error_y": {
             "color": "rgb(36,36,36)"
            },
            "marker": {
             "line": {
              "color": "white",
              "width": 0.5
             },
             "pattern": {
              "fillmode": "overlay",
              "size": 10,
              "solidity": 0.2
             }
            },
            "type": "bar"
           }
          ],
          "barpolar": [
           {
            "marker": {
             "line": {
              "color": "white",
              "width": 0.5
             },
             "pattern": {
              "fillmode": "overlay",
              "size": 10,
              "solidity": 0.2
             }
            },
            "type": "barpolar"
           }
          ],
          "carpet": [
           {
            "aaxis": {
             "endlinecolor": "rgb(36,36,36)",
             "gridcolor": "white",
             "linecolor": "white",
             "minorgridcolor": "white",
             "startlinecolor": "rgb(36,36,36)"
            },
            "baxis": {
             "endlinecolor": "rgb(36,36,36)",
             "gridcolor": "white",
             "linecolor": "white",
             "minorgridcolor": "white",
             "startlinecolor": "rgb(36,36,36)"
            },
            "type": "carpet"
           }
          ],
          "choropleth": [
           {
            "colorbar": {
             "outlinewidth": 1,
             "tickcolor": "rgb(36,36,36)",
             "ticks": "outside"
            },
            "type": "choropleth"
           }
          ],
          "contour": [
           {
            "colorbar": {
             "outlinewidth": 1,
             "tickcolor": "rgb(36,36,36)",
             "ticks": "outside"
            },
            "colorscale": [
             [
              0,
              "#440154"
             ],
             [
              0.1111111111111111,
              "#482878"
             ],
             [
              0.2222222222222222,
              "#3e4989"
             ],
             [
              0.3333333333333333,
              "#31688e"
             ],
             [
              0.4444444444444444,
              "#26828e"
             ],
             [
              0.5555555555555556,
              "#1f9e89"
             ],
             [
              0.6666666666666666,
              "#35b779"
             ],
             [
              0.7777777777777778,
              "#6ece58"
             ],
             [
              0.8888888888888888,
              "#b5de2b"
             ],
             [
              1,
              "#fde725"
             ]
            ],
            "type": "contour"
           }
          ],
          "contourcarpet": [
           {
            "colorbar": {
             "outlinewidth": 1,
             "tickcolor": "rgb(36,36,36)",
             "ticks": "outside"
            },
            "type": "contourcarpet"
           }
          ],
          "heatmap": [
           {
            "colorbar": {
             "outlinewidth": 1,
             "tickcolor": "rgb(36,36,36)",
             "ticks": "outside"
            },
            "colorscale": [
             [
              0,
              "#440154"
             ],
             [
              0.1111111111111111,
              "#482878"
             ],
             [
              0.2222222222222222,
              "#3e4989"
             ],
             [
              0.3333333333333333,
              "#31688e"
             ],
             [
              0.4444444444444444,
              "#26828e"
             ],
             [
              0.5555555555555556,
              "#1f9e89"
             ],
             [
              0.6666666666666666,
              "#35b779"
             ],
             [
              0.7777777777777778,
              "#6ece58"
             ],
             [
              0.8888888888888888,
              "#b5de2b"
             ],
             [
              1,
              "#fde725"
             ]
            ],
            "type": "heatmap"
           }
          ],
          "heatmapgl": [
           {
            "colorbar": {
             "outlinewidth": 1,
             "tickcolor": "rgb(36,36,36)",
             "ticks": "outside"
            },
            "colorscale": [
             [
              0,
              "#440154"
             ],
             [
              0.1111111111111111,
              "#482878"
             ],
             [
              0.2222222222222222,
              "#3e4989"
             ],
             [
              0.3333333333333333,
              "#31688e"
             ],
             [
              0.4444444444444444,
              "#26828e"
             ],
             [
              0.5555555555555556,
              "#1f9e89"
             ],
             [
              0.6666666666666666,
              "#35b779"
             ],
             [
              0.7777777777777778,
              "#6ece58"
             ],
             [
              0.8888888888888888,
              "#b5de2b"
             ],
             [
              1,
              "#fde725"
             ]
            ],
            "type": "heatmapgl"
           }
          ],
          "histogram": [
           {
            "marker": {
             "line": {
              "color": "white",
              "width": 0.6
             }
            },
            "type": "histogram"
           }
          ],
          "histogram2d": [
           {
            "colorbar": {
             "outlinewidth": 1,
             "tickcolor": "rgb(36,36,36)",
             "ticks": "outside"
            },
            "colorscale": [
             [
              0,
              "#440154"
             ],
             [
              0.1111111111111111,
              "#482878"
             ],
             [
              0.2222222222222222,
              "#3e4989"
             ],
             [
              0.3333333333333333,
              "#31688e"
             ],
             [
              0.4444444444444444,
              "#26828e"
             ],
             [
              0.5555555555555556,
              "#1f9e89"
             ],
             [
              0.6666666666666666,
              "#35b779"
             ],
             [
              0.7777777777777778,
              "#6ece58"
             ],
             [
              0.8888888888888888,
              "#b5de2b"
             ],
             [
              1,
              "#fde725"
             ]
            ],
            "type": "histogram2d"
           }
          ],
          "histogram2dcontour": [
           {
            "colorbar": {
             "outlinewidth": 1,
             "tickcolor": "rgb(36,36,36)",
             "ticks": "outside"
            },
            "colorscale": [
             [
              0,
              "#440154"
             ],
             [
              0.1111111111111111,
              "#482878"
             ],
             [
              0.2222222222222222,
              "#3e4989"
             ],
             [
              0.3333333333333333,
              "#31688e"
             ],
             [
              0.4444444444444444,
              "#26828e"
             ],
             [
              0.5555555555555556,
              "#1f9e89"
             ],
             [
              0.6666666666666666,
              "#35b779"
             ],
             [
              0.7777777777777778,
              "#6ece58"
             ],
             [
              0.8888888888888888,
              "#b5de2b"
             ],
             [
              1,
              "#fde725"
             ]
            ],
            "type": "histogram2dcontour"
           }
          ],
          "mesh3d": [
           {
            "colorbar": {
             "outlinewidth": 1,
             "tickcolor": "rgb(36,36,36)",
             "ticks": "outside"
            },
            "type": "mesh3d"
           }
          ],
          "parcoords": [
           {
            "line": {
             "colorbar": {
              "outlinewidth": 1,
              "tickcolor": "rgb(36,36,36)",
              "ticks": "outside"
             }
            },
            "type": "parcoords"
           }
          ],
          "pie": [
           {
            "automargin": true,
            "type": "pie"
           }
          ],
          "scatter": [
           {
            "fillpattern": {
             "fillmode": "overlay",
             "size": 10,
             "solidity": 0.2
            },
            "type": "scatter"
           }
          ],
          "scatter3d": [
           {
            "line": {
             "colorbar": {
              "outlinewidth": 1,
              "tickcolor": "rgb(36,36,36)",
              "ticks": "outside"
             }
            },
            "marker": {
             "colorbar": {
              "outlinewidth": 1,
              "tickcolor": "rgb(36,36,36)",
              "ticks": "outside"
             }
            },
            "type": "scatter3d"
           }
          ],
          "scattercarpet": [
           {
            "marker": {
             "colorbar": {
              "outlinewidth": 1,
              "tickcolor": "rgb(36,36,36)",
              "ticks": "outside"
             }
            },
            "type": "scattercarpet"
           }
          ],
          "scattergeo": [
           {
            "marker": {
             "colorbar": {
              "outlinewidth": 1,
              "tickcolor": "rgb(36,36,36)",
              "ticks": "outside"
             }
            },
            "type": "scattergeo"
           }
          ],
          "scattergl": [
           {
            "marker": {
             "colorbar": {
              "outlinewidth": 1,
              "tickcolor": "rgb(36,36,36)",
              "ticks": "outside"
             }
            },
            "type": "scattergl"
           }
          ],
          "scattermapbox": [
           {
            "marker": {
             "colorbar": {
              "outlinewidth": 1,
              "tickcolor": "rgb(36,36,36)",
              "ticks": "outside"
             }
            },
            "type": "scattermapbox"
           }
          ],
          "scatterpolar": [
           {
            "marker": {
             "colorbar": {
              "outlinewidth": 1,
              "tickcolor": "rgb(36,36,36)",
              "ticks": "outside"
             }
            },
            "type": "scatterpolar"
           }
          ],
          "scatterpolargl": [
           {
            "marker": {
             "colorbar": {
              "outlinewidth": 1,
              "tickcolor": "rgb(36,36,36)",
              "ticks": "outside"
             }
            },
            "type": "scatterpolargl"
           }
          ],
          "scatterternary": [
           {
            "marker": {
             "colorbar": {
              "outlinewidth": 1,
              "tickcolor": "rgb(36,36,36)",
              "ticks": "outside"
             }
            },
            "type": "scatterternary"
           }
          ],
          "surface": [
           {
            "colorbar": {
             "outlinewidth": 1,
             "tickcolor": "rgb(36,36,36)",
             "ticks": "outside"
            },
            "colorscale": [
             [
              0,
              "#440154"
             ],
             [
              0.1111111111111111,
              "#482878"
             ],
             [
              0.2222222222222222,
              "#3e4989"
             ],
             [
              0.3333333333333333,
              "#31688e"
             ],
             [
              0.4444444444444444,
              "#26828e"
             ],
             [
              0.5555555555555556,
              "#1f9e89"
             ],
             [
              0.6666666666666666,
              "#35b779"
             ],
             [
              0.7777777777777778,
              "#6ece58"
             ],
             [
              0.8888888888888888,
              "#b5de2b"
             ],
             [
              1,
              "#fde725"
             ]
            ],
            "type": "surface"
           }
          ],
          "table": [
           {
            "cells": {
             "fill": {
              "color": "rgb(237,237,237)"
             },
             "line": {
              "color": "white"
             }
            },
            "header": {
             "fill": {
              "color": "rgb(217,217,217)"
             },
             "line": {
              "color": "white"
             }
            },
            "type": "table"
           }
          ]
         },
         "layout": {
          "annotationdefaults": {
           "arrowhead": 0,
           "arrowwidth": 1
          },
          "autotypenumbers": "strict",
          "coloraxis": {
           "colorbar": {
            "outlinewidth": 1,
            "tickcolor": "rgb(36,36,36)",
            "ticks": "outside"
           }
          },
          "colorscale": {
           "diverging": [
            [
             0,
             "rgb(103,0,31)"
            ],
            [
             0.1,
             "rgb(178,24,43)"
            ],
            [
             0.2,
             "rgb(214,96,77)"
            ],
            [
             0.3,
             "rgb(244,165,130)"
            ],
            [
             0.4,
             "rgb(253,219,199)"
            ],
            [
             0.5,
             "rgb(247,247,247)"
            ],
            [
             0.6,
             "rgb(209,229,240)"
            ],
            [
             0.7,
             "rgb(146,197,222)"
            ],
            [
             0.8,
             "rgb(67,147,195)"
            ],
            [
             0.9,
             "rgb(33,102,172)"
            ],
            [
             1,
             "rgb(5,48,97)"
            ]
           ],
           "sequential": [
            [
             0,
             "#440154"
            ],
            [
             0.1111111111111111,
             "#482878"
            ],
            [
             0.2222222222222222,
             "#3e4989"
            ],
            [
             0.3333333333333333,
             "#31688e"
            ],
            [
             0.4444444444444444,
             "#26828e"
            ],
            [
             0.5555555555555556,
             "#1f9e89"
            ],
            [
             0.6666666666666666,
             "#35b779"
            ],
            [
             0.7777777777777778,
             "#6ece58"
            ],
            [
             0.8888888888888888,
             "#b5de2b"
            ],
            [
             1,
             "#fde725"
            ]
           ],
           "sequentialminus": [
            [
             0,
             "#440154"
            ],
            [
             0.1111111111111111,
             "#482878"
            ],
            [
             0.2222222222222222,
             "#3e4989"
            ],
            [
             0.3333333333333333,
             "#31688e"
            ],
            [
             0.4444444444444444,
             "#26828e"
            ],
            [
             0.5555555555555556,
             "#1f9e89"
            ],
            [
             0.6666666666666666,
             "#35b779"
            ],
            [
             0.7777777777777778,
             "#6ece58"
            ],
            [
             0.8888888888888888,
             "#b5de2b"
            ],
            [
             1,
             "#fde725"
            ]
           ]
          },
          "colorway": [
           "#1F77B4",
           "#FF7F0E",
           "#2CA02C",
           "#D62728",
           "#9467BD",
           "#8C564B",
           "#E377C2",
           "#7F7F7F",
           "#BCBD22",
           "#17BECF"
          ],
          "font": {
           "color": "rgb(36,36,36)"
          },
          "geo": {
           "bgcolor": "white",
           "lakecolor": "white",
           "landcolor": "white",
           "showlakes": true,
           "showland": true,
           "subunitcolor": "white"
          },
          "hoverlabel": {
           "align": "left"
          },
          "hovermode": "closest",
          "mapbox": {
           "style": "light"
          },
          "paper_bgcolor": "white",
          "plot_bgcolor": "white",
          "polar": {
           "angularaxis": {
            "gridcolor": "rgb(232,232,232)",
            "linecolor": "rgb(36,36,36)",
            "showgrid": false,
            "showline": true,
            "ticks": "outside"
           },
           "bgcolor": "white",
           "radialaxis": {
            "gridcolor": "rgb(232,232,232)",
            "linecolor": "rgb(36,36,36)",
            "showgrid": false,
            "showline": true,
            "ticks": "outside"
           }
          },
          "scene": {
           "xaxis": {
            "backgroundcolor": "white",
            "gridcolor": "rgb(232,232,232)",
            "gridwidth": 2,
            "linecolor": "rgb(36,36,36)",
            "showbackground": true,
            "showgrid": false,
            "showline": true,
            "ticks": "outside",
            "zeroline": false,
            "zerolinecolor": "rgb(36,36,36)"
           },
           "yaxis": {
            "backgroundcolor": "white",
            "gridcolor": "rgb(232,232,232)",
            "gridwidth": 2,
            "linecolor": "rgb(36,36,36)",
            "showbackground": true,
            "showgrid": false,
            "showline": true,
            "ticks": "outside",
            "zeroline": false,
            "zerolinecolor": "rgb(36,36,36)"
           },
           "zaxis": {
            "backgroundcolor": "white",
            "gridcolor": "rgb(232,232,232)",
            "gridwidth": 2,
            "linecolor": "rgb(36,36,36)",
            "showbackground": true,
            "showgrid": false,
            "showline": true,
            "ticks": "outside",
            "zeroline": false,
            "zerolinecolor": "rgb(36,36,36)"
           }
          },
          "shapedefaults": {
           "fillcolor": "black",
           "line": {
            "width": 0
           },
           "opacity": 0.3
          },
          "ternary": {
           "aaxis": {
            "gridcolor": "rgb(232,232,232)",
            "linecolor": "rgb(36,36,36)",
            "showgrid": false,
            "showline": true,
            "ticks": "outside"
           },
           "baxis": {
            "gridcolor": "rgb(232,232,232)",
            "linecolor": "rgb(36,36,36)",
            "showgrid": false,
            "showline": true,
            "ticks": "outside"
           },
           "bgcolor": "white",
           "caxis": {
            "gridcolor": "rgb(232,232,232)",
            "linecolor": "rgb(36,36,36)",
            "showgrid": false,
            "showline": true,
            "ticks": "outside"
           }
          },
          "title": {
           "x": 0.05
          },
          "xaxis": {
           "automargin": true,
           "gridcolor": "rgb(232,232,232)",
           "linecolor": "rgb(36,36,36)",
           "showgrid": false,
           "showline": true,
           "ticks": "outside",
           "title": {
            "standoff": 15
           },
           "zeroline": false,
           "zerolinecolor": "rgb(36,36,36)"
          },
          "yaxis": {
           "automargin": true,
           "gridcolor": "rgb(232,232,232)",
           "linecolor": "rgb(36,36,36)",
           "showgrid": false,
           "showline": true,
           "ticks": "outside",
           "title": {
            "standoff": 15
           },
           "zeroline": false,
           "zerolinecolor": "rgb(36,36,36)"
          }
         }
        },
        "title": {
         "text": "<b>LLM SQL Agent evaluation</b>: query accuracy"
        },
        "xaxis": {
         "anchor": "y",
         "autorange": true,
         "domain": [
          0,
          1
         ],
         "range": [
          0,
          52.631578947368425
         ],
         "title": {
          "text": "share of queries, %"
         },
         "type": "linear"
        },
        "yaxis": {
         "anchor": "x",
         "autorange": true,
         "domain": [
          0,
          1
         ],
         "range": [
          -0.5,
          2.5
         ],
         "title": {
          "text": "accuracy"
         },
         "type": "category"
        }
       }
      },
      "image/png": "[encoded data removed]",
      "text/html": [
       "<div>                            <div id=\"58e638b2-1705-41bf-bf32-0cf3cbb3e19b\" class=\"plotly-graph-div\" style=\"height:525px; width:100%;\"></div>            <script type=\"text/javascript\">                require([\"plotly\"], function(Plotly) {                    window.PLOTLYENV=window.PLOTLYENV || {};                                    if (document.getElementById(\"58e638b2-1705-41bf-bf32-0cf3cbb3e19b\")) {                    Plotly.newPlot(                        \"58e638b2-1705-41bf-bf32-0cf3cbb3e19b\",                        [{\"alignmentgroup\":\"True\",\"hovertemplate\":\"accuracy=%{y}\\u003cbr\\u003eshare of queries, %=%{x}\\u003cextra\\u003e\\u003c\\u002fextra\\u003e\",\"legendgroup\":\"share\",\"marker\":{\"color\":\"#0077B5\",\"pattern\":{\"shape\":\"\"}},\"name\":\"share\",\"offsetgroup\":\"share\",\"orientation\":\"h\",\"showlegend\":true,\"textposition\":\"auto\",\"texttemplate\":\"%{x:.1f}\",\"x\":[10.0,40.0,50.0],\"xaxis\":\"x\",\"y\":[\"correct\",\"incorrect\",\"invalid: error\"],\"yaxis\":\"y\",\"type\":\"bar\"}],                        {\"template\":{\"data\":{\"histogram2dcontour\":[{\"type\":\"histogram2dcontour\",\"colorbar\":{\"outlinewidth\":1,\"tickcolor\":\"rgb(36,36,36)\",\"ticks\":\"outside\"},\"colorscale\":[[0.0,\"#440154\"],[0.1111111111111111,\"#482878\"],[0.2222222222222222,\"#3e4989\"],[0.3333333333333333,\"#31688e\"],[0.4444444444444444,\"#26828e\"],[0.5555555555555556,\"#1f9e89\"],[0.6666666666666666,\"#35b779\"],[0.7777777777777778,\"#6ece58\"],[0.8888888888888888,\"#b5de2b\"],[1.0,\"#fde725\"]]}],\"choropleth\":[{\"type\":\"choropleth\",\"colorbar\":{\"outlinewidth\":1,\"tickcolor\":\"rgb(36,36,36)\",\"ticks\":\"outside\"}}],\"histogram2d\":[{\"type\":\"histogram2d\",\"colorbar\":{\"outlinewidth\":1,\"tickcolor\":\"rgb(36,36,36)\",\"ticks\":\"outside\"},\"colorscale\":[[0.0,\"#440154\"],[0.1111111111111111,\"#482878\"],[0.2222222222222222,\"#3e4989\"],[0.3333333333333333,\"#31688e\"],[0.4444444444444444,\"#26828e\"],[0.5555555555555556,\"#1f9e89\"],[0.6666666666666666,\"#35b779\"],[0.7777777777777778,\"#6ece58\"],[0.8888888888888888,\"#b5de2b\"],[1.0,\"#fde725\"]]}],\"heatmap\":[{\"type\":\"heatmap\",\"colorbar\":{\"outlinewidth\":1,\"tickcolor\":\"rgb(36,36,36)\",\"ticks\":\"outside\"},\"colorscale\":[[0.0,\"#440154\"],[0.1111111111111111,\"#482878\"],[0.2222222222222222,\"#3e4989\"],[0.3333333333333333,\"#31688e\"],[0.4444444444444444,\"#26828e\"],[0.5555555555555556,\"#1f9e89\"],[0.6666666666666666,\"#35b779\"],[0.7777777777777778,\"#6ece58\"],[0.8888888888888888,\"#b5de2b\"],[1.0,\"#fde725\"]]}],\"heatmapgl\":[{\"type\":\"heatmapgl\",\"colorbar\":{\"outlinewidth\":1,\"tickcolor\":\"rgb(36,36,36)\",\"ticks\":\"outside\"},\"colorscale\":[[0.0,\"#440154\"],[0.1111111111111111,\"#482878\"],[0.2222222222222222,\"#3e4989\"],[0.3333333333333333,\"#31688e\"],[0.4444444444444444,\"#26828e\"],[0.5555555555555556,\"#1f9e89\"],[0.6666666666666666,\"#35b779\"],[0.7777777777777778,\"#6ece58\"],[0.8888888888888888,\"#b5de2b\"],[1.0,\"#fde725\"]]}],\"contourcarpet\":[{\"type\":\"contourcarpet\",\"colorbar\":{\"outlinewidth\":1,\"tickcolor\":\"rgb(36,36,36)\",\"ticks\":\"outside\"}}],\"contour\":[{\"type\":\"contour\",\"colorbar\":{\"outlinewidth\":1,\"tickcolor\":\"rgb(36,36,36)\",\"ticks\":\"outside\"},\"colorscale\":[[0.0,\"#440154\"],[0.1111111111111111,\"#482878\"],[0.2222222222222222,\"#3e4989\"],[0.3333333333333333,\"#31688e\"],[0.4444444444444444,\"#26828e\"],[0.5555555555555556,\"#1f9e89\"],[0.6666666666666666,\"#35b779\"],[0.7777777777777778,\"#6ece58\"],[0.8888888888888888,\"#b5de2b\"],[1.0,\"#fde725\"]]}],\"surface\":[{\"type\":\"surface\",\"colorbar\":{\"outlinewidth\":1,\"tickcolor\":\"rgb(36,36,36)\",\"ticks\":\"outside\"},\"colorscale\":[[0.0,\"#440154\"],[0.1111111111111111,\"#482878\"],[0.2222222222222222,\"#3e4989\"],[0.3333333333333333,\"#31688e\"],[0.4444444444444444,\"#26828e\"],[0.5555555555555556,\"#1f9e89\"],[0.6666666666666666,\"#35b779\"],[0.7777777777777778,\"#6ece58\"],[0.8888888888888888,\"#b5de2b\"],[1.0,\"#fde725\"]]}],\"mesh3d\":[{\"type\":\"mesh3d\",\"colorbar\":{\"outlinewidth\":1,\"tickcolor\":\"rgb(36,36,36)\",\"ticks\":\"outside\"}}],\"scatter\":[{\"fillpattern\":{\"fillmode\":\"overlay\",\"size\":10,\"solidity\":0.2},\"type\":\"scatter\"}],\"parcoords\":[{\"type\":\"parcoords\",\"line\":{\"colorbar\":{\"outlinewidth\":1,\"tickcolor\":\"rgb(36,36,36)\",\"ticks\":\"outside\"}}}],\"scatterpolargl\":[{\"type\":\"scatterpolargl\",\"marker\":{\"colorbar\":{\"outlinewidth\":1,\"tickcolor\":\"rgb(36,36,36)\",\"ticks\":\"outside\"}}}],\"bar\":[{\"error_x\":{\"color\":\"rgb(36,36,36)\"},\"error_y\":{\"color\":\"rgb(36,36,36)\"},\"marker\":{\"line\":{\"color\":\"white\",\"width\":0.5},\"pattern\":{\"fillmode\":\"overlay\",\"size\":10,\"solidity\":0.2}},\"type\":\"bar\"}],\"scattergeo\":[{\"type\":\"scattergeo\",\"marker\":{\"colorbar\":{\"outlinewidth\":1,\"tickcolor\":\"rgb(36,36,36)\",\"ticks\":\"outside\"}}}],\"scatterpolar\":[{\"type\":\"scatterpolar\",\"marker\":{\"colorbar\":{\"outlinewidth\":1,\"tickcolor\":\"rgb(36,36,36)\",\"ticks\":\"outside\"}}}],\"histogram\":[{\"marker\":{\"line\":{\"color\":\"white\",\"width\":0.6}},\"type\":\"histogram\"}],\"scattergl\":[{\"type\":\"scattergl\",\"marker\":{\"colorbar\":{\"outlinewidth\":1,\"tickcolor\":\"rgb(36,36,36)\",\"ticks\":\"outside\"}}}],\"scatter3d\":[{\"type\":\"scatter3d\",\"line\":{\"colorbar\":{\"outlinewidth\":1,\"tickcolor\":\"rgb(36,36,36)\",\"ticks\":\"outside\"}},\"marker\":{\"colorbar\":{\"outlinewidth\":1,\"tickcolor\":\"rgb(36,36,36)\",\"ticks\":\"outside\"}}}],\"scattermapbox\":[{\"type\":\"scattermapbox\",\"marker\":{\"colorbar\":{\"outlinewidth\":1,\"tickcolor\":\"rgb(36,36,36)\",\"ticks\":\"outside\"}}}],\"scatterternary\":[{\"type\":\"scatterternary\",\"marker\":{\"colorbar\":{\"outlinewidth\":1,\"tickcolor\":\"rgb(36,36,36)\",\"ticks\":\"outside\"}}}],\"scattercarpet\":[{\"type\":\"scattercarpet\",\"marker\":{\"colorbar\":{\"outlinewidth\":1,\"tickcolor\":\"rgb(36,36,36)\",\"ticks\":\"outside\"}}}],\"carpet\":[{\"aaxis\":{\"endlinecolor\":\"rgb(36,36,36)\",\"gridcolor\":\"white\",\"linecolor\":\"white\",\"minorgridcolor\":\"white\",\"startlinecolor\":\"rgb(36,36,36)\"},\"baxis\":{\"endlinecolor\":\"rgb(36,36,36)\",\"gridcolor\":\"white\",\"linecolor\":\"white\",\"minorgridcolor\":\"white\",\"startlinecolor\":\"rgb(36,36,36)\"},\"type\":\"carpet\"}],\"table\":[{\"cells\":{\"fill\":{\"color\":\"rgb(237,237,237)\"},\"line\":{\"color\":\"white\"}},\"header\":{\"fill\":{\"color\":\"rgb(217,217,217)\"},\"line\":{\"color\":\"white\"}},\"type\":\"table\"}],\"barpolar\":[{\"marker\":{\"line\":{\"color\":\"white\",\"width\":0.5},\"pattern\":{\"fillmode\":\"overlay\",\"size\":10,\"solidity\":0.2}},\"type\":\"barpolar\"}],\"pie\":[{\"automargin\":true,\"type\":\"pie\"}]},\"layout\":{\"autotypenumbers\":\"strict\",\"colorway\":[\"#1F77B4\",\"#FF7F0E\",\"#2CA02C\",\"#D62728\",\"#9467BD\",\"#8C564B\",\"#E377C2\",\"#7F7F7F\",\"#BCBD22\",\"#17BECF\"],\"font\":{\"color\":\"rgb(36,36,36)\"},\"hovermode\":\"closest\",\"hoverlabel\":{\"align\":\"left\"},\"paper_bgcolor\":\"white\",\"plot_bgcolor\":\"white\",\"polar\":{\"bgcolor\":\"white\",\"angularaxis\":{\"gridcolor\":\"rgb(232,232,232)\",\"linecolor\":\"rgb(36,36,36)\",\"showgrid\":false,\"showline\":true,\"ticks\":\"outside\"},\"radialaxis\":{\"gridcolor\":\"rgb(232,232,232)\",\"linecolor\":\"rgb(36,36,36)\",\"showgrid\":false,\"showline\":true,\"ticks\":\"outside\"}},\"ternary\":{\"bgcolor\":\"white\",\"aaxis\":{\"gridcolor\":\"rgb(232,232,232)\",\"linecolor\":\"rgb(36,36,36)\",\"showgrid\":false,\"showline\":true,\"ticks\":\"outside\"},\"baxis\":{\"gridcolor\":\"rgb(232,232,232)\",\"linecolor\":\"rgb(36,36,36)\",\"showgrid\":false,\"showline\":true,\"ticks\":\"outside\"},\"caxis\":{\"gridcolor\":\"rgb(232,232,232)\",\"linecolor\":\"rgb(36,36,36)\",\"showgrid\":false,\"showline\":true,\"ticks\":\"outside\"}},\"coloraxis\":{\"colorbar\":{\"outlinewidth\":1,\"tickcolor\":\"rgb(36,36,36)\",\"ticks\":\"outside\"}},\"colorscale\":{\"sequential\":[[0.0,\"#440154\"],[0.1111111111111111,\"#482878\"],[0.2222222222222222,\"#3e4989\"],[0.3333333333333333,\"#31688e\"],[0.4444444444444444,\"#26828e\"],[0.5555555555555556,\"#1f9e89\"],[0.6666666666666666,\"#35b779\"],[0.7777777777777778,\"#6ece58\"],[0.8888888888888888,\"#b5de2b\"],[1.0,\"#fde725\"]],\"sequentialminus\":[[0.0,\"#440154\"],[0.1111111111111111,\"#482878\"],[0.2222222222222222,\"#3e4989\"],[0.3333333333333333,\"#31688e\"],[0.4444444444444444,\"#26828e\"],[0.5555555555555556,\"#1f9e89\"],[0.6666666666666666,\"#35b779\"],[0.7777777777777778,\"#6ece58\"],[0.8888888888888888,\"#b5de2b\"],[1.0,\"#fde725\"]],\"diverging\":[[0.0,\"rgb(103,0,31)\"],[0.1,\"rgb(178,24,43)\"],[0.2,\"rgb(214,96,77)\"],[0.3,\"rgb(244,165,130)\"],[0.4,\"rgb(253,219,199)\"],[0.5,\"rgb(247,247,247)\"],[0.6,\"rgb(209,229,240)\"],[0.7,\"rgb(146,197,222)\"],[0.8,\"rgb(67,147,195)\"],[0.9,\"rgb(33,102,172)\"],[1.0,\"rgb(5,48,97)\"]]},\"xaxis\":{\"gridcolor\":\"rgb(232,232,232)\",\"linecolor\":\"rgb(36,36,36)\",\"showgrid\":false,\"showline\":true,\"ticks\":\"outside\",\"title\":{\"standoff\":15},\"zerolinecolor\":\"rgb(36,36,36)\",\"automargin\":true,\"zeroline\":false},\"yaxis\":{\"gridcolor\":\"rgb(232,232,232)\",\"linecolor\":\"rgb(36,36,36)\",\"showgrid\":false,\"showline\":true,\"ticks\":\"outside\",\"title\":{\"standoff\":15},\"zerolinecolor\":\"rgb(36,36,36)\",\"automargin\":true,\"zeroline\":false},\"scene\":{\"xaxis\":{\"backgroundcolor\":\"white\",\"gridcolor\":\"rgb(232,232,232)\",\"linecolor\":\"rgb(36,36,36)\",\"showbackground\":true,\"showgrid\":false,\"showline\":true,\"ticks\":\"outside\",\"zerolinecolor\":\"rgb(36,36,36)\",\"gridwidth\":2,\"zeroline\":false},\"yaxis\":{\"backgroundcolor\":\"white\",\"gridcolor\":\"rgb(232,232,232)\",\"linecolor\":\"rgb(36,36,36)\",\"showbackground\":true,\"showgrid\":false,\"showline\":true,\"ticks\":\"outside\",\"zerolinecolor\":\"rgb(36,36,36)\",\"gridwidth\":2,\"zeroline\":false},\"zaxis\":{\"backgroundcolor\":\"white\",\"gridcolor\":\"rgb(232,232,232)\",\"linecolor\":\"rgb(36,36,36)\",\"showbackground\":true,\"showgrid\":false,\"showline\":true,\"ticks\":\"outside\",\"zerolinecolor\":\"rgb(36,36,36)\",\"gridwidth\":2,\"zeroline\":false}},\"shapedefaults\":{\"fillcolor\":\"black\",\"line\":{\"width\":0},\"opacity\":0.3},\"annotationdefaults\":{\"arrowhead\":0,\"arrowwidth\":1},\"geo\":{\"bgcolor\":\"white\",\"landcolor\":\"white\",\"subunitcolor\":\"white\",\"showland\":true,\"showlakes\":true,\"lakecolor\":\"white\"},\"title\":{\"x\":0.05},\"mapbox\":{\"style\":\"light\"}}},\"xaxis\":{\"anchor\":\"y\",\"domain\":[0.0,1.0],\"title\":{\"text\":\"share of queries, %\"}},\"yaxis\":{\"anchor\":\"x\",\"domain\":[0.0,1.0],\"title\":{\"text\":\"accuracy\"}},\"legend\":{\"title\":{\"text\":\"accuracy\"},\"tracegroupgap\":0},\"title\":{\"text\":\"\\u003cb\\u003eLLM SQL Agent evaluation\\u003c\\u002fb\\u003e: query accuracy\"},\"barmode\":\"relative\",\"showlegend\":false},                        {\"responsive\": true}                    ).then(function(){\n",
       "                            \n",
       "var gd = document.getElementById('58e638b2-1705-41bf-bf32-0cf3cbb3e19b');\n",
       "var x = new MutationObserver(function (mutations, observer) {{\n",
       "        var display = window.getComputedStyle(gd).display;\n",
       "        if (!display || display === 'none') {{\n",
       "            console.log([gd, 'removed!']);\n",
       "            Plotly.purge(gd);\n",
       "            observer.disconnect();\n",
       "        }}\n",
       "}});\n",
       "\n",
       "// Listen for the removal of the full notebook cells\n",
       "var notebookContainer = gd.closest('#notebook-container');\n",
       "if (notebookContainer) {{\n",
       "    x.observe(notebookContainer, {childList: true});\n",
       "}}\n",
       "\n",
       "// Listen for the clearing of the current output cell\n",
       "var outputEl = gd.closest('.output');\n",
       "if (outputEl) {{\n",
       "    x.observe(outputEl, {childList: true});\n",
       "}}\n",
       "\n",
       "                        })                };                });            </script>        </div>"
      ]
     },
     "metadata": {},
     "output_type": "display_data"
    }
   ],
   "source": [
    "refl_eval_df = evaluate_sql_agent(generate_query_reflection, golden_df)"
   ]
  },
  {
   "cell_type": "code",
   "execution_count": 202,
   "id": "b1e07306-f9af-4c41-8eb9-64d5691d7f42",
   "metadata": {},
   "outputs": [],
   "source": [
    "refl_eval_df.to_csv('results_self_reflection.csv', index = False, sep = '\\t')"
   ]
  },
  {
   "cell_type": "code",
   "execution_count": 203,
   "id": "c1fc5e4b-5e74-41b7-bd98-dffc924ba223",
   "metadata": {},
   "outputs": [
    {
     "data": {
      "text/plain": [
       "generated_output\n",
       "uniqExact(user_id)\\n280703\\n                                                                                                                                                                                                                                                                                                                                                                                                                                                                                                                                                                                                                                                                                                                                                                                                                                                    1\n",
       "divide(multiply(CAST(sum(if(equals(is_fraud, 1), 1, 0)), \\'Float\\'), 100), count(session_id))\\n1.0058579080541428\\n                                                                                                                                                                                                                                                                                                                                                                                                                                                                                                                                                                                                                                                                                                                                                             1\n",
       "Database returned the following error:\\nCode: 47. DB::Exception: Missing columns: 'CURRENT_DATE' while processing query: 'SELECT count(user_id) FROM ecommerce.sessions WHERE action_date = (CURRENT_DATE - toIntervalDay(1))', required columns: 'action_date' 'CURRENT_DATE' 'user_id', maybe you meant: 'action_date' or 'user_id': While processing (SELECT count(user_id) FROM ecommerce.sessions WHERE action_date = (CURRENT_DATE - toIntervalDay(1))) AS _subquery2: While processing uniqExact(user_id) / ((SELECT count(user_id) FROM ecommerce.sessions WHERE action_date = (CURRENT_DATE - toIntervalDay(1))) AS _subquery2): While processing (uniqExact(user_id) / ((SELECT count(user_id) FROM ecommerce.sessions WHERE action_date = (CURRENT_DATE - toIntervalDay(1))) AS _subquery2)) * 100. (UNKNOWN_IDENTIFIER) (version 23.12.1.414 (official build))\\n    1\n",
       "Database returned the following error:\\nCode: 47. DB::Exception: There's no column 'T2.revenue' in table 'T2': While processing T2.revenue. (UNKNOWN_IDENTIFIER) (version 23.12.1.414 (official build))\\n                                                                                                                                                                                                                                                                                                                                                                                                                                                                                                                                                                                                                                                                       1\n",
       "Database returned the following error:\\nCode: 47. DB::Exception: Missing columns: 'country' while processing query: 'SELECT country, revenue FROM ecommerce.sessions WHERE is_fraud = 0 GROUP BY country', required columns: 'country' 'revenue' 'is_fraud', maybe you meant: 'revenue' or 'is_fraud'. (UNKNOWN_IDENTIFIER) (version 23.12.1.414 (official build))\\n                                                                                                                                                                                                                                                                                                                                                                                                                                                                                                            1\n",
       "Database returned the following error:\\nCode: 184. DB::Exception: Aggregate function min(action_date) is found inside another aggregate function in query: While processing min(action_date). (ILLEGAL_AGGREGATION) (version 23.12.1.414 (official build))\\n                                                                                                                                                                                                                                                                                                                                                                                                                                                                                                                                                                                                                    1\n",
       "os\\tcount\\nAndroid\\t192377\\niOS\\t9751\\nWindows\\t281912\\n                                                                                                                                                                                                                                                                                                                                                                                                                                                                                                                                                                                                                                                                                                                                                                                                                        1\n",
       "Database returned the following error:\\nCode: 215. DB::Exception: Column `session_id` is not under aggregate function and not in GROUP BY. Have columns: ['browser','user_id']: While processing user_id, browser AS browser1, LAG(browser) OVER (PARTITION BY user_id ORDER BY session_id ASC) AS browser2. (NOT_AN_AGGREGATE) (version 23.12.1.414 (official build))\\n                                                                                                                                                                                                                                                                                                                                                                                                                                                                                                        1\n",
       "browser\\ttotal_fraud_count\\ttotal_sessions\\nFirefox\\t11178\\t1112685\\n                                                                                                                                                                                                                                                                                                                                                                                                                                                                                                                                                                                                                                                                                                                                                                                                           1\n",
       "country\\nUnited Kingdom\\n                                                                                                                                                                                                                                                                                                                                                                                                                                                                                                                                                                                                                                                                                                                                                                                                                                                       1\n",
       "Name: count, dtype: int64"
      ]
     },
     "execution_count": 203,
     "metadata": {},
     "output_type": "execute_result"
    }
   ],
   "source": [
    "refl_eval_df.generated_output.value_counts()"
   ]
  },
  {
   "cell_type": "code",
   "execution_count": 207,
   "id": "f3a24188-0a04-46af-a7ec-dc89fd354c50",
   "metadata": {},
   "outputs": [
    {
     "data": {
      "text/html": [
       "<div>\n",
       "<style scoped>\n",
       "    .dataframe tbody tr th:only-of-type {\n",
       "        vertical-align: middle;\n",
       "    }\n",
       "\n",
       "    .dataframe tbody tr th {\n",
       "        vertical-align: top;\n",
       "    }\n",
       "\n",
       "    .dataframe thead th {\n",
       "        text-align: right;\n",
       "    }\n",
       "</style>\n",
       "<table border=\"1\" class=\"dataframe\">\n",
       "  <thead>\n",
       "    <tr style=\"text-align: right;\">\n",
       "      <th></th>\n",
       "      <th>6</th>\n",
       "    </tr>\n",
       "  </thead>\n",
       "  <tbody>\n",
       "    <tr>\n",
       "      <th>question</th>\n",
       "      <td>What is the number of sessions in December 2024, broken down by operating systems, including the totals?</td>\n",
       "    </tr>\n",
       "    <tr>\n",
       "      <th>sql_query</th>\n",
       "      <td>SELECT os, uniqExact(session_id) as total FROM ecommerce.sessions WHERE toStartOfMonth(action_date) = '2024-12-01' GROUP BY os with totals format TabSeparatedWithNames</td>\n",
       "    </tr>\n",
       "    <tr>\n",
       "      <th>id</th>\n",
       "      <td>6</td>\n",
       "    </tr>\n",
       "    <tr>\n",
       "      <th>generated_query</th>\n",
       "      <td>SELECT os, COUNT(session_id) as count FROM ecommerce.sessions WHERE action_date &gt;= '2024-12-01' AND action_date &lt;= '2024-12-31' GROUP BY os format TabSeparatedWithNames</td>\n",
       "    </tr>\n",
       "    <tr>\n",
       "      <th>golden_output</th>\n",
       "      <td>os\\ttotal\\nAndroid\\t192377\\niOS\\t9751\\nWindows\\t281912\\n\\n\\t484040\\n</td>\n",
       "    </tr>\n",
       "    <tr>\n",
       "      <th>generated_output</th>\n",
       "      <td>os\\tcount\\nAndroid\\t192377\\niOS\\t9751\\nWindows\\t281912\\n</td>\n",
       "    </tr>\n",
       "    <tr>\n",
       "      <th>golden_output_valid</th>\n",
       "      <td>ok</td>\n",
       "    </tr>\n",
       "    <tr>\n",
       "      <th>generated_output_valid</th>\n",
       "      <td>ok</td>\n",
       "    </tr>\n",
       "    <tr>\n",
       "      <th>correct_output</th>\n",
       "      <td>1</td>\n",
       "    </tr>\n",
       "    <tr>\n",
       "      <th>accuracy</th>\n",
       "      <td>correct</td>\n",
       "    </tr>\n",
       "  </tbody>\n",
       "</table>\n",
       "</div>"
      ],
      "text/plain": [
       "                                                                                                                                                                                               6\n",
       "question                                                                                What is the number of sessions in December 2024, broken down by operating systems, including the totals?\n",
       "sql_query                SELECT os, uniqExact(session_id) as total FROM ecommerce.sessions WHERE toStartOfMonth(action_date) = '2024-12-01' GROUP BY os with totals format TabSeparatedWithNames\n",
       "id                                                                                                                                                                                             6\n",
       "generated_query         SELECT os, COUNT(session_id) as count FROM ecommerce.sessions WHERE action_date >= '2024-12-01' AND action_date <= '2024-12-31' GROUP BY os format TabSeparatedWithNames\n",
       "golden_output                                                                                                               os\\ttotal\\nAndroid\\t192377\\niOS\\t9751\\nWindows\\t281912\\n\\n\\t484040\\n\n",
       "generated_output                                                                                                                        os\\tcount\\nAndroid\\t192377\\niOS\\t9751\\nWindows\\t281912\\n\n",
       "golden_output_valid                                                                                                                                                                           ok\n",
       "generated_output_valid                                                                                                                                                                        ok\n",
       "correct_output                                                                                                                                                                                 1\n",
       "accuracy                                                                                                                                                                                 correct"
      ]
     },
     "execution_count": 207,
     "metadata": {},
     "output_type": "execute_result"
    }
   ],
   "source": [
    "refl_eval_df[refl_eval_df.accuracy == 'correct'].T"
   ]
  },
  {
   "cell_type": "markdown",
   "id": "a0fc492d-aa87-46e4-948e-d428e06cdf3a",
   "metadata": {},
   "source": [
    "### RAG"
   ]
  },
  {
   "cell_type": "code",
   "execution_count": 208,
   "id": "e7f1a075-716a-4ca8-972a-b66b90720084",
   "metadata": {},
   "outputs": [],
   "source": [
    "from langchain_openai import OpenAIEmbeddings\n",
    "\n",
    "embeddings = OpenAIEmbeddings(model=\"text-embedding-3-large\")"
   ]
  },
  {
   "cell_type": "code",
   "execution_count": 211,
   "id": "11f82566-ef05-4796-afe0-66d285c9c5c8",
   "metadata": {},
   "outputs": [],
   "source": [
    "# ! pip install langchain_chroma"
   ]
  },
  {
   "cell_type": "code",
   "execution_count": 366,
   "id": "56d780e5-9356-4671-9653-95050f61b9b8",
   "metadata": {},
   "outputs": [],
   "source": [
    "from langchain_chroma import Chroma\n",
    "\n",
    "vector_store = Chroma(embedding_function=embeddings)"
   ]
  },
  {
   "cell_type": "code",
   "execution_count": 367,
   "id": "9ab743a9-ef2b-48a6-a5f2-f1e10cf5ac70",
   "metadata": {},
   "outputs": [],
   "source": [
    "# print(vector_store._collection.count())"
   ]
  },
  {
   "cell_type": "code",
   "execution_count": 368,
   "id": "ea4cd13f-a1e9-4122-b730-a076840ea503",
   "metadata": {},
   "outputs": [],
   "source": [
    "# vector_store.delete_collection()"
   ]
  },
  {
   "cell_type": "code",
   "execution_count": 369,
   "id": "bfd7fc35-579c-4eba-aa77-92d7ec220f02",
   "metadata": {},
   "outputs": [
    {
     "name": "stdout",
     "output_type": "stream",
     "text": [
      "customers\n",
      "17433\n",
      "\n"
     ]
    }
   ],
   "source": [
    "q = '''\n",
    "select uniqExact(s.user_id) as customers \n",
    "from ecommerce.sessions s join ecommerce.users u on s.user_id = u.user_id \n",
    "where (toStartOfMonth(action_date) = '2024-12-01') and (revenue > 0) and (u.age >= 30) and (u.age <= 40) format TabSeparatedWithNames\n",
    "'''\n",
    "\n",
    "print(get_clickhouse_data(q))"
   ]
  },
  {
   "cell_type": "code",
   "execution_count": 461,
   "id": "231764eb-cdb6-422b-85c0-c08532bdf1e7",
   "metadata": {},
   "outputs": [],
   "source": [
    "rag_set = [\n",
    "    {\n",
    "        \"question\": \"How many customers made a purchase in November 2024?\",\n",
    "        \"sql_query\": \"select uniqExact(user_id) as customers from ecommerce.sessions where (toStartOfMonth(action_date) = '2024-11-01') and (revenue > 0) format TabSeparatedWithNames\"\n",
    "    },\n",
    "    {\n",
    "        \"question\": \"How many active customers made a purchase in December 2024?\",\n",
    "        \"sql_query\": \"select uniqExact(s.user_id) as customers from ecommerce.sessions s join ecommerce.users u on s.user_id = u.user_id where (toStartOfMonth(action_date) = '2024-12-01') and (revenue > 0) and (u.is_active = 1) format TabSeparatedWithNames\"\n",
    "    },\n",
    "    {\n",
    "        \"question\": \"How many customers in the United Kingdom made a purchase in December 2024?\",\n",
    "        \"sql_query\": \"select uniqExact(s.user_id) as customers from ecommerce.sessions s join ecommerce.users u on s.user_id = u.user_id where (toStartOfMonth(action_date) = '2024-12-01') and (revenue > 0) and (u.country = 'United Kingdom') format TabSeparatedWithNames\"\n",
    "    },\n",
    "    {\n",
    "        \"question\": \"How many customers aged 30-40 made a purchase in December 2024?\",\n",
    "        \"sql_query\": \"select uniqExact(s.user_id) as customers from ecommerce.sessions s join ecommerce.users u on s.user_id = u.user_id where (toStartOfMonth(action_date) = '2024-12-01') and (revenue > 0) and (u.age >= 30) and (u.age <= 40) format TabSeparatedWithNames\"\n",
    "    },\n",
    "    {\n",
    "        \"question\": \"How many unique customers had at least one session in December 2024?\",\n",
    "        \"sql_query\": \"select uniqExact(user_id) as customers from ecommerce.sessions where toStartOfMonth(action_date) = '2024-12-01' format TabSeparatedWithNames\"\n",
    "    },\n",
    "    {\n",
    "        \"question\": \"How many sessions were marked as fraud in December 2024?\",\n",
    "        \"sql_query\": \"select count(1) as fraud_sessions from ecommerce.sessions where (toStartOfMonth(action_date) = '2024-12-01') and (is_fraud = 1) format TabSeparatedWithNames\"\n",
    "    },\n",
    "    {\n",
    "        \"question\": \"How many customers used the Chrome browser in December 2024?\",\n",
    "        \"sql_query\": \"select uniqExact(user_id) as customers from ecommerce.sessions where (toStartOfMonth(action_date) = '2024-12-01') and (browser = 'Chrome') format TabSeparatedWithNames\"\n",
    "    },\n",
    "    {\n",
    "        \"question\": \"What percentage of sessions were fraudulent in 2023, grouped by operating system?\",\n",
    "        \"sql_query\": \"select os, 100*countIf(session_id, is_fraud = 1)/count(session_id) as fraud_rate from ecommerce.sessions where (toStartOfYear(action_date) = '2023-01-01') group by os format TabSeparatedWithNames\"\n",
    "    },\n",
    "    {\n",
    "        \"question\": \"What was the monthly fraud rate in 2023, expressed as a percentage?\",\n",
    "        \"sql_query\": \"select toStartOfMonth(action_date) as month, 100*uniqExactIf(user_id, is_fraud = 1)/uniqExact(user_id) as fraud_rate from ecommerce.sessions where (toStartOfYear(action_date) = '2023-01-01') group by month order by month format TabSeparatedWithNames\"\n",
    "    },\n",
    "    {\n",
    "        \"question\": \"What was the fraud rate in 2023, grouped by browser, expressed as a percentage?\",\n",
    "        \"sql_query\": \"select browser, 100*uniqExactIf(user_id, is_fraud = 1)/uniqExact(user_id) as fraud_rate from ecommerce.sessions where (toStartOfYear(action_date) = '2023-01-01') group by browser format TabSeparatedWithNames\"\n",
    "    },\n",
    "    {\n",
    "        \"question\": \"What was the fraud rate in 2023 for active users, expressed as a percentage?\",\n",
    "        \"sql_query\": \"select 100*uniqExactIf(s.user_id, is_fraud = 1)/uniqExact(s.user_id) as fraud_rate from ecommerce.sessions s join ecommerce.users u on s.user_id = u.user_id where (toStartOfYear(action_date) = '2023-01-01') and (u.is_active = 1) format TabSeparatedWithNames\"\n",
    "    },\n",
    "    {\n",
    "        \"question\": \"What was the share of users using Android yesterday?\",\n",
    "        \"sql_query\": \"select 100*uniqExactIf(user_id, os = 'Android')/uniqExact(user_id) as android_share from ecommerce.sessions where (action_date = today() - 1) format TabSeparatedWithNames\"\n",
    "    },\n",
    "    {\n",
    "        \"question\": \"What was the share of users using Windows the day before yesterday?\",\n",
    "        \"sql_query\": \"select 100*uniqExactIf(user_id, os = 'Windows')/uniqExact(user_id) as windows_share from ecommerce.sessions where (action_date = today() - 2) format TabSeparatedWithNames\"\n",
    "    },\n",
    "    {\n",
    "        \"question\": \"What was the share of users using Safari yesterday?\",\n",
    "        \"sql_query\": \"select 100*uniqExactIf(user_id, browser = 'Safari')/uniqExact(user_id) as safari_share from ecommerce.sessions where (action_date = today() - 1) format TabSeparatedWithNames\"\n",
    "    },\n",
    "    {\n",
    "        \"question\": \"What was the share of users using Windows in the last week?\",\n",
    "        \"sql_query\": \"select 100*uniqExactIf(user_id, os = 'Windows')/uniqExact(user_id) as windows_share from ecommerce.sessions where (action_date >= today() - 7) and (action_date < today()) format TabSeparatedWithNames\"\n",
    "    },\n",
    "    {\n",
    "        \"question\": \"What was the revenue from German users aged 60 and older in December 2024?\",\n",
    "        \"sql_query\": \"select sum(s.revenue) from ecommerce.sessions AS s inner join ecommerce.users AS u on s.user_id = u.user_id where (u.country = 'Germany') AND (u.age >= 60) and (toStartOfMonth(action_date) = '2024-12-01') format TabSeparatedWithNames\"\n",
    "    },\n",
    "    {\n",
    "        \"question\": \"What was the revenue from users in the United Kingdom aged 55 and older who used Android in December 2024?\",\n",
    "        \"sql_query\": \"select sum(s.revenue) from ecommerce.sessions AS s inner join ecommerce.users AS u on s.user_id = u.user_id where (u.country = 'United Kingdom') AND (u.age >= 55) and (s.os = 'Android') and (toStartOfMonth(action_date) = '2024-12-01') format TabSeparatedWithNames\"\n",
    "    },\n",
    "    {\n",
    "        \"question\": \"What are the median and interquartile range (IQR) of purchase revenue for each country, excluding users under 25 years old?\",\n",
    "        \"sql_query\": \"select country, median(revenue) as median_revenue, quantile(0.25)(revenue) as percentile_25_revenue, quantile(0.75)(revenue) as percentile_75_revenue from ecommerce.sessions AS s inner join ecommerce.users AS u on u.user_id = s.user_id where (revenue > 0) and (u.age >= 25) group by country format TabSeparatedWithNames\"\n",
    "    },\n",
    "    {\n",
    "        \"question\": \"What are the median and interquartile range (IQR) of purchase revenue for each country, considering only active users?\",\n",
    "        \"sql_query\": \"select country, median(revenue) as median_revenue, quantile(0.25)(revenue) as percentile_25_revenue, quantile(0.75)(revenue) as percentile_75_revenue from ecommerce.sessions AS s inner join ecommerce.users AS u on u.user_id = s.user_id where (revenue > 0) and (u.is_active = 1) group by country format TabSeparatedWithNames\"\n",
    "    },\n",
    "    {\n",
    "        \"question\": \"What are the median and interquartile range (IQR) of purchase revenue for each country in 2024?\",\n",
    "        \"sql_query\": \"select country, median(revenue) as median_revenue, quantile(0.25)(revenue) as percentile_25_revenue, quantile(0.75)(revenue) as percentile_75_revenue from ecommerce.sessions AS s inner join ecommerce.users AS u on u.user_id = s.user_id where (revenue > 0) and (toStartOfYear(action_date) = '2024-01-01') group by country format TabSeparatedWithNames\"\n",
    "    },\n",
    "    {\n",
    "        \"question\": \"What are the median and interquartile range (IQR) of purchase revenue for each country, grouped by operating system?\",\n",
    "        \"sql_query\": \"select country, os, median(revenue) as median_revenue, quantile(0.25)(revenue) as percentile_25_revenue, quantile(0.75)(revenue) as percentile_75_revenue from ecommerce.sessions AS s inner join ecommerce.users AS u on u.user_id = s.user_id where (revenue > 0) group by country, os format TabSeparatedWithNames\"\n",
    "    },\n",
    "    {\n",
    "        \"question\": \"What is the average number of days between the first session and the first purchase for users who made at least one purchase in 2024?\",\n",
    "        \"sql_query\": \"select avg(first_purchase - first_action_date) as avg_days_to_purchase from (select user_id, min(action_date) as first_action_date, minIf(action_date, revenue > 0) as first_purchase, max(revenue) as max_revenue from ecommerce.sessions where toStartOfYear(action_date) = '2024-01-01' group by user_id) where max_revenue > 0 format TabSeparatedWithNames\"\n",
    "    },\n",
    "    {\n",
    "        \"question\": \"What is the average number of days between the first session and the first purchase for users in the United Kingdom?\",\n",
    "        \"sql_query\": \"select avg(first_purchase - first_action_date) as avg_days_to_purchase from (select s.user_id, min(s.action_date) as first_action_date, minIf(s.action_date, s.revenue > 0) as first_purchase, max(s.revenue) as max_revenue from ecommerce.sessions s join ecommerce.users u on s.user_id = u.user_id where u.country = 'United Kingdom' group by s.user_id) where max_revenue > 0 format TabSeparatedWithNames\"\n",
    "    },\n",
    "    {\n",
    "        \"question\": \"What is the average number of days between the first session and the first purchase for users aged 30-40 who made at least one purchase?\",\n",
    "        \"sql_query\": \"select avg(first_purchase - first_action_date) as avg_days_to_purchase from (select s.user_id, min(s.action_date) as first_action_date, minIf(s.action_date, s.revenue > 0) as first_purchase, max(s.revenue) as max_revenue from ecommerce.sessions s join ecommerce.users u on s.user_id = u.user_id where (u.age >= 30) and (u.age <= 40) group by s.user_id) where max_revenue > 0 format TabSeparatedWithNames\"\n",
    "    },\n",
    "    {\n",
    "        \"question\": \"What is the number of sessions in December 2024, broken down by browsers, including the totals?\",\n",
    "        \"sql_query\": \"SELECT browser, uniqExact(session_id) as total FROM ecommerce.sessions WHERE toStartOfMonth(action_date) = '2024-12-01' GROUP BY browser with totals format TabSeparatedWithNames\"\n",
    "    },\n",
    "    {\n",
    "        \"question\": \"What is the number of sessions in December 2024, broken down by operating systems and user age groups, including the totals?\",\n",
    "        \"sql_query\": \"SELECT os, CASE WHEN u.age < 30 THEN 'Under 30' WHEN u.age BETWEEN 30 AND 50 THEN '30-50' ELSE 'Over 50' END as age_group, uniqExact(session_id) as total FROM ecommerce.sessions s JOIN ecommerce.users u ON s.user_id = u.user_id WHERE toStartOfMonth(action_date) = '2024-12-01' GROUP BY os, age_group with totals format TabSeparatedWithNames\"\n",
    "    },\n",
    "    {\n",
    "        \"question\": \"What is the number of sessions in December 2024, broken down by operating systems for users from the Netherlands, including the totals?\",\n",
    "        \"sql_query\": \"SELECT os, uniqExact(session_id) as total FROM ecommerce.sessions s JOIN ecommerce.users u ON s.user_id = u.user_id WHERE toStartOfMonth(action_date) = '2024-12-01' AND u.country = 'Netherlands' GROUP BY os with totals format TabSeparatedWithNames\"\n",
    "    },\n",
    "    {\n",
    "        \"question\": \"Which browser has the highest share of fraud users in 2024?\",\n",
    "        \"sql_query\": \"select browser, 100*uniqExactIf(user_id, is_fraud = 1)/uniqExact(user_id) as fraud_rate from ecommerce.sessions where toStartOfYear(action_date) = '2024-01-01' group by browser order by fraud_rate desc limit 1 format TabSeparatedWithNames\"\n",
    "    },\n",
    "    {\n",
    "        \"question\": \"Which operating system has the highest share of fraud users?\",\n",
    "        \"sql_query\": \"select os, 100*uniqExactIf(user_id, is_fraud = 1)/uniqExact(user_id) as fraud_rate from ecommerce.sessions group by os order by fraud_rate desc limit 1 format TabSeparatedWithNames\"\n",
    "    },\n",
    "    {\n",
    "        \"question\": \"Which browser has the highest share of fraud users in the United Kingdom?\",\n",
    "        \"sql_query\": \"select browser, 100*uniqExactIf(user_id, is_fraud = 1)/uniqExact(user_id) as fraud_rate from ecommerce.sessions s join ecommerce.users u on s.user_id = u.user_id where u.country = 'United Kingdom' group by browser order by fraud_rate desc limit 1 format TabSeparatedWithNames\"\n",
    "    },\n",
    "\n",
    "    {\n",
    "        \"question\": \"Which country had the highest number of first-time users in Q1 2024?\",\n",
    "        \"sql_query\": \"select country, count(distinct user_id) as users from (select user_id, min(action_date) as first_date from ecommerce.sessions group by user_id having toStartOfQuarter(first_date) = '2024-01-01') as t inner join ecommerce.users as u on t.user_id = u.user_id group by country order by users desc limit 1 format TabSeparatedWithNames\"\n",
    "    },\n",
    "    {\n",
    "        \"question\": \"Which country had the highest number of first-time users in 2024, excluding users under 18 years old?\",\n",
    "        \"sql_query\": \"select country, count(distinct user_id) as users from (select user_id, min(action_date) as first_date from ecommerce.sessions group by user_id having toStartOfYear(first_date) = '2024-01-01') as t inner join ecommerce.users as u on t.user_id = u.user_id where u.age >= 18 group by country order by users desc limit 1 format TabSeparatedWithNames\"\n",
    "    }\n",
    "]"
   ]
  },
  {
   "cell_type": "code",
   "execution_count": 462,
   "id": "85dcc245-cd60-4740-ac45-2fdb9a4a5f5d",
   "metadata": {},
   "outputs": [],
   "source": [
    "import json"
   ]
  },
  {
   "cell_type": "code",
   "execution_count": 463,
   "id": "413c45f6-29eb-4a4e-8fae-6c5ad8567031",
   "metadata": {},
   "outputs": [],
   "source": [
    "# print(json.dumps(golden_set, indent=2))"
   ]
  },
  {
   "cell_type": "code",
   "execution_count": 465,
   "id": "201d8830-50ba-4a83-87a2-5cde4a33dbca",
   "metadata": {},
   "outputs": [],
   "source": [
    "with open('rag_set.json', 'r') as f:\n",
    "    rag_set = json.loads(f.read())"
   ]
  },
  {
   "cell_type": "code",
   "execution_count": 466,
   "id": "0fcb34f6-2af2-4b30-a23d-f07ff94fc358",
   "metadata": {},
   "outputs": [
    {
     "data": {
      "text/plain": [
       "32"
      ]
     },
     "execution_count": 466,
     "metadata": {},
     "output_type": "execute_result"
    }
   ],
   "source": [
    "len(rag_set_df)"
   ]
  },
  {
   "cell_type": "code",
   "execution_count": 467,
   "id": "a2b0ba7d-beb0-40df-b684-bcf47b8f871d",
   "metadata": {},
   "outputs": [],
   "source": [
    "rag_set_df = pd.DataFrame(rag_set)"
   ]
  },
  {
   "cell_type": "code",
   "execution_count": 468,
   "id": "8ca785a8-d2c2-4902-9bc7-324beebc4e92",
   "metadata": {},
   "outputs": [],
   "source": [
    "rag_set_df['output'] = rag_set_df['sql_query'].map(get_clickhouse_data)\n",
    "# rag_set_df.head()"
   ]
  },
  {
   "cell_type": "code",
   "execution_count": 469,
   "id": "0a9b57c4-6c07-46f0-a13d-525560543344",
   "metadata": {},
   "outputs": [
    {
     "data": {
      "text/plain": [
       "is_valid\n",
       "ok    32\n",
       "Name: count, dtype: int64"
      ]
     },
     "execution_count": 469,
     "metadata": {},
     "output_type": "execute_result"
    }
   ],
   "source": [
    "rag_set_df['is_valid'] = rag_set_df['output'].map(is_valid_output)\n",
    "rag_set_df.is_valid.value_counts()"
   ]
  },
  {
   "cell_type": "code",
   "execution_count": 470,
   "id": "d49a166f-27f7-44fa-916f-2dc40ba8468e",
   "metadata": {},
   "outputs": [
    {
     "data": {
      "text/html": [
       "<div>\n",
       "<style scoped>\n",
       "    .dataframe tbody tr th:only-of-type {\n",
       "        vertical-align: middle;\n",
       "    }\n",
       "\n",
       "    .dataframe tbody tr th {\n",
       "        vertical-align: top;\n",
       "    }\n",
       "\n",
       "    .dataframe thead th {\n",
       "        text-align: right;\n",
       "    }\n",
       "</style>\n",
       "<table border=\"1\" class=\"dataframe\">\n",
       "  <thead>\n",
       "    <tr style=\"text-align: right;\">\n",
       "      <th></th>\n",
       "      <th>question</th>\n",
       "      <th>sql_query</th>\n",
       "      <th>output</th>\n",
       "      <th>is_valid</th>\n",
       "    </tr>\n",
       "  </thead>\n",
       "  <tbody>\n",
       "  </tbody>\n",
       "</table>\n",
       "</div>"
      ],
      "text/plain": [
       "Empty DataFrame\n",
       "Columns: [question, sql_query, output, is_valid]\n",
       "Index: []"
      ]
     },
     "execution_count": 470,
     "metadata": {},
     "output_type": "execute_result"
    }
   ],
   "source": [
    "rag_set_df[rag_set_df.is_valid != 'ok']"
   ]
  },
  {
   "cell_type": "code",
   "execution_count": 376,
   "id": "170fed66-a693-49a9-bef4-6602a8a71153",
   "metadata": {},
   "outputs": [],
   "source": [
    "rag_set_df['formatted_txt'] = list(map(\n",
    "    lambda x, y: 'Question: %s; Answer: %s' % (x, y),\n",
    "    rag_set_df.question,\n",
    "    rag_set_df.sql_query\n",
    "))"
   ]
  },
  {
   "cell_type": "code",
   "execution_count": 377,
   "id": "e8b93d92-2f8c-419f-8273-e648ac37cbdc",
   "metadata": {},
   "outputs": [],
   "source": [
    "# https://python.langchain.com/docs/how_to/document_loader_csv/"
   ]
  },
  {
   "cell_type": "code",
   "execution_count": 378,
   "id": "8756f6bb-4637-495b-85ed-9de530d0ef6e",
   "metadata": {},
   "outputs": [],
   "source": [
    "import tempfile\n",
    "from io import StringIO\n",
    "\n",
    "string_data = '\\n\\n'.join(rag_set_df.formatted_txt)\n",
    "\n",
    "\n",
    "# with tempfile.NamedTemporaryFile(delete=False, mode=\"w+\") as temp_file:\n",
    "#     temp_file.write(string_data)\n",
    "#     temp_file_path = temp_file.name"
   ]
  },
  {
   "cell_type": "code",
   "execution_count": 379,
   "id": "2b042633-5cb6-4130-ae11-987c4b2b384a",
   "metadata": {},
   "outputs": [],
   "source": [
    "# print(string_data)"
   ]
  },
  {
   "cell_type": "code",
   "execution_count": 380,
   "id": "39ad7691-cf20-45b5-9a91-8d96c3cbcc06",
   "metadata": {},
   "outputs": [],
   "source": [
    "# from langchain_community.document_loaders.text import TextLoader\n",
    "# loader = TextLoader(file_path=temp_file_path)\n",
    "# data = loader.load()"
   ]
  },
  {
   "cell_type": "code",
   "execution_count": 381,
   "id": "17e6a646-bef1-46c5-8dc6-9246065bca50",
   "metadata": {},
   "outputs": [],
   "source": [
    "# ! pip install -qU langchain-text-splitters"
   ]
  },
  {
   "cell_type": "code",
   "execution_count": 382,
   "id": "c28d45d1-510c-4ea6-b774-e54ffec7c607",
   "metadata": {},
   "outputs": [],
   "source": [
    "from langchain_text_splitters import CharacterTextSplitter"
   ]
  },
  {
   "cell_type": "code",
   "execution_count": 383,
   "id": "dd23323a-a218-48cf-b0b6-163d4d3d87e0",
   "metadata": {},
   "outputs": [],
   "source": [
    "text_splitter = CharacterTextSplitter(\n",
    "    separator=\"\\n\\n\",\n",
    "    chunk_size=0,\n",
    "    chunk_overlap=0,\n",
    "    length_function=len,\n",
    "    is_separator_regex=False,\n",
    ")"
   ]
  },
  {
   "cell_type": "code",
   "execution_count": 384,
   "id": "c456d889-3993-4889-915e-ef3a34753ec9",
   "metadata": {},
   "outputs": [
    {
     "name": "stderr",
     "output_type": "stream",
     "text": [
      "Created a chunk of size 232, which is longer than the specified 0\n",
      "Created a chunk of size 313, which is longer than the specified 0\n",
      "Created a chunk of size 341, which is longer than the specified 0\n",
      "Created a chunk of size 331, which is longer than the specified 0\n",
      "Created a chunk of size 228, which is longer than the specified 0\n",
      "Created a chunk of size 232, which is longer than the specified 0\n",
      "Created a chunk of size 247, which is longer than the specified 0\n",
      "Created a chunk of size 296, which is longer than the specified 0\n",
      "Created a chunk of size 336, which is longer than the specified 0\n",
      "Created a chunk of size 306, which is longer than the specified 0\n",
      "Created a chunk of size 353, which is longer than the specified 0\n",
      "Created a chunk of size 242, which is longer than the specified 0\n",
      "Created a chunk of size 257, which is longer than the specified 0\n",
      "Created a chunk of size 244, which is longer than the specified 0\n",
      "Created a chunk of size 278, which is longer than the specified 0\n",
      "Created a chunk of size 327, which is longer than the specified 0\n",
      "Created a chunk of size 389, which is longer than the specified 0\n",
      "Created a chunk of size 462, which is longer than the specified 0\n",
      "Created a chunk of size 461, which is longer than the specified 0\n",
      "Created a chunk of size 464, which is longer than the specified 0\n",
      "Created a chunk of size 445, which is longer than the specified 0\n",
      "Created a chunk of size 504, which is longer than the specified 0\n",
      "Created a chunk of size 536, which is longer than the specified 0\n",
      "Created a chunk of size 559, which is longer than the specified 0\n",
      "Created a chunk of size 292, which is longer than the specified 0\n",
      "Created a chunk of size 484, which is longer than the specified 0\n",
      "Created a chunk of size 402, which is longer than the specified 0\n",
      "Created a chunk of size 317, which is longer than the specified 0\n",
      "Created a chunk of size 260, which is longer than the specified 0\n",
      "Created a chunk of size 368, which is longer than the specified 0\n",
      "Created a chunk of size 418, which is longer than the specified 0\n"
     ]
    }
   ],
   "source": [
    "texts = text_splitter.create_documents([string_data])"
   ]
  },
  {
   "cell_type": "code",
   "execution_count": 385,
   "id": "8efca7d4-b306-4472-9569-52e44fed5d04",
   "metadata": {},
   "outputs": [
    {
     "data": {
      "text/plain": [
       "32"
      ]
     },
     "execution_count": 385,
     "metadata": {},
     "output_type": "execute_result"
    }
   ],
   "source": [
    "len(texts)"
   ]
  },
  {
   "cell_type": "code",
   "execution_count": 386,
   "id": "b223c88e-bf44-450b-83e5-ebdc0dbe4b50",
   "metadata": {},
   "outputs": [],
   "source": [
    "# texts"
   ]
  },
  {
   "cell_type": "code",
   "execution_count": 387,
   "id": "3187700d-89cf-4bdd-8bf0-acd1d24518e8",
   "metadata": {},
   "outputs": [],
   "source": [
    "# vector_store.reset_collection()"
   ]
  },
  {
   "cell_type": "code",
   "execution_count": 388,
   "id": "db48fa5e-d3dd-4f55-83c2-685a28da020e",
   "metadata": {},
   "outputs": [],
   "source": [
    "document_ids = vector_store.add_documents(documents=texts)"
   ]
  },
  {
   "cell_type": "code",
   "execution_count": 389,
   "id": "f294fce2-2555-44d0-acf5-3634de7d10f0",
   "metadata": {},
   "outputs": [
    {
     "data": {
      "text/plain": [
       "32"
      ]
     },
     "execution_count": 389,
     "metadata": {},
     "output_type": "execute_result"
    }
   ],
   "source": [
    "vector_store._collection.count()"
   ]
  },
  {
   "cell_type": "code",
   "execution_count": 408,
   "id": "e825bb38-4c83-45cc-a3ca-2b54c4c2a78d",
   "metadata": {},
   "outputs": [],
   "source": [
    "question = 'What was the share of users using Windows yesterday?'"
   ]
  },
  {
   "cell_type": "code",
   "execution_count": 409,
   "id": "e65cee57-7799-4a3d-8a57-5b70e9ecdbfe",
   "metadata": {},
   "outputs": [],
   "source": [
    "retrieved_docs = vector_store.similarity_search(question, 3)\n",
    "# retrieved_docs = vector_store.max_marginal_relevance_search('What was the share of users using Windows yesterday?', 3)"
   ]
  },
  {
   "cell_type": "code",
   "execution_count": 410,
   "id": "daea43cf-959f-4b5d-8877-0483ba191584",
   "metadata": {},
   "outputs": [
    {
     "data": {
      "text/plain": [
       "3"
      ]
     },
     "execution_count": 410,
     "metadata": {},
     "output_type": "execute_result"
    }
   ],
   "source": [
    "len(retrieved_docs)"
   ]
  },
  {
   "cell_type": "code",
   "execution_count": 411,
   "id": "d152ac98-ab5d-47eb-93ce-0d4555238b2d",
   "metadata": {},
   "outputs": [
    {
     "name": "stdout",
     "output_type": "stream",
     "text": [
      "Question: What was the share of users using Windows the day before yesterday?; Answer: select 100*uniqExactIf(user_id, os = 'Windows')/uniqExact(user_id) as windows_share from ecommerce.sessions where (action_date = today() - 2) format TabSeparatedWithNames\n",
      "\n",
      "Question: What was the share of users using Windows in the last week?; Answer: select 100*uniqExactIf(user_id, os = 'Windows')/uniqExact(user_id) as windows_share from ecommerce.sessions where (action_date >= today() - 7) and (action_date < today()) format TabSeparatedWithNames\n",
      "\n",
      "Question: What was the share of users using Android yesterday?; Answer: select 100*uniqExactIf(user_id, os = 'Android')/uniqExact(user_id) as android_share from ecommerce.sessions where (action_date = today() - 1) format TabSeparatedWithNames\n"
     ]
    }
   ],
   "source": [
    "context = \"\\n\\n\".join(map(lambda x: x.page_content, retrieved_docs))\n",
    "print(context)"
   ]
  },
  {
   "cell_type": "code",
   "execution_count": 413,
   "id": "295aa49f-630f-4a49-ac26-1100ae7fe32d",
   "metadata": {},
   "outputs": [],
   "source": [
    "generate_query_system_prompt_with_examples_tmpl = '''\n",
    "You are a senior data analyst with more than 10 years of experience writing complex SQL queries. \n",
    "There are two tables in the database you're working with with the following schemas. \n",
    "\n",
    "Table: ecommerce.users \n",
    "Description: customers of the online shop\n",
    "Fields: \n",
    "- user_id (integer) - unique identifier of customer, for example, 1000004 or 3000004\n",
    "- country (string) - country of residence, for example, \"Netherlands\" or \"United Kingdom\"\n",
    "- is_active (integer) - 1 if customer is still active and 0 otherwise\n",
    "- age (integer) - customer age in full years, for example, 31 or 72\n",
    "\n",
    "Table: ecommerce.sessions \n",
    "Description: sessions of usage the online shop\n",
    "Fields: \n",
    "- user_id (integer) - unique identifier of customer, for example, 1000004 or 3000004\n",
    "- session_id (integer) - unique identifier of session, for example, 106 or 1023\n",
    "- action_date (date) - session start date, for example, \"2021-01-03\" or \"2024-12-02\"\n",
    "- session_duration (integer) - duration of session in seconds, for example, 125 or 49\n",
    "- os (string) - operation system that customer used, for example, \"Windows\" or \"Android\"\n",
    "- browser (string) - browser that customer used, for example, \"Chrome\" or \"Safari\"\n",
    "- is_fraud (integer) - 1 if session is marked as fraud and 0 otherwise\n",
    "- revenue (float) - income in USD (the sum of purchased items), for example, 0.0 or 1506.7\n",
    "\n",
    "\n",
    "Write a query in ClickHouse SQL to answer the following question. \n",
    "Add \"format TabSeparatedWithNames\" at the end of the query to get data from ClickHouse database in the right format. \n",
    "Answer questions following the instructions and providing all the needed information and sharing your reasoning. \n",
    "\n",
    "Examples of questions and answers: \n",
    "{examples}\n",
    "'''"
   ]
  },
  {
   "cell_type": "code",
   "execution_count": 414,
   "id": "745d3495-4347-42ed-847f-6df591d03ea9",
   "metadata": {},
   "outputs": [
    {
     "name": "stdout",
     "output_type": "stream",
     "text": [
      "Initial query: SELECT COUNT(DISTINCT T1.user_id) / (SELECT COUNT(DISTINCT user_id) FROM ecommerce.sessions WHERE action_date = CURRENT_DATE - INTERVAL 1 DAY) * 100 AS share_of_windows_users FROM ecommerce.sessions AS T1 JOIN ecommerce.users AS T2 ON T1.user_id = T2.user_id WHERE T1.os = 'Windows' format TabSeparatedWithNames\n",
      "Reflected query: SELECT COUNT(DISTINCT T1.user_id) / (SELECT COUNT(DISTINCT user_id) FROM ecommerce.sessions WHERE action_date = TODAY - INTERVAL 1 DAY) * 100 AS share_of_windows_users FROM ecommerce.sessions AS T1 JOIN ecommerce.users AS T2 ON T1.user_id = T2.user_id WHERE T1.os = 'Windows' format TabSeparatedWithNames\n"
     ]
    },
    {
     "data": {
      "text/plain": [
       "\"SELECT COUNT(DISTINCT T1.user_id) / (SELECT COUNT(DISTINCT user_id) FROM ecommerce.sessions WHERE action_date = TODAY - INTERVAL 1 DAY) * 100 AS share_of_windows_users FROM ecommerce.sessions AS T1 JOIN ecommerce.users AS T2 ON T1.user_id = T2.user_id WHERE T1.os = 'Windows' format TabSeparatedWithNames\""
      ]
     },
     "execution_count": 414,
     "metadata": {},
     "output_type": "execute_result"
    }
   ],
   "source": [
    "generate_query_reflection(question)"
   ]
  },
  {
   "cell_type": "code",
   "execution_count": null,
   "id": "94922cd7-f2f9-41f0-99f2-9dc02612d5e0",
   "metadata": {},
   "outputs": [],
   "source": [
    "# def generate_query_rag(question):\n",
    "#     prompt = get_llama_prompt(question, generate_query_system_prompt)\n",
    "#     result = chat_llm.invoke(prompt)\n",
    "#     try:\n",
    "#         generated_query = result.tool_calls[0]['args']['query']\n",
    "#     except:\n",
    "#         generated_query = ''\n",
    "#     return generated_query"
   ]
  },
  {
   "cell_type": "code",
   "execution_count": 415,
   "id": "26323d1b-908a-4b88-ae98-38c13c21c04b",
   "metadata": {},
   "outputs": [
    {
     "name": "stdout",
     "output_type": "stream",
     "text": [
      "<|begin_of_text|><|start_header_id|>system<|end_header_id|>\n",
      "\n",
      "\n",
      "You are a senior data analyst with more than 10 years of experience writing complex SQL queries. \n",
      "There are two tables in the database you're working with with the following schemas. \n",
      "\n",
      "Table: ecommerce.users \n",
      "Description: customers of the online shop\n",
      "Fields: \n",
      "- user_id (integer) - unique identifier of customer, for example, 1000004 or 3000004\n",
      "- country (string) - country of residence, for example, \"Netherlands\" or \"United Kingdom\"\n",
      "- is_active (integer) - 1 if customer is still active and 0 otherwise\n",
      "- age (integer) - customer age in full years, for example, 31 or 72\n",
      "\n",
      "Table: ecommerce.sessions \n",
      "Description: sessions of usage the online shop\n",
      "Fields: \n",
      "- user_id (integer) - unique identifier of customer, for example, 1000004 or 3000004\n",
      "- session_id (integer) - unique identifier of session, for example, 106 or 1023\n",
      "- action_date (date) - session start date, for example, \"2021-01-03\" or \"2024-12-02\"\n",
      "- session_duration (integer) - duration of session in seconds, for example, 125 or 49\n",
      "- os (string) - operation system that customer used, for example, \"Windows\" or \"Android\"\n",
      "- browser (string) - browser that customer used, for example, \"Chrome\" or \"Safari\"\n",
      "- is_fraud (integer) - 1 if session is marked as fraud and 0 otherwise\n",
      "- revenue (float) - income in USD (the sum of purchased items), for example, 0.0 or 1506.7\n",
      "\n",
      "\n",
      "Write a query in ClickHouse SQL to answer the following question. \n",
      "Add \"format TabSeparatedWithNames\" at the end of the query to get data from ClickHouse database in the right format. \n",
      "Answer questions following the instructions and providing all the needed information and sharing your reasoning. \n",
      "\n",
      "Examples of questions and answers: \n",
      "Question: What was the share of users using Windows the day before yesterday?; Answer: select 100*uniqExactIf(user_id, os = 'Windows')/uniqExact(user_id) as windows_share from ecommerce.sessions where (action_date = today() - 2) format TabSeparatedWithNames\n",
      "\n",
      "Question: What was the share of users using Windows in the last week?; Answer: select 100*uniqExactIf(user_id, os = 'Windows')/uniqExact(user_id) as windows_share from ecommerce.sessions where (action_date >= today() - 7) and (action_date < today()) format TabSeparatedWithNames\n",
      "\n",
      "Question: What was the share of users using Android yesterday?; Answer: select 100*uniqExactIf(user_id, os = 'Android')/uniqExact(user_id) as android_share from ecommerce.sessions where (action_date = today() - 1) format TabSeparatedWithNames\n",
      "<|eot_id|><|start_header_id|>user<|end_header_id|>\n",
      "\n",
      "What was the share of users using Windows yesterday?<|eot_id|><|start_header_id|>assistant<|end_header_id|>\n",
      "\n",
      "\n"
     ]
    }
   ],
   "source": [
    "prompt = get_llama_prompt(question, generate_query_system_prompt_with_examples_tmpl.format(examples = context))\n",
    "print(prompt)"
   ]
  },
  {
   "cell_type": "code",
   "execution_count": 416,
   "id": "84baa25b-2f68-4659-b170-217cef05ed42",
   "metadata": {},
   "outputs": [],
   "source": [
    "result = chat_llm.invoke(prompt)"
   ]
  },
  {
   "cell_type": "code",
   "execution_count": 420,
   "id": "52739379-76cb-4bf5-8eb4-6f389b1741b7",
   "metadata": {},
   "outputs": [],
   "source": [
    "generated_query = result.tool_calls[0]['args']['query']"
   ]
  },
  {
   "cell_type": "code",
   "execution_count": 421,
   "id": "cb52cc02-17ba-49bb-93ec-fe6d15ccd0d0",
   "metadata": {},
   "outputs": [
    {
     "name": "stdout",
     "output_type": "stream",
     "text": [
      "windows_share\n",
      "60.957989791912055\n",
      "\n"
     ]
    }
   ],
   "source": [
    "print(get_clickhouse_data(generated_query))"
   ]
  },
  {
   "cell_type": "code",
   "execution_count": 427,
   "id": "491ab595-615e-4f7b-b288-6f9227c752ce",
   "metadata": {},
   "outputs": [
    {
     "name": "stdout",
     "output_type": "stream",
     "text": [
      "windows_share\n",
      "60.957989791912055\n",
      "\n"
     ]
    }
   ],
   "source": [
    "print(get_clickhouse_data(golden_df[golden_df.question == question].sql_query.values[0]))"
   ]
  },
  {
   "cell_type": "code",
   "execution_count": 428,
   "id": "3e0adf51-e29b-4cd3-b786-1a38a064c073",
   "metadata": {},
   "outputs": [],
   "source": [
    "def generate_query_rag(question):\n",
    "    retrieved_docs = vector_store.similarity_search(question, 3)\n",
    "    context = context = \"\\n\\n\".join(map(lambda x: x.page_content, retrieved_docs))\n",
    "    prompt = get_llama_prompt(question, generate_query_system_prompt_with_examples_tmpl.format(examples = context))\n",
    "    result = chat_llm.invoke(prompt)\n",
    "    try:\n",
    "        generated_query = result.tool_calls[0]['args']['query']\n",
    "    except:\n",
    "        generated_query = ''\n",
    "    return generated_query"
   ]
  },
  {
   "cell_type": "code",
   "execution_count": 429,
   "id": "ca13e3a4-f329-4edb-b2d1-ba90934ba4b2",
   "metadata": {},
   "outputs": [
    {
     "name": "stderr",
     "output_type": "stream",
     "text": [
      "100%|███████████████████████████████████████████████████████████████████████████████████████████████████████████████████████████████████████████████████████████████████████████| 10/10 [02:00<00:00, 12.09s/it]\n",
      "100%|███████████████████████████████████████████████████████████████████████████████████████████████████████████████████████████████████████████████████████████████████████████| 10/10 [00:03<00:00,  2.83it/s]\n"
     ]
    },
    {
     "data": {
      "application/vnd.plotly.v1+json": {
       "config": {
        "plotlyServerURL": "https://plot.ly"
       },
       "data": [
        {
         "alignmentgroup": "True",
         "hovertemplate": "validity=error<br>share of queries, %=%{x}<br>=%{y}<extra></extra>",
         "legendgroup": "error",
         "marker": {
          "color": "#ea324c",
          "pattern": {
           "shape": ""
          }
         },
         "name": "error",
         "offsetgroup": "error",
         "orientation": "h",
         "showlegend": true,
         "textposition": "auto",
         "texttemplate": "%{x:.1f}",
         "type": "bar",
         "x": [
          0,
          20
         ],
         "xaxis": "x",
         "y": [
          "golden set",
          "generated"
         ],
         "yaxis": "y"
        },
        {
         "alignmentgroup": "True",
         "hovertemplate": "validity=ok<br>share of queries, %=%{x}<br>=%{y}<extra></extra>",
         "legendgroup": "ok",
         "marker": {
          "color": "#00b38a",
          "pattern": {
           "shape": ""
          }
         },
         "name": "ok",
         "offsetgroup": "ok",
         "orientation": "h",
         "showlegend": true,
         "textposition": "auto",
         "texttemplate": "%{x:.1f}",
         "type": "bar",
         "x": [
          100,
          80
         ],
         "xaxis": "x",
         "y": [
          "golden set",
          "generated"
         ],
         "yaxis": "y"
        }
       ],
       "layout": {
        "autosize": true,
        "barmode": "relative",
        "legend": {
         "title": {
          "text": "validity"
         },
         "tracegroupgap": 0
        },
        "template": {
         "data": {
          "bar": [
           {
            "error_x": {
             "color": "rgb(36,36,36)"
            },
            "error_y": {
             "color": "rgb(36,36,36)"
            },
            "marker": {
             "line": {
              "color": "white",
              "width": 0.5
             },
             "pattern": {
              "fillmode": "overlay",
              "size": 10,
              "solidity": 0.2
             }
            },
            "type": "bar"
           }
          ],
          "barpolar": [
           {
            "marker": {
             "line": {
              "color": "white",
              "width": 0.5
             },
             "pattern": {
              "fillmode": "overlay",
              "size": 10,
              "solidity": 0.2
             }
            },
            "type": "barpolar"
           }
          ],
          "carpet": [
           {
            "aaxis": {
             "endlinecolor": "rgb(36,36,36)",
             "gridcolor": "white",
             "linecolor": "white",
             "minorgridcolor": "white",
             "startlinecolor": "rgb(36,36,36)"
            },
            "baxis": {
             "endlinecolor": "rgb(36,36,36)",
             "gridcolor": "white",
             "linecolor": "white",
             "minorgridcolor": "white",
             "startlinecolor": "rgb(36,36,36)"
            },
            "type": "carpet"
           }
          ],
          "choropleth": [
           {
            "colorbar": {
             "outlinewidth": 1,
             "tickcolor": "rgb(36,36,36)",
             "ticks": "outside"
            },
            "type": "choropleth"
           }
          ],
          "contour": [
           {
            "colorbar": {
             "outlinewidth": 1,
             "tickcolor": "rgb(36,36,36)",
             "ticks": "outside"
            },
            "colorscale": [
             [
              0,
              "#440154"
             ],
             [
              0.1111111111111111,
              "#482878"
             ],
             [
              0.2222222222222222,
              "#3e4989"
             ],
             [
              0.3333333333333333,
              "#31688e"
             ],
             [
              0.4444444444444444,
              "#26828e"
             ],
             [
              0.5555555555555556,
              "#1f9e89"
             ],
             [
              0.6666666666666666,
              "#35b779"
             ],
             [
              0.7777777777777778,
              "#6ece58"
             ],
             [
              0.8888888888888888,
              "#b5de2b"
             ],
             [
              1,
              "#fde725"
             ]
            ],
            "type": "contour"
           }
          ],
          "contourcarpet": [
           {
            "colorbar": {
             "outlinewidth": 1,
             "tickcolor": "rgb(36,36,36)",
             "ticks": "outside"
            },
            "type": "contourcarpet"
           }
          ],
          "heatmap": [
           {
            "colorbar": {
             "outlinewidth": 1,
             "tickcolor": "rgb(36,36,36)",
             "ticks": "outside"
            },
            "colorscale": [
             [
              0,
              "#440154"
             ],
             [
              0.1111111111111111,
              "#482878"
             ],
             [
              0.2222222222222222,
              "#3e4989"
             ],
             [
              0.3333333333333333,
              "#31688e"
             ],
             [
              0.4444444444444444,
              "#26828e"
             ],
             [
              0.5555555555555556,
              "#1f9e89"
             ],
             [
              0.6666666666666666,
              "#35b779"
             ],
             [
              0.7777777777777778,
              "#6ece58"
             ],
             [
              0.8888888888888888,
              "#b5de2b"
             ],
             [
              1,
              "#fde725"
             ]
            ],
            "type": "heatmap"
           }
          ],
          "heatmapgl": [
           {
            "colorbar": {
             "outlinewidth": 1,
             "tickcolor": "rgb(36,36,36)",
             "ticks": "outside"
            },
            "colorscale": [
             [
              0,
              "#440154"
             ],
             [
              0.1111111111111111,
              "#482878"
             ],
             [
              0.2222222222222222,
              "#3e4989"
             ],
             [
              0.3333333333333333,
              "#31688e"
             ],
             [
              0.4444444444444444,
              "#26828e"
             ],
             [
              0.5555555555555556,
              "#1f9e89"
             ],
             [
              0.6666666666666666,
              "#35b779"
             ],
             [
              0.7777777777777778,
              "#6ece58"
             ],
             [
              0.8888888888888888,
              "#b5de2b"
             ],
             [
              1,
              "#fde725"
             ]
            ],
            "type": "heatmapgl"
           }
          ],
          "histogram": [
           {
            "marker": {
             "line": {
              "color": "white",
              "width": 0.6
             }
            },
            "type": "histogram"
           }
          ],
          "histogram2d": [
           {
            "colorbar": {
             "outlinewidth": 1,
             "tickcolor": "rgb(36,36,36)",
             "ticks": "outside"
            },
            "colorscale": [
             [
              0,
              "#440154"
             ],
             [
              0.1111111111111111,
              "#482878"
             ],
             [
              0.2222222222222222,
              "#3e4989"
             ],
             [
              0.3333333333333333,
              "#31688e"
             ],
             [
              0.4444444444444444,
              "#26828e"
             ],
             [
              0.5555555555555556,
              "#1f9e89"
             ],
             [
              0.6666666666666666,
              "#35b779"
             ],
             [
              0.7777777777777778,
              "#6ece58"
             ],
             [
              0.8888888888888888,
              "#b5de2b"
             ],
             [
              1,
              "#fde725"
             ]
            ],
            "type": "histogram2d"
           }
          ],
          "histogram2dcontour": [
           {
            "colorbar": {
             "outlinewidth": 1,
             "tickcolor": "rgb(36,36,36)",
             "ticks": "outside"
            },
            "colorscale": [
             [
              0,
              "#440154"
             ],
             [
              0.1111111111111111,
              "#482878"
             ],
             [
              0.2222222222222222,
              "#3e4989"
             ],
             [
              0.3333333333333333,
              "#31688e"
             ],
             [
              0.4444444444444444,
              "#26828e"
             ],
             [
              0.5555555555555556,
              "#1f9e89"
             ],
             [
              0.6666666666666666,
              "#35b779"
             ],
             [
              0.7777777777777778,
              "#6ece58"
             ],
             [
              0.8888888888888888,
              "#b5de2b"
             ],
             [
              1,
              "#fde725"
             ]
            ],
            "type": "histogram2dcontour"
           }
          ],
          "mesh3d": [
           {
            "colorbar": {
             "outlinewidth": 1,
             "tickcolor": "rgb(36,36,36)",
             "ticks": "outside"
            },
            "type": "mesh3d"
           }
          ],
          "parcoords": [
           {
            "line": {
             "colorbar": {
              "outlinewidth": 1,
              "tickcolor": "rgb(36,36,36)",
              "ticks": "outside"
             }
            },
            "type": "parcoords"
           }
          ],
          "pie": [
           {
            "automargin": true,
            "type": "pie"
           }
          ],
          "scatter": [
           {
            "fillpattern": {
             "fillmode": "overlay",
             "size": 10,
             "solidity": 0.2
            },
            "type": "scatter"
           }
          ],
          "scatter3d": [
           {
            "line": {
             "colorbar": {
              "outlinewidth": 1,
              "tickcolor": "rgb(36,36,36)",
              "ticks": "outside"
             }
            },
            "marker": {
             "colorbar": {
              "outlinewidth": 1,
              "tickcolor": "rgb(36,36,36)",
              "ticks": "outside"
             }
            },
            "type": "scatter3d"
           }
          ],
          "scattercarpet": [
           {
            "marker": {
             "colorbar": {
              "outlinewidth": 1,
              "tickcolor": "rgb(36,36,36)",
              "ticks": "outside"
             }
            },
            "type": "scattercarpet"
           }
          ],
          "scattergeo": [
           {
            "marker": {
             "colorbar": {
              "outlinewidth": 1,
              "tickcolor": "rgb(36,36,36)",
              "ticks": "outside"
             }
            },
            "type": "scattergeo"
           }
          ],
          "scattergl": [
           {
            "marker": {
             "colorbar": {
              "outlinewidth": 1,
              "tickcolor": "rgb(36,36,36)",
              "ticks": "outside"
             }
            },
            "type": "scattergl"
           }
          ],
          "scattermapbox": [
           {
            "marker": {
             "colorbar": {
              "outlinewidth": 1,
              "tickcolor": "rgb(36,36,36)",
              "ticks": "outside"
             }
            },
            "type": "scattermapbox"
           }
          ],
          "scatterpolar": [
           {
            "marker": {
             "colorbar": {
              "outlinewidth": 1,
              "tickcolor": "rgb(36,36,36)",
              "ticks": "outside"
             }
            },
            "type": "scatterpolar"
           }
          ],
          "scatterpolargl": [
           {
            "marker": {
             "colorbar": {
              "outlinewidth": 1,
              "tickcolor": "rgb(36,36,36)",
              "ticks": "outside"
             }
            },
            "type": "scatterpolargl"
           }
          ],
          "scatterternary": [
           {
            "marker": {
             "colorbar": {
              "outlinewidth": 1,
              "tickcolor": "rgb(36,36,36)",
              "ticks": "outside"
             }
            },
            "type": "scatterternary"
           }
          ],
          "surface": [
           {
            "colorbar": {
             "outlinewidth": 1,
             "tickcolor": "rgb(36,36,36)",
             "ticks": "outside"
            },
            "colorscale": [
             [
              0,
              "#440154"
             ],
             [
              0.1111111111111111,
              "#482878"
             ],
             [
              0.2222222222222222,
              "#3e4989"
             ],
             [
              0.3333333333333333,
              "#31688e"
             ],
             [
              0.4444444444444444,
              "#26828e"
             ],
             [
              0.5555555555555556,
              "#1f9e89"
             ],
             [
              0.6666666666666666,
              "#35b779"
             ],
             [
              0.7777777777777778,
              "#6ece58"
             ],
             [
              0.8888888888888888,
              "#b5de2b"
             ],
             [
              1,
              "#fde725"
             ]
            ],
            "type": "surface"
           }
          ],
          "table": [
           {
            "cells": {
             "fill": {
              "color": "rgb(237,237,237)"
             },
             "line": {
              "color": "white"
             }
            },
            "header": {
             "fill": {
              "color": "rgb(217,217,217)"
             },
             "line": {
              "color": "white"
             }
            },
            "type": "table"
           }
          ]
         },
         "layout": {
          "annotationdefaults": {
           "arrowhead": 0,
           "arrowwidth": 1
          },
          "autotypenumbers": "strict",
          "coloraxis": {
           "colorbar": {
            "outlinewidth": 1,
            "tickcolor": "rgb(36,36,36)",
            "ticks": "outside"
           }
          },
          "colorscale": {
           "diverging": [
            [
             0,
             "rgb(103,0,31)"
            ],
            [
             0.1,
             "rgb(178,24,43)"
            ],
            [
             0.2,
             "rgb(214,96,77)"
            ],
            [
             0.3,
             "rgb(244,165,130)"
            ],
            [
             0.4,
             "rgb(253,219,199)"
            ],
            [
             0.5,
             "rgb(247,247,247)"
            ],
            [
             0.6,
             "rgb(209,229,240)"
            ],
            [
             0.7,
             "rgb(146,197,222)"
            ],
            [
             0.8,
             "rgb(67,147,195)"
            ],
            [
             0.9,
             "rgb(33,102,172)"
            ],
            [
             1,
             "rgb(5,48,97)"
            ]
           ],
           "sequential": [
            [
             0,
             "#440154"
            ],
            [
             0.1111111111111111,
             "#482878"
            ],
            [
             0.2222222222222222,
             "#3e4989"
            ],
            [
             0.3333333333333333,
             "#31688e"
            ],
            [
             0.4444444444444444,
             "#26828e"
            ],
            [
             0.5555555555555556,
             "#1f9e89"
            ],
            [
             0.6666666666666666,
             "#35b779"
            ],
            [
             0.7777777777777778,
             "#6ece58"
            ],
            [
             0.8888888888888888,
             "#b5de2b"
            ],
            [
             1,
             "#fde725"
            ]
           ],
           "sequentialminus": [
            [
             0,
             "#440154"
            ],
            [
             0.1111111111111111,
             "#482878"
            ],
            [
             0.2222222222222222,
             "#3e4989"
            ],
            [
             0.3333333333333333,
             "#31688e"
            ],
            [
             0.4444444444444444,
             "#26828e"
            ],
            [
             0.5555555555555556,
             "#1f9e89"
            ],
            [
             0.6666666666666666,
             "#35b779"
            ],
            [
             0.7777777777777778,
             "#6ece58"
            ],
            [
             0.8888888888888888,
             "#b5de2b"
            ],
            [
             1,
             "#fde725"
            ]
           ]
          },
          "colorway": [
           "#1F77B4",
           "#FF7F0E",
           "#2CA02C",
           "#D62728",
           "#9467BD",
           "#8C564B",
           "#E377C2",
           "#7F7F7F",
           "#BCBD22",
           "#17BECF"
          ],
          "font": {
           "color": "rgb(36,36,36)"
          },
          "geo": {
           "bgcolor": "white",
           "lakecolor": "white",
           "landcolor": "white",
           "showlakes": true,
           "showland": true,
           "subunitcolor": "white"
          },
          "hoverlabel": {
           "align": "left"
          },
          "hovermode": "closest",
          "mapbox": {
           "style": "light"
          },
          "paper_bgcolor": "white",
          "plot_bgcolor": "white",
          "polar": {
           "angularaxis": {
            "gridcolor": "rgb(232,232,232)",
            "linecolor": "rgb(36,36,36)",
            "showgrid": false,
            "showline": true,
            "ticks": "outside"
           },
           "bgcolor": "white",
           "radialaxis": {
            "gridcolor": "rgb(232,232,232)",
            "linecolor": "rgb(36,36,36)",
            "showgrid": false,
            "showline": true,
            "ticks": "outside"
           }
          },
          "scene": {
           "xaxis": {
            "backgroundcolor": "white",
            "gridcolor": "rgb(232,232,232)",
            "gridwidth": 2,
            "linecolor": "rgb(36,36,36)",
            "showbackground": true,
            "showgrid": false,
            "showline": true,
            "ticks": "outside",
            "zeroline": false,
            "zerolinecolor": "rgb(36,36,36)"
           },
           "yaxis": {
            "backgroundcolor": "white",
            "gridcolor": "rgb(232,232,232)",
            "gridwidth": 2,
            "linecolor": "rgb(36,36,36)",
            "showbackground": true,
            "showgrid": false,
            "showline": true,
            "ticks": "outside",
            "zeroline": false,
            "zerolinecolor": "rgb(36,36,36)"
           },
           "zaxis": {
            "backgroundcolor": "white",
            "gridcolor": "rgb(232,232,232)",
            "gridwidth": 2,
            "linecolor": "rgb(36,36,36)",
            "showbackground": true,
            "showgrid": false,
            "showline": true,
            "ticks": "outside",
            "zeroline": false,
            "zerolinecolor": "rgb(36,36,36)"
           }
          },
          "shapedefaults": {
           "fillcolor": "black",
           "line": {
            "width": 0
           },
           "opacity": 0.3
          },
          "ternary": {
           "aaxis": {
            "gridcolor": "rgb(232,232,232)",
            "linecolor": "rgb(36,36,36)",
            "showgrid": false,
            "showline": true,
            "ticks": "outside"
           },
           "baxis": {
            "gridcolor": "rgb(232,232,232)",
            "linecolor": "rgb(36,36,36)",
            "showgrid": false,
            "showline": true,
            "ticks": "outside"
           },
           "bgcolor": "white",
           "caxis": {
            "gridcolor": "rgb(232,232,232)",
            "linecolor": "rgb(36,36,36)",
            "showgrid": false,
            "showline": true,
            "ticks": "outside"
           }
          },
          "title": {
           "x": 0.05
          },
          "xaxis": {
           "automargin": true,
           "gridcolor": "rgb(232,232,232)",
           "linecolor": "rgb(36,36,36)",
           "showgrid": false,
           "showline": true,
           "ticks": "outside",
           "title": {
            "standoff": 15
           },
           "zeroline": false,
           "zerolinecolor": "rgb(36,36,36)"
          },
          "yaxis": {
           "automargin": true,
           "gridcolor": "rgb(232,232,232)",
           "linecolor": "rgb(36,36,36)",
           "showgrid": false,
           "showline": true,
           "ticks": "outside",
           "title": {
            "standoff": 15
           },
           "zeroline": false,
           "zerolinecolor": "rgb(36,36,36)"
          }
         }
        },
        "title": {
         "text": "<b>LLM SQL Agent evaluation</b>: query validity"
        },
        "xaxis": {
         "anchor": "y",
         "autorange": true,
         "domain": [
          0,
          1
         ],
         "range": [
          0,
          105.26315789473684
         ],
         "title": {
          "text": "share of queries, %"
         },
         "type": "linear"
        },
        "yaxis": {
         "anchor": "x",
         "autorange": true,
         "domain": [
          0,
          1
         ],
         "range": [
          -0.5,
          1.5
         ],
         "title": {
          "text": ""
         },
         "type": "category"
        }
       }
      },
      "image/png": "[encoded data removed]",
      "text/html": [
       "<div>                            <div id=\"47d09fc2-3397-4ed7-9fbe-cc6742428ad9\" class=\"plotly-graph-div\" style=\"height:525px; width:100%;\"></div>            <script type=\"text/javascript\">                require([\"plotly\"], function(Plotly) {                    window.PLOTLYENV=window.PLOTLYENV || {};                                    if (document.getElementById(\"47d09fc2-3397-4ed7-9fbe-cc6742428ad9\")) {                    Plotly.newPlot(                        \"47d09fc2-3397-4ed7-9fbe-cc6742428ad9\",                        [{\"alignmentgroup\":\"True\",\"hovertemplate\":\"validity=error\\u003cbr\\u003eshare of queries, %=%{x}\\u003cbr\\u003e=%{y}\\u003cextra\\u003e\\u003c\\u002fextra\\u003e\",\"legendgroup\":\"error\",\"marker\":{\"color\":\"#ea324c\",\"pattern\":{\"shape\":\"\"}},\"name\":\"error\",\"offsetgroup\":\"error\",\"orientation\":\"h\",\"showlegend\":true,\"textposition\":\"auto\",\"texttemplate\":\"%{x:.1f}\",\"x\":[0.0,20.0],\"xaxis\":\"x\",\"y\":[\"golden set\",\"generated\"],\"yaxis\":\"y\",\"type\":\"bar\"},{\"alignmentgroup\":\"True\",\"hovertemplate\":\"validity=ok\\u003cbr\\u003eshare of queries, %=%{x}\\u003cbr\\u003e=%{y}\\u003cextra\\u003e\\u003c\\u002fextra\\u003e\",\"legendgroup\":\"ok\",\"marker\":{\"color\":\"#00b38a\",\"pattern\":{\"shape\":\"\"}},\"name\":\"ok\",\"offsetgroup\":\"ok\",\"orientation\":\"h\",\"showlegend\":true,\"textposition\":\"auto\",\"texttemplate\":\"%{x:.1f}\",\"x\":[100.0,80.0],\"xaxis\":\"x\",\"y\":[\"golden set\",\"generated\"],\"yaxis\":\"y\",\"type\":\"bar\"}],                        {\"template\":{\"data\":{\"histogram2dcontour\":[{\"type\":\"histogram2dcontour\",\"colorbar\":{\"outlinewidth\":1,\"tickcolor\":\"rgb(36,36,36)\",\"ticks\":\"outside\"},\"colorscale\":[[0.0,\"#440154\"],[0.1111111111111111,\"#482878\"],[0.2222222222222222,\"#3e4989\"],[0.3333333333333333,\"#31688e\"],[0.4444444444444444,\"#26828e\"],[0.5555555555555556,\"#1f9e89\"],[0.6666666666666666,\"#35b779\"],[0.7777777777777778,\"#6ece58\"],[0.8888888888888888,\"#b5de2b\"],[1.0,\"#fde725\"]]}],\"choropleth\":[{\"type\":\"choropleth\",\"colorbar\":{\"outlinewidth\":1,\"tickcolor\":\"rgb(36,36,36)\",\"ticks\":\"outside\"}}],\"histogram2d\":[{\"type\":\"histogram2d\",\"colorbar\":{\"outlinewidth\":1,\"tickcolor\":\"rgb(36,36,36)\",\"ticks\":\"outside\"},\"colorscale\":[[0.0,\"#440154\"],[0.1111111111111111,\"#482878\"],[0.2222222222222222,\"#3e4989\"],[0.3333333333333333,\"#31688e\"],[0.4444444444444444,\"#26828e\"],[0.5555555555555556,\"#1f9e89\"],[0.6666666666666666,\"#35b779\"],[0.7777777777777778,\"#6ece58\"],[0.8888888888888888,\"#b5de2b\"],[1.0,\"#fde725\"]]}],\"heatmap\":[{\"type\":\"heatmap\",\"colorbar\":{\"outlinewidth\":1,\"tickcolor\":\"rgb(36,36,36)\",\"ticks\":\"outside\"},\"colorscale\":[[0.0,\"#440154\"],[0.1111111111111111,\"#482878\"],[0.2222222222222222,\"#3e4989\"],[0.3333333333333333,\"#31688e\"],[0.4444444444444444,\"#26828e\"],[0.5555555555555556,\"#1f9e89\"],[0.6666666666666666,\"#35b779\"],[0.7777777777777778,\"#6ece58\"],[0.8888888888888888,\"#b5de2b\"],[1.0,\"#fde725\"]]}],\"heatmapgl\":[{\"type\":\"heatmapgl\",\"colorbar\":{\"outlinewidth\":1,\"tickcolor\":\"rgb(36,36,36)\",\"ticks\":\"outside\"},\"colorscale\":[[0.0,\"#440154\"],[0.1111111111111111,\"#482878\"],[0.2222222222222222,\"#3e4989\"],[0.3333333333333333,\"#31688e\"],[0.4444444444444444,\"#26828e\"],[0.5555555555555556,\"#1f9e89\"],[0.6666666666666666,\"#35b779\"],[0.7777777777777778,\"#6ece58\"],[0.8888888888888888,\"#b5de2b\"],[1.0,\"#fde725\"]]}],\"contourcarpet\":[{\"type\":\"contourcarpet\",\"colorbar\":{\"outlinewidth\":1,\"tickcolor\":\"rgb(36,36,36)\",\"ticks\":\"outside\"}}],\"contour\":[{\"type\":\"contour\",\"colorbar\":{\"outlinewidth\":1,\"tickcolor\":\"rgb(36,36,36)\",\"ticks\":\"outside\"},\"colorscale\":[[0.0,\"#440154\"],[0.1111111111111111,\"#482878\"],[0.2222222222222222,\"#3e4989\"],[0.3333333333333333,\"#31688e\"],[0.4444444444444444,\"#26828e\"],[0.5555555555555556,\"#1f9e89\"],[0.6666666666666666,\"#35b779\"],[0.7777777777777778,\"#6ece58\"],[0.8888888888888888,\"#b5de2b\"],[1.0,\"#fde725\"]]}],\"surface\":[{\"type\":\"surface\",\"colorbar\":{\"outlinewidth\":1,\"tickcolor\":\"rgb(36,36,36)\",\"ticks\":\"outside\"},\"colorscale\":[[0.0,\"#440154\"],[0.1111111111111111,\"#482878\"],[0.2222222222222222,\"#3e4989\"],[0.3333333333333333,\"#31688e\"],[0.4444444444444444,\"#26828e\"],[0.5555555555555556,\"#1f9e89\"],[0.6666666666666666,\"#35b779\"],[0.7777777777777778,\"#6ece58\"],[0.8888888888888888,\"#b5de2b\"],[1.0,\"#fde725\"]]}],\"mesh3d\":[{\"type\":\"mesh3d\",\"colorbar\":{\"outlinewidth\":1,\"tickcolor\":\"rgb(36,36,36)\",\"ticks\":\"outside\"}}],\"scatter\":[{\"fillpattern\":{\"fillmode\":\"overlay\",\"size\":10,\"solidity\":0.2},\"type\":\"scatter\"}],\"parcoords\":[{\"type\":\"parcoords\",\"line\":{\"colorbar\":{\"outlinewidth\":1,\"tickcolor\":\"rgb(36,36,36)\",\"ticks\":\"outside\"}}}],\"scatterpolargl\":[{\"type\":\"scatterpolargl\",\"marker\":{\"colorbar\":{\"outlinewidth\":1,\"tickcolor\":\"rgb(36,36,36)\",\"ticks\":\"outside\"}}}],\"bar\":[{\"error_x\":{\"color\":\"rgb(36,36,36)\"},\"error_y\":{\"color\":\"rgb(36,36,36)\"},\"marker\":{\"line\":{\"color\":\"white\",\"width\":0.5},\"pattern\":{\"fillmode\":\"overlay\",\"size\":10,\"solidity\":0.2}},\"type\":\"bar\"}],\"scattergeo\":[{\"type\":\"scattergeo\",\"marker\":{\"colorbar\":{\"outlinewidth\":1,\"tickcolor\":\"rgb(36,36,36)\",\"ticks\":\"outside\"}}}],\"scatterpolar\":[{\"type\":\"scatterpolar\",\"marker\":{\"colorbar\":{\"outlinewidth\":1,\"tickcolor\":\"rgb(36,36,36)\",\"ticks\":\"outside\"}}}],\"histogram\":[{\"marker\":{\"line\":{\"color\":\"white\",\"width\":0.6}},\"type\":\"histogram\"}],\"scattergl\":[{\"type\":\"scattergl\",\"marker\":{\"colorbar\":{\"outlinewidth\":1,\"tickcolor\":\"rgb(36,36,36)\",\"ticks\":\"outside\"}}}],\"scatter3d\":[{\"type\":\"scatter3d\",\"line\":{\"colorbar\":{\"outlinewidth\":1,\"tickcolor\":\"rgb(36,36,36)\",\"ticks\":\"outside\"}},\"marker\":{\"colorbar\":{\"outlinewidth\":1,\"tickcolor\":\"rgb(36,36,36)\",\"ticks\":\"outside\"}}}],\"scattermapbox\":[{\"type\":\"scattermapbox\",\"marker\":{\"colorbar\":{\"outlinewidth\":1,\"tickcolor\":\"rgb(36,36,36)\",\"ticks\":\"outside\"}}}],\"scatterternary\":[{\"type\":\"scatterternary\",\"marker\":{\"colorbar\":{\"outlinewidth\":1,\"tickcolor\":\"rgb(36,36,36)\",\"ticks\":\"outside\"}}}],\"scattercarpet\":[{\"type\":\"scattercarpet\",\"marker\":{\"colorbar\":{\"outlinewidth\":1,\"tickcolor\":\"rgb(36,36,36)\",\"ticks\":\"outside\"}}}],\"carpet\":[{\"aaxis\":{\"endlinecolor\":\"rgb(36,36,36)\",\"gridcolor\":\"white\",\"linecolor\":\"white\",\"minorgridcolor\":\"white\",\"startlinecolor\":\"rgb(36,36,36)\"},\"baxis\":{\"endlinecolor\":\"rgb(36,36,36)\",\"gridcolor\":\"white\",\"linecolor\":\"white\",\"minorgridcolor\":\"white\",\"startlinecolor\":\"rgb(36,36,36)\"},\"type\":\"carpet\"}],\"table\":[{\"cells\":{\"fill\":{\"color\":\"rgb(237,237,237)\"},\"line\":{\"color\":\"white\"}},\"header\":{\"fill\":{\"color\":\"rgb(217,217,217)\"},\"line\":{\"color\":\"white\"}},\"type\":\"table\"}],\"barpolar\":[{\"marker\":{\"line\":{\"color\":\"white\",\"width\":0.5},\"pattern\":{\"fillmode\":\"overlay\",\"size\":10,\"solidity\":0.2}},\"type\":\"barpolar\"}],\"pie\":[{\"automargin\":true,\"type\":\"pie\"}]},\"layout\":{\"autotypenumbers\":\"strict\",\"colorway\":[\"#1F77B4\",\"#FF7F0E\",\"#2CA02C\",\"#D62728\",\"#9467BD\",\"#8C564B\",\"#E377C2\",\"#7F7F7F\",\"#BCBD22\",\"#17BECF\"],\"font\":{\"color\":\"rgb(36,36,36)\"},\"hovermode\":\"closest\",\"hoverlabel\":{\"align\":\"left\"},\"paper_bgcolor\":\"white\",\"plot_bgcolor\":\"white\",\"polar\":{\"bgcolor\":\"white\",\"angularaxis\":{\"gridcolor\":\"rgb(232,232,232)\",\"linecolor\":\"rgb(36,36,36)\",\"showgrid\":false,\"showline\":true,\"ticks\":\"outside\"},\"radialaxis\":{\"gridcolor\":\"rgb(232,232,232)\",\"linecolor\":\"rgb(36,36,36)\",\"showgrid\":false,\"showline\":true,\"ticks\":\"outside\"}},\"ternary\":{\"bgcolor\":\"white\",\"aaxis\":{\"gridcolor\":\"rgb(232,232,232)\",\"linecolor\":\"rgb(36,36,36)\",\"showgrid\":false,\"showline\":true,\"ticks\":\"outside\"},\"baxis\":{\"gridcolor\":\"rgb(232,232,232)\",\"linecolor\":\"rgb(36,36,36)\",\"showgrid\":false,\"showline\":true,\"ticks\":\"outside\"},\"caxis\":{\"gridcolor\":\"rgb(232,232,232)\",\"linecolor\":\"rgb(36,36,36)\",\"showgrid\":false,\"showline\":true,\"ticks\":\"outside\"}},\"coloraxis\":{\"colorbar\":{\"outlinewidth\":1,\"tickcolor\":\"rgb(36,36,36)\",\"ticks\":\"outside\"}},\"colorscale\":{\"sequential\":[[0.0,\"#440154\"],[0.1111111111111111,\"#482878\"],[0.2222222222222222,\"#3e4989\"],[0.3333333333333333,\"#31688e\"],[0.4444444444444444,\"#26828e\"],[0.5555555555555556,\"#1f9e89\"],[0.6666666666666666,\"#35b779\"],[0.7777777777777778,\"#6ece58\"],[0.8888888888888888,\"#b5de2b\"],[1.0,\"#fde725\"]],\"sequentialminus\":[[0.0,\"#440154\"],[0.1111111111111111,\"#482878\"],[0.2222222222222222,\"#3e4989\"],[0.3333333333333333,\"#31688e\"],[0.4444444444444444,\"#26828e\"],[0.5555555555555556,\"#1f9e89\"],[0.6666666666666666,\"#35b779\"],[0.7777777777777778,\"#6ece58\"],[0.8888888888888888,\"#b5de2b\"],[1.0,\"#fde725\"]],\"diverging\":[[0.0,\"rgb(103,0,31)\"],[0.1,\"rgb(178,24,43)\"],[0.2,\"rgb(214,96,77)\"],[0.3,\"rgb(244,165,130)\"],[0.4,\"rgb(253,219,199)\"],[0.5,\"rgb(247,247,247)\"],[0.6,\"rgb(209,229,240)\"],[0.7,\"rgb(146,197,222)\"],[0.8,\"rgb(67,147,195)\"],[0.9,\"rgb(33,102,172)\"],[1.0,\"rgb(5,48,97)\"]]},\"xaxis\":{\"gridcolor\":\"rgb(232,232,232)\",\"linecolor\":\"rgb(36,36,36)\",\"showgrid\":false,\"showline\":true,\"ticks\":\"outside\",\"title\":{\"standoff\":15},\"zerolinecolor\":\"rgb(36,36,36)\",\"automargin\":true,\"zeroline\":false},\"yaxis\":{\"gridcolor\":\"rgb(232,232,232)\",\"linecolor\":\"rgb(36,36,36)\",\"showgrid\":false,\"showline\":true,\"ticks\":\"outside\",\"title\":{\"standoff\":15},\"zerolinecolor\":\"rgb(36,36,36)\",\"automargin\":true,\"zeroline\":false},\"scene\":{\"xaxis\":{\"backgroundcolor\":\"white\",\"gridcolor\":\"rgb(232,232,232)\",\"linecolor\":\"rgb(36,36,36)\",\"showbackground\":true,\"showgrid\":false,\"showline\":true,\"ticks\":\"outside\",\"zerolinecolor\":\"rgb(36,36,36)\",\"gridwidth\":2,\"zeroline\":false},\"yaxis\":{\"backgroundcolor\":\"white\",\"gridcolor\":\"rgb(232,232,232)\",\"linecolor\":\"rgb(36,36,36)\",\"showbackground\":true,\"showgrid\":false,\"showline\":true,\"ticks\":\"outside\",\"zerolinecolor\":\"rgb(36,36,36)\",\"gridwidth\":2,\"zeroline\":false},\"zaxis\":{\"backgroundcolor\":\"white\",\"gridcolor\":\"rgb(232,232,232)\",\"linecolor\":\"rgb(36,36,36)\",\"showbackground\":true,\"showgrid\":false,\"showline\":true,\"ticks\":\"outside\",\"zerolinecolor\":\"rgb(36,36,36)\",\"gridwidth\":2,\"zeroline\":false}},\"shapedefaults\":{\"fillcolor\":\"black\",\"line\":{\"width\":0},\"opacity\":0.3},\"annotationdefaults\":{\"arrowhead\":0,\"arrowwidth\":1},\"geo\":{\"bgcolor\":\"white\",\"landcolor\":\"white\",\"subunitcolor\":\"white\",\"showland\":true,\"showlakes\":true,\"lakecolor\":\"white\"},\"title\":{\"x\":0.05},\"mapbox\":{\"style\":\"light\"}}},\"xaxis\":{\"anchor\":\"y\",\"domain\":[0.0,1.0],\"title\":{\"text\":\"share of queries, %\"}},\"yaxis\":{\"anchor\":\"x\",\"domain\":[0.0,1.0],\"title\":{\"text\":\"\"}},\"legend\":{\"title\":{\"text\":\"validity\"},\"tracegroupgap\":0},\"title\":{\"text\":\"\\u003cb\\u003eLLM SQL Agent evaluation\\u003c\\u002fb\\u003e: query validity\"},\"barmode\":\"relative\"},                        {\"responsive\": true}                    ).then(function(){\n",
       "                            \n",
       "var gd = document.getElementById('47d09fc2-3397-4ed7-9fbe-cc6742428ad9');\n",
       "var x = new MutationObserver(function (mutations, observer) {{\n",
       "        var display = window.getComputedStyle(gd).display;\n",
       "        if (!display || display === 'none') {{\n",
       "            console.log([gd, 'removed!']);\n",
       "            Plotly.purge(gd);\n",
       "            observer.disconnect();\n",
       "        }}\n",
       "}});\n",
       "\n",
       "// Listen for the removal of the full notebook cells\n",
       "var notebookContainer = gd.closest('#notebook-container');\n",
       "if (notebookContainer) {{\n",
       "    x.observe(notebookContainer, {childList: true});\n",
       "}}\n",
       "\n",
       "// Listen for the clearing of the current output cell\n",
       "var outputEl = gd.closest('.output');\n",
       "if (outputEl) {{\n",
       "    x.observe(outputEl, {childList: true});\n",
       "}}\n",
       "\n",
       "                        })                };                });            </script>        </div>"
      ]
     },
     "metadata": {},
     "output_type": "display_data"
    },
    {
     "data": {
      "application/vnd.plotly.v1+json": {
       "config": {
        "plotlyServerURL": "https://plot.ly"
       },
       "data": [
        {
         "alignmentgroup": "True",
         "hovertemplate": "accuracy=%{y}<br>share of queries, %=%{x}<extra></extra>",
         "legendgroup": "share",
         "marker": {
          "color": "#0077B5",
          "pattern": {
           "shape": ""
          }
         },
         "name": "share",
         "offsetgroup": "share",
         "orientation": "h",
         "showlegend": true,
         "textposition": "auto",
         "texttemplate": "%{x:.1f}",
         "type": "bar",
         "x": [
          60,
          20,
          20
         ],
         "xaxis": "x",
         "y": [
          "correct",
          "incorrect",
          "invalid: error"
         ],
         "yaxis": "y"
        }
       ],
       "layout": {
        "autosize": true,
        "barmode": "relative",
        "legend": {
         "title": {
          "text": "accuracy"
         },
         "tracegroupgap": 0
        },
        "showlegend": false,
        "template": {
         "data": {
          "bar": [
           {
            "error_x": {
             "color": "rgb(36,36,36)"
            },
            "error_y": {
             "color": "rgb(36,36,36)"
            },
            "marker": {
             "line": {
              "color": "white",
              "width": 0.5
             },
             "pattern": {
              "fillmode": "overlay",
              "size": 10,
              "solidity": 0.2
             }
            },
            "type": "bar"
           }
          ],
          "barpolar": [
           {
            "marker": {
             "line": {
              "color": "white",
              "width": 0.5
             },
             "pattern": {
              "fillmode": "overlay",
              "size": 10,
              "solidity": 0.2
             }
            },
            "type": "barpolar"
           }
          ],
          "carpet": [
           {
            "aaxis": {
             "endlinecolor": "rgb(36,36,36)",
             "gridcolor": "white",
             "linecolor": "white",
             "minorgridcolor": "white",
             "startlinecolor": "rgb(36,36,36)"
            },
            "baxis": {
             "endlinecolor": "rgb(36,36,36)",
             "gridcolor": "white",
             "linecolor": "white",
             "minorgridcolor": "white",
             "startlinecolor": "rgb(36,36,36)"
            },
            "type": "carpet"
           }
          ],
          "choropleth": [
           {
            "colorbar": {
             "outlinewidth": 1,
             "tickcolor": "rgb(36,36,36)",
             "ticks": "outside"
            },
            "type": "choropleth"
           }
          ],
          "contour": [
           {
            "colorbar": {
             "outlinewidth": 1,
             "tickcolor": "rgb(36,36,36)",
             "ticks": "outside"
            },
            "colorscale": [
             [
              0,
              "#440154"
             ],
             [
              0.1111111111111111,
              "#482878"
             ],
             [
              0.2222222222222222,
              "#3e4989"
             ],
             [
              0.3333333333333333,
              "#31688e"
             ],
             [
              0.4444444444444444,
              "#26828e"
             ],
             [
              0.5555555555555556,
              "#1f9e89"
             ],
             [
              0.6666666666666666,
              "#35b779"
             ],
             [
              0.7777777777777778,
              "#6ece58"
             ],
             [
              0.8888888888888888,
              "#b5de2b"
             ],
             [
              1,
              "#fde725"
             ]
            ],
            "type": "contour"
           }
          ],
          "contourcarpet": [
           {
            "colorbar": {
             "outlinewidth": 1,
             "tickcolor": "rgb(36,36,36)",
             "ticks": "outside"
            },
            "type": "contourcarpet"
           }
          ],
          "heatmap": [
           {
            "colorbar": {
             "outlinewidth": 1,
             "tickcolor": "rgb(36,36,36)",
             "ticks": "outside"
            },
            "colorscale": [
             [
              0,
              "#440154"
             ],
             [
              0.1111111111111111,
              "#482878"
             ],
             [
              0.2222222222222222,
              "#3e4989"
             ],
             [
              0.3333333333333333,
              "#31688e"
             ],
             [
              0.4444444444444444,
              "#26828e"
             ],
             [
              0.5555555555555556,
              "#1f9e89"
             ],
             [
              0.6666666666666666,
              "#35b779"
             ],
             [
              0.7777777777777778,
              "#6ece58"
             ],
             [
              0.8888888888888888,
              "#b5de2b"
             ],
             [
              1,
              "#fde725"
             ]
            ],
            "type": "heatmap"
           }
          ],
          "heatmapgl": [
           {
            "colorbar": {
             "outlinewidth": 1,
             "tickcolor": "rgb(36,36,36)",
             "ticks": "outside"
            },
            "colorscale": [
             [
              0,
              "#440154"
             ],
             [
              0.1111111111111111,
              "#482878"
             ],
             [
              0.2222222222222222,
              "#3e4989"
             ],
             [
              0.3333333333333333,
              "#31688e"
             ],
             [
              0.4444444444444444,
              "#26828e"
             ],
             [
              0.5555555555555556,
              "#1f9e89"
             ],
             [
              0.6666666666666666,
              "#35b779"
             ],
             [
              0.7777777777777778,
              "#6ece58"
             ],
             [
              0.8888888888888888,
              "#b5de2b"
             ],
             [
              1,
              "#fde725"
             ]
            ],
            "type": "heatmapgl"
           }
          ],
          "histogram": [
           {
            "marker": {
             "line": {
              "color": "white",
              "width": 0.6
             }
            },
            "type": "histogram"
           }
          ],
          "histogram2d": [
           {
            "colorbar": {
             "outlinewidth": 1,
             "tickcolor": "rgb(36,36,36)",
             "ticks": "outside"
            },
            "colorscale": [
             [
              0,
              "#440154"
             ],
             [
              0.1111111111111111,
              "#482878"
             ],
             [
              0.2222222222222222,
              "#3e4989"
             ],
             [
              0.3333333333333333,
              "#31688e"
             ],
             [
              0.4444444444444444,
              "#26828e"
             ],
             [
              0.5555555555555556,
              "#1f9e89"
             ],
             [
              0.6666666666666666,
              "#35b779"
             ],
             [
              0.7777777777777778,
              "#6ece58"
             ],
             [
              0.8888888888888888,
              "#b5de2b"
             ],
             [
              1,
              "#fde725"
             ]
            ],
            "type": "histogram2d"
           }
          ],
          "histogram2dcontour": [
           {
            "colorbar": {
             "outlinewidth": 1,
             "tickcolor": "rgb(36,36,36)",
             "ticks": "outside"
            },
            "colorscale": [
             [
              0,
              "#440154"
             ],
             [
              0.1111111111111111,
              "#482878"
             ],
             [
              0.2222222222222222,
              "#3e4989"
             ],
             [
              0.3333333333333333,
              "#31688e"
             ],
             [
              0.4444444444444444,
              "#26828e"
             ],
             [
              0.5555555555555556,
              "#1f9e89"
             ],
             [
              0.6666666666666666,
              "#35b779"
             ],
             [
              0.7777777777777778,
              "#6ece58"
             ],
             [
              0.8888888888888888,
              "#b5de2b"
             ],
             [
              1,
              "#fde725"
             ]
            ],
            "type": "histogram2dcontour"
           }
          ],
          "mesh3d": [
           {
            "colorbar": {
             "outlinewidth": 1,
             "tickcolor": "rgb(36,36,36)",
             "ticks": "outside"
            },
            "type": "mesh3d"
           }
          ],
          "parcoords": [
           {
            "line": {
             "colorbar": {
              "outlinewidth": 1,
              "tickcolor": "rgb(36,36,36)",
              "ticks": "outside"
             }
            },
            "type": "parcoords"
           }
          ],
          "pie": [
           {
            "automargin": true,
            "type": "pie"
           }
          ],
          "scatter": [
           {
            "fillpattern": {
             "fillmode": "overlay",
             "size": 10,
             "solidity": 0.2
            },
            "type": "scatter"
           }
          ],
          "scatter3d": [
           {
            "line": {
             "colorbar": {
              "outlinewidth": 1,
              "tickcolor": "rgb(36,36,36)",
              "ticks": "outside"
             }
            },
            "marker": {
             "colorbar": {
              "outlinewidth": 1,
              "tickcolor": "rgb(36,36,36)",
              "ticks": "outside"
             }
            },
            "type": "scatter3d"
           }
          ],
          "scattercarpet": [
           {
            "marker": {
             "colorbar": {
              "outlinewidth": 1,
              "tickcolor": "rgb(36,36,36)",
              "ticks": "outside"
             }
            },
            "type": "scattercarpet"
           }
          ],
          "scattergeo": [
           {
            "marker": {
             "colorbar": {
              "outlinewidth": 1,
              "tickcolor": "rgb(36,36,36)",
              "ticks": "outside"
             }
            },
            "type": "scattergeo"
           }
          ],
          "scattergl": [
           {
            "marker": {
             "colorbar": {
              "outlinewidth": 1,
              "tickcolor": "rgb(36,36,36)",
              "ticks": "outside"
             }
            },
            "type": "scattergl"
           }
          ],
          "scattermapbox": [
           {
            "marker": {
             "colorbar": {
              "outlinewidth": 1,
              "tickcolor": "rgb(36,36,36)",
              "ticks": "outside"
             }
            },
            "type": "scattermapbox"
           }
          ],
          "scatterpolar": [
           {
            "marker": {
             "colorbar": {
              "outlinewidth": 1,
              "tickcolor": "rgb(36,36,36)",
              "ticks": "outside"
             }
            },
            "type": "scatterpolar"
           }
          ],
          "scatterpolargl": [
           {
            "marker": {
             "colorbar": {
              "outlinewidth": 1,
              "tickcolor": "rgb(36,36,36)",
              "ticks": "outside"
             }
            },
            "type": "scatterpolargl"
           }
          ],
          "scatterternary": [
           {
            "marker": {
             "colorbar": {
              "outlinewidth": 1,
              "tickcolor": "rgb(36,36,36)",
              "ticks": "outside"
             }
            },
            "type": "scatterternary"
           }
          ],
          "surface": [
           {
            "colorbar": {
             "outlinewidth": 1,
             "tickcolor": "rgb(36,36,36)",
             "ticks": "outside"
            },
            "colorscale": [
             [
              0,
              "#440154"
             ],
             [
              0.1111111111111111,
              "#482878"
             ],
             [
              0.2222222222222222,
              "#3e4989"
             ],
             [
              0.3333333333333333,
              "#31688e"
             ],
             [
              0.4444444444444444,
              "#26828e"
             ],
             [
              0.5555555555555556,
              "#1f9e89"
             ],
             [
              0.6666666666666666,
              "#35b779"
             ],
             [
              0.7777777777777778,
              "#6ece58"
             ],
             [
              0.8888888888888888,
              "#b5de2b"
             ],
             [
              1,
              "#fde725"
             ]
            ],
            "type": "surface"
           }
          ],
          "table": [
           {
            "cells": {
             "fill": {
              "color": "rgb(237,237,237)"
             },
             "line": {
              "color": "white"
             }
            },
            "header": {
             "fill": {
              "color": "rgb(217,217,217)"
             },
             "line": {
              "color": "white"
             }
            },
            "type": "table"
           }
          ]
         },
         "layout": {
          "annotationdefaults": {
           "arrowhead": 0,
           "arrowwidth": 1
          },
          "autotypenumbers": "strict",
          "coloraxis": {
           "colorbar": {
            "outlinewidth": 1,
            "tickcolor": "rgb(36,36,36)",
            "ticks": "outside"
           }
          },
          "colorscale": {
           "diverging": [
            [
             0,
             "rgb(103,0,31)"
            ],
            [
             0.1,
             "rgb(178,24,43)"
            ],
            [
             0.2,
             "rgb(214,96,77)"
            ],
            [
             0.3,
             "rgb(244,165,130)"
            ],
            [
             0.4,
             "rgb(253,219,199)"
            ],
            [
             0.5,
             "rgb(247,247,247)"
            ],
            [
             0.6,
             "rgb(209,229,240)"
            ],
            [
             0.7,
             "rgb(146,197,222)"
            ],
            [
             0.8,
             "rgb(67,147,195)"
            ],
            [
             0.9,
             "rgb(33,102,172)"
            ],
            [
             1,
             "rgb(5,48,97)"
            ]
           ],
           "sequential": [
            [
             0,
             "#440154"
            ],
            [
             0.1111111111111111,
             "#482878"
            ],
            [
             0.2222222222222222,
             "#3e4989"
            ],
            [
             0.3333333333333333,
             "#31688e"
            ],
            [
             0.4444444444444444,
             "#26828e"
            ],
            [
             0.5555555555555556,
             "#1f9e89"
            ],
            [
             0.6666666666666666,
             "#35b779"
            ],
            [
             0.7777777777777778,
             "#6ece58"
            ],
            [
             0.8888888888888888,
             "#b5de2b"
            ],
            [
             1,
             "#fde725"
            ]
           ],
           "sequentialminus": [
            [
             0,
             "#440154"
            ],
            [
             0.1111111111111111,
             "#482878"
            ],
            [
             0.2222222222222222,
             "#3e4989"
            ],
            [
             0.3333333333333333,
             "#31688e"
            ],
            [
             0.4444444444444444,
             "#26828e"
            ],
            [
             0.5555555555555556,
             "#1f9e89"
            ],
            [
             0.6666666666666666,
             "#35b779"
            ],
            [
             0.7777777777777778,
             "#6ece58"
            ],
            [
             0.8888888888888888,
             "#b5de2b"
            ],
            [
             1,
             "#fde725"
            ]
           ]
          },
          "colorway": [
           "#1F77B4",
           "#FF7F0E",
           "#2CA02C",
           "#D62728",
           "#9467BD",
           "#8C564B",
           "#E377C2",
           "#7F7F7F",
           "#BCBD22",
           "#17BECF"
          ],
          "font": {
           "color": "rgb(36,36,36)"
          },
          "geo": {
           "bgcolor": "white",
           "lakecolor": "white",
           "landcolor": "white",
           "showlakes": true,
           "showland": true,
           "subunitcolor": "white"
          },
          "hoverlabel": {
           "align": "left"
          },
          "hovermode": "closest",
          "mapbox": {
           "style": "light"
          },
          "paper_bgcolor": "white",
          "plot_bgcolor": "white",
          "polar": {
           "angularaxis": {
            "gridcolor": "rgb(232,232,232)",
            "linecolor": "rgb(36,36,36)",
            "showgrid": false,
            "showline": true,
            "ticks": "outside"
           },
           "bgcolor": "white",
           "radialaxis": {
            "gridcolor": "rgb(232,232,232)",
            "linecolor": "rgb(36,36,36)",
            "showgrid": false,
            "showline": true,
            "ticks": "outside"
           }
          },
          "scene": {
           "xaxis": {
            "backgroundcolor": "white",
            "gridcolor": "rgb(232,232,232)",
            "gridwidth": 2,
            "linecolor": "rgb(36,36,36)",
            "showbackground": true,
            "showgrid": false,
            "showline": true,
            "ticks": "outside",
            "zeroline": false,
            "zerolinecolor": "rgb(36,36,36)"
           },
           "yaxis": {
            "backgroundcolor": "white",
            "gridcolor": "rgb(232,232,232)",
            "gridwidth": 2,
            "linecolor": "rgb(36,36,36)",
            "showbackground": true,
            "showgrid": false,
            "showline": true,
            "ticks": "outside",
            "zeroline": false,
            "zerolinecolor": "rgb(36,36,36)"
           },
           "zaxis": {
            "backgroundcolor": "white",
            "gridcolor": "rgb(232,232,232)",
            "gridwidth": 2,
            "linecolor": "rgb(36,36,36)",
            "showbackground": true,
            "showgrid": false,
            "showline": true,
            "ticks": "outside",
            "zeroline": false,
            "zerolinecolor": "rgb(36,36,36)"
           }
          },
          "shapedefaults": {
           "fillcolor": "black",
           "line": {
            "width": 0
           },
           "opacity": 0.3
          },
          "ternary": {
           "aaxis": {
            "gridcolor": "rgb(232,232,232)",
            "linecolor": "rgb(36,36,36)",
            "showgrid": false,
            "showline": true,
            "ticks": "outside"
           },
           "baxis": {
            "gridcolor": "rgb(232,232,232)",
            "linecolor": "rgb(36,36,36)",
            "showgrid": false,
            "showline": true,
            "ticks": "outside"
           },
           "bgcolor": "white",
           "caxis": {
            "gridcolor": "rgb(232,232,232)",
            "linecolor": "rgb(36,36,36)",
            "showgrid": false,
            "showline": true,
            "ticks": "outside"
           }
          },
          "title": {
           "x": 0.05
          },
          "xaxis": {
           "automargin": true,
           "gridcolor": "rgb(232,232,232)",
           "linecolor": "rgb(36,36,36)",
           "showgrid": false,
           "showline": true,
           "ticks": "outside",
           "title": {
            "standoff": 15
           },
           "zeroline": false,
           "zerolinecolor": "rgb(36,36,36)"
          },
          "yaxis": {
           "automargin": true,
           "gridcolor": "rgb(232,232,232)",
           "linecolor": "rgb(36,36,36)",
           "showgrid": false,
           "showline": true,
           "ticks": "outside",
           "title": {
            "standoff": 15
           },
           "zeroline": false,
           "zerolinecolor": "rgb(36,36,36)"
          }
         }
        },
        "title": {
         "text": "<b>LLM SQL Agent evaluation</b>: query accuracy"
        },
        "xaxis": {
         "anchor": "y",
         "autorange": true,
         "domain": [
          0,
          1
         ],
         "range": [
          0,
          63.1578947368421
         ],
         "title": {
          "text": "share of queries, %"
         },
         "type": "linear"
        },
        "yaxis": {
         "anchor": "x",
         "autorange": true,
         "domain": [
          0,
          1
         ],
         "range": [
          -0.5,
          2.5
         ],
         "title": {
          "text": "accuracy"
         },
         "type": "category"
        }
       }
      },
      "image/png": "[encoded data removed]",
      "text/html": [
       "<div>                            <div id=\"879d6f4e-c22e-4528-b7cb-197a59a82362\" class=\"plotly-graph-div\" style=\"height:525px; width:100%;\"></div>            <script type=\"text/javascript\">                require([\"plotly\"], function(Plotly) {                    window.PLOTLYENV=window.PLOTLYENV || {};                                    if (document.getElementById(\"879d6f4e-c22e-4528-b7cb-197a59a82362\")) {                    Plotly.newPlot(                        \"879d6f4e-c22e-4528-b7cb-197a59a82362\",                        [{\"alignmentgroup\":\"True\",\"hovertemplate\":\"accuracy=%{y}\\u003cbr\\u003eshare of queries, %=%{x}\\u003cextra\\u003e\\u003c\\u002fextra\\u003e\",\"legendgroup\":\"share\",\"marker\":{\"color\":\"#0077B5\",\"pattern\":{\"shape\":\"\"}},\"name\":\"share\",\"offsetgroup\":\"share\",\"orientation\":\"h\",\"showlegend\":true,\"textposition\":\"auto\",\"texttemplate\":\"%{x:.1f}\",\"x\":[60.0,20.0,20.0],\"xaxis\":\"x\",\"y\":[\"correct\",\"incorrect\",\"invalid: error\"],\"yaxis\":\"y\",\"type\":\"bar\"}],                        {\"template\":{\"data\":{\"histogram2dcontour\":[{\"type\":\"histogram2dcontour\",\"colorbar\":{\"outlinewidth\":1,\"tickcolor\":\"rgb(36,36,36)\",\"ticks\":\"outside\"},\"colorscale\":[[0.0,\"#440154\"],[0.1111111111111111,\"#482878\"],[0.2222222222222222,\"#3e4989\"],[0.3333333333333333,\"#31688e\"],[0.4444444444444444,\"#26828e\"],[0.5555555555555556,\"#1f9e89\"],[0.6666666666666666,\"#35b779\"],[0.7777777777777778,\"#6ece58\"],[0.8888888888888888,\"#b5de2b\"],[1.0,\"#fde725\"]]}],\"choropleth\":[{\"type\":\"choropleth\",\"colorbar\":{\"outlinewidth\":1,\"tickcolor\":\"rgb(36,36,36)\",\"ticks\":\"outside\"}}],\"histogram2d\":[{\"type\":\"histogram2d\",\"colorbar\":{\"outlinewidth\":1,\"tickcolor\":\"rgb(36,36,36)\",\"ticks\":\"outside\"},\"colorscale\":[[0.0,\"#440154\"],[0.1111111111111111,\"#482878\"],[0.2222222222222222,\"#3e4989\"],[0.3333333333333333,\"#31688e\"],[0.4444444444444444,\"#26828e\"],[0.5555555555555556,\"#1f9e89\"],[0.6666666666666666,\"#35b779\"],[0.7777777777777778,\"#6ece58\"],[0.8888888888888888,\"#b5de2b\"],[1.0,\"#fde725\"]]}],\"heatmap\":[{\"type\":\"heatmap\",\"colorbar\":{\"outlinewidth\":1,\"tickcolor\":\"rgb(36,36,36)\",\"ticks\":\"outside\"},\"colorscale\":[[0.0,\"#440154\"],[0.1111111111111111,\"#482878\"],[0.2222222222222222,\"#3e4989\"],[0.3333333333333333,\"#31688e\"],[0.4444444444444444,\"#26828e\"],[0.5555555555555556,\"#1f9e89\"],[0.6666666666666666,\"#35b779\"],[0.7777777777777778,\"#6ece58\"],[0.8888888888888888,\"#b5de2b\"],[1.0,\"#fde725\"]]}],\"heatmapgl\":[{\"type\":\"heatmapgl\",\"colorbar\":{\"outlinewidth\":1,\"tickcolor\":\"rgb(36,36,36)\",\"ticks\":\"outside\"},\"colorscale\":[[0.0,\"#440154\"],[0.1111111111111111,\"#482878\"],[0.2222222222222222,\"#3e4989\"],[0.3333333333333333,\"#31688e\"],[0.4444444444444444,\"#26828e\"],[0.5555555555555556,\"#1f9e89\"],[0.6666666666666666,\"#35b779\"],[0.7777777777777778,\"#6ece58\"],[0.8888888888888888,\"#b5de2b\"],[1.0,\"#fde725\"]]}],\"contourcarpet\":[{\"type\":\"contourcarpet\",\"colorbar\":{\"outlinewidth\":1,\"tickcolor\":\"rgb(36,36,36)\",\"ticks\":\"outside\"}}],\"contour\":[{\"type\":\"contour\",\"colorbar\":{\"outlinewidth\":1,\"tickcolor\":\"rgb(36,36,36)\",\"ticks\":\"outside\"},\"colorscale\":[[0.0,\"#440154\"],[0.1111111111111111,\"#482878\"],[0.2222222222222222,\"#3e4989\"],[0.3333333333333333,\"#31688e\"],[0.4444444444444444,\"#26828e\"],[0.5555555555555556,\"#1f9e89\"],[0.6666666666666666,\"#35b779\"],[0.7777777777777778,\"#6ece58\"],[0.8888888888888888,\"#b5de2b\"],[1.0,\"#fde725\"]]}],\"surface\":[{\"type\":\"surface\",\"colorbar\":{\"outlinewidth\":1,\"tickcolor\":\"rgb(36,36,36)\",\"ticks\":\"outside\"},\"colorscale\":[[0.0,\"#440154\"],[0.1111111111111111,\"#482878\"],[0.2222222222222222,\"#3e4989\"],[0.3333333333333333,\"#31688e\"],[0.4444444444444444,\"#26828e\"],[0.5555555555555556,\"#1f9e89\"],[0.6666666666666666,\"#35b779\"],[0.7777777777777778,\"#6ece58\"],[0.8888888888888888,\"#b5de2b\"],[1.0,\"#fde725\"]]}],\"mesh3d\":[{\"type\":\"mesh3d\",\"colorbar\":{\"outlinewidth\":1,\"tickcolor\":\"rgb(36,36,36)\",\"ticks\":\"outside\"}}],\"scatter\":[{\"fillpattern\":{\"fillmode\":\"overlay\",\"size\":10,\"solidity\":0.2},\"type\":\"scatter\"}],\"parcoords\":[{\"type\":\"parcoords\",\"line\":{\"colorbar\":{\"outlinewidth\":1,\"tickcolor\":\"rgb(36,36,36)\",\"ticks\":\"outside\"}}}],\"scatterpolargl\":[{\"type\":\"scatterpolargl\",\"marker\":{\"colorbar\":{\"outlinewidth\":1,\"tickcolor\":\"rgb(36,36,36)\",\"ticks\":\"outside\"}}}],\"bar\":[{\"error_x\":{\"color\":\"rgb(36,36,36)\"},\"error_y\":{\"color\":\"rgb(36,36,36)\"},\"marker\":{\"line\":{\"color\":\"white\",\"width\":0.5},\"pattern\":{\"fillmode\":\"overlay\",\"size\":10,\"solidity\":0.2}},\"type\":\"bar\"}],\"scattergeo\":[{\"type\":\"scattergeo\",\"marker\":{\"colorbar\":{\"outlinewidth\":1,\"tickcolor\":\"rgb(36,36,36)\",\"ticks\":\"outside\"}}}],\"scatterpolar\":[{\"type\":\"scatterpolar\",\"marker\":{\"colorbar\":{\"outlinewidth\":1,\"tickcolor\":\"rgb(36,36,36)\",\"ticks\":\"outside\"}}}],\"histogram\":[{\"marker\":{\"line\":{\"color\":\"white\",\"width\":0.6}},\"type\":\"histogram\"}],\"scattergl\":[{\"type\":\"scattergl\",\"marker\":{\"colorbar\":{\"outlinewidth\":1,\"tickcolor\":\"rgb(36,36,36)\",\"ticks\":\"outside\"}}}],\"scatter3d\":[{\"type\":\"scatter3d\",\"line\":{\"colorbar\":{\"outlinewidth\":1,\"tickcolor\":\"rgb(36,36,36)\",\"ticks\":\"outside\"}},\"marker\":{\"colorbar\":{\"outlinewidth\":1,\"tickcolor\":\"rgb(36,36,36)\",\"ticks\":\"outside\"}}}],\"scattermapbox\":[{\"type\":\"scattermapbox\",\"marker\":{\"colorbar\":{\"outlinewidth\":1,\"tickcolor\":\"rgb(36,36,36)\",\"ticks\":\"outside\"}}}],\"scatterternary\":[{\"type\":\"scatterternary\",\"marker\":{\"colorbar\":{\"outlinewidth\":1,\"tickcolor\":\"rgb(36,36,36)\",\"ticks\":\"outside\"}}}],\"scattercarpet\":[{\"type\":\"scattercarpet\",\"marker\":{\"colorbar\":{\"outlinewidth\":1,\"tickcolor\":\"rgb(36,36,36)\",\"ticks\":\"outside\"}}}],\"carpet\":[{\"aaxis\":{\"endlinecolor\":\"rgb(36,36,36)\",\"gridcolor\":\"white\",\"linecolor\":\"white\",\"minorgridcolor\":\"white\",\"startlinecolor\":\"rgb(36,36,36)\"},\"baxis\":{\"endlinecolor\":\"rgb(36,36,36)\",\"gridcolor\":\"white\",\"linecolor\":\"white\",\"minorgridcolor\":\"white\",\"startlinecolor\":\"rgb(36,36,36)\"},\"type\":\"carpet\"}],\"table\":[{\"cells\":{\"fill\":{\"color\":\"rgb(237,237,237)\"},\"line\":{\"color\":\"white\"}},\"header\":{\"fill\":{\"color\":\"rgb(217,217,217)\"},\"line\":{\"color\":\"white\"}},\"type\":\"table\"}],\"barpolar\":[{\"marker\":{\"line\":{\"color\":\"white\",\"width\":0.5},\"pattern\":{\"fillmode\":\"overlay\",\"size\":10,\"solidity\":0.2}},\"type\":\"barpolar\"}],\"pie\":[{\"automargin\":true,\"type\":\"pie\"}]},\"layout\":{\"autotypenumbers\":\"strict\",\"colorway\":[\"#1F77B4\",\"#FF7F0E\",\"#2CA02C\",\"#D62728\",\"#9467BD\",\"#8C564B\",\"#E377C2\",\"#7F7F7F\",\"#BCBD22\",\"#17BECF\"],\"font\":{\"color\":\"rgb(36,36,36)\"},\"hovermode\":\"closest\",\"hoverlabel\":{\"align\":\"left\"},\"paper_bgcolor\":\"white\",\"plot_bgcolor\":\"white\",\"polar\":{\"bgcolor\":\"white\",\"angularaxis\":{\"gridcolor\":\"rgb(232,232,232)\",\"linecolor\":\"rgb(36,36,36)\",\"showgrid\":false,\"showline\":true,\"ticks\":\"outside\"},\"radialaxis\":{\"gridcolor\":\"rgb(232,232,232)\",\"linecolor\":\"rgb(36,36,36)\",\"showgrid\":false,\"showline\":true,\"ticks\":\"outside\"}},\"ternary\":{\"bgcolor\":\"white\",\"aaxis\":{\"gridcolor\":\"rgb(232,232,232)\",\"linecolor\":\"rgb(36,36,36)\",\"showgrid\":false,\"showline\":true,\"ticks\":\"outside\"},\"baxis\":{\"gridcolor\":\"rgb(232,232,232)\",\"linecolor\":\"rgb(36,36,36)\",\"showgrid\":false,\"showline\":true,\"ticks\":\"outside\"},\"caxis\":{\"gridcolor\":\"rgb(232,232,232)\",\"linecolor\":\"rgb(36,36,36)\",\"showgrid\":false,\"showline\":true,\"ticks\":\"outside\"}},\"coloraxis\":{\"colorbar\":{\"outlinewidth\":1,\"tickcolor\":\"rgb(36,36,36)\",\"ticks\":\"outside\"}},\"colorscale\":{\"sequential\":[[0.0,\"#440154\"],[0.1111111111111111,\"#482878\"],[0.2222222222222222,\"#3e4989\"],[0.3333333333333333,\"#31688e\"],[0.4444444444444444,\"#26828e\"],[0.5555555555555556,\"#1f9e89\"],[0.6666666666666666,\"#35b779\"],[0.7777777777777778,\"#6ece58\"],[0.8888888888888888,\"#b5de2b\"],[1.0,\"#fde725\"]],\"sequentialminus\":[[0.0,\"#440154\"],[0.1111111111111111,\"#482878\"],[0.2222222222222222,\"#3e4989\"],[0.3333333333333333,\"#31688e\"],[0.4444444444444444,\"#26828e\"],[0.5555555555555556,\"#1f9e89\"],[0.6666666666666666,\"#35b779\"],[0.7777777777777778,\"#6ece58\"],[0.8888888888888888,\"#b5de2b\"],[1.0,\"#fde725\"]],\"diverging\":[[0.0,\"rgb(103,0,31)\"],[0.1,\"rgb(178,24,43)\"],[0.2,\"rgb(214,96,77)\"],[0.3,\"rgb(244,165,130)\"],[0.4,\"rgb(253,219,199)\"],[0.5,\"rgb(247,247,247)\"],[0.6,\"rgb(209,229,240)\"],[0.7,\"rgb(146,197,222)\"],[0.8,\"rgb(67,147,195)\"],[0.9,\"rgb(33,102,172)\"],[1.0,\"rgb(5,48,97)\"]]},\"xaxis\":{\"gridcolor\":\"rgb(232,232,232)\",\"linecolor\":\"rgb(36,36,36)\",\"showgrid\":false,\"showline\":true,\"ticks\":\"outside\",\"title\":{\"standoff\":15},\"zerolinecolor\":\"rgb(36,36,36)\",\"automargin\":true,\"zeroline\":false},\"yaxis\":{\"gridcolor\":\"rgb(232,232,232)\",\"linecolor\":\"rgb(36,36,36)\",\"showgrid\":false,\"showline\":true,\"ticks\":\"outside\",\"title\":{\"standoff\":15},\"zerolinecolor\":\"rgb(36,36,36)\",\"automargin\":true,\"zeroline\":false},\"scene\":{\"xaxis\":{\"backgroundcolor\":\"white\",\"gridcolor\":\"rgb(232,232,232)\",\"linecolor\":\"rgb(36,36,36)\",\"showbackground\":true,\"showgrid\":false,\"showline\":true,\"ticks\":\"outside\",\"zerolinecolor\":\"rgb(36,36,36)\",\"gridwidth\":2,\"zeroline\":false},\"yaxis\":{\"backgroundcolor\":\"white\",\"gridcolor\":\"rgb(232,232,232)\",\"linecolor\":\"rgb(36,36,36)\",\"showbackground\":true,\"showgrid\":false,\"showline\":true,\"ticks\":\"outside\",\"zerolinecolor\":\"rgb(36,36,36)\",\"gridwidth\":2,\"zeroline\":false},\"zaxis\":{\"backgroundcolor\":\"white\",\"gridcolor\":\"rgb(232,232,232)\",\"linecolor\":\"rgb(36,36,36)\",\"showbackground\":true,\"showgrid\":false,\"showline\":true,\"ticks\":\"outside\",\"zerolinecolor\":\"rgb(36,36,36)\",\"gridwidth\":2,\"zeroline\":false}},\"shapedefaults\":{\"fillcolor\":\"black\",\"line\":{\"width\":0},\"opacity\":0.3},\"annotationdefaults\":{\"arrowhead\":0,\"arrowwidth\":1},\"geo\":{\"bgcolor\":\"white\",\"landcolor\":\"white\",\"subunitcolor\":\"white\",\"showland\":true,\"showlakes\":true,\"lakecolor\":\"white\"},\"title\":{\"x\":0.05},\"mapbox\":{\"style\":\"light\"}}},\"xaxis\":{\"anchor\":\"y\",\"domain\":[0.0,1.0],\"title\":{\"text\":\"share of queries, %\"}},\"yaxis\":{\"anchor\":\"x\",\"domain\":[0.0,1.0],\"title\":{\"text\":\"accuracy\"}},\"legend\":{\"title\":{\"text\":\"accuracy\"},\"tracegroupgap\":0},\"title\":{\"text\":\"\\u003cb\\u003eLLM SQL Agent evaluation\\u003c\\u002fb\\u003e: query accuracy\"},\"barmode\":\"relative\",\"showlegend\":false},                        {\"responsive\": true}                    ).then(function(){\n",
       "                            \n",
       "var gd = document.getElementById('879d6f4e-c22e-4528-b7cb-197a59a82362');\n",
       "var x = new MutationObserver(function (mutations, observer) {{\n",
       "        var display = window.getComputedStyle(gd).display;\n",
       "        if (!display || display === 'none') {{\n",
       "            console.log([gd, 'removed!']);\n",
       "            Plotly.purge(gd);\n",
       "            observer.disconnect();\n",
       "        }}\n",
       "}});\n",
       "\n",
       "// Listen for the removal of the full notebook cells\n",
       "var notebookContainer = gd.closest('#notebook-container');\n",
       "if (notebookContainer) {{\n",
       "    x.observe(notebookContainer, {childList: true});\n",
       "}}\n",
       "\n",
       "// Listen for the clearing of the current output cell\n",
       "var outputEl = gd.closest('.output');\n",
       "if (outputEl) {{\n",
       "    x.observe(outputEl, {childList: true});\n",
       "}}\n",
       "\n",
       "                        })                };                });            </script>        </div>"
      ]
     },
     "metadata": {},
     "output_type": "display_data"
    }
   ],
   "source": [
    "rag_eval_df = evaluate_sql_agent(generate_query_rag, golden_df)"
   ]
  },
  {
   "cell_type": "code",
   "execution_count": 436,
   "id": "6c6f8531-a766-4b9b-bb6f-d017eda7ec7f",
   "metadata": {},
   "outputs": [],
   "source": [
    "def generate_query_rag_with_reflection(question):\n",
    "    generated_query = generate_query_rag(question) \n",
    "    print('Initial query:', generated_query)\n",
    "    db_output = get_clickhouse_data(generated_query)\n",
    "    is_valid_db_output = is_valid_output(db_output)\n",
    "    if is_valid_db_output == 'too many rows':\n",
    "        db_output = \"Database unexpectedly returned more than 1000 rows.\"\n",
    "\n",
    "    if is_valid_db_output == 'ok': \n",
    "        return generated_query\n",
    "    else:\n",
    "        reflection_user_query = reflection_user_query_tmpl.format(\n",
    "            question = question,\n",
    "            query = generated_query,\n",
    "            output = db_output\n",
    "        )\n",
    "        \n",
    "        reflection_prompt = get_llama_prompt(reflection_user_query, generate_query_system_prompt) \n",
    "        print('Reflection prompt:', reflection_prompt)\n",
    "        reflection_result = chat_llm.invoke(reflection_prompt)\n",
    "\n",
    "        try:\n",
    "            reflected_query = reflection_result.tool_calls[0]['args']['query']\n",
    "        except:\n",
    "            reflected_query = ''\n",
    "        print('Reflected query:', reflected_query)\n",
    "        return reflected_query"
   ]
  },
  {
   "cell_type": "code",
   "execution_count": 441,
   "id": "54579a36-a673-42f7-9eb1-d7c0afb0d17c",
   "metadata": {},
   "outputs": [
    {
     "name": "stderr",
     "output_type": "stream",
     "text": [
      " 10%|█████████████████▏                                                                                                                                                          | 1/10 [00:09<01:27,  9.72s/it]"
     ]
    },
    {
     "name": "stdout",
     "output_type": "stream",
     "text": [
      "Initial query: select uniqExact(s.user_id) as customers from ecommerce.sessions s where (toStartOfMonth(action_date) = '2024-12-01') and (revenue > 0) format TabSeparatedWithNames\n",
      "Initial query: select 100*uniqExactIf(user_id, is_fraud = 1)/uniqExact(user_id) as fraud_rate from ecommerce.sessions where (toStartOfYear(action_date) = '2023-01-01')\n",
      "Reflection prompt: <|begin_of_text|><|start_header_id|>system<|end_header_id|>\n",
      "\n",
      "\n",
      "You are a senior data analyst with more than 10 years of experience writing complex SQL queries. \n",
      "There are two tables in the database you're working with with the following schemas. \n",
      "\n",
      "Table: ecommerce.users \n",
      "Description: customers of the online shop\n",
      "Fields: \n",
      "- user_id (integer) - unique identifier of customer, for example, 1000004 or 3000004\n",
      "- country (string) - country of residence, for example, \"Netherlands\" or \"United Kingdom\"\n",
      "- is_active (integer) - 1 if customer is still active and 0 otherwise\n",
      "- age (integer) - customer age in full years, for example, 31 or 72\n",
      "\n",
      "Table: ecommerce.sessions \n",
      "Description: sessions of usage the online shop\n",
      "Fields: \n",
      "- user_id (integer) - unique identifier of customer, for example, 1000004 or 3000004\n",
      "- session_id (integer) - unique identifier of session, for example, 106 or 1023\n",
      "- action_date (date) - session start date, for example, \"2021-01-03\" or \"2024-12-02\"\n",
      "- session_duration (integer) - duration of session in seconds, for example, 125 or 49\n",
      "- os (string) - operation system that customer used, for example, \"Windows\" or \"Android\"\n",
      "- browser (string) - browser that customer used, for example, \"Chrome\" or \"Safari\"\n",
      "- is_fraud (integer) - 1 if session is marked as fraud and 0 otherwise\n",
      "- revenue (float) - income in USD (the sum of purchased items), for example, 0.0 or 1506.7\n",
      "\n",
      "\n",
      "Write a query in ClickHouse SQL to answer the following question. \n",
      "Add \"format TabSeparatedWithNames\" at the end of each query to get data from ClickHouse database in the right format. \n",
      "Follow the provided instructions and always use tool to execute query.\n",
      "<|eot_id|><|start_header_id|>user<|end_header_id|>\n",
      "\n",
      "\n",
      "You've got the following question: \"What was the fraud rate in 2023, expressed as a percentage?\". \n",
      "You've generated the SQL query: \"select 100*uniqExactIf(user_id, is_fraud = 1)/uniqExact(user_id) as fraud_rate from ecommerce.sessions where (toStartOfYear(action_date) = '2023-01-01')\".\n",
      "However, the database returned an error: \"Database returned the following error:\n",
      " Please, specify the output format, for example, 'select .... format TabSeparatedWithNames'.\". \n",
      "Please, revise the query to correct mistake. \n",
      "<|eot_id|><|start_header_id|>assistant<|end_header_id|>\n",
      "\n",
      "\n"
     ]
    },
    {
     "name": "stderr",
     "output_type": "stream",
     "text": [
      " 20%|██████████████████████████████████▍                                                                                                                                         | 2/10 [00:26<01:50, 13.76s/it]"
     ]
    },
    {
     "name": "stdout",
     "output_type": "stream",
     "text": [
      "Reflected query: select 100*uniqExactIf(user_id, is_fraud = 1)/uniqExact(user_id) as fraud_rate from ecommerce.sessions where (toStartOfYear(action_date) = '2023-01-01') format TabSeparatedWithNames\n"
     ]
    },
    {
     "name": "stderr",
     "output_type": "stream",
     "text": [
      " 30%|███████████████████████████████████████████████████▌                                                                                                                        | 3/10 [00:41<01:41, 14.53s/it]"
     ]
    },
    {
     "name": "stdout",
     "output_type": "stream",
     "text": [
      "Initial query: select 100*uniqExactIf(user_id, os = 'Windows')/uniqExact(user_id) as windows_share from ecommerce.sessions where (action_date = today() - 1) format TabSeparatedWithNames\n"
     ]
    },
    {
     "name": "stderr",
     "output_type": "stream",
     "text": [
      " 40%|████████████████████████████████████████████████████████████████████▊                                                                                                       | 4/10 [01:04<01:45, 17.63s/it]"
     ]
    },
    {
     "name": "stdout",
     "output_type": "stream",
     "text": [
      "Initial query: SELECT sum(s.revenue) FROM ecommerce.sessions AS s JOIN ecommerce.users AS u ON s.user_id = u.user_id WHERE (u.country = 'Netherlands') AND (u.age >= 55) AND (toStartOfMonth(action_date) = '2024-12-01') format TabSeparatedWithNames\n",
      "Initial query: SELECT country, median(revenue) as median_revenue, quantile(0.25)(revenue) as percentile_25_revenue, quantile(0.75)(revenue) as percentile_75_revenue FROM ecommerce.sessions AS s INNER JOIN ecommerce.users AS u ON u.user_id = s.user_id WHERE (u.is_active = 1) GROUP BY country format TabSeparatedWithNames\n"
     ]
    },
    {
     "name": "stderr",
     "output_type": "stream",
     "text": [
      " 50%|██████████████████████████████████████████████████████████████████████████████████████                                                                                      | 5/10 [01:26<01:37, 19.45s/it]"
     ]
    },
    {
     "name": "stdout",
     "output_type": "stream",
     "text": [
      "Initial query: select avg(first_purchase - first_action_date) as avg_days_to_purchase from (select s.user_id, min(s.action_date) as first_action_date, minIf(s.action_date, s.revenue > 0) as first_purchase, max(s.revenue) as max_revenue from ecommerce.sessions s join ecommerce.users u on s.user_id = u.user_id where s.revenue > 0 group by s.user_id) where max_revenue > 0 format TabSeparatedWithNames\n"
     ]
    },
    {
     "name": "stderr",
     "output_type": "stream",
     "text": [
      " 70%|████████████████████████████████████████████████████████████████████████████████████████████████████████████████████████▍                                                   | 7/10 [02:02<00:54, 18.18s/it]"
     ]
    },
    {
     "name": "stdout",
     "output_type": "stream",
     "text": [
      "Initial query: SELECT os, uniqExact(session_id) as total FROM ecommerce.sessions WHERE toStartOfMonth(action_date) = '2024-12-01' GROUP BY os with totals format TabSeparatedWithNames\n",
      "Initial query: SELECT os, browser, uniqExact(user_id) as num_customers FROM ecommerce.sessions WHERE toStartOfYear(action_date) = '2024-01-01' GROUP BY os, browser\n",
      "Reflection prompt: <|begin_of_text|><|start_header_id|>system<|end_header_id|>\n",
      "\n",
      "\n",
      "You are a senior data analyst with more than 10 years of experience writing complex SQL queries. \n",
      "There are two tables in the database you're working with with the following schemas. \n",
      "\n",
      "Table: ecommerce.users \n",
      "Description: customers of the online shop\n",
      "Fields: \n",
      "- user_id (integer) - unique identifier of customer, for example, 1000004 or 3000004\n",
      "- country (string) - country of residence, for example, \"Netherlands\" or \"United Kingdom\"\n",
      "- is_active (integer) - 1 if customer is still active and 0 otherwise\n",
      "- age (integer) - customer age in full years, for example, 31 or 72\n",
      "\n",
      "Table: ecommerce.sessions \n",
      "Description: sessions of usage the online shop\n",
      "Fields: \n",
      "- user_id (integer) - unique identifier of customer, for example, 1000004 or 3000004\n",
      "- session_id (integer) - unique identifier of session, for example, 106 or 1023\n",
      "- action_date (date) - session start date, for example, \"2021-01-03\" or \"2024-12-02\"\n",
      "- session_duration (integer) - duration of session in seconds, for example, 125 or 49\n",
      "- os (string) - operation system that customer used, for example, \"Windows\" or \"Android\"\n",
      "- browser (string) - browser that customer used, for example, \"Chrome\" or \"Safari\"\n",
      "- is_fraud (integer) - 1 if session is marked as fraud and 0 otherwise\n",
      "- revenue (float) - income in USD (the sum of purchased items), for example, 0.0 or 1506.7\n",
      "\n",
      "\n",
      "Write a query in ClickHouse SQL to answer the following question. \n",
      "Add \"format TabSeparatedWithNames\" at the end of each query to get data from ClickHouse database in the right format. \n",
      "Follow the provided instructions and always use tool to execute query.\n",
      "<|eot_id|><|start_header_id|>user<|end_header_id|>\n",
      "\n",
      "\n",
      "You've got the following question: \"Do we have customers who used multiple operating browsers during 2024? If so, please calculate the number of customers for each combination of browsers.\". \n",
      "You've generated the SQL query: \"SELECT os, browser, uniqExact(user_id) as num_customers FROM ecommerce.sessions WHERE toStartOfYear(action_date) = '2024-01-01' GROUP BY os, browser\".\n",
      "However, the database returned an error: \"Database returned the following error:\n",
      " Please, specify the output format, for example, 'select .... format TabSeparatedWithNames'.\". \n",
      "Please, revise the query to correct mistake. \n",
      "<|eot_id|><|start_header_id|>assistant<|end_header_id|>\n",
      "\n",
      "\n"
     ]
    },
    {
     "name": "stderr",
     "output_type": "stream",
     "text": [
      " 80%|█████████████████████████████████████████████████████████████████████████████████████████████████████████████████████████████████████████▌                                  | 8/10 [02:25<00:39, 19.61s/it]"
     ]
    },
    {
     "name": "stdout",
     "output_type": "stream",
     "text": [
      "Reflected query: SELECT os, browser, uniqExact(user_id) as num_customers FROM ecommerce.sessions WHERE toStartOfYear(action_date) = '2024-01-01' GROUP BY os, browser format TabSeparatedWithNames\n",
      "Initial query: select browser, 100*uniqExactIf(user_id, is_fraud = 1)/uniqExact(user_id) as fraud_rate from ecommerce.sessions group by browser order by fraud_rate desc limit 1 format TabSeparatedWithNames\n"
     ]
    },
    {
     "name": "stderr",
     "output_type": "stream",
     "text": [
      " 90%|██████████████████████████████████████████████████████████████████████████████████████████████████████████████████████████████████████████████████████████▊                 | 9/10 [02:42<00:18, 18.77s/it]"
     ]
    },
    {
     "name": "stdout",
     "output_type": "stream",
     "text": [
      "Initial query: select u.country, count(distinct t.user_id) as users from (select user_id, min(action_date) as first_date from ecommerce.sessions group by user_id having toYear(first_date) = '2024') as t inner join ecommerce.users as u on t.user_id = u.user_id group by u.country order by users desc limit 1 format TabSeparatedWithNames\n"
     ]
    },
    {
     "name": "stderr",
     "output_type": "stream",
     "text": [
      "100%|███████████████████████████████████████████████████████████████████████████████████████████████████████████████████████████████████████████████████████████████████████████| 10/10 [03:01<00:00, 18.11s/it]\n",
      "100%|███████████████████████████████████████████████████████████████████████████████████████████████████████████████████████████████████████████████████████████████████████████| 10/10 [00:03<00:00,  2.88it/s]\n"
     ]
    },
    {
     "data": {
      "application/vnd.plotly.v1+json": {
       "config": {
        "plotlyServerURL": "https://plot.ly"
       },
       "data": [
        {
         "alignmentgroup": "True",
         "hovertemplate": "golden_output_valid=ok<br>share of queries, %=%{x}<br>=%{y}<extra></extra>",
         "legendgroup": "ok",
         "marker": {
          "color": "#00b38a",
          "pattern": {
           "shape": ""
          }
         },
         "name": "ok",
         "offsetgroup": "ok",
         "orientation": "h",
         "showlegend": true,
         "textposition": "auto",
         "texttemplate": "%{x:.1f}",
         "type": "bar",
         "x": [
          100,
          100
         ],
         "xaxis": "x",
         "y": [
          "golden set",
          "generated"
         ],
         "yaxis": "y"
        }
       ],
       "layout": {
        "autosize": true,
        "barmode": "relative",
        "legend": {
         "title": {
          "text": "golden_output_valid"
         },
         "tracegroupgap": 0
        },
        "template": {
         "data": {
          "bar": [
           {
            "error_x": {
             "color": "rgb(36,36,36)"
            },
            "error_y": {
             "color": "rgb(36,36,36)"
            },
            "marker": {
             "line": {
              "color": "white",
              "width": 0.5
             },
             "pattern": {
              "fillmode": "overlay",
              "size": 10,
              "solidity": 0.2
             }
            },
            "type": "bar"
           }
          ],
          "barpolar": [
           {
            "marker": {
             "line": {
              "color": "white",
              "width": 0.5
             },
             "pattern": {
              "fillmode": "overlay",
              "size": 10,
              "solidity": 0.2
             }
            },
            "type": "barpolar"
           }
          ],
          "carpet": [
           {
            "aaxis": {
             "endlinecolor": "rgb(36,36,36)",
             "gridcolor": "white",
             "linecolor": "white",
             "minorgridcolor": "white",
             "startlinecolor": "rgb(36,36,36)"
            },
            "baxis": {
             "endlinecolor": "rgb(36,36,36)",
             "gridcolor": "white",
             "linecolor": "white",
             "minorgridcolor": "white",
             "startlinecolor": "rgb(36,36,36)"
            },
            "type": "carpet"
           }
          ],
          "choropleth": [
           {
            "colorbar": {
             "outlinewidth": 1,
             "tickcolor": "rgb(36,36,36)",
             "ticks": "outside"
            },
            "type": "choropleth"
           }
          ],
          "contour": [
           {
            "colorbar": {
             "outlinewidth": 1,
             "tickcolor": "rgb(36,36,36)",
             "ticks": "outside"
            },
            "colorscale": [
             [
              0,
              "#440154"
             ],
             [
              0.1111111111111111,
              "#482878"
             ],
             [
              0.2222222222222222,
              "#3e4989"
             ],
             [
              0.3333333333333333,
              "#31688e"
             ],
             [
              0.4444444444444444,
              "#26828e"
             ],
             [
              0.5555555555555556,
              "#1f9e89"
             ],
             [
              0.6666666666666666,
              "#35b779"
             ],
             [
              0.7777777777777778,
              "#6ece58"
             ],
             [
              0.8888888888888888,
              "#b5de2b"
             ],
             [
              1,
              "#fde725"
             ]
            ],
            "type": "contour"
           }
          ],
          "contourcarpet": [
           {
            "colorbar": {
             "outlinewidth": 1,
             "tickcolor": "rgb(36,36,36)",
             "ticks": "outside"
            },
            "type": "contourcarpet"
           }
          ],
          "heatmap": [
           {
            "colorbar": {
             "outlinewidth": 1,
             "tickcolor": "rgb(36,36,36)",
             "ticks": "outside"
            },
            "colorscale": [
             [
              0,
              "#440154"
             ],
             [
              0.1111111111111111,
              "#482878"
             ],
             [
              0.2222222222222222,
              "#3e4989"
             ],
             [
              0.3333333333333333,
              "#31688e"
             ],
             [
              0.4444444444444444,
              "#26828e"
             ],
             [
              0.5555555555555556,
              "#1f9e89"
             ],
             [
              0.6666666666666666,
              "#35b779"
             ],
             [
              0.7777777777777778,
              "#6ece58"
             ],
             [
              0.8888888888888888,
              "#b5de2b"
             ],
             [
              1,
              "#fde725"
             ]
            ],
            "type": "heatmap"
           }
          ],
          "heatmapgl": [
           {
            "colorbar": {
             "outlinewidth": 1,
             "tickcolor": "rgb(36,36,36)",
             "ticks": "outside"
            },
            "colorscale": [
             [
              0,
              "#440154"
             ],
             [
              0.1111111111111111,
              "#482878"
             ],
             [
              0.2222222222222222,
              "#3e4989"
             ],
             [
              0.3333333333333333,
              "#31688e"
             ],
             [
              0.4444444444444444,
              "#26828e"
             ],
             [
              0.5555555555555556,
              "#1f9e89"
             ],
             [
              0.6666666666666666,
              "#35b779"
             ],
             [
              0.7777777777777778,
              "#6ece58"
             ],
             [
              0.8888888888888888,
              "#b5de2b"
             ],
             [
              1,
              "#fde725"
             ]
            ],
            "type": "heatmapgl"
           }
          ],
          "histogram": [
           {
            "marker": {
             "line": {
              "color": "white",
              "width": 0.6
             }
            },
            "type": "histogram"
           }
          ],
          "histogram2d": [
           {
            "colorbar": {
             "outlinewidth": 1,
             "tickcolor": "rgb(36,36,36)",
             "ticks": "outside"
            },
            "colorscale": [
             [
              0,
              "#440154"
             ],
             [
              0.1111111111111111,
              "#482878"
             ],
             [
              0.2222222222222222,
              "#3e4989"
             ],
             [
              0.3333333333333333,
              "#31688e"
             ],
             [
              0.4444444444444444,
              "#26828e"
             ],
             [
              0.5555555555555556,
              "#1f9e89"
             ],
             [
              0.6666666666666666,
              "#35b779"
             ],
             [
              0.7777777777777778,
              "#6ece58"
             ],
             [
              0.8888888888888888,
              "#b5de2b"
             ],
             [
              1,
              "#fde725"
             ]
            ],
            "type": "histogram2d"
           }
          ],
          "histogram2dcontour": [
           {
            "colorbar": {
             "outlinewidth": 1,
             "tickcolor": "rgb(36,36,36)",
             "ticks": "outside"
            },
            "colorscale": [
             [
              0,
              "#440154"
             ],
             [
              0.1111111111111111,
              "#482878"
             ],
             [
              0.2222222222222222,
              "#3e4989"
             ],
             [
              0.3333333333333333,
              "#31688e"
             ],
             [
              0.4444444444444444,
              "#26828e"
             ],
             [
              0.5555555555555556,
              "#1f9e89"
             ],
             [
              0.6666666666666666,
              "#35b779"
             ],
             [
              0.7777777777777778,
              "#6ece58"
             ],
             [
              0.8888888888888888,
              "#b5de2b"
             ],
             [
              1,
              "#fde725"
             ]
            ],
            "type": "histogram2dcontour"
           }
          ],
          "mesh3d": [
           {
            "colorbar": {
             "outlinewidth": 1,
             "tickcolor": "rgb(36,36,36)",
             "ticks": "outside"
            },
            "type": "mesh3d"
           }
          ],
          "parcoords": [
           {
            "line": {
             "colorbar": {
              "outlinewidth": 1,
              "tickcolor": "rgb(36,36,36)",
              "ticks": "outside"
             }
            },
            "type": "parcoords"
           }
          ],
          "pie": [
           {
            "automargin": true,
            "type": "pie"
           }
          ],
          "scatter": [
           {
            "fillpattern": {
             "fillmode": "overlay",
             "size": 10,
             "solidity": 0.2
            },
            "type": "scatter"
           }
          ],
          "scatter3d": [
           {
            "line": {
             "colorbar": {
              "outlinewidth": 1,
              "tickcolor": "rgb(36,36,36)",
              "ticks": "outside"
             }
            },
            "marker": {
             "colorbar": {
              "outlinewidth": 1,
              "tickcolor": "rgb(36,36,36)",
              "ticks": "outside"
             }
            },
            "type": "scatter3d"
           }
          ],
          "scattercarpet": [
           {
            "marker": {
             "colorbar": {
              "outlinewidth": 1,
              "tickcolor": "rgb(36,36,36)",
              "ticks": "outside"
             }
            },
            "type": "scattercarpet"
           }
          ],
          "scattergeo": [
           {
            "marker": {
             "colorbar": {
              "outlinewidth": 1,
              "tickcolor": "rgb(36,36,36)",
              "ticks": "outside"
             }
            },
            "type": "scattergeo"
           }
          ],
          "scattergl": [
           {
            "marker": {
             "colorbar": {
              "outlinewidth": 1,
              "tickcolor": "rgb(36,36,36)",
              "ticks": "outside"
             }
            },
            "type": "scattergl"
           }
          ],
          "scattermapbox": [
           {
            "marker": {
             "colorbar": {
              "outlinewidth": 1,
              "tickcolor": "rgb(36,36,36)",
              "ticks": "outside"
             }
            },
            "type": "scattermapbox"
           }
          ],
          "scatterpolar": [
           {
            "marker": {
             "colorbar": {
              "outlinewidth": 1,
              "tickcolor": "rgb(36,36,36)",
              "ticks": "outside"
             }
            },
            "type": "scatterpolar"
           }
          ],
          "scatterpolargl": [
           {
            "marker": {
             "colorbar": {
              "outlinewidth": 1,
              "tickcolor": "rgb(36,36,36)",
              "ticks": "outside"
             }
            },
            "type": "scatterpolargl"
           }
          ],
          "scatterternary": [
           {
            "marker": {
             "colorbar": {
              "outlinewidth": 1,
              "tickcolor": "rgb(36,36,36)",
              "ticks": "outside"
             }
            },
            "type": "scatterternary"
           }
          ],
          "surface": [
           {
            "colorbar": {
             "outlinewidth": 1,
             "tickcolor": "rgb(36,36,36)",
             "ticks": "outside"
            },
            "colorscale": [
             [
              0,
              "#440154"
             ],
             [
              0.1111111111111111,
              "#482878"
             ],
             [
              0.2222222222222222,
              "#3e4989"
             ],
             [
              0.3333333333333333,
              "#31688e"
             ],
             [
              0.4444444444444444,
              "#26828e"
             ],
             [
              0.5555555555555556,
              "#1f9e89"
             ],
             [
              0.6666666666666666,
              "#35b779"
             ],
             [
              0.7777777777777778,
              "#6ece58"
             ],
             [
              0.8888888888888888,
              "#b5de2b"
             ],
             [
              1,
              "#fde725"
             ]
            ],
            "type": "surface"
           }
          ],
          "table": [
           {
            "cells": {
             "fill": {
              "color": "rgb(237,237,237)"
             },
             "line": {
              "color": "white"
             }
            },
            "header": {
             "fill": {
              "color": "rgb(217,217,217)"
             },
             "line": {
              "color": "white"
             }
            },
            "type": "table"
           }
          ]
         },
         "layout": {
          "annotationdefaults": {
           "arrowhead": 0,
           "arrowwidth": 1
          },
          "autotypenumbers": "strict",
          "coloraxis": {
           "colorbar": {
            "outlinewidth": 1,
            "tickcolor": "rgb(36,36,36)",
            "ticks": "outside"
           }
          },
          "colorscale": {
           "diverging": [
            [
             0,
             "rgb(103,0,31)"
            ],
            [
             0.1,
             "rgb(178,24,43)"
            ],
            [
             0.2,
             "rgb(214,96,77)"
            ],
            [
             0.3,
             "rgb(244,165,130)"
            ],
            [
             0.4,
             "rgb(253,219,199)"
            ],
            [
             0.5,
             "rgb(247,247,247)"
            ],
            [
             0.6,
             "rgb(209,229,240)"
            ],
            [
             0.7,
             "rgb(146,197,222)"
            ],
            [
             0.8,
             "rgb(67,147,195)"
            ],
            [
             0.9,
             "rgb(33,102,172)"
            ],
            [
             1,
             "rgb(5,48,97)"
            ]
           ],
           "sequential": [
            [
             0,
             "#440154"
            ],
            [
             0.1111111111111111,
             "#482878"
            ],
            [
             0.2222222222222222,
             "#3e4989"
            ],
            [
             0.3333333333333333,
             "#31688e"
            ],
            [
             0.4444444444444444,
             "#26828e"
            ],
            [
             0.5555555555555556,
             "#1f9e89"
            ],
            [
             0.6666666666666666,
             "#35b779"
            ],
            [
             0.7777777777777778,
             "#6ece58"
            ],
            [
             0.8888888888888888,
             "#b5de2b"
            ],
            [
             1,
             "#fde725"
            ]
           ],
           "sequentialminus": [
            [
             0,
             "#440154"
            ],
            [
             0.1111111111111111,
             "#482878"
            ],
            [
             0.2222222222222222,
             "#3e4989"
            ],
            [
             0.3333333333333333,
             "#31688e"
            ],
            [
             0.4444444444444444,
             "#26828e"
            ],
            [
             0.5555555555555556,
             "#1f9e89"
            ],
            [
             0.6666666666666666,
             "#35b779"
            ],
            [
             0.7777777777777778,
             "#6ece58"
            ],
            [
             0.8888888888888888,
             "#b5de2b"
            ],
            [
             1,
             "#fde725"
            ]
           ]
          },
          "colorway": [
           "#1F77B4",
           "#FF7F0E",
           "#2CA02C",
           "#D62728",
           "#9467BD",
           "#8C564B",
           "#E377C2",
           "#7F7F7F",
           "#BCBD22",
           "#17BECF"
          ],
          "font": {
           "color": "rgb(36,36,36)"
          },
          "geo": {
           "bgcolor": "white",
           "lakecolor": "white",
           "landcolor": "white",
           "showlakes": true,
           "showland": true,
           "subunitcolor": "white"
          },
          "hoverlabel": {
           "align": "left"
          },
          "hovermode": "closest",
          "mapbox": {
           "style": "light"
          },
          "paper_bgcolor": "white",
          "plot_bgcolor": "white",
          "polar": {
           "angularaxis": {
            "gridcolor": "rgb(232,232,232)",
            "linecolor": "rgb(36,36,36)",
            "showgrid": false,
            "showline": true,
            "ticks": "outside"
           },
           "bgcolor": "white",
           "radialaxis": {
            "gridcolor": "rgb(232,232,232)",
            "linecolor": "rgb(36,36,36)",
            "showgrid": false,
            "showline": true,
            "ticks": "outside"
           }
          },
          "scene": {
           "xaxis": {
            "backgroundcolor": "white",
            "gridcolor": "rgb(232,232,232)",
            "gridwidth": 2,
            "linecolor": "rgb(36,36,36)",
            "showbackground": true,
            "showgrid": false,
            "showline": true,
            "ticks": "outside",
            "zeroline": false,
            "zerolinecolor": "rgb(36,36,36)"
           },
           "yaxis": {
            "backgroundcolor": "white",
            "gridcolor": "rgb(232,232,232)",
            "gridwidth": 2,
            "linecolor": "rgb(36,36,36)",
            "showbackground": true,
            "showgrid": false,
            "showline": true,
            "ticks": "outside",
            "zeroline": false,
            "zerolinecolor": "rgb(36,36,36)"
           },
           "zaxis": {
            "backgroundcolor": "white",
            "gridcolor": "rgb(232,232,232)",
            "gridwidth": 2,
            "linecolor": "rgb(36,36,36)",
            "showbackground": true,
            "showgrid": false,
            "showline": true,
            "ticks": "outside",
            "zeroline": false,
            "zerolinecolor": "rgb(36,36,36)"
           }
          },
          "shapedefaults": {
           "fillcolor": "black",
           "line": {
            "width": 0
           },
           "opacity": 0.3
          },
          "ternary": {
           "aaxis": {
            "gridcolor": "rgb(232,232,232)",
            "linecolor": "rgb(36,36,36)",
            "showgrid": false,
            "showline": true,
            "ticks": "outside"
           },
           "baxis": {
            "gridcolor": "rgb(232,232,232)",
            "linecolor": "rgb(36,36,36)",
            "showgrid": false,
            "showline": true,
            "ticks": "outside"
           },
           "bgcolor": "white",
           "caxis": {
            "gridcolor": "rgb(232,232,232)",
            "linecolor": "rgb(36,36,36)",
            "showgrid": false,
            "showline": true,
            "ticks": "outside"
           }
          },
          "title": {
           "x": 0.05
          },
          "xaxis": {
           "automargin": true,
           "gridcolor": "rgb(232,232,232)",
           "linecolor": "rgb(36,36,36)",
           "showgrid": false,
           "showline": true,
           "ticks": "outside",
           "title": {
            "standoff": 15
           },
           "zeroline": false,
           "zerolinecolor": "rgb(36,36,36)"
          },
          "yaxis": {
           "automargin": true,
           "gridcolor": "rgb(232,232,232)",
           "linecolor": "rgb(36,36,36)",
           "showgrid": false,
           "showline": true,
           "ticks": "outside",
           "title": {
            "standoff": 15
           },
           "zeroline": false,
           "zerolinecolor": "rgb(36,36,36)"
          }
         }
        },
        "title": {
         "text": "<b>LLM SQL Agent evaluation</b>: query validity"
        },
        "xaxis": {
         "anchor": "y",
         "autorange": true,
         "domain": [
          0,
          1
         ],
         "range": [
          0,
          105.26315789473685
         ],
         "title": {
          "text": "share of queries, %"
         },
         "type": "linear"
        },
        "yaxis": {
         "anchor": "x",
         "autorange": true,
         "domain": [
          0,
          1
         ],
         "range": [
          -0.5,
          1.5
         ],
         "title": {
          "text": ""
         },
         "type": "category"
        }
       }
      },
      "image/png": "[encoded data removed]",
      "text/html": [
       "<div>                            <div id=\"1dca804d-df0b-4bfe-8822-f0dbbec6235a\" class=\"plotly-graph-div\" style=\"height:525px; width:100%;\"></div>            <script type=\"text/javascript\">                require([\"plotly\"], function(Plotly) {                    window.PLOTLYENV=window.PLOTLYENV || {};                                    if (document.getElementById(\"1dca804d-df0b-4bfe-8822-f0dbbec6235a\")) {                    Plotly.newPlot(                        \"1dca804d-df0b-4bfe-8822-f0dbbec6235a\",                        [{\"alignmentgroup\":\"True\",\"hovertemplate\":\"golden_output_valid=ok\\u003cbr\\u003eshare of queries, %=%{x}\\u003cbr\\u003e=%{y}\\u003cextra\\u003e\\u003c\\u002fextra\\u003e\",\"legendgroup\":\"ok\",\"marker\":{\"color\":\"#00b38a\",\"pattern\":{\"shape\":\"\"}},\"name\":\"ok\",\"offsetgroup\":\"ok\",\"orientation\":\"h\",\"showlegend\":true,\"textposition\":\"auto\",\"texttemplate\":\"%{x:.1f}\",\"x\":[100.0,100.0],\"xaxis\":\"x\",\"y\":[\"golden set\",\"generated\"],\"yaxis\":\"y\",\"type\":\"bar\"}],                        {\"template\":{\"data\":{\"histogram2dcontour\":[{\"type\":\"histogram2dcontour\",\"colorbar\":{\"outlinewidth\":1,\"tickcolor\":\"rgb(36,36,36)\",\"ticks\":\"outside\"},\"colorscale\":[[0.0,\"#440154\"],[0.1111111111111111,\"#482878\"],[0.2222222222222222,\"#3e4989\"],[0.3333333333333333,\"#31688e\"],[0.4444444444444444,\"#26828e\"],[0.5555555555555556,\"#1f9e89\"],[0.6666666666666666,\"#35b779\"],[0.7777777777777778,\"#6ece58\"],[0.8888888888888888,\"#b5de2b\"],[1.0,\"#fde725\"]]}],\"choropleth\":[{\"type\":\"choropleth\",\"colorbar\":{\"outlinewidth\":1,\"tickcolor\":\"rgb(36,36,36)\",\"ticks\":\"outside\"}}],\"histogram2d\":[{\"type\":\"histogram2d\",\"colorbar\":{\"outlinewidth\":1,\"tickcolor\":\"rgb(36,36,36)\",\"ticks\":\"outside\"},\"colorscale\":[[0.0,\"#440154\"],[0.1111111111111111,\"#482878\"],[0.2222222222222222,\"#3e4989\"],[0.3333333333333333,\"#31688e\"],[0.4444444444444444,\"#26828e\"],[0.5555555555555556,\"#1f9e89\"],[0.6666666666666666,\"#35b779\"],[0.7777777777777778,\"#6ece58\"],[0.8888888888888888,\"#b5de2b\"],[1.0,\"#fde725\"]]}],\"heatmap\":[{\"type\":\"heatmap\",\"colorbar\":{\"outlinewidth\":1,\"tickcolor\":\"rgb(36,36,36)\",\"ticks\":\"outside\"},\"colorscale\":[[0.0,\"#440154\"],[0.1111111111111111,\"#482878\"],[0.2222222222222222,\"#3e4989\"],[0.3333333333333333,\"#31688e\"],[0.4444444444444444,\"#26828e\"],[0.5555555555555556,\"#1f9e89\"],[0.6666666666666666,\"#35b779\"],[0.7777777777777778,\"#6ece58\"],[0.8888888888888888,\"#b5de2b\"],[1.0,\"#fde725\"]]}],\"heatmapgl\":[{\"type\":\"heatmapgl\",\"colorbar\":{\"outlinewidth\":1,\"tickcolor\":\"rgb(36,36,36)\",\"ticks\":\"outside\"},\"colorscale\":[[0.0,\"#440154\"],[0.1111111111111111,\"#482878\"],[0.2222222222222222,\"#3e4989\"],[0.3333333333333333,\"#31688e\"],[0.4444444444444444,\"#26828e\"],[0.5555555555555556,\"#1f9e89\"],[0.6666666666666666,\"#35b779\"],[0.7777777777777778,\"#6ece58\"],[0.8888888888888888,\"#b5de2b\"],[1.0,\"#fde725\"]]}],\"contourcarpet\":[{\"type\":\"contourcarpet\",\"colorbar\":{\"outlinewidth\":1,\"tickcolor\":\"rgb(36,36,36)\",\"ticks\":\"outside\"}}],\"contour\":[{\"type\":\"contour\",\"colorbar\":{\"outlinewidth\":1,\"tickcolor\":\"rgb(36,36,36)\",\"ticks\":\"outside\"},\"colorscale\":[[0.0,\"#440154\"],[0.1111111111111111,\"#482878\"],[0.2222222222222222,\"#3e4989\"],[0.3333333333333333,\"#31688e\"],[0.4444444444444444,\"#26828e\"],[0.5555555555555556,\"#1f9e89\"],[0.6666666666666666,\"#35b779\"],[0.7777777777777778,\"#6ece58\"],[0.8888888888888888,\"#b5de2b\"],[1.0,\"#fde725\"]]}],\"surface\":[{\"type\":\"surface\",\"colorbar\":{\"outlinewidth\":1,\"tickcolor\":\"rgb(36,36,36)\",\"ticks\":\"outside\"},\"colorscale\":[[0.0,\"#440154\"],[0.1111111111111111,\"#482878\"],[0.2222222222222222,\"#3e4989\"],[0.3333333333333333,\"#31688e\"],[0.4444444444444444,\"#26828e\"],[0.5555555555555556,\"#1f9e89\"],[0.6666666666666666,\"#35b779\"],[0.7777777777777778,\"#6ece58\"],[0.8888888888888888,\"#b5de2b\"],[1.0,\"#fde725\"]]}],\"mesh3d\":[{\"type\":\"mesh3d\",\"colorbar\":{\"outlinewidth\":1,\"tickcolor\":\"rgb(36,36,36)\",\"ticks\":\"outside\"}}],\"scatter\":[{\"fillpattern\":{\"fillmode\":\"overlay\",\"size\":10,\"solidity\":0.2},\"type\":\"scatter\"}],\"parcoords\":[{\"type\":\"parcoords\",\"line\":{\"colorbar\":{\"outlinewidth\":1,\"tickcolor\":\"rgb(36,36,36)\",\"ticks\":\"outside\"}}}],\"scatterpolargl\":[{\"type\":\"scatterpolargl\",\"marker\":{\"colorbar\":{\"outlinewidth\":1,\"tickcolor\":\"rgb(36,36,36)\",\"ticks\":\"outside\"}}}],\"bar\":[{\"error_x\":{\"color\":\"rgb(36,36,36)\"},\"error_y\":{\"color\":\"rgb(36,36,36)\"},\"marker\":{\"line\":{\"color\":\"white\",\"width\":0.5},\"pattern\":{\"fillmode\":\"overlay\",\"size\":10,\"solidity\":0.2}},\"type\":\"bar\"}],\"scattergeo\":[{\"type\":\"scattergeo\",\"marker\":{\"colorbar\":{\"outlinewidth\":1,\"tickcolor\":\"rgb(36,36,36)\",\"ticks\":\"outside\"}}}],\"scatterpolar\":[{\"type\":\"scatterpolar\",\"marker\":{\"colorbar\":{\"outlinewidth\":1,\"tickcolor\":\"rgb(36,36,36)\",\"ticks\":\"outside\"}}}],\"histogram\":[{\"marker\":{\"line\":{\"color\":\"white\",\"width\":0.6}},\"type\":\"histogram\"}],\"scattergl\":[{\"type\":\"scattergl\",\"marker\":{\"colorbar\":{\"outlinewidth\":1,\"tickcolor\":\"rgb(36,36,36)\",\"ticks\":\"outside\"}}}],\"scatter3d\":[{\"type\":\"scatter3d\",\"line\":{\"colorbar\":{\"outlinewidth\":1,\"tickcolor\":\"rgb(36,36,36)\",\"ticks\":\"outside\"}},\"marker\":{\"colorbar\":{\"outlinewidth\":1,\"tickcolor\":\"rgb(36,36,36)\",\"ticks\":\"outside\"}}}],\"scattermapbox\":[{\"type\":\"scattermapbox\",\"marker\":{\"colorbar\":{\"outlinewidth\":1,\"tickcolor\":\"rgb(36,36,36)\",\"ticks\":\"outside\"}}}],\"scatterternary\":[{\"type\":\"scatterternary\",\"marker\":{\"colorbar\":{\"outlinewidth\":1,\"tickcolor\":\"rgb(36,36,36)\",\"ticks\":\"outside\"}}}],\"scattercarpet\":[{\"type\":\"scattercarpet\",\"marker\":{\"colorbar\":{\"outlinewidth\":1,\"tickcolor\":\"rgb(36,36,36)\",\"ticks\":\"outside\"}}}],\"carpet\":[{\"aaxis\":{\"endlinecolor\":\"rgb(36,36,36)\",\"gridcolor\":\"white\",\"linecolor\":\"white\",\"minorgridcolor\":\"white\",\"startlinecolor\":\"rgb(36,36,36)\"},\"baxis\":{\"endlinecolor\":\"rgb(36,36,36)\",\"gridcolor\":\"white\",\"linecolor\":\"white\",\"minorgridcolor\":\"white\",\"startlinecolor\":\"rgb(36,36,36)\"},\"type\":\"carpet\"}],\"table\":[{\"cells\":{\"fill\":{\"color\":\"rgb(237,237,237)\"},\"line\":{\"color\":\"white\"}},\"header\":{\"fill\":{\"color\":\"rgb(217,217,217)\"},\"line\":{\"color\":\"white\"}},\"type\":\"table\"}],\"barpolar\":[{\"marker\":{\"line\":{\"color\":\"white\",\"width\":0.5},\"pattern\":{\"fillmode\":\"overlay\",\"size\":10,\"solidity\":0.2}},\"type\":\"barpolar\"}],\"pie\":[{\"automargin\":true,\"type\":\"pie\"}]},\"layout\":{\"autotypenumbers\":\"strict\",\"colorway\":[\"#1F77B4\",\"#FF7F0E\",\"#2CA02C\",\"#D62728\",\"#9467BD\",\"#8C564B\",\"#E377C2\",\"#7F7F7F\",\"#BCBD22\",\"#17BECF\"],\"font\":{\"color\":\"rgb(36,36,36)\"},\"hovermode\":\"closest\",\"hoverlabel\":{\"align\":\"left\"},\"paper_bgcolor\":\"white\",\"plot_bgcolor\":\"white\",\"polar\":{\"bgcolor\":\"white\",\"angularaxis\":{\"gridcolor\":\"rgb(232,232,232)\",\"linecolor\":\"rgb(36,36,36)\",\"showgrid\":false,\"showline\":true,\"ticks\":\"outside\"},\"radialaxis\":{\"gridcolor\":\"rgb(232,232,232)\",\"linecolor\":\"rgb(36,36,36)\",\"showgrid\":false,\"showline\":true,\"ticks\":\"outside\"}},\"ternary\":{\"bgcolor\":\"white\",\"aaxis\":{\"gridcolor\":\"rgb(232,232,232)\",\"linecolor\":\"rgb(36,36,36)\",\"showgrid\":false,\"showline\":true,\"ticks\":\"outside\"},\"baxis\":{\"gridcolor\":\"rgb(232,232,232)\",\"linecolor\":\"rgb(36,36,36)\",\"showgrid\":false,\"showline\":true,\"ticks\":\"outside\"},\"caxis\":{\"gridcolor\":\"rgb(232,232,232)\",\"linecolor\":\"rgb(36,36,36)\",\"showgrid\":false,\"showline\":true,\"ticks\":\"outside\"}},\"coloraxis\":{\"colorbar\":{\"outlinewidth\":1,\"tickcolor\":\"rgb(36,36,36)\",\"ticks\":\"outside\"}},\"colorscale\":{\"sequential\":[[0.0,\"#440154\"],[0.1111111111111111,\"#482878\"],[0.2222222222222222,\"#3e4989\"],[0.3333333333333333,\"#31688e\"],[0.4444444444444444,\"#26828e\"],[0.5555555555555556,\"#1f9e89\"],[0.6666666666666666,\"#35b779\"],[0.7777777777777778,\"#6ece58\"],[0.8888888888888888,\"#b5de2b\"],[1.0,\"#fde725\"]],\"sequentialminus\":[[0.0,\"#440154\"],[0.1111111111111111,\"#482878\"],[0.2222222222222222,\"#3e4989\"],[0.3333333333333333,\"#31688e\"],[0.4444444444444444,\"#26828e\"],[0.5555555555555556,\"#1f9e89\"],[0.6666666666666666,\"#35b779\"],[0.7777777777777778,\"#6ece58\"],[0.8888888888888888,\"#b5de2b\"],[1.0,\"#fde725\"]],\"diverging\":[[0.0,\"rgb(103,0,31)\"],[0.1,\"rgb(178,24,43)\"],[0.2,\"rgb(214,96,77)\"],[0.3,\"rgb(244,165,130)\"],[0.4,\"rgb(253,219,199)\"],[0.5,\"rgb(247,247,247)\"],[0.6,\"rgb(209,229,240)\"],[0.7,\"rgb(146,197,222)\"],[0.8,\"rgb(67,147,195)\"],[0.9,\"rgb(33,102,172)\"],[1.0,\"rgb(5,48,97)\"]]},\"xaxis\":{\"gridcolor\":\"rgb(232,232,232)\",\"linecolor\":\"rgb(36,36,36)\",\"showgrid\":false,\"showline\":true,\"ticks\":\"outside\",\"title\":{\"standoff\":15},\"zerolinecolor\":\"rgb(36,36,36)\",\"automargin\":true,\"zeroline\":false},\"yaxis\":{\"gridcolor\":\"rgb(232,232,232)\",\"linecolor\":\"rgb(36,36,36)\",\"showgrid\":false,\"showline\":true,\"ticks\":\"outside\",\"title\":{\"standoff\":15},\"zerolinecolor\":\"rgb(36,36,36)\",\"automargin\":true,\"zeroline\":false},\"scene\":{\"xaxis\":{\"backgroundcolor\":\"white\",\"gridcolor\":\"rgb(232,232,232)\",\"linecolor\":\"rgb(36,36,36)\",\"showbackground\":true,\"showgrid\":false,\"showline\":true,\"ticks\":\"outside\",\"zerolinecolor\":\"rgb(36,36,36)\",\"gridwidth\":2,\"zeroline\":false},\"yaxis\":{\"backgroundcolor\":\"white\",\"gridcolor\":\"rgb(232,232,232)\",\"linecolor\":\"rgb(36,36,36)\",\"showbackground\":true,\"showgrid\":false,\"showline\":true,\"ticks\":\"outside\",\"zerolinecolor\":\"rgb(36,36,36)\",\"gridwidth\":2,\"zeroline\":false},\"zaxis\":{\"backgroundcolor\":\"white\",\"gridcolor\":\"rgb(232,232,232)\",\"linecolor\":\"rgb(36,36,36)\",\"showbackground\":true,\"showgrid\":false,\"showline\":true,\"ticks\":\"outside\",\"zerolinecolor\":\"rgb(36,36,36)\",\"gridwidth\":2,\"zeroline\":false}},\"shapedefaults\":{\"fillcolor\":\"black\",\"line\":{\"width\":0},\"opacity\":0.3},\"annotationdefaults\":{\"arrowhead\":0,\"arrowwidth\":1},\"geo\":{\"bgcolor\":\"white\",\"landcolor\":\"white\",\"subunitcolor\":\"white\",\"showland\":true,\"showlakes\":true,\"lakecolor\":\"white\"},\"title\":{\"x\":0.05},\"mapbox\":{\"style\":\"light\"}}},\"xaxis\":{\"anchor\":\"y\",\"domain\":[0.0,1.0],\"title\":{\"text\":\"share of queries, %\"}},\"yaxis\":{\"anchor\":\"x\",\"domain\":[0.0,1.0],\"title\":{\"text\":\"\"}},\"legend\":{\"title\":{\"text\":\"golden_output_valid\"},\"tracegroupgap\":0},\"title\":{\"text\":\"\\u003cb\\u003eLLM SQL Agent evaluation\\u003c\\u002fb\\u003e: query validity\"},\"barmode\":\"relative\"},                        {\"responsive\": true}                    ).then(function(){\n",
       "                            \n",
       "var gd = document.getElementById('1dca804d-df0b-4bfe-8822-f0dbbec6235a');\n",
       "var x = new MutationObserver(function (mutations, observer) {{\n",
       "        var display = window.getComputedStyle(gd).display;\n",
       "        if (!display || display === 'none') {{\n",
       "            console.log([gd, 'removed!']);\n",
       "            Plotly.purge(gd);\n",
       "            observer.disconnect();\n",
       "        }}\n",
       "}});\n",
       "\n",
       "// Listen for the removal of the full notebook cells\n",
       "var notebookContainer = gd.closest('#notebook-container');\n",
       "if (notebookContainer) {{\n",
       "    x.observe(notebookContainer, {childList: true});\n",
       "}}\n",
       "\n",
       "// Listen for the clearing of the current output cell\n",
       "var outputEl = gd.closest('.output');\n",
       "if (outputEl) {{\n",
       "    x.observe(outputEl, {childList: true});\n",
       "}}\n",
       "\n",
       "                        })                };                });            </script>        </div>"
      ]
     },
     "metadata": {},
     "output_type": "display_data"
    },
    {
     "data": {
      "application/vnd.plotly.v1+json": {
       "config": {
        "plotlyServerURL": "https://plot.ly"
       },
       "data": [
        {
         "alignmentgroup": "True",
         "hovertemplate": "accuracy=%{y}<br>share of queries, %=%{x}<extra></extra>",
         "legendgroup": "share",
         "marker": {
          "color": "#0077B5",
          "pattern": {
           "shape": ""
          }
         },
         "name": "share",
         "offsetgroup": "share",
         "orientation": "h",
         "showlegend": true,
         "textposition": "auto",
         "texttemplate": "%{x:.1f}",
         "type": "bar",
         "x": [
          70,
          30
         ],
         "xaxis": "x",
         "y": [
          "correct",
          "incorrect"
         ],
         "yaxis": "y"
        }
       ],
       "layout": {
        "autosize": true,
        "barmode": "relative",
        "legend": {
         "title": {
          "text": "accuracy"
         },
         "tracegroupgap": 0
        },
        "showlegend": false,
        "template": {
         "data": {
          "bar": [
           {
            "error_x": {
             "color": "rgb(36,36,36)"
            },
            "error_y": {
             "color": "rgb(36,36,36)"
            },
            "marker": {
             "line": {
              "color": "white",
              "width": 0.5
             },
             "pattern": {
              "fillmode": "overlay",
              "size": 10,
              "solidity": 0.2
             }
            },
            "type": "bar"
           }
          ],
          "barpolar": [
           {
            "marker": {
             "line": {
              "color": "white",
              "width": 0.5
             },
             "pattern": {
              "fillmode": "overlay",
              "size": 10,
              "solidity": 0.2
             }
            },
            "type": "barpolar"
           }
          ],
          "carpet": [
           {
            "aaxis": {
             "endlinecolor": "rgb(36,36,36)",
             "gridcolor": "white",
             "linecolor": "white",
             "minorgridcolor": "white",
             "startlinecolor": "rgb(36,36,36)"
            },
            "baxis": {
             "endlinecolor": "rgb(36,36,36)",
             "gridcolor": "white",
             "linecolor": "white",
             "minorgridcolor": "white",
             "startlinecolor": "rgb(36,36,36)"
            },
            "type": "carpet"
           }
          ],
          "choropleth": [
           {
            "colorbar": {
             "outlinewidth": 1,
             "tickcolor": "rgb(36,36,36)",
             "ticks": "outside"
            },
            "type": "choropleth"
           }
          ],
          "contour": [
           {
            "colorbar": {
             "outlinewidth": 1,
             "tickcolor": "rgb(36,36,36)",
             "ticks": "outside"
            },
            "colorscale": [
             [
              0,
              "#440154"
             ],
             [
              0.1111111111111111,
              "#482878"
             ],
             [
              0.2222222222222222,
              "#3e4989"
             ],
             [
              0.3333333333333333,
              "#31688e"
             ],
             [
              0.4444444444444444,
              "#26828e"
             ],
             [
              0.5555555555555556,
              "#1f9e89"
             ],
             [
              0.6666666666666666,
              "#35b779"
             ],
             [
              0.7777777777777778,
              "#6ece58"
             ],
             [
              0.8888888888888888,
              "#b5de2b"
             ],
             [
              1,
              "#fde725"
             ]
            ],
            "type": "contour"
           }
          ],
          "contourcarpet": [
           {
            "colorbar": {
             "outlinewidth": 1,
             "tickcolor": "rgb(36,36,36)",
             "ticks": "outside"
            },
            "type": "contourcarpet"
           }
          ],
          "heatmap": [
           {
            "colorbar": {
             "outlinewidth": 1,
             "tickcolor": "rgb(36,36,36)",
             "ticks": "outside"
            },
            "colorscale": [
             [
              0,
              "#440154"
             ],
             [
              0.1111111111111111,
              "#482878"
             ],
             [
              0.2222222222222222,
              "#3e4989"
             ],
             [
              0.3333333333333333,
              "#31688e"
             ],
             [
              0.4444444444444444,
              "#26828e"
             ],
             [
              0.5555555555555556,
              "#1f9e89"
             ],
             [
              0.6666666666666666,
              "#35b779"
             ],
             [
              0.7777777777777778,
              "#6ece58"
             ],
             [
              0.8888888888888888,
              "#b5de2b"
             ],
             [
              1,
              "#fde725"
             ]
            ],
            "type": "heatmap"
           }
          ],
          "heatmapgl": [
           {
            "colorbar": {
             "outlinewidth": 1,
             "tickcolor": "rgb(36,36,36)",
             "ticks": "outside"
            },
            "colorscale": [
             [
              0,
              "#440154"
             ],
             [
              0.1111111111111111,
              "#482878"
             ],
             [
              0.2222222222222222,
              "#3e4989"
             ],
             [
              0.3333333333333333,
              "#31688e"
             ],
             [
              0.4444444444444444,
              "#26828e"
             ],
             [
              0.5555555555555556,
              "#1f9e89"
             ],
             [
              0.6666666666666666,
              "#35b779"
             ],
             [
              0.7777777777777778,
              "#6ece58"
             ],
             [
              0.8888888888888888,
              "#b5de2b"
             ],
             [
              1,
              "#fde725"
             ]
            ],
            "type": "heatmapgl"
           }
          ],
          "histogram": [
           {
            "marker": {
             "line": {
              "color": "white",
              "width": 0.6
             }
            },
            "type": "histogram"
           }
          ],
          "histogram2d": [
           {
            "colorbar": {
             "outlinewidth": 1,
             "tickcolor": "rgb(36,36,36)",
             "ticks": "outside"
            },
            "colorscale": [
             [
              0,
              "#440154"
             ],
             [
              0.1111111111111111,
              "#482878"
             ],
             [
              0.2222222222222222,
              "#3e4989"
             ],
             [
              0.3333333333333333,
              "#31688e"
             ],
             [
              0.4444444444444444,
              "#26828e"
             ],
             [
              0.5555555555555556,
              "#1f9e89"
             ],
             [
              0.6666666666666666,
              "#35b779"
             ],
             [
              0.7777777777777778,
              "#6ece58"
             ],
             [
              0.8888888888888888,
              "#b5de2b"
             ],
             [
              1,
              "#fde725"
             ]
            ],
            "type": "histogram2d"
           }
          ],
          "histogram2dcontour": [
           {
            "colorbar": {
             "outlinewidth": 1,
             "tickcolor": "rgb(36,36,36)",
             "ticks": "outside"
            },
            "colorscale": [
             [
              0,
              "#440154"
             ],
             [
              0.1111111111111111,
              "#482878"
             ],
             [
              0.2222222222222222,
              "#3e4989"
             ],
             [
              0.3333333333333333,
              "#31688e"
             ],
             [
              0.4444444444444444,
              "#26828e"
             ],
             [
              0.5555555555555556,
              "#1f9e89"
             ],
             [
              0.6666666666666666,
              "#35b779"
             ],
             [
              0.7777777777777778,
              "#6ece58"
             ],
             [
              0.8888888888888888,
              "#b5de2b"
             ],
             [
              1,
              "#fde725"
             ]
            ],
            "type": "histogram2dcontour"
           }
          ],
          "mesh3d": [
           {
            "colorbar": {
             "outlinewidth": 1,
             "tickcolor": "rgb(36,36,36)",
             "ticks": "outside"
            },
            "type": "mesh3d"
           }
          ],
          "parcoords": [
           {
            "line": {
             "colorbar": {
              "outlinewidth": 1,
              "tickcolor": "rgb(36,36,36)",
              "ticks": "outside"
             }
            },
            "type": "parcoords"
           }
          ],
          "pie": [
           {
            "automargin": true,
            "type": "pie"
           }
          ],
          "scatter": [
           {
            "fillpattern": {
             "fillmode": "overlay",
             "size": 10,
             "solidity": 0.2
            },
            "type": "scatter"
           }
          ],
          "scatter3d": [
           {
            "line": {
             "colorbar": {
              "outlinewidth": 1,
              "tickcolor": "rgb(36,36,36)",
              "ticks": "outside"
             }
            },
            "marker": {
             "colorbar": {
              "outlinewidth": 1,
              "tickcolor": "rgb(36,36,36)",
              "ticks": "outside"
             }
            },
            "type": "scatter3d"
           }
          ],
          "scattercarpet": [
           {
            "marker": {
             "colorbar": {
              "outlinewidth": 1,
              "tickcolor": "rgb(36,36,36)",
              "ticks": "outside"
             }
            },
            "type": "scattercarpet"
           }
          ],
          "scattergeo": [
           {
            "marker": {
             "colorbar": {
              "outlinewidth": 1,
              "tickcolor": "rgb(36,36,36)",
              "ticks": "outside"
             }
            },
            "type": "scattergeo"
           }
          ],
          "scattergl": [
           {
            "marker": {
             "colorbar": {
              "outlinewidth": 1,
              "tickcolor": "rgb(36,36,36)",
              "ticks": "outside"
             }
            },
            "type": "scattergl"
           }
          ],
          "scattermapbox": [
           {
            "marker": {
             "colorbar": {
              "outlinewidth": 1,
              "tickcolor": "rgb(36,36,36)",
              "ticks": "outside"
             }
            },
            "type": "scattermapbox"
           }
          ],
          "scatterpolar": [
           {
            "marker": {
             "colorbar": {
              "outlinewidth": 1,
              "tickcolor": "rgb(36,36,36)",
              "ticks": "outside"
             }
            },
            "type": "scatterpolar"
           }
          ],
          "scatterpolargl": [
           {
            "marker": {
             "colorbar": {
              "outlinewidth": 1,
              "tickcolor": "rgb(36,36,36)",
              "ticks": "outside"
             }
            },
            "type": "scatterpolargl"
           }
          ],
          "scatterternary": [
           {
            "marker": {
             "colorbar": {
              "outlinewidth": 1,
              "tickcolor": "rgb(36,36,36)",
              "ticks": "outside"
             }
            },
            "type": "scatterternary"
           }
          ],
          "surface": [
           {
            "colorbar": {
             "outlinewidth": 1,
             "tickcolor": "rgb(36,36,36)",
             "ticks": "outside"
            },
            "colorscale": [
             [
              0,
              "#440154"
             ],
             [
              0.1111111111111111,
              "#482878"
             ],
             [
              0.2222222222222222,
              "#3e4989"
             ],
             [
              0.3333333333333333,
              "#31688e"
             ],
             [
              0.4444444444444444,
              "#26828e"
             ],
             [
              0.5555555555555556,
              "#1f9e89"
             ],
             [
              0.6666666666666666,
              "#35b779"
             ],
             [
              0.7777777777777778,
              "#6ece58"
             ],
             [
              0.8888888888888888,
              "#b5de2b"
             ],
             [
              1,
              "#fde725"
             ]
            ],
            "type": "surface"
           }
          ],
          "table": [
           {
            "cells": {
             "fill": {
              "color": "rgb(237,237,237)"
             },
             "line": {
              "color": "white"
             }
            },
            "header": {
             "fill": {
              "color": "rgb(217,217,217)"
             },
             "line": {
              "color": "white"
             }
            },
            "type": "table"
           }
          ]
         },
         "layout": {
          "annotationdefaults": {
           "arrowhead": 0,
           "arrowwidth": 1
          },
          "autotypenumbers": "strict",
          "coloraxis": {
           "colorbar": {
            "outlinewidth": 1,
            "tickcolor": "rgb(36,36,36)",
            "ticks": "outside"
           }
          },
          "colorscale": {
           "diverging": [
            [
             0,
             "rgb(103,0,31)"
            ],
            [
             0.1,
             "rgb(178,24,43)"
            ],
            [
             0.2,
             "rgb(214,96,77)"
            ],
            [
             0.3,
             "rgb(244,165,130)"
            ],
            [
             0.4,
             "rgb(253,219,199)"
            ],
            [
             0.5,
             "rgb(247,247,247)"
            ],
            [
             0.6,
             "rgb(209,229,240)"
            ],
            [
             0.7,
             "rgb(146,197,222)"
            ],
            [
             0.8,
             "rgb(67,147,195)"
            ],
            [
             0.9,
             "rgb(33,102,172)"
            ],
            [
             1,
             "rgb(5,48,97)"
            ]
           ],
           "sequential": [
            [
             0,
             "#440154"
            ],
            [
             0.1111111111111111,
             "#482878"
            ],
            [
             0.2222222222222222,
             "#3e4989"
            ],
            [
             0.3333333333333333,
             "#31688e"
            ],
            [
             0.4444444444444444,
             "#26828e"
            ],
            [
             0.5555555555555556,
             "#1f9e89"
            ],
            [
             0.6666666666666666,
             "#35b779"
            ],
            [
             0.7777777777777778,
             "#6ece58"
            ],
            [
             0.8888888888888888,
             "#b5de2b"
            ],
            [
             1,
             "#fde725"
            ]
           ],
           "sequentialminus": [
            [
             0,
             "#440154"
            ],
            [
             0.1111111111111111,
             "#482878"
            ],
            [
             0.2222222222222222,
             "#3e4989"
            ],
            [
             0.3333333333333333,
             "#31688e"
            ],
            [
             0.4444444444444444,
             "#26828e"
            ],
            [
             0.5555555555555556,
             "#1f9e89"
            ],
            [
             0.6666666666666666,
             "#35b779"
            ],
            [
             0.7777777777777778,
             "#6ece58"
            ],
            [
             0.8888888888888888,
             "#b5de2b"
            ],
            [
             1,
             "#fde725"
            ]
           ]
          },
          "colorway": [
           "#1F77B4",
           "#FF7F0E",
           "#2CA02C",
           "#D62728",
           "#9467BD",
           "#8C564B",
           "#E377C2",
           "#7F7F7F",
           "#BCBD22",
           "#17BECF"
          ],
          "font": {
           "color": "rgb(36,36,36)"
          },
          "geo": {
           "bgcolor": "white",
           "lakecolor": "white",
           "landcolor": "white",
           "showlakes": true,
           "showland": true,
           "subunitcolor": "white"
          },
          "hoverlabel": {
           "align": "left"
          },
          "hovermode": "closest",
          "mapbox": {
           "style": "light"
          },
          "paper_bgcolor": "white",
          "plot_bgcolor": "white",
          "polar": {
           "angularaxis": {
            "gridcolor": "rgb(232,232,232)",
            "linecolor": "rgb(36,36,36)",
            "showgrid": false,
            "showline": true,
            "ticks": "outside"
           },
           "bgcolor": "white",
           "radialaxis": {
            "gridcolor": "rgb(232,232,232)",
            "linecolor": "rgb(36,36,36)",
            "showgrid": false,
            "showline": true,
            "ticks": "outside"
           }
          },
          "scene": {
           "xaxis": {
            "backgroundcolor": "white",
            "gridcolor": "rgb(232,232,232)",
            "gridwidth": 2,
            "linecolor": "rgb(36,36,36)",
            "showbackground": true,
            "showgrid": false,
            "showline": true,
            "ticks": "outside",
            "zeroline": false,
            "zerolinecolor": "rgb(36,36,36)"
           },
           "yaxis": {
            "backgroundcolor": "white",
            "gridcolor": "rgb(232,232,232)",
            "gridwidth": 2,
            "linecolor": "rgb(36,36,36)",
            "showbackground": true,
            "showgrid": false,
            "showline": true,
            "ticks": "outside",
            "zeroline": false,
            "zerolinecolor": "rgb(36,36,36)"
           },
           "zaxis": {
            "backgroundcolor": "white",
            "gridcolor": "rgb(232,232,232)",
            "gridwidth": 2,
            "linecolor": "rgb(36,36,36)",
            "showbackground": true,
            "showgrid": false,
            "showline": true,
            "ticks": "outside",
            "zeroline": false,
            "zerolinecolor": "rgb(36,36,36)"
           }
          },
          "shapedefaults": {
           "fillcolor": "black",
           "line": {
            "width": 0
           },
           "opacity": 0.3
          },
          "ternary": {
           "aaxis": {
            "gridcolor": "rgb(232,232,232)",
            "linecolor": "rgb(36,36,36)",
            "showgrid": false,
            "showline": true,
            "ticks": "outside"
           },
           "baxis": {
            "gridcolor": "rgb(232,232,232)",
            "linecolor": "rgb(36,36,36)",
            "showgrid": false,
            "showline": true,
            "ticks": "outside"
           },
           "bgcolor": "white",
           "caxis": {
            "gridcolor": "rgb(232,232,232)",
            "linecolor": "rgb(36,36,36)",
            "showgrid": false,
            "showline": true,
            "ticks": "outside"
           }
          },
          "title": {
           "x": 0.05
          },
          "xaxis": {
           "automargin": true,
           "gridcolor": "rgb(232,232,232)",
           "linecolor": "rgb(36,36,36)",
           "showgrid": false,
           "showline": true,
           "ticks": "outside",
           "title": {
            "standoff": 15
           },
           "zeroline": false,
           "zerolinecolor": "rgb(36,36,36)"
          },
          "yaxis": {
           "automargin": true,
           "gridcolor": "rgb(232,232,232)",
           "linecolor": "rgb(36,36,36)",
           "showgrid": false,
           "showline": true,
           "ticks": "outside",
           "title": {
            "standoff": 15
           },
           "zeroline": false,
           "zerolinecolor": "rgb(36,36,36)"
          }
         }
        },
        "title": {
         "text": "<b>LLM SQL Agent evaluation</b>: query accuracy"
        },
        "xaxis": {
         "anchor": "y",
         "autorange": true,
         "domain": [
          0,
          1
         ],
         "range": [
          0,
          73.6842105263158
         ],
         "title": {
          "text": "share of queries, %"
         },
         "type": "linear"
        },
        "yaxis": {
         "anchor": "x",
         "autorange": true,
         "domain": [
          0,
          1
         ],
         "range": [
          -0.5,
          1.5
         ],
         "title": {
          "text": "accuracy"
         },
         "type": "category"
        }
       }
      },
      "image/png": "[encoded data removed]",
      "text/html": [
       "<div>                            <div id=\"0dc5ed0d-6460-437f-b3e0-12eb20e14c68\" class=\"plotly-graph-div\" style=\"height:525px; width:100%;\"></div>            <script type=\"text/javascript\">                require([\"plotly\"], function(Plotly) {                    window.PLOTLYENV=window.PLOTLYENV || {};                                    if (document.getElementById(\"0dc5ed0d-6460-437f-b3e0-12eb20e14c68\")) {                    Plotly.newPlot(                        \"0dc5ed0d-6460-437f-b3e0-12eb20e14c68\",                        [{\"alignmentgroup\":\"True\",\"hovertemplate\":\"accuracy=%{y}\\u003cbr\\u003eshare of queries, %=%{x}\\u003cextra\\u003e\\u003c\\u002fextra\\u003e\",\"legendgroup\":\"share\",\"marker\":{\"color\":\"#0077B5\",\"pattern\":{\"shape\":\"\"}},\"name\":\"share\",\"offsetgroup\":\"share\",\"orientation\":\"h\",\"showlegend\":true,\"textposition\":\"auto\",\"texttemplate\":\"%{x:.1f}\",\"x\":[70.0,30.0],\"xaxis\":\"x\",\"y\":[\"correct\",\"incorrect\"],\"yaxis\":\"y\",\"type\":\"bar\"}],                        {\"template\":{\"data\":{\"histogram2dcontour\":[{\"type\":\"histogram2dcontour\",\"colorbar\":{\"outlinewidth\":1,\"tickcolor\":\"rgb(36,36,36)\",\"ticks\":\"outside\"},\"colorscale\":[[0.0,\"#440154\"],[0.1111111111111111,\"#482878\"],[0.2222222222222222,\"#3e4989\"],[0.3333333333333333,\"#31688e\"],[0.4444444444444444,\"#26828e\"],[0.5555555555555556,\"#1f9e89\"],[0.6666666666666666,\"#35b779\"],[0.7777777777777778,\"#6ece58\"],[0.8888888888888888,\"#b5de2b\"],[1.0,\"#fde725\"]]}],\"choropleth\":[{\"type\":\"choropleth\",\"colorbar\":{\"outlinewidth\":1,\"tickcolor\":\"rgb(36,36,36)\",\"ticks\":\"outside\"}}],\"histogram2d\":[{\"type\":\"histogram2d\",\"colorbar\":{\"outlinewidth\":1,\"tickcolor\":\"rgb(36,36,36)\",\"ticks\":\"outside\"},\"colorscale\":[[0.0,\"#440154\"],[0.1111111111111111,\"#482878\"],[0.2222222222222222,\"#3e4989\"],[0.3333333333333333,\"#31688e\"],[0.4444444444444444,\"#26828e\"],[0.5555555555555556,\"#1f9e89\"],[0.6666666666666666,\"#35b779\"],[0.7777777777777778,\"#6ece58\"],[0.8888888888888888,\"#b5de2b\"],[1.0,\"#fde725\"]]}],\"heatmap\":[{\"type\":\"heatmap\",\"colorbar\":{\"outlinewidth\":1,\"tickcolor\":\"rgb(36,36,36)\",\"ticks\":\"outside\"},\"colorscale\":[[0.0,\"#440154\"],[0.1111111111111111,\"#482878\"],[0.2222222222222222,\"#3e4989\"],[0.3333333333333333,\"#31688e\"],[0.4444444444444444,\"#26828e\"],[0.5555555555555556,\"#1f9e89\"],[0.6666666666666666,\"#35b779\"],[0.7777777777777778,\"#6ece58\"],[0.8888888888888888,\"#b5de2b\"],[1.0,\"#fde725\"]]}],\"heatmapgl\":[{\"type\":\"heatmapgl\",\"colorbar\":{\"outlinewidth\":1,\"tickcolor\":\"rgb(36,36,36)\",\"ticks\":\"outside\"},\"colorscale\":[[0.0,\"#440154\"],[0.1111111111111111,\"#482878\"],[0.2222222222222222,\"#3e4989\"],[0.3333333333333333,\"#31688e\"],[0.4444444444444444,\"#26828e\"],[0.5555555555555556,\"#1f9e89\"],[0.6666666666666666,\"#35b779\"],[0.7777777777777778,\"#6ece58\"],[0.8888888888888888,\"#b5de2b\"],[1.0,\"#fde725\"]]}],\"contourcarpet\":[{\"type\":\"contourcarpet\",\"colorbar\":{\"outlinewidth\":1,\"tickcolor\":\"rgb(36,36,36)\",\"ticks\":\"outside\"}}],\"contour\":[{\"type\":\"contour\",\"colorbar\":{\"outlinewidth\":1,\"tickcolor\":\"rgb(36,36,36)\",\"ticks\":\"outside\"},\"colorscale\":[[0.0,\"#440154\"],[0.1111111111111111,\"#482878\"],[0.2222222222222222,\"#3e4989\"],[0.3333333333333333,\"#31688e\"],[0.4444444444444444,\"#26828e\"],[0.5555555555555556,\"#1f9e89\"],[0.6666666666666666,\"#35b779\"],[0.7777777777777778,\"#6ece58\"],[0.8888888888888888,\"#b5de2b\"],[1.0,\"#fde725\"]]}],\"surface\":[{\"type\":\"surface\",\"colorbar\":{\"outlinewidth\":1,\"tickcolor\":\"rgb(36,36,36)\",\"ticks\":\"outside\"},\"colorscale\":[[0.0,\"#440154\"],[0.1111111111111111,\"#482878\"],[0.2222222222222222,\"#3e4989\"],[0.3333333333333333,\"#31688e\"],[0.4444444444444444,\"#26828e\"],[0.5555555555555556,\"#1f9e89\"],[0.6666666666666666,\"#35b779\"],[0.7777777777777778,\"#6ece58\"],[0.8888888888888888,\"#b5de2b\"],[1.0,\"#fde725\"]]}],\"mesh3d\":[{\"type\":\"mesh3d\",\"colorbar\":{\"outlinewidth\":1,\"tickcolor\":\"rgb(36,36,36)\",\"ticks\":\"outside\"}}],\"scatter\":[{\"fillpattern\":{\"fillmode\":\"overlay\",\"size\":10,\"solidity\":0.2},\"type\":\"scatter\"}],\"parcoords\":[{\"type\":\"parcoords\",\"line\":{\"colorbar\":{\"outlinewidth\":1,\"tickcolor\":\"rgb(36,36,36)\",\"ticks\":\"outside\"}}}],\"scatterpolargl\":[{\"type\":\"scatterpolargl\",\"marker\":{\"colorbar\":{\"outlinewidth\":1,\"tickcolor\":\"rgb(36,36,36)\",\"ticks\":\"outside\"}}}],\"bar\":[{\"error_x\":{\"color\":\"rgb(36,36,36)\"},\"error_y\":{\"color\":\"rgb(36,36,36)\"},\"marker\":{\"line\":{\"color\":\"white\",\"width\":0.5},\"pattern\":{\"fillmode\":\"overlay\",\"size\":10,\"solidity\":0.2}},\"type\":\"bar\"}],\"scattergeo\":[{\"type\":\"scattergeo\",\"marker\":{\"colorbar\":{\"outlinewidth\":1,\"tickcolor\":\"rgb(36,36,36)\",\"ticks\":\"outside\"}}}],\"scatterpolar\":[{\"type\":\"scatterpolar\",\"marker\":{\"colorbar\":{\"outlinewidth\":1,\"tickcolor\":\"rgb(36,36,36)\",\"ticks\":\"outside\"}}}],\"histogram\":[{\"marker\":{\"line\":{\"color\":\"white\",\"width\":0.6}},\"type\":\"histogram\"}],\"scattergl\":[{\"type\":\"scattergl\",\"marker\":{\"colorbar\":{\"outlinewidth\":1,\"tickcolor\":\"rgb(36,36,36)\",\"ticks\":\"outside\"}}}],\"scatter3d\":[{\"type\":\"scatter3d\",\"line\":{\"colorbar\":{\"outlinewidth\":1,\"tickcolor\":\"rgb(36,36,36)\",\"ticks\":\"outside\"}},\"marker\":{\"colorbar\":{\"outlinewidth\":1,\"tickcolor\":\"rgb(36,36,36)\",\"ticks\":\"outside\"}}}],\"scattermapbox\":[{\"type\":\"scattermapbox\",\"marker\":{\"colorbar\":{\"outlinewidth\":1,\"tickcolor\":\"rgb(36,36,36)\",\"ticks\":\"outside\"}}}],\"scatterternary\":[{\"type\":\"scatterternary\",\"marker\":{\"colorbar\":{\"outlinewidth\":1,\"tickcolor\":\"rgb(36,36,36)\",\"ticks\":\"outside\"}}}],\"scattercarpet\":[{\"type\":\"scattercarpet\",\"marker\":{\"colorbar\":{\"outlinewidth\":1,\"tickcolor\":\"rgb(36,36,36)\",\"ticks\":\"outside\"}}}],\"carpet\":[{\"aaxis\":{\"endlinecolor\":\"rgb(36,36,36)\",\"gridcolor\":\"white\",\"linecolor\":\"white\",\"minorgridcolor\":\"white\",\"startlinecolor\":\"rgb(36,36,36)\"},\"baxis\":{\"endlinecolor\":\"rgb(36,36,36)\",\"gridcolor\":\"white\",\"linecolor\":\"white\",\"minorgridcolor\":\"white\",\"startlinecolor\":\"rgb(36,36,36)\"},\"type\":\"carpet\"}],\"table\":[{\"cells\":{\"fill\":{\"color\":\"rgb(237,237,237)\"},\"line\":{\"color\":\"white\"}},\"header\":{\"fill\":{\"color\":\"rgb(217,217,217)\"},\"line\":{\"color\":\"white\"}},\"type\":\"table\"}],\"barpolar\":[{\"marker\":{\"line\":{\"color\":\"white\",\"width\":0.5},\"pattern\":{\"fillmode\":\"overlay\",\"size\":10,\"solidity\":0.2}},\"type\":\"barpolar\"}],\"pie\":[{\"automargin\":true,\"type\":\"pie\"}]},\"layout\":{\"autotypenumbers\":\"strict\",\"colorway\":[\"#1F77B4\",\"#FF7F0E\",\"#2CA02C\",\"#D62728\",\"#9467BD\",\"#8C564B\",\"#E377C2\",\"#7F7F7F\",\"#BCBD22\",\"#17BECF\"],\"font\":{\"color\":\"rgb(36,36,36)\"},\"hovermode\":\"closest\",\"hoverlabel\":{\"align\":\"left\"},\"paper_bgcolor\":\"white\",\"plot_bgcolor\":\"white\",\"polar\":{\"bgcolor\":\"white\",\"angularaxis\":{\"gridcolor\":\"rgb(232,232,232)\",\"linecolor\":\"rgb(36,36,36)\",\"showgrid\":false,\"showline\":true,\"ticks\":\"outside\"},\"radialaxis\":{\"gridcolor\":\"rgb(232,232,232)\",\"linecolor\":\"rgb(36,36,36)\",\"showgrid\":false,\"showline\":true,\"ticks\":\"outside\"}},\"ternary\":{\"bgcolor\":\"white\",\"aaxis\":{\"gridcolor\":\"rgb(232,232,232)\",\"linecolor\":\"rgb(36,36,36)\",\"showgrid\":false,\"showline\":true,\"ticks\":\"outside\"},\"baxis\":{\"gridcolor\":\"rgb(232,232,232)\",\"linecolor\":\"rgb(36,36,36)\",\"showgrid\":false,\"showline\":true,\"ticks\":\"outside\"},\"caxis\":{\"gridcolor\":\"rgb(232,232,232)\",\"linecolor\":\"rgb(36,36,36)\",\"showgrid\":false,\"showline\":true,\"ticks\":\"outside\"}},\"coloraxis\":{\"colorbar\":{\"outlinewidth\":1,\"tickcolor\":\"rgb(36,36,36)\",\"ticks\":\"outside\"}},\"colorscale\":{\"sequential\":[[0.0,\"#440154\"],[0.1111111111111111,\"#482878\"],[0.2222222222222222,\"#3e4989\"],[0.3333333333333333,\"#31688e\"],[0.4444444444444444,\"#26828e\"],[0.5555555555555556,\"#1f9e89\"],[0.6666666666666666,\"#35b779\"],[0.7777777777777778,\"#6ece58\"],[0.8888888888888888,\"#b5de2b\"],[1.0,\"#fde725\"]],\"sequentialminus\":[[0.0,\"#440154\"],[0.1111111111111111,\"#482878\"],[0.2222222222222222,\"#3e4989\"],[0.3333333333333333,\"#31688e\"],[0.4444444444444444,\"#26828e\"],[0.5555555555555556,\"#1f9e89\"],[0.6666666666666666,\"#35b779\"],[0.7777777777777778,\"#6ece58\"],[0.8888888888888888,\"#b5de2b\"],[1.0,\"#fde725\"]],\"diverging\":[[0.0,\"rgb(103,0,31)\"],[0.1,\"rgb(178,24,43)\"],[0.2,\"rgb(214,96,77)\"],[0.3,\"rgb(244,165,130)\"],[0.4,\"rgb(253,219,199)\"],[0.5,\"rgb(247,247,247)\"],[0.6,\"rgb(209,229,240)\"],[0.7,\"rgb(146,197,222)\"],[0.8,\"rgb(67,147,195)\"],[0.9,\"rgb(33,102,172)\"],[1.0,\"rgb(5,48,97)\"]]},\"xaxis\":{\"gridcolor\":\"rgb(232,232,232)\",\"linecolor\":\"rgb(36,36,36)\",\"showgrid\":false,\"showline\":true,\"ticks\":\"outside\",\"title\":{\"standoff\":15},\"zerolinecolor\":\"rgb(36,36,36)\",\"automargin\":true,\"zeroline\":false},\"yaxis\":{\"gridcolor\":\"rgb(232,232,232)\",\"linecolor\":\"rgb(36,36,36)\",\"showgrid\":false,\"showline\":true,\"ticks\":\"outside\",\"title\":{\"standoff\":15},\"zerolinecolor\":\"rgb(36,36,36)\",\"automargin\":true,\"zeroline\":false},\"scene\":{\"xaxis\":{\"backgroundcolor\":\"white\",\"gridcolor\":\"rgb(232,232,232)\",\"linecolor\":\"rgb(36,36,36)\",\"showbackground\":true,\"showgrid\":false,\"showline\":true,\"ticks\":\"outside\",\"zerolinecolor\":\"rgb(36,36,36)\",\"gridwidth\":2,\"zeroline\":false},\"yaxis\":{\"backgroundcolor\":\"white\",\"gridcolor\":\"rgb(232,232,232)\",\"linecolor\":\"rgb(36,36,36)\",\"showbackground\":true,\"showgrid\":false,\"showline\":true,\"ticks\":\"outside\",\"zerolinecolor\":\"rgb(36,36,36)\",\"gridwidth\":2,\"zeroline\":false},\"zaxis\":{\"backgroundcolor\":\"white\",\"gridcolor\":\"rgb(232,232,232)\",\"linecolor\":\"rgb(36,36,36)\",\"showbackground\":true,\"showgrid\":false,\"showline\":true,\"ticks\":\"outside\",\"zerolinecolor\":\"rgb(36,36,36)\",\"gridwidth\":2,\"zeroline\":false}},\"shapedefaults\":{\"fillcolor\":\"black\",\"line\":{\"width\":0},\"opacity\":0.3},\"annotationdefaults\":{\"arrowhead\":0,\"arrowwidth\":1},\"geo\":{\"bgcolor\":\"white\",\"landcolor\":\"white\",\"subunitcolor\":\"white\",\"showland\":true,\"showlakes\":true,\"lakecolor\":\"white\"},\"title\":{\"x\":0.05},\"mapbox\":{\"style\":\"light\"}}},\"xaxis\":{\"anchor\":\"y\",\"domain\":[0.0,1.0],\"title\":{\"text\":\"share of queries, %\"}},\"yaxis\":{\"anchor\":\"x\",\"domain\":[0.0,1.0],\"title\":{\"text\":\"accuracy\"}},\"legend\":{\"title\":{\"text\":\"accuracy\"},\"tracegroupgap\":0},\"title\":{\"text\":\"\\u003cb\\u003eLLM SQL Agent evaluation\\u003c\\u002fb\\u003e: query accuracy\"},\"barmode\":\"relative\",\"showlegend\":false},                        {\"responsive\": true}                    ).then(function(){\n",
       "                            \n",
       "var gd = document.getElementById('0dc5ed0d-6460-437f-b3e0-12eb20e14c68');\n",
       "var x = new MutationObserver(function (mutations, observer) {{\n",
       "        var display = window.getComputedStyle(gd).display;\n",
       "        if (!display || display === 'none') {{\n",
       "            console.log([gd, 'removed!']);\n",
       "            Plotly.purge(gd);\n",
       "            observer.disconnect();\n",
       "        }}\n",
       "}});\n",
       "\n",
       "// Listen for the removal of the full notebook cells\n",
       "var notebookContainer = gd.closest('#notebook-container');\n",
       "if (notebookContainer) {{\n",
       "    x.observe(notebookContainer, {childList: true});\n",
       "}}\n",
       "\n",
       "// Listen for the clearing of the current output cell\n",
       "var outputEl = gd.closest('.output');\n",
       "if (outputEl) {{\n",
       "    x.observe(outputEl, {childList: true});\n",
       "}}\n",
       "\n",
       "                        })                };                });            </script>        </div>"
      ]
     },
     "metadata": {},
     "output_type": "display_data"
    }
   ],
   "source": [
    "rag_refl_eval_df = evaluate_sql_agent(generate_query_rag_with_reflection, golden_df)"
   ]
  },
  {
   "cell_type": "code",
   "execution_count": null,
   "id": "b37ab9f8-c59c-423d-a40f-990c9293e882",
   "metadata": {},
   "outputs": [],
   "source": []
  }
 ],
 "metadata": {
  "kernelspec": {
   "display_name": "Python 3 (ipykernel)",
   "language": "python",
   "name": "python3"
  },
  "language_info": {
   "codemirror_mode": {
    "name": "ipython",
    "version": 3
   },
   "file_extension": ".py",
   "mimetype": "text/x-python",
   "name": "python",
   "nbconvert_exporter": "python",
   "pygments_lexer": "ipython3",
   "version": "3.11.6"
  }
 },
 "nbformat": 4,
 "nbformat_minor": 5
}
