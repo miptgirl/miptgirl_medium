{
 "cells": [
  {
   "cell_type": "code",
   "execution_count": 1,
   "id": "2bffc7b8-9a3e-47b7-a355-391e2474ee1a",
   "metadata": {},
   "outputs": [],
   "source": [
    "import json\n",
    "import os\n",
    "\n",
    "with open('/Users/marie/Documents/github/config.json', 'r') as f:\n",
    "    config = json.load(f)\n",
    "\n",
    "    for key in config:\n",
    "        os.environ[key] = config[key]"
   ]
  },
  {
   "cell_type": "code",
   "execution_count": 2,
   "id": "9579abf4-b40a-4ec5-82e2-4e02e89a2935",
   "metadata": {},
   "outputs": [],
   "source": [
    "from langchain.agents import create_sql_agent\n",
    "from langchain.agents.agent_toolkits import SQLDatabaseToolkit\n",
    "from langchain.agents.agent_types import AgentType\n",
    "from langchain.llms.openai import OpenAI\n",
    "from langchain.chat_models import ChatOpenAI\n",
    "from langchain.sql_database import SQLDatabase"
   ]
  },
  {
   "cell_type": "code",
   "execution_count": 3,
   "id": "8bc6b173-b652-4b7b-9f28-411dc4bd438f",
   "metadata": {},
   "outputs": [],
   "source": [
    "# ! pip install clickhouse-sqlalchemy"
   ]
  },
  {
   "cell_type": "code",
   "execution_count": 8,
   "id": "42f58098-f274-47c1-9df7-2639c339b22d",
   "metadata": {},
   "outputs": [],
   "source": [
    "uri = 'clickhouse+native://localhost/ecommerce'\n",
    "db = SQLDatabase.from_uri(uri)\n",
    "toolkit = SQLDatabaseToolkit(db=db, llm=OpenAI(temperature=0))"
   ]
  },
  {
   "cell_type": "code",
   "execution_count": 9,
   "id": "ff9abd31-a655-4e9e-b72d-e96d4c4c3c7c",
   "metadata": {},
   "outputs": [
    {
     "data": {
      "text/plain": [
       "['sessions', 'users']"
      ]
     },
     "execution_count": 9,
     "metadata": {},
     "output_type": "execute_result"
    }
   ],
   "source": [
    "db.get_usable_table_names()"
   ]
  },
  {
   "cell_type": "code",
   "execution_count": 10,
   "id": "7fcc04a3-a7d0-4ee9-96c8-425aa90f8325",
   "metadata": {},
   "outputs": [
    {
     "data": {
      "text/plain": [
       "'[(1,)]'"
      ]
     },
     "execution_count": 10,
     "metadata": {},
     "output_type": "execute_result"
    }
   ],
   "source": [
    "db.run('SELECT 1')"
   ]
  },
  {
   "cell_type": "code",
   "execution_count": 11,
   "id": "b38f7b68-3cfb-4916-982b-3e90e1e70137",
   "metadata": {},
   "outputs": [
    {
     "data": {
      "text/plain": [
       "'[(111469,)]'"
      ]
     },
     "execution_count": 11,
     "metadata": {},
     "output_type": "execute_result"
    }
   ],
   "source": [
    "db.run(\"SELECT COUNT(1) FROM ecommerce.users WHERE (country = 'United Kingdom') AND (is_active = 1)\")"
   ]
  },
  {
   "cell_type": "code",
   "execution_count": 52,
   "id": "f4777fa5-b1ae-4c34-ac20-fa09f2fca914",
   "metadata": {},
   "outputs": [],
   "source": [
    "# toolkit.get_tools()"
   ]
  },
  {
   "cell_type": "code",
   "execution_count": 12,
   "id": "1a8390d0-a57d-40ad-872e-73511b364afe",
   "metadata": {},
   "outputs": [],
   "source": [
    "agent_executor = create_sql_agent(\n",
    "    llm=ChatOpenAI(temperature=0.1, model=\"gpt-3.5-turbo-0613\"),\n",
    "    toolkit=toolkit,\n",
    "    verbose=True,\n",
    "    agent_type=AgentType.OPENAI_FUNCTIONS\n",
    ")"
   ]
  },
  {
   "cell_type": "code",
   "execution_count": 14,
   "id": "ec1309b4-8616-45ea-9563-46de5a74f88b",
   "metadata": {},
   "outputs": [],
   "source": [
    "import langchain\n",
    "langchain.debug = False"
   ]
  },
  {
   "cell_type": "code",
   "execution_count": 15,
   "id": "7cef5282-2b13-4317-82e8-a050253e9c5c",
   "metadata": {
    "scrolled": true
   },
   "outputs": [
    {
     "name": "stdout",
     "output_type": "stream",
     "text": [
      "\n",
      "\n",
      "\u001b[1m> Entering new AgentExecutor chain...\u001b[0m\n",
      "\u001b[32;1m\u001b[1;3m\n",
      "Invoking: `sql_db_list_tables` with ``\n",
      "\n",
      "\n",
      "\u001b[0m\u001b[38;5;200m\u001b[1;3msessions, users\u001b[0m\u001b[32;1m\u001b[1;3m\n",
      "Invoking: `sql_db_schema` with `users`\n",
      "\n",
      "\n",
      "\u001b[0m\u001b[33;1m\u001b[1;3m\n",
      "CREATE TABLE users (\n",
      "\tuser_id UInt64, \n",
      "\tcountry String, \n",
      "\tis_active UInt8, \n",
      "\tage UInt64\n",
      ") ENGINE = Log\n",
      "\n",
      "/*\n",
      "3 rows from users table:\n",
      "user_id\tcountry\tis_active\tage\n",
      "1000001\tUnited Kingdom\t0\t70\n",
      "1000002\tFrance\t1\t87\n",
      "1000003\tFrance\t1\t88\n",
      "*/\u001b[0m\u001b[32;1m\u001b[1;3m\n",
      "Invoking: `sql_db_query` with `SELECT COUNT(*) FROM users WHERE country = 'United Kingdom' AND is_active = 1`\n",
      "\n",
      "\n",
      "\u001b[0m\u001b[36;1m\u001b[1;3m[(111469,)]\u001b[0m\u001b[32;1m\u001b[1;3mWe have 111,469 active customers from the United Kingdom.\u001b[0m\n",
      "\n",
      "\u001b[1m> Finished chain.\u001b[0m\n"
     ]
    },
    {
     "data": {
      "text/plain": [
       "'We have 111,469 active customers from the United Kingdom.'"
      ]
     },
     "execution_count": 15,
     "metadata": {},
     "output_type": "execute_result"
    }
   ],
   "source": [
    "agent_executor.run(\"How many active customers from the United Kingdom do we have? \")"
   ]
  },
  {
   "cell_type": "code",
   "execution_count": 16,
   "id": "2da0f7d5-d12d-4606-9d45-6805ec0be3e7",
   "metadata": {},
   "outputs": [],
   "source": [
    "langchain.debug = True"
   ]
  },
  {
   "cell_type": "code",
   "execution_count": 17,
   "id": "0fc21718-f4a5-4f80-9d88-e2a6c4956431",
   "metadata": {},
   "outputs": [
    {
     "name": "stdout",
     "output_type": "stream",
     "text": [
      "\u001b[32;1m\u001b[1;3m[chain/start]\u001b[0m \u001b[1m[1:chain:AgentExecutor] Entering Chain run with input:\n",
      "\u001b[0m{\n",
      "  \"input\": \"How many active customers from the United Kingdom do we have? \"\n",
      "}\n",
      "\u001b[32;1m\u001b[1;3m[llm/start]\u001b[0m \u001b[1m[1:chain:AgentExecutor > 2:llm:ChatOpenAI] Entering LLM run with input:\n",
      "\u001b[0m{\n",
      "  \"prompts\": [\n",
      "    \"System: You are an agent designed to interact with a SQL database.\\nGiven an input question, create a syntactically correct clickhouse query to run, then look at the results of the query and return the answer.\\nUnless the user specifies a specific number of examples they wish to obtain, always limit your query to at most 10 results.\\nYou can order the results by a relevant column to return the most interesting examples in the database.\\nNever query for all the columns from a specific table, only ask for the relevant columns given the question.\\nYou have access to tools for interacting with the database.\\nOnly use the below tools. Only use the information returned by the below tools to construct your final answer.\\nYou MUST double check your query before executing it. If you get an error while executing a query, rewrite the query and try again.\\n\\nDO NOT make any DML statements (INSERT, UPDATE, DELETE, DROP etc.) to the database.\\n\\nIf the question does not seem related to the database, just return \\\"I don't know\\\" as the answer.\\n\\nHuman: How many active customers from the United Kingdom do we have? \\nAI: I should look at the tables in the database to see what I can query.  Then I should query the schema of the most relevant tables.\"\n",
      "  ]\n",
      "}\n",
      "\u001b[36;1m\u001b[1;3m[llm/end]\u001b[0m \u001b[1m[1:chain:AgentExecutor > 2:llm:ChatOpenAI] [1.29s] Exiting LLM run with output:\n",
      "\u001b[0m{\n",
      "  \"generations\": [\n",
      "    [\n",
      "      {\n",
      "        \"text\": \"\",\n",
      "        \"generation_info\": {\n",
      "          \"finish_reason\": \"function_call\"\n",
      "        },\n",
      "        \"type\": \"ChatGeneration\",\n",
      "        \"message\": {\n",
      "          \"lc\": 1,\n",
      "          \"type\": \"constructor\",\n",
      "          \"id\": [\n",
      "            \"langchain\",\n",
      "            \"schema\",\n",
      "            \"messages\",\n",
      "            \"AIMessage\"\n",
      "          ],\n",
      "          \"kwargs\": {\n",
      "            \"content\": \"\",\n",
      "            \"additional_kwargs\": {\n",
      "              \"function_call\": {\n",
      "                \"arguments\": \"{\\n  \\\"__arg1\\\": \\\"\\\"\\n}\",\n",
      "                \"name\": \"sql_db_list_tables\"\n",
      "              }\n",
      "            }\n",
      "          }\n",
      "        }\n",
      "      }\n",
      "    ]\n",
      "  ],\n",
      "  \"llm_output\": {\n",
      "    \"token_usage\": {\n",
      "      \"completion_tokens\": 16,\n",
      "      \"prompt_tokens\": 532,\n",
      "      \"total_tokens\": 548\n",
      "    },\n",
      "    \"model_name\": \"gpt-3.5-turbo-0613\",\n",
      "    \"system_fingerprint\": null\n",
      "  },\n",
      "  \"run\": null\n",
      "}\n",
      "\u001b[32;1m\u001b[1;3m[tool/start]\u001b[0m \u001b[1m[1:chain:AgentExecutor > 3:tool:sql_db_list_tables] Entering Tool run with input:\n",
      "\u001b[0m\"\"\n",
      "\u001b[36;1m\u001b[1;3m[tool/end]\u001b[0m \u001b[1m[1:chain:AgentExecutor > 3:tool:sql_db_list_tables] [0ms] Exiting Tool run with output:\n",
      "\u001b[0m\"sessions, users\"\n",
      "\u001b[32;1m\u001b[1;3m[llm/start]\u001b[0m \u001b[1m[1:chain:AgentExecutor > 4:llm:ChatOpenAI] Entering LLM run with input:\n",
      "\u001b[0m{\n",
      "  \"prompts\": [\n",
      "    \"System: You are an agent designed to interact with a SQL database.\\nGiven an input question, create a syntactically correct clickhouse query to run, then look at the results of the query and return the answer.\\nUnless the user specifies a specific number of examples they wish to obtain, always limit your query to at most 10 results.\\nYou can order the results by a relevant column to return the most interesting examples in the database.\\nNever query for all the columns from a specific table, only ask for the relevant columns given the question.\\nYou have access to tools for interacting with the database.\\nOnly use the below tools. Only use the information returned by the below tools to construct your final answer.\\nYou MUST double check your query before executing it. If you get an error while executing a query, rewrite the query and try again.\\n\\nDO NOT make any DML statements (INSERT, UPDATE, DELETE, DROP etc.) to the database.\\n\\nIf the question does not seem related to the database, just return \\\"I don't know\\\" as the answer.\\n\\nHuman: How many active customers from the United Kingdom do we have? \\nAI: I should look at the tables in the database to see what I can query.  Then I should query the schema of the most relevant tables.\\nAI: {'arguments': '{\\\\n  \\\"__arg1\\\": \\\"\\\"\\\\n}', 'name': 'sql_db_list_tables'}\\nFunction: sessions, users\"\n",
      "  ]\n",
      "}\n",
      "\u001b[36;1m\u001b[1;3m[llm/end]\u001b[0m \u001b[1m[1:chain:AgentExecutor > 4:llm:ChatOpenAI] [1.21s] Exiting LLM run with output:\n",
      "\u001b[0m{\n",
      "  \"generations\": [\n",
      "    [\n",
      "      {\n",
      "        \"text\": \"\",\n",
      "        \"generation_info\": {\n",
      "          \"finish_reason\": \"function_call\"\n",
      "        },\n",
      "        \"type\": \"ChatGeneration\",\n",
      "        \"message\": {\n",
      "          \"lc\": 1,\n",
      "          \"type\": \"constructor\",\n",
      "          \"id\": [\n",
      "            \"langchain\",\n",
      "            \"schema\",\n",
      "            \"messages\",\n",
      "            \"AIMessage\"\n",
      "          ],\n",
      "          \"kwargs\": {\n",
      "            \"content\": \"\",\n",
      "            \"additional_kwargs\": {\n",
      "              \"function_call\": {\n",
      "                \"arguments\": \"{\\n  \\\"__arg1\\\": \\\"users\\\"\\n}\",\n",
      "                \"name\": \"sql_db_schema\"\n",
      "              }\n",
      "            }\n",
      "          }\n",
      "        }\n",
      "      }\n",
      "    ]\n",
      "  ],\n",
      "  \"llm_output\": {\n",
      "    \"token_usage\": {\n",
      "      \"completion_tokens\": 17,\n",
      "      \"prompt_tokens\": 561,\n",
      "      \"total_tokens\": 578\n",
      "    },\n",
      "    \"model_name\": \"gpt-3.5-turbo-0613\",\n",
      "    \"system_fingerprint\": null\n",
      "  },\n",
      "  \"run\": null\n",
      "}\n",
      "\u001b[32;1m\u001b[1;3m[tool/start]\u001b[0m \u001b[1m[1:chain:AgentExecutor > 5:tool:sql_db_schema] Entering Tool run with input:\n",
      "\u001b[0m\"users\"\n",
      "\u001b[36;1m\u001b[1;3m[tool/end]\u001b[0m \u001b[1m[1:chain:AgentExecutor > 5:tool:sql_db_schema] [14ms] Exiting Tool run with output:\n",
      "\u001b[0m\"CREATE TABLE users (\n",
      "\tuser_id UInt64, \n",
      "\tcountry String, \n",
      "\tis_active UInt8, \n",
      "\tage UInt64\n",
      ") ENGINE = Log\n",
      "\n",
      "/*\n",
      "3 rows from users table:\n",
      "user_id\tcountry\tis_active\tage\n",
      "1000001\tUnited Kingdom\t0\t70\n",
      "1000002\tFrance\t1\t87\n",
      "1000003\tFrance\t1\t88\n",
      "*/\"\n",
      "\u001b[32;1m\u001b[1;3m[llm/start]\u001b[0m \u001b[1m[1:chain:AgentExecutor > 6:llm:ChatOpenAI] Entering LLM run with input:\n",
      "\u001b[0m{\n",
      "  \"prompts\": [\n",
      "    \"System: You are an agent designed to interact with a SQL database.\\nGiven an input question, create a syntactically correct clickhouse query to run, then look at the results of the query and return the answer.\\nUnless the user specifies a specific number of examples they wish to obtain, always limit your query to at most 10 results.\\nYou can order the results by a relevant column to return the most interesting examples in the database.\\nNever query for all the columns from a specific table, only ask for the relevant columns given the question.\\nYou have access to tools for interacting with the database.\\nOnly use the below tools. Only use the information returned by the below tools to construct your final answer.\\nYou MUST double check your query before executing it. If you get an error while executing a query, rewrite the query and try again.\\n\\nDO NOT make any DML statements (INSERT, UPDATE, DELETE, DROP etc.) to the database.\\n\\nIf the question does not seem related to the database, just return \\\"I don't know\\\" as the answer.\\n\\nHuman: How many active customers from the United Kingdom do we have? \\nAI: I should look at the tables in the database to see what I can query.  Then I should query the schema of the most relevant tables.\\nAI: {'arguments': '{\\\\n  \\\"__arg1\\\": \\\"\\\"\\\\n}', 'name': 'sql_db_list_tables'}\\nFunction: sessions, users\\nAI: {'arguments': '{\\\\n  \\\"__arg1\\\": \\\"users\\\"\\\\n}', 'name': 'sql_db_schema'}\\nFunction: \\nCREATE TABLE users (\\n\\tuser_id UInt64, \\n\\tcountry String, \\n\\tis_active UInt8, \\n\\tage UInt64\\n) ENGINE = Log\\n\\n/*\\n3 rows from users table:\\nuser_id\\tcountry\\tis_active\\tage\\n1000001\\tUnited Kingdom\\t0\\t70\\n1000002\\tFrance\\t1\\t87\\n1000003\\tFrance\\t1\\t88\\n*/\"\n",
      "  ]\n",
      "}\n",
      "\u001b[36;1m\u001b[1;3m[llm/end]\u001b[0m \u001b[1m[1:chain:AgentExecutor > 6:llm:ChatOpenAI] [1.67s] Exiting LLM run with output:\n",
      "\u001b[0m{\n",
      "  \"generations\": [\n",
      "    [\n",
      "      {\n",
      "        \"text\": \"\",\n",
      "        \"generation_info\": {\n",
      "          \"finish_reason\": \"function_call\"\n",
      "        },\n",
      "        \"type\": \"ChatGeneration\",\n",
      "        \"message\": {\n",
      "          \"lc\": 1,\n",
      "          \"type\": \"constructor\",\n",
      "          \"id\": [\n",
      "            \"langchain\",\n",
      "            \"schema\",\n",
      "            \"messages\",\n",
      "            \"AIMessage\"\n",
      "          ],\n",
      "          \"kwargs\": {\n",
      "            \"content\": \"\",\n",
      "            \"additional_kwargs\": {\n",
      "              \"function_call\": {\n",
      "                \"arguments\": \"{\\n  \\\"__arg1\\\": \\\"SELECT COUNT(*) FROM users WHERE country = 'United Kingdom' AND is_active = 1\\\"\\n}\",\n",
      "                \"name\": \"sql_db_query\"\n",
      "              }\n",
      "            }\n",
      "          }\n",
      "        }\n",
      "      }\n",
      "    ]\n",
      "  ],\n",
      "  \"llm_output\": {\n",
      "    \"token_usage\": {\n",
      "      \"completion_tokens\": 34,\n",
      "      \"prompt_tokens\": 667,\n",
      "      \"total_tokens\": 701\n",
      "    },\n",
      "    \"model_name\": \"gpt-3.5-turbo-0613\",\n",
      "    \"system_fingerprint\": null\n",
      "  },\n",
      "  \"run\": null\n",
      "}\n",
      "\u001b[32;1m\u001b[1;3m[tool/start]\u001b[0m \u001b[1m[1:chain:AgentExecutor > 7:tool:sql_db_query] Entering Tool run with input:\n",
      "\u001b[0m\"SELECT COUNT(*) FROM users WHERE country = 'United Kingdom' AND is_active = 1\"\n",
      "\u001b[36;1m\u001b[1;3m[tool/end]\u001b[0m \u001b[1m[1:chain:AgentExecutor > 7:tool:sql_db_query] [33ms] Exiting Tool run with output:\n",
      "\u001b[0m\"[(111469,)]\"\n",
      "\u001b[32;1m\u001b[1;3m[llm/start]\u001b[0m \u001b[1m[1:chain:AgentExecutor > 8:llm:ChatOpenAI] Entering LLM run with input:\n",
      "\u001b[0m{\n",
      "  \"prompts\": [\n",
      "    \"System: You are an agent designed to interact with a SQL database.\\nGiven an input question, create a syntactically correct clickhouse query to run, then look at the results of the query and return the answer.\\nUnless the user specifies a specific number of examples they wish to obtain, always limit your query to at most 10 results.\\nYou can order the results by a relevant column to return the most interesting examples in the database.\\nNever query for all the columns from a specific table, only ask for the relevant columns given the question.\\nYou have access to tools for interacting with the database.\\nOnly use the below tools. Only use the information returned by the below tools to construct your final answer.\\nYou MUST double check your query before executing it. If you get an error while executing a query, rewrite the query and try again.\\n\\nDO NOT make any DML statements (INSERT, UPDATE, DELETE, DROP etc.) to the database.\\n\\nIf the question does not seem related to the database, just return \\\"I don't know\\\" as the answer.\\n\\nHuman: How many active customers from the United Kingdom do we have? \\nAI: I should look at the tables in the database to see what I can query.  Then I should query the schema of the most relevant tables.\\nAI: {'arguments': '{\\\\n  \\\"__arg1\\\": \\\"\\\"\\\\n}', 'name': 'sql_db_list_tables'}\\nFunction: sessions, users\\nAI: {'arguments': '{\\\\n  \\\"__arg1\\\": \\\"users\\\"\\\\n}', 'name': 'sql_db_schema'}\\nFunction: \\nCREATE TABLE users (\\n\\tuser_id UInt64, \\n\\tcountry String, \\n\\tis_active UInt8, \\n\\tage UInt64\\n) ENGINE = Log\\n\\n/*\\n3 rows from users table:\\nuser_id\\tcountry\\tis_active\\tage\\n1000001\\tUnited Kingdom\\t0\\t70\\n1000002\\tFrance\\t1\\t87\\n1000003\\tFrance\\t1\\t88\\n*/\\nAI: {'arguments': '{\\\\n  \\\"__arg1\\\": \\\"SELECT COUNT(*) FROM users WHERE country = \\\\'United Kingdom\\\\' AND is_active = 1\\\"\\\\n}', 'name': 'sql_db_query'}\\nFunction: [(111469,)]\"\n",
      "  ]\n",
      "}\n",
      "\u001b[36;1m\u001b[1;3m[llm/end]\u001b[0m \u001b[1m[1:chain:AgentExecutor > 8:llm:ChatOpenAI] [1.08s] Exiting LLM run with output:\n",
      "\u001b[0m{\n",
      "  \"generations\": [\n",
      "    [\n",
      "      {\n",
      "        \"text\": \"We have 111,469 active customers from the United Kingdom.\",\n",
      "        \"generation_info\": {\n",
      "          \"finish_reason\": \"stop\"\n",
      "        },\n",
      "        \"type\": \"ChatGeneration\",\n",
      "        \"message\": {\n",
      "          \"lc\": 1,\n",
      "          \"type\": \"constructor\",\n",
      "          \"id\": [\n",
      "            \"langchain\",\n",
      "            \"schema\",\n",
      "            \"messages\",\n",
      "            \"AIMessage\"\n",
      "          ],\n",
      "          \"kwargs\": {\n",
      "            \"content\": \"We have 111,469 active customers from the United Kingdom.\",\n",
      "            \"additional_kwargs\": {}\n",
      "          }\n",
      "        }\n",
      "      }\n",
      "    ]\n",
      "  ],\n",
      "  \"llm_output\": {\n",
      "    \"token_usage\": {\n",
      "      \"completion_tokens\": 14,\n",
      "      \"prompt_tokens\": 715,\n",
      "      \"total_tokens\": 729\n",
      "    },\n",
      "    \"model_name\": \"gpt-3.5-turbo-0613\",\n",
      "    \"system_fingerprint\": null\n",
      "  },\n",
      "  \"run\": null\n",
      "}\n",
      "\u001b[36;1m\u001b[1;3m[chain/end]\u001b[0m \u001b[1m[1:chain:AgentExecutor] [5.31s] Exiting Chain run with output:\n",
      "\u001b[0m{\n",
      "  \"output\": \"We have 111,469 active customers from the United Kingdom.\"\n",
      "}\n"
     ]
    },
    {
     "data": {
      "text/plain": [
       "'We have 111,469 active customers from the United Kingdom.'"
      ]
     },
     "execution_count": 17,
     "metadata": {},
     "output_type": "execute_result"
    }
   ],
   "source": [
    "agent_executor.run(\"How many active customers from the United Kingdom do we have? \")"
   ]
  },
  {
   "cell_type": "code",
   "execution_count": 18,
   "id": "6b0594b2-177b-40cd-bb55-df91bc52b414",
   "metadata": {},
   "outputs": [
    {
     "name": "stdout",
     "output_type": "stream",
     "text": [
      "System: You are an agent designed to interact with a SQL database.\n",
      "Given an input question, create a syntactically correct clickhouse query to run, then look at the results of the query and return the answer.\n",
      "Unless the user specifies a specific number of examples they wish to obtain, always limit your query to at most 10 results.\n",
      "You can order the results by a relevant column to return the most interesting examples in the database.\n",
      "Never query for all the columns from a specific table, only ask for the relevant columns given the question.\n",
      "You have access to tools for interacting with the database.\n",
      "Only use the below tools. Only use the information returned by the below tools to construct your final answer.\n",
      "You MUST double check your query before executing it. If you get an error while executing a query, rewrite the query and try again.\n",
      "\n",
      "DO NOT make any DML statements (INSERT, UPDATE, DELETE, DROP etc.) to the database.\n",
      "\n",
      "If the question does not seem related to the database, just return \"I don't know\" as the answer.\n",
      "\n",
      "Human: How many active customers from the United Kingdom do we have? \n",
      "AI: I should look at the tables in the database to see what I can query.  Then I should query the schema of the most relevant tables.\n"
     ]
    }
   ],
   "source": [
    "print(\"System: You are an agent designed to interact with a SQL database.\\nGiven an input question, create a syntactically correct clickhouse query to run, then look at the results of the query and return the answer.\\nUnless the user specifies a specific number of examples they wish to obtain, always limit your query to at most 10 results.\\nYou can order the results by a relevant column to return the most interesting examples in the database.\\nNever query for all the columns from a specific table, only ask for the relevant columns given the question.\\nYou have access to tools for interacting with the database.\\nOnly use the below tools. Only use the information returned by the below tools to construct your final answer.\\nYou MUST double check your query before executing it. If you get an error while executing a query, rewrite the query and try again.\\n\\nDO NOT make any DML statements (INSERT, UPDATE, DELETE, DROP etc.) to the database.\\n\\nIf the question does not seem related to the database, just return \\\"I don't know\\\" as the answer.\\n\\nHuman: How many active customers from the United Kingdom do we have? \\nAI: I should look at the tables in the database to see what I can query.  Then I should query the schema of the most relevant tables.\")"
   ]
  },
  {
   "cell_type": "code",
   "execution_count": null,
   "id": "69cae976-d633-4ba3-9650-e1e5d194fa48",
   "metadata": {},
   "outputs": [],
   "source": []
  }
 ],
 "metadata": {
  "kernelspec": {
   "display_name": "Python 3 (ipykernel)",
   "language": "python",
   "name": "python3"
  },
  "language_info": {
   "codemirror_mode": {
    "name": "ipython",
    "version": 3
   },
   "file_extension": ".py",
   "mimetype": "text/x-python",
   "name": "python",
   "nbconvert_exporter": "python",
   "pygments_lexer": "ipython3",
   "version": "3.9.6"
  }
 },
 "nbformat": 4,
 "nbformat_minor": 5
}
