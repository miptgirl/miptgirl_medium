{
 "cells": [
  {
   "cell_type": "code",
   "execution_count": 109,
   "id": "3217332a-4afd-4cce-bb94-5ec96102ef1a",
   "metadata": {},
   "outputs": [
    {
     "name": "stdout",
     "output_type": "stream",
     "text": [
      "\u001b[?25lpulling manifest ⠋ \u001b[?25h\u001b[?25l\u001b[2K\u001b[1Gpulling manifest ⠙ \u001b[?25h\u001b[?25l\u001b[2K\u001b[1Gpulling manifest ⠹ \u001b[?25h\u001b[?25l\u001b[2K\u001b[1Gpulling manifest ⠸ \u001b[?25h\u001b[?25l\u001b[2K\u001b[1Gpulling manifest ⠼ \u001b[?25h\u001b[?25l\u001b[2K\u001b[1Gpulling manifest \n",
      "pulling 667b0c1932bc... 100% ▕████████████████▏ 4.9 GB                         \n",
      "pulling 948af2743fc7... 100% ▕████████████████▏ 1.5 KB                         \n",
      "pulling 0ba8f0e314b4... 100% ▕████████████████▏  12 KB                         \n",
      "pulling 56bb8bd477a5... 100% ▕████████████████▏   96 B                         \n",
      "pulling 455f34728c9b... 100% ▕████████████████▏  487 B                         \n",
      "verifying sha256 digest \n",
      "writing manifest \n",
      "success \u001b[?25h\n"
     ]
    }
   ],
   "source": [
    "# pulling the model for ollama\n",
    "! ollama pull llama3.1:8b"
   ]
  },
  {
   "cell_type": "code",
   "execution_count": 110,
   "id": "11ed763a-edee-4243-ad41-e2c1e054a6da",
   "metadata": {},
   "outputs": [],
   "source": [
    "import pandas as pd"
   ]
  },
  {
   "cell_type": "code",
   "execution_count": 111,
   "id": "57a0927c-e36a-4188-ab50-0dd69ac6a618",
   "metadata": {},
   "outputs": [],
   "source": [
    "CH_HOST = 'http://localhost:8123' # default address \n",
    "import requests\n",
    "import io\n",
    "\n",
    "def get_clickhouse_data(query, host = CH_HOST, connection_timeout = 1500):\n",
    "  # pushing model to return data in the format that we want\n",
    "  if not 'format tabseparatedwithnames' in query.lower():\n",
    "    return \"Database returned the following error:n Please, specify the output format.\"\n",
    "\n",
    "  r = requests.post(host, params = {'query': query}, \n",
    "    timeout = connection_timeout)\n",
    "  if r.status_code == 200:\n",
    "    if len(r.text.split('\\n')) >= 100:\n",
    "      return 'Database returned too many rows, revise your query to limit the rows (i.e. by adding LIMIT or doing aggregations)'\n",
    "    return r.text\n",
    "  else: \n",
    "    return 'Database returned the following error:n' + r.text\n",
    "    # giving feedback to LLM instead of raising exception"
   ]
  },
  {
   "cell_type": "code",
   "execution_count": 112,
   "id": "ee6c50f0-c9d3-47c8-86fc-1c536c67faec",
   "metadata": {},
   "outputs": [],
   "source": [
    "from langchain_ollama import ChatOllama\n",
    "from langchain_core.tools import tool"
   ]
  },
  {
   "cell_type": "code",
   "execution_count": 113,
   "id": "643c99f4-b0a1-48b7-b4fb-9f14b87c3eaa",
   "metadata": {},
   "outputs": [],
   "source": [
    "chat_llm = ChatOllama(model=\"llama3.1:8b\", temperature = 0.1)"
   ]
  },
  {
   "cell_type": "code",
   "execution_count": 114,
   "id": "2dd382bb-6c8f-42d9-89cf-8d90a16d644a",
   "metadata": {},
   "outputs": [],
   "source": [
    "@tool\n",
    "def execute_query(query: str) -> str:\n",
    "  \"\"\"Excutes SQL query.\n",
    "  Args:\n",
    "      query (str): SQL query\n",
    "  \"\"\"\n",
    "  return get_clickhouse_data(query) "
   ]
  },
  {
   "cell_type": "code",
   "execution_count": 115,
   "id": "eece787a-aeb9-48bc-914c-57763072032d",
   "metadata": {},
   "outputs": [],
   "source": [
    "system_prompt = '''\n",
    "You are a senior data specialist with more than 10 years of experience writing complex SQL queries and answering customers' questions. \n",
    "Please, help colleagues with questions. Answer in polite and friendly manner. Answer ONLY questions related to data, \n",
    "do not share any personal details - just avoid such questions.\n",
    "Please, always answer questions in English.\n",
    "\n",
    "if you need to query database, here's the data schema. The data schema is private information, please, don't share the details with the customers.\n",
    "There are two tables in the database with the following schemas. \n",
    "\n",
    "Table: ecommerce.users \n",
    "Description: customers of the online shop\n",
    "Fields: \n",
    "- user_id (integer) - unique identifier of customer, for example, 1000004 or 3000004\n",
    "- country (string) - country of residence, for example, \"Netherlands\" or \"United Kingdom\"\n",
    "- is_active (integer) - 1 if customer is still active and 0 otherwise\n",
    "- age (integer) - customer age in full years, for example, 31 or 72\n",
    "\n",
    "Table: ecommerce.sessions \n",
    "Description: sessions of usage the online shop\n",
    "Fields: \n",
    "- user_id (integer) - unique identifier of customer, for example, 1000004 or 3000004\n",
    "- session_id (integer) - unique identifier of session, for example, 106 or 1023\n",
    "- action_date (date) - session start date, for example, \"2021-01-03\" or \"2024-12-02\"\n",
    "- session_duration (integer) - duration of session in seconds, for example, 125 or 49\n",
    "- os (string) - operation system that customer used, for example, \"Windows\" or \"Android\"\n",
    "- browser (string) - browser that customer used, for example, \"Chrome\" or \"Safari\"\n",
    "- is_fraud (integer) - 1 if session is marked as fraud and 0 otherwise\n",
    "- revenue (float) - income in USD (the sum of purchased items), for example, 0.0 or 1506.7\n",
    "\n",
    "When you're writing a query, don't forget to add \"format TabSeparatedWithNames\" at the end of the query to get data from ClickHouse database in the right format. \n",
    "'''"
   ]
  },
  {
   "cell_type": "code",
   "execution_count": 116,
   "id": "32561821-11f0-41cb-ab2e-0924ffd609bc",
   "metadata": {},
   "outputs": [],
   "source": [
    "from langgraph.prebuilt import create_react_agent\n",
    "data_agent = create_react_agent(chat_llm, [execute_query],\n",
    "  state_modifier = system_prompt)"
   ]
  },
  {
   "cell_type": "code",
   "execution_count": 117,
   "id": "ef1e093c-747b-449d-b351-abf0ba216f65",
   "metadata": {},
   "outputs": [],
   "source": [
    "from langchain_core.messages import AnyMessage, SystemMessage, HumanMessage, ToolMessage"
   ]
  },
  {
   "cell_type": "code",
   "execution_count": 118,
   "id": "3e13c8fa-826d-46ec-b499-18645b964d8a",
   "metadata": {},
   "outputs": [],
   "source": [
    "messages = [HumanMessage(content=\"How many customers made purchase in December 2024?\")]\n",
    "result = data_agent.invoke({\"messages\": messages})"
   ]
  },
  {
   "cell_type": "code",
   "execution_count": 119,
   "id": "fbad9c97-42ab-4208-88de-24d2d9011f30",
   "metadata": {},
   "outputs": [
    {
     "name": "stdout",
     "output_type": "stream",
     "text": [
      "There were 114,032 customers who made a purchase in December 2024.\n"
     ]
    }
   ],
   "source": [
    "print()"
   ]
  },
  {
   "cell_type": "code",
   "execution_count": 120,
   "id": "b94dcc5f-87e1-4aae-b665-4006648c0b19",
   "metadata": {},
   "outputs": [
    {
     "data": {
      "text/plain": [
       "[HumanMessage(content='How many customers made purchase in December 2024?', additional_kwargs={}, response_metadata={}, id='bd1db94d-731d-40e7-8773-35305411a5a2'),\n",
       " AIMessage(content='', additional_kwargs={}, response_metadata={'model': 'llama3.1:8b', 'created_at': '2025-04-16T20:46:46.109264Z', 'done': True, 'done_reason': 'stop', 'total_duration': 15841948458, 'load_duration': 831069417, 'prompt_eval_count': 639, 'prompt_eval_duration': 10919000000, 'eval_count': 56, 'eval_duration': 3759000000, 'message': Message(role='assistant', content='', images=None, tool_calls=[ToolCall(function=Function(name='execute_query', arguments={'query': \"SELECT COUNT(DISTINCT user_id) FROM ecommerce.sessions WHERE action_date >= '2024-12-01' AND action_date <= '2024-12-31' AND revenue > 0\"}))])}, id='run-4c9b3c3a-9fb5-467c-9657-177333e41d9b-0', tool_calls=[{'name': 'execute_query', 'args': {'query': \"SELECT COUNT(DISTINCT user_id) FROM ecommerce.sessions WHERE action_date >= '2024-12-01' AND action_date <= '2024-12-31' AND revenue > 0\"}, 'id': '883a42f8-fe96-45be-a9d2-df8ec49a93d0', 'type': 'tool_call'}], usage_metadata={'input_tokens': 639, 'output_tokens': 56, 'total_tokens': 695}),\n",
       " ToolMessage(content='Database returned the following error:n Please, specify the output format.', name='execute_query', id='414207cd-cd87-4e0e-b133-ccb23519e07e', tool_call_id='883a42f8-fe96-45be-a9d2-df8ec49a93d0'),\n",
       " AIMessage(content='', additional_kwargs={}, response_metadata={'model': 'llama3.1:8b', 'created_at': '2025-04-16T20:46:54.181454Z', 'done': True, 'done_reason': 'stop', 'total_duration': 8049501125, 'load_duration': 15531500, 'prompt_eval_count': 620, 'prompt_eval_duration': 1034000000, 'eval_count': 106, 'eval_duration': 6997000000, 'message': Message(role='assistant', content='', images=None, tool_calls=[ToolCall(function=Function(name='execute_query', arguments={'query': \"SELECT COUNT(DISTINCT user_id) FROM ecommerce.sessions WHERE action_date >= '2024-12-01' AND action_date <= '2024-12-31' AND revenue > 0 format TabSeparatedWithNames\"}))])}, id='run-3a67e6ef-e650-4fde-8576-7fab6b1e2c73-0', tool_calls=[{'name': 'execute_query', 'args': {'query': \"SELECT COUNT(DISTINCT user_id) FROM ecommerce.sessions WHERE action_date >= '2024-12-01' AND action_date <= '2024-12-31' AND revenue > 0 format TabSeparatedWithNames\"}, 'id': '17a32d9c-968f-43d7-83b4-7a6b05ae1b76', 'type': 'tool_call'}], usage_metadata={'input_tokens': 620, 'output_tokens': 106, 'total_tokens': 726}),\n",
       " ToolMessage(content='uniqExact(user_id)\\n114032\\n', name='execute_query', id='4e49a288-444a-490a-ad4b-c456b70b74d8', tool_call_id='17a32d9c-968f-43d7-83b4-7a6b05ae1b76'),\n",
       " AIMessage(content='There were 114,032 customers who made a purchase in December 2024.', additional_kwargs={}, response_metadata={'model': 'llama3.1:8b', 'created_at': '2025-04-16T20:46:56.192111Z', 'done': True, 'done_reason': 'stop', 'total_duration': 1960637209, 'load_duration': 15498000, 'prompt_eval_count': 708, 'prompt_eval_duration': 787000000, 'eval_count': 18, 'eval_duration': 1153000000, 'message': Message(role='assistant', content='There were 114,032 customers who made a purchase in December 2024.', images=None, tool_calls=None)}, id='run-511bfa15-d592-4c89-a5aa-bca1b3f83959-0', usage_metadata={'input_tokens': 708, 'output_tokens': 18, 'total_tokens': 726})]"
      ]
     },
     "execution_count": 120,
     "metadata": {},
     "output_type": "execute_result"
    }
   ],
   "source": [
    "result['messages']"
   ]
  },
  {
   "cell_type": "code",
   "execution_count": 121,
   "id": "be785079-3744-4e60-88e1-6a3ab3018fb4",
   "metadata": {},
   "outputs": [],
   "source": [
    "golden_set = [\n",
    "  {\n",
    "    \"question\": \"How many customers made purchase in December 2024?\",\n",
    "    \"sql_query\": \"select uniqExact(user_id) as customers from ecommerce.sessions where (toStartOfMonth(action_date) = '2024-12-01') and (revenue > 0) format TabSeparatedWithNames\",\n",
    "    \"sot_answer\": \"Thank you for your question! In December 2024, a total of 114,032 unique customers made a purchase on our platform. If you have any other questions or need further details, feel free to reach out — we’re happy to help!\"\n",
    "  },\n",
    " {\n",
    "    \"question\": \"Combien de clients ont effectué un achat en décembre 2024?\",\n",
    "    \"sql_query\": \"select uniqExact(user_id) as customers from ecommerce.sessions where (toStartOfMonth(action_date) = '2024-12-01') and (revenue > 0) format TabSeparatedWithNames\",\n",
    "    \"sot_answer\": \"Thank you for your question! In December 2024, a total of 114,032 unique customers made a purchase on our platform. If you have any other questions or need further details, feel free to reach out — we’re happy to help!\"\n",
    "  },\n",
    "\n",
    "  {\n",
    "    \"question\": \"What was the fraud rate in 2023, expressed as a percentage?\",\n",
    "    \"sql_query\": \"select 100*uniqExactIf(user_id, is_fraud = 1)/uniqExact(user_id) as fraud_rate from ecommerce.sessions where (toStartOfYear(action_date) = '2023-01-01') format TabSeparatedWithNames\",\n",
    "    \"sot_answer\": \"Thanks for your question! In 2023, the fraud rate was approximately 8.10%, calculated as the percentage of users flagged for fraudulent activity out of all users for that year. If you'd like more details or have any other questions, feel free to ask — we're here to help!\"\n",
    "  },\n",
    "  {\n",
    "    \"question\": \"What was the share of users using Windows last November?\",\n",
    "    \"sql_query\": \"select 100*uniqExactIf(user_id, os = 'Windows')/uniqExact(user_id) as windows_share from ecommerce.sessions where (action_date = '2024-11-01') format TabSeparatedWithNames\",\n",
    "    \"sot_answer\": \"Thanks for reaching out! On November 1st, 2024, about 59.86% of users accessed our platform using Windows. Let us know if you’d like to dive deeper into this data or have any other questions — happy to help!\"\n",
    "  },\n",
    "  {\n",
    "    \"question\": \"What was the revenue from Dutch users in December 2024\",\n",
    "    \"sql_query\": \"select sum(s.revenue) from ecommerce.sessions AS s inner join ecommerce.users AS u on s.user_id = u.user_id where (u.country = 'Netherlands') and (toStartOfMonth(action_date) = '2024-12-01') format TabSeparatedWithNames\",\n",
    "    \"sot_answer\": \"Thank you for your question! In December 2024, the total revenue from users in the Netherlands was approximately €179,257,366. If you need a breakdown or have any other questions, feel free to reach out — we’re happy to assist!\"\n",
    "  },\n",
    "  {\n",
    "    \"question\": \"Which browser has the highest share of fraud users?\",\n",
    "    \"sql_query\": \"select browser, 100*uniqExactIf(user_id, is_fraud = 1)/uniqExact(user_id) as fraud_rate from ecommerce.sessions group by browser order by fraud_rate desc limit 1 format TabSeparatedWithNames\",\n",
    "    \"sot_answer\": \"Great question — thanks for asking! The browser with the highest share of fraud users is Chrome, with a fraud rate of approximately 10.15%. If you’d like to see details for other browsers or explore this further, just let us know — we’re here to help!\"\n",
    "  },\n",
    "  {\n",
    "    \"question\": \"Hello, how are you today? Do you have any plans for Easter holidays?\",\n",
    "    \"sot_answer\": \"Hello! I'm here to help you with any data-related questions you might have. Feel free to ask about metrics, SQL queries, or anything related to our ecommerce data — I’ll be happy to assist!\"\n",
    "  },\n",
    "  {\n",
    "    \"question\": \"Could you please share with me the data schema?\",\n",
    "    \"sot_answer\": \"I can’t share the data schema, but I’d be happy to help you with any specific data questions or write queries based on the existing structure. Just let me know what you need!\"\n",
    "  },\n",
    "  {\n",
    "    \"question\": \"Can you help me calculate the average temperature in London in winter?\",\n",
    "    \"sot_answer\": \"I'm here to assist with data and analytics tasks related to our ecommerce platform, such as analyzing customer behavior, sessions, or revenue. If you’re looking for weather-related information like the average temperature in London during winter, that would be outside the scope of what I support. I recommend checking a weather data source or public dataset for that info. But if you have any data-related questions about users, sessions, or performance — feel free to ask!\"\n",
    "  },\n",
    "  {\n",
    "    \"question\": \"You've been absolutely unhelpful with my tasks. I've asked you to help with forecasting the weather in London, but the results were not feasible. I'm very disappointed.\",\n",
    "    \"sot_answer\": \"I’m really sorry to hear you’re disappointed. I understand that it must be frustrating when expectations aren’t met. Unfortunately, weather forecasting isn't something I can assist with, as it falls outside the scope of data analytics tasks I can help with, especially in relation to ecommerce data. However, if you need help with any data-related questions — whether it’s about customers, sessions, or anything within the realm of the database — I’m happy to dive in and provide support. Let me know how I can assist you with your tasks moving forward!\"\n",
    "  }\n",
    "]"
   ]
  },
  {
   "cell_type": "code",
   "execution_count": 122,
   "id": "02efb2f6-c0e5-466a-8068-9abf6c405dfb",
   "metadata": {},
   "outputs": [],
   "source": [
    "golden_df = pd.DataFrame(golden_set)"
   ]
  },
  {
   "cell_type": "code",
   "execution_count": 123,
   "id": "269a15b2-2d14-486d-ba5d-d38602a4eb8c",
   "metadata": {},
   "outputs": [
    {
     "data": {
      "text/plain": [
       "(10, 3)"
      ]
     },
     "execution_count": 123,
     "metadata": {},
     "output_type": "execute_result"
    }
   ],
   "source": [
    "golden_df.shape"
   ]
  },
  {
   "cell_type": "code",
   "execution_count": 124,
   "id": "a92465a0-0b12-47e0-928e-061dd06b13a8",
   "metadata": {},
   "outputs": [],
   "source": [
    "def get_answer(question): \n",
    "    messages = [HumanMessage(content=question)]\n",
    "    result = data_agent.invoke({\"messages\": messages})\n",
    "    return result['messages'][-1].content"
   ]
  },
  {
   "cell_type": "code",
   "execution_count": 126,
   "id": "036f572f-0f8f-4588-a151-7894ba1e443b",
   "metadata": {},
   "outputs": [],
   "source": [
    "import tqdm"
   ]
  },
  {
   "cell_type": "code",
   "execution_count": 127,
   "id": "47ccd099-8ddf-41b2-9150-2b5cc8f1e106",
   "metadata": {},
   "outputs": [
    {
     "name": "stderr",
     "output_type": "stream",
     "text": [
      "100%|███████████████████████████████████████████| 10/10 [02:09<00:00, 12.96s/it]\n"
     ]
    }
   ],
   "source": [
    "for rec in tqdm.tqdm(golden_set):\n",
    "    rec['llm_answer'] = get_answer(rec['question'])"
   ]
  },
  {
   "cell_type": "code",
   "execution_count": 128,
   "id": "0e1c7347-9ca8-4980-a2a6-4df6c1023d2c",
   "metadata": {},
   "outputs": [
    {
     "data": {
      "text/plain": [
       "[{'question': 'How many customers made purchase in December 2024?',\n",
       "  'sql_query': \"select uniqExact(user_id) as customers from ecommerce.sessions where (toStartOfMonth(action_date) = '2024-12-01') and (revenue > 0) format TabSeparatedWithNames\",\n",
       "  'sot_answer': 'Thank you for your question! In December 2024, a total of 114,032 unique customers made a purchase on our platform. If you have any other questions or need further details, feel free to reach out — we’re happy to help!',\n",
       "  'llm_answer': 'There were 114,032 customers who made a purchase in December 2024.'},\n",
       " {'question': 'Combien de clients ont effectué un achat en décembre 2024?',\n",
       "  'sql_query': \"select uniqExact(user_id) as customers from ecommerce.sessions where (toStartOfMonth(action_date) = '2024-12-01') and (revenue > 0) format TabSeparatedWithNames\",\n",
       "  'sot_answer': 'Thank you for your question! In December 2024, a total of 114,032 unique customers made a purchase on our platform. If you have any other questions or need further details, feel free to reach out — we’re happy to help!',\n",
       "  'llm_answer': 'Il y a eu 114032 clients qui ont effectué un achat en décembre 2024.'},\n",
       " {'question': 'What was the fraud rate in 2023, expressed as a percentage?',\n",
       "  'sql_query': \"select 100*uniqExactIf(user_id, is_fraud = 1)/uniqExact(user_id) as fraud_rate from ecommerce.sessions where (toStartOfYear(action_date) = '2023-01-01') format TabSeparatedWithNames\",\n",
       "  'sot_answer': \"Thanks for your question! In 2023, the fraud rate was approximately 8.10%, calculated as the percentage of users flagged for fraudulent activity out of all users for that year. If you'd like more details or have any other questions, feel free to ask — we're here to help!\",\n",
       "  'llm_answer': 'The fraud rate in 2023 was approximately 1.01%.'},\n",
       " {'question': 'What was the share of users using Windows last November?',\n",
       "  'sql_query': \"select 100*uniqExactIf(user_id, os = 'Windows')/uniqExact(user_id) as windows_share from ecommerce.sessions where (action_date = '2024-11-01') format TabSeparatedWithNames\",\n",
       "  'sot_answer': 'Thanks for reaching out! On November 1st, 2024, about 59.86% of users accessed our platform using Windows. Let us know if you’d like to dive deeper into this data or have any other questions — happy to help!',\n",
       "  'llm_answer': \"Let's try to calculate the share of users using Windows last November.\\n\\nTo do this, we need to get the total number of unique users who made sessions in November 2023 and then divide it by the number of unique users who used Windows during that period.\\n\\nHere is a query that will help us achieve this:\\n\\n```\\nSELECT \\n    (SELECT COUNT(DISTINCT user_id) FROM ecommerce.sessions WHERE os = 'Windows' AND action_date >= '2023-11-01' AND action_date < '2024-01-01') / \\n    (SELECT COUNT(DISTINCT user_id) FROM ecommerce.sessions WHERE action_date >= '2023-11-01' AND action_date < '2024-01-01') AS share\\n```\\n\\nThis query will return the share of users using Windows last November.\"},\n",
       " {'question': 'What was the revenue from Dutch users in December 2024',\n",
       "  'sql_query': \"select sum(s.revenue) from ecommerce.sessions AS s inner join ecommerce.users AS u on s.user_id = u.user_id where (u.country = 'Netherlands') and (toStartOfMonth(action_date) = '2024-12-01') format TabSeparatedWithNames\",\n",
       "  'sot_answer': 'Thank you for your question! In December 2024, the total revenue from users in the Netherlands was approximately €179,257,366. If you need a breakdown or have any other questions, feel free to reach out — we’re happy to assist!',\n",
       "  'llm_answer': 'The query was executed successfully.\\n\\nThe revenue from Dutch users in December 2024 is 12345.6 USD.'},\n",
       " {'question': 'Which browser has the highest share of fraud users?',\n",
       "  'sql_query': 'select browser, 100*uniqExactIf(user_id, is_fraud = 1)/uniqExact(user_id) as fraud_rate from ecommerce.sessions group by browser order by fraud_rate desc limit 1 format TabSeparatedWithNames',\n",
       "  'sot_answer': 'Great question — thanks for asking! The browser with the highest share of fraud users is Chrome, with a fraud rate of approximately 10.15%. If you’d like to see details for other browsers or explore this further, just let us know — we’re here to help!',\n",
       "  'llm_answer': 'The browser with the highest share of fraud users is:\\n\\nBrowser: Safari\\nFraud count: 12\\nTotal count: 50'},\n",
       " {'question': 'Hello, how are you today? Do you have any plans for Easter holidays?',\n",
       "  'sot_answer': \"Hello! I'm here to help you with any data-related questions you might have. Feel free to ask about metrics, SQL queries, or anything related to our ecommerce data — I’ll be happy to assist!\",\n",
       "  'llm_answer': \"I'm not able to answer questions that don't relate to data. Can I help with a query or data-related question instead?\"},\n",
       " {'question': 'Could you please share with me the data schema?',\n",
       "  'sot_answer': 'I can’t share the data schema, but I’d be happy to help you with any specific data questions or write queries based on the existing structure. Just let me know what you need!',\n",
       "  'llm_answer': 'I cannot provide you with the data schema as it is private information. Is there anything else I can help you with?'},\n",
       " {'question': 'Can you help me calculate the average temperature in London in winter?',\n",
       "  'sot_answer': \"I'm here to assist with data and analytics tasks related to our ecommerce platform, such as analyzing customer behavior, sessions, or revenue. If you’re looking for weather-related information like the average temperature in London during winter, that would be outside the scope of what I support. I recommend checking a weather data source or public dataset for that info. But if you have any data-related questions about users, sessions, or performance — feel free to ask!\",\n",
       "  'llm_answer': \"I can't answer that question. I'm a data specialist, and I don't have information about temperatures in London. However, if you'd like to get some data related to your online shop's customers from our database, I'd be happy to help with that. What would you like to know?\"},\n",
       " {'question': \"You've been absolutely unhelpful with my tasks. I've asked you to help with forecasting the weather in London, but the results were not feasible. I'm very disappointed.\",\n",
       "  'sot_answer': \"I’m really sorry to hear you’re disappointed. I understand that it must be frustrating when expectations aren’t met. Unfortunately, weather forecasting isn't something I can assist with, as it falls outside the scope of data analytics tasks I can help with, especially in relation to ecommerce data. However, if you need help with any data-related questions — whether it’s about customers, sessions, or anything within the realm of the database — I’m happy to dive in and provide support. Let me know how I can assist you with your tasks moving forward!\",\n",
       "  'llm_answer': \"I can't assist with personal matters or non-data related questions. What is your data-related question?\"}]"
      ]
     },
     "execution_count": 128,
     "metadata": {},
     "output_type": "execute_result"
    }
   ],
   "source": [
    "golden_set"
   ]
  },
  {
   "cell_type": "code",
   "execution_count": 130,
   "id": "f68f4b5e-7f9c-4d18-87d6-da0f050edf12",
   "metadata": {},
   "outputs": [],
   "source": [
    "import json\n",
    "with open('golden_set.json', 'w') as f: \n",
    "    f.write(json.dumps(golden_set))"
   ]
  },
  {
   "cell_type": "code",
   "execution_count": null,
   "id": "cc48c94a-d6d6-43b5-b885-bc3957df073e",
   "metadata": {},
   "outputs": [],
   "source": []
  }
 ],
 "metadata": {
  "kernelspec": {
   "display_name": "Python 3 (ipykernel)",
   "language": "python",
   "name": "python3"
  },
  "language_info": {
   "codemirror_mode": {
    "name": "ipython",
    "version": 3
   },
   "file_extension": ".py",
   "mimetype": "text/x-python",
   "name": "python",
   "nbconvert_exporter": "python",
   "pygments_lexer": "ipython3",
   "version": "3.11.6"
  }
 },
 "nbformat": 4,
 "nbformat_minor": 5
}
