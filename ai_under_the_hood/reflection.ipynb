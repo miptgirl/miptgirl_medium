{
 "cells": [
  {
   "cell_type": "markdown",
   "id": "9da0114b",
   "metadata": {},
   "source": [
    "### Setting up"
   ]
  },
  {
   "cell_type": "code",
   "execution_count": 1,
   "id": "5f5fc556",
   "metadata": {},
   "outputs": [],
   "source": [
    "# ! pip install anthropic"
   ]
  },
  {
   "cell_type": "code",
   "execution_count": 2,
   "id": "cd2ca541",
   "metadata": {},
   "outputs": [],
   "source": [
    "import json\n",
    "with open('../../config.json') as f:\n",
    "    config = json.load(f)"
   ]
  },
  {
   "cell_type": "code",
   "execution_count": 3,
   "id": "5f7498bf",
   "metadata": {},
   "outputs": [],
   "source": [
    "CH_HOST = 'http://localhost:8123' # default address \n",
    "import requests\n",
    "import pandas as pd\n",
    "import tqdm\n",
    "\n",
    "def get_clickhouse_data(query, host = CH_HOST, connection_timeout = 1500):\n",
    "  r = requests.post(host, params = {'query': query}, \n",
    "    timeout = connection_timeout)\n",
    "  if r.status_code == 200:\n",
    "      return r.text\n",
    "  else: \n",
    "      return 'Database returned the following error:n' + r.text"
   ]
  },
  {
   "cell_type": "code",
   "execution_count": 4,
   "id": "cb2f67a9",
   "metadata": {},
   "outputs": [],
   "source": [
    "import os\n",
    "os.environ['ANTHROPIC_API_KEY'] = config['ANTHROPIC_API_KEY']"
   ]
  },
  {
   "cell_type": "code",
   "execution_count": 5,
   "id": "983a9e05",
   "metadata": {},
   "outputs": [],
   "source": [
    "import anthropic\n",
    "client = anthropic.Anthropic()"
   ]
  },
  {
   "cell_type": "markdown",
   "id": "8f2f8542",
   "metadata": {},
   "source": [
    "### Download evals"
   ]
  },
  {
   "cell_type": "code",
   "execution_count": 6,
   "id": "fe1d4e2b",
   "metadata": {},
   "outputs": [
    {
     "data": {
      "text/html": [
       "<div>\n",
       "<style scoped>\n",
       "    .dataframe tbody tr th:only-of-type {\n",
       "        vertical-align: middle;\n",
       "    }\n",
       "\n",
       "    .dataframe tbody tr th {\n",
       "        vertical-align: top;\n",
       "    }\n",
       "\n",
       "    .dataframe thead th {\n",
       "        text-align: right;\n",
       "    }\n",
       "</style>\n",
       "<table border=\"1\" class=\"dataframe\">\n",
       "  <thead>\n",
       "    <tr style=\"text-align: right;\">\n",
       "      <th></th>\n",
       "      <th>id</th>\n",
       "      <th>question</th>\n",
       "      <th>answer</th>\n",
       "    </tr>\n",
       "  </thead>\n",
       "  <tbody>\n",
       "    <tr>\n",
       "      <th>0</th>\n",
       "      <td>1</td>\n",
       "      <td>How many flights were in 2024?</td>\n",
       "      <td>select count() from flight_data where year = 2...</td>\n",
       "    </tr>\n",
       "    <tr>\n",
       "      <th>1</th>\n",
       "      <td>2</td>\n",
       "      <td>From which airport were the most flights depar...</td>\n",
       "      <td>select origin, count() as flight_count from fl...</td>\n",
       "    </tr>\n",
       "    <tr>\n",
       "      <th>2</th>\n",
       "      <td>3</td>\n",
       "      <td>What route on average took the longest time in...</td>\n",
       "      <td>select concat(origin, ' - ', dest) as route, a...</td>\n",
       "    </tr>\n",
       "    <tr>\n",
       "      <th>3</th>\n",
       "      <td>4</td>\n",
       "      <td>In 2024, what percentage of time all airplanes...</td>\n",
       "      <td>select (sum(air_time) / sum(actual_elapsed_tim...</td>\n",
       "    </tr>\n",
       "    <tr>\n",
       "      <th>4</th>\n",
       "      <td>5</td>\n",
       "      <td>Which airline had the highest average departur...</td>\n",
       "      <td>select op_unique_carrier, avg(dep_delay) as av...</td>\n",
       "    </tr>\n",
       "  </tbody>\n",
       "</table>\n",
       "</div>"
      ],
      "text/plain": [
       "   id                                           question  \\\n",
       "0   1                     How many flights were in 2024?   \n",
       "1   2  From which airport were the most flights depar...   \n",
       "2   3  What route on average took the longest time in...   \n",
       "3   4  In 2024, what percentage of time all airplanes...   \n",
       "4   5  Which airline had the highest average departur...   \n",
       "\n",
       "                                              answer  \n",
       "0  select count() from flight_data where year = 2...  \n",
       "1  select origin, count() as flight_count from fl...  \n",
       "2  select concat(origin, ' - ', dest) as route, a...  \n",
       "3  select (sum(air_time) / sum(actual_elapsed_tim...  \n",
       "4  select op_unique_carrier, avg(dep_delay) as av...  "
      ]
     },
     "execution_count": 6,
     "metadata": {},
     "output_type": "execute_result"
    }
   ],
   "source": [
    "with open('./data/flight_data_qa_pairs.json', 'r') as f:\n",
    "    qa_pairs = json.load(f)\n",
    "\n",
    "qa_pairs_df = pd.DataFrame(qa_pairs)\n",
    "qa_pairs_df = qa_pairs_df.rename(columns = {'sql': 'answer'})\n",
    "qa_pairs_df['id'] = qa_pairs_df.index + 1\n",
    "qa_pairs_df = qa_pairs_df[['id', 'question', 'answer']]\n",
    "qa_pairs_df.head()"
   ]
  },
  {
   "cell_type": "code",
   "execution_count": 7,
   "id": "1d163aca",
   "metadata": {},
   "outputs": [],
   "source": [
    "qa_pairs_df['answer_output'] = qa_pairs_df['answer'].apply(get_clickhouse_data)"
   ]
  },
  {
   "cell_type": "markdown",
   "id": "0360f418",
   "metadata": {},
   "source": [
    "### Direct answer generation"
   ]
  },
  {
   "cell_type": "code",
   "execution_count": 8,
   "id": "de471a09",
   "metadata": {},
   "outputs": [],
   "source": [
    "base_sql_system_prompt = '''\n",
    "You are a senior SQL developer and your task is to help generate a SQL query based on user requirements. \n",
    "You are working with ClickHouse database. Specify the format (Tab Separated With Names) in the SQL query output to ensure that column names are included in the output.\n",
    "Do not use count(*) in your queries since it's a bad practice with columnar databases, prefer using count().\n",
    "Ensure that the query is syntactically correct and optimized for performance, taking into account ClickHouse specific features (i.e. that ClickHouse is a columnar database and supports functions like ARRAY JOIN, SAMPLE, etc.).\n",
    "Return only the SQL query without any additional explanations or comments.\n",
    "\n",
    "You will be working with flight_data table which has the following schema:\n",
    "\n",
    "Column Name | Data Type | Null % | Example Value | Description\n",
    "--- | --- | --- | --- | ---\n",
    "year | Int64 | 0.0 | 2024 | Year of flight\n",
    "month | Int64 | 0.0 | 1 | Month of flight (1–12)\n",
    "day_of_month | Int64 | 0.0 | 1 | Day of the month\n",
    "day_of_week | Int64 | 0.0 | 1 | Day of week (1=Monday … 7=Sunday)\n",
    "fl_date | datetime64[ns] | 0.0 | 2024-01-01 00:00:00 | Flight date (YYYY-MM-DD)\n",
    "op_unique_carrier | object | 0.0 | 9E | Unique carrier code\n",
    "op_carrier_fl_num | float64 | 0.0 | 4814.0 | Flight number for reporting airline\n",
    "origin | object | 0.0 | JFK | Origin airport code\n",
    "origin_city_name | object | 0.0 | \"New York, NY\" | Origin city name\n",
    "origin_state_nm | object | 0.0 | New York | Origin state name\n",
    "dest | object | 0.0 | DTW | Destination airport code\n",
    "dest_city_name | object | 0.0 | \"Detroit, MI\" | Destination city name\n",
    "dest_state_nm | object | 0.0 | Michigan | Destination state name\n",
    "crs_dep_time | Int64 | 0.0 | 1252 | Scheduled departure time (local, hhmm)\n",
    "dep_time | float64 | 1.31 | 1247.0 | Actual departure time (local, hhmm)\n",
    "dep_delay | float64 | 1.31 | -5.0 | Departure delay in minutes (negative if early)\n",
    "taxi_out | float64 | 1.35 | 31.0 | Taxi out time in minutes\n",
    "wheels_off | float64 | 1.35 | 1318.0 | Wheels-off time (local, hhmm)\n",
    "wheels_on | float64 | 1.38 | 1442.0 | Wheels-on time (local, hhmm)\n",
    "taxi_in | float64 | 1.38 | 7.0 | Taxi in time in minutes\n",
    "crs_arr_time | Int64 | 0.0 | 1508 | Scheduled arrival time (local, hhmm)\n",
    "arr_time | float64 | 1.38 | 1449.0 | Actual arrival time (local, hhmm)\n",
    "arr_delay | float64 | 1.61 | -19.0 | Arrival delay in minutes (negative if early)\n",
    "cancelled | int64 | 0.0 | 0 | Cancelled flight indicator (0=No, 1=Yes)\n",
    "cancellation_code | object | 98.64 | B | Reason for cancellation (if cancelled)\n",
    "diverted | int64 | 0.0 | 0 | Diverted flight indicator (0=No, 1=Yes)\n",
    "crs_elapsed_time | float64 | 0.0 | 136.0 | Scheduled elapsed time in minutes\n",
    "actual_elapsed_time | float64 | 1.61 | 122.0 | Actual elapsed time in minutes\n",
    "air_time | float64 | 1.61 | 84.0 | Flight time in minutes\n",
    "distance | float64 | 0.0 | 509.0 | Distance between origin and destination (miles)\n",
    "carrier_delay | int64 | 0.0 | 0 | Carrier-related delay in minutes\n",
    "weather_delay | int64 | 0.0 | 0 | Weather-related delay in minutes\n",
    "nas_delay | int64 | 0.0 | 0 | National Air System delay in minutes\n",
    "security_delay | int64 | 0.0 | 0 | Security delay in minutes\n",
    "late_aircraft_delay | int64 | 0.0 | 0 | Late aircraft delay in minutes\n",
    "'''\n",
    "\n",
    "def generate_direct_sql(rec):\n",
    "    message = client.messages.create(\n",
    "        model=\"claude-3-5-haiku-latest\",\n",
    "        max_tokens = 8192,\n",
    "        system=base_sql_system_prompt,\n",
    "        messages=[\n",
    "            {'role': 'user', 'content': rec['question']}\n",
    "        ]\n",
    "    )\n",
    "    sql  = message.content[0].text\n",
    "    if sql.endswith('```'):\n",
    "        sql = sql[:-3]\n",
    "    if sql.startswith('```sql'):\n",
    "        sql = sql[6:]\n",
    "    return sql"
   ]
  },
  {
   "cell_type": "code",
   "execution_count": 9,
   "id": "7c9e0694",
   "metadata": {},
   "outputs": [
    {
     "name": "stderr",
     "output_type": "stream",
     "text": [
      "100%|██████████| 20/20 [00:44<00:00,  2.25s/it]\n"
     ]
    }
   ],
   "source": [
    "tmp = []\n",
    "for rec in tqdm.tqdm(qa_pairs_df.to_dict('records')):\n",
    "    llm_sql = generate_direct_sql(rec)\n",
    "    tmp.append(\n",
    "        {\n",
    "            'id': rec['id'],\n",
    "            'llm_direct_sql': llm_sql\n",
    "        }\n",
    "    )\n",
    "\n",
    "llm_direct_df = pd.DataFrame(tmp)"
   ]
  },
  {
   "cell_type": "code",
   "execution_count": 10,
   "id": "69e8d256",
   "metadata": {},
   "outputs": [],
   "source": [
    "direct_result_df = qa_pairs_df.merge(llm_direct_df, on = 'id')"
   ]
  },
  {
   "cell_type": "code",
   "execution_count": 11,
   "id": "c8252e35",
   "metadata": {},
   "outputs": [],
   "source": [
    "direct_result_df['llm_direct_output'] = direct_result_df['llm_direct_sql'].apply(get_clickhouse_data)"
   ]
  },
  {
   "cell_type": "code",
   "execution_count": 12,
   "id": "a49cf698",
   "metadata": {},
   "outputs": [],
   "source": [
    "def get_clickhouse_euristics(sql, output): \n",
    "    problems = []\n",
    "    if 'format tabseparatedwithnames' not in sql.lower():\n",
    "        problems.append('No format specified in SQL')\n",
    "    if 'Database returned the following error' in output:\n",
    "        problems.append('SQL execution error')\n",
    "    if len(problems) == 0:\n",
    "        return 'No problems detected'\n",
    "    else:\n",
    "        return ' + '.join(problems)"
   ]
  },
  {
   "cell_type": "code",
   "execution_count": 13,
   "id": "dbdccee1",
   "metadata": {},
   "outputs": [],
   "source": [
    "direct_result_df['llm_direct_sql_quality_heuristics'] = direct_result_df.apply(\n",
    "    lambda row: get_clickhouse_euristics(row['llm_direct_sql'], row['llm_direct_output']), axis=1)"
   ]
  },
  {
   "cell_type": "code",
   "execution_count": 14,
   "id": "85bb6152",
   "metadata": {},
   "outputs": [
    {
     "data": {
      "text/plain": [
       "llm_direct_sql_quality_heuristics\n",
       "No problems detected                                16\n",
       "No format specified in SQL + SQL execution error     2\n",
       "No format specified in SQL                           1\n",
       "SQL execution error                                  1\n",
       "Name: count, dtype: int64"
      ]
     },
     "execution_count": 14,
     "metadata": {},
     "output_type": "execute_result"
    }
   ],
   "source": [
    "direct_result_df['llm_direct_sql_quality_heuristics'].value_counts()"
   ]
  },
  {
   "cell_type": "code",
   "execution_count": 15,
   "id": "97d28705",
   "metadata": {},
   "outputs": [],
   "source": [
    "pd.set_option('display.max_colwidth', 5000)"
   ]
  },
  {
   "cell_type": "code",
   "execution_count": 180,
   "id": "7234492b",
   "metadata": {},
   "outputs": [],
   "source": [
    "# direct_result_df.head().T"
   ]
  },
  {
   "cell_type": "markdown",
   "id": "52ff6c8c",
   "metadata": {},
   "source": [
    "### LLM judge"
   ]
  },
  {
   "cell_type": "code",
   "execution_count": 17,
   "id": "9498ca23",
   "metadata": {},
   "outputs": [],
   "source": [
    "llm_judge_system_prompt = '''\n",
    "You are a senior analyst and your task is to compare two SQL query results and determine if they are equivalent. \n",
    "Focus only on the data returned by the queries, ignoring any formatting differences. \n",
    "Take into account the initial user query and information needed to answer it. For example, if user asked for the average distance, and both queries return the same average value but in one of them there's also a count of records, you should consider them equivalent, since both provide the same requested information.\n",
    "\n",
    "Answer with a JSON of the following structure:\n",
    "{\n",
    "  'reasoning': '<your reasoning here, 1-3 sentences on why you think they are equivalent or not>', \n",
    "  'equivalence': <true|false>\n",
    "}\n",
    "Ensure that ONLY JSON is in the output. \n",
    "\n",
    "You will be working with flight_data table which has the following schema:\n",
    "Column Name | Data Type | Null % | Example Value | Description\n",
    "--- | --- | --- | --- | ---\n",
    "year | Int64 | 0.0 | 2024 | Year of flight\n",
    "month | Int64 | 0.0 | 1 | Month of flight (1–12)\n",
    "day_of_month | Int64 | 0.0 | 1 | Day of the month\n",
    "day_of_week | Int64 | 0.0 | 1 | Day of week (1=Monday … 7=Sunday)\n",
    "fl_date | datetime64[ns] | 0.0 | 2024-01-01 00:00:00 | Flight date (YYYY-MM-DD)\n",
    "op_unique_carrier | object | 0.0 | 9E | Unique carrier code\n",
    "op_carrier_fl_num | float64 | 0.0 | 4814.0 | Flight number for reporting airline\n",
    "origin | object | 0.0 | JFK | Origin airport code\n",
    "origin_city_name | object | 0.0 | \"New York, NY\" | Origin city name\n",
    "origin_state_nm | object | 0.0 | New York | Origin state name\n",
    "dest | object | 0.0 | DTW | Destination airport code\n",
    "dest_city_name | object | 0.0 | \"Detroit, MI\" | Destination city name\n",
    "dest_state_nm | object | 0.0 | Michigan | Destination state name\n",
    "crs_dep_time | Int64 | 0.0 | 1252 | Scheduled departure time (local, hhmm)\n",
    "dep_time | float64 | 1.31 | 1247.0 | Actual departure time (local, hhmm)\n",
    "dep_delay | float64 | 1.31 | -5.0 | Departure delay in minutes (negative if early)\n",
    "taxi_out | float64 | 1.35 | 31.0 | Taxi out time in minutes\n",
    "wheels_off | float64 | 1.35 | 1318.0 | Wheels-off time (local, hhmm)\n",
    "wheels_on | float64 | 1.38 | 1442.0 | Wheels-on time (local, hhmm)\n",
    "taxi_in | float64 | 1.38 | 7.0 | Taxi in time in minutes\n",
    "crs_arr_time | Int64 | 0.0 | 1508 | Scheduled arrival time (local, hhmm)\n",
    "arr_time | float64 | 1.38 | 1449.0 | Actual arrival time (local, hhmm)\n",
    "arr_delay | float64 | 1.61 | -19.0 | Arrival delay in minutes (negative if early)\n",
    "cancelled | int64 | 0.0 | 0 | Cancelled flight indicator (0=No, 1=Yes)\n",
    "cancellation_code | object | 98.64 | B | Reason for cancellation (if cancelled)\n",
    "diverted | int64 | 0.0 | 0 | Diverted flight indicator (0=No, 1=Yes)\n",
    "crs_elapsed_time | float64 | 0.0 | 136.0 | Scheduled elapsed time in minutes\n",
    "actual_elapsed_time | float64 | 1.61 | 122.0 | Actual elapsed time in minutes\n",
    "air_time | float64 | 1.61 | 84.0 | Flight time in minutes\n",
    "distance | float64 | 0.0 | 509.0 | Distance between origin and destination (miles)\n",
    "carrier_delay | int64 | 0.0 | 0 | Carrier-related delay in minutes\n",
    "weather_delay | int64 | 0.0 | 0 | Weather-related delay in minutes\n",
    "nas_delay | int64 | 0.0 | 0 | National Air System delay in minutes\n",
    "security_delay | int64 | 0.0 | 0 | Security delay in minutes\n",
    "late_aircraft_delay | int64 | 0.0 | 0 | Late aircraft delay in minutes\n",
    "'''\n",
    "\n",
    "llm_judge_user_prompt_template = '''\n",
    "Here is the initial user query:\n",
    "{user_query}\n",
    "\n",
    "Here is the SQL query generated by the first analyst: \n",
    "SQL: \n",
    "{sql1} \n",
    "\n",
    "Database output: \n",
    "{result1}\n",
    "\n",
    "Here is the SQL query generated by the second analyst:\n",
    "SQL:\n",
    "{sql2}\n",
    "\n",
    "Database output:\n",
    "{result2}\n",
    "'''\n",
    "\n",
    "def llm_judge(rec, field_to_check):\n",
    "    user_prompt = llm_judge_user_prompt_template.format(\n",
    "        user_query = rec['question'],\n",
    "        sql1 = rec['answer'],\n",
    "        result1 = rec['answer_output'],\n",
    "        sql2 = rec[field_to_check + '_sql'],\n",
    "        result2 = rec[field_to_check + '_output']\n",
    "    )\n",
    "    message = client.messages.create(\n",
    "        model=\"claude-sonnet-4-5\",\n",
    "        max_tokens = 8192,\n",
    "        temperature=0.1,\n",
    "        system=llm_judge_system_prompt,\n",
    "        messages=[\n",
    "            {'role': 'user', 'content': user_prompt}\n",
    "        ]\n",
    "    )\n",
    "    data  = message.content[0].text\n",
    "    \n",
    "    # Strip markdown code blocks\n",
    "    data = data.strip()\n",
    "    if data.startswith('```json'):\n",
    "        data = data[7:]\n",
    "    elif data.startswith('```'):\n",
    "        data = data[3:]\n",
    "    if data.endswith('```'):\n",
    "        data = data[:-3]\n",
    "    \n",
    "    data = data.strip()\n",
    "    \n",
    "    # Debug: print the data if it's problematic\n",
    "    if not data:\n",
    "        raise ValueError(f\"Empty response from API\")\n",
    "    \n",
    "    return json.loads(data)"
   ]
  },
  {
   "cell_type": "code",
   "execution_count": 18,
   "id": "d155c99f",
   "metadata": {},
   "outputs": [
    {
     "name": "stderr",
     "output_type": "stream",
     "text": [
      "100%|██████████| 20/20 [01:28<00:00,  4.40s/it]\n"
     ]
    }
   ],
   "source": [
    "tmp = []\n",
    "\n",
    "for rec in tqdm.tqdm(direct_result_df.to_dict('records')):\n",
    "    try:\n",
    "        judgment = llm_judge(rec, 'llm_direct')\n",
    "    except Exception as e:\n",
    "        print(f\"Error processing record {rec['id']}: {e}\")\n",
    "        continue\n",
    "    tmp.append(\n",
    "        {\n",
    "            'id': rec['id'],\n",
    "            'llm_judge_reasoning': judgment['reasoning'],\n",
    "            'llm_judge_equivalence': judgment['equivalence']\n",
    "        }\n",
    "    )"
   ]
  },
  {
   "cell_type": "code",
   "execution_count": 19,
   "id": "098b12fd",
   "metadata": {},
   "outputs": [],
   "source": [
    "judge_df = pd.DataFrame(tmp)"
   ]
  },
  {
   "cell_type": "code",
   "execution_count": 20,
   "id": "a179699e",
   "metadata": {},
   "outputs": [
    {
     "data": {
      "text/plain": [
       "llm_judge_equivalence\n",
       "True     15\n",
       "False     5\n",
       "Name: count, dtype: int64"
      ]
     },
     "execution_count": 20,
     "metadata": {},
     "output_type": "execute_result"
    }
   ],
   "source": [
    "judge_df.llm_judge_equivalence.value_counts()"
   ]
  },
  {
   "cell_type": "code",
   "execution_count": 21,
   "id": "505568ff",
   "metadata": {},
   "outputs": [],
   "source": [
    "direct_result_df = direct_result_df.merge(judge_df, on = 'id')"
   ]
  },
  {
   "cell_type": "code",
   "execution_count": 22,
   "id": "17a79973",
   "metadata": {},
   "outputs": [],
   "source": [
    "# ! mkdir reflection_results"
   ]
  },
  {
   "cell_type": "code",
   "execution_count": 23,
   "id": "4fc3decf",
   "metadata": {},
   "outputs": [],
   "source": [
    "def get_final_result(heuristics, equivalence): \n",
    "    if equivalence: \n",
    "        return heuristics \n",
    "    if 'SQL execution error' in heuristics:\n",
    "        return heuristics\n",
    "    if heuristics == 'No problems detected':\n",
    "        return 'Wrong answer provided'\n",
    "    return heuristics + ' + Wrong answer provided'\n",
    "\n",
    "direct_result_df['llm_final_result'] = direct_result_df.apply(\n",
    "    lambda row: get_final_result(row['llm_direct_sql_quality_heuristics'], row['llm_judge_equivalence']), axis=1)"
   ]
  },
  {
   "cell_type": "code",
   "execution_count": 24,
   "id": "5818f512",
   "metadata": {},
   "outputs": [
    {
     "data": {
      "text/html": [
       "<div>\n",
       "<style scoped>\n",
       "    .dataframe tbody tr th:only-of-type {\n",
       "        vertical-align: middle;\n",
       "    }\n",
       "\n",
       "    .dataframe tbody tr th {\n",
       "        vertical-align: top;\n",
       "    }\n",
       "\n",
       "    .dataframe thead th {\n",
       "        text-align: right;\n",
       "    }\n",
       "</style>\n",
       "<table border=\"1\" class=\"dataframe\">\n",
       "  <thead>\n",
       "    <tr style=\"text-align: right;\">\n",
       "      <th></th>\n",
       "      <th>llm_final_result</th>\n",
       "      <th>size</th>\n",
       "    </tr>\n",
       "  </thead>\n",
       "  <tbody>\n",
       "    <tr>\n",
       "      <th>0</th>\n",
       "      <td>No format specified in SQL</td>\n",
       "      <td>1</td>\n",
       "    </tr>\n",
       "    <tr>\n",
       "      <th>1</th>\n",
       "      <td>No format specified in SQL + SQL execution error</td>\n",
       "      <td>2</td>\n",
       "    </tr>\n",
       "    <tr>\n",
       "      <th>2</th>\n",
       "      <td>No problems detected</td>\n",
       "      <td>14</td>\n",
       "    </tr>\n",
       "    <tr>\n",
       "      <th>3</th>\n",
       "      <td>SQL execution error</td>\n",
       "      <td>1</td>\n",
       "    </tr>\n",
       "    <tr>\n",
       "      <th>4</th>\n",
       "      <td>Wrong answer provided</td>\n",
       "      <td>2</td>\n",
       "    </tr>\n",
       "  </tbody>\n",
       "</table>\n",
       "</div>"
      ],
      "text/plain": [
       "                                   llm_final_result  size\n",
       "0                        No format specified in SQL     1\n",
       "1  No format specified in SQL + SQL execution error     2\n",
       "2                              No problems detected    14\n",
       "3                               SQL execution error     1\n",
       "4                             Wrong answer provided     2"
      ]
     },
     "execution_count": 24,
     "metadata": {},
     "output_type": "execute_result"
    }
   ],
   "source": [
    "direct_result_df.groupby(['llm_final_result'], as_index=False).size()"
   ]
  },
  {
   "cell_type": "code",
   "execution_count": 29,
   "id": "af5e60da",
   "metadata": {},
   "outputs": [],
   "source": [
    "direct_result_df.to_csv('./reflection_results/direct_results.csv', index=False)"
   ]
  },
  {
   "cell_type": "code",
   "execution_count": 30,
   "id": "af0ce3d3",
   "metadata": {},
   "outputs": [],
   "source": [
    "direct_result_df.to_clipboard(index=False)"
   ]
  },
  {
   "cell_type": "markdown",
   "id": "31a0c37e",
   "metadata": {},
   "source": [
    "### Simple reflection "
   ]
  },
  {
   "cell_type": "code",
   "execution_count": 62,
   "id": "d1841ce1",
   "metadata": {},
   "outputs": [],
   "source": [
    "simple_reflection_results_df = direct_result_df.copy()\\\n",
    "    .drop(['llm_judge_reasoning', 'llm_judge_equivalence'], axis = 1).rename(\n",
    "        columns = {'llm_final_result': 'llm_direct_final_result'}\n",
    "    )"
   ]
  },
  {
   "cell_type": "code",
   "execution_count": 64,
   "id": "aeea047f",
   "metadata": {},
   "outputs": [],
   "source": [
    "simple_reflection_user_prompt_template = '''\n",
    "Your task is to assess the SQL query generated by another analyst and propose improvements if necessary.\n",
    "Check whether the query is syntactically correct and optimized for performance. \n",
    "Pay attention to nuances in data (especially time stamps types, whether to use total elapsed time or time in the air, etc).\n",
    "Ensure that the query answers the initial user question accurately. \n",
    "As the result return the following JSON: \n",
    "{{\n",
    "  'reasoning': '<your reasoning here, 2-4 sentences on why you made changes or not>', \n",
    "  'refined_sql': '<the improved SQL query here>'\n",
    "}}\n",
    "Ensure that ONLY JSON is in the output and nothing else. Ensure that the output JSON is valid. \n",
    "\n",
    "Here is the initial user query:\n",
    "{user_query}\n",
    "\n",
    "Here is the SQL query generated by another analyst: \n",
    "{sql} \n",
    "'''\n",
    "\n",
    "def simple_reflection(rec) -> str:\n",
    "    user_prompt = simple_reflection_user_prompt_template.format(\n",
    "        user_query=rec['question'],\n",
    "        sql=rec['llm_direct_sql']\n",
    "    )\n",
    "    message = client.messages.create(\n",
    "        model=\"claude-3-5-haiku-latest\",\n",
    "        max_tokens = 8192,\n",
    "        system=base_sql_system_prompt,\n",
    "        messages=[\n",
    "            {'role': 'user', 'content': user_prompt}\n",
    "        ]\n",
    "    )\n",
    "\n",
    "    data  = message.content[0].text\n",
    "    # Strip markdown code blocks\n",
    "    data = data.strip()\n",
    "    if data.startswith('```json'):\n",
    "        data = data[7:]\n",
    "    elif data.startswith('```'):\n",
    "        data = data[3:]\n",
    "    if data.endswith('```'):\n",
    "        data = data[:-3]\n",
    "    \n",
    "    data = data.strip()\n",
    "    \n",
    "    # Debug: print the data if it's problematic\n",
    "    if not data:\n",
    "        raise ValueError(f\"Empty response from API\")\n",
    "    \n",
    "    return json.loads(data.replace('\\n', ' '))"
   ]
  },
  {
   "cell_type": "code",
   "execution_count": 65,
   "id": "6bae6a10",
   "metadata": {},
   "outputs": [
    {
     "name": "stderr",
     "output_type": "stream",
     "text": [
      "100%|██████████| 20/20 [01:14<00:00,  3.72s/it]\n"
     ]
    }
   ],
   "source": [
    "tmp = []\n",
    "\n",
    "for rec in tqdm.tqdm(simple_reflection_results_df.to_dict('records')):\n",
    "    try:\n",
    "        res = simple_reflection(rec)\n",
    "        tmp.append(\n",
    "            {\n",
    "                'id': rec['id'],\n",
    "                'llm_refined_sql': res['refined_sql'],\n",
    "                'llm_refined_reasoning': res['reasoning']\n",
    "            }\n",
    "        )\n",
    "    except Exception as e:\n",
    "        print(f\"Error processing record {rec['id']}: {e}\")\n",
    "        raise(e)"
   ]
  },
  {
   "cell_type": "code",
   "execution_count": 66,
   "id": "77568ab6",
   "metadata": {},
   "outputs": [],
   "source": [
    "simple_reflection_results_df = simple_reflection_results_df.merge(pd.DataFrame(tmp), on = 'id')"
   ]
  },
  {
   "cell_type": "code",
   "execution_count": 67,
   "id": "0fb2266e",
   "metadata": {},
   "outputs": [
    {
     "data": {
      "text/plain": [
       "20"
      ]
     },
     "execution_count": 67,
     "metadata": {},
     "output_type": "execute_result"
    }
   ],
   "source": [
    "simple_reflection_results_df.shape[0]"
   ]
  },
  {
   "cell_type": "code",
   "execution_count": 68,
   "id": "2d48e222",
   "metadata": {},
   "outputs": [],
   "source": [
    "simple_reflection_results_df['llm_refined_output'] = simple_reflection_results_df.llm_refined_sql\\\n",
    "    .map(get_clickhouse_data)"
   ]
  },
  {
   "cell_type": "code",
   "execution_count": 69,
   "id": "b8e130cd",
   "metadata": {},
   "outputs": [],
   "source": [
    "simple_reflection_results_df['llm_refined_sql_quality_heuristics'] = simple_reflection_results_df.apply(\n",
    "    lambda row: get_clickhouse_euristics(row['llm_refined_sql'], row['llm_refined_output']), axis=1)"
   ]
  },
  {
   "cell_type": "code",
   "execution_count": 70,
   "id": "29a37e92",
   "metadata": {},
   "outputs": [
    {
     "name": "stderr",
     "output_type": "stream",
     "text": [
      "100%|██████████| 20/20 [01:28<00:00,  4.41s/it]\n"
     ]
    }
   ],
   "source": [
    "tmp = []\n",
    "\n",
    "for rec in tqdm.tqdm(simple_reflection_results_df.to_dict('records')):\n",
    "    try:\n",
    "        judgment = llm_judge(rec, 'llm_refined')\n",
    "    except Exception as e:\n",
    "        print(f\"Error processing record {rec['id']}: {e}\")\n",
    "        continue\n",
    "    tmp.append(\n",
    "        {\n",
    "            'id': rec['id'],\n",
    "            'llm_judge_reasoning': judgment['reasoning'],\n",
    "            'llm_judge_equivalence': judgment['equivalence']\n",
    "        }\n",
    "    )\n",
    "\n",
    "judge_df = pd.DataFrame(tmp)"
   ]
  },
  {
   "cell_type": "code",
   "execution_count": 71,
   "id": "1a985abe",
   "metadata": {},
   "outputs": [
    {
     "data": {
      "text/plain": [
       "(20, 14)"
      ]
     },
     "execution_count": 71,
     "metadata": {},
     "output_type": "execute_result"
    }
   ],
   "source": [
    "simple_reflection_results_df = simple_reflection_results_df.merge(judge_df, on = 'id')\n",
    "simple_reflection_results_df.shape"
   ]
  },
  {
   "cell_type": "code",
   "execution_count": 72,
   "id": "00a70ea4",
   "metadata": {},
   "outputs": [],
   "source": [
    "simple_reflection_results_df['llm_final_result'] = simple_reflection_results_df.apply(\n",
    "    lambda row: get_final_result(row['llm_refined_sql_quality_heuristics'], row['llm_judge_equivalence']), axis=1)"
   ]
  },
  {
   "cell_type": "code",
   "execution_count": 73,
   "id": "37d02616",
   "metadata": {},
   "outputs": [
    {
     "data": {
      "text/html": [
       "<div>\n",
       "<style scoped>\n",
       "    .dataframe tbody tr th:only-of-type {\n",
       "        vertical-align: middle;\n",
       "    }\n",
       "\n",
       "    .dataframe tbody tr th {\n",
       "        vertical-align: top;\n",
       "    }\n",
       "\n",
       "    .dataframe thead th {\n",
       "        text-align: right;\n",
       "    }\n",
       "</style>\n",
       "<table border=\"1\" class=\"dataframe\">\n",
       "  <thead>\n",
       "    <tr style=\"text-align: right;\">\n",
       "      <th></th>\n",
       "      <th>llm_final_result</th>\n",
       "      <th>size</th>\n",
       "    </tr>\n",
       "  </thead>\n",
       "  <tbody>\n",
       "    <tr>\n",
       "      <th>0</th>\n",
       "      <td>No format specified in SQL + SQL execution error</td>\n",
       "      <td>2</td>\n",
       "    </tr>\n",
       "    <tr>\n",
       "      <th>1</th>\n",
       "      <td>No problems detected</td>\n",
       "      <td>14</td>\n",
       "    </tr>\n",
       "    <tr>\n",
       "      <th>2</th>\n",
       "      <td>SQL execution error</td>\n",
       "      <td>2</td>\n",
       "    </tr>\n",
       "    <tr>\n",
       "      <th>3</th>\n",
       "      <td>Wrong answer provided</td>\n",
       "      <td>2</td>\n",
       "    </tr>\n",
       "  </tbody>\n",
       "</table>\n",
       "</div>"
      ],
      "text/plain": [
       "                                   llm_final_result  size\n",
       "0  No format specified in SQL + SQL execution error     2\n",
       "1                              No problems detected    14\n",
       "2                               SQL execution error     2\n",
       "3                             Wrong answer provided     2"
      ]
     },
     "execution_count": 73,
     "metadata": {},
     "output_type": "execute_result"
    }
   ],
   "source": [
    "simple_reflection_results_df.groupby(['llm_final_result'], as_index=False).size()"
   ]
  },
  {
   "cell_type": "code",
   "execution_count": 77,
   "id": "af209f3b",
   "metadata": {},
   "outputs": [
    {
     "data": {
      "text/html": [
       "<div>\n",
       "<style scoped>\n",
       "    .dataframe tbody tr th:only-of-type {\n",
       "        vertical-align: middle;\n",
       "    }\n",
       "\n",
       "    .dataframe tbody tr th {\n",
       "        vertical-align: top;\n",
       "    }\n",
       "\n",
       "    .dataframe thead th {\n",
       "        text-align: right;\n",
       "    }\n",
       "</style>\n",
       "<table border=\"1\" class=\"dataframe\">\n",
       "  <thead>\n",
       "    <tr style=\"text-align: right;\">\n",
       "      <th></th>\n",
       "      <th>llm_direct_final_result</th>\n",
       "      <th>llm_final_result</th>\n",
       "      <th>size</th>\n",
       "    </tr>\n",
       "  </thead>\n",
       "  <tbody>\n",
       "    <tr>\n",
       "      <th>2</th>\n",
       "      <td>No problems detected</td>\n",
       "      <td>No problems detected</td>\n",
       "      <td>12</td>\n",
       "    </tr>\n",
       "    <tr>\n",
       "      <th>1</th>\n",
       "      <td>No format specified in SQL + SQL execution error</td>\n",
       "      <td>No format specified in SQL + SQL execution error</td>\n",
       "      <td>2</td>\n",
       "    </tr>\n",
       "    <tr>\n",
       "      <th>0</th>\n",
       "      <td>No format specified in SQL</td>\n",
       "      <td>No problems detected</td>\n",
       "      <td>1</td>\n",
       "    </tr>\n",
       "    <tr>\n",
       "      <th>3</th>\n",
       "      <td>No problems detected</td>\n",
       "      <td>SQL execution error</td>\n",
       "      <td>1</td>\n",
       "    </tr>\n",
       "    <tr>\n",
       "      <th>4</th>\n",
       "      <td>No problems detected</td>\n",
       "      <td>Wrong answer provided</td>\n",
       "      <td>1</td>\n",
       "    </tr>\n",
       "    <tr>\n",
       "      <th>5</th>\n",
       "      <td>SQL execution error</td>\n",
       "      <td>SQL execution error</td>\n",
       "      <td>1</td>\n",
       "    </tr>\n",
       "    <tr>\n",
       "      <th>6</th>\n",
       "      <td>Wrong answer provided</td>\n",
       "      <td>No problems detected</td>\n",
       "      <td>1</td>\n",
       "    </tr>\n",
       "    <tr>\n",
       "      <th>7</th>\n",
       "      <td>Wrong answer provided</td>\n",
       "      <td>Wrong answer provided</td>\n",
       "      <td>1</td>\n",
       "    </tr>\n",
       "  </tbody>\n",
       "</table>\n",
       "</div>"
      ],
      "text/plain": [
       "                            llm_direct_final_result  \\\n",
       "2                              No problems detected   \n",
       "1  No format specified in SQL + SQL execution error   \n",
       "0                        No format specified in SQL   \n",
       "3                              No problems detected   \n",
       "4                              No problems detected   \n",
       "5                               SQL execution error   \n",
       "6                             Wrong answer provided   \n",
       "7                             Wrong answer provided   \n",
       "\n",
       "                                   llm_final_result  size  \n",
       "2                              No problems detected    12  \n",
       "1  No format specified in SQL + SQL execution error     2  \n",
       "0                              No problems detected     1  \n",
       "3                               SQL execution error     1  \n",
       "4                             Wrong answer provided     1  \n",
       "5                               SQL execution error     1  \n",
       "6                              No problems detected     1  \n",
       "7                             Wrong answer provided     1  "
      ]
     },
     "execution_count": 77,
     "metadata": {},
     "output_type": "execute_result"
    }
   ],
   "source": [
    "simple_reflection_results_df.groupby(['llm_direct_final_result', 'llm_final_result'], as_index=False).size()\\\n",
    "    .sort_values('size', ascending=False)"
   ]
  },
  {
   "cell_type": "code",
   "execution_count": 74,
   "id": "1190b974",
   "metadata": {},
   "outputs": [],
   "source": [
    "simple_reflection_results_df.to_csv('./reflection_results/simple_reflection_results.csv', index=False)"
   ]
  },
  {
   "cell_type": "code",
   "execution_count": 75,
   "id": "0750f80a",
   "metadata": {},
   "outputs": [],
   "source": [
    "simple_reflection_results_df.to_clipboard(index = False)"
   ]
  },
  {
   "cell_type": "markdown",
   "id": "0abbf30c",
   "metadata": {},
   "source": [
    "### Reflection with feedback"
   ]
  },
  {
   "cell_type": "code",
   "execution_count": 132,
   "id": "a5c13bf0",
   "metadata": {},
   "outputs": [],
   "source": [
    "feedback_reflection_results_df = direct_result_df.copy()\\\n",
    "    .drop(['llm_judge_reasoning', 'llm_judge_equivalence'], axis = 1)\\\n",
    "    .rename(\n",
    "        columns = {\n",
    "            'llm_final_result': 'llm_direct_final_result'\n",
    "        }\n",
    "    )"
   ]
  },
  {
   "cell_type": "code",
   "execution_count": 181,
   "id": "337dd9bd",
   "metadata": {},
   "outputs": [],
   "source": [
    "# feedback_reflection_results_df.head().T"
   ]
  },
  {
   "cell_type": "code",
   "execution_count": 134,
   "id": "59ddbc87",
   "metadata": {},
   "outputs": [],
   "source": [
    "feedback_reflection_user_prompt_template = '''\n",
    "Your task is to assess the SQL query generated by another analyst and propose improvements if necessary.\n",
    "Check whether the query is syntactically correct and optimized for performance. \n",
    "Pay attention to nuances in data (especially time stamps types, whether to use total elapsed time or time in the air, etc).\n",
    "Ensure that the query answers the initial user question accurately. \n",
    "\n",
    "As the result return the following JSON: \n",
    "{{\n",
    "  'reasoning': '<your reasoning here, 2-4 sentences on why you made changes or not>', \n",
    "  'refined_sql': '<the improved SQL query here>'\n",
    "}}\n",
    "Ensure that ONLY JSON is in the output and nothing else. Ensure that the output JSON is valid. \n",
    "\n",
    "\n",
    "Here is the initial user query:\n",
    "{user_query}\n",
    "\n",
    "Here is the SQL query generated by another analyst: \n",
    "{sql} \n",
    "\n",
    "Here is the database output of this query: \n",
    "{output}\n",
    "\n",
    "We run an automatic check on the SQL query to check whether it has fomatting issues. Here's the output: \n",
    "{formatting}\n",
    "'''\n",
    "\n",
    "def feedback_reflection(rec) -> str:\n",
    "    if 'No format specified in SQL' in rec['llm_direct_sql_quality_heuristics']:\n",
    "        formatting = 'SQL missing formatting. Specify \"format TabSeparatedWithNames\" to ensure that column names are also returned'\n",
    "    else: \n",
    "        formatting = 'Formatting is correct'\n",
    "    user_prompt = feedback_reflection_user_prompt_template.format(\n",
    "        user_query=rec['question'],\n",
    "        sql=rec['llm_direct_sql'],\n",
    "        output=rec['llm_direct_output'],\n",
    "        formatting=formatting\n",
    "    )\n",
    "    message = client.messages.create(\n",
    "        model=\"claude-3-5-haiku-latest\",\n",
    "        max_tokens = 8192,\n",
    "        system=base_sql_system_prompt,\n",
    "        messages=[\n",
    "            {'role': 'user', 'content': user_prompt}\n",
    "        ]\n",
    "    )\n",
    "    data  = message.content[0].text\n",
    "    # Strip markdown code blocks\n",
    "    data = data.strip()\n",
    "    if data.startswith('```json'):\n",
    "        data = data[7:]\n",
    "    elif data.startswith('```'):\n",
    "        data = data[3:]\n",
    "    if data.endswith('```'):\n",
    "        data = data[:-3]\n",
    "    \n",
    "    data = data.strip()\n",
    "    \n",
    "    # Debug: print the data if it's problematic\n",
    "    if not data:\n",
    "        raise ValueError(f\"Empty response from API\")\n",
    "    \n",
    "    return json.loads(data.replace('\\n', ' '))"
   ]
  },
  {
   "cell_type": "code",
   "execution_count": 135,
   "id": "34c6eeac",
   "metadata": {},
   "outputs": [
    {
     "name": "stderr",
     "output_type": "stream",
     "text": [
      "100%|██████████| 20/20 [01:17<00:00,  3.88s/it]\n"
     ]
    }
   ],
   "source": [
    "tmp = []\n",
    "\n",
    "for rec in tqdm.tqdm(feedback_reflection_results_df.to_dict('records')):\n",
    "    try:\n",
    "        res = feedback_reflection(rec)\n",
    "    except Exception as e:\n",
    "        print(f\"Error processing record {rec['id']}: {e}\")\n",
    "        continue\n",
    "    tmp.append(\n",
    "        {\n",
    "            'id': rec['id'],\n",
    "            'llm_refined_sql': res['refined_sql'],\n",
    "            'llm_refined_reasoning': res['reasoning']\n",
    "        }\n",
    "    )"
   ]
  },
  {
   "cell_type": "code",
   "execution_count": 136,
   "id": "750709ea",
   "metadata": {},
   "outputs": [],
   "source": [
    "feedback_reflection_results_df = feedback_reflection_results_df.merge(pd.DataFrame(tmp), on = 'id')"
   ]
  },
  {
   "cell_type": "code",
   "execution_count": 137,
   "id": "bd65c660",
   "metadata": {},
   "outputs": [
    {
     "data": {
      "text/plain": [
       "20"
      ]
     },
     "execution_count": 137,
     "metadata": {},
     "output_type": "execute_result"
    }
   ],
   "source": [
    "feedback_reflection_results_df.shape[0]"
   ]
  },
  {
   "cell_type": "code",
   "execution_count": 138,
   "id": "6f6b6799",
   "metadata": {},
   "outputs": [],
   "source": [
    "feedback_reflection_results_df['llm_refined_output'] = feedback_reflection_results_df.llm_refined_sql\\\n",
    "    .map(get_clickhouse_data)"
   ]
  },
  {
   "cell_type": "code",
   "execution_count": 139,
   "id": "4ab760d8",
   "metadata": {},
   "outputs": [],
   "source": [
    "feedback_reflection_results_df['llm_refined_sql_quality_heuristics'] = feedback_reflection_results_df.apply(\n",
    "    lambda row: get_clickhouse_euristics(row['llm_refined_sql'], row['llm_refined_output']), axis=1)"
   ]
  },
  {
   "cell_type": "code",
   "execution_count": 140,
   "id": "30ef1250",
   "metadata": {},
   "outputs": [
    {
     "name": "stderr",
     "output_type": "stream",
     "text": [
      "100%|██████████| 20/20 [01:33<00:00,  4.65s/it]\n"
     ]
    }
   ],
   "source": [
    "tmp = []\n",
    "\n",
    "for rec in tqdm.tqdm(feedback_reflection_results_df.to_dict('records')):\n",
    "    try:\n",
    "        judgment = llm_judge(rec, 'llm_refined')\n",
    "    except Exception as e:\n",
    "        print(f\"Error processing record {rec['id']}: {e}\")\n",
    "        continue\n",
    "    tmp.append(\n",
    "        {\n",
    "            'id': rec['id'],\n",
    "            'llm_judge_reasoning': judgment['reasoning'],\n",
    "            'llm_judge_equivalence': judgment['equivalence']\n",
    "        }\n",
    "    )\n",
    "\n",
    "judge_df = pd.DataFrame(tmp)"
   ]
  },
  {
   "cell_type": "code",
   "execution_count": 141,
   "id": "9e913a11",
   "metadata": {},
   "outputs": [
    {
     "data": {
      "text/plain": [
       "(20, 14)"
      ]
     },
     "execution_count": 141,
     "metadata": {},
     "output_type": "execute_result"
    }
   ],
   "source": [
    "feedback_reflection_results_df = feedback_reflection_results_df.merge(judge_df, on = 'id')\n",
    "feedback_reflection_results_df.shape"
   ]
  },
  {
   "cell_type": "code",
   "execution_count": 142,
   "id": "c0639ce6",
   "metadata": {},
   "outputs": [],
   "source": [
    "feedback_reflection_results_df['llm_final_result'] = feedback_reflection_results_df.apply(\n",
    "    lambda row: get_final_result(row['llm_refined_sql_quality_heuristics'], row['llm_judge_equivalence']), axis=1)"
   ]
  },
  {
   "cell_type": "code",
   "execution_count": 154,
   "id": "7a4e2bb7",
   "metadata": {},
   "outputs": [],
   "source": [
    "# manual labelling corrections\n",
    "# feedback_reflection_results_df['llm_final_result'] = list(map(\n",
    "#     lambda id, result: result if id != 15 else 'No problems detected',\n",
    "#     feedback_reflection_results_df.id,\n",
    "#     feedback_reflection_results_df.llm_final_result\n",
    "# ))"
   ]
  },
  {
   "cell_type": "code",
   "execution_count": 149,
   "id": "00d11d7c",
   "metadata": {},
   "outputs": [
    {
     "data": {
      "text/html": [
       "<div>\n",
       "<style scoped>\n",
       "    .dataframe tbody tr th:only-of-type {\n",
       "        vertical-align: middle;\n",
       "    }\n",
       "\n",
       "    .dataframe tbody tr th {\n",
       "        vertical-align: top;\n",
       "    }\n",
       "\n",
       "    .dataframe thead th {\n",
       "        text-align: right;\n",
       "    }\n",
       "</style>\n",
       "<table border=\"1\" class=\"dataframe\">\n",
       "  <thead>\n",
       "    <tr style=\"text-align: right;\">\n",
       "      <th></th>\n",
       "      <th>llm_final_result</th>\n",
       "      <th>size</th>\n",
       "    </tr>\n",
       "  </thead>\n",
       "  <tbody>\n",
       "    <tr>\n",
       "      <th>0</th>\n",
       "      <td>No problems detected</td>\n",
       "      <td>17</td>\n",
       "    </tr>\n",
       "    <tr>\n",
       "      <th>1</th>\n",
       "      <td>Wrong answer provided</td>\n",
       "      <td>3</td>\n",
       "    </tr>\n",
       "  </tbody>\n",
       "</table>\n",
       "</div>"
      ],
      "text/plain": [
       "        llm_final_result  size\n",
       "0   No problems detected    17\n",
       "1  Wrong answer provided     3"
      ]
     },
     "execution_count": 149,
     "metadata": {},
     "output_type": "execute_result"
    }
   ],
   "source": [
    "feedback_reflection_results_df.groupby(['llm_final_result'], as_index=False).size()"
   ]
  },
  {
   "cell_type": "code",
   "execution_count": 150,
   "id": "00612e34",
   "metadata": {},
   "outputs": [],
   "source": [
    "# feedback_reflection_results_df.groupby(['llm_direct_final_result', 'llm_final_result'], as_index=False).size()\\\n",
    "#     .sort_values('size', ascending = False)"
   ]
  },
  {
   "cell_type": "code",
   "execution_count": 151,
   "id": "7c3e487d",
   "metadata": {},
   "outputs": [],
   "source": [
    "feedback_reflection_results_df.to_clipboard(index = False)"
   ]
  },
  {
   "cell_type": "markdown",
   "id": "28c22f53",
   "metadata": {},
   "source": [
    "### Compare results"
   ]
  },
  {
   "cell_type": "code",
   "execution_count": 155,
   "id": "531da31d",
   "metadata": {},
   "outputs": [],
   "source": [
    "cmp_df = pd.DataFrame()"
   ]
  },
  {
   "cell_type": "code",
   "execution_count": 156,
   "id": "a650242d",
   "metadata": {},
   "outputs": [],
   "source": [
    "cmp_df['direct generation'] = direct_result_df.groupby(['llm_final_result'], as_index=True).id.count()\n",
    "cmp_df['simple reflection'] = simple_reflection_results_df.groupby(['llm_final_result'], as_index=True).id.count()\n",
    "cmp_df['feedback reflection'] = feedback_reflection_results_df.groupby(['llm_final_result'], as_index=True).id.count()"
   ]
  },
  {
   "cell_type": "code",
   "execution_count": 157,
   "id": "f98bfa0a",
   "metadata": {},
   "outputs": [],
   "source": [
    "cmp_df.fillna(0, inplace=True)"
   ]
  },
  {
   "cell_type": "code",
   "execution_count": 158,
   "id": "955afb12",
   "metadata": {},
   "outputs": [],
   "source": [
    "cmp_df.sort_values('direct generation', ascending=False, inplace=True)"
   ]
  },
  {
   "cell_type": "code",
   "execution_count": 159,
   "id": "9ece6750",
   "metadata": {},
   "outputs": [
    {
     "data": {
      "text/html": [
       "<div>\n",
       "<style scoped>\n",
       "    .dataframe tbody tr th:only-of-type {\n",
       "        vertical-align: middle;\n",
       "    }\n",
       "\n",
       "    .dataframe tbody tr th {\n",
       "        vertical-align: top;\n",
       "    }\n",
       "\n",
       "    .dataframe thead th {\n",
       "        text-align: right;\n",
       "    }\n",
       "</style>\n",
       "<table border=\"1\" class=\"dataframe\">\n",
       "  <thead>\n",
       "    <tr style=\"text-align: right;\">\n",
       "      <th></th>\n",
       "      <th>direct generation</th>\n",
       "      <th>simple reflection</th>\n",
       "      <th>feedback reflection</th>\n",
       "    </tr>\n",
       "    <tr>\n",
       "      <th>llm_final_result</th>\n",
       "      <th></th>\n",
       "      <th></th>\n",
       "      <th></th>\n",
       "    </tr>\n",
       "  </thead>\n",
       "  <tbody>\n",
       "    <tr>\n",
       "      <th>No problems detected</th>\n",
       "      <td>14</td>\n",
       "      <td>14.0</td>\n",
       "      <td>17.0</td>\n",
       "    </tr>\n",
       "    <tr>\n",
       "      <th>No format specified in SQL + SQL execution error</th>\n",
       "      <td>2</td>\n",
       "      <td>2.0</td>\n",
       "      <td>0.0</td>\n",
       "    </tr>\n",
       "    <tr>\n",
       "      <th>Wrong answer provided</th>\n",
       "      <td>2</td>\n",
       "      <td>2.0</td>\n",
       "      <td>3.0</td>\n",
       "    </tr>\n",
       "    <tr>\n",
       "      <th>No format specified in SQL</th>\n",
       "      <td>1</td>\n",
       "      <td>0.0</td>\n",
       "      <td>0.0</td>\n",
       "    </tr>\n",
       "    <tr>\n",
       "      <th>SQL execution error</th>\n",
       "      <td>1</td>\n",
       "      <td>2.0</td>\n",
       "      <td>0.0</td>\n",
       "    </tr>\n",
       "  </tbody>\n",
       "</table>\n",
       "</div>"
      ],
      "text/plain": [
       "                                                  direct generation  \\\n",
       "llm_final_result                                                      \n",
       "No problems detected                                             14   \n",
       "No format specified in SQL + SQL execution error                  2   \n",
       "Wrong answer provided                                             2   \n",
       "No format specified in SQL                                        1   \n",
       "SQL execution error                                               1   \n",
       "\n",
       "                                                  simple reflection  \\\n",
       "llm_final_result                                                      \n",
       "No problems detected                                           14.0   \n",
       "No format specified in SQL + SQL execution error                2.0   \n",
       "Wrong answer provided                                           2.0   \n",
       "No format specified in SQL                                      0.0   \n",
       "SQL execution error                                             2.0   \n",
       "\n",
       "                                                  feedback reflection  \n",
       "llm_final_result                                                       \n",
       "No problems detected                                             17.0  \n",
       "No format specified in SQL + SQL execution error                  0.0  \n",
       "Wrong answer provided                                             3.0  \n",
       "No format specified in SQL                                        0.0  \n",
       "SQL execution error                                               0.0  "
      ]
     },
     "execution_count": 159,
     "metadata": {},
     "output_type": "execute_result"
    }
   ],
   "source": [
    "cmp_df"
   ]
  },
  {
   "cell_type": "code",
   "execution_count": null,
   "id": "b5c78ab5",
   "metadata": {},
   "outputs": [],
   "source": [
    "import plotly\n",
    "\n",
    "def blend_colours(colour1, colour2, weight):\n",
    "    \"\"\"\n",
    "    Blend two colors in hexadecimal format.\n",
    "    \n",
    "    Args:\n",
    "        colour1: First color in hex format (e.g., '#4C78A8')\n",
    "        colour2: Second color in hex format (e.g., '#FF5733')\n",
    "        weight: Weight of first color (0 to 1), where 0 = all colour2, 1 = all colour1\n",
    "    \n",
    "    Returns:\n",
    "        Blended color in hex format (e.g., '#A34D6D')\n",
    "    \"\"\"\n",
    "    # Remove '#' if present\n",
    "    c1 = colour1.lstrip('#')\n",
    "    c2 = colour2.lstrip('#')\n",
    "    \n",
    "    # Convert hex to RGB\n",
    "    r1, g1, b1 = int(c1[0:2], 16), int(c1[2:4], 16), int(c1[4:6], 16)\n",
    "    r2, g2, b2 = int(c2[0:2], 16), int(c2[2:4], 16), int(c2[4:6], 16)\n",
    "    \n",
    "    # Blend RGB values\n",
    "    r = int(r1 * weight + r2 * (1 - weight))\n",
    "    g = int(g1 * weight + g2 * (1 - weight))\n",
    "    b = int(b1 * weight + b2 * (1 - weight))\n",
    "    \n",
    "    # Convert back to hex\n",
    "    return f'#{r:02X}{g:02X}{b:02X}'"
   ]
  },
  {
   "cell_type": "code",
   "execution_count": null,
   "id": "7292b3b6",
   "metadata": {},
   "outputs": [
    {
     "data": {
      "application/vnd.plotly.v1+json": {
       "config": {
        "plotlyServerURL": "https://plot.ly"
       },
       "data": [
        {
         "hovertemplate": "accuracy=No problems detected<br>number of questions=%{x}<br>=%{y}<extra></extra>",
         "legendgroup": "No problems detected",
         "marker": {
          "color": "#54A24B",
          "pattern": {
           "shape": ""
          }
         },
         "name": "No problems detected",
         "orientation": "h",
         "showlegend": true,
         "textposition": "auto",
         "texttemplate": "%{x:d}",
         "type": "bar",
         "x": {
          "bdata": "AAAAAAAALEAAAAAAAAAsQAAAAAAAADFA",
          "dtype": "f8"
         },
         "xaxis": "x",
         "y": [
          "direct generation",
          "simple reflection",
          "feedback reflection"
         ],
         "yaxis": "y"
        },
        {
         "hovertemplate": "accuracy=No format specified in SQL<br>number of questions=%{x}<br>=%{y}<extra></extra>",
         "legendgroup": "No format specified in SQL",
         "marker": {
          "color": "#72B7B2",
          "pattern": {
           "shape": ""
          }
         },
         "name": "No format specified in SQL",
         "orientation": "h",
         "showlegend": true,
         "textposition": "auto",
         "texttemplate": "%{x:d}",
         "type": "bar",
         "x": {
          "bdata": "AAAAAAAA8D8AAAAAAAAAAAAAAAAAAAAA",
          "dtype": "f8"
         },
         "xaxis": "x",
         "y": [
          "direct generation",
          "simple reflection",
          "feedback reflection"
         ],
         "yaxis": "y"
        },
        {
         "hovertemplate": "accuracy=Wrong answer provided<br>number of questions=%{x}<br>=%{y}<extra></extra>",
         "legendgroup": "Wrong answer provided",
         "marker": {
          "color": "#F58518",
          "pattern": {
           "shape": ""
          }
         },
         "name": "Wrong answer provided",
         "orientation": "h",
         "showlegend": true,
         "textposition": "auto",
         "texttemplate": "%{x:d}",
         "type": "bar",
         "x": {
          "bdata": "AAAAAAAAAEAAAAAAAAAAQAAAAAAAAAhA",
          "dtype": "f8"
         },
         "xaxis": "x",
         "y": [
          "direct generation",
          "simple reflection",
          "feedback reflection"
         ],
         "yaxis": "y"
        },
        {
         "hovertemplate": "accuracy=SQL execution error<br>number of questions=%{x}<br>=%{y}<extra></extra>",
         "legendgroup": "SQL execution error",
         "marker": {
          "color": "#E45756",
          "pattern": {
           "shape": ""
          }
         },
         "name": "SQL execution error",
         "orientation": "h",
         "showlegend": true,
         "textposition": "auto",
         "texttemplate": "%{x:d}",
         "type": "bar",
         "x": {
          "bdata": "AAAAAAAA8D8AAAAAAAAAQAAAAAAAAAAA",
          "dtype": "f8"
         },
         "xaxis": "x",
         "y": [
          "direct generation",
          "simple reflection",
          "feedback reflection"
         ],
         "yaxis": "y"
        },
        {
         "hovertemplate": "accuracy=No format specified in SQL + SQL execution error<br>number of questions=%{x}<br>=%{y}<extra></extra>",
         "legendgroup": "No format specified in SQL + SQL execution error",
         "marker": {
          "color": "#B82E2E",
          "pattern": {
           "shape": ""
          }
         },
         "name": "No format specified in SQL + SQL execution error",
         "orientation": "h",
         "showlegend": true,
         "textposition": "auto",
         "texttemplate": "%{x:d}",
         "type": "bar",
         "x": {
          "bdata": "AAAAAAAAAEAAAAAAAAAAQAAAAAAAAAAA",
          "dtype": "f8"
         },
         "xaxis": "x",
         "y": [
          "direct generation",
          "simple reflection",
          "feedback reflection"
         ],
         "yaxis": "y"
        }
       ],
       "layout": {
        "barmode": "relative",
        "legend": {
         "title": {
          "text": "accuracy"
         },
         "tracegroupgap": 0
        },
        "template": {
         "data": {
          "bar": [
           {
            "error_x": {
             "color": "rgb(36,36,36)"
            },
            "error_y": {
             "color": "rgb(36,36,36)"
            },
            "marker": {
             "line": {
              "color": "white",
              "width": 0.5
             },
             "pattern": {
              "fillmode": "overlay",
              "size": 10,
              "solidity": 0.2
             }
            },
            "type": "bar"
           }
          ],
          "barpolar": [
           {
            "marker": {
             "line": {
              "color": "white",
              "width": 0.5
             },
             "pattern": {
              "fillmode": "overlay",
              "size": 10,
              "solidity": 0.2
             }
            },
            "type": "barpolar"
           }
          ],
          "carpet": [
           {
            "aaxis": {
             "endlinecolor": "rgb(36,36,36)",
             "gridcolor": "white",
             "linecolor": "white",
             "minorgridcolor": "white",
             "startlinecolor": "rgb(36,36,36)"
            },
            "baxis": {
             "endlinecolor": "rgb(36,36,36)",
             "gridcolor": "white",
             "linecolor": "white",
             "minorgridcolor": "white",
             "startlinecolor": "rgb(36,36,36)"
            },
            "type": "carpet"
           }
          ],
          "choropleth": [
           {
            "colorbar": {
             "outlinewidth": 1,
             "tickcolor": "rgb(36,36,36)",
             "ticks": "outside"
            },
            "type": "choropleth"
           }
          ],
          "contour": [
           {
            "colorbar": {
             "outlinewidth": 1,
             "tickcolor": "rgb(36,36,36)",
             "ticks": "outside"
            },
            "colorscale": [
             [
              0,
              "#440154"
             ],
             [
              0.1111111111111111,
              "#482878"
             ],
             [
              0.2222222222222222,
              "#3e4989"
             ],
             [
              0.3333333333333333,
              "#31688e"
             ],
             [
              0.4444444444444444,
              "#26828e"
             ],
             [
              0.5555555555555556,
              "#1f9e89"
             ],
             [
              0.6666666666666666,
              "#35b779"
             ],
             [
              0.7777777777777778,
              "#6ece58"
             ],
             [
              0.8888888888888888,
              "#b5de2b"
             ],
             [
              1,
              "#fde725"
             ]
            ],
            "type": "contour"
           }
          ],
          "contourcarpet": [
           {
            "colorbar": {
             "outlinewidth": 1,
             "tickcolor": "rgb(36,36,36)",
             "ticks": "outside"
            },
            "type": "contourcarpet"
           }
          ],
          "heatmap": [
           {
            "colorbar": {
             "outlinewidth": 1,
             "tickcolor": "rgb(36,36,36)",
             "ticks": "outside"
            },
            "colorscale": [
             [
              0,
              "#440154"
             ],
             [
              0.1111111111111111,
              "#482878"
             ],
             [
              0.2222222222222222,
              "#3e4989"
             ],
             [
              0.3333333333333333,
              "#31688e"
             ],
             [
              0.4444444444444444,
              "#26828e"
             ],
             [
              0.5555555555555556,
              "#1f9e89"
             ],
             [
              0.6666666666666666,
              "#35b779"
             ],
             [
              0.7777777777777778,
              "#6ece58"
             ],
             [
              0.8888888888888888,
              "#b5de2b"
             ],
             [
              1,
              "#fde725"
             ]
            ],
            "type": "heatmap"
           }
          ],
          "histogram": [
           {
            "marker": {
             "line": {
              "color": "white",
              "width": 0.6
             }
            },
            "type": "histogram"
           }
          ],
          "histogram2d": [
           {
            "colorbar": {
             "outlinewidth": 1,
             "tickcolor": "rgb(36,36,36)",
             "ticks": "outside"
            },
            "colorscale": [
             [
              0,
              "#440154"
             ],
             [
              0.1111111111111111,
              "#482878"
             ],
             [
              0.2222222222222222,
              "#3e4989"
             ],
             [
              0.3333333333333333,
              "#31688e"
             ],
             [
              0.4444444444444444,
              "#26828e"
             ],
             [
              0.5555555555555556,
              "#1f9e89"
             ],
             [
              0.6666666666666666,
              "#35b779"
             ],
             [
              0.7777777777777778,
              "#6ece58"
             ],
             [
              0.8888888888888888,
              "#b5de2b"
             ],
             [
              1,
              "#fde725"
             ]
            ],
            "type": "histogram2d"
           }
          ],
          "histogram2dcontour": [
           {
            "colorbar": {
             "outlinewidth": 1,
             "tickcolor": "rgb(36,36,36)",
             "ticks": "outside"
            },
            "colorscale": [
             [
              0,
              "#440154"
             ],
             [
              0.1111111111111111,
              "#482878"
             ],
             [
              0.2222222222222222,
              "#3e4989"
             ],
             [
              0.3333333333333333,
              "#31688e"
             ],
             [
              0.4444444444444444,
              "#26828e"
             ],
             [
              0.5555555555555556,
              "#1f9e89"
             ],
             [
              0.6666666666666666,
              "#35b779"
             ],
             [
              0.7777777777777778,
              "#6ece58"
             ],
             [
              0.8888888888888888,
              "#b5de2b"
             ],
             [
              1,
              "#fde725"
             ]
            ],
            "type": "histogram2dcontour"
           }
          ],
          "mesh3d": [
           {
            "colorbar": {
             "outlinewidth": 1,
             "tickcolor": "rgb(36,36,36)",
             "ticks": "outside"
            },
            "type": "mesh3d"
           }
          ],
          "parcoords": [
           {
            "line": {
             "colorbar": {
              "outlinewidth": 1,
              "tickcolor": "rgb(36,36,36)",
              "ticks": "outside"
             }
            },
            "type": "parcoords"
           }
          ],
          "pie": [
           {
            "automargin": true,
            "type": "pie"
           }
          ],
          "scatter": [
           {
            "fillpattern": {
             "fillmode": "overlay",
             "size": 10,
             "solidity": 0.2
            },
            "type": "scatter"
           }
          ],
          "scatter3d": [
           {
            "line": {
             "colorbar": {
              "outlinewidth": 1,
              "tickcolor": "rgb(36,36,36)",
              "ticks": "outside"
             }
            },
            "marker": {
             "colorbar": {
              "outlinewidth": 1,
              "tickcolor": "rgb(36,36,36)",
              "ticks": "outside"
             }
            },
            "type": "scatter3d"
           }
          ],
          "scattercarpet": [
           {
            "marker": {
             "colorbar": {
              "outlinewidth": 1,
              "tickcolor": "rgb(36,36,36)",
              "ticks": "outside"
             }
            },
            "type": "scattercarpet"
           }
          ],
          "scattergeo": [
           {
            "marker": {
             "colorbar": {
              "outlinewidth": 1,
              "tickcolor": "rgb(36,36,36)",
              "ticks": "outside"
             }
            },
            "type": "scattergeo"
           }
          ],
          "scattergl": [
           {
            "marker": {
             "colorbar": {
              "outlinewidth": 1,
              "tickcolor": "rgb(36,36,36)",
              "ticks": "outside"
             }
            },
            "type": "scattergl"
           }
          ],
          "scattermap": [
           {
            "marker": {
             "colorbar": {
              "outlinewidth": 1,
              "tickcolor": "rgb(36,36,36)",
              "ticks": "outside"
             }
            },
            "type": "scattermap"
           }
          ],
          "scattermapbox": [
           {
            "marker": {
             "colorbar": {
              "outlinewidth": 1,
              "tickcolor": "rgb(36,36,36)",
              "ticks": "outside"
             }
            },
            "type": "scattermapbox"
           }
          ],
          "scatterpolar": [
           {
            "marker": {
             "colorbar": {
              "outlinewidth": 1,
              "tickcolor": "rgb(36,36,36)",
              "ticks": "outside"
             }
            },
            "type": "scatterpolar"
           }
          ],
          "scatterpolargl": [
           {
            "marker": {
             "colorbar": {
              "outlinewidth": 1,
              "tickcolor": "rgb(36,36,36)",
              "ticks": "outside"
             }
            },
            "type": "scatterpolargl"
           }
          ],
          "scatterternary": [
           {
            "marker": {
             "colorbar": {
              "outlinewidth": 1,
              "tickcolor": "rgb(36,36,36)",
              "ticks": "outside"
             }
            },
            "type": "scatterternary"
           }
          ],
          "surface": [
           {
            "colorbar": {
             "outlinewidth": 1,
             "tickcolor": "rgb(36,36,36)",
             "ticks": "outside"
            },
            "colorscale": [
             [
              0,
              "#440154"
             ],
             [
              0.1111111111111111,
              "#482878"
             ],
             [
              0.2222222222222222,
              "#3e4989"
             ],
             [
              0.3333333333333333,
              "#31688e"
             ],
             [
              0.4444444444444444,
              "#26828e"
             ],
             [
              0.5555555555555556,
              "#1f9e89"
             ],
             [
              0.6666666666666666,
              "#35b779"
             ],
             [
              0.7777777777777778,
              "#6ece58"
             ],
             [
              0.8888888888888888,
              "#b5de2b"
             ],
             [
              1,
              "#fde725"
             ]
            ],
            "type": "surface"
           }
          ],
          "table": [
           {
            "cells": {
             "fill": {
              "color": "rgb(237,237,237)"
             },
             "line": {
              "color": "white"
             }
            },
            "header": {
             "fill": {
              "color": "rgb(217,217,217)"
             },
             "line": {
              "color": "white"
             }
            },
            "type": "table"
           }
          ]
         },
         "layout": {
          "annotationdefaults": {
           "arrowhead": 0,
           "arrowwidth": 1
          },
          "autotypenumbers": "strict",
          "coloraxis": {
           "colorbar": {
            "outlinewidth": 1,
            "tickcolor": "rgb(36,36,36)",
            "ticks": "outside"
           }
          },
          "colorscale": {
           "diverging": [
            [
             0,
             "rgb(103,0,31)"
            ],
            [
             0.1,
             "rgb(178,24,43)"
            ],
            [
             0.2,
             "rgb(214,96,77)"
            ],
            [
             0.3,
             "rgb(244,165,130)"
            ],
            [
             0.4,
             "rgb(253,219,199)"
            ],
            [
             0.5,
             "rgb(247,247,247)"
            ],
            [
             0.6,
             "rgb(209,229,240)"
            ],
            [
             0.7,
             "rgb(146,197,222)"
            ],
            [
             0.8,
             "rgb(67,147,195)"
            ],
            [
             0.9,
             "rgb(33,102,172)"
            ],
            [
             1,
             "rgb(5,48,97)"
            ]
           ],
           "sequential": [
            [
             0,
             "#440154"
            ],
            [
             0.1111111111111111,
             "#482878"
            ],
            [
             0.2222222222222222,
             "#3e4989"
            ],
            [
             0.3333333333333333,
             "#31688e"
            ],
            [
             0.4444444444444444,
             "#26828e"
            ],
            [
             0.5555555555555556,
             "#1f9e89"
            ],
            [
             0.6666666666666666,
             "#35b779"
            ],
            [
             0.7777777777777778,
             "#6ece58"
            ],
            [
             0.8888888888888888,
             "#b5de2b"
            ],
            [
             1,
             "#fde725"
            ]
           ],
           "sequentialminus": [
            [
             0,
             "#440154"
            ],
            [
             0.1111111111111111,
             "#482878"
            ],
            [
             0.2222222222222222,
             "#3e4989"
            ],
            [
             0.3333333333333333,
             "#31688e"
            ],
            [
             0.4444444444444444,
             "#26828e"
            ],
            [
             0.5555555555555556,
             "#1f9e89"
            ],
            [
             0.6666666666666666,
             "#35b779"
            ],
            [
             0.7777777777777778,
             "#6ece58"
            ],
            [
             0.8888888888888888,
             "#b5de2b"
            ],
            [
             1,
             "#fde725"
            ]
           ]
          },
          "colorway": [
           "#1F77B4",
           "#FF7F0E",
           "#2CA02C",
           "#D62728",
           "#9467BD",
           "#8C564B",
           "#E377C2",
           "#7F7F7F",
           "#BCBD22",
           "#17BECF"
          ],
          "font": {
           "color": "rgb(36,36,36)"
          },
          "geo": {
           "bgcolor": "white",
           "lakecolor": "white",
           "landcolor": "white",
           "showlakes": true,
           "showland": true,
           "subunitcolor": "white"
          },
          "hoverlabel": {
           "align": "left"
          },
          "hovermode": "closest",
          "mapbox": {
           "style": "light"
          },
          "paper_bgcolor": "white",
          "plot_bgcolor": "white",
          "polar": {
           "angularaxis": {
            "gridcolor": "rgb(232,232,232)",
            "linecolor": "rgb(36,36,36)",
            "showgrid": false,
            "showline": true,
            "ticks": "outside"
           },
           "bgcolor": "white",
           "radialaxis": {
            "gridcolor": "rgb(232,232,232)",
            "linecolor": "rgb(36,36,36)",
            "showgrid": false,
            "showline": true,
            "ticks": "outside"
           }
          },
          "scene": {
           "xaxis": {
            "backgroundcolor": "white",
            "gridcolor": "rgb(232,232,232)",
            "gridwidth": 2,
            "linecolor": "rgb(36,36,36)",
            "showbackground": true,
            "showgrid": false,
            "showline": true,
            "ticks": "outside",
            "zeroline": false,
            "zerolinecolor": "rgb(36,36,36)"
           },
           "yaxis": {
            "backgroundcolor": "white",
            "gridcolor": "rgb(232,232,232)",
            "gridwidth": 2,
            "linecolor": "rgb(36,36,36)",
            "showbackground": true,
            "showgrid": false,
            "showline": true,
            "ticks": "outside",
            "zeroline": false,
            "zerolinecolor": "rgb(36,36,36)"
           },
           "zaxis": {
            "backgroundcolor": "white",
            "gridcolor": "rgb(232,232,232)",
            "gridwidth": 2,
            "linecolor": "rgb(36,36,36)",
            "showbackground": true,
            "showgrid": false,
            "showline": true,
            "ticks": "outside",
            "zeroline": false,
            "zerolinecolor": "rgb(36,36,36)"
           }
          },
          "shapedefaults": {
           "fillcolor": "black",
           "line": {
            "width": 0
           },
           "opacity": 0.3
          },
          "ternary": {
           "aaxis": {
            "gridcolor": "rgb(232,232,232)",
            "linecolor": "rgb(36,36,36)",
            "showgrid": false,
            "showline": true,
            "ticks": "outside"
           },
           "baxis": {
            "gridcolor": "rgb(232,232,232)",
            "linecolor": "rgb(36,36,36)",
            "showgrid": false,
            "showline": true,
            "ticks": "outside"
           },
           "bgcolor": "white",
           "caxis": {
            "gridcolor": "rgb(232,232,232)",
            "linecolor": "rgb(36,36,36)",
            "showgrid": false,
            "showline": true,
            "ticks": "outside"
           }
          },
          "title": {
           "x": 0.05
          },
          "xaxis": {
           "automargin": true,
           "gridcolor": "rgb(232,232,232)",
           "linecolor": "rgb(36,36,36)",
           "showgrid": false,
           "showline": true,
           "ticks": "outside",
           "title": {
            "standoff": 15
           },
           "zeroline": false,
           "zerolinecolor": "rgb(36,36,36)"
          },
          "yaxis": {
           "automargin": true,
           "gridcolor": "rgb(232,232,232)",
           "linecolor": "rgb(36,36,36)",
           "showgrid": false,
           "showline": true,
           "ticks": "outside",
           "title": {
            "standoff": 15
           },
           "zeroline": false,
           "zerolinecolor": "rgb(36,36,36)"
          }
         }
        },
        "title": {
         "text": "<b>Text-to-SQL:</b> answer accuracy"
        },
        "xaxis": {
         "anchor": "y",
         "domain": [
          0,
          1
         ],
         "title": {
          "text": "number of questions"
         }
        },
        "yaxis": {
         "anchor": "x",
         "categoryarray": [
          "feedback reflection",
          "simple reflection",
          "direct generation"
         ],
         "categoryorder": "array",
         "domain": [
          0,
          1
         ],
         "title": {
          "text": ""
         }
        }
       }
      }
     },
     "metadata": {},
     "output_type": "display_data"
    }
   ],
   "source": [
    "import plotly.express as px \n",
    "import plotly.io as pio\n",
    "pio.templates.default = 'simple_white'\n",
    "px.bar(cmp_df.T, orientation = 'h', \n",
    "       title = '<b>Text-to-SQL:</b> answer accuracy',\n",
    "    labels = {\n",
    "        'value': 'number of questions',\n",
    "        'index': '', \n",
    "        'llm_final_result': 'accuracy'\n",
    "    }, text_auto = 'd',\n",
    "    category_orders = {\n",
    "        'llm_final_result': ['No problems detected', 'No format specified in SQL', \n",
    "                     'Wrong answer provided', 'SQL execution error', 'No format specified in SQL + SQL execution error'],\n",
    "        'index': ['direct generation', 'simple reflection', 'feedback reflection']\n",
    "    }, \n",
    "    color_discrete_map = {\n",
    "        'No problems detected': plotly.colors.qualitative.T10[4], \n",
    "        'No format specified in SQL': plotly.colors.qualitative.T10[3], \n",
    "        'Wrong answer provided': plotly.colors.qualitative.T10[1], \n",
    "        'SQL execution error': plotly.colors.qualitative.T10[2], \n",
    "        'No format specified in SQL + SQL execution error': plotly.colors.qualitative.G10[8]\n",
    "    }    \n",
    ")"
   ]
  },
  {
   "cell_type": "code",
   "execution_count": 185,
   "id": "4e0e253a",
   "metadata": {},
   "outputs": [
    {
     "data": {
      "application/vnd.plotly.v1+json": {
       "config": {
        "plotlyServerURL": "https://plot.ly"
       },
       "data": [
        {
         "hovertemplate": "accuracy=No problems detected<br>number of questions=%{x}<br>=%{y}<extra></extra>",
         "legendgroup": "No problems detected",
         "marker": {
          "color": "#54A24B",
          "pattern": {
           "shape": ""
          }
         },
         "name": "No problems detected",
         "orientation": "h",
         "showlegend": true,
         "textposition": "auto",
         "texttemplate": "%{x:d}",
         "type": "bar",
         "x": {
          "bdata": "AAAAAAAALEAAAAAAAAAsQA==",
          "dtype": "f8"
         },
         "xaxis": "x",
         "y": [
          "direct generation",
          "simple reflection"
         ],
         "yaxis": "y"
        },
        {
         "hovertemplate": "accuracy=No format specified in SQL<br>number of questions=%{x}<br>=%{y}<extra></extra>",
         "legendgroup": "No format specified in SQL",
         "marker": {
          "color": "#72B7B2",
          "pattern": {
           "shape": ""
          }
         },
         "name": "No format specified in SQL",
         "orientation": "h",
         "showlegend": true,
         "textposition": "auto",
         "texttemplate": "%{x:d}",
         "type": "bar",
         "x": {
          "bdata": "AAAAAAAA8D8AAAAAAAAAAA==",
          "dtype": "f8"
         },
         "xaxis": "x",
         "y": [
          "direct generation",
          "simple reflection"
         ],
         "yaxis": "y"
        },
        {
         "hovertemplate": "accuracy=Wrong answer provided<br>number of questions=%{x}<br>=%{y}<extra></extra>",
         "legendgroup": "Wrong answer provided",
         "marker": {
          "color": "#F58518",
          "pattern": {
           "shape": ""
          }
         },
         "name": "Wrong answer provided",
         "orientation": "h",
         "showlegend": true,
         "textposition": "auto",
         "texttemplate": "%{x:d}",
         "type": "bar",
         "x": {
          "bdata": "AAAAAAAAAEAAAAAAAAAAQA==",
          "dtype": "f8"
         },
         "xaxis": "x",
         "y": [
          "direct generation",
          "simple reflection"
         ],
         "yaxis": "y"
        },
        {
         "hovertemplate": "accuracy=SQL execution error<br>number of questions=%{x}<br>=%{y}<extra></extra>",
         "legendgroup": "SQL execution error",
         "marker": {
          "color": "#E45756",
          "pattern": {
           "shape": ""
          }
         },
         "name": "SQL execution error",
         "orientation": "h",
         "showlegend": true,
         "textposition": "auto",
         "texttemplate": "%{x:d}",
         "type": "bar",
         "x": {
          "bdata": "AAAAAAAA8D8AAAAAAAAAQA==",
          "dtype": "f8"
         },
         "xaxis": "x",
         "y": [
          "direct generation",
          "simple reflection"
         ],
         "yaxis": "y"
        },
        {
         "hovertemplate": "accuracy=No format specified in SQL + SQL execution error<br>number of questions=%{x}<br>=%{y}<extra></extra>",
         "legendgroup": "No format specified in SQL + SQL execution error",
         "marker": {
          "color": "#B82E2E",
          "pattern": {
           "shape": ""
          }
         },
         "name": "No format specified in SQL + SQL execution error",
         "orientation": "h",
         "showlegend": true,
         "textposition": "auto",
         "texttemplate": "%{x:d}",
         "type": "bar",
         "x": {
          "bdata": "AAAAAAAAAEAAAAAAAAAAQA==",
          "dtype": "f8"
         },
         "xaxis": "x",
         "y": [
          "direct generation",
          "simple reflection"
         ],
         "yaxis": "y"
        }
       ],
       "layout": {
        "barmode": "relative",
        "legend": {
         "title": {
          "text": "accuracy"
         },
         "tracegroupgap": 0
        },
        "template": {
         "data": {
          "bar": [
           {
            "error_x": {
             "color": "rgb(36,36,36)"
            },
            "error_y": {
             "color": "rgb(36,36,36)"
            },
            "marker": {
             "line": {
              "color": "white",
              "width": 0.5
             },
             "pattern": {
              "fillmode": "overlay",
              "size": 10,
              "solidity": 0.2
             }
            },
            "type": "bar"
           }
          ],
          "barpolar": [
           {
            "marker": {
             "line": {
              "color": "white",
              "width": 0.5
             },
             "pattern": {
              "fillmode": "overlay",
              "size": 10,
              "solidity": 0.2
             }
            },
            "type": "barpolar"
           }
          ],
          "carpet": [
           {
            "aaxis": {
             "endlinecolor": "rgb(36,36,36)",
             "gridcolor": "white",
             "linecolor": "white",
             "minorgridcolor": "white",
             "startlinecolor": "rgb(36,36,36)"
            },
            "baxis": {
             "endlinecolor": "rgb(36,36,36)",
             "gridcolor": "white",
             "linecolor": "white",
             "minorgridcolor": "white",
             "startlinecolor": "rgb(36,36,36)"
            },
            "type": "carpet"
           }
          ],
          "choropleth": [
           {
            "colorbar": {
             "outlinewidth": 1,
             "tickcolor": "rgb(36,36,36)",
             "ticks": "outside"
            },
            "type": "choropleth"
           }
          ],
          "contour": [
           {
            "colorbar": {
             "outlinewidth": 1,
             "tickcolor": "rgb(36,36,36)",
             "ticks": "outside"
            },
            "colorscale": [
             [
              0,
              "#440154"
             ],
             [
              0.1111111111111111,
              "#482878"
             ],
             [
              0.2222222222222222,
              "#3e4989"
             ],
             [
              0.3333333333333333,
              "#31688e"
             ],
             [
              0.4444444444444444,
              "#26828e"
             ],
             [
              0.5555555555555556,
              "#1f9e89"
             ],
             [
              0.6666666666666666,
              "#35b779"
             ],
             [
              0.7777777777777778,
              "#6ece58"
             ],
             [
              0.8888888888888888,
              "#b5de2b"
             ],
             [
              1,
              "#fde725"
             ]
            ],
            "type": "contour"
           }
          ],
          "contourcarpet": [
           {
            "colorbar": {
             "outlinewidth": 1,
             "tickcolor": "rgb(36,36,36)",
             "ticks": "outside"
            },
            "type": "contourcarpet"
           }
          ],
          "heatmap": [
           {
            "colorbar": {
             "outlinewidth": 1,
             "tickcolor": "rgb(36,36,36)",
             "ticks": "outside"
            },
            "colorscale": [
             [
              0,
              "#440154"
             ],
             [
              0.1111111111111111,
              "#482878"
             ],
             [
              0.2222222222222222,
              "#3e4989"
             ],
             [
              0.3333333333333333,
              "#31688e"
             ],
             [
              0.4444444444444444,
              "#26828e"
             ],
             [
              0.5555555555555556,
              "#1f9e89"
             ],
             [
              0.6666666666666666,
              "#35b779"
             ],
             [
              0.7777777777777778,
              "#6ece58"
             ],
             [
              0.8888888888888888,
              "#b5de2b"
             ],
             [
              1,
              "#fde725"
             ]
            ],
            "type": "heatmap"
           }
          ],
          "histogram": [
           {
            "marker": {
             "line": {
              "color": "white",
              "width": 0.6
             }
            },
            "type": "histogram"
           }
          ],
          "histogram2d": [
           {
            "colorbar": {
             "outlinewidth": 1,
             "tickcolor": "rgb(36,36,36)",
             "ticks": "outside"
            },
            "colorscale": [
             [
              0,
              "#440154"
             ],
             [
              0.1111111111111111,
              "#482878"
             ],
             [
              0.2222222222222222,
              "#3e4989"
             ],
             [
              0.3333333333333333,
              "#31688e"
             ],
             [
              0.4444444444444444,
              "#26828e"
             ],
             [
              0.5555555555555556,
              "#1f9e89"
             ],
             [
              0.6666666666666666,
              "#35b779"
             ],
             [
              0.7777777777777778,
              "#6ece58"
             ],
             [
              0.8888888888888888,
              "#b5de2b"
             ],
             [
              1,
              "#fde725"
             ]
            ],
            "type": "histogram2d"
           }
          ],
          "histogram2dcontour": [
           {
            "colorbar": {
             "outlinewidth": 1,
             "tickcolor": "rgb(36,36,36)",
             "ticks": "outside"
            },
            "colorscale": [
             [
              0,
              "#440154"
             ],
             [
              0.1111111111111111,
              "#482878"
             ],
             [
              0.2222222222222222,
              "#3e4989"
             ],
             [
              0.3333333333333333,
              "#31688e"
             ],
             [
              0.4444444444444444,
              "#26828e"
             ],
             [
              0.5555555555555556,
              "#1f9e89"
             ],
             [
              0.6666666666666666,
              "#35b779"
             ],
             [
              0.7777777777777778,
              "#6ece58"
             ],
             [
              0.8888888888888888,
              "#b5de2b"
             ],
             [
              1,
              "#fde725"
             ]
            ],
            "type": "histogram2dcontour"
           }
          ],
          "mesh3d": [
           {
            "colorbar": {
             "outlinewidth": 1,
             "tickcolor": "rgb(36,36,36)",
             "ticks": "outside"
            },
            "type": "mesh3d"
           }
          ],
          "parcoords": [
           {
            "line": {
             "colorbar": {
              "outlinewidth": 1,
              "tickcolor": "rgb(36,36,36)",
              "ticks": "outside"
             }
            },
            "type": "parcoords"
           }
          ],
          "pie": [
           {
            "automargin": true,
            "type": "pie"
           }
          ],
          "scatter": [
           {
            "fillpattern": {
             "fillmode": "overlay",
             "size": 10,
             "solidity": 0.2
            },
            "type": "scatter"
           }
          ],
          "scatter3d": [
           {
            "line": {
             "colorbar": {
              "outlinewidth": 1,
              "tickcolor": "rgb(36,36,36)",
              "ticks": "outside"
             }
            },
            "marker": {
             "colorbar": {
              "outlinewidth": 1,
              "tickcolor": "rgb(36,36,36)",
              "ticks": "outside"
             }
            },
            "type": "scatter3d"
           }
          ],
          "scattercarpet": [
           {
            "marker": {
             "colorbar": {
              "outlinewidth": 1,
              "tickcolor": "rgb(36,36,36)",
              "ticks": "outside"
             }
            },
            "type": "scattercarpet"
           }
          ],
          "scattergeo": [
           {
            "marker": {
             "colorbar": {
              "outlinewidth": 1,
              "tickcolor": "rgb(36,36,36)",
              "ticks": "outside"
             }
            },
            "type": "scattergeo"
           }
          ],
          "scattergl": [
           {
            "marker": {
             "colorbar": {
              "outlinewidth": 1,
              "tickcolor": "rgb(36,36,36)",
              "ticks": "outside"
             }
            },
            "type": "scattergl"
           }
          ],
          "scattermap": [
           {
            "marker": {
             "colorbar": {
              "outlinewidth": 1,
              "tickcolor": "rgb(36,36,36)",
              "ticks": "outside"
             }
            },
            "type": "scattermap"
           }
          ],
          "scattermapbox": [
           {
            "marker": {
             "colorbar": {
              "outlinewidth": 1,
              "tickcolor": "rgb(36,36,36)",
              "ticks": "outside"
             }
            },
            "type": "scattermapbox"
           }
          ],
          "scatterpolar": [
           {
            "marker": {
             "colorbar": {
              "outlinewidth": 1,
              "tickcolor": "rgb(36,36,36)",
              "ticks": "outside"
             }
            },
            "type": "scatterpolar"
           }
          ],
          "scatterpolargl": [
           {
            "marker": {
             "colorbar": {
              "outlinewidth": 1,
              "tickcolor": "rgb(36,36,36)",
              "ticks": "outside"
             }
            },
            "type": "scatterpolargl"
           }
          ],
          "scatterternary": [
           {
            "marker": {
             "colorbar": {
              "outlinewidth": 1,
              "tickcolor": "rgb(36,36,36)",
              "ticks": "outside"
             }
            },
            "type": "scatterternary"
           }
          ],
          "surface": [
           {
            "colorbar": {
             "outlinewidth": 1,
             "tickcolor": "rgb(36,36,36)",
             "ticks": "outside"
            },
            "colorscale": [
             [
              0,
              "#440154"
             ],
             [
              0.1111111111111111,
              "#482878"
             ],
             [
              0.2222222222222222,
              "#3e4989"
             ],
             [
              0.3333333333333333,
              "#31688e"
             ],
             [
              0.4444444444444444,
              "#26828e"
             ],
             [
              0.5555555555555556,
              "#1f9e89"
             ],
             [
              0.6666666666666666,
              "#35b779"
             ],
             [
              0.7777777777777778,
              "#6ece58"
             ],
             [
              0.8888888888888888,
              "#b5de2b"
             ],
             [
              1,
              "#fde725"
             ]
            ],
            "type": "surface"
           }
          ],
          "table": [
           {
            "cells": {
             "fill": {
              "color": "rgb(237,237,237)"
             },
             "line": {
              "color": "white"
             }
            },
            "header": {
             "fill": {
              "color": "rgb(217,217,217)"
             },
             "line": {
              "color": "white"
             }
            },
            "type": "table"
           }
          ]
         },
         "layout": {
          "annotationdefaults": {
           "arrowhead": 0,
           "arrowwidth": 1
          },
          "autotypenumbers": "strict",
          "coloraxis": {
           "colorbar": {
            "outlinewidth": 1,
            "tickcolor": "rgb(36,36,36)",
            "ticks": "outside"
           }
          },
          "colorscale": {
           "diverging": [
            [
             0,
             "rgb(103,0,31)"
            ],
            [
             0.1,
             "rgb(178,24,43)"
            ],
            [
             0.2,
             "rgb(214,96,77)"
            ],
            [
             0.3,
             "rgb(244,165,130)"
            ],
            [
             0.4,
             "rgb(253,219,199)"
            ],
            [
             0.5,
             "rgb(247,247,247)"
            ],
            [
             0.6,
             "rgb(209,229,240)"
            ],
            [
             0.7,
             "rgb(146,197,222)"
            ],
            [
             0.8,
             "rgb(67,147,195)"
            ],
            [
             0.9,
             "rgb(33,102,172)"
            ],
            [
             1,
             "rgb(5,48,97)"
            ]
           ],
           "sequential": [
            [
             0,
             "#440154"
            ],
            [
             0.1111111111111111,
             "#482878"
            ],
            [
             0.2222222222222222,
             "#3e4989"
            ],
            [
             0.3333333333333333,
             "#31688e"
            ],
            [
             0.4444444444444444,
             "#26828e"
            ],
            [
             0.5555555555555556,
             "#1f9e89"
            ],
            [
             0.6666666666666666,
             "#35b779"
            ],
            [
             0.7777777777777778,
             "#6ece58"
            ],
            [
             0.8888888888888888,
             "#b5de2b"
            ],
            [
             1,
             "#fde725"
            ]
           ],
           "sequentialminus": [
            [
             0,
             "#440154"
            ],
            [
             0.1111111111111111,
             "#482878"
            ],
            [
             0.2222222222222222,
             "#3e4989"
            ],
            [
             0.3333333333333333,
             "#31688e"
            ],
            [
             0.4444444444444444,
             "#26828e"
            ],
            [
             0.5555555555555556,
             "#1f9e89"
            ],
            [
             0.6666666666666666,
             "#35b779"
            ],
            [
             0.7777777777777778,
             "#6ece58"
            ],
            [
             0.8888888888888888,
             "#b5de2b"
            ],
            [
             1,
             "#fde725"
            ]
           ]
          },
          "colorway": [
           "#1F77B4",
           "#FF7F0E",
           "#2CA02C",
           "#D62728",
           "#9467BD",
           "#8C564B",
           "#E377C2",
           "#7F7F7F",
           "#BCBD22",
           "#17BECF"
          ],
          "font": {
           "color": "rgb(36,36,36)"
          },
          "geo": {
           "bgcolor": "white",
           "lakecolor": "white",
           "landcolor": "white",
           "showlakes": true,
           "showland": true,
           "subunitcolor": "white"
          },
          "hoverlabel": {
           "align": "left"
          },
          "hovermode": "closest",
          "mapbox": {
           "style": "light"
          },
          "paper_bgcolor": "white",
          "plot_bgcolor": "white",
          "polar": {
           "angularaxis": {
            "gridcolor": "rgb(232,232,232)",
            "linecolor": "rgb(36,36,36)",
            "showgrid": false,
            "showline": true,
            "ticks": "outside"
           },
           "bgcolor": "white",
           "radialaxis": {
            "gridcolor": "rgb(232,232,232)",
            "linecolor": "rgb(36,36,36)",
            "showgrid": false,
            "showline": true,
            "ticks": "outside"
           }
          },
          "scene": {
           "xaxis": {
            "backgroundcolor": "white",
            "gridcolor": "rgb(232,232,232)",
            "gridwidth": 2,
            "linecolor": "rgb(36,36,36)",
            "showbackground": true,
            "showgrid": false,
            "showline": true,
            "ticks": "outside",
            "zeroline": false,
            "zerolinecolor": "rgb(36,36,36)"
           },
           "yaxis": {
            "backgroundcolor": "white",
            "gridcolor": "rgb(232,232,232)",
            "gridwidth": 2,
            "linecolor": "rgb(36,36,36)",
            "showbackground": true,
            "showgrid": false,
            "showline": true,
            "ticks": "outside",
            "zeroline": false,
            "zerolinecolor": "rgb(36,36,36)"
           },
           "zaxis": {
            "backgroundcolor": "white",
            "gridcolor": "rgb(232,232,232)",
            "gridwidth": 2,
            "linecolor": "rgb(36,36,36)",
            "showbackground": true,
            "showgrid": false,
            "showline": true,
            "ticks": "outside",
            "zeroline": false,
            "zerolinecolor": "rgb(36,36,36)"
           }
          },
          "shapedefaults": {
           "fillcolor": "black",
           "line": {
            "width": 0
           },
           "opacity": 0.3
          },
          "ternary": {
           "aaxis": {
            "gridcolor": "rgb(232,232,232)",
            "linecolor": "rgb(36,36,36)",
            "showgrid": false,
            "showline": true,
            "ticks": "outside"
           },
           "baxis": {
            "gridcolor": "rgb(232,232,232)",
            "linecolor": "rgb(36,36,36)",
            "showgrid": false,
            "showline": true,
            "ticks": "outside"
           },
           "bgcolor": "white",
           "caxis": {
            "gridcolor": "rgb(232,232,232)",
            "linecolor": "rgb(36,36,36)",
            "showgrid": false,
            "showline": true,
            "ticks": "outside"
           }
          },
          "title": {
           "x": 0.05
          },
          "xaxis": {
           "automargin": true,
           "gridcolor": "rgb(232,232,232)",
           "linecolor": "rgb(36,36,36)",
           "showgrid": false,
           "showline": true,
           "ticks": "outside",
           "title": {
            "standoff": 15
           },
           "zeroline": false,
           "zerolinecolor": "rgb(36,36,36)"
          },
          "yaxis": {
           "automargin": true,
           "gridcolor": "rgb(232,232,232)",
           "linecolor": "rgb(36,36,36)",
           "showgrid": false,
           "showline": true,
           "ticks": "outside",
           "title": {
            "standoff": 15
           },
           "zeroline": false,
           "zerolinecolor": "rgb(36,36,36)"
          }
         }
        },
        "title": {
         "text": "<b>Text-to-SQL:</b> answer accuracy"
        },
        "xaxis": {
         "anchor": "y",
         "domain": [
          0,
          1
         ],
         "title": {
          "text": "number of questions"
         }
        },
        "yaxis": {
         "anchor": "x",
         "categoryarray": [
          "feedback reflection",
          "simple reflection",
          "direct generation"
         ],
         "categoryorder": "array",
         "domain": [
          0,
          1
         ],
         "title": {
          "text": ""
         }
        }
       }
      }
     },
     "metadata": {},
     "output_type": "display_data"
    }
   ],
   "source": [
    "import plotly.express as px \n",
    "import plotly.io as pio\n",
    "pio.templates.default = 'simple_white'\n",
    "px.bar(cmp_df[['direct generation', 'simple reflection']].T, orientation = 'h', \n",
    "       title = '<b>Text-to-SQL:</b> answer accuracy',\n",
    "    labels = {\n",
    "        'value': 'number of questions',\n",
    "        'index': '', \n",
    "        'llm_final_result': 'accuracy'\n",
    "    }, text_auto = 'd',\n",
    "    category_orders = {\n",
    "        'llm_final_result': ['No problems detected', 'No format specified in SQL', \n",
    "                     'Wrong answer provided', 'SQL execution error', 'No format specified in SQL + SQL execution error'],\n",
    "        'index': ['direct generation', 'simple reflection', 'feedback reflection']\n",
    "    }, \n",
    "    color_discrete_map = {\n",
    "        'No problems detected': plotly.colors.qualitative.T10[4], \n",
    "        'No format specified in SQL': plotly.colors.qualitative.T10[3], \n",
    "        'Wrong answer provided': plotly.colors.qualitative.T10[1], \n",
    "        'SQL execution error': plotly.colors.qualitative.T10[2], \n",
    "        'No format specified in SQL + SQL execution error': plotly.colors.qualitative.G10[8]\n",
    "    }    \n",
    ")"
   ]
  },
  {
   "cell_type": "code",
   "execution_count": 188,
   "id": "6320552a",
   "metadata": {},
   "outputs": [
    {
     "data": {
      "application/vnd.plotly.v1+json": {
       "config": {
        "plotlyServerURL": "https://plot.ly"
       },
       "data": [
        {
         "hovertemplate": "accuracy=No problems detected<br>number of questions=%{x}<br>=%{y}<extra></extra>",
         "legendgroup": "No problems detected",
         "marker": {
          "color": "#54A24B",
          "pattern": {
           "shape": ""
          }
         },
         "name": "No problems detected",
         "orientation": "h",
         "showlegend": true,
         "textposition": "auto",
         "texttemplate": "%{x:d}",
         "type": "bar",
         "x": {
          "bdata": "Dg==",
          "dtype": "i1"
         },
         "xaxis": "x",
         "y": [
          "direct generation"
         ],
         "yaxis": "y"
        },
        {
         "hovertemplate": "accuracy=No format specified in SQL<br>number of questions=%{x}<br>=%{y}<extra></extra>",
         "legendgroup": "No format specified in SQL",
         "marker": {
          "color": "#72B7B2",
          "pattern": {
           "shape": ""
          }
         },
         "name": "No format specified in SQL",
         "orientation": "h",
         "showlegend": true,
         "textposition": "auto",
         "texttemplate": "%{x:d}",
         "type": "bar",
         "x": {
          "bdata": "AQ==",
          "dtype": "i1"
         },
         "xaxis": "x",
         "y": [
          "direct generation"
         ],
         "yaxis": "y"
        },
        {
         "hovertemplate": "accuracy=Wrong answer provided<br>number of questions=%{x}<br>=%{y}<extra></extra>",
         "legendgroup": "Wrong answer provided",
         "marker": {
          "color": "#F58518",
          "pattern": {
           "shape": ""
          }
         },
         "name": "Wrong answer provided",
         "orientation": "h",
         "showlegend": true,
         "textposition": "auto",
         "texttemplate": "%{x:d}",
         "type": "bar",
         "x": {
          "bdata": "Ag==",
          "dtype": "i1"
         },
         "xaxis": "x",
         "y": [
          "direct generation"
         ],
         "yaxis": "y"
        },
        {
         "hovertemplate": "accuracy=SQL execution error<br>number of questions=%{x}<br>=%{y}<extra></extra>",
         "legendgroup": "SQL execution error",
         "marker": {
          "color": "#E45756",
          "pattern": {
           "shape": ""
          }
         },
         "name": "SQL execution error",
         "orientation": "h",
         "showlegend": true,
         "textposition": "auto",
         "texttemplate": "%{x:d}",
         "type": "bar",
         "x": {
          "bdata": "AQ==",
          "dtype": "i1"
         },
         "xaxis": "x",
         "y": [
          "direct generation"
         ],
         "yaxis": "y"
        },
        {
         "hovertemplate": "accuracy=No format specified in SQL + SQL execution error<br>number of questions=%{x}<br>=%{y}<extra></extra>",
         "legendgroup": "No format specified in SQL + SQL execution error",
         "marker": {
          "color": "#B82E2E",
          "pattern": {
           "shape": ""
          }
         },
         "name": "No format specified in SQL + SQL execution error",
         "orientation": "h",
         "showlegend": true,
         "textposition": "auto",
         "texttemplate": "%{x:d}",
         "type": "bar",
         "x": {
          "bdata": "Ag==",
          "dtype": "i1"
         },
         "xaxis": "x",
         "y": [
          "direct generation"
         ],
         "yaxis": "y"
        }
       ],
       "layout": {
        "barmode": "relative",
        "height": 350,
        "legend": {
         "title": {
          "text": "accuracy"
         },
         "tracegroupgap": 0
        },
        "template": {
         "data": {
          "bar": [
           {
            "error_x": {
             "color": "rgb(36,36,36)"
            },
            "error_y": {
             "color": "rgb(36,36,36)"
            },
            "marker": {
             "line": {
              "color": "white",
              "width": 0.5
             },
             "pattern": {
              "fillmode": "overlay",
              "size": 10,
              "solidity": 0.2
             }
            },
            "type": "bar"
           }
          ],
          "barpolar": [
           {
            "marker": {
             "line": {
              "color": "white",
              "width": 0.5
             },
             "pattern": {
              "fillmode": "overlay",
              "size": 10,
              "solidity": 0.2
             }
            },
            "type": "barpolar"
           }
          ],
          "carpet": [
           {
            "aaxis": {
             "endlinecolor": "rgb(36,36,36)",
             "gridcolor": "white",
             "linecolor": "white",
             "minorgridcolor": "white",
             "startlinecolor": "rgb(36,36,36)"
            },
            "baxis": {
             "endlinecolor": "rgb(36,36,36)",
             "gridcolor": "white",
             "linecolor": "white",
             "minorgridcolor": "white",
             "startlinecolor": "rgb(36,36,36)"
            },
            "type": "carpet"
           }
          ],
          "choropleth": [
           {
            "colorbar": {
             "outlinewidth": 1,
             "tickcolor": "rgb(36,36,36)",
             "ticks": "outside"
            },
            "type": "choropleth"
           }
          ],
          "contour": [
           {
            "colorbar": {
             "outlinewidth": 1,
             "tickcolor": "rgb(36,36,36)",
             "ticks": "outside"
            },
            "colorscale": [
             [
              0,
              "#440154"
             ],
             [
              0.1111111111111111,
              "#482878"
             ],
             [
              0.2222222222222222,
              "#3e4989"
             ],
             [
              0.3333333333333333,
              "#31688e"
             ],
             [
              0.4444444444444444,
              "#26828e"
             ],
             [
              0.5555555555555556,
              "#1f9e89"
             ],
             [
              0.6666666666666666,
              "#35b779"
             ],
             [
              0.7777777777777778,
              "#6ece58"
             ],
             [
              0.8888888888888888,
              "#b5de2b"
             ],
             [
              1,
              "#fde725"
             ]
            ],
            "type": "contour"
           }
          ],
          "contourcarpet": [
           {
            "colorbar": {
             "outlinewidth": 1,
             "tickcolor": "rgb(36,36,36)",
             "ticks": "outside"
            },
            "type": "contourcarpet"
           }
          ],
          "heatmap": [
           {
            "colorbar": {
             "outlinewidth": 1,
             "tickcolor": "rgb(36,36,36)",
             "ticks": "outside"
            },
            "colorscale": [
             [
              0,
              "#440154"
             ],
             [
              0.1111111111111111,
              "#482878"
             ],
             [
              0.2222222222222222,
              "#3e4989"
             ],
             [
              0.3333333333333333,
              "#31688e"
             ],
             [
              0.4444444444444444,
              "#26828e"
             ],
             [
              0.5555555555555556,
              "#1f9e89"
             ],
             [
              0.6666666666666666,
              "#35b779"
             ],
             [
              0.7777777777777778,
              "#6ece58"
             ],
             [
              0.8888888888888888,
              "#b5de2b"
             ],
             [
              1,
              "#fde725"
             ]
            ],
            "type": "heatmap"
           }
          ],
          "histogram": [
           {
            "marker": {
             "line": {
              "color": "white",
              "width": 0.6
             }
            },
            "type": "histogram"
           }
          ],
          "histogram2d": [
           {
            "colorbar": {
             "outlinewidth": 1,
             "tickcolor": "rgb(36,36,36)",
             "ticks": "outside"
            },
            "colorscale": [
             [
              0,
              "#440154"
             ],
             [
              0.1111111111111111,
              "#482878"
             ],
             [
              0.2222222222222222,
              "#3e4989"
             ],
             [
              0.3333333333333333,
              "#31688e"
             ],
             [
              0.4444444444444444,
              "#26828e"
             ],
             [
              0.5555555555555556,
              "#1f9e89"
             ],
             [
              0.6666666666666666,
              "#35b779"
             ],
             [
              0.7777777777777778,
              "#6ece58"
             ],
             [
              0.8888888888888888,
              "#b5de2b"
             ],
             [
              1,
              "#fde725"
             ]
            ],
            "type": "histogram2d"
           }
          ],
          "histogram2dcontour": [
           {
            "colorbar": {
             "outlinewidth": 1,
             "tickcolor": "rgb(36,36,36)",
             "ticks": "outside"
            },
            "colorscale": [
             [
              0,
              "#440154"
             ],
             [
              0.1111111111111111,
              "#482878"
             ],
             [
              0.2222222222222222,
              "#3e4989"
             ],
             [
              0.3333333333333333,
              "#31688e"
             ],
             [
              0.4444444444444444,
              "#26828e"
             ],
             [
              0.5555555555555556,
              "#1f9e89"
             ],
             [
              0.6666666666666666,
              "#35b779"
             ],
             [
              0.7777777777777778,
              "#6ece58"
             ],
             [
              0.8888888888888888,
              "#b5de2b"
             ],
             [
              1,
              "#fde725"
             ]
            ],
            "type": "histogram2dcontour"
           }
          ],
          "mesh3d": [
           {
            "colorbar": {
             "outlinewidth": 1,
             "tickcolor": "rgb(36,36,36)",
             "ticks": "outside"
            },
            "type": "mesh3d"
           }
          ],
          "parcoords": [
           {
            "line": {
             "colorbar": {
              "outlinewidth": 1,
              "tickcolor": "rgb(36,36,36)",
              "ticks": "outside"
             }
            },
            "type": "parcoords"
           }
          ],
          "pie": [
           {
            "automargin": true,
            "type": "pie"
           }
          ],
          "scatter": [
           {
            "fillpattern": {
             "fillmode": "overlay",
             "size": 10,
             "solidity": 0.2
            },
            "type": "scatter"
           }
          ],
          "scatter3d": [
           {
            "line": {
             "colorbar": {
              "outlinewidth": 1,
              "tickcolor": "rgb(36,36,36)",
              "ticks": "outside"
             }
            },
            "marker": {
             "colorbar": {
              "outlinewidth": 1,
              "tickcolor": "rgb(36,36,36)",
              "ticks": "outside"
             }
            },
            "type": "scatter3d"
           }
          ],
          "scattercarpet": [
           {
            "marker": {
             "colorbar": {
              "outlinewidth": 1,
              "tickcolor": "rgb(36,36,36)",
              "ticks": "outside"
             }
            },
            "type": "scattercarpet"
           }
          ],
          "scattergeo": [
           {
            "marker": {
             "colorbar": {
              "outlinewidth": 1,
              "tickcolor": "rgb(36,36,36)",
              "ticks": "outside"
             }
            },
            "type": "scattergeo"
           }
          ],
          "scattergl": [
           {
            "marker": {
             "colorbar": {
              "outlinewidth": 1,
              "tickcolor": "rgb(36,36,36)",
              "ticks": "outside"
             }
            },
            "type": "scattergl"
           }
          ],
          "scattermap": [
           {
            "marker": {
             "colorbar": {
              "outlinewidth": 1,
              "tickcolor": "rgb(36,36,36)",
              "ticks": "outside"
             }
            },
            "type": "scattermap"
           }
          ],
          "scattermapbox": [
           {
            "marker": {
             "colorbar": {
              "outlinewidth": 1,
              "tickcolor": "rgb(36,36,36)",
              "ticks": "outside"
             }
            },
            "type": "scattermapbox"
           }
          ],
          "scatterpolar": [
           {
            "marker": {
             "colorbar": {
              "outlinewidth": 1,
              "tickcolor": "rgb(36,36,36)",
              "ticks": "outside"
             }
            },
            "type": "scatterpolar"
           }
          ],
          "scatterpolargl": [
           {
            "marker": {
             "colorbar": {
              "outlinewidth": 1,
              "tickcolor": "rgb(36,36,36)",
              "ticks": "outside"
             }
            },
            "type": "scatterpolargl"
           }
          ],
          "scatterternary": [
           {
            "marker": {
             "colorbar": {
              "outlinewidth": 1,
              "tickcolor": "rgb(36,36,36)",
              "ticks": "outside"
             }
            },
            "type": "scatterternary"
           }
          ],
          "surface": [
           {
            "colorbar": {
             "outlinewidth": 1,
             "tickcolor": "rgb(36,36,36)",
             "ticks": "outside"
            },
            "colorscale": [
             [
              0,
              "#440154"
             ],
             [
              0.1111111111111111,
              "#482878"
             ],
             [
              0.2222222222222222,
              "#3e4989"
             ],
             [
              0.3333333333333333,
              "#31688e"
             ],
             [
              0.4444444444444444,
              "#26828e"
             ],
             [
              0.5555555555555556,
              "#1f9e89"
             ],
             [
              0.6666666666666666,
              "#35b779"
             ],
             [
              0.7777777777777778,
              "#6ece58"
             ],
             [
              0.8888888888888888,
              "#b5de2b"
             ],
             [
              1,
              "#fde725"
             ]
            ],
            "type": "surface"
           }
          ],
          "table": [
           {
            "cells": {
             "fill": {
              "color": "rgb(237,237,237)"
             },
             "line": {
              "color": "white"
             }
            },
            "header": {
             "fill": {
              "color": "rgb(217,217,217)"
             },
             "line": {
              "color": "white"
             }
            },
            "type": "table"
           }
          ]
         },
         "layout": {
          "annotationdefaults": {
           "arrowhead": 0,
           "arrowwidth": 1
          },
          "autotypenumbers": "strict",
          "coloraxis": {
           "colorbar": {
            "outlinewidth": 1,
            "tickcolor": "rgb(36,36,36)",
            "ticks": "outside"
           }
          },
          "colorscale": {
           "diverging": [
            [
             0,
             "rgb(103,0,31)"
            ],
            [
             0.1,
             "rgb(178,24,43)"
            ],
            [
             0.2,
             "rgb(214,96,77)"
            ],
            [
             0.3,
             "rgb(244,165,130)"
            ],
            [
             0.4,
             "rgb(253,219,199)"
            ],
            [
             0.5,
             "rgb(247,247,247)"
            ],
            [
             0.6,
             "rgb(209,229,240)"
            ],
            [
             0.7,
             "rgb(146,197,222)"
            ],
            [
             0.8,
             "rgb(67,147,195)"
            ],
            [
             0.9,
             "rgb(33,102,172)"
            ],
            [
             1,
             "rgb(5,48,97)"
            ]
           ],
           "sequential": [
            [
             0,
             "#440154"
            ],
            [
             0.1111111111111111,
             "#482878"
            ],
            [
             0.2222222222222222,
             "#3e4989"
            ],
            [
             0.3333333333333333,
             "#31688e"
            ],
            [
             0.4444444444444444,
             "#26828e"
            ],
            [
             0.5555555555555556,
             "#1f9e89"
            ],
            [
             0.6666666666666666,
             "#35b779"
            ],
            [
             0.7777777777777778,
             "#6ece58"
            ],
            [
             0.8888888888888888,
             "#b5de2b"
            ],
            [
             1,
             "#fde725"
            ]
           ],
           "sequentialminus": [
            [
             0,
             "#440154"
            ],
            [
             0.1111111111111111,
             "#482878"
            ],
            [
             0.2222222222222222,
             "#3e4989"
            ],
            [
             0.3333333333333333,
             "#31688e"
            ],
            [
             0.4444444444444444,
             "#26828e"
            ],
            [
             0.5555555555555556,
             "#1f9e89"
            ],
            [
             0.6666666666666666,
             "#35b779"
            ],
            [
             0.7777777777777778,
             "#6ece58"
            ],
            [
             0.8888888888888888,
             "#b5de2b"
            ],
            [
             1,
             "#fde725"
            ]
           ]
          },
          "colorway": [
           "#1F77B4",
           "#FF7F0E",
           "#2CA02C",
           "#D62728",
           "#9467BD",
           "#8C564B",
           "#E377C2",
           "#7F7F7F",
           "#BCBD22",
           "#17BECF"
          ],
          "font": {
           "color": "rgb(36,36,36)"
          },
          "geo": {
           "bgcolor": "white",
           "lakecolor": "white",
           "landcolor": "white",
           "showlakes": true,
           "showland": true,
           "subunitcolor": "white"
          },
          "hoverlabel": {
           "align": "left"
          },
          "hovermode": "closest",
          "mapbox": {
           "style": "light"
          },
          "paper_bgcolor": "white",
          "plot_bgcolor": "white",
          "polar": {
           "angularaxis": {
            "gridcolor": "rgb(232,232,232)",
            "linecolor": "rgb(36,36,36)",
            "showgrid": false,
            "showline": true,
            "ticks": "outside"
           },
           "bgcolor": "white",
           "radialaxis": {
            "gridcolor": "rgb(232,232,232)",
            "linecolor": "rgb(36,36,36)",
            "showgrid": false,
            "showline": true,
            "ticks": "outside"
           }
          },
          "scene": {
           "xaxis": {
            "backgroundcolor": "white",
            "gridcolor": "rgb(232,232,232)",
            "gridwidth": 2,
            "linecolor": "rgb(36,36,36)",
            "showbackground": true,
            "showgrid": false,
            "showline": true,
            "ticks": "outside",
            "zeroline": false,
            "zerolinecolor": "rgb(36,36,36)"
           },
           "yaxis": {
            "backgroundcolor": "white",
            "gridcolor": "rgb(232,232,232)",
            "gridwidth": 2,
            "linecolor": "rgb(36,36,36)",
            "showbackground": true,
            "showgrid": false,
            "showline": true,
            "ticks": "outside",
            "zeroline": false,
            "zerolinecolor": "rgb(36,36,36)"
           },
           "zaxis": {
            "backgroundcolor": "white",
            "gridcolor": "rgb(232,232,232)",
            "gridwidth": 2,
            "linecolor": "rgb(36,36,36)",
            "showbackground": true,
            "showgrid": false,
            "showline": true,
            "ticks": "outside",
            "zeroline": false,
            "zerolinecolor": "rgb(36,36,36)"
           }
          },
          "shapedefaults": {
           "fillcolor": "black",
           "line": {
            "width": 0
           },
           "opacity": 0.3
          },
          "ternary": {
           "aaxis": {
            "gridcolor": "rgb(232,232,232)",
            "linecolor": "rgb(36,36,36)",
            "showgrid": false,
            "showline": true,
            "ticks": "outside"
           },
           "baxis": {
            "gridcolor": "rgb(232,232,232)",
            "linecolor": "rgb(36,36,36)",
            "showgrid": false,
            "showline": true,
            "ticks": "outside"
           },
           "bgcolor": "white",
           "caxis": {
            "gridcolor": "rgb(232,232,232)",
            "linecolor": "rgb(36,36,36)",
            "showgrid": false,
            "showline": true,
            "ticks": "outside"
           }
          },
          "title": {
           "x": 0.05
          },
          "xaxis": {
           "automargin": true,
           "gridcolor": "rgb(232,232,232)",
           "linecolor": "rgb(36,36,36)",
           "showgrid": false,
           "showline": true,
           "ticks": "outside",
           "title": {
            "standoff": 15
           },
           "zeroline": false,
           "zerolinecolor": "rgb(36,36,36)"
          },
          "yaxis": {
           "automargin": true,
           "gridcolor": "rgb(232,232,232)",
           "linecolor": "rgb(36,36,36)",
           "showgrid": false,
           "showline": true,
           "ticks": "outside",
           "title": {
            "standoff": 15
           },
           "zeroline": false,
           "zerolinecolor": "rgb(36,36,36)"
          }
         }
        },
        "title": {
         "text": "<b>Text-to-SQL:</b> answer accuracy"
        },
        "xaxis": {
         "anchor": "y",
         "domain": [
          0,
          1
         ],
         "title": {
          "text": "number of questions"
         }
        },
        "yaxis": {
         "anchor": "x",
         "categoryarray": [
          "feedback reflection",
          "simple reflection",
          "direct generation"
         ],
         "categoryorder": "array",
         "domain": [
          0,
          1
         ],
         "title": {
          "text": ""
         }
        }
       }
      }
     },
     "metadata": {},
     "output_type": "display_data"
    }
   ],
   "source": [
    "import plotly.express as px \n",
    "import plotly.io as pio\n",
    "pio.templates.default = 'simple_white'\n",
    "px.bar(cmp_df[['direct generation']].T, orientation = 'h', \n",
    "       title = '<b>Text-to-SQL:</b> answer accuracy',\n",
    "    labels = {\n",
    "        'value': 'number of questions',\n",
    "        'index': '', \n",
    "        'llm_final_result': 'accuracy'\n",
    "    }, text_auto = 'd',\n",
    "    category_orders = {\n",
    "        'llm_final_result': ['No problems detected', 'No format specified in SQL', \n",
    "                     'Wrong answer provided', 'SQL execution error', 'No format specified in SQL + SQL execution error'],\n",
    "        'index': ['direct generation', 'simple reflection', 'feedback reflection']\n",
    "    }, \n",
    "    color_discrete_map = {\n",
    "        'No problems detected': plotly.colors.qualitative.T10[4], \n",
    "        'No format specified in SQL': plotly.colors.qualitative.T10[3], \n",
    "        'Wrong answer provided': plotly.colors.qualitative.T10[1], \n",
    "        'SQL execution error': plotly.colors.qualitative.T10[2], \n",
    "        'No format specified in SQL + SQL execution error': plotly.colors.qualitative.G10[8]\n",
    "    }, height = 350  \n",
    ")"
   ]
  },
  {
   "cell_type": "code",
   "execution_count": null,
   "id": "c338b30f",
   "metadata": {},
   "outputs": [],
   "source": []
  }
 ],
 "metadata": {
  "kernelspec": {
   "display_name": ".venv (3.11.13)",
   "language": "python",
   "name": "python3"
  },
  "language_info": {
   "codemirror_mode": {
    "name": "ipython",
    "version": 3
   },
   "file_extension": ".py",
   "mimetype": "text/x-python",
   "name": "python",
   "nbconvert_exporter": "python",
   "pygments_lexer": "ipython3",
   "version": "3.11.13"
  }
 },
 "nbformat": 4,
 "nbformat_minor": 5
}
